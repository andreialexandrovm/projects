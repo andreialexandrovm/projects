{
 "cells": [
  {
   "cell_type": "markdown",
   "metadata": {},
   "source": [
    "# Прогнозирование оттока клиентов в сети отелей «Как в гостях»"
   ]
  },
  {
   "cell_type": "markdown",
   "metadata": {},
   "source": [
    "Сеть отелей добавила на свой сайт возможность забронировать номер без предоплаты. Если клиент отменяет бронирование, то компания терпит убытки. \n",
    "Чтобы решить эту проблему, нужно разработать систему, которая предсказывает отказ от брони. Если модель покажет, что бронь будет отменена, то клиенту предлагается внести депозит. Размер депозита — 80% от стоимости номера за одни сутки и затрат на разовую уборку. Деньги будут списаны со счёта клиента, если он всё же отменит бронь.\n",
    "\n",
    "Бизнес-метрика - прибыль. Прибыль отеля — это разница между стоимостью номера за все ночи и затраты на обслуживание: как при подготовке номера, так и при проживании постояльца.  \n",
    "В отеле есть несколько типов номеров. В зависимости от типа номера назначается стоимость за одну ночь. Есть также затраты на уборку. Если клиент снял номер надолго, то убираются каждые два дня. \n",
    "\n",
    "Стоимость номеров отеля:  \n",
    "категория A: за ночь — 1 000, разовое обслуживание — 400;  \n",
    "категория B: за ночь — 800, разовое обслуживание — 350;  \n",
    "категория C: за ночь — 600, разовое обслуживание — 350;  \n",
    "категория D: за ночь — 550, разовое обслуживание — 150;  \n",
    "категория E: за ночь — 500, разовое обслуживание — 150;  \n",
    "категория F: за ночь — 450, разовое обслуживание — 150;  \n",
    "категория G: за ночь — 350, разовое обслуживание — 150.  \n",
    "\n",
    "В ценовой политике отеля используются сезонные коэффициенты: весной и осенью цены повышаются на 20%, летом — на 40%.  \n",
    "\n",
    "Убытки отеля в случае отмены брони номера — это стоимость одной уборки и одной ночи с учётом сезонного коэффициента.  \n",
    "\n",
    "На разработку системы прогнозирования заложен бюджет — 400 000.  \n",
    "Внедрение модели должно окупиться за тестовый период.  \n",
    "Затраты на разработку должны быть меньше той выручки, которую система принесёт компании."
   ]
  },
  {
   "cell_type": "markdown",
   "metadata": {},
   "source": [
    "Описание данных  \n",
    "В таблицах hotel_train и hotel_test содержатся одинаковые столбцы:  \n",
    "id — номер записи;  \n",
    "adults — количество взрослых постояльцев;  \n",
    "arrival_date_year — год заезда;  \n",
    "arrival_date_month — месяц заезда;  \n",
    "arrival_date_week_number — неделя заезда;  \n",
    "arrival_date_day_of_month — день заезда;  \n",
    "babies — количество младенцев;  \n",
    "booking_changes — количество изменений параметров заказа;  \n",
    "children — количество детей от 3 до 14 лет;  \n",
    "country — гражданство постояльца;  \n",
    "customer_type — тип заказчика:  \n",
    "Contract — договор с юридическим лицом;  \n",
    "Group — групповой заезд;  \n",
    "Transient — не связано с договором или групповым заездом;  \n",
    "Transient-party — не связано с договором или групповым заездом, но связано с бронированием типа Transient.  \n",
    "days_in_waiting_list — сколько дней заказ ожидал подтверждения;  \n",
    "distribution_channel — канал дистрибуции заказа;  \n",
    "is_canceled — отмена заказа;  \n",
    "is_repeated_guest — признак того, что гость бронирует номер второй раз;  \n",
    "lead_time — количество дней между датой бронирования и датой прибытия;  \n",
    "meal — опции заказа:  \n",
    "SC — нет дополнительных опций;  \n",
    "BB — включён завтрак;  \n",
    "HB — включён завтрак и обед;  \n",
    "FB — включён завтрак, обед и ужин.  \n",
    "previous_bookings_not_canceled — количество подтверждённых заказов у клиента;  \n",
    "previous_cancellations — количество отменённых заказов у клиента;  \n",
    "required_car_parking_spaces — необходимость места для автомобиля;  \n",
    "reserved_room_type — тип забронированной комнаты;  \n",
    "stays_in_weekend_nights — количество ночей в выходные дни;  \n",
    "stays_in_week_nights — количество ночей в будние дни;  \n",
    "total_nights — общее количество ночей;  \n",
    "total_of_special_requests — количество специальных отметок."
   ]
  },
  {
   "cell_type": "markdown",
   "metadata": {},
   "source": [
    "## Шаг 1. Откроем файлы с данными"
   ]
  },
  {
   "cell_type": "markdown",
   "metadata": {},
   "source": [
    "### Импортируем библиотеки"
   ]
  },
  {
   "cell_type": "code",
   "execution_count": 1,
   "metadata": {},
   "outputs": [],
   "source": [
    "import pandas as pd\n",
    "import os\n",
    "import matplotlib as plt\n",
    "import numpy as np\n",
    "from sklearn.tree import DecisionTreeClassifier\n",
    "from sklearn.model_selection import cross_val_score\n",
    "from sklearn.model_selection import RandomizedSearchCV\n",
    "from sklearn.model_selection import GridSearchCV\n",
    "from sklearn.ensemble import RandomForestClassifier\n",
    "from sklearn.linear_model import LogisticRegression\n",
    "from sklearn.metrics import f1_score\n",
    "from sklearn.preprocessing import OrdinalEncoder"
   ]
  },
  {
   "cell_type": "markdown",
   "metadata": {},
   "source": [
    "### Введем константы"
   ]
  },
  {
   "cell_type": "code",
   "execution_count": 2,
   "metadata": {},
   "outputs": [],
   "source": [
    "RANDOM = 12345\n",
    "LIMIT = 400000"
   ]
  },
  {
   "cell_type": "markdown",
   "metadata": {},
   "source": [
    "### Создадим таблицу стоимостей ночи и уборки номера"
   ]
  },
  {
   "cell_type": "code",
   "execution_count": 3,
   "metadata": {},
   "outputs": [],
   "source": [
    "payments = pd.DataFrame(data={'night' : [1000, 800, 600, 550, 500, 450, 350],\n",
    "                             'service' : [400, 350, 350, 150, 150, 150, 150], \n",
    "                             'reserved_room_type' : ['a', 'b', 'c', 'd', 'e', 'f', 'g']})"
   ]
  },
  {
   "cell_type": "code",
   "execution_count": 4,
   "metadata": {},
   "outputs": [
    {
     "data": {
      "text/plain": "   night  service reserved_room_type\n0   1000      400                  a\n1    800      350                  b\n2    600      350                  c\n3    550      150                  d\n4    500      150                  e\n5    450      150                  f\n6    350      150                  g",
      "text/html": "<div>\n<style scoped>\n    .dataframe tbody tr th:only-of-type {\n        vertical-align: middle;\n    }\n\n    .dataframe tbody tr th {\n        vertical-align: top;\n    }\n\n    .dataframe thead th {\n        text-align: right;\n    }\n</style>\n<table border=\"1\" class=\"dataframe\">\n  <thead>\n    <tr style=\"text-align: right;\">\n      <th></th>\n      <th>night</th>\n      <th>service</th>\n      <th>reserved_room_type</th>\n    </tr>\n  </thead>\n  <tbody>\n    <tr>\n      <th>0</th>\n      <td>1000</td>\n      <td>400</td>\n      <td>a</td>\n    </tr>\n    <tr>\n      <th>1</th>\n      <td>800</td>\n      <td>350</td>\n      <td>b</td>\n    </tr>\n    <tr>\n      <th>2</th>\n      <td>600</td>\n      <td>350</td>\n      <td>c</td>\n    </tr>\n    <tr>\n      <th>3</th>\n      <td>550</td>\n      <td>150</td>\n      <td>d</td>\n    </tr>\n    <tr>\n      <th>4</th>\n      <td>500</td>\n      <td>150</td>\n      <td>e</td>\n    </tr>\n    <tr>\n      <th>5</th>\n      <td>450</td>\n      <td>150</td>\n      <td>f</td>\n    </tr>\n    <tr>\n      <th>6</th>\n      <td>350</td>\n      <td>150</td>\n      <td>g</td>\n    </tr>\n  </tbody>\n</table>\n</div>"
     },
     "execution_count": 4,
     "metadata": {},
     "output_type": "execute_result"
    }
   ],
   "source": [
    "payments"
   ]
  },
  {
   "cell_type": "markdown",
   "metadata": {},
   "source": [
    "### Добавим таблицу с сезонными коэффициентами"
   ]
  },
  {
   "cell_type": "code",
   "execution_count": 5,
   "metadata": {},
   "outputs": [],
   "source": [
    "season_coefficient = pd.DataFrame(data={'coefficient' : [1.4, 1.4, 1.2, 1.2, 1.2, 1, 1, \n",
    "                                                         1, 1.2, 1.2, 1.2, 1.4], \n",
    "                                       'arrival_date_month' : ['July', 'August', 'September', 'October',\n",
    "                                                  'November', 'December', 'January', \n",
    "                                                  'February', 'March', 'April', 'May', \n",
    "                                                  'June']})"
   ]
  },
  {
   "cell_type": "code",
   "execution_count": 6,
   "metadata": {},
   "outputs": [
    {
     "data": {
      "text/plain": "    coefficient arrival_date_month\n0           1.4               July\n1           1.4             August\n2           1.2          September\n3           1.2            October\n4           1.2           November\n5           1.0           December\n6           1.0            January\n7           1.0           February\n8           1.2              March\n9           1.2              April\n10          1.2                May\n11          1.4               June",
      "text/html": "<div>\n<style scoped>\n    .dataframe tbody tr th:only-of-type {\n        vertical-align: middle;\n    }\n\n    .dataframe tbody tr th {\n        vertical-align: top;\n    }\n\n    .dataframe thead th {\n        text-align: right;\n    }\n</style>\n<table border=\"1\" class=\"dataframe\">\n  <thead>\n    <tr style=\"text-align: right;\">\n      <th></th>\n      <th>coefficient</th>\n      <th>arrival_date_month</th>\n    </tr>\n  </thead>\n  <tbody>\n    <tr>\n      <th>0</th>\n      <td>1.4</td>\n      <td>July</td>\n    </tr>\n    <tr>\n      <th>1</th>\n      <td>1.4</td>\n      <td>August</td>\n    </tr>\n    <tr>\n      <th>2</th>\n      <td>1.2</td>\n      <td>September</td>\n    </tr>\n    <tr>\n      <th>3</th>\n      <td>1.2</td>\n      <td>October</td>\n    </tr>\n    <tr>\n      <th>4</th>\n      <td>1.2</td>\n      <td>November</td>\n    </tr>\n    <tr>\n      <th>5</th>\n      <td>1.0</td>\n      <td>December</td>\n    </tr>\n    <tr>\n      <th>6</th>\n      <td>1.0</td>\n      <td>January</td>\n    </tr>\n    <tr>\n      <th>7</th>\n      <td>1.0</td>\n      <td>February</td>\n    </tr>\n    <tr>\n      <th>8</th>\n      <td>1.2</td>\n      <td>March</td>\n    </tr>\n    <tr>\n      <th>9</th>\n      <td>1.2</td>\n      <td>April</td>\n    </tr>\n    <tr>\n      <th>10</th>\n      <td>1.2</td>\n      <td>May</td>\n    </tr>\n    <tr>\n      <th>11</th>\n      <td>1.4</td>\n      <td>June</td>\n    </tr>\n  </tbody>\n</table>\n</div>"
     },
     "execution_count": 6,
     "metadata": {},
     "output_type": "execute_result"
    }
   ],
   "source": [
    "season_coefficient"
   ]
  },
  {
   "cell_type": "markdown",
   "metadata": {},
   "source": [
    "Загрузим данные"
   ]
  },
  {
   "cell_type": "code",
   "execution_count": 7,
   "metadata": {},
   "outputs": [],
   "source": [
    "pth1 = 'datasets/hotel_train.csv'\n",
    "pth2 = 'https://code.s3.yandex.net/datasets/hotel_train.csv'\n",
    "    \n",
    "if os.path.exists(pth1):\n",
    "    hotel_train = pd.read_csv(pth1)\n",
    "elif os.path.exists(pth2):\n",
    "    hotel_train = pd.read_csv(pth2)\n",
    "else:\n",
    "    print('Something is wrong')\n",
    "    \n",
    "pth3 = 'datasets/hotel_test.csv'\n",
    "pth4 = 'https://code.s3.yandex.net/datasets/hotel_test.csv'\n",
    "    \n",
    "if os.path.exists(pth3):\n",
    "    hotel_test = pd.read_csv(pth3)\n",
    "elif os.path.exists(pth4):\n",
    "    hotel_test = pd.read_csv(pth4)\n",
    "else:\n",
    "    print('Something is wrong')"
   ]
  },
  {
   "cell_type": "markdown",
   "metadata": {},
   "source": [
    "## Шаг 2. Предобработка и исследовательский анализ данных"
   ]
  },
  {
   "cell_type": "markdown",
   "metadata": {},
   "source": [
    "### Посмотрим информацию о данных"
   ]
  },
  {
   "cell_type": "code",
   "execution_count": 8,
   "metadata": {},
   "outputs": [
    {
     "data": {
      "text/plain": "   id  is_canceled  lead_time  arrival_date_year arrival_date_month  \\\n0   0            0        7.0               2015               July   \n1   1            0       14.0               2015               July   \n2   2            0        0.0               2015               July   \n3   3            0        9.0               2015               July   \n4   4            1       85.0               2015               July   \n\n   arrival_date_week_number  arrival_date_day_of_month  \\\n0                        27                          1   \n1                        27                          1   \n2                        27                          1   \n3                        27                          1   \n4                        27                          1   \n\n   stays_in_weekend_nights  stays_in_week_nights  adults  ...  \\\n0                        0                     1     1.0  ...   \n1                        0                     2     2.0  ...   \n2                        0                     2     2.0  ...   \n3                        0                     2     2.0  ...   \n4                        0                     3     2.0  ...   \n\n   is_repeated_guest  previous_cancellations previous_bookings_not_canceled  \\\n0                  0                       0                              0   \n1                  0                       0                              0   \n2                  0                       0                              0   \n3                  0                       0                              0   \n4                  0                       0                              0   \n\n  reserved_room_type booking_changes  days_in_waiting_list  customer_type  \\\n0   A                              0                     0      Transient   \n1   A                              0                     0      Transient   \n2   C                              0                     0      Transient   \n3   C                              0                     0      Transient   \n4   A                              0                     0      Transient   \n\n   required_car_parking_spaces total_of_special_requests  total_nights  \n0                            0                         0             1  \n1                            0                         1             2  \n2                            0                         0             2  \n3                            0                         1             2  \n4                            0                         1             3  \n\n[5 rows x 25 columns]",
      "text/html": "<div>\n<style scoped>\n    .dataframe tbody tr th:only-of-type {\n        vertical-align: middle;\n    }\n\n    .dataframe tbody tr th {\n        vertical-align: top;\n    }\n\n    .dataframe thead th {\n        text-align: right;\n    }\n</style>\n<table border=\"1\" class=\"dataframe\">\n  <thead>\n    <tr style=\"text-align: right;\">\n      <th></th>\n      <th>id</th>\n      <th>is_canceled</th>\n      <th>lead_time</th>\n      <th>arrival_date_year</th>\n      <th>arrival_date_month</th>\n      <th>arrival_date_week_number</th>\n      <th>arrival_date_day_of_month</th>\n      <th>stays_in_weekend_nights</th>\n      <th>stays_in_week_nights</th>\n      <th>adults</th>\n      <th>...</th>\n      <th>is_repeated_guest</th>\n      <th>previous_cancellations</th>\n      <th>previous_bookings_not_canceled</th>\n      <th>reserved_room_type</th>\n      <th>booking_changes</th>\n      <th>days_in_waiting_list</th>\n      <th>customer_type</th>\n      <th>required_car_parking_spaces</th>\n      <th>total_of_special_requests</th>\n      <th>total_nights</th>\n    </tr>\n  </thead>\n  <tbody>\n    <tr>\n      <th>0</th>\n      <td>0</td>\n      <td>0</td>\n      <td>7.0</td>\n      <td>2015</td>\n      <td>July</td>\n      <td>27</td>\n      <td>1</td>\n      <td>0</td>\n      <td>1</td>\n      <td>1.0</td>\n      <td>...</td>\n      <td>0</td>\n      <td>0</td>\n      <td>0</td>\n      <td>A</td>\n      <td>0</td>\n      <td>0</td>\n      <td>Transient</td>\n      <td>0</td>\n      <td>0</td>\n      <td>1</td>\n    </tr>\n    <tr>\n      <th>1</th>\n      <td>1</td>\n      <td>0</td>\n      <td>14.0</td>\n      <td>2015</td>\n      <td>July</td>\n      <td>27</td>\n      <td>1</td>\n      <td>0</td>\n      <td>2</td>\n      <td>2.0</td>\n      <td>...</td>\n      <td>0</td>\n      <td>0</td>\n      <td>0</td>\n      <td>A</td>\n      <td>0</td>\n      <td>0</td>\n      <td>Transient</td>\n      <td>0</td>\n      <td>1</td>\n      <td>2</td>\n    </tr>\n    <tr>\n      <th>2</th>\n      <td>2</td>\n      <td>0</td>\n      <td>0.0</td>\n      <td>2015</td>\n      <td>July</td>\n      <td>27</td>\n      <td>1</td>\n      <td>0</td>\n      <td>2</td>\n      <td>2.0</td>\n      <td>...</td>\n      <td>0</td>\n      <td>0</td>\n      <td>0</td>\n      <td>C</td>\n      <td>0</td>\n      <td>0</td>\n      <td>Transient</td>\n      <td>0</td>\n      <td>0</td>\n      <td>2</td>\n    </tr>\n    <tr>\n      <th>3</th>\n      <td>3</td>\n      <td>0</td>\n      <td>9.0</td>\n      <td>2015</td>\n      <td>July</td>\n      <td>27</td>\n      <td>1</td>\n      <td>0</td>\n      <td>2</td>\n      <td>2.0</td>\n      <td>...</td>\n      <td>0</td>\n      <td>0</td>\n      <td>0</td>\n      <td>C</td>\n      <td>0</td>\n      <td>0</td>\n      <td>Transient</td>\n      <td>0</td>\n      <td>1</td>\n      <td>2</td>\n    </tr>\n    <tr>\n      <th>4</th>\n      <td>4</td>\n      <td>1</td>\n      <td>85.0</td>\n      <td>2015</td>\n      <td>July</td>\n      <td>27</td>\n      <td>1</td>\n      <td>0</td>\n      <td>3</td>\n      <td>2.0</td>\n      <td>...</td>\n      <td>0</td>\n      <td>0</td>\n      <td>0</td>\n      <td>A</td>\n      <td>0</td>\n      <td>0</td>\n      <td>Transient</td>\n      <td>0</td>\n      <td>1</td>\n      <td>3</td>\n    </tr>\n  </tbody>\n</table>\n<p>5 rows × 25 columns</p>\n</div>"
     },
     "metadata": {},
     "output_type": "display_data"
    },
    {
     "name": "stdout",
     "output_type": "stream",
     "text": [
      "<class 'pandas.core.frame.DataFrame'>\n",
      "RangeIndex: 65229 entries, 0 to 65228\n",
      "Data columns (total 25 columns):\n",
      " #   Column                          Non-Null Count  Dtype  \n",
      "---  ------                          --------------  -----  \n",
      " 0   id                              65229 non-null  int64  \n",
      " 1   is_canceled                     65229 non-null  int64  \n",
      " 2   lead_time                       65229 non-null  float64\n",
      " 3   arrival_date_year               65229 non-null  int64  \n",
      " 4   arrival_date_month              65229 non-null  object \n",
      " 5   arrival_date_week_number        65229 non-null  int64  \n",
      " 6   arrival_date_day_of_month       65229 non-null  int64  \n",
      " 7   stays_in_weekend_nights         65229 non-null  int64  \n",
      " 8   stays_in_week_nights            65229 non-null  int64  \n",
      " 9   adults                          65229 non-null  float64\n",
      " 10  children                        65229 non-null  float64\n",
      " 11  babies                          65229 non-null  float64\n",
      " 12  meal                            65229 non-null  object \n",
      " 13  country                         65229 non-null  object \n",
      " 14  distribution_channel            65229 non-null  object \n",
      " 15  is_repeated_guest               65229 non-null  int64  \n",
      " 16  previous_cancellations          65229 non-null  int64  \n",
      " 17  previous_bookings_not_canceled  65229 non-null  int64  \n",
      " 18  reserved_room_type              65229 non-null  object \n",
      " 19  booking_changes                 65229 non-null  int64  \n",
      " 20  days_in_waiting_list            65229 non-null  int64  \n",
      " 21  customer_type                   65229 non-null  object \n",
      " 22  required_car_parking_spaces     65229 non-null  int64  \n",
      " 23  total_of_special_requests       65229 non-null  int64  \n",
      " 24  total_nights                    65229 non-null  int64  \n",
      "dtypes: float64(4), int64(15), object(6)\n",
      "memory usage: 12.4+ MB\n",
      "None\n"
     ]
    },
    {
     "data": {
      "text/plain": "                 id   is_canceled     lead_time  arrival_date_year  \\\ncount  65229.000000  65229.000000  65229.000000       65229.000000   \nmean   43544.069172      0.368609     96.337917        2015.719021   \nstd    25614.858971      0.482431     96.127545           0.449481   \nmin        0.000000      0.000000      0.000000        2015.000000   \n25%    19108.000000      0.000000     17.000000        2015.000000   \n50%    40554.000000      0.000000     64.000000        2016.000000   \n75%    67414.000000      1.000000    151.000000        2016.000000   \nmax    84121.000000      1.000000    374.000000        2016.000000   \n\n       arrival_date_week_number  arrival_date_day_of_month  \\\ncount              65229.000000               65229.000000   \nmean                  31.339772                  15.847813   \nstd                   13.464024                   8.748182   \nmin                    1.000000                   1.000000   \n25%                   21.000000                   8.000000   \n50%                   34.000000                  16.000000   \n75%                   42.000000                  23.000000   \nmax                   53.000000                  31.000000   \n\n       stays_in_weekend_nights  stays_in_week_nights        adults  \\\ncount             65229.000000          65229.000000  65229.000000   \nmean                  0.825185              2.224793      1.836576   \nstd                   0.853477              1.354992      0.480245   \nmin                   0.000000              0.000000      0.000000   \n25%                   0.000000              1.000000      2.000000   \n50%                   1.000000              2.000000      2.000000   \n75%                   2.000000              3.000000      2.000000   \nmax                   4.000000              6.000000      4.000000   \n\n           children        babies  is_repeated_guest  previous_cancellations  \\\ncount  65229.000000  65229.000000       65229.000000            65229.000000   \nmean       0.074890      0.007236           0.027151                0.128915   \nstd        0.334243      0.098790           0.162523                0.965326   \nmin        0.000000      0.000000           0.000000                0.000000   \n25%        0.000000      0.000000           0.000000                0.000000   \n50%        0.000000      0.000000           0.000000                0.000000   \n75%        0.000000      0.000000           0.000000                0.000000   \nmax        3.000000     10.000000           1.000000               26.000000   \n\n       previous_bookings_not_canceled  booking_changes  days_in_waiting_list  \\\ncount                    65229.000000     65229.000000          65229.000000   \nmean                         0.107713         0.194269              3.334422   \nstd                          1.326638         0.593838             18.239606   \nmin                          0.000000         0.000000              0.000000   \n25%                          0.000000         0.000000              0.000000   \n50%                          0.000000         0.000000              0.000000   \n75%                          0.000000         0.000000              0.000000   \nmax                         58.000000        17.000000            259.000000   \n\n       required_car_parking_spaces  total_of_special_requests  total_nights  \ncount                 65229.000000               65229.000000  65229.000000  \nmean                      0.056647                   0.512763      3.049978  \nstd                       0.232094                   0.752590      1.738108  \nmin                       0.000000                   0.000000      1.000000  \n25%                       0.000000                   0.000000      2.000000  \n50%                       0.000000                   0.000000      3.000000  \n75%                       0.000000                   1.000000      4.000000  \nmax                       3.000000                   5.000000     10.000000  ",
      "text/html": "<div>\n<style scoped>\n    .dataframe tbody tr th:only-of-type {\n        vertical-align: middle;\n    }\n\n    .dataframe tbody tr th {\n        vertical-align: top;\n    }\n\n    .dataframe thead th {\n        text-align: right;\n    }\n</style>\n<table border=\"1\" class=\"dataframe\">\n  <thead>\n    <tr style=\"text-align: right;\">\n      <th></th>\n      <th>id</th>\n      <th>is_canceled</th>\n      <th>lead_time</th>\n      <th>arrival_date_year</th>\n      <th>arrival_date_week_number</th>\n      <th>arrival_date_day_of_month</th>\n      <th>stays_in_weekend_nights</th>\n      <th>stays_in_week_nights</th>\n      <th>adults</th>\n      <th>children</th>\n      <th>babies</th>\n      <th>is_repeated_guest</th>\n      <th>previous_cancellations</th>\n      <th>previous_bookings_not_canceled</th>\n      <th>booking_changes</th>\n      <th>days_in_waiting_list</th>\n      <th>required_car_parking_spaces</th>\n      <th>total_of_special_requests</th>\n      <th>total_nights</th>\n    </tr>\n  </thead>\n  <tbody>\n    <tr>\n      <th>count</th>\n      <td>65229.000000</td>\n      <td>65229.000000</td>\n      <td>65229.000000</td>\n      <td>65229.000000</td>\n      <td>65229.000000</td>\n      <td>65229.000000</td>\n      <td>65229.000000</td>\n      <td>65229.000000</td>\n      <td>65229.000000</td>\n      <td>65229.000000</td>\n      <td>65229.000000</td>\n      <td>65229.000000</td>\n      <td>65229.000000</td>\n      <td>65229.000000</td>\n      <td>65229.000000</td>\n      <td>65229.000000</td>\n      <td>65229.000000</td>\n      <td>65229.000000</td>\n      <td>65229.000000</td>\n    </tr>\n    <tr>\n      <th>mean</th>\n      <td>43544.069172</td>\n      <td>0.368609</td>\n      <td>96.337917</td>\n      <td>2015.719021</td>\n      <td>31.339772</td>\n      <td>15.847813</td>\n      <td>0.825185</td>\n      <td>2.224793</td>\n      <td>1.836576</td>\n      <td>0.074890</td>\n      <td>0.007236</td>\n      <td>0.027151</td>\n      <td>0.128915</td>\n      <td>0.107713</td>\n      <td>0.194269</td>\n      <td>3.334422</td>\n      <td>0.056647</td>\n      <td>0.512763</td>\n      <td>3.049978</td>\n    </tr>\n    <tr>\n      <th>std</th>\n      <td>25614.858971</td>\n      <td>0.482431</td>\n      <td>96.127545</td>\n      <td>0.449481</td>\n      <td>13.464024</td>\n      <td>8.748182</td>\n      <td>0.853477</td>\n      <td>1.354992</td>\n      <td>0.480245</td>\n      <td>0.334243</td>\n      <td>0.098790</td>\n      <td>0.162523</td>\n      <td>0.965326</td>\n      <td>1.326638</td>\n      <td>0.593838</td>\n      <td>18.239606</td>\n      <td>0.232094</td>\n      <td>0.752590</td>\n      <td>1.738108</td>\n    </tr>\n    <tr>\n      <th>min</th>\n      <td>0.000000</td>\n      <td>0.000000</td>\n      <td>0.000000</td>\n      <td>2015.000000</td>\n      <td>1.000000</td>\n      <td>1.000000</td>\n      <td>0.000000</td>\n      <td>0.000000</td>\n      <td>0.000000</td>\n      <td>0.000000</td>\n      <td>0.000000</td>\n      <td>0.000000</td>\n      <td>0.000000</td>\n      <td>0.000000</td>\n      <td>0.000000</td>\n      <td>0.000000</td>\n      <td>0.000000</td>\n      <td>0.000000</td>\n      <td>1.000000</td>\n    </tr>\n    <tr>\n      <th>25%</th>\n      <td>19108.000000</td>\n      <td>0.000000</td>\n      <td>17.000000</td>\n      <td>2015.000000</td>\n      <td>21.000000</td>\n      <td>8.000000</td>\n      <td>0.000000</td>\n      <td>1.000000</td>\n      <td>2.000000</td>\n      <td>0.000000</td>\n      <td>0.000000</td>\n      <td>0.000000</td>\n      <td>0.000000</td>\n      <td>0.000000</td>\n      <td>0.000000</td>\n      <td>0.000000</td>\n      <td>0.000000</td>\n      <td>0.000000</td>\n      <td>2.000000</td>\n    </tr>\n    <tr>\n      <th>50%</th>\n      <td>40554.000000</td>\n      <td>0.000000</td>\n      <td>64.000000</td>\n      <td>2016.000000</td>\n      <td>34.000000</td>\n      <td>16.000000</td>\n      <td>1.000000</td>\n      <td>2.000000</td>\n      <td>2.000000</td>\n      <td>0.000000</td>\n      <td>0.000000</td>\n      <td>0.000000</td>\n      <td>0.000000</td>\n      <td>0.000000</td>\n      <td>0.000000</td>\n      <td>0.000000</td>\n      <td>0.000000</td>\n      <td>0.000000</td>\n      <td>3.000000</td>\n    </tr>\n    <tr>\n      <th>75%</th>\n      <td>67414.000000</td>\n      <td>1.000000</td>\n      <td>151.000000</td>\n      <td>2016.000000</td>\n      <td>42.000000</td>\n      <td>23.000000</td>\n      <td>2.000000</td>\n      <td>3.000000</td>\n      <td>2.000000</td>\n      <td>0.000000</td>\n      <td>0.000000</td>\n      <td>0.000000</td>\n      <td>0.000000</td>\n      <td>0.000000</td>\n      <td>0.000000</td>\n      <td>0.000000</td>\n      <td>0.000000</td>\n      <td>1.000000</td>\n      <td>4.000000</td>\n    </tr>\n    <tr>\n      <th>max</th>\n      <td>84121.000000</td>\n      <td>1.000000</td>\n      <td>374.000000</td>\n      <td>2016.000000</td>\n      <td>53.000000</td>\n      <td>31.000000</td>\n      <td>4.000000</td>\n      <td>6.000000</td>\n      <td>4.000000</td>\n      <td>3.000000</td>\n      <td>10.000000</td>\n      <td>1.000000</td>\n      <td>26.000000</td>\n      <td>58.000000</td>\n      <td>17.000000</td>\n      <td>259.000000</td>\n      <td>3.000000</td>\n      <td>5.000000</td>\n      <td>10.000000</td>\n    </tr>\n  </tbody>\n</table>\n</div>"
     },
     "metadata": {},
     "output_type": "display_data"
    }
   ],
   "source": [
    "display(hotel_train.head())\n",
    "print(hotel_train.info())\n",
    "display(hotel_train.describe())"
   ]
  },
  {
   "cell_type": "code",
   "execution_count": 9,
   "metadata": {},
   "outputs": [
    {
     "data": {
      "text/plain": "     id  is_canceled  lead_time  arrival_date_year arrival_date_month  \\\n0  6086            1       74.0               2017            January   \n1  6087            1       62.0               2017            January   \n2  6088            1       62.0               2017            January   \n3  6089            1       71.0               2017            January   \n4  6090            1      172.0               2017            January   \n\n   arrival_date_week_number  arrival_date_day_of_month  \\\n0                         1                          1   \n1                         1                          1   \n2                         1                          1   \n3                         1                          1   \n4                         1                          1   \n\n   stays_in_weekend_nights  stays_in_week_nights  adults  ...  \\\n0                        1                     0     2.0  ...   \n1                        2                     2     2.0  ...   \n2                        2                     2     2.0  ...   \n3                        2                     2     1.0  ...   \n4                        2                     5     2.0  ...   \n\n   is_repeated_guest  previous_cancellations previous_bookings_not_canceled  \\\n0                  0                       0                              0   \n1                  0                       0                              0   \n2                  0                       0                              0   \n3                  0                       0                              0   \n4                  0                       0                              0   \n\n  reserved_room_type booking_changes  days_in_waiting_list  customer_type  \\\n0   A                              0                     0      Transient   \n1   A                              0                     0      Transient   \n2   A                              0                     0      Transient   \n3   A                              0                     0      Transient   \n4   A                              0                     0      Transient   \n\n   required_car_parking_spaces total_of_special_requests  total_nights  \n0                            0                         0             1  \n1                            0                         1             4  \n2                            0                         1             4  \n3                            0                         1             4  \n4                            0                         0             7  \n\n[5 rows x 25 columns]",
      "text/html": "<div>\n<style scoped>\n    .dataframe tbody tr th:only-of-type {\n        vertical-align: middle;\n    }\n\n    .dataframe tbody tr th {\n        vertical-align: top;\n    }\n\n    .dataframe thead th {\n        text-align: right;\n    }\n</style>\n<table border=\"1\" class=\"dataframe\">\n  <thead>\n    <tr style=\"text-align: right;\">\n      <th></th>\n      <th>id</th>\n      <th>is_canceled</th>\n      <th>lead_time</th>\n      <th>arrival_date_year</th>\n      <th>arrival_date_month</th>\n      <th>arrival_date_week_number</th>\n      <th>arrival_date_day_of_month</th>\n      <th>stays_in_weekend_nights</th>\n      <th>stays_in_week_nights</th>\n      <th>adults</th>\n      <th>...</th>\n      <th>is_repeated_guest</th>\n      <th>previous_cancellations</th>\n      <th>previous_bookings_not_canceled</th>\n      <th>reserved_room_type</th>\n      <th>booking_changes</th>\n      <th>days_in_waiting_list</th>\n      <th>customer_type</th>\n      <th>required_car_parking_spaces</th>\n      <th>total_of_special_requests</th>\n      <th>total_nights</th>\n    </tr>\n  </thead>\n  <tbody>\n    <tr>\n      <th>0</th>\n      <td>6086</td>\n      <td>1</td>\n      <td>74.0</td>\n      <td>2017</td>\n      <td>January</td>\n      <td>1</td>\n      <td>1</td>\n      <td>1</td>\n      <td>0</td>\n      <td>2.0</td>\n      <td>...</td>\n      <td>0</td>\n      <td>0</td>\n      <td>0</td>\n      <td>A</td>\n      <td>0</td>\n      <td>0</td>\n      <td>Transient</td>\n      <td>0</td>\n      <td>0</td>\n      <td>1</td>\n    </tr>\n    <tr>\n      <th>1</th>\n      <td>6087</td>\n      <td>1</td>\n      <td>62.0</td>\n      <td>2017</td>\n      <td>January</td>\n      <td>1</td>\n      <td>1</td>\n      <td>2</td>\n      <td>2</td>\n      <td>2.0</td>\n      <td>...</td>\n      <td>0</td>\n      <td>0</td>\n      <td>0</td>\n      <td>A</td>\n      <td>0</td>\n      <td>0</td>\n      <td>Transient</td>\n      <td>0</td>\n      <td>1</td>\n      <td>4</td>\n    </tr>\n    <tr>\n      <th>2</th>\n      <td>6088</td>\n      <td>1</td>\n      <td>62.0</td>\n      <td>2017</td>\n      <td>January</td>\n      <td>1</td>\n      <td>1</td>\n      <td>2</td>\n      <td>2</td>\n      <td>2.0</td>\n      <td>...</td>\n      <td>0</td>\n      <td>0</td>\n      <td>0</td>\n      <td>A</td>\n      <td>0</td>\n      <td>0</td>\n      <td>Transient</td>\n      <td>0</td>\n      <td>1</td>\n      <td>4</td>\n    </tr>\n    <tr>\n      <th>3</th>\n      <td>6089</td>\n      <td>1</td>\n      <td>71.0</td>\n      <td>2017</td>\n      <td>January</td>\n      <td>1</td>\n      <td>1</td>\n      <td>2</td>\n      <td>2</td>\n      <td>1.0</td>\n      <td>...</td>\n      <td>0</td>\n      <td>0</td>\n      <td>0</td>\n      <td>A</td>\n      <td>0</td>\n      <td>0</td>\n      <td>Transient</td>\n      <td>0</td>\n      <td>1</td>\n      <td>4</td>\n    </tr>\n    <tr>\n      <th>4</th>\n      <td>6090</td>\n      <td>1</td>\n      <td>172.0</td>\n      <td>2017</td>\n      <td>January</td>\n      <td>1</td>\n      <td>1</td>\n      <td>2</td>\n      <td>5</td>\n      <td>2.0</td>\n      <td>...</td>\n      <td>0</td>\n      <td>0</td>\n      <td>0</td>\n      <td>A</td>\n      <td>0</td>\n      <td>0</td>\n      <td>Transient</td>\n      <td>0</td>\n      <td>0</td>\n      <td>7</td>\n    </tr>\n  </tbody>\n</table>\n<p>5 rows × 25 columns</p>\n</div>"
     },
     "metadata": {},
     "output_type": "display_data"
    },
    {
     "name": "stdout",
     "output_type": "stream",
     "text": [
      "<class 'pandas.core.frame.DataFrame'>\n",
      "RangeIndex: 32412 entries, 0 to 32411\n",
      "Data columns (total 25 columns):\n",
      " #   Column                          Non-Null Count  Dtype  \n",
      "---  ------                          --------------  -----  \n",
      " 0   id                              32412 non-null  int64  \n",
      " 1   is_canceled                     32412 non-null  int64  \n",
      " 2   lead_time                       32412 non-null  float64\n",
      " 3   arrival_date_year               32412 non-null  int64  \n",
      " 4   arrival_date_month              32412 non-null  object \n",
      " 5   arrival_date_week_number        32412 non-null  int64  \n",
      " 6   arrival_date_day_of_month       32412 non-null  int64  \n",
      " 7   stays_in_weekend_nights         32412 non-null  int64  \n",
      " 8   stays_in_week_nights            32412 non-null  int64  \n",
      " 9   adults                          32412 non-null  float64\n",
      " 10  children                        32412 non-null  float64\n",
      " 11  babies                          32412 non-null  float64\n",
      " 12  meal                            32412 non-null  object \n",
      " 13  country                         32412 non-null  object \n",
      " 14  distribution_channel            32412 non-null  object \n",
      " 15  is_repeated_guest               32412 non-null  int64  \n",
      " 16  previous_cancellations          32412 non-null  int64  \n",
      " 17  previous_bookings_not_canceled  32412 non-null  int64  \n",
      " 18  reserved_room_type              32412 non-null  object \n",
      " 19  booking_changes                 32412 non-null  int64  \n",
      " 20  days_in_waiting_list            32412 non-null  int64  \n",
      " 21  customer_type                   32412 non-null  object \n",
      " 22  required_car_parking_spaces     32412 non-null  int64  \n",
      " 23  total_of_special_requests       32412 non-null  int64  \n",
      " 24  total_nights                    32412 non-null  int64  \n",
      "dtypes: float64(4), int64(15), object(6)\n",
      "memory usage: 6.2+ MB\n",
      "None\n"
     ]
    },
    {
     "data": {
      "text/plain": "                 id   is_canceled     lead_time  arrival_date_year  \\\ncount  32412.000000  32412.000000  32412.000000            32412.0   \nmean   60131.505183      0.388467     97.587869             2017.0   \nstd    29953.586177      0.487409     86.507146                0.0   \nmin     6086.000000      0.000000      0.000000             2017.0   \n25%    45291.750000      0.000000     23.000000             2017.0   \n50%    53394.500000      0.000000     76.000000             2017.0   \n75%    89800.250000      1.000000    155.000000             2017.0   \nmax    97903.000000      1.000000    373.000000             2017.0   \n\n       arrival_date_week_number  arrival_date_day_of_month  \\\ncount              32412.000000               32412.000000   \nmean                  17.804054                  15.656948   \nstd                    9.177384                   8.766429   \nmin                    1.000000                   1.000000   \n25%                   10.000000                   8.000000   \n50%                   18.000000                  15.500000   \n75%                   25.000000                  23.000000   \nmax                   35.000000                  31.000000   \n\n       stays_in_weekend_nights  stays_in_week_nights        adults  \\\ncount             32412.000000           32412.00000  32412.000000   \nmean                  0.867888               2.34009      1.858602   \nstd                   0.853394               1.37517      0.489341   \nmin                   0.000000               0.00000      0.000000   \n25%                   0.000000               1.00000      2.000000   \n50%                   1.000000               2.00000      2.000000   \n75%                   2.000000               3.00000      2.000000   \nmax                   4.000000               6.00000      4.000000   \n\n           children        babies  is_repeated_guest  previous_cancellations  \\\ncount  32412.000000  32412.000000       32412.000000            32412.000000   \nmean       0.083765      0.005523           0.031377                0.011601   \nstd        0.343470      0.075757           0.174338                0.180473   \nmin        0.000000      0.000000           0.000000                0.000000   \n25%        0.000000      0.000000           0.000000                0.000000   \n50%        0.000000      0.000000           0.000000                0.000000   \n75%        0.000000      0.000000           0.000000                0.000000   \nmax        3.000000      2.000000           1.000000                6.000000   \n\n       previous_bookings_not_canceled  booking_changes  days_in_waiting_list  \\\ncount                    32412.000000     32412.000000          32412.000000   \nmean                         0.171418         0.216741              0.262341   \nstd                          1.875170         0.640551              4.733027   \nmin                          0.000000         0.000000              0.000000   \n25%                          0.000000         0.000000              0.000000   \n50%                          0.000000         0.000000              0.000000   \n75%                          0.000000         0.000000              0.000000   \nmax                         72.000000        18.000000            223.000000   \n\n       required_car_parking_spaces  total_of_special_requests  total_nights  \ncount                 32412.000000               32412.000000  32412.000000  \nmean                      0.046248                   0.657781      3.207979  \nstd                       0.219367                   0.834341      1.738683  \nmin                       0.000000                   0.000000      1.000000  \n25%                       0.000000                   0.000000      2.000000  \n50%                       0.000000                   0.000000      3.000000  \n75%                       0.000000                   1.000000      4.000000  \nmax                       8.000000                   5.000000     10.000000  ",
      "text/html": "<div>\n<style scoped>\n    .dataframe tbody tr th:only-of-type {\n        vertical-align: middle;\n    }\n\n    .dataframe tbody tr th {\n        vertical-align: top;\n    }\n\n    .dataframe thead th {\n        text-align: right;\n    }\n</style>\n<table border=\"1\" class=\"dataframe\">\n  <thead>\n    <tr style=\"text-align: right;\">\n      <th></th>\n      <th>id</th>\n      <th>is_canceled</th>\n      <th>lead_time</th>\n      <th>arrival_date_year</th>\n      <th>arrival_date_week_number</th>\n      <th>arrival_date_day_of_month</th>\n      <th>stays_in_weekend_nights</th>\n      <th>stays_in_week_nights</th>\n      <th>adults</th>\n      <th>children</th>\n      <th>babies</th>\n      <th>is_repeated_guest</th>\n      <th>previous_cancellations</th>\n      <th>previous_bookings_not_canceled</th>\n      <th>booking_changes</th>\n      <th>days_in_waiting_list</th>\n      <th>required_car_parking_spaces</th>\n      <th>total_of_special_requests</th>\n      <th>total_nights</th>\n    </tr>\n  </thead>\n  <tbody>\n    <tr>\n      <th>count</th>\n      <td>32412.000000</td>\n      <td>32412.000000</td>\n      <td>32412.000000</td>\n      <td>32412.0</td>\n      <td>32412.000000</td>\n      <td>32412.000000</td>\n      <td>32412.000000</td>\n      <td>32412.00000</td>\n      <td>32412.000000</td>\n      <td>32412.000000</td>\n      <td>32412.000000</td>\n      <td>32412.000000</td>\n      <td>32412.000000</td>\n      <td>32412.000000</td>\n      <td>32412.000000</td>\n      <td>32412.000000</td>\n      <td>32412.000000</td>\n      <td>32412.000000</td>\n      <td>32412.000000</td>\n    </tr>\n    <tr>\n      <th>mean</th>\n      <td>60131.505183</td>\n      <td>0.388467</td>\n      <td>97.587869</td>\n      <td>2017.0</td>\n      <td>17.804054</td>\n      <td>15.656948</td>\n      <td>0.867888</td>\n      <td>2.34009</td>\n      <td>1.858602</td>\n      <td>0.083765</td>\n      <td>0.005523</td>\n      <td>0.031377</td>\n      <td>0.011601</td>\n      <td>0.171418</td>\n      <td>0.216741</td>\n      <td>0.262341</td>\n      <td>0.046248</td>\n      <td>0.657781</td>\n      <td>3.207979</td>\n    </tr>\n    <tr>\n      <th>std</th>\n      <td>29953.586177</td>\n      <td>0.487409</td>\n      <td>86.507146</td>\n      <td>0.0</td>\n      <td>9.177384</td>\n      <td>8.766429</td>\n      <td>0.853394</td>\n      <td>1.37517</td>\n      <td>0.489341</td>\n      <td>0.343470</td>\n      <td>0.075757</td>\n      <td>0.174338</td>\n      <td>0.180473</td>\n      <td>1.875170</td>\n      <td>0.640551</td>\n      <td>4.733027</td>\n      <td>0.219367</td>\n      <td>0.834341</td>\n      <td>1.738683</td>\n    </tr>\n    <tr>\n      <th>min</th>\n      <td>6086.000000</td>\n      <td>0.000000</td>\n      <td>0.000000</td>\n      <td>2017.0</td>\n      <td>1.000000</td>\n      <td>1.000000</td>\n      <td>0.000000</td>\n      <td>0.00000</td>\n      <td>0.000000</td>\n      <td>0.000000</td>\n      <td>0.000000</td>\n      <td>0.000000</td>\n      <td>0.000000</td>\n      <td>0.000000</td>\n      <td>0.000000</td>\n      <td>0.000000</td>\n      <td>0.000000</td>\n      <td>0.000000</td>\n      <td>1.000000</td>\n    </tr>\n    <tr>\n      <th>25%</th>\n      <td>45291.750000</td>\n      <td>0.000000</td>\n      <td>23.000000</td>\n      <td>2017.0</td>\n      <td>10.000000</td>\n      <td>8.000000</td>\n      <td>0.000000</td>\n      <td>1.00000</td>\n      <td>2.000000</td>\n      <td>0.000000</td>\n      <td>0.000000</td>\n      <td>0.000000</td>\n      <td>0.000000</td>\n      <td>0.000000</td>\n      <td>0.000000</td>\n      <td>0.000000</td>\n      <td>0.000000</td>\n      <td>0.000000</td>\n      <td>2.000000</td>\n    </tr>\n    <tr>\n      <th>50%</th>\n      <td>53394.500000</td>\n      <td>0.000000</td>\n      <td>76.000000</td>\n      <td>2017.0</td>\n      <td>18.000000</td>\n      <td>15.500000</td>\n      <td>1.000000</td>\n      <td>2.00000</td>\n      <td>2.000000</td>\n      <td>0.000000</td>\n      <td>0.000000</td>\n      <td>0.000000</td>\n      <td>0.000000</td>\n      <td>0.000000</td>\n      <td>0.000000</td>\n      <td>0.000000</td>\n      <td>0.000000</td>\n      <td>0.000000</td>\n      <td>3.000000</td>\n    </tr>\n    <tr>\n      <th>75%</th>\n      <td>89800.250000</td>\n      <td>1.000000</td>\n      <td>155.000000</td>\n      <td>2017.0</td>\n      <td>25.000000</td>\n      <td>23.000000</td>\n      <td>2.000000</td>\n      <td>3.00000</td>\n      <td>2.000000</td>\n      <td>0.000000</td>\n      <td>0.000000</td>\n      <td>0.000000</td>\n      <td>0.000000</td>\n      <td>0.000000</td>\n      <td>0.000000</td>\n      <td>0.000000</td>\n      <td>0.000000</td>\n      <td>1.000000</td>\n      <td>4.000000</td>\n    </tr>\n    <tr>\n      <th>max</th>\n      <td>97903.000000</td>\n      <td>1.000000</td>\n      <td>373.000000</td>\n      <td>2017.0</td>\n      <td>35.000000</td>\n      <td>31.000000</td>\n      <td>4.000000</td>\n      <td>6.00000</td>\n      <td>4.000000</td>\n      <td>3.000000</td>\n      <td>2.000000</td>\n      <td>1.000000</td>\n      <td>6.000000</td>\n      <td>72.000000</td>\n      <td>18.000000</td>\n      <td>223.000000</td>\n      <td>8.000000</td>\n      <td>5.000000</td>\n      <td>10.000000</td>\n    </tr>\n  </tbody>\n</table>\n</div>"
     },
     "metadata": {},
     "output_type": "display_data"
    }
   ],
   "source": [
    "display(hotel_test.head())\n",
    "print(hotel_test.info())\n",
    "display(hotel_test.describe())"
   ]
  },
  {
   "cell_type": "markdown",
   "metadata": {},
   "source": [
    "### Удалим столбцы, не дающие дополнительной информации"
   ]
  },
  {
   "cell_type": "code",
   "execution_count": 10,
   "metadata": {},
   "outputs": [],
   "source": [
    "hotel_train = hotel_train.drop(['id'], axis=1)\n",
    "hotel_test = hotel_test.drop(['id'], axis=1)"
   ]
  },
  {
   "cell_type": "code",
   "execution_count": 11,
   "metadata": {},
   "outputs": [],
   "source": [
    "hotel_train = hotel_train.drop(['stays_in_weekend_nights'], axis=1)\n",
    "hotel_test = hotel_test.drop(['stays_in_weekend_nights'], axis=1)\n",
    "\n",
    "hotel_train = hotel_train.drop(['stays_in_week_nights'], axis=1)\n",
    "hotel_test = hotel_test.drop(['stays_in_week_nights'], axis=1)"
   ]
  },
  {
   "cell_type": "markdown",
   "metadata": {},
   "source": [
    "### Проверим данные на наличие дубликатов"
   ]
  },
  {
   "cell_type": "code",
   "execution_count": 12,
   "metadata": {},
   "outputs": [
    {
     "name": "stdout",
     "output_type": "stream",
     "text": [
      "Количество дубликатов в обучающих данных 21377\n",
      "доля от количества данных 0.3277223320915544\n"
     ]
    }
   ],
   "source": [
    "print('Количество дубликатов в обучающих данных', hotel_train.duplicated().sum())\n",
    "print('доля от количества данных', hotel_train.duplicated().sum() / len(hotel_train))"
   ]
  },
  {
   "cell_type": "code",
   "execution_count": 13,
   "metadata": {},
   "outputs": [
    {
     "name": "stdout",
     "output_type": "stream",
     "text": [
      "Количество дубликатов в тестовых данных 7717\n",
      "доля от количества данных 0.23809083055658398\n"
     ]
    }
   ],
   "source": [
    "print('Количество дубликатов в тестовых данных', hotel_test.duplicated().sum())\n",
    "print('доля от количества данных', hotel_test.duplicated().sum() / len(hotel_test))"
   ]
  },
  {
   "cell_type": "markdown",
   "metadata": {},
   "source": [
    "Избавимся от дубликатов"
   ]
  },
  {
   "cell_type": "code",
   "execution_count": 14,
   "metadata": {},
   "outputs": [],
   "source": [
    "hotel_train = hotel_train.drop_duplicates()\n",
    "hotel_test = hotel_test.drop_duplicates()"
   ]
  },
  {
   "cell_type": "markdown",
   "metadata": {},
   "source": [
    "### Проверим данные на наличие пропусков"
   ]
  },
  {
   "cell_type": "code",
   "execution_count": 15,
   "metadata": {},
   "outputs": [
    {
     "data": {
      "text/plain": "is_canceled                       0\nlead_time                         0\narrival_date_year                 0\narrival_date_month                0\narrival_date_week_number          0\narrival_date_day_of_month         0\nadults                            0\nchildren                          0\nbabies                            0\nmeal                              0\ncountry                           0\ndistribution_channel              0\nis_repeated_guest                 0\nprevious_cancellations            0\nprevious_bookings_not_canceled    0\nreserved_room_type                0\nbooking_changes                   0\ndays_in_waiting_list              0\ncustomer_type                     0\nrequired_car_parking_spaces       0\ntotal_of_special_requests         0\ntotal_nights                      0\ndtype: int64"
     },
     "execution_count": 15,
     "metadata": {},
     "output_type": "execute_result"
    }
   ],
   "source": [
    "hotel_train.isna().sum()"
   ]
  },
  {
   "cell_type": "markdown",
   "metadata": {},
   "source": [
    "### Построим гистограммы признаков данных"
   ]
  },
  {
   "cell_type": "code",
   "execution_count": 16,
   "metadata": {},
   "outputs": [
    {
     "data": {
      "text/plain": "array([[<AxesSubplot:title={'center':'is_canceled'}>,\n        <AxesSubplot:title={'center':'lead_time'}>,\n        <AxesSubplot:title={'center':'arrival_date_year'}>,\n        <AxesSubplot:title={'center':'arrival_date_week_number'}>],\n       [<AxesSubplot:title={'center':'arrival_date_day_of_month'}>,\n        <AxesSubplot:title={'center':'adults'}>,\n        <AxesSubplot:title={'center':'children'}>,\n        <AxesSubplot:title={'center':'babies'}>],\n       [<AxesSubplot:title={'center':'is_repeated_guest'}>,\n        <AxesSubplot:title={'center':'previous_cancellations'}>,\n        <AxesSubplot:title={'center':'previous_bookings_not_canceled'}>,\n        <AxesSubplot:title={'center':'booking_changes'}>],\n       [<AxesSubplot:title={'center':'days_in_waiting_list'}>,\n        <AxesSubplot:title={'center':'required_car_parking_spaces'}>,\n        <AxesSubplot:title={'center':'total_of_special_requests'}>,\n        <AxesSubplot:title={'center':'total_nights'}>]], dtype=object)"
     },
     "execution_count": 16,
     "metadata": {},
     "output_type": "execute_result"
    },
    {
     "data": {
      "text/plain": "<Figure size 1152x1368 with 16 Axes>",
      "image/png": "[encoded data removed]"
     },
     "metadata": {
      "needs_background": "light"
     },
     "output_type": "display_data"
    }
   ],
   "source": [
    "hotel_train.hist(figsize=[16,19])"
   ]
  },
  {
   "cell_type": "markdown",
   "metadata": {},
   "source": [
    "Из гистограмм видно, что у нас наблюдается дисбаланс классов"
   ]
  },
  {
   "cell_type": "code",
   "execution_count": 17,
   "metadata": {},
   "outputs": [
    {
     "data": {
      "text/plain": "0    0.745781\n1    0.254219\nName: is_canceled, dtype: float64"
     },
     "execution_count": 17,
     "metadata": {},
     "output_type": "execute_result"
    }
   ],
   "source": [
    "hotel_train['is_canceled'].value_counts(normalize=True)"
   ]
  },
  {
   "cell_type": "markdown",
   "metadata": {},
   "source": [
    "### Проверим категориальные признаки"
   ]
  },
  {
   "cell_type": "code",
   "execution_count": 18,
   "metadata": {},
   "outputs": [
    {
     "data": {
      "text/plain": "array(['A               ', 'C               ', 'D               ',\n       'E               ', 'G               ', 'F               ',\n       'B               '], dtype=object)"
     },
     "execution_count": 18,
     "metadata": {},
     "output_type": "execute_result"
    }
   ],
   "source": [
    "hotel_train['reserved_room_type'].unique()"
   ]
  },
  {
   "cell_type": "markdown",
   "metadata": {},
   "source": [
    "Исправим обозначения типов комнат на маленькие буквы и избавимся от пробелов"
   ]
  },
  {
   "cell_type": "code",
   "execution_count": 19,
   "metadata": {},
   "outputs": [],
   "source": [
    "hotel_train['reserved_room_type'] = hotel_train['reserved_room_type'].str.strip().str.lower()"
   ]
  },
  {
   "cell_type": "code",
   "execution_count": 20,
   "metadata": {},
   "outputs": [],
   "source": [
    "hotel_test['reserved_room_type'] = hotel_test['reserved_room_type'].str.strip().str.lower()"
   ]
  },
  {
   "cell_type": "code",
   "execution_count": 21,
   "metadata": {},
   "outputs": [
    {
     "data": {
      "text/plain": "array(['GBR', 'PRT', 'ESP', 'IRL', 'FRA', 'ROU', 'NOR', 'USA', 'DEU',\n       'BEL', 'CHE', 'CN', 'GRC', 'NLD', 'ARG', 'RUS', 'SWE', 'POL',\n       'EST', 'CZE', 'ITA', 'FIN', 'DNK', 'MOZ', 'BWA', 'LUX', 'BRA',\n       'SVN', 'ALB', 'CHN', 'MEX', 'MAR', 'SMR', 'LVA', 'CHL', 'AUT',\n       'LTU', 'TUR', 'ISR', 'IND', 'CYM', 'AUS', 'CPV', 'ZWE', 'DZA',\n       'KOR', 'CRI', 'HUN', 'TUN', 'ARE', 'HRV', 'HKG', 'IRN', 'GIB',\n       'JEY', 'URY', 'ZAF', 'COL', 'GGY', 'KWT', 'CYP', 'KAZ', 'THA',\n       'DOM', 'NGA', 'BLR', 'VEN', 'UKR', 'ARM', 'JPN', 'LKA', 'MYS',\n       'BIH', 'MUS', 'OMN', 'SUR', 'JAM', 'BGR', 'CIV', 'SRB', 'JOR',\n       'SYR', 'PHL', 'PRI', 'SGP', 'BDI', 'LBN', 'AGO', 'VNM', 'AZE',\n       'PLW', 'NZL', 'EGY', 'MDV', 'CMR', 'MLT', 'SVK', 'MWI', 'STP',\n       'TWN', 'IDN', 'SEN', 'PER', 'SAU', 'KNA', 'ETH', 'ECU', 'IRQ',\n       'AND', 'HND', 'PAK', 'GEO', 'ZMB', 'QAT', 'KHM', 'MCO', 'BGD',\n       'ISL', 'UZB', 'IMN', 'TJK', 'NIC', 'BEN', 'MAC', 'VGB', 'TZA',\n       'GAB', 'MKD', 'TMP', 'GLP', 'KEN', 'LIE', 'MMR', 'PAN', 'BFA',\n       'LBY', 'GNB', 'MLI', 'BHR', 'NAM', 'BOL', 'SYC', 'PRY', 'BRB',\n       'ABW', 'SLV', 'DMA', 'CUB', 'PYF', 'UGA', 'GUY', 'LCA', 'ATA',\n       'RWA', 'MNE'], dtype=object)"
     },
     "execution_count": 21,
     "metadata": {},
     "output_type": "execute_result"
    }
   ],
   "source": [
    "hotel_train['country'].unique()"
   ]
  },
  {
   "cell_type": "code",
   "execution_count": 22,
   "metadata": {},
   "outputs": [
    {
     "data": {
      "text/plain": "array(['Transient', 'Contract', 'Transient-Party', 'Group'], dtype=object)"
     },
     "execution_count": 22,
     "metadata": {},
     "output_type": "execute_result"
    }
   ],
   "source": [
    "hotel_train['customer_type'].unique()"
   ]
  },
  {
   "cell_type": "code",
   "execution_count": 23,
   "metadata": {},
   "outputs": [
    {
     "data": {
      "text/plain": "array(['Direct', 'TA/TO', 'Corporate', 'GDS'], dtype=object)"
     },
     "execution_count": 23,
     "metadata": {},
     "output_type": "execute_result"
    }
   ],
   "source": [
    "hotel_train['distribution_channel'].unique()"
   ]
  },
  {
   "cell_type": "code",
   "execution_count": 24,
   "metadata": {},
   "outputs": [
    {
     "data": {
      "text/plain": "array(['BB       ', 'FB       ', 'HB       ', 'SC       ', 'SC'],\n      dtype=object)"
     },
     "execution_count": 24,
     "metadata": {},
     "output_type": "execute_result"
    }
   ],
   "source": [
    "hotel_train['meal'].unique()"
   ]
  },
  {
   "cell_type": "markdown",
   "metadata": {},
   "source": [
    "Избавимся от лишних пробелов и поменяем на нижний регистр"
   ]
  },
  {
   "cell_type": "code",
   "execution_count": 25,
   "metadata": {},
   "outputs": [],
   "source": [
    "hotel_train['meal'] = hotel_train['meal'].str.strip().str.lower()\n",
    "hotel_test['meal'] = hotel_test['meal'].str.strip().str.lower()"
   ]
  },
  {
   "cell_type": "markdown",
   "metadata": {},
   "source": [
    "### Проверим корреляцию данных"
   ]
  },
  {
   "cell_type": "code",
   "execution_count": 26,
   "metadata": {
    "scrolled": true
   },
   "outputs": [
    {
     "data": {
      "text/plain": "                                is_canceled  lead_time  arrival_date_year  \\\nis_canceled                        1.000000   0.176093           0.057680   \nlead_time                          0.176093   1.000000           0.101006   \narrival_date_year                  0.057680   0.101006           1.000000   \narrival_date_week_number           0.023653   0.103006          -0.357274   \narrival_date_day_of_month          0.017457   0.015908          -0.002564   \nadults                             0.064218   0.138701           0.052860   \nchildren                           0.041750   0.013070           0.030153   \nbabies                            -0.016678  -0.004663          -0.021724   \nis_repeated_guest                 -0.056963  -0.130339           0.021179   \nprevious_cancellations             0.079904   0.037441          -0.061409   \nprevious_bookings_not_canceled    -0.040576  -0.065495           0.038590   \nbooking_changes                   -0.080964   0.090533           0.010019   \ndays_in_waiting_list               0.002901   0.162014           0.001735   \nrequired_car_parking_spaces       -0.174187  -0.074029          -0.020028   \ntotal_of_special_requests         -0.134206   0.019557           0.009585   \ntotal_nights                       0.069679   0.340119          -0.039623   \n\n                                arrival_date_week_number  \\\nis_canceled                                     0.023653   \nlead_time                                       0.103006   \narrival_date_year                              -0.357274   \narrival_date_week_number                        1.000000   \narrival_date_day_of_month                       0.088113   \nadults                                          0.002772   \nchildren                                       -0.004985   \nbabies                                          0.006483   \nis_repeated_guest                              -0.016148   \nprevious_cancellations                         -0.009385   \nprevious_bookings_not_canceled                 -0.009849   \nbooking_changes                                 0.016730   \ndays_in_waiting_list                           -0.016469   \nrequired_car_parking_spaces                    -0.005282   \ntotal_of_special_requests                       0.098164   \ntotal_nights                                    0.043014   \n\n                                arrival_date_day_of_month    adults  children  \\\nis_canceled                                      0.017457  0.064218  0.041750   \nlead_time                                        0.015908  0.138701  0.013070   \narrival_date_year                               -0.002564  0.052860  0.030153   \narrival_date_week_number                         0.088113  0.002772 -0.004985   \narrival_date_day_of_month                        1.000000  0.010050  0.021420   \nadults                                           0.010050  1.000000 -0.015692   \nchildren                                         0.021420 -0.015692  1.000000   \nbabies                                          -0.001225  0.019339  0.011738   \nis_repeated_guest                               -0.006166 -0.209945 -0.037763   \nprevious_cancellations                          -0.011110 -0.036539 -0.017934   \nprevious_bookings_not_canceled                  -0.000020 -0.140665 -0.023967   \nbooking_changes                                  0.017540 -0.046174  0.037511   \ndays_in_waiting_list                            -0.002322 -0.019280 -0.018070   \nrequired_car_parking_spaces                      0.000845  0.005739  0.026702   \ntotal_of_special_requests                       -0.001914  0.177508  0.075297   \ntotal_nights                                    -0.003048  0.165052  0.012876   \n\n                                  babies  is_repeated_guest  \\\nis_canceled                    -0.016678          -0.056963   \nlead_time                      -0.004663          -0.130339   \narrival_date_year              -0.021724           0.021179   \narrival_date_week_number        0.006483          -0.016148   \narrival_date_day_of_month      -0.001225          -0.006166   \nadults                          0.019339          -0.209945   \nchildren                        0.011738          -0.037763   \nbabies                          1.000000          -0.015375   \nis_repeated_guest              -0.015375           1.000000   \nprevious_cancellations         -0.005181           0.216689   \nprevious_bookings_not_canceled -0.008704           0.462992   \nbooking_changes                 0.075170           0.005788   \ndays_in_waiting_list           -0.007390          -0.014493   \nrequired_car_parking_spaces     0.022959           0.059737   \ntotal_of_special_requests       0.095190          -0.046106   \ntotal_nights                    0.019770          -0.138912   \n\n                                previous_cancellations  \\\nis_canceled                                   0.079904   \nlead_time                                     0.037441   \narrival_date_year                            -0.061409   \narrival_date_week_number                     -0.009385   \narrival_date_day_of_month                    -0.011110   \nadults                                       -0.036539   \nchildren                                     -0.017934   \nbabies                                       -0.005181   \nis_repeated_guest                             0.216689   \nprevious_cancellations                        1.000000   \nprevious_bookings_not_canceled                0.333962   \nbooking_changes                              -0.012963   \ndays_in_waiting_list                          0.005947   \nrequired_car_parking_spaces                  -0.009064   \ntotal_of_special_requests                    -0.016383   \ntotal_nights                                 -0.017484   \n\n                                previous_bookings_not_canceled  \\\nis_canceled                                          -0.040576   \nlead_time                                            -0.065495   \narrival_date_year                                     0.038590   \narrival_date_week_number                             -0.009849   \narrival_date_day_of_month                            -0.000020   \nadults                                               -0.140665   \nchildren                                             -0.023967   \nbabies                                               -0.008704   \nis_repeated_guest                                     0.462992   \nprevious_cancellations                                0.333962   \nprevious_bookings_not_canceled                        1.000000   \nbooking_changes                                       0.011230   \ndays_in_waiting_list                                 -0.006013   \nrequired_car_parking_spaces                           0.032648   \ntotal_of_special_requests                            -0.010263   \ntotal_nights                                         -0.064775   \n\n                                booking_changes  days_in_waiting_list  \\\nis_canceled                           -0.080964              0.002901   \nlead_time                              0.090533              0.162014   \narrival_date_year                      0.010019              0.001735   \narrival_date_week_number               0.016730             -0.016469   \narrival_date_day_of_month              0.017540             -0.002322   \nadults                                -0.046174             -0.019280   \nchildren                               0.037511             -0.018070   \nbabies                                 0.075170             -0.007390   \nis_repeated_guest                      0.005788             -0.014493   \nprevious_cancellations                -0.012963              0.005947   \nprevious_bookings_not_canceled         0.011230             -0.006013   \nbooking_changes                        1.000000              0.041328   \ndays_in_waiting_list                   0.041328              1.000000   \nrequired_car_parking_spaces            0.039001             -0.023512   \ntotal_of_special_requests              0.000777             -0.052318   \ntotal_nights                           0.041960             -0.003564   \n\n                                required_car_parking_spaces  \\\nis_canceled                                       -0.174187   \nlead_time                                         -0.074029   \narrival_date_year                                 -0.020028   \narrival_date_week_number                          -0.005282   \narrival_date_day_of_month                          0.000845   \nadults                                             0.005739   \nchildren                                           0.026702   \nbabies                                             0.022959   \nis_repeated_guest                                  0.059737   \nprevious_cancellations                            -0.009064   \nprevious_bookings_not_canceled                     0.032648   \nbooking_changes                                    0.039001   \ndays_in_waiting_list                              -0.023512   \nrequired_car_parking_spaces                        1.000000   \ntotal_of_special_requests                          0.043914   \ntotal_nights                                      -0.057151   \n\n                                total_of_special_requests  total_nights  \nis_canceled                                     -0.134206      0.069679  \nlead_time                                        0.019557      0.340119  \narrival_date_year                                0.009585     -0.039623  \narrival_date_week_number                         0.098164      0.043014  \narrival_date_day_of_month                       -0.001914     -0.003048  \nadults                                           0.177508      0.165052  \nchildren                                         0.075297      0.012876  \nbabies                                           0.095190      0.019770  \nis_repeated_guest                               -0.046106     -0.138912  \nprevious_cancellations                          -0.016383     -0.017484  \nprevious_bookings_not_canceled                  -0.010263     -0.064775  \nbooking_changes                                  0.000777      0.041960  \ndays_in_waiting_list                            -0.052318     -0.003564  \nrequired_car_parking_spaces                      0.043914     -0.057151  \ntotal_of_special_requests                        1.000000      0.069753  \ntotal_nights                                     0.069753      1.000000  ",
      "text/html": "<div>\n<style scoped>\n    .dataframe tbody tr th:only-of-type {\n        vertical-align: middle;\n    }\n\n    .dataframe tbody tr th {\n        vertical-align: top;\n    }\n\n    .dataframe thead th {\n        text-align: right;\n    }\n</style>\n<table border=\"1\" class=\"dataframe\">\n  <thead>\n    <tr style=\"text-align: right;\">\n      <th></th>\n      <th>is_canceled</th>\n      <th>lead_time</th>\n      <th>arrival_date_year</th>\n      <th>arrival_date_week_number</th>\n      <th>arrival_date_day_of_month</th>\n      <th>adults</th>\n      <th>children</th>\n      <th>babies</th>\n      <th>is_repeated_guest</th>\n      <th>previous_cancellations</th>\n      <th>previous_bookings_not_canceled</th>\n      <th>booking_changes</th>\n      <th>days_in_waiting_list</th>\n      <th>required_car_parking_spaces</th>\n      <th>total_of_special_requests</th>\n      <th>total_nights</th>\n    </tr>\n  </thead>\n  <tbody>\n    <tr>\n      <th>is_canceled</th>\n      <td>1.000000</td>\n      <td>0.176093</td>\n      <td>0.057680</td>\n      <td>0.023653</td>\n      <td>0.017457</td>\n      <td>0.064218</td>\n      <td>0.041750</td>\n      <td>-0.016678</td>\n      <td>-0.056963</td>\n      <td>0.079904</td>\n      <td>-0.040576</td>\n      <td>-0.080964</td>\n      <td>0.002901</td>\n      <td>-0.174187</td>\n      <td>-0.134206</td>\n      <td>0.069679</td>\n    </tr>\n    <tr>\n      <th>lead_time</th>\n      <td>0.176093</td>\n      <td>1.000000</td>\n      <td>0.101006</td>\n      <td>0.103006</td>\n      <td>0.015908</td>\n      <td>0.138701</td>\n      <td>0.013070</td>\n      <td>-0.004663</td>\n      <td>-0.130339</td>\n      <td>0.037441</td>\n      <td>-0.065495</td>\n      <td>0.090533</td>\n      <td>0.162014</td>\n      <td>-0.074029</td>\n      <td>0.019557</td>\n      <td>0.340119</td>\n    </tr>\n    <tr>\n      <th>arrival_date_year</th>\n      <td>0.057680</td>\n      <td>0.101006</td>\n      <td>1.000000</td>\n      <td>-0.357274</td>\n      <td>-0.002564</td>\n      <td>0.052860</td>\n      <td>0.030153</td>\n      <td>-0.021724</td>\n      <td>0.021179</td>\n      <td>-0.061409</td>\n      <td>0.038590</td>\n      <td>0.010019</td>\n      <td>0.001735</td>\n      <td>-0.020028</td>\n      <td>0.009585</td>\n      <td>-0.039623</td>\n    </tr>\n    <tr>\n      <th>arrival_date_week_number</th>\n      <td>0.023653</td>\n      <td>0.103006</td>\n      <td>-0.357274</td>\n      <td>1.000000</td>\n      <td>0.088113</td>\n      <td>0.002772</td>\n      <td>-0.004985</td>\n      <td>0.006483</td>\n      <td>-0.016148</td>\n      <td>-0.009385</td>\n      <td>-0.009849</td>\n      <td>0.016730</td>\n      <td>-0.016469</td>\n      <td>-0.005282</td>\n      <td>0.098164</td>\n      <td>0.043014</td>\n    </tr>\n    <tr>\n      <th>arrival_date_day_of_month</th>\n      <td>0.017457</td>\n      <td>0.015908</td>\n      <td>-0.002564</td>\n      <td>0.088113</td>\n      <td>1.000000</td>\n      <td>0.010050</td>\n      <td>0.021420</td>\n      <td>-0.001225</td>\n      <td>-0.006166</td>\n      <td>-0.011110</td>\n      <td>-0.000020</td>\n      <td>0.017540</td>\n      <td>-0.002322</td>\n      <td>0.000845</td>\n      <td>-0.001914</td>\n      <td>-0.003048</td>\n    </tr>\n    <tr>\n      <th>adults</th>\n      <td>0.064218</td>\n      <td>0.138701</td>\n      <td>0.052860</td>\n      <td>0.002772</td>\n      <td>0.010050</td>\n      <td>1.000000</td>\n      <td>-0.015692</td>\n      <td>0.019339</td>\n      <td>-0.209945</td>\n      <td>-0.036539</td>\n      <td>-0.140665</td>\n      <td>-0.046174</td>\n      <td>-0.019280</td>\n      <td>0.005739</td>\n      <td>0.177508</td>\n      <td>0.165052</td>\n    </tr>\n    <tr>\n      <th>children</th>\n      <td>0.041750</td>\n      <td>0.013070</td>\n      <td>0.030153</td>\n      <td>-0.004985</td>\n      <td>0.021420</td>\n      <td>-0.015692</td>\n      <td>1.000000</td>\n      <td>0.011738</td>\n      <td>-0.037763</td>\n      <td>-0.017934</td>\n      <td>-0.023967</td>\n      <td>0.037511</td>\n      <td>-0.018070</td>\n      <td>0.026702</td>\n      <td>0.075297</td>\n      <td>0.012876</td>\n    </tr>\n    <tr>\n      <th>babies</th>\n      <td>-0.016678</td>\n      <td>-0.004663</td>\n      <td>-0.021724</td>\n      <td>0.006483</td>\n      <td>-0.001225</td>\n      <td>0.019339</td>\n      <td>0.011738</td>\n      <td>1.000000</td>\n      <td>-0.015375</td>\n      <td>-0.005181</td>\n      <td>-0.008704</td>\n      <td>0.075170</td>\n      <td>-0.007390</td>\n      <td>0.022959</td>\n      <td>0.095190</td>\n      <td>0.019770</td>\n    </tr>\n    <tr>\n      <th>is_repeated_guest</th>\n      <td>-0.056963</td>\n      <td>-0.130339</td>\n      <td>0.021179</td>\n      <td>-0.016148</td>\n      <td>-0.006166</td>\n      <td>-0.209945</td>\n      <td>-0.037763</td>\n      <td>-0.015375</td>\n      <td>1.000000</td>\n      <td>0.216689</td>\n      <td>0.462992</td>\n      <td>0.005788</td>\n      <td>-0.014493</td>\n      <td>0.059737</td>\n      <td>-0.046106</td>\n      <td>-0.138912</td>\n    </tr>\n    <tr>\n      <th>previous_cancellations</th>\n      <td>0.079904</td>\n      <td>0.037441</td>\n      <td>-0.061409</td>\n      <td>-0.009385</td>\n      <td>-0.011110</td>\n      <td>-0.036539</td>\n      <td>-0.017934</td>\n      <td>-0.005181</td>\n      <td>0.216689</td>\n      <td>1.000000</td>\n      <td>0.333962</td>\n      <td>-0.012963</td>\n      <td>0.005947</td>\n      <td>-0.009064</td>\n      <td>-0.016383</td>\n      <td>-0.017484</td>\n    </tr>\n    <tr>\n      <th>previous_bookings_not_canceled</th>\n      <td>-0.040576</td>\n      <td>-0.065495</td>\n      <td>0.038590</td>\n      <td>-0.009849</td>\n      <td>-0.000020</td>\n      <td>-0.140665</td>\n      <td>-0.023967</td>\n      <td>-0.008704</td>\n      <td>0.462992</td>\n      <td>0.333962</td>\n      <td>1.000000</td>\n      <td>0.011230</td>\n      <td>-0.006013</td>\n      <td>0.032648</td>\n      <td>-0.010263</td>\n      <td>-0.064775</td>\n    </tr>\n    <tr>\n      <th>booking_changes</th>\n      <td>-0.080964</td>\n      <td>0.090533</td>\n      <td>0.010019</td>\n      <td>0.016730</td>\n      <td>0.017540</td>\n      <td>-0.046174</td>\n      <td>0.037511</td>\n      <td>0.075170</td>\n      <td>0.005788</td>\n      <td>-0.012963</td>\n      <td>0.011230</td>\n      <td>1.000000</td>\n      <td>0.041328</td>\n      <td>0.039001</td>\n      <td>0.000777</td>\n      <td>0.041960</td>\n    </tr>\n    <tr>\n      <th>days_in_waiting_list</th>\n      <td>0.002901</td>\n      <td>0.162014</td>\n      <td>0.001735</td>\n      <td>-0.016469</td>\n      <td>-0.002322</td>\n      <td>-0.019280</td>\n      <td>-0.018070</td>\n      <td>-0.007390</td>\n      <td>-0.014493</td>\n      <td>0.005947</td>\n      <td>-0.006013</td>\n      <td>0.041328</td>\n      <td>1.000000</td>\n      <td>-0.023512</td>\n      <td>-0.052318</td>\n      <td>-0.003564</td>\n    </tr>\n    <tr>\n      <th>required_car_parking_spaces</th>\n      <td>-0.174187</td>\n      <td>-0.074029</td>\n      <td>-0.020028</td>\n      <td>-0.005282</td>\n      <td>0.000845</td>\n      <td>0.005739</td>\n      <td>0.026702</td>\n      <td>0.022959</td>\n      <td>0.059737</td>\n      <td>-0.009064</td>\n      <td>0.032648</td>\n      <td>0.039001</td>\n      <td>-0.023512</td>\n      <td>1.000000</td>\n      <td>0.043914</td>\n      <td>-0.057151</td>\n    </tr>\n    <tr>\n      <th>total_of_special_requests</th>\n      <td>-0.134206</td>\n      <td>0.019557</td>\n      <td>0.009585</td>\n      <td>0.098164</td>\n      <td>-0.001914</td>\n      <td>0.177508</td>\n      <td>0.075297</td>\n      <td>0.095190</td>\n      <td>-0.046106</td>\n      <td>-0.016383</td>\n      <td>-0.010263</td>\n      <td>0.000777</td>\n      <td>-0.052318</td>\n      <td>0.043914</td>\n      <td>1.000000</td>\n      <td>0.069753</td>\n    </tr>\n    <tr>\n      <th>total_nights</th>\n      <td>0.069679</td>\n      <td>0.340119</td>\n      <td>-0.039623</td>\n      <td>0.043014</td>\n      <td>-0.003048</td>\n      <td>0.165052</td>\n      <td>0.012876</td>\n      <td>0.019770</td>\n      <td>-0.138912</td>\n      <td>-0.017484</td>\n      <td>-0.064775</td>\n      <td>0.041960</td>\n      <td>-0.003564</td>\n      <td>-0.057151</td>\n      <td>0.069753</td>\n      <td>1.000000</td>\n    </tr>\n  </tbody>\n</table>\n</div>"
     },
     "execution_count": 26,
     "metadata": {},
     "output_type": "execute_result"
    }
   ],
   "source": [
    "hotel_train.corr()"
   ]
  },
  {
   "cell_type": "code",
   "execution_count": 27,
   "metadata": {},
   "outputs": [
    {
     "name": "stdout",
     "output_type": "stream",
     "text": [
      "is_canceled                       1.000000\n",
      "lead_time                         0.176093\n",
      "arrival_date_year                 0.057680\n",
      "arrival_date_week_number          0.023653\n",
      "arrival_date_day_of_month         0.017457\n",
      "adults                            0.064218\n",
      "children                          0.041750\n",
      "babies                           -0.016678\n",
      "is_repeated_guest                -0.056963\n",
      "previous_cancellations            0.079904\n",
      "previous_bookings_not_canceled   -0.040576\n",
      "booking_changes                  -0.080964\n",
      "days_in_waiting_list              0.002901\n",
      "required_car_parking_spaces      -0.174187\n",
      "total_of_special_requests        -0.134206\n",
      "total_nights                      0.069679\n",
      "dtype: float64\n"
     ]
    }
   ],
   "source": [
    "print(hotel_train.corrwith(hotel_train['is_canceled']))"
   ]
  },
  {
   "cell_type": "markdown",
   "metadata": {},
   "source": [
    "### Построим сводные таблицы по признакам"
   ]
  },
  {
   "cell_type": "code",
   "execution_count": 28,
   "metadata": {},
   "outputs": [
    {
     "data": {
      "text/plain": "<pandas.io.formats.style.Styler at 0x7f87356fa0a0>",
      "text/html": "<style  type=\"text/css\" >\n</style><table id=\"T_1b58a_\" ><thead>    <tr>        <th class=\"blank level0\" ></th>        <th class=\"col_heading level0 col0\" >count</th>        <th class=\"col_heading level0 col1\" >mean</th>    </tr>    <tr>        <th class=\"blank level1\" ></th>        <th class=\"col_heading level1 col0\" >is_canceled</th>        <th class=\"col_heading level1 col1\" >is_canceled</th>    </tr>    <tr>        <th class=\"index_name level0\" >lead_time</th>        <th class=\"blank\" ></th>        <th class=\"blank\" ></th>    </tr></thead><tbody>\n                <tr>\n                        <th id=\"T_1b58a_level0_row0\" class=\"row_heading level0 row0\" >0.0</th>\n                        <td id=\"T_1b58a_row0_col0\" class=\"data row0 col0\" >3110</td>\n                        <td id=\"T_1b58a_row0_col1\" class=\"data row0 col1\" >5.72%</td>\n            </tr>\n            <tr>\n                        <th id=\"T_1b58a_level0_row1\" class=\"row_heading level0 row1\" >1.0</th>\n                        <td id=\"T_1b58a_row1_col0\" class=\"data row1 col0\" >1770</td>\n                        <td id=\"T_1b58a_row1_col1\" class=\"data row1 col1\" >7.12%</td>\n            </tr>\n            <tr>\n                        <th id=\"T_1b58a_level0_row2\" class=\"row_heading level0 row2\" >2.0</th>\n                        <td id=\"T_1b58a_row2_col0\" class=\"data row2 col0\" >1057</td>\n                        <td id=\"T_1b58a_row2_col1\" class=\"data row2 col1\" >9.08%</td>\n            </tr>\n            <tr>\n                        <th id=\"T_1b58a_level0_row3\" class=\"row_heading level0 row3\" >3.0</th>\n                        <td id=\"T_1b58a_row3_col0\" class=\"data row3 col0\" >976</td>\n                        <td id=\"T_1b58a_row3_col1\" class=\"data row3 col1\" >10.35%</td>\n            </tr>\n            <tr>\n                        <th id=\"T_1b58a_level0_row4\" class=\"row_heading level0 row4\" >4.0</th>\n                        <td id=\"T_1b58a_row4_col0\" class=\"data row4 col0\" >896</td>\n                        <td id=\"T_1b58a_row4_col1\" class=\"data row4 col1\" >10.71%</td>\n            </tr>\n            <tr>\n                        <th id=\"T_1b58a_level0_row5\" class=\"row_heading level0 row5\" >5.0</th>\n                        <td id=\"T_1b58a_row5_col0\" class=\"data row5 col0\" >835</td>\n                        <td id=\"T_1b58a_row5_col1\" class=\"data row5 col1\" >12.93%</td>\n            </tr>\n            <tr>\n                        <th id=\"T_1b58a_level0_row6\" class=\"row_heading level0 row6\" >6.0</th>\n                        <td id=\"T_1b58a_row6_col0\" class=\"data row6 col0\" >723</td>\n                        <td id=\"T_1b58a_row6_col1\" class=\"data row6 col1\" >12.86%</td>\n            </tr>\n            <tr>\n                        <th id=\"T_1b58a_level0_row7\" class=\"row_heading level0 row7\" >7.0</th>\n                        <td id=\"T_1b58a_row7_col0\" class=\"data row7 col0\" >632</td>\n                        <td id=\"T_1b58a_row7_col1\" class=\"data row7 col1\" >13.92%</td>\n            </tr>\n            <tr>\n                        <th id=\"T_1b58a_level0_row8\" class=\"row_heading level0 row8\" >8.0</th>\n                        <td id=\"T_1b58a_row8_col0\" class=\"data row8 col0\" >562</td>\n                        <td id=\"T_1b58a_row8_col1\" class=\"data row8 col1\" >16.90%</td>\n            </tr>\n            <tr>\n                        <th id=\"T_1b58a_level0_row9\" class=\"row_heading level0 row9\" >9.0</th>\n                        <td id=\"T_1b58a_row9_col0\" class=\"data row9 col0\" >486</td>\n                        <td id=\"T_1b58a_row9_col1\" class=\"data row9 col1\" >19.14%</td>\n            </tr>\n            <tr>\n                        <th id=\"T_1b58a_level0_row10\" class=\"row_heading level0 row10\" >10.0</th>\n                        <td id=\"T_1b58a_row10_col0\" class=\"data row10 col0\" >474</td>\n                        <td id=\"T_1b58a_row10_col1\" class=\"data row10 col1\" >21.73%</td>\n            </tr>\n            <tr>\n                        <th id=\"T_1b58a_level0_row11\" class=\"row_heading level0 row11\" >11.0</th>\n                        <td id=\"T_1b58a_row11_col0\" class=\"data row11 col0\" >488</td>\n                        <td id=\"T_1b58a_row11_col1\" class=\"data row11 col1\" >21.11%</td>\n            </tr>\n            <tr>\n                        <th id=\"T_1b58a_level0_row12\" class=\"row_heading level0 row12\" >12.0</th>\n                        <td id=\"T_1b58a_row12_col0\" class=\"data row12 col0\" >517</td>\n                        <td id=\"T_1b58a_row12_col1\" class=\"data row12 col1\" >24.37%</td>\n            </tr>\n            <tr>\n                        <th id=\"T_1b58a_level0_row13\" class=\"row_heading level0 row13\" >13.0</th>\n                        <td id=\"T_1b58a_row13_col0\" class=\"data row13 col0\" >416</td>\n                        <td id=\"T_1b58a_row13_col1\" class=\"data row13 col1\" >17.07%</td>\n            </tr>\n            <tr>\n                        <th id=\"T_1b58a_level0_row14\" class=\"row_heading level0 row14\" >14.0</th>\n                        <td id=\"T_1b58a_row14_col0\" class=\"data row14 col0\" >440</td>\n                        <td id=\"T_1b58a_row14_col1\" class=\"data row14 col1\" >19.09%</td>\n            </tr>\n            <tr>\n                        <th id=\"T_1b58a_level0_row15\" class=\"row_heading level0 row15\" >15.0</th>\n                        <td id=\"T_1b58a_row15_col0\" class=\"data row15 col0\" >366</td>\n                        <td id=\"T_1b58a_row15_col1\" class=\"data row15 col1\" >25.14%</td>\n            </tr>\n            <tr>\n                        <th id=\"T_1b58a_level0_row16\" class=\"row_heading level0 row16\" >16.0</th>\n                        <td id=\"T_1b58a_row16_col0\" class=\"data row16 col0\" >438</td>\n                        <td id=\"T_1b58a_row16_col1\" class=\"data row16 col1\" >21.00%</td>\n            </tr>\n            <tr>\n                        <th id=\"T_1b58a_level0_row17\" class=\"row_heading level0 row17\" >17.0</th>\n                        <td id=\"T_1b58a_row17_col0\" class=\"data row17 col0\" >429</td>\n                        <td id=\"T_1b58a_row17_col1\" class=\"data row17 col1\" >24.48%</td>\n            </tr>\n            <tr>\n                        <th id=\"T_1b58a_level0_row18\" class=\"row_heading level0 row18\" >18.0</th>\n                        <td id=\"T_1b58a_row18_col0\" class=\"data row18 col0\" >414</td>\n                        <td id=\"T_1b58a_row18_col1\" class=\"data row18 col1\" >28.74%</td>\n            </tr>\n            <tr>\n                        <th id=\"T_1b58a_level0_row19\" class=\"row_heading level0 row19\" >19.0</th>\n                        <td id=\"T_1b58a_row19_col0\" class=\"data row19 col0\" >374</td>\n                        <td id=\"T_1b58a_row19_col1\" class=\"data row19 col1\" >25.94%</td>\n            </tr>\n            <tr>\n                        <th id=\"T_1b58a_level0_row20\" class=\"row_heading level0 row20\" >20.0</th>\n                        <td id=\"T_1b58a_row20_col0\" class=\"data row20 col0\" >342</td>\n                        <td id=\"T_1b58a_row20_col1\" class=\"data row20 col1\" >24.27%</td>\n            </tr>\n            <tr>\n                        <th id=\"T_1b58a_level0_row21\" class=\"row_heading level0 row21\" >21.0</th>\n                        <td id=\"T_1b58a_row21_col0\" class=\"data row21 col0\" >322</td>\n                        <td id=\"T_1b58a_row21_col1\" class=\"data row21 col1\" >26.09%</td>\n            </tr>\n            <tr>\n                        <th id=\"T_1b58a_level0_row22\" class=\"row_heading level0 row22\" >22.0</th>\n                        <td id=\"T_1b58a_row22_col0\" class=\"data row22 col0\" >313</td>\n                        <td id=\"T_1b58a_row22_col1\" class=\"data row22 col1\" >25.56%</td>\n            </tr>\n            <tr>\n                        <th id=\"T_1b58a_level0_row23\" class=\"row_heading level0 row23\" >23.0</th>\n                        <td id=\"T_1b58a_row23_col0\" class=\"data row23 col0\" >279</td>\n                        <td id=\"T_1b58a_row23_col1\" class=\"data row23 col1\" >32.62%</td>\n            </tr>\n            <tr>\n                        <th id=\"T_1b58a_level0_row24\" class=\"row_heading level0 row24\" >24.0</th>\n                        <td id=\"T_1b58a_row24_col0\" class=\"data row24 col0\" >315</td>\n                        <td id=\"T_1b58a_row24_col1\" class=\"data row24 col1\" >22.54%</td>\n            </tr>\n            <tr>\n                        <th id=\"T_1b58a_level0_row25\" class=\"row_heading level0 row25\" >25.0</th>\n                        <td id=\"T_1b58a_row25_col0\" class=\"data row25 col0\" >273</td>\n                        <td id=\"T_1b58a_row25_col1\" class=\"data row25 col1\" >26.01%</td>\n            </tr>\n            <tr>\n                        <th id=\"T_1b58a_level0_row26\" class=\"row_heading level0 row26\" >26.0</th>\n                        <td id=\"T_1b58a_row26_col0\" class=\"data row26 col0\" >285</td>\n                        <td id=\"T_1b58a_row26_col1\" class=\"data row26 col1\" >28.77%</td>\n            </tr>\n            <tr>\n                        <th id=\"T_1b58a_level0_row27\" class=\"row_heading level0 row27\" >27.0</th>\n                        <td id=\"T_1b58a_row27_col0\" class=\"data row27 col0\" >264</td>\n                        <td id=\"T_1b58a_row27_col1\" class=\"data row27 col1\" >29.92%</td>\n            </tr>\n            <tr>\n                        <th id=\"T_1b58a_level0_row28\" class=\"row_heading level0 row28\" >28.0</th>\n                        <td id=\"T_1b58a_row28_col0\" class=\"data row28 col0\" >309</td>\n                        <td id=\"T_1b58a_row28_col1\" class=\"data row28 col1\" >27.51%</td>\n            </tr>\n            <tr>\n                        <th id=\"T_1b58a_level0_row29\" class=\"row_heading level0 row29\" >29.0</th>\n                        <td id=\"T_1b58a_row29_col0\" class=\"data row29 col0\" >317</td>\n                        <td id=\"T_1b58a_row29_col1\" class=\"data row29 col1\" >24.29%</td>\n            </tr>\n            <tr>\n                        <th id=\"T_1b58a_level0_row30\" class=\"row_heading level0 row30\" >30.0</th>\n                        <td id=\"T_1b58a_row30_col0\" class=\"data row30 col0\" >305</td>\n                        <td id=\"T_1b58a_row30_col1\" class=\"data row30 col1\" >29.84%</td>\n            </tr>\n            <tr>\n                        <th id=\"T_1b58a_level0_row31\" class=\"row_heading level0 row31\" >31.0</th>\n                        <td id=\"T_1b58a_row31_col0\" class=\"data row31 col0\" >304</td>\n                        <td id=\"T_1b58a_row31_col1\" class=\"data row31 col1\" >28.62%</td>\n            </tr>\n            <tr>\n                        <th id=\"T_1b58a_level0_row32\" class=\"row_heading level0 row32\" >32.0</th>\n                        <td id=\"T_1b58a_row32_col0\" class=\"data row32 col0\" >301</td>\n                        <td id=\"T_1b58a_row32_col1\" class=\"data row32 col1\" >31.89%</td>\n            </tr>\n            <tr>\n                        <th id=\"T_1b58a_level0_row33\" class=\"row_heading level0 row33\" >33.0</th>\n                        <td id=\"T_1b58a_row33_col0\" class=\"data row33 col0\" >302</td>\n                        <td id=\"T_1b58a_row33_col1\" class=\"data row33 col1\" >28.15%</td>\n            </tr>\n            <tr>\n                        <th id=\"T_1b58a_level0_row34\" class=\"row_heading level0 row34\" >34.0</th>\n                        <td id=\"T_1b58a_row34_col0\" class=\"data row34 col0\" >296</td>\n                        <td id=\"T_1b58a_row34_col1\" class=\"data row34 col1\" >26.01%</td>\n            </tr>\n            <tr>\n                        <th id=\"T_1b58a_level0_row35\" class=\"row_heading level0 row35\" >35.0</th>\n                        <td id=\"T_1b58a_row35_col0\" class=\"data row35 col0\" >349</td>\n                        <td id=\"T_1b58a_row35_col1\" class=\"data row35 col1\" >26.65%</td>\n            </tr>\n            <tr>\n                        <th id=\"T_1b58a_level0_row36\" class=\"row_heading level0 row36\" >36.0</th>\n                        <td id=\"T_1b58a_row36_col0\" class=\"data row36 col0\" >319</td>\n                        <td id=\"T_1b58a_row36_col1\" class=\"data row36 col1\" >29.47%</td>\n            </tr>\n            <tr>\n                        <th id=\"T_1b58a_level0_row37\" class=\"row_heading level0 row37\" >37.0</th>\n                        <td id=\"T_1b58a_row37_col0\" class=\"data row37 col0\" >280</td>\n                        <td id=\"T_1b58a_row37_col1\" class=\"data row37 col1\" >28.21%</td>\n            </tr>\n            <tr>\n                        <th id=\"T_1b58a_level0_row38\" class=\"row_heading level0 row38\" >38.0</th>\n                        <td id=\"T_1b58a_row38_col0\" class=\"data row38 col0\" >263</td>\n                        <td id=\"T_1b58a_row38_col1\" class=\"data row38 col1\" >34.60%</td>\n            </tr>\n            <tr>\n                        <th id=\"T_1b58a_level0_row39\" class=\"row_heading level0 row39\" >39.0</th>\n                        <td id=\"T_1b58a_row39_col0\" class=\"data row39 col0\" >273</td>\n                        <td id=\"T_1b58a_row39_col1\" class=\"data row39 col1\" >25.64%</td>\n            </tr>\n            <tr>\n                        <th id=\"T_1b58a_level0_row40\" class=\"row_heading level0 row40\" >40.0</th>\n                        <td id=\"T_1b58a_row40_col0\" class=\"data row40 col0\" >330</td>\n                        <td id=\"T_1b58a_row40_col1\" class=\"data row40 col1\" >27.88%</td>\n            </tr>\n            <tr>\n                        <th id=\"T_1b58a_level0_row41\" class=\"row_heading level0 row41\" >41.0</th>\n                        <td id=\"T_1b58a_row41_col0\" class=\"data row41 col0\" >265</td>\n                        <td id=\"T_1b58a_row41_col1\" class=\"data row41 col1\" >24.15%</td>\n            </tr>\n            <tr>\n                        <th id=\"T_1b58a_level0_row42\" class=\"row_heading level0 row42\" >42.0</th>\n                        <td id=\"T_1b58a_row42_col0\" class=\"data row42 col0\" >223</td>\n                        <td id=\"T_1b58a_row42_col1\" class=\"data row42 col1\" >26.91%</td>\n            </tr>\n            <tr>\n                        <th id=\"T_1b58a_level0_row43\" class=\"row_heading level0 row43\" >43.0</th>\n                        <td id=\"T_1b58a_row43_col0\" class=\"data row43 col0\" >220</td>\n                        <td id=\"T_1b58a_row43_col1\" class=\"data row43 col1\" >31.36%</td>\n            </tr>\n            <tr>\n                        <th id=\"T_1b58a_level0_row44\" class=\"row_heading level0 row44\" >44.0</th>\n                        <td id=\"T_1b58a_row44_col0\" class=\"data row44 col0\" >252</td>\n                        <td id=\"T_1b58a_row44_col1\" class=\"data row44 col1\" >30.56%</td>\n            </tr>\n            <tr>\n                        <th id=\"T_1b58a_level0_row45\" class=\"row_heading level0 row45\" >45.0</th>\n                        <td id=\"T_1b58a_row45_col0\" class=\"data row45 col0\" >266</td>\n                        <td id=\"T_1b58a_row45_col1\" class=\"data row45 col1\" >31.20%</td>\n            </tr>\n            <tr>\n                        <th id=\"T_1b58a_level0_row46\" class=\"row_heading level0 row46\" >46.0</th>\n                        <td id=\"T_1b58a_row46_col0\" class=\"data row46 col0\" >221</td>\n                        <td id=\"T_1b58a_row46_col1\" class=\"data row46 col1\" >26.24%</td>\n            </tr>\n            <tr>\n                        <th id=\"T_1b58a_level0_row47\" class=\"row_heading level0 row47\" >47.0</th>\n                        <td id=\"T_1b58a_row47_col0\" class=\"data row47 col0\" >263</td>\n                        <td id=\"T_1b58a_row47_col1\" class=\"data row47 col1\" >22.43%</td>\n            </tr>\n            <tr>\n                        <th id=\"T_1b58a_level0_row48\" class=\"row_heading level0 row48\" >48.0</th>\n                        <td id=\"T_1b58a_row48_col0\" class=\"data row48 col0\" >220</td>\n                        <td id=\"T_1b58a_row48_col1\" class=\"data row48 col1\" >26.82%</td>\n            </tr>\n            <tr>\n                        <th id=\"T_1b58a_level0_row49\" class=\"row_heading level0 row49\" >49.0</th>\n                        <td id=\"T_1b58a_row49_col0\" class=\"data row49 col0\" >237</td>\n                        <td id=\"T_1b58a_row49_col1\" class=\"data row49 col1\" >32.49%</td>\n            </tr>\n            <tr>\n                        <th id=\"T_1b58a_level0_row50\" class=\"row_heading level0 row50\" >50.0</th>\n                        <td id=\"T_1b58a_row50_col0\" class=\"data row50 col0\" >250</td>\n                        <td id=\"T_1b58a_row50_col1\" class=\"data row50 col1\" >32.00%</td>\n            </tr>\n            <tr>\n                        <th id=\"T_1b58a_level0_row51\" class=\"row_heading level0 row51\" >51.0</th>\n                        <td id=\"T_1b58a_row51_col0\" class=\"data row51 col0\" >192</td>\n                        <td id=\"T_1b58a_row51_col1\" class=\"data row51 col1\" >29.69%</td>\n            </tr>\n            <tr>\n                        <th id=\"T_1b58a_level0_row52\" class=\"row_heading level0 row52\" >52.0</th>\n                        <td id=\"T_1b58a_row52_col0\" class=\"data row52 col0\" >188</td>\n                        <td id=\"T_1b58a_row52_col1\" class=\"data row52 col1\" >34.04%</td>\n            </tr>\n            <tr>\n                        <th id=\"T_1b58a_level0_row53\" class=\"row_heading level0 row53\" >53.0</th>\n                        <td id=\"T_1b58a_row53_col0\" class=\"data row53 col0\" >231</td>\n                        <td id=\"T_1b58a_row53_col1\" class=\"data row53 col1\" >26.41%</td>\n            </tr>\n            <tr>\n                        <th id=\"T_1b58a_level0_row54\" class=\"row_heading level0 row54\" >54.0</th>\n                        <td id=\"T_1b58a_row54_col0\" class=\"data row54 col0\" >231</td>\n                        <td id=\"T_1b58a_row54_col1\" class=\"data row54 col1\" >31.60%</td>\n            </tr>\n            <tr>\n                        <th id=\"T_1b58a_level0_row55\" class=\"row_heading level0 row55\" >55.0</th>\n                        <td id=\"T_1b58a_row55_col0\" class=\"data row55 col0\" >210</td>\n                        <td id=\"T_1b58a_row55_col1\" class=\"data row55 col1\" >29.52%</td>\n            </tr>\n            <tr>\n                        <th id=\"T_1b58a_level0_row56\" class=\"row_heading level0 row56\" >56.0</th>\n                        <td id=\"T_1b58a_row56_col0\" class=\"data row56 col0\" >220</td>\n                        <td id=\"T_1b58a_row56_col1\" class=\"data row56 col1\" >34.55%</td>\n            </tr>\n            <tr>\n                        <th id=\"T_1b58a_level0_row57\" class=\"row_heading level0 row57\" >57.0</th>\n                        <td id=\"T_1b58a_row57_col0\" class=\"data row57 col0\" >220</td>\n                        <td id=\"T_1b58a_row57_col1\" class=\"data row57 col1\" >33.18%</td>\n            </tr>\n            <tr>\n                        <th id=\"T_1b58a_level0_row58\" class=\"row_heading level0 row58\" >58.0</th>\n                        <td id=\"T_1b58a_row58_col0\" class=\"data row58 col0\" >188</td>\n                        <td id=\"T_1b58a_row58_col1\" class=\"data row58 col1\" >32.45%</td>\n            </tr>\n            <tr>\n                        <th id=\"T_1b58a_level0_row59\" class=\"row_heading level0 row59\" >59.0</th>\n                        <td id=\"T_1b58a_row59_col0\" class=\"data row59 col0\" >219</td>\n                        <td id=\"T_1b58a_row59_col1\" class=\"data row59 col1\" >28.77%</td>\n            </tr>\n            <tr>\n                        <th id=\"T_1b58a_level0_row60\" class=\"row_heading level0 row60\" >60.0</th>\n                        <td id=\"T_1b58a_row60_col0\" class=\"data row60 col0\" >195</td>\n                        <td id=\"T_1b58a_row60_col1\" class=\"data row60 col1\" >37.95%</td>\n            </tr>\n            <tr>\n                        <th id=\"T_1b58a_level0_row61\" class=\"row_heading level0 row61\" >61.0</th>\n                        <td id=\"T_1b58a_row61_col0\" class=\"data row61 col0\" >208</td>\n                        <td id=\"T_1b58a_row61_col1\" class=\"data row61 col1\" >30.77%</td>\n            </tr>\n            <tr>\n                        <th id=\"T_1b58a_level0_row62\" class=\"row_heading level0 row62\" >62.0</th>\n                        <td id=\"T_1b58a_row62_col0\" class=\"data row62 col0\" >187</td>\n                        <td id=\"T_1b58a_row62_col1\" class=\"data row62 col1\" >29.41%</td>\n            </tr>\n            <tr>\n                        <th id=\"T_1b58a_level0_row63\" class=\"row_heading level0 row63\" >63.0</th>\n                        <td id=\"T_1b58a_row63_col0\" class=\"data row63 col0\" >194</td>\n                        <td id=\"T_1b58a_row63_col1\" class=\"data row63 col1\" >31.44%</td>\n            </tr>\n            <tr>\n                        <th id=\"T_1b58a_level0_row64\" class=\"row_heading level0 row64\" >64.0</th>\n                        <td id=\"T_1b58a_row64_col0\" class=\"data row64 col0\" >219</td>\n                        <td id=\"T_1b58a_row64_col1\" class=\"data row64 col1\" >26.94%</td>\n            </tr>\n            <tr>\n                        <th id=\"T_1b58a_level0_row65\" class=\"row_heading level0 row65\" >65.0</th>\n                        <td id=\"T_1b58a_row65_col0\" class=\"data row65 col0\" >190</td>\n                        <td id=\"T_1b58a_row65_col1\" class=\"data row65 col1\" >37.89%</td>\n            </tr>\n            <tr>\n                        <th id=\"T_1b58a_level0_row66\" class=\"row_heading level0 row66\" >66.0</th>\n                        <td id=\"T_1b58a_row66_col0\" class=\"data row66 col0\" >183</td>\n                        <td id=\"T_1b58a_row66_col1\" class=\"data row66 col1\" >31.15%</td>\n            </tr>\n            <tr>\n                        <th id=\"T_1b58a_level0_row67\" class=\"row_heading level0 row67\" >67.0</th>\n                        <td id=\"T_1b58a_row67_col0\" class=\"data row67 col0\" >169</td>\n                        <td id=\"T_1b58a_row67_col1\" class=\"data row67 col1\" >29.59%</td>\n            </tr>\n            <tr>\n                        <th id=\"T_1b58a_level0_row68\" class=\"row_heading level0 row68\" >68.0</th>\n                        <td id=\"T_1b58a_row68_col0\" class=\"data row68 col0\" >186</td>\n                        <td id=\"T_1b58a_row68_col1\" class=\"data row68 col1\" >31.18%</td>\n            </tr>\n            <tr>\n                        <th id=\"T_1b58a_level0_row69\" class=\"row_heading level0 row69\" >69.0</th>\n                        <td id=\"T_1b58a_row69_col0\" class=\"data row69 col0\" >173</td>\n                        <td id=\"T_1b58a_row69_col1\" class=\"data row69 col1\" >28.32%</td>\n            </tr>\n            <tr>\n                        <th id=\"T_1b58a_level0_row70\" class=\"row_heading level0 row70\" >70.0</th>\n                        <td id=\"T_1b58a_row70_col0\" class=\"data row70 col0\" >156</td>\n                        <td id=\"T_1b58a_row70_col1\" class=\"data row70 col1\" >32.69%</td>\n            </tr>\n            <tr>\n                        <th id=\"T_1b58a_level0_row71\" class=\"row_heading level0 row71\" >71.0</th>\n                        <td id=\"T_1b58a_row71_col0\" class=\"data row71 col0\" >174</td>\n                        <td id=\"T_1b58a_row71_col1\" class=\"data row71 col1\" >31.61%</td>\n            </tr>\n            <tr>\n                        <th id=\"T_1b58a_level0_row72\" class=\"row_heading level0 row72\" >72.0</th>\n                        <td id=\"T_1b58a_row72_col0\" class=\"data row72 col0\" >197</td>\n                        <td id=\"T_1b58a_row72_col1\" class=\"data row72 col1\" >35.53%</td>\n            </tr>\n            <tr>\n                        <th id=\"T_1b58a_level0_row73\" class=\"row_heading level0 row73\" >73.0</th>\n                        <td id=\"T_1b58a_row73_col0\" class=\"data row73 col0\" >172</td>\n                        <td id=\"T_1b58a_row73_col1\" class=\"data row73 col1\" >36.63%</td>\n            </tr>\n            <tr>\n                        <th id=\"T_1b58a_level0_row74\" class=\"row_heading level0 row74\" >74.0</th>\n                        <td id=\"T_1b58a_row74_col0\" class=\"data row74 col0\" >159</td>\n                        <td id=\"T_1b58a_row74_col1\" class=\"data row74 col1\" >32.70%</td>\n            </tr>\n            <tr>\n                        <th id=\"T_1b58a_level0_row75\" class=\"row_heading level0 row75\" >75.0</th>\n                        <td id=\"T_1b58a_row75_col0\" class=\"data row75 col0\" >153</td>\n                        <td id=\"T_1b58a_row75_col1\" class=\"data row75 col1\" >34.64%</td>\n            </tr>\n            <tr>\n                        <th id=\"T_1b58a_level0_row76\" class=\"row_heading level0 row76\" >76.0</th>\n                        <td id=\"T_1b58a_row76_col0\" class=\"data row76 col0\" >165</td>\n                        <td id=\"T_1b58a_row76_col1\" class=\"data row76 col1\" >33.33%</td>\n            </tr>\n            <tr>\n                        <th id=\"T_1b58a_level0_row77\" class=\"row_heading level0 row77\" >77.0</th>\n                        <td id=\"T_1b58a_row77_col0\" class=\"data row77 col0\" >154</td>\n                        <td id=\"T_1b58a_row77_col1\" class=\"data row77 col1\" >29.87%</td>\n            </tr>\n            <tr>\n                        <th id=\"T_1b58a_level0_row78\" class=\"row_heading level0 row78\" >78.0</th>\n                        <td id=\"T_1b58a_row78_col0\" class=\"data row78 col0\" >142</td>\n                        <td id=\"T_1b58a_row78_col1\" class=\"data row78 col1\" >29.58%</td>\n            </tr>\n            <tr>\n                        <th id=\"T_1b58a_level0_row79\" class=\"row_heading level0 row79\" >79.0</th>\n                        <td id=\"T_1b58a_row79_col0\" class=\"data row79 col0\" >169</td>\n                        <td id=\"T_1b58a_row79_col1\" class=\"data row79 col1\" >38.46%</td>\n            </tr>\n            <tr>\n                        <th id=\"T_1b58a_level0_row80\" class=\"row_heading level0 row80\" >80.0</th>\n                        <td id=\"T_1b58a_row80_col0\" class=\"data row80 col0\" >158</td>\n                        <td id=\"T_1b58a_row80_col1\" class=\"data row80 col1\" >33.54%</td>\n            </tr>\n            <tr>\n                        <th id=\"T_1b58a_level0_row81\" class=\"row_heading level0 row81\" >81.0</th>\n                        <td id=\"T_1b58a_row81_col0\" class=\"data row81 col0\" >168</td>\n                        <td id=\"T_1b58a_row81_col1\" class=\"data row81 col1\" >36.31%</td>\n            </tr>\n            <tr>\n                        <th id=\"T_1b58a_level0_row82\" class=\"row_heading level0 row82\" >82.0</th>\n                        <td id=\"T_1b58a_row82_col0\" class=\"data row82 col0\" >151</td>\n                        <td id=\"T_1b58a_row82_col1\" class=\"data row82 col1\" >32.45%</td>\n            </tr>\n            <tr>\n                        <th id=\"T_1b58a_level0_row83\" class=\"row_heading level0 row83\" >83.0</th>\n                        <td id=\"T_1b58a_row83_col0\" class=\"data row83 col0\" >159</td>\n                        <td id=\"T_1b58a_row83_col1\" class=\"data row83 col1\" >24.53%</td>\n            </tr>\n            <tr>\n                        <th id=\"T_1b58a_level0_row84\" class=\"row_heading level0 row84\" >84.0</th>\n                        <td id=\"T_1b58a_row84_col0\" class=\"data row84 col0\" >128</td>\n                        <td id=\"T_1b58a_row84_col1\" class=\"data row84 col1\" >28.12%</td>\n            </tr>\n            <tr>\n                        <th id=\"T_1b58a_level0_row85\" class=\"row_heading level0 row85\" >85.0</th>\n                        <td id=\"T_1b58a_row85_col0\" class=\"data row85 col0\" >139</td>\n                        <td id=\"T_1b58a_row85_col1\" class=\"data row85 col1\" >36.69%</td>\n            </tr>\n            <tr>\n                        <th id=\"T_1b58a_level0_row86\" class=\"row_heading level0 row86\" >86.0</th>\n                        <td id=\"T_1b58a_row86_col0\" class=\"data row86 col0\" >161</td>\n                        <td id=\"T_1b58a_row86_col1\" class=\"data row86 col1\" >26.09%</td>\n            </tr>\n            <tr>\n                        <th id=\"T_1b58a_level0_row87\" class=\"row_heading level0 row87\" >87.0</th>\n                        <td id=\"T_1b58a_row87_col0\" class=\"data row87 col0\" >161</td>\n                        <td id=\"T_1b58a_row87_col1\" class=\"data row87 col1\" >39.13%</td>\n            </tr>\n            <tr>\n                        <th id=\"T_1b58a_level0_row88\" class=\"row_heading level0 row88\" >88.0</th>\n                        <td id=\"T_1b58a_row88_col0\" class=\"data row88 col0\" >158</td>\n                        <td id=\"T_1b58a_row88_col1\" class=\"data row88 col1\" >32.28%</td>\n            </tr>\n            <tr>\n                        <th id=\"T_1b58a_level0_row89\" class=\"row_heading level0 row89\" >89.0</th>\n                        <td id=\"T_1b58a_row89_col0\" class=\"data row89 col0\" >131</td>\n                        <td id=\"T_1b58a_row89_col1\" class=\"data row89 col1\" >35.88%</td>\n            </tr>\n            <tr>\n                        <th id=\"T_1b58a_level0_row90\" class=\"row_heading level0 row90\" >90.0</th>\n                        <td id=\"T_1b58a_row90_col0\" class=\"data row90 col0\" >135</td>\n                        <td id=\"T_1b58a_row90_col1\" class=\"data row90 col1\" >23.70%</td>\n            </tr>\n            <tr>\n                        <th id=\"T_1b58a_level0_row91\" class=\"row_heading level0 row91\" >91.0</th>\n                        <td id=\"T_1b58a_row91_col0\" class=\"data row91 col0\" >127</td>\n                        <td id=\"T_1b58a_row91_col1\" class=\"data row91 col1\" >30.71%</td>\n            </tr>\n            <tr>\n                        <th id=\"T_1b58a_level0_row92\" class=\"row_heading level0 row92\" >92.0</th>\n                        <td id=\"T_1b58a_row92_col0\" class=\"data row92 col0\" >157</td>\n                        <td id=\"T_1b58a_row92_col1\" class=\"data row92 col1\" >37.58%</td>\n            </tr>\n            <tr>\n                        <th id=\"T_1b58a_level0_row93\" class=\"row_heading level0 row93\" >93.0</th>\n                        <td id=\"T_1b58a_row93_col0\" class=\"data row93 col0\" >119</td>\n                        <td id=\"T_1b58a_row93_col1\" class=\"data row93 col1\" >36.13%</td>\n            </tr>\n            <tr>\n                        <th id=\"T_1b58a_level0_row94\" class=\"row_heading level0 row94\" >94.0</th>\n                        <td id=\"T_1b58a_row94_col0\" class=\"data row94 col0\" >118</td>\n                        <td id=\"T_1b58a_row94_col1\" class=\"data row94 col1\" >37.29%</td>\n            </tr>\n            <tr>\n                        <th id=\"T_1b58a_level0_row95\" class=\"row_heading level0 row95\" >95.0</th>\n                        <td id=\"T_1b58a_row95_col0\" class=\"data row95 col0\" >142</td>\n                        <td id=\"T_1b58a_row95_col1\" class=\"data row95 col1\" >32.39%</td>\n            </tr>\n            <tr>\n                        <th id=\"T_1b58a_level0_row96\" class=\"row_heading level0 row96\" >96.0</th>\n                        <td id=\"T_1b58a_row96_col0\" class=\"data row96 col0\" >130</td>\n                        <td id=\"T_1b58a_row96_col1\" class=\"data row96 col1\" >37.69%</td>\n            </tr>\n            <tr>\n                        <th id=\"T_1b58a_level0_row97\" class=\"row_heading level0 row97\" >97.0</th>\n                        <td id=\"T_1b58a_row97_col0\" class=\"data row97 col0\" >121</td>\n                        <td id=\"T_1b58a_row97_col1\" class=\"data row97 col1\" >28.10%</td>\n            </tr>\n            <tr>\n                        <th id=\"T_1b58a_level0_row98\" class=\"row_heading level0 row98\" >98.0</th>\n                        <td id=\"T_1b58a_row98_col0\" class=\"data row98 col0\" >193</td>\n                        <td id=\"T_1b58a_row98_col1\" class=\"data row98 col1\" >26.42%</td>\n            </tr>\n            <tr>\n                        <th id=\"T_1b58a_level0_row99\" class=\"row_heading level0 row99\" >99.0</th>\n                        <td id=\"T_1b58a_row99_col0\" class=\"data row99 col0\" >128</td>\n                        <td id=\"T_1b58a_row99_col1\" class=\"data row99 col1\" >40.62%</td>\n            </tr>\n            <tr>\n                        <th id=\"T_1b58a_level0_row100\" class=\"row_heading level0 row100\" >100.0</th>\n                        <td id=\"T_1b58a_row100_col0\" class=\"data row100 col0\" >128</td>\n                        <td id=\"T_1b58a_row100_col1\" class=\"data row100 col1\" >35.94%</td>\n            </tr>\n            <tr>\n                        <th id=\"T_1b58a_level0_row101\" class=\"row_heading level0 row101\" >101.0</th>\n                        <td id=\"T_1b58a_row101_col0\" class=\"data row101 col0\" >148</td>\n                        <td id=\"T_1b58a_row101_col1\" class=\"data row101 col1\" >37.84%</td>\n            </tr>\n            <tr>\n                        <th id=\"T_1b58a_level0_row102\" class=\"row_heading level0 row102\" >102.0</th>\n                        <td id=\"T_1b58a_row102_col0\" class=\"data row102 col0\" >120</td>\n                        <td id=\"T_1b58a_row102_col1\" class=\"data row102 col1\" >32.50%</td>\n            </tr>\n            <tr>\n                        <th id=\"T_1b58a_level0_row103\" class=\"row_heading level0 row103\" >103.0</th>\n                        <td id=\"T_1b58a_row103_col0\" class=\"data row103 col0\" >119</td>\n                        <td id=\"T_1b58a_row103_col1\" class=\"data row103 col1\" >34.45%</td>\n            </tr>\n            <tr>\n                        <th id=\"T_1b58a_level0_row104\" class=\"row_heading level0 row104\" >104.0</th>\n                        <td id=\"T_1b58a_row104_col0\" class=\"data row104 col0\" >114</td>\n                        <td id=\"T_1b58a_row104_col1\" class=\"data row104 col1\" >35.09%</td>\n            </tr>\n            <tr>\n                        <th id=\"T_1b58a_level0_row105\" class=\"row_heading level0 row105\" >105.0</th>\n                        <td id=\"T_1b58a_row105_col0\" class=\"data row105 col0\" >105</td>\n                        <td id=\"T_1b58a_row105_col1\" class=\"data row105 col1\" >40.00%</td>\n            </tr>\n            <tr>\n                        <th id=\"T_1b58a_level0_row106\" class=\"row_heading level0 row106\" >106.0</th>\n                        <td id=\"T_1b58a_row106_col0\" class=\"data row106 col0\" >88</td>\n                        <td id=\"T_1b58a_row106_col1\" class=\"data row106 col1\" >43.18%</td>\n            </tr>\n            <tr>\n                        <th id=\"T_1b58a_level0_row107\" class=\"row_heading level0 row107\" >107.0</th>\n                        <td id=\"T_1b58a_row107_col0\" class=\"data row107 col0\" >110</td>\n                        <td id=\"T_1b58a_row107_col1\" class=\"data row107 col1\" >30.91%</td>\n            </tr>\n            <tr>\n                        <th id=\"T_1b58a_level0_row108\" class=\"row_heading level0 row108\" >108.0</th>\n                        <td id=\"T_1b58a_row108_col0\" class=\"data row108 col0\" >89</td>\n                        <td id=\"T_1b58a_row108_col1\" class=\"data row108 col1\" >31.46%</td>\n            </tr>\n            <tr>\n                        <th id=\"T_1b58a_level0_row109\" class=\"row_heading level0 row109\" >109.0</th>\n                        <td id=\"T_1b58a_row109_col0\" class=\"data row109 col0\" >117</td>\n                        <td id=\"T_1b58a_row109_col1\" class=\"data row109 col1\" >30.77%</td>\n            </tr>\n            <tr>\n                        <th id=\"T_1b58a_level0_row110\" class=\"row_heading level0 row110\" >110.0</th>\n                        <td id=\"T_1b58a_row110_col0\" class=\"data row110 col0\" >104</td>\n                        <td id=\"T_1b58a_row110_col1\" class=\"data row110 col1\" >32.69%</td>\n            </tr>\n            <tr>\n                        <th id=\"T_1b58a_level0_row111\" class=\"row_heading level0 row111\" >111.0</th>\n                        <td id=\"T_1b58a_row111_col0\" class=\"data row111 col0\" >100</td>\n                        <td id=\"T_1b58a_row111_col1\" class=\"data row111 col1\" >28.00%</td>\n            </tr>\n            <tr>\n                        <th id=\"T_1b58a_level0_row112\" class=\"row_heading level0 row112\" >112.0</th>\n                        <td id=\"T_1b58a_row112_col0\" class=\"data row112 col0\" >100</td>\n                        <td id=\"T_1b58a_row112_col1\" class=\"data row112 col1\" >30.00%</td>\n            </tr>\n            <tr>\n                        <th id=\"T_1b58a_level0_row113\" class=\"row_heading level0 row113\" >113.0</th>\n                        <td id=\"T_1b58a_row113_col0\" class=\"data row113 col0\" >116</td>\n                        <td id=\"T_1b58a_row113_col1\" class=\"data row113 col1\" >42.24%</td>\n            </tr>\n            <tr>\n                        <th id=\"T_1b58a_level0_row114\" class=\"row_heading level0 row114\" >114.0</th>\n                        <td id=\"T_1b58a_row114_col0\" class=\"data row114 col0\" >71</td>\n                        <td id=\"T_1b58a_row114_col1\" class=\"data row114 col1\" >33.80%</td>\n            </tr>\n            <tr>\n                        <th id=\"T_1b58a_level0_row115\" class=\"row_heading level0 row115\" >115.0</th>\n                        <td id=\"T_1b58a_row115_col0\" class=\"data row115 col0\" >136</td>\n                        <td id=\"T_1b58a_row115_col1\" class=\"data row115 col1\" >29.41%</td>\n            </tr>\n            <tr>\n                        <th id=\"T_1b58a_level0_row116\" class=\"row_heading level0 row116\" >116.0</th>\n                        <td id=\"T_1b58a_row116_col0\" class=\"data row116 col0\" >124</td>\n                        <td id=\"T_1b58a_row116_col1\" class=\"data row116 col1\" >36.29%</td>\n            </tr>\n            <tr>\n                        <th id=\"T_1b58a_level0_row117\" class=\"row_heading level0 row117\" >117.0</th>\n                        <td id=\"T_1b58a_row117_col0\" class=\"data row117 col0\" >119</td>\n                        <td id=\"T_1b58a_row117_col1\" class=\"data row117 col1\" >28.57%</td>\n            </tr>\n            <tr>\n                        <th id=\"T_1b58a_level0_row118\" class=\"row_heading level0 row118\" >118.0</th>\n                        <td id=\"T_1b58a_row118_col0\" class=\"data row118 col0\" >132</td>\n                        <td id=\"T_1b58a_row118_col1\" class=\"data row118 col1\" >22.73%</td>\n            </tr>\n            <tr>\n                        <th id=\"T_1b58a_level0_row119\" class=\"row_heading level0 row119\" >119.0</th>\n                        <td id=\"T_1b58a_row119_col0\" class=\"data row119 col0\" >115</td>\n                        <td id=\"T_1b58a_row119_col1\" class=\"data row119 col1\" >28.70%</td>\n            </tr>\n            <tr>\n                        <th id=\"T_1b58a_level0_row120\" class=\"row_heading level0 row120\" >120.0</th>\n                        <td id=\"T_1b58a_row120_col0\" class=\"data row120 col0\" >92</td>\n                        <td id=\"T_1b58a_row120_col1\" class=\"data row120 col1\" >39.13%</td>\n            </tr>\n            <tr>\n                        <th id=\"T_1b58a_level0_row121\" class=\"row_heading level0 row121\" >121.0</th>\n                        <td id=\"T_1b58a_row121_col0\" class=\"data row121 col0\" >88</td>\n                        <td id=\"T_1b58a_row121_col1\" class=\"data row121 col1\" >32.95%</td>\n            </tr>\n            <tr>\n                        <th id=\"T_1b58a_level0_row122\" class=\"row_heading level0 row122\" >122.0</th>\n                        <td id=\"T_1b58a_row122_col0\" class=\"data row122 col0\" >104</td>\n                        <td id=\"T_1b58a_row122_col1\" class=\"data row122 col1\" >31.73%</td>\n            </tr>\n            <tr>\n                        <th id=\"T_1b58a_level0_row123\" class=\"row_heading level0 row123\" >123.0</th>\n                        <td id=\"T_1b58a_row123_col0\" class=\"data row123 col0\" >95</td>\n                        <td id=\"T_1b58a_row123_col1\" class=\"data row123 col1\" >36.84%</td>\n            </tr>\n            <tr>\n                        <th id=\"T_1b58a_level0_row124\" class=\"row_heading level0 row124\" >124.0</th>\n                        <td id=\"T_1b58a_row124_col0\" class=\"data row124 col0\" >113</td>\n                        <td id=\"T_1b58a_row124_col1\" class=\"data row124 col1\" >32.74%</td>\n            </tr>\n            <tr>\n                        <th id=\"T_1b58a_level0_row125\" class=\"row_heading level0 row125\" >125.0</th>\n                        <td id=\"T_1b58a_row125_col0\" class=\"data row125 col0\" >88</td>\n                        <td id=\"T_1b58a_row125_col1\" class=\"data row125 col1\" >28.41%</td>\n            </tr>\n            <tr>\n                        <th id=\"T_1b58a_level0_row126\" class=\"row_heading level0 row126\" >126.0</th>\n                        <td id=\"T_1b58a_row126_col0\" class=\"data row126 col0\" >86</td>\n                        <td id=\"T_1b58a_row126_col1\" class=\"data row126 col1\" >27.91%</td>\n            </tr>\n            <tr>\n                        <th id=\"T_1b58a_level0_row127\" class=\"row_heading level0 row127\" >127.0</th>\n                        <td id=\"T_1b58a_row127_col0\" class=\"data row127 col0\" >91</td>\n                        <td id=\"T_1b58a_row127_col1\" class=\"data row127 col1\" >36.26%</td>\n            </tr>\n            <tr>\n                        <th id=\"T_1b58a_level0_row128\" class=\"row_heading level0 row128\" >128.0</th>\n                        <td id=\"T_1b58a_row128_col0\" class=\"data row128 col0\" >98</td>\n                        <td id=\"T_1b58a_row128_col1\" class=\"data row128 col1\" >31.63%</td>\n            </tr>\n            <tr>\n                        <th id=\"T_1b58a_level0_row129\" class=\"row_heading level0 row129\" >129.0</th>\n                        <td id=\"T_1b58a_row129_col0\" class=\"data row129 col0\" >81</td>\n                        <td id=\"T_1b58a_row129_col1\" class=\"data row129 col1\" >27.16%</td>\n            </tr>\n            <tr>\n                        <th id=\"T_1b58a_level0_row130\" class=\"row_heading level0 row130\" >130.0</th>\n                        <td id=\"T_1b58a_row130_col0\" class=\"data row130 col0\" >91</td>\n                        <td id=\"T_1b58a_row130_col1\" class=\"data row130 col1\" >28.57%</td>\n            </tr>\n            <tr>\n                        <th id=\"T_1b58a_level0_row131\" class=\"row_heading level0 row131\" >131.0</th>\n                        <td id=\"T_1b58a_row131_col0\" class=\"data row131 col0\" >96</td>\n                        <td id=\"T_1b58a_row131_col1\" class=\"data row131 col1\" >39.58%</td>\n            </tr>\n            <tr>\n                        <th id=\"T_1b58a_level0_row132\" class=\"row_heading level0 row132\" >132.0</th>\n                        <td id=\"T_1b58a_row132_col0\" class=\"data row132 col0\" >94</td>\n                        <td id=\"T_1b58a_row132_col1\" class=\"data row132 col1\" >27.66%</td>\n            </tr>\n            <tr>\n                        <th id=\"T_1b58a_level0_row133\" class=\"row_heading level0 row133\" >133.0</th>\n                        <td id=\"T_1b58a_row133_col0\" class=\"data row133 col0\" >95</td>\n                        <td id=\"T_1b58a_row133_col1\" class=\"data row133 col1\" >34.74%</td>\n            </tr>\n            <tr>\n                        <th id=\"T_1b58a_level0_row134\" class=\"row_heading level0 row134\" >134.0</th>\n                        <td id=\"T_1b58a_row134_col0\" class=\"data row134 col0\" >83</td>\n                        <td id=\"T_1b58a_row134_col1\" class=\"data row134 col1\" >38.55%</td>\n            </tr>\n            <tr>\n                        <th id=\"T_1b58a_level0_row135\" class=\"row_heading level0 row135\" >135.0</th>\n                        <td id=\"T_1b58a_row135_col0\" class=\"data row135 col0\" >79</td>\n                        <td id=\"T_1b58a_row135_col1\" class=\"data row135 col1\" >43.04%</td>\n            </tr>\n            <tr>\n                        <th id=\"T_1b58a_level0_row136\" class=\"row_heading level0 row136\" >136.0</th>\n                        <td id=\"T_1b58a_row136_col0\" class=\"data row136 col0\" >99</td>\n                        <td id=\"T_1b58a_row136_col1\" class=\"data row136 col1\" >32.32%</td>\n            </tr>\n            <tr>\n                        <th id=\"T_1b58a_level0_row137\" class=\"row_heading level0 row137\" >137.0</th>\n                        <td id=\"T_1b58a_row137_col0\" class=\"data row137 col0\" >77</td>\n                        <td id=\"T_1b58a_row137_col1\" class=\"data row137 col1\" >24.68%</td>\n            </tr>\n            <tr>\n                        <th id=\"T_1b58a_level0_row138\" class=\"row_heading level0 row138\" >138.0</th>\n                        <td id=\"T_1b58a_row138_col0\" class=\"data row138 col0\" >86</td>\n                        <td id=\"T_1b58a_row138_col1\" class=\"data row138 col1\" >29.07%</td>\n            </tr>\n            <tr>\n                        <th id=\"T_1b58a_level0_row139\" class=\"row_heading level0 row139\" >139.0</th>\n                        <td id=\"T_1b58a_row139_col0\" class=\"data row139 col0\" >67</td>\n                        <td id=\"T_1b58a_row139_col1\" class=\"data row139 col1\" >38.81%</td>\n            </tr>\n            <tr>\n                        <th id=\"T_1b58a_level0_row140\" class=\"row_heading level0 row140\" >140.0</th>\n                        <td id=\"T_1b58a_row140_col0\" class=\"data row140 col0\" >71</td>\n                        <td id=\"T_1b58a_row140_col1\" class=\"data row140 col1\" >29.58%</td>\n            </tr>\n            <tr>\n                        <th id=\"T_1b58a_level0_row141\" class=\"row_heading level0 row141\" >141.0</th>\n                        <td id=\"T_1b58a_row141_col0\" class=\"data row141 col0\" >108</td>\n                        <td id=\"T_1b58a_row141_col1\" class=\"data row141 col1\" >22.22%</td>\n            </tr>\n            <tr>\n                        <th id=\"T_1b58a_level0_row142\" class=\"row_heading level0 row142\" >142.0</th>\n                        <td id=\"T_1b58a_row142_col0\" class=\"data row142 col0\" >86</td>\n                        <td id=\"T_1b58a_row142_col1\" class=\"data row142 col1\" >32.56%</td>\n            </tr>\n            <tr>\n                        <th id=\"T_1b58a_level0_row143\" class=\"row_heading level0 row143\" >143.0</th>\n                        <td id=\"T_1b58a_row143_col0\" class=\"data row143 col0\" >79</td>\n                        <td id=\"T_1b58a_row143_col1\" class=\"data row143 col1\" >36.71%</td>\n            </tr>\n            <tr>\n                        <th id=\"T_1b58a_level0_row144\" class=\"row_heading level0 row144\" >144.0</th>\n                        <td id=\"T_1b58a_row144_col0\" class=\"data row144 col0\" >84</td>\n                        <td id=\"T_1b58a_row144_col1\" class=\"data row144 col1\" >50.00%</td>\n            </tr>\n            <tr>\n                        <th id=\"T_1b58a_level0_row145\" class=\"row_heading level0 row145\" >145.0</th>\n                        <td id=\"T_1b58a_row145_col0\" class=\"data row145 col0\" >78</td>\n                        <td id=\"T_1b58a_row145_col1\" class=\"data row145 col1\" >35.90%</td>\n            </tr>\n            <tr>\n                        <th id=\"T_1b58a_level0_row146\" class=\"row_heading level0 row146\" >146.0</th>\n                        <td id=\"T_1b58a_row146_col0\" class=\"data row146 col0\" >68</td>\n                        <td id=\"T_1b58a_row146_col1\" class=\"data row146 col1\" >27.94%</td>\n            </tr>\n            <tr>\n                        <th id=\"T_1b58a_level0_row147\" class=\"row_heading level0 row147\" >147.0</th>\n                        <td id=\"T_1b58a_row147_col0\" class=\"data row147 col0\" >88</td>\n                        <td id=\"T_1b58a_row147_col1\" class=\"data row147 col1\" >37.50%</td>\n            </tr>\n            <tr>\n                        <th id=\"T_1b58a_level0_row148\" class=\"row_heading level0 row148\" >148.0</th>\n                        <td id=\"T_1b58a_row148_col0\" class=\"data row148 col0\" >73</td>\n                        <td id=\"T_1b58a_row148_col1\" class=\"data row148 col1\" >43.84%</td>\n            </tr>\n            <tr>\n                        <th id=\"T_1b58a_level0_row149\" class=\"row_heading level0 row149\" >149.0</th>\n                        <td id=\"T_1b58a_row149_col0\" class=\"data row149 col0\" >58</td>\n                        <td id=\"T_1b58a_row149_col1\" class=\"data row149 col1\" >48.28%</td>\n            </tr>\n            <tr>\n                        <th id=\"T_1b58a_level0_row150\" class=\"row_heading level0 row150\" >150.0</th>\n                        <td id=\"T_1b58a_row150_col0\" class=\"data row150 col0\" >85</td>\n                        <td id=\"T_1b58a_row150_col1\" class=\"data row150 col1\" >30.59%</td>\n            </tr>\n            <tr>\n                        <th id=\"T_1b58a_level0_row151\" class=\"row_heading level0 row151\" >151.0</th>\n                        <td id=\"T_1b58a_row151_col0\" class=\"data row151 col0\" >112</td>\n                        <td id=\"T_1b58a_row151_col1\" class=\"data row151 col1\" >28.57%</td>\n            </tr>\n            <tr>\n                        <th id=\"T_1b58a_level0_row152\" class=\"row_heading level0 row152\" >152.0</th>\n                        <td id=\"T_1b58a_row152_col0\" class=\"data row152 col0\" >78</td>\n                        <td id=\"T_1b58a_row152_col1\" class=\"data row152 col1\" >26.92%</td>\n            </tr>\n            <tr>\n                        <th id=\"T_1b58a_level0_row153\" class=\"row_heading level0 row153\" >153.0</th>\n                        <td id=\"T_1b58a_row153_col0\" class=\"data row153 col0\" >71</td>\n                        <td id=\"T_1b58a_row153_col1\" class=\"data row153 col1\" >23.94%</td>\n            </tr>\n            <tr>\n                        <th id=\"T_1b58a_level0_row154\" class=\"row_heading level0 row154\" >154.0</th>\n                        <td id=\"T_1b58a_row154_col0\" class=\"data row154 col0\" >69</td>\n                        <td id=\"T_1b58a_row154_col1\" class=\"data row154 col1\" >21.74%</td>\n            </tr>\n            <tr>\n                        <th id=\"T_1b58a_level0_row155\" class=\"row_heading level0 row155\" >155.0</th>\n                        <td id=\"T_1b58a_row155_col0\" class=\"data row155 col0\" >89</td>\n                        <td id=\"T_1b58a_row155_col1\" class=\"data row155 col1\" >48.31%</td>\n            </tr>\n            <tr>\n                        <th id=\"T_1b58a_level0_row156\" class=\"row_heading level0 row156\" >156.0</th>\n                        <td id=\"T_1b58a_row156_col0\" class=\"data row156 col0\" >74</td>\n                        <td id=\"T_1b58a_row156_col1\" class=\"data row156 col1\" >39.19%</td>\n            </tr>\n            <tr>\n                        <th id=\"T_1b58a_level0_row157\" class=\"row_heading level0 row157\" >157.0</th>\n                        <td id=\"T_1b58a_row157_col0\" class=\"data row157 col0\" >93</td>\n                        <td id=\"T_1b58a_row157_col1\" class=\"data row157 col1\" >31.18%</td>\n            </tr>\n            <tr>\n                        <th id=\"T_1b58a_level0_row158\" class=\"row_heading level0 row158\" >158.0</th>\n                        <td id=\"T_1b58a_row158_col0\" class=\"data row158 col0\" >69</td>\n                        <td id=\"T_1b58a_row158_col1\" class=\"data row158 col1\" >28.99%</td>\n            </tr>\n            <tr>\n                        <th id=\"T_1b58a_level0_row159\" class=\"row_heading level0 row159\" >159.0</th>\n                        <td id=\"T_1b58a_row159_col0\" class=\"data row159 col0\" >102</td>\n                        <td id=\"T_1b58a_row159_col1\" class=\"data row159 col1\" >28.43%</td>\n            </tr>\n            <tr>\n                        <th id=\"T_1b58a_level0_row160\" class=\"row_heading level0 row160\" >160.0</th>\n                        <td id=\"T_1b58a_row160_col0\" class=\"data row160 col0\" >75</td>\n                        <td id=\"T_1b58a_row160_col1\" class=\"data row160 col1\" >32.00%</td>\n            </tr>\n            <tr>\n                        <th id=\"T_1b58a_level0_row161\" class=\"row_heading level0 row161\" >161.0</th>\n                        <td id=\"T_1b58a_row161_col0\" class=\"data row161 col0\" >60</td>\n                        <td id=\"T_1b58a_row161_col1\" class=\"data row161 col1\" >40.00%</td>\n            </tr>\n            <tr>\n                        <th id=\"T_1b58a_level0_row162\" class=\"row_heading level0 row162\" >162.0</th>\n                        <td id=\"T_1b58a_row162_col0\" class=\"data row162 col0\" >75</td>\n                        <td id=\"T_1b58a_row162_col1\" class=\"data row162 col1\" >28.00%</td>\n            </tr>\n            <tr>\n                        <th id=\"T_1b58a_level0_row163\" class=\"row_heading level0 row163\" >163.0</th>\n                        <td id=\"T_1b58a_row163_col0\" class=\"data row163 col0\" >72</td>\n                        <td id=\"T_1b58a_row163_col1\" class=\"data row163 col1\" >29.17%</td>\n            </tr>\n            <tr>\n                        <th id=\"T_1b58a_level0_row164\" class=\"row_heading level0 row164\" >164.0</th>\n                        <td id=\"T_1b58a_row164_col0\" class=\"data row164 col0\" >67</td>\n                        <td id=\"T_1b58a_row164_col1\" class=\"data row164 col1\" >41.79%</td>\n            </tr>\n            <tr>\n                        <th id=\"T_1b58a_level0_row165\" class=\"row_heading level0 row165\" >165.0</th>\n                        <td id=\"T_1b58a_row165_col0\" class=\"data row165 col0\" >59</td>\n                        <td id=\"T_1b58a_row165_col1\" class=\"data row165 col1\" >35.59%</td>\n            </tr>\n            <tr>\n                        <th id=\"T_1b58a_level0_row166\" class=\"row_heading level0 row166\" >166.0</th>\n                        <td id=\"T_1b58a_row166_col0\" class=\"data row166 col0\" >78</td>\n                        <td id=\"T_1b58a_row166_col1\" class=\"data row166 col1\" >38.46%</td>\n            </tr>\n            <tr>\n                        <th id=\"T_1b58a_level0_row167\" class=\"row_heading level0 row167\" >167.0</th>\n                        <td id=\"T_1b58a_row167_col0\" class=\"data row167 col0\" >60</td>\n                        <td id=\"T_1b58a_row167_col1\" class=\"data row167 col1\" >45.00%</td>\n            </tr>\n            <tr>\n                        <th id=\"T_1b58a_level0_row168\" class=\"row_heading level0 row168\" >168.0</th>\n                        <td id=\"T_1b58a_row168_col0\" class=\"data row168 col0\" >65</td>\n                        <td id=\"T_1b58a_row168_col1\" class=\"data row168 col1\" >30.77%</td>\n            </tr>\n            <tr>\n                        <th id=\"T_1b58a_level0_row169\" class=\"row_heading level0 row169\" >169.0</th>\n                        <td id=\"T_1b58a_row169_col0\" class=\"data row169 col0\" >79</td>\n                        <td id=\"T_1b58a_row169_col1\" class=\"data row169 col1\" >16.46%</td>\n            </tr>\n            <tr>\n                        <th id=\"T_1b58a_level0_row170\" class=\"row_heading level0 row170\" >170.0</th>\n                        <td id=\"T_1b58a_row170_col0\" class=\"data row170 col0\" >48</td>\n                        <td id=\"T_1b58a_row170_col1\" class=\"data row170 col1\" >27.08%</td>\n            </tr>\n            <tr>\n                        <th id=\"T_1b58a_level0_row171\" class=\"row_heading level0 row171\" >171.0</th>\n                        <td id=\"T_1b58a_row171_col0\" class=\"data row171 col0\" >56</td>\n                        <td id=\"T_1b58a_row171_col1\" class=\"data row171 col1\" >32.14%</td>\n            </tr>\n            <tr>\n                        <th id=\"T_1b58a_level0_row172\" class=\"row_heading level0 row172\" >172.0</th>\n                        <td id=\"T_1b58a_row172_col0\" class=\"data row172 col0\" >85</td>\n                        <td id=\"T_1b58a_row172_col1\" class=\"data row172 col1\" >24.71%</td>\n            </tr>\n            <tr>\n                        <th id=\"T_1b58a_level0_row173\" class=\"row_heading level0 row173\" >173.0</th>\n                        <td id=\"T_1b58a_row173_col0\" class=\"data row173 col0\" >51</td>\n                        <td id=\"T_1b58a_row173_col1\" class=\"data row173 col1\" >29.41%</td>\n            </tr>\n            <tr>\n                        <th id=\"T_1b58a_level0_row174\" class=\"row_heading level0 row174\" >174.0</th>\n                        <td id=\"T_1b58a_row174_col0\" class=\"data row174 col0\" >63</td>\n                        <td id=\"T_1b58a_row174_col1\" class=\"data row174 col1\" >36.51%</td>\n            </tr>\n            <tr>\n                        <th id=\"T_1b58a_level0_row175\" class=\"row_heading level0 row175\" >175.0</th>\n                        <td id=\"T_1b58a_row175_col0\" class=\"data row175 col0\" >50</td>\n                        <td id=\"T_1b58a_row175_col1\" class=\"data row175 col1\" >38.00%</td>\n            </tr>\n            <tr>\n                        <th id=\"T_1b58a_level0_row176\" class=\"row_heading level0 row176\" >176.0</th>\n                        <td id=\"T_1b58a_row176_col0\" class=\"data row176 col0\" >46</td>\n                        <td id=\"T_1b58a_row176_col1\" class=\"data row176 col1\" >34.78%</td>\n            </tr>\n            <tr>\n                        <th id=\"T_1b58a_level0_row177\" class=\"row_heading level0 row177\" >177.0</th>\n                        <td id=\"T_1b58a_row177_col0\" class=\"data row177 col0\" >65</td>\n                        <td id=\"T_1b58a_row177_col1\" class=\"data row177 col1\" >27.69%</td>\n            </tr>\n            <tr>\n                        <th id=\"T_1b58a_level0_row178\" class=\"row_heading level0 row178\" >178.0</th>\n                        <td id=\"T_1b58a_row178_col0\" class=\"data row178 col0\" >66</td>\n                        <td id=\"T_1b58a_row178_col1\" class=\"data row178 col1\" >36.36%</td>\n            </tr>\n            <tr>\n                        <th id=\"T_1b58a_level0_row179\" class=\"row_heading level0 row179\" >179.0</th>\n                        <td id=\"T_1b58a_row179_col0\" class=\"data row179 col0\" >77</td>\n                        <td id=\"T_1b58a_row179_col1\" class=\"data row179 col1\" >35.06%</td>\n            </tr>\n            <tr>\n                        <th id=\"T_1b58a_level0_row180\" class=\"row_heading level0 row180\" >180.0</th>\n                        <td id=\"T_1b58a_row180_col0\" class=\"data row180 col0\" >88</td>\n                        <td id=\"T_1b58a_row180_col1\" class=\"data row180 col1\" >27.27%</td>\n            </tr>\n            <tr>\n                        <th id=\"T_1b58a_level0_row181\" class=\"row_heading level0 row181\" >181.0</th>\n                        <td id=\"T_1b58a_row181_col0\" class=\"data row181 col0\" >56</td>\n                        <td id=\"T_1b58a_row181_col1\" class=\"data row181 col1\" >37.50%</td>\n            </tr>\n            <tr>\n                        <th id=\"T_1b58a_level0_row182\" class=\"row_heading level0 row182\" >182.0</th>\n                        <td id=\"T_1b58a_row182_col0\" class=\"data row182 col0\" >47</td>\n                        <td id=\"T_1b58a_row182_col1\" class=\"data row182 col1\" >42.55%</td>\n            </tr>\n            <tr>\n                        <th id=\"T_1b58a_level0_row183\" class=\"row_heading level0 row183\" >183.0</th>\n                        <td id=\"T_1b58a_row183_col0\" class=\"data row183 col0\" >54</td>\n                        <td id=\"T_1b58a_row183_col1\" class=\"data row183 col1\" >42.59%</td>\n            </tr>\n            <tr>\n                        <th id=\"T_1b58a_level0_row184\" class=\"row_heading level0 row184\" >184.0</th>\n                        <td id=\"T_1b58a_row184_col0\" class=\"data row184 col0\" >66</td>\n                        <td id=\"T_1b58a_row184_col1\" class=\"data row184 col1\" >46.97%</td>\n            </tr>\n            <tr>\n                        <th id=\"T_1b58a_level0_row185\" class=\"row_heading level0 row185\" >185.0</th>\n                        <td id=\"T_1b58a_row185_col0\" class=\"data row185 col0\" >57</td>\n                        <td id=\"T_1b58a_row185_col1\" class=\"data row185 col1\" >35.09%</td>\n            </tr>\n            <tr>\n                        <th id=\"T_1b58a_level0_row186\" class=\"row_heading level0 row186\" >186.0</th>\n                        <td id=\"T_1b58a_row186_col0\" class=\"data row186 col0\" >61</td>\n                        <td id=\"T_1b58a_row186_col1\" class=\"data row186 col1\" >29.51%</td>\n            </tr>\n            <tr>\n                        <th id=\"T_1b58a_level0_row187\" class=\"row_heading level0 row187\" >187.0</th>\n                        <td id=\"T_1b58a_row187_col0\" class=\"data row187 col0\" >51</td>\n                        <td id=\"T_1b58a_row187_col1\" class=\"data row187 col1\" >41.18%</td>\n            </tr>\n            <tr>\n                        <th id=\"T_1b58a_level0_row188\" class=\"row_heading level0 row188\" >188.0</th>\n                        <td id=\"T_1b58a_row188_col0\" class=\"data row188 col0\" >52</td>\n                        <td id=\"T_1b58a_row188_col1\" class=\"data row188 col1\" >21.15%</td>\n            </tr>\n            <tr>\n                        <th id=\"T_1b58a_level0_row189\" class=\"row_heading level0 row189\" >189.0</th>\n                        <td id=\"T_1b58a_row189_col0\" class=\"data row189 col0\" >58</td>\n                        <td id=\"T_1b58a_row189_col1\" class=\"data row189 col1\" >22.41%</td>\n            </tr>\n            <tr>\n                        <th id=\"T_1b58a_level0_row190\" class=\"row_heading level0 row190\" >190.0</th>\n                        <td id=\"T_1b58a_row190_col0\" class=\"data row190 col0\" >59</td>\n                        <td id=\"T_1b58a_row190_col1\" class=\"data row190 col1\" >28.81%</td>\n            </tr>\n            <tr>\n                        <th id=\"T_1b58a_level0_row191\" class=\"row_heading level0 row191\" >191.0</th>\n                        <td id=\"T_1b58a_row191_col0\" class=\"data row191 col0\" >61</td>\n                        <td id=\"T_1b58a_row191_col1\" class=\"data row191 col1\" >26.23%</td>\n            </tr>\n            <tr>\n                        <th id=\"T_1b58a_level0_row192\" class=\"row_heading level0 row192\" >192.0</th>\n                        <td id=\"T_1b58a_row192_col0\" class=\"data row192 col0\" >78</td>\n                        <td id=\"T_1b58a_row192_col1\" class=\"data row192 col1\" >28.21%</td>\n            </tr>\n            <tr>\n                        <th id=\"T_1b58a_level0_row193\" class=\"row_heading level0 row193\" >193.0</th>\n                        <td id=\"T_1b58a_row193_col0\" class=\"data row193 col0\" >55</td>\n                        <td id=\"T_1b58a_row193_col1\" class=\"data row193 col1\" >30.91%</td>\n            </tr>\n            <tr>\n                        <th id=\"T_1b58a_level0_row194\" class=\"row_heading level0 row194\" >194.0</th>\n                        <td id=\"T_1b58a_row194_col0\" class=\"data row194 col0\" >41</td>\n                        <td id=\"T_1b58a_row194_col1\" class=\"data row194 col1\" >34.15%</td>\n            </tr>\n            <tr>\n                        <th id=\"T_1b58a_level0_row195\" class=\"row_heading level0 row195\" >195.0</th>\n                        <td id=\"T_1b58a_row195_col0\" class=\"data row195 col0\" >60</td>\n                        <td id=\"T_1b58a_row195_col1\" class=\"data row195 col1\" >45.00%</td>\n            </tr>\n            <tr>\n                        <th id=\"T_1b58a_level0_row196\" class=\"row_heading level0 row196\" >196.0</th>\n                        <td id=\"T_1b58a_row196_col0\" class=\"data row196 col0\" >62</td>\n                        <td id=\"T_1b58a_row196_col1\" class=\"data row196 col1\" >37.10%</td>\n            </tr>\n            <tr>\n                        <th id=\"T_1b58a_level0_row197\" class=\"row_heading level0 row197\" >197.0</th>\n                        <td id=\"T_1b58a_row197_col0\" class=\"data row197 col0\" >49</td>\n                        <td id=\"T_1b58a_row197_col1\" class=\"data row197 col1\" >38.78%</td>\n            </tr>\n            <tr>\n                        <th id=\"T_1b58a_level0_row198\" class=\"row_heading level0 row198\" >198.0</th>\n                        <td id=\"T_1b58a_row198_col0\" class=\"data row198 col0\" >46</td>\n                        <td id=\"T_1b58a_row198_col1\" class=\"data row198 col1\" >47.83%</td>\n            </tr>\n            <tr>\n                        <th id=\"T_1b58a_level0_row199\" class=\"row_heading level0 row199\" >199.0</th>\n                        <td id=\"T_1b58a_row199_col0\" class=\"data row199 col0\" >65</td>\n                        <td id=\"T_1b58a_row199_col1\" class=\"data row199 col1\" >40.00%</td>\n            </tr>\n            <tr>\n                        <th id=\"T_1b58a_level0_row200\" class=\"row_heading level0 row200\" >200.0</th>\n                        <td id=\"T_1b58a_row200_col0\" class=\"data row200 col0\" >44</td>\n                        <td id=\"T_1b58a_row200_col1\" class=\"data row200 col1\" >43.18%</td>\n            </tr>\n            <tr>\n                        <th id=\"T_1b58a_level0_row201\" class=\"row_heading level0 row201\" >201.0</th>\n                        <td id=\"T_1b58a_row201_col0\" class=\"data row201 col0\" >31</td>\n                        <td id=\"T_1b58a_row201_col1\" class=\"data row201 col1\" >29.03%</td>\n            </tr>\n            <tr>\n                        <th id=\"T_1b58a_level0_row202\" class=\"row_heading level0 row202\" >202.0</th>\n                        <td id=\"T_1b58a_row202_col0\" class=\"data row202 col0\" >32</td>\n                        <td id=\"T_1b58a_row202_col1\" class=\"data row202 col1\" >34.38%</td>\n            </tr>\n            <tr>\n                        <th id=\"T_1b58a_level0_row203\" class=\"row_heading level0 row203\" >203.0</th>\n                        <td id=\"T_1b58a_row203_col0\" class=\"data row203 col0\" >45</td>\n                        <td id=\"T_1b58a_row203_col1\" class=\"data row203 col1\" >35.56%</td>\n            </tr>\n            <tr>\n                        <th id=\"T_1b58a_level0_row204\" class=\"row_heading level0 row204\" >204.0</th>\n                        <td id=\"T_1b58a_row204_col0\" class=\"data row204 col0\" >35</td>\n                        <td id=\"T_1b58a_row204_col1\" class=\"data row204 col1\" >31.43%</td>\n            </tr>\n            <tr>\n                        <th id=\"T_1b58a_level0_row205\" class=\"row_heading level0 row205\" >205.0</th>\n                        <td id=\"T_1b58a_row205_col0\" class=\"data row205 col0\" >40</td>\n                        <td id=\"T_1b58a_row205_col1\" class=\"data row205 col1\" >47.50%</td>\n            </tr>\n            <tr>\n                        <th id=\"T_1b58a_level0_row206\" class=\"row_heading level0 row206\" >206.0</th>\n                        <td id=\"T_1b58a_row206_col0\" class=\"data row206 col0\" >47</td>\n                        <td id=\"T_1b58a_row206_col1\" class=\"data row206 col1\" >44.68%</td>\n            </tr>\n            <tr>\n                        <th id=\"T_1b58a_level0_row207\" class=\"row_heading level0 row207\" >207.0</th>\n                        <td id=\"T_1b58a_row207_col0\" class=\"data row207 col0\" >57</td>\n                        <td id=\"T_1b58a_row207_col1\" class=\"data row207 col1\" >29.82%</td>\n            </tr>\n            <tr>\n                        <th id=\"T_1b58a_level0_row208\" class=\"row_heading level0 row208\" >208.0</th>\n                        <td id=\"T_1b58a_row208_col0\" class=\"data row208 col0\" >46</td>\n                        <td id=\"T_1b58a_row208_col1\" class=\"data row208 col1\" >47.83%</td>\n            </tr>\n            <tr>\n                        <th id=\"T_1b58a_level0_row209\" class=\"row_heading level0 row209\" >209.0</th>\n                        <td id=\"T_1b58a_row209_col0\" class=\"data row209 col0\" >33</td>\n                        <td id=\"T_1b58a_row209_col1\" class=\"data row209 col1\" >33.33%</td>\n            </tr>\n            <tr>\n                        <th id=\"T_1b58a_level0_row210\" class=\"row_heading level0 row210\" >210.0</th>\n                        <td id=\"T_1b58a_row210_col0\" class=\"data row210 col0\" >43</td>\n                        <td id=\"T_1b58a_row210_col1\" class=\"data row210 col1\" >20.93%</td>\n            </tr>\n            <tr>\n                        <th id=\"T_1b58a_level0_row211\" class=\"row_heading level0 row211\" >211.0</th>\n                        <td id=\"T_1b58a_row211_col0\" class=\"data row211 col0\" >36</td>\n                        <td id=\"T_1b58a_row211_col1\" class=\"data row211 col1\" >38.89%</td>\n            </tr>\n            <tr>\n                        <th id=\"T_1b58a_level0_row212\" class=\"row_heading level0 row212\" >212.0</th>\n                        <td id=\"T_1b58a_row212_col0\" class=\"data row212 col0\" >42</td>\n                        <td id=\"T_1b58a_row212_col1\" class=\"data row212 col1\" >35.71%</td>\n            </tr>\n            <tr>\n                        <th id=\"T_1b58a_level0_row213\" class=\"row_heading level0 row213\" >213.0</th>\n                        <td id=\"T_1b58a_row213_col0\" class=\"data row213 col0\" >45</td>\n                        <td id=\"T_1b58a_row213_col1\" class=\"data row213 col1\" >24.44%</td>\n            </tr>\n            <tr>\n                        <th id=\"T_1b58a_level0_row214\" class=\"row_heading level0 row214\" >214.0</th>\n                        <td id=\"T_1b58a_row214_col0\" class=\"data row214 col0\" >47</td>\n                        <td id=\"T_1b58a_row214_col1\" class=\"data row214 col1\" >19.15%</td>\n            </tr>\n            <tr>\n                        <th id=\"T_1b58a_level0_row215\" class=\"row_heading level0 row215\" >215.0</th>\n                        <td id=\"T_1b58a_row215_col0\" class=\"data row215 col0\" >89</td>\n                        <td id=\"T_1b58a_row215_col1\" class=\"data row215 col1\" >17.98%</td>\n            </tr>\n            <tr>\n                        <th id=\"T_1b58a_level0_row216\" class=\"row_heading level0 row216\" >216.0</th>\n                        <td id=\"T_1b58a_row216_col0\" class=\"data row216 col0\" >25</td>\n                        <td id=\"T_1b58a_row216_col1\" class=\"data row216 col1\" >48.00%</td>\n            </tr>\n            <tr>\n                        <th id=\"T_1b58a_level0_row217\" class=\"row_heading level0 row217\" >217.0</th>\n                        <td id=\"T_1b58a_row217_col0\" class=\"data row217 col0\" >38</td>\n                        <td id=\"T_1b58a_row217_col1\" class=\"data row217 col1\" >34.21%</td>\n            </tr>\n            <tr>\n                        <th id=\"T_1b58a_level0_row218\" class=\"row_heading level0 row218\" >218.0</th>\n                        <td id=\"T_1b58a_row218_col0\" class=\"data row218 col0\" >29</td>\n                        <td id=\"T_1b58a_row218_col1\" class=\"data row218 col1\" >44.83%</td>\n            </tr>\n            <tr>\n                        <th id=\"T_1b58a_level0_row219\" class=\"row_heading level0 row219\" >219.0</th>\n                        <td id=\"T_1b58a_row219_col0\" class=\"data row219 col0\" >50</td>\n                        <td id=\"T_1b58a_row219_col1\" class=\"data row219 col1\" >30.00%</td>\n            </tr>\n            <tr>\n                        <th id=\"T_1b58a_level0_row220\" class=\"row_heading level0 row220\" >220.0</th>\n                        <td id=\"T_1b58a_row220_col0\" class=\"data row220 col0\" >48</td>\n                        <td id=\"T_1b58a_row220_col1\" class=\"data row220 col1\" >33.33%</td>\n            </tr>\n            <tr>\n                        <th id=\"T_1b58a_level0_row221\" class=\"row_heading level0 row221\" >221.0</th>\n                        <td id=\"T_1b58a_row221_col0\" class=\"data row221 col0\" >52</td>\n                        <td id=\"T_1b58a_row221_col1\" class=\"data row221 col1\" >26.92%</td>\n            </tr>\n            <tr>\n                        <th id=\"T_1b58a_level0_row222\" class=\"row_heading level0 row222\" >222.0</th>\n                        <td id=\"T_1b58a_row222_col0\" class=\"data row222 col0\" >39</td>\n                        <td id=\"T_1b58a_row222_col1\" class=\"data row222 col1\" >25.64%</td>\n            </tr>\n            <tr>\n                        <th id=\"T_1b58a_level0_row223\" class=\"row_heading level0 row223\" >223.0</th>\n                        <td id=\"T_1b58a_row223_col0\" class=\"data row223 col0\" >35</td>\n                        <td id=\"T_1b58a_row223_col1\" class=\"data row223 col1\" >28.57%</td>\n            </tr>\n            <tr>\n                        <th id=\"T_1b58a_level0_row224\" class=\"row_heading level0 row224\" >224.0</th>\n                        <td id=\"T_1b58a_row224_col0\" class=\"data row224 col0\" >48</td>\n                        <td id=\"T_1b58a_row224_col1\" class=\"data row224 col1\" >33.33%</td>\n            </tr>\n            <tr>\n                        <th id=\"T_1b58a_level0_row225\" class=\"row_heading level0 row225\" >225.0</th>\n                        <td id=\"T_1b58a_row225_col0\" class=\"data row225 col0\" >46</td>\n                        <td id=\"T_1b58a_row225_col1\" class=\"data row225 col1\" >26.09%</td>\n            </tr>\n            <tr>\n                        <th id=\"T_1b58a_level0_row226\" class=\"row_heading level0 row226\" >226.0</th>\n                        <td id=\"T_1b58a_row226_col0\" class=\"data row226 col0\" >36</td>\n                        <td id=\"T_1b58a_row226_col1\" class=\"data row226 col1\" >41.67%</td>\n            </tr>\n            <tr>\n                        <th id=\"T_1b58a_level0_row227\" class=\"row_heading level0 row227\" >227.0</th>\n                        <td id=\"T_1b58a_row227_col0\" class=\"data row227 col0\" >21</td>\n                        <td id=\"T_1b58a_row227_col1\" class=\"data row227 col1\" >52.38%</td>\n            </tr>\n            <tr>\n                        <th id=\"T_1b58a_level0_row228\" class=\"row_heading level0 row228\" >228.0</th>\n                        <td id=\"T_1b58a_row228_col0\" class=\"data row228 col0\" >34</td>\n                        <td id=\"T_1b58a_row228_col1\" class=\"data row228 col1\" >38.24%</td>\n            </tr>\n            <tr>\n                        <th id=\"T_1b58a_level0_row229\" class=\"row_heading level0 row229\" >229.0</th>\n                        <td id=\"T_1b58a_row229_col0\" class=\"data row229 col0\" >26</td>\n                        <td id=\"T_1b58a_row229_col1\" class=\"data row229 col1\" >50.00%</td>\n            </tr>\n            <tr>\n                        <th id=\"T_1b58a_level0_row230\" class=\"row_heading level0 row230\" >230.0</th>\n                        <td id=\"T_1b58a_row230_col0\" class=\"data row230 col0\" >31</td>\n                        <td id=\"T_1b58a_row230_col1\" class=\"data row230 col1\" >35.48%</td>\n            </tr>\n            <tr>\n                        <th id=\"T_1b58a_level0_row231\" class=\"row_heading level0 row231\" >231.0</th>\n                        <td id=\"T_1b58a_row231_col0\" class=\"data row231 col0\" >27</td>\n                        <td id=\"T_1b58a_row231_col1\" class=\"data row231 col1\" >37.04%</td>\n            </tr>\n            <tr>\n                        <th id=\"T_1b58a_level0_row232\" class=\"row_heading level0 row232\" >232.0</th>\n                        <td id=\"T_1b58a_row232_col0\" class=\"data row232 col0\" >30</td>\n                        <td id=\"T_1b58a_row232_col1\" class=\"data row232 col1\" >33.33%</td>\n            </tr>\n            <tr>\n                        <th id=\"T_1b58a_level0_row233\" class=\"row_heading level0 row233\" >233.0</th>\n                        <td id=\"T_1b58a_row233_col0\" class=\"data row233 col0\" >21</td>\n                        <td id=\"T_1b58a_row233_col1\" class=\"data row233 col1\" >38.10%</td>\n            </tr>\n            <tr>\n                        <th id=\"T_1b58a_level0_row234\" class=\"row_heading level0 row234\" >234.0</th>\n                        <td id=\"T_1b58a_row234_col0\" class=\"data row234 col0\" >18</td>\n                        <td id=\"T_1b58a_row234_col1\" class=\"data row234 col1\" >50.00%</td>\n            </tr>\n            <tr>\n                        <th id=\"T_1b58a_level0_row235\" class=\"row_heading level0 row235\" >235.0</th>\n                        <td id=\"T_1b58a_row235_col0\" class=\"data row235 col0\" >29</td>\n                        <td id=\"T_1b58a_row235_col1\" class=\"data row235 col1\" >44.83%</td>\n            </tr>\n            <tr>\n                        <th id=\"T_1b58a_level0_row236\" class=\"row_heading level0 row236\" >236.0</th>\n                        <td id=\"T_1b58a_row236_col0\" class=\"data row236 col0\" >45</td>\n                        <td id=\"T_1b58a_row236_col1\" class=\"data row236 col1\" >20.00%</td>\n            </tr>\n            <tr>\n                        <th id=\"T_1b58a_level0_row237\" class=\"row_heading level0 row237\" >237.0</th>\n                        <td id=\"T_1b58a_row237_col0\" class=\"data row237 col0\" >36</td>\n                        <td id=\"T_1b58a_row237_col1\" class=\"data row237 col1\" >38.89%</td>\n            </tr>\n            <tr>\n                        <th id=\"T_1b58a_level0_row238\" class=\"row_heading level0 row238\" >238.0</th>\n                        <td id=\"T_1b58a_row238_col0\" class=\"data row238 col0\" >37</td>\n                        <td id=\"T_1b58a_row238_col1\" class=\"data row238 col1\" >43.24%</td>\n            </tr>\n            <tr>\n                        <th id=\"T_1b58a_level0_row239\" class=\"row_heading level0 row239\" >239.0</th>\n                        <td id=\"T_1b58a_row239_col0\" class=\"data row239 col0\" >26</td>\n                        <td id=\"T_1b58a_row239_col1\" class=\"data row239 col1\" >46.15%</td>\n            </tr>\n            <tr>\n                        <th id=\"T_1b58a_level0_row240\" class=\"row_heading level0 row240\" >240.0</th>\n                        <td id=\"T_1b58a_row240_col0\" class=\"data row240 col0\" >29</td>\n                        <td id=\"T_1b58a_row240_col1\" class=\"data row240 col1\" >44.83%</td>\n            </tr>\n            <tr>\n                        <th id=\"T_1b58a_level0_row241\" class=\"row_heading level0 row241\" >241.0</th>\n                        <td id=\"T_1b58a_row241_col0\" class=\"data row241 col0\" >24</td>\n                        <td id=\"T_1b58a_row241_col1\" class=\"data row241 col1\" >54.17%</td>\n            </tr>\n            <tr>\n                        <th id=\"T_1b58a_level0_row242\" class=\"row_heading level0 row242\" >242.0</th>\n                        <td id=\"T_1b58a_row242_col0\" class=\"data row242 col0\" >14</td>\n                        <td id=\"T_1b58a_row242_col1\" class=\"data row242 col1\" >57.14%</td>\n            </tr>\n            <tr>\n                        <th id=\"T_1b58a_level0_row243\" class=\"row_heading level0 row243\" >243.0</th>\n                        <td id=\"T_1b58a_row243_col0\" class=\"data row243 col0\" >29</td>\n                        <td id=\"T_1b58a_row243_col1\" class=\"data row243 col1\" >44.83%</td>\n            </tr>\n            <tr>\n                        <th id=\"T_1b58a_level0_row244\" class=\"row_heading level0 row244\" >244.0</th>\n                        <td id=\"T_1b58a_row244_col0\" class=\"data row244 col0\" >31</td>\n                        <td id=\"T_1b58a_row244_col1\" class=\"data row244 col1\" >58.06%</td>\n            </tr>\n            <tr>\n                        <th id=\"T_1b58a_level0_row245\" class=\"row_heading level0 row245\" >245.0</th>\n                        <td id=\"T_1b58a_row245_col0\" class=\"data row245 col0\" >21</td>\n                        <td id=\"T_1b58a_row245_col1\" class=\"data row245 col1\" >61.90%</td>\n            </tr>\n            <tr>\n                        <th id=\"T_1b58a_level0_row246\" class=\"row_heading level0 row246\" >246.0</th>\n                        <td id=\"T_1b58a_row246_col0\" class=\"data row246 col0\" >18</td>\n                        <td id=\"T_1b58a_row246_col1\" class=\"data row246 col1\" >44.44%</td>\n            </tr>\n            <tr>\n                        <th id=\"T_1b58a_level0_row247\" class=\"row_heading level0 row247\" >247.0</th>\n                        <td id=\"T_1b58a_row247_col0\" class=\"data row247 col0\" >39</td>\n                        <td id=\"T_1b58a_row247_col1\" class=\"data row247 col1\" >43.59%</td>\n            </tr>\n            <tr>\n                        <th id=\"T_1b58a_level0_row248\" class=\"row_heading level0 row248\" >248.0</th>\n                        <td id=\"T_1b58a_row248_col0\" class=\"data row248 col0\" >18</td>\n                        <td id=\"T_1b58a_row248_col1\" class=\"data row248 col1\" >33.33%</td>\n            </tr>\n            <tr>\n                        <th id=\"T_1b58a_level0_row249\" class=\"row_heading level0 row249\" >249.0</th>\n                        <td id=\"T_1b58a_row249_col0\" class=\"data row249 col0\" >21</td>\n                        <td id=\"T_1b58a_row249_col1\" class=\"data row249 col1\" >42.86%</td>\n            </tr>\n            <tr>\n                        <th id=\"T_1b58a_level0_row250\" class=\"row_heading level0 row250\" >250.0</th>\n                        <td id=\"T_1b58a_row250_col0\" class=\"data row250 col0\" >24</td>\n                        <td id=\"T_1b58a_row250_col1\" class=\"data row250 col1\" >54.17%</td>\n            </tr>\n            <tr>\n                        <th id=\"T_1b58a_level0_row251\" class=\"row_heading level0 row251\" >251.0</th>\n                        <td id=\"T_1b58a_row251_col0\" class=\"data row251 col0\" >18</td>\n                        <td id=\"T_1b58a_row251_col1\" class=\"data row251 col1\" >44.44%</td>\n            </tr>\n            <tr>\n                        <th id=\"T_1b58a_level0_row252\" class=\"row_heading level0 row252\" >252.0</th>\n                        <td id=\"T_1b58a_row252_col0\" class=\"data row252 col0\" >24</td>\n                        <td id=\"T_1b58a_row252_col1\" class=\"data row252 col1\" >33.33%</td>\n            </tr>\n            <tr>\n                        <th id=\"T_1b58a_level0_row253\" class=\"row_heading level0 row253\" >253.0</th>\n                        <td id=\"T_1b58a_row253_col0\" class=\"data row253 col0\" >18</td>\n                        <td id=\"T_1b58a_row253_col1\" class=\"data row253 col1\" >22.22%</td>\n            </tr>\n            <tr>\n                        <th id=\"T_1b58a_level0_row254\" class=\"row_heading level0 row254\" >254.0</th>\n                        <td id=\"T_1b58a_row254_col0\" class=\"data row254 col0\" >22</td>\n                        <td id=\"T_1b58a_row254_col1\" class=\"data row254 col1\" >22.73%</td>\n            </tr>\n            <tr>\n                        <th id=\"T_1b58a_level0_row255\" class=\"row_heading level0 row255\" >255.0</th>\n                        <td id=\"T_1b58a_row255_col0\" class=\"data row255 col0\" >18</td>\n                        <td id=\"T_1b58a_row255_col1\" class=\"data row255 col1\" >44.44%</td>\n            </tr>\n            <tr>\n                        <th id=\"T_1b58a_level0_row256\" class=\"row_heading level0 row256\" >256.0</th>\n                        <td id=\"T_1b58a_row256_col0\" class=\"data row256 col0\" >40</td>\n                        <td id=\"T_1b58a_row256_col1\" class=\"data row256 col1\" >25.00%</td>\n            </tr>\n            <tr>\n                        <th id=\"T_1b58a_level0_row257\" class=\"row_heading level0 row257\" >257.0</th>\n                        <td id=\"T_1b58a_row257_col0\" class=\"data row257 col0\" >18</td>\n                        <td id=\"T_1b58a_row257_col1\" class=\"data row257 col1\" >44.44%</td>\n            </tr>\n            <tr>\n                        <th id=\"T_1b58a_level0_row258\" class=\"row_heading level0 row258\" >258.0</th>\n                        <td id=\"T_1b58a_row258_col0\" class=\"data row258 col0\" >28</td>\n                        <td id=\"T_1b58a_row258_col1\" class=\"data row258 col1\" >50.00%</td>\n            </tr>\n            <tr>\n                        <th id=\"T_1b58a_level0_row259\" class=\"row_heading level0 row259\" >259.0</th>\n                        <td id=\"T_1b58a_row259_col0\" class=\"data row259 col0\" >24</td>\n                        <td id=\"T_1b58a_row259_col1\" class=\"data row259 col1\" >37.50%</td>\n            </tr>\n            <tr>\n                        <th id=\"T_1b58a_level0_row260\" class=\"row_heading level0 row260\" >260.0</th>\n                        <td id=\"T_1b58a_row260_col0\" class=\"data row260 col0\" >15</td>\n                        <td id=\"T_1b58a_row260_col1\" class=\"data row260 col1\" >40.00%</td>\n            </tr>\n            <tr>\n                        <th id=\"T_1b58a_level0_row261\" class=\"row_heading level0 row261\" >261.0</th>\n                        <td id=\"T_1b58a_row261_col0\" class=\"data row261 col0\" >23</td>\n                        <td id=\"T_1b58a_row261_col1\" class=\"data row261 col1\" >52.17%</td>\n            </tr>\n            <tr>\n                        <th id=\"T_1b58a_level0_row262\" class=\"row_heading level0 row262\" >262.0</th>\n                        <td id=\"T_1b58a_row262_col0\" class=\"data row262 col0\" >21</td>\n                        <td id=\"T_1b58a_row262_col1\" class=\"data row262 col1\" >42.86%</td>\n            </tr>\n            <tr>\n                        <th id=\"T_1b58a_level0_row263\" class=\"row_heading level0 row263\" >263.0</th>\n                        <td id=\"T_1b58a_row263_col0\" class=\"data row263 col0\" >10</td>\n                        <td id=\"T_1b58a_row263_col1\" class=\"data row263 col1\" >70.00%</td>\n            </tr>\n            <tr>\n                        <th id=\"T_1b58a_level0_row264\" class=\"row_heading level0 row264\" >264.0</th>\n                        <td id=\"T_1b58a_row264_col0\" class=\"data row264 col0\" >10</td>\n                        <td id=\"T_1b58a_row264_col1\" class=\"data row264 col1\" >50.00%</td>\n            </tr>\n            <tr>\n                        <th id=\"T_1b58a_level0_row265\" class=\"row_heading level0 row265\" >265.0</th>\n                        <td id=\"T_1b58a_row265_col0\" class=\"data row265 col0\" >28</td>\n                        <td id=\"T_1b58a_row265_col1\" class=\"data row265 col1\" >46.43%</td>\n            </tr>\n            <tr>\n                        <th id=\"T_1b58a_level0_row266\" class=\"row_heading level0 row266\" >266.0</th>\n                        <td id=\"T_1b58a_row266_col0\" class=\"data row266 col0\" >18</td>\n                        <td id=\"T_1b58a_row266_col1\" class=\"data row266 col1\" >27.78%</td>\n            </tr>\n            <tr>\n                        <th id=\"T_1b58a_level0_row267\" class=\"row_heading level0 row267\" >267.0</th>\n                        <td id=\"T_1b58a_row267_col0\" class=\"data row267 col0\" >14</td>\n                        <td id=\"T_1b58a_row267_col1\" class=\"data row267 col1\" >71.43%</td>\n            </tr>\n            <tr>\n                        <th id=\"T_1b58a_level0_row268\" class=\"row_heading level0 row268\" >268.0</th>\n                        <td id=\"T_1b58a_row268_col0\" class=\"data row268 col0\" >21</td>\n                        <td id=\"T_1b58a_row268_col1\" class=\"data row268 col1\" >33.33%</td>\n            </tr>\n            <tr>\n                        <th id=\"T_1b58a_level0_row269\" class=\"row_heading level0 row269\" >269.0</th>\n                        <td id=\"T_1b58a_row269_col0\" class=\"data row269 col0\" >23</td>\n                        <td id=\"T_1b58a_row269_col1\" class=\"data row269 col1\" >39.13%</td>\n            </tr>\n            <tr>\n                        <th id=\"T_1b58a_level0_row270\" class=\"row_heading level0 row270\" >270.0</th>\n                        <td id=\"T_1b58a_row270_col0\" class=\"data row270 col0\" >17</td>\n                        <td id=\"T_1b58a_row270_col1\" class=\"data row270 col1\" >23.53%</td>\n            </tr>\n            <tr>\n                        <th id=\"T_1b58a_level0_row271\" class=\"row_heading level0 row271\" >271.0</th>\n                        <td id=\"T_1b58a_row271_col0\" class=\"data row271 col0\" >24</td>\n                        <td id=\"T_1b58a_row271_col1\" class=\"data row271 col1\" >25.00%</td>\n            </tr>\n            <tr>\n                        <th id=\"T_1b58a_level0_row272\" class=\"row_heading level0 row272\" >272.0</th>\n                        <td id=\"T_1b58a_row272_col0\" class=\"data row272 col0\" >20</td>\n                        <td id=\"T_1b58a_row272_col1\" class=\"data row272 col1\" >35.00%</td>\n            </tr>\n            <tr>\n                        <th id=\"T_1b58a_level0_row273\" class=\"row_heading level0 row273\" >273.0</th>\n                        <td id=\"T_1b58a_row273_col0\" class=\"data row273 col0\" >17</td>\n                        <td id=\"T_1b58a_row273_col1\" class=\"data row273 col1\" >52.94%</td>\n            </tr>\n            <tr>\n                        <th id=\"T_1b58a_level0_row274\" class=\"row_heading level0 row274\" >274.0</th>\n                        <td id=\"T_1b58a_row274_col0\" class=\"data row274 col0\" >12</td>\n                        <td id=\"T_1b58a_row274_col1\" class=\"data row274 col1\" >50.00%</td>\n            </tr>\n            <tr>\n                        <th id=\"T_1b58a_level0_row275\" class=\"row_heading level0 row275\" >275.0</th>\n                        <td id=\"T_1b58a_row275_col0\" class=\"data row275 col0\" >21</td>\n                        <td id=\"T_1b58a_row275_col1\" class=\"data row275 col1\" >61.90%</td>\n            </tr>\n            <tr>\n                        <th id=\"T_1b58a_level0_row276\" class=\"row_heading level0 row276\" >276.0</th>\n                        <td id=\"T_1b58a_row276_col0\" class=\"data row276 col0\" >18</td>\n                        <td id=\"T_1b58a_row276_col1\" class=\"data row276 col1\" >50.00%</td>\n            </tr>\n            <tr>\n                        <th id=\"T_1b58a_level0_row277\" class=\"row_heading level0 row277\" >277.0</th>\n                        <td id=\"T_1b58a_row277_col0\" class=\"data row277 col0\" >21</td>\n                        <td id=\"T_1b58a_row277_col1\" class=\"data row277 col1\" >33.33%</td>\n            </tr>\n            <tr>\n                        <th id=\"T_1b58a_level0_row278\" class=\"row_heading level0 row278\" >278.0</th>\n                        <td id=\"T_1b58a_row278_col0\" class=\"data row278 col0\" >16</td>\n                        <td id=\"T_1b58a_row278_col1\" class=\"data row278 col1\" >56.25%</td>\n            </tr>\n            <tr>\n                        <th id=\"T_1b58a_level0_row279\" class=\"row_heading level0 row279\" >279.0</th>\n                        <td id=\"T_1b58a_row279_col0\" class=\"data row279 col0\" >11</td>\n                        <td id=\"T_1b58a_row279_col1\" class=\"data row279 col1\" >63.64%</td>\n            </tr>\n            <tr>\n                        <th id=\"T_1b58a_level0_row280\" class=\"row_heading level0 row280\" >280.0</th>\n                        <td id=\"T_1b58a_row280_col0\" class=\"data row280 col0\" >18</td>\n                        <td id=\"T_1b58a_row280_col1\" class=\"data row280 col1\" >61.11%</td>\n            </tr>\n            <tr>\n                        <th id=\"T_1b58a_level0_row281\" class=\"row_heading level0 row281\" >281.0</th>\n                        <td id=\"T_1b58a_row281_col0\" class=\"data row281 col0\" >16</td>\n                        <td id=\"T_1b58a_row281_col1\" class=\"data row281 col1\" >56.25%</td>\n            </tr>\n            <tr>\n                        <th id=\"T_1b58a_level0_row282\" class=\"row_heading level0 row282\" >282.0</th>\n                        <td id=\"T_1b58a_row282_col0\" class=\"data row282 col0\" >17</td>\n                        <td id=\"T_1b58a_row282_col1\" class=\"data row282 col1\" >41.18%</td>\n            </tr>\n            <tr>\n                        <th id=\"T_1b58a_level0_row283\" class=\"row_heading level0 row283\" >283.0</th>\n                        <td id=\"T_1b58a_row283_col0\" class=\"data row283 col0\" >23</td>\n                        <td id=\"T_1b58a_row283_col1\" class=\"data row283 col1\" >47.83%</td>\n            </tr>\n            <tr>\n                        <th id=\"T_1b58a_level0_row284\" class=\"row_heading level0 row284\" >284.0</th>\n                        <td id=\"T_1b58a_row284_col0\" class=\"data row284 col0\" >4</td>\n                        <td id=\"T_1b58a_row284_col1\" class=\"data row284 col1\" >50.00%</td>\n            </tr>\n            <tr>\n                        <th id=\"T_1b58a_level0_row285\" class=\"row_heading level0 row285\" >285.0</th>\n                        <td id=\"T_1b58a_row285_col0\" class=\"data row285 col0\" >16</td>\n                        <td id=\"T_1b58a_row285_col1\" class=\"data row285 col1\" >12.50%</td>\n            </tr>\n            <tr>\n                        <th id=\"T_1b58a_level0_row286\" class=\"row_heading level0 row286\" >286.0</th>\n                        <td id=\"T_1b58a_row286_col0\" class=\"data row286 col0\" >25</td>\n                        <td id=\"T_1b58a_row286_col1\" class=\"data row286 col1\" >32.00%</td>\n            </tr>\n            <tr>\n                        <th id=\"T_1b58a_level0_row287\" class=\"row_heading level0 row287\" >287.0</th>\n                        <td id=\"T_1b58a_row287_col0\" class=\"data row287 col0\" >39</td>\n                        <td id=\"T_1b58a_row287_col1\" class=\"data row287 col1\" >15.38%</td>\n            </tr>\n            <tr>\n                        <th id=\"T_1b58a_level0_row288\" class=\"row_heading level0 row288\" >288.0</th>\n                        <td id=\"T_1b58a_row288_col0\" class=\"data row288 col0\" >22</td>\n                        <td id=\"T_1b58a_row288_col1\" class=\"data row288 col1\" >40.91%</td>\n            </tr>\n            <tr>\n                        <th id=\"T_1b58a_level0_row289\" class=\"row_heading level0 row289\" >289.0</th>\n                        <td id=\"T_1b58a_row289_col0\" class=\"data row289 col0\" >17</td>\n                        <td id=\"T_1b58a_row289_col1\" class=\"data row289 col1\" >47.06%</td>\n            </tr>\n            <tr>\n                        <th id=\"T_1b58a_level0_row290\" class=\"row_heading level0 row290\" >290.0</th>\n                        <td id=\"T_1b58a_row290_col0\" class=\"data row290 col0\" >20</td>\n                        <td id=\"T_1b58a_row290_col1\" class=\"data row290 col1\" >45.00%</td>\n            </tr>\n            <tr>\n                        <th id=\"T_1b58a_level0_row291\" class=\"row_heading level0 row291\" >291.0</th>\n                        <td id=\"T_1b58a_row291_col0\" class=\"data row291 col0\" >13</td>\n                        <td id=\"T_1b58a_row291_col1\" class=\"data row291 col1\" >30.77%</td>\n            </tr>\n            <tr>\n                        <th id=\"T_1b58a_level0_row292\" class=\"row_heading level0 row292\" >292.0</th>\n                        <td id=\"T_1b58a_row292_col0\" class=\"data row292 col0\" >32</td>\n                        <td id=\"T_1b58a_row292_col1\" class=\"data row292 col1\" >31.25%</td>\n            </tr>\n            <tr>\n                        <th id=\"T_1b58a_level0_row293\" class=\"row_heading level0 row293\" >293.0</th>\n                        <td id=\"T_1b58a_row293_col0\" class=\"data row293 col0\" >8</td>\n                        <td id=\"T_1b58a_row293_col1\" class=\"data row293 col1\" >100.00%</td>\n            </tr>\n            <tr>\n                        <th id=\"T_1b58a_level0_row294\" class=\"row_heading level0 row294\" >294.0</th>\n                        <td id=\"T_1b58a_row294_col0\" class=\"data row294 col0\" >20</td>\n                        <td id=\"T_1b58a_row294_col1\" class=\"data row294 col1\" >35.00%</td>\n            </tr>\n            <tr>\n                        <th id=\"T_1b58a_level0_row295\" class=\"row_heading level0 row295\" >295.0</th>\n                        <td id=\"T_1b58a_row295_col0\" class=\"data row295 col0\" >8</td>\n                        <td id=\"T_1b58a_row295_col1\" class=\"data row295 col1\" >87.50%</td>\n            </tr>\n            <tr>\n                        <th id=\"T_1b58a_level0_row296\" class=\"row_heading level0 row296\" >296.0</th>\n                        <td id=\"T_1b58a_row296_col0\" class=\"data row296 col0\" >10</td>\n                        <td id=\"T_1b58a_row296_col1\" class=\"data row296 col1\" >10.00%</td>\n            </tr>\n            <tr>\n                        <th id=\"T_1b58a_level0_row297\" class=\"row_heading level0 row297\" >297.0</th>\n                        <td id=\"T_1b58a_row297_col0\" class=\"data row297 col0\" >16</td>\n                        <td id=\"T_1b58a_row297_col1\" class=\"data row297 col1\" >43.75%</td>\n            </tr>\n            <tr>\n                        <th id=\"T_1b58a_level0_row298\" class=\"row_heading level0 row298\" >298.0</th>\n                        <td id=\"T_1b58a_row298_col0\" class=\"data row298 col0\" >8</td>\n                        <td id=\"T_1b58a_row298_col1\" class=\"data row298 col1\" >37.50%</td>\n            </tr>\n            <tr>\n                        <th id=\"T_1b58a_level0_row299\" class=\"row_heading level0 row299\" >299.0</th>\n                        <td id=\"T_1b58a_row299_col0\" class=\"data row299 col0\" >7</td>\n                        <td id=\"T_1b58a_row299_col1\" class=\"data row299 col1\" >71.43%</td>\n            </tr>\n            <tr>\n                        <th id=\"T_1b58a_level0_row300\" class=\"row_heading level0 row300\" >300.0</th>\n                        <td id=\"T_1b58a_row300_col0\" class=\"data row300 col0\" >5</td>\n                        <td id=\"T_1b58a_row300_col1\" class=\"data row300 col1\" >60.00%</td>\n            </tr>\n            <tr>\n                        <th id=\"T_1b58a_level0_row301\" class=\"row_heading level0 row301\" >301.0</th>\n                        <td id=\"T_1b58a_row301_col0\" class=\"data row301 col0\" >13</td>\n                        <td id=\"T_1b58a_row301_col1\" class=\"data row301 col1\" >30.77%</td>\n            </tr>\n            <tr>\n                        <th id=\"T_1b58a_level0_row302\" class=\"row_heading level0 row302\" >302.0</th>\n                        <td id=\"T_1b58a_row302_col0\" class=\"data row302 col0\" >8</td>\n                        <td id=\"T_1b58a_row302_col1\" class=\"data row302 col1\" >87.50%</td>\n            </tr>\n            <tr>\n                        <th id=\"T_1b58a_level0_row303\" class=\"row_heading level0 row303\" >303.0</th>\n                        <td id=\"T_1b58a_row303_col0\" class=\"data row303 col0\" >9</td>\n                        <td id=\"T_1b58a_row303_col1\" class=\"data row303 col1\" >55.56%</td>\n            </tr>\n            <tr>\n                        <th id=\"T_1b58a_level0_row304\" class=\"row_heading level0 row304\" >304.0</th>\n                        <td id=\"T_1b58a_row304_col0\" class=\"data row304 col0\" >15</td>\n                        <td id=\"T_1b58a_row304_col1\" class=\"data row304 col1\" >33.33%</td>\n            </tr>\n            <tr>\n                        <th id=\"T_1b58a_level0_row305\" class=\"row_heading level0 row305\" >305.0</th>\n                        <td id=\"T_1b58a_row305_col0\" class=\"data row305 col0\" >11</td>\n                        <td id=\"T_1b58a_row305_col1\" class=\"data row305 col1\" >54.55%</td>\n            </tr>\n            <tr>\n                        <th id=\"T_1b58a_level0_row306\" class=\"row_heading level0 row306\" >306.0</th>\n                        <td id=\"T_1b58a_row306_col0\" class=\"data row306 col0\" >3</td>\n                        <td id=\"T_1b58a_row306_col1\" class=\"data row306 col1\" >0.00%</td>\n            </tr>\n            <tr>\n                        <th id=\"T_1b58a_level0_row307\" class=\"row_heading level0 row307\" >307.0</th>\n                        <td id=\"T_1b58a_row307_col0\" class=\"data row307 col0\" >5</td>\n                        <td id=\"T_1b58a_row307_col1\" class=\"data row307 col1\" >40.00%</td>\n            </tr>\n            <tr>\n                        <th id=\"T_1b58a_level0_row308\" class=\"row_heading level0 row308\" >308.0</th>\n                        <td id=\"T_1b58a_row308_col0\" class=\"data row308 col0\" >13</td>\n                        <td id=\"T_1b58a_row308_col1\" class=\"data row308 col1\" >30.77%</td>\n            </tr>\n            <tr>\n                        <th id=\"T_1b58a_level0_row309\" class=\"row_heading level0 row309\" >309.0</th>\n                        <td id=\"T_1b58a_row309_col0\" class=\"data row309 col0\" >9</td>\n                        <td id=\"T_1b58a_row309_col1\" class=\"data row309 col1\" >55.56%</td>\n            </tr>\n            <tr>\n                        <th id=\"T_1b58a_level0_row310\" class=\"row_heading level0 row310\" >310.0</th>\n                        <td id=\"T_1b58a_row310_col0\" class=\"data row310 col0\" >4</td>\n                        <td id=\"T_1b58a_row310_col1\" class=\"data row310 col1\" >50.00%</td>\n            </tr>\n            <tr>\n                        <th id=\"T_1b58a_level0_row311\" class=\"row_heading level0 row311\" >311.0</th>\n                        <td id=\"T_1b58a_row311_col0\" class=\"data row311 col0\" >7</td>\n                        <td id=\"T_1b58a_row311_col1\" class=\"data row311 col1\" >57.14%</td>\n            </tr>\n            <tr>\n                        <th id=\"T_1b58a_level0_row312\" class=\"row_heading level0 row312\" >312.0</th>\n                        <td id=\"T_1b58a_row312_col0\" class=\"data row312 col0\" >4</td>\n                        <td id=\"T_1b58a_row312_col1\" class=\"data row312 col1\" >75.00%</td>\n            </tr>\n            <tr>\n                        <th id=\"T_1b58a_level0_row313\" class=\"row_heading level0 row313\" >313.0</th>\n                        <td id=\"T_1b58a_row313_col0\" class=\"data row313 col0\" >5</td>\n                        <td id=\"T_1b58a_row313_col1\" class=\"data row313 col1\" >60.00%</td>\n            </tr>\n            <tr>\n                        <th id=\"T_1b58a_level0_row314\" class=\"row_heading level0 row314\" >314.0</th>\n                        <td id=\"T_1b58a_row314_col0\" class=\"data row314 col0\" >6</td>\n                        <td id=\"T_1b58a_row314_col1\" class=\"data row314 col1\" >83.33%</td>\n            </tr>\n            <tr>\n                        <th id=\"T_1b58a_level0_row315\" class=\"row_heading level0 row315\" >315.0</th>\n                        <td id=\"T_1b58a_row315_col0\" class=\"data row315 col0\" >15</td>\n                        <td id=\"T_1b58a_row315_col1\" class=\"data row315 col1\" >53.33%</td>\n            </tr>\n            <tr>\n                        <th id=\"T_1b58a_level0_row316\" class=\"row_heading level0 row316\" >316.0</th>\n                        <td id=\"T_1b58a_row316_col0\" class=\"data row316 col0\" >21</td>\n                        <td id=\"T_1b58a_row316_col1\" class=\"data row316 col1\" >28.57%</td>\n            </tr>\n            <tr>\n                        <th id=\"T_1b58a_level0_row317\" class=\"row_heading level0 row317\" >317.0</th>\n                        <td id=\"T_1b58a_row317_col0\" class=\"data row317 col0\" >11</td>\n                        <td id=\"T_1b58a_row317_col1\" class=\"data row317 col1\" >63.64%</td>\n            </tr>\n            <tr>\n                        <th id=\"T_1b58a_level0_row318\" class=\"row_heading level0 row318\" >318.0</th>\n                        <td id=\"T_1b58a_row318_col0\" class=\"data row318 col0\" >3</td>\n                        <td id=\"T_1b58a_row318_col1\" class=\"data row318 col1\" >33.33%</td>\n            </tr>\n            <tr>\n                        <th id=\"T_1b58a_level0_row319\" class=\"row_heading level0 row319\" >319.0</th>\n                        <td id=\"T_1b58a_row319_col0\" class=\"data row319 col0\" >3</td>\n                        <td id=\"T_1b58a_row319_col1\" class=\"data row319 col1\" >66.67%</td>\n            </tr>\n            <tr>\n                        <th id=\"T_1b58a_level0_row320\" class=\"row_heading level0 row320\" >320.0</th>\n                        <td id=\"T_1b58a_row320_col0\" class=\"data row320 col0\" >10</td>\n                        <td id=\"T_1b58a_row320_col1\" class=\"data row320 col1\" >30.00%</td>\n            </tr>\n            <tr>\n                        <th id=\"T_1b58a_level0_row321\" class=\"row_heading level0 row321\" >321.0</th>\n                        <td id=\"T_1b58a_row321_col0\" class=\"data row321 col0\" >5</td>\n                        <td id=\"T_1b58a_row321_col1\" class=\"data row321 col1\" >80.00%</td>\n            </tr>\n            <tr>\n                        <th id=\"T_1b58a_level0_row322\" class=\"row_heading level0 row322\" >322.0</th>\n                        <td id=\"T_1b58a_row322_col0\" class=\"data row322 col0\" >9</td>\n                        <td id=\"T_1b58a_row322_col1\" class=\"data row322 col1\" >44.44%</td>\n            </tr>\n            <tr>\n                        <th id=\"T_1b58a_level0_row323\" class=\"row_heading level0 row323\" >323.0</th>\n                        <td id=\"T_1b58a_row323_col0\" class=\"data row323 col0\" >11</td>\n                        <td id=\"T_1b58a_row323_col1\" class=\"data row323 col1\" >72.73%</td>\n            </tr>\n            <tr>\n                        <th id=\"T_1b58a_level0_row324\" class=\"row_heading level0 row324\" >324.0</th>\n                        <td id=\"T_1b58a_row324_col0\" class=\"data row324 col0\" >3</td>\n                        <td id=\"T_1b58a_row324_col1\" class=\"data row324 col1\" >66.67%</td>\n            </tr>\n            <tr>\n                        <th id=\"T_1b58a_level0_row325\" class=\"row_heading level0 row325\" >325.0</th>\n                        <td id=\"T_1b58a_row325_col0\" class=\"data row325 col0\" >5</td>\n                        <td id=\"T_1b58a_row325_col1\" class=\"data row325 col1\" >80.00%</td>\n            </tr>\n            <tr>\n                        <th id=\"T_1b58a_level0_row326\" class=\"row_heading level0 row326\" >326.0</th>\n                        <td id=\"T_1b58a_row326_col0\" class=\"data row326 col0\" >5</td>\n                        <td id=\"T_1b58a_row326_col1\" class=\"data row326 col1\" >20.00%</td>\n            </tr>\n            <tr>\n                        <th id=\"T_1b58a_level0_row327\" class=\"row_heading level0 row327\" >327.0</th>\n                        <td id=\"T_1b58a_row327_col0\" class=\"data row327 col0\" >11</td>\n                        <td id=\"T_1b58a_row327_col1\" class=\"data row327 col1\" >36.36%</td>\n            </tr>\n            <tr>\n                        <th id=\"T_1b58a_level0_row328\" class=\"row_heading level0 row328\" >328.0</th>\n                        <td id=\"T_1b58a_row328_col0\" class=\"data row328 col0\" >9</td>\n                        <td id=\"T_1b58a_row328_col1\" class=\"data row328 col1\" >11.11%</td>\n            </tr>\n            <tr>\n                        <th id=\"T_1b58a_level0_row329\" class=\"row_heading level0 row329\" >329.0</th>\n                        <td id=\"T_1b58a_row329_col0\" class=\"data row329 col0\" >3</td>\n                        <td id=\"T_1b58a_row329_col1\" class=\"data row329 col1\" >66.67%</td>\n            </tr>\n            <tr>\n                        <th id=\"T_1b58a_level0_row330\" class=\"row_heading level0 row330\" >330.0</th>\n                        <td id=\"T_1b58a_row330_col0\" class=\"data row330 col0\" >8</td>\n                        <td id=\"T_1b58a_row330_col1\" class=\"data row330 col1\" >75.00%</td>\n            </tr>\n            <tr>\n                        <th id=\"T_1b58a_level0_row331\" class=\"row_heading level0 row331\" >331.0</th>\n                        <td id=\"T_1b58a_row331_col0\" class=\"data row331 col0\" >2</td>\n                        <td id=\"T_1b58a_row331_col1\" class=\"data row331 col1\" >100.00%</td>\n            </tr>\n            <tr>\n                        <th id=\"T_1b58a_level0_row332\" class=\"row_heading level0 row332\" >332.0</th>\n                        <td id=\"T_1b58a_row332_col0\" class=\"data row332 col0\" >5</td>\n                        <td id=\"T_1b58a_row332_col1\" class=\"data row332 col1\" >40.00%</td>\n            </tr>\n            <tr>\n                        <th id=\"T_1b58a_level0_row333\" class=\"row_heading level0 row333\" >333.0</th>\n                        <td id=\"T_1b58a_row333_col0\" class=\"data row333 col0\" >12</td>\n                        <td id=\"T_1b58a_row333_col1\" class=\"data row333 col1\" >75.00%</td>\n            </tr>\n            <tr>\n                        <th id=\"T_1b58a_level0_row334\" class=\"row_heading level0 row334\" >334.0</th>\n                        <td id=\"T_1b58a_row334_col0\" class=\"data row334 col0\" >5</td>\n                        <td id=\"T_1b58a_row334_col1\" class=\"data row334 col1\" >40.00%</td>\n            </tr>\n            <tr>\n                        <th id=\"T_1b58a_level0_row335\" class=\"row_heading level0 row335\" >335.0</th>\n                        <td id=\"T_1b58a_row335_col0\" class=\"data row335 col0\" >16</td>\n                        <td id=\"T_1b58a_row335_col1\" class=\"data row335 col1\" >25.00%</td>\n            </tr>\n            <tr>\n                        <th id=\"T_1b58a_level0_row336\" class=\"row_heading level0 row336\" >336.0</th>\n                        <td id=\"T_1b58a_row336_col0\" class=\"data row336 col0\" >31</td>\n                        <td id=\"T_1b58a_row336_col1\" class=\"data row336 col1\" >12.90%</td>\n            </tr>\n            <tr>\n                        <th id=\"T_1b58a_level0_row337\" class=\"row_heading level0 row337\" >337.0</th>\n                        <td id=\"T_1b58a_row337_col0\" class=\"data row337 col0\" >7</td>\n                        <td id=\"T_1b58a_row337_col1\" class=\"data row337 col1\" >57.14%</td>\n            </tr>\n            <tr>\n                        <th id=\"T_1b58a_level0_row338\" class=\"row_heading level0 row338\" >338.0</th>\n                        <td id=\"T_1b58a_row338_col0\" class=\"data row338 col0\" >6</td>\n                        <td id=\"T_1b58a_row338_col1\" class=\"data row338 col1\" >33.33%</td>\n            </tr>\n            <tr>\n                        <th id=\"T_1b58a_level0_row339\" class=\"row_heading level0 row339\" >339.0</th>\n                        <td id=\"T_1b58a_row339_col0\" class=\"data row339 col0\" >6</td>\n                        <td id=\"T_1b58a_row339_col1\" class=\"data row339 col1\" >33.33%</td>\n            </tr>\n            <tr>\n                        <th id=\"T_1b58a_level0_row340\" class=\"row_heading level0 row340\" >340.0</th>\n                        <td id=\"T_1b58a_row340_col0\" class=\"data row340 col0\" >1</td>\n                        <td id=\"T_1b58a_row340_col1\" class=\"data row340 col1\" >0.00%</td>\n            </tr>\n            <tr>\n                        <th id=\"T_1b58a_level0_row341\" class=\"row_heading level0 row341\" >341.0</th>\n                        <td id=\"T_1b58a_row341_col0\" class=\"data row341 col0\" >3</td>\n                        <td id=\"T_1b58a_row341_col1\" class=\"data row341 col1\" >100.00%</td>\n            </tr>\n            <tr>\n                        <th id=\"T_1b58a_level0_row342\" class=\"row_heading level0 row342\" >342.0</th>\n                        <td id=\"T_1b58a_row342_col0\" class=\"data row342 col0\" >13</td>\n                        <td id=\"T_1b58a_row342_col1\" class=\"data row342 col1\" >23.08%</td>\n            </tr>\n            <tr>\n                        <th id=\"T_1b58a_level0_row343\" class=\"row_heading level0 row343\" >343.0</th>\n                        <td id=\"T_1b58a_row343_col0\" class=\"data row343 col0\" >7</td>\n                        <td id=\"T_1b58a_row343_col1\" class=\"data row343 col1\" >42.86%</td>\n            </tr>\n            <tr>\n                        <th id=\"T_1b58a_level0_row344\" class=\"row_heading level0 row344\" >344.0</th>\n                        <td id=\"T_1b58a_row344_col0\" class=\"data row344 col0\" >4</td>\n                        <td id=\"T_1b58a_row344_col1\" class=\"data row344 col1\" >100.00%</td>\n            </tr>\n            <tr>\n                        <th id=\"T_1b58a_level0_row345\" class=\"row_heading level0 row345\" >345.0</th>\n                        <td id=\"T_1b58a_row345_col0\" class=\"data row345 col0\" >2</td>\n                        <td id=\"T_1b58a_row345_col1\" class=\"data row345 col1\" >50.00%</td>\n            </tr>\n            <tr>\n                        <th id=\"T_1b58a_level0_row346\" class=\"row_heading level0 row346\" >346.0</th>\n                        <td id=\"T_1b58a_row346_col0\" class=\"data row346 col0\" >9</td>\n                        <td id=\"T_1b58a_row346_col1\" class=\"data row346 col1\" >44.44%</td>\n            </tr>\n            <tr>\n                        <th id=\"T_1b58a_level0_row347\" class=\"row_heading level0 row347\" >347.0</th>\n                        <td id=\"T_1b58a_row347_col0\" class=\"data row347 col0\" >3</td>\n                        <td id=\"T_1b58a_row347_col1\" class=\"data row347 col1\" >66.67%</td>\n            </tr>\n            <tr>\n                        <th id=\"T_1b58a_level0_row348\" class=\"row_heading level0 row348\" >348.0</th>\n                        <td id=\"T_1b58a_row348_col0\" class=\"data row348 col0\" >4</td>\n                        <td id=\"T_1b58a_row348_col1\" class=\"data row348 col1\" >50.00%</td>\n            </tr>\n            <tr>\n                        <th id=\"T_1b58a_level0_row349\" class=\"row_heading level0 row349\" >349.0</th>\n                        <td id=\"T_1b58a_row349_col0\" class=\"data row349 col0\" >9</td>\n                        <td id=\"T_1b58a_row349_col1\" class=\"data row349 col1\" >55.56%</td>\n            </tr>\n            <tr>\n                        <th id=\"T_1b58a_level0_row350\" class=\"row_heading level0 row350\" >350.0</th>\n                        <td id=\"T_1b58a_row350_col0\" class=\"data row350 col0\" >6</td>\n                        <td id=\"T_1b58a_row350_col1\" class=\"data row350 col1\" >50.00%</td>\n            </tr>\n            <tr>\n                        <th id=\"T_1b58a_level0_row351\" class=\"row_heading level0 row351\" >351.0</th>\n                        <td id=\"T_1b58a_row351_col0\" class=\"data row351 col0\" >5</td>\n                        <td id=\"T_1b58a_row351_col1\" class=\"data row351 col1\" >100.00%</td>\n            </tr>\n            <tr>\n                        <th id=\"T_1b58a_level0_row352\" class=\"row_heading level0 row352\" >352.0</th>\n                        <td id=\"T_1b58a_row352_col0\" class=\"data row352 col0\" >1</td>\n                        <td id=\"T_1b58a_row352_col1\" class=\"data row352 col1\" >0.00%</td>\n            </tr>\n            <tr>\n                        <th id=\"T_1b58a_level0_row353\" class=\"row_heading level0 row353\" >353.0</th>\n                        <td id=\"T_1b58a_row353_col0\" class=\"data row353 col0\" >2</td>\n                        <td id=\"T_1b58a_row353_col1\" class=\"data row353 col1\" >50.00%</td>\n            </tr>\n            <tr>\n                        <th id=\"T_1b58a_level0_row354\" class=\"row_heading level0 row354\" >354.0</th>\n                        <td id=\"T_1b58a_row354_col0\" class=\"data row354 col0\" >2</td>\n                        <td id=\"T_1b58a_row354_col1\" class=\"data row354 col1\" >0.00%</td>\n            </tr>\n            <tr>\n                        <th id=\"T_1b58a_level0_row355\" class=\"row_heading level0 row355\" >355.0</th>\n                        <td id=\"T_1b58a_row355_col0\" class=\"data row355 col0\" >5</td>\n                        <td id=\"T_1b58a_row355_col1\" class=\"data row355 col1\" >80.00%</td>\n            </tr>\n            <tr>\n                        <th id=\"T_1b58a_level0_row356\" class=\"row_heading level0 row356\" >356.0</th>\n                        <td id=\"T_1b58a_row356_col0\" class=\"data row356 col0\" >2</td>\n                        <td id=\"T_1b58a_row356_col1\" class=\"data row356 col1\" >50.00%</td>\n            </tr>\n            <tr>\n                        <th id=\"T_1b58a_level0_row357\" class=\"row_heading level0 row357\" >358.0</th>\n                        <td id=\"T_1b58a_row357_col0\" class=\"data row357 col0\" >4</td>\n                        <td id=\"T_1b58a_row357_col1\" class=\"data row357 col1\" >100.00%</td>\n            </tr>\n            <tr>\n                        <th id=\"T_1b58a_level0_row358\" class=\"row_heading level0 row358\" >359.0</th>\n                        <td id=\"T_1b58a_row358_col0\" class=\"data row358 col0\" >8</td>\n                        <td id=\"T_1b58a_row358_col1\" class=\"data row358 col1\" >12.50%</td>\n            </tr>\n            <tr>\n                        <th id=\"T_1b58a_level0_row359\" class=\"row_heading level0 row359\" >360.0</th>\n                        <td id=\"T_1b58a_row359_col0\" class=\"data row359 col0\" >5</td>\n                        <td id=\"T_1b58a_row359_col1\" class=\"data row359 col1\" >60.00%</td>\n            </tr>\n            <tr>\n                        <th id=\"T_1b58a_level0_row360\" class=\"row_heading level0 row360\" >361.0</th>\n                        <td id=\"T_1b58a_row360_col0\" class=\"data row360 col0\" >2</td>\n                        <td id=\"T_1b58a_row360_col1\" class=\"data row360 col1\" >100.00%</td>\n            </tr>\n            <tr>\n                        <th id=\"T_1b58a_level0_row361\" class=\"row_heading level0 row361\" >362.0</th>\n                        <td id=\"T_1b58a_row361_col0\" class=\"data row361 col0\" >1</td>\n                        <td id=\"T_1b58a_row361_col1\" class=\"data row361 col1\" >0.00%</td>\n            </tr>\n            <tr>\n                        <th id=\"T_1b58a_level0_row362\" class=\"row_heading level0 row362\" >363.0</th>\n                        <td id=\"T_1b58a_row362_col0\" class=\"data row362 col0\" >8</td>\n                        <td id=\"T_1b58a_row362_col1\" class=\"data row362 col1\" >12.50%</td>\n            </tr>\n            <tr>\n                        <th id=\"T_1b58a_level0_row363\" class=\"row_heading level0 row363\" >364.0</th>\n                        <td id=\"T_1b58a_row363_col0\" class=\"data row363 col0\" >32</td>\n                        <td id=\"T_1b58a_row363_col1\" class=\"data row363 col1\" >12.50%</td>\n            </tr>\n            <tr>\n                        <th id=\"T_1b58a_level0_row364\" class=\"row_heading level0 row364\" >365.0</th>\n                        <td id=\"T_1b58a_row364_col0\" class=\"data row364 col0\" >8</td>\n                        <td id=\"T_1b58a_row364_col1\" class=\"data row364 col1\" >37.50%</td>\n            </tr>\n            <tr>\n                        <th id=\"T_1b58a_level0_row365\" class=\"row_heading level0 row365\" >367.0</th>\n                        <td id=\"T_1b58a_row365_col0\" class=\"data row365 col0\" >1</td>\n                        <td id=\"T_1b58a_row365_col1\" class=\"data row365 col1\" >100.00%</td>\n            </tr>\n            <tr>\n                        <th id=\"T_1b58a_level0_row366\" class=\"row_heading level0 row366\" >372.0</th>\n                        <td id=\"T_1b58a_row366_col0\" class=\"data row366 col0\" >3</td>\n                        <td id=\"T_1b58a_row366_col1\" class=\"data row366 col1\" >100.00%</td>\n            </tr>\n            <tr>\n                        <th id=\"T_1b58a_level0_row367\" class=\"row_heading level0 row367\" >373.0</th>\n                        <td id=\"T_1b58a_row367_col0\" class=\"data row367 col0\" >1</td>\n                        <td id=\"T_1b58a_row367_col1\" class=\"data row367 col1\" >0.00%</td>\n            </tr>\n            <tr>\n                        <th id=\"T_1b58a_level0_row368\" class=\"row_heading level0 row368\" >374.0</th>\n                        <td id=\"T_1b58a_row368_col0\" class=\"data row368 col0\" >1</td>\n                        <td id=\"T_1b58a_row368_col1\" class=\"data row368 col1\" >100.00%</td>\n            </tr>\n    </tbody></table>"
     },
     "execution_count": 28,
     "metadata": {},
     "output_type": "execute_result"
    }
   ],
   "source": [
    "hotel_train.pivot_table(index=['lead_time'], \n",
    "                 values='is_canceled', \n",
    "                 aggfunc=['count', 'mean'])\\\n",
    "                    .style.format({('mean', 'is_canceled'): '{:.2%}'})"
   ]
  },
  {
   "cell_type": "code",
   "execution_count": 29,
   "metadata": {},
   "outputs": [
    {
     "data": {
      "text/plain": "<pandas.io.formats.style.Styler at 0x7f87356fa790>",
      "text/html": "<style  type=\"text/css\" >\n</style><table id=\"T_06d18_\" ><thead>    <tr>        <th class=\"blank level0\" ></th>        <th class=\"col_heading level0 col0\" >count</th>        <th class=\"col_heading level0 col1\" >mean</th>    </tr>    <tr>        <th class=\"blank level1\" ></th>        <th class=\"col_heading level1 col0\" >is_canceled</th>        <th class=\"col_heading level1 col1\" >is_canceled</th>    </tr>    <tr>        <th class=\"index_name level0\" >arrival_date_month</th>        <th class=\"blank\" ></th>        <th class=\"blank\" ></th>    </tr></thead><tbody>\n                <tr>\n                        <th id=\"T_06d18_level0_row0\" class=\"row_heading level0 row0\" >April</th>\n                        <td id=\"T_06d18_row0_col0\" class=\"data row0 col0\" >3219</td>\n                        <td id=\"T_06d18_row0_col1\" class=\"data row0 col1\" >27.56%</td>\n            </tr>\n            <tr>\n                        <th id=\"T_06d18_level0_row1\" class=\"row_heading level0 row1\" >August</th>\n                        <td id=\"T_06d18_row1_col0\" class=\"data row1 col0\" >4725</td>\n                        <td id=\"T_06d18_row1_col1\" class=\"data row1 col1\" >28.70%</td>\n            </tr>\n            <tr>\n                        <th id=\"T_06d18_level0_row2\" class=\"row_heading level0 row2\" >December</th>\n                        <td id=\"T_06d18_row2_col0\" class=\"data row2 col0\" >4135</td>\n                        <td id=\"T_06d18_row2_col1\" class=\"data row2 col1\" >27.45%</td>\n            </tr>\n            <tr>\n                        <th id=\"T_06d18_level0_row3\" class=\"row_heading level0 row3\" >February</th>\n                        <td id=\"T_06d18_row3_col0\" class=\"data row3 col0\" >2300</td>\n                        <td id=\"T_06d18_row3_col1\" class=\"data row3 col1\" >18.30%</td>\n            </tr>\n            <tr>\n                        <th id=\"T_06d18_level0_row4\" class=\"row_heading level0 row4\" >January</th>\n                        <td id=\"T_06d18_row4_col0\" class=\"data row4 col0\" >1471</td>\n                        <td id=\"T_06d18_row4_col1\" class=\"data row4 col1\" >16.11%</td>\n            </tr>\n            <tr>\n                        <th id=\"T_06d18_level0_row5\" class=\"row_heading level0 row5\" >July</th>\n                        <td id=\"T_06d18_row5_col0\" class=\"data row5 col0\" >4016</td>\n                        <td id=\"T_06d18_row5_col1\" class=\"data row5 col1\" >29.81%</td>\n            </tr>\n            <tr>\n                        <th id=\"T_06d18_level0_row6\" class=\"row_heading level0 row6\" >June</th>\n                        <td id=\"T_06d18_row6_col0\" class=\"data row6 col0\" >2828</td>\n                        <td id=\"T_06d18_row6_col1\" class=\"data row6 col1\" >26.87%</td>\n            </tr>\n            <tr>\n                        <th id=\"T_06d18_level0_row7\" class=\"row_heading level0 row7\" >March</th>\n                        <td id=\"T_06d18_row7_col0\" class=\"data row7 col0\" >3247</td>\n                        <td id=\"T_06d18_row7_col1\" class=\"data row7 col1\" >24.18%</td>\n            </tr>\n            <tr>\n                        <th id=\"T_06d18_level0_row8\" class=\"row_heading level0 row8\" >May</th>\n                        <td id=\"T_06d18_row8_col0\" class=\"data row8 col0\" >3086</td>\n                        <td id=\"T_06d18_row8_col1\" class=\"data row8 col1\" >25.73%</td>\n            </tr>\n            <tr>\n                        <th id=\"T_06d18_level0_row9\" class=\"row_heading level0 row9\" >November</th>\n                        <td id=\"T_06d18_row9_col0\" class=\"data row9 col0\" >4099</td>\n                        <td id=\"T_06d18_row9_col1\" class=\"data row9 col1\" >21.59%</td>\n            </tr>\n            <tr>\n                        <th id=\"T_06d18_level0_row10\" class=\"row_heading level0 row10\" >October</th>\n                        <td id=\"T_06d18_row10_col0\" class=\"data row10 col0\" >5514</td>\n                        <td id=\"T_06d18_row10_col1\" class=\"data row10 col1\" >24.68%</td>\n            </tr>\n            <tr>\n                        <th id=\"T_06d18_level0_row11\" class=\"row_heading level0 row11\" >September</th>\n                        <td id=\"T_06d18_row11_col0\" class=\"data row11 col0\" >5212</td>\n                        <td id=\"T_06d18_row11_col1\" class=\"data row11 col1\" >25.52%</td>\n            </tr>\n    </tbody></table>"
     },
     "metadata": {},
     "output_type": "display_data"
    },
    {
     "data": {
      "text/plain": "<pandas.io.formats.style.Styler at 0x7f87374ce2b0>",
      "text/html": "<style  type=\"text/css\" >\n</style><table id=\"T_25799_\" ><thead>    <tr>        <th class=\"blank level0\" ></th>        <th class=\"col_heading level0 col0\" >count</th>        <th class=\"col_heading level0 col1\" >mean</th>    </tr>    <tr>        <th class=\"blank level1\" ></th>        <th class=\"col_heading level1 col0\" >is_canceled</th>        <th class=\"col_heading level1 col1\" >is_canceled</th>    </tr>    <tr>        <th class=\"index_name level0\" >adults</th>        <th class=\"blank\" ></th>        <th class=\"blank\" ></th>    </tr></thead><tbody>\n                <tr>\n                        <th id=\"T_25799_level0_row0\" class=\"row_heading level0 row0\" >0.0</th>\n                        <td id=\"T_25799_row0_col0\" class=\"data row0 col0\" >164</td>\n                        <td id=\"T_25799_row0_col1\" class=\"data row0 col1\" >29.27%</td>\n            </tr>\n            <tr>\n                        <th id=\"T_25799_level0_row1\" class=\"row_heading level0 row1\" >1.0</th>\n                        <td id=\"T_25799_row1_col0\" class=\"data row1 col0\" >8688</td>\n                        <td id=\"T_25799_row1_col1\" class=\"data row1 col1\" >19.30%</td>\n            </tr>\n            <tr>\n                        <th id=\"T_25799_level0_row2\" class=\"row_heading level0 row2\" >2.0</th>\n                        <td id=\"T_25799_row2_col0\" class=\"data row2 col0\" >32299</td>\n                        <td id=\"T_25799_row2_col1\" class=\"data row2 col1\" >26.73%</td>\n            </tr>\n            <tr>\n                        <th id=\"T_25799_level0_row3\" class=\"row_heading level0 row3\" >3.0</th>\n                        <td id=\"T_25799_row3_col0\" class=\"data row3 col0\" >2688</td>\n                        <td id=\"T_25799_row3_col1\" class=\"data row3 col1\" >29.32%</td>\n            </tr>\n            <tr>\n                        <th id=\"T_25799_level0_row4\" class=\"row_heading level0 row4\" >4.0</th>\n                        <td id=\"T_25799_row4_col0\" class=\"data row4 col0\" >13</td>\n                        <td id=\"T_25799_row4_col1\" class=\"data row4 col1\" >7.69%</td>\n            </tr>\n    </tbody></table>"
     },
     "metadata": {},
     "output_type": "display_data"
    },
    {
     "data": {
      "text/plain": "<pandas.io.formats.style.Styler at 0x7f87367648b0>",
      "text/html": "<style  type=\"text/css\" >\n</style><table id=\"T_85404_\" ><thead>    <tr>        <th class=\"blank level0\" ></th>        <th class=\"col_heading level0 col0\" >count</th>        <th class=\"col_heading level0 col1\" >mean</th>    </tr>    <tr>        <th class=\"blank level1\" ></th>        <th class=\"col_heading level1 col0\" >is_canceled</th>        <th class=\"col_heading level1 col1\" >is_canceled</th>    </tr>    <tr>        <th class=\"index_name level0\" >children</th>        <th class=\"blank\" ></th>        <th class=\"blank\" ></th>    </tr></thead><tbody>\n                <tr>\n                        <th id=\"T_85404_level0_row0\" class=\"row_heading level0 row0\" >0.0</th>\n                        <td id=\"T_85404_row0_col0\" class=\"data row0 col0\" >40471</td>\n                        <td id=\"T_85404_row0_col1\" class=\"data row0 col1\" >24.99%</td>\n            </tr>\n            <tr>\n                        <th id=\"T_85404_level0_row1\" class=\"row_heading level0 row1\" >1.0</th>\n                        <td id=\"T_85404_row1_col0\" class=\"data row1 col0\" >2060</td>\n                        <td id=\"T_85404_row1_col1\" class=\"data row1 col1\" >27.28%</td>\n            </tr>\n            <tr>\n                        <th id=\"T_85404_level0_row2\" class=\"row_heading level0 row2\" >2.0</th>\n                        <td id=\"T_85404_row2_col0\" class=\"data row2 col0\" >1305</td>\n                        <td id=\"T_85404_row2_col1\" class=\"data row2 col1\" >35.86%</td>\n            </tr>\n            <tr>\n                        <th id=\"T_85404_level0_row3\" class=\"row_heading level0 row3\" >3.0</th>\n                        <td id=\"T_85404_row3_col0\" class=\"data row3 col0\" >16</td>\n                        <td id=\"T_85404_row3_col1\" class=\"data row3 col1\" >37.50%</td>\n            </tr>\n    </tbody></table>"
     },
     "metadata": {},
     "output_type": "display_data"
    },
    {
     "data": {
      "text/plain": "<pandas.io.formats.style.Styler at 0x7f8736764d00>",
      "text/html": "<style  type=\"text/css\" >\n</style><table id=\"T_6c870_\" ><thead>    <tr>        <th class=\"blank level0\" ></th>        <th class=\"col_heading level0 col0\" >count</th>        <th class=\"col_heading level0 col1\" >mean</th>    </tr>    <tr>        <th class=\"blank level1\" ></th>        <th class=\"col_heading level1 col0\" >is_canceled</th>        <th class=\"col_heading level1 col1\" >is_canceled</th>    </tr>    <tr>        <th class=\"index_name level0\" >babies</th>        <th class=\"blank\" ></th>        <th class=\"blank\" ></th>    </tr></thead><tbody>\n                <tr>\n                        <th id=\"T_6c870_level0_row0\" class=\"row_heading level0 row0\" >0.0</th>\n                        <td id=\"T_6c870_row0_col0\" class=\"data row0 col0\" >43403</td>\n                        <td id=\"T_6c870_row0_col1\" class=\"data row0 col1\" >25.50%</td>\n            </tr>\n            <tr>\n                        <th id=\"T_6c870_level0_row1\" class=\"row_heading level0 row1\" >1.0</th>\n                        <td id=\"T_6c870_row1_col0\" class=\"data row1 col0\" >444</td>\n                        <td id=\"T_6c870_row1_col1\" class=\"data row1 col1\" >18.24%</td>\n            </tr>\n            <tr>\n                        <th id=\"T_6c870_level0_row2\" class=\"row_heading level0 row2\" >2.0</th>\n                        <td id=\"T_6c870_row2_col0\" class=\"data row2 col0\" >3</td>\n                        <td id=\"T_6c870_row2_col1\" class=\"data row2 col1\" >0.00%</td>\n            </tr>\n            <tr>\n                        <th id=\"T_6c870_level0_row3\" class=\"row_heading level0 row3\" >9.0</th>\n                        <td id=\"T_6c870_row3_col0\" class=\"data row3 col0\" >1</td>\n                        <td id=\"T_6c870_row3_col1\" class=\"data row3 col1\" >0.00%</td>\n            </tr>\n            <tr>\n                        <th id=\"T_6c870_level0_row4\" class=\"row_heading level0 row4\" >10.0</th>\n                        <td id=\"T_6c870_row4_col0\" class=\"data row4 col0\" >1</td>\n                        <td id=\"T_6c870_row4_col1\" class=\"data row4 col1\" >0.00%</td>\n            </tr>\n    </tbody></table>"
     },
     "metadata": {},
     "output_type": "display_data"
    },
    {
     "data": {
      "text/plain": "<pandas.io.formats.style.Styler at 0x7f8736764f10>",
      "text/html": "<style  type=\"text/css\" >\n</style><table id=\"T_76c02_\" ><thead>    <tr>        <th class=\"blank level0\" ></th>        <th class=\"col_heading level0 col0\" >count</th>        <th class=\"col_heading level0 col1\" >mean</th>    </tr>    <tr>        <th class=\"blank level1\" ></th>        <th class=\"col_heading level1 col0\" >is_canceled</th>        <th class=\"col_heading level1 col1\" >is_canceled</th>    </tr>    <tr>        <th class=\"index_name level0\" >meal</th>        <th class=\"blank\" ></th>        <th class=\"blank\" ></th>    </tr></thead><tbody>\n                <tr>\n                        <th id=\"T_76c02_level0_row0\" class=\"row_heading level0 row0\" >bb</th>\n                        <td id=\"T_76c02_row0_col0\" class=\"data row0 col0\" >35552</td>\n                        <td id=\"T_76c02_row0_col1\" class=\"data row0 col1\" >24.54%</td>\n            </tr>\n            <tr>\n                        <th id=\"T_76c02_level0_row1\" class=\"row_heading level0 row1\" >fb</th>\n                        <td id=\"T_76c02_row1_col0\" class=\"data row1 col0\" >135</td>\n                        <td id=\"T_76c02_row1_col1\" class=\"data row1 col1\" >30.37%</td>\n            </tr>\n            <tr>\n                        <th id=\"T_76c02_level0_row2\" class=\"row_heading level0 row2\" >hb</th>\n                        <td id=\"T_76c02_row2_col0\" class=\"data row2 col0\" >3344</td>\n                        <td id=\"T_76c02_row2_col1\" class=\"data row2 col1\" >24.52%</td>\n            </tr>\n            <tr>\n                        <th id=\"T_76c02_level0_row3\" class=\"row_heading level0 row3\" >sc</th>\n                        <td id=\"T_76c02_row3_col0\" class=\"data row3 col0\" >4821</td>\n                        <td id=\"T_76c02_row3_col1\" class=\"data row3 col1\" >32.40%</td>\n            </tr>\n    </tbody></table>"
     },
     "metadata": {},
     "output_type": "display_data"
    },
    {
     "data": {
      "text/plain": "<pandas.io.formats.style.Styler at 0x7f8736764f70>",
      "text/html": "<style  type=\"text/css\" >\n</style><table id=\"T_9a750_\" ><thead>    <tr>        <th class=\"blank level0\" ></th>        <th class=\"col_heading level0 col0\" >count</th>        <th class=\"col_heading level0 col1\" >mean</th>    </tr>    <tr>        <th class=\"blank level1\" ></th>        <th class=\"col_heading level1 col0\" >is_canceled</th>        <th class=\"col_heading level1 col1\" >is_canceled</th>    </tr>    <tr>        <th class=\"index_name level0\" >country</th>        <th class=\"blank\" ></th>        <th class=\"blank\" ></th>    </tr></thead><tbody>\n                <tr>\n                        <th id=\"T_9a750_level0_row0\" class=\"row_heading level0 row0\" >ABW</th>\n                        <td id=\"T_9a750_row0_col0\" class=\"data row0 col0\" >1</td>\n                        <td id=\"T_9a750_row0_col1\" class=\"data row0 col1\" >0.00%</td>\n            </tr>\n            <tr>\n                        <th id=\"T_9a750_level0_row1\" class=\"row_heading level0 row1\" >AGO</th>\n                        <td id=\"T_9a750_row1_col0\" class=\"data row1 col0\" >123</td>\n                        <td id=\"T_9a750_row1_col1\" class=\"data row1 col1\" >37.40%</td>\n            </tr>\n            <tr>\n                        <th id=\"T_9a750_level0_row2\" class=\"row_heading level0 row2\" >ALB</th>\n                        <td id=\"T_9a750_row2_col0\" class=\"data row2 col0\" >6</td>\n                        <td id=\"T_9a750_row2_col1\" class=\"data row2 col1\" >16.67%</td>\n            </tr>\n            <tr>\n                        <th id=\"T_9a750_level0_row3\" class=\"row_heading level0 row3\" >AND</th>\n                        <td id=\"T_9a750_row3_col0\" class=\"data row3 col0\" >1</td>\n                        <td id=\"T_9a750_row3_col1\" class=\"data row3 col1\" >100.00%</td>\n            </tr>\n            <tr>\n                        <th id=\"T_9a750_level0_row4\" class=\"row_heading level0 row4\" >ARE</th>\n                        <td id=\"T_9a750_row4_col0\" class=\"data row4 col0\" >23</td>\n                        <td id=\"T_9a750_row4_col1\" class=\"data row4 col1\" >91.30%</td>\n            </tr>\n            <tr>\n                        <th id=\"T_9a750_level0_row5\" class=\"row_heading level0 row5\" >ARG</th>\n                        <td id=\"T_9a750_row5_col0\" class=\"data row5 col0\" >98</td>\n                        <td id=\"T_9a750_row5_col1\" class=\"data row5 col1\" >19.39%</td>\n            </tr>\n            <tr>\n                        <th id=\"T_9a750_level0_row6\" class=\"row_heading level0 row6\" >ARM</th>\n                        <td id=\"T_9a750_row6_col0\" class=\"data row6 col0\" >6</td>\n                        <td id=\"T_9a750_row6_col1\" class=\"data row6 col1\" >33.33%</td>\n            </tr>\n            <tr>\n                        <th id=\"T_9a750_level0_row7\" class=\"row_heading level0 row7\" >ATA</th>\n                        <td id=\"T_9a750_row7_col0\" class=\"data row7 col0\" >1</td>\n                        <td id=\"T_9a750_row7_col1\" class=\"data row7 col1\" >0.00%</td>\n            </tr>\n            <tr>\n                        <th id=\"T_9a750_level0_row8\" class=\"row_heading level0 row8\" >AUS</th>\n                        <td id=\"T_9a750_row8_col0\" class=\"data row8 col0\" >152</td>\n                        <td id=\"T_9a750_row8_col1\" class=\"data row8 col1\" >17.11%</td>\n            </tr>\n            <tr>\n                        <th id=\"T_9a750_level0_row9\" class=\"row_heading level0 row9\" >AUT</th>\n                        <td id=\"T_9a750_row9_col0\" class=\"data row9 col0\" >483</td>\n                        <td id=\"T_9a750_row9_col1\" class=\"data row9 col1\" >14.29%</td>\n            </tr>\n            <tr>\n                        <th id=\"T_9a750_level0_row10\" class=\"row_heading level0 row10\" >AZE</th>\n                        <td id=\"T_9a750_row10_col0\" class=\"data row10 col0\" >9</td>\n                        <td id=\"T_9a750_row10_col1\" class=\"data row10 col1\" >44.44%</td>\n            </tr>\n            <tr>\n                        <th id=\"T_9a750_level0_row11\" class=\"row_heading level0 row11\" >BDI</th>\n                        <td id=\"T_9a750_row11_col0\" class=\"data row11 col0\" >1</td>\n                        <td id=\"T_9a750_row11_col1\" class=\"data row11 col1\" >0.00%</td>\n            </tr>\n            <tr>\n                        <th id=\"T_9a750_level0_row12\" class=\"row_heading level0 row12\" >BEL</th>\n                        <td id=\"T_9a750_row12_col0\" class=\"data row12 col0\" >1079</td>\n                        <td id=\"T_9a750_row12_col1\" class=\"data row12 col1\" >16.22%</td>\n            </tr>\n            <tr>\n                        <th id=\"T_9a750_level0_row13\" class=\"row_heading level0 row13\" >BEN</th>\n                        <td id=\"T_9a750_row13_col0\" class=\"data row13 col0\" >1</td>\n                        <td id=\"T_9a750_row13_col1\" class=\"data row13 col1\" >100.00%</td>\n            </tr>\n            <tr>\n                        <th id=\"T_9a750_level0_row14\" class=\"row_heading level0 row14\" >BFA</th>\n                        <td id=\"T_9a750_row14_col0\" class=\"data row14 col0\" >1</td>\n                        <td id=\"T_9a750_row14_col1\" class=\"data row14 col1\" >0.00%</td>\n            </tr>\n            <tr>\n                        <th id=\"T_9a750_level0_row15\" class=\"row_heading level0 row15\" >BGD</th>\n                        <td id=\"T_9a750_row15_col0\" class=\"data row15 col0\" >7</td>\n                        <td id=\"T_9a750_row15_col1\" class=\"data row15 col1\" >71.43%</td>\n            </tr>\n            <tr>\n                        <th id=\"T_9a750_level0_row16\" class=\"row_heading level0 row16\" >BGR</th>\n                        <td id=\"T_9a750_row16_col0\" class=\"data row16 col0\" >41</td>\n                        <td id=\"T_9a750_row16_col1\" class=\"data row16 col1\" >17.07%</td>\n            </tr>\n            <tr>\n                        <th id=\"T_9a750_level0_row17\" class=\"row_heading level0 row17\" >BHR</th>\n                        <td id=\"T_9a750_row17_col0\" class=\"data row17 col0\" >1</td>\n                        <td id=\"T_9a750_row17_col1\" class=\"data row17 col1\" >0.00%</td>\n            </tr>\n            <tr>\n                        <th id=\"T_9a750_level0_row18\" class=\"row_heading level0 row18\" >BIH</th>\n                        <td id=\"T_9a750_row18_col0\" class=\"data row18 col0\" >9</td>\n                        <td id=\"T_9a750_row18_col1\" class=\"data row18 col1\" >33.33%</td>\n            </tr>\n            <tr>\n                        <th id=\"T_9a750_level0_row19\" class=\"row_heading level0 row19\" >BLR</th>\n                        <td id=\"T_9a750_row19_col0\" class=\"data row19 col0\" >10</td>\n                        <td id=\"T_9a750_row19_col1\" class=\"data row19 col1\" >0.00%</td>\n            </tr>\n            <tr>\n                        <th id=\"T_9a750_level0_row20\" class=\"row_heading level0 row20\" >BOL</th>\n                        <td id=\"T_9a750_row20_col0\" class=\"data row20 col0\" >2</td>\n                        <td id=\"T_9a750_row20_col1\" class=\"data row20 col1\" >0.00%</td>\n            </tr>\n            <tr>\n                        <th id=\"T_9a750_level0_row21\" class=\"row_heading level0 row21\" >BRA</th>\n                        <td id=\"T_9a750_row21_col0\" class=\"data row21 col0\" >948</td>\n                        <td id=\"T_9a750_row21_col1\" class=\"data row21 col1\" >32.49%</td>\n            </tr>\n            <tr>\n                        <th id=\"T_9a750_level0_row22\" class=\"row_heading level0 row22\" >BRB</th>\n                        <td id=\"T_9a750_row22_col0\" class=\"data row22 col0\" >1</td>\n                        <td id=\"T_9a750_row22_col1\" class=\"data row22 col1\" >0.00%</td>\n            </tr>\n            <tr>\n                        <th id=\"T_9a750_level0_row23\" class=\"row_heading level0 row23\" >BWA</th>\n                        <td id=\"T_9a750_row23_col0\" class=\"data row23 col0\" >1</td>\n                        <td id=\"T_9a750_row23_col1\" class=\"data row23 col1\" >0.00%</td>\n            </tr>\n            <tr>\n                        <th id=\"T_9a750_level0_row24\" class=\"row_heading level0 row24\" >CHE</th>\n                        <td id=\"T_9a750_row24_col0\" class=\"data row24 col0\" >790</td>\n                        <td id=\"T_9a750_row24_col1\" class=\"data row24 col1\" >18.23%</td>\n            </tr>\n            <tr>\n                        <th id=\"T_9a750_level0_row25\" class=\"row_heading level0 row25\" >CHL</th>\n                        <td id=\"T_9a750_row25_col0\" class=\"data row25 col0\" >42</td>\n                        <td id=\"T_9a750_row25_col1\" class=\"data row25 col1\" >28.57%</td>\n            </tr>\n            <tr>\n                        <th id=\"T_9a750_level0_row26\" class=\"row_heading level0 row26\" >CHN</th>\n                        <td id=\"T_9a750_row26_col0\" class=\"data row26 col0\" >425</td>\n                        <td id=\"T_9a750_row26_col1\" class=\"data row26 col1\" >44.94%</td>\n            </tr>\n            <tr>\n                        <th id=\"T_9a750_level0_row27\" class=\"row_heading level0 row27\" >CIV</th>\n                        <td id=\"T_9a750_row27_col0\" class=\"data row27 col0\" >2</td>\n                        <td id=\"T_9a750_row27_col1\" class=\"data row27 col1\" >0.00%</td>\n            </tr>\n            <tr>\n                        <th id=\"T_9a750_level0_row28\" class=\"row_heading level0 row28\" >CMR</th>\n                        <td id=\"T_9a750_row28_col0\" class=\"data row28 col0\" >6</td>\n                        <td id=\"T_9a750_row28_col1\" class=\"data row28 col1\" >0.00%</td>\n            </tr>\n            <tr>\n                        <th id=\"T_9a750_level0_row29\" class=\"row_heading level0 row29\" >CN</th>\n                        <td id=\"T_9a750_row29_col0\" class=\"data row29 col0\" >408</td>\n                        <td id=\"T_9a750_row29_col1\" class=\"data row29 col1\" >18.63%</td>\n            </tr>\n            <tr>\n                        <th id=\"T_9a750_level0_row30\" class=\"row_heading level0 row30\" >COL</th>\n                        <td id=\"T_9a750_row30_col0\" class=\"data row30 col0\" >36</td>\n                        <td id=\"T_9a750_row30_col1\" class=\"data row30 col1\" >33.33%</td>\n            </tr>\n            <tr>\n                        <th id=\"T_9a750_level0_row31\" class=\"row_heading level0 row31\" >CPV</th>\n                        <td id=\"T_9a750_row31_col0\" class=\"data row31 col0\" >14</td>\n                        <td id=\"T_9a750_row31_col1\" class=\"data row31 col1\" >57.14%</td>\n            </tr>\n            <tr>\n                        <th id=\"T_9a750_level0_row32\" class=\"row_heading level0 row32\" >CRI</th>\n                        <td id=\"T_9a750_row32_col0\" class=\"data row32 col0\" >11</td>\n                        <td id=\"T_9a750_row32_col1\" class=\"data row32 col1\" >9.09%</td>\n            </tr>\n            <tr>\n                        <th id=\"T_9a750_level0_row33\" class=\"row_heading level0 row33\" >CUB</th>\n                        <td id=\"T_9a750_row33_col0\" class=\"data row33 col0\" >1</td>\n                        <td id=\"T_9a750_row33_col1\" class=\"data row33 col1\" >0.00%</td>\n            </tr>\n            <tr>\n                        <th id=\"T_9a750_level0_row34\" class=\"row_heading level0 row34\" >CYM</th>\n                        <td id=\"T_9a750_row34_col0\" class=\"data row34 col0\" >1</td>\n                        <td id=\"T_9a750_row34_col1\" class=\"data row34 col1\" >0.00%</td>\n            </tr>\n            <tr>\n                        <th id=\"T_9a750_level0_row35\" class=\"row_heading level0 row35\" >CYP</th>\n                        <td id=\"T_9a750_row35_col0\" class=\"data row35 col0\" >16</td>\n                        <td id=\"T_9a750_row35_col1\" class=\"data row35 col1\" >12.50%</td>\n            </tr>\n            <tr>\n                        <th id=\"T_9a750_level0_row36\" class=\"row_heading level0 row36\" >CZE</th>\n                        <td id=\"T_9a750_row36_col0\" class=\"data row36 col0\" >77</td>\n                        <td id=\"T_9a750_row36_col1\" class=\"data row36 col1\" >24.68%</td>\n            </tr>\n            <tr>\n                        <th id=\"T_9a750_level0_row37\" class=\"row_heading level0 row37\" >DEU</th>\n                        <td id=\"T_9a750_row37_col0\" class=\"data row37 col0\" >2754</td>\n                        <td id=\"T_9a750_row37_col1\" class=\"data row37 col1\" >16.67%</td>\n            </tr>\n            <tr>\n                        <th id=\"T_9a750_level0_row38\" class=\"row_heading level0 row38\" >DMA</th>\n                        <td id=\"T_9a750_row38_col0\" class=\"data row38 col0\" >1</td>\n                        <td id=\"T_9a750_row38_col1\" class=\"data row38 col1\" >0.00%</td>\n            </tr>\n            <tr>\n                        <th id=\"T_9a750_level0_row39\" class=\"row_heading level0 row39\" >DNK</th>\n                        <td id=\"T_9a750_row39_col0\" class=\"data row39 col0\" >167</td>\n                        <td id=\"T_9a750_row39_col1\" class=\"data row39 col1\" >16.77%</td>\n            </tr>\n            <tr>\n                        <th id=\"T_9a750_level0_row40\" class=\"row_heading level0 row40\" >DOM</th>\n                        <td id=\"T_9a750_row40_col0\" class=\"data row40 col0\" >3</td>\n                        <td id=\"T_9a750_row40_col1\" class=\"data row40 col1\" >0.00%</td>\n            </tr>\n            <tr>\n                        <th id=\"T_9a750_level0_row41\" class=\"row_heading level0 row41\" >DZA</th>\n                        <td id=\"T_9a750_row41_col0\" class=\"data row41 col0\" >41</td>\n                        <td id=\"T_9a750_row41_col1\" class=\"data row41 col1\" >21.95%</td>\n            </tr>\n            <tr>\n                        <th id=\"T_9a750_level0_row42\" class=\"row_heading level0 row42\" >ECU</th>\n                        <td id=\"T_9a750_row42_col0\" class=\"data row42 col0\" >9</td>\n                        <td id=\"T_9a750_row42_col1\" class=\"data row42 col1\" >11.11%</td>\n            </tr>\n            <tr>\n                        <th id=\"T_9a750_level0_row43\" class=\"row_heading level0 row43\" >EGY</th>\n                        <td id=\"T_9a750_row43_col0\" class=\"data row43 col0\" >23</td>\n                        <td id=\"T_9a750_row43_col1\" class=\"data row43 col1\" >17.39%</td>\n            </tr>\n            <tr>\n                        <th id=\"T_9a750_level0_row44\" class=\"row_heading level0 row44\" >ESP</th>\n                        <td id=\"T_9a750_row44_col0\" class=\"data row44 col0\" >3908</td>\n                        <td id=\"T_9a750_row44_col1\" class=\"data row44 col1\" >22.19%</td>\n            </tr>\n            <tr>\n                        <th id=\"T_9a750_level0_row45\" class=\"row_heading level0 row45\" >EST</th>\n                        <td id=\"T_9a750_row45_col0\" class=\"data row45 col0\" >44</td>\n                        <td id=\"T_9a750_row45_col1\" class=\"data row45 col1\" >20.45%</td>\n            </tr>\n            <tr>\n                        <th id=\"T_9a750_level0_row46\" class=\"row_heading level0 row46\" >ETH</th>\n                        <td id=\"T_9a750_row46_col0\" class=\"data row46 col0\" >1</td>\n                        <td id=\"T_9a750_row46_col1\" class=\"data row46 col1\" >0.00%</td>\n            </tr>\n            <tr>\n                        <th id=\"T_9a750_level0_row47\" class=\"row_heading level0 row47\" >FIN</th>\n                        <td id=\"T_9a750_row47_col0\" class=\"data row47 col0\" >228</td>\n                        <td id=\"T_9a750_row47_col1\" class=\"data row47 col1\" >14.47%</td>\n            </tr>\n            <tr>\n                        <th id=\"T_9a750_level0_row48\" class=\"row_heading level0 row48\" >FRA</th>\n                        <td id=\"T_9a750_row48_col0\" class=\"data row48 col0\" >4825</td>\n                        <td id=\"T_9a750_row48_col1\" class=\"data row48 col1\" >15.54%</td>\n            </tr>\n            <tr>\n                        <th id=\"T_9a750_level0_row49\" class=\"row_heading level0 row49\" >GAB</th>\n                        <td id=\"T_9a750_row49_col0\" class=\"data row49 col0\" >3</td>\n                        <td id=\"T_9a750_row49_col1\" class=\"data row49 col1\" >33.33%</td>\n            </tr>\n            <tr>\n                        <th id=\"T_9a750_level0_row50\" class=\"row_heading level0 row50\" >GBR</th>\n                        <td id=\"T_9a750_row50_col0\" class=\"data row50 col0\" >4274</td>\n                        <td id=\"T_9a750_row50_col1\" class=\"data row50 col1\" >16.71%</td>\n            </tr>\n            <tr>\n                        <th id=\"T_9a750_level0_row51\" class=\"row_heading level0 row51\" >GEO</th>\n                        <td id=\"T_9a750_row51_col0\" class=\"data row51 col0\" >10</td>\n                        <td id=\"T_9a750_row51_col1\" class=\"data row51 col1\" >70.00%</td>\n            </tr>\n            <tr>\n                        <th id=\"T_9a750_level0_row52\" class=\"row_heading level0 row52\" >GGY</th>\n                        <td id=\"T_9a750_row52_col0\" class=\"data row52 col0\" >2</td>\n                        <td id=\"T_9a750_row52_col1\" class=\"data row52 col1\" >100.00%</td>\n            </tr>\n            <tr>\n                        <th id=\"T_9a750_level0_row53\" class=\"row_heading level0 row53\" >GIB</th>\n                        <td id=\"T_9a750_row53_col0\" class=\"data row53 col0\" >7</td>\n                        <td id=\"T_9a750_row53_col1\" class=\"data row53 col1\" >57.14%</td>\n            </tr>\n            <tr>\n                        <th id=\"T_9a750_level0_row54\" class=\"row_heading level0 row54\" >GLP</th>\n                        <td id=\"T_9a750_row54_col0\" class=\"data row54 col0\" >1</td>\n                        <td id=\"T_9a750_row54_col1\" class=\"data row54 col1\" >100.00%</td>\n            </tr>\n            <tr>\n                        <th id=\"T_9a750_level0_row55\" class=\"row_heading level0 row55\" >GNB</th>\n                        <td id=\"T_9a750_row55_col0\" class=\"data row55 col0\" >5</td>\n                        <td id=\"T_9a750_row55_col1\" class=\"data row55 col1\" >0.00%</td>\n            </tr>\n            <tr>\n                        <th id=\"T_9a750_level0_row56\" class=\"row_heading level0 row56\" >GRC</th>\n                        <td id=\"T_9a750_row56_col0\" class=\"data row56 col0\" >71</td>\n                        <td id=\"T_9a750_row56_col1\" class=\"data row56 col1\" >23.94%</td>\n            </tr>\n            <tr>\n                        <th id=\"T_9a750_level0_row57\" class=\"row_heading level0 row57\" >GUY</th>\n                        <td id=\"T_9a750_row57_col0\" class=\"data row57 col0\" >1</td>\n                        <td id=\"T_9a750_row57_col1\" class=\"data row57 col1\" >0.00%</td>\n            </tr>\n            <tr>\n                        <th id=\"T_9a750_level0_row58\" class=\"row_heading level0 row58\" >HKG</th>\n                        <td id=\"T_9a750_row58_col0\" class=\"data row58 col0\" >12</td>\n                        <td id=\"T_9a750_row58_col1\" class=\"data row58 col1\" >100.00%</td>\n            </tr>\n            <tr>\n                        <th id=\"T_9a750_level0_row59\" class=\"row_heading level0 row59\" >HND</th>\n                        <td id=\"T_9a750_row59_col0\" class=\"data row59 col0\" >1</td>\n                        <td id=\"T_9a750_row59_col1\" class=\"data row59 col1\" >100.00%</td>\n            </tr>\n            <tr>\n                        <th id=\"T_9a750_level0_row60\" class=\"row_heading level0 row60\" >HRV</th>\n                        <td id=\"T_9a750_row60_col0\" class=\"data row60 col0\" >48</td>\n                        <td id=\"T_9a750_row60_col1\" class=\"data row60 col1\" >16.67%</td>\n            </tr>\n            <tr>\n                        <th id=\"T_9a750_level0_row61\" class=\"row_heading level0 row61\" >HUN</th>\n                        <td id=\"T_9a750_row61_col0\" class=\"data row61 col0\" >103</td>\n                        <td id=\"T_9a750_row61_col1\" class=\"data row61 col1\" >32.04%</td>\n            </tr>\n            <tr>\n                        <th id=\"T_9a750_level0_row62\" class=\"row_heading level0 row62\" >IDN</th>\n                        <td id=\"T_9a750_row62_col0\" class=\"data row62 col0\" >10</td>\n                        <td id=\"T_9a750_row62_col1\" class=\"data row62 col1\" >70.00%</td>\n            </tr>\n            <tr>\n                        <th id=\"T_9a750_level0_row63\" class=\"row_heading level0 row63\" >IMN</th>\n                        <td id=\"T_9a750_row63_col0\" class=\"data row63 col0\" >1</td>\n                        <td id=\"T_9a750_row63_col1\" class=\"data row63 col1\" >100.00%</td>\n            </tr>\n            <tr>\n                        <th id=\"T_9a750_level0_row64\" class=\"row_heading level0 row64\" >IND</th>\n                        <td id=\"T_9a750_row64_col0\" class=\"data row64 col0\" >80</td>\n                        <td id=\"T_9a750_row64_col1\" class=\"data row64 col1\" >22.50%</td>\n            </tr>\n            <tr>\n                        <th id=\"T_9a750_level0_row65\" class=\"row_heading level0 row65\" >IRL</th>\n                        <td id=\"T_9a750_row65_col0\" class=\"data row65 col0\" >1236</td>\n                        <td id=\"T_9a750_row65_col1\" class=\"data row65 col1\" >18.20%</td>\n            </tr>\n            <tr>\n                        <th id=\"T_9a750_level0_row66\" class=\"row_heading level0 row66\" >IRN</th>\n                        <td id=\"T_9a750_row66_col0\" class=\"data row66 col0\" >45</td>\n                        <td id=\"T_9a750_row66_col1\" class=\"data row66 col1\" >20.00%</td>\n            </tr>\n            <tr>\n                        <th id=\"T_9a750_level0_row67\" class=\"row_heading level0 row67\" >IRQ</th>\n                        <td id=\"T_9a750_row67_col0\" class=\"data row67 col0\" >9</td>\n                        <td id=\"T_9a750_row67_col1\" class=\"data row67 col1\" >0.00%</td>\n            </tr>\n            <tr>\n                        <th id=\"T_9a750_level0_row68\" class=\"row_heading level0 row68\" >ISL</th>\n                        <td id=\"T_9a750_row68_col0\" class=\"data row68 col0\" >10</td>\n                        <td id=\"T_9a750_row68_col1\" class=\"data row68 col1\" >30.00%</td>\n            </tr>\n            <tr>\n                        <th id=\"T_9a750_level0_row69\" class=\"row_heading level0 row69\" >ISR</th>\n                        <td id=\"T_9a750_row69_col0\" class=\"data row69 col0\" >208</td>\n                        <td id=\"T_9a750_row69_col1\" class=\"data row69 col1\" >32.21%</td>\n            </tr>\n            <tr>\n                        <th id=\"T_9a750_level0_row70\" class=\"row_heading level0 row70\" >ITA</th>\n                        <td id=\"T_9a750_row70_col0\" class=\"data row70 col0\" >1774</td>\n                        <td id=\"T_9a750_row70_col1\" class=\"data row70 col1\" >33.77%</td>\n            </tr>\n            <tr>\n                        <th id=\"T_9a750_level0_row71\" class=\"row_heading level0 row71\" >JAM</th>\n                        <td id=\"T_9a750_row71_col0\" class=\"data row71 col0\" >2</td>\n                        <td id=\"T_9a750_row71_col1\" class=\"data row71 col1\" >0.00%</td>\n            </tr>\n            <tr>\n                        <th id=\"T_9a750_level0_row72\" class=\"row_heading level0 row72\" >JEY</th>\n                        <td id=\"T_9a750_row72_col0\" class=\"data row72 col0\" >5</td>\n                        <td id=\"T_9a750_row72_col1\" class=\"data row72 col1\" >100.00%</td>\n            </tr>\n            <tr>\n                        <th id=\"T_9a750_level0_row73\" class=\"row_heading level0 row73\" >JOR</th>\n                        <td id=\"T_9a750_row73_col0\" class=\"data row73 col0\" >10</td>\n                        <td id=\"T_9a750_row73_col1\" class=\"data row73 col1\" >10.00%</td>\n            </tr>\n            <tr>\n                        <th id=\"T_9a750_level0_row74\" class=\"row_heading level0 row74\" >JPN</th>\n                        <td id=\"T_9a750_row74_col0\" class=\"data row74 col0\" >107</td>\n                        <td id=\"T_9a750_row74_col1\" class=\"data row74 col1\" >12.15%</td>\n            </tr>\n            <tr>\n                        <th id=\"T_9a750_level0_row75\" class=\"row_heading level0 row75\" >KAZ</th>\n                        <td id=\"T_9a750_row75_col0\" class=\"data row75 col0\" >10</td>\n                        <td id=\"T_9a750_row75_col1\" class=\"data row75 col1\" >10.00%</td>\n            </tr>\n            <tr>\n                        <th id=\"T_9a750_level0_row76\" class=\"row_heading level0 row76\" >KEN</th>\n                        <td id=\"T_9a750_row76_col0\" class=\"data row76 col0\" >2</td>\n                        <td id=\"T_9a750_row76_col1\" class=\"data row76 col1\" >50.00%</td>\n            </tr>\n            <tr>\n                        <th id=\"T_9a750_level0_row77\" class=\"row_heading level0 row77\" >KHM</th>\n                        <td id=\"T_9a750_row77_col0\" class=\"data row77 col0\" >1</td>\n                        <td id=\"T_9a750_row77_col1\" class=\"data row77 col1\" >100.00%</td>\n            </tr>\n            <tr>\n                        <th id=\"T_9a750_level0_row78\" class=\"row_heading level0 row78\" >KNA</th>\n                        <td id=\"T_9a750_row78_col0\" class=\"data row78 col0\" >1</td>\n                        <td id=\"T_9a750_row78_col1\" class=\"data row78 col1\" >0.00%</td>\n            </tr>\n            <tr>\n                        <th id=\"T_9a750_level0_row79\" class=\"row_heading level0 row79\" >KOR</th>\n                        <td id=\"T_9a750_row79_col0\" class=\"data row79 col0\" >61</td>\n                        <td id=\"T_9a750_row79_col1\" class=\"data row79 col1\" >27.87%</td>\n            </tr>\n            <tr>\n                        <th id=\"T_9a750_level0_row80\" class=\"row_heading level0 row80\" >KWT</th>\n                        <td id=\"T_9a750_row80_col0\" class=\"data row80 col0\" >10</td>\n                        <td id=\"T_9a750_row80_col1\" class=\"data row80 col1\" >30.00%</td>\n            </tr>\n            <tr>\n                        <th id=\"T_9a750_level0_row81\" class=\"row_heading level0 row81\" >LBN</th>\n                        <td id=\"T_9a750_row81_col0\" class=\"data row81 col0\" >17</td>\n                        <td id=\"T_9a750_row81_col1\" class=\"data row81 col1\" >17.65%</td>\n            </tr>\n            <tr>\n                        <th id=\"T_9a750_level0_row82\" class=\"row_heading level0 row82\" >LBY</th>\n                        <td id=\"T_9a750_row82_col0\" class=\"data row82 col0\" >6</td>\n                        <td id=\"T_9a750_row82_col1\" class=\"data row82 col1\" >0.00%</td>\n            </tr>\n            <tr>\n                        <th id=\"T_9a750_level0_row83\" class=\"row_heading level0 row83\" >LCA</th>\n                        <td id=\"T_9a750_row83_col0\" class=\"data row83 col0\" >1</td>\n                        <td id=\"T_9a750_row83_col1\" class=\"data row83 col1\" >0.00%</td>\n            </tr>\n            <tr>\n                        <th id=\"T_9a750_level0_row84\" class=\"row_heading level0 row84\" >LIE</th>\n                        <td id=\"T_9a750_row84_col0\" class=\"data row84 col0\" >2</td>\n                        <td id=\"T_9a750_row84_col1\" class=\"data row84 col1\" >0.00%</td>\n            </tr>\n            <tr>\n                        <th id=\"T_9a750_level0_row85\" class=\"row_heading level0 row85\" >LKA</th>\n                        <td id=\"T_9a750_row85_col0\" class=\"data row85 col0\" >3</td>\n                        <td id=\"T_9a750_row85_col1\" class=\"data row85 col1\" >0.00%</td>\n            </tr>\n            <tr>\n                        <th id=\"T_9a750_level0_row86\" class=\"row_heading level0 row86\" >LTU</th>\n                        <td id=\"T_9a750_row86_col0\" class=\"data row86 col0\" >41</td>\n                        <td id=\"T_9a750_row86_col1\" class=\"data row86 col1\" >7.32%</td>\n            </tr>\n            <tr>\n                        <th id=\"T_9a750_level0_row87\" class=\"row_heading level0 row87\" >LUX</th>\n                        <td id=\"T_9a750_row87_col0\" class=\"data row87 col0\" >114</td>\n                        <td id=\"T_9a750_row87_col1\" class=\"data row87 col1\" >33.33%</td>\n            </tr>\n            <tr>\n                        <th id=\"T_9a750_level0_row88\" class=\"row_heading level0 row88\" >LVA</th>\n                        <td id=\"T_9a750_row88_col0\" class=\"data row88 col0\" >28</td>\n                        <td id=\"T_9a750_row88_col1\" class=\"data row88 col1\" >10.71%</td>\n            </tr>\n            <tr>\n                        <th id=\"T_9a750_level0_row89\" class=\"row_heading level0 row89\" >MAC</th>\n                        <td id=\"T_9a750_row89_col0\" class=\"data row89 col0\" >1</td>\n                        <td id=\"T_9a750_row89_col1\" class=\"data row89 col1\" >100.00%</td>\n            </tr>\n            <tr>\n                        <th id=\"T_9a750_level0_row90\" class=\"row_heading level0 row90\" >MAR</th>\n                        <td id=\"T_9a750_row90_col0\" class=\"data row90 col0\" >110</td>\n                        <td id=\"T_9a750_row90_col1\" class=\"data row90 col1\" >36.36%</td>\n            </tr>\n            <tr>\n                        <th id=\"T_9a750_level0_row91\" class=\"row_heading level0 row91\" >MCO</th>\n                        <td id=\"T_9a750_row91_col0\" class=\"data row91 col0\" >2</td>\n                        <td id=\"T_9a750_row91_col1\" class=\"data row91 col1\" >50.00%</td>\n            </tr>\n            <tr>\n                        <th id=\"T_9a750_level0_row92\" class=\"row_heading level0 row92\" >MDV</th>\n                        <td id=\"T_9a750_row92_col0\" class=\"data row92 col0\" >5</td>\n                        <td id=\"T_9a750_row92_col1\" class=\"data row92 col1\" >80.00%</td>\n            </tr>\n            <tr>\n                        <th id=\"T_9a750_level0_row93\" class=\"row_heading level0 row93\" >MEX</th>\n                        <td id=\"T_9a750_row93_col0\" class=\"data row93 col0\" >39</td>\n                        <td id=\"T_9a750_row93_col1\" class=\"data row93 col1\" >12.82%</td>\n            </tr>\n            <tr>\n                        <th id=\"T_9a750_level0_row94\" class=\"row_heading level0 row94\" >MKD</th>\n                        <td id=\"T_9a750_row94_col0\" class=\"data row94 col0\" >7</td>\n                        <td id=\"T_9a750_row94_col1\" class=\"data row94 col1\" >28.57%</td>\n            </tr>\n            <tr>\n                        <th id=\"T_9a750_level0_row95\" class=\"row_heading level0 row95\" >MLI</th>\n                        <td id=\"T_9a750_row95_col0\" class=\"data row95 col0\" >1</td>\n                        <td id=\"T_9a750_row95_col1\" class=\"data row95 col1\" >0.00%</td>\n            </tr>\n            <tr>\n                        <th id=\"T_9a750_level0_row96\" class=\"row_heading level0 row96\" >MLT</th>\n                        <td id=\"T_9a750_row96_col0\" class=\"data row96 col0\" >11</td>\n                        <td id=\"T_9a750_row96_col1\" class=\"data row96 col1\" >27.27%</td>\n            </tr>\n            <tr>\n                        <th id=\"T_9a750_level0_row97\" class=\"row_heading level0 row97\" >MMR</th>\n                        <td id=\"T_9a750_row97_col0\" class=\"data row97 col0\" >1</td>\n                        <td id=\"T_9a750_row97_col1\" class=\"data row97 col1\" >0.00%</td>\n            </tr>\n            <tr>\n                        <th id=\"T_9a750_level0_row98\" class=\"row_heading level0 row98\" >MNE</th>\n                        <td id=\"T_9a750_row98_col0\" class=\"data row98 col0\" >3</td>\n                        <td id=\"T_9a750_row98_col1\" class=\"data row98 col1\" >0.00%</td>\n            </tr>\n            <tr>\n                        <th id=\"T_9a750_level0_row99\" class=\"row_heading level0 row99\" >MOZ</th>\n                        <td id=\"T_9a750_row99_col0\" class=\"data row99 col0\" >26</td>\n                        <td id=\"T_9a750_row99_col1\" class=\"data row99 col1\" >30.77%</td>\n            </tr>\n            <tr>\n                        <th id=\"T_9a750_level0_row100\" class=\"row_heading level0 row100\" >MUS</th>\n                        <td id=\"T_9a750_row100_col0\" class=\"data row100 col0\" >5</td>\n                        <td id=\"T_9a750_row100_col1\" class=\"data row100 col1\" >20.00%</td>\n            </tr>\n            <tr>\n                        <th id=\"T_9a750_level0_row101\" class=\"row_heading level0 row101\" >MWI</th>\n                        <td id=\"T_9a750_row101_col0\" class=\"data row101 col0\" >2</td>\n                        <td id=\"T_9a750_row101_col1\" class=\"data row101 col1\" >0.00%</td>\n            </tr>\n            <tr>\n                        <th id=\"T_9a750_level0_row102\" class=\"row_heading level0 row102\" >MYS</th>\n                        <td id=\"T_9a750_row102_col0\" class=\"data row102 col0\" >19</td>\n                        <td id=\"T_9a750_row102_col1\" class=\"data row102 col1\" >10.53%</td>\n            </tr>\n            <tr>\n                        <th id=\"T_9a750_level0_row103\" class=\"row_heading level0 row103\" >NAM</th>\n                        <td id=\"T_9a750_row103_col0\" class=\"data row103 col0\" >1</td>\n                        <td id=\"T_9a750_row103_col1\" class=\"data row103 col1\" >0.00%</td>\n            </tr>\n            <tr>\n                        <th id=\"T_9a750_level0_row104\" class=\"row_heading level0 row104\" >NGA</th>\n                        <td id=\"T_9a750_row104_col0\" class=\"data row104 col0\" >15</td>\n                        <td id=\"T_9a750_row104_col1\" class=\"data row104 col1\" >66.67%</td>\n            </tr>\n            <tr>\n                        <th id=\"T_9a750_level0_row105\" class=\"row_heading level0 row105\" >NIC</th>\n                        <td id=\"T_9a750_row105_col0\" class=\"data row105 col0\" >1</td>\n                        <td id=\"T_9a750_row105_col1\" class=\"data row105 col1\" >100.00%</td>\n            </tr>\n            <tr>\n                        <th id=\"T_9a750_level0_row106\" class=\"row_heading level0 row106\" >NLD</th>\n                        <td id=\"T_9a750_row106_col0\" class=\"data row106 col0\" >1033</td>\n                        <td id=\"T_9a750_row106_col1\" class=\"data row106 col1\" >16.07%</td>\n            </tr>\n            <tr>\n                        <th id=\"T_9a750_level0_row107\" class=\"row_heading level0 row107\" >NOR</th>\n                        <td id=\"T_9a750_row107_col0\" class=\"data row107 col0\" >215</td>\n                        <td id=\"T_9a750_row107_col1\" class=\"data row107 col1\" >20.00%</td>\n            </tr>\n            <tr>\n                        <th id=\"T_9a750_level0_row108\" class=\"row_heading level0 row108\" >NZL</th>\n                        <td id=\"T_9a750_row108_col0\" class=\"data row108 col0\" >34</td>\n                        <td id=\"T_9a750_row108_col1\" class=\"data row108 col1\" >5.88%</td>\n            </tr>\n            <tr>\n                        <th id=\"T_9a750_level0_row109\" class=\"row_heading level0 row109\" >OMN</th>\n                        <td id=\"T_9a750_row109_col0\" class=\"data row109 col0\" >10</td>\n                        <td id=\"T_9a750_row109_col1\" class=\"data row109 col1\" >30.00%</td>\n            </tr>\n            <tr>\n                        <th id=\"T_9a750_level0_row110\" class=\"row_heading level0 row110\" >PAK</th>\n                        <td id=\"T_9a750_row110_col0\" class=\"data row110 col0\" >6</td>\n                        <td id=\"T_9a750_row110_col1\" class=\"data row110 col1\" >83.33%</td>\n            </tr>\n            <tr>\n                        <th id=\"T_9a750_level0_row111\" class=\"row_heading level0 row111\" >PAN</th>\n                        <td id=\"T_9a750_row111_col0\" class=\"data row111 col0\" >4</td>\n                        <td id=\"T_9a750_row111_col1\" class=\"data row111 col1\" >0.00%</td>\n            </tr>\n            <tr>\n                        <th id=\"T_9a750_level0_row112\" class=\"row_heading level0 row112\" >PER</th>\n                        <td id=\"T_9a750_row112_col0\" class=\"data row112 col0\" >12</td>\n                        <td id=\"T_9a750_row112_col1\" class=\"data row112 col1\" >33.33%</td>\n            </tr>\n            <tr>\n                        <th id=\"T_9a750_level0_row113\" class=\"row_heading level0 row113\" >PHL</th>\n                        <td id=\"T_9a750_row113_col0\" class=\"data row113 col0\" >9</td>\n                        <td id=\"T_9a750_row113_col1\" class=\"data row113 col1\" >44.44%</td>\n            </tr>\n            <tr>\n                        <th id=\"T_9a750_level0_row114\" class=\"row_heading level0 row114\" >PLW</th>\n                        <td id=\"T_9a750_row114_col0\" class=\"data row114 col0\" >1</td>\n                        <td id=\"T_9a750_row114_col1\" class=\"data row114 col1\" >0.00%</td>\n            </tr>\n            <tr>\n                        <th id=\"T_9a750_level0_row115\" class=\"row_heading level0 row115\" >POL</th>\n                        <td id=\"T_9a750_row115_col0\" class=\"data row115 col0\" >407</td>\n                        <td id=\"T_9a750_row115_col1\" class=\"data row115 col1\" >15.23%</td>\n            </tr>\n            <tr>\n                        <th id=\"T_9a750_level0_row116\" class=\"row_heading level0 row116\" >PRI</th>\n                        <td id=\"T_9a750_row116_col0\" class=\"data row116 col0\" >7</td>\n                        <td id=\"T_9a750_row116_col1\" class=\"data row116 col1\" >14.29%</td>\n            </tr>\n            <tr>\n                        <th id=\"T_9a750_level0_row117\" class=\"row_heading level0 row117\" >PRT</th>\n                        <td id=\"T_9a750_row117_col0\" class=\"data row117 col0\" >14467</td>\n                        <td id=\"T_9a750_row117_col1\" class=\"data row117 col1\" >35.16%</td>\n            </tr>\n            <tr>\n                        <th id=\"T_9a750_level0_row118\" class=\"row_heading level0 row118\" >PRY</th>\n                        <td id=\"T_9a750_row118_col0\" class=\"data row118 col0\" >1</td>\n                        <td id=\"T_9a750_row118_col1\" class=\"data row118 col1\" >0.00%</td>\n            </tr>\n            <tr>\n                        <th id=\"T_9a750_level0_row119\" class=\"row_heading level0 row119\" >PYF</th>\n                        <td id=\"T_9a750_row119_col0\" class=\"data row119 col0\" >1</td>\n                        <td id=\"T_9a750_row119_col1\" class=\"data row119 col1\" >0.00%</td>\n            </tr>\n            <tr>\n                        <th id=\"T_9a750_level0_row120\" class=\"row_heading level0 row120\" >QAT</th>\n                        <td id=\"T_9a750_row120_col0\" class=\"data row120 col0\" >5</td>\n                        <td id=\"T_9a750_row120_col1\" class=\"data row120 col1\" >80.00%</td>\n            </tr>\n            <tr>\n                        <th id=\"T_9a750_level0_row121\" class=\"row_heading level0 row121\" >ROU</th>\n                        <td id=\"T_9a750_row121_col0\" class=\"data row121 col0\" >225</td>\n                        <td id=\"T_9a750_row121_col1\" class=\"data row121 col1\" >20.89%</td>\n            </tr>\n            <tr>\n                        <th id=\"T_9a750_level0_row122\" class=\"row_heading level0 row122\" >RUS</th>\n                        <td id=\"T_9a750_row122_col0\" class=\"data row122 col0\" >242</td>\n                        <td id=\"T_9a750_row122_col1\" class=\"data row122 col1\" >36.36%</td>\n            </tr>\n            <tr>\n                        <th id=\"T_9a750_level0_row123\" class=\"row_heading level0 row123\" >RWA</th>\n                        <td id=\"T_9a750_row123_col0\" class=\"data row123 col0\" >1</td>\n                        <td id=\"T_9a750_row123_col1\" class=\"data row123 col1\" >0.00%</td>\n            </tr>\n            <tr>\n                        <th id=\"T_9a750_level0_row124\" class=\"row_heading level0 row124\" >SAU</th>\n                        <td id=\"T_9a750_row124_col0\" class=\"data row124 col0\" >18</td>\n                        <td id=\"T_9a750_row124_col1\" class=\"data row124 col1\" >66.67%</td>\n            </tr>\n            <tr>\n                        <th id=\"T_9a750_level0_row125\" class=\"row_heading level0 row125\" >SEN</th>\n                        <td id=\"T_9a750_row125_col0\" class=\"data row125 col0\" >3</td>\n                        <td id=\"T_9a750_row125_col1\" class=\"data row125 col1\" >33.33%</td>\n            </tr>\n            <tr>\n                        <th id=\"T_9a750_level0_row126\" class=\"row_heading level0 row126\" >SGP</th>\n                        <td id=\"T_9a750_row126_col0\" class=\"data row126 col0\" >23</td>\n                        <td id=\"T_9a750_row126_col1\" class=\"data row126 col1\" >26.09%</td>\n            </tr>\n            <tr>\n                        <th id=\"T_9a750_level0_row127\" class=\"row_heading level0 row127\" >SLV</th>\n                        <td id=\"T_9a750_row127_col0\" class=\"data row127 col0\" >1</td>\n                        <td id=\"T_9a750_row127_col1\" class=\"data row127 col1\" >0.00%</td>\n            </tr>\n            <tr>\n                        <th id=\"T_9a750_level0_row128\" class=\"row_heading level0 row128\" >SMR</th>\n                        <td id=\"T_9a750_row128_col0\" class=\"data row128 col0\" >1</td>\n                        <td id=\"T_9a750_row128_col1\" class=\"data row128 col1\" >0.00%</td>\n            </tr>\n            <tr>\n                        <th id=\"T_9a750_level0_row129\" class=\"row_heading level0 row129\" >SRB</th>\n                        <td id=\"T_9a750_row129_col0\" class=\"data row129 col0\" >29</td>\n                        <td id=\"T_9a750_row129_col1\" class=\"data row129 col1\" >3.45%</td>\n            </tr>\n            <tr>\n                        <th id=\"T_9a750_level0_row130\" class=\"row_heading level0 row130\" >STP</th>\n                        <td id=\"T_9a750_row130_col0\" class=\"data row130 col0\" >1</td>\n                        <td id=\"T_9a750_row130_col1\" class=\"data row130 col1\" >0.00%</td>\n            </tr>\n            <tr>\n                        <th id=\"T_9a750_level0_row131\" class=\"row_heading level0 row131\" >SUR</th>\n                        <td id=\"T_9a750_row131_col0\" class=\"data row131 col0\" >3</td>\n                        <td id=\"T_9a750_row131_col1\" class=\"data row131 col1\" >0.00%</td>\n            </tr>\n            <tr>\n                        <th id=\"T_9a750_level0_row132\" class=\"row_heading level0 row132\" >SVK</th>\n                        <td id=\"T_9a750_row132_col0\" class=\"data row132 col0\" >29</td>\n                        <td id=\"T_9a750_row132_col1\" class=\"data row132 col1\" >17.24%</td>\n            </tr>\n            <tr>\n                        <th id=\"T_9a750_level0_row133\" class=\"row_heading level0 row133\" >SVN</th>\n                        <td id=\"T_9a750_row133_col0\" class=\"data row133 col0\" >32</td>\n                        <td id=\"T_9a750_row133_col1\" class=\"data row133 col1\" >18.75%</td>\n            </tr>\n            <tr>\n                        <th id=\"T_9a750_level0_row134\" class=\"row_heading level0 row134\" >SWE</th>\n                        <td id=\"T_9a750_row134_col0\" class=\"data row134 col0\" >402</td>\n                        <td id=\"T_9a750_row134_col1\" class=\"data row134 col1\" >19.90%</td>\n            </tr>\n            <tr>\n                        <th id=\"T_9a750_level0_row135\" class=\"row_heading level0 row135\" >SYC</th>\n                        <td id=\"T_9a750_row135_col0\" class=\"data row135 col0\" >1</td>\n                        <td id=\"T_9a750_row135_col1\" class=\"data row135 col1\" >0.00%</td>\n            </tr>\n            <tr>\n                        <th id=\"T_9a750_level0_row136\" class=\"row_heading level0 row136\" >SYR</th>\n                        <td id=\"T_9a750_row136_col0\" class=\"data row136 col0\" >1</td>\n                        <td id=\"T_9a750_row136_col1\" class=\"data row136 col1\" >0.00%</td>\n            </tr>\n            <tr>\n                        <th id=\"T_9a750_level0_row137\" class=\"row_heading level0 row137\" >THA</th>\n                        <td id=\"T_9a750_row137_col0\" class=\"data row137 col0\" >27</td>\n                        <td id=\"T_9a750_row137_col1\" class=\"data row137 col1\" >29.63%</td>\n            </tr>\n            <tr>\n                        <th id=\"T_9a750_level0_row138\" class=\"row_heading level0 row138\" >TJK</th>\n                        <td id=\"T_9a750_row138_col0\" class=\"data row138 col0\" >1</td>\n                        <td id=\"T_9a750_row138_col1\" class=\"data row138 col1\" >100.00%</td>\n            </tr>\n            <tr>\n                        <th id=\"T_9a750_level0_row139\" class=\"row_heading level0 row139\" >TMP</th>\n                        <td id=\"T_9a750_row139_col0\" class=\"data row139 col0\" >3</td>\n                        <td id=\"T_9a750_row139_col1\" class=\"data row139 col1\" >33.33%</td>\n            </tr>\n            <tr>\n                        <th id=\"T_9a750_level0_row140\" class=\"row_heading level0 row140\" >TUN</th>\n                        <td id=\"T_9a750_row140_col0\" class=\"data row140 col0\" >28</td>\n                        <td id=\"T_9a750_row140_col1\" class=\"data row140 col1\" >50.00%</td>\n            </tr>\n            <tr>\n                        <th id=\"T_9a750_level0_row141\" class=\"row_heading level0 row141\" >TUR</th>\n                        <td id=\"T_9a750_row141_col0\" class=\"data row141 col0\" >138</td>\n                        <td id=\"T_9a750_row141_col1\" class=\"data row141 col1\" >46.38%</td>\n            </tr>\n            <tr>\n                        <th id=\"T_9a750_level0_row142\" class=\"row_heading level0 row142\" >TWN</th>\n                        <td id=\"T_9a750_row142_col0\" class=\"data row142 col0\" >23</td>\n                        <td id=\"T_9a750_row142_col1\" class=\"data row142 col1\" >26.09%</td>\n            </tr>\n            <tr>\n                        <th id=\"T_9a750_level0_row143\" class=\"row_heading level0 row143\" >TZA</th>\n                        <td id=\"T_9a750_row143_col0\" class=\"data row143 col0\" >3</td>\n                        <td id=\"T_9a750_row143_col1\" class=\"data row143 col1\" >66.67%</td>\n            </tr>\n            <tr>\n                        <th id=\"T_9a750_level0_row144\" class=\"row_heading level0 row144\" >UGA</th>\n                        <td id=\"T_9a750_row144_col0\" class=\"data row144 col0\" >1</td>\n                        <td id=\"T_9a750_row144_col1\" class=\"data row144 col1\" >0.00%</td>\n            </tr>\n            <tr>\n                        <th id=\"T_9a750_level0_row145\" class=\"row_heading level0 row145\" >UKR</th>\n                        <td id=\"T_9a750_row145_col0\" class=\"data row145 col0\" >41</td>\n                        <td id=\"T_9a750_row145_col1\" class=\"data row145 col1\" >31.71%</td>\n            </tr>\n            <tr>\n                        <th id=\"T_9a750_level0_row146\" class=\"row_heading level0 row146\" >URY</th>\n                        <td id=\"T_9a750_row146_col0\" class=\"data row146 col0\" >9</td>\n                        <td id=\"T_9a750_row146_col1\" class=\"data row146 col1\" >22.22%</td>\n            </tr>\n            <tr>\n                        <th id=\"T_9a750_level0_row147\" class=\"row_heading level0 row147\" >USA</th>\n                        <td id=\"T_9a750_row147_col0\" class=\"data row147 col0\" >876</td>\n                        <td id=\"T_9a750_row147_col1\" class=\"data row147 col1\" >20.32%</td>\n            </tr>\n            <tr>\n                        <th id=\"T_9a750_level0_row148\" class=\"row_heading level0 row148\" >UZB</th>\n                        <td id=\"T_9a750_row148_col0\" class=\"data row148 col0\" >1</td>\n                        <td id=\"T_9a750_row148_col1\" class=\"data row148 col1\" >100.00%</td>\n            </tr>\n            <tr>\n                        <th id=\"T_9a750_level0_row149\" class=\"row_heading level0 row149\" >VEN</th>\n                        <td id=\"T_9a750_row149_col0\" class=\"data row149 col0\" >15</td>\n                        <td id=\"T_9a750_row149_col1\" class=\"data row149 col1\" >33.33%</td>\n            </tr>\n            <tr>\n                        <th id=\"T_9a750_level0_row150\" class=\"row_heading level0 row150\" >VGB</th>\n                        <td id=\"T_9a750_row150_col0\" class=\"data row150 col0\" >1</td>\n                        <td id=\"T_9a750_row150_col1\" class=\"data row150 col1\" >100.00%</td>\n            </tr>\n            <tr>\n                        <th id=\"T_9a750_level0_row151\" class=\"row_heading level0 row151\" >VNM</th>\n                        <td id=\"T_9a750_row151_col0\" class=\"data row151 col0\" >5</td>\n                        <td id=\"T_9a750_row151_col1\" class=\"data row151 col1\" >40.00%</td>\n            </tr>\n            <tr>\n                        <th id=\"T_9a750_level0_row152\" class=\"row_heading level0 row152\" >ZAF</th>\n                        <td id=\"T_9a750_row152_col0\" class=\"data row152 col0\" >35</td>\n                        <td id=\"T_9a750_row152_col1\" class=\"data row152 col1\" >40.00%</td>\n            </tr>\n            <tr>\n                        <th id=\"T_9a750_level0_row153\" class=\"row_heading level0 row153\" >ZMB</th>\n                        <td id=\"T_9a750_row153_col0\" class=\"data row153 col0\" >1</td>\n                        <td id=\"T_9a750_row153_col1\" class=\"data row153 col1\" >100.00%</td>\n            </tr>\n            <tr>\n                        <th id=\"T_9a750_level0_row154\" class=\"row_heading level0 row154\" >ZWE</th>\n                        <td id=\"T_9a750_row154_col0\" class=\"data row154 col0\" >1</td>\n                        <td id=\"T_9a750_row154_col1\" class=\"data row154 col1\" >0.00%</td>\n            </tr>\n    </tbody></table>"
     },
     "metadata": {},
     "output_type": "display_data"
    },
    {
     "data": {
      "text/plain": "<pandas.io.formats.style.Styler at 0x7f8736764730>",
      "text/html": "<style  type=\"text/css\" >\n</style><table id=\"T_30441_\" ><thead>    <tr>        <th class=\"blank level0\" ></th>        <th class=\"col_heading level0 col0\" >count</th>        <th class=\"col_heading level0 col1\" >mean</th>    </tr>    <tr>        <th class=\"blank level1\" ></th>        <th class=\"col_heading level1 col0\" >is_canceled</th>        <th class=\"col_heading level1 col1\" >is_canceled</th>    </tr>    <tr>        <th class=\"index_name level0\" >distribution_channel</th>        <th class=\"blank\" ></th>        <th class=\"blank\" ></th>    </tr></thead><tbody>\n                <tr>\n                        <th id=\"T_30441_level0_row0\" class=\"row_heading level0 row0\" >Corporate</th>\n                        <td id=\"T_30441_row0_col0\" class=\"data row0 col0\" >2755</td>\n                        <td id=\"T_30441_row0_col1\" class=\"data row0 col1\" >12.70%</td>\n            </tr>\n            <tr>\n                        <th id=\"T_30441_level0_row1\" class=\"row_heading level0 row1\" >Direct</th>\n                        <td id=\"T_30441_row1_col0\" class=\"data row1 col0\" >5822</td>\n                        <td id=\"T_30441_row1_col1\" class=\"data row1 col1\" >13.98%</td>\n            </tr>\n            <tr>\n                        <th id=\"T_30441_level0_row2\" class=\"row_heading level0 row2\" >GDS</th>\n                        <td id=\"T_30441_row2_col0\" class=\"data row2 col0\" >90</td>\n                        <td id=\"T_30441_row2_col1\" class=\"data row2 col1\" >18.89%</td>\n            </tr>\n            <tr>\n                        <th id=\"T_30441_level0_row3\" class=\"row_heading level0 row3\" >TA/TO</th>\n                        <td id=\"T_30441_row3_col0\" class=\"data row3 col0\" >35185</td>\n                        <td id=\"T_30441_row3_col1\" class=\"data row3 col1\" >28.33%</td>\n            </tr>\n    </tbody></table>"
     },
     "metadata": {},
     "output_type": "display_data"
    },
    {
     "data": {
      "text/plain": "<pandas.io.formats.style.Styler at 0x7f87356fabb0>",
      "text/html": "<style  type=\"text/css\" >\n</style><table id=\"T_dba11_\" ><thead>    <tr>        <th class=\"blank level0\" ></th>        <th class=\"col_heading level0 col0\" >count</th>        <th class=\"col_heading level0 col1\" >mean</th>    </tr>    <tr>        <th class=\"blank level1\" ></th>        <th class=\"col_heading level1 col0\" >is_canceled</th>        <th class=\"col_heading level1 col1\" >is_canceled</th>    </tr>    <tr>        <th class=\"index_name level0\" >is_repeated_guest</th>        <th class=\"blank\" ></th>        <th class=\"blank\" ></th>    </tr></thead><tbody>\n                <tr>\n                        <th id=\"T_dba11_level0_row0\" class=\"row_heading level0 row0\" >0</th>\n                        <td id=\"T_dba11_row0_col0\" class=\"data row0 col0\" >42408</td>\n                        <td id=\"T_dba11_row0_col1\" class=\"data row0 col1\" >25.88%</td>\n            </tr>\n            <tr>\n                        <th id=\"T_dba11_level0_row1\" class=\"row_heading level0 row1\" >1</th>\n                        <td id=\"T_dba11_row1_col0\" class=\"data row1 col0\" >1444</td>\n                        <td id=\"T_dba11_row1_col1\" class=\"data row1 col1\" >11.98%</td>\n            </tr>\n    </tbody></table>"
     },
     "metadata": {},
     "output_type": "display_data"
    },
    {
     "data": {
      "text/plain": "<pandas.io.formats.style.Styler at 0x7f8736fd3190>",
      "text/html": "<style  type=\"text/css\" >\n</style><table id=\"T_d78ef_\" ><thead>    <tr>        <th class=\"blank level0\" ></th>        <th class=\"col_heading level0 col0\" >count</th>        <th class=\"col_heading level0 col1\" >mean</th>    </tr>    <tr>        <th class=\"blank level1\" ></th>        <th class=\"col_heading level1 col0\" >is_canceled</th>        <th class=\"col_heading level1 col1\" >is_canceled</th>    </tr>    <tr>        <th class=\"index_name level0\" >previous_cancellations</th>        <th class=\"blank\" ></th>        <th class=\"blank\" ></th>    </tr></thead><tbody>\n                <tr>\n                        <th id=\"T_d78ef_level0_row0\" class=\"row_heading level0 row0\" >0</th>\n                        <td id=\"T_d78ef_row0_col0\" class=\"data row0 col0\" >42701</td>\n                        <td id=\"T_d78ef_row0_col1\" class=\"data row0 col1\" >23.98%</td>\n            </tr>\n            <tr>\n                        <th id=\"T_d78ef_level0_row1\" class=\"row_heading level0 row1\" >1</th>\n                        <td id=\"T_d78ef_row1_col0\" class=\"data row1 col0\" >995</td>\n                        <td id=\"T_d78ef_row1_col1\" class=\"data row1 col1\" >86.43%</td>\n            </tr>\n            <tr>\n                        <th id=\"T_d78ef_level0_row2\" class=\"row_heading level0 row2\" >2</th>\n                        <td id=\"T_d78ef_row2_col0\" class=\"data row2 col0\" >52</td>\n                        <td id=\"T_d78ef_row2_col1\" class=\"data row2 col1\" >40.38%</td>\n            </tr>\n            <tr>\n                        <th id=\"T_d78ef_level0_row3\" class=\"row_heading level0 row3\" >3</th>\n                        <td id=\"T_d78ef_row3_col0\" class=\"data row3 col0\" >47</td>\n                        <td id=\"T_d78ef_row3_col1\" class=\"data row3 col1\" >25.53%</td>\n            </tr>\n            <tr>\n                        <th id=\"T_d78ef_level0_row4\" class=\"row_heading level0 row4\" >4</th>\n                        <td id=\"T_d78ef_row4_col0\" class=\"data row4 col0\" >5</td>\n                        <td id=\"T_d78ef_row4_col1\" class=\"data row4 col1\" >20.00%</td>\n            </tr>\n            <tr>\n                        <th id=\"T_d78ef_level0_row5\" class=\"row_heading level0 row5\" >5</th>\n                        <td id=\"T_d78ef_row5_col0\" class=\"data row5 col0\" >13</td>\n                        <td id=\"T_d78ef_row5_col1\" class=\"data row5 col1\" >15.38%</td>\n            </tr>\n            <tr>\n                        <th id=\"T_d78ef_level0_row6\" class=\"row_heading level0 row6\" >6</th>\n                        <td id=\"T_d78ef_row6_col0\" class=\"data row6 col0\" >2</td>\n                        <td id=\"T_d78ef_row6_col1\" class=\"data row6 col1\" >100.00%</td>\n            </tr>\n            <tr>\n                        <th id=\"T_d78ef_level0_row7\" class=\"row_heading level0 row7\" >11</th>\n                        <td id=\"T_d78ef_row7_col0\" class=\"data row7 col0\" >27</td>\n                        <td id=\"T_d78ef_row7_col1\" class=\"data row7 col1\" >7.41%</td>\n            </tr>\n            <tr>\n                        <th id=\"T_d78ef_level0_row8\" class=\"row_heading level0 row8\" >13</th>\n                        <td id=\"T_d78ef_row8_col0\" class=\"data row8 col0\" >3</td>\n                        <td id=\"T_d78ef_row8_col1\" class=\"data row8 col1\" >66.67%</td>\n            </tr>\n            <tr>\n                        <th id=\"T_d78ef_level0_row9\" class=\"row_heading level0 row9\" >14</th>\n                        <td id=\"T_d78ef_row9_col0\" class=\"data row9 col0\" >1</td>\n                        <td id=\"T_d78ef_row9_col1\" class=\"data row9 col1\" >100.00%</td>\n            </tr>\n            <tr>\n                        <th id=\"T_d78ef_level0_row10\" class=\"row_heading level0 row10\" >19</th>\n                        <td id=\"T_d78ef_row10_col0\" class=\"data row10 col0\" >1</td>\n                        <td id=\"T_d78ef_row10_col1\" class=\"data row10 col1\" >100.00%</td>\n            </tr>\n            <tr>\n                        <th id=\"T_d78ef_level0_row11\" class=\"row_heading level0 row11\" >21</th>\n                        <td id=\"T_d78ef_row11_col0\" class=\"data row11 col0\" >1</td>\n                        <td id=\"T_d78ef_row11_col1\" class=\"data row11 col1\" >100.00%</td>\n            </tr>\n            <tr>\n                        <th id=\"T_d78ef_level0_row12\" class=\"row_heading level0 row12\" >24</th>\n                        <td id=\"T_d78ef_row12_col0\" class=\"data row12 col0\" >2</td>\n                        <td id=\"T_d78ef_row12_col1\" class=\"data row12 col1\" >100.00%</td>\n            </tr>\n            <tr>\n                        <th id=\"T_d78ef_level0_row13\" class=\"row_heading level0 row13\" >25</th>\n                        <td id=\"T_d78ef_row13_col0\" class=\"data row13 col0\" >1</td>\n                        <td id=\"T_d78ef_row13_col1\" class=\"data row13 col1\" >100.00%</td>\n            </tr>\n            <tr>\n                        <th id=\"T_d78ef_level0_row14\" class=\"row_heading level0 row14\" >26</th>\n                        <td id=\"T_d78ef_row14_col0\" class=\"data row14 col0\" >1</td>\n                        <td id=\"T_d78ef_row14_col1\" class=\"data row14 col1\" >100.00%</td>\n            </tr>\n    </tbody></table>"
     },
     "metadata": {},
     "output_type": "display_data"
    },
    {
     "data": {
      "text/plain": "<pandas.io.formats.style.Styler at 0x7f87374ce4c0>",
      "text/html": "<style  type=\"text/css\" >\n</style><table id=\"T_1bd10_\" ><thead>    <tr>        <th class=\"blank level0\" ></th>        <th class=\"col_heading level0 col0\" >count</th>        <th class=\"col_heading level0 col1\" >mean</th>    </tr>    <tr>        <th class=\"blank level1\" ></th>        <th class=\"col_heading level1 col0\" >is_canceled</th>        <th class=\"col_heading level1 col1\" >is_canceled</th>    </tr>    <tr>        <th class=\"index_name level0\" >previous_bookings_not_canceled</th>        <th class=\"blank\" ></th>        <th class=\"blank\" ></th>    </tr></thead><tbody>\n                <tr>\n                        <th id=\"T_1bd10_level0_row0\" class=\"row_heading level0 row0\" >0</th>\n                        <td id=\"T_1bd10_row0_col0\" class=\"data row0 col0\" >42368</td>\n                        <td id=\"T_1bd10_row0_col1\" class=\"data row0 col1\" >26.12%</td>\n            </tr>\n            <tr>\n                        <th id=\"T_1bd10_level0_row1\" class=\"row_heading level0 row1\" >1</th>\n                        <td id=\"T_1bd10_row1_col0\" class=\"data row1 col0\" >598</td>\n                        <td id=\"T_1bd10_row1_col1\" class=\"data row1 col1\" >4.35%</td>\n            </tr>\n            <tr>\n                        <th id=\"T_1bd10_level0_row2\" class=\"row_heading level0 row2\" >2</th>\n                        <td id=\"T_1bd10_row2_col0\" class=\"data row2 col0\" >251</td>\n                        <td id=\"T_1bd10_row2_col1\" class=\"data row2 col1\" >5.18%</td>\n            </tr>\n            <tr>\n                        <th id=\"T_1bd10_level0_row3\" class=\"row_heading level0 row3\" >3</th>\n                        <td id=\"T_1bd10_row3_col0\" class=\"data row3 col0\" >134</td>\n                        <td id=\"T_1bd10_row3_col1\" class=\"data row3 col1\" >6.72%</td>\n            </tr>\n            <tr>\n                        <th id=\"T_1bd10_level0_row4\" class=\"row_heading level0 row4\" >4</th>\n                        <td id=\"T_1bd10_row4_col0\" class=\"data row4 col0\" >113</td>\n                        <td id=\"T_1bd10_row4_col1\" class=\"data row4 col1\" >7.08%</td>\n            </tr>\n            <tr>\n                        <th id=\"T_1bd10_level0_row5\" class=\"row_heading level0 row5\" >5</th>\n                        <td id=\"T_1bd10_row5_col0\" class=\"data row5 col0\" >89</td>\n                        <td id=\"T_1bd10_row5_col1\" class=\"data row5 col1\" >7.87%</td>\n            </tr>\n            <tr>\n                        <th id=\"T_1bd10_level0_row6\" class=\"row_heading level0 row6\" >6</th>\n                        <td id=\"T_1bd10_row6_col0\" class=\"data row6 col0\" >55</td>\n                        <td id=\"T_1bd10_row6_col1\" class=\"data row6 col1\" >3.64%</td>\n            </tr>\n            <tr>\n                        <th id=\"T_1bd10_level0_row7\" class=\"row_heading level0 row7\" >7</th>\n                        <td id=\"T_1bd10_row7_col0\" class=\"data row7 col0\" >34</td>\n                        <td id=\"T_1bd10_row7_col1\" class=\"data row7 col1\" >0.00%</td>\n            </tr>\n            <tr>\n                        <th id=\"T_1bd10_level0_row8\" class=\"row_heading level0 row8\" >8</th>\n                        <td id=\"T_1bd10_row8_col0\" class=\"data row8 col0\" >25</td>\n                        <td id=\"T_1bd10_row8_col1\" class=\"data row8 col1\" >8.00%</td>\n            </tr>\n            <tr>\n                        <th id=\"T_1bd10_level0_row9\" class=\"row_heading level0 row9\" >9</th>\n                        <td id=\"T_1bd10_row9_col0\" class=\"data row9 col0\" >23</td>\n                        <td id=\"T_1bd10_row9_col1\" class=\"data row9 col1\" >0.00%</td>\n            </tr>\n            <tr>\n                        <th id=\"T_1bd10_level0_row10\" class=\"row_heading level0 row10\" >10</th>\n                        <td id=\"T_1bd10_row10_col0\" class=\"data row10 col0\" >21</td>\n                        <td id=\"T_1bd10_row10_col1\" class=\"data row10 col1\" >9.52%</td>\n            </tr>\n            <tr>\n                        <th id=\"T_1bd10_level0_row11\" class=\"row_heading level0 row11\" >11</th>\n                        <td id=\"T_1bd10_row11_col0\" class=\"data row11 col0\" >16</td>\n                        <td id=\"T_1bd10_row11_col1\" class=\"data row11 col1\" >12.50%</td>\n            </tr>\n            <tr>\n                        <th id=\"T_1bd10_level0_row12\" class=\"row_heading level0 row12\" >12</th>\n                        <td id=\"T_1bd10_row12_col0\" class=\"data row12 col0\" >14</td>\n                        <td id=\"T_1bd10_row12_col1\" class=\"data row12 col1\" >21.43%</td>\n            </tr>\n            <tr>\n                        <th id=\"T_1bd10_level0_row13\" class=\"row_heading level0 row13\" >13</th>\n                        <td id=\"T_1bd10_row13_col0\" class=\"data row13 col0\" >9</td>\n                        <td id=\"T_1bd10_row13_col1\" class=\"data row13 col1\" >0.00%</td>\n            </tr>\n            <tr>\n                        <th id=\"T_1bd10_level0_row14\" class=\"row_heading level0 row14\" >14</th>\n                        <td id=\"T_1bd10_row14_col0\" class=\"data row14 col0\" >8</td>\n                        <td id=\"T_1bd10_row14_col1\" class=\"data row14 col1\" >0.00%</td>\n            </tr>\n            <tr>\n                        <th id=\"T_1bd10_level0_row15\" class=\"row_heading level0 row15\" >15</th>\n                        <td id=\"T_1bd10_row15_col0\" class=\"data row15 col0\" >7</td>\n                        <td id=\"T_1bd10_row15_col1\" class=\"data row15 col1\" >14.29%</td>\n            </tr>\n            <tr>\n                        <th id=\"T_1bd10_level0_row16\" class=\"row_heading level0 row16\" >16</th>\n                        <td id=\"T_1bd10_row16_col0\" class=\"data row16 col0\" >6</td>\n                        <td id=\"T_1bd10_row16_col1\" class=\"data row16 col1\" >0.00%</td>\n            </tr>\n            <tr>\n                        <th id=\"T_1bd10_level0_row17\" class=\"row_heading level0 row17\" >17</th>\n                        <td id=\"T_1bd10_row17_col0\" class=\"data row17 col0\" >5</td>\n                        <td id=\"T_1bd10_row17_col1\" class=\"data row17 col1\" >0.00%</td>\n            </tr>\n            <tr>\n                        <th id=\"T_1bd10_level0_row18\" class=\"row_heading level0 row18\" >18</th>\n                        <td id=\"T_1bd10_row18_col0\" class=\"data row18 col0\" >5</td>\n                        <td id=\"T_1bd10_row18_col1\" class=\"data row18 col1\" >0.00%</td>\n            </tr>\n            <tr>\n                        <th id=\"T_1bd10_level0_row19\" class=\"row_heading level0 row19\" >19</th>\n                        <td id=\"T_1bd10_row19_col0\" class=\"data row19 col0\" >5</td>\n                        <td id=\"T_1bd10_row19_col1\" class=\"data row19 col1\" >0.00%</td>\n            </tr>\n            <tr>\n                        <th id=\"T_1bd10_level0_row20\" class=\"row_heading level0 row20\" >20</th>\n                        <td id=\"T_1bd10_row20_col0\" class=\"data row20 col0\" >5</td>\n                        <td id=\"T_1bd10_row20_col1\" class=\"data row20 col1\" >0.00%</td>\n            </tr>\n            <tr>\n                        <th id=\"T_1bd10_level0_row21\" class=\"row_heading level0 row21\" >21</th>\n                        <td id=\"T_1bd10_row21_col0\" class=\"data row21 col0\" >8</td>\n                        <td id=\"T_1bd10_row21_col1\" class=\"data row21 col1\" >0.00%</td>\n            </tr>\n            <tr>\n                        <th id=\"T_1bd10_level0_row22\" class=\"row_heading level0 row22\" >22</th>\n                        <td id=\"T_1bd10_row22_col0\" class=\"data row22 col0\" >7</td>\n                        <td id=\"T_1bd10_row22_col1\" class=\"data row22 col1\" >0.00%</td>\n            </tr>\n            <tr>\n                        <th id=\"T_1bd10_level0_row23\" class=\"row_heading level0 row23\" >23</th>\n                        <td id=\"T_1bd10_row23_col0\" class=\"data row23 col0\" >2</td>\n                        <td id=\"T_1bd10_row23_col1\" class=\"data row23 col1\" >0.00%</td>\n            </tr>\n            <tr>\n                        <th id=\"T_1bd10_level0_row24\" class=\"row_heading level0 row24\" >24</th>\n                        <td id=\"T_1bd10_row24_col0\" class=\"data row24 col0\" >3</td>\n                        <td id=\"T_1bd10_row24_col1\" class=\"data row24 col1\" >0.00%</td>\n            </tr>\n            <tr>\n                        <th id=\"T_1bd10_level0_row25\" class=\"row_heading level0 row25\" >25</th>\n                        <td id=\"T_1bd10_row25_col0\" class=\"data row25 col0\" >3</td>\n                        <td id=\"T_1bd10_row25_col1\" class=\"data row25 col1\" >33.33%</td>\n            </tr>\n            <tr>\n                        <th id=\"T_1bd10_level0_row26\" class=\"row_heading level0 row26\" >26</th>\n                        <td id=\"T_1bd10_row26_col0\" class=\"data row26 col0\" >1</td>\n                        <td id=\"T_1bd10_row26_col1\" class=\"data row26 col1\" >0.00%</td>\n            </tr>\n            <tr>\n                        <th id=\"T_1bd10_level0_row27\" class=\"row_heading level0 row27\" >27</th>\n                        <td id=\"T_1bd10_row27_col0\" class=\"data row27 col0\" >3</td>\n                        <td id=\"T_1bd10_row27_col1\" class=\"data row27 col1\" >33.33%</td>\n            </tr>\n            <tr>\n                        <th id=\"T_1bd10_level0_row28\" class=\"row_heading level0 row28\" >28</th>\n                        <td id=\"T_1bd10_row28_col0\" class=\"data row28 col0\" >2</td>\n                        <td id=\"T_1bd10_row28_col1\" class=\"data row28 col1\" >0.00%</td>\n            </tr>\n            <tr>\n                        <th id=\"T_1bd10_level0_row29\" class=\"row_heading level0 row29\" >29</th>\n                        <td id=\"T_1bd10_row29_col0\" class=\"data row29 col0\" >2</td>\n                        <td id=\"T_1bd10_row29_col1\" class=\"data row29 col1\" >50.00%</td>\n            </tr>\n            <tr>\n                        <th id=\"T_1bd10_level0_row30\" class=\"row_heading level0 row30\" >30</th>\n                        <td id=\"T_1bd10_row30_col0\" class=\"data row30 col0\" >1</td>\n                        <td id=\"T_1bd10_row30_col1\" class=\"data row30 col1\" >0.00%</td>\n            </tr>\n            <tr>\n                        <th id=\"T_1bd10_level0_row31\" class=\"row_heading level0 row31\" >31</th>\n                        <td id=\"T_1bd10_row31_col0\" class=\"data row31 col0\" >1</td>\n                        <td id=\"T_1bd10_row31_col1\" class=\"data row31 col1\" >0.00%</td>\n            </tr>\n            <tr>\n                        <th id=\"T_1bd10_level0_row32\" class=\"row_heading level0 row32\" >32</th>\n                        <td id=\"T_1bd10_row32_col0\" class=\"data row32 col0\" >1</td>\n                        <td id=\"T_1bd10_row32_col1\" class=\"data row32 col1\" >0.00%</td>\n            </tr>\n            <tr>\n                        <th id=\"T_1bd10_level0_row33\" class=\"row_heading level0 row33\" >33</th>\n                        <td id=\"T_1bd10_row33_col0\" class=\"data row33 col0\" >1</td>\n                        <td id=\"T_1bd10_row33_col1\" class=\"data row33 col1\" >0.00%</td>\n            </tr>\n            <tr>\n                        <th id=\"T_1bd10_level0_row34\" class=\"row_heading level0 row34\" >34</th>\n                        <td id=\"T_1bd10_row34_col0\" class=\"data row34 col0\" >1</td>\n                        <td id=\"T_1bd10_row34_col1\" class=\"data row34 col1\" >0.00%</td>\n            </tr>\n            <tr>\n                        <th id=\"T_1bd10_level0_row35\" class=\"row_heading level0 row35\" >35</th>\n                        <td id=\"T_1bd10_row35_col0\" class=\"data row35 col0\" >1</td>\n                        <td id=\"T_1bd10_row35_col1\" class=\"data row35 col1\" >0.00%</td>\n            </tr>\n            <tr>\n                        <th id=\"T_1bd10_level0_row36\" class=\"row_heading level0 row36\" >36</th>\n                        <td id=\"T_1bd10_row36_col0\" class=\"data row36 col0\" >1</td>\n                        <td id=\"T_1bd10_row36_col1\" class=\"data row36 col1\" >0.00%</td>\n            </tr>\n            <tr>\n                        <th id=\"T_1bd10_level0_row37\" class=\"row_heading level0 row37\" >37</th>\n                        <td id=\"T_1bd10_row37_col0\" class=\"data row37 col0\" >1</td>\n                        <td id=\"T_1bd10_row37_col1\" class=\"data row37 col1\" >0.00%</td>\n            </tr>\n            <tr>\n                        <th id=\"T_1bd10_level0_row38\" class=\"row_heading level0 row38\" >38</th>\n                        <td id=\"T_1bd10_row38_col0\" class=\"data row38 col0\" >1</td>\n                        <td id=\"T_1bd10_row38_col1\" class=\"data row38 col1\" >0.00%</td>\n            </tr>\n            <tr>\n                        <th id=\"T_1bd10_level0_row39\" class=\"row_heading level0 row39\" >39</th>\n                        <td id=\"T_1bd10_row39_col0\" class=\"data row39 col0\" >1</td>\n                        <td id=\"T_1bd10_row39_col1\" class=\"data row39 col1\" >0.00%</td>\n            </tr>\n            <tr>\n                        <th id=\"T_1bd10_level0_row40\" class=\"row_heading level0 row40\" >40</th>\n                        <td id=\"T_1bd10_row40_col0\" class=\"data row40 col0\" >1</td>\n                        <td id=\"T_1bd10_row40_col1\" class=\"data row40 col1\" >0.00%</td>\n            </tr>\n            <tr>\n                        <th id=\"T_1bd10_level0_row41\" class=\"row_heading level0 row41\" >41</th>\n                        <td id=\"T_1bd10_row41_col0\" class=\"data row41 col0\" >1</td>\n                        <td id=\"T_1bd10_row41_col1\" class=\"data row41 col1\" >0.00%</td>\n            </tr>\n            <tr>\n                        <th id=\"T_1bd10_level0_row42\" class=\"row_heading level0 row42\" >42</th>\n                        <td id=\"T_1bd10_row42_col0\" class=\"data row42 col0\" >1</td>\n                        <td id=\"T_1bd10_row42_col1\" class=\"data row42 col1\" >0.00%</td>\n            </tr>\n            <tr>\n                        <th id=\"T_1bd10_level0_row43\" class=\"row_heading level0 row43\" >43</th>\n                        <td id=\"T_1bd10_row43_col0\" class=\"data row43 col0\" >1</td>\n                        <td id=\"T_1bd10_row43_col1\" class=\"data row43 col1\" >0.00%</td>\n            </tr>\n            <tr>\n                        <th id=\"T_1bd10_level0_row44\" class=\"row_heading level0 row44\" >44</th>\n                        <td id=\"T_1bd10_row44_col0\" class=\"data row44 col0\" >2</td>\n                        <td id=\"T_1bd10_row44_col1\" class=\"data row44 col1\" >50.00%</td>\n            </tr>\n            <tr>\n                        <th id=\"T_1bd10_level0_row45\" class=\"row_heading level0 row45\" >45</th>\n                        <td id=\"T_1bd10_row45_col0\" class=\"data row45 col0\" >1</td>\n                        <td id=\"T_1bd10_row45_col1\" class=\"data row45 col1\" >0.00%</td>\n            </tr>\n            <tr>\n                        <th id=\"T_1bd10_level0_row46\" class=\"row_heading level0 row46\" >47</th>\n                        <td id=\"T_1bd10_row46_col0\" class=\"data row46 col0\" >1</td>\n                        <td id=\"T_1bd10_row46_col1\" class=\"data row46 col1\" >0.00%</td>\n            </tr>\n            <tr>\n                        <th id=\"T_1bd10_level0_row47\" class=\"row_heading level0 row47\" >48</th>\n                        <td id=\"T_1bd10_row47_col0\" class=\"data row47 col0\" >2</td>\n                        <td id=\"T_1bd10_row47_col1\" class=\"data row47 col1\" >50.00%</td>\n            </tr>\n            <tr>\n                        <th id=\"T_1bd10_level0_row48\" class=\"row_heading level0 row48\" >49</th>\n                        <td id=\"T_1bd10_row48_col0\" class=\"data row48 col0\" >1</td>\n                        <td id=\"T_1bd10_row48_col1\" class=\"data row48 col1\" >0.00%</td>\n            </tr>\n            <tr>\n                        <th id=\"T_1bd10_level0_row49\" class=\"row_heading level0 row49\" >50</th>\n                        <td id=\"T_1bd10_row49_col0\" class=\"data row49 col0\" >1</td>\n                        <td id=\"T_1bd10_row49_col1\" class=\"data row49 col1\" >0.00%</td>\n            </tr>\n            <tr>\n                        <th id=\"T_1bd10_level0_row50\" class=\"row_heading level0 row50\" >51</th>\n                        <td id=\"T_1bd10_row50_col0\" class=\"data row50 col0\" >1</td>\n                        <td id=\"T_1bd10_row50_col1\" class=\"data row50 col1\" >0.00%</td>\n            </tr>\n            <tr>\n                        <th id=\"T_1bd10_level0_row51\" class=\"row_heading level0 row51\" >52</th>\n                        <td id=\"T_1bd10_row51_col0\" class=\"data row51 col0\" >1</td>\n                        <td id=\"T_1bd10_row51_col1\" class=\"data row51 col1\" >0.00%</td>\n            </tr>\n            <tr>\n                        <th id=\"T_1bd10_level0_row52\" class=\"row_heading level0 row52\" >53</th>\n                        <td id=\"T_1bd10_row52_col0\" class=\"data row52 col0\" >1</td>\n                        <td id=\"T_1bd10_row52_col1\" class=\"data row52 col1\" >0.00%</td>\n            </tr>\n            <tr>\n                        <th id=\"T_1bd10_level0_row53\" class=\"row_heading level0 row53\" >54</th>\n                        <td id=\"T_1bd10_row53_col0\" class=\"data row53 col0\" >1</td>\n                        <td id=\"T_1bd10_row53_col1\" class=\"data row53 col1\" >0.00%</td>\n            </tr>\n            <tr>\n                        <th id=\"T_1bd10_level0_row54\" class=\"row_heading level0 row54\" >55</th>\n                        <td id=\"T_1bd10_row54_col0\" class=\"data row54 col0\" >1</td>\n                        <td id=\"T_1bd10_row54_col1\" class=\"data row54 col1\" >0.00%</td>\n            </tr>\n            <tr>\n                        <th id=\"T_1bd10_level0_row55\" class=\"row_heading level0 row55\" >56</th>\n                        <td id=\"T_1bd10_row55_col0\" class=\"data row55 col0\" >1</td>\n                        <td id=\"T_1bd10_row55_col1\" class=\"data row55 col1\" >0.00%</td>\n            </tr>\n            <tr>\n                        <th id=\"T_1bd10_level0_row56\" class=\"row_heading level0 row56\" >57</th>\n                        <td id=\"T_1bd10_row56_col0\" class=\"data row56 col0\" >1</td>\n                        <td id=\"T_1bd10_row56_col1\" class=\"data row56 col1\" >0.00%</td>\n            </tr>\n            <tr>\n                        <th id=\"T_1bd10_level0_row57\" class=\"row_heading level0 row57\" >58</th>\n                        <td id=\"T_1bd10_row57_col0\" class=\"data row57 col0\" >1</td>\n                        <td id=\"T_1bd10_row57_col1\" class=\"data row57 col1\" >100.00%</td>\n            </tr>\n    </tbody></table>"
     },
     "metadata": {},
     "output_type": "display_data"
    },
    {
     "data": {
      "text/plain": "<pandas.io.formats.style.Styler at 0x7f87356fabb0>",
      "text/html": "<style  type=\"text/css\" >\n</style><table id=\"T_3c716_\" ><thead>    <tr>        <th class=\"blank level0\" ></th>        <th class=\"col_heading level0 col0\" >count</th>        <th class=\"col_heading level0 col1\" >mean</th>    </tr>    <tr>        <th class=\"blank level1\" ></th>        <th class=\"col_heading level1 col0\" >is_canceled</th>        <th class=\"col_heading level1 col1\" >is_canceled</th>    </tr>    <tr>        <th class=\"index_name level0\" >reserved_room_type</th>        <th class=\"blank\" ></th>        <th class=\"blank\" ></th>    </tr></thead><tbody>\n                <tr>\n                        <th id=\"T_3c716_level0_row0\" class=\"row_heading level0 row0\" >a</th>\n                        <td id=\"T_3c716_row0_col0\" class=\"data row0 col0\" >30445</td>\n                        <td id=\"T_3c716_row0_col1\" class=\"data row0 col1\" >24.49%</td>\n            </tr>\n            <tr>\n                        <th id=\"T_3c716_level0_row1\" class=\"row_heading level0 row1\" >b</th>\n                        <td id=\"T_3c716_row1_col0\" class=\"data row1 col0\" >745</td>\n                        <td id=\"T_3c716_row1_col1\" class=\"data row1 col1\" >29.66%</td>\n            </tr>\n            <tr>\n                        <th id=\"T_3c716_level0_row2\" class=\"row_heading level0 row2\" >c</th>\n                        <td id=\"T_3c716_row2_col0\" class=\"data row2 col0\" >227</td>\n                        <td id=\"T_3c716_row2_col1\" class=\"data row2 col1\" >18.94%</td>\n            </tr>\n            <tr>\n                        <th id=\"T_3c716_level0_row3\" class=\"row_heading level0 row3\" >d</th>\n                        <td id=\"T_3c716_row3_col0\" class=\"data row3 col0\" >8423</td>\n                        <td id=\"T_3c716_row3_col1\" class=\"data row3 col1\" >28.59%</td>\n            </tr>\n            <tr>\n                        <th id=\"T_3c716_level0_row4\" class=\"row_heading level0 row4\" >e</th>\n                        <td id=\"T_3c716_row4_col0\" class=\"data row4 col0\" >2254</td>\n                        <td id=\"T_3c716_row4_col1\" class=\"data row4 col1\" >22.32%</td>\n            </tr>\n            <tr>\n                        <th id=\"T_3c716_level0_row5\" class=\"row_heading level0 row5\" >f</th>\n                        <td id=\"T_3c716_row5_col0\" class=\"data row5 col0\" >1178</td>\n                        <td id=\"T_3c716_row5_col1\" class=\"data row5 col1\" >28.61%</td>\n            </tr>\n            <tr>\n                        <th id=\"T_3c716_level0_row6\" class=\"row_heading level0 row6\" >g</th>\n                        <td id=\"T_3c716_row6_col0\" class=\"data row6 col0\" >580</td>\n                        <td id=\"T_3c716_row6_col1\" class=\"data row6 col1\" >31.03%</td>\n            </tr>\n    </tbody></table>"
     },
     "metadata": {},
     "output_type": "display_data"
    },
    {
     "data": {
      "text/plain": "<pandas.io.formats.style.Styler at 0x7f87374cef10>",
      "text/html": "<style  type=\"text/css\" >\n</style><table id=\"T_5bf5d_\" ><thead>    <tr>        <th class=\"blank level0\" ></th>        <th class=\"col_heading level0 col0\" >count</th>        <th class=\"col_heading level0 col1\" >mean</th>    </tr>    <tr>        <th class=\"blank level1\" ></th>        <th class=\"col_heading level1 col0\" >is_canceled</th>        <th class=\"col_heading level1 col1\" >is_canceled</th>    </tr>    <tr>        <th class=\"index_name level0\" >booking_changes</th>        <th class=\"blank\" ></th>        <th class=\"blank\" ></th>    </tr></thead><tbody>\n                <tr>\n                        <th id=\"T_5bf5d_level0_row0\" class=\"row_heading level0 row0\" >0</th>\n                        <td id=\"T_5bf5d_row0_col0\" class=\"data row0 col0\" >36265</td>\n                        <td id=\"T_5bf5d_row0_col1\" class=\"data row0 col1\" >27.69%</td>\n            </tr>\n            <tr>\n                        <th id=\"T_5bf5d_level0_row1\" class=\"row_heading level0 row1\" >1</th>\n                        <td id=\"T_5bf5d_row1_col0\" class=\"data row1 col0\" >5391</td>\n                        <td id=\"T_5bf5d_row1_col1\" class=\"data row1 col1\" >13.32%</td>\n            </tr>\n            <tr>\n                        <th id=\"T_5bf5d_level0_row2\" class=\"row_heading level0 row2\" >2</th>\n                        <td id=\"T_5bf5d_row2_col0\" class=\"data row2 col0\" >1578</td>\n                        <td id=\"T_5bf5d_row2_col1\" class=\"data row2 col1\" >17.43%</td>\n            </tr>\n            <tr>\n                        <th id=\"T_5bf5d_level0_row3\" class=\"row_heading level0 row3\" >3</th>\n                        <td id=\"T_5bf5d_row3_col0\" class=\"data row3 col0\" >379</td>\n                        <td id=\"T_5bf5d_row3_col1\" class=\"data row3 col1\" >15.04%</td>\n            </tr>\n            <tr>\n                        <th id=\"T_5bf5d_level0_row4\" class=\"row_heading level0 row4\" >4</th>\n                        <td id=\"T_5bf5d_row4_col0\" class=\"data row4 col0\" >138</td>\n                        <td id=\"T_5bf5d_row4_col1\" class=\"data row4 col1\" >21.74%</td>\n            </tr>\n            <tr>\n                        <th id=\"T_5bf5d_level0_row5\" class=\"row_heading level0 row5\" >5</th>\n                        <td id=\"T_5bf5d_row5_col0\" class=\"data row5 col0\" >41</td>\n                        <td id=\"T_5bf5d_row5_col1\" class=\"data row5 col1\" >24.39%</td>\n            </tr>\n            <tr>\n                        <th id=\"T_5bf5d_level0_row6\" class=\"row_heading level0 row6\" >6</th>\n                        <td id=\"T_5bf5d_row6_col0\" class=\"data row6 col0\" >18</td>\n                        <td id=\"T_5bf5d_row6_col1\" class=\"data row6 col1\" >38.89%</td>\n            </tr>\n            <tr>\n                        <th id=\"T_5bf5d_level0_row7\" class=\"row_heading level0 row7\" >7</th>\n                        <td id=\"T_5bf5d_row7_col0\" class=\"data row7 col0\" >18</td>\n                        <td id=\"T_5bf5d_row7_col1\" class=\"data row7 col1\" >11.11%</td>\n            </tr>\n            <tr>\n                        <th id=\"T_5bf5d_level0_row8\" class=\"row_heading level0 row8\" >8</th>\n                        <td id=\"T_5bf5d_row8_col0\" class=\"data row8 col0\" >7</td>\n                        <td id=\"T_5bf5d_row8_col1\" class=\"data row8 col1\" >28.57%</td>\n            </tr>\n            <tr>\n                        <th id=\"T_5bf5d_level0_row9\" class=\"row_heading level0 row9\" >9</th>\n                        <td id=\"T_5bf5d_row9_col0\" class=\"data row9 col0\" >5</td>\n                        <td id=\"T_5bf5d_row9_col1\" class=\"data row9 col1\" >20.00%</td>\n            </tr>\n            <tr>\n                        <th id=\"T_5bf5d_level0_row10\" class=\"row_heading level0 row10\" >10</th>\n                        <td id=\"T_5bf5d_row10_col0\" class=\"data row10 col0\" >2</td>\n                        <td id=\"T_5bf5d_row10_col1\" class=\"data row10 col1\" >50.00%</td>\n            </tr>\n            <tr>\n                        <th id=\"T_5bf5d_level0_row11\" class=\"row_heading level0 row11\" >13</th>\n                        <td id=\"T_5bf5d_row11_col0\" class=\"data row11 col0\" >4</td>\n                        <td id=\"T_5bf5d_row11_col1\" class=\"data row11 col1\" >0.00%</td>\n            </tr>\n            <tr>\n                        <th id=\"T_5bf5d_level0_row12\" class=\"row_heading level0 row12\" >14</th>\n                        <td id=\"T_5bf5d_row12_col0\" class=\"data row12 col0\" >2</td>\n                        <td id=\"T_5bf5d_row12_col1\" class=\"data row12 col1\" >50.00%</td>\n            </tr>\n            <tr>\n                        <th id=\"T_5bf5d_level0_row13\" class=\"row_heading level0 row13\" >15</th>\n                        <td id=\"T_5bf5d_row13_col0\" class=\"data row13 col0\" >2</td>\n                        <td id=\"T_5bf5d_row13_col1\" class=\"data row13 col1\" >0.00%</td>\n            </tr>\n            <tr>\n                        <th id=\"T_5bf5d_level0_row14\" class=\"row_heading level0 row14\" >16</th>\n                        <td id=\"T_5bf5d_row14_col0\" class=\"data row14 col0\" >1</td>\n                        <td id=\"T_5bf5d_row14_col1\" class=\"data row14 col1\" >100.00%</td>\n            </tr>\n            <tr>\n                        <th id=\"T_5bf5d_level0_row15\" class=\"row_heading level0 row15\" >17</th>\n                        <td id=\"T_5bf5d_row15_col0\" class=\"data row15 col0\" >1</td>\n                        <td id=\"T_5bf5d_row15_col1\" class=\"data row15 col1\" >0.00%</td>\n            </tr>\n    </tbody></table>"
     },
     "metadata": {},
     "output_type": "display_data"
    },
    {
     "data": {
      "text/plain": "<pandas.io.formats.style.Styler at 0x7f8736764eb0>",
      "text/html": "<style  type=\"text/css\" >\n</style><table id=\"T_8236c_\" ><thead>    <tr>        <th class=\"blank level0\" ></th>        <th class=\"col_heading level0 col0\" >count</th>        <th class=\"col_heading level0 col1\" >mean</th>    </tr>    <tr>        <th class=\"blank level1\" ></th>        <th class=\"col_heading level1 col0\" >is_canceled</th>        <th class=\"col_heading level1 col1\" >is_canceled</th>    </tr>    <tr>        <th class=\"index_name level0\" >days_in_waiting_list</th>        <th class=\"blank\" ></th>        <th class=\"blank\" ></th>    </tr></thead><tbody>\n                <tr>\n                        <th id=\"T_8236c_level0_row0\" class=\"row_heading level0 row0\" >0</th>\n                        <td id=\"T_8236c_row0_col0\" class=\"data row0 col0\" >43372</td>\n                        <td id=\"T_8236c_row0_col1\" class=\"data row0 col1\" >25.36%</td>\n            </tr>\n            <tr>\n                        <th id=\"T_8236c_level0_row1\" class=\"row_heading level0 row1\" >1</th>\n                        <td id=\"T_8236c_row1_col0\" class=\"data row1 col0\" >3</td>\n                        <td id=\"T_8236c_row1_col1\" class=\"data row1 col1\" >0.00%</td>\n            </tr>\n            <tr>\n                        <th id=\"T_8236c_level0_row2\" class=\"row_heading level0 row2\" >2</th>\n                        <td id=\"T_8236c_row2_col0\" class=\"data row2 col0\" >2</td>\n                        <td id=\"T_8236c_row2_col1\" class=\"data row2 col1\" >0.00%</td>\n            </tr>\n            <tr>\n                        <th id=\"T_8236c_level0_row3\" class=\"row_heading level0 row3\" >3</th>\n                        <td id=\"T_8236c_row3_col0\" class=\"data row3 col0\" >2</td>\n                        <td id=\"T_8236c_row3_col1\" class=\"data row3 col1\" >100.00%</td>\n            </tr>\n            <tr>\n                        <th id=\"T_8236c_level0_row4\" class=\"row_heading level0 row4\" >4</th>\n                        <td id=\"T_8236c_row4_col0\" class=\"data row4 col0\" >10</td>\n                        <td id=\"T_8236c_row4_col1\" class=\"data row4 col1\" >10.00%</td>\n            </tr>\n            <tr>\n                        <th id=\"T_8236c_level0_row5\" class=\"row_heading level0 row5\" >5</th>\n                        <td id=\"T_8236c_row5_col0\" class=\"data row5 col0\" >2</td>\n                        <td id=\"T_8236c_row5_col1\" class=\"data row5 col1\" >50.00%</td>\n            </tr>\n            <tr>\n                        <th id=\"T_8236c_level0_row6\" class=\"row_heading level0 row6\" >6</th>\n                        <td id=\"T_8236c_row6_col0\" class=\"data row6 col0\" >4</td>\n                        <td id=\"T_8236c_row6_col1\" class=\"data row6 col1\" >0.00%</td>\n            </tr>\n            <tr>\n                        <th id=\"T_8236c_level0_row7\" class=\"row_heading level0 row7\" >8</th>\n                        <td id=\"T_8236c_row7_col0\" class=\"data row7 col0\" >4</td>\n                        <td id=\"T_8236c_row7_col1\" class=\"data row7 col1\" >100.00%</td>\n            </tr>\n            <tr>\n                        <th id=\"T_8236c_level0_row8\" class=\"row_heading level0 row8\" >9</th>\n                        <td id=\"T_8236c_row8_col0\" class=\"data row8 col0\" >2</td>\n                        <td id=\"T_8236c_row8_col1\" class=\"data row8 col1\" >50.00%</td>\n            </tr>\n            <tr>\n                        <th id=\"T_8236c_level0_row9\" class=\"row_heading level0 row9\" >10</th>\n                        <td id=\"T_8236c_row9_col0\" class=\"data row9 col0\" >3</td>\n                        <td id=\"T_8236c_row9_col1\" class=\"data row9 col1\" >66.67%</td>\n            </tr>\n            <tr>\n                        <th id=\"T_8236c_level0_row10\" class=\"row_heading level0 row10\" >11</th>\n                        <td id=\"T_8236c_row10_col0\" class=\"data row10 col0\" >3</td>\n                        <td id=\"T_8236c_row10_col1\" class=\"data row10 col1\" >33.33%</td>\n            </tr>\n            <tr>\n                        <th id=\"T_8236c_level0_row11\" class=\"row_heading level0 row11\" >12</th>\n                        <td id=\"T_8236c_row11_col0\" class=\"data row11 col0\" >2</td>\n                        <td id=\"T_8236c_row11_col1\" class=\"data row11 col1\" >0.00%</td>\n            </tr>\n            <tr>\n                        <th id=\"T_8236c_level0_row12\" class=\"row_heading level0 row12\" >13</th>\n                        <td id=\"T_8236c_row12_col0\" class=\"data row12 col0\" >1</td>\n                        <td id=\"T_8236c_row12_col1\" class=\"data row12 col1\" >0.00%</td>\n            </tr>\n            <tr>\n                        <th id=\"T_8236c_level0_row13\" class=\"row_heading level0 row13\" >14</th>\n                        <td id=\"T_8236c_row13_col0\" class=\"data row13 col0\" >1</td>\n                        <td id=\"T_8236c_row13_col1\" class=\"data row13 col1\" >100.00%</td>\n            </tr>\n            <tr>\n                        <th id=\"T_8236c_level0_row14\" class=\"row_heading level0 row14\" >15</th>\n                        <td id=\"T_8236c_row14_col0\" class=\"data row14 col0\" >19</td>\n                        <td id=\"T_8236c_row14_col1\" class=\"data row14 col1\" >15.79%</td>\n            </tr>\n            <tr>\n                        <th id=\"T_8236c_level0_row15\" class=\"row_heading level0 row15\" >17</th>\n                        <td id=\"T_8236c_row15_col0\" class=\"data row15 col0\" >3</td>\n                        <td id=\"T_8236c_row15_col1\" class=\"data row15 col1\" >66.67%</td>\n            </tr>\n            <tr>\n                        <th id=\"T_8236c_level0_row16\" class=\"row_heading level0 row16\" >19</th>\n                        <td id=\"T_8236c_row16_col0\" class=\"data row16 col0\" >2</td>\n                        <td id=\"T_8236c_row16_col1\" class=\"data row16 col1\" >100.00%</td>\n            </tr>\n            <tr>\n                        <th id=\"T_8236c_level0_row17\" class=\"row_heading level0 row17\" >20</th>\n                        <td id=\"T_8236c_row17_col0\" class=\"data row17 col0\" >3</td>\n                        <td id=\"T_8236c_row17_col1\" class=\"data row17 col1\" >100.00%</td>\n            </tr>\n            <tr>\n                        <th id=\"T_8236c_level0_row18\" class=\"row_heading level0 row18\" >21</th>\n                        <td id=\"T_8236c_row18_col0\" class=\"data row18 col0\" >3</td>\n                        <td id=\"T_8236c_row18_col1\" class=\"data row18 col1\" >66.67%</td>\n            </tr>\n            <tr>\n                        <th id=\"T_8236c_level0_row19\" class=\"row_heading level0 row19\" >22</th>\n                        <td id=\"T_8236c_row19_col0\" class=\"data row19 col0\" >3</td>\n                        <td id=\"T_8236c_row19_col1\" class=\"data row19 col1\" >33.33%</td>\n            </tr>\n            <tr>\n                        <th id=\"T_8236c_level0_row20\" class=\"row_heading level0 row20\" >24</th>\n                        <td id=\"T_8236c_row20_col0\" class=\"data row20 col0\" >2</td>\n                        <td id=\"T_8236c_row20_col1\" class=\"data row20 col1\" >100.00%</td>\n            </tr>\n            <tr>\n                        <th id=\"T_8236c_level0_row21\" class=\"row_heading level0 row21\" >25</th>\n                        <td id=\"T_8236c_row21_col0\" class=\"data row21 col0\" >3</td>\n                        <td id=\"T_8236c_row21_col1\" class=\"data row21 col1\" >33.33%</td>\n            </tr>\n            <tr>\n                        <th id=\"T_8236c_level0_row22\" class=\"row_heading level0 row22\" >27</th>\n                        <td id=\"T_8236c_row22_col0\" class=\"data row22 col0\" >9</td>\n                        <td id=\"T_8236c_row22_col1\" class=\"data row22 col1\" >11.11%</td>\n            </tr>\n            <tr>\n                        <th id=\"T_8236c_level0_row23\" class=\"row_heading level0 row23\" >28</th>\n                        <td id=\"T_8236c_row23_col0\" class=\"data row23 col0\" >2</td>\n                        <td id=\"T_8236c_row23_col1\" class=\"data row23 col1\" >100.00%</td>\n            </tr>\n            <tr>\n                        <th id=\"T_8236c_level0_row24\" class=\"row_heading level0 row24\" >30</th>\n                        <td id=\"T_8236c_row24_col0\" class=\"data row24 col0\" >1</td>\n                        <td id=\"T_8236c_row24_col1\" class=\"data row24 col1\" >100.00%</td>\n            </tr>\n            <tr>\n                        <th id=\"T_8236c_level0_row25\" class=\"row_heading level0 row25\" >31</th>\n                        <td id=\"T_8236c_row25_col0\" class=\"data row25 col0\" >10</td>\n                        <td id=\"T_8236c_row25_col1\" class=\"data row25 col1\" >90.00%</td>\n            </tr>\n            <tr>\n                        <th id=\"T_8236c_level0_row26\" class=\"row_heading level0 row26\" >32</th>\n                        <td id=\"T_8236c_row26_col0\" class=\"data row26 col0\" >2</td>\n                        <td id=\"T_8236c_row26_col1\" class=\"data row26 col1\" >100.00%</td>\n            </tr>\n            <tr>\n                        <th id=\"T_8236c_level0_row27\" class=\"row_heading level0 row27\" >33</th>\n                        <td id=\"T_8236c_row27_col0\" class=\"data row27 col0\" >3</td>\n                        <td id=\"T_8236c_row27_col1\" class=\"data row27 col1\" >0.00%</td>\n            </tr>\n            <tr>\n                        <th id=\"T_8236c_level0_row28\" class=\"row_heading level0 row28\" >34</th>\n                        <td id=\"T_8236c_row28_col0\" class=\"data row28 col0\" >9</td>\n                        <td id=\"T_8236c_row28_col1\" class=\"data row28 col1\" >22.22%</td>\n            </tr>\n            <tr>\n                        <th id=\"T_8236c_level0_row29\" class=\"row_heading level0 row29\" >35</th>\n                        <td id=\"T_8236c_row29_col0\" class=\"data row29 col0\" >6</td>\n                        <td id=\"T_8236c_row29_col1\" class=\"data row29 col1\" >66.67%</td>\n            </tr>\n            <tr>\n                        <th id=\"T_8236c_level0_row30\" class=\"row_heading level0 row30\" >38</th>\n                        <td id=\"T_8236c_row30_col0\" class=\"data row30 col0\" >11</td>\n                        <td id=\"T_8236c_row30_col1\" class=\"data row30 col1\" >18.18%</td>\n            </tr>\n            <tr>\n                        <th id=\"T_8236c_level0_row31\" class=\"row_heading level0 row31\" >39</th>\n                        <td id=\"T_8236c_row31_col0\" class=\"data row31 col0\" >6</td>\n                        <td id=\"T_8236c_row31_col1\" class=\"data row31 col1\" >100.00%</td>\n            </tr>\n            <tr>\n                        <th id=\"T_8236c_level0_row32\" class=\"row_heading level0 row32\" >40</th>\n                        <td id=\"T_8236c_row32_col0\" class=\"data row32 col0\" >7</td>\n                        <td id=\"T_8236c_row32_col1\" class=\"data row32 col1\" >42.86%</td>\n            </tr>\n            <tr>\n                        <th id=\"T_8236c_level0_row33\" class=\"row_heading level0 row33\" >41</th>\n                        <td id=\"T_8236c_row33_col0\" class=\"data row33 col0\" >5</td>\n                        <td id=\"T_8236c_row33_col1\" class=\"data row33 col1\" >100.00%</td>\n            </tr>\n            <tr>\n                        <th id=\"T_8236c_level0_row34\" class=\"row_heading level0 row34\" >42</th>\n                        <td id=\"T_8236c_row34_col0\" class=\"data row34 col0\" >2</td>\n                        <td id=\"T_8236c_row34_col1\" class=\"data row34 col1\" >100.00%</td>\n            </tr>\n            <tr>\n                        <th id=\"T_8236c_level0_row35\" class=\"row_heading level0 row35\" >43</th>\n                        <td id=\"T_8236c_row35_col0\" class=\"data row35 col0\" >7</td>\n                        <td id=\"T_8236c_row35_col1\" class=\"data row35 col1\" >0.00%</td>\n            </tr>\n            <tr>\n                        <th id=\"T_8236c_level0_row36\" class=\"row_heading level0 row36\" >44</th>\n                        <td id=\"T_8236c_row36_col0\" class=\"data row36 col0\" >14</td>\n                        <td id=\"T_8236c_row36_col1\" class=\"data row36 col1\" >28.57%</td>\n            </tr>\n            <tr>\n                        <th id=\"T_8236c_level0_row37\" class=\"row_heading level0 row37\" >45</th>\n                        <td id=\"T_8236c_row37_col0\" class=\"data row37 col0\" >1</td>\n                        <td id=\"T_8236c_row37_col1\" class=\"data row37 col1\" >100.00%</td>\n            </tr>\n            <tr>\n                        <th id=\"T_8236c_level0_row38\" class=\"row_heading level0 row38\" >46</th>\n                        <td id=\"T_8236c_row38_col0\" class=\"data row38 col0\" >3</td>\n                        <td id=\"T_8236c_row38_col1\" class=\"data row38 col1\" >100.00%</td>\n            </tr>\n            <tr>\n                        <th id=\"T_8236c_level0_row39\" class=\"row_heading level0 row39\" >47</th>\n                        <td id=\"T_8236c_row39_col0\" class=\"data row39 col0\" >3</td>\n                        <td id=\"T_8236c_row39_col1\" class=\"data row39 col1\" >0.00%</td>\n            </tr>\n            <tr>\n                        <th id=\"T_8236c_level0_row40\" class=\"row_heading level0 row40\" >48</th>\n                        <td id=\"T_8236c_row40_col0\" class=\"data row40 col0\" >16</td>\n                        <td id=\"T_8236c_row40_col1\" class=\"data row40 col1\" >12.50%</td>\n            </tr>\n            <tr>\n                        <th id=\"T_8236c_level0_row41\" class=\"row_heading level0 row41\" >49</th>\n                        <td id=\"T_8236c_row41_col0\" class=\"data row41 col0\" >5</td>\n                        <td id=\"T_8236c_row41_col1\" class=\"data row41 col1\" >0.00%</td>\n            </tr>\n            <tr>\n                        <th id=\"T_8236c_level0_row42\" class=\"row_heading level0 row42\" >50</th>\n                        <td id=\"T_8236c_row42_col0\" class=\"data row42 col0\" >7</td>\n                        <td id=\"T_8236c_row42_col1\" class=\"data row42 col1\" >42.86%</td>\n            </tr>\n            <tr>\n                        <th id=\"T_8236c_level0_row43\" class=\"row_heading level0 row43\" >53</th>\n                        <td id=\"T_8236c_row43_col0\" class=\"data row43 col0\" >3</td>\n                        <td id=\"T_8236c_row43_col1\" class=\"data row43 col1\" >0.00%</td>\n            </tr>\n            <tr>\n                        <th id=\"T_8236c_level0_row44\" class=\"row_heading level0 row44\" >55</th>\n                        <td id=\"T_8236c_row44_col0\" class=\"data row44 col0\" >1</td>\n                        <td id=\"T_8236c_row44_col1\" class=\"data row44 col1\" >100.00%</td>\n            </tr>\n            <tr>\n                        <th id=\"T_8236c_level0_row45\" class=\"row_heading level0 row45\" >56</th>\n                        <td id=\"T_8236c_row45_col0\" class=\"data row45 col0\" >7</td>\n                        <td id=\"T_8236c_row45_col1\" class=\"data row45 col1\" >28.57%</td>\n            </tr>\n            <tr>\n                        <th id=\"T_8236c_level0_row46\" class=\"row_heading level0 row46\" >57</th>\n                        <td id=\"T_8236c_row46_col0\" class=\"data row46 col0\" >2</td>\n                        <td id=\"T_8236c_row46_col1\" class=\"data row46 col1\" >100.00%</td>\n            </tr>\n            <tr>\n                        <th id=\"T_8236c_level0_row47\" class=\"row_heading level0 row47\" >58</th>\n                        <td id=\"T_8236c_row47_col0\" class=\"data row47 col0\" >9</td>\n                        <td id=\"T_8236c_row47_col1\" class=\"data row47 col1\" >0.00%</td>\n            </tr>\n            <tr>\n                        <th id=\"T_8236c_level0_row48\" class=\"row_heading level0 row48\" >59</th>\n                        <td id=\"T_8236c_row48_col0\" class=\"data row48 col0\" >5</td>\n                        <td id=\"T_8236c_row48_col1\" class=\"data row48 col1\" >0.00%</td>\n            </tr>\n            <tr>\n                        <th id=\"T_8236c_level0_row49\" class=\"row_heading level0 row49\" >60</th>\n                        <td id=\"T_8236c_row49_col0\" class=\"data row49 col0\" >3</td>\n                        <td id=\"T_8236c_row49_col1\" class=\"data row49 col1\" >100.00%</td>\n            </tr>\n            <tr>\n                        <th id=\"T_8236c_level0_row50\" class=\"row_heading level0 row50\" >61</th>\n                        <td id=\"T_8236c_row50_col0\" class=\"data row50 col0\" >4</td>\n                        <td id=\"T_8236c_row50_col1\" class=\"data row50 col1\" >0.00%</td>\n            </tr>\n            <tr>\n                        <th id=\"T_8236c_level0_row51\" class=\"row_heading level0 row51\" >62</th>\n                        <td id=\"T_8236c_row51_col0\" class=\"data row51 col0\" >1</td>\n                        <td id=\"T_8236c_row51_col1\" class=\"data row51 col1\" >100.00%</td>\n            </tr>\n            <tr>\n                        <th id=\"T_8236c_level0_row52\" class=\"row_heading level0 row52\" >63</th>\n                        <td id=\"T_8236c_row52_col0\" class=\"data row52 col0\" >42</td>\n                        <td id=\"T_8236c_row52_col1\" class=\"data row52 col1\" >11.90%</td>\n            </tr>\n            <tr>\n                        <th id=\"T_8236c_level0_row53\" class=\"row_heading level0 row53\" >65</th>\n                        <td id=\"T_8236c_row53_col0\" class=\"data row53 col0\" >5</td>\n                        <td id=\"T_8236c_row53_col1\" class=\"data row53 col1\" >0.00%</td>\n            </tr>\n            <tr>\n                        <th id=\"T_8236c_level0_row54\" class=\"row_heading level0 row54\" >68</th>\n                        <td id=\"T_8236c_row54_col0\" class=\"data row54 col0\" >5</td>\n                        <td id=\"T_8236c_row54_col1\" class=\"data row54 col1\" >40.00%</td>\n            </tr>\n            <tr>\n                        <th id=\"T_8236c_level0_row55\" class=\"row_heading level0 row55\" >69</th>\n                        <td id=\"T_8236c_row55_col0\" class=\"data row55 col0\" >9</td>\n                        <td id=\"T_8236c_row55_col1\" class=\"data row55 col1\" >55.56%</td>\n            </tr>\n            <tr>\n                        <th id=\"T_8236c_level0_row56\" class=\"row_heading level0 row56\" >70</th>\n                        <td id=\"T_8236c_row56_col0\" class=\"data row56 col0\" >1</td>\n                        <td id=\"T_8236c_row56_col1\" class=\"data row56 col1\" >100.00%</td>\n            </tr>\n            <tr>\n                        <th id=\"T_8236c_level0_row57\" class=\"row_heading level0 row57\" >71</th>\n                        <td id=\"T_8236c_row57_col0\" class=\"data row57 col0\" >1</td>\n                        <td id=\"T_8236c_row57_col1\" class=\"data row57 col1\" >100.00%</td>\n            </tr>\n            <tr>\n                        <th id=\"T_8236c_level0_row58\" class=\"row_heading level0 row58\" >72</th>\n                        <td id=\"T_8236c_row58_col0\" class=\"data row58 col0\" >1</td>\n                        <td id=\"T_8236c_row58_col1\" class=\"data row58 col1\" >0.00%</td>\n            </tr>\n            <tr>\n                        <th id=\"T_8236c_level0_row59\" class=\"row_heading level0 row59\" >74</th>\n                        <td id=\"T_8236c_row59_col0\" class=\"data row59 col0\" >1</td>\n                        <td id=\"T_8236c_row59_col1\" class=\"data row59 col1\" >0.00%</td>\n            </tr>\n            <tr>\n                        <th id=\"T_8236c_level0_row60\" class=\"row_heading level0 row60\" >75</th>\n                        <td id=\"T_8236c_row60_col0\" class=\"data row60 col0\" >4</td>\n                        <td id=\"T_8236c_row60_col1\" class=\"data row60 col1\" >25.00%</td>\n            </tr>\n            <tr>\n                        <th id=\"T_8236c_level0_row61\" class=\"row_heading level0 row61\" >76</th>\n                        <td id=\"T_8236c_row61_col0\" class=\"data row61 col0\" >1</td>\n                        <td id=\"T_8236c_row61_col1\" class=\"data row61 col1\" >100.00%</td>\n            </tr>\n            <tr>\n                        <th id=\"T_8236c_level0_row62\" class=\"row_heading level0 row62\" >77</th>\n                        <td id=\"T_8236c_row62_col0\" class=\"data row62 col0\" >11</td>\n                        <td id=\"T_8236c_row62_col1\" class=\"data row62 col1\" >18.18%</td>\n            </tr>\n            <tr>\n                        <th id=\"T_8236c_level0_row63\" class=\"row_heading level0 row63\" >79</th>\n                        <td id=\"T_8236c_row63_col0\" class=\"data row63 col0\" >1</td>\n                        <td id=\"T_8236c_row63_col1\" class=\"data row63 col1\" >100.00%</td>\n            </tr>\n            <tr>\n                        <th id=\"T_8236c_level0_row64\" class=\"row_heading level0 row64\" >80</th>\n                        <td id=\"T_8236c_row64_col0\" class=\"data row64 col0\" >5</td>\n                        <td id=\"T_8236c_row64_col1\" class=\"data row64 col1\" >40.00%</td>\n            </tr>\n            <tr>\n                        <th id=\"T_8236c_level0_row65\" class=\"row_heading level0 row65\" >81</th>\n                        <td id=\"T_8236c_row65_col0\" class=\"data row65 col0\" >1</td>\n                        <td id=\"T_8236c_row65_col1\" class=\"data row65 col1\" >0.00%</td>\n            </tr>\n            <tr>\n                        <th id=\"T_8236c_level0_row66\" class=\"row_heading level0 row66\" >85</th>\n                        <td id=\"T_8236c_row66_col0\" class=\"data row66 col0\" >1</td>\n                        <td id=\"T_8236c_row66_col1\" class=\"data row66 col1\" >100.00%</td>\n            </tr>\n            <tr>\n                        <th id=\"T_8236c_level0_row67\" class=\"row_heading level0 row67\" >87</th>\n                        <td id=\"T_8236c_row67_col0\" class=\"data row67 col0\" >18</td>\n                        <td id=\"T_8236c_row67_col1\" class=\"data row67 col1\" >5.56%</td>\n            </tr>\n            <tr>\n                        <th id=\"T_8236c_level0_row68\" class=\"row_heading level0 row68\" >89</th>\n                        <td id=\"T_8236c_row68_col0\" class=\"data row68 col0\" >1</td>\n                        <td id=\"T_8236c_row68_col1\" class=\"data row68 col1\" >0.00%</td>\n            </tr>\n            <tr>\n                        <th id=\"T_8236c_level0_row69\" class=\"row_heading level0 row69\" >91</th>\n                        <td id=\"T_8236c_row69_col0\" class=\"data row69 col0\" >2</td>\n                        <td id=\"T_8236c_row69_col1\" class=\"data row69 col1\" >100.00%</td>\n            </tr>\n            <tr>\n                        <th id=\"T_8236c_level0_row70\" class=\"row_heading level0 row70\" >93</th>\n                        <td id=\"T_8236c_row70_col0\" class=\"data row70 col0\" >2</td>\n                        <td id=\"T_8236c_row70_col1\" class=\"data row70 col1\" >100.00%</td>\n            </tr>\n            <tr>\n                        <th id=\"T_8236c_level0_row71\" class=\"row_heading level0 row71\" >96</th>\n                        <td id=\"T_8236c_row71_col0\" class=\"data row71 col0\" >6</td>\n                        <td id=\"T_8236c_row71_col1\" class=\"data row71 col1\" >50.00%</td>\n            </tr>\n            <tr>\n                        <th id=\"T_8236c_level0_row72\" class=\"row_heading level0 row72\" >98</th>\n                        <td id=\"T_8236c_row72_col0\" class=\"data row72 col0\" >7</td>\n                        <td id=\"T_8236c_row72_col1\" class=\"data row72 col1\" >57.14%</td>\n            </tr>\n            <tr>\n                        <th id=\"T_8236c_level0_row73\" class=\"row_heading level0 row73\" >99</th>\n                        <td id=\"T_8236c_row73_col0\" class=\"data row73 col0\" >5</td>\n                        <td id=\"T_8236c_row73_col1\" class=\"data row73 col1\" >20.00%</td>\n            </tr>\n            <tr>\n                        <th id=\"T_8236c_level0_row74\" class=\"row_heading level0 row74\" >101</th>\n                        <td id=\"T_8236c_row74_col0\" class=\"data row74 col0\" >7</td>\n                        <td id=\"T_8236c_row74_col1\" class=\"data row74 col1\" >57.14%</td>\n            </tr>\n            <tr>\n                        <th id=\"T_8236c_level0_row75\" class=\"row_heading level0 row75\" >107</th>\n                        <td id=\"T_8236c_row75_col0\" class=\"data row75 col0\" >3</td>\n                        <td id=\"T_8236c_row75_col1\" class=\"data row75 col1\" >100.00%</td>\n            </tr>\n            <tr>\n                        <th id=\"T_8236c_level0_row76\" class=\"row_heading level0 row76\" >108</th>\n                        <td id=\"T_8236c_row76_col0\" class=\"data row76 col0\" >7</td>\n                        <td id=\"T_8236c_row76_col1\" class=\"data row76 col1\" >14.29%</td>\n            </tr>\n            <tr>\n                        <th id=\"T_8236c_level0_row77\" class=\"row_heading level0 row77\" >111</th>\n                        <td id=\"T_8236c_row77_col0\" class=\"data row77 col0\" >6</td>\n                        <td id=\"T_8236c_row77_col1\" class=\"data row77 col1\" >33.33%</td>\n            </tr>\n            <tr>\n                        <th id=\"T_8236c_level0_row78\" class=\"row_heading level0 row78\" >120</th>\n                        <td id=\"T_8236c_row78_col0\" class=\"data row78 col0\" >1</td>\n                        <td id=\"T_8236c_row78_col1\" class=\"data row78 col1\" >100.00%</td>\n            </tr>\n            <tr>\n                        <th id=\"T_8236c_level0_row79\" class=\"row_heading level0 row79\" >122</th>\n                        <td id=\"T_8236c_row79_col0\" class=\"data row79 col0\" >6</td>\n                        <td id=\"T_8236c_row79_col1\" class=\"data row79 col1\" >0.00%</td>\n            </tr>\n            <tr>\n                        <th id=\"T_8236c_level0_row80\" class=\"row_heading level0 row80\" >125</th>\n                        <td id=\"T_8236c_row80_col0\" class=\"data row80 col0\" >5</td>\n                        <td id=\"T_8236c_row80_col1\" class=\"data row80 col1\" >0.00%</td>\n            </tr>\n            <tr>\n                        <th id=\"T_8236c_level0_row81\" class=\"row_heading level0 row81\" >142</th>\n                        <td id=\"T_8236c_row81_col0\" class=\"data row81 col0\" >1</td>\n                        <td id=\"T_8236c_row81_col1\" class=\"data row81 col1\" >0.00%</td>\n            </tr>\n            <tr>\n                        <th id=\"T_8236c_level0_row82\" class=\"row_heading level0 row82\" >147</th>\n                        <td id=\"T_8236c_row82_col0\" class=\"data row82 col0\" >6</td>\n                        <td id=\"T_8236c_row82_col1\" class=\"data row82 col1\" >16.67%</td>\n            </tr>\n            <tr>\n                        <th id=\"T_8236c_level0_row83\" class=\"row_heading level0 row83\" >150</th>\n                        <td id=\"T_8236c_row83_col0\" class=\"data row83 col0\" >3</td>\n                        <td id=\"T_8236c_row83_col1\" class=\"data row83 col1\" >0.00%</td>\n            </tr>\n            <tr>\n                        <th id=\"T_8236c_level0_row84\" class=\"row_heading level0 row84\" >160</th>\n                        <td id=\"T_8236c_row84_col0\" class=\"data row84 col0\" >1</td>\n                        <td id=\"T_8236c_row84_col1\" class=\"data row84 col1\" >100.00%</td>\n            </tr>\n            <tr>\n                        <th id=\"T_8236c_level0_row85\" class=\"row_heading level0 row85\" >162</th>\n                        <td id=\"T_8236c_row85_col0\" class=\"data row85 col0\" >6</td>\n                        <td id=\"T_8236c_row85_col1\" class=\"data row85 col1\" >33.33%</td>\n            </tr>\n            <tr>\n                        <th id=\"T_8236c_level0_row86\" class=\"row_heading level0 row86\" >167</th>\n                        <td id=\"T_8236c_row86_col0\" class=\"data row86 col0\" >1</td>\n                        <td id=\"T_8236c_row86_col1\" class=\"data row86 col1\" >0.00%</td>\n            </tr>\n            <tr>\n                        <th id=\"T_8236c_level0_row87\" class=\"row_heading level0 row87\" >174</th>\n                        <td id=\"T_8236c_row87_col0\" class=\"data row87 col0\" >4</td>\n                        <td id=\"T_8236c_row87_col1\" class=\"data row87 col1\" >25.00%</td>\n            </tr>\n            <tr>\n                        <th id=\"T_8236c_level0_row88\" class=\"row_heading level0 row88\" >176</th>\n                        <td id=\"T_8236c_row88_col0\" class=\"data row88 col0\" >10</td>\n                        <td id=\"T_8236c_row88_col1\" class=\"data row88 col1\" >20.00%</td>\n            </tr>\n            <tr>\n                        <th id=\"T_8236c_level0_row89\" class=\"row_heading level0 row89\" >178</th>\n                        <td id=\"T_8236c_row89_col0\" class=\"data row89 col0\" >7</td>\n                        <td id=\"T_8236c_row89_col1\" class=\"data row89 col1\" >14.29%</td>\n            </tr>\n            <tr>\n                        <th id=\"T_8236c_level0_row90\" class=\"row_heading level0 row90\" >187</th>\n                        <td id=\"T_8236c_row90_col0\" class=\"data row90 col0\" >9</td>\n                        <td id=\"T_8236c_row90_col1\" class=\"data row90 col1\" >11.11%</td>\n            </tr>\n            <tr>\n                        <th id=\"T_8236c_level0_row91\" class=\"row_heading level0 row91\" >193</th>\n                        <td id=\"T_8236c_row91_col0\" class=\"data row91 col0\" >1</td>\n                        <td id=\"T_8236c_row91_col1\" class=\"data row91 col1\" >100.00%</td>\n            </tr>\n            <tr>\n                        <th id=\"T_8236c_level0_row92\" class=\"row_heading level0 row92\" >207</th>\n                        <td id=\"T_8236c_row92_col0\" class=\"data row92 col0\" >5</td>\n                        <td id=\"T_8236c_row92_col1\" class=\"data row92 col1\" >40.00%</td>\n            </tr>\n            <tr>\n                        <th id=\"T_8236c_level0_row93\" class=\"row_heading level0 row93\" >215</th>\n                        <td id=\"T_8236c_row93_col0\" class=\"data row93 col0\" >3</td>\n                        <td id=\"T_8236c_row93_col1\" class=\"data row93 col1\" >33.33%</td>\n            </tr>\n            <tr>\n                        <th id=\"T_8236c_level0_row94\" class=\"row_heading level0 row94\" >224</th>\n                        <td id=\"T_8236c_row94_col0\" class=\"data row94 col0\" >5</td>\n                        <td id=\"T_8236c_row94_col1\" class=\"data row94 col1\" >20.00%</td>\n            </tr>\n            <tr>\n                        <th id=\"T_8236c_level0_row95\" class=\"row_heading level0 row95\" >236</th>\n                        <td id=\"T_8236c_row95_col0\" class=\"data row95 col0\" >6</td>\n                        <td id=\"T_8236c_row95_col1\" class=\"data row95 col1\" >16.67%</td>\n            </tr>\n            <tr>\n                        <th id=\"T_8236c_level0_row96\" class=\"row_heading level0 row96\" >259</th>\n                        <td id=\"T_8236c_row96_col0\" class=\"data row96 col0\" >6</td>\n                        <td id=\"T_8236c_row96_col1\" class=\"data row96 col1\" >0.00%</td>\n            </tr>\n    </tbody></table>"
     },
     "metadata": {},
     "output_type": "display_data"
    },
    {
     "data": {
      "text/plain": "<pandas.io.formats.style.Styler at 0x7f8734de32e0>",
      "text/html": "<style  type=\"text/css\" >\n</style><table id=\"T_cc74e_\" ><thead>    <tr>        <th class=\"blank level0\" ></th>        <th class=\"col_heading level0 col0\" >count</th>        <th class=\"col_heading level0 col1\" >mean</th>    </tr>    <tr>        <th class=\"blank level1\" ></th>        <th class=\"col_heading level1 col0\" >is_canceled</th>        <th class=\"col_heading level1 col1\" >is_canceled</th>    </tr>    <tr>        <th class=\"index_name level0\" >customer_type</th>        <th class=\"blank\" ></th>        <th class=\"blank\" ></th>    </tr></thead><tbody>\n                <tr>\n                        <th id=\"T_cc74e_level0_row0\" class=\"row_heading level0 row0\" >Contract</th>\n                        <td id=\"T_cc74e_row0_col0\" class=\"data row0 col0\" >1874</td>\n                        <td id=\"T_cc74e_row0_col1\" class=\"data row0 col1\" >19.74%</td>\n            </tr>\n            <tr>\n                        <th id=\"T_cc74e_level0_row1\" class=\"row_heading level0 row1\" >Group</th>\n                        <td id=\"T_cc74e_row1_col0\" class=\"data row1 col0\" >259</td>\n                        <td id=\"T_cc74e_row1_col1\" class=\"data row1 col1\" >7.34%</td>\n            </tr>\n            <tr>\n                        <th id=\"T_cc74e_level0_row2\" class=\"row_heading level0 row2\" >Transient</th>\n                        <td id=\"T_cc74e_row2_col0\" class=\"data row2 col0\" >35369</td>\n                        <td id=\"T_cc74e_row2_col1\" class=\"data row2 col1\" >27.34%</td>\n            </tr>\n            <tr>\n                        <th id=\"T_cc74e_level0_row3\" class=\"row_heading level0 row3\" >Transient-Party</th>\n                        <td id=\"T_cc74e_row3_col0\" class=\"data row3 col0\" >6350</td>\n                        <td id=\"T_cc74e_row3_col1\" class=\"data row3 col1\" >17.15%</td>\n            </tr>\n    </tbody></table>"
     },
     "metadata": {},
     "output_type": "display_data"
    },
    {
     "data": {
      "text/plain": "<pandas.io.formats.style.Styler at 0x7f8736764940>",
      "text/html": "<style  type=\"text/css\" >\n</style><table id=\"T_fa18e_\" ><thead>    <tr>        <th class=\"blank level0\" ></th>        <th class=\"col_heading level0 col0\" >count</th>        <th class=\"col_heading level0 col1\" >mean</th>    </tr>    <tr>        <th class=\"blank level1\" ></th>        <th class=\"col_heading level1 col0\" >is_canceled</th>        <th class=\"col_heading level1 col1\" >is_canceled</th>    </tr>    <tr>        <th class=\"index_name level0\" >required_car_parking_spaces</th>        <th class=\"blank\" ></th>        <th class=\"blank\" ></th>    </tr></thead><tbody>\n                <tr>\n                        <th id=\"T_fa18e_level0_row0\" class=\"row_heading level0 row0\" >0</th>\n                        <td id=\"T_fa18e_row0_col0\" class=\"data row0 col0\" >40253</td>\n                        <td id=\"T_fa18e_row0_col1\" class=\"data row0 col1\" >27.69%</td>\n            </tr>\n            <tr>\n                        <th id=\"T_fa18e_level0_row1\" class=\"row_heading level0 row1\" >1</th>\n                        <td id=\"T_fa18e_row1_col0\" class=\"data row1 col0\" >3587</td>\n                        <td id=\"T_fa18e_row1_col1\" class=\"data row1 col1\" >0.00%</td>\n            </tr>\n            <tr>\n                        <th id=\"T_fa18e_level0_row2\" class=\"row_heading level0 row2\" >2</th>\n                        <td id=\"T_fa18e_row2_col0\" class=\"data row2 col0\" >11</td>\n                        <td id=\"T_fa18e_row2_col1\" class=\"data row2 col1\" >0.00%</td>\n            </tr>\n            <tr>\n                        <th id=\"T_fa18e_level0_row3\" class=\"row_heading level0 row3\" >3</th>\n                        <td id=\"T_fa18e_row3_col0\" class=\"data row3 col0\" >1</td>\n                        <td id=\"T_fa18e_row3_col1\" class=\"data row3 col1\" >0.00%</td>\n            </tr>\n    </tbody></table>"
     },
     "metadata": {},
     "output_type": "display_data"
    },
    {
     "data": {
      "text/plain": "<pandas.io.formats.style.Styler at 0x7f87374ce1f0>",
      "text/html": "<style  type=\"text/css\" >\n</style><table id=\"T_64782_\" ><thead>    <tr>        <th class=\"blank level0\" ></th>        <th class=\"col_heading level0 col0\" >count</th>        <th class=\"col_heading level0 col1\" >mean</th>    </tr>    <tr>        <th class=\"blank level1\" ></th>        <th class=\"col_heading level1 col0\" >is_canceled</th>        <th class=\"col_heading level1 col1\" >is_canceled</th>    </tr>    <tr>        <th class=\"index_name level0\" >total_of_special_requests</th>        <th class=\"blank\" ></th>        <th class=\"blank\" ></th>    </tr></thead><tbody>\n                <tr>\n                        <th id=\"T_64782_level0_row0\" class=\"row_heading level0 row0\" >0</th>\n                        <td id=\"T_64782_row0_col0\" class=\"data row0 col0\" >22429</td>\n                        <td id=\"T_64782_row0_col1\" class=\"data row0 col1\" >31.99%</td>\n            </tr>\n            <tr>\n                        <th id=\"T_64782_level0_row1\" class=\"row_heading level0 row1\" >1</th>\n                        <td id=\"T_64782_row1_col0\" class=\"data row1 col0\" >14598</td>\n                        <td id=\"T_64782_row1_col1\" class=\"data row1 col1\" >18.69%</td>\n            </tr>\n            <tr>\n                        <th id=\"T_64782_level0_row2\" class=\"row_heading level0 row2\" >2</th>\n                        <td id=\"T_64782_row2_col0\" class=\"data row2 col0\" >5775</td>\n                        <td id=\"T_64782_row2_col1\" class=\"data row2 col1\" >18.29%</td>\n            </tr>\n            <tr>\n                        <th id=\"T_64782_level0_row3\" class=\"row_heading level0 row3\" >3</th>\n                        <td id=\"T_64782_row3_col0\" class=\"data row3 col0\" >940</td>\n                        <td id=\"T_64782_row3_col1\" class=\"data row3 col1\" >19.04%</td>\n            </tr>\n            <tr>\n                        <th id=\"T_64782_level0_row4\" class=\"row_heading level0 row4\" >4</th>\n                        <td id=\"T_64782_row4_col0\" class=\"data row4 col0\" >100</td>\n                        <td id=\"T_64782_row4_col1\" class=\"data row4 col1\" >11.00%</td>\n            </tr>\n            <tr>\n                        <th id=\"T_64782_level0_row5\" class=\"row_heading level0 row5\" >5</th>\n                        <td id=\"T_64782_row5_col0\" class=\"data row5 col0\" >10</td>\n                        <td id=\"T_64782_row5_col1\" class=\"data row5 col1\" >0.00%</td>\n            </tr>\n    </tbody></table>"
     },
     "metadata": {},
     "output_type": "display_data"
    },
    {
     "data": {
      "text/plain": "<pandas.io.formats.style.Styler at 0x7f8736790160>",
      "text/html": "<style  type=\"text/css\" >\n</style><table id=\"T_3f46d_\" ><thead>    <tr>        <th class=\"blank level0\" ></th>        <th class=\"col_heading level0 col0\" >count</th>        <th class=\"col_heading level0 col1\" >mean</th>    </tr>    <tr>        <th class=\"blank level1\" ></th>        <th class=\"col_heading level1 col0\" >is_canceled</th>        <th class=\"col_heading level1 col1\" >is_canceled</th>    </tr>    <tr>        <th class=\"index_name level0\" >total_nights</th>        <th class=\"blank\" ></th>        <th class=\"blank\" ></th>    </tr></thead><tbody>\n                <tr>\n                        <th id=\"T_3f46d_level0_row0\" class=\"row_heading level0 row0\" >1</th>\n                        <td id=\"T_3f46d_row0_col0\" class=\"data row0 col0\" >9359</td>\n                        <td id=\"T_3f46d_row0_col1\" class=\"data row0 col1\" >18.11%</td>\n            </tr>\n            <tr>\n                        <th id=\"T_3f46d_level0_row1\" class=\"row_heading level0 row1\" >2</th>\n                        <td id=\"T_3f46d_row1_col0\" class=\"data row1 col0\" >8442</td>\n                        <td id=\"T_3f46d_row1_col1\" class=\"data row1 col1\" >25.87%</td>\n            </tr>\n            <tr>\n                        <th id=\"T_3f46d_level0_row2\" class=\"row_heading level0 row2\" >3</th>\n                        <td id=\"T_3f46d_row2_col0\" class=\"data row2 col0\" >9632</td>\n                        <td id=\"T_3f46d_row2_col1\" class=\"data row2 col1\" >27.52%</td>\n            </tr>\n            <tr>\n                        <th id=\"T_3f46d_level0_row3\" class=\"row_heading level0 row3\" >4</th>\n                        <td id=\"T_3f46d_row3_col0\" class=\"data row3 col0\" >7216</td>\n                        <td id=\"T_3f46d_row3_col1\" class=\"data row3 col1\" >27.59%</td>\n            </tr>\n            <tr>\n                        <th id=\"T_3f46d_level0_row4\" class=\"row_heading level0 row4\" >5</th>\n                        <td id=\"T_3f46d_row4_col0\" class=\"data row4 col0\" >3599</td>\n                        <td id=\"T_3f46d_row4_col1\" class=\"data row4 col1\" >26.92%</td>\n            </tr>\n            <tr>\n                        <th id=\"T_3f46d_level0_row5\" class=\"row_heading level0 row5\" >6</th>\n                        <td id=\"T_3f46d_row5_col0\" class=\"data row5 col0\" >1609</td>\n                        <td id=\"T_3f46d_row5_col1\" class=\"data row5 col1\" >32.07%</td>\n            </tr>\n            <tr>\n                        <th id=\"T_3f46d_level0_row6\" class=\"row_heading level0 row6\" >7</th>\n                        <td id=\"T_3f46d_row6_col0\" class=\"data row6 col0\" >3280</td>\n                        <td id=\"T_3f46d_row6_col1\" class=\"data row6 col1\" >27.74%</td>\n            </tr>\n            <tr>\n                        <th id=\"T_3f46d_level0_row7\" class=\"row_heading level0 row7\" >8</th>\n                        <td id=\"T_3f46d_row7_col0\" class=\"data row7 col0\" >477</td>\n                        <td id=\"T_3f46d_row7_col1\" class=\"data row7 col1\" >32.29%</td>\n            </tr>\n            <tr>\n                        <th id=\"T_3f46d_level0_row8\" class=\"row_heading level0 row8\" >9</th>\n                        <td id=\"T_3f46d_row8_col0\" class=\"data row8 col0\" >124</td>\n                        <td id=\"T_3f46d_row8_col1\" class=\"data row8 col1\" >33.06%</td>\n            </tr>\n            <tr>\n                        <th id=\"T_3f46d_level0_row9\" class=\"row_heading level0 row9\" >10</th>\n                        <td id=\"T_3f46d_row9_col0\" class=\"data row9 col0\" >114</td>\n                        <td id=\"T_3f46d_row9_col1\" class=\"data row9 col1\" >32.46%</td>\n            </tr>\n    </tbody></table>"
     },
     "metadata": {},
     "output_type": "display_data"
    }
   ],
   "source": [
    "for i in hotel_train.columns:\n",
    "    if i in ['adults', 'arrival_date_month', 'babies', 'booking_changes', 'children', 'country',\n",
    "             'customer_type', 'days_in_waiting_list', 'distribution_channel', 'is_repeated_guest', \n",
    "             'meal', 'previous_bookings_not_canceled', 'previous_cancellations',\n",
    "             'required_car_parking_spaces', 'reserved_room_type', 'stays_in_weekend_nights',\n",
    "             'stays_in_week_nights', 'total_nights', 'total_of_special_requests']:\n",
    "        display(hotel_train.pivot_table(index=i, \n",
    "                                values='is_canceled',\n",
    "                                aggfunc=['count', 'mean'])\\\n",
    "        .style.format({('mean', 'is_canceled'): '{:.2%}'}))"
   ]
  },
  {
   "cell_type": "markdown",
   "metadata": {},
   "source": [
    "### Проверим наличие выбросов и аномалий"
   ]
  },
  {
   "cell_type": "markdown",
   "metadata": {},
   "source": [
    "Проверим количество броней без взрослых"
   ]
  },
  {
   "cell_type": "code",
   "execution_count": 30,
   "metadata": {},
   "outputs": [
    {
     "data": {
      "text/plain": "       is_canceled  lead_time  arrival_date_year arrival_date_month  \\\n17540            0        1.0               2015             August   \n17598            0      104.0               2015             August   \n17982            0        3.0               2015             August   \n21556            1       48.0               2015            October   \n22516            1        6.0               2015           December   \n...            ...        ...                ...                ...   \n64751            0      197.0               2016           December   \n64882            0      104.0               2016           December   \n64892            0      104.0               2016           December   \n64903            0      247.0               2016           December   \n64980            0      255.0               2016           December   \n\n       arrival_date_week_number  arrival_date_day_of_month  adults  children  \\\n17540                        33                         10     0.0       3.0   \n17598                        33                         11     0.0       2.0   \n17982                        34                         16     0.0       2.0   \n21556                        43                         19     0.0       2.0   \n22516                        51                         13     0.0       3.0   \n...                         ...                        ...     ...       ...   \n64751                        52                         21     0.0       3.0   \n64882                        53                         25     0.0       2.0   \n64892                        53                         25     0.0       2.0   \n64903                        52                         24     0.0       2.0   \n64980                        53                         27     0.0       0.0   \n\n       babies meal  ... is_repeated_guest previous_cancellations  \\\n17540     0.0   bb  ...                 0                      0   \n17598     0.0   bb  ...                 0                      0   \n17982     0.0   bb  ...                 0                      0   \n21556     0.0   bb  ...                 0                      0   \n22516     0.0   bb  ...                 0                      0   \n...       ...  ...  ...               ...                    ...   \n64751     0.0   hb  ...                 0                      0   \n64882     0.0   bb  ...                 0                      0   \n64892     0.0   bb  ...                 0                      0   \n64903     0.0   bb  ...                 0                      0   \n64980     0.0   bb  ...                 0                      0   \n\n       previous_bookings_not_canceled  reserved_room_type  booking_changes  \\\n17540                               0                   b                1   \n17598                               0                   b                1   \n17982                               0                   b                1   \n21556                               0                   b                0   \n22516                               0                   b                0   \n...                               ...                 ...              ...   \n64751                               0                   a                7   \n64882                               0                   b                1   \n64892                               0                   b                0   \n64903                               0                   b                0   \n64980                               0                   a                3   \n\n      days_in_waiting_list    customer_type  required_car_parking_spaces  \\\n17540                    0  Transient-Party                            0   \n17598                    0  Transient-Party                            0   \n17982                    0  Transient-Party                            0   \n21556                    0  Transient-Party                            0   \n22516                    0  Transient-Party                            0   \n...                    ...              ...                          ...   \n64751                    0  Transient-Party                            0   \n64882                    0        Transient                            0   \n64892                    0        Transient                            0   \n64903                    0        Transient                            0   \n64980                    0        Transient                            0   \n\n      total_of_special_requests  total_nights  \n17540                         0             2  \n17598                         2             3  \n17982                         1             2  \n21556                         1             4  \n22516                         1             1  \n...                         ...           ...  \n64751                         0             5  \n64882                         2             3  \n64892                         2             3  \n64903                         1             5  \n64980                         0             3  \n\n[164 rows x 22 columns]",
      "text/html": "<div>\n<style scoped>\n    .dataframe tbody tr th:only-of-type {\n        vertical-align: middle;\n    }\n\n    .dataframe tbody tr th {\n        vertical-align: top;\n    }\n\n    .dataframe thead th {\n        text-align: right;\n    }\n</style>\n<table border=\"1\" class=\"dataframe\">\n  <thead>\n    <tr style=\"text-align: right;\">\n      <th></th>\n      <th>is_canceled</th>\n      <th>lead_time</th>\n      <th>arrival_date_year</th>\n      <th>arrival_date_month</th>\n      <th>arrival_date_week_number</th>\n      <th>arrival_date_day_of_month</th>\n      <th>adults</th>\n      <th>children</th>\n      <th>babies</th>\n      <th>meal</th>\n      <th>...</th>\n      <th>is_repeated_guest</th>\n      <th>previous_cancellations</th>\n      <th>previous_bookings_not_canceled</th>\n      <th>reserved_room_type</th>\n      <th>booking_changes</th>\n      <th>days_in_waiting_list</th>\n      <th>customer_type</th>\n      <th>required_car_parking_spaces</th>\n      <th>total_of_special_requests</th>\n      <th>total_nights</th>\n    </tr>\n  </thead>\n  <tbody>\n    <tr>\n      <th>17540</th>\n      <td>0</td>\n      <td>1.0</td>\n      <td>2015</td>\n      <td>August</td>\n      <td>33</td>\n      <td>10</td>\n      <td>0.0</td>\n      <td>3.0</td>\n      <td>0.0</td>\n      <td>bb</td>\n      <td>...</td>\n      <td>0</td>\n      <td>0</td>\n      <td>0</td>\n      <td>b</td>\n      <td>1</td>\n      <td>0</td>\n      <td>Transient-Party</td>\n      <td>0</td>\n      <td>0</td>\n      <td>2</td>\n    </tr>\n    <tr>\n      <th>17598</th>\n      <td>0</td>\n      <td>104.0</td>\n      <td>2015</td>\n      <td>August</td>\n      <td>33</td>\n      <td>11</td>\n      <td>0.0</td>\n      <td>2.0</td>\n      <td>0.0</td>\n      <td>bb</td>\n      <td>...</td>\n      <td>0</td>\n      <td>0</td>\n      <td>0</td>\n      <td>b</td>\n      <td>1</td>\n      <td>0</td>\n      <td>Transient-Party</td>\n      <td>0</td>\n      <td>2</td>\n      <td>3</td>\n    </tr>\n    <tr>\n      <th>17982</th>\n      <td>0</td>\n      <td>3.0</td>\n      <td>2015</td>\n      <td>August</td>\n      <td>34</td>\n      <td>16</td>\n      <td>0.0</td>\n      <td>2.0</td>\n      <td>0.0</td>\n      <td>bb</td>\n      <td>...</td>\n      <td>0</td>\n      <td>0</td>\n      <td>0</td>\n      <td>b</td>\n      <td>1</td>\n      <td>0</td>\n      <td>Transient-Party</td>\n      <td>0</td>\n      <td>1</td>\n      <td>2</td>\n    </tr>\n    <tr>\n      <th>21556</th>\n      <td>1</td>\n      <td>48.0</td>\n      <td>2015</td>\n      <td>October</td>\n      <td>43</td>\n      <td>19</td>\n      <td>0.0</td>\n      <td>2.0</td>\n      <td>0.0</td>\n      <td>bb</td>\n      <td>...</td>\n      <td>0</td>\n      <td>0</td>\n      <td>0</td>\n      <td>b</td>\n      <td>0</td>\n      <td>0</td>\n      <td>Transient-Party</td>\n      <td>0</td>\n      <td>1</td>\n      <td>4</td>\n    </tr>\n    <tr>\n      <th>22516</th>\n      <td>1</td>\n      <td>6.0</td>\n      <td>2015</td>\n      <td>December</td>\n      <td>51</td>\n      <td>13</td>\n      <td>0.0</td>\n      <td>3.0</td>\n      <td>0.0</td>\n      <td>bb</td>\n      <td>...</td>\n      <td>0</td>\n      <td>0</td>\n      <td>0</td>\n      <td>b</td>\n      <td>0</td>\n      <td>0</td>\n      <td>Transient-Party</td>\n      <td>0</td>\n      <td>1</td>\n      <td>1</td>\n    </tr>\n    <tr>\n      <th>...</th>\n      <td>...</td>\n      <td>...</td>\n      <td>...</td>\n      <td>...</td>\n      <td>...</td>\n      <td>...</td>\n      <td>...</td>\n      <td>...</td>\n      <td>...</td>\n      <td>...</td>\n      <td>...</td>\n      <td>...</td>\n      <td>...</td>\n      <td>...</td>\n      <td>...</td>\n      <td>...</td>\n      <td>...</td>\n      <td>...</td>\n      <td>...</td>\n      <td>...</td>\n      <td>...</td>\n    </tr>\n    <tr>\n      <th>64751</th>\n      <td>0</td>\n      <td>197.0</td>\n      <td>2016</td>\n      <td>December</td>\n      <td>52</td>\n      <td>21</td>\n      <td>0.0</td>\n      <td>3.0</td>\n      <td>0.0</td>\n      <td>hb</td>\n      <td>...</td>\n      <td>0</td>\n      <td>0</td>\n      <td>0</td>\n      <td>a</td>\n      <td>7</td>\n      <td>0</td>\n      <td>Transient-Party</td>\n      <td>0</td>\n      <td>0</td>\n      <td>5</td>\n    </tr>\n    <tr>\n      <th>64882</th>\n      <td>0</td>\n      <td>104.0</td>\n      <td>2016</td>\n      <td>December</td>\n      <td>53</td>\n      <td>25</td>\n      <td>0.0</td>\n      <td>2.0</td>\n      <td>0.0</td>\n      <td>bb</td>\n      <td>...</td>\n      <td>0</td>\n      <td>0</td>\n      <td>0</td>\n      <td>b</td>\n      <td>1</td>\n      <td>0</td>\n      <td>Transient</td>\n      <td>0</td>\n      <td>2</td>\n      <td>3</td>\n    </tr>\n    <tr>\n      <th>64892</th>\n      <td>0</td>\n      <td>104.0</td>\n      <td>2016</td>\n      <td>December</td>\n      <td>53</td>\n      <td>25</td>\n      <td>0.0</td>\n      <td>2.0</td>\n      <td>0.0</td>\n      <td>bb</td>\n      <td>...</td>\n      <td>0</td>\n      <td>0</td>\n      <td>0</td>\n      <td>b</td>\n      <td>0</td>\n      <td>0</td>\n      <td>Transient</td>\n      <td>0</td>\n      <td>2</td>\n      <td>3</td>\n    </tr>\n    <tr>\n      <th>64903</th>\n      <td>0</td>\n      <td>247.0</td>\n      <td>2016</td>\n      <td>December</td>\n      <td>52</td>\n      <td>24</td>\n      <td>0.0</td>\n      <td>2.0</td>\n      <td>0.0</td>\n      <td>bb</td>\n      <td>...</td>\n      <td>0</td>\n      <td>0</td>\n      <td>0</td>\n      <td>b</td>\n      <td>0</td>\n      <td>0</td>\n      <td>Transient</td>\n      <td>0</td>\n      <td>1</td>\n      <td>5</td>\n    </tr>\n    <tr>\n      <th>64980</th>\n      <td>0</td>\n      <td>255.0</td>\n      <td>2016</td>\n      <td>December</td>\n      <td>53</td>\n      <td>27</td>\n      <td>0.0</td>\n      <td>0.0</td>\n      <td>0.0</td>\n      <td>bb</td>\n      <td>...</td>\n      <td>0</td>\n      <td>0</td>\n      <td>0</td>\n      <td>a</td>\n      <td>3</td>\n      <td>0</td>\n      <td>Transient</td>\n      <td>0</td>\n      <td>0</td>\n      <td>3</td>\n    </tr>\n  </tbody>\n</table>\n<p>164 rows × 22 columns</p>\n</div>"
     },
     "execution_count": 30,
     "metadata": {},
     "output_type": "execute_result"
    }
   ],
   "source": [
    "hotel_train.loc[hotel_train['adults'] == 0]"
   ]
  },
  {
   "cell_type": "code",
   "execution_count": 31,
   "metadata": {},
   "outputs": [
    {
     "data": {
      "text/plain": "       is_canceled  lead_time  arrival_date_year arrival_date_month  \\\n7743             1      111.0               2017            January   \n7751             1      268.0               2017            January   \n8772             1      148.0               2017           February   \n9243             1      134.0               2017           February   \n9305             1      148.0               2017           February   \n...            ...        ...                ...                ...   \n30601            0      296.0               2017               July   \n30654            0      276.0               2017               July   \n30678            0      291.0               2017               July   \n30815            0      159.0               2017               July   \n31418            0       10.0               2017             August   \n\n       arrival_date_week_number  arrival_date_day_of_month  adults  children  \\\n7743                          1                          2     0.0       2.0   \n7751                          1                          2     0.0       2.0   \n8772                          6                          5     0.0       2.0   \n9243                          8                         22     0.0       2.0   \n9305                          8                         24     0.0       2.0   \n...                         ...                        ...     ...       ...   \n30601                        30                         27     0.0       2.0   \n30654                        31                         30     0.0       2.0   \n30678                        30                         29     0.0       2.0   \n30815                        31                         31     0.0       2.0   \n31418                        32                         12     0.0       3.0   \n\n       babies meal  ... is_repeated_guest previous_cancellations  \\\n7743      0.0   bb  ...                 0                      0   \n7751      0.0   bb  ...                 0                      0   \n8772      0.0   bb  ...                 0                      0   \n9243      0.0   bb  ...                 0                      0   \n9305      0.0   bb  ...                 0                      0   \n...       ...  ...  ...               ...                    ...   \n30601     0.0   bb  ...                 0                      0   \n30654     0.0   bb  ...                 0                      0   \n30678     0.0   bb  ...                 0                      0   \n30815     0.0   sc  ...                 0                      0   \n31418     0.0   bb  ...                 0                      0   \n\n       previous_bookings_not_canceled  reserved_room_type  booking_changes  \\\n7743                                0                   b                0   \n7751                                0                   b                0   \n8772                                0                   b                0   \n9243                                0                   b                0   \n9305                                0                   b                1   \n...                               ...                 ...              ...   \n30601                               0                   b                0   \n30654                               0                   b                1   \n30678                               0                   b                0   \n30815                               0                   a                1   \n31418                               0                   b                1   \n\n      days_in_waiting_list    customer_type  required_car_parking_spaces  \\\n7743                     0        Transient                            0   \n7751                     0        Transient                            0   \n8772                     0        Transient                            0   \n9243                     0        Transient                            0   \n9305                     0        Transient                            0   \n...                    ...              ...                          ...   \n30601                    0        Transient                            0   \n30654                    0        Transient                            0   \n30678                    0        Transient                            0   \n30815                    0        Transient                            0   \n31418                    0  Transient-Party                            0   \n\n      total_of_special_requests  total_nights  \n7743                          2             4  \n7751                          1             5  \n8772                          2             7  \n9243                          1             6  \n9305                          1             4  \n...                         ...           ...  \n30601                         1             4  \n30654                         2             3  \n30678                         1             4  \n30815                         1             4  \n31418                         1             4  \n\n[65 rows x 22 columns]",
      "text/html": "<div>\n<style scoped>\n    .dataframe tbody tr th:only-of-type {\n        vertical-align: middle;\n    }\n\n    .dataframe tbody tr th {\n        vertical-align: top;\n    }\n\n    .dataframe thead th {\n        text-align: right;\n    }\n</style>\n<table border=\"1\" class=\"dataframe\">\n  <thead>\n    <tr style=\"text-align: right;\">\n      <th></th>\n      <th>is_canceled</th>\n      <th>lead_time</th>\n      <th>arrival_date_year</th>\n      <th>arrival_date_month</th>\n      <th>arrival_date_week_number</th>\n      <th>arrival_date_day_of_month</th>\n      <th>adults</th>\n      <th>children</th>\n      <th>babies</th>\n      <th>meal</th>\n      <th>...</th>\n      <th>is_repeated_guest</th>\n      <th>previous_cancellations</th>\n      <th>previous_bookings_not_canceled</th>\n      <th>reserved_room_type</th>\n      <th>booking_changes</th>\n      <th>days_in_waiting_list</th>\n      <th>customer_type</th>\n      <th>required_car_parking_spaces</th>\n      <th>total_of_special_requests</th>\n      <th>total_nights</th>\n    </tr>\n  </thead>\n  <tbody>\n    <tr>\n      <th>7743</th>\n      <td>1</td>\n      <td>111.0</td>\n      <td>2017</td>\n      <td>January</td>\n      <td>1</td>\n      <td>2</td>\n      <td>0.0</td>\n      <td>2.0</td>\n      <td>0.0</td>\n      <td>bb</td>\n      <td>...</td>\n      <td>0</td>\n      <td>0</td>\n      <td>0</td>\n      <td>b</td>\n      <td>0</td>\n      <td>0</td>\n      <td>Transient</td>\n      <td>0</td>\n      <td>2</td>\n      <td>4</td>\n    </tr>\n    <tr>\n      <th>7751</th>\n      <td>1</td>\n      <td>268.0</td>\n      <td>2017</td>\n      <td>January</td>\n      <td>1</td>\n      <td>2</td>\n      <td>0.0</td>\n      <td>2.0</td>\n      <td>0.0</td>\n      <td>bb</td>\n      <td>...</td>\n      <td>0</td>\n      <td>0</td>\n      <td>0</td>\n      <td>b</td>\n      <td>0</td>\n      <td>0</td>\n      <td>Transient</td>\n      <td>0</td>\n      <td>1</td>\n      <td>5</td>\n    </tr>\n    <tr>\n      <th>8772</th>\n      <td>1</td>\n      <td>148.0</td>\n      <td>2017</td>\n      <td>February</td>\n      <td>6</td>\n      <td>5</td>\n      <td>0.0</td>\n      <td>2.0</td>\n      <td>0.0</td>\n      <td>bb</td>\n      <td>...</td>\n      <td>0</td>\n      <td>0</td>\n      <td>0</td>\n      <td>b</td>\n      <td>0</td>\n      <td>0</td>\n      <td>Transient</td>\n      <td>0</td>\n      <td>2</td>\n      <td>7</td>\n    </tr>\n    <tr>\n      <th>9243</th>\n      <td>1</td>\n      <td>134.0</td>\n      <td>2017</td>\n      <td>February</td>\n      <td>8</td>\n      <td>22</td>\n      <td>0.0</td>\n      <td>2.0</td>\n      <td>0.0</td>\n      <td>bb</td>\n      <td>...</td>\n      <td>0</td>\n      <td>0</td>\n      <td>0</td>\n      <td>b</td>\n      <td>0</td>\n      <td>0</td>\n      <td>Transient</td>\n      <td>0</td>\n      <td>1</td>\n      <td>6</td>\n    </tr>\n    <tr>\n      <th>9305</th>\n      <td>1</td>\n      <td>148.0</td>\n      <td>2017</td>\n      <td>February</td>\n      <td>8</td>\n      <td>24</td>\n      <td>0.0</td>\n      <td>2.0</td>\n      <td>0.0</td>\n      <td>bb</td>\n      <td>...</td>\n      <td>0</td>\n      <td>0</td>\n      <td>0</td>\n      <td>b</td>\n      <td>1</td>\n      <td>0</td>\n      <td>Transient</td>\n      <td>0</td>\n      <td>1</td>\n      <td>4</td>\n    </tr>\n    <tr>\n      <th>...</th>\n      <td>...</td>\n      <td>...</td>\n      <td>...</td>\n      <td>...</td>\n      <td>...</td>\n      <td>...</td>\n      <td>...</td>\n      <td>...</td>\n      <td>...</td>\n      <td>...</td>\n      <td>...</td>\n      <td>...</td>\n      <td>...</td>\n      <td>...</td>\n      <td>...</td>\n      <td>...</td>\n      <td>...</td>\n      <td>...</td>\n      <td>...</td>\n      <td>...</td>\n      <td>...</td>\n    </tr>\n    <tr>\n      <th>30601</th>\n      <td>0</td>\n      <td>296.0</td>\n      <td>2017</td>\n      <td>July</td>\n      <td>30</td>\n      <td>27</td>\n      <td>0.0</td>\n      <td>2.0</td>\n      <td>0.0</td>\n      <td>bb</td>\n      <td>...</td>\n      <td>0</td>\n      <td>0</td>\n      <td>0</td>\n      <td>b</td>\n      <td>0</td>\n      <td>0</td>\n      <td>Transient</td>\n      <td>0</td>\n      <td>1</td>\n      <td>4</td>\n    </tr>\n    <tr>\n      <th>30654</th>\n      <td>0</td>\n      <td>276.0</td>\n      <td>2017</td>\n      <td>July</td>\n      <td>31</td>\n      <td>30</td>\n      <td>0.0</td>\n      <td>2.0</td>\n      <td>0.0</td>\n      <td>bb</td>\n      <td>...</td>\n      <td>0</td>\n      <td>0</td>\n      <td>0</td>\n      <td>b</td>\n      <td>1</td>\n      <td>0</td>\n      <td>Transient</td>\n      <td>0</td>\n      <td>2</td>\n      <td>3</td>\n    </tr>\n    <tr>\n      <th>30678</th>\n      <td>0</td>\n      <td>291.0</td>\n      <td>2017</td>\n      <td>July</td>\n      <td>30</td>\n      <td>29</td>\n      <td>0.0</td>\n      <td>2.0</td>\n      <td>0.0</td>\n      <td>bb</td>\n      <td>...</td>\n      <td>0</td>\n      <td>0</td>\n      <td>0</td>\n      <td>b</td>\n      <td>0</td>\n      <td>0</td>\n      <td>Transient</td>\n      <td>0</td>\n      <td>1</td>\n      <td>4</td>\n    </tr>\n    <tr>\n      <th>30815</th>\n      <td>0</td>\n      <td>159.0</td>\n      <td>2017</td>\n      <td>July</td>\n      <td>31</td>\n      <td>31</td>\n      <td>0.0</td>\n      <td>2.0</td>\n      <td>0.0</td>\n      <td>sc</td>\n      <td>...</td>\n      <td>0</td>\n      <td>0</td>\n      <td>0</td>\n      <td>a</td>\n      <td>1</td>\n      <td>0</td>\n      <td>Transient</td>\n      <td>0</td>\n      <td>1</td>\n      <td>4</td>\n    </tr>\n    <tr>\n      <th>31418</th>\n      <td>0</td>\n      <td>10.0</td>\n      <td>2017</td>\n      <td>August</td>\n      <td>32</td>\n      <td>12</td>\n      <td>0.0</td>\n      <td>3.0</td>\n      <td>0.0</td>\n      <td>bb</td>\n      <td>...</td>\n      <td>0</td>\n      <td>0</td>\n      <td>0</td>\n      <td>b</td>\n      <td>1</td>\n      <td>0</td>\n      <td>Transient-Party</td>\n      <td>0</td>\n      <td>1</td>\n      <td>4</td>\n    </tr>\n  </tbody>\n</table>\n<p>65 rows × 22 columns</p>\n</div>"
     },
     "execution_count": 31,
     "metadata": {},
     "output_type": "execute_result"
    }
   ],
   "source": [
    "hotel_test.loc[hotel_test['adults'] == 0]"
   ]
  },
  {
   "cell_type": "markdown",
   "metadata": {},
   "source": [
    "Избавимся от этих строк, так как должен быть хотя бы один взрослый клиент в номере"
   ]
  },
  {
   "cell_type": "code",
   "execution_count": 32,
   "metadata": {},
   "outputs": [],
   "source": [
    "hotel_train = hotel_train.loc[hotel_train['adults'] != 0]\n",
    "hotel_test = hotel_test.loc[hotel_test['adults'] != 0]"
   ]
  },
  {
   "cell_type": "markdown",
   "metadata": {},
   "source": [
    "Проверим наличие выбросов"
   ]
  },
  {
   "cell_type": "code",
   "execution_count": 33,
   "metadata": {},
   "outputs": [
    {
     "data": {
      "text/plain": "        is_canceled     lead_time  arrival_date_year  \\\ncount  43688.000000  43688.000000       43688.000000   \nmean       0.254074     67.793948        2015.774973   \nstd        0.435345     73.968086           0.417605   \nmin        0.000000      0.000000        2015.000000   \n25%        0.000000      9.000000        2016.000000   \n50%        0.000000     41.000000        2016.000000   \n75%        1.000000    102.000000        2016.000000   \nmax        1.000000    374.000000        2016.000000   \n\n       arrival_date_week_number  arrival_date_day_of_month        adults  \\\ncount              43688.000000               43688.000000  43688.000000   \nmean                  31.094626                  15.914576      1.863258   \nstd                   13.891084                   8.859681      0.492838   \nmin                    1.000000                   1.000000      1.000000   \n25%                   20.000000                   8.000000      2.000000   \n50%                   33.000000                  16.000000      2.000000   \n75%                   43.000000                  24.000000      2.000000   \nmax                   53.000000                  31.000000      4.000000   \n\n           children        babies  is_repeated_guest  previous_cancellations  \\\ncount  43688.000000  43688.000000       43688.000000            43688.000000   \nmean       0.101035      0.010667           0.033030                0.041773   \nstd        0.381192      0.119994           0.178716                0.460164   \nmin        0.000000      0.000000           0.000000                0.000000   \n25%        0.000000      0.000000           0.000000                0.000000   \n50%        0.000000      0.000000           0.000000                0.000000   \n75%        0.000000      0.000000           0.000000                0.000000   \nmax        3.000000     10.000000           1.000000               26.000000   \n\n       previous_bookings_not_canceled  booking_changes  days_in_waiting_list  \\\ncount                    43688.000000     43688.000000          43688.000000   \nmean                         0.155306         0.248466              0.824437   \nstd                          1.586831         0.678028              9.920652   \nmin                          0.000000         0.000000              0.000000   \n25%                          0.000000         0.000000              0.000000   \n50%                          0.000000         0.000000              0.000000   \n75%                          0.000000         0.000000              0.000000   \nmax                         58.000000        17.000000            259.000000   \n\n       required_car_parking_spaces  total_of_special_requests  total_nights  \ncount                 43688.000000               43688.000000  43688.000000  \nmean                      0.082631                   0.669932      3.207311  \nstd                       0.276489                   0.802496      1.878039  \nmin                       0.000000                   0.000000      1.000000  \n25%                       0.000000                   0.000000      2.000000  \n50%                       0.000000                   0.000000      3.000000  \n75%                       0.000000                   1.000000      4.000000  \nmax                       3.000000                   5.000000     10.000000  ",
      "text/html": "<div>\n<style scoped>\n    .dataframe tbody tr th:only-of-type {\n        vertical-align: middle;\n    }\n\n    .dataframe tbody tr th {\n        vertical-align: top;\n    }\n\n    .dataframe thead th {\n        text-align: right;\n    }\n</style>\n<table border=\"1\" class=\"dataframe\">\n  <thead>\n    <tr style=\"text-align: right;\">\n      <th></th>\n      <th>is_canceled</th>\n      <th>lead_time</th>\n      <th>arrival_date_year</th>\n      <th>arrival_date_week_number</th>\n      <th>arrival_date_day_of_month</th>\n      <th>adults</th>\n      <th>children</th>\n      <th>babies</th>\n      <th>is_repeated_guest</th>\n      <th>previous_cancellations</th>\n      <th>previous_bookings_not_canceled</th>\n      <th>booking_changes</th>\n      <th>days_in_waiting_list</th>\n      <th>required_car_parking_spaces</th>\n      <th>total_of_special_requests</th>\n      <th>total_nights</th>\n    </tr>\n  </thead>\n  <tbody>\n    <tr>\n      <th>count</th>\n      <td>43688.000000</td>\n      <td>43688.000000</td>\n      <td>43688.000000</td>\n      <td>43688.000000</td>\n      <td>43688.000000</td>\n      <td>43688.000000</td>\n      <td>43688.000000</td>\n      <td>43688.000000</td>\n      <td>43688.000000</td>\n      <td>43688.000000</td>\n      <td>43688.000000</td>\n      <td>43688.000000</td>\n      <td>43688.000000</td>\n      <td>43688.000000</td>\n      <td>43688.000000</td>\n      <td>43688.000000</td>\n    </tr>\n    <tr>\n      <th>mean</th>\n      <td>0.254074</td>\n      <td>67.793948</td>\n      <td>2015.774973</td>\n      <td>31.094626</td>\n      <td>15.914576</td>\n      <td>1.863258</td>\n      <td>0.101035</td>\n      <td>0.010667</td>\n      <td>0.033030</td>\n      <td>0.041773</td>\n      <td>0.155306</td>\n      <td>0.248466</td>\n      <td>0.824437</td>\n      <td>0.082631</td>\n      <td>0.669932</td>\n      <td>3.207311</td>\n    </tr>\n    <tr>\n      <th>std</th>\n      <td>0.435345</td>\n      <td>73.968086</td>\n      <td>0.417605</td>\n      <td>13.891084</td>\n      <td>8.859681</td>\n      <td>0.492838</td>\n      <td>0.381192</td>\n      <td>0.119994</td>\n      <td>0.178716</td>\n      <td>0.460164</td>\n      <td>1.586831</td>\n      <td>0.678028</td>\n      <td>9.920652</td>\n      <td>0.276489</td>\n      <td>0.802496</td>\n      <td>1.878039</td>\n    </tr>\n    <tr>\n      <th>min</th>\n      <td>0.000000</td>\n      <td>0.000000</td>\n      <td>2015.000000</td>\n      <td>1.000000</td>\n      <td>1.000000</td>\n      <td>1.000000</td>\n      <td>0.000000</td>\n      <td>0.000000</td>\n      <td>0.000000</td>\n      <td>0.000000</td>\n      <td>0.000000</td>\n      <td>0.000000</td>\n      <td>0.000000</td>\n      <td>0.000000</td>\n      <td>0.000000</td>\n      <td>1.000000</td>\n    </tr>\n    <tr>\n      <th>25%</th>\n      <td>0.000000</td>\n      <td>9.000000</td>\n      <td>2016.000000</td>\n      <td>20.000000</td>\n      <td>8.000000</td>\n      <td>2.000000</td>\n      <td>0.000000</td>\n      <td>0.000000</td>\n      <td>0.000000</td>\n      <td>0.000000</td>\n      <td>0.000000</td>\n      <td>0.000000</td>\n      <td>0.000000</td>\n      <td>0.000000</td>\n      <td>0.000000</td>\n      <td>2.000000</td>\n    </tr>\n    <tr>\n      <th>50%</th>\n      <td>0.000000</td>\n      <td>41.000000</td>\n      <td>2016.000000</td>\n      <td>33.000000</td>\n      <td>16.000000</td>\n      <td>2.000000</td>\n      <td>0.000000</td>\n      <td>0.000000</td>\n      <td>0.000000</td>\n      <td>0.000000</td>\n      <td>0.000000</td>\n      <td>0.000000</td>\n      <td>0.000000</td>\n      <td>0.000000</td>\n      <td>0.000000</td>\n      <td>3.000000</td>\n    </tr>\n    <tr>\n      <th>75%</th>\n      <td>1.000000</td>\n      <td>102.000000</td>\n      <td>2016.000000</td>\n      <td>43.000000</td>\n      <td>24.000000</td>\n      <td>2.000000</td>\n      <td>0.000000</td>\n      <td>0.000000</td>\n      <td>0.000000</td>\n      <td>0.000000</td>\n      <td>0.000000</td>\n      <td>0.000000</td>\n      <td>0.000000</td>\n      <td>0.000000</td>\n      <td>1.000000</td>\n      <td>4.000000</td>\n    </tr>\n    <tr>\n      <th>max</th>\n      <td>1.000000</td>\n      <td>374.000000</td>\n      <td>2016.000000</td>\n      <td>53.000000</td>\n      <td>31.000000</td>\n      <td>4.000000</td>\n      <td>3.000000</td>\n      <td>10.000000</td>\n      <td>1.000000</td>\n      <td>26.000000</td>\n      <td>58.000000</td>\n      <td>17.000000</td>\n      <td>259.000000</td>\n      <td>3.000000</td>\n      <td>5.000000</td>\n      <td>10.000000</td>\n    </tr>\n  </tbody>\n</table>\n</div>"
     },
     "execution_count": 33,
     "metadata": {},
     "output_type": "execute_result"
    }
   ],
   "source": [
    "hotel_train.describe()"
   ]
  },
  {
   "cell_type": "markdown",
   "metadata": {},
   "source": [
    "Построим гистограмму распределения количества дней между датой бронирования и датой прибытия"
   ]
  },
  {
   "cell_type": "code",
   "execution_count": 34,
   "metadata": {},
   "outputs": [
    {
     "data": {
      "text/plain": "<Figure size 432x288 with 1 Axes>",
      "image/png": "[encoded data removed]"
     },
     "metadata": {
      "needs_background": "light"
     },
     "output_type": "display_data"
    }
   ],
   "source": [
    "ax = hotel_train.hist(column='lead_time', bins=100, range=(0,374))\n",
    "ax = ax[0]\n",
    "for x in ax:\n",
    "    x.set_xlabel(\"lead_time\")\n",
    "    x.set_ylabel(\"amount\")"
   ]
  },
  {
   "cell_type": "markdown",
   "metadata": {},
   "source": [
    "Избавимся от значений больше (Q3 + 1.5 * IQR) - будем считать эти данные выбросами"
   ]
  },
  {
   "cell_type": "code",
   "execution_count": 35,
   "metadata": {},
   "outputs": [],
   "source": [
    "hotel_train = hotel_train.loc[hotel_train['lead_time'] <= hotel_train['lead_time'].quantile(0.75) + \n",
    "                              1.5 * (hotel_train['lead_time'].quantile(0.75) - \n",
    "                                     hotel_train['lead_time'].quantile(0.25))]"
   ]
  },
  {
   "cell_type": "code",
   "execution_count": 36,
   "metadata": {},
   "outputs": [
    {
     "data": {
      "text/plain": "<Figure size 432x288 with 1 Axes>",
      "image/png": "[encoded data removed]"
     },
     "metadata": {
      "needs_background": "light"
     },
     "output_type": "display_data"
    }
   ],
   "source": [
    "ax = hotel_train.hist(column='lead_time', bins=100, range=(0,374))\n",
    "ax = ax[0]\n",
    "for x in ax:\n",
    "    x.set_xlabel(\"lead_time\")\n",
    "    x.set_ylabel(\"amount\")"
   ]
  },
  {
   "cell_type": "markdown",
   "metadata": {},
   "source": [
    "Посмотрим данные о количестве младенцев"
   ]
  },
  {
   "cell_type": "code",
   "execution_count": 37,
   "metadata": {},
   "outputs": [
    {
     "data": {
      "text/plain": "0.0     41646\n1.0       430\n2.0         3\n9.0         1\n10.0        1\nName: babies, dtype: int64"
     },
     "execution_count": 37,
     "metadata": {},
     "output_type": "execute_result"
    }
   ],
   "source": [
    "hotel_train['babies'].value_counts()"
   ]
  },
  {
   "cell_type": "markdown",
   "metadata": {},
   "source": [
    "9 и 10 явно выбросы, их всего по одной штуке, избавимся от этих строк"
   ]
  },
  {
   "cell_type": "code",
   "execution_count": 38,
   "metadata": {},
   "outputs": [],
   "source": [
    "hotel_train = hotel_train.loc[hotel_train['babies'] < 9]"
   ]
  },
  {
   "cell_type": "markdown",
   "metadata": {},
   "source": [
    "Посмотрим данные о количестве дней ожидания подтверждения"
   ]
  },
  {
   "cell_type": "code",
   "execution_count": 39,
   "metadata": {},
   "outputs": [
    {
     "data": {
      "text/plain": "count    42079.000000\nmean         0.443808\nstd          5.717648\nmin          0.000000\n25%          0.000000\n50%          0.000000\n75%          0.000000\nmax        167.000000\nName: days_in_waiting_list, dtype: float64"
     },
     "execution_count": 39,
     "metadata": {},
     "output_type": "execute_result"
    }
   ],
   "source": [
    "hotel_train['days_in_waiting_list'].describe()"
   ]
  },
  {
   "cell_type": "markdown",
   "metadata": {},
   "source": [
    "Избавимся от значений больше (Q3 + 1.5 * IQR) - будем считать эти данные выбросами"
   ]
  },
  {
   "cell_type": "code",
   "execution_count": 40,
   "metadata": {},
   "outputs": [],
   "source": [
    "hotel_train = hotel_train.loc[hotel_train['days_in_waiting_list'] <= hotel_train['days_in_waiting_list'].quantile(0.75) + \n",
    "                              1.5 * (hotel_train['days_in_waiting_list'].quantile(0.75) - \n",
    "                                     hotel_train['days_in_waiting_list'].quantile(0.25))]"
   ]
  },
  {
   "cell_type": "markdown",
   "metadata": {},
   "source": [
    "### Вывод:  \n",
    "\n",
    "В данных наблюдается дисбаланс классов, поэтому при построении модели будет необходимо это учесть. \n",
    "\n",
    "В результате исследовательского анализа можно отметить следующие наблюдения:  \n",
    "- по количеству дней между датой бронирования и заселения не наблюдается сильной взаимосвязи с вероятностью отмены брони, можно отметить, что если человек бронирует в день заезда, то в большинстве случаев он не отменяет бронь;  \n",
    "- по месяцу заезда тоже нет взаимосвязи с вероятностью отмены бронирования, реже всего отменяют бронирования на январь, что скорее всего связано с тем, что новогодние планы клиенты стоят заранее и редко меняют эти планы;  \n",
    "- по количеству взрослых чаще всего отменяют бронь клиенты, которые бронировали на двух взрослых (скорее всего парам не сложно найти другое жилье или поменять свои планы), реже других отменяют бронь клиенты, которые бронировали на 4 взрослых (так как задействовано больше взрослых, то сложнее менять планы), однако таких клиентов всего 13 в нашем тренировочном наборе данных и, возможно, при увеличении числа таких клиентов вероятность поменяется;  \n",
    "- по количеству детей зависимости с отменой брони не наблюдается, но реже других отменяют клиенты с одним ребенком (28,6%);  \n",
    "- по количеству младенцев - у большинства клиентов (64777 из 65999) гостиницы нет младенцев, 37% из них отменяет бронь;  \n",
    "- по питанию - чаще других (68.9%) отменяют бронь клиенты заказавшие завтрак, обед и ужин;  \n",
    "- по странам - из тех стран, откуда достаточно много клиентов можно обратить внимание на то, что редко отменяют бронь жители Германии (DEU) 13.9%, Франции (FRA) 14.66%, Великобритании (GBR) 18.3%, часто отменяют жители Италии (ITA) 32.9% и Португалии (PRT) 57.5%, скорее всего это связано с особенностями культуры стран с южным климатом;  \n",
    "- по каналу продаж - больше всего продаж совершается через туристические агенства (TA/TO), но при этом 40.4% из них отменятеся, клиенты, бронирующие самостоятельно, отказываются от брони в 17.3% случаев;  \n",
    "- \"старый\" клиент - большинство клиентов бронируют номер впервые, 37.1% отказывается от брони;  \n",
    "- предыдущие отмены бронирования - большинство клиентов ранее не отменяли бронирования, из них 32.2% отменяют свою бронь, при этом если клиент ранее отменял свою бронь 1 раз, то высока вероятность, что он снова отменит бронь - 97.4%;  \n",
    "- количество подтвержденных заказов - если клиент ранее подтверждал заказ, то наиболее вероятно, что он не отменит бронь, но при этом большинство клинтов не подтверждало бронирование раньше (63686 клиентов);  \n",
    "- по категорию комнаты - чаще всего отменяют бронь клиенты, бронировавшие комнаты категории А - 39%;  \n",
    "- по количеству изменений брони - большинство клиентов не изменяют бронь, но если внесли хотя бы одно изменение, то более вероятно, что отмены брони не будет;  \n",
    "- по брони парковочных мест - большинство клиентов не запрашивают парковочных мест, но если запросили хотя бы одно место, то вероятнее всего отмены бронирования не произойдет (в тренировочных данных - 100%);  \n",
    "- по количеству специальных запросов - если у клиента есть специальные запросы, то скорее всего бронь не будет отменена - меньше 19.59%;  \n",
    "- по количеству заброннированных ночей - реже других отменяют бронь клиенты, которые забронировали только одну ночь (25.5%), чаще других отменяют бронь клинты, забронировавшие две ночи (45.1%)"
   ]
  },
  {
   "cell_type": "markdown",
   "metadata": {},
   "source": [
    "## Шаг 3. Формулировка ML-задачи на основе бизнес-задачи"
   ]
  },
  {
   "cell_type": "markdown",
   "metadata": {},
   "source": [
    "Оценим прибыль отеля без внедрения депозитов. \n",
    "\n",
    "Так как в задании не уточнено сколько ночей считается длительным пребыванием (не известен порог, в каком случае убираются раз в два дня), то за порог возьмем 7 ночей."
   ]
  },
  {
   "cell_type": "markdown",
   "metadata": {},
   "source": [
    "### Создадим функцию, котороя добавляет столбцы с указанием сезонного коэффициента,  стоимости одной ночи и стоимости одной уборки в номере"
   ]
  },
  {
   "cell_type": "code",
   "execution_count": 41,
   "metadata": {},
   "outputs": [],
   "source": [
    "def new_columns(df):\n",
    "    df = df.merge(season_coefficient) #добавим столбец с указанием сезонного коэффициента\n",
    "    df = df.merge(payments, on='reserved_room_type') #добавим столбцы с указанием стоимости одной ночи и \n",
    "    #стоимости уборки номера\n",
    "   \n",
    "    return df  "
   ]
  },
  {
   "cell_type": "markdown",
   "metadata": {},
   "source": [
    "### Создадим функцию, добавляющую столбец с прибылью для каждого id.  \n",
    "Сумма прибыли равна:  \n",
    "- коэффициент_сезона * (количество_ночей * стоимость_одной_ночи - стоимость_уборки * (1 + количество_ночей // 2)), в случае, если не было отмены брони\n",
    "- коэффициент_сезона * (стоимость_одной_ночи + стоимость_уборки)"
   ]
  },
  {
   "cell_type": "code",
   "execution_count": 42,
   "metadata": {},
   "outputs": [],
   "source": [
    "def profit(df):\n",
    "    df['profit'] = np.where(df['is_canceled'] == 0, #условие - отменен ли заказ\n",
    "                                df['coefficient'] * (df['total_nights'] * df['night'] - df['service'] * \n",
    "                                                     (1 + df['total_nights'] // 2)),\n",
    "                                - df['coefficient'] * (df['night'] + df['service']))"
   ]
  },
  {
   "cell_type": "markdown",
   "metadata": {},
   "source": [
    "### Применим эти функциии к обучаещему набору данных"
   ]
  },
  {
   "cell_type": "code",
   "execution_count": 43,
   "metadata": {},
   "outputs": [
    {
     "data": {
      "text/plain": "   is_canceled  lead_time  arrival_date_year arrival_date_month  \\\n0            0        7.0               2015               July   \n1            0       14.0               2015               July   \n2            1       85.0               2015               July   \n3            0        0.0               2015               July   \n4            0       72.0               2015               July   \n\n   arrival_date_week_number  arrival_date_day_of_month  adults  children  \\\n0                        27                          1     1.0       0.0   \n1                        27                          1     2.0       0.0   \n2                        27                          1     2.0       0.0   \n3                        27                          1     2.0       0.0   \n4                        27                          1     2.0       0.0   \n\n   babies meal  ... booking_changes days_in_waiting_list  customer_type  \\\n0     0.0   bb  ...               0                    0      Transient   \n1     0.0   bb  ...               0                    0      Transient   \n2     0.0   bb  ...               0                    0      Transient   \n3     0.0   bb  ...               0                    0      Transient   \n4     0.0   bb  ...               1                    0      Transient   \n\n   required_car_parking_spaces  total_of_special_requests total_nights  \\\n0                            0                          0            1   \n1                            0                          1            2   \n2                            0                          1            3   \n3                            0                          0            1   \n4                            0                          1            6   \n\n   coefficient  night service  profit  \n0          1.4   1000     400   840.0  \n1          1.4   1000     400  1680.0  \n2          1.4   1000     400 -1960.0  \n3          1.4   1000     400   840.0  \n4          1.4   1000     400  6160.0  \n\n[5 rows x 26 columns]",
      "text/html": "<div>\n<style scoped>\n    .dataframe tbody tr th:only-of-type {\n        vertical-align: middle;\n    }\n\n    .dataframe tbody tr th {\n        vertical-align: top;\n    }\n\n    .dataframe thead th {\n        text-align: right;\n    }\n</style>\n<table border=\"1\" class=\"dataframe\">\n  <thead>\n    <tr style=\"text-align: right;\">\n      <th></th>\n      <th>is_canceled</th>\n      <th>lead_time</th>\n      <th>arrival_date_year</th>\n      <th>arrival_date_month</th>\n      <th>arrival_date_week_number</th>\n      <th>arrival_date_day_of_month</th>\n      <th>adults</th>\n      <th>children</th>\n      <th>babies</th>\n      <th>meal</th>\n      <th>...</th>\n      <th>booking_changes</th>\n      <th>days_in_waiting_list</th>\n      <th>customer_type</th>\n      <th>required_car_parking_spaces</th>\n      <th>total_of_special_requests</th>\n      <th>total_nights</th>\n      <th>coefficient</th>\n      <th>night</th>\n      <th>service</th>\n      <th>profit</th>\n    </tr>\n  </thead>\n  <tbody>\n    <tr>\n      <th>0</th>\n      <td>0</td>\n      <td>7.0</td>\n      <td>2015</td>\n      <td>July</td>\n      <td>27</td>\n      <td>1</td>\n      <td>1.0</td>\n      <td>0.0</td>\n      <td>0.0</td>\n      <td>bb</td>\n      <td>...</td>\n      <td>0</td>\n      <td>0</td>\n      <td>Transient</td>\n      <td>0</td>\n      <td>0</td>\n      <td>1</td>\n      <td>1.4</td>\n      <td>1000</td>\n      <td>400</td>\n      <td>840.0</td>\n    </tr>\n    <tr>\n      <th>1</th>\n      <td>0</td>\n      <td>14.0</td>\n      <td>2015</td>\n      <td>July</td>\n      <td>27</td>\n      <td>1</td>\n      <td>2.0</td>\n      <td>0.0</td>\n      <td>0.0</td>\n      <td>bb</td>\n      <td>...</td>\n      <td>0</td>\n      <td>0</td>\n      <td>Transient</td>\n      <td>0</td>\n      <td>1</td>\n      <td>2</td>\n      <td>1.4</td>\n      <td>1000</td>\n      <td>400</td>\n      <td>1680.0</td>\n    </tr>\n    <tr>\n      <th>2</th>\n      <td>1</td>\n      <td>85.0</td>\n      <td>2015</td>\n      <td>July</td>\n      <td>27</td>\n      <td>1</td>\n      <td>2.0</td>\n      <td>0.0</td>\n      <td>0.0</td>\n      <td>bb</td>\n      <td>...</td>\n      <td>0</td>\n      <td>0</td>\n      <td>Transient</td>\n      <td>0</td>\n      <td>1</td>\n      <td>3</td>\n      <td>1.4</td>\n      <td>1000</td>\n      <td>400</td>\n      <td>-1960.0</td>\n    </tr>\n    <tr>\n      <th>3</th>\n      <td>0</td>\n      <td>0.0</td>\n      <td>2015</td>\n      <td>July</td>\n      <td>27</td>\n      <td>1</td>\n      <td>2.0</td>\n      <td>0.0</td>\n      <td>0.0</td>\n      <td>bb</td>\n      <td>...</td>\n      <td>0</td>\n      <td>0</td>\n      <td>Transient</td>\n      <td>0</td>\n      <td>0</td>\n      <td>1</td>\n      <td>1.4</td>\n      <td>1000</td>\n      <td>400</td>\n      <td>840.0</td>\n    </tr>\n    <tr>\n      <th>4</th>\n      <td>0</td>\n      <td>72.0</td>\n      <td>2015</td>\n      <td>July</td>\n      <td>27</td>\n      <td>1</td>\n      <td>2.0</td>\n      <td>0.0</td>\n      <td>0.0</td>\n      <td>bb</td>\n      <td>...</td>\n      <td>1</td>\n      <td>0</td>\n      <td>Transient</td>\n      <td>0</td>\n      <td>1</td>\n      <td>6</td>\n      <td>1.4</td>\n      <td>1000</td>\n      <td>400</td>\n      <td>6160.0</td>\n    </tr>\n  </tbody>\n</table>\n<p>5 rows × 26 columns</p>\n</div>"
     },
     "metadata": {},
     "output_type": "display_data"
    },
    {
     "name": "stdout",
     "output_type": "stream",
     "text": [
      "<class 'pandas.core.frame.DataFrame'>\n",
      "Int64Index: 41735 entries, 0 to 41734\n",
      "Data columns (total 26 columns):\n",
      " #   Column                          Non-Null Count  Dtype  \n",
      "---  ------                          --------------  -----  \n",
      " 0   is_canceled                     41735 non-null  int64  \n",
      " 1   lead_time                       41735 non-null  float64\n",
      " 2   arrival_date_year               41735 non-null  int64  \n",
      " 3   arrival_date_month              41735 non-null  object \n",
      " 4   arrival_date_week_number        41735 non-null  int64  \n",
      " 5   arrival_date_day_of_month       41735 non-null  int64  \n",
      " 6   adults                          41735 non-null  float64\n",
      " 7   children                        41735 non-null  float64\n",
      " 8   babies                          41735 non-null  float64\n",
      " 9   meal                            41735 non-null  object \n",
      " 10  country                         41735 non-null  object \n",
      " 11  distribution_channel            41735 non-null  object \n",
      " 12  is_repeated_guest               41735 non-null  int64  \n",
      " 13  previous_cancellations          41735 non-null  int64  \n",
      " 14  previous_bookings_not_canceled  41735 non-null  int64  \n",
      " 15  reserved_room_type              41735 non-null  object \n",
      " 16  booking_changes                 41735 non-null  int64  \n",
      " 17  days_in_waiting_list            41735 non-null  int64  \n",
      " 18  customer_type                   41735 non-null  object \n",
      " 19  required_car_parking_spaces     41735 non-null  int64  \n",
      " 20  total_of_special_requests       41735 non-null  int64  \n",
      " 21  total_nights                    41735 non-null  int64  \n",
      " 22  coefficient                     41735 non-null  float64\n",
      " 23  night                           41735 non-null  int64  \n",
      " 24  service                         41735 non-null  int64  \n",
      " 25  profit                          41735 non-null  float64\n",
      "dtypes: float64(6), int64(14), object(6)\n",
      "memory usage: 8.6+ MB\n",
      "None\n"
     ]
    },
    {
     "data": {
      "text/plain": "        is_canceled     lead_time  arrival_date_year  \\\ncount  41735.000000  41735.000000       41735.000000   \nmean       0.246891     58.935642        2015.775896   \nstd        0.431208     60.841156           0.416996   \nmin        0.000000      0.000000        2015.000000   \n25%        0.000000      8.000000        2016.000000   \n50%        0.000000     38.000000        2016.000000   \n75%        0.000000     92.000000        2016.000000   \nmax        1.000000    241.000000        2016.000000   \n\n       arrival_date_week_number  arrival_date_day_of_month        adults  \\\ncount              41735.000000               41735.000000  41735.000000   \nmean                  30.895172                  15.887097      1.864981   \nstd                   13.957392                   8.879669      0.494038   \nmin                    1.000000                   1.000000      1.000000   \n25%                   19.000000                   8.000000      2.000000   \n50%                   33.000000                  16.000000      2.000000   \n75%                   43.000000                  24.000000      2.000000   \nmax                   53.000000                  31.000000      4.000000   \n\n           children        babies  is_repeated_guest  previous_cancellations  \\\ncount  41735.000000  41735.000000       41735.000000             41735.00000   \nmean       0.103438      0.010447           0.033976                 0.03412   \nstd        0.385325      0.102380           0.181170                 0.38703   \nmin        0.000000      0.000000           0.000000                 0.00000   \n25%        0.000000      0.000000           0.000000                 0.00000   \n50%        0.000000      0.000000           0.000000                 0.00000   \n75%        0.000000      0.000000           0.000000                 0.00000   \nmax        3.000000      2.000000           1.000000                25.00000   \n\n       previous_bookings_not_canceled  booking_changes  days_in_waiting_list  \\\ncount                    41735.000000     41735.000000               41735.0   \nmean                         0.159315         0.237978                   0.0   \nstd                          1.609338         0.666199                   0.0   \nmin                          0.000000         0.000000                   0.0   \n25%                          0.000000         0.000000                   0.0   \n50%                          0.000000         0.000000                   0.0   \n75%                          0.000000         0.000000                   0.0   \nmax                         58.000000        17.000000                   0.0   \n\n       required_car_parking_spaces  total_of_special_requests  total_nights  \\\ncount                 41735.000000               41735.000000  41735.000000   \nmean                      0.084725                   0.679741      3.175943   \nstd                       0.279592                   0.803193      1.865339   \nmin                       0.000000                   0.000000      1.000000   \n25%                       0.000000                   0.000000      2.000000   \n50%                       0.000000                   0.000000      3.000000   \n75%                       0.000000                   1.000000      4.000000   \nmax                       3.000000                   5.000000     10.000000   \n\n        coefficient         night       service        profit  \ncount  41735.000000  41735.000000  41735.000000  41735.000000  \nmean       1.216648    856.415479    326.432251   1384.817300  \nstd        0.132578    218.615647    113.109926   2172.669386  \nmin        1.000000    350.000000    150.000000  -1960.000000  \n25%        1.200000    550.000000    150.000000    300.000000  \n50%        1.200000   1000.000000    400.000000   1350.000000  \n75%        1.400000   1000.000000    400.000000   2640.000000  \nmax        1.400000   1000.000000    400.000000  10640.000000  ",
      "text/html": "<div>\n<style scoped>\n    .dataframe tbody tr th:only-of-type {\n        vertical-align: middle;\n    }\n\n    .dataframe tbody tr th {\n        vertical-align: top;\n    }\n\n    .dataframe thead th {\n        text-align: right;\n    }\n</style>\n<table border=\"1\" class=\"dataframe\">\n  <thead>\n    <tr style=\"text-align: right;\">\n      <th></th>\n      <th>is_canceled</th>\n      <th>lead_time</th>\n      <th>arrival_date_year</th>\n      <th>arrival_date_week_number</th>\n      <th>arrival_date_day_of_month</th>\n      <th>adults</th>\n      <th>children</th>\n      <th>babies</th>\n      <th>is_repeated_guest</th>\n      <th>previous_cancellations</th>\n      <th>previous_bookings_not_canceled</th>\n      <th>booking_changes</th>\n      <th>days_in_waiting_list</th>\n      <th>required_car_parking_spaces</th>\n      <th>total_of_special_requests</th>\n      <th>total_nights</th>\n      <th>coefficient</th>\n      <th>night</th>\n      <th>service</th>\n      <th>profit</th>\n    </tr>\n  </thead>\n  <tbody>\n    <tr>\n      <th>count</th>\n      <td>41735.000000</td>\n      <td>41735.000000</td>\n      <td>41735.000000</td>\n      <td>41735.000000</td>\n      <td>41735.000000</td>\n      <td>41735.000000</td>\n      <td>41735.000000</td>\n      <td>41735.000000</td>\n      <td>41735.000000</td>\n      <td>41735.00000</td>\n      <td>41735.000000</td>\n      <td>41735.000000</td>\n      <td>41735.0</td>\n      <td>41735.000000</td>\n      <td>41735.000000</td>\n      <td>41735.000000</td>\n      <td>41735.000000</td>\n      <td>41735.000000</td>\n      <td>41735.000000</td>\n      <td>41735.000000</td>\n    </tr>\n    <tr>\n      <th>mean</th>\n      <td>0.246891</td>\n      <td>58.935642</td>\n      <td>2015.775896</td>\n      <td>30.895172</td>\n      <td>15.887097</td>\n      <td>1.864981</td>\n      <td>0.103438</td>\n      <td>0.010447</td>\n      <td>0.033976</td>\n      <td>0.03412</td>\n      <td>0.159315</td>\n      <td>0.237978</td>\n      <td>0.0</td>\n      <td>0.084725</td>\n      <td>0.679741</td>\n      <td>3.175943</td>\n      <td>1.216648</td>\n      <td>856.415479</td>\n      <td>326.432251</td>\n      <td>1384.817300</td>\n    </tr>\n    <tr>\n      <th>std</th>\n      <td>0.431208</td>\n      <td>60.841156</td>\n      <td>0.416996</td>\n      <td>13.957392</td>\n      <td>8.879669</td>\n      <td>0.494038</td>\n      <td>0.385325</td>\n      <td>0.102380</td>\n      <td>0.181170</td>\n      <td>0.38703</td>\n      <td>1.609338</td>\n      <td>0.666199</td>\n      <td>0.0</td>\n      <td>0.279592</td>\n      <td>0.803193</td>\n      <td>1.865339</td>\n      <td>0.132578</td>\n      <td>218.615647</td>\n      <td>113.109926</td>\n      <td>2172.669386</td>\n    </tr>\n    <tr>\n      <th>min</th>\n      <td>0.000000</td>\n      <td>0.000000</td>\n      <td>2015.000000</td>\n      <td>1.000000</td>\n      <td>1.000000</td>\n      <td>1.000000</td>\n      <td>0.000000</td>\n      <td>0.000000</td>\n      <td>0.000000</td>\n      <td>0.00000</td>\n      <td>0.000000</td>\n      <td>0.000000</td>\n      <td>0.0</td>\n      <td>0.000000</td>\n      <td>0.000000</td>\n      <td>1.000000</td>\n      <td>1.000000</td>\n      <td>350.000000</td>\n      <td>150.000000</td>\n      <td>-1960.000000</td>\n    </tr>\n    <tr>\n      <th>25%</th>\n      <td>0.000000</td>\n      <td>8.000000</td>\n      <td>2016.000000</td>\n      <td>19.000000</td>\n      <td>8.000000</td>\n      <td>2.000000</td>\n      <td>0.000000</td>\n      <td>0.000000</td>\n      <td>0.000000</td>\n      <td>0.00000</td>\n      <td>0.000000</td>\n      <td>0.000000</td>\n      <td>0.0</td>\n      <td>0.000000</td>\n      <td>0.000000</td>\n      <td>2.000000</td>\n      <td>1.200000</td>\n      <td>550.000000</td>\n      <td>150.000000</td>\n      <td>300.000000</td>\n    </tr>\n    <tr>\n      <th>50%</th>\n      <td>0.000000</td>\n      <td>38.000000</td>\n      <td>2016.000000</td>\n      <td>33.000000</td>\n      <td>16.000000</td>\n      <td>2.000000</td>\n      <td>0.000000</td>\n      <td>0.000000</td>\n      <td>0.000000</td>\n      <td>0.00000</td>\n      <td>0.000000</td>\n      <td>0.000000</td>\n      <td>0.0</td>\n      <td>0.000000</td>\n      <td>0.000000</td>\n      <td>3.000000</td>\n      <td>1.200000</td>\n      <td>1000.000000</td>\n      <td>400.000000</td>\n      <td>1350.000000</td>\n    </tr>\n    <tr>\n      <th>75%</th>\n      <td>0.000000</td>\n      <td>92.000000</td>\n      <td>2016.000000</td>\n      <td>43.000000</td>\n      <td>24.000000</td>\n      <td>2.000000</td>\n      <td>0.000000</td>\n      <td>0.000000</td>\n      <td>0.000000</td>\n      <td>0.00000</td>\n      <td>0.000000</td>\n      <td>0.000000</td>\n      <td>0.0</td>\n      <td>0.000000</td>\n      <td>1.000000</td>\n      <td>4.000000</td>\n      <td>1.400000</td>\n      <td>1000.000000</td>\n      <td>400.000000</td>\n      <td>2640.000000</td>\n    </tr>\n    <tr>\n      <th>max</th>\n      <td>1.000000</td>\n      <td>241.000000</td>\n      <td>2016.000000</td>\n      <td>53.000000</td>\n      <td>31.000000</td>\n      <td>4.000000</td>\n      <td>3.000000</td>\n      <td>2.000000</td>\n      <td>1.000000</td>\n      <td>25.00000</td>\n      <td>58.000000</td>\n      <td>17.000000</td>\n      <td>0.0</td>\n      <td>3.000000</td>\n      <td>5.000000</td>\n      <td>10.000000</td>\n      <td>1.400000</td>\n      <td>1000.000000</td>\n      <td>400.000000</td>\n      <td>10640.000000</td>\n    </tr>\n  </tbody>\n</table>\n</div>"
     },
     "metadata": {},
     "output_type": "display_data"
    }
   ],
   "source": [
    "hotel_train = new_columns(hotel_train)\n",
    "profit(hotel_train)\n",
    "display(hotel_train.head())\n",
    "print(hotel_train.info())\n",
    "display(hotel_train.describe())"
   ]
  },
  {
   "cell_type": "markdown",
   "metadata": {},
   "source": [
    "### Применим эти функции к тестовому набору данных"
   ]
  },
  {
   "cell_type": "code",
   "execution_count": 44,
   "metadata": {},
   "outputs": [
    {
     "data": {
      "text/plain": "   is_canceled  lead_time  arrival_date_year arrival_date_month  \\\n0            1       74.0               2017            January   \n1            1       62.0               2017            January   \n2            1       71.0               2017            January   \n3            1      172.0               2017            January   \n4            1       52.0               2017            January   \n\n   arrival_date_week_number  arrival_date_day_of_month  adults  children  \\\n0                         1                          1     2.0       0.0   \n1                         1                          1     2.0       0.0   \n2                         1                          1     1.0       0.0   \n3                         1                          1     2.0       0.0   \n4                         1                          1     1.0       0.0   \n\n   babies meal  ... booking_changes days_in_waiting_list  customer_type  \\\n0     0.0   bb  ...               0                    0      Transient   \n1     0.0   bb  ...               0                    0      Transient   \n2     0.0   bb  ...               0                    0      Transient   \n3     0.0   bb  ...               0                    0      Transient   \n4     0.0   bb  ...               0                    0      Transient   \n\n   required_car_parking_spaces  total_of_special_requests total_nights  \\\n0                            0                          0            1   \n1                            0                          1            4   \n2                            0                          1            4   \n3                            0                          0            7   \n4                            0                          0            7   \n\n   coefficient  night service  profit  \n0          1.0   1000     400 -1400.0  \n1          1.0   1000     400 -1400.0  \n2          1.0   1000     400 -1400.0  \n3          1.0   1000     400 -1400.0  \n4          1.0   1000     400 -1400.0  \n\n[5 rows x 26 columns]",
      "text/html": "<div>\n<style scoped>\n    .dataframe tbody tr th:only-of-type {\n        vertical-align: middle;\n    }\n\n    .dataframe tbody tr th {\n        vertical-align: top;\n    }\n\n    .dataframe thead th {\n        text-align: right;\n    }\n</style>\n<table border=\"1\" class=\"dataframe\">\n  <thead>\n    <tr style=\"text-align: right;\">\n      <th></th>\n      <th>is_canceled</th>\n      <th>lead_time</th>\n      <th>arrival_date_year</th>\n      <th>arrival_date_month</th>\n      <th>arrival_date_week_number</th>\n      <th>arrival_date_day_of_month</th>\n      <th>adults</th>\n      <th>children</th>\n      <th>babies</th>\n      <th>meal</th>\n      <th>...</th>\n      <th>booking_changes</th>\n      <th>days_in_waiting_list</th>\n      <th>customer_type</th>\n      <th>required_car_parking_spaces</th>\n      <th>total_of_special_requests</th>\n      <th>total_nights</th>\n      <th>coefficient</th>\n      <th>night</th>\n      <th>service</th>\n      <th>profit</th>\n    </tr>\n  </thead>\n  <tbody>\n    <tr>\n      <th>0</th>\n      <td>1</td>\n      <td>74.0</td>\n      <td>2017</td>\n      <td>January</td>\n      <td>1</td>\n      <td>1</td>\n      <td>2.0</td>\n      <td>0.0</td>\n      <td>0.0</td>\n      <td>bb</td>\n      <td>...</td>\n      <td>0</td>\n      <td>0</td>\n      <td>Transient</td>\n      <td>0</td>\n      <td>0</td>\n      <td>1</td>\n      <td>1.0</td>\n      <td>1000</td>\n      <td>400</td>\n      <td>-1400.0</td>\n    </tr>\n    <tr>\n      <th>1</th>\n      <td>1</td>\n      <td>62.0</td>\n      <td>2017</td>\n      <td>January</td>\n      <td>1</td>\n      <td>1</td>\n      <td>2.0</td>\n      <td>0.0</td>\n      <td>0.0</td>\n      <td>bb</td>\n      <td>...</td>\n      <td>0</td>\n      <td>0</td>\n      <td>Transient</td>\n      <td>0</td>\n      <td>1</td>\n      <td>4</td>\n      <td>1.0</td>\n      <td>1000</td>\n      <td>400</td>\n      <td>-1400.0</td>\n    </tr>\n    <tr>\n      <th>2</th>\n      <td>1</td>\n      <td>71.0</td>\n      <td>2017</td>\n      <td>January</td>\n      <td>1</td>\n      <td>1</td>\n      <td>1.0</td>\n      <td>0.0</td>\n      <td>0.0</td>\n      <td>bb</td>\n      <td>...</td>\n      <td>0</td>\n      <td>0</td>\n      <td>Transient</td>\n      <td>0</td>\n      <td>1</td>\n      <td>4</td>\n      <td>1.0</td>\n      <td>1000</td>\n      <td>400</td>\n      <td>-1400.0</td>\n    </tr>\n    <tr>\n      <th>3</th>\n      <td>1</td>\n      <td>172.0</td>\n      <td>2017</td>\n      <td>January</td>\n      <td>1</td>\n      <td>1</td>\n      <td>2.0</td>\n      <td>0.0</td>\n      <td>0.0</td>\n      <td>bb</td>\n      <td>...</td>\n      <td>0</td>\n      <td>0</td>\n      <td>Transient</td>\n      <td>0</td>\n      <td>0</td>\n      <td>7</td>\n      <td>1.0</td>\n      <td>1000</td>\n      <td>400</td>\n      <td>-1400.0</td>\n    </tr>\n    <tr>\n      <th>4</th>\n      <td>1</td>\n      <td>52.0</td>\n      <td>2017</td>\n      <td>January</td>\n      <td>1</td>\n      <td>1</td>\n      <td>1.0</td>\n      <td>0.0</td>\n      <td>0.0</td>\n      <td>bb</td>\n      <td>...</td>\n      <td>0</td>\n      <td>0</td>\n      <td>Transient</td>\n      <td>0</td>\n      <td>0</td>\n      <td>7</td>\n      <td>1.0</td>\n      <td>1000</td>\n      <td>400</td>\n      <td>-1400.0</td>\n    </tr>\n  </tbody>\n</table>\n<p>5 rows × 26 columns</p>\n</div>"
     },
     "metadata": {},
     "output_type": "display_data"
    },
    {
     "name": "stdout",
     "output_type": "stream",
     "text": [
      "<class 'pandas.core.frame.DataFrame'>\n",
      "Int64Index: 24630 entries, 0 to 24629\n",
      "Data columns (total 26 columns):\n",
      " #   Column                          Non-Null Count  Dtype  \n",
      "---  ------                          --------------  -----  \n",
      " 0   is_canceled                     24630 non-null  int64  \n",
      " 1   lead_time                       24630 non-null  float64\n",
      " 2   arrival_date_year               24630 non-null  int64  \n",
      " 3   arrival_date_month              24630 non-null  object \n",
      " 4   arrival_date_week_number        24630 non-null  int64  \n",
      " 5   arrival_date_day_of_month       24630 non-null  int64  \n",
      " 6   adults                          24630 non-null  float64\n",
      " 7   children                        24630 non-null  float64\n",
      " 8   babies                          24630 non-null  float64\n",
      " 9   meal                            24630 non-null  object \n",
      " 10  country                         24630 non-null  object \n",
      " 11  distribution_channel            24630 non-null  object \n",
      " 12  is_repeated_guest               24630 non-null  int64  \n",
      " 13  previous_cancellations          24630 non-null  int64  \n",
      " 14  previous_bookings_not_canceled  24630 non-null  int64  \n",
      " 15  reserved_room_type              24630 non-null  object \n",
      " 16  booking_changes                 24630 non-null  int64  \n",
      " 17  days_in_waiting_list            24630 non-null  int64  \n",
      " 18  customer_type                   24630 non-null  object \n",
      " 19  required_car_parking_spaces     24630 non-null  int64  \n",
      " 20  total_of_special_requests       24630 non-null  int64  \n",
      " 21  total_nights                    24630 non-null  int64  \n",
      " 22  coefficient                     24630 non-null  float64\n",
      " 23  night                           24630 non-null  int64  \n",
      " 24  service                         24630 non-null  int64  \n",
      " 25  profit                          24630 non-null  float64\n",
      "dtypes: float64(6), int64(14), object(6)\n",
      "memory usage: 5.1+ MB\n",
      "None\n"
     ]
    },
    {
     "data": {
      "text/plain": "        is_canceled     lead_time  arrival_date_year  \\\ncount  24630.000000  24630.000000            24630.0   \nmean       0.314941     88.584815             2017.0   \nstd        0.464502     85.326076                0.0   \nmin        0.000000      0.000000             2017.0   \n25%        0.000000     16.000000             2017.0   \n50%        0.000000     62.000000             2017.0   \n75%        1.000000    143.000000             2017.0   \nmax        1.000000    373.000000             2017.0   \n\n       arrival_date_week_number  arrival_date_day_of_month        adults  \\\ncount              24630.000000               24630.000000  24630.000000   \nmean                  18.194235                  15.580390      1.892245   \nstd                    9.438645                   8.776494      0.486616   \nmin                    1.000000                   1.000000      1.000000   \n25%                   10.000000                   8.000000      2.000000   \n50%                   18.000000                  15.000000      2.000000   \n75%                   26.000000                  23.000000      2.000000   \nmax                   35.000000                  31.000000      4.000000   \n\n           children        babies  is_repeated_guest  previous_cancellations  \\\ncount  24630.000000  24630.000000       24630.000000            24630.000000   \nmean       0.101624      0.007227           0.040560                0.015104   \nstd        0.373763      0.086602           0.197273                0.206514   \nmin        0.000000      0.000000           0.000000                0.000000   \n25%        0.000000      0.000000           0.000000                0.000000   \n50%        0.000000      0.000000           0.000000                0.000000   \n75%        0.000000      0.000000           0.000000                0.000000   \nmax        3.000000      2.000000           1.000000                6.000000   \n\n       previous_bookings_not_canceled  booking_changes  days_in_waiting_list  \\\ncount                    24630.000000     24630.000000          24630.000000   \nmean                         0.223711         0.253634              0.342387   \nstd                          2.146085         0.697569              5.411589   \nmin                          0.000000         0.000000              0.000000   \n25%                          0.000000         0.000000              0.000000   \n50%                          0.000000         0.000000              0.000000   \n75%                          0.000000         0.000000              0.000000   \nmax                         72.000000        18.000000            223.000000   \n\n       required_car_parking_spaces  total_of_special_requests  total_nights  \\\ncount                 24630.000000               24630.000000  24630.000000   \nmean                      0.059643                   0.762241      3.287779   \nstd                       0.247722                   0.860804      1.818115   \nmin                       0.000000                   0.000000      1.000000   \n25%                       0.000000                   0.000000      2.000000   \n50%                       0.000000                   1.000000      3.000000   \n75%                       0.000000                   1.000000      4.000000   \nmax                       8.000000                   5.000000     10.000000   \n\n        coefficient         night       service        profit  \ncount  24630.000000  24630.000000  24630.000000  24630.000000  \nmean       1.233268    848.313033    321.400731   1184.345920  \nstd        0.148955    221.087473    115.513649   2266.153604  \nmin        1.000000    350.000000    150.000000  -1960.000000  \n25%        1.200000    550.000000    150.000000   -840.000000  \n50%        1.200000   1000.000000    400.000000   1140.000000  \n75%        1.400000   1000.000000    400.000000   2640.000000  \nmax        1.400000   1000.000000    400.000000  10640.000000  ",
      "text/html": "<div>\n<style scoped>\n    .dataframe tbody tr th:only-of-type {\n        vertical-align: middle;\n    }\n\n    .dataframe tbody tr th {\n        vertical-align: top;\n    }\n\n    .dataframe thead th {\n        text-align: right;\n    }\n</style>\n<table border=\"1\" class=\"dataframe\">\n  <thead>\n    <tr style=\"text-align: right;\">\n      <th></th>\n      <th>is_canceled</th>\n      <th>lead_time</th>\n      <th>arrival_date_year</th>\n      <th>arrival_date_week_number</th>\n      <th>arrival_date_day_of_month</th>\n      <th>adults</th>\n      <th>children</th>\n      <th>babies</th>\n      <th>is_repeated_guest</th>\n      <th>previous_cancellations</th>\n      <th>previous_bookings_not_canceled</th>\n      <th>booking_changes</th>\n      <th>days_in_waiting_list</th>\n      <th>required_car_parking_spaces</th>\n      <th>total_of_special_requests</th>\n      <th>total_nights</th>\n      <th>coefficient</th>\n      <th>night</th>\n      <th>service</th>\n      <th>profit</th>\n    </tr>\n  </thead>\n  <tbody>\n    <tr>\n      <th>count</th>\n      <td>24630.000000</td>\n      <td>24630.000000</td>\n      <td>24630.0</td>\n      <td>24630.000000</td>\n      <td>24630.000000</td>\n      <td>24630.000000</td>\n      <td>24630.000000</td>\n      <td>24630.000000</td>\n      <td>24630.000000</td>\n      <td>24630.000000</td>\n      <td>24630.000000</td>\n      <td>24630.000000</td>\n      <td>24630.000000</td>\n      <td>24630.000000</td>\n      <td>24630.000000</td>\n      <td>24630.000000</td>\n      <td>24630.000000</td>\n      <td>24630.000000</td>\n      <td>24630.000000</td>\n      <td>24630.000000</td>\n    </tr>\n    <tr>\n      <th>mean</th>\n      <td>0.314941</td>\n      <td>88.584815</td>\n      <td>2017.0</td>\n      <td>18.194235</td>\n      <td>15.580390</td>\n      <td>1.892245</td>\n      <td>0.101624</td>\n      <td>0.007227</td>\n      <td>0.040560</td>\n      <td>0.015104</td>\n      <td>0.223711</td>\n      <td>0.253634</td>\n      <td>0.342387</td>\n      <td>0.059643</td>\n      <td>0.762241</td>\n      <td>3.287779</td>\n      <td>1.233268</td>\n      <td>848.313033</td>\n      <td>321.400731</td>\n      <td>1184.345920</td>\n    </tr>\n    <tr>\n      <th>std</th>\n      <td>0.464502</td>\n      <td>85.326076</td>\n      <td>0.0</td>\n      <td>9.438645</td>\n      <td>8.776494</td>\n      <td>0.486616</td>\n      <td>0.373763</td>\n      <td>0.086602</td>\n      <td>0.197273</td>\n      <td>0.206514</td>\n      <td>2.146085</td>\n      <td>0.697569</td>\n      <td>5.411589</td>\n      <td>0.247722</td>\n      <td>0.860804</td>\n      <td>1.818115</td>\n      <td>0.148955</td>\n      <td>221.087473</td>\n      <td>115.513649</td>\n      <td>2266.153604</td>\n    </tr>\n    <tr>\n      <th>min</th>\n      <td>0.000000</td>\n      <td>0.000000</td>\n      <td>2017.0</td>\n      <td>1.000000</td>\n      <td>1.000000</td>\n      <td>1.000000</td>\n      <td>0.000000</td>\n      <td>0.000000</td>\n      <td>0.000000</td>\n      <td>0.000000</td>\n      <td>0.000000</td>\n      <td>0.000000</td>\n      <td>0.000000</td>\n      <td>0.000000</td>\n      <td>0.000000</td>\n      <td>1.000000</td>\n      <td>1.000000</td>\n      <td>350.000000</td>\n      <td>150.000000</td>\n      <td>-1960.000000</td>\n    </tr>\n    <tr>\n      <th>25%</th>\n      <td>0.000000</td>\n      <td>16.000000</td>\n      <td>2017.0</td>\n      <td>10.000000</td>\n      <td>8.000000</td>\n      <td>2.000000</td>\n      <td>0.000000</td>\n      <td>0.000000</td>\n      <td>0.000000</td>\n      <td>0.000000</td>\n      <td>0.000000</td>\n      <td>0.000000</td>\n      <td>0.000000</td>\n      <td>0.000000</td>\n      <td>0.000000</td>\n      <td>2.000000</td>\n      <td>1.200000</td>\n      <td>550.000000</td>\n      <td>150.000000</td>\n      <td>-840.000000</td>\n    </tr>\n    <tr>\n      <th>50%</th>\n      <td>0.000000</td>\n      <td>62.000000</td>\n      <td>2017.0</td>\n      <td>18.000000</td>\n      <td>15.000000</td>\n      <td>2.000000</td>\n      <td>0.000000</td>\n      <td>0.000000</td>\n      <td>0.000000</td>\n      <td>0.000000</td>\n      <td>0.000000</td>\n      <td>0.000000</td>\n      <td>0.000000</td>\n      <td>0.000000</td>\n      <td>1.000000</td>\n      <td>3.000000</td>\n      <td>1.200000</td>\n      <td>1000.000000</td>\n      <td>400.000000</td>\n      <td>1140.000000</td>\n    </tr>\n    <tr>\n      <th>75%</th>\n      <td>1.000000</td>\n      <td>143.000000</td>\n      <td>2017.0</td>\n      <td>26.000000</td>\n      <td>23.000000</td>\n      <td>2.000000</td>\n      <td>0.000000</td>\n      <td>0.000000</td>\n      <td>0.000000</td>\n      <td>0.000000</td>\n      <td>0.000000</td>\n      <td>0.000000</td>\n      <td>0.000000</td>\n      <td>0.000000</td>\n      <td>1.000000</td>\n      <td>4.000000</td>\n      <td>1.400000</td>\n      <td>1000.000000</td>\n      <td>400.000000</td>\n      <td>2640.000000</td>\n    </tr>\n    <tr>\n      <th>max</th>\n      <td>1.000000</td>\n      <td>373.000000</td>\n      <td>2017.0</td>\n      <td>35.000000</td>\n      <td>31.000000</td>\n      <td>4.000000</td>\n      <td>3.000000</td>\n      <td>2.000000</td>\n      <td>1.000000</td>\n      <td>6.000000</td>\n      <td>72.000000</td>\n      <td>18.000000</td>\n      <td>223.000000</td>\n      <td>8.000000</td>\n      <td>5.000000</td>\n      <td>10.000000</td>\n      <td>1.400000</td>\n      <td>1000.000000</td>\n      <td>400.000000</td>\n      <td>10640.000000</td>\n    </tr>\n  </tbody>\n</table>\n</div>"
     },
     "metadata": {},
     "output_type": "display_data"
    }
   ],
   "source": [
    "hotel_test = new_columns(hotel_test)\n",
    "profit(hotel_test)\n",
    "display(hotel_test.head())\n",
    "print(hotel_test.info())\n",
    "display(hotel_test.describe())"
   ]
  },
  {
   "cell_type": "markdown",
   "metadata": {},
   "source": [
    "### Посчитаем суммарный доход для тестового набора данных"
   ]
  },
  {
   "cell_type": "code",
   "execution_count": 45,
   "metadata": {},
   "outputs": [
    {
     "name": "stdout",
     "output_type": "stream",
     "text": [
      "Прибыль на тестовых данных составила 29,170,440.00\n"
     ]
    }
   ],
   "source": [
    "profit_test = hotel_test['profit'].sum()\n",
    "print('Прибыль на тестовых данных составила', f'{profit_test:,.2f}')"
   ]
  },
  {
   "cell_type": "markdown",
   "metadata": {},
   "source": [
    "## Шаг 4. Разработка модели ML"
   ]
  },
  {
   "cell_type": "markdown",
   "metadata": {},
   "source": [
    "### Преобразуем данные с методом OHE"
   ]
  },
  {
   "cell_type": "code",
   "execution_count": 46,
   "metadata": {},
   "outputs": [
    {
     "name": "stdout",
     "output_type": "stream",
     "text": [
      "<class 'pandas.core.frame.DataFrame'>\n",
      "Int64Index: 41735 entries, 0 to 41734\n",
      "Columns: 199 entries, is_canceled to customer_type_Transient-Party\n",
      "dtypes: float64(6), int64(14), uint8(179)\n",
      "memory usage: 13.8 MB\n"
     ]
    }
   ],
   "source": [
    "hotel_train_ohe = pd.get_dummies(hotel_train, drop_first=True)\n",
    "hotel_train_ohe.head()\n",
    "hotel_train_ohe.info()"
   ]
  },
  {
   "cell_type": "code",
   "execution_count": 47,
   "metadata": {},
   "outputs": [
    {
     "name": "stdout",
     "output_type": "stream",
     "text": [
      "<class 'pandas.core.frame.DataFrame'>\n",
      "Int64Index: 24630 entries, 0 to 24629\n",
      "Columns: 184 entries, is_canceled to customer_type_Transient-Party\n",
      "dtypes: float64(6), int64(14), uint8(164)\n",
      "memory usage: 7.8 MB\n"
     ]
    }
   ],
   "source": [
    "hotel_test_ohe = pd.get_dummies(hotel_test, drop_first=True)\n",
    "hotel_test_ohe.head()\n",
    "hotel_test_ohe.info()"
   ]
  },
  {
   "cell_type": "code",
   "execution_count": 48,
   "metadata": {},
   "outputs": [
    {
     "name": "stdout",
     "output_type": "stream",
     "text": [
      "<class 'pandas.core.frame.DataFrame'>\n",
      "Int64Index: 24630 entries, 0 to 24629\n",
      "Data columns (total 26 columns):\n",
      " #   Column                          Non-Null Count  Dtype  \n",
      "---  ------                          --------------  -----  \n",
      " 0   is_canceled                     24630 non-null  int64  \n",
      " 1   lead_time                       24630 non-null  float64\n",
      " 2   arrival_date_year               24630 non-null  int64  \n",
      " 3   arrival_date_month              24630 non-null  object \n",
      " 4   arrival_date_week_number        24630 non-null  int64  \n",
      " 5   arrival_date_day_of_month       24630 non-null  int64  \n",
      " 6   adults                          24630 non-null  float64\n",
      " 7   children                        24630 non-null  float64\n",
      " 8   babies                          24630 non-null  float64\n",
      " 9   meal                            24630 non-null  object \n",
      " 10  country                         24630 non-null  object \n",
      " 11  distribution_channel            24630 non-null  object \n",
      " 12  is_repeated_guest               24630 non-null  int64  \n",
      " 13  previous_cancellations          24630 non-null  int64  \n",
      " 14  previous_bookings_not_canceled  24630 non-null  int64  \n",
      " 15  reserved_room_type              24630 non-null  object \n",
      " 16  booking_changes                 24630 non-null  int64  \n",
      " 17  days_in_waiting_list            24630 non-null  int64  \n",
      " 18  customer_type                   24630 non-null  object \n",
      " 19  required_car_parking_spaces     24630 non-null  int64  \n",
      " 20  total_of_special_requests       24630 non-null  int64  \n",
      " 21  total_nights                    24630 non-null  int64  \n",
      " 22  coefficient                     24630 non-null  float64\n",
      " 23  night                           24630 non-null  int64  \n",
      " 24  service                         24630 non-null  int64  \n",
      " 25  profit                          24630 non-null  float64\n",
      "dtypes: float64(6), int64(14), object(6)\n",
      "memory usage: 5.1+ MB\n",
      "None\n",
      "<class 'pandas.core.frame.DataFrame'>\n",
      "Int64Index: 41735 entries, 0 to 41734\n",
      "Data columns (total 26 columns):\n",
      " #   Column                          Non-Null Count  Dtype  \n",
      "---  ------                          --------------  -----  \n",
      " 0   is_canceled                     41735 non-null  int64  \n",
      " 1   lead_time                       41735 non-null  float64\n",
      " 2   arrival_date_year               41735 non-null  int64  \n",
      " 3   arrival_date_month              41735 non-null  object \n",
      " 4   arrival_date_week_number        41735 non-null  int64  \n",
      " 5   arrival_date_day_of_month       41735 non-null  int64  \n",
      " 6   adults                          41735 non-null  float64\n",
      " 7   children                        41735 non-null  float64\n",
      " 8   babies                          41735 non-null  float64\n",
      " 9   meal                            41735 non-null  object \n",
      " 10  country                         41735 non-null  object \n",
      " 11  distribution_channel            41735 non-null  object \n",
      " 12  is_repeated_guest               41735 non-null  int64  \n",
      " 13  previous_cancellations          41735 non-null  int64  \n",
      " 14  previous_bookings_not_canceled  41735 non-null  int64  \n",
      " 15  reserved_room_type              41735 non-null  object \n",
      " 16  booking_changes                 41735 non-null  int64  \n",
      " 17  days_in_waiting_list            41735 non-null  int64  \n",
      " 18  customer_type                   41735 non-null  object \n",
      " 19  required_car_parking_spaces     41735 non-null  int64  \n",
      " 20  total_of_special_requests       41735 non-null  int64  \n",
      " 21  total_nights                    41735 non-null  int64  \n",
      " 22  coefficient                     41735 non-null  float64\n",
      " 23  night                           41735 non-null  int64  \n",
      " 24  service                         41735 non-null  int64  \n",
      " 25  profit                          41735 non-null  float64\n",
      "dtypes: float64(6), int64(14), object(6)\n",
      "memory usage: 8.6+ MB\n",
      "None\n"
     ]
    }
   ],
   "source": [
    "hotel_test = hotel_test.merge(hotel_train, how='left')\n",
    "hotel_train = hotel_train.merge(hotel_test, how='left')\n",
    "print(hotel_test.info())\n",
    "print(hotel_train.info())"
   ]
  },
  {
   "cell_type": "code",
   "execution_count": 49,
   "metadata": {},
   "outputs": [],
   "source": [
    "hotel_test = hotel_test.fillna(0)\n",
    "hotel_train = hotel_train.fillna(0)"
   ]
  },
  {
   "cell_type": "markdown",
   "metadata": {},
   "source": [
    "### Преобразуем данные методом OE"
   ]
  },
  {
   "cell_type": "code",
   "execution_count": 50,
   "metadata": {},
   "outputs": [
    {
     "data": {
      "text/plain": "   is_canceled  lead_time  arrival_date_year arrival_date_month  \\\n0            0        7.0               2015               July   \n1            0       14.0               2015               July   \n2            1       85.0               2015               July   \n3            0        0.0               2015               July   \n4            0       72.0               2015               July   \n\n   arrival_date_week_number  arrival_date_day_of_month  adults  children  \\\n0                        27                          1     1.0       0.0   \n1                        27                          1     2.0       0.0   \n2                        27                          1     2.0       0.0   \n3                        27                          1     2.0       0.0   \n4                        27                          1     2.0       0.0   \n\n   babies meal  ... booking_changes days_in_waiting_list  customer_type  \\\n0     0.0   bb  ...               0                    0      Transient   \n1     0.0   bb  ...               0                    0      Transient   \n2     0.0   bb  ...               0                    0      Transient   \n3     0.0   bb  ...               0                    0      Transient   \n4     0.0   bb  ...               1                    0      Transient   \n\n   required_car_parking_spaces  total_of_special_requests total_nights  \\\n0                            0                          0            1   \n1                            0                          1            2   \n2                            0                          1            3   \n3                            0                          0            1   \n4                            0                          1            6   \n\n   coefficient  night service  profit  \n0          1.4   1000     400   840.0  \n1          1.4   1000     400  1680.0  \n2          1.4   1000     400 -1960.0  \n3          1.4   1000     400   840.0  \n4          1.4   1000     400  6160.0  \n\n[5 rows x 26 columns]",
      "text/html": "<div>\n<style scoped>\n    .dataframe tbody tr th:only-of-type {\n        vertical-align: middle;\n    }\n\n    .dataframe tbody tr th {\n        vertical-align: top;\n    }\n\n    .dataframe thead th {\n        text-align: right;\n    }\n</style>\n<table border=\"1\" class=\"dataframe\">\n  <thead>\n    <tr style=\"text-align: right;\">\n      <th></th>\n      <th>is_canceled</th>\n      <th>lead_time</th>\n      <th>arrival_date_year</th>\n      <th>arrival_date_month</th>\n      <th>arrival_date_week_number</th>\n      <th>arrival_date_day_of_month</th>\n      <th>adults</th>\n      <th>children</th>\n      <th>babies</th>\n      <th>meal</th>\n      <th>...</th>\n      <th>booking_changes</th>\n      <th>days_in_waiting_list</th>\n      <th>customer_type</th>\n      <th>required_car_parking_spaces</th>\n      <th>total_of_special_requests</th>\n      <th>total_nights</th>\n      <th>coefficient</th>\n      <th>night</th>\n      <th>service</th>\n      <th>profit</th>\n    </tr>\n  </thead>\n  <tbody>\n    <tr>\n      <th>0</th>\n      <td>0</td>\n      <td>7.0</td>\n      <td>2015</td>\n      <td>July</td>\n      <td>27</td>\n      <td>1</td>\n      <td>1.0</td>\n      <td>0.0</td>\n      <td>0.0</td>\n      <td>bb</td>\n      <td>...</td>\n      <td>0</td>\n      <td>0</td>\n      <td>Transient</td>\n      <td>0</td>\n      <td>0</td>\n      <td>1</td>\n      <td>1.4</td>\n      <td>1000</td>\n      <td>400</td>\n      <td>840.0</td>\n    </tr>\n    <tr>\n      <th>1</th>\n      <td>0</td>\n      <td>14.0</td>\n      <td>2015</td>\n      <td>July</td>\n      <td>27</td>\n      <td>1</td>\n      <td>2.0</td>\n      <td>0.0</td>\n      <td>0.0</td>\n      <td>bb</td>\n      <td>...</td>\n      <td>0</td>\n      <td>0</td>\n      <td>Transient</td>\n      <td>0</td>\n      <td>1</td>\n      <td>2</td>\n      <td>1.4</td>\n      <td>1000</td>\n      <td>400</td>\n      <td>1680.0</td>\n    </tr>\n    <tr>\n      <th>2</th>\n      <td>1</td>\n      <td>85.0</td>\n      <td>2015</td>\n      <td>July</td>\n      <td>27</td>\n      <td>1</td>\n      <td>2.0</td>\n      <td>0.0</td>\n      <td>0.0</td>\n      <td>bb</td>\n      <td>...</td>\n      <td>0</td>\n      <td>0</td>\n      <td>Transient</td>\n      <td>0</td>\n      <td>1</td>\n      <td>3</td>\n      <td>1.4</td>\n      <td>1000</td>\n      <td>400</td>\n      <td>-1960.0</td>\n    </tr>\n    <tr>\n      <th>3</th>\n      <td>0</td>\n      <td>0.0</td>\n      <td>2015</td>\n      <td>July</td>\n      <td>27</td>\n      <td>1</td>\n      <td>2.0</td>\n      <td>0.0</td>\n      <td>0.0</td>\n      <td>bb</td>\n      <td>...</td>\n      <td>0</td>\n      <td>0</td>\n      <td>Transient</td>\n      <td>0</td>\n      <td>0</td>\n      <td>1</td>\n      <td>1.4</td>\n      <td>1000</td>\n      <td>400</td>\n      <td>840.0</td>\n    </tr>\n    <tr>\n      <th>4</th>\n      <td>0</td>\n      <td>72.0</td>\n      <td>2015</td>\n      <td>July</td>\n      <td>27</td>\n      <td>1</td>\n      <td>2.0</td>\n      <td>0.0</td>\n      <td>0.0</td>\n      <td>bb</td>\n      <td>...</td>\n      <td>1</td>\n      <td>0</td>\n      <td>Transient</td>\n      <td>0</td>\n      <td>1</td>\n      <td>6</td>\n      <td>1.4</td>\n      <td>1000</td>\n      <td>400</td>\n      <td>6160.0</td>\n    </tr>\n  </tbody>\n</table>\n<p>5 rows × 26 columns</p>\n</div>"
     },
     "execution_count": 50,
     "metadata": {},
     "output_type": "execute_result"
    }
   ],
   "source": [
    "hotel_train.head()"
   ]
  },
  {
   "cell_type": "code",
   "execution_count": 51,
   "metadata": {},
   "outputs": [],
   "source": [
    "encoder = OrdinalEncoder()\n",
    "hotel_train_ordinal = hotel_train\n",
    "hotel_train_ordinal[['arrival_date_month', 'meal', 'country', 'distribution_channel', 'reserved_room_type', \n",
    "                    'customer_type']] = encoder.fit_transform(\n",
    "    hotel_train[['arrival_date_month','meal', 'country', 'distribution_channel', 'reserved_room_type',\n",
    "                'customer_type']])"
   ]
  },
  {
   "cell_type": "code",
   "execution_count": 52,
   "metadata": {},
   "outputs": [
    {
     "name": "stdout",
     "output_type": "stream",
     "text": [
      "<class 'pandas.core.frame.DataFrame'>\n",
      "Int64Index: 41735 entries, 0 to 41734\n",
      "Data columns (total 26 columns):\n",
      " #   Column                          Non-Null Count  Dtype  \n",
      "---  ------                          --------------  -----  \n",
      " 0   is_canceled                     41735 non-null  int64  \n",
      " 1   lead_time                       41735 non-null  float64\n",
      " 2   arrival_date_year               41735 non-null  int64  \n",
      " 3   arrival_date_month              41735 non-null  float64\n",
      " 4   arrival_date_week_number        41735 non-null  int64  \n",
      " 5   arrival_date_day_of_month       41735 non-null  int64  \n",
      " 6   adults                          41735 non-null  float64\n",
      " 7   children                        41735 non-null  float64\n",
      " 8   babies                          41735 non-null  float64\n",
      " 9   meal                            41735 non-null  float64\n",
      " 10  country                         41735 non-null  float64\n",
      " 11  distribution_channel            41735 non-null  float64\n",
      " 12  is_repeated_guest               41735 non-null  int64  \n",
      " 13  previous_cancellations          41735 non-null  int64  \n",
      " 14  previous_bookings_not_canceled  41735 non-null  int64  \n",
      " 15  reserved_room_type              41735 non-null  float64\n",
      " 16  booking_changes                 41735 non-null  int64  \n",
      " 17  days_in_waiting_list            41735 non-null  int64  \n",
      " 18  customer_type                   41735 non-null  float64\n",
      " 19  required_car_parking_spaces     41735 non-null  int64  \n",
      " 20  total_of_special_requests       41735 non-null  int64  \n",
      " 21  total_nights                    41735 non-null  int64  \n",
      " 22  coefficient                     41735 non-null  float64\n",
      " 23  night                           41735 non-null  int64  \n",
      " 24  service                         41735 non-null  int64  \n",
      " 25  profit                          41735 non-null  float64\n",
      "dtypes: float64(12), int64(14)\n",
      "memory usage: 8.6 MB\n"
     ]
    }
   ],
   "source": [
    "hotel_train_ordinal.info()"
   ]
  },
  {
   "cell_type": "code",
   "execution_count": 53,
   "metadata": {},
   "outputs": [
    {
     "name": "stdout",
     "output_type": "stream",
     "text": [
      "<class 'pandas.core.frame.DataFrame'>\n",
      "Int64Index: 41735 entries, 0 to 41734\n",
      "Data columns (total 26 columns):\n",
      " #   Column                          Non-Null Count  Dtype  \n",
      "---  ------                          --------------  -----  \n",
      " 0   is_canceled                     41735 non-null  int64  \n",
      " 1   lead_time                       41735 non-null  float64\n",
      " 2   arrival_date_year               41735 non-null  int64  \n",
      " 3   arrival_date_month              41735 non-null  float64\n",
      " 4   arrival_date_week_number        41735 non-null  int64  \n",
      " 5   arrival_date_day_of_month       41735 non-null  int64  \n",
      " 6   adults                          41735 non-null  float64\n",
      " 7   children                        41735 non-null  float64\n",
      " 8   babies                          41735 non-null  float64\n",
      " 9   meal                            41735 non-null  float64\n",
      " 10  country                         41735 non-null  float64\n",
      " 11  distribution_channel            41735 non-null  float64\n",
      " 12  is_repeated_guest               41735 non-null  int64  \n",
      " 13  previous_cancellations          41735 non-null  int64  \n",
      " 14  previous_bookings_not_canceled  41735 non-null  int64  \n",
      " 15  reserved_room_type              41735 non-null  float64\n",
      " 16  booking_changes                 41735 non-null  int64  \n",
      " 17  days_in_waiting_list            41735 non-null  int64  \n",
      " 18  customer_type                   41735 non-null  float64\n",
      " 19  required_car_parking_spaces     41735 non-null  int64  \n",
      " 20  total_of_special_requests       41735 non-null  int64  \n",
      " 21  total_nights                    41735 non-null  int64  \n",
      " 22  coefficient                     41735 non-null  float64\n",
      " 23  night                           41735 non-null  int64  \n",
      " 24  service                         41735 non-null  int64  \n",
      " 25  profit                          41735 non-null  float64\n",
      "dtypes: float64(12), int64(14)\n",
      "memory usage: 8.6 MB\n"
     ]
    }
   ],
   "source": [
    "encoder = OrdinalEncoder()\n",
    "hotel_test_ordinal = hotel_test\n",
    "hotel_test_ordinal[['arrival_date_month', 'meal', 'country', 'distribution_channel', 'reserved_room_type', \n",
    "                    'customer_type']] = encoder.fit_transform(\n",
    "    hotel_test[['arrival_date_month','meal', 'country', 'distribution_channel', 'reserved_room_type',\n",
    "                'customer_type']])\n",
    "hotel_train_ordinal.info()"
   ]
  },
  {
   "cell_type": "markdown",
   "metadata": {},
   "source": [
    "### Разделим данные на признаки и целевой признак"
   ]
  },
  {
   "cell_type": "code",
   "execution_count": 54,
   "metadata": {},
   "outputs": [],
   "source": [
    "features_train_ohe = hotel_train_ohe.drop(['is_canceled', 'profit'], axis=1)\n",
    "target_train_ohe = hotel_train_ohe['is_canceled']\n",
    "features_test_ohe = hotel_test_ohe.drop(['is_canceled', 'profit'], axis=1)\n",
    "target_test_ohe = hotel_test_ohe['is_canceled']"
   ]
  },
  {
   "cell_type": "code",
   "execution_count": 55,
   "metadata": {},
   "outputs": [
    {
     "name": "stdout",
     "output_type": "stream",
     "text": [
      "<class 'pandas.core.frame.DataFrame'>\n",
      "Int64Index: 41735 entries, 0 to 41734\n",
      "Columns: 197 entries, lead_time to customer_type_Transient-Party\n",
      "dtypes: float64(5), int64(13), uint8(179)\n",
      "memory usage: 13.2 MB\n",
      "<class 'pandas.core.frame.DataFrame'>\n",
      "Int64Index: 24630 entries, 0 to 24629\n",
      "Columns: 182 entries, lead_time to customer_type_Transient-Party\n",
      "dtypes: float64(5), int64(13), uint8(164)\n",
      "memory usage: 7.4 MB\n"
     ]
    }
   ],
   "source": [
    "features_train_ohe.info()\n",
    "features_test_ohe.info()"
   ]
  },
  {
   "cell_type": "code",
   "execution_count": 56,
   "metadata": {},
   "outputs": [
    {
     "name": "stdout",
     "output_type": "stream",
     "text": [
      "<class 'pandas.core.frame.DataFrame'>\n",
      "Int64Index: 41735 entries, 0 to 41734\n",
      "Data columns (total 24 columns):\n",
      " #   Column                          Non-Null Count  Dtype  \n",
      "---  ------                          --------------  -----  \n",
      " 0   lead_time                       41735 non-null  float64\n",
      " 1   arrival_date_year               41735 non-null  int64  \n",
      " 2   arrival_date_month              41735 non-null  float64\n",
      " 3   arrival_date_week_number        41735 non-null  int64  \n",
      " 4   arrival_date_day_of_month       41735 non-null  int64  \n",
      " 5   adults                          41735 non-null  float64\n",
      " 6   children                        41735 non-null  float64\n",
      " 7   babies                          41735 non-null  float64\n",
      " 8   meal                            41735 non-null  float64\n",
      " 9   country                         41735 non-null  float64\n",
      " 10  distribution_channel            41735 non-null  float64\n",
      " 11  is_repeated_guest               41735 non-null  int64  \n",
      " 12  previous_cancellations          41735 non-null  int64  \n",
      " 13  previous_bookings_not_canceled  41735 non-null  int64  \n",
      " 14  reserved_room_type              41735 non-null  float64\n",
      " 15  booking_changes                 41735 non-null  int64  \n",
      " 16  days_in_waiting_list            41735 non-null  int64  \n",
      " 17  customer_type                   41735 non-null  float64\n",
      " 18  required_car_parking_spaces     41735 non-null  int64  \n",
      " 19  total_of_special_requests       41735 non-null  int64  \n",
      " 20  total_nights                    41735 non-null  int64  \n",
      " 21  coefficient                     41735 non-null  float64\n",
      " 22  night                           41735 non-null  int64  \n",
      " 23  service                         41735 non-null  int64  \n",
      "dtypes: float64(11), int64(13)\n",
      "memory usage: 8.0 MB\n",
      "<class 'pandas.core.frame.DataFrame'>\n",
      "Int64Index: 24630 entries, 0 to 24629\n",
      "Data columns (total 24 columns):\n",
      " #   Column                          Non-Null Count  Dtype  \n",
      "---  ------                          --------------  -----  \n",
      " 0   lead_time                       24630 non-null  float64\n",
      " 1   arrival_date_year               24630 non-null  int64  \n",
      " 2   arrival_date_month              24630 non-null  float64\n",
      " 3   arrival_date_week_number        24630 non-null  int64  \n",
      " 4   arrival_date_day_of_month       24630 non-null  int64  \n",
      " 5   adults                          24630 non-null  float64\n",
      " 6   children                        24630 non-null  float64\n",
      " 7   babies                          24630 non-null  float64\n",
      " 8   meal                            24630 non-null  float64\n",
      " 9   country                         24630 non-null  float64\n",
      " 10  distribution_channel            24630 non-null  float64\n",
      " 11  is_repeated_guest               24630 non-null  int64  \n",
      " 12  previous_cancellations          24630 non-null  int64  \n",
      " 13  previous_bookings_not_canceled  24630 non-null  int64  \n",
      " 14  reserved_room_type              24630 non-null  float64\n",
      " 15  booking_changes                 24630 non-null  int64  \n",
      " 16  days_in_waiting_list            24630 non-null  int64  \n",
      " 17  customer_type                   24630 non-null  float64\n",
      " 18  required_car_parking_spaces     24630 non-null  int64  \n",
      " 19  total_of_special_requests       24630 non-null  int64  \n",
      " 20  total_nights                    24630 non-null  int64  \n",
      " 21  coefficient                     24630 non-null  float64\n",
      " 22  night                           24630 non-null  int64  \n",
      " 23  service                         24630 non-null  int64  \n",
      "dtypes: float64(11), int64(13)\n",
      "memory usage: 4.7 MB\n"
     ]
    }
   ],
   "source": [
    "features_train_ordinal = hotel_train_ordinal.drop(['is_canceled', 'profit'], axis=1)\n",
    "target_train_ordinal = hotel_train_ordinal['is_canceled']\n",
    "features_test_ordinal = hotel_test_ordinal.drop(['is_canceled', 'profit'], axis=1)\n",
    "target_test_ordinal = hotel_test_ordinal['is_canceled']\n",
    "features_train_ordinal.info()\n",
    "features_test_ordinal.info()"
   ]
  },
  {
   "cell_type": "markdown",
   "metadata": {},
   "source": [
    "**Так как перед нами стоит задача бинарной классификации, то обучим три модели:**  \n",
    "- Решающее дерево\n",
    "- Случайный лес\n",
    "- Логистическая регрессия  \n",
    "\n",
    "**Качество моделей будем определять кросс-валидацией, которая встроена в RandomizedSearchCV и GridSearchCV** \n",
    "\n",
    "**Метрику качества выберем f1-score**"
   ]
  },
  {
   "cell_type": "markdown",
   "metadata": {},
   "source": [
    "Так как переда нами задача классификации, то в качестве метрики качества мы можем выбрать accuracy, precision, recall или f1-score. \n",
    "\n",
    "Из-за дисбаланса классов accuracy нам не подойдет, так как может начать обучиться выбирать класс тот, который больше представлен вы выборке,  \n",
    "\n",
    "если в качестве метрики выбрать precision, то мы можем получить классификатор, который будет выдаст много ложноположительных результатов, что для нас означает - мы не сможем предсказать, когда клиент откажется от брони;  \n",
    "\n",
    "если в качестве метрики выбрать recall, то мы максимизируем количество предсказанных отказов, что в рамказ ML задачи звучит хорошо, но это может создать неудобства для остальных клиентов, которые составляют большую часть (60%), так как модель будет чаще предсказывать более высокую вероятность отказа этим клиентам и им придется вносить предоплату, что может побудить отказаться от бронирования в этой гостинице;  \n",
    "\n",
    "по этим причинам в качестве метрики качества выбрана f1-score"
   ]
  },
  {
   "cell_type": "markdown",
   "metadata": {},
   "source": [
    "### Решающее дерево"
   ]
  },
  {
   "cell_type": "markdown",
   "metadata": {},
   "source": [
    "Определим область лучших решений с помощью RandomizedSearchCV, для борьбы с дисбалансом будем использовать взвешивание классов"
   ]
  },
  {
   "cell_type": "code",
   "execution_count": 57,
   "metadata": {},
   "outputs": [
    {
     "name": "stdout",
     "output_type": "stream",
     "text": [
      "best_score_f1 = 0.5699423786895664\n",
      "best params {'min_samples_split': 19, 'min_samples_leaf': 7, 'max_depth': 7}\n",
      "CPU times: user 13.6 s, sys: 609 ms, total: 14.2 s\n",
      "Wall time: 18.3 s\n"
     ]
    }
   ],
   "source": [
    "%%time\n",
    "clf = DecisionTreeClassifier(class_weight='balanced', random_state=RANDOM)\n",
    "parametrs = {'max_depth' : range(1, 50),\n",
    "            'min_samples_split' : range(2, 20),\n",
    "            'min_samples_leaf' : range(1, 20)}\n",
    "rand = RandomizedSearchCV(clf, parametrs, scoring='f1',random_state=RANDOM)\n",
    "rand.fit(features_train_ordinal, target_train_ordinal)\n",
    "print('best_score_f1 =', rand.best_score_)\n",
    "print('best params', rand.best_params_)"
   ]
  },
  {
   "cell_type": "markdown",
   "metadata": {},
   "source": [
    "Теперь подберем лучшие параметры с помощью GridSearchCV"
   ]
  },
  {
   "cell_type": "code",
   "execution_count": 58,
   "metadata": {},
   "outputs": [
    {
     "name": "stdout",
     "output_type": "stream",
     "text": [
      "best_score_train = 0.5706813208094396\n",
      "best params {'max_depth': 7, 'min_samples_leaf': 9, 'min_samples_split': 16}\n",
      "CPU times: user 2min 6s, sys: 8.94 s, total: 2min 15s\n",
      "Wall time: 2min 28s\n"
     ]
    }
   ],
   "source": [
    "%%time\n",
    "clf = DecisionTreeClassifier(class_weight='balanced', random_state=RANDOM)\n",
    "parametrs = {'max_depth' : range(4, 10),\n",
    "            'min_samples_split' : range(16, 22),\n",
    "            'min_samples_leaf' : range(4, 10)}\n",
    "grid = GridSearchCV(clf, parametrs, scoring='f1')\n",
    "grid.fit(features_train_ordinal, target_train_ordinal)\n",
    "print('best_score_train =', grid.best_score_)\n",
    "print('best params', grid.best_params_)"
   ]
  },
  {
   "cell_type": "markdown",
   "metadata": {},
   "source": [
    "Лучший результат получился  \n",
    "**f1_score = 0.57068**  \n",
    "при параметрах:  \n",
    "max_depth = 7,  \n",
    "min_samples_leaf = 9,  \n",
    "min_samples_split = 16"
   ]
  },
  {
   "cell_type": "markdown",
   "metadata": {},
   "source": [
    "### Случайный лес"
   ]
  },
  {
   "cell_type": "markdown",
   "metadata": {},
   "source": [
    "Определим область лучших решений с помощью RandomizedSearchCV, для борьбы с дисбалансом будем использовать взвешивание классов"
   ]
  },
  {
   "cell_type": "code",
   "execution_count": 59,
   "metadata": {},
   "outputs": [
    {
     "name": "stdout",
     "output_type": "stream",
     "text": [
      "best_score_train = 0.5625442506526589\n",
      "best params {'n_estimators': 60, 'min_samples_split': 19, 'min_samples_leaf': 7, 'max_depth': 7}\n",
      "CPU times: user 1min 25s, sys: 2.48 s, total: 1min 28s\n",
      "Wall time: 1min 32s\n"
     ]
    }
   ],
   "source": [
    "%%time\n",
    "clf = RandomForestClassifier(class_weight='balanced', random_state=RANDOM)\n",
    "parametrs = {'n_estimators' : [60],\n",
    "                 'max_depth' : range(1, 50),\n",
    "                 'min_samples_split' : range(2, 20),\n",
    "                 'min_samples_leaf' : range(1, 20)}\n",
    "rand = RandomizedSearchCV(clf, parametrs, scoring='f1',random_state=RANDOM)\n",
    "rand.fit(features_train_ordinal, target_train_ordinal)\n",
    "print('best_score_train =', rand.best_score_)\n",
    "print('best params', rand.best_params_)"
   ]
  },
  {
   "cell_type": "markdown",
   "metadata": {},
   "source": [
    "Теперь увеличим количество решающих деревьев"
   ]
  },
  {
   "cell_type": "code",
   "execution_count": 60,
   "metadata": {},
   "outputs": [
    {
     "name": "stdout",
     "output_type": "stream",
     "text": [
      "best_score_train = 0.5612467084175188\n",
      "best params {'max_depth': 7, 'min_samples_leaf': 8, 'min_samples_split': 20, 'n_estimators': 150}\n",
      "CPU times: user 3min 31s, sys: 6.05 s, total: 3min 37s\n",
      "Wall time: 3min 46s\n"
     ]
    }
   ],
   "source": [
    "%%time\n",
    "clf = RandomForestClassifier(class_weight='balanced', random_state=RANDOM)\n",
    "parametrs = {'n_estimators' : [150], \n",
    "                 'max_depth' : [7],\n",
    "                 'min_samples_split' : range(17, 21),\n",
    "                 'min_samples_leaf' : range(5, 9)}\n",
    "grid = GridSearchCV(clf, parametrs, scoring='f1')\n",
    "grid.fit(features_train_ordinal, target_train_ordinal)\n",
    "print('best_score_train =', grid.best_score_)\n",
    "print('best params', grid.best_params_)"
   ]
  },
  {
   "cell_type": "markdown",
   "metadata": {},
   "source": [
    "Лучший результат получился  \n",
    "**f1_score = 0.56254**  \n",
    "при параметрах:  \n",
    "n_estimators = 60,  \n",
    "max_depth = 7,  \n",
    "min_samples_leaf = 7,  \n",
    "min_samples_split = 19"
   ]
  },
  {
   "cell_type": "markdown",
   "metadata": {},
   "source": [
    "### Логистическая регрессия"
   ]
  },
  {
   "cell_type": "code",
   "execution_count": null,
   "metadata": {
    "pycharm": {
     "is_executing": true
    }
   },
   "outputs": [
    {
     "name": "stderr",
     "output_type": "stream",
     "text": [
      "/Users/antonina/opt/anaconda3/lib/python3.8/site-packages/scipy/optimize/linesearch.py:478: LineSearchWarning: The line search algorithm did not converge\n",
      "  warn('The line search algorithm did not converge', LineSearchWarning)\n",
      "/Users/antonina/opt/anaconda3/lib/python3.8/site-packages/scipy/optimize/linesearch.py:327: LineSearchWarning: The line search algorithm did not converge\n",
      "  warn('The line search algorithm did not converge', LineSearchWarning)\n",
      "/Users/antonina/opt/anaconda3/lib/python3.8/site-packages/scipy/optimize/linesearch.py:478: LineSearchWarning: The line search algorithm did not converge\n",
      "  warn('The line search algorithm did not converge', LineSearchWarning)\n",
      "/Users/antonina/opt/anaconda3/lib/python3.8/site-packages/scipy/optimize/linesearch.py:327: LineSearchWarning: The line search algorithm did not converge\n",
      "  warn('The line search algorithm did not converge', LineSearchWarning)\n",
      "/Users/antonina/opt/anaconda3/lib/python3.8/site-packages/scipy/optimize/linesearch.py:478: LineSearchWarning: The line search algorithm did not converge\n",
      "  warn('The line search algorithm did not converge', LineSearchWarning)\n",
      "/Users/antonina/opt/anaconda3/lib/python3.8/site-packages/scipy/optimize/linesearch.py:327: LineSearchWarning: The line search algorithm did not converge\n",
      "  warn('The line search algorithm did not converge', LineSearchWarning)\n",
      "/Users/antonina/opt/anaconda3/lib/python3.8/site-packages/scipy/optimize/linesearch.py:437: LineSearchWarning: Rounding errors prevent the line search from converging\n",
      "  warn(msg, LineSearchWarning)\n",
      "/Users/antonina/opt/anaconda3/lib/python3.8/site-packages/scipy/optimize/linesearch.py:327: LineSearchWarning: The line search algorithm did not converge\n",
      "  warn('The line search algorithm did not converge', LineSearchWarning)\n",
      "/Users/antonina/opt/anaconda3/lib/python3.8/site-packages/sklearn/utils/optimize.py:195: UserWarning: Line Search failed\n",
      "  warnings.warn('Line Search failed')\n"
     ]
    }
   ],
   "source": [
    "%%time\n",
    "clf = LogisticRegression(class_weight='balanced', random_state=RANDOM)\n",
    "parametrs = {'penalty': ['l2'],\n",
    "             'C': [0.001,0.01,0.1,1],\n",
    "             'solver': ['newton-cg']}\n",
    "grid = GridSearchCV(clf, parametrs, scoring='f1')\n",
    "grid.fit(features_train_ohe, target_train_ohe)\n",
    "print('best_score_train =', grid.best_score_)\n",
    "print('best params', grid.best_params_)"
   ]
  },
  {
   "cell_type": "markdown",
   "metadata": {},
   "source": [
    "Лучший результат получился  \n",
    "**f1_score = 0.49113**  \n",
    "при параметрах:  \n",
    "C = 0.1,  \n",
    "penalty = l2,  \n",
    "solver = newton-cg"
   ]
  },
  {
   "cell_type": "markdown",
   "metadata": {},
   "source": [
    "### Проверим лучшую модель на тестовых данных "
   ]
  },
  {
   "cell_type": "code",
   "execution_count": null,
   "metadata": {
    "pycharm": {
     "is_executing": true
    }
   },
   "outputs": [],
   "source": [
    "clf = DecisionTreeClassifier(class_weight='balanced', max_depth = 7, min_samples_leaf = 9,\n",
    "                             min_samples_split = 16, random_state=RANDOM)\n",
    "clf.fit(features_train_ordinal, target_train_ordinal)\n",
    "predicted_test = clf.predict(features_test_ordinal)\n",
    "print('f1_score =', f1_score(target_test_ordinal, predicted_test))"
   ]
  },
  {
   "cell_type": "markdown",
   "metadata": {},
   "source": [
    "### Посчитаем прибыль от внедрения модели"
   ]
  },
  {
   "cell_type": "markdown",
   "metadata": {},
   "source": [
    "Добавим столбец с предсказанными значениями"
   ]
  },
  {
   "cell_type": "code",
   "execution_count": null,
   "metadata": {
    "pycharm": {
     "is_executing": true
    }
   },
   "outputs": [],
   "source": [
    "hotel_test['predicted'] = predicted_test"
   ]
  },
  {
   "cell_type": "markdown",
   "metadata": {},
   "source": [
    "Добавим столбец с прибыль с каждого id в тестовых данных"
   ]
  },
  {
   "cell_type": "code",
   "execution_count": null,
   "metadata": {
    "pycharm": {
     "is_executing": true
    }
   },
   "outputs": [],
   "source": [
    "hotel_test['profit_pred'] = np.where(hotel_test['is_canceled'] == 0, #условие - отменен ли заказ\n",
    "                                     hotel_test['coefficient'] * (hotel_test['total_nights'] * \n",
    "                                                                  hotel_test['night'] - hotel_test['service'] * \n",
    "                                                                  (1 + hotel_test['total_nights'] // \n",
    "                                                                   2)),\n",
    "                                     np.where(hotel_test['predicted'] == 0,\n",
    "                                              - hotel_test['coefficient'] * (hotel_test['night'] + \n",
    "                                                                             hotel_test['service']),\n",
    "                                             0.2 * (- hotel_test['coefficient'] * \n",
    "                                                    (hotel_test['night'] + hotel_test['service']))))"
   ]
  },
  {
   "cell_type": "markdown",
   "metadata": {},
   "source": [
    "Посчитаем суммарную прибыль и сравним её с тратами на разработку системы"
   ]
  },
  {
   "cell_type": "code",
   "execution_count": null,
   "metadata": {
    "pycharm": {
     "is_executing": true
    }
   },
   "outputs": [],
   "source": [
    "profit_with_system = hotel_test['profit_pred'].sum()\n",
    "print('Суммарная прибыль с внедренной системой составляет за тестовый период', f'{profit_with_system:,.2f}')\n",
    "print('что на', f'{(profit_with_system - profit_test - LIMIT):,.2f}', 'больше прибыли без внедренной системы с учётом стоимость разработки системы')"
   ]
  },
  {
   "cell_type": "markdown",
   "metadata": {},
   "source": [
    "## Шаг 5. Опишем портрет «ненадёжного» клиента"
   ]
  },
  {
   "cell_type": "markdown",
   "metadata": {},
   "source": [
    "Портрет \"ненадежного\" клиента:  \n",
    "бронирует номер на июль для двоих взрослых, без детей, на две ночи с питанием - завтрак, обед и ужин, бронь совершает через туристическое агенство, ранее не проживал в этой гостинице, при этом ранее отменял бронирование в этой гостинице, бронирует номер категории А, не вносит изменение в бронирование, не запрашивает место для парковки, не делает дополнительных специальных запросов"
   ]
  },
  {
   "cell_type": "markdown",
   "metadata": {},
   "source": [
    "## Шаг 6. Общий вывод"
   ]
  },
  {
   "cell_type": "markdown",
   "metadata": {
    "pycharm": {
     "name": "#%% md\n"
    }
   },
   "source": [
    "Целью исследования было создание модели, определяющей вероятность отказа клиента от брони номера в сети отелей \"Как в гостях\".  \n",
    "\n",
    "Требовалось, чтобы увеличение прибыли от внедрения системы покрыло стоимость разработки в первый год её использования.  \n",
    "\n",
    "В результате была разработана модель, которая на тестовых данных показала f1_score = .  \n",
    "Прибыль показанная на тестовых данных составила - , что на превышает сумму прибыли сети отелей без системы и расходов на разработку системы, что соостветсвует требованиям к модели.  \n",
    "\n",
    "В качестве модели была выбрана модель решающего дерева, так как на ней удалось добиться наилучших результатов на тренировочных данных.  \n",
    "\n",
    "Рекомендую внедрить систему, так как из-за большого количества отказов бронирования (36.8%) сеть отелей несет большие убытки, благодаря системе можно значительно увеличить прибыль."
   ]
  }
 ],
 "metadata": {
  "ExecuteTimeLog": [
   {
    "duration": 1623,
    "start_time": "2022-08-09T13:57:32.138Z"
   },
   {
    "duration": 3,
    "start_time": "2022-08-09T13:57:33.763Z"
   },
   {
    "duration": 45,
    "start_time": "2022-08-09T13:57:33.769Z"
   },
   {
    "duration": 41,
    "start_time": "2022-08-09T13:57:33.816Z"
   },
   {
    "duration": 10,
    "start_time": "2022-08-09T13:57:33.858Z"
   },
   {
    "duration": 13,
    "start_time": "2022-08-09T13:57:33.869Z"
   },
   {
    "duration": 831,
    "start_time": "2022-08-09T13:57:33.883Z"
   },
   {
    "duration": 129,
    "start_time": "2022-08-09T13:57:34.716Z"
   },
   {
    "duration": 120,
    "start_time": "2022-08-09T13:57:34.847Z"
   },
   {
    "duration": 57,
    "start_time": "2022-08-09T13:57:34.968Z"
   },
   {
    "duration": 9,
    "start_time": "2022-08-09T13:57:35.026Z"
   },
   {
    "duration": 32,
    "start_time": "2022-08-09T13:57:35.057Z"
   },
   {
    "duration": 19,
    "start_time": "2022-08-09T13:57:35.090Z"
   },
   {
    "duration": 38,
    "start_time": "2022-08-09T13:57:35.111Z"
   },
   {
    "duration": 2543,
    "start_time": "2022-08-09T13:57:35.151Z"
   },
   {
    "duration": 8,
    "start_time": "2022-08-09T13:57:37.696Z"
   },
   {
    "duration": 35,
    "start_time": "2022-08-09T13:57:37.705Z"
   },
   {
    "duration": 48,
    "start_time": "2022-08-09T13:57:37.741Z"
   },
   {
    "duration": 18,
    "start_time": "2022-08-09T13:57:37.791Z"
   },
   {
    "duration": 95,
    "start_time": "2022-08-09T13:57:37.811Z"
   },
   {
    "duration": 24,
    "start_time": "2022-08-09T13:57:37.907Z"
   },
   {
    "duration": 124,
    "start_time": "2022-08-09T13:57:37.933Z"
   },
   {
    "duration": 448,
    "start_time": "2022-08-09T13:57:38.058Z"
   },
   {
    "duration": 3,
    "start_time": "2022-08-09T13:57:38.508Z"
   },
   {
    "duration": 9,
    "start_time": "2022-08-09T13:57:38.513Z"
   },
   {
    "duration": 239,
    "start_time": "2022-08-09T13:57:38.524Z"
   },
   {
    "duration": 156,
    "start_time": "2022-08-09T13:57:38.767Z"
   },
   {
    "duration": 4,
    "start_time": "2022-08-09T13:57:38.925Z"
   },
   {
    "duration": 112,
    "start_time": "2022-08-09T13:57:38.930Z"
   },
   {
    "duration": 64,
    "start_time": "2022-08-09T13:57:39.044Z"
   },
   {
    "duration": 911,
    "start_time": "2022-08-09T13:57:39.110Z"
   },
   {
    "duration": 54,
    "start_time": "2022-08-09T13:57:40.023Z"
   },
   {
    "duration": 20,
    "start_time": "2022-08-09T13:57:40.079Z"
   },
   {
    "duration": 25,
    "start_time": "2022-08-09T13:57:40.101Z"
   },
   {
    "duration": 25644,
    "start_time": "2022-08-09T13:57:40.127Z"
   },
   {
    "duration": 88234,
    "start_time": "2022-08-09T13:58:05.772Z"
   },
   {
    "duration": 142872,
    "start_time": "2022-08-09T13:59:34.008Z"
   },
   {
    "duration": 571092,
    "start_time": "2022-08-09T14:01:56.882Z"
   },
   {
    "duration": 3065989,
    "start_time": "2022-08-09T14:11:27.976Z"
   },
   {
    "duration": 721,
    "start_time": "2022-08-09T15:02:33.967Z"
   },
   {
    "duration": 3,
    "start_time": "2022-08-09T15:02:34.690Z"
   },
   {
    "duration": 12,
    "start_time": "2022-08-09T15:02:34.695Z"
   },
   {
    "duration": 7,
    "start_time": "2022-08-09T15:02:34.709Z"
   },
   {
    "duration": 1150,
    "start_time": "2022-08-11T17:53:12.514Z"
   },
   {
    "duration": 3,
    "start_time": "2022-08-11T17:53:13.666Z"
   },
   {
    "duration": 5,
    "start_time": "2022-08-11T17:53:13.910Z"
   },
   {
    "duration": 23,
    "start_time": "2022-08-11T17:53:14.490Z"
   },
   {
    "duration": 4,
    "start_time": "2022-08-11T17:53:15.745Z"
   },
   {
    "duration": 18,
    "start_time": "2022-08-11T17:53:16.392Z"
   },
   {
    "duration": 4,
    "start_time": "2022-08-11T17:54:30.940Z"
   },
   {
    "duration": 8,
    "start_time": "2022-08-11T17:54:32.210Z"
   },
   {
    "duration": 117,
    "start_time": "2022-08-11T17:57:22.542Z"
   },
   {
    "duration": 4,
    "start_time": "2022-08-11T17:57:30.830Z"
   },
   {
    "duration": 2,
    "start_time": "2022-08-11T17:57:31.391Z"
   },
   {
    "duration": 3,
    "start_time": "2022-08-11T17:57:31.556Z"
   },
   {
    "duration": 8,
    "start_time": "2022-08-11T17:57:31.648Z"
   },
   {
    "duration": 4,
    "start_time": "2022-08-11T17:57:31.964Z"
   },
   {
    "duration": 8,
    "start_time": "2022-08-11T17:57:32.108Z"
   },
   {
    "duration": 98,
    "start_time": "2022-08-11T17:57:33.563Z"
   },
   {
    "duration": 8,
    "start_time": "2022-08-11T17:57:36.429Z"
   },
   {
    "duration": 9,
    "start_time": "2022-08-11T17:57:37.116Z"
   },
   {
    "duration": 654,
    "start_time": "2022-08-11T17:57:48.895Z"
   },
   {
    "duration": 117,
    "start_time": "2022-08-11T17:57:50.838Z"
   },
   {
    "duration": 93,
    "start_time": "2022-08-11T17:57:51.774Z"
   },
   {
    "duration": 8,
    "start_time": "2022-08-11T17:57:53.711Z"
   },
   {
    "duration": 20,
    "start_time": "2022-08-11T17:58:11.842Z"
   },
   {
    "duration": 17,
    "start_time": "2022-08-11T18:00:24.741Z"
   },
   {
    "duration": 3,
    "start_time": "2022-08-11T18:00:38.551Z"
   },
   {
    "duration": 3,
    "start_time": "2022-08-11T18:00:38.980Z"
   },
   {
    "duration": 4,
    "start_time": "2022-08-11T18:00:39.368Z"
   },
   {
    "duration": 7,
    "start_time": "2022-08-11T18:00:39.656Z"
   },
   {
    "duration": 4,
    "start_time": "2022-08-11T18:00:40.811Z"
   },
   {
    "duration": 8,
    "start_time": "2022-08-11T18:00:40.969Z"
   },
   {
    "duration": 257,
    "start_time": "2022-08-11T18:00:44.263Z"
   },
   {
    "duration": 127,
    "start_time": "2022-08-11T18:00:47.780Z"
   },
   {
    "duration": 95,
    "start_time": "2022-08-11T18:00:48.436Z"
   },
   {
    "duration": 16,
    "start_time": "2022-08-11T18:00:55.762Z"
   },
   {
    "duration": 63,
    "start_time": "2022-08-11T18:01:18.177Z"
   },
   {
    "duration": 13,
    "start_time": "2022-08-11T18:01:24.514Z"
   },
   {
    "duration": 12,
    "start_time": "2022-08-11T18:01:35.511Z"
   },
   {
    "duration": 8,
    "start_time": "2022-08-11T18:01:42.311Z"
   },
   {
    "duration": 56,
    "start_time": "2022-08-11T18:01:43.954Z"
   },
   {
    "duration": 11,
    "start_time": "2022-08-11T18:01:44.792Z"
   },
   {
    "duration": 30,
    "start_time": "2022-08-11T18:01:49.357Z"
   },
   {
    "duration": 43,
    "start_time": "2022-08-11T18:03:14.129Z"
   },
   {
    "duration": 91,
    "start_time": "2022-08-11T18:04:42.490Z"
   },
   {
    "duration": 50,
    "start_time": "2022-08-11T18:05:55.242Z"
   },
   {
    "duration": 74,
    "start_time": "2022-08-11T18:06:57.243Z"
   },
   {
    "duration": 59,
    "start_time": "2022-08-11T18:07:06.327Z"
   },
   {
    "duration": 16,
    "start_time": "2022-08-11T18:07:22.044Z"
   },
   {
    "duration": 2426,
    "start_time": "2022-08-11T18:07:23.312Z"
   },
   {
    "duration": 17,
    "start_time": "2022-08-11T18:07:29.891Z"
   },
   {
    "duration": 8,
    "start_time": "2022-08-11T18:07:40.035Z"
   },
   {
    "duration": 46,
    "start_time": "2022-08-11T18:07:41.511Z"
   },
   {
    "duration": 16,
    "start_time": "2022-08-11T18:07:42.913Z"
   },
   {
    "duration": 6,
    "start_time": "2022-08-11T18:08:30.179Z"
   },
   {
    "duration": 6,
    "start_time": "2022-08-11T18:09:00.023Z"
   },
   {
    "duration": 6,
    "start_time": "2022-08-11T18:09:26.630Z"
   },
   {
    "duration": 6,
    "start_time": "2022-08-11T18:09:50.482Z"
   },
   {
    "duration": 8,
    "start_time": "2022-08-11T18:10:24.863Z"
   },
   {
    "duration": 47,
    "start_time": "2022-08-11T18:11:36.581Z"
   },
   {
    "duration": 6,
    "start_time": "2022-08-11T18:12:02.712Z"
   },
   {
    "duration": 19,
    "start_time": "2022-08-11T18:14:55.418Z"
   },
   {
    "duration": 15,
    "start_time": "2022-08-11T18:15:06.064Z"
   },
   {
    "duration": 1812,
    "start_time": "2022-08-11T18:15:11.975Z"
   },
   {
    "duration": 2,
    "start_time": "2022-08-11T18:16:45.235Z"
   },
   {
    "duration": 30,
    "start_time": "2022-08-11T18:17:53.566Z"
   },
   {
    "duration": 30,
    "start_time": "2022-08-11T18:18:33.021Z"
   },
   {
    "duration": 27,
    "start_time": "2022-08-11T18:20:39.543Z"
   },
   {
    "duration": 8,
    "start_time": "2022-08-11T18:21:46.245Z"
   },
   {
    "duration": 14,
    "start_time": "2022-08-11T18:21:47.234Z"
   },
   {
    "duration": 20,
    "start_time": "2022-08-11T18:22:05.615Z"
   },
   {
    "duration": 12,
    "start_time": "2022-08-11T18:23:57.784Z"
   },
   {
    "duration": 15,
    "start_time": "2022-08-11T18:24:02.041Z"
   },
   {
    "duration": 56,
    "start_time": "2022-08-11T18:24:20.353Z"
   },
   {
    "duration": 235,
    "start_time": "2022-08-11T18:27:45.252Z"
   },
   {
    "duration": 14,
    "start_time": "2022-08-11T18:35:29.932Z"
   },
   {
    "duration": 255,
    "start_time": "2022-08-11T18:35:38.887Z"
   },
   {
    "duration": 65,
    "start_time": "2022-08-11T18:37:04.523Z"
   },
   {
    "duration": 255,
    "start_time": "2022-08-11T18:39:43.732Z"
   },
   {
    "duration": 171,
    "start_time": "2022-08-11T18:39:51.541Z"
   },
   {
    "duration": 153,
    "start_time": "2022-08-11T18:39:57.564Z"
   },
   {
    "duration": 251,
    "start_time": "2022-08-11T18:40:03.609Z"
   },
   {
    "duration": 57,
    "start_time": "2022-08-11T18:40:06.027Z"
   },
   {
    "duration": 12,
    "start_time": "2022-08-11T18:40:28.645Z"
   },
   {
    "duration": 8,
    "start_time": "2022-08-11T18:40:39.373Z"
   },
   {
    "duration": 15,
    "start_time": "2022-08-11T18:41:37.193Z"
   },
   {
    "duration": 19,
    "start_time": "2022-08-11T18:41:42.394Z"
   },
   {
    "duration": 6,
    "start_time": "2022-08-11T18:42:00.140Z"
   },
   {
    "duration": 7,
    "start_time": "2022-08-11T18:43:22.225Z"
   },
   {
    "duration": 6,
    "start_time": "2022-08-11T18:43:24.361Z"
   },
   {
    "duration": 256,
    "start_time": "2022-08-11T18:44:46.668Z"
   },
   {
    "duration": 16,
    "start_time": "2022-08-11T18:45:00.699Z"
   },
   {
    "duration": 305,
    "start_time": "2022-08-11T18:45:24.393Z"
   },
   {
    "duration": 162,
    "start_time": "2022-08-11T18:45:29.542Z"
   },
   {
    "duration": 9,
    "start_time": "2022-08-11T18:45:53.793Z"
   },
   {
    "duration": 16,
    "start_time": "2022-08-11T18:47:53.768Z"
   },
   {
    "duration": 9,
    "start_time": "2022-08-11T18:47:57.232Z"
   },
   {
    "duration": 3,
    "start_time": "2022-08-11T19:20:48.241Z"
   },
   {
    "duration": 2,
    "start_time": "2022-08-11T19:20:48.423Z"
   },
   {
    "duration": 4,
    "start_time": "2022-08-11T19:20:48.572Z"
   },
   {
    "duration": 8,
    "start_time": "2022-08-11T19:20:48.827Z"
   },
   {
    "duration": 6,
    "start_time": "2022-08-11T19:20:48.837Z"
   },
   {
    "duration": 8,
    "start_time": "2022-08-11T19:20:48.941Z"
   },
   {
    "duration": 239,
    "start_time": "2022-08-11T19:20:49.337Z"
   },
   {
    "duration": 148,
    "start_time": "2022-08-11T19:20:49.678Z"
   },
   {
    "duration": 101,
    "start_time": "2022-08-11T19:20:49.828Z"
   },
   {
    "duration": 12,
    "start_time": "2022-08-11T19:20:50.030Z"
   },
   {
    "duration": 33,
    "start_time": "2022-08-11T19:20:50.093Z"
   },
   {
    "duration": 96,
    "start_time": "2022-08-11T19:20:50.264Z"
   },
   {
    "duration": 76,
    "start_time": "2022-08-11T19:20:50.362Z"
   },
   {
    "duration": 73,
    "start_time": "2022-08-11T19:20:50.521Z"
   },
   {
    "duration": 25,
    "start_time": "2022-08-11T19:20:50.765Z"
   },
   {
    "duration": 1968,
    "start_time": "2022-08-11T19:20:53.067Z"
   },
   {
    "duration": 6,
    "start_time": "2022-08-11T19:20:55.037Z"
   },
   {
    "duration": 14,
    "start_time": "2022-08-11T19:20:55.044Z"
   },
   {
    "duration": 27,
    "start_time": "2022-08-11T19:20:55.060Z"
   },
   {
    "duration": 32,
    "start_time": "2022-08-11T19:20:55.097Z"
   },
   {
    "duration": 8,
    "start_time": "2022-08-11T19:20:55.131Z"
   },
   {
    "duration": 9,
    "start_time": "2022-08-11T19:20:55.140Z"
   },
   {
    "duration": 8,
    "start_time": "2022-08-11T19:20:55.160Z"
   },
   {
    "duration": 8,
    "start_time": "2022-08-11T19:20:55.170Z"
   },
   {
    "duration": 68,
    "start_time": "2022-08-11T19:20:55.181Z"
   },
   {
    "duration": 74,
    "start_time": "2022-08-11T19:20:55.251Z"
   },
   {
    "duration": 19,
    "start_time": "2022-08-11T19:20:55.327Z"
   },
   {
    "duration": 131,
    "start_time": "2022-08-11T19:20:55.348Z"
   },
   {
    "duration": 393,
    "start_time": "2022-08-11T19:20:55.826Z"
   },
   {
    "duration": 30,
    "start_time": "2022-08-11T19:20:58.137Z"
   },
   {
    "duration": 30,
    "start_time": "2022-08-11T19:20:58.346Z"
   },
   {
    "duration": 11,
    "start_time": "2022-08-11T19:21:01.169Z"
   },
   {
    "duration": 58,
    "start_time": "2022-08-11T19:21:02.733Z"
   },
   {
    "duration": 257,
    "start_time": "2022-08-11T19:21:10.692Z"
   },
   {
    "duration": 13,
    "start_time": "2022-08-11T19:21:11.683Z"
   },
   {
    "duration": 267,
    "start_time": "2022-08-11T19:21:11.922Z"
   },
   {
    "duration": 11,
    "start_time": "2022-08-11T19:21:12.489Z"
   },
   {
    "duration": 9,
    "start_time": "2022-08-11T19:21:13.425Z"
   },
   {
    "duration": 8,
    "start_time": "2022-08-11T19:21:14.285Z"
   },
   {
    "duration": 11,
    "start_time": "2022-08-11T19:21:15.467Z"
   },
   {
    "duration": 3,
    "start_time": "2022-08-11T19:21:22.629Z"
   },
   {
    "duration": 4,
    "start_time": "2022-08-11T19:21:23.962Z"
   },
   {
    "duration": 3,
    "start_time": "2022-08-11T19:21:59.151Z"
   },
   {
    "duration": 3,
    "start_time": "2022-08-11T19:22:11.674Z"
   },
   {
    "duration": 3,
    "start_time": "2022-08-11T19:22:13.658Z"
   },
   {
    "duration": 3,
    "start_time": "2022-08-11T19:25:25.092Z"
   },
   {
    "duration": 3,
    "start_time": "2022-08-11T19:25:36.963Z"
   },
   {
    "duration": 4,
    "start_time": "2022-08-11T19:26:09.253Z"
   },
   {
    "duration": 174,
    "start_time": "2022-08-11T19:26:37.752Z"
   },
   {
    "duration": 180,
    "start_time": "2022-08-11T19:26:39.851Z"
   },
   {
    "duration": 7,
    "start_time": "2022-08-11T19:26:45.218Z"
   },
   {
    "duration": 22,
    "start_time": "2022-08-11T19:29:54.594Z"
   },
   {
    "duration": 10,
    "start_time": "2022-08-11T19:36:26.737Z"
   },
   {
    "duration": 9,
    "start_time": "2022-08-11T19:41:53.567Z"
   },
   {
    "duration": 9,
    "start_time": "2022-08-11T19:42:01.925Z"
   },
   {
    "duration": 944,
    "start_time": "2022-08-11T19:42:15.890Z"
   },
   {
    "duration": 1049,
    "start_time": "2022-08-12T16:02:53.399Z"
   },
   {
    "duration": 2,
    "start_time": "2022-08-12T16:02:54.450Z"
   },
   {
    "duration": 7,
    "start_time": "2022-08-12T16:02:54.453Z"
   },
   {
    "duration": 15,
    "start_time": "2022-08-12T16:02:54.461Z"
   },
   {
    "duration": 4,
    "start_time": "2022-08-12T16:02:54.477Z"
   },
   {
    "duration": 16,
    "start_time": "2022-08-12T16:02:54.482Z"
   },
   {
    "duration": 849,
    "start_time": "2022-08-12T16:02:54.500Z"
   },
   {
    "duration": 112,
    "start_time": "2022-08-12T16:02:55.350Z"
   },
   {
    "duration": 96,
    "start_time": "2022-08-12T16:02:55.464Z"
   },
   {
    "duration": 16,
    "start_time": "2022-08-12T16:02:55.562Z"
   },
   {
    "duration": 24,
    "start_time": "2022-08-12T16:02:55.579Z"
   },
   {
    "duration": 82,
    "start_time": "2022-08-12T16:02:55.604Z"
   },
   {
    "duration": 41,
    "start_time": "2022-08-12T16:02:55.687Z"
   },
   {
    "duration": 73,
    "start_time": "2022-08-12T16:02:55.730Z"
   },
   {
    "duration": 14,
    "start_time": "2022-08-12T16:02:55.907Z"
   },
   {
    "duration": 2142,
    "start_time": "2022-08-12T16:02:56.063Z"
   },
   {
    "duration": 7,
    "start_time": "2022-08-12T16:02:58.207Z"
   },
   {
    "duration": 7,
    "start_time": "2022-08-12T16:02:58.215Z"
   },
   {
    "duration": 22,
    "start_time": "2022-08-12T16:02:58.224Z"
   },
   {
    "duration": 17,
    "start_time": "2022-08-12T16:02:58.248Z"
   },
   {
    "duration": 8,
    "start_time": "2022-08-12T16:02:58.267Z"
   },
   {
    "duration": 5,
    "start_time": "2022-08-12T16:02:58.276Z"
   },
   {
    "duration": 6,
    "start_time": "2022-08-12T16:02:58.283Z"
   },
   {
    "duration": 6,
    "start_time": "2022-08-12T16:02:58.290Z"
   },
   {
    "duration": 60,
    "start_time": "2022-08-12T16:02:58.298Z"
   },
   {
    "duration": 45,
    "start_time": "2022-08-12T16:02:58.359Z"
   },
   {
    "duration": 16,
    "start_time": "2022-08-12T16:02:58.405Z"
   },
   {
    "duration": 120,
    "start_time": "2022-08-12T16:02:58.422Z"
   },
   {
    "duration": 334,
    "start_time": "2022-08-12T16:02:58.544Z"
   },
   {
    "duration": 29,
    "start_time": "2022-08-12T16:02:58.880Z"
   },
   {
    "duration": 45,
    "start_time": "2022-08-12T16:02:58.911Z"
   },
   {
    "duration": 11,
    "start_time": "2022-08-12T16:02:58.957Z"
   },
   {
    "duration": 63,
    "start_time": "2022-08-12T16:02:58.969Z"
   },
   {
    "duration": 238,
    "start_time": "2022-08-12T16:02:59.034Z"
   },
   {
    "duration": 12,
    "start_time": "2022-08-12T16:02:59.274Z"
   },
   {
    "duration": 228,
    "start_time": "2022-08-12T16:02:59.288Z"
   },
   {
    "duration": 7,
    "start_time": "2022-08-12T16:02:59.518Z"
   },
   {
    "duration": 14,
    "start_time": "2022-08-12T16:02:59.527Z"
   },
   {
    "duration": 8,
    "start_time": "2022-08-12T16:02:59.597Z"
   },
   {
    "duration": 11,
    "start_time": "2022-08-12T16:02:59.761Z"
   },
   {
    "duration": 3,
    "start_time": "2022-08-12T16:03:00.249Z"
   },
   {
    "duration": 3,
    "start_time": "2022-08-12T16:03:00.407Z"
   },
   {
    "duration": 159,
    "start_time": "2022-08-12T16:03:01.605Z"
   },
   {
    "duration": 120,
    "start_time": "2022-08-12T16:03:01.786Z"
   },
   {
    "duration": 5,
    "start_time": "2022-08-12T16:03:02.542Z"
   },
   {
    "duration": 1333,
    "start_time": "2022-08-12T16:03:07.523Z"
   },
   {
    "duration": 70,
    "start_time": "2022-08-12T16:03:39.277Z"
   },
   {
    "duration": 71,
    "start_time": "2022-08-12T16:03:48.811Z"
   },
   {
    "duration": 9,
    "start_time": "2022-08-12T16:03:52.599Z"
   },
   {
    "duration": 8,
    "start_time": "2022-08-12T16:03:58.617Z"
   },
   {
    "duration": 128,
    "start_time": "2022-08-12T16:04:19.655Z"
   },
   {
    "duration": 1511,
    "start_time": "2022-08-12T16:04:23.716Z"
   },
   {
    "duration": 9,
    "start_time": "2022-08-12T16:06:54.654Z"
   },
   {
    "duration": 9,
    "start_time": "2022-08-12T16:07:20.967Z"
   },
   {
    "duration": 9,
    "start_time": "2022-08-12T16:07:27.239Z"
   },
   {
    "duration": 8,
    "start_time": "2022-08-12T16:07:42.754Z"
   },
   {
    "duration": 21,
    "start_time": "2022-08-12T16:08:02.243Z"
   },
   {
    "duration": 8,
    "start_time": "2022-08-12T16:08:32.056Z"
   },
   {
    "duration": 9,
    "start_time": "2022-08-12T16:08:58.325Z"
   },
   {
    "duration": 9,
    "start_time": "2022-08-12T16:10:22.088Z"
   },
   {
    "duration": 108,
    "start_time": "2022-08-12T16:11:14.759Z"
   },
   {
    "duration": 8,
    "start_time": "2022-08-12T16:11:32.923Z"
   },
   {
    "duration": 4,
    "start_time": "2022-08-12T16:11:39.358Z"
   },
   {
    "duration": 1298,
    "start_time": "2022-08-12T16:14:54.872Z"
   },
   {
    "duration": 1729,
    "start_time": "2022-08-12T16:15:10.511Z"
   },
   {
    "duration": 1238,
    "start_time": "2022-08-12T16:15:57.439Z"
   },
   {
    "duration": 95,
    "start_time": "2022-08-12T16:17:12.502Z"
   },
   {
    "duration": 3,
    "start_time": "2022-08-12T16:17:18.076Z"
   },
   {
    "duration": 22,
    "start_time": "2022-08-12T16:17:21.647Z"
   },
   {
    "duration": 17,
    "start_time": "2022-08-12T16:17:44.173Z"
   },
   {
    "duration": 58,
    "start_time": "2022-08-12T16:18:06.989Z"
   },
   {
    "duration": 13,
    "start_time": "2022-08-12T16:18:07.262Z"
   },
   {
    "duration": 24,
    "start_time": "2022-08-12T16:18:43.869Z"
   },
   {
    "duration": 46,
    "start_time": "2022-08-12T16:18:58.097Z"
   },
   {
    "duration": 62,
    "start_time": "2022-08-12T16:39:44.030Z"
   },
   {
    "duration": 25,
    "start_time": "2022-08-12T16:40:28.284Z"
   },
   {
    "duration": 8,
    "start_time": "2022-08-12T16:40:28.953Z"
   },
   {
    "duration": 19,
    "start_time": "2022-08-12T16:40:35.870Z"
   },
   {
    "duration": 30,
    "start_time": "2022-08-12T16:40:38.858Z"
   },
   {
    "duration": 6347,
    "start_time": "2022-08-12T16:41:12.943Z"
   },
   {
    "duration": 10790,
    "start_time": "2022-08-12T16:42:03.966Z"
   },
   {
    "duration": 54054,
    "start_time": "2022-08-12T16:42:43.262Z"
   },
   {
    "duration": 133394,
    "start_time": "2022-08-12T16:44:32.355Z"
   },
   {
    "duration": 21666,
    "start_time": "2022-08-12T16:48:04.161Z"
   },
   {
    "duration": 72216,
    "start_time": "2022-08-12T16:49:04.214Z"
   },
   {
    "duration": 86,
    "start_time": "2022-08-12T16:51:44.008Z"
   },
   {
    "duration": 519948,
    "start_time": "2022-08-12T16:51:55.815Z"
   },
   {
    "duration": 91,
    "start_time": "2022-08-12T17:02:06.000Z"
   },
   {
    "duration": 3,
    "start_time": "2022-08-12T17:02:27.844Z"
   },
   {
    "duration": 1632,
    "start_time": "2022-08-12T17:02:40.773Z"
   },
   {
    "duration": 8,
    "start_time": "2022-08-12T17:03:53.024Z"
   },
   {
    "duration": 5,
    "start_time": "2022-08-12T17:03:55.220Z"
   },
   {
    "duration": 1100,
    "start_time": "2022-08-12T17:19:17.831Z"
   },
   {
    "duration": 4,
    "start_time": "2022-08-12T17:19:18.933Z"
   },
   {
    "duration": 5,
    "start_time": "2022-08-12T17:19:18.938Z"
   },
   {
    "duration": 18,
    "start_time": "2022-08-12T17:19:18.944Z"
   },
   {
    "duration": 3,
    "start_time": "2022-08-12T17:19:18.964Z"
   },
   {
    "duration": 8,
    "start_time": "2022-08-12T17:19:18.969Z"
   },
   {
    "duration": 229,
    "start_time": "2022-08-12T17:19:18.979Z"
   },
   {
    "duration": 114,
    "start_time": "2022-08-12T17:19:19.209Z"
   },
   {
    "duration": 90,
    "start_time": "2022-08-12T17:19:19.324Z"
   },
   {
    "duration": 16,
    "start_time": "2022-08-12T17:19:19.416Z"
   },
   {
    "duration": 37,
    "start_time": "2022-08-12T17:19:19.433Z"
   },
   {
    "duration": 69,
    "start_time": "2022-08-12T17:19:19.472Z"
   },
   {
    "duration": 49,
    "start_time": "2022-08-12T17:19:19.543Z"
   },
   {
    "duration": 68,
    "start_time": "2022-08-12T17:19:19.594Z"
   },
   {
    "duration": 14,
    "start_time": "2022-08-12T17:19:19.664Z"
   },
   {
    "duration": 1849,
    "start_time": "2022-08-12T17:19:19.680Z"
   },
   {
    "duration": 8,
    "start_time": "2022-08-12T17:19:21.530Z"
   },
   {
    "duration": 7,
    "start_time": "2022-08-12T17:19:21.539Z"
   },
   {
    "duration": 21,
    "start_time": "2022-08-12T17:19:21.547Z"
   },
   {
    "duration": 13,
    "start_time": "2022-08-12T17:19:21.570Z"
   },
   {
    "duration": 6,
    "start_time": "2022-08-12T17:19:21.585Z"
   },
   {
    "duration": 5,
    "start_time": "2022-08-12T17:19:21.593Z"
   },
   {
    "duration": 12,
    "start_time": "2022-08-12T17:19:21.600Z"
   },
   {
    "duration": 12,
    "start_time": "2022-08-12T17:19:21.613Z"
   },
   {
    "duration": 44,
    "start_time": "2022-08-12T17:19:21.626Z"
   },
   {
    "duration": 44,
    "start_time": "2022-08-12T17:19:21.671Z"
   },
   {
    "duration": 16,
    "start_time": "2022-08-12T17:19:21.716Z"
   },
   {
    "duration": 121,
    "start_time": "2022-08-12T17:19:21.737Z"
   },
   {
    "duration": 341,
    "start_time": "2022-08-12T17:19:21.859Z"
   },
   {
    "duration": 29,
    "start_time": "2022-08-12T17:19:22.201Z"
   },
   {
    "duration": 41,
    "start_time": "2022-08-12T17:19:22.231Z"
   },
   {
    "duration": 10,
    "start_time": "2022-08-12T17:19:22.273Z"
   },
   {
    "duration": 75,
    "start_time": "2022-08-12T17:19:22.285Z"
   },
   {
    "duration": 229,
    "start_time": "2022-08-12T17:19:22.362Z"
   },
   {
    "duration": 12,
    "start_time": "2022-08-12T17:19:22.592Z"
   },
   {
    "duration": 238,
    "start_time": "2022-08-12T17:19:22.606Z"
   },
   {
    "duration": 9,
    "start_time": "2022-08-12T17:19:22.846Z"
   },
   {
    "duration": 7,
    "start_time": "2022-08-12T17:19:22.857Z"
   },
   {
    "duration": 7,
    "start_time": "2022-08-12T17:19:22.866Z"
   },
   {
    "duration": 10,
    "start_time": "2022-08-12T17:19:22.874Z"
   },
   {
    "duration": 3,
    "start_time": "2022-08-12T17:19:22.885Z"
   },
   {
    "duration": 5,
    "start_time": "2022-08-12T17:19:22.889Z"
   },
   {
    "duration": 185,
    "start_time": "2022-08-12T17:19:22.895Z"
   },
   {
    "duration": 133,
    "start_time": "2022-08-12T17:19:23.081Z"
   },
   {
    "duration": 3,
    "start_time": "2022-08-12T17:19:23.215Z"
   },
   {
    "duration": 74,
    "start_time": "2022-08-12T17:19:23.220Z"
   },
   {
    "duration": 44,
    "start_time": "2022-08-12T17:19:23.296Z"
   },
   {
    "duration": 239,
    "start_time": "2022-08-12T17:19:23.341Z"
   },
   {
    "duration": 29,
    "start_time": "2022-08-12T17:19:23.581Z"
   },
   {
    "duration": 20,
    "start_time": "2022-08-12T17:19:23.611Z"
   },
   {
    "duration": 111,
    "start_time": "2022-08-12T17:19:23.633Z"
   },
   {
    "duration": 19,
    "start_time": "2022-08-12T17:19:23.746Z"
   },
   {
    "duration": 65,
    "start_time": "2022-08-12T17:19:23.767Z"
   },
   {
    "duration": 44,
    "start_time": "2022-08-12T17:19:23.834Z"
   },
   {
    "duration": 127,
    "start_time": "2022-08-12T17:19:23.880Z"
   },
   {
    "duration": 28,
    "start_time": "2022-08-12T17:19:24.008Z"
   },
   {
    "duration": 6054,
    "start_time": "2022-08-12T17:19:24.037Z"
   },
   {
    "duration": 72285,
    "start_time": "2022-08-12T17:19:30.092Z"
   },
   {
    "duration": 52554,
    "start_time": "2022-08-12T17:20:42.378Z"
   },
   {
    "duration": 132722,
    "start_time": "2022-08-12T17:21:34.933Z"
   },
   {
    "duration": 3375202,
    "start_time": "2022-08-12T17:23:47.656Z"
   },
   {
    "duration": 184,
    "start_time": "2022-08-12T18:20:02.861Z"
   },
   {
    "duration": 4,
    "start_time": "2022-08-12T18:20:03.054Z"
   },
   {
    "duration": 10,
    "start_time": "2022-08-12T18:20:03.059Z"
   },
   {
    "duration": 4,
    "start_time": "2022-08-12T18:20:03.070Z"
   }
  ],
  "kernelspec": {
   "display_name": "Python 3 (ipykernel)",
   "language": "python",
   "name": "python3"
  },
  "language_info": {
   "codemirror_mode": {
    "name": "ipython",
    "version": 3
   },
   "file_extension": ".py",
   "mimetype": "text/x-python",
   "name": "python",
   "nbconvert_exporter": "python",
   "pygments_lexer": "ipython3",
   "version": "3.9.5"
  },
  "toc": {
   "base_numbering": 1,
   "nav_menu": {},
   "number_sections": true,
   "sideBar": true,
   "skip_h1_title": true,
   "title_cell": "Table of Contents",
   "title_sidebar": "Contents",
   "toc_cell": false,
   "toc_position": {
    "height": "calc(100% - 180px)",
    "left": "10px",
    "top": "150px",
    "width": "262px"
   },
   "toc_section_display": true,
   "toc_window_display": true
  }
 },
 "nbformat": 4,
 "nbformat_minor": 2
}