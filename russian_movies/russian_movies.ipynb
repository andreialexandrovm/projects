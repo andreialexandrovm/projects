{
 "cells": [
  {
   "cell_type": "markdown",
   "metadata": {
    "toc": true
   },
   "source": [
    "<h1>Table of Contents<span class=\"tocSkip\"></span></h1>\n",
    "<div class=\"toc\"><ul class=\"toc-item\"><li><span><a href=\"#Открытие-файло-с-данными-и-объединие-их-в-один-датафрейм\" data-toc-modified-id=\"Открытие-файло-с-данными-и-объединие-их-в-один-датафрейм-1\"><span class=\"toc-item-num\">1&nbsp;&nbsp;</span>Открытие файло с данными и объединие их в один датафрейм</a></span></li><li><span><a href=\"#Предобработка-данных\" data-toc-modified-id=\"Предобработка-данных-2\"><span class=\"toc-item-num\">2&nbsp;&nbsp;</span>Предобработка данных</a></span><ul class=\"toc-item\"><li><span><a href=\"#Проверка-типов-данных\" data-toc-modified-id=\"Проверка-типов-данных-2.1\"><span class=\"toc-item-num\">2.1&nbsp;&nbsp;</span>Проверка типов данных</a></span></li><li><span><a href=\"#Обработка-пропусков-в-датафрейме\" data-toc-modified-id=\"Обработка-пропусков-в-датафрейме-2.2\"><span class=\"toc-item-num\">2.2&nbsp;&nbsp;</span>Обработка пропусков в датафрейме</a></span></li><li><span><a href=\"#Обработка-дубликатов\" data-toc-modified-id=\"Обработка-дубликатов-2.3\"><span class=\"toc-item-num\">2.3&nbsp;&nbsp;</span>Обработка дубликатов</a></span></li><li><span><a href=\"#Обработка-категориальных-признаков\" data-toc-modified-id=\"Обработка-категориальных-признаков-2.4\"><span class=\"toc-item-num\">2.4&nbsp;&nbsp;</span>Обработка категориальных признаков</a></span></li><li><span><a href=\"#Обработка-количественных-признаков\" data-toc-modified-id=\"Обработка-количественных-признаков-2.5\"><span class=\"toc-item-num\">2.5&nbsp;&nbsp;</span>Обработка количественных признаков</a></span></li><li><span><a href=\"#Добавление-новых-столбцов\" data-toc-modified-id=\"Добавление-новых-столбцов-2.6\"><span class=\"toc-item-num\">2.6&nbsp;&nbsp;</span>Добавление новых столбцов</a></span></li><li><span><a href=\"#Исследовательский-анализ-данных\" data-toc-modified-id=\"Исследовательский-анализ-данных-2.7\"><span class=\"toc-item-num\">2.7&nbsp;&nbsp;</span>Исследовательский анализ данных</a></span></li><li><span><a href=\"#Исследуем-фильмы,-которые-получили-государственную-поддержку\" data-toc-modified-id=\"Исследуем-фильмы,-которые-получили-государственную-поддержку-2.8\"><span class=\"toc-item-num\">2.8&nbsp;&nbsp;</span>Исследуем фильмы, которые получили государственную поддержку</a></span></li><li><span><a href=\"#Общий-вывод\" data-toc-modified-id=\"Общий-вывод-2.9\"><span class=\"toc-item-num\">2.9&nbsp;&nbsp;</span>Общий вывод</a></span></li></ul></li></ul></div>"
   ]
  },
  {
   "cell_type": "markdown",
   "metadata": {
    "id": "sIfNaMOxgFyK"
   },
   "source": [
    "# Исследование данных о российском кинопрокате\n",
    "\n",
    "\n",
    "\n"
   ]
  },
  {
   "cell_type": "markdown",
   "metadata": {},
   "source": [
    "Требуется изучить рынок российского кинопроката и выявить текущие тренды. Проанализировать фильмы, которые получили государственную поддержку.\n",
    "\n",
    "Данные получены с портала открытых данных Министерства культуры. Набор данных содержит информацию о прокатных удостоверениях, сборах и государственной поддержке фильмов, а также информацию с сайта КиноПоиск.  \n",
    "\n",
    "Таблица mkrf_movies содержит информацию из реестра прокатных удостоверений. У одного фильма может быть несколько прокатных удостоверений.\n",
    "title — название фильма;  \n",
    "puNumber — номер прокатного удостоверения;  \n",
    "show_start_date — дата премьеры фильма;  \n",
    "type — тип фильма;  \n",
    "film_studio — студия-производитель;  \n",
    "production_country — страна-производитель;  \n",
    "director — режиссёр;  \n",
    "producer — продюсер;  \n",
    "age_restriction — возрастная категория;  \n",
    "refundable_support — объём возвратных средств государственной поддержки;  \n",
    "nonrefundable_support — объём невозвратных средств государственной поддержки;  \n",
    "financing_source — источник государственного финансирования;  \n",
    "budget — общий бюджет фильма;  \n",
    "ratings — рейтинг фильма на КиноПоиске;  \n",
    "genres — жанр фильма.  \n",
    "\n",
    "Столбец budget уже включает в себя полный объём государственной поддержки. Данные в этом столбце указаны только для тех фильмов, которые получили государственную поддержку.  \n",
    "\n",
    "Таблица mkrf_shows содержит сведения о показах фильмов в российских кинотеатрах.  \n",
    "puNumber — номер прокатного удостоверения;  \n",
    "box_office — сборы в рублях."
   ]
  },
  {
   "cell_type": "markdown",
   "metadata": {
    "id": "3bSlkCsbgFyL"
   },
   "source": [
    "## Открытие файло с данными и объединие их в один датафрейм"
   ]
  },
  {
   "cell_type": "markdown",
   "metadata": {},
   "source": [
    "Импортируем необходимые для проекта библиотеки"
   ]
  },
  {
   "cell_type": "code",
   "execution_count": 1,
   "metadata": {
    "id": "dw87FlzMgFyM"
   },
   "outputs": [],
   "source": [
    "import pandas as pd\n",
    "import os\n",
    "import numpy as np\n",
    "import seaborn as sns\n",
    "import matplotlib.pyplot as plt\n",
    "pd.options.display.float_format = '{:.2f}'.format"
   ]
  },
  {
   "cell_type": "markdown",
   "metadata": {},
   "source": [
    "Откроем файлы с данными"
   ]
  },
  {
   "cell_type": "code",
   "execution_count": 2,
   "metadata": {},
   "outputs": [],
   "source": [
    "pth1 = 'mkrf_movies.csv'\n",
    "pth2 = 'https://code.s3.yandex.net/datasets/mkrf_movies.csv'\n",
    "    \n",
    "if os.path.exists(pth1):\n",
    "    movies = pd.read_csv(pth1)\n",
    "elif os.path.exists(pth2):\n",
    "    movies = pd.read_csv(pth2)\n",
    "else:\n",
    "    print('Something is wrong')\n",
    "    \n",
    "pth3 = 'mkrf_shows.csv'\n",
    "pth4 = 'https://code.s3.yandex.net/datasets/mkrf_shows.csv'\n",
    "    \n",
    "if os.path.exists(pth3):\n",
    "    shows = pd.read_csv(pth3)\n",
    "elif os.path.exists(pth4):\n",
    "    shows = pd.read_csv(pth4)\n",
    "else:\n",
    "    print('Something is wrong')"
   ]
  },
  {
   "cell_type": "markdown",
   "metadata": {},
   "source": [
    "Посмотрим, что из себя представляют эти данные, информацию по столбцам и статистическую информацию."
   ]
  },
  {
   "cell_type": "code",
   "execution_count": 3,
   "metadata": {},
   "outputs": [
    {
     "data": {
      "text/html": [
       "<div>\n",
       "<style scoped>\n",
       "    .dataframe tbody tr th:only-of-type {\n",
       "        vertical-align: middle;\n",
       "    }\n",
       "\n",
       "    .dataframe tbody tr th {\n",
       "        vertical-align: top;\n",
       "    }\n",
       "\n",
       "    .dataframe thead th {\n",
       "        text-align: right;\n",
       "    }\n",
       "</style>\n",
       "<table border=\"1\" class=\"dataframe\">\n",
       "  <thead>\n",
       "    <tr style=\"text-align: right;\">\n",
       "      <th></th>\n",
       "      <th>title</th>\n",
       "      <th>puNumber</th>\n",
       "      <th>show_start_date</th>\n",
       "      <th>type</th>\n",
       "      <th>film_studio</th>\n",
       "      <th>production_country</th>\n",
       "      <th>director</th>\n",
       "      <th>producer</th>\n",
       "      <th>age_restriction</th>\n",
       "      <th>refundable_support</th>\n",
       "      <th>nonrefundable_support</th>\n",
       "      <th>budget</th>\n",
       "      <th>financing_source</th>\n",
       "      <th>ratings</th>\n",
       "      <th>genres</th>\n",
       "    </tr>\n",
       "  </thead>\n",
       "  <tbody>\n",
       "    <tr>\n",
       "      <th>0</th>\n",
       "      <td>Открытый простор</td>\n",
       "      <td>221048915</td>\n",
       "      <td>2015-11-27T12:00:00.000Z</td>\n",
       "      <td>Художественный</td>\n",
       "      <td>Тачстоун Пикчерз, Кобальт Пикчерз, Бикон Пикче...</td>\n",
       "      <td>США</td>\n",
       "      <td>Кевин Костнер</td>\n",
       "      <td>Дэвид Валдес, Кевин Костнер, Джейк Эбертс</td>\n",
       "      <td>«18+» - запрещено для детей</td>\n",
       "      <td>NaN</td>\n",
       "      <td>NaN</td>\n",
       "      <td>NaN</td>\n",
       "      <td>NaN</td>\n",
       "      <td>7.2</td>\n",
       "      <td>боевик,драма,мелодрама</td>\n",
       "    </tr>\n",
       "    <tr>\n",
       "      <th>1</th>\n",
       "      <td>Особо важное задание</td>\n",
       "      <td>111013716</td>\n",
       "      <td>2016-09-13T12:00:00.000Z</td>\n",
       "      <td>Художественный</td>\n",
       "      <td>Киностудия \"Мосфильм\"</td>\n",
       "      <td>СССР</td>\n",
       "      <td>Е.Матвеев</td>\n",
       "      <td>NaN</td>\n",
       "      <td>«6+» - для детей старше 6 лет</td>\n",
       "      <td>NaN</td>\n",
       "      <td>NaN</td>\n",
       "      <td>NaN</td>\n",
       "      <td>NaN</td>\n",
       "      <td>6.6</td>\n",
       "      <td>драма,военный</td>\n",
       "    </tr>\n",
       "    <tr>\n",
       "      <th>2</th>\n",
       "      <td>Особо опасен</td>\n",
       "      <td>221038416</td>\n",
       "      <td>2016-10-10T12:00:00.000Z</td>\n",
       "      <td>Художественный</td>\n",
       "      <td>Юниверсал Пикчерз, Кикстарт Продакшнз, Марк Пл...</td>\n",
       "      <td>США</td>\n",
       "      <td>Тимур Бекмамбетов</td>\n",
       "      <td>Джим Лемли, Джейсон Нетер, Марк Е.Платт, Яйн Смит</td>\n",
       "      <td>«18+» - запрещено для детей</td>\n",
       "      <td>NaN</td>\n",
       "      <td>NaN</td>\n",
       "      <td>NaN</td>\n",
       "      <td>NaN</td>\n",
       "      <td>6.8</td>\n",
       "      <td>фантастика,боевик,триллер</td>\n",
       "    </tr>\n",
       "    <tr>\n",
       "      <th>3</th>\n",
       "      <td>Особо опасен</td>\n",
       "      <td>221026916</td>\n",
       "      <td>2016-06-10T12:00:00.000Z</td>\n",
       "      <td>Художественный</td>\n",
       "      <td>Юниверсал Пикчерз, Кикстарт Продакшнз, Марк Пл...</td>\n",
       "      <td>США</td>\n",
       "      <td>Тимур Бекмамбетов</td>\n",
       "      <td>Джим Лемли, Джейсон Нетер, Марк Е.Платт, Яйн Смит</td>\n",
       "      <td>«18+» - запрещено для детей</td>\n",
       "      <td>NaN</td>\n",
       "      <td>NaN</td>\n",
       "      <td>NaN</td>\n",
       "      <td>NaN</td>\n",
       "      <td>6.8</td>\n",
       "      <td>фантастика,боевик,триллер</td>\n",
       "    </tr>\n",
       "    <tr>\n",
       "      <th>4</th>\n",
       "      <td>Особо опасен</td>\n",
       "      <td>221030815</td>\n",
       "      <td>2015-07-29T12:00:00.000Z</td>\n",
       "      <td>Художественный</td>\n",
       "      <td>Юниверсал Пикчерз, Кикстарт Продакшнз, Марк Пл...</td>\n",
       "      <td>США</td>\n",
       "      <td>Тимур Бекмамбетов</td>\n",
       "      <td>Джим Лемли, Джейсон Нетер, Марк Е.Платт, Яйн Смит</td>\n",
       "      <td>«18+» - запрещено для детей</td>\n",
       "      <td>NaN</td>\n",
       "      <td>NaN</td>\n",
       "      <td>NaN</td>\n",
       "      <td>NaN</td>\n",
       "      <td>6.8</td>\n",
       "      <td>фантастика,боевик,триллер</td>\n",
       "    </tr>\n",
       "  </tbody>\n",
       "</table>\n",
       "</div>"
      ],
      "text/plain": [
       "                  title   puNumber           show_start_date            type  \\\n",
       "0      Открытый простор  221048915  2015-11-27T12:00:00.000Z  Художественный   \n",
       "1  Особо важное задание  111013716  2016-09-13T12:00:00.000Z  Художественный   \n",
       "2          Особо опасен  221038416  2016-10-10T12:00:00.000Z  Художественный   \n",
       "3          Особо опасен  221026916  2016-06-10T12:00:00.000Z  Художественный   \n",
       "4          Особо опасен  221030815  2015-07-29T12:00:00.000Z  Художественный   \n",
       "\n",
       "                                         film_studio production_country  \\\n",
       "0  Тачстоун Пикчерз, Кобальт Пикчерз, Бикон Пикче...                США   \n",
       "1                              Киностудия \"Мосфильм\"               СССР   \n",
       "2  Юниверсал Пикчерз, Кикстарт Продакшнз, Марк Пл...                США   \n",
       "3  Юниверсал Пикчерз, Кикстарт Продакшнз, Марк Пл...                США   \n",
       "4  Юниверсал Пикчерз, Кикстарт Продакшнз, Марк Пл...                США   \n",
       "\n",
       "            director                                           producer  \\\n",
       "0      Кевин Костнер          Дэвид Валдес, Кевин Костнер, Джейк Эбертс   \n",
       "1          Е.Матвеев                                                NaN   \n",
       "2  Тимур Бекмамбетов  Джим Лемли, Джейсон Нетер, Марк Е.Платт, Яйн Смит   \n",
       "3  Тимур Бекмамбетов  Джим Лемли, Джейсон Нетер, Марк Е.Платт, Яйн Смит   \n",
       "4  Тимур Бекмамбетов  Джим Лемли, Джейсон Нетер, Марк Е.Платт, Яйн Смит   \n",
       "\n",
       "                 age_restriction  refundable_support  nonrefundable_support  \\\n",
       "0    «18+» - запрещено для детей                 NaN                    NaN   \n",
       "1  «6+» - для детей старше 6 лет                 NaN                    NaN   \n",
       "2    «18+» - запрещено для детей                 NaN                    NaN   \n",
       "3    «18+» - запрещено для детей                 NaN                    NaN   \n",
       "4    «18+» - запрещено для детей                 NaN                    NaN   \n",
       "\n",
       "   budget financing_source ratings                     genres  \n",
       "0     NaN              NaN     7.2     боевик,драма,мелодрама  \n",
       "1     NaN              NaN     6.6              драма,военный  \n",
       "2     NaN              NaN     6.8  фантастика,боевик,триллер  \n",
       "3     NaN              NaN     6.8  фантастика,боевик,триллер  \n",
       "4     NaN              NaN     6.8  фантастика,боевик,триллер  "
      ]
     },
     "execution_count": 3,
     "metadata": {},
     "output_type": "execute_result"
    }
   ],
   "source": [
    "movies.head()"
   ]
  },
  {
   "cell_type": "code",
   "execution_count": 4,
   "metadata": {},
   "outputs": [
    {
     "name": "stdout",
     "output_type": "stream",
     "text": [
      "<class 'pandas.core.frame.DataFrame'>\n",
      "RangeIndex: 7486 entries, 0 to 7485\n",
      "Data columns (total 15 columns):\n",
      " #   Column                 Non-Null Count  Dtype  \n",
      "---  ------                 --------------  -----  \n",
      " 0   title                  7486 non-null   object \n",
      " 1   puNumber               7486 non-null   object \n",
      " 2   show_start_date        7486 non-null   object \n",
      " 3   type                   7486 non-null   object \n",
      " 4   film_studio            7468 non-null   object \n",
      " 5   production_country     7484 non-null   object \n",
      " 6   director               7477 non-null   object \n",
      " 7   producer               6918 non-null   object \n",
      " 8   age_restriction        7486 non-null   object \n",
      " 9   refundable_support     332 non-null    float64\n",
      " 10  nonrefundable_support  332 non-null    float64\n",
      " 11  budget                 332 non-null    float64\n",
      " 12  financing_source       332 non-null    object \n",
      " 13  ratings                6519 non-null   object \n",
      " 14  genres                 6510 non-null   object \n",
      "dtypes: float64(3), object(12)\n",
      "memory usage: 877.4+ KB\n"
     ]
    }
   ],
   "source": [
    "movies.info()"
   ]
  },
  {
   "cell_type": "code",
   "execution_count": 5,
   "metadata": {},
   "outputs": [
    {
     "data": {
      "text/html": [
       "<div>\n",
       "<style scoped>\n",
       "    .dataframe tbody tr th:only-of-type {\n",
       "        vertical-align: middle;\n",
       "    }\n",
       "\n",
       "    .dataframe tbody tr th {\n",
       "        vertical-align: top;\n",
       "    }\n",
       "\n",
       "    .dataframe thead th {\n",
       "        text-align: right;\n",
       "    }\n",
       "</style>\n",
       "<table border=\"1\" class=\"dataframe\">\n",
       "  <thead>\n",
       "    <tr style=\"text-align: right;\">\n",
       "      <th></th>\n",
       "      <th>refundable_support</th>\n",
       "      <th>nonrefundable_support</th>\n",
       "      <th>budget</th>\n",
       "    </tr>\n",
       "  </thead>\n",
       "  <tbody>\n",
       "    <tr>\n",
       "      <th>count</th>\n",
       "      <td>332.00</td>\n",
       "      <td>332.00</td>\n",
       "      <td>332.00</td>\n",
       "    </tr>\n",
       "    <tr>\n",
       "      <th>mean</th>\n",
       "      <td>11864457.83</td>\n",
       "      <td>48980988.89</td>\n",
       "      <td>127229716.68</td>\n",
       "    </tr>\n",
       "    <tr>\n",
       "      <th>std</th>\n",
       "      <td>24916555.26</td>\n",
       "      <td>59980117.92</td>\n",
       "      <td>188588333.12</td>\n",
       "    </tr>\n",
       "    <tr>\n",
       "      <th>min</th>\n",
       "      <td>0.00</td>\n",
       "      <td>0.00</td>\n",
       "      <td>0.00</td>\n",
       "    </tr>\n",
       "    <tr>\n",
       "      <th>25%</th>\n",
       "      <td>0.00</td>\n",
       "      <td>25000000.00</td>\n",
       "      <td>42000000.00</td>\n",
       "    </tr>\n",
       "    <tr>\n",
       "      <th>50%</th>\n",
       "      <td>0.00</td>\n",
       "      <td>30000000.00</td>\n",
       "      <td>68649916.00</td>\n",
       "    </tr>\n",
       "    <tr>\n",
       "      <th>75%</th>\n",
       "      <td>15000000.00</td>\n",
       "      <td>40375000.00</td>\n",
       "      <td>141985319.50</td>\n",
       "    </tr>\n",
       "    <tr>\n",
       "      <th>max</th>\n",
       "      <td>180000000.00</td>\n",
       "      <td>400000000.00</td>\n",
       "      <td>2305074303.00</td>\n",
       "    </tr>\n",
       "  </tbody>\n",
       "</table>\n",
       "</div>"
      ],
      "text/plain": [
       "       refundable_support  nonrefundable_support        budget\n",
       "count              332.00                 332.00        332.00\n",
       "mean          11864457.83            48980988.89  127229716.68\n",
       "std           24916555.26            59980117.92  188588333.12\n",
       "min                  0.00                   0.00          0.00\n",
       "25%                  0.00            25000000.00   42000000.00\n",
       "50%                  0.00            30000000.00   68649916.00\n",
       "75%           15000000.00            40375000.00  141985319.50\n",
       "max          180000000.00           400000000.00 2305074303.00"
      ]
     },
     "execution_count": 5,
     "metadata": {},
     "output_type": "execute_result"
    }
   ],
   "source": [
    "movies.describe()"
   ]
  },
  {
   "cell_type": "code",
   "execution_count": 6,
   "metadata": {},
   "outputs": [
    {
     "data": {
      "text/html": [
       "<div>\n",
       "<style scoped>\n",
       "    .dataframe tbody tr th:only-of-type {\n",
       "        vertical-align: middle;\n",
       "    }\n",
       "\n",
       "    .dataframe tbody tr th {\n",
       "        vertical-align: top;\n",
       "    }\n",
       "\n",
       "    .dataframe thead th {\n",
       "        text-align: right;\n",
       "    }\n",
       "</style>\n",
       "<table border=\"1\" class=\"dataframe\">\n",
       "  <thead>\n",
       "    <tr style=\"text-align: right;\">\n",
       "      <th></th>\n",
       "      <th>puNumber</th>\n",
       "      <th>box_office</th>\n",
       "    </tr>\n",
       "  </thead>\n",
       "  <tbody>\n",
       "    <tr>\n",
       "      <th>0</th>\n",
       "      <td>111000113</td>\n",
       "      <td>2450.00</td>\n",
       "    </tr>\n",
       "    <tr>\n",
       "      <th>1</th>\n",
       "      <td>111000115</td>\n",
       "      <td>61040.00</td>\n",
       "    </tr>\n",
       "    <tr>\n",
       "      <th>2</th>\n",
       "      <td>111000116</td>\n",
       "      <td>153030013.40</td>\n",
       "    </tr>\n",
       "    <tr>\n",
       "      <th>3</th>\n",
       "      <td>111000117</td>\n",
       "      <td>12260956.00</td>\n",
       "    </tr>\n",
       "    <tr>\n",
       "      <th>4</th>\n",
       "      <td>111000118</td>\n",
       "      <td>163684057.79</td>\n",
       "    </tr>\n",
       "  </tbody>\n",
       "</table>\n",
       "</div>"
      ],
      "text/plain": [
       "    puNumber   box_office\n",
       "0  111000113      2450.00\n",
       "1  111000115     61040.00\n",
       "2  111000116 153030013.40\n",
       "3  111000117  12260956.00\n",
       "4  111000118 163684057.79"
      ]
     },
     "execution_count": 6,
     "metadata": {},
     "output_type": "execute_result"
    }
   ],
   "source": [
    "shows.head()"
   ]
  },
  {
   "cell_type": "code",
   "execution_count": 7,
   "metadata": {},
   "outputs": [
    {
     "name": "stdout",
     "output_type": "stream",
     "text": [
      "<class 'pandas.core.frame.DataFrame'>\n",
      "RangeIndex: 3158 entries, 0 to 3157\n",
      "Data columns (total 2 columns):\n",
      " #   Column      Non-Null Count  Dtype  \n",
      "---  ------      --------------  -----  \n",
      " 0   puNumber    3158 non-null   int64  \n",
      " 1   box_office  3158 non-null   float64\n",
      "dtypes: float64(1), int64(1)\n",
      "memory usage: 49.5 KB\n"
     ]
    }
   ],
   "source": [
    "shows.info()"
   ]
  },
  {
   "cell_type": "code",
   "execution_count": 8,
   "metadata": {},
   "outputs": [
    {
     "data": {
      "text/html": [
       "<div>\n",
       "<style scoped>\n",
       "    .dataframe tbody tr th:only-of-type {\n",
       "        vertical-align: middle;\n",
       "    }\n",
       "\n",
       "    .dataframe tbody tr th {\n",
       "        vertical-align: top;\n",
       "    }\n",
       "\n",
       "    .dataframe thead th {\n",
       "        text-align: right;\n",
       "    }\n",
       "</style>\n",
       "<table border=\"1\" class=\"dataframe\">\n",
       "  <thead>\n",
       "    <tr style=\"text-align: right;\">\n",
       "      <th></th>\n",
       "      <th>puNumber</th>\n",
       "      <th>box_office</th>\n",
       "    </tr>\n",
       "  </thead>\n",
       "  <tbody>\n",
       "    <tr>\n",
       "      <th>count</th>\n",
       "      <td>3158.00</td>\n",
       "      <td>3158.00</td>\n",
       "    </tr>\n",
       "    <tr>\n",
       "      <th>mean</th>\n",
       "      <td>120187475.32</td>\n",
       "      <td>76478696.16</td>\n",
       "    </tr>\n",
       "    <tr>\n",
       "      <th>std</th>\n",
       "      <td>12383941.15</td>\n",
       "      <td>240353122.82</td>\n",
       "    </tr>\n",
       "    <tr>\n",
       "      <th>min</th>\n",
       "      <td>111000113.00</td>\n",
       "      <td>0.00</td>\n",
       "    </tr>\n",
       "    <tr>\n",
       "      <th>25%</th>\n",
       "      <td>113000191.75</td>\n",
       "      <td>86239.00</td>\n",
       "    </tr>\n",
       "    <tr>\n",
       "      <th>50%</th>\n",
       "      <td>121013114.50</td>\n",
       "      <td>2327987.55</td>\n",
       "    </tr>\n",
       "    <tr>\n",
       "      <th>75%</th>\n",
       "      <td>121028317.75</td>\n",
       "      <td>23979671.02</td>\n",
       "    </tr>\n",
       "    <tr>\n",
       "      <th>max</th>\n",
       "      <td>224026410.00</td>\n",
       "      <td>3073568690.79</td>\n",
       "    </tr>\n",
       "  </tbody>\n",
       "</table>\n",
       "</div>"
      ],
      "text/plain": [
       "          puNumber    box_office\n",
       "count      3158.00       3158.00\n",
       "mean  120187475.32   76478696.16\n",
       "std    12383941.15  240353122.82\n",
       "min   111000113.00          0.00\n",
       "25%   113000191.75      86239.00\n",
       "50%   121013114.50    2327987.55\n",
       "75%   121028317.75   23979671.02\n",
       "max   224026410.00 3073568690.79"
      ]
     },
     "execution_count": 8,
     "metadata": {},
     "output_type": "execute_result"
    }
   ],
   "source": [
    "shows.describe()"
   ]
  },
  {
   "cell_type": "markdown",
   "metadata": {},
   "source": [
    "Посмотрим на строки в таблице movies, где тип данных в столбце puNumber не являются числом"
   ]
  },
  {
   "cell_type": "code",
   "execution_count": 9,
   "metadata": {},
   "outputs": [
    {
     "data": {
      "text/html": [
       "<div>\n",
       "<style scoped>\n",
       "    .dataframe tbody tr th:only-of-type {\n",
       "        vertical-align: middle;\n",
       "    }\n",
       "\n",
       "    .dataframe tbody tr th {\n",
       "        vertical-align: top;\n",
       "    }\n",
       "\n",
       "    .dataframe thead th {\n",
       "        text-align: right;\n",
       "    }\n",
       "</style>\n",
       "<table border=\"1\" class=\"dataframe\">\n",
       "  <thead>\n",
       "    <tr style=\"text-align: right;\">\n",
       "      <th></th>\n",
       "      <th>title</th>\n",
       "      <th>puNumber</th>\n",
       "      <th>show_start_date</th>\n",
       "      <th>type</th>\n",
       "      <th>film_studio</th>\n",
       "      <th>production_country</th>\n",
       "      <th>director</th>\n",
       "      <th>producer</th>\n",
       "      <th>age_restriction</th>\n",
       "      <th>refundable_support</th>\n",
       "      <th>nonrefundable_support</th>\n",
       "      <th>budget</th>\n",
       "      <th>financing_source</th>\n",
       "      <th>ratings</th>\n",
       "      <th>genres</th>\n",
       "    </tr>\n",
       "  </thead>\n",
       "  <tbody>\n",
       "    <tr>\n",
       "      <th>804</th>\n",
       "      <td>Паранормальный Якутск</td>\n",
       "      <td>111004112</td>\n",
       "      <td>2012-08-24T12:00:00.000Z</td>\n",
       "      <td>Художественный</td>\n",
       "      <td>ИП Тимофеев К.П.</td>\n",
       "      <td>Россия</td>\n",
       "      <td>К.Тимофеев</td>\n",
       "      <td>NaN</td>\n",
       "      <td>«16+» - для детей старше 16 лет</td>\n",
       "      <td>NaN</td>\n",
       "      <td>NaN</td>\n",
       "      <td>NaN</td>\n",
       "      <td>NaN</td>\n",
       "      <td>NaN</td>\n",
       "      <td>NaN</td>\n",
       "    </tr>\n",
       "    <tr>\n",
       "      <th>1797</th>\n",
       "      <td>Курбан-роман. (История с жертвой)</td>\n",
       "      <td>нет</td>\n",
       "      <td>2014-05-15T12:00:00.000Z</td>\n",
       "      <td>Художественный</td>\n",
       "      <td>ФОНД \"ИННОВАЦИЯ\"</td>\n",
       "      <td>Россия</td>\n",
       "      <td>С.Юзеев</td>\n",
       "      <td>М.Галицкая</td>\n",
       "      <td>«12+» - для детей старше 12 лет</td>\n",
       "      <td>NaN</td>\n",
       "      <td>NaN</td>\n",
       "      <td>NaN</td>\n",
       "      <td>NaN</td>\n",
       "      <td>NaN</td>\n",
       "      <td>NaN</td>\n",
       "    </tr>\n",
       "  </tbody>\n",
       "</table>\n",
       "</div>"
      ],
      "text/plain": [
       "                                  title    puNumber           show_start_date  \\\n",
       "804               Паранормальный Якутск   111004112  2012-08-24T12:00:00.000Z   \n",
       "1797  Курбан-роман. (История с жертвой)         нет  2014-05-15T12:00:00.000Z   \n",
       "\n",
       "                type       film_studio production_country    director  \\\n",
       "804   Художественный  ИП Тимофеев К.П.             Россия  К.Тимофеев   \n",
       "1797  Художественный  ФОНД \"ИННОВАЦИЯ\"             Россия     С.Юзеев   \n",
       "\n",
       "        producer                  age_restriction  refundable_support  \\\n",
       "804          NaN  «16+» - для детей старше 16 лет                 NaN   \n",
       "1797  М.Галицкая  «12+» - для детей старше 12 лет                 NaN   \n",
       "\n",
       "      nonrefundable_support  budget financing_source ratings genres  \n",
       "804                     NaN     NaN              NaN     NaN    NaN  \n",
       "1797                    NaN     NaN              NaN     NaN    NaN  "
      ]
     },
     "execution_count": 9,
     "metadata": {},
     "output_type": "execute_result"
    }
   ],
   "source": [
    "movies[movies['puNumber'].str.isdigit() == False]"
   ]
  },
  {
   "cell_type": "markdown",
   "metadata": {},
   "source": [
    "У одного из этих фильмов нет прокатного удостоверения, заменим это значение на NaN. У другого число записано в виде строки, заменим тип данных этого числа на float."
   ]
  },
  {
   "cell_type": "code",
   "execution_count": 10,
   "metadata": {},
   "outputs": [],
   "source": [
    "movies.loc[movies['puNumber'] == 'нет', 'puNumber'] = np.NaN"
   ]
  },
  {
   "cell_type": "code",
   "execution_count": 11,
   "metadata": {},
   "outputs": [],
   "source": [
    "movies['puNumber'] = pd.to_numeric(movies['puNumber'])"
   ]
  },
  {
   "cell_type": "markdown",
   "metadata": {},
   "source": [
    "Далее объединим эти таблицы, так как нам необходимо, чтобы в итоговую таблицу попали все строки из таблицы movies, то объединим с параметром left"
   ]
  },
  {
   "cell_type": "code",
   "execution_count": 12,
   "metadata": {},
   "outputs": [],
   "source": [
    "movies = movies.merge(shows, on='puNumber', how='left')"
   ]
  },
  {
   "cell_type": "code",
   "execution_count": 13,
   "metadata": {},
   "outputs": [
    {
     "name": "stdout",
     "output_type": "stream",
     "text": [
      "<class 'pandas.core.frame.DataFrame'>\n",
      "Int64Index: 7486 entries, 0 to 7485\n",
      "Data columns (total 16 columns):\n",
      " #   Column                 Non-Null Count  Dtype  \n",
      "---  ------                 --------------  -----  \n",
      " 0   title                  7486 non-null   object \n",
      " 1   puNumber               7485 non-null   float64\n",
      " 2   show_start_date        7486 non-null   object \n",
      " 3   type                   7486 non-null   object \n",
      " 4   film_studio            7468 non-null   object \n",
      " 5   production_country     7484 non-null   object \n",
      " 6   director               7477 non-null   object \n",
      " 7   producer               6918 non-null   object \n",
      " 8   age_restriction        7486 non-null   object \n",
      " 9   refundable_support     332 non-null    float64\n",
      " 10  nonrefundable_support  332 non-null    float64\n",
      " 11  budget                 332 non-null    float64\n",
      " 12  financing_source       332 non-null    object \n",
      " 13  ratings                6519 non-null   object \n",
      " 14  genres                 6510 non-null   object \n",
      " 15  box_office             3158 non-null   float64\n",
      "dtypes: float64(5), object(11)\n",
      "memory usage: 994.2+ KB\n"
     ]
    }
   ],
   "source": [
    "movies.info()"
   ]
  },
  {
   "cell_type": "markdown",
   "metadata": {
    "id": "KLDGpPG0gFyM"
   },
   "source": [
    "## Предобработка данных"
   ]
  },
  {
   "cell_type": "markdown",
   "metadata": {
    "id": "ssWwKXsxgFyO"
   },
   "source": [
    "### Проверка типов данных"
   ]
  },
  {
   "cell_type": "code",
   "execution_count": 14,
   "metadata": {
    "id": "kVGSplJOgFyO"
   },
   "outputs": [
    {
     "name": "stdout",
     "output_type": "stream",
     "text": [
      "<class 'pandas.core.frame.DataFrame'>\n",
      "Int64Index: 7486 entries, 0 to 7485\n",
      "Data columns (total 16 columns):\n",
      " #   Column                 Non-Null Count  Dtype  \n",
      "---  ------                 --------------  -----  \n",
      " 0   title                  7486 non-null   object \n",
      " 1   puNumber               7485 non-null   float64\n",
      " 2   show_start_date        7486 non-null   object \n",
      " 3   type                   7486 non-null   object \n",
      " 4   film_studio            7468 non-null   object \n",
      " 5   production_country     7484 non-null   object \n",
      " 6   director               7477 non-null   object \n",
      " 7   producer               6918 non-null   object \n",
      " 8   age_restriction        7486 non-null   object \n",
      " 9   refundable_support     332 non-null    float64\n",
      " 10  nonrefundable_support  332 non-null    float64\n",
      " 11  budget                 332 non-null    float64\n",
      " 12  financing_source       332 non-null    object \n",
      " 13  ratings                6519 non-null   object \n",
      " 14  genres                 6510 non-null   object \n",
      " 15  box_office             3158 non-null   float64\n",
      "dtypes: float64(5), object(11)\n",
      "memory usage: 994.2+ KB\n"
     ]
    }
   ],
   "source": [
    "movies.info()"
   ]
  },
  {
   "cell_type": "markdown",
   "metadata": {},
   "source": [
    "Преобразуем тип данных столбца show_start_date на datetime.  "
   ]
  },
  {
   "cell_type": "code",
   "execution_count": 15,
   "metadata": {},
   "outputs": [],
   "source": [
    "movies['show_start_date'] = movies['show_start_date'].str[:-5]\n",
    "movies['show_start_date'] = pd.to_datetime(movies['show_start_date'], format='%Y-%m-%dT%H:%M:%S')"
   ]
  },
  {
   "cell_type": "markdown",
   "metadata": {},
   "source": [
    "Изменим тип данных в столбце ratings на float16"
   ]
  },
  {
   "cell_type": "code",
   "execution_count": 16,
   "metadata": {},
   "outputs": [],
   "source": [
    "movies['ratings'] = pd.to_numeric(movies['ratings'], errors='coerce')"
   ]
  },
  {
   "cell_type": "code",
   "execution_count": 17,
   "metadata": {},
   "outputs": [],
   "source": [
    "movies['ratings'] = movies['ratings'].astype('float16')"
   ]
  },
  {
   "cell_type": "markdown",
   "metadata": {},
   "source": [
    "Поменяем тип данных в refundable_support, nonrefundable_support и budget на float32"
   ]
  },
  {
   "cell_type": "code",
   "execution_count": 18,
   "metadata": {},
   "outputs": [],
   "source": [
    "movies['refundable_support'] = movies['refundable_support'].astype('float32')\n",
    "movies['nonrefundable_support'] = movies['nonrefundable_support'].astype('float32')\n",
    "movies['budget'] = movies['budget'].astype('float32')\n",
    "movies['box_office'] = movies['box_office'].astype('float32')"
   ]
  },
  {
   "cell_type": "markdown",
   "metadata": {
    "id": "i0MOLbF-gFyP"
   },
   "source": [
    "### Обработка пропусков в датафрейме"
   ]
  },
  {
   "cell_type": "markdown",
   "metadata": {},
   "source": [
    "Посмотрим количество пропусков и их долю в данных"
   ]
  },
  {
   "cell_type": "code",
   "execution_count": 19,
   "metadata": {},
   "outputs": [
    {
     "data": {
      "text/plain": [
       "title                       0\n",
       "puNumber                    1\n",
       "show_start_date             0\n",
       "type                        0\n",
       "film_studio                18\n",
       "production_country          2\n",
       "director                    9\n",
       "producer                  568\n",
       "age_restriction             0\n",
       "refundable_support       7154\n",
       "nonrefundable_support    7154\n",
       "budget                   7154\n",
       "financing_source         7154\n",
       "ratings                   996\n",
       "genres                    976\n",
       "box_office               4328\n",
       "dtype: int64"
      ]
     },
     "execution_count": 19,
     "metadata": {},
     "output_type": "execute_result"
    }
   ],
   "source": [
    "movies.isna().sum()"
   ]
  },
  {
   "cell_type": "code",
   "execution_count": 20,
   "metadata": {},
   "outputs": [
    {
     "data": {
      "text/plain": [
       "title                   0.00\n",
       "puNumber                0.00\n",
       "show_start_date         0.00\n",
       "type                    0.00\n",
       "film_studio             0.00\n",
       "production_country      0.00\n",
       "director                0.00\n",
       "producer                0.08\n",
       "age_restriction         0.00\n",
       "refundable_support      0.96\n",
       "nonrefundable_support   0.96\n",
       "budget                  0.96\n",
       "financing_source        0.96\n",
       "ratings                 0.13\n",
       "genres                  0.13\n",
       "box_office              0.58\n",
       "dtype: float64"
      ]
     },
     "execution_count": 20,
     "metadata": {},
     "output_type": "execute_result"
    }
   ],
   "source": [
    "movies.isna().mean()"
   ]
  },
  {
   "cell_type": "markdown",
   "metadata": {
    "id": "8MJD_lkngFyP"
   },
   "source": [
    "Доля пропусков в столбцах puNumber, film_studio, production_country, director меньше одного процента, поэтому дополнительная обработка этих пропусков не требуется.  \n",
    "Пропуски в столбцах producer, ratings, genres не представляется возможным, поэтому оставим их (можно получить информацию из внешних источников и дополнить таблицу, в случае необходимости).  \n",
    "В столбцах refundable_support, nonrefundable_support, budget, financing_source, box_office пропуски - это отсутствие финансовых данных о фильмах, эти пропуски заполнить не представляется возможным,."
   ]
  },
  {
   "cell_type": "markdown",
   "metadata": {
    "id": "4c6k1t9ygFyQ"
   },
   "source": [
    "### Обработка дубликатов"
   ]
  },
  {
   "cell_type": "markdown",
   "metadata": {},
   "source": [
    "Проверим датафрейм на наличие полных дубликатов"
   ]
  },
  {
   "cell_type": "code",
   "execution_count": 21,
   "metadata": {},
   "outputs": [
    {
     "data": {
      "text/plain": [
       "0"
      ]
     },
     "execution_count": 21,
     "metadata": {},
     "output_type": "execute_result"
    }
   ],
   "source": [
    "movies.duplicated().sum()"
   ]
  },
  {
   "cell_type": "markdown",
   "metadata": {},
   "source": [
    "Полные дубликаты в данных отстутствуют"
   ]
  },
  {
   "cell_type": "markdown",
   "metadata": {},
   "source": [
    "Произведем поиск дубликатов по номеру прокатного удостоверения и названию фильма."
   ]
  },
  {
   "cell_type": "code",
   "execution_count": 22,
   "metadata": {},
   "outputs": [
    {
     "data": {
      "text/plain": [
       "714"
      ]
     },
     "execution_count": 22,
     "metadata": {},
     "output_type": "execute_result"
    }
   ],
   "source": [
    "movies.duplicated(subset=['title']).sum()"
   ]
  },
  {
   "cell_type": "code",
   "execution_count": 23,
   "metadata": {},
   "outputs": [
    {
     "data": {
      "text/plain": [
       "2"
      ]
     },
     "execution_count": 23,
     "metadata": {},
     "output_type": "execute_result"
    }
   ],
   "source": [
    "movies.duplicated(subset=['puNumber']).sum()"
   ]
  },
  {
   "cell_type": "markdown",
   "metadata": {},
   "source": [
    "В данных присутствует 714 дубликатов с одинаковы названием и 2 дубликата с одинаковым прокатным удостоверением.  \n",
    "Скорее всего данные собирались с нескольких источников и при копировании часть данных задвоилась.\n",
    "Избавимся от этих дубликатов."
   ]
  },
  {
   "cell_type": "code",
   "execution_count": 24,
   "metadata": {},
   "outputs": [],
   "source": [
    "movies = movies.drop_duplicates('title')\n",
    "movies = movies.drop_duplicates('puNumber')"
   ]
  },
  {
   "cell_type": "markdown",
   "metadata": {
    "id": "52fOPrEBgFyQ"
   },
   "source": [
    "### Обработка категориальных признаков"
   ]
  },
  {
   "cell_type": "code",
   "execution_count": 25,
   "metadata": {},
   "outputs": [
    {
     "data": {
      "text/plain": [
       "array(['Открытый простор', 'Особо важное задание', 'Особо опасен', ...,\n",
       "       'Щенячий патруль: Скорей спешим на помощь!',\n",
       "       'Машины песенки. Серия \"Испанские мотивы\"',\n",
       "       'Машины песенки. Серия \"Когда цветут кактусы\"'], dtype=object)"
      ]
     },
     "execution_count": 25,
     "metadata": {},
     "output_type": "execute_result"
    }
   ],
   "source": [
    "movies['title'].unique()"
   ]
  },
  {
   "cell_type": "code",
   "execution_count": 26,
   "metadata": {
    "id": "PnXKIVdFgFyR"
   },
   "outputs": [
    {
     "data": {
      "text/plain": [
       "array(['Художественный', 'Анимационный', 'Прочие', 'Документальный',\n",
       "       'Научно-популярный', ' Художественный', ' Анимационный',\n",
       "       'Музыкально-развлекательный'], dtype=object)"
      ]
     },
     "execution_count": 26,
     "metadata": {},
     "output_type": "execute_result"
    }
   ],
   "source": [
    "movies['type'].unique()"
   ]
  },
  {
   "cell_type": "code",
   "execution_count": 27,
   "metadata": {
    "scrolled": true
   },
   "outputs": [
    {
     "data": {
      "text/html": [
       "<div>\n",
       "<style scoped>\n",
       "    .dataframe tbody tr th:only-of-type {\n",
       "        vertical-align: middle;\n",
       "    }\n",
       "\n",
       "    .dataframe tbody tr th {\n",
       "        vertical-align: top;\n",
       "    }\n",
       "\n",
       "    .dataframe thead th {\n",
       "        text-align: right;\n",
       "    }\n",
       "</style>\n",
       "<table border=\"1\" class=\"dataframe\">\n",
       "  <thead>\n",
       "    <tr style=\"text-align: right;\">\n",
       "      <th></th>\n",
       "      <th>title</th>\n",
       "      <th>puNumber</th>\n",
       "      <th>show_start_date</th>\n",
       "      <th>type</th>\n",
       "      <th>film_studio</th>\n",
       "      <th>production_country</th>\n",
       "      <th>director</th>\n",
       "      <th>producer</th>\n",
       "      <th>age_restriction</th>\n",
       "      <th>refundable_support</th>\n",
       "      <th>nonrefundable_support</th>\n",
       "      <th>budget</th>\n",
       "      <th>financing_source</th>\n",
       "      <th>ratings</th>\n",
       "      <th>genres</th>\n",
       "      <th>box_office</th>\n",
       "    </tr>\n",
       "  </thead>\n",
       "  <tbody>\n",
       "  </tbody>\n",
       "</table>\n",
       "</div>"
      ],
      "text/plain": [
       "Empty DataFrame\n",
       "Columns: [title, puNumber, show_start_date, type, film_studio, production_country, director, producer, age_restriction, refundable_support, nonrefundable_support, budget, financing_source, ratings, genres, box_office]\n",
       "Index: []"
      ]
     },
     "execution_count": 27,
     "metadata": {},
     "output_type": "execute_result"
    }
   ],
   "source": [
    "movies[movies.duplicated(subset=['puNumber'])]"
   ]
  },
  {
   "cell_type": "code",
   "execution_count": 28,
   "metadata": {},
   "outputs": [
    {
     "data": {
      "text/plain": [
       "0"
      ]
     },
     "execution_count": 28,
     "metadata": {},
     "output_type": "execute_result"
    }
   ],
   "source": [
    "movies.duplicated(subset=['title']).sum()"
   ]
  },
  {
   "cell_type": "markdown",
   "metadata": {},
   "source": [
    "В некоторых типах перед названием стоят пробелы. Избавимся от них."
   ]
  },
  {
   "cell_type": "code",
   "execution_count": 29,
   "metadata": {},
   "outputs": [],
   "source": [
    "movies['type'] = movies['type'].str.strip()"
   ]
  },
  {
   "cell_type": "code",
   "execution_count": 30,
   "metadata": {},
   "outputs": [
    {
     "data": {
      "text/plain": [
       "array(['Художественный', 'Анимационный', 'Прочие', 'Документальный',\n",
       "       'Научно-популярный', 'Музыкально-развлекательный'], dtype=object)"
      ]
     },
     "execution_count": 30,
     "metadata": {},
     "output_type": "execute_result"
    }
   ],
   "source": [
    "movies['type'].unique()"
   ]
  },
  {
   "cell_type": "code",
   "execution_count": 31,
   "metadata": {},
   "outputs": [
    {
     "data": {
      "text/plain": [
       "array(['США', 'СССР', 'Франция', 'СССР, Венгрия',\n",
       "       'Германия-Великобритания', 'Великобритания - Италия',\n",
       "       'Чехословакия', 'США - Франция - Турция', 'Новая Зеландия',\n",
       "       'Канада - Франция - Испания', 'США-Германия',\n",
       "       'США - Великобритания', 'Великобритания', 'США - Германия',\n",
       "       'Франция - Мексика - США', 'Россия, Казахстан, США',\n",
       "       'СССР, Швеция', 'СССР, Франция, Англия, Куба, ГДР', 'Германия',\n",
       "       'Великобритания-США-Германия-КНР',\n",
       "       'СССР, ЧССР, Западный Берлин, ПНР', 'СССР, Италия', 'Гонконг, КНР',\n",
       "       'США - Франция', 'США - Япония - Франция - Великобритания',\n",
       "       'Гонконг - Сингапур - Таиланд - Великобритания', 'США-Канада',\n",
       "       'Франция - Италия - Великобритания - США', 'Франция - США',\n",
       "       'Ирландия-Великобритания-Германия', 'Чехия', 'США-Австралия',\n",
       "       'СССР, Финляндия', 'США-Франция-Великобритания-Австрия',\n",
       "       'США - Бельгия', 'США - Ирландия - Великобритания',\n",
       "       'Великобритания - США',\n",
       "       'Люксембург - Нидерланды - Испания - Великобритания - США - Италия',\n",
       "       'Великобритания - Франция - США', 'Новая Зеландия - США',\n",
       "       'США - Великобритания - Чехия',\n",
       "       'Канада - Франция - Великобритания', 'Ирландия',\n",
       "       'Великобритания - Германия - США',\n",
       "       'США - Франция - Великобритания', 'Япония', 'СССР, Польша',\n",
       "       'Франция - Испания', 'Канада-Франция', 'Германия - Италия - США',\n",
       "       'Аргентина - Бразилия', 'Дания - Швейцария - Бельгия - Франция',\n",
       "       'США - Испания', 'Германия - США',\n",
       "       'Франция - Австрия - Германия - Италия - США', 'Австрия',\n",
       "       'США - Канада - Германия', 'США - Канада',\n",
       "       'СССР - Швейцария - Франция', 'Россия - Казахстан', 'Гонконг',\n",
       "       'Италия', 'США - ОАЭ', 'Россия',\n",
       "       'США - Франция - Испания - Великобритания',\n",
       "       'Великобритания - Франция', 'США-Италия-Испания-Аргентина',\n",
       "       'Франция-Великобритания', 'КНР - Гонконг',\n",
       "       'Франция - Италия - Швейцария', 'США - Новая Зеландия',\n",
       "       'Франция - Бельгия', 'КНР', 'Германия - Великобритания - Австрия',\n",
       "       'Великобритания - Израиль - Франция - Япония - США', 'Швеция',\n",
       "       'Испания', 'Дания', 'Франция - Бельгия - Люксембург',\n",
       "       'США - Индия - ОАЭ',\n",
       "       'Германия-Канада-Великобритания-Швейцария-Франция',\n",
       "       'Мексика - Чили', 'Аргентина', 'Бразилия', 'Чили', 'Австралия',\n",
       "       'Португалия - Франция', 'США - ЮАР', 'Исландия-Ирландия-Германия',\n",
       "       'США-Индонезия', 'Южная Корея', 'Мексика - Испания - Дания - США',\n",
       "       'Великобритания-США', 'Франция - Италия', 'США-Франция',\n",
       "       'США - Венгрия - Великобритания', 'Бельгия-Франция-Италия',\n",
       "       'Чехия - Германия', 'Германия - Франция', 'США-Нидерланды',\n",
       "       'Украина', 'Великобритания - Германия', 'Франция-Бельгия',\n",
       "       'США-Франция-Испания', 'Италия - Франция', 'Канада',\n",
       "       'Швеция-Франция-Дания', 'Германия-Франция-Польша',\n",
       "       'Франция-Великобритания - Германия',\n",
       "       'США - Бразилия - Франция - Австралия - Великобритания - Германия',\n",
       "       'Германия-Австрия', 'Германия-Италия- Шри-Ланка',\n",
       "       'Великобритания - Испания',\n",
       "       'США - Великобритания - Канада - Швеция',\n",
       "       'Босния и Герцеговина - Франция - Великобритания - Германия - Словения - Бельгия - Сербия',\n",
       "       'Великобритания - Франция - Италия - США', 'США-ОАЭ',\n",
       "       'Испания - Франция', 'США-Великобритания', 'США-ЮАР',\n",
       "       'Великобритания-Австралия - США',\n",
       "       'Норвегия - Швеция - Дания - Германия', 'Норвегия', 'Швейцария',\n",
       "       'Греция - Германия - Франция', 'Норвения', 'Южная Корея - США',\n",
       "       'Чили - Франция - США', 'Австрия - Германия - Франция',\n",
       "       'Швеция - Дания', 'Великобритания - Франция - Бельгия - Италия',\n",
       "       'Франция - Германия', 'Грузия - Франция - Люксембург',\n",
       "       'США - Франция - Великобритания - Бразилия ', 'США - КНР',\n",
       "       'Мексика - Франция', 'США - Германия - Гонконг - Сингапур',\n",
       "       'Финляндия - Австрия - Россия', 'Испания - Куба',\n",
       "       'Великобритания - ЮАР', 'Великобритания - Ирландия', 'Израиль',\n",
       "       'Бразилия - Германия - Порртугалия - Франция ',\n",
       "       'Франция - Канада - Бельгия', 'Франция-Испания',\n",
       "       'Испания - Канада - Япония', 'Иран', 'Швеция-Куба',\n",
       "       'США-Великобритания-Ирландия', 'Гонконг - КНР', 'Нидерланды',\n",
       "       'Испания - Канада', 'Япония-Великобритания',\n",
       "       'Великобритания - Норвегия - Дания - Германия',\n",
       "       'Финляндия - Франция - Германия',\n",
       "       'Мексика - Франция - Нидерланды - Германия', 'США - Индия',\n",
       "       'США-Великобритания-Индия', 'США-Канада-Бельгия',\n",
       "       'Республика Узбекистан', 'Италия ', 'Турция',\n",
       "       'Сербия - Словения - Хорватия - Черногория - Македония',\n",
       "       'Киргизия', 'Германия - Нидерланды - Беларусь - Россия - Латвия',\n",
       "       'Индия', 'Нидерланды - Россия - Германия',\n",
       "       'Великобритания - Нидерланды - Франция - Хорватия',\n",
       "       'Канада - Южная Корея',\n",
       "       'Великобритания - Польша - КНР - Индия - Норвегия',\n",
       "       'Япония - Франция - США - Южная Корея - Турция',\n",
       "       'Мексика - Аргентина - Великобритания', 'Израиль - Франция',\n",
       "       'Польша - Португалия - Франция - Великобритания',\n",
       "       'Австралия - США', 'США - Великобритания ',\n",
       "       'Франция - Люксембург - Бельгия', 'Армения',\n",
       "       'Бельгия - Люксембург - Франция - Швейцария',\n",
       "       'США - Великобритания - Канада', 'Норвегия - Швеция',\n",
       "       'Канада - Франция', 'КНР - Гонконг - США',\n",
       "       'США - Сингапур - Малайзия - Индонезия', 'Германия - Россия',\n",
       "       'Япония - Канада', 'Финляндия - Дания - Германия - Ирландия',\n",
       "       'Франция - Люксембург - Германия - Бельгия - Швейцария - Великобритания ',\n",
       "       'Канада - США', 'США-Италия-Испания', 'США-Испания',\n",
       "       'США - Швейцария - Франция', 'Испания - США - Колумбия',\n",
       "       'Канада-ЮАР', 'Франция - Россия',\n",
       "       'Германия - Финляндия - Австралия', 'Дания - Швеция', 'Бельгия',\n",
       "       'Германия - Франция - Австрия', 'Франция-Индия', 'ЮАР',\n",
       "       'Франция-Перу', 'Франция - Канада', 'Республика Беларусь',\n",
       "       'Великобритания - Австрия - Франция - США',\n",
       "       'Австрия-Германия-Франция', 'США-Россия', 'Германия-США',\n",
       "       'США - Южная Корея', 'Канада - КНР',\n",
       "       'Дания - Швеция - Италия - Франция - Германия',\n",
       "       'Франция-Италия-Испания-Венгрия', 'Франция - Германия - Бельгия',\n",
       "       'Франция-Великобритания-Чехия', 'Румыния - Франция - Бельгия',\n",
       "       'Болгария - Франция - Изриль',\n",
       "       'Израиль - Германия - Польша - Бельгия - Франция - Люксембург',\n",
       "       'Россия, Германия, Франция, Бельгия', 'Индонезия',\n",
       "       'Франция - Португалия', 'Великобритания - Пуэрто-Рико',\n",
       "       'СССР, ФРГ, Западный Берлин', 'Россия, Республика Беларусь',\n",
       "       'США, Великобритания', 'Франция - Австрия', 'Бельгия-Нидерланды',\n",
       "       'Великобритания - США - Индия', 'США - Великобритания - Австралия',\n",
       "       'Канада - Франция - США - ОАЭ - Великобритания',\n",
       "       'США - Австралия - Франция',\n",
       "       'Дания-Франция-Бельгия-Германия-Великобритания',\n",
       "       'Испания - Аргентина', 'Исландия - Финляндия',\n",
       "       'Россия-Польша-Голландия-Словакия', 'Дания - Германия - Швеция',\n",
       "       'Южная Корея - США - Канада', 'Таиланд', 'США-Мальта',\n",
       "       'США -Германия',\n",
       "       'Великобритания - Германия - Франция - Кипр - США', 'Мексика',\n",
       "       'США - Великобритания - Ирландия', 'США - Украина',\n",
       "       'США - Финляндия - Испания - Великобритания - Франция',\n",
       "       'Австралия-Великобритания',\n",
       "       'США - Канада - Афганистан - Бельгия - Франция',\n",
       "       'США - Великобритания - Германия - Новая Зеландия - Бельгия - Франция',\n",
       "       'Франция-Канада',\n",
       "       'Ирландия - Финляндия - Бельгия - Великобритания - США - Швейцария',\n",
       "       'Малайзия - США', 'Германия - Италия',\n",
       "       'США - Франция - Бельгия - Италия', 'Франция - Ирландия - Швеция',\n",
       "       'Азербайджан-Россия', 'Великобритания - Италия - Швейцария',\n",
       "       'США - Германия - Великобритания',\n",
       "       'Германия - Бельгия - США -Франция', 'США-Китай', 'Чили - Испания',\n",
       "       'Франция - Швейцария', 'Канада - Испания',\n",
       "       'США - Румыния - Великобритания', 'США - Япония',\n",
       "       'США - Россия - Франция', 'Франция-США', 'Парагвай',\n",
       "       'Германия - Канада', 'США - Канада - Великобритания',\n",
       "       'Финляндия - Канада', 'Уругвай-Мексика-Германия ', 'США - Чили',\n",
       "       'Германия - Аргентина - Нидерланды - Чили',\n",
       "       'США - Канада - Индонезия', 'Армения - Казахстан', 'Финляндия',\n",
       "       'Испания - Италия - Франция',\n",
       "       'Бельгия - Испания - Канада - Нидерланды',\n",
       "       'Великобритания - Франция - Швеция - Бельгия',\n",
       "       'Мексика - Эквадор - Канада - США - Франция - Малайзия - Италия - Аргентина - Германия - Индия  ',\n",
       "       'Франция - Бенльгия', 'Индия - Великобритания',\n",
       "       'Япония - Великобритания - Франция',\n",
       "       'Испания - Уругвай - Аргентина',\n",
       "       'Франция - Италия - Бельгия - Люксембург',\n",
       "       'Франция - Украина - Грузия - Армения',\n",
       "       'Сербия - Германия - Венгрия', 'Франция-Польша', 'Франция ',\n",
       "       'Румыния-США', 'Россия-Азербайджан',\n",
       "       'США - Нидерланды - Бельгия - Венгрия - Греция - Канада',\n",
       "       'Германия - Франция - Люксембург', 'США - Россия',\n",
       "       'Великобритания - США - Франция', 'США - Австралия - Дания',\n",
       "       'Бельгия-Франция', 'США-Мексика',\n",
       "       'Норвегия - Азербайджан - Россия - Колумбия - Великобритания - Венгрия - Румыния - Франция - Грузия',\n",
       "       'СЩА', 'Бразилия - Испания', 'Россия, Франция, Латвия',\n",
       "       'Нидерланды - США - Германия - Канада - Франция - Ирландия - Великобритания',\n",
       "       'Уругвай - Колумбия', 'США - Испания - Болгария',\n",
       "       'Армения - Германия', 'США - Великобритания- Франция - Швеция',\n",
       "       'США - Мексика', 'Австралия-Турция-США', 'Швеция - Германия',\n",
       "       'Польша - Италия - Россия', 'Франция - Бразилия',\n",
       "       'США - Канада - КНР', 'СССР, Венгрия, ЧССР, ГДР',\n",
       "       'Бельгия - Германия - Люксембург', 'СССР  ', 'СССР ', ' СССР ',\n",
       "       'США - Австралия', 'Бразилия - США',\n",
       "       'США - Великобритания - Канада - КНР', 'Франция - Чили',\n",
       "       'Франция - США - Великобритания - Колумбия - Бельгия - Россия',\n",
       "       'Дания - Великобритания - ЮАР', 'СССР   ',\n",
       "       'Россия-США-Канада-Люксембург', 'Россия - Республика Кипр',\n",
       "       'Германия - США - Швеция - Франция',\n",
       "       'Великобритания-Германия-Канада-ЮАР', ' СССР   ', 'СССР     ',\n",
       "       'Ирландия, Канада',\n",
       "       'Япония - Великобритания - Швейцария - Ирландия - Дания - Франция - Польша - Австралия - Канада  ',\n",
       "       'Великобритания, Канада', 'Бельгия - США',\n",
       "       'Великобритания - США - Россия', 'Россия-Украина',\n",
       "       'Германия - США - Великобритания - Израиль', 'Канада - Германия',\n",
       "       'США- Ю.Корея', 'Индия - Мексика',\n",
       "       'Великобритания - Франция - Республика Кипр - Швейцария - США - Сербия',\n",
       "       'Испания - Аргентина - Индия - США',\n",
       "       'Норвегия - Исландия - США - Великобритания ',\n",
       "       'Турция - Германя - Франция', 'Германия - Великобритания',\n",
       "       'Австралия - Германия', 'Мексика - Испания',\n",
       "       'Великобритания - США - Германия - Бельгия',\n",
       "       'США - Чехия - Франция', 'Россия - Италия', 'Франция-Россия',\n",
       "       'Норвегия - Дания - Швеция', 'Франция - Швейцария - Германия',\n",
       "       'Грузия - Украина', 'Россия - Эстония - Финляндия - Беларусь',\n",
       "       'США - Франция - ЮАР', 'Великобритания - США - Швейцария',\n",
       "       'Канада-США', 'Мексика - Нидерланды - Германия - Франция',\n",
       "       'США - Испания - Франция', 'США - Великобритания - КНР',\n",
       "       'США-Франция-Канада',\n",
       "       'Япония, Великобритания, Австрия, Германия, Ю.Корея',\n",
       "       'Великобритания - Ирландия - США', 'Бельгия - Италия - Франция ',\n",
       "       'Швейцария-Германия-ЮАР', 'Великобритания - США - Германия',\n",
       "       'Германия - Исландия', 'Испания - США', 'СССР    ', 'Хорватия',\n",
       "       'Финляндия - Исландия - Швеция',\n",
       "       'Канада - США - Германия - Франция',\n",
       "       'США - Великобритания - Испания', 'Ирландия-Великобритания',\n",
       "       'Аргентина - Испания', 'Австрия - Германия', ' СССР',\n",
       "       'Германия - Швейцария - Франция - Южная Корея - США',\n",
       "       'Украина - Нидерланды', 'Венгрия - Германия - Швеция',\n",
       "       'Германия - Франция -  Польша - Турция - Канада - Италия - Россия ',\n",
       "       'СССР, Афганистан', 'СССР, Монголия', 'Россия-Кипр',\n",
       "       'Россия, Грузия, Испания',\n",
       "       'Великобритания - Нидерланды - Германия - Франция - Бельгия - Австрия ',\n",
       "       'Испания - Великобритания - Франция',\n",
       "       'Дания - Норвегия - Великобритания',\n",
       "       'Бельгия - Франция - Люксембург',\n",
       "       'Италия - Франция - Швейцария - Великобритания',\n",
       "       'Франция - Бельгия - Великобритания - Испания - Германия - США',\n",
       "       'Швейцария - Израиль - Франция - Великобритания',\n",
       "       'Великобритания - США - Канада - Нидерланды - Франция',\n",
       "       'Россия, Италия', 'СССР, Албания',\n",
       "       'Россия, Украина, Республика Беларусь, Литва',\n",
       "       'Финляндия - Великобритания - Германия', 'Россия, Украина, Польша',\n",
       "       'Франция - Италия - Бельгия - КНР',\n",
       "       'Германия - Бельгия - Люксембург - Ирландия', 'КНР - Сингапур',\n",
       "       'Франция - Бельгия - Великобритания - США - Нидерланды - Канада',\n",
       "       'США - Россия - Польша - Германия - Пуэрто Рико',\n",
       "       'Франция - Бельгия - Канада', 'США ', 'Мексика - США',\n",
       "       'США - Гонконг - КНР ', 'Греция - Россия',\n",
       "       'Ирландия - Дания - Бельгия - Люксембург - Франция',\n",
       "       'Эстония - Россия',\n",
       "       'Великобритания - Исландия - Испания - Швейцария - США',\n",
       "       'Австралия - Великобритания - Бельгия - Индия',\n",
       "       'Швеция - Германия - Франция - Норвегия',\n",
       "       'Нидерланды - Бельгия - Германия - Ирландия',\n",
       "       'Нидерланды - Великобритания - Бельгия',\n",
       "       'США - Колумбия - Испания', 'Франция-Испания-Бельгия-Панама',\n",
       "       'США-Великобритания-Чехия-Румыния',\n",
       "       'Аргентина - Уругвай - Россия - Германия - Франция - Нидерланды',\n",
       "       'Швеция - Франция - Норвегия - Дания',\n",
       "       'Италия-Франция-Великобритания', 'Великобритания, Франция',\n",
       "       'Австралия, США', 'Венесуэла',\n",
       "       'Великобритания - США - Австралия - Ирландия - Германия - Куба - Канада',\n",
       "       'Южная Корея - КНР',\n",
       "       'Аргентина - Мексика - Бразилия - Франция - США', 'Швеция - США',\n",
       "       'Франция - Германия - Турция - Катар', 'Франция-Китай',\n",
       "       'Россия, Германия, Великобритания',\n",
       "       'Великобритания - Италия - Испания', 'Италия - Россия',\n",
       "       'Япония - КНР - Южная Корея', 'Россия, Германия',\n",
       "       'Россия-Ирландия', 'Македония - Франция - Великобритания',\n",
       "       'Франция - Бразилия - Италия', 'Россия-США', 'Армения-Россия',\n",
       "       'Россия, Румыния', 'Франция -  Бельгия', 'Грузия-Франция',\n",
       "       'ЮАР - США', 'Великобритания-США-Франция',\n",
       "       'Великобритания - США - Германия - Канада - Австралия',\n",
       "       'США-Ирландия', 'Россия, Республика Кипр',\n",
       "       'Германия - Люксембург - Франция', 'Россия-Франция',\n",
       "       'США - Нидерланды - Финляндия - Великобритания - Италия',\n",
       "       'Республика Кипр', 'Венгрия', 'Франция - США - Норвегия - Дания',\n",
       "       'Германия - Австрия - Ирландия', 'США - Финляндия',\n",
       "       'Италия-Великобритания', 'Россия, Испания',\n",
       "       'США - Великобритания - Болгария', 'Великобритания - Люксембург',\n",
       "       'Индия - США', 'США - Канада - Россия - Франция - Чили - Ирландия',\n",
       "       'Грузия-Россия',\n",
       "       'Дания - Австрия - Ирландия - Финляндия - Норвегия - Швеция - Нидерланды',\n",
       "       'США-КНР', 'Грузия', 'Австралия - Ирландия',\n",
       "       'Великобритания - Канада', 'Италия - Аргентина - Словения ',\n",
       "       'Испания - Франция - Нидерланды - Германия - Бельгия - Великобритания - Канада',\n",
       "       'Франция - Чехия - Бельгия',\n",
       "       'Великобритания - Франция - Германия - США',\n",
       "       'Ирландия - Великобритания - Франция - США - Германия - Нидерланды',\n",
       "       'США - Канада - Япония - КНР', 'Италия-Франция',\n",
       "       'США - Великобритания - Исландия', 'Великобритания-Франция',\n",
       "       'Франция - Германия - Нидерланды', 'Иран ',\n",
       "       'Франция - Германия - Швеция - США - Чехия - Словакия - Великобритания - Нидерланды',\n",
       "       'Франция - Канада - Н.Зеландия - США - Нидерланды - Германия - Швеция - Россия',\n",
       "       'Турция - США',\n",
       "       'Великобритания - США - Канада - Бельгия - Нидерланды - Австрия - Германия',\n",
       "       'Израиль - Франция - Германия - Палестина - США - Австрия - Великобритания',\n",
       "       'Аргентина - Франция - Испания', 'СССР, Россия',\n",
       "       'Великобритания - Франция - Италия - Индия - Дания - КНР - Бангладеш - Камбоджа - Гаити - Уганда',\n",
       "       'Италия - Франция - Швейцария',\n",
       "       'Ирландия - Великобритания - Канада', 'Перу', 'США - Норвегия',\n",
       "       'Испания-Канада', 'Китай-Гонконг', 'США - Германия - КНР',\n",
       "       'Великобритания - Новая Зеландия',\n",
       "       'Франция - Дания - Швеция - КНР',\n",
       "       'США - Великобритания - Германия - Бельгия - Дания',\n",
       "       'США - Франция - Канада - Германия - Австралия - Индия', nan,\n",
       "       'СССР, Румыния, Франция', 'СССР, ГДР', 'Австралия-Ирландия',\n",
       "       'США - Китай', 'Великобритания - Франция - Австрия - Швеция',\n",
       "       'Россия, Таджикистан', 'Нидерланды - Бельгия - Болгария',\n",
       "       'Великобритания - Канада - США', 'Франция - Бельгия - Испания',\n",
       "       'Китай-Гонконг-США', 'Франция - Великобритания', 'США - Вьетнам',\n",
       "       'США - Германия - Франция', 'Германия - Франция - Бельгия',\n",
       "       'США - Италия',\n",
       "       'Германия - Дания - Испания - Швеция - Канада - Эстония - Франция',\n",
       "       'Княжество Андорра - Украина', 'Германия - Люксембург - Бельгия',\n",
       "       'Великобритания - Россия - Украина - США',\n",
       "       'Германия - Бельгия - Люксембург - Норвегия',\n",
       "       'США - Австралия - Новая Зеландия - Великобритания',\n",
       "       'США - Франция - Канада - Великобритания', 'Испания-Колумбия',\n",
       "       'Великобритания - Чехия - Франция', 'Россия, Украина', 'Исландия',\n",
       "       'Великобритания - Франция - Венгрия',\n",
       "       'Россия, Франция, Германия, Бельгия', 'Франция - Македония',\n",
       "       'Нидерланды - Франция - Германия - Бельгия - Швеция - Великобритания',\n",
       "       'Испания - США - Великобритания - Канада', 'Германия - Австрия',\n",
       "       'Республика Казахстан',\n",
       "       'Франция - Испания - Дания - Венгрия - Швейцария', 'Франция-КНР',\n",
       "       'США - Пуэрто-Рико - Франция ', 'Мексика - Тайвань - США',\n",
       "       'Великобритания - Испания - Непал - Индия - Венгрия - Гонконг - Германия - Дания - Бахрейн',\n",
       "       'Великобритания - Аргентина - США - Франция - Россия - Испания',\n",
       "       'КНР - США', 'Италия - США', 'Финляндия - Швеция - Германия',\n",
       "       'Канада- Испания', 'Франция - Бельгия - Чехия',\n",
       "       'Франция-Бельгия-Канада', 'Франция - Германия - США',\n",
       "       'США - Дания', 'Индия - КНР', 'Чехия-Великобритания-США',\n",
       "       'США-ФРГ-Россия', 'Ирландия-Нидерланды-Франция-США-Великобритания',\n",
       "       'Россия, Грузия, Хорватия, Испания',\n",
       "       'Финляндия - Швеция - Норвегия', 'Сербия - Великобритания - США',\n",
       "       'США - Великобритания - Франция - Гонконг', 'Швейцария - Франция',\n",
       "       'Швейцария - Великобритания', 'ОАЭ - США',\n",
       "       'США - Франция - Германия - Канада - Австралия ',\n",
       "       'Германия - Австралия', 'Иран, Франция',\n",
       "       'США - Великобритания - Новая Зеландия', 'США-Колумбия',\n",
       "       'США-Франция-Ирландия', 'Великобритания - Франция - Бельгия',\n",
       "       'США - Великобритания - Япония', 'США - Франция - Германия',\n",
       "       'Польша - Ирландия', 'Ирландия - Великобритания - Франция - США',\n",
       "       'США - Бельгия - Великобритания', 'СССР, ВНР',\n",
       "       'Испания - Франция - США - Великобритания - Бельгия',\n",
       "       'Франция - Дания - США', 'США - Гонконг', 'Бразилия - К;анада',\n",
       "       'Франция-Германия', 'США - Колумбия',\n",
       "       'США - Ирландия - Великобритания - Франция',\n",
       "       'Великобритания - США - Канада', 'Польша - Франция',\n",
       "       'Канада - США - Нидерланды - Великобритания - Аргентина',\n",
       "       'Великобритания - Дания', 'Франция - Бельгия - Япония',\n",
       "       'Россия,  Испания', 'Франция -Бельгия',\n",
       "       'США - Канада - Германия - Франция', 'США-Канада-Франция',\n",
       "       'Россия - Германия', 'Россия-Италия', 'Китай - Гонконг',\n",
       "       'Германия-Австрия-Франция-Италия', 'США-Япония',\n",
       "       'США - Германия - Канада', 'Испания-Мексика',\n",
       "       'США - Япония - Канада - Великобритания - Германия - Франция',\n",
       "       'США -Великобритания - Австралия', 'Россия-Украина-Германия',\n",
       "       'Израиль - Франция - Великобритания - Германия', 'Корея',\n",
       "       'Россия - Болгария', 'США-Индия',\n",
       "       'Германия-Канада-Франция-Бельгия', 'Германия-Кения',\n",
       "       'Франция - Монако', 'Франция-Испания-Швейцария',\n",
       "       'Австрия-Франция-Германия', 'Румыния',\n",
       "       'США-Великобритания-Франция', 'Канада-Великобритания',\n",
       "       'Канада-Бразилия-Япония', 'Германия - Дания - Норвегия',\n",
       "       'Дания - Германия', 'СССР - Италия',\n",
       "       'СССР - ГДР - Польша - Италия',\n",
       "       'США - Испания - Франция - Великобритания', 'Китай',\n",
       "       'Мексика-Аргентина',\n",
       "       'Германия - Великобритания - Италия - Испания',\n",
       "       'Франция-Германия-Великобритания', 'Россия - Германия - Швейцария',\n",
       "       'Франция-Австралия', 'Голландия', 'Швейцария-Франция',\n",
       "       'Россия-Белоруссия', 'Франция - Испания - Тайвань',\n",
       "       'США-Южная Корея-Новая Зеландия', 'Великобритания-Венгрия',\n",
       "       'Россия-Германия', 'Великобритания-Франция-Германия',\n",
       "       'Франция-Германия-Италия', 'Швеция-Финляндия-Франция-Норвегия',\n",
       "       'Франция-Италия', 'Германия-Израиль',\n",
       "       'Швеция - Германия - Дания - Норвегия', 'США-Бельгия',\n",
       "       'Франция-Гонконг-Ирландия', 'Эстония', 'Литва-Россия-Украина',\n",
       "       'Германия - Италия - Франция',\n",
       "       'Великобритания - Австрия - Германия', 'Бельгия - Франция',\n",
       "       'Россия-Казахстан', 'Испания - Мальта',\n",
       "       'Франция-Россия-Румыния-Италия-Бельгия', 'Россия - Польша',\n",
       "       'Испания - Мексика', 'США-Аргентина', 'Великобритания ',\n",
       "       'Израиль-США-Франция', 'США - Новая Зеландия - Япония',\n",
       "       'Франция - Чехия - Великобритания', 'Россия-Польша',\n",
       "       'Германия-Франция-Великобритания', 'США-Германия-Канада',\n",
       "       'США-Гонконг-Китай', 'США - Великобритания - Германия',\n",
       "       'США-Канада-Австралия', 'Япония-США-Франция',\n",
       "       'Франция-Испания-Германия', 'США - Хорватия - Босния-Герцеговина',\n",
       "       'Великобритания - Чехия - Франция - Италия',\n",
       "       'США - Германия - Нидерланды', 'Германия - Франция - Канада',\n",
       "       'Франция-Грузия-Германия-Россия-Украина-Бельгия',\n",
       "       'Великобритания - Франция - Италия', 'Россия - США',\n",
       "       'Франция - Италия - Иран', 'Россия - Азербайджан', 'Греция',\n",
       "       'Дания - США', 'США-Великобритания-Новая Зеландия',\n",
       "       'США-Германия-Австралия', 'США-Канада-Италия',\n",
       "       'США - Япония - Германия', 'Австралия-США',\n",
       "       'Франция - Великобритания - Багамские острова - США',\n",
       "       'Швейцария - Люксембург', 'Швейцария - Австрия',\n",
       "       'Германия - Швейцария', 'Дания-Швеция-Франция-Германия', 'Польша',\n",
       "       'Швейцария-Австрия', 'Бразилия - Канада - США',\n",
       "       'Нидерланды - Россия', 'Португалия', 'Франция-Аргентина',\n",
       "       'Швеция-Франция', 'Франция-Украина', 'Германия-Украина-Нидерланды',\n",
       "       'Италия-Швейцария', 'США-Германия-Великобритания',\n",
       "       'Латвия - Россия', 'Германия-Франция-Великобритания-США',\n",
       "       'Канада - Италия', 'США - Объединенные Арабские Эмираты',\n",
       "       'США-Венгрия', 'Малайзия', 'Россия - Германия - Украина',\n",
       "       'США - Австралия - Мексика', 'Литва - Венгрия', 'Германия - Китай',\n",
       "       'Казахстан', 'Республика Корея',\n",
       "       'США - Германия - Франция - Великобритания - Канада ',\n",
       "       'Бельгия - Германия - Люксембург - Франция', 'Франция - Греция',\n",
       "       'Италия - Канада', 'США - Великобритания - Франция',\n",
       "       'США-Италия-Греция', 'Германия - США - Великобритания - Ирландия',\n",
       "       'Великобритания - Франция - Германия',\n",
       "       'Германия - Нидерланды - ЮАР',\n",
       "       'США-Япония-Германия-Великобритания-Нидерланды',\n",
       "       'США-Япония-Германия-Великобритания',\n",
       "       'Германия - Франция - Польша',\n",
       "       'Таиланд-Великобритания-Франция-Германия-Испания-Нидерланды',\n",
       "       'Германия-Италия-Швейцария',\n",
       "       'Дания - Швеция - Великобритания - Франция - Германия - Нидерланды - Норвегия - Финляндия',\n",
       "       'Франция - Великобритания - Нидерланды - Люксембург',\n",
       "       'Нидерланды-Великобритания-Франция-Италия-Япония',\n",
       "       'Финляндия-Дания-Германия-Ирландия', 'Испания-Аргентина',\n",
       "       'Великобритания - Нидерланды - Франция - США', 'Канада - Мексика',\n",
       "       'США, Франция', 'Канада-Южная Корея-США',\n",
       "       'Великобритания - Франция - Бельгия - США', 'КНР - Канада - США',\n",
       "       'Италия - Франция - Германия',\n",
       "       'Швеция - Германия - Франция - Дания', 'Франция - США - Бельгия',\n",
       "       'Украина - Германия - Латвия - Эстония', 'Австрия - Люксембург',\n",
       "       'Великобритания - КНР', 'Монголия', 'Франция - Дания',\n",
       "       'Швеция - Дания - Финляндия',\n",
       "       'Сингапур - Великобритания - Индонезия - Канада - США',\n",
       "       'США - Германия - Япония', 'Таиланд - США', 'Франция - Нидерланды',\n",
       "       'Великобритания - Румыния', 'США - Мальта',\n",
       "       'Великобритания - Германия - Нидерланды - Дания',\n",
       "       'Франция - Германия - Литва - Нидерланды - Россия',\n",
       "       'США - ЮАР - Гонконг', 'Австралия - Колумбия',\n",
       "       'Великобритания - Польша', 'США - Великобритания - Швеция',\n",
       "       'Франция - Швеция - Дания - Норвегия', 'Болгария - США',\n",
       "       'СССР, ФРГ', 'Бельгия - Нидерланды - Франция',\n",
       "       'Финляндия - Германия', 'Болгария',\n",
       "       'Грузия - Россия - Украина - Хорватия - Германия',\n",
       "       'Франция - Люксембург', 'Франция - Германия - Австрия',\n",
       "       'Норвегия - США', 'Германия-Швеция', 'Франция - Германия - Италия',\n",
       "       'Франция-Германия-Австрия', 'КНР-США',\n",
       "       'Великобритания - Ирландия - США ',\n",
       "       'Дания - Латвия - Россия - США', 'Финляндия - Польша',\n",
       "       'Германия - Бельгия', 'Германия - США - Франция - Испания',\n",
       "       'Нидерланды - Бельгия - Люксембург', 'Канада-Германия',\n",
       "       'Люксембург - Бельгия - Франция', 'США-Великобритания-Австралия',\n",
       "       'Великобритания, Новая Зеландия', 'Бельгия, Великобритания, США',\n",
       "       'Великобритания, Австралия', 'Исландия, Бельгия',\n",
       "       'Испания - Швейцария - Великобритания - Германия - Новая Зеландия - Нидерланды - Канада',\n",
       "       'Франция, Бельгия', 'Великобритания, США', 'Киргизия-Россия',\n",
       "       'Германия, США', 'Великобритания, США, Испания',\n",
       "       'Италия - Швейцария - Германия', 'Россия, Армения',\n",
       "       'Франция, Германия', 'Китай, Канада, США', 'Германия, Австралия',\n",
       "       'КНР, США', 'США, Великобритания, Люксембург',\n",
       "       'Испания, Ирландия, Бельгия, Франция',\n",
       "       'Великобритания - Гонконг - Венгрия - США - Ирландия',\n",
       "       'США - Пуэрто Рико', 'Аргентина - Испания - Уругвай',\n",
       "       'Израиль - Германия - Франция - Швейцария',\n",
       "       'Великобритания - Мексика - США', 'Испания - Болгария - США',\n",
       "       'Россия-Словакия-Чехия',\n",
       "       'Швейцария - КНР - США - Россия - Республика Корея - Великобритания',\n",
       "       'Россия, Нидерланды, Финляндия',\n",
       "       'Испания - Бельгия - Франция - Португалия - Великобритания',\n",
       "       'Бразилия - Португалия - Франция', 'Швеция - Норвегия',\n",
       "       'Франция - Польша - Бельгия', 'CША', 'Китай, США',\n",
       "       'Италия, Франция, Германия', 'Германия - Австрия - Франция',\n",
       "       'Чехия - Словакия - Хорватия', 'Россия, Польша, Финляндия',\n",
       "       'Россия, Латвия, Чешская Республика',\n",
       "       'Франция - Великобритания - Камбоджа - США - КНР',\n",
       "       'Чехия - Испания - США', 'Германия - Люксембург - Дания',\n",
       "       'Великобритания - Испания - Германия', 'Дания - Исландия',\n",
       "       'Великобритания - Испания - Италия - Латвия - Франция - Эстония',\n",
       "       'Польша - Франция - Великобритания',\n",
       "       'Дания, Норвегия, Венгрия, Чехия',\n",
       "       'Дания - Франция - Германия - Швеция',\n",
       "       'Великобритания, Швеция, США',\n",
       "       'Канада, Франция, Италия, Швейцария, США', 'США, Индия',\n",
       "       'США - Великобритания - Германия - - Швеция - Канада',\n",
       "       'Италия, Франция', 'Республика Беларусь, Германия, США, Россия',\n",
       "       'Италия-Швейцария-Франция-Германия ',\n",
       "       'Россия - Франция - Великобритания - Латвия', 'Россия-Беларусь',\n",
       "       'Франция - Испания - Румыния - США - Бельгия', 'Италия-США',\n",
       "       'Россия, Австрия', 'Ирландия - Великобритания - США',\n",
       "       'Швейцария, Великобритания, Франция, США, Ирландия',\n",
       "       'Мексика, Франция, Германия, Дания, Швеция', 'Нидерланды, Бельгия',\n",
       "       'Швеция, Норвегия, Финляндия, Франция', 'Испания, Франция, Италия',\n",
       "       'Испания-Франция-Греция-Индия-США-Россия-Великобритания',\n",
       "       'Великобритания - Япония - США',\n",
       "       'Дания, Канада, Норвегия, Австралия, США', 'Аргентина, Испания',\n",
       "       'Россия, Германия, Казахстан, Польша, Китай',\n",
       "       'Португалия, Франция, Польша, США', 'США - Канада - Аргентина',\n",
       "       'Ливан-США', 'Япония - США', 'США, Гонконг ', 'Аргентина-Испания',\n",
       "       'Россия, Сербия', 'США - Болгария - Мексика',\n",
       "       'США - Великобритания - Швейцария - Франция',\n",
       "       'Таиланд - КНР - США',\n",
       "       'Великобритания, Нидерланды, Польша, Швейцария, Франция',\n",
       "       'Ирландия - США',\n",
       "       'Германия - Франция - Великобритания - Польша - США',\n",
       "       'США - Австралия - Индия', 'Франция - КНР',\n",
       "       'Великобритания - Израиль',\n",
       "       'Великобритания - Норвегия - Кения - Хорватия',\n",
       "       'США - Бразилия - Великобритания - Канада', 'Германия, Бельгия',\n",
       "       'Австралия, Канада', 'США, Великобритания, Франция',\n",
       "       'Кения, Германия', 'Нидерланды, Бельгия, Люксембург', 'Колумбия',\n",
       "       'Латвия - Франция', 'Ирландия, Великобритания',\n",
       "       'Франция - Израиль - Германия', 'Швеция, Франция, Великобритания',\n",
       "       'Бельгия - Люксембург', 'Германия - Бельгия - Великобритания',\n",
       "       'Испания, Франция, Великобритания, Дания, Бельгия, Германия',\n",
       "       'Румыния, ЮАР, Иран, Франция, Канада, Великобритания',\n",
       "       'Германия, Франция', 'США, Япония',\n",
       "       'США, Великобритания, Ирландия, Люксембург', 'Республика Армения',\n",
       "       'США, Франция, Япония', 'Япония, США', 'Канада, США',\n",
       "       'Республика Кипр - Россия',\n",
       "       'Дания - Франция - Италия - Бельгия - Нидерланды',\n",
       "       'Россия - Грузия', 'Италия, Германия', 'Норвегия, Швеция, Дания',\n",
       "       'Республика Кипр, Россия', 'КНР, Индия, Гонконг, США',\n",
       "       'Израиль, Украина', 'США, Россия', 'США - КНР - Индия - Ю.Корея',\n",
       "       'США - Швеция', 'Россия-Китай', 'Канада, Великобритания',\n",
       "       'Канада, США, Каймановы острова',\n",
       "       'Бразилия, Уругвай, Дания, Норвегия, Чили, Швеция',\n",
       "       'Пуэрто-Рико, Великобритания, США',\n",
       "       'Уругвай - Аргентина - Испания',\n",
       "       'США - Великобритания - Италия - Израиль - Сербия - Индия',\n",
       "       'США - Канада - Франция - Индия', 'Великобритания - Россия - КНР',\n",
       "       'Франция, Новая Зеландия', 'Франция, Люксембург, Бельгия',\n",
       "       'Канада, США, Норвегия', 'Италия, Испания',\n",
       "       'Испания - Германия - Нидерланды', 'Бразилия - США - КНР ',\n",
       "       'Великобритания, Германия, Дания, США', '2019',\n",
       "       'Италия - Фрация - Бразилия - Германия',\n",
       "       'Норвегия - Швеция - Россия', 'Великобритания, Япония, США',\n",
       "       'Сша, Канада', 'Бельгия, Канада',\n",
       "       'Великобритания - Австралия - США', 'США, Канада', 'КНР - США ',\n",
       "       'Франция - Финляндия', 'Колумбия - США',\n",
       "       'Великобритания, Франция, Бельгия', 'Норвегия - Нидерланды',\n",
       "       'Великобритания, Канада, США', 'Япония, Великобритания',\n",
       "       'Италия - Бельгия - Франция', 'Россия, Бельгия, Финляндия',\n",
       "       'США, Украина', 'Франция, Норвегия',\n",
       "       'Великобритания, Южная Корея, Канада, США, Индия, Китай, Япония',\n",
       "       'Канада - Норвегия', 'Республика Кипр-Россия', 'Германия, Россия',\n",
       "       'Польша - Франция - Испания - Бразилия - Швеция',\n",
       "       'Австрия, Великобритания, Германия', 'Франция - Сенегал - Бельгия',\n",
       "       'Франция, Бельгия, Люксембург', 'Финляндия, Латвия', 'Пакистан',\n",
       "       'Германия, Франция, США', 'Германия - Великобритания - США',\n",
       "       'КНР - Франция', 'Дания, Норвегия, Швеция, Исландия',\n",
       "       'Республика Кипр, США, Россия', 'Новая Зеландия - КНР',\n",
       "       'Дания - Канада - Швеция - Франция - Германия - Великобритания - США'],\n",
       "      dtype=object)"
      ]
     },
     "execution_count": 31,
     "metadata": {},
     "output_type": "execute_result"
    }
   ],
   "source": [
    "movies['production_country'].unique()"
   ]
  },
  {
   "cell_type": "markdown",
   "metadata": {},
   "source": [
    "В данных присутствуют опечатки, например Порртугалия, и лишние пробелы. Избавимся от вторых, чтобы избавиться от первых нужно создать список с названиями стран и высчитывать расстояние Левенштейна, я думаю."
   ]
  },
  {
   "cell_type": "code",
   "execution_count": 32,
   "metadata": {},
   "outputs": [],
   "source": [
    "movies['production_country'] = movies['production_country'].str.strip()"
   ]
  },
  {
   "cell_type": "code",
   "execution_count": 33,
   "metadata": {},
   "outputs": [
    {
     "data": {
      "text/plain": [
       "array(['Тачстоун Пикчерз, Кобальт Пикчерз, Бикон Пикчерз, Тиг Продакшнз',\n",
       "       'Киностудия \"Мосфильм\"',\n",
       "       'Юниверсал Пикчерз, Кикстарт Продакшнз, Марк Платт Продакшнз, Рилейтивити Медиа, Спайгласс Интертейнмент, Стилкин Филмз, Топ Кау Продакшнз',\n",
       "       ...,\n",
       "       'Дэниел Гродник Продакшнз, Вандерфилм Медиа Корпорэйшн, Импринт Интертейнмент, Вор Хорс Интертейнмент, Пимиента ',\n",
       "       'Никелодеон Анимейшн Студиос, Спин Мастер',\n",
       "       'Анимаккорд Лтд., ООО Студия \"АНИМАККОРД\"'], dtype=object)"
      ]
     },
     "execution_count": 33,
     "metadata": {},
     "output_type": "execute_result"
    }
   ],
   "source": [
    "movies['film_studio'].unique()"
   ]
  },
  {
   "cell_type": "code",
   "execution_count": 34,
   "metadata": {},
   "outputs": [
    {
     "data": {
      "text/plain": [
       "array(['«18+» - запрещено для детей', '«6+» - для детей старше 6 лет',\n",
       "       '«12+» - для детей старше 12 лет',\n",
       "       '«16+» - для детей старше 16 лет',\n",
       "       '«0+» - для любой зрительской аудитории'], dtype=object)"
      ]
     },
     "execution_count": 34,
     "metadata": {},
     "output_type": "execute_result"
    }
   ],
   "source": [
    "movies['age_restriction'].unique()"
   ]
  },
  {
   "cell_type": "markdown",
   "metadata": {},
   "source": [
    "В этом столбце нет проблем"
   ]
  },
  {
   "cell_type": "code",
   "execution_count": 35,
   "metadata": {},
   "outputs": [
    {
     "data": {
      "text/plain": [
       "array([nan, 'Министерство культуры', 'Фонд кино',\n",
       "       'Министерство культуры, Фонд кино'], dtype=object)"
      ]
     },
     "execution_count": 35,
     "metadata": {},
     "output_type": "execute_result"
    }
   ],
   "source": [
    "movies['financing_source'].unique()"
   ]
  },
  {
   "cell_type": "markdown",
   "metadata": {},
   "source": [
    "В этом столбце нет проблем"
   ]
  },
  {
   "cell_type": "code",
   "execution_count": 36,
   "metadata": {},
   "outputs": [
    {
     "data": {
      "text/plain": [
       "array(['Кевин Костнер', 'Е.Матвеев', 'Тимур Бекмамбетов', ...,\n",
       "       'Ник Пауэлл', 'А.Беляев', 'И.Трусов'], dtype=object)"
      ]
     },
     "execution_count": 36,
     "metadata": {},
     "output_type": "execute_result"
    }
   ],
   "source": [
    "movies['director'].unique()"
   ]
  },
  {
   "cell_type": "markdown",
   "metadata": {},
   "source": [
    "В этом столбце, наверное, лучше было бы указывать только фамилию, чтобы было однотипно"
   ]
  },
  {
   "cell_type": "code",
   "execution_count": 37,
   "metadata": {},
   "outputs": [
    {
     "data": {
      "text/plain": [
       "array(['Дэвид Валдес, Кевин Костнер, Джейк Эбертс', nan,\n",
       "       'Джим Лемли, Джейсон Нетер, Марк Е.Платт, Яйн Смит', ...,\n",
       "       'Поппи Бегум, Ник Пойнц',\n",
       "       'Джефф Боулер, Дэниэл Гродник, Луильо Руис, Брэт Саксон, Кирк Шоу',\n",
       "       'Дженнифер Додж'], dtype=object)"
      ]
     },
     "execution_count": 37,
     "metadata": {},
     "output_type": "execute_result"
    }
   ],
   "source": [
    "movies['producer'].unique()"
   ]
  },
  {
   "cell_type": "code",
   "execution_count": 38,
   "metadata": {},
   "outputs": [
    {
     "data": {
      "text/plain": [
       "array(['боевик,драма,мелодрама', 'драма,военный',\n",
       "       'фантастика,боевик,триллер', 'драма', 'мелодрама,комедия',\n",
       "       'мюзикл,мелодрама,комедия', 'комедия,криминал',\n",
       "       'боевик,триллер,детектив', 'боевик,драма,приключения',\n",
       "       'драма,спорт', 'триллер,драма,мелодрама', 'комедия,мелодрама',\n",
       "       'драма,мелодрама,комедия', 'драма,мелодрама', 'драма,история',\n",
       "       'драма,мелодрама,семейный', 'комедия,мелодрама,криминал',\n",
       "       'комедия', 'боевик,драма,криминал', 'драма,комедия',\n",
       "       'ужасы,фантастика,комедия', 'мультфильм,короткометражка,мелодрама',\n",
       "       'драма,криминал', 'мультфильм,фантастика,фэнтези',\n",
       "       'триллер,драма,криминал', 'драма,мелодрама,биография',\n",
       "       'драма,комедия,военный', 'фантастика,драма,детектив',\n",
       "       'мюзикл,семейный', nan, 'военный,приключения,драма',\n",
       "       'документальный,драма', 'драма,биография,история',\n",
       "       'боевик,триллер,драма', 'фэнтези,боевик',\n",
       "       'боевик,комедия,криминал', 'мюзикл,комедия,детский',\n",
       "       'комедия,мелодрама,драма', 'мультфильм,фэнтези,комедия',\n",
       "       'комедия,история', 'мелодрама', 'драма,биография,музыка',\n",
       "       'фэнтези,драма,мелодрама', 'триллер,военный',\n",
       "       'драма,мелодрама,военный', 'мюзикл,драма,мелодрама',\n",
       "       'мюзикл,комедия', 'мультфильм,приключения,семейный',\n",
       "       'ужасы,триллер', 'боевик,драма,военный', 'драма,боевик',\n",
       "       'мультфильм,драма,комедия', 'триллер,криминал',\n",
       "       'военный,биография,драма', 'комедия,семейный', 'военный',\n",
       "       'драма,семейный,биография', 'фэнтези,приключения,семейный',\n",
       "       'драма,криминал,биография', 'ужасы,триллер,детектив',\n",
       "       'боевик,история,драма', 'ужасы,триллер,драма',\n",
       "       'драма,криминал,спорт', 'документальный,короткометражка',\n",
       "       'триллер,драма', 'криминал,детектив,приключения',\n",
       "       'драма,комедия,криминал', 'драма,комедия,вестерн',\n",
       "       'драма,мелодрама,детектив', 'мелодрама,биография',\n",
       "       'фэнтези,мелодрама,драма', 'драма,мелодрама,история',\n",
       "       'комедия,приключения,история', 'приключения', 'драма,семейный',\n",
       "       'криминал,детектив', 'мультфильм,короткометражка,ужасы',\n",
       "       'фантастика,триллер,драма', 'фэнтези,мелодрама,комедия',\n",
       "       'драма,биография', 'комедия,криминал,история',\n",
       "       'триллер,драма,детектив', 'фантастика,комедия,приключения',\n",
       "       'фэнтези,семейный', 'ужасы,фантастика,боевик',\n",
       "       'мелодрама,криминал', 'комедия,приключения,мелодрама',\n",
       "       'боевик,триллер,приключения', 'боевик,приключения',\n",
       "       'боевик,триллер,криминал', 'документальный,военный,история',\n",
       "       'драма,музыка', 'боевик,драма', 'приключения,боевик',\n",
       "       'драма,военный,биография', 'триллер,драма,приключения',\n",
       "       'аниме,мультфильм,фэнтези', 'триллер,детектив,драма',\n",
       "       'боевик,триллер,мелодрама', 'боевик,история',\n",
       "       'приключения,история', 'драма,комедия,приключения',\n",
       "       'фэнтези,комедия,приключения', 'драма,вестерн',\n",
       "       'документальный,музыка', 'мелодрама,драма',\n",
       "       'триллер,криминал,детектив', 'ужасы', 'боевик,комедия,приключения',\n",
       "       'мультфильм,фэнтези,боевик', 'боевик,фэнтези,драма',\n",
       "       'фэнтези,драма', 'фэнтези,боевик,комедия',\n",
       "       'приключения,детский,комедия', 'документальный',\n",
       "       'боевик,триллер,комедия', 'мелодрама,комедия,криминал',\n",
       "       'драма,детектив', 'мюзикл,ужасы,триллер', 'детектив,триллер,ужасы',\n",
       "       'ужасы,фэнтези', 'ужасы,фэнтези,триллер', 'мультфильм,драма',\n",
       "       'ужасы,боевик,фантастика', 'боевик', 'фантастика,боевик',\n",
       "       'мелодрама,комедия,приключения', 'триллер,детектив',\n",
       "       'мюзикл,мелодрама,фэнтези', 'криминал', 'триллер,комедия,криминал',\n",
       "       'боевик,приключения,триллер', 'триллер,драма,военный',\n",
       "       'комедия,семейный,музыка', 'комедия,фантастика,мелодрама',\n",
       "       'фантастика,триллер,криминал', 'комедия,драма', 'боевик,военный',\n",
       "       'ужасы,фантастика,триллер', 'фантастика,драма,мелодрама',\n",
       "       'фэнтези,драма,детектив', 'боевик,триллер', 'боевик,драма,история',\n",
       "       'мультфильм,мюзикл,фэнтези', 'для взрослых,драма,мелодрама',\n",
       "       'мультфильм,боевик,детектив', 'фантастика,мелодрама,боевик',\n",
       "       'ужасы,фантастика,детектив', 'фантастика,боевик,приключения',\n",
       "       'мелодрама,комедия,спорт', 'комедия,боевик,приключения',\n",
       "       'документальный,приключения', 'мультфильм,короткометражка,детский',\n",
       "       'комедия,приключения', 'ужасы,драма', 'ужасы,фэнтези,боевик',\n",
       "       'мультфильм,фэнтези,детский', 'мюзикл,боевик,драма',\n",
       "       'семейный,комедия,драма', 'концерт,музыка', 'фэнтези,боевик,драма',\n",
       "       'драма,комедия,музыка', 'фантастика,фэнтези,боевик',\n",
       "       'фэнтези,комедия,семейный', 'фэнтези,драма,комедия',\n",
       "       'мультфильм,мюзикл,драма', 'триллер', 'боевик,криминал,триллер',\n",
       "       'мультфильм,приключения,драма', 'мелодрама,музыка',\n",
       "       'документальный,музыка,концерт', 'мультфильм,семейный',\n",
       "       'мультфильм,комедия,приключения', 'мультфильм,комедия,семейный',\n",
       "       'фантастика,драма', 'фэнтези,боевик,приключения',\n",
       "       'мультфильм,приключения', 'драма,военный,история', 'история',\n",
       "       'драма,приключения,военный',\n",
       "       'документальный,короткометражка,семейный',\n",
       "       'мелодрама,история,триллер', 'ужасы,детектив',\n",
       "       'мюзикл,комедия,приключения', 'драма,спорт,биография',\n",
       "       'фантастика,боевик,комедия', 'фантастика,приключения,детектив',\n",
       "       'короткометражка,драма,военный', 'драма,мультфильм',\n",
       "       'приключения,семейный', 'детектив', 'триллер,приключения',\n",
       "       'аниме,мультфильм,боевик', 'драма,комедия,биография',\n",
       "       'драма,комедия,спорт', 'боевик,мелодрама,комедия',\n",
       "       'семейный,комедия', 'фэнтези,боевик,триллер',\n",
       "       'документальный,фэнтези,семейный', 'фантастика,фэнтези,драма',\n",
       "       'ужасы,комедия,фэнтези', 'документальный,биография,музыка',\n",
       "       'фантастика,боевик,фэнтези', 'ужасы,боевик,триллер',\n",
       "       'комедия,криминал,семейный', 'приключения,драма',\n",
       "       'криминал,драма,триллер', 'драма,детектив,криминал',\n",
       "       'фэнтези,приключения,комедия', 'комедия,спорт',\n",
       "       'мюзикл,фэнтези,мелодрама', 'мультфильм,фэнтези,приключения',\n",
       "       'фантастика,фэнтези,приключения', 'фэнтези',\n",
       "       'фэнтези,приключения,боевик', 'фантастика,боевик,драма',\n",
       "       'криминал,драма', 'криминал,триллер,драма',\n",
       "       'драма,мелодрама,приключения', 'детский,комедия',\n",
       "       'фантастика,драма,боевик', 'мультфильм,семейный,фэнтези',\n",
       "       'концерт,музыка,документальный', 'ужасы,комедия,приключения',\n",
       "       'драма,мелодрама,криминал', 'ужасы,фантастика,фэнтези',\n",
       "       'боевик,комедия', 'мультфильм,фантастика,комедия', 'триллер,ужасы',\n",
       "       'мультфильм,мюзикл,комедия', 'мелодрама,фэнтези,триллер',\n",
       "       'детский,приключения,комедия', 'комедия,детектив',\n",
       "       'аниме,мультфильм,мелодрама', 'документальный,драма,семейный',\n",
       "       'документальный,биография,история', 'военный,боевик,драма',\n",
       "       'ужасы,комедия', 'комедия,приключения,семейный',\n",
       "       'приключения,биография,история', 'детский,приключения,семейный',\n",
       "       'спорт,драма,биография', 'аниме,мультфильм,ужасы',\n",
       "       'фантастика,боевик,криминал', 'мюзикл,драма',\n",
       "       'драма,криминал,детектив', 'аниме,мультфильм,драма',\n",
       "       'драма,триллер,приключения', 'триллер,криминал,драма',\n",
       "       'фэнтези,комедия,драма', 'мультфильм,комедия',\n",
       "       'драма,комедия,история', 'комедия,биография,история',\n",
       "       'мультфильм,фантастика,приключения', 'аниме,мультфильм,фантастика',\n",
       "       'мультфильм,фэнтези,семейный', 'мультфильм,боевик,комедия',\n",
       "       'комедия,криминал,спорт', 'документальный,мюзикл',\n",
       "       'мелодрама,комедия,музыка', 'биография',\n",
       "       'триллер,криминал,комедия', 'фантастика,драма,комедия',\n",
       "       'комедия,драма,мелодрама', 'фантастика,приключения,боевик',\n",
       "       'мультфильм,фэнтези,драма', 'триллер,комедия',\n",
       "       'драма,приключения,биография', 'фантастика,комедия',\n",
       "       'мелодрама,драма,комедия', 'боевик,криминал',\n",
       "       'драма,криминал,боевик', 'мультфильм,мюзикл,детский',\n",
       "       'драма,фэнтези', 'документальный,семейный',\n",
       "       'фэнтези,драма,приключения', 'ужасы,комедия,фантастика',\n",
       "       'драма,мелодрама,музыка', 'фэнтези,драма,семейный',\n",
       "       'триллер,мелодрама,драма', 'вестерн,боевик,драма',\n",
       "       'мультфильм,короткометражка,комедия', 'триллер,драма,история',\n",
       "       'ужасы,фантастика', 'ужасы,мелодрама,комедия',\n",
       "       'фэнтези,приключения', 'фантастика,триллер',\n",
       "       'ужасы,боевик,фэнтези', 'мультфильм,комедия,детский',\n",
       "       'триллер,драма,биография', 'мультфильм,ужасы,фэнтези',\n",
       "       'мультфильм,ужасы,фантастика', 'ужасы,боевик,комедия',\n",
       "       'драма,биография,спорт', 'мультфильм', 'мелодрама,комедия,драма',\n",
       "       'приключения,фантастика,семейный', 'комедия,криминал,детектив',\n",
       "       'ужасы,триллер,комедия', 'криминал,комедия,триллер',\n",
       "       'семейный,приключения,комедия', 'мультфильм,драма,приключения',\n",
       "       'ужасы,драма,детектив', 'драма,приключения,фэнтези',\n",
       "       'фантастика,мультфильм,драма', 'драма,триллер,детектив',\n",
       "       'драма,история,музыка', 'детский', 'триллер,боевик,криминал',\n",
       "       'драма,фантастика', 'комедия,драма,семейный',\n",
       "       'боевик,драма,комедия', 'комедия,ужасы',\n",
       "       'драма,фантастика,триллер', 'фантастика,драма,триллер',\n",
       "       'история,спорт,драма', 'документальный,биография',\n",
       "       'биография,история', 'спорт,драма', 'боевик,фэнтези',\n",
       "       'мультфильм,фэнтези', 'документальный,комедия,история',\n",
       "       'криминал,комедия,боевик', 'фэнтези,приключения,драма',\n",
       "       'музыка,концерт', 'триллер,драма,боевик',\n",
       "       'комедия,криминал,боевик', 'комедия,фантастика,боевик',\n",
       "       'вестерн,приключения,боевик', 'аниме,мультфильм,комедия',\n",
       "       'детектив,криминал,триллер', 'мультфильм,комедия,криминал',\n",
       "       'комедия,приключения,детектив', 'мелодрама,фантастика,драма',\n",
       "       'драма,комедия,семейный', 'приключения,фантастика',\n",
       "       'триллер,детектив,ужасы', 'комедия,приключения,фэнтези',\n",
       "       'фэнтези,триллер,драма', 'мелодрама,приключения,боевик',\n",
       "       'детектив,триллер,криминал', 'фэнтези,семейный,мелодрама',\n",
       "       'военный,драма', 'документальный,приключения,семейный',\n",
       "       'криминал,комедия,драма', 'комедия,фантастика',\n",
       "       'история,биография,драма', 'мелодрама,драма,музыка',\n",
       "       'боевик,мелодрама', 'комедия,криминал,триллер',\n",
       "       'детектив,триллер,боевик', 'комедия,боевик,криминал',\n",
       "       'комедия,вестерн', 'детский,мелодрама,семейный',\n",
       "       'короткометражка,мультфильм', 'комедия,фэнтези',\n",
       "       'фантастика,драма,ужасы', 'триллер,драма,ужасы',\n",
       "       'драма,фэнтези,история', 'комедия,драма,короткометражка',\n",
       "       'фэнтези,триллер,приключения', 'семейный',\n",
       "       'комедия,криминал,драма', 'комедия,фэнтези,ужасы',\n",
       "       'короткометражка,комедия,криминал', 'фантастика',\n",
       "       'триллер,ужасы,драма', 'мелодрама,драма,фэнтези',\n",
       "       'фантастика,приключения,драма', 'боевик,детектив',\n",
       "       'военный,драма,боевик', 'комедия,мелодрама,фэнтези',\n",
       "       'вестерн,криминал,триллер', 'драма,история,триллер',\n",
       "       'мультфильм,фантастика,боевик', 'детектив,драма,криминал',\n",
       "       'приключения,история,драма', 'мультфильм,семейный,детский',\n",
       "       'биография,драма,история', 'триллер,криминал,боевик',\n",
       "       'история,мелодрама', 'приключения,детский',\n",
       "       'музыка,приключения,концерт', 'военный,драма,комедия',\n",
       "       'фэнтези,боевик,военный', 'фантастика,детектив,боевик',\n",
       "       'мультфильм,фэнтези,история', 'биография,мелодрама,драма',\n",
       "       'документальный,биография,спорт', 'фантастика,комедия,детектив',\n",
       "       'музыка,концерт,документальный', 'триллер,боевик,приключения',\n",
       "       'триллер,драма,комедия', 'детектив,криминал',\n",
       "       'мультфильм,приключения,фэнтези', 'мелодрама,приключения',\n",
       "       'комедия,музыка', 'мелодрама,комедия,ужасы',\n",
       "       'драма,криминал,приключения', 'приключения,детектив,мелодрама',\n",
       "       'драма,криминал,фантастика', 'фэнтези,драма,биография',\n",
       "       'детектив,фантастика,криминал', 'триллер,драма,фантастика',\n",
       "       'ужасы,комедия,боевик', 'мелодрама,история', 'триллер,боевик',\n",
       "       'фильм-нуар,триллер,детектив', 'комедия,криминал,приключения',\n",
       "       'ужасы,триллер,мелодрама', 'военный,драма,история',\n",
       "       'драма,спорт,история', 'документальный,драма,история',\n",
       "       'триллер,мелодрама,детектив', 'детский,семейный',\n",
       "       'мюзикл,семейный,драма', 'биография,военный,драма',\n",
       "       'мультфильм,детский', 'боевик,криминал,драма',\n",
       "       'детектив,фэнтези,триллер', 'драма,боевик,приключения',\n",
       "       'драма,мелодрама,фэнтези', 'детектив,история,драма',\n",
       "       'фэнтези,боевик,ужасы', 'ужасы,фэнтези,мелодрама',\n",
       "       'ужасы,приключения', 'боевик,фантастика',\n",
       "       'ужасы,мелодрама,детектив', 'фантастика,триллер,приключения',\n",
       "       'боевик,приключения,история', 'приключения,боевик,триллер',\n",
       "       'детектив,ужасы,криминал', 'семейный,фэнтези', 'мюзикл,мелодрама',\n",
       "       'драма,военный,приключения', 'фантастика,драма,приключения',\n",
       "       'приключения,семейный,драма', 'история,драма,боевик',\n",
       "       'мультфильм,приключения,комедия', 'криминал,драма,комедия',\n",
       "       'ужасы,комедия,драма', 'комедия,семейный,приключения',\n",
       "       'мюзикл,фэнтези,драма', 'драма,вестерн,боевик',\n",
       "       'фантастика,триллер,детектив', 'драма,история,детектив',\n",
       "       'короткометражка,биография', 'мультфильм,приключения,фантастика',\n",
       "       'комедия,триллер', 'мультфильм,приключения,детектив',\n",
       "       'драма,триллер', 'ужасы,триллер,криминал',\n",
       "       'документальный,криминал,военный', 'ужасы,фэнтези,драма',\n",
       "       'фэнтези,комедия', 'ужасы,фэнтези,комедия', 'комедия,музыка,драма',\n",
       "       'мультфильм,приключения,военный', 'мюзикл,фэнтези,комедия',\n",
       "       'боевик,фантастика,приключения', 'триллер,ужасы,криминал',\n",
       "       'ужасы,фантастика,драма', 'фантастика,приключения,семейный',\n",
       "       'короткометражка,музыка', 'мелодрама,детектив,комедия',\n",
       "       'документальный,триллер,биография', 'боевик,фантастика,триллер',\n",
       "       'спорт,драма,комедия', 'фэнтези,мелодрама,приключения',\n",
       "       'триллер,детектив,криминал', 'короткометражка,мелодрама',\n",
       "       'мультфильм,семейный,спорт', 'комедия,фэнтези,мелодрама',\n",
       "       'драма,спорт,комедия', 'история,драма,мелодрама',\n",
       "       'драма,боевик,криминал', 'драма,комедия,триллер',\n",
       "       'аниме,мультфильм', 'документальный,ужасы',\n",
       "       'мультфильм,короткометражка', 'драма,история,военный',\n",
       "       'мультфильм,короткометражка,фэнтези', 'комедия,военный,музыка',\n",
       "       'биография,история,драма', 'ужасы,драма,мелодрама',\n",
       "       'драма,комедия,детектив', 'комедия,семейный,фантастика',\n",
       "       'мультфильм,семейный,комедия', 'история,детектив',\n",
       "       'приключения,мелодрама,детектив', 'мюзикл,комедия,мелодрама',\n",
       "       'драма,фантастика,ужасы', 'мультфильм,ужасы,комедия',\n",
       "       'для взрослых,драма,комедия', 'ужасы,комедия,музыка',\n",
       "       'комедия,история,драма', 'семейный,детектив,детский',\n",
       "       'короткометражка,драма', 'документальный,новости,драма',\n",
       "       'триллер,мелодрама', 'ужасы,драма,вестерн',\n",
       "       'мюзикл,фэнтези,семейный', 'вестерн,драма,триллер',\n",
       "       'приключения,вестерн,боевик', 'семейный,комедия,музыка',\n",
       "       'боевик,драма,вестерн', 'ужасы,драма,триллер',\n",
       "       'фантастика,мелодрама', 'комедия,криминал,биография',\n",
       "       'семейный,мультфильм,комедия', 'комедия,драма,криминал',\n",
       "       'фантастика,боевик,военный', 'приключения,биография,драма',\n",
       "       'приключения,триллер,биография', 'криминал,боевик,триллер',\n",
       "       'боевик,вестерн,приключения', 'история,драма',\n",
       "       'фантастика,фэнтези,комедия', 'мультфильм,детский,комедия',\n",
       "       'мелодрама,комедия,триллер', 'документальный,боевик,приключения',\n",
       "       'драма,приключения', 'мелодрама,военный,драма', 'триллер,фэнтези',\n",
       "       'драма,триллер,биография', 'фэнтези,боевик,семейный',\n",
       "       'фантастика,триллер,комедия', 'документальный,фэнтези',\n",
       "       'комедия,мультфильм,фантастика', 'криминал,биография,комедия',\n",
       "       'биография,спорт,драма', 'приключения,военный',\n",
       "       'мультфильм,семейный,драма', 'документальный,фэнтези,драма',\n",
       "       'комедия,боевик,фантастика', 'семейный,приключения,военный',\n",
       "       'триллер,ужасы,детектив', 'короткометражка',\n",
       "       'мелодрама,триллер,история', 'документальный,история',\n",
       "       'мультфильм,приключения,детский', 'драма,комедия,мультфильм',\n",
       "       'военный,детектив', 'семейный,приключения,документальный',\n",
       "       'детский,фэнтези', 'документальный,комедия', 'комедия,биография',\n",
       "       'криминал,комедия', 'спорт,мелодрама,криминал',\n",
       "       'фантастика,комедия,боевик', 'боевик,приключения,детектив',\n",
       "       'детектив,триллер,драма', 'документальный,фантастика',\n",
       "       'мелодрама,комедия,семейный', 'мультфильм,мелодрама,комедия',\n",
       "       'драма,спорт,семейный', 'фантастика,мелодрама,фэнтези',\n",
       "       'мюзикл,комедия,музыка', 'фантастика,триллер,мелодрама',\n",
       "       'приключения,комедия,фэнтези', 'фэнтези,боевик,детектив',\n",
       "       'фэнтези,боевик,мелодрама', 'комедия,военный',\n",
       "       'драма,спорт,боевик', 'мультфильм,боевик,триллер',\n",
       "       'мелодрама,семейный', 'фантастика,боевик,детектив',\n",
       "       'драма,приключения,история', 'документальный,драма,музыка',\n",
       "       'фантастика,триллер,боевик', 'фэнтези,боевик,вестерн',\n",
       "       'драма,комедия,мелодрама', 'ужасы,фэнтези,приключения',\n",
       "       'триллер,фэнтези,драма', 'мультфильм,мюзикл,мелодрама',\n",
       "       'ужасы,триллер,фантастика', 'триллер,мелодрама,комедия',\n",
       "       'ужасы,комедия,семейный', 'комедия,приключения,музыка',\n",
       "       'документальный,комедия,криминал', 'мелодрама,детектив',\n",
       "       'детский,приключения,фантастика', 'короткометражка,боевик,драма',\n",
       "       'боевик,комедия,семейный', 'фантастика,боевик,мелодрама',\n",
       "       'фэнтези,триллер,мелодрама', 'драма,детектив,история',\n",
       "       'боевик,криминал,детектив', 'мультфильм,фэнтези,мелодрама',\n",
       "       'мелодрама,драма,боевик', 'драма,вестерн,приключения',\n",
       "       'драма,приключения,мелодрама', 'фэнтези,боевик,криминал',\n",
       "       'фантастика,комедия,семейный', 'детский,фэнтези,приключения',\n",
       "       'ужасы,боевик', 'фантастика,мелодрама,комедия',\n",
       "       'семейный,спорт,боевик', 'триллер,биография,драма',\n",
       "       'ужасы,драма,комедия', 'мультфильм,фэнтези,триллер', 'мюзикл',\n",
       "       'боевик,спорт,драма', 'комедия,приключения,вестерн',\n",
       "       'документальный,ужасы,боевик', 'фантастика,боевик,семейный',\n",
       "       'военный,история', 'ужасы,боевик,криминал', 'детектив,триллер',\n",
       "       'драма,семейный,комедия', 'драма,детектив,приключения',\n",
       "       'драма,криминал,история', 'приключения,триллер',\n",
       "       'боевик,драма,биография', 'драма,приключения,триллер',\n",
       "       'комедия,фэнтези,приключения', 'фантастика,боевик,ужасы',\n",
       "       'драма,комедия,фантастика', 'детектив,криминал,драма',\n",
       "       'боевик,триллер,фэнтези', 'приключения,детектив,семейный',\n",
       "       'ужасы,комедия,криминал', 'мультфильм,биография,драма',\n",
       "       'история,боевик,фэнтези', 'детектив,криминал,боевик',\n",
       "       'приключения,фэнтези', 'комедия,приключения,спорт',\n",
       "       'драма,биография,мюзикл', 'комедия,семейный,фэнтези',\n",
       "       'детектив,драма,триллер', 'боевик,приключения,семейный',\n",
       "       'биография,спорт,комедия', 'фантастика,приключения,военный',\n",
       "       'документальный,драма,биография', 'детектив,приключения,драма',\n",
       "       'аниме,мультфильм,приключения', 'семейный,приключения',\n",
       "       'ужасы,фэнтези,детектив', 'семейный,документальный',\n",
       "       'драма,приключения,семейный', 'приключения,история,военный',\n",
       "       'фэнтези,мелодрама', 'фэнтези,триллер,детектив',\n",
       "       'документальный,спорт,биография', 'комедия,триллер,драма',\n",
       "       'драма,ужасы', 'биография,музыка,драма', 'фэнтези,ужасы',\n",
       "       'детектив,мелодрама,фэнтези', 'боевик,военный,история',\n",
       "       'биография,драма,криминал', 'триллер,мелодрама,криминал',\n",
       "       'семейный,мелодрама', 'биография,драма', 'военный,история,драма',\n",
       "       'фантастика,детектив,фэнтези', 'детектив,приключения,триллер',\n",
       "       'фантастика,приключения', 'мультфильм,короткометражка,мюзикл',\n",
       "       'мультфильм,детский,семейный', 'документальный,драма,комедия',\n",
       "       'комедия,приключения,криминал', 'документальный,семейный,музыка',\n",
       "       'мелодрама,музыка,драма', 'детектив,фантастика,триллер',\n",
       "       'драма,мелодрама,триллер', 'биография,драма,военный',\n",
       "       'приключения,фантастика,драма', 'детектив,фильм-нуар,комедия',\n",
       "       'документальный,спорт', 'триллер,фантастика,драма',\n",
       "       'биография,документальный', 'ужасы,фантастика,мелодрама',\n",
       "       'детектив,комедия', 'история,биография,военный',\n",
       "       'криминал,мелодрама', 'драма,криминал,вестерн',\n",
       "       'мелодрама,семейный,приключения', 'триллер,ужасы,мелодрама',\n",
       "       'фэнтези,драма,фильм-нуар', 'детектив,мелодрама',\n",
       "       'комедия,драма,биография', 'драма,военный,боевик',\n",
       "       'драма,комедия,ужасы', 'фантастика,драма,криминал',\n",
       "       'документальный,музыка,биография', 'мультфильм,боевик,приключения',\n",
       "       'короткометражка,фантастика', 'мультфильм,мелодрама,драма',\n",
       "       'боевик,военный,драма', 'фэнтези,семейный,приключения',\n",
       "       'детский,мультфильм,приключения', 'семейный,фэнтези,комедия',\n",
       "       'фэнтези,ужасы,триллер', 'ужасы,триллер,приключения',\n",
       "       'драма,боевик,история', 'фэнтези,комедия,детектив',\n",
       "       'история,приключения', 'аниме,мультфильм,короткометражка',\n",
       "       'драма,военный,триллер', 'биография,криминал,триллер',\n",
       "       'фантастика,фэнтези,детектив', 'вестерн,биография,драма',\n",
       "       'биография,музыка,мюзикл', 'драма,история,биография',\n",
       "       'приключения,драма,фантастика', 'комедия,фэнтези,криминал',\n",
       "       'биография,спорт,история', 'драма,криминал,семейный',\n",
       "       'детектив,боевик,история', 'ужасы,комедия,детектив',\n",
       "       'триллер,приключения,драма', 'фэнтези,комедия,криминал',\n",
       "       'триллер,криминал,приключения', 'комедия,детектив,приключения',\n",
       "       'фэнтези,драма,ужасы', 'ужасы,драма,военный', 'реальное ТВ',\n",
       "       'аниме,мультфильм,детектив', 'приключения,фэнтези,семейный',\n",
       "       'драма,биография,комедия', 'триллер,комедия,ужасы',\n",
       "       'музыка,мелодрама,фэнтези', 'мультфильм,история',\n",
       "       'мультфильм,комедия,фантастика', 'биография,криминал,драма',\n",
       "       'комедия,мелодрама,фантастика', 'криминал,боевик,комедия',\n",
       "       'история,криминал', 'детектив,комедия,драма',\n",
       "       'триллер,фантастика,боевик', 'криминал,боевик',\n",
       "       'комедия,драма,военный', 'драма,триллер,криминал',\n",
       "       'мультфильм,мелодрама,приключения', 'фантастика,фэнтези,триллер',\n",
       "       'короткометражка,драма,триллер', 'военный,боевик,история',\n",
       "       'боевик,драма,триллер', 'документальный,военный,драма',\n",
       "       'драма,криминал,фильм-нуар', 'мультфильм,детский,приключения',\n",
       "       'мелодрама,история,драма'], dtype=object)"
      ]
     },
     "execution_count": 38,
     "metadata": {},
     "output_type": "execute_result"
    }
   ],
   "source": [
    "movies['genres'].unique()"
   ]
  },
  {
   "cell_type": "markdown",
   "metadata": {},
   "source": [
    "Для столбцов genres, producer и financing_source можно было бы создать множество столбцов под каждую категорию с отметками True/False вместо перечисления в одной строке."
   ]
  },
  {
   "cell_type": "markdown",
   "metadata": {
    "id": "XFSN5lrEgFyR"
   },
   "source": [
    "### Обработка количественных признаков"
   ]
  },
  {
   "cell_type": "code",
   "execution_count": 39,
   "metadata": {
    "id": "YbzClBxagFyS"
   },
   "outputs": [
    {
     "data": {
      "text/html": [
       "<div>\n",
       "<style scoped>\n",
       "    .dataframe tbody tr th:only-of-type {\n",
       "        vertical-align: middle;\n",
       "    }\n",
       "\n",
       "    .dataframe tbody tr th {\n",
       "        vertical-align: top;\n",
       "    }\n",
       "\n",
       "    .dataframe thead th {\n",
       "        text-align: right;\n",
       "    }\n",
       "</style>\n",
       "<table border=\"1\" class=\"dataframe\">\n",
       "  <thead>\n",
       "    <tr style=\"text-align: right;\">\n",
       "      <th></th>\n",
       "      <th>puNumber</th>\n",
       "      <th>refundable_support</th>\n",
       "      <th>nonrefundable_support</th>\n",
       "      <th>budget</th>\n",
       "      <th>ratings</th>\n",
       "      <th>box_office</th>\n",
       "    </tr>\n",
       "  </thead>\n",
       "  <tbody>\n",
       "    <tr>\n",
       "      <th>count</th>\n",
       "      <td>6771.00</td>\n",
       "      <td>329.00</td>\n",
       "      <td>329.00</td>\n",
       "      <td>329.00</td>\n",
       "      <td>5785.00</td>\n",
       "      <td>3017.00</td>\n",
       "    </tr>\n",
       "    <tr>\n",
       "      <th>mean</th>\n",
       "      <td>130854973.64</td>\n",
       "      <td>11653495.00</td>\n",
       "      <td>48059856.00</td>\n",
       "      <td>125146720.00</td>\n",
       "      <td>6.45</td>\n",
       "      <td>75632504.00</td>\n",
       "    </tr>\n",
       "    <tr>\n",
       "      <th>std</th>\n",
       "      <td>34141686.79</td>\n",
       "      <td>24540050.00</td>\n",
       "      <td>57011876.00</td>\n",
       "      <td>183916192.00</td>\n",
       "      <td>1.11</td>\n",
       "      <td>237701104.00</td>\n",
       "    </tr>\n",
       "    <tr>\n",
       "      <th>min</th>\n",
       "      <td>1811096.00</td>\n",
       "      <td>0.00</td>\n",
       "      <td>0.00</td>\n",
       "      <td>0.00</td>\n",
       "      <td>1.00</td>\n",
       "      <td>0.00</td>\n",
       "    </tr>\n",
       "    <tr>\n",
       "      <th>25%</th>\n",
       "      <td>112001918.50</td>\n",
       "      <td>0.00</td>\n",
       "      <td>25000000.00</td>\n",
       "      <td>42000000.00</td>\n",
       "      <td>5.80</td>\n",
       "      <td>116360.00</td>\n",
       "    </tr>\n",
       "    <tr>\n",
       "      <th>50%</th>\n",
       "      <td>121013218.00</td>\n",
       "      <td>0.00</td>\n",
       "      <td>30000000.00</td>\n",
       "      <td>68490608.00</td>\n",
       "      <td>6.60</td>\n",
       "      <td>2428366.00</td>\n",
       "    </tr>\n",
       "    <tr>\n",
       "      <th>75%</th>\n",
       "      <td>124000416.50</td>\n",
       "      <td>15000000.00</td>\n",
       "      <td>40000000.00</td>\n",
       "      <td>140024992.00</td>\n",
       "      <td>7.20</td>\n",
       "      <td>23721538.00</td>\n",
       "    </tr>\n",
       "    <tr>\n",
       "      <th>max</th>\n",
       "      <td>231001012.00</td>\n",
       "      <td>180000000.00</td>\n",
       "      <td>400000000.00</td>\n",
       "      <td>2305074176.00</td>\n",
       "      <td>9.20</td>\n",
       "      <td>3073568768.00</td>\n",
       "    </tr>\n",
       "  </tbody>\n",
       "</table>\n",
       "</div>"
      ],
      "text/plain": [
       "          puNumber  refundable_support  nonrefundable_support        budget  \\\n",
       "count      6771.00              329.00                 329.00        329.00   \n",
       "mean  130854973.64         11653495.00            48059856.00  125146720.00   \n",
       "std    34141686.79         24540050.00            57011876.00  183916192.00   \n",
       "min     1811096.00                0.00                   0.00          0.00   \n",
       "25%   112001918.50                0.00            25000000.00   42000000.00   \n",
       "50%   121013218.00                0.00            30000000.00   68490608.00   \n",
       "75%   124000416.50         15000000.00            40000000.00  140024992.00   \n",
       "max   231001012.00        180000000.00           400000000.00 2305074176.00   \n",
       "\n",
       "       ratings    box_office  \n",
       "count  5785.00       3017.00  \n",
       "mean      6.45   75632504.00  \n",
       "std       1.11  237701104.00  \n",
       "min       1.00          0.00  \n",
       "25%       5.80     116360.00  \n",
       "50%       6.60    2428366.00  \n",
       "75%       7.20   23721538.00  \n",
       "max       9.20 3073568768.00  "
      ]
     },
     "execution_count": 39,
     "metadata": {},
     "output_type": "execute_result"
    }
   ],
   "source": [
    "movies.describe()"
   ]
  },
  {
   "cell_type": "markdown",
   "metadata": {},
   "source": [
    "Из статистических данных видно, что есть фильмы, у которых бюджет меньше невозвратных или возвратных средств.  \n",
    "Узнаем количество строк, где это наблюдается."
   ]
  },
  {
   "cell_type": "code",
   "execution_count": 40,
   "metadata": {},
   "outputs": [
    {
     "data": {
      "text/plain": [
       "17"
      ]
     },
     "execution_count": 40,
     "metadata": {},
     "output_type": "execute_result"
    }
   ],
   "source": [
    "len(movies.loc[(movies['refundable_support'] > movies['budget'])\\\n",
    "               | (movies['nonrefundable_support'] > movies['budget'])])"
   ]
  },
  {
   "cell_type": "code",
   "execution_count": 41,
   "metadata": {},
   "outputs": [
    {
     "data": {
      "text/html": [
       "<div>\n",
       "<style scoped>\n",
       "    .dataframe tbody tr th:only-of-type {\n",
       "        vertical-align: middle;\n",
       "    }\n",
       "\n",
       "    .dataframe tbody tr th {\n",
       "        vertical-align: top;\n",
       "    }\n",
       "\n",
       "    .dataframe thead th {\n",
       "        text-align: right;\n",
       "    }\n",
       "</style>\n",
       "<table border=\"1\" class=\"dataframe\">\n",
       "  <thead>\n",
       "    <tr style=\"text-align: right;\">\n",
       "      <th></th>\n",
       "      <th>title</th>\n",
       "      <th>puNumber</th>\n",
       "      <th>show_start_date</th>\n",
       "      <th>type</th>\n",
       "      <th>film_studio</th>\n",
       "      <th>production_country</th>\n",
       "      <th>director</th>\n",
       "      <th>producer</th>\n",
       "      <th>age_restriction</th>\n",
       "      <th>refundable_support</th>\n",
       "      <th>nonrefundable_support</th>\n",
       "      <th>budget</th>\n",
       "      <th>financing_source</th>\n",
       "      <th>ratings</th>\n",
       "      <th>genres</th>\n",
       "      <th>box_office</th>\n",
       "    </tr>\n",
       "  </thead>\n",
       "  <tbody>\n",
       "    <tr>\n",
       "      <th>2053</th>\n",
       "      <td>14+</td>\n",
       "      <td>111023614.00</td>\n",
       "      <td>2014-12-19 12:00:00</td>\n",
       "      <td>Художественный</td>\n",
       "      <td>ООО Киностудия  \"Сентябрь\"</td>\n",
       "      <td>Россия</td>\n",
       "      <td>А.Зайцев</td>\n",
       "      <td>О.Гранина, А.Зайцев</td>\n",
       "      <td>«16+» - для детей старше 16 лет</td>\n",
       "      <td>0.00</td>\n",
       "      <td>23000000.00</td>\n",
       "      <td>0.00</td>\n",
       "      <td>Министерство культуры, Фонд кино</td>\n",
       "      <td>6.60</td>\n",
       "      <td>мелодрама</td>\n",
       "      <td>10234016.00</td>\n",
       "    </tr>\n",
       "    <tr>\n",
       "      <th>2058</th>\n",
       "      <td>Дуxless 2</td>\n",
       "      <td>111000415.00</td>\n",
       "      <td>2015-01-26 12:00:00</td>\n",
       "      <td>Художественный</td>\n",
       "      <td>ООО \"Киностудия \"Слово\", ООО \"Арт Пикчерс Студия\"</td>\n",
       "      <td>Россия</td>\n",
       "      <td>Р.Прыгунов</td>\n",
       "      <td>П.Ануров, Ф.Бондарчук, Д.Рудовский</td>\n",
       "      <td>«16+» - для детей старше 16 лет</td>\n",
       "      <td>0.00</td>\n",
       "      <td>75000000.00</td>\n",
       "      <td>0.00</td>\n",
       "      <td>Фонд кино</td>\n",
       "      <td>6.60</td>\n",
       "      <td>драма</td>\n",
       "      <td>446163520.00</td>\n",
       "    </tr>\n",
       "    <tr>\n",
       "      <th>2472</th>\n",
       "      <td>Воин (2015)</td>\n",
       "      <td>111017315.00</td>\n",
       "      <td>2015-09-28 12:00:00</td>\n",
       "      <td>Художественный</td>\n",
       "      <td>ООО \"Форпост Продакшн\", ООО \"Арт Пикчерс Студия\"</td>\n",
       "      <td>Россия</td>\n",
       "      <td>А.Андрианов</td>\n",
       "      <td>ООО \"Арт Пикчерс Студия\"</td>\n",
       "      <td>«12+» - для детей старше 12 лет</td>\n",
       "      <td>10000000.00</td>\n",
       "      <td>70000000.00</td>\n",
       "      <td>0.00</td>\n",
       "      <td>Фонд кино</td>\n",
       "      <td>7.80</td>\n",
       "      <td>боевик,драма,криминал</td>\n",
       "      <td>196572432.00</td>\n",
       "    </tr>\n",
       "    <tr>\n",
       "      <th>2532</th>\n",
       "      <td>Бармен.</td>\n",
       "      <td>111009615.00</td>\n",
       "      <td>2015-05-26 12:00:00</td>\n",
       "      <td>Художественный</td>\n",
       "      <td>АО \"ВайТ Медиа\", ООО \"Арт Пикчерс Студия\"</td>\n",
       "      <td>Россия</td>\n",
       "      <td>Д.Штурманова</td>\n",
       "      <td>Т.Вайнштейн</td>\n",
       "      <td>«16+» - для детей старше 16 лет</td>\n",
       "      <td>20000000.00</td>\n",
       "      <td>0.00</td>\n",
       "      <td>0.00</td>\n",
       "      <td>Фонд кино</td>\n",
       "      <td>6.20</td>\n",
       "      <td>комедия,фэнтези</td>\n",
       "      <td>67418976.00</td>\n",
       "    </tr>\n",
       "    <tr>\n",
       "      <th>2615</th>\n",
       "      <td>Савва. Сердце воина</td>\n",
       "      <td>114001715.00</td>\n",
       "      <td>2015-07-21 12:00:00</td>\n",
       "      <td>Анимационный</td>\n",
       "      <td>ООО \"Глюкоза Продакшн\", ООО \"Арт Пикчерс Студия\"</td>\n",
       "      <td>Россия</td>\n",
       "      <td>М.Фадеев</td>\n",
       "      <td>А.Чистяков</td>\n",
       "      <td>«6+» - для детей старше 6 лет</td>\n",
       "      <td>60000000.00</td>\n",
       "      <td>100000000.00</td>\n",
       "      <td>0.00</td>\n",
       "      <td>Фонд кино</td>\n",
       "      <td>4.60</td>\n",
       "      <td>мультфильм,приключения,фэнтези</td>\n",
       "      <td>184487552.00</td>\n",
       "    </tr>\n",
       "    <tr>\n",
       "      <th>2684</th>\n",
       "      <td>Тряпичный союз</td>\n",
       "      <td>111010215.00</td>\n",
       "      <td>2015-06-08 12:00:00</td>\n",
       "      <td>Художественный</td>\n",
       "      <td>ООО \"Кинокомпания \"КОКТЕБЕЛЬ\"</td>\n",
       "      <td>Россия</td>\n",
       "      <td>М.Местецкий</td>\n",
       "      <td>Р.Борисевич, А.Кушаев</td>\n",
       "      <td>«18+» - запрещено для детей</td>\n",
       "      <td>0.00</td>\n",
       "      <td>59000000.00</td>\n",
       "      <td>0.00</td>\n",
       "      <td>Фонд кино</td>\n",
       "      <td>6.30</td>\n",
       "      <td>комедия,драма</td>\n",
       "      <td>1957738.50</td>\n",
       "    </tr>\n",
       "    <tr>\n",
       "      <th>2788</th>\n",
       "      <td>Срочно выйду замуж</td>\n",
       "      <td>111017115.00</td>\n",
       "      <td>2015-09-30 12:00:00</td>\n",
       "      <td>Художественный</td>\n",
       "      <td>АО \"ВайТ Медиа\", ООО \"Арт Пикчерс Студия\"</td>\n",
       "      <td>Россия</td>\n",
       "      <td>С Чекалов</td>\n",
       "      <td>Ф.Бондарчук, Т.Вайнштейн, Д.Рудовский</td>\n",
       "      <td>«16+» - для детей старше 16 лет</td>\n",
       "      <td>0.00</td>\n",
       "      <td>35000000.00</td>\n",
       "      <td>0.00</td>\n",
       "      <td>Фонд кино</td>\n",
       "      <td>5.10</td>\n",
       "      <td>комедия,мелодрама</td>\n",
       "      <td>72937784.00</td>\n",
       "    </tr>\n",
       "    <tr>\n",
       "      <th>2874</th>\n",
       "      <td>Помню - не помню!</td>\n",
       "      <td>111004916.00</td>\n",
       "      <td>2016-03-01 12:00:00</td>\n",
       "      <td>Художественный</td>\n",
       "      <td>ООО \"КиноФирма\"</td>\n",
       "      <td>Россия</td>\n",
       "      <td>В.Ровенский</td>\n",
       "      <td>ООО \"КиноФирма\"</td>\n",
       "      <td>«12+» - для детей старше 12 лет</td>\n",
       "      <td>0.00</td>\n",
       "      <td>6000000.00</td>\n",
       "      <td>0.00</td>\n",
       "      <td>Министерство культуры</td>\n",
       "      <td>4.30</td>\n",
       "      <td>комедия</td>\n",
       "      <td>15362931.00</td>\n",
       "    </tr>\n",
       "    <tr>\n",
       "      <th>3047</th>\n",
       "      <td>Любовь с ограничениями</td>\n",
       "      <td>111008216.00</td>\n",
       "      <td>2016-04-29 12:00:00</td>\n",
       "      <td>Художественный</td>\n",
       "      <td>АО \"ВайТ Медиа\", ООО \"Арт Пикчерс Студия\"</td>\n",
       "      <td>Россия</td>\n",
       "      <td>Д.Тюрин</td>\n",
       "      <td>Ф.Бондарчук, Т.Вайнштейн, Д.Рудовский</td>\n",
       "      <td>«16+» - для детей старше 16 лет</td>\n",
       "      <td>19000000.00</td>\n",
       "      <td>51000000.00</td>\n",
       "      <td>0.00</td>\n",
       "      <td>Фонд кино</td>\n",
       "      <td>6.30</td>\n",
       "      <td>комедия,мелодрама</td>\n",
       "      <td>70299056.00</td>\n",
       "    </tr>\n",
       "    <tr>\n",
       "      <th>3565</th>\n",
       "      <td>Притяжение (2016)</td>\n",
       "      <td>111018116.00</td>\n",
       "      <td>2016-12-16 12:00:00</td>\n",
       "      <td>Художественный</td>\n",
       "      <td>ООО \"Водород 2011\",  ООО \"Арт Пикчерс Студия\"</td>\n",
       "      <td>Россия</td>\n",
       "      <td>Ф.Бондарчук</td>\n",
       "      <td>ООО \"Арт Пикчерс Студия\"</td>\n",
       "      <td>«12+» - для детей старше 12 лет</td>\n",
       "      <td>0.00</td>\n",
       "      <td>250000000.00</td>\n",
       "      <td>0.00</td>\n",
       "      <td>Фонд кино</td>\n",
       "      <td>5.60</td>\n",
       "      <td>фантастика</td>\n",
       "      <td>1038321472.00</td>\n",
       "    </tr>\n",
       "    <tr>\n",
       "      <th>3675</th>\n",
       "      <td>Чудо-юдо</td>\n",
       "      <td>114001817.00</td>\n",
       "      <td>2017-06-27 12:00:00</td>\n",
       "      <td>Анимационный</td>\n",
       "      <td>ООО \"КиноФирма\"</td>\n",
       "      <td>Россия</td>\n",
       "      <td>А.Лукичев</td>\n",
       "      <td>ООО \"КиноФирма\"</td>\n",
       "      <td>«6+» - для детей старше 6 лет</td>\n",
       "      <td>20000000.00</td>\n",
       "      <td>20000000.00</td>\n",
       "      <td>0.00</td>\n",
       "      <td>Фонд кино</td>\n",
       "      <td>5.20</td>\n",
       "      <td>мультфильм,фэнтези,семейный</td>\n",
       "      <td>55108016.00</td>\n",
       "    </tr>\n",
       "    <tr>\n",
       "      <th>3739</th>\n",
       "      <td>Мифы</td>\n",
       "      <td>111004317.00</td>\n",
       "      <td>2017-06-07 12:00:00</td>\n",
       "      <td>Художественный</td>\n",
       "      <td>ООО \"ХАЙПФИЛМ\", ООО \"Арт Пикчерс Студия\"</td>\n",
       "      <td>Россия</td>\n",
       "      <td>А.Молочников</td>\n",
       "      <td>Ф.Бондарчук, Д.Рудовский, И.Стюарт, М.Османн, ...</td>\n",
       "      <td>«16+» - для детей старше 16 лет</td>\n",
       "      <td>25000000.00</td>\n",
       "      <td>20000000.00</td>\n",
       "      <td>0.00</td>\n",
       "      <td>Фонд кино</td>\n",
       "      <td>4.80</td>\n",
       "      <td>комедия</td>\n",
       "      <td>50451948.00</td>\n",
       "    </tr>\n",
       "    <tr>\n",
       "      <th>5673</th>\n",
       "      <td>Селфи</td>\n",
       "      <td>111012117.00</td>\n",
       "      <td>2018-02-01 12:00:00</td>\n",
       "      <td>Художественный</td>\n",
       "      <td>ООО \"Киностудия \"Слово\", ООО \"Арт Пикчерс Студия\"</td>\n",
       "      <td>Россия</td>\n",
       "      <td>Н.Хомерики</td>\n",
       "      <td>П.Ануров, Ф.Бондарчук, Д.Рудовский</td>\n",
       "      <td>«16+» - для детей старше 16 лет</td>\n",
       "      <td>20000000.00</td>\n",
       "      <td>40000000.00</td>\n",
       "      <td>0.00</td>\n",
       "      <td>Фонд кино</td>\n",
       "      <td>5.80</td>\n",
       "      <td>триллер,драма</td>\n",
       "      <td>225196400.00</td>\n",
       "    </tr>\n",
       "    <tr>\n",
       "      <th>5806</th>\n",
       "      <td>Два хвоста</td>\n",
       "      <td>114001018.00</td>\n",
       "      <td>2018-05-31 12:00:00</td>\n",
       "      <td>Анимационный</td>\n",
       "      <td>ООО \"ЛИЦЕНЗИОННЫЕ БРЕНДЫ\"</td>\n",
       "      <td>Россия</td>\n",
       "      <td>В.Ровенский, Н.Лопато, В.Азеев</td>\n",
       "      <td>ООО \"ЛИЦЕНЗИОННЫЕ БРЕНДЫ\"</td>\n",
       "      <td>«6+» - для детей старше 6 лет</td>\n",
       "      <td>10000000.00</td>\n",
       "      <td>60000000.00</td>\n",
       "      <td>0.00</td>\n",
       "      <td>Фонд кино</td>\n",
       "      <td>5.00</td>\n",
       "      <td>мультфильм,детский</td>\n",
       "      <td>106514304.00</td>\n",
       "    </tr>\n",
       "    <tr>\n",
       "      <th>6008</th>\n",
       "      <td>Принцесса и дракон</td>\n",
       "      <td>114003018.00</td>\n",
       "      <td>2018-08-23 12:00:00</td>\n",
       "      <td>Анимационный</td>\n",
       "      <td>ООО \"ЛИЦЕНЗИОННЫЕ БРЕНДЫ\"</td>\n",
       "      <td>Россия</td>\n",
       "      <td>М.Нефедова</td>\n",
       "      <td>ООО \"ЛИЦЕНЗИОННЫЕ БРЕНДЫ\"</td>\n",
       "      <td>«6+» - для детей старше 6 лет</td>\n",
       "      <td>40000000.00</td>\n",
       "      <td>40000000.00</td>\n",
       "      <td>0.00</td>\n",
       "      <td>Фонд кино</td>\n",
       "      <td>5.20</td>\n",
       "      <td>мультфильм,фэнтези,детский</td>\n",
       "      <td>83366328.00</td>\n",
       "    </tr>\n",
       "    <tr>\n",
       "      <th>6323</th>\n",
       "      <td>Баба Яга</td>\n",
       "      <td>114006518.00</td>\n",
       "      <td>2018-11-08 12:00:00</td>\n",
       "      <td>Анимационный</td>\n",
       "      <td>ООО \"Арт Пикчерс Студия\"</td>\n",
       "      <td>Россия</td>\n",
       "      <td>В.Саков</td>\n",
       "      <td>ООО \"Арт Пикчерс Студия\", ООО \"КРИЭЙТИВ АНИМЭЙ...</td>\n",
       "      <td>«6+» - для детей старше 6 лет</td>\n",
       "      <td>0.00</td>\n",
       "      <td>138969472.00</td>\n",
       "      <td>0.00</td>\n",
       "      <td>Фонд кино</td>\n",
       "      <td>NaN</td>\n",
       "      <td>NaN</td>\n",
       "      <td>1334699.38</td>\n",
       "    </tr>\n",
       "    <tr>\n",
       "      <th>6823</th>\n",
       "      <td>Большое путешествие</td>\n",
       "      <td>114002419.00</td>\n",
       "      <td>2019-04-20 12:00:00</td>\n",
       "      <td>Анимационный</td>\n",
       "      <td>ООО \"ЛИЦЕНЗИОННЫЕ БРЕНДЫ\"</td>\n",
       "      <td>Россия</td>\n",
       "      <td>Н.Лопато, В.Ровенский</td>\n",
       "      <td>ООО \"ЛИЦЕНЗИОННЫЕ БРЕНДЫ\"</td>\n",
       "      <td>«6+» - для детей старше 6 лет</td>\n",
       "      <td>60000000.00</td>\n",
       "      <td>120000000.00</td>\n",
       "      <td>0.00</td>\n",
       "      <td>Фонд кино</td>\n",
       "      <td>6.20</td>\n",
       "      <td>мультфильм,комедия,приключения</td>\n",
       "      <td>147606832.00</td>\n",
       "    </tr>\n",
       "  </tbody>\n",
       "</table>\n",
       "</div>"
      ],
      "text/plain": [
       "                       title     puNumber     show_start_date            type  \\\n",
       "2053                     14+ 111023614.00 2014-12-19 12:00:00  Художественный   \n",
       "2058               Дуxless 2 111000415.00 2015-01-26 12:00:00  Художественный   \n",
       "2472             Воин (2015) 111017315.00 2015-09-28 12:00:00  Художественный   \n",
       "2532                 Бармен. 111009615.00 2015-05-26 12:00:00  Художественный   \n",
       "2615     Савва. Сердце воина 114001715.00 2015-07-21 12:00:00    Анимационный   \n",
       "2684          Тряпичный союз 111010215.00 2015-06-08 12:00:00  Художественный   \n",
       "2788      Срочно выйду замуж 111017115.00 2015-09-30 12:00:00  Художественный   \n",
       "2874       Помню - не помню! 111004916.00 2016-03-01 12:00:00  Художественный   \n",
       "3047  Любовь с ограничениями 111008216.00 2016-04-29 12:00:00  Художественный   \n",
       "3565       Притяжение (2016) 111018116.00 2016-12-16 12:00:00  Художественный   \n",
       "3675                Чудо-юдо 114001817.00 2017-06-27 12:00:00    Анимационный   \n",
       "3739                    Мифы 111004317.00 2017-06-07 12:00:00  Художественный   \n",
       "5673                   Селфи 111012117.00 2018-02-01 12:00:00  Художественный   \n",
       "5806              Два хвоста 114001018.00 2018-05-31 12:00:00    Анимационный   \n",
       "6008      Принцесса и дракон 114003018.00 2018-08-23 12:00:00    Анимационный   \n",
       "6323                Баба Яга 114006518.00 2018-11-08 12:00:00    Анимационный   \n",
       "6823     Большое путешествие 114002419.00 2019-04-20 12:00:00    Анимационный   \n",
       "\n",
       "                                            film_studio production_country  \\\n",
       "2053                         ООО Киностудия  \"Сентябрь\"             Россия   \n",
       "2058  ООО \"Киностудия \"Слово\", ООО \"Арт Пикчерс Студия\"             Россия   \n",
       "2472   ООО \"Форпост Продакшн\", ООО \"Арт Пикчерс Студия\"             Россия   \n",
       "2532          АО \"ВайТ Медиа\", ООО \"Арт Пикчерс Студия\"             Россия   \n",
       "2615   ООО \"Глюкоза Продакшн\", ООО \"Арт Пикчерс Студия\"             Россия   \n",
       "2684                      ООО \"Кинокомпания \"КОКТЕБЕЛЬ\"             Россия   \n",
       "2788          АО \"ВайТ Медиа\", ООО \"Арт Пикчерс Студия\"             Россия   \n",
       "2874                                    ООО \"КиноФирма\"             Россия   \n",
       "3047          АО \"ВайТ Медиа\", ООО \"Арт Пикчерс Студия\"             Россия   \n",
       "3565      ООО \"Водород 2011\",  ООО \"Арт Пикчерс Студия\"             Россия   \n",
       "3675                                    ООО \"КиноФирма\"             Россия   \n",
       "3739           ООО \"ХАЙПФИЛМ\", ООО \"Арт Пикчерс Студия\"             Россия   \n",
       "5673  ООО \"Киностудия \"Слово\", ООО \"Арт Пикчерс Студия\"             Россия   \n",
       "5806                          ООО \"ЛИЦЕНЗИОННЫЕ БРЕНДЫ\"             Россия   \n",
       "6008                          ООО \"ЛИЦЕНЗИОННЫЕ БРЕНДЫ\"             Россия   \n",
       "6323                           ООО \"Арт Пикчерс Студия\"             Россия   \n",
       "6823                          ООО \"ЛИЦЕНЗИОННЫЕ БРЕНДЫ\"             Россия   \n",
       "\n",
       "                            director  \\\n",
       "2053                        А.Зайцев   \n",
       "2058                      Р.Прыгунов   \n",
       "2472                     А.Андрианов   \n",
       "2532                    Д.Штурманова   \n",
       "2615                        М.Фадеев   \n",
       "2684                     М.Местецкий   \n",
       "2788                       С Чекалов   \n",
       "2874                     В.Ровенский   \n",
       "3047                         Д.Тюрин   \n",
       "3565                     Ф.Бондарчук   \n",
       "3675                       А.Лукичев   \n",
       "3739                    А.Молочников   \n",
       "5673                      Н.Хомерики   \n",
       "5806  В.Ровенский, Н.Лопато, В.Азеев   \n",
       "6008                      М.Нефедова   \n",
       "6323                         В.Саков   \n",
       "6823           Н.Лопато, В.Ровенский   \n",
       "\n",
       "                                               producer  \\\n",
       "2053                                О.Гранина, А.Зайцев   \n",
       "2058                 П.Ануров, Ф.Бондарчук, Д.Рудовский   \n",
       "2472                           ООО \"Арт Пикчерс Студия\"   \n",
       "2532                                        Т.Вайнштейн   \n",
       "2615                                         А.Чистяков   \n",
       "2684                              Р.Борисевич, А.Кушаев   \n",
       "2788              Ф.Бондарчук, Т.Вайнштейн, Д.Рудовский   \n",
       "2874                                    ООО \"КиноФирма\"   \n",
       "3047              Ф.Бондарчук, Т.Вайнштейн, Д.Рудовский   \n",
       "3565                           ООО \"Арт Пикчерс Студия\"   \n",
       "3675                                    ООО \"КиноФирма\"   \n",
       "3739  Ф.Бондарчук, Д.Рудовский, И.Стюарт, М.Османн, ...   \n",
       "5673                 П.Ануров, Ф.Бондарчук, Д.Рудовский   \n",
       "5806                          ООО \"ЛИЦЕНЗИОННЫЕ БРЕНДЫ\"   \n",
       "6008                          ООО \"ЛИЦЕНЗИОННЫЕ БРЕНДЫ\"   \n",
       "6323  ООО \"Арт Пикчерс Студия\", ООО \"КРИЭЙТИВ АНИМЭЙ...   \n",
       "6823                          ООО \"ЛИЦЕНЗИОННЫЕ БРЕНДЫ\"   \n",
       "\n",
       "                      age_restriction  refundable_support  \\\n",
       "2053  «16+» - для детей старше 16 лет                0.00   \n",
       "2058  «16+» - для детей старше 16 лет                0.00   \n",
       "2472  «12+» - для детей старше 12 лет         10000000.00   \n",
       "2532  «16+» - для детей старше 16 лет         20000000.00   \n",
       "2615    «6+» - для детей старше 6 лет         60000000.00   \n",
       "2684      «18+» - запрещено для детей                0.00   \n",
       "2788  «16+» - для детей старше 16 лет                0.00   \n",
       "2874  «12+» - для детей старше 12 лет                0.00   \n",
       "3047  «16+» - для детей старше 16 лет         19000000.00   \n",
       "3565  «12+» - для детей старше 12 лет                0.00   \n",
       "3675    «6+» - для детей старше 6 лет         20000000.00   \n",
       "3739  «16+» - для детей старше 16 лет         25000000.00   \n",
       "5673  «16+» - для детей старше 16 лет         20000000.00   \n",
       "5806    «6+» - для детей старше 6 лет         10000000.00   \n",
       "6008    «6+» - для детей старше 6 лет         40000000.00   \n",
       "6323    «6+» - для детей старше 6 лет                0.00   \n",
       "6823    «6+» - для детей старше 6 лет         60000000.00   \n",
       "\n",
       "      nonrefundable_support  budget                  financing_source  \\\n",
       "2053            23000000.00    0.00  Министерство культуры, Фонд кино   \n",
       "2058            75000000.00    0.00                         Фонд кино   \n",
       "2472            70000000.00    0.00                         Фонд кино   \n",
       "2532                   0.00    0.00                         Фонд кино   \n",
       "2615           100000000.00    0.00                         Фонд кино   \n",
       "2684            59000000.00    0.00                         Фонд кино   \n",
       "2788            35000000.00    0.00                         Фонд кино   \n",
       "2874             6000000.00    0.00             Министерство культуры   \n",
       "3047            51000000.00    0.00                         Фонд кино   \n",
       "3565           250000000.00    0.00                         Фонд кино   \n",
       "3675            20000000.00    0.00                         Фонд кино   \n",
       "3739            20000000.00    0.00                         Фонд кино   \n",
       "5673            40000000.00    0.00                         Фонд кино   \n",
       "5806            60000000.00    0.00                         Фонд кино   \n",
       "6008            40000000.00    0.00                         Фонд кино   \n",
       "6323           138969472.00    0.00                         Фонд кино   \n",
       "6823           120000000.00    0.00                         Фонд кино   \n",
       "\n",
       "      ratings                          genres    box_office  \n",
       "2053     6.60                       мелодрама   10234016.00  \n",
       "2058     6.60                           драма  446163520.00  \n",
       "2472     7.80           боевик,драма,криминал  196572432.00  \n",
       "2532     6.20                 комедия,фэнтези   67418976.00  \n",
       "2615     4.60  мультфильм,приключения,фэнтези  184487552.00  \n",
       "2684     6.30                   комедия,драма    1957738.50  \n",
       "2788     5.10               комедия,мелодрама   72937784.00  \n",
       "2874     4.30                         комедия   15362931.00  \n",
       "3047     6.30               комедия,мелодрама   70299056.00  \n",
       "3565     5.60                      фантастика 1038321472.00  \n",
       "3675     5.20     мультфильм,фэнтези,семейный   55108016.00  \n",
       "3739     4.80                         комедия   50451948.00  \n",
       "5673     5.80                   триллер,драма  225196400.00  \n",
       "5806     5.00              мультфильм,детский  106514304.00  \n",
       "6008     5.20      мультфильм,фэнтези,детский   83366328.00  \n",
       "6323      NaN                             NaN    1334699.38  \n",
       "6823     6.20  мультфильм,комедия,приключения  147606832.00  "
      ]
     },
     "execution_count": 41,
     "metadata": {},
     "output_type": "execute_result"
    }
   ],
   "source": [
    "movies.loc[(movies['refundable_support'] > movies['budget']) | (movies['nonrefundable_support'] > movies['budget'])]"
   ]
  },
  {
   "cell_type": "markdown",
   "metadata": {},
   "source": [
    "Таких строк 17, заменим бюджет в этих строках на NaN."
   ]
  },
  {
   "cell_type": "code",
   "execution_count": 42,
   "metadata": {},
   "outputs": [],
   "source": [
    "movies.loc[(movies['refundable_support'] > movies['budget'])\\\n",
    "    | (movies['nonrefundable_support'] > movies['budget']), 'budget'] \\\n",
    "    = np.nan"
   ]
  },
  {
   "cell_type": "markdown",
   "metadata": {},
   "source": [
    "Построим диаграммы размаха"
   ]
  },
  {
   "cell_type": "code",
   "execution_count": 43,
   "metadata": {},
   "outputs": [
    {
     "data": {
      "text/plain": [
       "<AxesSubplot:>"
      ]
     },
     "execution_count": 43,
     "metadata": {},
     "output_type": "execute_result"
    },
    {
     "data": {
      "image/png": "[encoded data removed]",
      "text/plain": [
       "<Figure size 648x432 with 1 Axes>"
      ]
     },
     "metadata": {
      "needs_background": "light"
     },
     "output_type": "display_data"
    }
   ],
   "source": [
    "movies.boxplot(column=['refundable_support'], figsize=(9,6))"
   ]
  },
  {
   "cell_type": "code",
   "execution_count": 44,
   "metadata": {},
   "outputs": [
    {
     "data": {
      "text/plain": [
       "<AxesSubplot:>"
      ]
     },
     "execution_count": 44,
     "metadata": {},
     "output_type": "execute_result"
    },
    {
     "data": {
      "image/png": "[encoded data removed]",
      "text/plain": [
       "<Figure size 648x432 with 1 Axes>"
      ]
     },
     "metadata": {
      "needs_background": "light"
     },
     "output_type": "display_data"
    }
   ],
   "source": [
    "movies.boxplot(column=['nonrefundable_support'], figsize=(9,6))"
   ]
  },
  {
   "cell_type": "code",
   "execution_count": 45,
   "metadata": {},
   "outputs": [
    {
     "data": {
      "text/plain": [
       "<AxesSubplot:>"
      ]
     },
     "execution_count": 45,
     "metadata": {},
     "output_type": "execute_result"
    },
    {
     "data": {
      "image/png": "[encoded data removed]",
      "text/plain": [
       "<Figure size 648x432 with 1 Axes>"
      ]
     },
     "metadata": {
      "needs_background": "light"
     },
     "output_type": "display_data"
    }
   ],
   "source": [
    "movies.boxplot(column=['budget'], figsize=(9,6))"
   ]
  },
  {
   "cell_type": "code",
   "execution_count": 46,
   "metadata": {},
   "outputs": [
    {
     "data": {
      "text/plain": [
       "<AxesSubplot:>"
      ]
     },
     "execution_count": 46,
     "metadata": {},
     "output_type": "execute_result"
    },
    {
     "data": {
      "image/png": "[encoded data removed]",
      "text/plain": [
       "<Figure size 648x432 with 1 Axes>"
      ]
     },
     "metadata": {
      "needs_background": "light"
     },
     "output_type": "display_data"
    }
   ],
   "source": [
    "movies.boxplot(column=['box_office'], figsize=(9,6))"
   ]
  },
  {
   "cell_type": "code",
   "execution_count": 47,
   "metadata": {},
   "outputs": [
    {
     "data": {
      "text/plain": [
       "<AxesSubplot:>"
      ]
     },
     "execution_count": 47,
     "metadata": {},
     "output_type": "execute_result"
    },
    {
     "data": {
      "image/png": "[encoded data removed]",
      "text/plain": [
       "<Figure size 648x432 with 1 Axes>"
      ]
     },
     "metadata": {
      "needs_background": "light"
     },
     "output_type": "display_data"
    }
   ],
   "source": [
    "movies.boxplot(column=['ratings'], figsize=(9,6))"
   ]
  },
  {
   "cell_type": "markdown",
   "metadata": {},
   "source": [
    "Во всех количественных данных видно достаточно много аномально высоких значений (выше Q3+1.5*IQR), это показывает, что есть много фильмов, у которых сумма господдержки, бюджет и сумма сборов фильма выше, чем у большинства. Это выглядит логично, так как большинство фильмов должны быть недорогими (например для телевидиния или категории Б), но при этом достаточно много высокобюджетных кассовых фильмов (для кинотеатров, категории А)."
   ]
  },
  {
   "cell_type": "markdown",
   "metadata": {},
   "source": [
    "Много фильмов аномально низким рейтингом - причиной этого, скорее всего, является то, что большинство фильмов с малым бюджетом, они нацелены на узкую группу людей, сняты низкоквалифицированными специалистами с худшей проработкой или были сняты для освоения господдержки и цели в получении прибыли не имели."
   ]
  },
  {
   "cell_type": "markdown",
   "metadata": {
    "id": "Eu6oWp2CgFyS"
   },
   "source": [
    "### Добавление новых столбцов"
   ]
  },
  {
   "cell_type": "markdown",
   "metadata": {},
   "source": [
    "Добавим столбец с годом выхода фильма"
   ]
  },
  {
   "cell_type": "code",
   "execution_count": 48,
   "metadata": {
    "id": "I-yd1DkWgFyT"
   },
   "outputs": [],
   "source": [
    "movies['year'] = pd.DatetimeIndex(movies['show_start_date']).year"
   ]
  },
  {
   "cell_type": "code",
   "execution_count": 49,
   "metadata": {},
   "outputs": [
    {
     "data": {
      "text/html": [
       "<div>\n",
       "<style scoped>\n",
       "    .dataframe tbody tr th:only-of-type {\n",
       "        vertical-align: middle;\n",
       "    }\n",
       "\n",
       "    .dataframe tbody tr th {\n",
       "        vertical-align: top;\n",
       "    }\n",
       "\n",
       "    .dataframe thead th {\n",
       "        text-align: right;\n",
       "    }\n",
       "</style>\n",
       "<table border=\"1\" class=\"dataframe\">\n",
       "  <thead>\n",
       "    <tr style=\"text-align: right;\">\n",
       "      <th></th>\n",
       "      <th>title</th>\n",
       "      <th>puNumber</th>\n",
       "      <th>show_start_date</th>\n",
       "      <th>type</th>\n",
       "      <th>film_studio</th>\n",
       "      <th>production_country</th>\n",
       "      <th>director</th>\n",
       "      <th>producer</th>\n",
       "      <th>age_restriction</th>\n",
       "      <th>refundable_support</th>\n",
       "      <th>nonrefundable_support</th>\n",
       "      <th>budget</th>\n",
       "      <th>financing_source</th>\n",
       "      <th>ratings</th>\n",
       "      <th>genres</th>\n",
       "      <th>box_office</th>\n",
       "      <th>year</th>\n",
       "    </tr>\n",
       "  </thead>\n",
       "  <tbody>\n",
       "    <tr>\n",
       "      <th>0</th>\n",
       "      <td>Открытый простор</td>\n",
       "      <td>221048915.00</td>\n",
       "      <td>2015-11-27 12:00:00</td>\n",
       "      <td>Художественный</td>\n",
       "      <td>Тачстоун Пикчерз, Кобальт Пикчерз, Бикон Пикче...</td>\n",
       "      <td>США</td>\n",
       "      <td>Кевин Костнер</td>\n",
       "      <td>Дэвид Валдес, Кевин Костнер, Джейк Эбертс</td>\n",
       "      <td>«18+» - запрещено для детей</td>\n",
       "      <td>NaN</td>\n",
       "      <td>NaN</td>\n",
       "      <td>NaN</td>\n",
       "      <td>NaN</td>\n",
       "      <td>7.20</td>\n",
       "      <td>боевик,драма,мелодрама</td>\n",
       "      <td>NaN</td>\n",
       "      <td>2015</td>\n",
       "    </tr>\n",
       "    <tr>\n",
       "      <th>1</th>\n",
       "      <td>Особо важное задание</td>\n",
       "      <td>111013716.00</td>\n",
       "      <td>2016-09-13 12:00:00</td>\n",
       "      <td>Художественный</td>\n",
       "      <td>Киностудия \"Мосфильм\"</td>\n",
       "      <td>СССР</td>\n",
       "      <td>Е.Матвеев</td>\n",
       "      <td>NaN</td>\n",
       "      <td>«6+» - для детей старше 6 лет</td>\n",
       "      <td>NaN</td>\n",
       "      <td>NaN</td>\n",
       "      <td>NaN</td>\n",
       "      <td>NaN</td>\n",
       "      <td>6.60</td>\n",
       "      <td>драма,военный</td>\n",
       "      <td>NaN</td>\n",
       "      <td>2016</td>\n",
       "    </tr>\n",
       "    <tr>\n",
       "      <th>2</th>\n",
       "      <td>Особо опасен</td>\n",
       "      <td>221038416.00</td>\n",
       "      <td>2016-10-10 12:00:00</td>\n",
       "      <td>Художественный</td>\n",
       "      <td>Юниверсал Пикчерз, Кикстарт Продакшнз, Марк Пл...</td>\n",
       "      <td>США</td>\n",
       "      <td>Тимур Бекмамбетов</td>\n",
       "      <td>Джим Лемли, Джейсон Нетер, Марк Е.Платт, Яйн Смит</td>\n",
       "      <td>«18+» - запрещено для детей</td>\n",
       "      <td>NaN</td>\n",
       "      <td>NaN</td>\n",
       "      <td>NaN</td>\n",
       "      <td>NaN</td>\n",
       "      <td>6.80</td>\n",
       "      <td>фантастика,боевик,триллер</td>\n",
       "      <td>NaN</td>\n",
       "      <td>2016</td>\n",
       "    </tr>\n",
       "    <tr>\n",
       "      <th>5</th>\n",
       "      <td>Остановился поезд</td>\n",
       "      <td>111013816.00</td>\n",
       "      <td>2016-09-13 12:00:00</td>\n",
       "      <td>Художественный</td>\n",
       "      <td>Киностудия \"Мосфильм\"</td>\n",
       "      <td>СССР</td>\n",
       "      <td>В.Абдрашитов</td>\n",
       "      <td>NaN</td>\n",
       "      <td>«6+» - для детей старше 6 лет</td>\n",
       "      <td>NaN</td>\n",
       "      <td>NaN</td>\n",
       "      <td>NaN</td>\n",
       "      <td>NaN</td>\n",
       "      <td>7.70</td>\n",
       "      <td>драма</td>\n",
       "      <td>NaN</td>\n",
       "      <td>2016</td>\n",
       "    </tr>\n",
       "    <tr>\n",
       "      <th>6</th>\n",
       "      <td>Любовь и голуби</td>\n",
       "      <td>111007013.00</td>\n",
       "      <td>2013-10-18 12:00:00</td>\n",
       "      <td>Художественный</td>\n",
       "      <td>Киностудия \"Мосфильм\"</td>\n",
       "      <td>СССР</td>\n",
       "      <td>В.Меньшов</td>\n",
       "      <td>NaN</td>\n",
       "      <td>«12+» - для детей старше 12 лет</td>\n",
       "      <td>NaN</td>\n",
       "      <td>NaN</td>\n",
       "      <td>NaN</td>\n",
       "      <td>NaN</td>\n",
       "      <td>8.30</td>\n",
       "      <td>мелодрама,комедия</td>\n",
       "      <td>2700.00</td>\n",
       "      <td>2013</td>\n",
       "    </tr>\n",
       "  </tbody>\n",
       "</table>\n",
       "</div>"
      ],
      "text/plain": [
       "                  title     puNumber     show_start_date            type  \\\n",
       "0      Открытый простор 221048915.00 2015-11-27 12:00:00  Художественный   \n",
       "1  Особо важное задание 111013716.00 2016-09-13 12:00:00  Художественный   \n",
       "2          Особо опасен 221038416.00 2016-10-10 12:00:00  Художественный   \n",
       "5     Остановился поезд 111013816.00 2016-09-13 12:00:00  Художественный   \n",
       "6       Любовь и голуби 111007013.00 2013-10-18 12:00:00  Художественный   \n",
       "\n",
       "                                         film_studio production_country  \\\n",
       "0  Тачстоун Пикчерз, Кобальт Пикчерз, Бикон Пикче...                США   \n",
       "1                              Киностудия \"Мосфильм\"               СССР   \n",
       "2  Юниверсал Пикчерз, Кикстарт Продакшнз, Марк Пл...                США   \n",
       "5                              Киностудия \"Мосфильм\"               СССР   \n",
       "6                              Киностудия \"Мосфильм\"               СССР   \n",
       "\n",
       "            director                                           producer  \\\n",
       "0      Кевин Костнер          Дэвид Валдес, Кевин Костнер, Джейк Эбертс   \n",
       "1          Е.Матвеев                                                NaN   \n",
       "2  Тимур Бекмамбетов  Джим Лемли, Джейсон Нетер, Марк Е.Платт, Яйн Смит   \n",
       "5       В.Абдрашитов                                                NaN   \n",
       "6          В.Меньшов                                                NaN   \n",
       "\n",
       "                   age_restriction  refundable_support  nonrefundable_support  \\\n",
       "0      «18+» - запрещено для детей                 NaN                    NaN   \n",
       "1    «6+» - для детей старше 6 лет                 NaN                    NaN   \n",
       "2      «18+» - запрещено для детей                 NaN                    NaN   \n",
       "5    «6+» - для детей старше 6 лет                 NaN                    NaN   \n",
       "6  «12+» - для детей старше 12 лет                 NaN                    NaN   \n",
       "\n",
       "   budget financing_source  ratings                     genres  box_office  \\\n",
       "0     NaN              NaN     7.20     боевик,драма,мелодрама         NaN   \n",
       "1     NaN              NaN     6.60              драма,военный         NaN   \n",
       "2     NaN              NaN     6.80  фантастика,боевик,триллер         NaN   \n",
       "5     NaN              NaN     7.70                      драма         NaN   \n",
       "6     NaN              NaN     8.30          мелодрама,комедия     2700.00   \n",
       "\n",
       "   year  \n",
       "0  2015  \n",
       "1  2016  \n",
       "2  2016  \n",
       "5  2016  \n",
       "6  2013  "
      ]
     },
     "execution_count": 49,
     "metadata": {},
     "output_type": "execute_result"
    }
   ],
   "source": [
    "movies.head()"
   ]
  },
  {
   "cell_type": "markdown",
   "metadata": {
    "id": "nFTDLDYOgFyT"
   },
   "source": [
    "Создадим два столбца: с именем и фамилией главного режиссёра и основным жанром фильма"
   ]
  },
  {
   "cell_type": "code",
   "execution_count": 50,
   "metadata": {
    "id": "LSbRZKbMgFyU"
   },
   "outputs": [],
   "source": [
    "def first_word(row): # функция возвращает первое значение, разделитель \",\"\n",
    "    return row.str.split(',').str.get(0)"
   ]
  },
  {
   "cell_type": "code",
   "execution_count": 51,
   "metadata": {},
   "outputs": [],
   "source": [
    "movies['main_director'] = first_word(movies['director'])\n",
    "movies['main_genre'] = first_word(movies['genres'])"
   ]
  },
  {
   "cell_type": "code",
   "execution_count": 52,
   "metadata": {},
   "outputs": [
    {
     "data": {
      "text/html": [
       "<div>\n",
       "<style scoped>\n",
       "    .dataframe tbody tr th:only-of-type {\n",
       "        vertical-align: middle;\n",
       "    }\n",
       "\n",
       "    .dataframe tbody tr th {\n",
       "        vertical-align: top;\n",
       "    }\n",
       "\n",
       "    .dataframe thead th {\n",
       "        text-align: right;\n",
       "    }\n",
       "</style>\n",
       "<table border=\"1\" class=\"dataframe\">\n",
       "  <thead>\n",
       "    <tr style=\"text-align: right;\">\n",
       "      <th></th>\n",
       "      <th>title</th>\n",
       "      <th>puNumber</th>\n",
       "      <th>show_start_date</th>\n",
       "      <th>type</th>\n",
       "      <th>film_studio</th>\n",
       "      <th>production_country</th>\n",
       "      <th>director</th>\n",
       "      <th>producer</th>\n",
       "      <th>age_restriction</th>\n",
       "      <th>refundable_support</th>\n",
       "      <th>nonrefundable_support</th>\n",
       "      <th>budget</th>\n",
       "      <th>financing_source</th>\n",
       "      <th>ratings</th>\n",
       "      <th>genres</th>\n",
       "      <th>box_office</th>\n",
       "      <th>year</th>\n",
       "      <th>main_director</th>\n",
       "      <th>main_genre</th>\n",
       "    </tr>\n",
       "  </thead>\n",
       "  <tbody>\n",
       "    <tr>\n",
       "      <th>0</th>\n",
       "      <td>Открытый простор</td>\n",
       "      <td>221048915.00</td>\n",
       "      <td>2015-11-27 12:00:00</td>\n",
       "      <td>Художественный</td>\n",
       "      <td>Тачстоун Пикчерз, Кобальт Пикчерз, Бикон Пикче...</td>\n",
       "      <td>США</td>\n",
       "      <td>Кевин Костнер</td>\n",
       "      <td>Дэвид Валдес, Кевин Костнер, Джейк Эбертс</td>\n",
       "      <td>«18+» - запрещено для детей</td>\n",
       "      <td>NaN</td>\n",
       "      <td>NaN</td>\n",
       "      <td>NaN</td>\n",
       "      <td>NaN</td>\n",
       "      <td>7.20</td>\n",
       "      <td>боевик,драма,мелодрама</td>\n",
       "      <td>NaN</td>\n",
       "      <td>2015</td>\n",
       "      <td>Кевин Костнер</td>\n",
       "      <td>боевик</td>\n",
       "    </tr>\n",
       "    <tr>\n",
       "      <th>1</th>\n",
       "      <td>Особо важное задание</td>\n",
       "      <td>111013716.00</td>\n",
       "      <td>2016-09-13 12:00:00</td>\n",
       "      <td>Художественный</td>\n",
       "      <td>Киностудия \"Мосфильм\"</td>\n",
       "      <td>СССР</td>\n",
       "      <td>Е.Матвеев</td>\n",
       "      <td>NaN</td>\n",
       "      <td>«6+» - для детей старше 6 лет</td>\n",
       "      <td>NaN</td>\n",
       "      <td>NaN</td>\n",
       "      <td>NaN</td>\n",
       "      <td>NaN</td>\n",
       "      <td>6.60</td>\n",
       "      <td>драма,военный</td>\n",
       "      <td>NaN</td>\n",
       "      <td>2016</td>\n",
       "      <td>Е.Матвеев</td>\n",
       "      <td>драма</td>\n",
       "    </tr>\n",
       "    <tr>\n",
       "      <th>2</th>\n",
       "      <td>Особо опасен</td>\n",
       "      <td>221038416.00</td>\n",
       "      <td>2016-10-10 12:00:00</td>\n",
       "      <td>Художественный</td>\n",
       "      <td>Юниверсал Пикчерз, Кикстарт Продакшнз, Марк Пл...</td>\n",
       "      <td>США</td>\n",
       "      <td>Тимур Бекмамбетов</td>\n",
       "      <td>Джим Лемли, Джейсон Нетер, Марк Е.Платт, Яйн Смит</td>\n",
       "      <td>«18+» - запрещено для детей</td>\n",
       "      <td>NaN</td>\n",
       "      <td>NaN</td>\n",
       "      <td>NaN</td>\n",
       "      <td>NaN</td>\n",
       "      <td>6.80</td>\n",
       "      <td>фантастика,боевик,триллер</td>\n",
       "      <td>NaN</td>\n",
       "      <td>2016</td>\n",
       "      <td>Тимур Бекмамбетов</td>\n",
       "      <td>фантастика</td>\n",
       "    </tr>\n",
       "    <tr>\n",
       "      <th>5</th>\n",
       "      <td>Остановился поезд</td>\n",
       "      <td>111013816.00</td>\n",
       "      <td>2016-09-13 12:00:00</td>\n",
       "      <td>Художественный</td>\n",
       "      <td>Киностудия \"Мосфильм\"</td>\n",
       "      <td>СССР</td>\n",
       "      <td>В.Абдрашитов</td>\n",
       "      <td>NaN</td>\n",
       "      <td>«6+» - для детей старше 6 лет</td>\n",
       "      <td>NaN</td>\n",
       "      <td>NaN</td>\n",
       "      <td>NaN</td>\n",
       "      <td>NaN</td>\n",
       "      <td>7.70</td>\n",
       "      <td>драма</td>\n",
       "      <td>NaN</td>\n",
       "      <td>2016</td>\n",
       "      <td>В.Абдрашитов</td>\n",
       "      <td>драма</td>\n",
       "    </tr>\n",
       "    <tr>\n",
       "      <th>6</th>\n",
       "      <td>Любовь и голуби</td>\n",
       "      <td>111007013.00</td>\n",
       "      <td>2013-10-18 12:00:00</td>\n",
       "      <td>Художественный</td>\n",
       "      <td>Киностудия \"Мосфильм\"</td>\n",
       "      <td>СССР</td>\n",
       "      <td>В.Меньшов</td>\n",
       "      <td>NaN</td>\n",
       "      <td>«12+» - для детей старше 12 лет</td>\n",
       "      <td>NaN</td>\n",
       "      <td>NaN</td>\n",
       "      <td>NaN</td>\n",
       "      <td>NaN</td>\n",
       "      <td>8.30</td>\n",
       "      <td>мелодрама,комедия</td>\n",
       "      <td>2700.00</td>\n",
       "      <td>2013</td>\n",
       "      <td>В.Меньшов</td>\n",
       "      <td>мелодрама</td>\n",
       "    </tr>\n",
       "  </tbody>\n",
       "</table>\n",
       "</div>"
      ],
      "text/plain": [
       "                  title     puNumber     show_start_date            type  \\\n",
       "0      Открытый простор 221048915.00 2015-11-27 12:00:00  Художественный   \n",
       "1  Особо важное задание 111013716.00 2016-09-13 12:00:00  Художественный   \n",
       "2          Особо опасен 221038416.00 2016-10-10 12:00:00  Художественный   \n",
       "5     Остановился поезд 111013816.00 2016-09-13 12:00:00  Художественный   \n",
       "6       Любовь и голуби 111007013.00 2013-10-18 12:00:00  Художественный   \n",
       "\n",
       "                                         film_studio production_country  \\\n",
       "0  Тачстоун Пикчерз, Кобальт Пикчерз, Бикон Пикче...                США   \n",
       "1                              Киностудия \"Мосфильм\"               СССР   \n",
       "2  Юниверсал Пикчерз, Кикстарт Продакшнз, Марк Пл...                США   \n",
       "5                              Киностудия \"Мосфильм\"               СССР   \n",
       "6                              Киностудия \"Мосфильм\"               СССР   \n",
       "\n",
       "            director                                           producer  \\\n",
       "0      Кевин Костнер          Дэвид Валдес, Кевин Костнер, Джейк Эбертс   \n",
       "1          Е.Матвеев                                                NaN   \n",
       "2  Тимур Бекмамбетов  Джим Лемли, Джейсон Нетер, Марк Е.Платт, Яйн Смит   \n",
       "5       В.Абдрашитов                                                NaN   \n",
       "6          В.Меньшов                                                NaN   \n",
       "\n",
       "                   age_restriction  refundable_support  nonrefundable_support  \\\n",
       "0      «18+» - запрещено для детей                 NaN                    NaN   \n",
       "1    «6+» - для детей старше 6 лет                 NaN                    NaN   \n",
       "2      «18+» - запрещено для детей                 NaN                    NaN   \n",
       "5    «6+» - для детей старше 6 лет                 NaN                    NaN   \n",
       "6  «12+» - для детей старше 12 лет                 NaN                    NaN   \n",
       "\n",
       "   budget financing_source  ratings                     genres  box_office  \\\n",
       "0     NaN              NaN     7.20     боевик,драма,мелодрама         NaN   \n",
       "1     NaN              NaN     6.60              драма,военный         NaN   \n",
       "2     NaN              NaN     6.80  фантастика,боевик,триллер         NaN   \n",
       "5     NaN              NaN     7.70                      драма         NaN   \n",
       "6     NaN              NaN     8.30          мелодрама,комедия     2700.00   \n",
       "\n",
       "   year      main_director  main_genre  \n",
       "0  2015      Кевин Костнер      боевик  \n",
       "1  2016          Е.Матвеев       драма  \n",
       "2  2016  Тимур Бекмамбетов  фантастика  \n",
       "5  2016       В.Абдрашитов       драма  \n",
       "6  2013          В.Меньшов   мелодрама  "
      ]
     },
     "execution_count": 52,
     "metadata": {},
     "output_type": "execute_result"
    }
   ],
   "source": [
    "movies.head()"
   ]
  },
  {
   "cell_type": "markdown",
   "metadata": {
    "id": "1FsCXHwdgFyU"
   },
   "source": [
    "Посчитаем, какую долю от общего бюджета фильма составляет государственная поддержка."
   ]
  },
  {
   "cell_type": "code",
   "execution_count": 53,
   "metadata": {
    "id": "LV6qFuZLgFyV"
   },
   "outputs": [],
   "source": [
    "movies['support_to_budget'] = (movies['refundable_support'] + movies['nonrefundable_support']) / movies['budget']"
   ]
  },
  {
   "cell_type": "code",
   "execution_count": 54,
   "metadata": {},
   "outputs": [
    {
     "data": {
      "text/html": [
       "<div>\n",
       "<style scoped>\n",
       "    .dataframe tbody tr th:only-of-type {\n",
       "        vertical-align: middle;\n",
       "    }\n",
       "\n",
       "    .dataframe tbody tr th {\n",
       "        vertical-align: top;\n",
       "    }\n",
       "\n",
       "    .dataframe thead th {\n",
       "        text-align: right;\n",
       "    }\n",
       "</style>\n",
       "<table border=\"1\" class=\"dataframe\">\n",
       "  <thead>\n",
       "    <tr style=\"text-align: right;\">\n",
       "      <th></th>\n",
       "      <th>title</th>\n",
       "      <th>puNumber</th>\n",
       "      <th>show_start_date</th>\n",
       "      <th>type</th>\n",
       "      <th>film_studio</th>\n",
       "      <th>production_country</th>\n",
       "      <th>director</th>\n",
       "      <th>producer</th>\n",
       "      <th>age_restriction</th>\n",
       "      <th>refundable_support</th>\n",
       "      <th>nonrefundable_support</th>\n",
       "      <th>budget</th>\n",
       "      <th>financing_source</th>\n",
       "      <th>ratings</th>\n",
       "      <th>genres</th>\n",
       "      <th>box_office</th>\n",
       "      <th>year</th>\n",
       "      <th>main_director</th>\n",
       "      <th>main_genre</th>\n",
       "      <th>support_to_budget</th>\n",
       "    </tr>\n",
       "  </thead>\n",
       "  <tbody>\n",
       "    <tr>\n",
       "      <th>0</th>\n",
       "      <td>Открытый простор</td>\n",
       "      <td>221048915.00</td>\n",
       "      <td>2015-11-27 12:00:00</td>\n",
       "      <td>Художественный</td>\n",
       "      <td>Тачстоун Пикчерз, Кобальт Пикчерз, Бикон Пикче...</td>\n",
       "      <td>США</td>\n",
       "      <td>Кевин Костнер</td>\n",
       "      <td>Дэвид Валдес, Кевин Костнер, Джейк Эбертс</td>\n",
       "      <td>«18+» - запрещено для детей</td>\n",
       "      <td>NaN</td>\n",
       "      <td>NaN</td>\n",
       "      <td>NaN</td>\n",
       "      <td>NaN</td>\n",
       "      <td>7.20</td>\n",
       "      <td>боевик,драма,мелодрама</td>\n",
       "      <td>NaN</td>\n",
       "      <td>2015</td>\n",
       "      <td>Кевин Костнер</td>\n",
       "      <td>боевик</td>\n",
       "      <td>NaN</td>\n",
       "    </tr>\n",
       "    <tr>\n",
       "      <th>1</th>\n",
       "      <td>Особо важное задание</td>\n",
       "      <td>111013716.00</td>\n",
       "      <td>2016-09-13 12:00:00</td>\n",
       "      <td>Художественный</td>\n",
       "      <td>Киностудия \"Мосфильм\"</td>\n",
       "      <td>СССР</td>\n",
       "      <td>Е.Матвеев</td>\n",
       "      <td>NaN</td>\n",
       "      <td>«6+» - для детей старше 6 лет</td>\n",
       "      <td>NaN</td>\n",
       "      <td>NaN</td>\n",
       "      <td>NaN</td>\n",
       "      <td>NaN</td>\n",
       "      <td>6.60</td>\n",
       "      <td>драма,военный</td>\n",
       "      <td>NaN</td>\n",
       "      <td>2016</td>\n",
       "      <td>Е.Матвеев</td>\n",
       "      <td>драма</td>\n",
       "      <td>NaN</td>\n",
       "    </tr>\n",
       "    <tr>\n",
       "      <th>2</th>\n",
       "      <td>Особо опасен</td>\n",
       "      <td>221038416.00</td>\n",
       "      <td>2016-10-10 12:00:00</td>\n",
       "      <td>Художественный</td>\n",
       "      <td>Юниверсал Пикчерз, Кикстарт Продакшнз, Марк Пл...</td>\n",
       "      <td>США</td>\n",
       "      <td>Тимур Бекмамбетов</td>\n",
       "      <td>Джим Лемли, Джейсон Нетер, Марк Е.Платт, Яйн Смит</td>\n",
       "      <td>«18+» - запрещено для детей</td>\n",
       "      <td>NaN</td>\n",
       "      <td>NaN</td>\n",
       "      <td>NaN</td>\n",
       "      <td>NaN</td>\n",
       "      <td>6.80</td>\n",
       "      <td>фантастика,боевик,триллер</td>\n",
       "      <td>NaN</td>\n",
       "      <td>2016</td>\n",
       "      <td>Тимур Бекмамбетов</td>\n",
       "      <td>фантастика</td>\n",
       "      <td>NaN</td>\n",
       "    </tr>\n",
       "    <tr>\n",
       "      <th>5</th>\n",
       "      <td>Остановился поезд</td>\n",
       "      <td>111013816.00</td>\n",
       "      <td>2016-09-13 12:00:00</td>\n",
       "      <td>Художественный</td>\n",
       "      <td>Киностудия \"Мосфильм\"</td>\n",
       "      <td>СССР</td>\n",
       "      <td>В.Абдрашитов</td>\n",
       "      <td>NaN</td>\n",
       "      <td>«6+» - для детей старше 6 лет</td>\n",
       "      <td>NaN</td>\n",
       "      <td>NaN</td>\n",
       "      <td>NaN</td>\n",
       "      <td>NaN</td>\n",
       "      <td>7.70</td>\n",
       "      <td>драма</td>\n",
       "      <td>NaN</td>\n",
       "      <td>2016</td>\n",
       "      <td>В.Абдрашитов</td>\n",
       "      <td>драма</td>\n",
       "      <td>NaN</td>\n",
       "    </tr>\n",
       "    <tr>\n",
       "      <th>6</th>\n",
       "      <td>Любовь и голуби</td>\n",
       "      <td>111007013.00</td>\n",
       "      <td>2013-10-18 12:00:00</td>\n",
       "      <td>Художественный</td>\n",
       "      <td>Киностудия \"Мосфильм\"</td>\n",
       "      <td>СССР</td>\n",
       "      <td>В.Меньшов</td>\n",
       "      <td>NaN</td>\n",
       "      <td>«12+» - для детей старше 12 лет</td>\n",
       "      <td>NaN</td>\n",
       "      <td>NaN</td>\n",
       "      <td>NaN</td>\n",
       "      <td>NaN</td>\n",
       "      <td>8.30</td>\n",
       "      <td>мелодрама,комедия</td>\n",
       "      <td>2700.00</td>\n",
       "      <td>2013</td>\n",
       "      <td>В.Меньшов</td>\n",
       "      <td>мелодрама</td>\n",
       "      <td>NaN</td>\n",
       "    </tr>\n",
       "  </tbody>\n",
       "</table>\n",
       "</div>"
      ],
      "text/plain": [
       "                  title     puNumber     show_start_date            type  \\\n",
       "0      Открытый простор 221048915.00 2015-11-27 12:00:00  Художественный   \n",
       "1  Особо важное задание 111013716.00 2016-09-13 12:00:00  Художественный   \n",
       "2          Особо опасен 221038416.00 2016-10-10 12:00:00  Художественный   \n",
       "5     Остановился поезд 111013816.00 2016-09-13 12:00:00  Художественный   \n",
       "6       Любовь и голуби 111007013.00 2013-10-18 12:00:00  Художественный   \n",
       "\n",
       "                                         film_studio production_country  \\\n",
       "0  Тачстоун Пикчерз, Кобальт Пикчерз, Бикон Пикче...                США   \n",
       "1                              Киностудия \"Мосфильм\"               СССР   \n",
       "2  Юниверсал Пикчерз, Кикстарт Продакшнз, Марк Пл...                США   \n",
       "5                              Киностудия \"Мосфильм\"               СССР   \n",
       "6                              Киностудия \"Мосфильм\"               СССР   \n",
       "\n",
       "            director                                           producer  \\\n",
       "0      Кевин Костнер          Дэвид Валдес, Кевин Костнер, Джейк Эбертс   \n",
       "1          Е.Матвеев                                                NaN   \n",
       "2  Тимур Бекмамбетов  Джим Лемли, Джейсон Нетер, Марк Е.Платт, Яйн Смит   \n",
       "5       В.Абдрашитов                                                NaN   \n",
       "6          В.Меньшов                                                NaN   \n",
       "\n",
       "                   age_restriction  refundable_support  nonrefundable_support  \\\n",
       "0      «18+» - запрещено для детей                 NaN                    NaN   \n",
       "1    «6+» - для детей старше 6 лет                 NaN                    NaN   \n",
       "2      «18+» - запрещено для детей                 NaN                    NaN   \n",
       "5    «6+» - для детей старше 6 лет                 NaN                    NaN   \n",
       "6  «12+» - для детей старше 12 лет                 NaN                    NaN   \n",
       "\n",
       "   budget financing_source  ratings                     genres  box_office  \\\n",
       "0     NaN              NaN     7.20     боевик,драма,мелодрама         NaN   \n",
       "1     NaN              NaN     6.60              драма,военный         NaN   \n",
       "2     NaN              NaN     6.80  фантастика,боевик,триллер         NaN   \n",
       "5     NaN              NaN     7.70                      драма         NaN   \n",
       "6     NaN              NaN     8.30          мелодрама,комедия     2700.00   \n",
       "\n",
       "   year      main_director  main_genre  support_to_budget  \n",
       "0  2015      Кевин Костнер      боевик                NaN  \n",
       "1  2016          Е.Матвеев       драма                NaN  \n",
       "2  2016  Тимур Бекмамбетов  фантастика                NaN  \n",
       "5  2016       В.Абдрашитов       драма                NaN  \n",
       "6  2013          В.Меньшов   мелодрама                NaN  "
      ]
     },
     "execution_count": 54,
     "metadata": {},
     "output_type": "execute_result"
    }
   ],
   "source": [
    "movies.head()"
   ]
  },
  {
   "cell_type": "markdown",
   "metadata": {
    "id": "6t4EukPLgFyV"
   },
   "source": [
    "### Исследовательский анализ данных\n"
   ]
  },
  {
   "cell_type": "markdown",
   "metadata": {
    "id": "vAH8WCzugFyV"
   },
   "source": [
    "Посмотрим, сколько фильмов выходило в прокат каждый год. Посчитаем, какую долю составляют фильмы с указанной информацией о прокате в кинотеатрах."
   ]
  },
  {
   "cell_type": "code",
   "execution_count": 55,
   "metadata": {
    "id": "ABeV47y7gFyW"
   },
   "outputs": [
    {
     "data": {
      "text/plain": [
       "<AxesSubplot:title={'center':'Количество вышедших в прокат фильмов по годам'}, xlabel='year', ylabel='Количество фильмов'>"
      ]
     },
     "execution_count": 55,
     "metadata": {},
     "output_type": "execute_result"
    },
    {
     "data": {
      "image/png": "[encoded data removed]",
      "text/plain": [
       "<Figure size 432x288 with 1 Axes>"
      ]
     },
     "metadata": {
      "needs_background": "light"
     },
     "output_type": "display_data"
    }
   ],
   "source": [
    "movies.groupby('year')['box_office'].count().plot(kind='bar', grid=True, \n",
    "    title='Количество вышедших в прокат фильмов по годам', \n",
    "                                                  ylabel='Количество фильмов')"
   ]
  },
  {
   "cell_type": "markdown",
   "metadata": {},
   "source": [
    "Из данных видно, что больше всего фильмов вышло в прокат в 2016 году, меньше всего в 2010."
   ]
  },
  {
   "cell_type": "code",
   "execution_count": 56,
   "metadata": {},
   "outputs": [
    {
     "data": {
      "text/plain": [
       "<AxesSubplot:xlabel='year'>"
      ]
     },
     "execution_count": 56,
     "metadata": {},
     "output_type": "execute_result"
    },
    {
     "data": {
      "image/png": "[encoded data removed]",
      "text/plain": [
       "<Figure size 432x288 with 1 Axes>"
      ]
     },
     "metadata": {
      "needs_background": "light"
     },
     "output_type": "display_data"
    }
   ],
   "source": [
    "(movies.groupby('year')['box_office'].\n",
    " count() / movies.groupby('year')['puNumber'].count()).plot(kind='bar', grid=True)"
   ]
  },
  {
   "cell_type": "markdown",
   "metadata": {},
   "source": [
    "Из данных видно, что до 2012 года фильмов с указанием данных о прокате меньше 10%, с 2012 года фильмов с указанием о прокате меньше 25% не было, за исключением 2018 года. Больше всего данных о прокате в 2013 году (более 40% )"
   ]
  },
  {
   "cell_type": "markdown",
   "metadata": {
    "id": "BEOdcIrIgFyW"
   },
   "source": [
    "Посмотрим, как менялась динамика проката по годам"
   ]
  },
  {
   "cell_type": "code",
   "execution_count": 57,
   "metadata": {},
   "outputs": [
    {
     "data": {
      "text/plain": [
       "(array([0, 1, 2, 3, 4, 5, 6, 7, 8, 9]),\n",
       " [Text(0, 0, '2010'),\n",
       "  Text(1, 0, '2011'),\n",
       "  Text(2, 0, '2012'),\n",
       "  Text(3, 0, '2013'),\n",
       "  Text(4, 0, '2014'),\n",
       "  Text(5, 0, '2015'),\n",
       "  Text(6, 0, '2016'),\n",
       "  Text(7, 0, '2017'),\n",
       "  Text(8, 0, '2018'),\n",
       "  Text(9, 0, '2019')])"
      ]
     },
     "execution_count": 57,
     "metadata": {},
     "output_type": "execute_result"
    },
    {
     "data": {
      "image/png": "[encoded data removed]",
      "text/plain": [
       "<Figure size 432x288 with 1 Axes>"
      ]
     },
     "metadata": {
      "needs_background": "light"
     },
     "output_type": "display_data"
    }
   ],
   "source": [
    "movies.groupby('year')['box_office'].sum().plot(kind='bar', grid=True, \\\n",
    "    title='Динамика проката по годам', ylabel='Сумма сборов')\n",
    "plt.xticks(rotation = 'horizontal')"
   ]
  },
  {
   "cell_type": "markdown",
   "metadata": {
    "id": "G-7qS-N-gFyY"
   },
   "source": [
    "С помощью сводной таблицы посчитаем среднюю и медианную сумму сборов для каждого года."
   ]
  },
  {
   "cell_type": "code",
   "execution_count": 58,
   "metadata": {
    "id": "jmp-rgg9gFyY"
   },
   "outputs": [
    {
     "data": {
      "text/html": [
       "<div>\n",
       "<style scoped>\n",
       "    .dataframe tbody tr th:only-of-type {\n",
       "        vertical-align: middle;\n",
       "    }\n",
       "\n",
       "    .dataframe tbody tr th {\n",
       "        vertical-align: top;\n",
       "    }\n",
       "\n",
       "    .dataframe thead th {\n",
       "        text-align: right;\n",
       "    }\n",
       "</style>\n",
       "<table border=\"1\" class=\"dataframe\">\n",
       "  <thead>\n",
       "    <tr style=\"text-align: right;\">\n",
       "      <th></th>\n",
       "      <th>mean</th>\n",
       "      <th>median</th>\n",
       "      <th>sum</th>\n",
       "    </tr>\n",
       "    <tr>\n",
       "      <th>year</th>\n",
       "      <th></th>\n",
       "      <th></th>\n",
       "      <th></th>\n",
       "    </tr>\n",
       "  </thead>\n",
       "  <tbody>\n",
       "    <tr>\n",
       "      <th>2010</th>\n",
       "      <td>26981.14</td>\n",
       "      <td>1868.00</td>\n",
       "      <td>2374340.00</td>\n",
       "    </tr>\n",
       "    <tr>\n",
       "      <th>2011</th>\n",
       "      <td>142289.69</td>\n",
       "      <td>3042.50</td>\n",
       "      <td>13944390.00</td>\n",
       "    </tr>\n",
       "    <tr>\n",
       "      <th>2012</th>\n",
       "      <td>55733.71</td>\n",
       "      <td>6692.50</td>\n",
       "      <td>6465111.00</td>\n",
       "    </tr>\n",
       "    <tr>\n",
       "      <th>2013</th>\n",
       "      <td>169139.39</td>\n",
       "      <td>3565.00</td>\n",
       "      <td>29768532.00</td>\n",
       "    </tr>\n",
       "    <tr>\n",
       "      <th>2014</th>\n",
       "      <td>28687154.00</td>\n",
       "      <td>22490.00</td>\n",
       "      <td>7372598784.00</td>\n",
       "    </tr>\n",
       "    <tr>\n",
       "      <th>2015</th>\n",
       "      <td>74442344.00</td>\n",
       "      <td>4327265.50</td>\n",
       "      <td>32084649984.00</td>\n",
       "    </tr>\n",
       "    <tr>\n",
       "      <th>2016</th>\n",
       "      <td>87288312.00</td>\n",
       "      <td>3640802.25</td>\n",
       "      <td>43731443712.00</td>\n",
       "    </tr>\n",
       "    <tr>\n",
       "      <th>2017</th>\n",
       "      <td>136408864.00</td>\n",
       "      <td>10177834.00</td>\n",
       "      <td>48561553408.00</td>\n",
       "    </tr>\n",
       "    <tr>\n",
       "      <th>2018</th>\n",
       "      <td>101633464.00</td>\n",
       "      <td>8821499.00</td>\n",
       "      <td>47970992128.00</td>\n",
       "    </tr>\n",
       "    <tr>\n",
       "      <th>2019</th>\n",
       "      <td>92738312.00</td>\n",
       "      <td>4774520.50</td>\n",
       "      <td>48409399296.00</td>\n",
       "    </tr>\n",
       "  </tbody>\n",
       "</table>\n",
       "</div>"
      ],
      "text/plain": [
       "             mean      median            sum\n",
       "year                                        \n",
       "2010     26981.14     1868.00     2374340.00\n",
       "2011    142289.69     3042.50    13944390.00\n",
       "2012     55733.71     6692.50     6465111.00\n",
       "2013    169139.39     3565.00    29768532.00\n",
       "2014  28687154.00    22490.00  7372598784.00\n",
       "2015  74442344.00  4327265.50 32084649984.00\n",
       "2016  87288312.00  3640802.25 43731443712.00\n",
       "2017 136408864.00 10177834.00 48561553408.00\n",
       "2018 101633464.00  8821499.00 47970992128.00\n",
       "2019  92738312.00  4774520.50 48409399296.00"
      ]
     },
     "execution_count": 58,
     "metadata": {},
     "output_type": "execute_result"
    }
   ],
   "source": [
    "movies.pivot_table(index=['year'], values='box_office', aggfunc={'median', 'mean', 'sum'})"
   ]
  },
  {
   "cell_type": "markdown",
   "metadata": {},
   "source": [
    "Из сводной таблицы видно, что средняя и медианная сумма сборов увеливаются, за исключением 2019 года.  \n",
    "Средние и медианные значения имеют сильные отличия (на один порядок), это связано с тем, что есть небольшое количество дорогих фильмов (которые снимаются для показа в кинотеатрах) и большое количество менее бюджетных фильмов (для телевидения или показа на онлайн площадках)."
   ]
  },
  {
   "cell_type": "markdown",
   "metadata": {
    "id": "Ok89WFwJgFyZ"
   },
   "source": [
    "Определим, как влияет возрастное ограничение аудитории («6+», «12+», «16+», «18+» и т. д.) на сборы фильма в прокате в период с 2015 по 2019 год"
   ]
  },
  {
   "cell_type": "code",
   "execution_count": 59,
   "metadata": {},
   "outputs": [
    {
     "data": {
      "text/html": [
       "<div>\n",
       "<style scoped>\n",
       "    .dataframe tbody tr th:only-of-type {\n",
       "        vertical-align: middle;\n",
       "    }\n",
       "\n",
       "    .dataframe tbody tr th {\n",
       "        vertical-align: top;\n",
       "    }\n",
       "\n",
       "    .dataframe thead tr th {\n",
       "        text-align: left;\n",
       "    }\n",
       "\n",
       "    .dataframe thead tr:last-of-type th {\n",
       "        text-align: right;\n",
       "    }\n",
       "</style>\n",
       "<table border=\"1\" class=\"dataframe\">\n",
       "  <thead>\n",
       "    <tr>\n",
       "      <th></th>\n",
       "      <th>sum</th>\n",
       "      <th>count</th>\n",
       "      <th>mean</th>\n",
       "    </tr>\n",
       "    <tr>\n",
       "      <th></th>\n",
       "      <th>box_office</th>\n",
       "      <th>box_office</th>\n",
       "      <th>box_office</th>\n",
       "    </tr>\n",
       "    <tr>\n",
       "      <th>age_restriction</th>\n",
       "      <th></th>\n",
       "      <th></th>\n",
       "      <th></th>\n",
       "    </tr>\n",
       "  </thead>\n",
       "  <tbody>\n",
       "    <tr>\n",
       "      <th>«0+» - для любой зрительской аудитории</th>\n",
       "      <td>703345344.00</td>\n",
       "      <td>87</td>\n",
       "      <td>8084429.00</td>\n",
       "    </tr>\n",
       "    <tr>\n",
       "      <th>«12+» - для детей старше 12 лет</th>\n",
       "      <td>58930831360.00</td>\n",
       "      <td>343</td>\n",
       "      <td>171810000.00</td>\n",
       "    </tr>\n",
       "    <tr>\n",
       "      <th>«16+» - для детей старше 16 лет</th>\n",
       "      <td>68945960960.00</td>\n",
       "      <td>776</td>\n",
       "      <td>88847880.00</td>\n",
       "    </tr>\n",
       "    <tr>\n",
       "      <th>«18+» - запрещено для детей</th>\n",
       "      <td>36685389824.00</td>\n",
       "      <td>765</td>\n",
       "      <td>47954756.00</td>\n",
       "    </tr>\n",
       "    <tr>\n",
       "      <th>«6+» - для детей старше 6 лет</th>\n",
       "      <td>55492517888.00</td>\n",
       "      <td>311</td>\n",
       "      <td>178432544.00</td>\n",
       "    </tr>\n",
       "  </tbody>\n",
       "</table>\n",
       "</div>"
      ],
      "text/plain": [
       "                                                  sum      count         mean\n",
       "                                           box_office box_office   box_office\n",
       "age_restriction                                                              \n",
       "«0+» - для любой зрительской аудитории   703345344.00         87   8084429.00\n",
       "«12+» - для детей старше 12 лет        58930831360.00        343 171810000.00\n",
       "«16+» - для детей старше 16 лет        68945960960.00        776  88847880.00\n",
       "«18+» - запрещено для детей            36685389824.00        765  47954756.00\n",
       "«6+» - для детей старше 6 лет          55492517888.00        311 178432544.00"
      ]
     },
     "execution_count": 59,
     "metadata": {},
     "output_type": "execute_result"
    }
   ],
   "source": [
    "movies.query('year > 2014').pivot_table(\n",
    "     index='age_restriction',\n",
    "     values = 'box_office',\n",
    "     aggfunc = ['sum', 'count', 'mean'])"
   ]
  },
  {
   "cell_type": "code",
   "execution_count": 60,
   "metadata": {},
   "outputs": [
    {
     "data": {
      "text/plain": [
       "([<matplotlib.axis.XTick at 0x7fd734b44790>,\n",
       "  <matplotlib.axis.XTick at 0x7fd734b44760>,\n",
       "  <matplotlib.axis.XTick at 0x7fd734b59fa0>,\n",
       "  <matplotlib.axis.XTick at 0x7fd734b33100>,\n",
       "  <matplotlib.axis.XTick at 0x7fd734b78790>],\n",
       " [Text(0, 0, ''),\n",
       "  Text(0, 0, ''),\n",
       "  Text(0, 0, ''),\n",
       "  Text(0, 0, ''),\n",
       "  Text(0, 0, '')])"
      ]
     },
     "execution_count": 60,
     "metadata": {},
     "output_type": "execute_result"
    },
    {
     "data": {
      "image/png": "[encoded data removed]",
      "text/plain": [
       "<Figure size 1080x576 with 1 Axes>"
      ]
     },
     "metadata": {
      "needs_background": "light"
     },
     "output_type": "display_data"
    }
   ],
   "source": [
    "plt.figure(figsize=(15, 8))\n",
    "sns.set(style='whitegrid')\n",
    "sns.lineplot(data=movies.query('year > 2014').groupby(['year', 'age_restriction'], as_index=False)['box_office'].\\\n",
    "             mean() , x='year', y='box_office', hue='age_restriction')\n",
    "plt.xticks(range(2015, 2020, 1))"
   ]
  },
  {
   "cell_type": "code",
   "execution_count": 61,
   "metadata": {},
   "outputs": [
    {
     "data": {
      "text/html": [
       "<div>\n",
       "<style scoped>\n",
       "    .dataframe tbody tr th:only-of-type {\n",
       "        vertical-align: middle;\n",
       "    }\n",
       "\n",
       "    .dataframe tbody tr th {\n",
       "        vertical-align: top;\n",
       "    }\n",
       "\n",
       "    .dataframe thead tr th {\n",
       "        text-align: left;\n",
       "    }\n",
       "\n",
       "    .dataframe thead tr:last-of-type th {\n",
       "        text-align: right;\n",
       "    }\n",
       "</style>\n",
       "<table border=\"1\" class=\"dataframe\">\n",
       "  <thead>\n",
       "    <tr>\n",
       "      <th></th>\n",
       "      <th colspan=\"5\" halign=\"left\">sum</th>\n",
       "      <th colspan=\"5\" halign=\"left\">median</th>\n",
       "    </tr>\n",
       "    <tr>\n",
       "      <th>age_restriction</th>\n",
       "      <th>«0+» - для любой зрительской аудитории</th>\n",
       "      <th>«12+» - для детей старше 12 лет</th>\n",
       "      <th>«16+» - для детей старше 16 лет</th>\n",
       "      <th>«18+» - запрещено для детей</th>\n",
       "      <th>«6+» - для детей старше 6 лет</th>\n",
       "      <th>«0+» - для любой зрительской аудитории</th>\n",
       "      <th>«12+» - для детей старше 12 лет</th>\n",
       "      <th>«16+» - для детей старше 16 лет</th>\n",
       "      <th>«18+» - запрещено для детей</th>\n",
       "      <th>«6+» - для детей старше 6 лет</th>\n",
       "    </tr>\n",
       "    <tr>\n",
       "      <th>year</th>\n",
       "      <th></th>\n",
       "      <th></th>\n",
       "      <th></th>\n",
       "      <th></th>\n",
       "      <th></th>\n",
       "      <th></th>\n",
       "      <th></th>\n",
       "      <th></th>\n",
       "      <th></th>\n",
       "      <th></th>\n",
       "    </tr>\n",
       "  </thead>\n",
       "  <tbody>\n",
       "    <tr>\n",
       "      <th>2015</th>\n",
       "      <td>273367776.00</td>\n",
       "      <td>11957220352.00</td>\n",
       "      <td>8274253312.00</td>\n",
       "      <td>3184098048.00</td>\n",
       "      <td>8395710464.00</td>\n",
       "      <td>2767310.50</td>\n",
       "      <td>15144119.00</td>\n",
       "      <td>4170454.50</td>\n",
       "      <td>4011143.25</td>\n",
       "      <td>20380982.00</td>\n",
       "    </tr>\n",
       "    <tr>\n",
       "      <th>2016</th>\n",
       "      <td>150183552.00</td>\n",
       "      <td>12178336768.00</td>\n",
       "      <td>14359349248.00</td>\n",
       "      <td>4990430208.00</td>\n",
       "      <td>12053144576.00</td>\n",
       "      <td>2687778.50</td>\n",
       "      <td>4690635.00</td>\n",
       "      <td>3659719.50</td>\n",
       "      <td>5667493.00</td>\n",
       "      <td>3698272.00</td>\n",
       "    </tr>\n",
       "    <tr>\n",
       "      <th>2017</th>\n",
       "      <td>229598944.00</td>\n",
       "      <td>7851427840.00</td>\n",
       "      <td>18742890496.00</td>\n",
       "      <td>9651495936.00</td>\n",
       "      <td>12086141952.00</td>\n",
       "      <td>22178956.00</td>\n",
       "      <td>9010548.00</td>\n",
       "      <td>10150100.00</td>\n",
       "      <td>8212677.00</td>\n",
       "      <td>51992104.00</td>\n",
       "    </tr>\n",
       "    <tr>\n",
       "      <th>2018</th>\n",
       "      <td>32449002.00</td>\n",
       "      <td>14267291648.00</td>\n",
       "      <td>14820922368.00</td>\n",
       "      <td>8745356288.00</td>\n",
       "      <td>10104974336.00</td>\n",
       "      <td>3616937.25</td>\n",
       "      <td>8931966.00</td>\n",
       "      <td>8751896.00</td>\n",
       "      <td>7179466.00</td>\n",
       "      <td>14688850.00</td>\n",
       "    </tr>\n",
       "    <tr>\n",
       "      <th>2019</th>\n",
       "      <td>17746066.00</td>\n",
       "      <td>12676553728.00</td>\n",
       "      <td>12748542976.00</td>\n",
       "      <td>10114009088.00</td>\n",
       "      <td>12852548608.00</td>\n",
       "      <td>3885434.50</td>\n",
       "      <td>3591456.25</td>\n",
       "      <td>3237407.00</td>\n",
       "      <td>5901733.50</td>\n",
       "      <td>12875350.00</td>\n",
       "    </tr>\n",
       "  </tbody>\n",
       "</table>\n",
       "</div>"
      ],
      "text/plain": [
       "                                                   sum  \\\n",
       "age_restriction «0+» - для любой зрительской аудитории   \n",
       "year                                                     \n",
       "2015                                      273367776.00   \n",
       "2016                                      150183552.00   \n",
       "2017                                      229598944.00   \n",
       "2018                                       32449002.00   \n",
       "2019                                       17746066.00   \n",
       "\n",
       "                                                 \\\n",
       "age_restriction «12+» - для детей старше 12 лет   \n",
       "year                                              \n",
       "2015                             11957220352.00   \n",
       "2016                             12178336768.00   \n",
       "2017                              7851427840.00   \n",
       "2018                             14267291648.00   \n",
       "2019                             12676553728.00   \n",
       "\n",
       "                                                                             \\\n",
       "age_restriction «16+» - для детей старше 16 лет «18+» - запрещено для детей   \n",
       "year                                                                          \n",
       "2015                              8274253312.00               3184098048.00   \n",
       "2016                             14359349248.00               4990430208.00   \n",
       "2017                             18742890496.00               9651495936.00   \n",
       "2018                             14820922368.00               8745356288.00   \n",
       "2019                             12748542976.00              10114009088.00   \n",
       "\n",
       "                                               \\\n",
       "age_restriction «6+» - для детей старше 6 лет   \n",
       "year                                            \n",
       "2015                            8395710464.00   \n",
       "2016                           12053144576.00   \n",
       "2017                           12086141952.00   \n",
       "2018                           10104974336.00   \n",
       "2019                           12852548608.00   \n",
       "\n",
       "                                                median  \\\n",
       "age_restriction «0+» - для любой зрительской аудитории   \n",
       "year                                                     \n",
       "2015                                        2767310.50   \n",
       "2016                                        2687778.50   \n",
       "2017                                       22178956.00   \n",
       "2018                                        3616937.25   \n",
       "2019                                        3885434.50   \n",
       "\n",
       "                                                 \\\n",
       "age_restriction «12+» - для детей старше 12 лет   \n",
       "year                                              \n",
       "2015                                15144119.00   \n",
       "2016                                 4690635.00   \n",
       "2017                                 9010548.00   \n",
       "2018                                 8931966.00   \n",
       "2019                                 3591456.25   \n",
       "\n",
       "                                                                             \\\n",
       "age_restriction «16+» - для детей старше 16 лет «18+» - запрещено для детей   \n",
       "year                                                                          \n",
       "2015                                 4170454.50                  4011143.25   \n",
       "2016                                 3659719.50                  5667493.00   \n",
       "2017                                10150100.00                  8212677.00   \n",
       "2018                                 8751896.00                  7179466.00   \n",
       "2019                                 3237407.00                  5901733.50   \n",
       "\n",
       "                                               \n",
       "age_restriction «6+» - для детей старше 6 лет  \n",
       "year                                           \n",
       "2015                              20380982.00  \n",
       "2016                               3698272.00  \n",
       "2017                              51992104.00  \n",
       "2018                              14688850.00  \n",
       "2019                              12875350.00  "
      ]
     },
     "execution_count": 61,
     "metadata": {},
     "output_type": "execute_result"
    }
   ],
   "source": [
    "movies.query('year > 2014').pivot_table(\n",
    "     index='year',\n",
    "     columns = 'age_restriction',\n",
    "     values = 'box_office',\n",
    "     aggfunc = ['sum', 'median'])"
   ]
  },
  {
   "cell_type": "code",
   "execution_count": 62,
   "metadata": {},
   "outputs": [
    {
     "data": {
      "text/plain": [
       "([<matplotlib.axis.XTick at 0x7fd735221130>,\n",
       "  <matplotlib.axis.XTick at 0x7fd735221100>,\n",
       "  <matplotlib.axis.XTick at 0x7fd73520fc70>,\n",
       "  <matplotlib.axis.XTick at 0x7fd735252520>,\n",
       "  <matplotlib.axis.XTick at 0x7fd7352450d0>],\n",
       " [Text(0, 0, ''),\n",
       "  Text(0, 0, ''),\n",
       "  Text(0, 0, ''),\n",
       "  Text(0, 0, ''),\n",
       "  Text(0, 0, '')])"
      ]
     },
     "execution_count": 62,
     "metadata": {},
     "output_type": "execute_result"
    },
    {
     "data": {
      "image/png": "[encoded data removed]",
      "text/plain": [
       "<Figure size 1080x576 with 1 Axes>"
      ]
     },
     "metadata": {},
     "output_type": "display_data"
    }
   ],
   "source": [
    "plt.figure(figsize=(15, 8))\n",
    "sns.set(style='whitegrid')\n",
    "sns.lineplot(data=movies.query('year > 2014').groupby(['year', 'age_restriction'], as_index=False)['box_office'].\\\n",
    "             median() , x='year', y='box_office', hue='age_restriction')\n",
    "plt.xticks(range(2015, 2020, 1))"
   ]
  },
  {
   "cell_type": "markdown",
   "metadata": {},
   "source": [
    "Большие сборы собирают фильмы категории«6+» - для детей старше 6 лет, меньше остальных с 2017 года собирают фильмы категории «12+» - для любой зрительской аудитории, остальные категории в среднем собирают одиннаково.  \n",
    "Для выявления тренда на увеличение или уменьшение сборов фильмов необходимо проанализировать более длинный период. Из тех данных, что у нас есть видно, что среднее значение сборов фильмов по категориям не зависит от года."
   ]
  },
  {
   "cell_type": "markdown",
   "metadata": {
    "id": "l_Kg6Ku4gFya"
   },
   "source": [
    "### Исследуем фильмы, которые получили государственную поддержку"
   ]
  },
  {
   "cell_type": "markdown",
   "metadata": {},
   "source": [
    "Посчитаем какую прибыль принесли фильмы с господдержкой, вычтя из суммы сборов сумму бюджета."
   ]
  },
  {
   "cell_type": "code",
   "execution_count": 63,
   "metadata": {},
   "outputs": [
    {
     "data": {
      "text/plain": [
       "-1838530600.0"
      ]
     },
     "execution_count": 63,
     "metadata": {},
     "output_type": "execute_result"
    }
   ],
   "source": [
    "movies.loc[movies['budget'] > 0]['box_office'].sum() - movies.loc[movies['budget'] > 0]['budget'].sum()"
   ]
  },
  {
   "cell_type": "code",
   "execution_count": 64,
   "metadata": {},
   "outputs": [
    {
     "data": {
      "text/plain": [
       "<AxesSubplot:xlabel='year'>"
      ]
     },
     "execution_count": 64,
     "metadata": {},
     "output_type": "execute_result"
    },
    {
     "data": {
      "image/png": "[encoded data removed]",
      "text/plain": [
       "<Figure size 432x288 with 1 Axes>"
      ]
     },
     "metadata": {},
     "output_type": "display_data"
    }
   ],
   "source": [
    "(movies.loc[movies['budget'] > 0].groupby('year')['box_office'].sum() - \\\n",
    "    movies.loc[movies['budget'] > 0].groupby('year')['budget'].sum()).plot()"
   ]
  },
  {
   "cell_type": "markdown",
   "metadata": {},
   "source": [
    "Фильмы с господдержкой преимущественно убыточны, наблюдается тренд на увеличение убыточности от года к году"
   ]
  },
  {
   "cell_type": "markdown",
   "metadata": {},
   "source": [
    "Найдем средний рейтинг фильмов с господдержкой"
   ]
  },
  {
   "cell_type": "code",
   "execution_count": 65,
   "metadata": {},
   "outputs": [
    {
     "data": {
      "text/plain": [
       "6.01"
      ]
     },
     "execution_count": 65,
     "metadata": {},
     "output_type": "execute_result"
    }
   ],
   "source": [
    "movies.loc[movies['budget'] > 0]['ratings'].mean()"
   ]
  },
  {
   "cell_type": "code",
   "execution_count": 66,
   "metadata": {},
   "outputs": [],
   "source": [
    "movies['ratings'] = pd.to_numeric(movies['ratings'], errors='coerce')"
   ]
  },
  {
   "cell_type": "code",
   "execution_count": 67,
   "metadata": {},
   "outputs": [
    {
     "data": {
      "text/plain": [
       "<AxesSubplot:xlabel='year'>"
      ]
     },
     "execution_count": 67,
     "metadata": {},
     "output_type": "execute_result"
    },
    {
     "data": {
      "image/png": "[encoded data removed]",
      "text/plain": [
       "<Figure size 432x288 with 1 Axes>"
      ]
     },
     "metadata": {},
     "output_type": "display_data"
    }
   ],
   "source": [
    "movies.loc[movies['budget'] > 0].groupby('year')['ratings'].mean().plot()"
   ]
  },
  {
   "cell_type": "markdown",
   "metadata": {},
   "source": [
    "Рейтинг фильмов с господдержкой достаточно высок (в среднем выше 6), по годам изменяется, но тренда не наблюдается"
   ]
  },
  {
   "cell_type": "markdown",
   "metadata": {},
   "source": [
    "Определим какой процент составляют невозвратные средства в бюджете фильмов с господдержкой"
   ]
  },
  {
   "cell_type": "code",
   "execution_count": 68,
   "metadata": {},
   "outputs": [
    {
     "data": {
      "text/plain": [
       "0.3571181"
      ]
     },
     "execution_count": 68,
     "metadata": {},
     "output_type": "execute_result"
    }
   ],
   "source": [
    "movies.loc[movies['budget'] > 0]['nonrefundable_support'].sum() / movies.loc[movies['budget'] > 0]['budget'].sum()"
   ]
  },
  {
   "cell_type": "code",
   "execution_count": 69,
   "metadata": {},
   "outputs": [
    {
     "data": {
      "text/plain": [
       "<AxesSubplot:xlabel='year'>"
      ]
     },
     "execution_count": 69,
     "metadata": {},
     "output_type": "execute_result"
    },
    {
     "data": {
      "image/png": "[encoded data removed]",
      "text/plain": [
       "<Figure size 432x288 with 1 Axes>"
      ]
     },
     "metadata": {},
     "output_type": "display_data"
    }
   ],
   "source": [
    "(movies.loc[movies['budget'] > 0].groupby('year')['nonrefundable_support'].sum() / \\\n",
    " movies.loc[movies['budget'] > 0].groupby('year')['budget'].sum()).plot()"
   ]
  },
  {
   "cell_type": "markdown",
   "metadata": {},
   "source": [
    "Процент невозвратных средств в бюджете фильма уменьшается с годами"
   ]
  },
  {
   "cell_type": "markdown",
   "metadata": {},
   "source": [
    "Определим какой процент составляет поддержка в бюджете фильмов с господдержкой"
   ]
  },
  {
   "cell_type": "code",
   "execution_count": 70,
   "metadata": {},
   "outputs": [
    {
     "data": {
      "text/plain": [
       "0.44333908"
      ]
     },
     "execution_count": 70,
     "metadata": {},
     "output_type": "execute_result"
    }
   ],
   "source": [
    "(movies.loc[movies['budget'] > 0]['nonrefundable_support'].sum() + \\\n",
    " movies.loc[movies['budget'] > 0]['refundable_support'].sum()) / movies.loc[movies['budget'] > 0]['budget'].sum()"
   ]
  },
  {
   "cell_type": "code",
   "execution_count": 71,
   "metadata": {},
   "outputs": [
    {
     "data": {
      "text/plain": [
       "<AxesSubplot:xlabel='year'>"
      ]
     },
     "execution_count": 71,
     "metadata": {},
     "output_type": "execute_result"
    },
    {
     "data": {
      "image/png": "[encoded data removed]",
      "text/plain": [
       "<Figure size 432x288 with 1 Axes>"
      ]
     },
     "metadata": {},
     "output_type": "display_data"
    }
   ],
   "source": [
    "((movies.loc[movies['budget'] > 0].groupby('year')['nonrefundable_support'].sum() + \\\n",
    "    movies.loc[movies['budget'] > 0].groupby('year')['refundable_support'].sum()) / \\\n",
    "    movies.loc[movies['budget'] > 0].groupby('year')['budget'].sum()).plot()"
   ]
  },
  {
   "cell_type": "markdown",
   "metadata": {},
   "source": [
    "Процент суммарной господдержки фильма не зависит от года"
   ]
  },
  {
   "cell_type": "markdown",
   "metadata": {},
   "source": [
    "Проверим зависит ли сумма сборов от источника финасирования"
   ]
  },
  {
   "cell_type": "code",
   "execution_count": 72,
   "metadata": {},
   "outputs": [
    {
     "data": {
      "text/plain": [
       "financing_source\n",
       "Министерство культуры              -6101443584.00\n",
       "Министерство культуры, Фонд кино   -1820971264.00\n",
       "Фонд кино                           8857219072.00\n",
       "dtype: float32"
      ]
     },
     "execution_count": 72,
     "metadata": {},
     "output_type": "execute_result"
    }
   ],
   "source": [
    "movies.groupby('financing_source')['box_office'].sum() - movies.groupby('financing_source')['budget'].sum()"
   ]
  },
  {
   "cell_type": "markdown",
   "metadata": {},
   "source": [
    "Фильмы с господдержкой в среднем убыточны, сумма поддержки в среднем составляет 50% от бюджета фильма, средний рейтинг составляет 6.1, сумма сборов не зависит от источника финансирования."
   ]
  },
  {
   "cell_type": "markdown",
   "metadata": {
    "id": "V2gYwMcPgFyd"
   },
   "source": [
    "### Общий вывод"
   ]
  },
  {
   "cell_type": "markdown",
   "metadata": {
    "id": "AYRg3dzXgFye"
   },
   "source": [
    "В данном проекте нашей задачей было провести анализ рынка российского кинопроката и выявить текущие тренды.  \n",
    "\n",
    "В ходе проекта были выполнены:  \n",
    "предобработка данных - были объединены две таблицы в одну для анализа, поменяны типы данных для уменьшения затрачиваемой памяти, были посчитаны и проанализированы пропуски, были выявлены и удалены дубликаты, в столбцах с категориальными значениями были удалены лишние пробелы, были устранены ошибки в количественных значениях столбца budget;  \n",
    "были добавлены новые столбцы - с информацией о годе проката, с именем и фамилией главного режиссёра и основным жанром фильма, доля государственной поддержки от общего бюджета фильма;  \n",
    "был проведен исследовательский анализ - посчитано количество фильмов, выходивших каждый год в прокат, изучено, как менялась динамика проката по годам, было определено в каких годах сумма сборов была минимальной и максимальной, была посчитана средняя и медианная сумма сборов для каждого года, было проанализорано влияние возрастного ограничения на сборы; \n",
    "был проведен анализ фильмов с господдержкой - проверено приносят ли фильмы с гоподдержкой прибыль, был определен средний рейтинг фильмов, какой процент в бюджете фильмов составляет поддержка, зависит ли сумма сборов от источника финансирования.\n",
    "\n",
    "В ходе работы были получены следующие выводы:\n",
    "не выявлено зависимости количества вышедших в прокат фильмов от года, но сами значения сильно отличаются год от года;\n",
    "наблюдается тренд к увеличению суммы сборов в зависимости от года, наблюдаются сильные увеличения сумм сборов в 2014 и 2015 годах;\n",
    "наблюдается увеличение средних и медианных значений сборов с увеличением года;\n",
    "зависимости средней суммы сборово от возростного ограничения фильмов не наблюдается, в разные фильмы с разными возрастными ограничениями собирали маибольшие суммы, думаю, это может быть связано с выходом кассовых фильмов этих возрастных категорий в эти года, чаще других меньше всех собирают фильмы категории \"0+\" - возможно, фильмы данной категории рассчитаны на маленьких детей, которые обычно в кино не ходят, а более взрослым категориям людей эти фильмы не интересны;\n",
    "из анализа фильмов с господдержкой можно сделать вывод, что эти фильмы не окупаются, вероятно это наблюдается из-за того, что требуется вернуть только возратную часть бюджета, поэтому создатели этих фильмов не сильно заинтересованы в возврате затраченных средств (в случае если создатели фильма не принесуют прибыль инвестору, то впоследствии инвесторы не будут заинтересованы вновь сотрудничать с создателями), государство хуже отбирает фильмы для поддержки, поэтому туда попадают фильмы, которые не так интересны людям; при этом достаточно высокий рейтинг этих фильмов показывает, что многие из тех, кто посмотрел эти фильмы остались довольны."
   ]
  }
 ],
 "metadata": {
  "ExecuteTimeLog": [
   {
    "duration": 537,
    "start_time": "2021-07-07T10:12:08.634Z"
   },
   {
    "duration": 206,
    "start_time": "2021-07-07T10:12:30.191Z"
   },
   {
    "duration": 227,
    "start_time": "2021-07-07T10:12:33.078Z"
   },
   {
    "duration": 153,
    "start_time": "2021-07-07T10:13:42.146Z"
   },
   {
    "duration": 233,
    "start_time": "2021-07-07T10:30:09.252Z"
   },
   {
    "duration": 19,
    "start_time": "2021-07-07T10:30:15.577Z"
   },
   {
    "duration": 18,
    "start_time": "2021-07-07T10:30:57.348Z"
   },
   {
    "duration": 19,
    "start_time": "2021-07-07T10:31:17.452Z"
   },
   {
    "duration": 21,
    "start_time": "2021-07-07T10:31:32.227Z"
   },
   {
    "duration": 27,
    "start_time": "2021-07-07T10:32:06.588Z"
   },
   {
    "duration": 23,
    "start_time": "2021-07-07T10:32:43.645Z"
   },
   {
    "duration": 24,
    "start_time": "2021-07-07T10:33:06.948Z"
   },
   {
    "duration": 7,
    "start_time": "2021-07-07T10:33:28.558Z"
   },
   {
    "duration": 23,
    "start_time": "2021-07-07T10:33:43.761Z"
   },
   {
    "duration": 28,
    "start_time": "2021-07-07T10:34:13.466Z"
   },
   {
    "duration": 23,
    "start_time": "2021-07-07T10:35:56.187Z"
   },
   {
    "duration": 6,
    "start_time": "2021-07-07T10:36:48.182Z"
   },
   {
    "duration": 14,
    "start_time": "2021-07-07T10:37:49.641Z"
   },
   {
    "duration": 6,
    "start_time": "2021-07-07T10:38:06.694Z"
   },
   {
    "duration": 6,
    "start_time": "2021-07-07T10:38:13.493Z"
   },
   {
    "duration": 19,
    "start_time": "2021-07-07T10:38:44.056Z"
   },
   {
    "duration": 186,
    "start_time": "2021-07-07T10:48:35.618Z"
   },
   {
    "duration": 24,
    "start_time": "2021-07-07T10:48:51.498Z"
   },
   {
    "duration": 20,
    "start_time": "2021-07-07T10:48:59.415Z"
   },
   {
    "duration": 20,
    "start_time": "2021-07-07T10:53:02.195Z"
   },
   {
    "duration": 188,
    "start_time": "2021-07-07T10:54:40.486Z"
   },
   {
    "duration": 115,
    "start_time": "2021-07-07T10:54:52.552Z"
   },
   {
    "duration": 214,
    "start_time": "2021-07-07T10:54:56.354Z"
   },
   {
    "duration": 47,
    "start_time": "2021-07-07T10:54:58.282Z"
   },
   {
    "duration": 217,
    "start_time": "2021-07-07T10:59:16.075Z"
   },
   {
    "duration": 51,
    "start_time": "2021-07-07T10:59:16.243Z"
   },
   {
    "duration": 578,
    "start_time": "2021-07-07T10:59:18.774Z"
   },
   {
    "duration": 161,
    "start_time": "2021-07-07T10:59:21.238Z"
   },
   {
    "duration": 59,
    "start_time": "2021-07-07T10:59:21.453Z"
   },
   {
    "duration": 3,
    "start_time": "2021-07-07T11:02:10.786Z"
   },
   {
    "duration": 13,
    "start_time": "2021-07-07T11:07:07.722Z"
   },
   {
    "duration": 26,
    "start_time": "2021-07-07T11:07:17.958Z"
   },
   {
    "duration": 22,
    "start_time": "2021-07-07T11:08:17.939Z"
   },
   {
    "duration": 212,
    "start_time": "2021-07-07T11:08:19.665Z"
   },
   {
    "duration": 21,
    "start_time": "2021-07-07T11:08:29.945Z"
   },
   {
    "duration": 31,
    "start_time": "2021-07-07T11:08:38.899Z"
   },
   {
    "duration": 23,
    "start_time": "2021-07-07T11:08:54.527Z"
   },
   {
    "duration": 8,
    "start_time": "2021-07-07T11:18:55.974Z"
   },
   {
    "duration": 7,
    "start_time": "2021-07-07T11:19:03.639Z"
   },
   {
    "duration": 7,
    "start_time": "2021-07-07T11:19:06.444Z"
   },
   {
    "duration": 578,
    "start_time": "2021-07-07T12:09:59.576Z"
   },
   {
    "duration": 195,
    "start_time": "2021-07-07T12:10:00.156Z"
   },
   {
    "duration": 115,
    "start_time": "2021-07-07T12:10:00.353Z"
   },
   {
    "duration": 3,
    "start_time": "2021-07-07T12:10:00.470Z"
   },
   {
    "duration": 32,
    "start_time": "2021-07-07T12:10:00.474Z"
   },
   {
    "duration": 23,
    "start_time": "2021-07-07T12:10:00.508Z"
   },
   {
    "duration": 19,
    "start_time": "2021-07-07T12:10:00.533Z"
   },
   {
    "duration": 44,
    "start_time": "2021-07-07T12:10:00.553Z"
   },
   {
    "duration": 7,
    "start_time": "2021-07-07T12:10:00.600Z"
   },
   {
    "duration": 7,
    "start_time": "2021-07-07T12:19:45.761Z"
   },
   {
    "duration": 21,
    "start_time": "2021-07-07T12:21:35.482Z"
   },
   {
    "duration": 21,
    "start_time": "2021-07-07T12:29:23.569Z"
   },
   {
    "duration": 525,
    "start_time": "2021-07-07T12:29:44.542Z"
   },
   {
    "duration": 214,
    "start_time": "2021-07-07T12:29:45.069Z"
   },
   {
    "duration": 92,
    "start_time": "2021-07-07T12:29:45.285Z"
   },
   {
    "duration": 3,
    "start_time": "2021-07-07T12:29:45.379Z"
   },
   {
    "duration": 28,
    "start_time": "2021-07-07T12:29:45.384Z"
   },
   {
    "duration": 23,
    "start_time": "2021-07-07T12:29:45.413Z"
   },
   {
    "duration": 21,
    "start_time": "2021-07-07T12:29:45.437Z"
   },
   {
    "duration": 41,
    "start_time": "2021-07-07T12:29:45.460Z"
   },
   {
    "duration": 7,
    "start_time": "2021-07-07T12:29:45.502Z"
   },
   {
    "duration": 20,
    "start_time": "2021-07-07T12:29:45.511Z"
   },
   {
    "duration": 12,
    "start_time": "2021-07-07T12:34:02.800Z"
   },
   {
    "duration": 7,
    "start_time": "2021-07-07T12:35:10.479Z"
   },
   {
    "duration": 8,
    "start_time": "2021-07-07T12:35:22.440Z"
   },
   {
    "duration": 6,
    "start_time": "2021-07-07T12:35:35.649Z"
   },
   {
    "duration": 6,
    "start_time": "2021-07-07T12:35:43.107Z"
   },
   {
    "duration": 22,
    "start_time": "2021-07-07T12:38:03.029Z"
   },
   {
    "duration": 10,
    "start_time": "2021-07-07T12:38:06.592Z"
   },
   {
    "duration": 563,
    "start_time": "2021-07-07T12:38:46.493Z"
   },
   {
    "duration": 265,
    "start_time": "2021-07-07T12:38:47.058Z"
   },
   {
    "duration": 94,
    "start_time": "2021-07-07T12:38:47.325Z"
   },
   {
    "duration": 3,
    "start_time": "2021-07-07T12:38:47.422Z"
   },
   {
    "duration": 30,
    "start_time": "2021-07-07T12:38:47.427Z"
   },
   {
    "duration": 16,
    "start_time": "2021-07-07T12:38:53.305Z"
   },
   {
    "duration": 10,
    "start_time": "2021-07-07T12:38:53.499Z"
   },
   {
    "duration": 8,
    "start_time": "2021-07-07T12:39:48.161Z"
   },
   {
    "duration": 27,
    "start_time": "2021-07-07T12:41:17.629Z"
   },
   {
    "duration": 17,
    "start_time": "2021-07-07T12:41:17.867Z"
   },
   {
    "duration": 21,
    "start_time": "2021-07-07T12:41:19.310Z"
   },
   {
    "duration": 7,
    "start_time": "2021-07-07T12:41:19.544Z"
   },
   {
    "duration": 20,
    "start_time": "2021-07-07T12:41:20.504Z"
   },
   {
    "duration": 554,
    "start_time": "2021-07-07T12:56:23.696Z"
   },
   {
    "duration": 200,
    "start_time": "2021-07-07T12:56:25.234Z"
   },
   {
    "duration": 119,
    "start_time": "2021-07-07T12:56:25.480Z"
   },
   {
    "duration": 4,
    "start_time": "2021-07-07T12:56:25.762Z"
   },
   {
    "duration": 26,
    "start_time": "2021-07-07T12:56:27.172Z"
   },
   {
    "duration": 12,
    "start_time": "2021-07-07T12:56:29.051Z"
   },
   {
    "duration": 10,
    "start_time": "2021-07-07T12:56:29.291Z"
   },
   {
    "duration": 8,
    "start_time": "2021-07-07T12:56:29.623Z"
   },
   {
    "duration": 28,
    "start_time": "2021-07-07T12:56:32.137Z"
   },
   {
    "duration": 19,
    "start_time": "2021-07-07T12:56:39.785Z"
   },
   {
    "duration": 20,
    "start_time": "2021-07-07T12:56:44.297Z"
   },
   {
    "duration": 7,
    "start_time": "2021-07-07T12:56:45.392Z"
   },
   {
    "duration": 23,
    "start_time": "2021-07-07T12:56:46.615Z"
   },
   {
    "duration": 4,
    "start_time": "2021-07-07T12:57:06.625Z"
   },
   {
    "duration": 32,
    "start_time": "2021-07-07T12:57:36.690Z"
   },
   {
    "duration": 18,
    "start_time": "2021-07-07T12:58:00.149Z"
   },
   {
    "duration": 15,
    "start_time": "2021-07-07T12:59:16.793Z"
   },
   {
    "duration": 7,
    "start_time": "2021-07-07T13:19:22.624Z"
   },
   {
    "duration": 6,
    "start_time": "2021-07-07T14:17:33.527Z"
   },
   {
    "duration": 9,
    "start_time": "2021-07-07T14:17:48.409Z"
   },
   {
    "duration": 8,
    "start_time": "2021-07-07T14:20:13.060Z"
   },
   {
    "duration": 8,
    "start_time": "2021-07-07T14:20:37.957Z"
   },
   {
    "duration": 8,
    "start_time": "2021-07-07T14:20:47.470Z"
   },
   {
    "duration": 9,
    "start_time": "2021-07-07T14:20:54.503Z"
   },
   {
    "duration": 10,
    "start_time": "2021-07-07T14:28:57.763Z"
   },
   {
    "duration": 3,
    "start_time": "2021-07-07T14:30:23.377Z"
   },
   {
    "duration": 3,
    "start_time": "2021-07-07T14:30:36.489Z"
   },
   {
    "duration": 103,
    "start_time": "2021-07-07T14:30:52.351Z"
   },
   {
    "duration": 8,
    "start_time": "2021-07-07T14:30:54.763Z"
   },
   {
    "duration": 8,
    "start_time": "2021-07-07T14:31:29.301Z"
   },
   {
    "duration": 13,
    "start_time": "2021-07-07T14:31:44.516Z"
   },
   {
    "duration": 7,
    "start_time": "2021-07-07T14:33:10.972Z"
   },
   {
    "duration": 11,
    "start_time": "2021-07-07T14:33:27.780Z"
   },
   {
    "duration": 8,
    "start_time": "2021-07-07T14:34:44.588Z"
   },
   {
    "duration": 57,
    "start_time": "2021-07-07T14:35:59.042Z"
   },
   {
    "duration": 3,
    "start_time": "2021-07-07T14:36:28.168Z"
   },
   {
    "duration": 5,
    "start_time": "2021-07-07T14:36:46.254Z"
   },
   {
    "duration": 4,
    "start_time": "2021-07-07T14:36:52.714Z"
   },
   {
    "duration": 3,
    "start_time": "2021-07-07T14:36:56.612Z"
   },
   {
    "duration": 4,
    "start_time": "2021-07-07T14:36:57.049Z"
   },
   {
    "duration": 3,
    "start_time": "2021-07-07T14:39:21.214Z"
   },
   {
    "duration": 7,
    "start_time": "2021-07-07T14:39:52.406Z"
   },
   {
    "duration": 11,
    "start_time": "2021-07-07T14:39:58.576Z"
   },
   {
    "duration": 9,
    "start_time": "2021-07-07T14:40:26.301Z"
   },
   {
    "duration": 10,
    "start_time": "2021-07-07T14:40:31.704Z"
   },
   {
    "duration": 11,
    "start_time": "2021-07-07T14:40:36.249Z"
   },
   {
    "duration": 10,
    "start_time": "2021-07-07T14:40:39.783Z"
   },
   {
    "duration": 9,
    "start_time": "2021-07-07T14:40:48.558Z"
   },
   {
    "duration": 10,
    "start_time": "2021-07-07T14:40:57.143Z"
   },
   {
    "duration": 9,
    "start_time": "2021-07-07T14:41:06.074Z"
   },
   {
    "duration": 4324,
    "start_time": "2021-07-07T14:41:22.004Z"
   },
   {
    "duration": 11,
    "start_time": "2021-07-07T14:41:33.392Z"
   },
   {
    "duration": 9,
    "start_time": "2021-07-07T14:41:39.288Z"
   },
   {
    "duration": 569,
    "start_time": "2021-07-07T14:42:14.387Z"
   },
   {
    "duration": 197,
    "start_time": "2021-07-07T14:42:14.959Z"
   },
   {
    "duration": 84,
    "start_time": "2021-07-07T14:42:16.052Z"
   },
   {
    "duration": 4,
    "start_time": "2021-07-07T14:42:16.900Z"
   },
   {
    "duration": 27,
    "start_time": "2021-07-07T14:42:19.898Z"
   },
   {
    "duration": 12,
    "start_time": "2021-07-07T14:42:21.577Z"
   },
   {
    "duration": 9,
    "start_time": "2021-07-07T14:42:21.813Z"
   },
   {
    "duration": 9,
    "start_time": "2021-07-07T14:42:22.569Z"
   },
   {
    "duration": 29,
    "start_time": "2021-07-07T14:42:25.837Z"
   },
   {
    "duration": 20,
    "start_time": "2021-07-07T14:42:27.003Z"
   },
   {
    "duration": 21,
    "start_time": "2021-07-07T14:42:28.767Z"
   },
   {
    "duration": 7,
    "start_time": "2021-07-07T14:42:29.838Z"
   },
   {
    "duration": 4,
    "start_time": "2021-07-07T14:43:25.493Z"
   },
   {
    "duration": 7,
    "start_time": "2021-07-07T14:43:26.573Z"
   },
   {
    "duration": 10,
    "start_time": "2021-07-07T14:43:31.639Z"
   },
   {
    "duration": 9,
    "start_time": "2021-07-07T14:43:32.046Z"
   },
   {
    "duration": 10,
    "start_time": "2021-07-07T14:43:33.301Z"
   },
   {
    "duration": 12,
    "start_time": "2021-07-07T14:43:33.658Z"
   },
   {
    "duration": 8,
    "start_time": "2021-07-07T14:43:34.552Z"
   },
   {
    "duration": 9,
    "start_time": "2021-07-07T14:43:35.058Z"
   },
   {
    "duration": 12,
    "start_time": "2021-07-07T14:43:35.914Z"
   },
   {
    "duration": 17,
    "start_time": "2021-07-07T14:45:34.368Z"
   },
   {
    "duration": 512,
    "start_time": "2021-07-07T14:51:58.236Z"
   },
   {
    "duration": 223,
    "start_time": "2021-07-07T14:51:58.750Z"
   },
   {
    "duration": 93,
    "start_time": "2021-07-07T14:51:58.977Z"
   },
   {
    "duration": 4,
    "start_time": "2021-07-07T14:51:59.071Z"
   },
   {
    "duration": 37,
    "start_time": "2021-07-07T14:51:59.077Z"
   },
   {
    "duration": 18,
    "start_time": "2021-07-07T14:51:59.116Z"
   },
   {
    "duration": 10,
    "start_time": "2021-07-07T14:51:59.137Z"
   },
   {
    "duration": 8,
    "start_time": "2021-07-07T14:51:59.149Z"
   },
   {
    "duration": 54,
    "start_time": "2021-07-07T14:51:59.158Z"
   },
   {
    "duration": 18,
    "start_time": "2021-07-07T14:51:59.213Z"
   },
   {
    "duration": 22,
    "start_time": "2021-07-07T14:51:59.232Z"
   },
   {
    "duration": 36,
    "start_time": "2021-07-07T14:51:59.255Z"
   },
   {
    "duration": 7,
    "start_time": "2021-07-07T14:51:59.293Z"
   },
   {
    "duration": 10,
    "start_time": "2021-07-07T14:51:59.302Z"
   },
   {
    "duration": 9,
    "start_time": "2021-07-07T14:51:59.313Z"
   },
   {
    "duration": 11,
    "start_time": "2021-07-07T14:51:59.324Z"
   },
   {
    "duration": 8,
    "start_time": "2021-07-07T14:51:59.337Z"
   },
   {
    "duration": 46,
    "start_time": "2021-07-07T14:51:59.347Z"
   },
   {
    "duration": 22,
    "start_time": "2021-07-07T14:51:59.395Z"
   },
   {
    "duration": 24,
    "start_time": "2021-07-07T14:57:32.911Z"
   },
   {
    "duration": 7,
    "start_time": "2021-07-07T14:58:22.070Z"
   },
   {
    "duration": 4,
    "start_time": "2021-07-07T14:59:11.239Z"
   },
   {
    "duration": 25,
    "start_time": "2021-07-07T15:07:22.208Z"
   },
   {
    "duration": 16,
    "start_time": "2021-07-07T15:08:25.560Z"
   },
   {
    "duration": 15,
    "start_time": "2021-07-07T15:08:40.647Z"
   },
   {
    "duration": 14,
    "start_time": "2021-07-07T15:08:46.669Z"
   },
   {
    "duration": 533,
    "start_time": "2021-07-07T15:18:07.440Z"
   },
   {
    "duration": 173,
    "start_time": "2021-07-07T15:18:07.974Z"
   },
   {
    "duration": 84,
    "start_time": "2021-07-07T15:18:08.149Z"
   },
   {
    "duration": 3,
    "start_time": "2021-07-07T15:18:08.235Z"
   },
   {
    "duration": 30,
    "start_time": "2021-07-07T15:18:08.240Z"
   },
   {
    "duration": 22,
    "start_time": "2021-07-07T15:18:08.272Z"
   },
   {
    "duration": 11,
    "start_time": "2021-07-07T15:18:08.295Z"
   },
   {
    "duration": 11,
    "start_time": "2021-07-07T15:18:08.309Z"
   },
   {
    "duration": 40,
    "start_time": "2021-07-07T15:18:08.322Z"
   },
   {
    "duration": 42,
    "start_time": "2021-07-07T15:18:08.364Z"
   },
   {
    "duration": 22,
    "start_time": "2021-07-07T15:18:08.408Z"
   },
   {
    "duration": 5,
    "start_time": "2021-07-07T15:18:08.432Z"
   },
   {
    "duration": 13,
    "start_time": "2021-07-07T15:18:08.439Z"
   },
   {
    "duration": 9,
    "start_time": "2021-07-07T15:18:08.454Z"
   },
   {
    "duration": 32,
    "start_time": "2021-07-07T15:18:08.465Z"
   },
   {
    "duration": 10,
    "start_time": "2021-07-07T15:18:08.501Z"
   },
   {
    "duration": 7,
    "start_time": "2021-07-07T15:18:08.513Z"
   },
   {
    "duration": 11,
    "start_time": "2021-07-07T15:18:08.521Z"
   },
   {
    "duration": 17,
    "start_time": "2021-07-07T15:18:08.534Z"
   },
   {
    "duration": 44,
    "start_time": "2021-07-07T15:18:08.553Z"
   },
   {
    "duration": 22,
    "start_time": "2021-07-07T15:18:08.599Z"
   },
   {
    "duration": 61,
    "start_time": "2021-07-07T15:18:08.622Z"
   },
   {
    "duration": 7,
    "start_time": "2021-07-07T15:18:39.457Z"
   },
   {
    "duration": 5,
    "start_time": "2021-07-07T16:05:17.020Z"
   },
   {
    "duration": 5,
    "start_time": "2021-07-07T16:51:28.794Z"
   },
   {
    "duration": 546,
    "start_time": "2021-07-07T16:52:26.306Z"
   },
   {
    "duration": 203,
    "start_time": "2021-07-07T16:52:27.523Z"
   },
   {
    "duration": 85,
    "start_time": "2021-07-07T16:52:27.736Z"
   },
   {
    "duration": 4,
    "start_time": "2021-07-07T16:52:27.899Z"
   },
   {
    "duration": 25,
    "start_time": "2021-07-07T16:52:28.674Z"
   },
   {
    "duration": 8,
    "start_time": "2021-07-07T16:52:32.956Z"
   },
   {
    "duration": 18,
    "start_time": "2021-07-07T16:52:35.616Z"
   },
   {
    "duration": 6,
    "start_time": "2021-07-07T16:52:36.913Z"
   },
   {
    "duration": 11,
    "start_time": "2021-07-07T16:52:40.258Z"
   },
   {
    "duration": 10,
    "start_time": "2021-07-07T16:52:46.251Z"
   },
   {
    "duration": 8,
    "start_time": "2021-07-07T16:52:47.182Z"
   },
   {
    "duration": 27,
    "start_time": "2021-07-07T16:53:20.391Z"
   },
   {
    "duration": 20,
    "start_time": "2021-07-07T16:53:22.022Z"
   },
   {
    "duration": 23,
    "start_time": "2021-07-07T16:53:23.690Z"
   },
   {
    "duration": 8,
    "start_time": "2021-07-07T16:53:24.261Z"
   },
   {
    "duration": 4,
    "start_time": "2021-07-07T16:53:38.733Z"
   },
   {
    "duration": 7,
    "start_time": "2021-07-07T16:53:40.445Z"
   },
   {
    "duration": 11,
    "start_time": "2021-07-07T16:53:41.348Z"
   },
   {
    "duration": 13,
    "start_time": "2021-07-07T16:53:45.250Z"
   },
   {
    "duration": 12,
    "start_time": "2021-07-07T16:53:45.467Z"
   },
   {
    "duration": 4,
    "start_time": "2021-07-07T16:55:32.704Z"
   },
   {
    "duration": 12,
    "start_time": "2021-07-07T16:55:49.012Z"
   },
   {
    "duration": 18,
    "start_time": "2021-07-07T16:55:49.547Z"
   },
   {
    "duration": 611,
    "start_time": "2021-07-07T16:58:35.156Z"
   },
   {
    "duration": 200,
    "start_time": "2021-07-07T16:58:35.770Z"
   },
   {
    "duration": 86,
    "start_time": "2021-07-07T16:58:35.972Z"
   },
   {
    "duration": 3,
    "start_time": "2021-07-07T16:58:36.060Z"
   },
   {
    "duration": 27,
    "start_time": "2021-07-07T16:58:36.065Z"
   },
   {
    "duration": 8,
    "start_time": "2021-07-07T16:58:36.094Z"
   },
   {
    "duration": 17,
    "start_time": "2021-07-07T16:58:36.103Z"
   },
   {
    "duration": 5,
    "start_time": "2021-07-07T16:58:36.123Z"
   },
   {
    "duration": 11,
    "start_time": "2021-07-07T16:58:36.130Z"
   },
   {
    "duration": 7,
    "start_time": "2021-07-07T16:58:36.143Z"
   },
   {
    "duration": 37,
    "start_time": "2021-07-07T16:58:36.152Z"
   },
   {
    "duration": 27,
    "start_time": "2021-07-07T16:58:36.191Z"
   },
   {
    "duration": 19,
    "start_time": "2021-07-07T16:58:36.219Z"
   },
   {
    "duration": 49,
    "start_time": "2021-07-07T16:58:36.240Z"
   },
   {
    "duration": 6,
    "start_time": "2021-07-07T16:58:36.291Z"
   },
   {
    "duration": 3,
    "start_time": "2021-07-07T16:58:36.299Z"
   },
   {
    "duration": 13,
    "start_time": "2021-07-07T16:58:36.304Z"
   },
   {
    "duration": 10,
    "start_time": "2021-07-07T16:58:36.319Z"
   },
   {
    "duration": 10,
    "start_time": "2021-07-07T16:58:36.331Z"
   },
   {
    "duration": 44,
    "start_time": "2021-07-07T16:58:36.343Z"
   },
   {
    "duration": 4,
    "start_time": "2021-07-07T16:58:36.388Z"
   },
   {
    "duration": 13,
    "start_time": "2021-07-07T16:58:36.394Z"
   },
   {
    "duration": 16,
    "start_time": "2021-07-07T16:58:36.410Z"
   },
   {
    "duration": 8,
    "start_time": "2021-07-07T17:02:31.629Z"
   },
   {
    "duration": 8,
    "start_time": "2021-07-07T17:02:34.308Z"
   },
   {
    "duration": 6,
    "start_time": "2021-07-07T17:05:13.483Z"
   },
   {
    "duration": 17,
    "start_time": "2021-07-07T17:05:20.606Z"
   },
   {
    "duration": 7,
    "start_time": "2021-07-07T17:05:34.638Z"
   },
   {
    "duration": 3,
    "start_time": "2021-07-07T17:06:31.883Z"
   },
   {
    "duration": 570,
    "start_time": "2021-07-07T17:06:37.165Z"
   },
   {
    "duration": 174,
    "start_time": "2021-07-07T17:06:37.737Z"
   },
   {
    "duration": 47,
    "start_time": "2021-07-07T17:06:37.913Z"
   },
   {
    "duration": 3,
    "start_time": "2021-07-07T17:06:37.962Z"
   },
   {
    "duration": 27,
    "start_time": "2021-07-07T17:06:37.967Z"
   },
   {
    "duration": 7,
    "start_time": "2021-07-07T17:06:37.996Z"
   },
   {
    "duration": 16,
    "start_time": "2021-07-07T17:06:38.005Z"
   },
   {
    "duration": 6,
    "start_time": "2021-07-07T17:06:38.024Z"
   },
   {
    "duration": 12,
    "start_time": "2021-07-07T17:06:38.031Z"
   },
   {
    "duration": 41,
    "start_time": "2021-07-07T17:06:38.045Z"
   },
   {
    "duration": 8,
    "start_time": "2021-07-07T17:06:38.088Z"
   },
   {
    "duration": 26,
    "start_time": "2021-07-07T17:06:38.098Z"
   },
   {
    "duration": 17,
    "start_time": "2021-07-07T17:06:38.126Z"
   },
   {
    "duration": 43,
    "start_time": "2021-07-07T17:06:38.144Z"
   },
   {
    "duration": 6,
    "start_time": "2021-07-07T17:06:38.188Z"
   },
   {
    "duration": 5,
    "start_time": "2021-07-07T17:06:38.195Z"
   },
   {
    "duration": 9,
    "start_time": "2021-07-07T17:06:38.201Z"
   },
   {
    "duration": 12,
    "start_time": "2021-07-07T17:06:38.212Z"
   },
   {
    "duration": 11,
    "start_time": "2021-07-07T17:06:38.226Z"
   },
   {
    "duration": 47,
    "start_time": "2021-07-07T17:06:38.239Z"
   },
   {
    "duration": 4,
    "start_time": "2021-07-07T17:06:38.288Z"
   },
   {
    "duration": 13,
    "start_time": "2021-07-07T17:06:38.293Z"
   },
   {
    "duration": 5,
    "start_time": "2021-07-07T17:06:38.309Z"
   },
   {
    "duration": 18,
    "start_time": "2021-07-07T17:06:38.325Z"
   },
   {
    "duration": 20,
    "start_time": "2021-07-07T17:07:02.805Z"
   },
   {
    "duration": 19,
    "start_time": "2021-07-07T17:07:08.527Z"
   },
   {
    "duration": 19,
    "start_time": "2021-07-07T17:07:12.758Z"
   },
   {
    "duration": 22,
    "start_time": "2021-07-07T17:07:17.497Z"
   },
   {
    "duration": 19,
    "start_time": "2021-07-07T17:07:19.645Z"
   },
   {
    "duration": 10,
    "start_time": "2021-07-07T17:07:34.239Z"
   },
   {
    "duration": 17,
    "start_time": "2021-07-07T17:07:54.144Z"
   },
   {
    "duration": 14,
    "start_time": "2021-07-07T17:08:14.357Z"
   },
   {
    "duration": 616,
    "start_time": "2021-07-07T17:08:45.254Z"
   },
   {
    "duration": 178,
    "start_time": "2021-07-07T17:08:45.872Z"
   },
   {
    "duration": 60,
    "start_time": "2021-07-07T17:08:46.054Z"
   },
   {
    "duration": 3,
    "start_time": "2021-07-07T17:08:46.116Z"
   },
   {
    "duration": 26,
    "start_time": "2021-07-07T17:08:46.121Z"
   },
   {
    "duration": 7,
    "start_time": "2021-07-07T17:08:46.149Z"
   },
   {
    "duration": 17,
    "start_time": "2021-07-07T17:08:46.158Z"
   },
   {
    "duration": 14,
    "start_time": "2021-07-07T17:08:46.176Z"
   },
   {
    "duration": 17,
    "start_time": "2021-07-07T17:08:46.193Z"
   },
   {
    "duration": 9,
    "start_time": "2021-07-07T17:08:46.211Z"
   },
   {
    "duration": 21,
    "start_time": "2021-07-07T17:08:46.221Z"
   },
   {
    "duration": 49,
    "start_time": "2021-07-07T17:08:46.244Z"
   },
   {
    "duration": 24,
    "start_time": "2021-07-07T17:08:46.295Z"
   },
   {
    "duration": 22,
    "start_time": "2021-07-07T17:08:46.321Z"
   },
   {
    "duration": 6,
    "start_time": "2021-07-07T17:08:46.345Z"
   },
   {
    "duration": 5,
    "start_time": "2021-07-07T17:08:46.353Z"
   },
   {
    "duration": 13,
    "start_time": "2021-07-07T17:08:46.386Z"
   },
   {
    "duration": 12,
    "start_time": "2021-07-07T17:08:46.402Z"
   },
   {
    "duration": 10,
    "start_time": "2021-07-07T17:08:46.415Z"
   },
   {
    "duration": 7,
    "start_time": "2021-07-07T17:08:46.427Z"
   },
   {
    "duration": 8,
    "start_time": "2021-07-07T17:08:46.435Z"
   },
   {
    "duration": 68,
    "start_time": "2021-07-07T17:08:46.446Z"
   },
   {
    "duration": 13,
    "start_time": "2021-07-07T17:08:46.516Z"
   },
   {
    "duration": 78,
    "start_time": "2021-07-07T17:08:46.530Z"
   },
   {
    "duration": 40,
    "start_time": "2021-07-07T17:09:08.185Z"
   },
   {
    "duration": 16,
    "start_time": "2021-07-07T17:09:19.324Z"
   },
   {
    "duration": 21,
    "start_time": "2021-07-07T17:09:23.290Z"
   },
   {
    "duration": 13,
    "start_time": "2021-07-07T17:09:54.812Z"
   },
   {
    "duration": 13,
    "start_time": "2021-07-07T17:10:02.039Z"
   },
   {
    "duration": 10,
    "start_time": "2021-07-07T17:10:29.632Z"
   },
   {
    "duration": 13,
    "start_time": "2021-07-07T17:10:52.372Z"
   },
   {
    "duration": 13,
    "start_time": "2021-07-07T17:11:17.270Z"
   },
   {
    "duration": 13,
    "start_time": "2021-07-07T17:14:59.284Z"
   },
   {
    "duration": 547,
    "start_time": "2021-07-07T17:18:52.403Z"
   },
   {
    "duration": 163,
    "start_time": "2021-07-07T17:18:52.952Z"
   },
   {
    "duration": 44,
    "start_time": "2021-07-07T17:18:53.117Z"
   },
   {
    "duration": 3,
    "start_time": "2021-07-07T17:18:53.162Z"
   },
   {
    "duration": 26,
    "start_time": "2021-07-07T17:18:53.167Z"
   },
   {
    "duration": 6,
    "start_time": "2021-07-07T17:18:53.195Z"
   },
   {
    "duration": 15,
    "start_time": "2021-07-07T17:18:53.203Z"
   },
   {
    "duration": 5,
    "start_time": "2021-07-07T17:18:53.220Z"
   },
   {
    "duration": 11,
    "start_time": "2021-07-07T17:18:53.228Z"
   },
   {
    "duration": 9,
    "start_time": "2021-07-07T17:18:53.241Z"
   },
   {
    "duration": 41,
    "start_time": "2021-07-07T17:18:53.252Z"
   },
   {
    "duration": 33,
    "start_time": "2021-07-07T17:18:53.295Z"
   },
   {
    "duration": 19,
    "start_time": "2021-07-07T17:18:53.330Z"
   },
   {
    "duration": 49,
    "start_time": "2021-07-07T17:18:53.350Z"
   },
   {
    "duration": 5,
    "start_time": "2021-07-07T17:18:53.401Z"
   },
   {
    "duration": 5,
    "start_time": "2021-07-07T17:18:53.408Z"
   },
   {
    "duration": 11,
    "start_time": "2021-07-07T17:18:53.414Z"
   },
   {
    "duration": 9,
    "start_time": "2021-07-07T17:18:53.427Z"
   },
   {
    "duration": 10,
    "start_time": "2021-07-07T17:18:53.437Z"
   },
   {
    "duration": 39,
    "start_time": "2021-07-07T17:18:53.448Z"
   },
   {
    "duration": 26,
    "start_time": "2021-07-07T17:18:55.799Z"
   },
   {
    "duration": 598,
    "start_time": "2021-07-07T17:20:17.862Z"
   },
   {
    "duration": 161,
    "start_time": "2021-07-07T17:20:18.462Z"
   },
   {
    "duration": 45,
    "start_time": "2021-07-07T17:20:18.626Z"
   },
   {
    "duration": 4,
    "start_time": "2021-07-07T17:20:18.673Z"
   },
   {
    "duration": 38,
    "start_time": "2021-07-07T17:20:26.877Z"
   },
   {
    "duration": 7,
    "start_time": "2021-07-07T17:20:37.405Z"
   },
   {
    "duration": 19,
    "start_time": "2021-07-07T17:20:51.534Z"
   },
   {
    "duration": 5,
    "start_time": "2021-07-07T17:20:57.228Z"
   },
   {
    "duration": 7,
    "start_time": "2021-07-07T17:21:08.235Z"
   },
   {
    "duration": 19,
    "start_time": "2021-07-07T17:21:42.158Z"
   },
   {
    "duration": 14,
    "start_time": "2021-07-07T17:21:50.225Z"
   },
   {
    "duration": 22,
    "start_time": "2021-07-07T17:22:54.104Z"
   },
   {
    "duration": 5,
    "start_time": "2021-07-07T17:22:56.371Z"
   },
   {
    "duration": 14,
    "start_time": "2021-07-07T17:22:58.316Z"
   },
   {
    "duration": 5,
    "start_time": "2021-07-07T17:22:58.493Z"
   },
   {
    "duration": 35,
    "start_time": "2021-07-07T17:22:59.666Z"
   },
   {
    "duration": 6,
    "start_time": "2021-07-07T17:23:02.410Z"
   },
   {
    "duration": 611,
    "start_time": "2021-07-07T17:24:59.664Z"
   },
   {
    "duration": 178,
    "start_time": "2021-07-07T17:25:01.945Z"
   },
   {
    "duration": 47,
    "start_time": "2021-07-07T17:25:02.125Z"
   },
   {
    "duration": 2,
    "start_time": "2021-07-07T17:25:07.903Z"
   },
   {
    "duration": 254,
    "start_time": "2021-07-07T17:25:08.232Z"
   },
   {
    "duration": 182,
    "start_time": "2021-07-07T17:25:08.671Z"
   },
   {
    "duration": 6,
    "start_time": "2021-07-07T17:25:13.104Z"
   },
   {
    "duration": 36,
    "start_time": "2021-07-07T17:25:13.662Z"
   },
   {
    "duration": 7,
    "start_time": "2021-07-07T17:25:14.528Z"
   },
   {
    "duration": 24,
    "start_time": "2021-07-07T17:25:27.982Z"
   },
   {
    "duration": 3,
    "start_time": "2021-07-07T17:25:48.982Z"
   },
   {
    "duration": 165,
    "start_time": "2021-07-07T17:25:48.987Z"
   },
   {
    "duration": 50,
    "start_time": "2021-07-07T17:25:49.154Z"
   },
   {
    "duration": 4,
    "start_time": "2021-07-07T17:25:49.206Z"
   },
   {
    "duration": 26,
    "start_time": "2021-07-07T17:25:49.212Z"
   },
   {
    "duration": 7,
    "start_time": "2021-07-07T17:25:49.240Z"
   },
   {
    "duration": 16,
    "start_time": "2021-07-07T17:25:49.249Z"
   },
   {
    "duration": 22,
    "start_time": "2021-07-07T17:25:49.266Z"
   },
   {
    "duration": 16,
    "start_time": "2021-07-07T17:25:49.291Z"
   },
   {
    "duration": 9,
    "start_time": "2021-07-07T17:25:49.309Z"
   },
   {
    "duration": 7,
    "start_time": "2021-07-07T17:25:49.319Z"
   },
   {
    "duration": 28,
    "start_time": "2021-07-07T17:25:49.328Z"
   },
   {
    "duration": 44,
    "start_time": "2021-07-07T17:25:49.357Z"
   },
   {
    "duration": 22,
    "start_time": "2021-07-07T17:25:49.403Z"
   },
   {
    "duration": 7,
    "start_time": "2021-07-07T17:25:49.427Z"
   },
   {
    "duration": 3,
    "start_time": "2021-07-07T17:25:49.436Z"
   },
   {
    "duration": 44,
    "start_time": "2021-07-07T17:25:49.441Z"
   },
   {
    "duration": 12,
    "start_time": "2021-07-07T17:25:49.488Z"
   },
   {
    "duration": 13,
    "start_time": "2021-07-07T17:25:49.502Z"
   },
   {
    "duration": 10,
    "start_time": "2021-07-07T17:25:49.516Z"
   },
   {
    "duration": 62,
    "start_time": "2021-07-07T17:25:49.527Z"
   },
   {
    "duration": 26,
    "start_time": "2021-07-07T17:26:51.809Z"
   },
   {
    "duration": 26,
    "start_time": "2021-07-07T17:26:55.759Z"
   },
   {
    "duration": 26,
    "start_time": "2021-07-07T17:27:04.501Z"
   },
   {
    "duration": 25,
    "start_time": "2021-07-07T17:28:24.859Z"
   },
   {
    "duration": 21,
    "start_time": "2021-07-07T17:28:55.250Z"
   },
   {
    "duration": 21,
    "start_time": "2021-07-07T17:28:58.885Z"
   },
   {
    "duration": 7,
    "start_time": "2021-07-07T17:45:40.972Z"
   },
   {
    "duration": 13,
    "start_time": "2021-07-07T17:45:42.529Z"
   },
   {
    "duration": 27,
    "start_time": "2021-07-07T17:45:51.026Z"
   },
   {
    "duration": 518,
    "start_time": "2021-07-07T17:46:15.532Z"
   },
   {
    "duration": 235,
    "start_time": "2021-07-07T17:46:16.053Z"
   },
   {
    "duration": 80,
    "start_time": "2021-07-07T17:46:16.292Z"
   },
   {
    "duration": 5,
    "start_time": "2021-07-07T17:46:16.373Z"
   },
   {
    "duration": 26,
    "start_time": "2021-07-07T17:46:16.380Z"
   },
   {
    "duration": 7,
    "start_time": "2021-07-07T17:46:16.408Z"
   },
   {
    "duration": 16,
    "start_time": "2021-07-07T17:46:16.418Z"
   },
   {
    "duration": 5,
    "start_time": "2021-07-07T17:46:16.436Z"
   },
   {
    "duration": 13,
    "start_time": "2021-07-07T17:46:16.442Z"
   },
   {
    "duration": 35,
    "start_time": "2021-07-07T17:46:16.456Z"
   },
   {
    "duration": 8,
    "start_time": "2021-07-07T17:46:16.493Z"
   },
   {
    "duration": 28,
    "start_time": "2021-07-07T17:46:16.502Z"
   },
   {
    "duration": 17,
    "start_time": "2021-07-07T17:46:16.532Z"
   },
   {
    "duration": 44,
    "start_time": "2021-07-07T17:46:16.551Z"
   },
   {
    "duration": 6,
    "start_time": "2021-07-07T17:46:16.597Z"
   },
   {
    "duration": 4,
    "start_time": "2021-07-07T17:46:16.605Z"
   },
   {
    "duration": 9,
    "start_time": "2021-07-07T17:46:16.610Z"
   },
   {
    "duration": 9,
    "start_time": "2021-07-07T17:46:16.621Z"
   },
   {
    "duration": 10,
    "start_time": "2021-07-07T17:46:16.632Z"
   },
   {
    "duration": 43,
    "start_time": "2021-07-07T17:46:16.644Z"
   },
   {
    "duration": 26,
    "start_time": "2021-07-07T17:46:16.689Z"
   },
   {
    "duration": 19,
    "start_time": "2021-07-07T17:46:16.718Z"
   },
   {
    "duration": 8,
    "start_time": "2021-07-07T17:46:16.738Z"
   },
   {
    "duration": 43,
    "start_time": "2021-07-07T17:46:16.747Z"
   },
   {
    "duration": 19,
    "start_time": "2021-07-07T17:46:16.791Z"
   },
   {
    "duration": 9,
    "start_time": "2021-07-07T17:46:16.812Z"
   },
   {
    "duration": 60,
    "start_time": "2021-07-07T17:46:16.822Z"
   },
   {
    "duration": -8,
    "start_time": "2021-07-07T17:46:16.892Z"
   },
   {
    "duration": 12,
    "start_time": "2021-07-07T17:48:47.707Z"
   },
   {
    "duration": 553,
    "start_time": "2021-07-07T18:10:09.350Z"
   },
   {
    "duration": 230,
    "start_time": "2021-07-07T18:10:09.905Z"
   },
   {
    "duration": 97,
    "start_time": "2021-07-07T18:10:10.137Z"
   },
   {
    "duration": 5,
    "start_time": "2021-07-07T18:10:10.236Z"
   },
   {
    "duration": 29,
    "start_time": "2021-07-07T18:10:10.242Z"
   },
   {
    "duration": 7,
    "start_time": "2021-07-07T18:10:10.272Z"
   },
   {
    "duration": 15,
    "start_time": "2021-07-07T18:10:10.281Z"
   },
   {
    "duration": 4,
    "start_time": "2021-07-07T18:10:10.299Z"
   },
   {
    "duration": 14,
    "start_time": "2021-07-07T18:10:10.305Z"
   },
   {
    "duration": 8,
    "start_time": "2021-07-07T18:10:10.321Z"
   },
   {
    "duration": 8,
    "start_time": "2021-07-07T18:10:10.331Z"
   },
   {
    "duration": 56,
    "start_time": "2021-07-07T18:10:10.341Z"
   },
   {
    "duration": 19,
    "start_time": "2021-07-07T18:10:10.399Z"
   },
   {
    "duration": 23,
    "start_time": "2021-07-07T18:10:10.419Z"
   },
   {
    "duration": 6,
    "start_time": "2021-07-07T18:10:10.444Z"
   },
   {
    "duration": 9,
    "start_time": "2021-07-07T18:10:10.451Z"
   },
   {
    "duration": 30,
    "start_time": "2021-07-07T18:10:10.462Z"
   },
   {
    "duration": 9,
    "start_time": "2021-07-07T18:10:10.494Z"
   },
   {
    "duration": 14,
    "start_time": "2021-07-07T18:10:10.505Z"
   },
   {
    "duration": 7,
    "start_time": "2021-07-07T18:10:10.521Z"
   },
   {
    "duration": 26,
    "start_time": "2021-07-07T18:10:10.530Z"
   },
   {
    "duration": 44,
    "start_time": "2021-07-07T18:10:10.558Z"
   },
   {
    "duration": 7,
    "start_time": "2021-07-07T18:10:10.605Z"
   },
   {
    "duration": 11,
    "start_time": "2021-07-07T18:10:10.614Z"
   },
   {
    "duration": 19,
    "start_time": "2021-07-07T18:10:10.626Z"
   },
   {
    "duration": 44,
    "start_time": "2021-07-07T18:10:10.646Z"
   },
   {
    "duration": 516,
    "start_time": "2021-07-07T18:14:00.826Z"
   },
   {
    "duration": 230,
    "start_time": "2021-07-07T18:14:01.344Z"
   },
   {
    "duration": 105,
    "start_time": "2021-07-07T18:14:01.576Z"
   },
   {
    "duration": 5,
    "start_time": "2021-07-07T18:14:01.683Z"
   },
   {
    "duration": 46,
    "start_time": "2021-07-07T18:14:01.690Z"
   },
   {
    "duration": 7,
    "start_time": "2021-07-07T18:14:01.738Z"
   },
   {
    "duration": 20,
    "start_time": "2021-07-07T18:14:01.747Z"
   },
   {
    "duration": 16,
    "start_time": "2021-07-07T18:14:01.769Z"
   },
   {
    "duration": 14,
    "start_time": "2021-07-07T18:14:01.787Z"
   },
   {
    "duration": 15,
    "start_time": "2021-07-07T18:14:01.803Z"
   },
   {
    "duration": 12,
    "start_time": "2021-07-07T18:14:01.820Z"
   },
   {
    "duration": 35,
    "start_time": "2021-07-07T18:14:01.833Z"
   },
   {
    "duration": 31,
    "start_time": "2021-07-07T18:14:01.869Z"
   },
   {
    "duration": 37,
    "start_time": "2021-07-07T18:14:01.902Z"
   },
   {
    "duration": 8,
    "start_time": "2021-07-07T18:14:01.942Z"
   },
   {
    "duration": 16,
    "start_time": "2021-07-07T18:14:01.952Z"
   },
   {
    "duration": 13,
    "start_time": "2021-07-07T18:14:01.970Z"
   },
   {
    "duration": 32,
    "start_time": "2021-07-07T18:14:01.985Z"
   },
   {
    "duration": 11,
    "start_time": "2021-07-07T18:14:02.019Z"
   },
   {
    "duration": 22,
    "start_time": "2021-07-07T18:14:02.031Z"
   },
   {
    "duration": 27,
    "start_time": "2021-07-07T18:14:02.055Z"
   },
   {
    "duration": 18,
    "start_time": "2021-07-07T18:14:02.084Z"
   },
   {
    "duration": 18,
    "start_time": "2021-07-07T18:14:02.106Z"
   },
   {
    "duration": 11,
    "start_time": "2021-07-07T18:14:02.126Z"
   },
   {
    "duration": 21,
    "start_time": "2021-07-07T18:14:02.138Z"
   },
   {
    "duration": 32,
    "start_time": "2021-07-07T18:14:02.161Z"
   },
   {
    "duration": 28,
    "start_time": "2021-07-07T18:14:44.295Z"
   },
   {
    "duration": 6,
    "start_time": "2021-07-07T18:15:05.834Z"
   },
   {
    "duration": 511,
    "start_time": "2021-07-07T18:15:41.541Z"
   },
   {
    "duration": 183,
    "start_time": "2021-07-07T18:15:42.054Z"
   },
   {
    "duration": 50,
    "start_time": "2021-07-07T18:15:42.239Z"
   },
   {
    "duration": 5,
    "start_time": "2021-07-07T18:15:42.291Z"
   },
   {
    "duration": 48,
    "start_time": "2021-07-07T18:15:42.297Z"
   },
   {
    "duration": 8,
    "start_time": "2021-07-07T18:15:42.346Z"
   },
   {
    "duration": 17,
    "start_time": "2021-07-07T18:15:42.356Z"
   },
   {
    "duration": 15,
    "start_time": "2021-07-07T18:15:42.375Z"
   },
   {
    "duration": 12,
    "start_time": "2021-07-07T18:15:42.392Z"
   },
   {
    "duration": 7,
    "start_time": "2021-07-07T18:15:42.406Z"
   },
   {
    "duration": 7,
    "start_time": "2021-07-07T18:15:42.415Z"
   },
   {
    "duration": 29,
    "start_time": "2021-07-07T18:15:42.423Z"
   },
   {
    "duration": 43,
    "start_time": "2021-07-07T18:15:42.453Z"
   },
   {
    "duration": 18,
    "start_time": "2021-07-07T18:15:42.497Z"
   },
   {
    "duration": 6,
    "start_time": "2021-07-07T18:15:42.516Z"
   },
   {
    "duration": 3,
    "start_time": "2021-07-07T18:15:42.523Z"
   },
   {
    "duration": 18,
    "start_time": "2021-07-07T18:15:42.528Z"
   },
   {
    "duration": 10,
    "start_time": "2021-07-07T18:15:42.547Z"
   },
   {
    "duration": 36,
    "start_time": "2021-07-07T18:15:42.559Z"
   },
   {
    "duration": 8,
    "start_time": "2021-07-07T18:15:42.597Z"
   },
   {
    "duration": 28,
    "start_time": "2021-07-07T18:15:42.606Z"
   },
   {
    "duration": 52,
    "start_time": "2021-07-07T18:15:42.635Z"
   },
   {
    "duration": 7,
    "start_time": "2021-07-07T18:15:42.690Z"
   },
   {
    "duration": 10,
    "start_time": "2021-07-07T18:15:42.699Z"
   },
   {
    "duration": 19,
    "start_time": "2021-07-07T18:15:42.711Z"
   },
   {
    "duration": 9,
    "start_time": "2021-07-07T18:15:42.732Z"
   },
   {
    "duration": 5,
    "start_time": "2021-07-07T18:15:42.743Z"
   },
   {
    "duration": 1450,
    "start_time": "2021-07-07T18:15:51.984Z"
   },
   {
    "duration": 161,
    "start_time": "2021-07-07T18:15:53.435Z"
   },
   {
    "duration": 124,
    "start_time": "2021-07-07T18:15:53.598Z"
   },
   {
    "duration": 5,
    "start_time": "2021-07-07T18:15:53.724Z"
   },
   {
    "duration": 34,
    "start_time": "2021-07-07T18:15:53.730Z"
   },
   {
    "duration": 7,
    "start_time": "2021-07-07T18:15:53.765Z"
   },
   {
    "duration": 15,
    "start_time": "2021-07-07T18:15:53.773Z"
   },
   {
    "duration": 5,
    "start_time": "2021-07-07T18:15:53.791Z"
   },
   {
    "duration": 19,
    "start_time": "2021-07-07T18:15:53.798Z"
   },
   {
    "duration": 9,
    "start_time": "2021-07-07T18:15:53.818Z"
   },
   {
    "duration": 19,
    "start_time": "2021-07-07T18:15:53.828Z"
   },
   {
    "duration": 27,
    "start_time": "2021-07-07T18:15:53.848Z"
   },
   {
    "duration": 16,
    "start_time": "2021-07-07T18:15:53.884Z"
   },
   {
    "duration": 29,
    "start_time": "2021-07-07T18:15:53.901Z"
   },
   {
    "duration": 5,
    "start_time": "2021-07-07T18:15:53.932Z"
   },
   {
    "duration": 15,
    "start_time": "2021-07-07T18:15:53.939Z"
   },
   {
    "duration": 13,
    "start_time": "2021-07-07T18:15:53.956Z"
   },
   {
    "duration": 20,
    "start_time": "2021-07-07T18:15:53.971Z"
   },
   {
    "duration": 14,
    "start_time": "2021-07-07T18:15:53.992Z"
   },
   {
    "duration": 9,
    "start_time": "2021-07-07T18:15:54.009Z"
   },
   {
    "duration": 28,
    "start_time": "2021-07-07T18:15:54.020Z"
   },
   {
    "duration": 50,
    "start_time": "2021-07-07T18:15:54.051Z"
   },
   {
    "duration": 8,
    "start_time": "2021-07-07T18:15:54.105Z"
   },
   {
    "duration": 11,
    "start_time": "2021-07-07T18:15:54.115Z"
   },
   {
    "duration": 20,
    "start_time": "2021-07-07T18:15:54.128Z"
   },
   {
    "duration": 13,
    "start_time": "2021-07-07T18:15:54.184Z"
   },
   {
    "duration": 7,
    "start_time": "2021-07-07T18:15:54.199Z"
   },
   {
    "duration": 7,
    "start_time": "2021-07-07T18:17:08.042Z"
   },
   {
    "duration": 8,
    "start_time": "2021-07-07T18:17:21.008Z"
   },
   {
    "duration": 7,
    "start_time": "2021-07-07T18:17:29.003Z"
   },
   {
    "duration": 8,
    "start_time": "2021-07-07T18:17:32.492Z"
   },
   {
    "duration": 9,
    "start_time": "2021-07-07T18:17:41.758Z"
   },
   {
    "duration": 255,
    "start_time": "2021-07-07T18:20:20.897Z"
   },
   {
    "duration": 173,
    "start_time": "2021-07-07T18:20:26.636Z"
   },
   {
    "duration": 7,
    "start_time": "2021-07-07T18:21:47.164Z"
   },
   {
    "duration": 254,
    "start_time": "2021-07-07T18:23:08.703Z"
   },
   {
    "duration": 21,
    "start_time": "2021-07-07T18:23:22.506Z"
   },
   {
    "duration": 315,
    "start_time": "2021-07-07T18:25:54.801Z"
   },
   {
    "duration": 34,
    "start_time": "2021-07-07T18:26:51.817Z"
   },
   {
    "duration": 327,
    "start_time": "2021-07-07T18:26:56.147Z"
   },
   {
    "duration": 342,
    "start_time": "2021-07-07T18:27:15.887Z"
   },
   {
    "duration": 302,
    "start_time": "2021-07-07T18:28:18.569Z"
   },
   {
    "duration": 226,
    "start_time": "2021-07-07T18:29:20.879Z"
   },
   {
    "duration": 207,
    "start_time": "2021-07-07T18:29:58.114Z"
   },
   {
    "duration": 140,
    "start_time": "2021-07-07T18:32:04.372Z"
   },
   {
    "duration": 158,
    "start_time": "2021-07-07T18:32:32.508Z"
   },
   {
    "duration": 145,
    "start_time": "2021-07-07T18:32:41.365Z"
   },
   {
    "duration": 132,
    "start_time": "2021-07-07T18:32:45.199Z"
   },
   {
    "duration": 11,
    "start_time": "2021-07-07T18:35:24.679Z"
   },
   {
    "duration": 268,
    "start_time": "2021-07-07T18:36:16.145Z"
   },
   {
    "duration": 227,
    "start_time": "2021-07-07T18:37:04.918Z"
   },
   {
    "duration": 3,
    "start_time": "2021-07-07T18:37:33.012Z"
   },
   {
    "duration": 671,
    "start_time": "2021-07-07T18:37:38.295Z"
   },
   {
    "duration": 54,
    "start_time": "2021-07-07T18:37:53.406Z"
   },
   {
    "duration": 631,
    "start_time": "2021-07-07T18:37:56.463Z"
   },
   {
    "duration": 19,
    "start_time": "2021-07-07T18:39:40.535Z"
   },
   {
    "duration": 20,
    "start_time": "2021-07-07T18:40:12.236Z"
   },
   {
    "duration": 633,
    "start_time": "2021-07-07T18:42:00.398Z"
   },
   {
    "duration": 218,
    "start_time": "2021-07-07T18:42:01.033Z"
   },
   {
    "duration": 49,
    "start_time": "2021-07-07T18:42:01.253Z"
   },
   {
    "duration": 5,
    "start_time": "2021-07-07T18:42:01.303Z"
   },
   {
    "duration": 27,
    "start_time": "2021-07-07T18:42:01.310Z"
   },
   {
    "duration": 8,
    "start_time": "2021-07-07T18:42:01.339Z"
   },
   {
    "duration": 20,
    "start_time": "2021-07-07T18:42:01.348Z"
   },
   {
    "duration": 6,
    "start_time": "2021-07-07T18:42:01.386Z"
   },
   {
    "duration": 16,
    "start_time": "2021-07-07T18:42:01.394Z"
   },
   {
    "duration": 9,
    "start_time": "2021-07-07T18:42:01.411Z"
   },
   {
    "duration": 11,
    "start_time": "2021-07-07T18:42:01.421Z"
   },
   {
    "duration": 31,
    "start_time": "2021-07-07T18:42:01.434Z"
   },
   {
    "duration": 18,
    "start_time": "2021-07-07T18:42:01.485Z"
   },
   {
    "duration": 23,
    "start_time": "2021-07-07T18:42:01.505Z"
   },
   {
    "duration": 6,
    "start_time": "2021-07-07T18:42:01.530Z"
   },
   {
    "duration": 10,
    "start_time": "2021-07-07T18:42:01.538Z"
   },
   {
    "duration": 13,
    "start_time": "2021-07-07T18:42:01.550Z"
   },
   {
    "duration": 24,
    "start_time": "2021-07-07T18:42:01.564Z"
   },
   {
    "duration": 20,
    "start_time": "2021-07-07T18:42:01.590Z"
   },
   {
    "duration": 8,
    "start_time": "2021-07-07T18:42:01.611Z"
   },
   {
    "duration": 31,
    "start_time": "2021-07-07T18:42:01.620Z"
   },
   {
    "duration": 39,
    "start_time": "2021-07-07T18:42:01.653Z"
   },
   {
    "duration": 8,
    "start_time": "2021-07-07T18:42:01.696Z"
   },
   {
    "duration": 13,
    "start_time": "2021-07-07T18:42:01.705Z"
   },
   {
    "duration": 20,
    "start_time": "2021-07-07T18:42:01.720Z"
   },
   {
    "duration": 12,
    "start_time": "2021-07-07T18:42:01.741Z"
   },
   {
    "duration": 35,
    "start_time": "2021-07-07T18:42:01.755Z"
   },
   {
    "duration": 14,
    "start_time": "2021-07-07T18:42:01.792Z"
   },
   {
    "duration": 188,
    "start_time": "2021-07-07T18:42:01.808Z"
   },
   {
    "duration": 19,
    "start_time": "2021-07-07T18:42:01.998Z"
   },
   {
    "duration": 175,
    "start_time": "2021-07-07T18:42:02.019Z"
   },
   {
    "duration": 134,
    "start_time": "2021-07-07T18:42:02.196Z"
   },
   {
    "duration": 10,
    "start_time": "2021-07-07T18:42:02.331Z"
   },
   {
    "duration": 19,
    "start_time": "2021-07-07T18:42:02.343Z"
   },
   {
    "duration": 628,
    "start_time": "2021-07-07T18:46:30.701Z"
   },
   {
    "duration": 183,
    "start_time": "2021-07-07T18:46:31.331Z"
   },
   {
    "duration": 48,
    "start_time": "2021-07-07T18:46:31.516Z"
   },
   {
    "duration": 5,
    "start_time": "2021-07-07T18:46:31.566Z"
   },
   {
    "duration": 28,
    "start_time": "2021-07-07T18:46:31.572Z"
   },
   {
    "duration": 8,
    "start_time": "2021-07-07T18:46:31.602Z"
   },
   {
    "duration": 19,
    "start_time": "2021-07-07T18:46:31.611Z"
   },
   {
    "duration": 6,
    "start_time": "2021-07-07T18:46:31.633Z"
   },
   {
    "duration": 17,
    "start_time": "2021-07-07T18:46:31.642Z"
   },
   {
    "duration": 10,
    "start_time": "2021-07-07T18:46:31.684Z"
   },
   {
    "duration": 9,
    "start_time": "2021-07-07T18:46:31.695Z"
   },
   {
    "duration": 28,
    "start_time": "2021-07-07T18:46:31.705Z"
   },
   {
    "duration": 18,
    "start_time": "2021-07-07T18:46:31.735Z"
   },
   {
    "duration": 48,
    "start_time": "2021-07-07T18:46:31.755Z"
   },
   {
    "duration": 6,
    "start_time": "2021-07-07T18:46:31.804Z"
   },
   {
    "duration": 4,
    "start_time": "2021-07-07T18:46:31.812Z"
   },
   {
    "duration": 9,
    "start_time": "2021-07-07T18:46:31.817Z"
   },
   {
    "duration": 10,
    "start_time": "2021-07-07T18:46:31.827Z"
   },
   {
    "duration": 12,
    "start_time": "2021-07-07T18:46:31.838Z"
   },
   {
    "duration": 39,
    "start_time": "2021-07-07T18:46:31.851Z"
   },
   {
    "duration": 24,
    "start_time": "2021-07-07T18:46:31.892Z"
   },
   {
    "duration": 15,
    "start_time": "2021-07-07T18:46:31.918Z"
   },
   {
    "duration": 7,
    "start_time": "2021-07-07T18:46:31.936Z"
   },
   {
    "duration": 8,
    "start_time": "2021-07-07T18:46:31.944Z"
   },
   {
    "duration": 19,
    "start_time": "2021-07-07T18:46:31.984Z"
   },
   {
    "duration": 10,
    "start_time": "2021-07-07T18:46:32.004Z"
   },
   {
    "duration": 5,
    "start_time": "2021-07-07T18:46:32.016Z"
   },
   {
    "duration": 9,
    "start_time": "2021-07-07T18:46:32.023Z"
   },
   {
    "duration": 199,
    "start_time": "2021-07-07T18:46:32.033Z"
   },
   {
    "duration": 19,
    "start_time": "2021-07-07T18:46:32.234Z"
   },
   {
    "duration": 159,
    "start_time": "2021-07-07T18:46:32.255Z"
   },
   {
    "duration": 134,
    "start_time": "2021-07-07T18:46:32.416Z"
   },
   {
    "duration": 10,
    "start_time": "2021-07-07T18:46:32.552Z"
   },
   {
    "duration": 34,
    "start_time": "2021-07-07T18:46:32.563Z"
   },
   {
    "duration": 1039,
    "start_time": "2021-07-08T08:41:09.419Z"
   },
   {
    "duration": 333,
    "start_time": "2021-07-08T08:41:10.459Z"
   },
   {
    "duration": 173,
    "start_time": "2021-07-08T08:41:10.794Z"
   },
   {
    "duration": 5,
    "start_time": "2021-07-08T08:41:10.968Z"
   },
   {
    "duration": 25,
    "start_time": "2021-07-08T08:41:10.975Z"
   },
   {
    "duration": 9,
    "start_time": "2021-07-08T08:41:11.002Z"
   },
   {
    "duration": 18,
    "start_time": "2021-07-08T08:41:11.013Z"
   },
   {
    "duration": 6,
    "start_time": "2021-07-08T08:41:11.033Z"
   },
   {
    "duration": 44,
    "start_time": "2021-07-08T08:41:11.042Z"
   },
   {
    "duration": 10,
    "start_time": "2021-07-08T08:41:11.088Z"
   },
   {
    "duration": 9,
    "start_time": "2021-07-08T08:41:11.100Z"
   },
   {
    "duration": 27,
    "start_time": "2021-07-08T08:41:11.111Z"
   },
   {
    "duration": 46,
    "start_time": "2021-07-08T08:41:11.140Z"
   },
   {
    "duration": 17,
    "start_time": "2021-07-08T08:41:11.187Z"
   },
   {
    "duration": 6,
    "start_time": "2021-07-08T08:41:11.206Z"
   },
   {
    "duration": 5,
    "start_time": "2021-07-08T08:41:11.213Z"
   },
   {
    "duration": 10,
    "start_time": "2021-07-08T08:41:11.219Z"
   },
   {
    "duration": 9,
    "start_time": "2021-07-08T08:41:11.230Z"
   },
   {
    "duration": 45,
    "start_time": "2021-07-08T08:41:11.241Z"
   },
   {
    "duration": 7,
    "start_time": "2021-07-08T08:41:11.287Z"
   },
   {
    "duration": 24,
    "start_time": "2021-07-08T08:41:11.296Z"
   },
   {
    "duration": 16,
    "start_time": "2021-07-08T08:41:11.322Z"
   },
   {
    "duration": 7,
    "start_time": "2021-07-08T08:41:11.341Z"
   },
   {
    "duration": 41,
    "start_time": "2021-07-08T08:41:11.349Z"
   },
   {
    "duration": 17,
    "start_time": "2021-07-08T08:41:11.391Z"
   },
   {
    "duration": 9,
    "start_time": "2021-07-08T08:41:11.410Z"
   },
   {
    "duration": 5,
    "start_time": "2021-07-08T08:41:11.421Z"
   },
   {
    "duration": 6,
    "start_time": "2021-07-08T08:41:11.428Z"
   },
   {
    "duration": 198,
    "start_time": "2021-07-08T08:41:11.435Z"
   },
   {
    "duration": 18,
    "start_time": "2021-07-08T08:41:11.635Z"
   },
   {
    "duration": 155,
    "start_time": "2021-07-08T08:41:11.655Z"
   },
   {
    "duration": 138,
    "start_time": "2021-07-08T08:41:11.811Z"
   },
   {
    "duration": 10,
    "start_time": "2021-07-08T08:41:11.950Z"
   },
   {
    "duration": 29,
    "start_time": "2021-07-08T08:41:11.961Z"
   },
   {
    "duration": 171,
    "start_time": "2021-07-08T08:47:44.522Z"
   },
   {
    "duration": 124,
    "start_time": "2021-07-08T08:47:46.872Z"
   },
   {
    "duration": 191,
    "start_time": "2021-07-08T08:47:58.148Z"
   },
   {
    "duration": 191,
    "start_time": "2021-07-08T08:48:07.412Z"
   },
   {
    "duration": 261,
    "start_time": "2021-07-08T08:48:10.385Z"
   },
   {
    "duration": 255,
    "start_time": "2021-07-08T08:48:14.494Z"
   },
   {
    "duration": 219,
    "start_time": "2021-07-08T08:48:22.752Z"
   },
   {
    "duration": 173,
    "start_time": "2021-07-08T08:49:06.395Z"
   },
   {
    "duration": 180,
    "start_time": "2021-07-08T08:49:21.011Z"
   },
   {
    "duration": 6,
    "start_time": "2021-07-08T08:50:31.697Z"
   },
   {
    "duration": 10,
    "start_time": "2021-07-08T08:50:47.394Z"
   },
   {
    "duration": 11,
    "start_time": "2021-07-08T08:53:49.332Z"
   },
   {
    "duration": 171,
    "start_time": "2021-07-08T08:54:28.408Z"
   },
   {
    "duration": 636,
    "start_time": "2021-07-08T09:02:48.385Z"
   },
   {
    "duration": 227,
    "start_time": "2021-07-08T09:02:49.023Z"
   },
   {
    "duration": 104,
    "start_time": "2021-07-08T09:02:49.252Z"
   },
   {
    "duration": 5,
    "start_time": "2021-07-08T09:02:49.358Z"
   },
   {
    "duration": 27,
    "start_time": "2021-07-08T09:02:49.365Z"
   },
   {
    "duration": 8,
    "start_time": "2021-07-08T09:02:49.394Z"
   },
   {
    "duration": 18,
    "start_time": "2021-07-08T09:02:49.404Z"
   },
   {
    "duration": 6,
    "start_time": "2021-07-08T09:02:49.424Z"
   },
   {
    "duration": 11,
    "start_time": "2021-07-08T09:02:49.433Z"
   },
   {
    "duration": 13,
    "start_time": "2021-07-08T09:02:49.485Z"
   },
   {
    "duration": 9,
    "start_time": "2021-07-08T09:02:49.500Z"
   },
   {
    "duration": 38,
    "start_time": "2021-07-08T09:02:49.511Z"
   },
   {
    "duration": 42,
    "start_time": "2021-07-08T09:02:49.551Z"
   },
   {
    "duration": 21,
    "start_time": "2021-07-08T09:02:49.594Z"
   },
   {
    "duration": 6,
    "start_time": "2021-07-08T09:02:49.616Z"
   },
   {
    "duration": 3,
    "start_time": "2021-07-08T09:02:49.623Z"
   },
   {
    "duration": 9,
    "start_time": "2021-07-08T09:02:49.628Z"
   },
   {
    "duration": 52,
    "start_time": "2021-07-08T09:02:49.638Z"
   },
   {
    "duration": 11,
    "start_time": "2021-07-08T09:02:49.692Z"
   },
   {
    "duration": 8,
    "start_time": "2021-07-08T09:02:49.704Z"
   },
   {
    "duration": 27,
    "start_time": "2021-07-08T09:02:49.713Z"
   },
   {
    "duration": 59,
    "start_time": "2021-07-08T09:02:49.741Z"
   },
   {
    "duration": 8,
    "start_time": "2021-07-08T09:02:49.803Z"
   },
   {
    "duration": 14,
    "start_time": "2021-07-08T09:02:49.813Z"
   },
   {
    "duration": 20,
    "start_time": "2021-07-08T09:02:49.829Z"
   },
   {
    "duration": 44,
    "start_time": "2021-07-08T09:02:49.851Z"
   },
   {
    "duration": 14,
    "start_time": "2021-07-08T09:02:49.896Z"
   },
   {
    "duration": 221,
    "start_time": "2021-07-08T09:02:49.912Z"
   },
   {
    "duration": 6,
    "start_time": "2021-07-08T09:02:50.134Z"
   },
   {
    "duration": 206,
    "start_time": "2021-07-08T09:02:50.142Z"
   },
   {
    "duration": 19,
    "start_time": "2021-07-08T09:02:50.350Z"
   },
   {
    "duration": 21,
    "start_time": "2021-07-08T09:02:50.370Z"
   },
   {
    "duration": 20,
    "start_time": "2021-07-08T09:02:50.393Z"
   },
   {
    "duration": 5,
    "start_time": "2021-07-08T09:02:50.414Z"
   },
   {
    "duration": 5,
    "start_time": "2021-07-08T09:03:34.173Z"
   },
   {
    "duration": 6,
    "start_time": "2021-07-08T09:04:49.062Z"
   },
   {
    "duration": 9,
    "start_time": "2021-07-08T09:04:50.118Z"
   },
   {
    "duration": 14,
    "start_time": "2021-07-08T09:04:58.512Z"
   },
   {
    "duration": 9,
    "start_time": "2021-07-08T09:05:10.988Z"
   },
   {
    "duration": 11,
    "start_time": "2021-07-08T09:05:11.743Z"
   },
   {
    "duration": 7,
    "start_time": "2021-07-08T09:05:25.677Z"
   },
   {
    "duration": 13,
    "start_time": "2021-07-08T09:05:47.189Z"
   },
   {
    "duration": 13,
    "start_time": "2021-07-08T09:05:54.755Z"
   },
   {
    "duration": 4,
    "start_time": "2021-07-08T09:06:29.189Z"
   },
   {
    "duration": 244,
    "start_time": "2021-07-08T09:06:29.195Z"
   },
   {
    "duration": 91,
    "start_time": "2021-07-08T09:06:29.441Z"
   },
   {
    "duration": 4,
    "start_time": "2021-07-08T09:06:29.534Z"
   },
   {
    "duration": 28,
    "start_time": "2021-07-08T09:06:29.540Z"
   },
   {
    "duration": 6,
    "start_time": "2021-07-08T09:06:29.570Z"
   },
   {
    "duration": 18,
    "start_time": "2021-07-08T09:06:29.578Z"
   },
   {
    "duration": 5,
    "start_time": "2021-07-08T09:06:29.597Z"
   },
   {
    "duration": 13,
    "start_time": "2021-07-08T09:06:29.605Z"
   },
   {
    "duration": 8,
    "start_time": "2021-07-08T09:06:29.620Z"
   },
   {
    "duration": 7,
    "start_time": "2021-07-08T09:06:29.630Z"
   },
   {
    "duration": 63,
    "start_time": "2021-07-08T09:06:29.639Z"
   },
   {
    "duration": 17,
    "start_time": "2021-07-08T09:06:29.704Z"
   },
   {
    "duration": 20,
    "start_time": "2021-07-08T09:06:29.723Z"
   },
   {
    "duration": 6,
    "start_time": "2021-07-08T09:06:29.745Z"
   },
   {
    "duration": 3,
    "start_time": "2021-07-08T09:06:29.752Z"
   },
   {
    "duration": 7,
    "start_time": "2021-07-08T09:06:29.785Z"
   },
   {
    "duration": 11,
    "start_time": "2021-07-08T09:06:29.794Z"
   },
   {
    "duration": 15,
    "start_time": "2021-07-08T09:06:29.807Z"
   },
   {
    "duration": 8,
    "start_time": "2021-07-08T09:06:29.823Z"
   },
   {
    "duration": 70,
    "start_time": "2021-07-08T09:06:29.832Z"
   },
   {
    "duration": 17,
    "start_time": "2021-07-08T09:06:29.903Z"
   },
   {
    "duration": 9,
    "start_time": "2021-07-08T09:06:29.921Z"
   },
   {
    "duration": 9,
    "start_time": "2021-07-08T09:06:29.932Z"
   },
   {
    "duration": 57,
    "start_time": "2021-07-08T09:06:29.942Z"
   },
   {
    "duration": 11,
    "start_time": "2021-07-08T09:06:30.001Z"
   },
   {
    "duration": 19,
    "start_time": "2021-07-08T09:06:30.016Z"
   },
   {
    "duration": 217,
    "start_time": "2021-07-08T09:06:30.037Z"
   },
   {
    "duration": 6,
    "start_time": "2021-07-08T09:06:30.255Z"
   },
   {
    "duration": 205,
    "start_time": "2021-07-08T09:06:30.263Z"
   },
   {
    "duration": 27,
    "start_time": "2021-07-08T09:06:30.470Z"
   },
   {
    "duration": 11,
    "start_time": "2021-07-08T09:06:30.500Z"
   },
   {
    "duration": 31,
    "start_time": "2021-07-08T09:06:30.513Z"
   },
   {
    "duration": 18,
    "start_time": "2021-07-08T09:06:30.546Z"
   },
   {
    "duration": 11,
    "start_time": "2021-07-08T09:06:30.566Z"
   },
   {
    "duration": 19,
    "start_time": "2021-07-08T09:06:30.579Z"
   },
   {
    "duration": 20,
    "start_time": "2021-07-08T09:06:49.466Z"
   },
   {
    "duration": 9,
    "start_time": "2021-07-08T09:06:51.994Z"
   },
   {
    "duration": 20,
    "start_time": "2021-07-08T09:06:52.273Z"
   },
   {
    "duration": 246,
    "start_time": "2021-07-08T09:10:21.272Z"
   },
   {
    "duration": 84,
    "start_time": "2021-07-08T09:10:21.436Z"
   },
   {
    "duration": 7,
    "start_time": "2021-07-08T09:10:37.608Z"
   },
   {
    "duration": 189,
    "start_time": "2021-07-08T09:10:38.573Z"
   },
   {
    "duration": 185,
    "start_time": "2021-07-08T09:10:53.181Z"
   },
   {
    "duration": 11,
    "start_time": "2021-07-08T09:10:59.549Z"
   },
   {
    "duration": 42,
    "start_time": "2021-07-08T09:10:59.709Z"
   },
   {
    "duration": 12,
    "start_time": "2021-07-08T09:11:02.857Z"
   },
   {
    "duration": 28,
    "start_time": "2021-07-08T09:11:10.062Z"
   },
   {
    "duration": 249,
    "start_time": "2021-07-08T09:11:37.388Z"
   },
   {
    "duration": 232,
    "start_time": "2021-07-08T09:11:49.485Z"
   },
   {
    "duration": 453,
    "start_time": "2021-07-08T09:12:01.546Z"
   },
   {
    "duration": 440,
    "start_time": "2021-07-08T09:12:12.347Z"
   },
   {
    "duration": 213,
    "start_time": "2021-07-08T09:13:32.196Z"
   },
   {
    "duration": 172,
    "start_time": "2021-07-08T09:14:07.400Z"
   },
   {
    "duration": 185,
    "start_time": "2021-07-08T09:14:14.905Z"
   },
   {
    "duration": 209,
    "start_time": "2021-07-08T09:14:40.109Z"
   },
   {
    "duration": 201,
    "start_time": "2021-07-08T09:14:54.506Z"
   },
   {
    "duration": 622,
    "start_time": "2021-07-08T09:18:14.497Z"
   },
   {
    "duration": 220,
    "start_time": "2021-07-08T09:18:15.121Z"
   },
   {
    "duration": 79,
    "start_time": "2021-07-08T09:18:15.343Z"
   },
   {
    "duration": 4,
    "start_time": "2021-07-08T09:18:15.425Z"
   },
   {
    "duration": 24,
    "start_time": "2021-07-08T09:18:15.431Z"
   },
   {
    "duration": 8,
    "start_time": "2021-07-08T09:18:15.457Z"
   },
   {
    "duration": 16,
    "start_time": "2021-07-08T09:18:15.466Z"
   },
   {
    "duration": 5,
    "start_time": "2021-07-08T09:18:15.484Z"
   },
   {
    "duration": 10,
    "start_time": "2021-07-08T09:18:15.493Z"
   },
   {
    "duration": 8,
    "start_time": "2021-07-08T09:18:15.504Z"
   },
   {
    "duration": 7,
    "start_time": "2021-07-08T09:18:15.513Z"
   },
   {
    "duration": 26,
    "start_time": "2021-07-08T09:18:15.522Z"
   },
   {
    "duration": 49,
    "start_time": "2021-07-08T09:18:15.550Z"
   },
   {
    "duration": 21,
    "start_time": "2021-07-08T09:18:15.601Z"
   },
   {
    "duration": 8,
    "start_time": "2021-07-08T09:18:15.624Z"
   },
   {
    "duration": 3,
    "start_time": "2021-07-08T09:18:15.634Z"
   },
   {
    "duration": 8,
    "start_time": "2021-07-08T09:18:15.639Z"
   },
   {
    "duration": 45,
    "start_time": "2021-07-08T09:18:15.649Z"
   },
   {
    "duration": 13,
    "start_time": "2021-07-08T09:18:15.696Z"
   },
   {
    "duration": 10,
    "start_time": "2021-07-08T09:18:15.711Z"
   },
   {
    "duration": 64,
    "start_time": "2021-07-08T09:18:15.722Z"
   },
   {
    "duration": 19,
    "start_time": "2021-07-08T09:18:15.788Z"
   },
   {
    "duration": 9,
    "start_time": "2021-07-08T09:18:15.809Z"
   },
   {
    "duration": 9,
    "start_time": "2021-07-08T09:18:15.820Z"
   },
   {
    "duration": 18,
    "start_time": "2021-07-08T09:18:15.831Z"
   },
   {
    "duration": 43,
    "start_time": "2021-07-08T09:18:15.851Z"
   },
   {
    "duration": 12,
    "start_time": "2021-07-08T09:18:15.897Z"
   },
   {
    "duration": 219,
    "start_time": "2021-07-08T09:18:15.911Z"
   },
   {
    "duration": 8,
    "start_time": "2021-07-08T09:18:16.132Z"
   },
   {
    "duration": 199,
    "start_time": "2021-07-08T09:18:16.141Z"
   },
   {
    "duration": 18,
    "start_time": "2021-07-08T09:18:16.341Z"
   },
   {
    "duration": 24,
    "start_time": "2021-07-08T09:18:16.361Z"
   },
   {
    "duration": 24,
    "start_time": "2021-07-08T09:18:16.387Z"
   },
   {
    "duration": 211,
    "start_time": "2021-07-08T09:18:16.413Z"
   },
   {
    "duration": 18,
    "start_time": "2021-07-08T09:18:16.626Z"
   },
   {
    "duration": 596,
    "start_time": "2021-07-08T10:06:33.623Z"
   },
   {
    "duration": 181,
    "start_time": "2021-07-08T10:06:34.221Z"
   },
   {
    "duration": 176,
    "start_time": "2021-07-08T10:06:34.635Z"
   },
   {
    "duration": 239,
    "start_time": "2021-07-08T10:06:55.572Z"
   },
   {
    "duration": 6,
    "start_time": "2021-07-08T10:06:57.687Z"
   },
   {
    "duration": 4,
    "start_time": "2021-07-08T10:07:03.956Z"
   },
   {
    "duration": 4,
    "start_time": "2021-07-08T10:07:10.376Z"
   },
   {
    "duration": 4,
    "start_time": "2021-07-08T10:17:19.889Z"
   },
   {
    "duration": 3,
    "start_time": "2021-07-08T10:19:19.407Z"
   },
   {
    "duration": 197,
    "start_time": "2021-07-08T10:19:19.412Z"
   },
   {
    "duration": 127,
    "start_time": "2021-07-08T10:19:19.611Z"
   },
   {
    "duration": 4,
    "start_time": "2021-07-08T10:19:19.740Z"
   },
   {
    "duration": 27,
    "start_time": "2021-07-08T10:19:19.746Z"
   },
   {
    "duration": 7,
    "start_time": "2021-07-08T10:19:19.775Z"
   },
   {
    "duration": 30,
    "start_time": "2021-07-08T10:19:19.784Z"
   },
   {
    "duration": 7,
    "start_time": "2021-07-08T10:19:19.817Z"
   },
   {
    "duration": 26,
    "start_time": "2021-07-08T10:19:19.826Z"
   },
   {
    "duration": 18,
    "start_time": "2021-07-08T10:19:19.854Z"
   },
   {
    "duration": 14,
    "start_time": "2021-07-08T10:19:19.874Z"
   },
   {
    "duration": 48,
    "start_time": "2021-07-08T10:19:19.890Z"
   },
   {
    "duration": 17,
    "start_time": "2021-07-08T10:19:19.940Z"
   },
   {
    "duration": 38,
    "start_time": "2021-07-08T10:19:19.959Z"
   },
   {
    "duration": 8,
    "start_time": "2021-07-08T10:19:19.999Z"
   },
   {
    "duration": 15,
    "start_time": "2021-07-08T10:19:20.009Z"
   },
   {
    "duration": 22,
    "start_time": "2021-07-08T10:19:20.026Z"
   },
   {
    "duration": 10,
    "start_time": "2021-07-08T10:19:20.050Z"
   },
   {
    "duration": 10,
    "start_time": "2021-07-08T10:19:20.062Z"
   },
   {
    "duration": 20,
    "start_time": "2021-07-08T10:19:20.073Z"
   },
   {
    "duration": 29,
    "start_time": "2021-07-08T10:19:20.095Z"
   },
   {
    "duration": 17,
    "start_time": "2021-07-08T10:19:20.126Z"
   },
   {
    "duration": 40,
    "start_time": "2021-07-08T10:19:20.146Z"
   },
   {
    "duration": 15,
    "start_time": "2021-07-08T10:19:20.189Z"
   },
   {
    "duration": 19,
    "start_time": "2021-07-08T10:19:20.206Z"
   },
   {
    "duration": 10,
    "start_time": "2021-07-08T10:19:20.226Z"
   },
   {
    "duration": 11,
    "start_time": "2021-07-08T10:19:20.238Z"
   },
   {
    "duration": 297,
    "start_time": "2021-07-08T10:19:20.250Z"
   },
   {
    "duration": 6,
    "start_time": "2021-07-08T10:19:20.549Z"
   },
   {
    "duration": 191,
    "start_time": "2021-07-08T10:19:20.557Z"
   },
   {
    "duration": 19,
    "start_time": "2021-07-08T10:19:20.750Z"
   },
   {
    "duration": 20,
    "start_time": "2021-07-08T10:19:20.771Z"
   },
   {
    "duration": 15,
    "start_time": "2021-07-08T10:19:20.793Z"
   },
   {
    "duration": 222,
    "start_time": "2021-07-08T10:19:20.809Z"
   },
   {
    "duration": 20,
    "start_time": "2021-07-08T10:19:21.033Z"
   },
   {
    "duration": 27,
    "start_time": "2021-07-08T10:45:04.055Z"
   },
   {
    "duration": 8,
    "start_time": "2021-07-08T10:45:08.478Z"
   },
   {
    "duration": 8,
    "start_time": "2021-07-08T10:45:31.982Z"
   },
   {
    "duration": 10,
    "start_time": "2021-07-08T10:46:01.221Z"
   },
   {
    "duration": 17,
    "start_time": "2021-07-08T10:46:40.011Z"
   },
   {
    "duration": 193,
    "start_time": "2021-07-08T10:48:19.471Z"
   },
   {
    "duration": 225,
    "start_time": "2021-07-08T10:49:26.480Z"
   },
   {
    "duration": 204,
    "start_time": "2021-07-08T10:49:59.992Z"
   },
   {
    "duration": 435,
    "start_time": "2021-07-08T10:50:06.779Z"
   },
   {
    "duration": 199,
    "start_time": "2021-07-08T10:50:14.891Z"
   },
   {
    "duration": 204,
    "start_time": "2021-07-08T10:50:18.501Z"
   },
   {
    "duration": 244,
    "start_time": "2021-07-08T10:50:23.359Z"
   },
   {
    "duration": 192,
    "start_time": "2021-07-08T10:50:29.135Z"
   },
   {
    "duration": 218,
    "start_time": "2021-07-08T10:50:33.092Z"
   },
   {
    "duration": 207,
    "start_time": "2021-07-08T10:52:45.381Z"
   },
   {
    "duration": 5,
    "start_time": "2021-07-08T10:53:34.641Z"
   },
   {
    "duration": 196,
    "start_time": "2021-07-08T10:53:41.478Z"
   },
   {
    "duration": 43,
    "start_time": "2021-07-08T10:53:50.335Z"
   },
   {
    "duration": 32,
    "start_time": "2021-07-08T10:53:55.294Z"
   },
   {
    "duration": 55,
    "start_time": "2021-07-08T10:54:09.675Z"
   },
   {
    "duration": 16,
    "start_time": "2021-07-08T10:54:12.260Z"
   },
   {
    "duration": 15,
    "start_time": "2021-07-08T10:54:49.150Z"
   },
   {
    "duration": 20,
    "start_time": "2021-07-08T10:56:07.596Z"
   },
   {
    "duration": 16,
    "start_time": "2021-07-08T10:58:26.276Z"
   },
   {
    "duration": 22,
    "start_time": "2021-07-08T10:59:00.486Z"
   },
   {
    "duration": 18,
    "start_time": "2021-07-08T11:02:09.653Z"
   },
   {
    "duration": 10,
    "start_time": "2021-07-08T11:03:44.331Z"
   },
   {
    "duration": 10,
    "start_time": "2021-07-08T11:03:54.055Z"
   },
   {
    "duration": 12,
    "start_time": "2021-07-08T11:04:41.967Z"
   },
   {
    "duration": 24,
    "start_time": "2021-07-08T11:07:30.732Z"
   },
   {
    "duration": 6,
    "start_time": "2021-07-08T11:07:37.364Z"
   },
   {
    "duration": 16,
    "start_time": "2021-07-08T11:08:01.819Z"
   },
   {
    "duration": 17,
    "start_time": "2021-07-08T11:09:47.488Z"
   },
   {
    "duration": 246,
    "start_time": "2021-07-08T11:10:00.830Z"
   },
   {
    "duration": 18,
    "start_time": "2021-07-08T11:13:55.195Z"
   },
   {
    "duration": 204,
    "start_time": "2021-07-08T11:14:04.951Z"
   },
   {
    "duration": 19,
    "start_time": "2021-07-08T11:15:10.613Z"
   },
   {
    "duration": 680,
    "start_time": "2021-07-08T11:16:25.793Z"
   },
   {
    "duration": 451,
    "start_time": "2021-07-08T11:16:40.313Z"
   },
   {
    "duration": 469,
    "start_time": "2021-07-08T11:17:21.286Z"
   },
   {
    "duration": 20,
    "start_time": "2021-07-08T11:19:12.554Z"
   },
   {
    "duration": 35,
    "start_time": "2021-07-08T11:20:05.484Z"
   },
   {
    "duration": 53,
    "start_time": "2021-07-08T11:21:40.050Z"
   },
   {
    "duration": 13,
    "start_time": "2021-07-08T11:22:26.059Z"
   },
   {
    "duration": 19,
    "start_time": "2021-07-08T11:22:47.419Z"
   },
   {
    "duration": 25,
    "start_time": "2021-07-08T11:23:19.958Z"
   },
   {
    "duration": 29,
    "start_time": "2021-07-08T11:23:25.415Z"
   },
   {
    "duration": 10,
    "start_time": "2021-07-08T11:24:45.138Z"
   },
   {
    "duration": 19,
    "start_time": "2021-07-08T11:24:54.498Z"
   },
   {
    "duration": 12,
    "start_time": "2021-07-08T11:25:32.225Z"
   },
   {
    "duration": 19,
    "start_time": "2021-07-08T11:25:37.092Z"
   },
   {
    "duration": 17,
    "start_time": "2021-07-08T11:25:58.116Z"
   },
   {
    "duration": 15,
    "start_time": "2021-07-08T11:26:02.258Z"
   },
   {
    "duration": 8,
    "start_time": "2021-07-08T11:26:59.682Z"
   },
   {
    "duration": 184,
    "start_time": "2021-07-08T11:27:21.894Z"
   },
   {
    "duration": 8,
    "start_time": "2021-07-08T11:27:23.824Z"
   },
   {
    "duration": 202,
    "start_time": "2021-07-08T11:27:23.962Z"
   },
   {
    "duration": 360,
    "start_time": "2021-07-08T11:28:33.215Z"
   },
   {
    "duration": 231,
    "start_time": "2021-07-08T11:32:05.542Z"
   },
   {
    "duration": 607,
    "start_time": "2021-07-08T11:36:27.854Z"
   },
   {
    "duration": 241,
    "start_time": "2021-07-08T11:36:28.463Z"
   },
   {
    "duration": 67,
    "start_time": "2021-07-08T11:36:28.709Z"
   },
   {
    "duration": 5,
    "start_time": "2021-07-08T11:36:28.778Z"
   },
   {
    "duration": 32,
    "start_time": "2021-07-08T11:36:28.784Z"
   },
   {
    "duration": 11,
    "start_time": "2021-07-08T11:36:28.819Z"
   },
   {
    "duration": 20,
    "start_time": "2021-07-08T11:36:28.834Z"
   },
   {
    "duration": 36,
    "start_time": "2021-07-08T11:36:28.857Z"
   },
   {
    "duration": 16,
    "start_time": "2021-07-08T11:36:28.895Z"
   },
   {
    "duration": 14,
    "start_time": "2021-07-08T11:36:28.913Z"
   },
   {
    "duration": 9,
    "start_time": "2021-07-08T11:36:28.930Z"
   },
   {
    "duration": 55,
    "start_time": "2021-07-08T11:36:28.941Z"
   },
   {
    "duration": 27,
    "start_time": "2021-07-08T11:36:28.999Z"
   },
   {
    "duration": 30,
    "start_time": "2021-07-08T11:36:29.028Z"
   },
   {
    "duration": 31,
    "start_time": "2021-07-08T11:36:29.060Z"
   },
   {
    "duration": 3,
    "start_time": "2021-07-08T11:36:29.093Z"
   },
   {
    "duration": 12,
    "start_time": "2021-07-08T11:36:29.099Z"
   },
   {
    "duration": 11,
    "start_time": "2021-07-08T11:36:29.112Z"
   },
   {
    "duration": 12,
    "start_time": "2021-07-08T11:36:29.125Z"
   },
   {
    "duration": 9,
    "start_time": "2021-07-08T11:36:29.139Z"
   },
   {
    "duration": 31,
    "start_time": "2021-07-08T11:36:29.191Z"
   },
   {
    "duration": 17,
    "start_time": "2021-07-08T11:36:29.226Z"
   },
   {
    "duration": 7,
    "start_time": "2021-07-08T11:36:29.245Z"
   },
   {
    "duration": 10,
    "start_time": "2021-07-08T11:36:29.254Z"
   },
   {
    "duration": 30,
    "start_time": "2021-07-08T11:36:29.292Z"
   },
   {
    "duration": 11,
    "start_time": "2021-07-08T11:36:29.324Z"
   },
   {
    "duration": 11,
    "start_time": "2021-07-08T11:36:29.337Z"
   },
   {
    "duration": 230,
    "start_time": "2021-07-08T11:36:29.349Z"
   },
   {
    "duration": 13,
    "start_time": "2021-07-08T11:36:29.588Z"
   },
   {
    "duration": 205,
    "start_time": "2021-07-08T11:36:29.603Z"
   },
   {
    "duration": 20,
    "start_time": "2021-07-08T11:36:29.810Z"
   },
   {
    "duration": 9,
    "start_time": "2021-07-08T11:36:29.832Z"
   },
   {
    "duration": 16,
    "start_time": "2021-07-08T11:36:29.843Z"
   },
   {
    "duration": 283,
    "start_time": "2021-07-08T11:36:29.861Z"
   },
   {
    "duration": 50,
    "start_time": "2021-07-08T11:36:30.146Z"
   },
   {
    "duration": 14,
    "start_time": "2021-07-08T11:36:30.198Z"
   },
   {
    "duration": 11,
    "start_time": "2021-07-08T11:36:30.214Z"
   },
   {
    "duration": 245,
    "start_time": "2021-07-08T11:36:30.227Z"
   },
   {
    "duration": 439,
    "start_time": "2021-07-08T11:36:30.474Z"
   },
   {
    "duration": 210,
    "start_time": "2021-07-08T11:36:30.915Z"
   },
   {
    "duration": 15,
    "start_time": "2021-07-08T11:36:31.127Z"
   },
   {
    "duration": 17,
    "start_time": "2021-07-08T11:38:20.451Z"
   },
   {
    "duration": 642,
    "start_time": "2021-07-08T11:46:17.881Z"
   },
   {
    "duration": 210,
    "start_time": "2021-07-08T11:46:18.525Z"
   },
   {
    "duration": 104,
    "start_time": "2021-07-08T11:46:18.741Z"
   },
   {
    "duration": 8,
    "start_time": "2021-07-08T11:46:18.847Z"
   },
   {
    "duration": 25,
    "start_time": "2021-07-08T11:46:18.857Z"
   },
   {
    "duration": 14,
    "start_time": "2021-07-08T11:46:18.884Z"
   },
   {
    "duration": 22,
    "start_time": "2021-07-08T11:46:18.900Z"
   },
   {
    "duration": 5,
    "start_time": "2021-07-08T11:46:18.924Z"
   },
   {
    "duration": 13,
    "start_time": "2021-07-08T11:46:18.931Z"
   },
   {
    "duration": 45,
    "start_time": "2021-07-08T11:46:18.946Z"
   },
   {
    "duration": 12,
    "start_time": "2021-07-08T11:46:18.993Z"
   },
   {
    "duration": 38,
    "start_time": "2021-07-08T11:46:19.006Z"
   },
   {
    "duration": 50,
    "start_time": "2021-07-08T11:46:19.046Z"
   },
   {
    "duration": 29,
    "start_time": "2021-07-08T11:46:19.099Z"
   },
   {
    "duration": 7,
    "start_time": "2021-07-08T11:46:19.130Z"
   },
   {
    "duration": 3,
    "start_time": "2021-07-08T11:46:19.139Z"
   },
   {
    "duration": 11,
    "start_time": "2021-07-08T11:46:19.144Z"
   },
   {
    "duration": 40,
    "start_time": "2021-07-08T11:46:19.157Z"
   },
   {
    "duration": 15,
    "start_time": "2021-07-08T11:46:19.199Z"
   },
   {
    "duration": 10,
    "start_time": "2021-07-08T11:46:19.217Z"
   },
   {
    "duration": 68,
    "start_time": "2021-07-08T11:46:19.230Z"
   },
   {
    "duration": 17,
    "start_time": "2021-07-08T11:46:19.301Z"
   },
   {
    "duration": 7,
    "start_time": "2021-07-08T11:46:19.321Z"
   },
   {
    "duration": 11,
    "start_time": "2021-07-08T11:46:19.330Z"
   },
   {
    "duration": 59,
    "start_time": "2021-07-08T11:46:19.343Z"
   },
   {
    "duration": 17,
    "start_time": "2021-07-08T11:46:19.405Z"
   },
   {
    "duration": 16,
    "start_time": "2021-07-08T11:46:19.424Z"
   },
   {
    "duration": 252,
    "start_time": "2021-07-08T11:46:19.443Z"
   },
   {
    "duration": 9,
    "start_time": "2021-07-08T11:46:19.697Z"
   },
   {
    "duration": 224,
    "start_time": "2021-07-08T11:46:19.708Z"
   },
   {
    "duration": 21,
    "start_time": "2021-07-08T11:46:19.934Z"
   },
   {
    "duration": 9,
    "start_time": "2021-07-08T11:46:19.956Z"
   },
   {
    "duration": 32,
    "start_time": "2021-07-08T11:46:19.967Z"
   },
   {
    "duration": 288,
    "start_time": "2021-07-08T11:46:20.004Z"
   },
   {
    "duration": 23,
    "start_time": "2021-07-08T11:46:20.300Z"
   },
   {
    "duration": 11,
    "start_time": "2021-07-08T11:46:20.325Z"
   },
   {
    "duration": 11,
    "start_time": "2021-07-08T11:46:20.339Z"
   },
   {
    "duration": 259,
    "start_time": "2021-07-08T11:46:20.352Z"
   },
   {
    "duration": 438,
    "start_time": "2021-07-08T11:46:20.613Z"
   },
   {
    "duration": 207,
    "start_time": "2021-07-08T11:46:21.054Z"
   },
   {
    "duration": 27,
    "start_time": "2021-07-08T11:46:21.262Z"
   },
   {
    "duration": 19,
    "start_time": "2021-07-08T11:46:21.291Z"
   },
   {
    "duration": 820,
    "start_time": "2021-07-08T11:49:01.655Z"
   },
   {
    "duration": 372,
    "start_time": "2021-07-08T11:49:02.478Z"
   },
   {
    "duration": 98,
    "start_time": "2021-07-08T11:49:02.853Z"
   },
   {
    "duration": 6,
    "start_time": "2021-07-08T11:49:02.953Z"
   },
   {
    "duration": 39,
    "start_time": "2021-07-08T11:49:02.960Z"
   },
   {
    "duration": 9,
    "start_time": "2021-07-08T11:49:03.003Z"
   },
   {
    "duration": 23,
    "start_time": "2021-07-08T11:49:03.014Z"
   },
   {
    "duration": 6,
    "start_time": "2021-07-08T11:49:03.041Z"
   },
   {
    "duration": 20,
    "start_time": "2021-07-08T11:49:03.049Z"
   },
   {
    "duration": 18,
    "start_time": "2021-07-08T11:49:03.084Z"
   },
   {
    "duration": 14,
    "start_time": "2021-07-08T11:49:03.104Z"
   },
   {
    "duration": 39,
    "start_time": "2021-07-08T11:49:03.119Z"
   },
   {
    "duration": 38,
    "start_time": "2021-07-08T11:49:03.160Z"
   },
   {
    "duration": 26,
    "start_time": "2021-07-08T11:49:03.200Z"
   },
   {
    "duration": 7,
    "start_time": "2021-07-08T11:49:03.227Z"
   },
   {
    "duration": 4,
    "start_time": "2021-07-08T11:49:03.236Z"
   },
   {
    "duration": 15,
    "start_time": "2021-07-08T11:49:03.243Z"
   },
   {
    "duration": 21,
    "start_time": "2021-07-08T11:49:03.285Z"
   },
   {
    "duration": 17,
    "start_time": "2021-07-08T11:49:03.309Z"
   },
   {
    "duration": 10,
    "start_time": "2021-07-08T11:49:03.328Z"
   },
   {
    "duration": 65,
    "start_time": "2021-07-08T11:49:03.340Z"
   },
   {
    "duration": 18,
    "start_time": "2021-07-08T11:49:03.407Z"
   },
   {
    "duration": 8,
    "start_time": "2021-07-08T11:49:03.428Z"
   },
   {
    "duration": 15,
    "start_time": "2021-07-08T11:49:03.438Z"
   },
   {
    "duration": 40,
    "start_time": "2021-07-08T11:49:03.455Z"
   },
   {
    "duration": 12,
    "start_time": "2021-07-08T11:49:03.497Z"
   },
   {
    "duration": 29,
    "start_time": "2021-07-08T11:49:03.511Z"
   },
   {
    "duration": 285,
    "start_time": "2021-07-08T11:49:03.542Z"
   },
   {
    "duration": 8,
    "start_time": "2021-07-08T11:49:03.829Z"
   },
   {
    "duration": 227,
    "start_time": "2021-07-08T11:49:03.838Z"
   },
   {
    "duration": 40,
    "start_time": "2021-07-08T11:49:04.066Z"
   },
   {
    "duration": 10,
    "start_time": "2021-07-08T11:49:04.108Z"
   },
   {
    "duration": 26,
    "start_time": "2021-07-08T11:49:04.121Z"
   },
   {
    "duration": 290,
    "start_time": "2021-07-08T11:49:04.149Z"
   },
   {
    "duration": 26,
    "start_time": "2021-07-08T11:49:04.441Z"
   },
   {
    "duration": 31,
    "start_time": "2021-07-08T11:49:04.470Z"
   },
   {
    "duration": 14,
    "start_time": "2021-07-08T11:49:04.503Z"
   },
   {
    "duration": 259,
    "start_time": "2021-07-08T11:49:04.521Z"
   },
   {
    "duration": 480,
    "start_time": "2021-07-08T11:49:04.782Z"
   },
   {
    "duration": 225,
    "start_time": "2021-07-08T11:49:05.264Z"
   },
   {
    "duration": 22,
    "start_time": "2021-07-08T11:49:05.491Z"
   },
   {
    "duration": 24,
    "start_time": "2021-07-08T11:49:05.515Z"
   },
   {
    "duration": 634,
    "start_time": "2021-07-08T11:52:24.960Z"
   },
   {
    "duration": 199,
    "start_time": "2021-07-08T11:52:25.599Z"
   },
   {
    "duration": 106,
    "start_time": "2021-07-08T11:52:25.803Z"
   },
   {
    "duration": 7,
    "start_time": "2021-07-08T11:52:25.911Z"
   },
   {
    "duration": 29,
    "start_time": "2021-07-08T11:52:25.920Z"
   },
   {
    "duration": 7,
    "start_time": "2021-07-08T11:52:25.951Z"
   },
   {
    "duration": 26,
    "start_time": "2021-07-08T11:52:25.961Z"
   },
   {
    "duration": 11,
    "start_time": "2021-07-08T11:52:25.990Z"
   },
   {
    "duration": 29,
    "start_time": "2021-07-08T11:52:26.005Z"
   },
   {
    "duration": 9,
    "start_time": "2021-07-08T11:52:26.036Z"
   },
   {
    "duration": 8,
    "start_time": "2021-07-08T11:52:26.047Z"
   },
   {
    "duration": 63,
    "start_time": "2021-07-08T11:52:26.057Z"
   },
   {
    "duration": 17,
    "start_time": "2021-07-08T11:52:26.122Z"
   },
   {
    "duration": 43,
    "start_time": "2021-07-08T11:52:26.142Z"
   },
   {
    "duration": 17,
    "start_time": "2021-07-08T11:52:26.187Z"
   },
   {
    "duration": 5,
    "start_time": "2021-07-08T11:52:26.206Z"
   },
   {
    "duration": 12,
    "start_time": "2021-07-08T11:52:26.212Z"
   },
   {
    "duration": 11,
    "start_time": "2021-07-08T11:52:26.226Z"
   },
   {
    "duration": 12,
    "start_time": "2021-07-08T11:52:26.238Z"
   },
   {
    "duration": 38,
    "start_time": "2021-07-08T11:52:26.252Z"
   },
   {
    "duration": 40,
    "start_time": "2021-07-08T11:52:26.292Z"
   },
   {
    "duration": 17,
    "start_time": "2021-07-08T11:52:26.336Z"
   },
   {
    "duration": 39,
    "start_time": "2021-07-08T11:52:26.355Z"
   },
   {
    "duration": 11,
    "start_time": "2021-07-08T11:52:26.395Z"
   },
   {
    "duration": 23,
    "start_time": "2021-07-08T11:52:26.408Z"
   },
   {
    "duration": 12,
    "start_time": "2021-07-08T11:52:26.432Z"
   },
   {
    "duration": 41,
    "start_time": "2021-07-08T11:52:26.446Z"
   },
   {
    "duration": 215,
    "start_time": "2021-07-08T11:52:26.493Z"
   },
   {
    "duration": 8,
    "start_time": "2021-07-08T11:52:26.710Z"
   },
   {
    "duration": 228,
    "start_time": "2021-07-08T11:52:26.720Z"
   },
   {
    "duration": 18,
    "start_time": "2021-07-08T11:52:26.950Z"
   },
   {
    "duration": 35,
    "start_time": "2021-07-08T11:52:26.969Z"
   },
   {
    "duration": 23,
    "start_time": "2021-07-08T11:52:27.006Z"
   },
   {
    "duration": 258,
    "start_time": "2021-07-08T11:52:27.030Z"
   },
   {
    "duration": 24,
    "start_time": "2021-07-08T11:52:27.290Z"
   },
   {
    "duration": 12,
    "start_time": "2021-07-08T11:52:27.316Z"
   },
   {
    "duration": 10,
    "start_time": "2021-07-08T11:52:27.329Z"
   },
   {
    "duration": 298,
    "start_time": "2021-07-08T11:52:27.341Z"
   },
   {
    "duration": 436,
    "start_time": "2021-07-08T11:52:27.641Z"
   },
   {
    "duration": 216,
    "start_time": "2021-07-08T11:52:28.079Z"
   },
   {
    "duration": 20,
    "start_time": "2021-07-08T11:52:28.297Z"
   },
   {
    "duration": 17,
    "start_time": "2021-07-08T11:52:28.319Z"
   },
   {
    "duration": 557,
    "start_time": "2022-04-27T16:07:19.762Z"
   },
   {
    "duration": 655,
    "start_time": "2022-04-27T16:09:22.640Z"
   },
   {
    "duration": 76,
    "start_time": "2022-04-27T16:09:58.211Z"
   },
   {
    "duration": 93,
    "start_time": "2022-04-27T16:10:29.229Z"
   },
   {
    "duration": 4,
    "start_time": "2022-04-27T16:11:49.670Z"
   },
   {
    "duration": 1643,
    "start_time": "2022-04-27T16:11:50.134Z"
   },
   {
    "duration": 757,
    "start_time": "2022-04-27T16:11:51.780Z"
   },
   {
    "duration": 33,
    "start_time": "2022-04-27T16:11:52.540Z"
   },
   {
    "duration": 37,
    "start_time": "2022-04-27T16:12:03.779Z"
   },
   {
    "duration": 30,
    "start_time": "2022-04-27T16:12:12.659Z"
   },
   {
    "duration": 10,
    "start_time": "2022-04-27T16:12:20.338Z"
   },
   {
    "duration": 20,
    "start_time": "2022-04-27T16:12:29.510Z"
   },
   {
    "duration": 6,
    "start_time": "2022-04-27T16:12:53.541Z"
   },
   {
    "duration": 10,
    "start_time": "2022-04-27T16:13:03.966Z"
   },
   {
    "duration": 31,
    "start_time": "2022-04-27T16:13:11.458Z"
   },
   {
    "duration": 45,
    "start_time": "2022-04-27T16:13:48.047Z"
   },
   {
    "duration": 21,
    "start_time": "2022-04-27T16:14:05.274Z"
   },
   {
    "duration": 9,
    "start_time": "2022-04-27T16:15:32.018Z"
   },
   {
    "duration": 21,
    "start_time": "2022-04-27T16:15:40.723Z"
   },
   {
    "duration": 13,
    "start_time": "2022-04-27T16:15:51.838Z"
   },
   {
    "duration": 33,
    "start_time": "2022-04-27T16:16:43.955Z"
   },
   {
    "duration": 9,
    "start_time": "2022-04-27T16:16:55.359Z"
   },
   {
    "duration": 32,
    "start_time": "2022-04-27T16:18:35.960Z"
   },
   {
    "duration": 22,
    "start_time": "2022-04-27T16:18:58.867Z"
   },
   {
    "duration": 7,
    "start_time": "2022-04-27T16:19:51.278Z"
   },
   {
    "duration": 10,
    "start_time": "2022-04-27T16:21:38.715Z"
   },
   {
    "duration": 7,
    "start_time": "2022-04-27T16:21:44.151Z"
   },
   {
    "duration": 10,
    "start_time": "2022-04-27T16:23:32.906Z"
   },
   {
    "duration": 9,
    "start_time": "2022-04-27T16:23:56.988Z"
   },
   {
    "duration": 13,
    "start_time": "2022-04-27T16:24:13.554Z"
   },
   {
    "duration": 15,
    "start_time": "2022-04-27T16:24:50.086Z"
   },
   {
    "duration": 15,
    "start_time": "2022-04-27T16:41:55.055Z"
   },
   {
    "duration": 27,
    "start_time": "2022-04-27T16:42:01.722Z"
   },
   {
    "duration": 8,
    "start_time": "2022-04-27T16:42:50.265Z"
   },
   {
    "duration": 8,
    "start_time": "2022-04-27T16:43:34.888Z"
   },
   {
    "duration": 12,
    "start_time": "2022-04-27T16:43:42.309Z"
   },
   {
    "duration": 8,
    "start_time": "2022-04-27T16:45:29.114Z"
   },
   {
    "duration": 7,
    "start_time": "2022-04-27T16:46:35.941Z"
   },
   {
    "duration": 7,
    "start_time": "2022-04-27T16:46:47.069Z"
   },
   {
    "duration": 22,
    "start_time": "2022-04-27T16:46:59.809Z"
   },
   {
    "duration": 7,
    "start_time": "2022-04-27T16:47:23.589Z"
   },
   {
    "duration": 11,
    "start_time": "2022-04-27T16:47:24.958Z"
   },
   {
    "duration": 687,
    "start_time": "2022-04-27T16:48:07.298Z"
   },
   {
    "duration": 107,
    "start_time": "2022-04-27T16:48:07.988Z"
   },
   {
    "duration": 61,
    "start_time": "2022-04-27T16:48:08.097Z"
   },
   {
    "duration": 32,
    "start_time": "2022-04-27T16:48:08.161Z"
   },
   {
    "duration": 21,
    "start_time": "2022-04-27T16:48:08.641Z"
   },
   {
    "duration": 25,
    "start_time": "2022-04-27T16:48:08.721Z"
   },
   {
    "duration": 10,
    "start_time": "2022-04-27T16:48:08.803Z"
   },
   {
    "duration": 15,
    "start_time": "2022-04-27T16:48:08.888Z"
   },
   {
    "duration": 6,
    "start_time": "2022-04-27T16:48:09.057Z"
   },
   {
    "duration": 6,
    "start_time": "2022-04-27T16:48:09.141Z"
   },
   {
    "duration": 21,
    "start_time": "2022-04-27T16:48:09.222Z"
   },
   {
    "duration": 45,
    "start_time": "2022-04-27T16:48:09.311Z"
   },
   {
    "duration": 21,
    "start_time": "2022-04-27T16:48:09.746Z"
   },
   {
    "duration": 8,
    "start_time": "2022-04-27T16:48:09.891Z"
   },
   {
    "duration": 22,
    "start_time": "2022-04-27T16:48:09.976Z"
   },
   {
    "duration": 12,
    "start_time": "2022-04-27T16:48:10.064Z"
   },
   {
    "duration": 21,
    "start_time": "2022-04-27T16:48:10.140Z"
   },
   {
    "duration": 7,
    "start_time": "2022-04-27T16:48:10.962Z"
   },
   {
    "duration": 21,
    "start_time": "2022-04-27T16:48:13.818Z"
   },
   {
    "duration": 13,
    "start_time": "2022-04-27T16:48:14.465Z"
   },
   {
    "duration": 28,
    "start_time": "2022-04-27T16:48:16.761Z"
   },
   {
    "duration": 3473,
    "start_time": "2022-04-27T16:49:18.837Z"
   },
   {
    "duration": 11,
    "start_time": "2022-04-27T16:51:18.995Z"
   },
   {
    "duration": 11,
    "start_time": "2022-04-27T16:51:31.710Z"
   },
   {
    "duration": 8,
    "start_time": "2022-04-27T16:51:50.137Z"
   },
   {
    "duration": 11,
    "start_time": "2022-04-27T16:53:17.938Z"
   },
   {
    "duration": 9,
    "start_time": "2022-04-27T16:53:30.540Z"
   },
   {
    "duration": 15,
    "start_time": "2022-04-27T16:55:52.963Z"
   },
   {
    "duration": 10,
    "start_time": "2022-04-27T16:55:58.545Z"
   },
   {
    "duration": 17,
    "start_time": "2022-04-27T16:56:12.895Z"
   },
   {
    "duration": 8,
    "start_time": "2022-04-27T16:56:32.408Z"
   },
   {
    "duration": 25,
    "start_time": "2022-04-27T16:57:16.411Z"
   },
   {
    "duration": 23,
    "start_time": "2022-04-27T18:12:03.437Z"
   },
   {
    "duration": 7,
    "start_time": "2022-04-27T18:12:29.757Z"
   },
   {
    "duration": 11,
    "start_time": "2022-04-27T18:12:48.826Z"
   },
   {
    "duration": 6,
    "start_time": "2022-04-27T18:13:11.093Z"
   },
   {
    "duration": 9,
    "start_time": "2022-04-27T18:13:22.247Z"
   },
   {
    "duration": 11,
    "start_time": "2022-04-27T18:14:18.586Z"
   },
   {
    "duration": 7,
    "start_time": "2022-04-27T18:14:27.198Z"
   },
   {
    "duration": 506,
    "start_time": "2022-04-27T18:15:53.816Z"
   },
   {
    "duration": 93,
    "start_time": "2022-04-27T18:15:54.325Z"
   },
   {
    "duration": 40,
    "start_time": "2022-04-27T18:15:54.420Z"
   },
   {
    "duration": 43,
    "start_time": "2022-04-27T18:15:54.463Z"
   },
   {
    "duration": 32,
    "start_time": "2022-04-27T18:15:54.509Z"
   },
   {
    "duration": 59,
    "start_time": "2022-04-27T18:15:54.544Z"
   },
   {
    "duration": 12,
    "start_time": "2022-04-27T18:15:54.606Z"
   },
   {
    "duration": 19,
    "start_time": "2022-04-27T18:15:54.621Z"
   },
   {
    "duration": 7,
    "start_time": "2022-04-27T18:15:54.644Z"
   },
   {
    "duration": 35,
    "start_time": "2022-04-27T18:15:54.660Z"
   },
   {
    "duration": 21,
    "start_time": "2022-04-27T18:15:54.737Z"
   },
   {
    "duration": 47,
    "start_time": "2022-04-27T18:15:54.823Z"
   },
   {
    "duration": 19,
    "start_time": "2022-04-27T18:15:55.244Z"
   },
   {
    "duration": 8,
    "start_time": "2022-04-27T18:15:55.424Z"
   },
   {
    "duration": 28,
    "start_time": "2022-04-27T18:15:55.514Z"
   },
   {
    "duration": 12,
    "start_time": "2022-04-27T18:15:55.602Z"
   },
   {
    "duration": 20,
    "start_time": "2022-04-27T18:15:55.669Z"
   },
   {
    "duration": 7,
    "start_time": "2022-04-27T18:15:56.638Z"
   },
   {
    "duration": 13,
    "start_time": "2022-04-27T18:15:59.223Z"
   },
   {
    "duration": 15,
    "start_time": "2022-04-27T18:15:59.695Z"
   },
   {
    "duration": 11,
    "start_time": "2022-04-27T18:16:01.080Z"
   },
   {
    "duration": 10,
    "start_time": "2022-04-27T18:16:02.050Z"
   },
   {
    "duration": 20,
    "start_time": "2022-04-27T18:16:02.680Z"
   },
   {
    "duration": 6,
    "start_time": "2022-04-27T18:16:06.165Z"
   },
   {
    "duration": 11,
    "start_time": "2022-04-27T18:16:15.118Z"
   },
   {
    "duration": 8,
    "start_time": "2022-04-27T18:16:16.717Z"
   },
   {
    "duration": 11,
    "start_time": "2022-04-27T18:16:21.592Z"
   },
   {
    "duration": 6,
    "start_time": "2022-04-27T18:16:22.381Z"
   },
   {
    "duration": 10,
    "start_time": "2022-04-27T18:16:24.261Z"
   },
   {
    "duration": 6,
    "start_time": "2022-04-27T18:16:24.633Z"
   },
   {
    "duration": 10,
    "start_time": "2022-04-27T18:16:26.560Z"
   },
   {
    "duration": 7,
    "start_time": "2022-04-27T18:16:26.923Z"
   },
   {
    "duration": 10,
    "start_time": "2022-04-27T18:16:32.706Z"
   },
   {
    "duration": 7,
    "start_time": "2022-04-27T18:16:33.194Z"
   },
   {
    "duration": 9,
    "start_time": "2022-04-27T18:16:36.423Z"
   },
   {
    "duration": 7,
    "start_time": "2022-04-27T18:16:36.835Z"
   },
   {
    "duration": 11,
    "start_time": "2022-04-27T18:16:45.526Z"
   },
   {
    "duration": 7,
    "start_time": "2022-04-27T18:16:45.891Z"
   },
   {
    "duration": 9,
    "start_time": "2022-04-27T18:16:49.997Z"
   },
   {
    "duration": 9,
    "start_time": "2022-04-27T18:16:50.368Z"
   },
   {
    "duration": 11,
    "start_time": "2022-04-27T18:17:58.343Z"
   },
   {
    "duration": 7,
    "start_time": "2022-04-27T18:17:58.817Z"
   },
   {
    "duration": 10,
    "start_time": "2022-04-27T18:18:07.324Z"
   },
   {
    "duration": 7,
    "start_time": "2022-04-27T18:18:07.967Z"
   },
   {
    "duration": 10,
    "start_time": "2022-04-27T18:18:13.420Z"
   },
   {
    "duration": 6,
    "start_time": "2022-04-27T18:18:13.854Z"
   },
   {
    "duration": 10,
    "start_time": "2022-04-27T18:18:19.684Z"
   },
   {
    "duration": 6,
    "start_time": "2022-04-27T18:18:21.809Z"
   },
   {
    "duration": 8,
    "start_time": "2022-04-27T18:18:28.655Z"
   },
   {
    "duration": 10,
    "start_time": "2022-04-27T18:18:30.293Z"
   },
   {
    "duration": 6,
    "start_time": "2022-04-27T18:18:30.851Z"
   },
   {
    "duration": 10,
    "start_time": "2022-04-27T18:19:57.481Z"
   },
   {
    "duration": 6,
    "start_time": "2022-04-27T18:19:58.421Z"
   },
   {
    "duration": 10,
    "start_time": "2022-04-27T18:20:10.155Z"
   },
   {
    "duration": 12,
    "start_time": "2022-04-27T18:20:10.168Z"
   },
   {
    "duration": 11,
    "start_time": "2022-04-27T18:21:42.237Z"
   },
   {
    "duration": 10,
    "start_time": "2022-04-27T18:21:50.032Z"
   },
   {
    "duration": 10,
    "start_time": "2022-04-27T18:21:52.494Z"
   },
   {
    "duration": 10,
    "start_time": "2022-04-27T18:21:56.876Z"
   },
   {
    "duration": 10,
    "start_time": "2022-04-27T18:21:59.448Z"
   },
   {
    "duration": 11,
    "start_time": "2022-04-27T18:22:02.071Z"
   },
   {
    "duration": 11,
    "start_time": "2022-04-27T18:22:05.157Z"
   },
   {
    "duration": 11,
    "start_time": "2022-04-27T18:22:08.058Z"
   },
   {
    "duration": 99,
    "start_time": "2022-04-27T18:22:17.434Z"
   },
   {
    "duration": 10,
    "start_time": "2022-04-27T18:22:27.516Z"
   },
   {
    "duration": 11,
    "start_time": "2022-04-27T18:22:35.372Z"
   },
   {
    "duration": 16,
    "start_time": "2022-04-27T18:22:38.780Z"
   },
   {
    "duration": 7,
    "start_time": "2022-04-27T18:22:47.279Z"
   },
   {
    "duration": 536,
    "start_time": "2022-04-27T18:24:24.194Z"
   },
   {
    "duration": 110,
    "start_time": "2022-04-27T18:24:24.733Z"
   },
   {
    "duration": 42,
    "start_time": "2022-04-27T18:24:24.846Z"
   },
   {
    "duration": 35,
    "start_time": "2022-04-27T18:24:24.891Z"
   },
   {
    "duration": 24,
    "start_time": "2022-04-27T18:24:24.929Z"
   },
   {
    "duration": 55,
    "start_time": "2022-04-27T18:24:24.956Z"
   },
   {
    "duration": 10,
    "start_time": "2022-04-27T18:24:25.013Z"
   },
   {
    "duration": 21,
    "start_time": "2022-04-27T18:24:25.025Z"
   },
   {
    "duration": 11,
    "start_time": "2022-04-27T18:24:25.048Z"
   },
   {
    "duration": 9,
    "start_time": "2022-04-27T18:24:25.093Z"
   },
   {
    "duration": 36,
    "start_time": "2022-04-27T18:24:25.105Z"
   },
   {
    "duration": 89,
    "start_time": "2022-04-27T18:24:25.144Z"
   },
   {
    "duration": 29,
    "start_time": "2022-04-27T18:24:25.236Z"
   },
   {
    "duration": 33,
    "start_time": "2022-04-27T18:24:25.268Z"
   },
   {
    "duration": 34,
    "start_time": "2022-04-27T18:24:25.304Z"
   },
   {
    "duration": 15,
    "start_time": "2022-04-27T18:24:25.341Z"
   },
   {
    "duration": 60,
    "start_time": "2022-04-27T18:24:25.358Z"
   },
   {
    "duration": 11,
    "start_time": "2022-04-27T18:24:25.421Z"
   },
   {
    "duration": 19,
    "start_time": "2022-04-27T18:24:25.435Z"
   },
   {
    "duration": 46,
    "start_time": "2022-04-27T18:24:25.456Z"
   },
   {
    "duration": 11,
    "start_time": "2022-04-27T18:24:25.505Z"
   },
   {
    "duration": 14,
    "start_time": "2022-04-27T18:24:25.519Z"
   },
   {
    "duration": 71,
    "start_time": "2022-04-27T18:24:25.535Z"
   },
   {
    "duration": 8,
    "start_time": "2022-04-27T18:24:25.608Z"
   },
   {
    "duration": 16,
    "start_time": "2022-04-27T18:24:25.619Z"
   },
   {
    "duration": 8,
    "start_time": "2022-04-27T18:24:25.638Z"
   },
   {
    "duration": 46,
    "start_time": "2022-04-27T18:24:25.649Z"
   },
   {
    "duration": 8,
    "start_time": "2022-04-27T19:43:52.110Z"
   },
   {
    "duration": 4,
    "start_time": "2022-04-27T19:49:39.009Z"
   },
   {
    "duration": 93,
    "start_time": "2022-04-27T19:49:47.211Z"
   },
   {
    "duration": 14,
    "start_time": "2022-04-27T19:50:39.871Z"
   },
   {
    "duration": 12,
    "start_time": "2022-04-27T19:51:46.448Z"
   },
   {
    "duration": 17,
    "start_time": "2022-04-27T19:53:40.651Z"
   },
   {
    "duration": 364,
    "start_time": "2022-04-28T19:25:43.629Z"
   },
   {
    "duration": 451,
    "start_time": "2022-04-28T19:25:43.995Z"
   },
   {
    "duration": 28,
    "start_time": "2022-04-28T19:25:44.447Z"
   },
   {
    "duration": 23,
    "start_time": "2022-04-28T19:25:44.477Z"
   },
   {
    "duration": 16,
    "start_time": "2022-04-28T19:25:44.502Z"
   },
   {
    "duration": 20,
    "start_time": "2022-04-28T19:25:44.520Z"
   },
   {
    "duration": 33,
    "start_time": "2022-04-28T19:25:44.542Z"
   },
   {
    "duration": 12,
    "start_time": "2022-04-28T19:25:44.577Z"
   },
   {
    "duration": 10,
    "start_time": "2022-04-28T19:25:44.591Z"
   },
   {
    "duration": 7,
    "start_time": "2022-04-28T19:25:44.603Z"
   },
   {
    "duration": 15,
    "start_time": "2022-04-28T19:25:44.612Z"
   },
   {
    "duration": 50,
    "start_time": "2022-04-28T19:25:44.629Z"
   },
   {
    "duration": 14,
    "start_time": "2022-04-28T19:25:44.680Z"
   },
   {
    "duration": 8,
    "start_time": "2022-04-28T19:25:44.696Z"
   },
   {
    "duration": 15,
    "start_time": "2022-04-28T19:25:44.705Z"
   },
   {
    "duration": 11,
    "start_time": "2022-04-28T19:25:44.721Z"
   },
   {
    "duration": 43,
    "start_time": "2022-04-28T19:25:44.734Z"
   },
   {
    "duration": 70,
    "start_time": "2022-04-28T19:25:44.778Z"
   },
   {
    "duration": 0,
    "start_time": "2022-04-28T19:25:44.849Z"
   },
   {
    "duration": 0,
    "start_time": "2022-04-28T19:25:44.851Z"
   },
   {
    "duration": 0,
    "start_time": "2022-04-28T19:25:44.852Z"
   },
   {
    "duration": 0,
    "start_time": "2022-04-28T19:25:44.853Z"
   },
   {
    "duration": 0,
    "start_time": "2022-04-28T19:25:44.854Z"
   },
   {
    "duration": 0,
    "start_time": "2022-04-28T19:25:44.855Z"
   },
   {
    "duration": 0,
    "start_time": "2022-04-28T19:25:44.873Z"
   },
   {
    "duration": 0,
    "start_time": "2022-04-28T19:25:44.874Z"
   },
   {
    "duration": 0,
    "start_time": "2022-04-28T19:25:44.875Z"
   },
   {
    "duration": 0,
    "start_time": "2022-04-28T19:25:44.876Z"
   },
   {
    "duration": 439,
    "start_time": "2022-04-29T15:49:41.278Z"
   },
   {
    "duration": 188,
    "start_time": "2022-04-29T15:49:41.800Z"
   },
   {
    "duration": 19,
    "start_time": "2022-04-29T15:49:42.291Z"
   },
   {
    "duration": 21,
    "start_time": "2022-04-29T15:49:42.839Z"
   },
   {
    "duration": 19,
    "start_time": "2022-04-29T15:49:43.372Z"
   },
   {
    "duration": 17,
    "start_time": "2022-04-29T15:49:43.867Z"
   },
   {
    "duration": 7,
    "start_time": "2022-04-29T15:49:44.544Z"
   },
   {
    "duration": 10,
    "start_time": "2022-04-29T15:49:45.096Z"
   },
   {
    "duration": 5,
    "start_time": "2022-04-29T15:49:46.250Z"
   },
   {
    "duration": 5,
    "start_time": "2022-04-29T15:49:46.766Z"
   },
   {
    "duration": 15,
    "start_time": "2022-04-29T15:49:47.336Z"
   },
   {
    "duration": 30,
    "start_time": "2022-04-29T15:49:47.910Z"
   },
   {
    "duration": 15,
    "start_time": "2022-04-29T15:49:50.692Z"
   },
   {
    "duration": 7,
    "start_time": "2022-04-29T15:49:51.877Z"
   },
   {
    "duration": 15,
    "start_time": "2022-04-29T15:49:53.103Z"
   },
   {
    "duration": 9,
    "start_time": "2022-04-29T15:49:53.559Z"
   },
   {
    "duration": 15,
    "start_time": "2022-04-29T15:49:55.397Z"
   },
   {
    "duration": 74,
    "start_time": "2022-04-29T15:49:57.195Z"
   },
   {
    "duration": 6,
    "start_time": "2022-04-29T15:50:04.083Z"
   },
   {
    "duration": 8,
    "start_time": "2022-04-29T15:50:17.209Z"
   },
   {
    "duration": 8,
    "start_time": "2022-04-29T15:51:30.988Z"
   },
   {
    "duration": 7,
    "start_time": "2022-04-29T15:51:45.805Z"
   },
   {
    "duration": 5,
    "start_time": "2022-04-29T15:51:48.289Z"
   },
   {
    "duration": 11,
    "start_time": "2022-04-29T15:52:13.130Z"
   },
   {
    "duration": 11,
    "start_time": "2022-04-29T15:52:19.865Z"
   },
   {
    "duration": 7,
    "start_time": "2022-04-29T15:52:29.021Z"
   },
   {
    "duration": 5,
    "start_time": "2022-04-29T15:52:59.295Z"
   },
   {
    "duration": 8,
    "start_time": "2022-04-29T15:53:07.792Z"
   },
   {
    "duration": 4,
    "start_time": "2022-04-29T15:53:08.228Z"
   },
   {
    "duration": 6,
    "start_time": "2022-04-29T15:53:23.081Z"
   },
   {
    "duration": 5,
    "start_time": "2022-04-29T15:53:24.180Z"
   },
   {
    "duration": 16,
    "start_time": "2022-04-29T15:53:56.243Z"
   },
   {
    "duration": 9,
    "start_time": "2022-04-29T15:55:19.949Z"
   },
   {
    "duration": 4,
    "start_time": "2022-04-29T15:56:01.552Z"
   },
   {
    "duration": 17,
    "start_time": "2022-04-29T15:56:03.493Z"
   },
   {
    "duration": 4,
    "start_time": "2022-04-29T15:57:15.887Z"
   },
   {
    "duration": 16,
    "start_time": "2022-04-29T15:57:17.210Z"
   },
   {
    "duration": 31,
    "start_time": "2022-04-29T15:57:17.865Z"
   },
   {
    "duration": 6,
    "start_time": "2022-04-29T16:00:06.461Z"
   },
   {
    "duration": 16,
    "start_time": "2022-04-29T16:00:11.151Z"
   },
   {
    "duration": 16,
    "start_time": "2022-04-29T16:00:29.249Z"
   },
   {
    "duration": 13,
    "start_time": "2022-04-29T16:00:30.724Z"
   },
   {
    "duration": 12,
    "start_time": "2022-04-29T16:00:32.544Z"
   },
   {
    "duration": 10,
    "start_time": "2022-04-29T16:00:47.218Z"
   },
   {
    "duration": 10,
    "start_time": "2022-04-29T16:00:49.038Z"
   },
   {
    "duration": 17,
    "start_time": "2022-04-29T16:00:56.124Z"
   },
   {
    "duration": 6,
    "start_time": "2022-04-29T16:01:00.156Z"
   },
   {
    "duration": 8,
    "start_time": "2022-04-29T16:01:03.117Z"
   },
   {
    "duration": 5,
    "start_time": "2022-04-29T16:01:06.205Z"
   },
   {
    "duration": 5,
    "start_time": "2022-04-29T16:01:16.979Z"
   },
   {
    "duration": 5,
    "start_time": "2022-04-29T16:01:17.902Z"
   },
   {
    "duration": 13,
    "start_time": "2022-04-29T16:02:06.065Z"
   },
   {
    "duration": 3,
    "start_time": "2022-04-29T16:02:07.877Z"
   },
   {
    "duration": 3,
    "start_time": "2022-04-29T16:02:08.268Z"
   },
   {
    "duration": 5,
    "start_time": "2022-04-29T16:02:09.416Z"
   },
   {
    "duration": 16,
    "start_time": "2022-04-29T16:02:10.266Z"
   },
   {
    "duration": 15,
    "start_time": "2022-04-29T16:02:41.247Z"
   },
   {
    "duration": 8,
    "start_time": "2022-04-29T16:03:06.573Z"
   },
   {
    "duration": 4,
    "start_time": "2022-04-29T16:05:43.370Z"
   },
   {
    "duration": 5,
    "start_time": "2022-04-29T16:06:04.856Z"
   },
   {
    "duration": 6,
    "start_time": "2022-04-29T16:06:13.004Z"
   },
   {
    "duration": 9,
    "start_time": "2022-04-29T16:06:22.046Z"
   },
   {
    "duration": 7,
    "start_time": "2022-04-29T16:07:05.929Z"
   },
   {
    "duration": 24,
    "start_time": "2022-04-29T16:07:44.817Z"
   },
   {
    "duration": 15,
    "start_time": "2022-04-29T16:08:30.620Z"
   },
   {
    "duration": 26,
    "start_time": "2022-04-29T16:13:28.920Z"
   },
   {
    "duration": 22,
    "start_time": "2022-04-29T16:16:00.308Z"
   },
   {
    "duration": 6,
    "start_time": "2022-04-29T16:16:10.543Z"
   },
   {
    "duration": 23,
    "start_time": "2022-04-29T16:17:15.950Z"
   },
   {
    "duration": 7,
    "start_time": "2022-04-29T16:19:16.498Z"
   },
   {
    "duration": 23,
    "start_time": "2022-04-29T16:19:23.487Z"
   },
   {
    "duration": 7,
    "start_time": "2022-04-29T16:19:30.455Z"
   },
   {
    "duration": 22,
    "start_time": "2022-04-29T16:19:36.856Z"
   },
   {
    "duration": 36,
    "start_time": "2022-04-29T16:19:48.602Z"
   },
   {
    "duration": 25,
    "start_time": "2022-04-29T16:20:05.453Z"
   },
   {
    "duration": 6,
    "start_time": "2022-04-29T16:21:45.915Z"
   },
   {
    "duration": 5,
    "start_time": "2022-04-29T16:23:18.914Z"
   },
   {
    "duration": 5,
    "start_time": "2022-04-29T16:23:26.361Z"
   },
   {
    "duration": 5,
    "start_time": "2022-04-29T16:24:48.741Z"
   },
   {
    "duration": 15,
    "start_time": "2022-04-29T16:25:02.212Z"
   },
   {
    "duration": 3,
    "start_time": "2022-04-29T16:28:10.309Z"
   },
   {
    "duration": 3,
    "start_time": "2022-04-29T16:28:44.702Z"
   },
   {
    "duration": 3,
    "start_time": "2022-04-29T16:28:47.916Z"
   },
   {
    "duration": 3,
    "start_time": "2022-04-29T16:28:52.455Z"
   },
   {
    "duration": 2,
    "start_time": "2022-04-29T16:28:56.024Z"
   },
   {
    "duration": 2,
    "start_time": "2022-04-29T16:29:25.545Z"
   },
   {
    "duration": 3264,
    "start_time": "2022-04-29T16:32:08.641Z"
   },
   {
    "duration": 10,
    "start_time": "2022-04-29T16:32:25.845Z"
   },
   {
    "duration": 2,
    "start_time": "2022-04-29T16:41:10.838Z"
   },
   {
    "duration": 10,
    "start_time": "2022-04-29T16:41:11.257Z"
   },
   {
    "duration": 4,
    "start_time": "2022-04-29T16:43:48.866Z"
   },
   {
    "duration": 22,
    "start_time": "2022-04-29T16:43:49.304Z"
   },
   {
    "duration": 24,
    "start_time": "2022-04-29T16:43:58.009Z"
   },
   {
    "duration": 55,
    "start_time": "2022-04-29T16:44:47.004Z"
   },
   {
    "duration": 17,
    "start_time": "2022-04-29T16:44:48.292Z"
   },
   {
    "duration": 2,
    "start_time": "2022-04-29T16:47:08.329Z"
   },
   {
    "duration": 461,
    "start_time": "2022-04-30T19:50:17.697Z"
   },
   {
    "duration": 309,
    "start_time": "2022-04-30T19:50:18.604Z"
   },
   {
    "duration": 69,
    "start_time": "2022-04-30T19:50:19.254Z"
   },
   {
    "duration": 25,
    "start_time": "2022-04-30T19:50:19.538Z"
   },
   {
    "duration": 18,
    "start_time": "2022-04-30T19:50:19.790Z"
   },
   {
    "duration": 19,
    "start_time": "2022-04-30T19:50:20.525Z"
   },
   {
    "duration": 8,
    "start_time": "2022-04-30T19:50:21.169Z"
   },
   {
    "duration": 12,
    "start_time": "2022-04-30T19:50:22.964Z"
   },
   {
    "duration": 7,
    "start_time": "2022-04-30T19:50:25.134Z"
   },
   {
    "duration": 8,
    "start_time": "2022-04-30T19:50:26.039Z"
   },
   {
    "duration": 16,
    "start_time": "2022-04-30T19:50:26.665Z"
   },
   {
    "duration": 34,
    "start_time": "2022-04-30T19:50:27.504Z"
   },
   {
    "duration": 15,
    "start_time": "2022-04-30T19:50:36.503Z"
   },
   {
    "duration": 7,
    "start_time": "2022-04-30T19:50:37.580Z"
   },
   {
    "duration": 15,
    "start_time": "2022-04-30T19:50:38.158Z"
   },
   {
    "duration": 8,
    "start_time": "2022-04-30T19:50:38.642Z"
   },
   {
    "duration": 6,
    "start_time": "2022-04-30T19:50:40.106Z"
   },
   {
    "duration": 4,
    "start_time": "2022-04-30T19:50:40.599Z"
   },
   {
    "duration": 7,
    "start_time": "2022-04-30T19:50:44.847Z"
   },
   {
    "duration": 24,
    "start_time": "2022-04-30T19:50:46.369Z"
   },
   {
    "duration": 15,
    "start_time": "2022-04-30T19:50:50.055Z"
   },
   {
    "duration": 12,
    "start_time": "2022-04-30T19:50:50.559Z"
   },
   {
    "duration": 10,
    "start_time": "2022-04-30T19:51:07.848Z"
   },
   {
    "duration": 10,
    "start_time": "2022-04-30T19:51:08.819Z"
   },
   {
    "duration": 16,
    "start_time": "2022-04-30T19:51:09.436Z"
   },
   {
    "duration": 7,
    "start_time": "2022-04-30T19:51:11.132Z"
   },
   {
    "duration": 5,
    "start_time": "2022-04-30T19:51:11.725Z"
   },
   {
    "duration": 5,
    "start_time": "2022-04-30T19:51:12.615Z"
   },
   {
    "duration": 6,
    "start_time": "2022-04-30T19:51:13.608Z"
   },
   {
    "duration": 25,
    "start_time": "2022-04-30T19:51:16.583Z"
   },
   {
    "duration": 12,
    "start_time": "2022-04-30T19:52:13.158Z"
   },
   {
    "duration": 202,
    "start_time": "2022-04-30T19:52:24.685Z"
   },
   {
    "duration": 201,
    "start_time": "2022-04-30T19:52:48.398Z"
   },
   {
    "duration": 188,
    "start_time": "2022-04-30T19:52:55.213Z"
   },
   {
    "duration": 26,
    "start_time": "2022-04-30T19:53:15.191Z"
   },
   {
    "duration": 560,
    "start_time": "2022-05-01T20:52:27.210Z"
   },
   {
    "duration": 93,
    "start_time": "2022-05-01T20:52:27.773Z"
   },
   {
    "duration": 21,
    "start_time": "2022-05-01T20:52:27.869Z"
   },
   {
    "duration": 34,
    "start_time": "2022-05-01T20:52:28.122Z"
   },
   {
    "duration": 21,
    "start_time": "2022-05-01T20:52:28.469Z"
   },
   {
    "duration": 26,
    "start_time": "2022-05-01T20:52:28.791Z"
   },
   {
    "duration": 9,
    "start_time": "2022-05-01T20:52:29.071Z"
   },
   {
    "duration": 16,
    "start_time": "2022-05-01T20:52:29.359Z"
   },
   {
    "duration": 6,
    "start_time": "2022-05-01T20:52:29.938Z"
   },
   {
    "duration": 7,
    "start_time": "2022-05-01T20:52:30.229Z"
   },
   {
    "duration": 35,
    "start_time": "2022-05-01T20:52:30.501Z"
   },
   {
    "duration": 49,
    "start_time": "2022-05-01T20:52:30.905Z"
   },
   {
    "duration": 22,
    "start_time": "2022-05-01T20:52:32.377Z"
   },
   {
    "duration": 9,
    "start_time": "2022-05-01T20:52:33.536Z"
   },
   {
    "duration": 22,
    "start_time": "2022-05-01T20:52:33.923Z"
   },
   {
    "duration": 11,
    "start_time": "2022-05-01T20:52:34.328Z"
   },
   {
    "duration": 9,
    "start_time": "2022-05-01T20:52:36.017Z"
   },
   {
    "duration": 5,
    "start_time": "2022-05-01T20:52:36.271Z"
   },
   {
    "duration": 7,
    "start_time": "2022-05-01T20:52:36.747Z"
   },
   {
    "duration": 22,
    "start_time": "2022-05-01T20:52:36.967Z"
   },
   {
    "duration": 15,
    "start_time": "2022-05-01T20:52:37.687Z"
   },
   {
    "duration": 15,
    "start_time": "2022-05-01T20:52:37.955Z"
   },
   {
    "duration": 14,
    "start_time": "2022-05-01T20:52:38.757Z"
   },
   {
    "duration": 11,
    "start_time": "2022-05-01T20:52:39.399Z"
   },
   {
    "duration": 26,
    "start_time": "2022-05-01T20:52:39.718Z"
   },
   {
    "duration": 8,
    "start_time": "2022-05-01T20:52:40.351Z"
   },
   {
    "duration": 6,
    "start_time": "2022-05-01T20:52:40.682Z"
   },
   {
    "duration": 8,
    "start_time": "2022-05-01T20:52:41.768Z"
   },
   {
    "duration": 6,
    "start_time": "2022-05-01T20:52:42.255Z"
   },
   {
    "duration": 36,
    "start_time": "2022-05-01T20:52:54.026Z"
   },
   {
    "duration": 13,
    "start_time": "2022-05-01T20:53:15.390Z"
   },
   {
    "duration": 34,
    "start_time": "2022-05-01T20:53:15.897Z"
   },
   {
    "duration": 8,
    "start_time": "2022-05-01T20:53:17.425Z"
   },
   {
    "duration": 5,
    "start_time": "2022-05-01T20:53:21.195Z"
   },
   {
    "duration": 23,
    "start_time": "2022-05-01T20:53:21.769Z"
   },
   {
    "duration": 3,
    "start_time": "2022-05-01T20:53:22.467Z"
   },
   {
    "duration": 63,
    "start_time": "2022-05-01T20:53:23.276Z"
   },
   {
    "duration": 26,
    "start_time": "2022-05-01T20:53:24.452Z"
   },
   {
    "duration": 8,
    "start_time": "2022-05-01T20:54:50.725Z"
   },
   {
    "duration": 601,
    "start_time": "2022-05-01T20:55:04.581Z"
   },
   {
    "duration": 94,
    "start_time": "2022-05-01T20:55:05.185Z"
   },
   {
    "duration": 20,
    "start_time": "2022-05-01T20:55:05.282Z"
   },
   {
    "duration": 31,
    "start_time": "2022-05-01T20:55:05.305Z"
   },
   {
    "duration": 28,
    "start_time": "2022-05-01T20:55:05.338Z"
   },
   {
    "duration": 28,
    "start_time": "2022-05-01T20:55:05.368Z"
   },
   {
    "duration": 9,
    "start_time": "2022-05-01T20:55:05.398Z"
   },
   {
    "duration": 52,
    "start_time": "2022-05-01T20:55:05.409Z"
   },
   {
    "duration": 24,
    "start_time": "2022-05-01T20:55:05.464Z"
   },
   {
    "duration": 6,
    "start_time": "2022-05-01T20:55:05.677Z"
   },
   {
    "duration": 20,
    "start_time": "2022-05-01T20:55:05.784Z"
   },
   {
    "duration": 48,
    "start_time": "2022-05-01T20:55:05.838Z"
   },
   {
    "duration": 21,
    "start_time": "2022-05-01T20:55:05.923Z"
   },
   {
    "duration": 9,
    "start_time": "2022-05-01T20:55:06.004Z"
   },
   {
    "duration": 22,
    "start_time": "2022-05-01T20:55:06.083Z"
   },
   {
    "duration": 10,
    "start_time": "2022-05-01T20:55:06.164Z"
   },
   {
    "duration": 8,
    "start_time": "2022-05-01T20:55:06.333Z"
   },
   {
    "duration": 5,
    "start_time": "2022-05-01T20:55:06.417Z"
   },
   {
    "duration": 7,
    "start_time": "2022-05-01T20:55:06.581Z"
   },
   {
    "duration": 21,
    "start_time": "2022-05-01T20:55:06.665Z"
   },
   {
    "duration": 14,
    "start_time": "2022-05-01T20:55:06.913Z"
   },
   {
    "duration": 15,
    "start_time": "2022-05-01T20:55:06.999Z"
   },
   {
    "duration": 10,
    "start_time": "2022-05-01T20:55:07.248Z"
   },
   {
    "duration": 10,
    "start_time": "2022-05-01T20:55:07.424Z"
   },
   {
    "duration": 21,
    "start_time": "2022-05-01T20:55:07.498Z"
   },
   {
    "duration": 7,
    "start_time": "2022-05-01T20:55:07.673Z"
   },
   {
    "duration": 6,
    "start_time": "2022-05-01T20:55:08.451Z"
   },
   {
    "duration": 8,
    "start_time": "2022-05-01T20:55:09.021Z"
   },
   {
    "duration": 7,
    "start_time": "2022-05-01T20:55:09.112Z"
   },
   {
    "duration": 37,
    "start_time": "2022-05-01T20:55:09.273Z"
   },
   {
    "duration": 13,
    "start_time": "2022-05-01T20:55:11.408Z"
   },
   {
    "duration": 35,
    "start_time": "2022-05-01T20:55:12.181Z"
   },
   {
    "duration": 7,
    "start_time": "2022-05-01T20:55:14.824Z"
   },
   {
    "duration": 9,
    "start_time": "2022-05-01T20:55:26.327Z"
   },
   {
    "duration": 6,
    "start_time": "2022-05-01T20:55:38.254Z"
   },
   {
    "duration": 23,
    "start_time": "2022-05-01T20:55:38.621Z"
   },
   {
    "duration": 4,
    "start_time": "2022-05-01T20:55:39.593Z"
   },
   {
    "duration": 65,
    "start_time": "2022-05-01T20:55:39.940Z"
   },
   {
    "duration": 27,
    "start_time": "2022-05-01T20:55:40.454Z"
   },
   {
    "duration": 96,
    "start_time": "2022-05-01T20:56:22.477Z"
   },
   {
    "duration": 7,
    "start_time": "2022-05-01T20:56:36.710Z"
   },
   {
    "duration": 28,
    "start_time": "2022-05-01T20:56:50.287Z"
   },
   {
    "duration": 9,
    "start_time": "2022-05-01T21:02:03.278Z"
   },
   {
    "duration": 6,
    "start_time": "2022-05-01T21:02:21.426Z"
   },
   {
    "duration": 88,
    "start_time": "2022-05-01T21:02:36.300Z"
   },
   {
    "duration": 11,
    "start_time": "2022-05-01T21:03:17.348Z"
   },
   {
    "duration": 28,
    "start_time": "2022-05-01T21:03:28.579Z"
   },
   {
    "duration": 30,
    "start_time": "2022-05-01T21:03:42.634Z"
   },
   {
    "duration": 25,
    "start_time": "2022-05-01T21:05:15.853Z"
   },
   {
    "duration": 88,
    "start_time": "2022-05-01T21:05:43.193Z"
   },
   {
    "duration": 46,
    "start_time": "2022-05-01T21:05:49.160Z"
   },
   {
    "duration": 17,
    "start_time": "2022-05-01T21:07:12.288Z"
   },
   {
    "duration": 41,
    "start_time": "2022-05-01T21:07:21.959Z"
   },
   {
    "duration": 43,
    "start_time": "2022-05-01T21:09:21.602Z"
   },
   {
    "duration": 30,
    "start_time": "2022-05-01T21:09:58.145Z"
   },
   {
    "duration": 384,
    "start_time": "2022-05-02T04:31:36.014Z"
   },
   {
    "duration": 73,
    "start_time": "2022-05-02T04:31:36.400Z"
   },
   {
    "duration": 19,
    "start_time": "2022-05-02T04:31:36.475Z"
   },
   {
    "duration": 20,
    "start_time": "2022-05-02T04:31:36.496Z"
   },
   {
    "duration": 13,
    "start_time": "2022-05-02T04:31:36.518Z"
   },
   {
    "duration": 15,
    "start_time": "2022-05-02T04:31:36.533Z"
   },
   {
    "duration": 6,
    "start_time": "2022-05-02T04:31:36.550Z"
   },
   {
    "duration": 9,
    "start_time": "2022-05-02T04:31:36.597Z"
   },
   {
    "duration": 4,
    "start_time": "2022-05-02T04:31:36.772Z"
   },
   {
    "duration": 5,
    "start_time": "2022-05-02T04:31:36.849Z"
   },
   {
    "duration": 14,
    "start_time": "2022-05-02T04:31:37.059Z"
   },
   {
    "duration": 29,
    "start_time": "2022-05-02T04:31:37.133Z"
   },
   {
    "duration": 14,
    "start_time": "2022-05-02T04:31:37.265Z"
   },
   {
    "duration": 6,
    "start_time": "2022-05-02T04:31:37.436Z"
   },
   {
    "duration": 13,
    "start_time": "2022-05-02T04:31:37.523Z"
   },
   {
    "duration": 7,
    "start_time": "2022-05-02T04:31:37.611Z"
   },
   {
    "duration": 5,
    "start_time": "2022-05-02T04:31:37.772Z"
   },
   {
    "duration": 4,
    "start_time": "2022-05-02T04:31:37.854Z"
   },
   {
    "duration": 5,
    "start_time": "2022-05-02T04:31:38.021Z"
   },
   {
    "duration": 15,
    "start_time": "2022-05-02T04:31:38.157Z"
   },
   {
    "duration": 10,
    "start_time": "2022-05-02T04:31:38.357Z"
   },
   {
    "duration": 10,
    "start_time": "2022-05-02T04:31:38.437Z"
   },
   {
    "duration": 7,
    "start_time": "2022-05-02T04:31:38.694Z"
   },
   {
    "duration": 8,
    "start_time": "2022-05-02T04:31:38.857Z"
   },
   {
    "duration": 14,
    "start_time": "2022-05-02T04:31:38.938Z"
   },
   {
    "duration": 5,
    "start_time": "2022-05-02T04:31:39.113Z"
   },
   {
    "duration": 4,
    "start_time": "2022-05-02T04:31:39.190Z"
   },
   {
    "duration": 6,
    "start_time": "2022-05-02T04:31:39.359Z"
   },
   {
    "duration": 5,
    "start_time": "2022-05-02T04:31:39.443Z"
   },
   {
    "duration": 23,
    "start_time": "2022-05-02T04:31:39.610Z"
   },
   {
    "duration": 9,
    "start_time": "2022-05-02T04:31:39.775Z"
   },
   {
    "duration": 20,
    "start_time": "2022-05-02T04:31:39.860Z"
   },
   {
    "duration": 4,
    "start_time": "2022-05-02T04:31:40.027Z"
   },
   {
    "duration": 4,
    "start_time": "2022-05-02T04:31:40.283Z"
   },
   {
    "duration": 14,
    "start_time": "2022-05-02T04:31:40.362Z"
   },
   {
    "duration": 2,
    "start_time": "2022-05-02T04:31:40.529Z"
   },
   {
    "duration": 52,
    "start_time": "2022-05-02T04:31:40.612Z"
   },
   {
    "duration": 15,
    "start_time": "2022-05-02T04:31:40.700Z"
   },
   {
    "duration": 4,
    "start_time": "2022-05-02T04:31:40.863Z"
   },
   {
    "duration": 16,
    "start_time": "2022-05-02T04:31:40.947Z"
   },
   {
    "duration": 20,
    "start_time": "2022-05-02T04:31:41.502Z"
   },
   {
    "duration": 66,
    "start_time": "2022-05-02T04:32:29.779Z"
   },
   {
    "duration": 6,
    "start_time": "2022-05-02T04:33:18.392Z"
   },
   {
    "duration": 20,
    "start_time": "2022-05-02T04:33:51.946Z"
   },
   {
    "duration": 6,
    "start_time": "2022-05-02T04:34:24.991Z"
   },
   {
    "duration": 3,
    "start_time": "2022-05-02T04:37:08.544Z"
   },
   {
    "duration": 432,
    "start_time": "2022-05-02T04:37:20.579Z"
   },
   {
    "duration": 68,
    "start_time": "2022-05-02T04:37:21.013Z"
   },
   {
    "duration": 19,
    "start_time": "2022-05-02T04:37:21.083Z"
   },
   {
    "duration": 21,
    "start_time": "2022-05-02T04:37:21.104Z"
   },
   {
    "duration": 15,
    "start_time": "2022-05-02T04:37:21.127Z"
   },
   {
    "duration": 18,
    "start_time": "2022-05-02T04:37:21.144Z"
   },
   {
    "duration": 7,
    "start_time": "2022-05-02T04:37:21.164Z"
   },
   {
    "duration": 12,
    "start_time": "2022-05-02T04:37:21.192Z"
   },
   {
    "duration": 5,
    "start_time": "2022-05-02T04:37:21.205Z"
   },
   {
    "duration": 8,
    "start_time": "2022-05-02T04:37:21.212Z"
   },
   {
    "duration": 21,
    "start_time": "2022-05-02T04:37:21.222Z"
   },
   {
    "duration": 52,
    "start_time": "2022-05-02T04:37:21.244Z"
   },
   {
    "duration": 13,
    "start_time": "2022-05-02T04:37:21.298Z"
   },
   {
    "duration": 7,
    "start_time": "2022-05-02T04:37:21.314Z"
   },
   {
    "duration": 20,
    "start_time": "2022-05-02T04:37:21.322Z"
   },
   {
    "duration": 7,
    "start_time": "2022-05-02T04:37:21.344Z"
   },
   {
    "duration": 6,
    "start_time": "2022-05-02T04:37:21.353Z"
   },
   {
    "duration": 8,
    "start_time": "2022-05-02T04:37:21.360Z"
   },
   {
    "duration": 6,
    "start_time": "2022-05-02T04:37:21.391Z"
   },
   {
    "duration": 17,
    "start_time": "2022-05-02T04:37:21.399Z"
   },
   {
    "duration": 13,
    "start_time": "2022-05-02T04:37:21.418Z"
   },
   {
    "duration": 14,
    "start_time": "2022-05-02T04:37:21.433Z"
   },
   {
    "duration": 12,
    "start_time": "2022-05-02T04:37:21.449Z"
   },
   {
    "duration": 11,
    "start_time": "2022-05-02T04:37:21.462Z"
   },
   {
    "duration": 15,
    "start_time": "2022-05-02T04:37:21.492Z"
   },
   {
    "duration": 6,
    "start_time": "2022-05-02T04:37:21.508Z"
   },
   {
    "duration": 5,
    "start_time": "2022-05-02T04:37:21.516Z"
   },
   {
    "duration": 10,
    "start_time": "2022-05-02T04:37:21.523Z"
   },
   {
    "duration": 10,
    "start_time": "2022-05-02T04:37:21.534Z"
   },
   {
    "duration": 47,
    "start_time": "2022-05-02T04:37:21.546Z"
   },
   {
    "duration": 10,
    "start_time": "2022-05-02T04:37:21.595Z"
   },
   {
    "duration": 24,
    "start_time": "2022-05-02T04:37:21.607Z"
   },
   {
    "duration": 16,
    "start_time": "2022-05-02T04:37:21.632Z"
   },
   {
    "duration": 10,
    "start_time": "2022-05-02T04:37:21.650Z"
   },
   {
    "duration": 18,
    "start_time": "2022-05-02T04:37:21.661Z"
   },
   {
    "duration": 13,
    "start_time": "2022-05-02T04:37:21.681Z"
   },
   {
    "duration": 65,
    "start_time": "2022-05-02T04:37:21.695Z"
   },
   {
    "duration": 18,
    "start_time": "2022-05-02T04:37:21.761Z"
   },
   {
    "duration": 14,
    "start_time": "2022-05-02T04:37:21.780Z"
   },
   {
    "duration": 23,
    "start_time": "2022-05-02T04:37:21.796Z"
   },
   {
    "duration": 7,
    "start_time": "2022-05-02T04:37:21.823Z"
   },
   {
    "duration": 9,
    "start_time": "2022-05-02T04:37:21.831Z"
   },
   {
    "duration": 70,
    "start_time": "2022-05-02T04:39:12.242Z"
   },
   {
    "duration": 4,
    "start_time": "2022-05-02T04:39:42.067Z"
   },
   {
    "duration": 7,
    "start_time": "2022-05-02T04:41:31.024Z"
   },
   {
    "duration": 7,
    "start_time": "2022-05-02T04:41:36.476Z"
   },
   {
    "duration": 4,
    "start_time": "2022-05-02T04:42:08.612Z"
   },
   {
    "duration": 496,
    "start_time": "2022-05-02T04:42:51.680Z"
   },
   {
    "duration": 113,
    "start_time": "2022-05-02T04:43:23.974Z"
   },
   {
    "duration": 167,
    "start_time": "2022-05-02T04:43:36.580Z"
   },
   {
    "duration": 123,
    "start_time": "2022-05-02T04:43:50.687Z"
   },
   {
    "duration": 127,
    "start_time": "2022-05-02T04:44:15.280Z"
   },
   {
    "duration": 131,
    "start_time": "2022-05-02T04:44:56.803Z"
   },
   {
    "duration": 20,
    "start_time": "2022-05-02T04:47:39.496Z"
   },
   {
    "duration": 403,
    "start_time": "2022-05-02T04:48:11.693Z"
   },
   {
    "duration": 67,
    "start_time": "2022-05-02T04:48:12.393Z"
   },
   {
    "duration": 20,
    "start_time": "2022-05-02T04:48:21.440Z"
   },
   {
    "duration": 21,
    "start_time": "2022-05-02T04:48:22.797Z"
   },
   {
    "duration": 16,
    "start_time": "2022-05-02T04:48:24.930Z"
   },
   {
    "duration": 18,
    "start_time": "2022-05-02T04:48:26.140Z"
   },
   {
    "duration": 7,
    "start_time": "2022-05-02T04:48:27.813Z"
   },
   {
    "duration": 10,
    "start_time": "2022-05-02T04:48:30.529Z"
   },
   {
    "duration": 7,
    "start_time": "2022-05-02T04:48:32.648Z"
   },
   {
    "duration": 4,
    "start_time": "2022-05-02T04:48:33.741Z"
   },
   {
    "duration": 14,
    "start_time": "2022-05-02T04:48:36.241Z"
   },
   {
    "duration": 32,
    "start_time": "2022-05-02T04:48:39.931Z"
   },
   {
    "duration": 14,
    "start_time": "2022-05-02T04:48:50.244Z"
   },
   {
    "duration": 15,
    "start_time": "2022-05-02T04:49:23.556Z"
   },
   {
    "duration": 16,
    "start_time": "2022-05-02T04:49:25.921Z"
   },
   {
    "duration": 5,
    "start_time": "2022-05-02T04:49:36.331Z"
   },
   {
    "duration": 17,
    "start_time": "2022-05-02T04:49:37.099Z"
   },
   {
    "duration": 7,
    "start_time": "2022-05-02T04:49:38.053Z"
   },
   {
    "duration": 5,
    "start_time": "2022-05-02T04:49:45.981Z"
   },
   {
    "duration": 4,
    "start_time": "2022-05-02T04:49:46.745Z"
   },
   {
    "duration": 5,
    "start_time": "2022-05-02T04:49:49.705Z"
   },
   {
    "duration": 16,
    "start_time": "2022-05-02T04:49:52.105Z"
   },
   {
    "duration": 423,
    "start_time": "2022-05-02T19:54:04.030Z"
   },
   {
    "duration": 92,
    "start_time": "2022-05-02T19:54:04.527Z"
   },
   {
    "duration": 37,
    "start_time": "2022-05-02T19:54:04.877Z"
   },
   {
    "duration": 22,
    "start_time": "2022-05-02T19:54:05.689Z"
   },
   {
    "duration": 16,
    "start_time": "2022-05-02T19:54:06.452Z"
   },
   {
    "duration": 18,
    "start_time": "2022-05-02T19:54:08.378Z"
   },
   {
    "duration": 7,
    "start_time": "2022-05-02T19:54:09.405Z"
   },
   {
    "duration": 12,
    "start_time": "2022-05-02T19:54:15.050Z"
   },
   {
    "duration": 7,
    "start_time": "2022-05-02T19:54:26.502Z"
   },
   {
    "duration": 3,
    "start_time": "2022-05-02T19:54:37.217Z"
   },
   {
    "duration": 70,
    "start_time": "2022-05-02T19:54:45.560Z"
   },
   {
    "duration": 9,
    "start_time": "2022-05-02T19:56:32.917Z"
   },
   {
    "duration": 4,
    "start_time": "2022-05-02T19:56:46.542Z"
   },
   {
    "duration": 16,
    "start_time": "2022-05-02T19:56:54.896Z"
   },
   {
    "duration": 3,
    "start_time": "2022-05-02T19:57:09.983Z"
   },
   {
    "duration": 90,
    "start_time": "2022-05-02T19:57:10.386Z"
   },
   {
    "duration": 37,
    "start_time": "2022-05-02T19:57:10.836Z"
   },
   {
    "duration": 15,
    "start_time": "2022-05-02T19:57:11.443Z"
   },
   {
    "duration": 16,
    "start_time": "2022-05-02T19:57:12.095Z"
   },
   {
    "duration": 18,
    "start_time": "2022-05-02T19:57:12.796Z"
   },
   {
    "duration": 7,
    "start_time": "2022-05-02T19:57:13.713Z"
   },
   {
    "duration": 10,
    "start_time": "2022-05-02T19:57:14.633Z"
   },
   {
    "duration": 8,
    "start_time": "2022-05-02T19:57:16.637Z"
   },
   {
    "duration": 14,
    "start_time": "2022-05-02T19:57:21.684Z"
   },
   {
    "duration": 3,
    "start_time": "2022-05-02T19:57:34.029Z"
   },
   {
    "duration": 16,
    "start_time": "2022-05-02T19:57:36.143Z"
   },
   {
    "duration": 15,
    "start_time": "2022-05-02T19:57:41.038Z"
   },
   {
    "duration": 22,
    "start_time": "2022-05-02T19:57:44.667Z"
   },
   {
    "duration": 6,
    "start_time": "2022-05-02T19:57:51.031Z"
   },
   {
    "duration": 23,
    "start_time": "2022-05-02T19:57:51.903Z"
   },
   {
    "duration": 7,
    "start_time": "2022-05-02T19:57:53.234Z"
   },
   {
    "duration": 5,
    "start_time": "2022-05-02T19:57:54.059Z"
   },
   {
    "duration": 4,
    "start_time": "2022-05-02T19:57:54.540Z"
   },
   {
    "duration": 5,
    "start_time": "2022-05-02T19:57:55.841Z"
   },
   {
    "duration": 15,
    "start_time": "2022-05-02T19:57:56.480Z"
   },
   {
    "duration": 16,
    "start_time": "2022-05-02T19:57:59.475Z"
   },
   {
    "duration": 12,
    "start_time": "2022-05-02T19:58:01.239Z"
   },
   {
    "duration": 9,
    "start_time": "2022-05-02T19:58:23.049Z"
   },
   {
    "duration": 7,
    "start_time": "2022-05-02T19:58:36.163Z"
   },
   {
    "duration": 8,
    "start_time": "2022-05-02T19:58:41.247Z"
   },
   {
    "duration": 8,
    "start_time": "2022-05-02T20:00:15.366Z"
   },
   {
    "duration": 10,
    "start_time": "2022-05-02T20:00:16.733Z"
   },
   {
    "duration": 14,
    "start_time": "2022-05-02T20:00:17.303Z"
   },
   {
    "duration": 6,
    "start_time": "2022-05-02T20:00:17.949Z"
   },
   {
    "duration": 5,
    "start_time": "2022-05-02T20:00:18.641Z"
   },
   {
    "duration": 6,
    "start_time": "2022-05-02T20:00:19.404Z"
   },
   {
    "duration": 6,
    "start_time": "2022-05-02T20:00:19.701Z"
   },
   {
    "duration": 27,
    "start_time": "2022-05-02T20:00:21.750Z"
   },
   {
    "duration": 10,
    "start_time": "2022-05-02T20:00:23.169Z"
   },
   {
    "duration": 26,
    "start_time": "2022-05-02T20:00:23.677Z"
   },
   {
    "duration": 5,
    "start_time": "2022-05-02T20:00:24.185Z"
   },
   {
    "duration": 4,
    "start_time": "2022-05-02T20:00:25.004Z"
   },
   {
    "duration": 17,
    "start_time": "2022-05-02T20:00:25.226Z"
   },
   {
    "duration": 2,
    "start_time": "2022-05-02T20:00:25.953Z"
   },
   {
    "duration": 61,
    "start_time": "2022-05-02T20:00:26.269Z"
   },
   {
    "duration": 18,
    "start_time": "2022-05-02T20:00:26.517Z"
   },
   {
    "duration": 4,
    "start_time": "2022-05-02T20:00:27.109Z"
   },
   {
    "duration": 20,
    "start_time": "2022-05-02T20:00:27.626Z"
   },
   {
    "duration": 6,
    "start_time": "2022-05-02T20:00:35.395Z"
   },
   {
    "duration": 4,
    "start_time": "2022-05-02T20:00:36.047Z"
   },
   {
    "duration": 580,
    "start_time": "2022-05-02T20:01:33.756Z"
   },
   {
    "duration": 151,
    "start_time": "2022-05-02T20:02:03.563Z"
   },
   {
    "duration": 33,
    "start_time": "2022-05-02T20:05:12.846Z"
   },
   {
    "duration": 19,
    "start_time": "2022-05-02T20:05:26.202Z"
   },
   {
    "duration": 18,
    "start_time": "2022-05-02T20:05:35.074Z"
   },
   {
    "duration": 18,
    "start_time": "2022-05-02T20:05:43.545Z"
   },
   {
    "duration": 11,
    "start_time": "2022-05-02T20:08:36.982Z"
   },
   {
    "duration": 813,
    "start_time": "2022-05-02T20:08:50.426Z"
   },
   {
    "duration": 803,
    "start_time": "2022-05-02T20:10:49.999Z"
   },
   {
    "duration": 11,
    "start_time": "2022-05-02T20:11:29.783Z"
   },
   {
    "duration": 151,
    "start_time": "2022-05-02T20:11:53.415Z"
   },
   {
    "duration": 159,
    "start_time": "2022-05-02T20:14:01.521Z"
   },
   {
    "duration": 143,
    "start_time": "2022-05-02T20:14:34.652Z"
   },
   {
    "duration": 170,
    "start_time": "2022-05-02T20:16:28.500Z"
   },
   {
    "duration": 11,
    "start_time": "2022-05-02T20:16:51.966Z"
   },
   {
    "duration": 160,
    "start_time": "2022-05-02T20:17:10.124Z"
   },
   {
    "duration": 148,
    "start_time": "2022-05-02T20:17:26.566Z"
   },
   {
    "duration": 147,
    "start_time": "2022-05-02T20:17:33.778Z"
   },
   {
    "duration": 154,
    "start_time": "2022-05-02T20:19:21.531Z"
   },
   {
    "duration": 154,
    "start_time": "2022-05-02T20:19:45.496Z"
   },
   {
    "duration": 19,
    "start_time": "2022-05-02T20:22:07.594Z"
   },
   {
    "duration": 16,
    "start_time": "2022-05-02T20:22:32.275Z"
   },
   {
    "duration": 54,
    "start_time": "2022-05-04T19:40:47.275Z"
   },
   {
    "duration": 442,
    "start_time": "2022-05-04T19:40:51.919Z"
   },
   {
    "duration": 79,
    "start_time": "2022-05-04T19:40:53.798Z"
   },
   {
    "duration": 39,
    "start_time": "2022-05-04T19:40:54.451Z"
   },
   {
    "duration": 31,
    "start_time": "2022-05-04T19:40:55.447Z"
   },
   {
    "duration": 26,
    "start_time": "2022-05-04T19:40:56.444Z"
   },
   {
    "duration": 29,
    "start_time": "2022-05-04T19:40:59.358Z"
   },
   {
    "duration": 8,
    "start_time": "2022-05-04T19:41:01.830Z"
   },
   {
    "duration": 16,
    "start_time": "2022-05-04T19:41:02.809Z"
   },
   {
    "duration": 9,
    "start_time": "2022-05-04T19:41:06.515Z"
   },
   {
    "duration": 3,
    "start_time": "2022-05-04T19:41:35.379Z"
   },
   {
    "duration": 6,
    "start_time": "2022-05-04T19:41:36.119Z"
   },
   {
    "duration": 24,
    "start_time": "2022-05-04T19:41:37.060Z"
   },
   {
    "duration": 17,
    "start_time": "2022-05-04T19:45:45.788Z"
   },
   {
    "duration": 18,
    "start_time": "2022-05-04T19:45:51.540Z"
   },
   {
    "duration": 7,
    "start_time": "2022-05-04T19:46:02.915Z"
   },
   {
    "duration": 16,
    "start_time": "2022-05-04T19:46:03.527Z"
   },
   {
    "duration": 8,
    "start_time": "2022-05-04T19:46:04.042Z"
   },
   {
    "duration": 5,
    "start_time": "2022-05-04T19:46:05.292Z"
   },
   {
    "duration": 4,
    "start_time": "2022-05-04T19:46:05.754Z"
   },
   {
    "duration": 6,
    "start_time": "2022-05-04T19:46:07.491Z"
   },
   {
    "duration": 18,
    "start_time": "2022-05-04T19:46:08.435Z"
   },
   {
    "duration": 13,
    "start_time": "2022-05-04T19:46:18.724Z"
   },
   {
    "duration": 12,
    "start_time": "2022-05-04T19:46:26.877Z"
   },
   {
    "duration": 13,
    "start_time": "2022-05-04T19:46:47.806Z"
   },
   {
    "duration": 19,
    "start_time": "2022-05-04T19:46:49.388Z"
   },
   {
    "duration": 3,
    "start_time": "2022-05-04T19:47:01.568Z"
   },
   {
    "duration": 86,
    "start_time": "2022-05-04T19:47:01.740Z"
   },
   {
    "duration": 39,
    "start_time": "2022-05-04T19:47:01.831Z"
   },
   {
    "duration": 18,
    "start_time": "2022-05-04T19:47:01.988Z"
   },
   {
    "duration": 15,
    "start_time": "2022-05-04T19:47:02.085Z"
   },
   {
    "duration": 18,
    "start_time": "2022-05-04T19:47:02.279Z"
   },
   {
    "duration": 8,
    "start_time": "2022-05-04T19:47:02.485Z"
   },
   {
    "duration": 12,
    "start_time": "2022-05-04T19:47:03.321Z"
   },
   {
    "duration": 7,
    "start_time": "2022-05-04T19:47:04.285Z"
   },
   {
    "duration": 4,
    "start_time": "2022-05-04T19:47:04.670Z"
   },
   {
    "duration": 21,
    "start_time": "2022-05-04T19:47:05.314Z"
   },
   {
    "duration": 17,
    "start_time": "2022-05-04T19:47:07.808Z"
   },
   {
    "duration": 16,
    "start_time": "2022-05-04T19:47:11.758Z"
   },
   {
    "duration": 6,
    "start_time": "2022-05-04T19:47:16.535Z"
   },
   {
    "duration": 16,
    "start_time": "2022-05-04T19:47:16.953Z"
   },
   {
    "duration": 7,
    "start_time": "2022-05-04T19:47:17.260Z"
   },
   {
    "duration": 6,
    "start_time": "2022-05-04T19:47:19.046Z"
   },
   {
    "duration": 4,
    "start_time": "2022-05-04T19:47:19.374Z"
   },
   {
    "duration": 6,
    "start_time": "2022-05-04T19:47:20.350Z"
   },
   {
    "duration": 16,
    "start_time": "2022-05-04T19:47:20.956Z"
   },
   {
    "duration": 11,
    "start_time": "2022-05-04T19:47:25.177Z"
   },
   {
    "duration": 11,
    "start_time": "2022-05-04T19:47:27.324Z"
   },
   {
    "duration": 38,
    "start_time": "2022-05-04T19:59:01.171Z"
   },
   {
    "duration": 11,
    "start_time": "2022-05-04T19:59:10.092Z"
   },
   {
    "duration": 12,
    "start_time": "2022-05-04T19:59:20.413Z"
   },
   {
    "duration": 369,
    "start_time": "2022-05-05T16:05:17.397Z"
   },
   {
    "duration": 354,
    "start_time": "2022-05-05T16:05:17.768Z"
   },
   {
    "duration": 79,
    "start_time": "2022-05-05T16:05:18.124Z"
   },
   {
    "duration": 24,
    "start_time": "2022-05-05T16:05:18.206Z"
   },
   {
    "duration": 22,
    "start_time": "2022-05-05T16:05:18.232Z"
   },
   {
    "duration": 18,
    "start_time": "2022-05-05T16:05:18.256Z"
   },
   {
    "duration": 7,
    "start_time": "2022-05-05T16:05:18.276Z"
   },
   {
    "duration": 16,
    "start_time": "2022-05-05T16:05:18.284Z"
   },
   {
    "duration": 8,
    "start_time": "2022-05-05T16:05:18.346Z"
   },
   {
    "duration": 4,
    "start_time": "2022-05-05T16:05:18.409Z"
   },
   {
    "duration": 15,
    "start_time": "2022-05-05T16:05:18.493Z"
   },
   {
    "duration": 14,
    "start_time": "2022-05-05T16:05:18.584Z"
   },
   {
    "duration": 21,
    "start_time": "2022-05-05T16:05:18.826Z"
   },
   {
    "duration": 9,
    "start_time": "2022-05-05T16:05:18.994Z"
   },
   {
    "duration": 24,
    "start_time": "2022-05-05T16:05:19.078Z"
   },
   {
    "duration": 10,
    "start_time": "2022-05-05T16:05:19.176Z"
   },
   {
    "duration": 10,
    "start_time": "2022-05-05T16:05:19.328Z"
   },
   {
    "duration": 4,
    "start_time": "2022-05-05T16:05:19.413Z"
   },
   {
    "duration": 5,
    "start_time": "2022-05-05T16:05:19.581Z"
   },
   {
    "duration": 18,
    "start_time": "2022-05-05T16:05:19.666Z"
   },
   {
    "duration": 11,
    "start_time": "2022-05-05T16:05:19.915Z"
   },
   {
    "duration": 12,
    "start_time": "2022-05-05T16:05:19.998Z"
   },
   {
    "duration": 8,
    "start_time": "2022-05-05T16:05:20.250Z"
   },
   {
    "duration": 11,
    "start_time": "2022-05-05T16:05:20.429Z"
   },
   {
    "duration": 15,
    "start_time": "2022-05-05T16:05:20.502Z"
   },
   {
    "duration": 7,
    "start_time": "2022-05-05T16:05:20.670Z"
   },
   {
    "duration": 5,
    "start_time": "2022-05-05T16:05:20.766Z"
   },
   {
    "duration": 6,
    "start_time": "2022-05-05T16:05:20.918Z"
   },
   {
    "duration": 4,
    "start_time": "2022-05-05T16:05:21.002Z"
   },
   {
    "duration": 29,
    "start_time": "2022-05-05T16:05:21.169Z"
   },
   {
    "duration": 7,
    "start_time": "2022-05-05T16:05:21.386Z"
   },
   {
    "duration": 26,
    "start_time": "2022-05-05T16:05:21.446Z"
   },
   {
    "duration": 4,
    "start_time": "2022-05-05T16:05:21.619Z"
   },
   {
    "duration": 4,
    "start_time": "2022-05-05T16:05:22.900Z"
   },
   {
    "duration": 17,
    "start_time": "2022-05-05T16:05:22.980Z"
   },
   {
    "duration": 3,
    "start_time": "2022-05-05T16:05:23.150Z"
   },
   {
    "duration": 61,
    "start_time": "2022-05-05T16:05:23.230Z"
   },
   {
    "duration": 21,
    "start_time": "2022-05-05T16:05:23.316Z"
   },
   {
    "duration": 5,
    "start_time": "2022-05-05T16:05:23.484Z"
   },
   {
    "duration": 20,
    "start_time": "2022-05-05T16:05:23.562Z"
   },
   {
    "duration": 6,
    "start_time": "2022-05-05T16:05:23.812Z"
   },
   {
    "duration": 5,
    "start_time": "2022-05-05T16:05:23.898Z"
   },
   {
    "duration": 592,
    "start_time": "2022-05-05T16:05:24.073Z"
   },
   {
    "duration": 177,
    "start_time": "2022-05-05T16:05:24.667Z"
   },
   {
    "duration": 22,
    "start_time": "2022-05-05T16:05:24.846Z"
   },
   {
    "duration": 97,
    "start_time": "2022-05-05T16:05:24.871Z"
   },
   {
    "duration": 0,
    "start_time": "2022-05-05T16:05:24.970Z"
   },
   {
    "duration": 10,
    "start_time": "2022-05-05T16:05:54.499Z"
   },
   {
    "duration": 507,
    "start_time": "2022-05-05T16:06:52.997Z"
   },
   {
    "duration": 49,
    "start_time": "2022-05-05T16:07:19.450Z"
   },
   {
    "duration": 28,
    "start_time": "2022-05-05T16:09:47.824Z"
   },
   {
    "duration": 18,
    "start_time": "2022-05-05T16:10:11.295Z"
   },
   {
    "duration": 17,
    "start_time": "2022-05-05T16:11:52.107Z"
   },
   {
    "duration": 326,
    "start_time": "2022-05-05T16:12:55.128Z"
   },
   {
    "duration": 196,
    "start_time": "2022-05-05T16:13:09.747Z"
   },
   {
    "duration": 318,
    "start_time": "2022-05-05T16:13:26.778Z"
   },
   {
    "duration": 284,
    "start_time": "2022-05-05T16:13:39.962Z"
   },
   {
    "duration": 30,
    "start_time": "2022-05-05T16:14:31.625Z"
   },
   {
    "duration": 346,
    "start_time": "2022-05-05T16:14:46.281Z"
   },
   {
    "duration": 9,
    "start_time": "2022-05-05T16:16:56.569Z"
   },
   {
    "duration": 9,
    "start_time": "2022-05-05T16:17:07.118Z"
   },
   {
    "duration": 10,
    "start_time": "2022-05-05T16:18:58.716Z"
   },
   {
    "duration": 3,
    "start_time": "2022-05-05T16:19:24.949Z"
   },
   {
    "duration": 369,
    "start_time": "2022-05-05T16:19:32.289Z"
   },
   {
    "duration": 189,
    "start_time": "2022-05-05T17:27:19.798Z"
   },
   {
    "duration": 22,
    "start_time": "2022-05-05T17:28:00.373Z"
   },
   {
    "duration": 264,
    "start_time": "2022-05-05T17:28:29.942Z"
   },
   {
    "duration": 24,
    "start_time": "2022-05-05T17:28:38.857Z"
   },
   {
    "duration": 19,
    "start_time": "2022-05-05T17:29:03.262Z"
   },
   {
    "duration": 27,
    "start_time": "2022-05-05T17:29:52.765Z"
   },
   {
    "duration": 193,
    "start_time": "2022-05-05T17:32:28.708Z"
   },
   {
    "duration": 187,
    "start_time": "2022-05-05T17:34:10.134Z"
   },
   {
    "duration": 193,
    "start_time": "2022-05-05T17:34:18.353Z"
   },
   {
    "duration": 137,
    "start_time": "2022-05-05T17:34:53.372Z"
   },
   {
    "duration": 137,
    "start_time": "2022-05-05T17:35:17.918Z"
   },
   {
    "duration": 174,
    "start_time": "2022-05-05T17:36:19.597Z"
   },
   {
    "duration": 178,
    "start_time": "2022-05-05T17:37:01.347Z"
   },
   {
    "duration": 347,
    "start_time": "2022-05-05T17:42:06.112Z"
   },
   {
    "duration": 25,
    "start_time": "2022-05-05T17:44:28.555Z"
   },
   {
    "duration": 22,
    "start_time": "2022-05-05T17:44:35.481Z"
   },
   {
    "duration": 28,
    "start_time": "2022-05-05T17:44:49.653Z"
   },
   {
    "duration": 13,
    "start_time": "2022-05-05T17:45:01.810Z"
   },
   {
    "duration": 341,
    "start_time": "2022-05-05T17:45:26.369Z"
   },
   {
    "duration": 428,
    "start_time": "2022-05-05T17:45:35.739Z"
   },
   {
    "duration": 10,
    "start_time": "2022-05-05T17:46:19.824Z"
   },
   {
    "duration": 14,
    "start_time": "2022-05-05T17:47:04.401Z"
   },
   {
    "duration": 19,
    "start_time": "2022-05-05T17:47:25.050Z"
   },
   {
    "duration": 16,
    "start_time": "2022-05-05T17:47:36.415Z"
   },
   {
    "duration": 389,
    "start_time": "2022-05-05T17:48:23.583Z"
   },
   {
    "duration": 15,
    "start_time": "2022-05-05T17:48:56.912Z"
   },
   {
    "duration": 14,
    "start_time": "2022-05-05T17:49:02.677Z"
   },
   {
    "duration": 329,
    "start_time": "2022-05-05T17:49:07.793Z"
   },
   {
    "duration": 23,
    "start_time": "2022-05-05T17:56:12.553Z"
   },
   {
    "duration": 211,
    "start_time": "2022-05-05T17:59:11.987Z"
   },
   {
    "duration": 206,
    "start_time": "2022-05-05T17:59:24.560Z"
   },
   {
    "duration": 358,
    "start_time": "2022-05-05T17:59:32.061Z"
   },
   {
    "duration": 6,
    "start_time": "2022-05-05T18:03:50.563Z"
   },
   {
    "duration": 53,
    "start_time": "2022-05-05T18:04:55.281Z"
   },
   {
    "duration": 11,
    "start_time": "2022-05-05T18:06:34.586Z"
   },
   {
    "duration": 2954,
    "start_time": "2022-05-05T18:09:30.361Z"
   },
   {
    "duration": 9,
    "start_time": "2022-05-05T18:09:49.384Z"
   },
   {
    "duration": 9,
    "start_time": "2022-05-05T18:11:23.359Z"
   },
   {
    "duration": 11,
    "start_time": "2022-05-05T18:12:49.392Z"
   },
   {
    "duration": 183,
    "start_time": "2022-05-05T18:13:35.658Z"
   },
   {
    "duration": 15,
    "start_time": "2022-05-05T18:15:11.234Z"
   },
   {
    "duration": 5,
    "start_time": "2022-05-05T18:15:18.504Z"
   },
   {
    "duration": 8,
    "start_time": "2022-05-05T18:15:51.989Z"
   },
   {
    "duration": 11,
    "start_time": "2022-05-05T18:16:43.421Z"
   },
   {
    "duration": 8,
    "start_time": "2022-05-05T18:16:57.655Z"
   },
   {
    "duration": 5,
    "start_time": "2022-05-05T19:15:12.222Z"
   },
   {
    "duration": 10,
    "start_time": "2022-05-05T19:16:14.799Z"
   },
   {
    "duration": 1388,
    "start_time": "2022-05-05T19:16:35.648Z"
   },
   {
    "duration": 113,
    "start_time": "2022-05-05T19:16:37.039Z"
   },
   {
    "duration": 101,
    "start_time": "2022-05-05T19:16:37.153Z"
   },
   {
    "duration": 22,
    "start_time": "2022-05-05T19:16:37.256Z"
   },
   {
    "duration": 19,
    "start_time": "2022-05-05T19:16:37.280Z"
   },
   {
    "duration": 20,
    "start_time": "2022-05-05T19:16:37.301Z"
   },
   {
    "duration": 13,
    "start_time": "2022-05-05T19:16:37.341Z"
   },
   {
    "duration": 15,
    "start_time": "2022-05-05T19:16:37.356Z"
   },
   {
    "duration": 9,
    "start_time": "2022-05-05T19:16:38.322Z"
   },
   {
    "duration": 4,
    "start_time": "2022-05-05T19:16:39.456Z"
   },
   {
    "duration": 28,
    "start_time": "2022-05-05T19:16:39.659Z"
   },
   {
    "duration": 21,
    "start_time": "2022-05-05T19:16:40.808Z"
   },
   {
    "duration": 26,
    "start_time": "2022-05-05T19:16:42.482Z"
   },
   {
    "duration": 9,
    "start_time": "2022-05-05T19:16:43.929Z"
   },
   {
    "duration": 19,
    "start_time": "2022-05-05T19:16:44.560Z"
   },
   {
    "duration": 11,
    "start_time": "2022-05-05T19:16:45.086Z"
   },
   {
    "duration": 9,
    "start_time": "2022-05-05T19:16:48.837Z"
   },
   {
    "duration": 3,
    "start_time": "2022-05-05T19:16:49.155Z"
   },
   {
    "duration": 7,
    "start_time": "2022-05-05T19:16:49.750Z"
   },
   {
    "duration": 12,
    "start_time": "2022-05-05T19:16:52.287Z"
   },
   {
    "duration": 13,
    "start_time": "2022-05-05T19:16:52.858Z"
   },
   {
    "duration": 11,
    "start_time": "2022-05-05T19:16:57.685Z"
   },
   {
    "duration": 6,
    "start_time": "2022-05-05T19:19:42.654Z"
   },
   {
    "duration": 7,
    "start_time": "2022-05-05T19:20:12.097Z"
   },
   {
    "duration": 3,
    "start_time": "2022-05-05T19:21:11.297Z"
   },
   {
    "duration": 109,
    "start_time": "2022-05-05T19:21:12.449Z"
   },
   {
    "duration": 64,
    "start_time": "2022-05-05T19:21:13.397Z"
   },
   {
    "duration": 16,
    "start_time": "2022-05-05T19:21:15.051Z"
   },
   {
    "duration": 9,
    "start_time": "2022-05-05T19:21:35.489Z"
   },
   {
    "duration": 7,
    "start_time": "2022-05-05T19:21:52.530Z"
   },
   {
    "duration": 1356,
    "start_time": "2022-05-05T19:22:05.752Z"
   },
   {
    "duration": 93,
    "start_time": "2022-05-05T19:22:07.110Z"
   },
   {
    "duration": 43,
    "start_time": "2022-05-05T19:22:07.205Z"
   },
   {
    "duration": 21,
    "start_time": "2022-05-05T19:22:09.285Z"
   },
   {
    "duration": 8,
    "start_time": "2022-05-05T19:22:09.951Z"
   },
   {
    "duration": 9,
    "start_time": "2022-05-05T19:22:21.827Z"
   },
   {
    "duration": 8,
    "start_time": "2022-05-05T19:22:46.031Z"
   },
   {
    "duration": 24,
    "start_time": "2022-05-05T19:22:57.897Z"
   },
   {
    "duration": 24,
    "start_time": "2022-05-05T19:22:58.454Z"
   },
   {
    "duration": 13,
    "start_time": "2022-05-05T19:22:59.124Z"
   },
   {
    "duration": 16,
    "start_time": "2022-05-05T19:23:01.055Z"
   },
   {
    "duration": 15,
    "start_time": "2022-05-05T19:23:03.360Z"
   },
   {
    "duration": 5,
    "start_time": "2022-05-05T19:23:04.360Z"
   },
   {
    "duration": 31,
    "start_time": "2022-05-05T19:23:05.261Z"
   },
   {
    "duration": 16,
    "start_time": "2022-05-05T19:23:06.053Z"
   },
   {
    "duration": 28,
    "start_time": "2022-05-05T19:23:07.935Z"
   },
   {
    "duration": 10,
    "start_time": "2022-05-05T19:23:08.667Z"
   },
   {
    "duration": 29,
    "start_time": "2022-05-05T19:23:08.927Z"
   },
   {
    "duration": 8,
    "start_time": "2022-05-05T19:23:09.165Z"
   },
   {
    "duration": 8,
    "start_time": "2022-05-05T19:23:09.658Z"
   },
   {
    "duration": 5,
    "start_time": "2022-05-05T19:23:09.958Z"
   },
   {
    "duration": 9,
    "start_time": "2022-05-05T19:23:10.960Z"
   },
   {
    "duration": 13,
    "start_time": "2022-05-05T19:23:13.486Z"
   },
   {
    "duration": 14,
    "start_time": "2022-05-05T19:23:14.322Z"
   },
   {
    "duration": 17,
    "start_time": "2022-05-05T19:23:25.617Z"
   },
   {
    "duration": 33,
    "start_time": "2022-05-05T19:23:33.214Z"
   },
   {
    "duration": 28,
    "start_time": "2022-05-05T19:23:38.184Z"
   },
   {
    "duration": 7,
    "start_time": "2022-05-05T19:23:45.312Z"
   },
   {
    "duration": 36,
    "start_time": "2022-05-05T19:24:33.117Z"
   },
   {
    "duration": 41,
    "start_time": "2022-05-05T19:24:53.856Z"
   },
   {
    "duration": 33,
    "start_time": "2022-05-05T19:25:42.570Z"
   },
   {
    "duration": 10,
    "start_time": "2022-05-05T19:26:43.855Z"
   },
   {
    "duration": 8,
    "start_time": "2022-05-05T19:26:49.419Z"
   },
   {
    "duration": 7,
    "start_time": "2022-05-05T19:28:51.058Z"
   },
   {
    "duration": 3,
    "start_time": "2022-05-05T19:28:57.058Z"
   },
   {
    "duration": 104,
    "start_time": "2022-05-05T19:28:57.982Z"
   },
   {
    "duration": 39,
    "start_time": "2022-05-05T19:28:58.558Z"
   },
   {
    "duration": 18,
    "start_time": "2022-05-05T19:29:00.054Z"
   },
   {
    "duration": 15,
    "start_time": "2022-05-05T19:29:00.858Z"
   },
   {
    "duration": 8,
    "start_time": "2022-05-05T19:29:12.162Z"
   },
   {
    "duration": 26,
    "start_time": "2022-05-05T19:29:12.810Z"
   },
   {
    "duration": 23,
    "start_time": "2022-05-05T19:29:13.454Z"
   },
   {
    "duration": 8,
    "start_time": "2022-05-05T19:29:15.098Z"
   },
   {
    "duration": 13,
    "start_time": "2022-05-05T19:29:16.471Z"
   },
   {
    "duration": 13,
    "start_time": "2022-05-05T19:29:19.325Z"
   },
   {
    "duration": 4,
    "start_time": "2022-05-05T19:29:20.359Z"
   },
   {
    "duration": 7,
    "start_time": "2022-05-05T19:29:31.614Z"
   },
   {
    "duration": 29,
    "start_time": "2022-05-05T19:30:09.795Z"
   },
   {
    "duration": 3276,
    "start_time": "2022-05-05T19:30:57.507Z"
   },
   {
    "duration": 3251,
    "start_time": "2022-05-05T19:31:03.709Z"
   },
   {
    "duration": 17,
    "start_time": "2022-05-05T19:31:48.015Z"
   },
   {
    "duration": 4,
    "start_time": "2022-05-05T19:31:52.282Z"
   },
   {
    "duration": 117,
    "start_time": "2022-05-05T19:31:52.858Z"
   },
   {
    "duration": 47,
    "start_time": "2022-05-05T19:31:53.155Z"
   },
   {
    "duration": 17,
    "start_time": "2022-05-05T19:32:04.302Z"
   },
   {
    "duration": 17,
    "start_time": "2022-05-05T19:32:36.867Z"
   },
   {
    "duration": 24,
    "start_time": "2022-05-05T19:32:56.381Z"
   },
   {
    "duration": 12,
    "start_time": "2022-05-05T19:34:30.087Z"
   },
   {
    "duration": 9,
    "start_time": "2022-05-05T19:34:38.815Z"
   },
   {
    "duration": 23,
    "start_time": "2022-05-05T19:34:44.128Z"
   },
   {
    "duration": 30,
    "start_time": "2022-05-05T19:34:48.692Z"
   },
   {
    "duration": 16,
    "start_time": "2022-05-05T19:35:05.654Z"
   },
   {
    "duration": 4,
    "start_time": "2022-05-05T19:35:37.814Z"
   },
   {
    "duration": 107,
    "start_time": "2022-05-05T19:35:39.235Z"
   },
   {
    "duration": 37,
    "start_time": "2022-05-05T19:35:39.888Z"
   },
   {
    "duration": 25,
    "start_time": "2022-05-05T19:35:43.242Z"
   },
   {
    "duration": 11,
    "start_time": "2022-05-05T19:35:43.960Z"
   },
   {
    "duration": 17,
    "start_time": "2022-05-05T19:35:44.610Z"
   },
   {
    "duration": 30,
    "start_time": "2022-05-05T19:35:50.118Z"
   },
   {
    "duration": 29,
    "start_time": "2022-05-05T19:35:51.051Z"
   },
   {
    "duration": 9,
    "start_time": "2022-05-05T19:35:51.970Z"
   },
   {
    "duration": 12,
    "start_time": "2022-05-05T19:35:52.581Z"
   },
   {
    "duration": 10,
    "start_time": "2022-05-05T19:35:54.488Z"
   },
   {
    "duration": 20,
    "start_time": "2022-05-05T19:35:55.597Z"
   },
   {
    "duration": 26,
    "start_time": "2022-05-05T19:36:04.567Z"
   },
   {
    "duration": 15,
    "start_time": "2022-05-05T19:36:34.206Z"
   },
   {
    "duration": 3,
    "start_time": "2022-05-05T19:36:40.293Z"
   },
   {
    "duration": 10,
    "start_time": "2022-05-05T19:36:49.158Z"
   },
   {
    "duration": 25,
    "start_time": "2022-05-05T19:36:49.760Z"
   },
   {
    "duration": 8,
    "start_time": "2022-05-05T19:37:03.175Z"
   },
   {
    "duration": 2524,
    "start_time": "2022-05-05T19:37:10.874Z"
   },
   {
    "duration": 5,
    "start_time": "2022-05-05T19:37:19.255Z"
   },
   {
    "duration": 95,
    "start_time": "2022-05-05T19:37:19.263Z"
   },
   {
    "duration": 40,
    "start_time": "2022-05-05T19:37:19.360Z"
   },
   {
    "duration": 22,
    "start_time": "2022-05-05T19:37:19.402Z"
   },
   {
    "duration": 41,
    "start_time": "2022-05-05T19:37:19.426Z"
   },
   {
    "duration": 26,
    "start_time": "2022-05-05T19:37:19.469Z"
   },
   {
    "duration": 33,
    "start_time": "2022-05-05T19:37:19.599Z"
   },
   {
    "duration": 16,
    "start_time": "2022-05-05T19:37:20.031Z"
   },
   {
    "duration": 14,
    "start_time": "2022-05-05T19:37:20.955Z"
   },
   {
    "duration": 18,
    "start_time": "2022-05-05T19:37:21.522Z"
   },
   {
    "duration": 25,
    "start_time": "2022-05-05T19:37:25.451Z"
   },
   {
    "duration": 10,
    "start_time": "2022-05-05T19:37:26.824Z"
   },
   {
    "duration": 7,
    "start_time": "2022-05-05T19:37:31.956Z"
   },
   {
    "duration": 4,
    "start_time": "2022-05-05T19:37:38.024Z"
   },
   {
    "duration": 6,
    "start_time": "2022-05-05T19:37:39.607Z"
   },
   {
    "duration": 14,
    "start_time": "2022-05-05T19:37:43.214Z"
   },
   {
    "duration": 14,
    "start_time": "2022-05-05T19:37:45.676Z"
   },
   {
    "duration": 7,
    "start_time": "2022-05-05T19:38:09.621Z"
   },
   {
    "duration": 3,
    "start_time": "2022-05-05T19:38:29.810Z"
   },
   {
    "duration": 105,
    "start_time": "2022-05-05T19:38:29.979Z"
   },
   {
    "duration": 34,
    "start_time": "2022-05-05T19:38:30.086Z"
   },
   {
    "duration": 24,
    "start_time": "2022-05-05T19:38:30.227Z"
   },
   {
    "duration": 27,
    "start_time": "2022-05-05T19:38:30.319Z"
   },
   {
    "duration": 21,
    "start_time": "2022-05-05T19:38:30.396Z"
   },
   {
    "duration": 9,
    "start_time": "2022-05-05T19:38:30.482Z"
   },
   {
    "duration": 15,
    "start_time": "2022-05-05T19:38:30.569Z"
   },
   {
    "duration": 13,
    "start_time": "2022-05-05T19:38:30.731Z"
   },
   {
    "duration": 15,
    "start_time": "2022-05-05T19:38:30.817Z"
   },
   {
    "duration": 27,
    "start_time": "2022-05-05T19:38:31.067Z"
   },
   {
    "duration": 18,
    "start_time": "2022-05-05T19:38:31.252Z"
   },
   {
    "duration": 9,
    "start_time": "2022-05-05T19:38:31.408Z"
   },
   {
    "duration": 4,
    "start_time": "2022-05-05T19:38:31.514Z"
   },
   {
    "duration": 8,
    "start_time": "2022-05-05T19:38:32.325Z"
   },
   {
    "duration": 14,
    "start_time": "2022-05-05T19:38:32.578Z"
   },
   {
    "duration": 19,
    "start_time": "2022-05-05T19:38:32.664Z"
   },
   {
    "duration": 9,
    "start_time": "2022-05-05T19:38:34.234Z"
   },
   {
    "duration": 39,
    "start_time": "2022-05-05T19:38:40.264Z"
   },
   {
    "duration": 9,
    "start_time": "2022-05-05T19:39:44.793Z"
   },
   {
    "duration": 53,
    "start_time": "2022-05-05T19:39:46.976Z"
   },
   {
    "duration": 50,
    "start_time": "2022-05-05T19:39:55.357Z"
   },
   {
    "duration": 48,
    "start_time": "2022-05-05T19:40:01.502Z"
   },
   {
    "duration": 15,
    "start_time": "2022-05-05T19:41:02.889Z"
   },
   {
    "duration": 13,
    "start_time": "2022-05-05T19:41:07.609Z"
   },
   {
    "duration": 9,
    "start_time": "2022-05-05T19:41:30.257Z"
   },
   {
    "duration": 9,
    "start_time": "2022-05-05T19:42:15.872Z"
   },
   {
    "duration": 158,
    "start_time": "2022-05-05T19:42:28.261Z"
   },
   {
    "duration": 12,
    "start_time": "2022-05-05T19:42:32.941Z"
   },
   {
    "duration": 2792,
    "start_time": "2022-05-05T19:44:57.887Z"
   },
   {
    "duration": 2793,
    "start_time": "2022-05-05T19:45:19.758Z"
   },
   {
    "duration": 1463,
    "start_time": "2022-05-06T15:19:41.432Z"
   },
   {
    "duration": 81,
    "start_time": "2022-05-06T15:19:42.898Z"
   },
   {
    "duration": 23,
    "start_time": "2022-05-06T15:19:42.981Z"
   },
   {
    "duration": 21,
    "start_time": "2022-05-06T15:19:44.223Z"
   },
   {
    "duration": 17,
    "start_time": "2022-05-06T15:19:44.921Z"
   },
   {
    "duration": 20,
    "start_time": "2022-05-06T15:19:45.374Z"
   },
   {
    "duration": 8,
    "start_time": "2022-05-06T15:19:45.760Z"
   },
   {
    "duration": 12,
    "start_time": "2022-05-06T15:19:46.236Z"
   },
   {
    "duration": 10,
    "start_time": "2022-05-06T15:19:47.313Z"
   },
   {
    "duration": 15,
    "start_time": "2022-05-06T15:19:48.722Z"
   },
   {
    "duration": 18,
    "start_time": "2022-05-06T15:19:54.560Z"
   },
   {
    "duration": 13,
    "start_time": "2022-05-06T15:19:56.075Z"
   },
   {
    "duration": 6,
    "start_time": "2022-05-06T15:19:56.908Z"
   },
   {
    "duration": 4,
    "start_time": "2022-05-06T15:19:57.898Z"
   },
   {
    "duration": 6,
    "start_time": "2022-05-06T15:19:59.630Z"
   },
   {
    "duration": 13,
    "start_time": "2022-05-06T15:20:01.883Z"
   },
   {
    "duration": 14,
    "start_time": "2022-05-06T15:20:29.719Z"
   },
   {
    "duration": 11,
    "start_time": "2022-05-06T15:20:34.152Z"
   },
   {
    "duration": 3278,
    "start_time": "2022-05-06T15:20:37.498Z"
   },
   {
    "duration": 6,
    "start_time": "2022-05-06T15:21:10.293Z"
   },
   {
    "duration": 7,
    "start_time": "2022-05-06T15:21:17.834Z"
   },
   {
    "duration": 30,
    "start_time": "2022-05-06T15:21:25.220Z"
   },
   {
    "duration": 12,
    "start_time": "2022-05-06T15:22:36.394Z"
   },
   {
    "duration": 19,
    "start_time": "2022-05-06T15:22:45.247Z"
   },
   {
    "duration": 6,
    "start_time": "2022-05-06T15:24:57.701Z"
   },
   {
    "duration": 4,
    "start_time": "2022-05-06T15:25:05.975Z"
   },
   {
    "duration": 5,
    "start_time": "2022-05-06T15:25:21.094Z"
   },
   {
    "duration": 6,
    "start_time": "2022-05-06T15:25:23.036Z"
   },
   {
    "duration": 5,
    "start_time": "2022-05-06T15:25:23.391Z"
   },
   {
    "duration": 30,
    "start_time": "2022-05-06T15:25:29.790Z"
   },
   {
    "duration": 8,
    "start_time": "2022-05-06T15:25:34.882Z"
   },
   {
    "duration": 27,
    "start_time": "2022-05-06T15:25:37.556Z"
   },
   {
    "duration": 4,
    "start_time": "2022-05-06T15:25:44.639Z"
   },
   {
    "duration": 4,
    "start_time": "2022-05-06T15:25:47.211Z"
   },
   {
    "duration": 18,
    "start_time": "2022-05-06T15:25:47.797Z"
   },
   {
    "duration": 3,
    "start_time": "2022-05-06T15:25:48.517Z"
   },
   {
    "duration": 25,
    "start_time": "2022-05-06T15:25:50.767Z"
   },
   {
    "duration": 20,
    "start_time": "2022-05-06T15:25:53.973Z"
   },
   {
    "duration": 4,
    "start_time": "2022-05-06T15:26:00.281Z"
   },
   {
    "duration": 21,
    "start_time": "2022-05-06T15:26:00.835Z"
   },
   {
    "duration": 8,
    "start_time": "2022-05-06T15:26:12.990Z"
   },
   {
    "duration": 5,
    "start_time": "2022-05-06T15:26:21.683Z"
   },
   {
    "duration": 158,
    "start_time": "2022-05-06T15:27:26.618Z"
   },
   {
    "duration": 114,
    "start_time": "2022-05-06T15:27:42.023Z"
   },
   {
    "duration": 149,
    "start_time": "2022-05-06T15:27:56.895Z"
   },
   {
    "duration": 7,
    "start_time": "2022-05-06T15:28:09.475Z"
   },
   {
    "duration": 168,
    "start_time": "2022-05-06T15:28:53.898Z"
   },
   {
    "duration": 246,
    "start_time": "2022-05-06T15:29:12.646Z"
   },
   {
    "duration": 186,
    "start_time": "2022-05-06T15:29:26.180Z"
   },
   {
    "duration": 11,
    "start_time": "2022-05-06T15:29:31.480Z"
   },
   {
    "duration": 194,
    "start_time": "2022-05-06T15:29:53.370Z"
   },
   {
    "duration": 4,
    "start_time": "2022-05-06T15:30:56.602Z"
   },
   {
    "duration": 4,
    "start_time": "2022-05-06T15:31:05.434Z"
   },
   {
    "duration": 10,
    "start_time": "2022-05-06T15:31:13.399Z"
   },
   {
    "duration": 9,
    "start_time": "2022-05-06T15:31:34.159Z"
   },
   {
    "duration": 7,
    "start_time": "2022-05-06T15:32:33.608Z"
   },
   {
    "duration": 142,
    "start_time": "2022-05-06T15:32:40.752Z"
   },
   {
    "duration": 186,
    "start_time": "2022-05-06T15:32:51.362Z"
   },
   {
    "duration": 144,
    "start_time": "2022-05-06T15:32:59.436Z"
   },
   {
    "duration": 157,
    "start_time": "2022-05-06T15:35:09.065Z"
   },
   {
    "duration": 161,
    "start_time": "2022-05-06T15:35:32.082Z"
   },
   {
    "duration": 160,
    "start_time": "2022-05-06T15:36:07.484Z"
   },
   {
    "duration": 7,
    "start_time": "2022-05-06T16:28:18.796Z"
   },
   {
    "duration": 139,
    "start_time": "2022-05-06T16:29:18.083Z"
   },
   {
    "duration": 143,
    "start_time": "2022-05-06T16:29:29.694Z"
   },
   {
    "duration": 144,
    "start_time": "2022-05-06T16:29:38.748Z"
   },
   {
    "duration": 144,
    "start_time": "2022-05-06T16:29:47.299Z"
   },
   {
    "duration": 139,
    "start_time": "2022-05-06T16:30:09.643Z"
   },
   {
    "duration": 137,
    "start_time": "2022-05-06T16:30:22.317Z"
   },
   {
    "duration": 138,
    "start_time": "2022-05-06T16:30:29.439Z"
   },
   {
    "duration": 248,
    "start_time": "2022-05-06T16:30:36.216Z"
   },
   {
    "duration": 161,
    "start_time": "2022-05-06T16:31:03.156Z"
   },
   {
    "duration": 167,
    "start_time": "2022-05-06T16:31:08.690Z"
   },
   {
    "duration": 164,
    "start_time": "2022-05-06T16:31:12.734Z"
   },
   {
    "duration": 156,
    "start_time": "2022-05-06T16:31:18.707Z"
   },
   {
    "duration": 162,
    "start_time": "2022-05-06T16:31:22.449Z"
   },
   {
    "duration": 157,
    "start_time": "2022-05-06T16:31:37.428Z"
   },
   {
    "duration": 164,
    "start_time": "2022-05-06T16:32:31.583Z"
   },
   {
    "duration": 160,
    "start_time": "2022-05-06T16:32:37.846Z"
   },
   {
    "duration": 165,
    "start_time": "2022-05-06T16:32:52.385Z"
   },
   {
    "duration": 1139,
    "start_time": "2022-05-08T09:02:24.672Z"
   },
   {
    "duration": 78,
    "start_time": "2022-05-08T09:02:25.814Z"
   },
   {
    "duration": 29,
    "start_time": "2022-05-08T09:02:25.894Z"
   },
   {
    "duration": 20,
    "start_time": "2022-05-08T09:02:25.925Z"
   },
   {
    "duration": 16,
    "start_time": "2022-05-08T09:02:25.946Z"
   },
   {
    "duration": 19,
    "start_time": "2022-05-08T09:02:25.963Z"
   },
   {
    "duration": 7,
    "start_time": "2022-05-08T09:02:25.984Z"
   },
   {
    "duration": 28,
    "start_time": "2022-05-08T09:02:25.992Z"
   },
   {
    "duration": 9,
    "start_time": "2022-05-08T09:02:26.022Z"
   },
   {
    "duration": 14,
    "start_time": "2022-05-08T09:02:26.034Z"
   },
   {
    "duration": 16,
    "start_time": "2022-05-08T09:02:26.049Z"
   },
   {
    "duration": 48,
    "start_time": "2022-05-08T09:02:26.066Z"
   },
   {
    "duration": 6,
    "start_time": "2022-05-08T09:02:26.117Z"
   },
   {
    "duration": 5,
    "start_time": "2022-05-08T09:02:26.124Z"
   },
   {
    "duration": 7,
    "start_time": "2022-05-08T09:02:26.131Z"
   },
   {
    "duration": 11,
    "start_time": "2022-05-08T09:02:26.139Z"
   },
   {
    "duration": 10,
    "start_time": "2022-05-08T09:02:26.152Z"
   },
   {
    "duration": 47,
    "start_time": "2022-05-08T09:02:26.163Z"
   },
   {
    "duration": 34,
    "start_time": "2022-05-08T09:02:26.213Z"
   },
   {
    "duration": 8,
    "start_time": "2022-05-08T09:02:26.248Z"
   },
   {
    "duration": 14,
    "start_time": "2022-05-08T09:02:26.257Z"
   },
   {
    "duration": 36,
    "start_time": "2022-05-08T09:02:26.273Z"
   },
   {
    "duration": 11,
    "start_time": "2022-05-08T09:02:26.311Z"
   },
   {
    "duration": 11,
    "start_time": "2022-05-08T09:02:26.325Z"
   },
   {
    "duration": 6,
    "start_time": "2022-05-08T09:02:26.338Z"
   },
   {
    "duration": 5,
    "start_time": "2022-05-08T09:02:26.346Z"
   },
   {
    "duration": 6,
    "start_time": "2022-05-08T09:02:26.353Z"
   },
   {
    "duration": 73,
    "start_time": "2022-05-08T09:02:26.362Z"
   },
   {
    "duration": 7,
    "start_time": "2022-05-08T09:02:26.436Z"
   },
   {
    "duration": 27,
    "start_time": "2022-05-08T09:02:26.445Z"
   },
   {
    "duration": 4,
    "start_time": "2022-05-08T09:02:26.474Z"
   },
   {
    "duration": 34,
    "start_time": "2022-05-08T09:02:26.480Z"
   },
   {
    "duration": 20,
    "start_time": "2022-05-08T09:02:26.516Z"
   },
   {
    "duration": 3,
    "start_time": "2022-05-08T09:02:26.538Z"
   },
   {
    "duration": 23,
    "start_time": "2022-05-08T09:02:26.542Z"
   },
   {
    "duration": 43,
    "start_time": "2022-05-08T09:02:26.566Z"
   },
   {
    "duration": 11,
    "start_time": "2022-05-08T09:02:26.614Z"
   },
   {
    "duration": 19,
    "start_time": "2022-05-08T09:02:26.627Z"
   },
   {
    "duration": 176,
    "start_time": "2022-05-08T09:02:26.647Z"
   },
   {
    "duration": 5,
    "start_time": "2022-05-08T09:02:26.826Z"
   },
   {
    "duration": 189,
    "start_time": "2022-05-08T09:02:26.832Z"
   },
   {
    "duration": 7,
    "start_time": "2022-05-08T09:02:27.022Z"
   },
   {
    "duration": 22,
    "start_time": "2022-05-08T09:02:27.030Z"
   },
   {
    "duration": 12,
    "start_time": "2022-05-08T09:02:27.053Z"
   },
   {
    "duration": 360,
    "start_time": "2022-05-08T09:02:27.067Z"
   },
   {
    "duration": 17,
    "start_time": "2022-05-08T09:02:27.428Z"
   },
   {
    "duration": 8,
    "start_time": "2022-05-08T09:02:27.447Z"
   },
   {
    "duration": 9,
    "start_time": "2022-05-08T09:02:27.457Z"
   },
   {
    "duration": 8,
    "start_time": "2022-05-08T09:02:27.468Z"
   },
   {
    "duration": 14,
    "start_time": "2022-05-08T09:02:27.508Z"
   },
   {
    "duration": 8,
    "start_time": "2022-05-08T09:02:27.524Z"
   },
   {
    "duration": 11,
    "start_time": "2022-05-08T09:20:51.668Z"
   },
   {
    "duration": 9,
    "start_time": "2022-05-08T09:34:05.936Z"
   },
   {
    "duration": 9,
    "start_time": "2022-05-08T09:42:55.967Z"
   },
   {
    "duration": 1147,
    "start_time": "2022-05-08T10:23:44.458Z"
   },
   {
    "duration": 72,
    "start_time": "2022-05-08T10:23:45.607Z"
   },
   {
    "duration": 24,
    "start_time": "2022-05-08T10:23:45.681Z"
   },
   {
    "duration": 18,
    "start_time": "2022-05-08T10:23:45.707Z"
   },
   {
    "duration": 15,
    "start_time": "2022-05-08T10:23:45.728Z"
   },
   {
    "duration": 19,
    "start_time": "2022-05-08T10:23:45.745Z"
   },
   {
    "duration": 7,
    "start_time": "2022-05-08T10:23:45.766Z"
   },
   {
    "duration": 14,
    "start_time": "2022-05-08T10:23:45.808Z"
   },
   {
    "duration": 12,
    "start_time": "2022-05-08T10:23:45.824Z"
   },
   {
    "duration": 15,
    "start_time": "2022-05-08T10:23:45.838Z"
   },
   {
    "duration": 16,
    "start_time": "2022-05-08T10:23:45.855Z"
   },
   {
    "duration": 40,
    "start_time": "2022-05-08T10:23:45.873Z"
   },
   {
    "duration": 6,
    "start_time": "2022-05-08T10:23:45.915Z"
   },
   {
    "duration": 5,
    "start_time": "2022-05-08T10:23:45.924Z"
   },
   {
    "duration": 7,
    "start_time": "2022-05-08T10:23:45.930Z"
   },
   {
    "duration": 11,
    "start_time": "2022-05-08T10:23:45.938Z"
   },
   {
    "duration": 10,
    "start_time": "2022-05-08T10:23:45.951Z"
   },
   {
    "duration": 45,
    "start_time": "2022-05-08T10:23:45.963Z"
   },
   {
    "duration": 30,
    "start_time": "2022-05-08T10:23:46.010Z"
   },
   {
    "duration": 8,
    "start_time": "2022-05-08T10:23:46.042Z"
   },
   {
    "duration": 15,
    "start_time": "2022-05-08T10:23:46.052Z"
   },
   {
    "duration": 5,
    "start_time": "2022-05-08T10:23:46.069Z"
   },
   {
    "duration": 34,
    "start_time": "2022-05-08T10:23:46.076Z"
   },
   {
    "duration": 13,
    "start_time": "2022-05-08T10:23:46.112Z"
   },
   {
    "duration": 7,
    "start_time": "2022-05-08T10:23:46.127Z"
   },
   {
    "duration": 6,
    "start_time": "2022-05-08T10:23:46.135Z"
   },
   {
    "duration": 7,
    "start_time": "2022-05-08T10:23:46.142Z"
   },
   {
    "duration": 67,
    "start_time": "2022-05-08T10:23:46.150Z"
   },
   {
    "duration": 8,
    "start_time": "2022-05-08T10:23:46.218Z"
   },
   {
    "duration": 28,
    "start_time": "2022-05-08T10:23:46.228Z"
   },
   {
    "duration": 6,
    "start_time": "2022-05-08T10:23:46.258Z"
   },
   {
    "duration": 41,
    "start_time": "2022-05-08T10:23:46.266Z"
   },
   {
    "duration": 19,
    "start_time": "2022-05-08T10:23:46.309Z"
   },
   {
    "duration": 8,
    "start_time": "2022-05-08T10:23:46.330Z"
   },
   {
    "duration": 24,
    "start_time": "2022-05-08T10:23:46.340Z"
   },
   {
    "duration": 42,
    "start_time": "2022-05-08T10:23:46.366Z"
   },
   {
    "duration": 5,
    "start_time": "2022-05-08T10:23:46.410Z"
   },
   {
    "duration": 21,
    "start_time": "2022-05-08T10:23:46.417Z"
   },
   {
    "duration": 197,
    "start_time": "2022-05-08T10:23:46.441Z"
   },
   {
    "duration": 6,
    "start_time": "2022-05-08T10:23:46.640Z"
   },
   {
    "duration": 172,
    "start_time": "2022-05-08T10:23:46.650Z"
   },
   {
    "duration": 7,
    "start_time": "2022-05-08T10:23:46.823Z"
   },
   {
    "duration": 24,
    "start_time": "2022-05-08T10:23:46.832Z"
   },
   {
    "duration": 13,
    "start_time": "2022-05-08T10:23:46.858Z"
   },
   {
    "duration": 342,
    "start_time": "2022-05-08T10:23:46.873Z"
   },
   {
    "duration": 17,
    "start_time": "2022-05-08T10:23:47.217Z"
   },
   {
    "duration": 8,
    "start_time": "2022-05-08T10:23:47.236Z"
   },
   {
    "duration": 8,
    "start_time": "2022-05-08T10:23:47.245Z"
   },
   {
    "duration": 7,
    "start_time": "2022-05-08T10:23:47.255Z"
   },
   {
    "duration": 46,
    "start_time": "2022-05-08T10:23:47.264Z"
   },
   {
    "duration": 9,
    "start_time": "2022-05-08T10:23:47.312Z"
   },
   {
    "duration": 1533,
    "start_time": "2022-05-08T22:13:08.240Z"
   },
   {
    "duration": 110,
    "start_time": "2022-05-08T22:13:10.240Z"
   },
   {
    "duration": 41,
    "start_time": "2022-05-08T22:13:10.913Z"
   },
   {
    "duration": 18,
    "start_time": "2022-05-08T22:13:14.276Z"
   },
   {
    "duration": 17,
    "start_time": "2022-05-08T22:13:15.301Z"
   },
   {
    "duration": 16,
    "start_time": "2022-05-08T22:13:16.357Z"
   },
   {
    "duration": 6,
    "start_time": "2022-05-08T22:13:18.322Z"
   },
   {
    "duration": 10,
    "start_time": "2022-05-08T22:13:24.482Z"
   },
   {
    "duration": 7,
    "start_time": "2022-05-08T22:13:48.551Z"
   },
   {
    "duration": 252,
    "start_time": "2022-05-08T22:15:32.907Z"
   },
   {
    "duration": 78,
    "start_time": "2022-05-08T22:15:44.451Z"
   },
   {
    "duration": 1878,
    "start_time": "2022-05-11T16:46:33.862Z"
   },
   {
    "duration": 125,
    "start_time": "2022-05-11T16:46:35.743Z"
   },
   {
    "duration": 19,
    "start_time": "2022-05-11T16:46:36.704Z"
   },
   {
    "duration": 20,
    "start_time": "2022-05-11T16:46:38.224Z"
   },
   {
    "duration": 27,
    "start_time": "2022-05-11T16:46:38.823Z"
   },
   {
    "duration": 27,
    "start_time": "2022-05-11T16:46:39.819Z"
   },
   {
    "duration": 8,
    "start_time": "2022-05-11T16:46:40.462Z"
   },
   {
    "duration": 14,
    "start_time": "2022-05-11T16:46:43.943Z"
   },
   {
    "duration": 7,
    "start_time": "2022-05-11T16:46:44.894Z"
   },
   {
    "duration": 115,
    "start_time": "2022-05-11T16:47:15.833Z"
   },
   {
    "duration": 17,
    "start_time": "2022-05-11T16:58:14.056Z"
   },
   {
    "duration": 5,
    "start_time": "2022-05-11T16:59:28.883Z"
   },
   {
    "duration": 10,
    "start_time": "2022-05-11T16:59:34.551Z"
   },
   {
    "duration": 1500,
    "start_time": "2022-05-11T17:00:02.198Z"
   },
   {
    "duration": 137,
    "start_time": "2022-05-11T17:00:35.286Z"
   },
   {
    "duration": 9,
    "start_time": "2022-05-11T17:02:30.129Z"
   },
   {
    "duration": 17,
    "start_time": "2022-05-11T17:02:53.812Z"
   },
   {
    "duration": 3,
    "start_time": "2022-05-11T17:03:10.053Z"
   },
   {
    "duration": 71,
    "start_time": "2022-05-11T17:03:11.458Z"
   },
   {
    "duration": 21,
    "start_time": "2022-05-11T17:03:12.201Z"
   },
   {
    "duration": 16,
    "start_time": "2022-05-11T17:03:12.836Z"
   },
   {
    "duration": 18,
    "start_time": "2022-05-11T17:03:13.046Z"
   },
   {
    "duration": 18,
    "start_time": "2022-05-11T17:03:14.046Z"
   },
   {
    "duration": 8,
    "start_time": "2022-05-11T17:03:14.854Z"
   },
   {
    "duration": 10,
    "start_time": "2022-05-11T17:03:17.614Z"
   },
   {
    "duration": 11,
    "start_time": "2022-05-11T17:03:23.223Z"
   },
   {
    "duration": 19,
    "start_time": "2022-05-11T17:03:25.438Z"
   },
   {
    "duration": 1481,
    "start_time": "2022-05-11T17:04:28.331Z"
   },
   {
    "duration": 112,
    "start_time": "2022-05-11T17:04:30.397Z"
   },
   {
    "duration": 21,
    "start_time": "2022-05-11T17:04:31.239Z"
   },
   {
    "duration": 20,
    "start_time": "2022-05-11T17:04:33.055Z"
   },
   {
    "duration": 17,
    "start_time": "2022-05-11T17:04:35.963Z"
   },
   {
    "duration": 20,
    "start_time": "2022-05-11T17:04:36.446Z"
   },
   {
    "duration": 22,
    "start_time": "2022-05-11T17:04:42.805Z"
   },
   {
    "duration": 12,
    "start_time": "2022-05-11T17:04:52.477Z"
   },
   {
    "duration": 4,
    "start_time": "2022-05-11T17:04:57.813Z"
   },
   {
    "duration": 13,
    "start_time": "2022-05-11T17:04:58.249Z"
   },
   {
    "duration": 19,
    "start_time": "2022-05-11T17:04:59.712Z"
   },
   {
    "duration": 683,
    "start_time": "2022-05-11T17:05:43.286Z"
   },
   {
    "duration": 6,
    "start_time": "2022-05-11T17:07:44.192Z"
   },
   {
    "duration": 17,
    "start_time": "2022-05-11T17:07:47.969Z"
   },
   {
    "duration": 5,
    "start_time": "2022-05-11T17:08:35.498Z"
   },
   {
    "duration": 21,
    "start_time": "2022-05-11T17:08:39.032Z"
   },
   {
    "duration": 5,
    "start_time": "2022-05-11T17:08:51.762Z"
   },
   {
    "duration": 18,
    "start_time": "2022-05-11T17:08:53.783Z"
   },
   {
    "duration": 6,
    "start_time": "2022-05-11T17:09:03.487Z"
   },
   {
    "duration": 17,
    "start_time": "2022-05-11T17:09:05.405Z"
   },
   {
    "duration": 5,
    "start_time": "2022-05-11T17:09:11.629Z"
   },
   {
    "duration": 17,
    "start_time": "2022-05-11T17:09:13.278Z"
   },
   {
    "duration": 560,
    "start_time": "2022-05-11T17:09:20.701Z"
   },
   {
    "duration": 1442,
    "start_time": "2022-05-11T17:09:49.737Z"
   },
   {
    "duration": 78,
    "start_time": "2022-05-11T17:09:51.181Z"
   },
   {
    "duration": 21,
    "start_time": "2022-05-11T17:09:51.261Z"
   },
   {
    "duration": 25,
    "start_time": "2022-05-11T17:09:53.897Z"
   },
   {
    "duration": 20,
    "start_time": "2022-05-11T17:09:58.275Z"
   },
   {
    "duration": 1005,
    "start_time": "2022-05-11T17:10:01.554Z"
   },
   {
    "duration": 18,
    "start_time": "2022-05-11T17:10:06.876Z"
   },
   {
    "duration": 8,
    "start_time": "2022-05-11T17:11:02.303Z"
   },
   {
    "duration": 8,
    "start_time": "2022-05-11T17:11:11.766Z"
   },
   {
    "duration": 11,
    "start_time": "2022-05-11T17:11:15.064Z"
   },
   {
    "duration": 17,
    "start_time": "2022-05-11T17:11:17.724Z"
   },
   {
    "duration": 3,
    "start_time": "2022-05-11T17:11:30.917Z"
   },
   {
    "duration": 78,
    "start_time": "2022-05-11T17:11:32.661Z"
   },
   {
    "duration": 20,
    "start_time": "2022-05-11T17:11:33.253Z"
   },
   {
    "duration": 24,
    "start_time": "2022-05-11T17:11:35.065Z"
   },
   {
    "duration": 18,
    "start_time": "2022-05-11T17:11:35.632Z"
   },
   {
    "duration": 20,
    "start_time": "2022-05-11T17:11:37.010Z"
   },
   {
    "duration": 8,
    "start_time": "2022-05-11T17:11:37.763Z"
   },
   {
    "duration": 11,
    "start_time": "2022-05-11T17:11:39.767Z"
   },
   {
    "duration": 11,
    "start_time": "2022-05-11T17:11:40.366Z"
   },
   {
    "duration": 29,
    "start_time": "2022-05-11T17:15:22.463Z"
   },
   {
    "duration": 5,
    "start_time": "2022-05-11T17:17:29.745Z"
   },
   {
    "duration": 7,
    "start_time": "2022-05-11T17:17:31.658Z"
   },
   {
    "duration": 3,
    "start_time": "2022-05-11T17:17:56.850Z"
   },
   {
    "duration": 22,
    "start_time": "2022-05-11T17:17:58.256Z"
   },
   {
    "duration": 19,
    "start_time": "2022-05-11T17:18:27.102Z"
   },
   {
    "duration": 18,
    "start_time": "2022-05-11T17:19:24.347Z"
   },
   {
    "duration": 21,
    "start_time": "2022-05-11T17:19:24.781Z"
   },
   {
    "duration": 1628,
    "start_time": "2022-05-11T17:19:36.132Z"
   },
   {
    "duration": 77,
    "start_time": "2022-05-11T17:19:37.762Z"
   },
   {
    "duration": 26,
    "start_time": "2022-05-11T17:19:37.848Z"
   },
   {
    "duration": 20,
    "start_time": "2022-05-11T17:19:37.876Z"
   },
   {
    "duration": 18,
    "start_time": "2022-05-11T17:19:38.157Z"
   },
   {
    "duration": 24,
    "start_time": "2022-05-11T17:19:38.825Z"
   },
   {
    "duration": 9,
    "start_time": "2022-05-11T17:19:39.311Z"
   },
   {
    "duration": 11,
    "start_time": "2022-05-11T17:19:40.520Z"
   },
   {
    "duration": 26,
    "start_time": "2022-05-11T17:19:41.923Z"
   },
   {
    "duration": 9,
    "start_time": "2022-05-11T17:19:43.416Z"
   },
   {
    "duration": 7,
    "start_time": "2022-05-11T17:19:43.959Z"
   },
   {
    "duration": 3,
    "start_time": "2022-05-11T17:19:45.101Z"
   },
   {
    "duration": 24,
    "start_time": "2022-05-11T17:19:45.675Z"
   },
   {
    "duration": 29,
    "start_time": "2022-05-11T17:19:46.188Z"
   },
   {
    "duration": 3,
    "start_time": "2022-05-11T17:20:56.989Z"
   },
   {
    "duration": 75,
    "start_time": "2022-05-11T17:20:59.193Z"
   },
   {
    "duration": 25,
    "start_time": "2022-05-11T17:20:59.940Z"
   },
   {
    "duration": 21,
    "start_time": "2022-05-11T17:21:03.049Z"
   },
   {
    "duration": 25,
    "start_time": "2022-05-11T17:21:04.958Z"
   },
   {
    "duration": 18,
    "start_time": "2022-05-11T17:21:12.575Z"
   },
   {
    "duration": 8,
    "start_time": "2022-05-11T17:21:13.679Z"
   },
   {
    "duration": 12,
    "start_time": "2022-05-11T17:21:15.223Z"
   },
   {
    "duration": 19,
    "start_time": "2022-05-11T17:21:17.215Z"
   },
   {
    "duration": 7,
    "start_time": "2022-05-11T17:21:19.067Z"
   },
   {
    "duration": 8,
    "start_time": "2022-05-11T17:21:19.919Z"
   },
   {
    "duration": 3,
    "start_time": "2022-05-11T17:21:21.598Z"
   },
   {
    "duration": 18,
    "start_time": "2022-05-11T17:22:49.120Z"
   },
   {
    "duration": 23,
    "start_time": "2022-05-11T17:22:49.796Z"
   },
   {
    "duration": 120,
    "start_time": "2022-05-11T17:23:04.926Z"
   },
   {
    "duration": 9,
    "start_time": "2022-05-11T17:23:10.252Z"
   },
   {
    "duration": 6,
    "start_time": "2022-05-11T17:23:10.861Z"
   },
   {
    "duration": 21,
    "start_time": "2022-05-11T17:23:21.480Z"
   },
   {
    "duration": 25,
    "start_time": "2022-05-11T17:23:21.907Z"
   },
   {
    "duration": 13,
    "start_time": "2022-05-11T17:23:36.211Z"
   },
   {
    "duration": 18,
    "start_time": "2022-05-11T17:23:37.442Z"
   },
   {
    "duration": 15,
    "start_time": "2022-05-11T17:24:40.226Z"
   },
   {
    "duration": 3,
    "start_time": "2022-05-11T17:24:51.225Z"
   },
   {
    "duration": 82,
    "start_time": "2022-05-11T17:24:51.475Z"
   },
   {
    "duration": 20,
    "start_time": "2022-05-11T17:24:51.711Z"
   },
   {
    "duration": 17,
    "start_time": "2022-05-11T17:24:52.279Z"
   },
   {
    "duration": 17,
    "start_time": "2022-05-11T17:24:52.446Z"
   },
   {
    "duration": 19,
    "start_time": "2022-05-11T17:24:52.611Z"
   },
   {
    "duration": 8,
    "start_time": "2022-05-11T17:24:52.816Z"
   },
   {
    "duration": 11,
    "start_time": "2022-05-11T17:24:53.632Z"
   },
   {
    "duration": 16,
    "start_time": "2022-05-11T17:24:54.307Z"
   },
   {
    "duration": 18,
    "start_time": "2022-05-11T17:24:57.450Z"
   },
   {
    "duration": 5,
    "start_time": "2022-05-11T17:24:58.682Z"
   },
   {
    "duration": 5,
    "start_time": "2022-05-11T17:24:59.216Z"
   },
   {
    "duration": 3,
    "start_time": "2022-05-11T17:25:00.519Z"
   },
   {
    "duration": 117,
    "start_time": "2022-05-11T17:25:39.852Z"
   },
   {
    "duration": 4,
    "start_time": "2022-05-11T17:25:55.197Z"
   },
   {
    "duration": 73,
    "start_time": "2022-05-11T17:25:55.567Z"
   },
   {
    "duration": 22,
    "start_time": "2022-05-11T17:25:56.072Z"
   },
   {
    "duration": 18,
    "start_time": "2022-05-11T17:25:56.317Z"
   },
   {
    "duration": 17,
    "start_time": "2022-05-11T17:25:56.403Z"
   },
   {
    "duration": 19,
    "start_time": "2022-05-11T17:25:56.552Z"
   },
   {
    "duration": 8,
    "start_time": "2022-05-11T17:25:56.786Z"
   },
   {
    "duration": 10,
    "start_time": "2022-05-11T17:25:59.288Z"
   },
   {
    "duration": 17,
    "start_time": "2022-05-11T17:26:00.100Z"
   },
   {
    "duration": 18,
    "start_time": "2022-05-11T17:26:02.673Z"
   },
   {
    "duration": 6,
    "start_time": "2022-05-11T17:26:03.653Z"
   },
   {
    "duration": 5,
    "start_time": "2022-05-11T17:26:04.125Z"
   },
   {
    "duration": 2,
    "start_time": "2022-05-11T17:26:05.348Z"
   },
   {
    "duration": 20,
    "start_time": "2022-05-11T17:26:06.059Z"
   },
   {
    "duration": 16,
    "start_time": "2022-05-11T17:26:30.593Z"
   },
   {
    "duration": 17,
    "start_time": "2022-05-11T17:27:34.602Z"
   },
   {
    "duration": 19,
    "start_time": "2022-05-11T17:27:41.597Z"
   },
   {
    "duration": 29,
    "start_time": "2022-05-11T17:28:11.769Z"
   },
   {
    "duration": 16,
    "start_time": "2022-05-11T17:28:32.291Z"
   },
   {
    "duration": 16,
    "start_time": "2022-05-11T17:29:38.099Z"
   },
   {
    "duration": 15,
    "start_time": "2022-05-11T17:29:41.138Z"
   },
   {
    "duration": 18,
    "start_time": "2022-05-11T17:29:50.089Z"
   },
   {
    "duration": 17,
    "start_time": "2022-05-11T17:30:01.693Z"
   },
   {
    "duration": 21,
    "start_time": "2022-05-11T17:30:37.729Z"
   },
   {
    "duration": 10,
    "start_time": "2022-05-11T17:31:03.679Z"
   },
   {
    "duration": 28,
    "start_time": "2022-05-11T17:31:08.009Z"
   },
   {
    "duration": 11,
    "start_time": "2022-05-11T17:31:30.922Z"
   },
   {
    "duration": 41,
    "start_time": "2022-05-11T17:31:45.907Z"
   },
   {
    "duration": 4,
    "start_time": "2022-05-11T17:32:24.712Z"
   },
   {
    "duration": 91,
    "start_time": "2022-05-11T17:32:25.704Z"
   },
   {
    "duration": 22,
    "start_time": "2022-05-11T17:32:26.062Z"
   },
   {
    "duration": 16,
    "start_time": "2022-05-11T17:32:27.059Z"
   },
   {
    "duration": 25,
    "start_time": "2022-05-11T17:32:27.370Z"
   },
   {
    "duration": 24,
    "start_time": "2022-05-11T17:32:27.685Z"
   },
   {
    "duration": 10,
    "start_time": "2022-05-11T17:32:28.530Z"
   },
   {
    "duration": 11,
    "start_time": "2022-05-11T17:32:30.225Z"
   },
   {
    "duration": 25,
    "start_time": "2022-05-11T17:32:31.358Z"
   },
   {
    "duration": 17,
    "start_time": "2022-05-11T17:32:36.098Z"
   },
   {
    "duration": 16,
    "start_time": "2022-05-11T17:34:26.464Z"
   },
   {
    "duration": 1473,
    "start_time": "2022-05-11T17:34:42.603Z"
   },
   {
    "duration": 106,
    "start_time": "2022-05-11T17:34:44.079Z"
   },
   {
    "duration": 24,
    "start_time": "2022-05-11T17:34:44.187Z"
   },
   {
    "duration": 28,
    "start_time": "2022-05-11T17:34:44.214Z"
   },
   {
    "duration": 25,
    "start_time": "2022-05-11T17:34:44.243Z"
   },
   {
    "duration": 26,
    "start_time": "2022-05-11T17:34:44.271Z"
   },
   {
    "duration": 9,
    "start_time": "2022-05-11T17:34:44.306Z"
   },
   {
    "duration": 10,
    "start_time": "2022-05-11T17:34:46.809Z"
   },
   {
    "duration": 17,
    "start_time": "2022-05-11T17:34:47.454Z"
   },
   {
    "duration": 23,
    "start_time": "2022-05-11T17:34:49.123Z"
   },
   {
    "duration": 5,
    "start_time": "2022-05-11T17:34:50.292Z"
   },
   {
    "duration": 5,
    "start_time": "2022-05-11T17:34:51.033Z"
   },
   {
    "duration": 2,
    "start_time": "2022-05-11T17:34:52.624Z"
   },
   {
    "duration": 19,
    "start_time": "2022-05-11T17:34:53.538Z"
   },
   {
    "duration": 23,
    "start_time": "2022-05-11T17:34:55.246Z"
   },
   {
    "duration": 31,
    "start_time": "2022-05-11T17:40:49.197Z"
   },
   {
    "duration": 17,
    "start_time": "2022-05-11T17:42:49.684Z"
   },
   {
    "duration": 6,
    "start_time": "2022-05-11T17:44:09.112Z"
   },
   {
    "duration": 12,
    "start_time": "2022-05-11T17:44:28.248Z"
   },
   {
    "duration": 32,
    "start_time": "2022-05-11T17:44:41.959Z"
   },
   {
    "duration": 9,
    "start_time": "2022-05-11T17:45:52.172Z"
   },
   {
    "duration": 13,
    "start_time": "2022-05-11T17:45:59.413Z"
   },
   {
    "duration": 12,
    "start_time": "2022-05-11T17:46:04.157Z"
   },
   {
    "duration": 10,
    "start_time": "2022-05-11T17:48:47.203Z"
   },
   {
    "duration": 7,
    "start_time": "2022-05-11T17:49:45.227Z"
   },
   {
    "duration": 11,
    "start_time": "2022-05-11T17:49:53.018Z"
   },
   {
    "duration": 6,
    "start_time": "2022-05-11T17:54:48.920Z"
   },
   {
    "duration": 115,
    "start_time": "2022-05-11T17:55:21.630Z"
   },
   {
    "duration": 15,
    "start_time": "2022-05-11T17:55:27.551Z"
   },
   {
    "duration": 6,
    "start_time": "2022-05-11T17:55:32.196Z"
   },
   {
    "duration": 6,
    "start_time": "2022-05-11T17:56:00.016Z"
   },
   {
    "duration": 5,
    "start_time": "2022-05-11T17:56:20.550Z"
   },
   {
    "duration": 7,
    "start_time": "2022-05-11T17:56:35.646Z"
   },
   {
    "duration": 7,
    "start_time": "2022-05-11T17:56:58.924Z"
   },
   {
    "duration": 9,
    "start_time": "2022-05-11T17:57:10.845Z"
   },
   {
    "duration": 130,
    "start_time": "2022-05-11T17:59:22.233Z"
   },
   {
    "duration": 131,
    "start_time": "2022-05-11T18:26:23.513Z"
   },
   {
    "duration": 181,
    "start_time": "2022-05-11T18:31:49.219Z"
   },
   {
    "duration": 21,
    "start_time": "2022-05-11T18:32:00.315Z"
   },
   {
    "duration": 227,
    "start_time": "2022-05-11T18:32:14.577Z"
   },
   {
    "duration": 15,
    "start_time": "2022-05-11T18:33:10.216Z"
   },
   {
    "duration": 161,
    "start_time": "2022-05-11T18:33:16.444Z"
   },
   {
    "duration": 159,
    "start_time": "2022-05-11T18:33:58.090Z"
   },
   {
    "duration": 190,
    "start_time": "2022-05-11T18:34:12.169Z"
   },
   {
    "duration": 29,
    "start_time": "2022-05-11T18:35:46.186Z"
   },
   {
    "duration": 18,
    "start_time": "2022-05-11T18:35:54.357Z"
   },
   {
    "duration": 607,
    "start_time": "2022-05-11T18:36:41.359Z"
   },
   {
    "duration": 152,
    "start_time": "2022-05-11T18:38:19.571Z"
   },
   {
    "duration": 268,
    "start_time": "2022-05-11T18:38:34.960Z"
   },
   {
    "duration": 192,
    "start_time": "2022-05-11T18:38:47.209Z"
   },
   {
    "duration": 563,
    "start_time": "2022-05-11T18:39:00.827Z"
   },
   {
    "duration": 153,
    "start_time": "2022-05-11T18:47:05.928Z"
   },
   {
    "duration": 11,
    "start_time": "2022-05-11T18:48:07.557Z"
   },
   {
    "duration": 24,
    "start_time": "2022-05-11T18:48:08.282Z"
   },
   {
    "duration": 4,
    "start_time": "2022-05-11T18:48:09.705Z"
   },
   {
    "duration": 22,
    "start_time": "2022-05-11T18:48:10.385Z"
   },
   {
    "duration": 20,
    "start_time": "2022-05-11T18:48:11.431Z"
   },
   {
    "duration": 33,
    "start_time": "2022-05-11T18:49:09.223Z"
   },
   {
    "duration": 21,
    "start_time": "2022-05-11T18:49:09.873Z"
   },
   {
    "duration": 6,
    "start_time": "2022-05-11T18:49:15.668Z"
   },
   {
    "duration": 23,
    "start_time": "2022-05-11T18:49:16.213Z"
   },
   {
    "duration": 172,
    "start_time": "2022-05-11T18:49:54.688Z"
   },
   {
    "duration": 6,
    "start_time": "2022-05-11T18:49:57.741Z"
   },
   {
    "duration": 157,
    "start_time": "2022-05-11T18:51:40.897Z"
   },
   {
    "duration": 9,
    "start_time": "2022-05-11T18:54:01.332Z"
   },
   {
    "duration": 166,
    "start_time": "2022-05-11T18:54:12.913Z"
   },
   {
    "duration": 147,
    "start_time": "2022-05-11T18:54:30.387Z"
   },
   {
    "duration": 257,
    "start_time": "2022-05-11T18:54:41.401Z"
   },
   {
    "duration": 179,
    "start_time": "2022-05-11T18:55:26.123Z"
   },
   {
    "duration": 156,
    "start_time": "2022-05-11T18:57:24.461Z"
   },
   {
    "duration": 151,
    "start_time": "2022-05-11T18:59:57.662Z"
   },
   {
    "duration": 9,
    "start_time": "2022-05-11T19:00:12.729Z"
   },
   {
    "duration": 21,
    "start_time": "2022-05-11T19:00:36.918Z"
   },
   {
    "duration": 18,
    "start_time": "2022-05-11T19:01:56.407Z"
   },
   {
    "duration": 549,
    "start_time": "2022-05-11T19:08:59.423Z"
   },
   {
    "duration": 273,
    "start_time": "2022-05-11T19:09:15.260Z"
   },
   {
    "duration": 39,
    "start_time": "2022-05-11T19:12:54.357Z"
   },
   {
    "duration": 3,
    "start_time": "2022-05-11T19:13:35.565Z"
   },
   {
    "duration": 46,
    "start_time": "2022-05-11T19:13:41.883Z"
   },
   {
    "duration": 5,
    "start_time": "2022-05-11T19:13:56.384Z"
   },
   {
    "duration": 4,
    "start_time": "2022-05-11T19:14:02.494Z"
   },
   {
    "duration": 4,
    "start_time": "2022-05-11T19:14:03.190Z"
   },
   {
    "duration": 12,
    "start_time": "2022-05-11T19:14:10.641Z"
   },
   {
    "duration": 3,
    "start_time": "2022-05-11T19:15:00.617Z"
   },
   {
    "duration": 5,
    "start_time": "2022-05-11T19:15:01.249Z"
   },
   {
    "duration": 33,
    "start_time": "2022-05-11T19:15:02.700Z"
   },
   {
    "duration": 3,
    "start_time": "2022-05-11T19:15:18.247Z"
   },
   {
    "duration": 7,
    "start_time": "2022-05-11T19:15:18.539Z"
   },
   {
    "duration": 31,
    "start_time": "2022-05-11T19:15:19.025Z"
   },
   {
    "duration": 29,
    "start_time": "2022-05-11T19:15:42.960Z"
   },
   {
    "duration": 38,
    "start_time": "2022-05-11T19:16:25.681Z"
   },
   {
    "duration": 35,
    "start_time": "2022-05-11T19:16:42.998Z"
   },
   {
    "duration": 32,
    "start_time": "2022-05-11T19:17:36.121Z"
   },
   {
    "duration": 17,
    "start_time": "2022-05-11T19:17:54.119Z"
   },
   {
    "duration": 352,
    "start_time": "2022-05-11T19:18:21.159Z"
   },
   {
    "duration": 327,
    "start_time": "2022-05-11T19:18:34.377Z"
   },
   {
    "duration": 19,
    "start_time": "2022-05-11T19:19:00.643Z"
   },
   {
    "duration": 24,
    "start_time": "2022-05-11T19:19:33.366Z"
   },
   {
    "duration": 36,
    "start_time": "2022-05-11T19:19:50.000Z"
   },
   {
    "duration": 174,
    "start_time": "2022-05-11T19:20:20.041Z"
   },
   {
    "duration": 32,
    "start_time": "2022-05-11T19:20:38.740Z"
   },
   {
    "duration": 10,
    "start_time": "2022-05-11T19:22:19.967Z"
   },
   {
    "duration": 25,
    "start_time": "2022-05-11T19:22:33.239Z"
   },
   {
    "duration": 29,
    "start_time": "2022-05-11T19:23:42.722Z"
   },
   {
    "duration": 42,
    "start_time": "2022-05-11T19:24:04.528Z"
   },
   {
    "duration": 34,
    "start_time": "2022-05-11T19:25:25.372Z"
   },
   {
    "duration": 166,
    "start_time": "2022-05-11T19:25:36.455Z"
   },
   {
    "duration": 32,
    "start_time": "2022-05-11T19:29:45.178Z"
   },
   {
    "duration": 20,
    "start_time": "2022-05-11T19:30:14.352Z"
   },
   {
    "duration": 28,
    "start_time": "2022-05-11T19:30:41.170Z"
   },
   {
    "duration": 21,
    "start_time": "2022-05-11T19:30:54.276Z"
   },
   {
    "duration": 15,
    "start_time": "2022-05-11T19:31:05.664Z"
   },
   {
    "duration": 25,
    "start_time": "2022-05-11T19:31:47.816Z"
   },
   {
    "duration": 325,
    "start_time": "2022-05-11T19:32:03.103Z"
   },
   {
    "duration": 53,
    "start_time": "2022-05-11T19:33:37.518Z"
   },
   {
    "duration": 327,
    "start_time": "2022-05-11T19:38:59.781Z"
   },
   {
    "duration": 15,
    "start_time": "2022-05-11T19:43:12.157Z"
   },
   {
    "duration": 142,
    "start_time": "2022-05-11T19:43:36.319Z"
   },
   {
    "duration": 181,
    "start_time": "2022-05-11T19:43:46.206Z"
   },
   {
    "duration": 20,
    "start_time": "2022-05-11T19:45:27.797Z"
   },
   {
    "duration": 15,
    "start_time": "2022-05-11T19:47:37.307Z"
   },
   {
    "duration": 10,
    "start_time": "2022-05-11T19:47:45.594Z"
   },
   {
    "duration": 29,
    "start_time": "2022-05-11T19:48:05.255Z"
   },
   {
    "duration": 18,
    "start_time": "2022-05-11T19:48:10.825Z"
   },
   {
    "duration": 10,
    "start_time": "2022-05-11T19:48:28.226Z"
   },
   {
    "duration": 11,
    "start_time": "2022-05-11T19:48:57.973Z"
   },
   {
    "duration": 194,
    "start_time": "2022-05-11T19:49:26.795Z"
   },
   {
    "duration": 15,
    "start_time": "2022-05-11T19:51:53.879Z"
   },
   {
    "duration": 17,
    "start_time": "2022-05-11T19:52:12.152Z"
   },
   {
    "duration": 15,
    "start_time": "2022-05-11T19:52:14.906Z"
   },
   {
    "duration": 179,
    "start_time": "2022-05-11T19:52:22.043Z"
   },
   {
    "duration": 154,
    "start_time": "2022-05-11T19:52:27.671Z"
   },
   {
    "duration": 190,
    "start_time": "2022-05-11T19:52:34.283Z"
   },
   {
    "duration": 14,
    "start_time": "2022-05-11T19:52:41.393Z"
   },
   {
    "duration": 7,
    "start_time": "2022-05-11T19:52:56.957Z"
   },
   {
    "duration": 15,
    "start_time": "2022-05-11T19:53:03.677Z"
   },
   {
    "duration": 19,
    "start_time": "2022-05-11T19:53:11.753Z"
   },
   {
    "duration": 15,
    "start_time": "2022-05-11T19:53:30.594Z"
   },
   {
    "duration": 18,
    "start_time": "2022-05-11T19:53:57.140Z"
   },
   {
    "duration": 9,
    "start_time": "2022-05-11T19:54:07.973Z"
   },
   {
    "duration": 7,
    "start_time": "2022-05-11T19:54:17.638Z"
   },
   {
    "duration": 8,
    "start_time": "2022-05-11T19:54:33.331Z"
   },
   {
    "duration": 31,
    "start_time": "2022-05-11T19:54:41.667Z"
   },
   {
    "duration": 8,
    "start_time": "2022-05-11T19:54:54.153Z"
   },
   {
    "duration": 2712,
    "start_time": "2022-05-11T19:55:02.908Z"
   },
   {
    "duration": 27,
    "start_time": "2022-05-11T19:55:40.347Z"
   },
   {
    "duration": 34,
    "start_time": "2022-05-11T19:56:27.668Z"
   },
   {
    "duration": 20,
    "start_time": "2022-05-11T19:57:30.838Z"
   },
   {
    "duration": 7,
    "start_time": "2022-05-11T19:58:30.572Z"
   },
   {
    "duration": 17,
    "start_time": "2022-05-11T19:58:53.894Z"
   },
   {
    "duration": 15,
    "start_time": "2022-05-11T19:59:13.254Z"
   },
   {
    "duration": 11,
    "start_time": "2022-05-11T19:59:37.137Z"
   },
   {
    "duration": 9,
    "start_time": "2022-05-11T19:59:57.168Z"
   },
   {
    "duration": 158,
    "start_time": "2022-05-11T20:00:02.615Z"
   },
   {
    "duration": 234,
    "start_time": "2022-05-11T20:04:21.042Z"
   },
   {
    "duration": 5,
    "start_time": "2022-05-11T20:07:17.849Z"
   },
   {
    "duration": 170,
    "start_time": "2022-05-11T20:07:24.603Z"
   },
   {
    "duration": 4,
    "start_time": "2022-05-11T20:07:39.719Z"
   },
   {
    "duration": 190,
    "start_time": "2022-05-11T20:07:55.273Z"
   },
   {
    "duration": 160,
    "start_time": "2022-05-11T20:08:59.938Z"
   },
   {
    "duration": 1448,
    "start_time": "2022-05-12T06:40:41.794Z"
   },
   {
    "duration": 313,
    "start_time": "2022-05-12T06:40:43.244Z"
   },
   {
    "duration": 77,
    "start_time": "2022-05-12T06:40:43.559Z"
   },
   {
    "duration": 22,
    "start_time": "2022-05-12T06:40:43.639Z"
   },
   {
    "duration": 18,
    "start_time": "2022-05-12T06:40:43.663Z"
   },
   {
    "duration": 19,
    "start_time": "2022-05-12T06:40:43.683Z"
   },
   {
    "duration": 24,
    "start_time": "2022-05-12T06:40:43.704Z"
   },
   {
    "duration": 12,
    "start_time": "2022-05-12T06:40:43.730Z"
   },
   {
    "duration": 15,
    "start_time": "2022-05-12T06:40:43.744Z"
   },
   {
    "duration": 18,
    "start_time": "2022-05-12T06:40:43.761Z"
   },
   {
    "duration": 5,
    "start_time": "2022-05-12T06:40:43.780Z"
   },
   {
    "duration": 37,
    "start_time": "2022-05-12T06:40:43.786Z"
   },
   {
    "duration": 10,
    "start_time": "2022-05-12T06:40:43.825Z"
   },
   {
    "duration": 19,
    "start_time": "2022-05-12T06:40:43.836Z"
   },
   {
    "duration": 17,
    "start_time": "2022-05-12T06:40:43.857Z"
   },
   {
    "duration": 14,
    "start_time": "2022-05-12T06:40:43.876Z"
   },
   {
    "duration": 35,
    "start_time": "2022-05-12T06:40:43.892Z"
   },
   {
    "duration": 5,
    "start_time": "2022-05-12T06:40:43.930Z"
   },
   {
    "duration": 10,
    "start_time": "2022-05-12T06:40:43.938Z"
   },
   {
    "duration": 14,
    "start_time": "2022-05-12T06:40:43.950Z"
   },
   {
    "duration": 27,
    "start_time": "2022-05-12T06:40:43.966Z"
   },
   {
    "duration": 23,
    "start_time": "2022-05-12T06:40:43.994Z"
   },
   {
    "duration": 24,
    "start_time": "2022-05-12T06:40:44.019Z"
   },
   {
    "duration": 9,
    "start_time": "2022-05-12T06:40:44.045Z"
   },
   {
    "duration": 13,
    "start_time": "2022-05-12T06:40:44.055Z"
   },
   {
    "duration": 15,
    "start_time": "2022-05-12T06:40:44.070Z"
   },
   {
    "duration": 45,
    "start_time": "2022-05-12T06:40:44.087Z"
   },
   {
    "duration": 9,
    "start_time": "2022-05-12T06:40:44.136Z"
   },
   {
    "duration": 6,
    "start_time": "2022-05-12T06:40:44.147Z"
   },
   {
    "duration": 13,
    "start_time": "2022-05-12T06:40:44.155Z"
   },
   {
    "duration": 16,
    "start_time": "2022-05-12T06:40:44.170Z"
   },
   {
    "duration": 37,
    "start_time": "2022-05-12T06:40:44.188Z"
   },
   {
    "duration": 8,
    "start_time": "2022-05-12T06:40:44.228Z"
   },
   {
    "duration": 10,
    "start_time": "2022-05-12T06:40:44.237Z"
   },
   {
    "duration": 15,
    "start_time": "2022-05-12T06:40:44.248Z"
   },
   {
    "duration": 13,
    "start_time": "2022-05-12T06:40:44.265Z"
   },
   {
    "duration": 12,
    "start_time": "2022-05-12T06:40:44.280Z"
   },
   {
    "duration": 15,
    "start_time": "2022-05-12T06:40:44.294Z"
   },
   {
    "duration": 32,
    "start_time": "2022-05-12T06:40:44.323Z"
   },
   {
    "duration": 6,
    "start_time": "2022-05-12T06:40:44.357Z"
   },
   {
    "duration": 30,
    "start_time": "2022-05-12T06:40:44.365Z"
   },
   {
    "duration": 28,
    "start_time": "2022-05-12T06:40:44.397Z"
   },
   {
    "duration": 223,
    "start_time": "2022-05-12T06:40:44.427Z"
   },
   {
    "duration": 5,
    "start_time": "2022-05-12T06:40:44.651Z"
   },
   {
    "duration": 32,
    "start_time": "2022-05-12T06:40:44.657Z"
   },
   {
    "duration": 23,
    "start_time": "2022-05-12T06:40:44.691Z"
   },
   {
    "duration": 29,
    "start_time": "2022-05-12T06:40:44.716Z"
   },
   {
    "duration": 18,
    "start_time": "2022-05-12T06:40:44.747Z"
   },
   {
    "duration": 14,
    "start_time": "2022-05-12T06:40:44.767Z"
   },
   {
    "duration": 25,
    "start_time": "2022-05-12T06:40:44.783Z"
   },
   {
    "duration": 161,
    "start_time": "2022-05-12T06:40:44.810Z"
   },
   {
    "duration": 164,
    "start_time": "2022-05-12T06:40:44.973Z"
   },
   {
    "duration": 155,
    "start_time": "2022-05-12T06:40:45.139Z"
   },
   {
    "duration": 33,
    "start_time": "2022-05-12T06:40:45.297Z"
   },
   {
    "duration": 29,
    "start_time": "2022-05-12T06:40:45.332Z"
   },
   {
    "duration": 444,
    "start_time": "2022-05-12T06:40:45.363Z"
   },
   {
    "duration": 40,
    "start_time": "2022-05-12T06:40:45.810Z"
   },
   {
    "duration": 315,
    "start_time": "2022-05-12T06:40:45.852Z"
   },
   {
    "duration": 10,
    "start_time": "2022-05-12T06:40:46.169Z"
   },
   {
    "duration": 360,
    "start_time": "2022-05-12T06:40:46.181Z"
   },
   {
    "duration": 6,
    "start_time": "2022-05-12T06:40:46.543Z"
   },
   {
    "duration": 6,
    "start_time": "2022-05-12T06:40:46.550Z"
   },
   {
    "duration": 173,
    "start_time": "2022-05-12T06:40:46.558Z"
   },
   {
    "duration": 10,
    "start_time": "2022-05-12T06:40:46.733Z"
   },
   {
    "duration": 167,
    "start_time": "2022-05-12T06:40:46.745Z"
   },
   {
    "duration": 10,
    "start_time": "2022-05-12T06:40:46.923Z"
   },
   {
    "duration": 178,
    "start_time": "2022-05-12T06:40:46.934Z"
   },
   {
    "duration": 11,
    "start_time": "2022-05-12T06:40:47.122Z"
   },
   {
    "duration": 1207,
    "start_time": "2022-05-12T06:47:00.570Z"
   },
   {
    "duration": 80,
    "start_time": "2022-05-12T06:47:02.232Z"
   },
   {
    "duration": 37,
    "start_time": "2022-05-12T06:47:03.176Z"
   },
   {
    "duration": 27,
    "start_time": "2022-05-12T06:47:05.126Z"
   },
   {
    "duration": 17,
    "start_time": "2022-05-12T06:47:05.738Z"
   },
   {
    "duration": 19,
    "start_time": "2022-05-12T06:47:06.088Z"
   },
   {
    "duration": 8,
    "start_time": "2022-05-12T06:47:09.696Z"
   },
   {
    "duration": 10,
    "start_time": "2022-05-12T06:47:13.657Z"
   },
   {
    "duration": 18,
    "start_time": "2022-05-12T06:47:14.142Z"
   },
   {
    "duration": 26,
    "start_time": "2022-05-12T06:47:15.808Z"
   },
   {
    "duration": 6,
    "start_time": "2022-05-12T06:47:16.648Z"
   },
   {
    "duration": 6,
    "start_time": "2022-05-12T06:47:17.364Z"
   },
   {
    "duration": 1225,
    "start_time": "2022-05-12T06:47:32.748Z"
   },
   {
    "duration": 94,
    "start_time": "2022-05-12T06:47:33.976Z"
   },
   {
    "duration": 37,
    "start_time": "2022-05-12T06:47:34.072Z"
   },
   {
    "duration": 20,
    "start_time": "2022-05-12T06:47:34.404Z"
   },
   {
    "duration": 25,
    "start_time": "2022-05-12T06:47:34.630Z"
   },
   {
    "duration": 19,
    "start_time": "2022-05-12T06:47:34.853Z"
   },
   {
    "duration": 8,
    "start_time": "2022-05-12T06:47:35.140Z"
   },
   {
    "duration": 11,
    "start_time": "2022-05-12T06:47:36.076Z"
   },
   {
    "duration": 15,
    "start_time": "2022-05-12T06:47:37.004Z"
   },
   {
    "duration": 74,
    "start_time": "2022-05-12T06:47:45.420Z"
   },
   {
    "duration": 5,
    "start_time": "2022-05-12T06:47:49.396Z"
   },
   {
    "duration": 11,
    "start_time": "2022-05-12T06:48:08.053Z"
   },
   {
    "duration": 8,
    "start_time": "2022-05-12T06:49:43.085Z"
   },
   {
    "duration": 5,
    "start_time": "2022-05-12T06:50:21.114Z"
   },
   {
    "duration": 9,
    "start_time": "2022-05-12T06:50:31.746Z"
   },
   {
    "duration": 5,
    "start_time": "2022-05-12T06:52:03.731Z"
   },
   {
    "duration": 10,
    "start_time": "2022-05-12T06:52:04.848Z"
   },
   {
    "duration": 9,
    "start_time": "2022-05-12T06:52:13.938Z"
   },
   {
    "duration": 106,
    "start_time": "2022-05-12T06:53:22.457Z"
   },
   {
    "duration": 10,
    "start_time": "2022-05-12T06:53:58.871Z"
   },
   {
    "duration": 21,
    "start_time": "2022-05-12T06:54:18.320Z"
   },
   {
    "duration": 11,
    "start_time": "2022-05-12T06:54:30.439Z"
   },
   {
    "duration": 7,
    "start_time": "2022-05-12T06:54:37.480Z"
   },
   {
    "duration": 1245,
    "start_time": "2022-05-12T06:58:49.094Z"
   },
   {
    "duration": 76,
    "start_time": "2022-05-12T06:58:50.341Z"
   },
   {
    "duration": 37,
    "start_time": "2022-05-12T06:58:50.418Z"
   },
   {
    "duration": 18,
    "start_time": "2022-05-12T06:58:51.244Z"
   },
   {
    "duration": 14,
    "start_time": "2022-05-12T06:58:51.588Z"
   },
   {
    "duration": 17,
    "start_time": "2022-05-12T06:58:51.837Z"
   },
   {
    "duration": 7,
    "start_time": "2022-05-12T06:58:52.358Z"
   },
   {
    "duration": 10,
    "start_time": "2022-05-12T06:58:59.844Z"
   },
   {
    "duration": 16,
    "start_time": "2022-05-12T06:59:15.323Z"
   },
   {
    "duration": 5,
    "start_time": "2022-05-12T06:59:37.500Z"
   },
   {
    "duration": 5,
    "start_time": "2022-05-12T06:59:38.141Z"
   },
   {
    "duration": 6,
    "start_time": "2022-05-12T06:59:48.323Z"
   },
   {
    "duration": 5,
    "start_time": "2022-05-12T07:00:01.439Z"
   },
   {
    "duration": 6,
    "start_time": "2022-05-12T07:00:18.036Z"
   },
   {
    "duration": 5,
    "start_time": "2022-05-12T07:01:13.475Z"
   },
   {
    "duration": 1256,
    "start_time": "2022-05-12T07:10:36.915Z"
   },
   {
    "duration": 91,
    "start_time": "2022-05-12T07:10:38.173Z"
   },
   {
    "duration": 36,
    "start_time": "2022-05-12T07:10:38.265Z"
   },
   {
    "duration": 20,
    "start_time": "2022-05-12T07:10:38.303Z"
   },
   {
    "duration": 16,
    "start_time": "2022-05-12T07:10:38.369Z"
   },
   {
    "duration": 18,
    "start_time": "2022-05-12T07:10:41.409Z"
   },
   {
    "duration": 7,
    "start_time": "2022-05-12T07:10:43.706Z"
   },
   {
    "duration": 9,
    "start_time": "2022-05-12T07:10:44.538Z"
   },
   {
    "duration": 15,
    "start_time": "2022-05-12T07:10:46.497Z"
   },
   {
    "duration": 21,
    "start_time": "2022-05-12T07:10:48.009Z"
   },
   {
    "duration": 5,
    "start_time": "2022-05-12T07:10:49.881Z"
   },
   {
    "duration": 7,
    "start_time": "2022-05-12T07:11:29.530Z"
   },
   {
    "duration": 5,
    "start_time": "2022-05-12T07:11:34.888Z"
   },
   {
    "duration": 3,
    "start_time": "2022-05-12T07:11:50.953Z"
   },
   {
    "duration": 6,
    "start_time": "2022-05-12T07:12:39.906Z"
   },
   {
    "duration": 7,
    "start_time": "2022-05-12T07:13:08.561Z"
   },
   {
    "duration": 7,
    "start_time": "2022-05-12T07:14:34.295Z"
   },
   {
    "duration": 7,
    "start_time": "2022-05-12T07:15:35.423Z"
   },
   {
    "duration": 1206,
    "start_time": "2022-05-12T07:51:10.869Z"
   },
   {
    "duration": 81,
    "start_time": "2022-05-12T07:51:12.077Z"
   },
   {
    "duration": 37,
    "start_time": "2022-05-12T07:51:12.160Z"
   },
   {
    "duration": 21,
    "start_time": "2022-05-12T07:51:12.715Z"
   },
   {
    "duration": 17,
    "start_time": "2022-05-12T07:51:13.115Z"
   },
   {
    "duration": 20,
    "start_time": "2022-05-12T07:51:13.699Z"
   },
   {
    "duration": 10,
    "start_time": "2022-05-12T07:51:16.131Z"
   },
   {
    "duration": 11,
    "start_time": "2022-05-12T07:51:18.979Z"
   },
   {
    "duration": 17,
    "start_time": "2022-05-12T07:51:19.266Z"
   },
   {
    "duration": 19,
    "start_time": "2022-05-12T07:51:33.740Z"
   },
   {
    "duration": 5,
    "start_time": "2022-05-12T07:51:36.036Z"
   },
   {
    "duration": 7,
    "start_time": "2022-05-12T07:51:38.369Z"
   },
   {
    "duration": 8,
    "start_time": "2022-05-12T07:52:14.803Z"
   },
   {
    "duration": 7,
    "start_time": "2022-05-12T07:52:16.194Z"
   },
   {
    "duration": 11,
    "start_time": "2022-05-12T07:52:19.107Z"
   },
   {
    "duration": 1673,
    "start_time": "2022-05-12T07:54:54.128Z"
   },
   {
    "duration": 126,
    "start_time": "2022-05-12T07:54:55.804Z"
   },
   {
    "duration": 40,
    "start_time": "2022-05-12T07:54:55.932Z"
   },
   {
    "duration": 29,
    "start_time": "2022-05-12T07:54:55.975Z"
   },
   {
    "duration": 25,
    "start_time": "2022-05-12T07:54:57.921Z"
   },
   {
    "duration": 28,
    "start_time": "2022-05-12T07:54:58.095Z"
   },
   {
    "duration": 11,
    "start_time": "2022-05-12T07:54:58.320Z"
   },
   {
    "duration": 15,
    "start_time": "2022-05-12T07:55:00.617Z"
   },
   {
    "duration": 23,
    "start_time": "2022-05-12T07:55:00.961Z"
   },
   {
    "duration": 21,
    "start_time": "2022-05-12T07:55:03.854Z"
   },
   {
    "duration": 5,
    "start_time": "2022-05-12T07:55:07.144Z"
   },
   {
    "duration": 7,
    "start_time": "2022-05-12T07:55:09.625Z"
   },
   {
    "duration": 8,
    "start_time": "2022-05-12T07:55:14.225Z"
   },
   {
    "duration": 7,
    "start_time": "2022-05-12T07:55:14.969Z"
   },
   {
    "duration": 10,
    "start_time": "2022-05-12T07:55:16.671Z"
   },
   {
    "duration": 1404,
    "start_time": "2022-05-12T08:56:57.595Z"
   },
   {
    "duration": 89,
    "start_time": "2022-05-12T08:56:59.626Z"
   },
   {
    "duration": 65,
    "start_time": "2022-05-12T08:56:59.818Z"
   },
   {
    "duration": 20,
    "start_time": "2022-05-12T08:57:00.384Z"
   },
   {
    "duration": 16,
    "start_time": "2022-05-12T08:57:00.568Z"
   },
   {
    "duration": 18,
    "start_time": "2022-05-12T08:57:00.786Z"
   },
   {
    "duration": 9,
    "start_time": "2022-05-12T08:57:06.728Z"
   },
   {
    "duration": 11,
    "start_time": "2022-05-12T08:57:07.056Z"
   },
   {
    "duration": 15,
    "start_time": "2022-05-12T08:57:07.402Z"
   },
   {
    "duration": 20,
    "start_time": "2022-05-12T08:57:11.472Z"
   },
   {
    "duration": 8,
    "start_time": "2022-05-12T08:57:13.138Z"
   },
   {
    "duration": 5,
    "start_time": "2022-05-12T08:57:30.801Z"
   },
   {
    "duration": 2,
    "start_time": "2022-05-12T08:57:32.503Z"
   },
   {
    "duration": 16,
    "start_time": "2022-05-12T08:57:32.777Z"
   },
   {
    "duration": 17,
    "start_time": "2022-05-12T08:57:32.984Z"
   },
   {
    "duration": 15,
    "start_time": "2022-05-12T08:57:39.170Z"
   },
   {
    "duration": 11,
    "start_time": "2022-05-12T08:57:40.477Z"
   },
   {
    "duration": 7,
    "start_time": "2022-05-12T08:57:56.188Z"
   },
   {
    "duration": 179,
    "start_time": "2022-05-12T08:57:58.592Z"
   },
   {
    "duration": 8,
    "start_time": "2022-05-12T08:58:04.735Z"
   },
   {
    "duration": 7,
    "start_time": "2022-05-12T08:58:07.061Z"
   },
   {
    "duration": 4,
    "start_time": "2022-05-12T08:58:07.775Z"
   },
   {
    "duration": 10,
    "start_time": "2022-05-12T08:58:15.944Z"
   },
   {
    "duration": 6,
    "start_time": "2022-05-12T09:00:18.443Z"
   },
   {
    "duration": 11,
    "start_time": "2022-05-12T09:01:02.790Z"
   },
   {
    "duration": 9,
    "start_time": "2022-05-12T09:01:30.123Z"
   },
   {
    "duration": 10,
    "start_time": "2022-05-12T09:01:39.231Z"
   },
   {
    "duration": 9,
    "start_time": "2022-05-12T09:01:46.021Z"
   },
   {
    "duration": 8,
    "start_time": "2022-05-12T09:01:52.820Z"
   },
   {
    "duration": 22,
    "start_time": "2022-05-12T09:10:43.599Z"
   },
   {
    "duration": 1267,
    "start_time": "2022-05-12T09:10:49.160Z"
   },
   {
    "duration": 659,
    "start_time": "2022-05-12T09:10:50.434Z"
   },
   {
    "duration": 69,
    "start_time": "2022-05-12T09:10:51.096Z"
   },
   {
    "duration": 21,
    "start_time": "2022-05-12T09:10:51.168Z"
   },
   {
    "duration": 16,
    "start_time": "2022-05-12T09:10:51.191Z"
   },
   {
    "duration": 39,
    "start_time": "2022-05-12T09:10:51.209Z"
   },
   {
    "duration": 13,
    "start_time": "2022-05-12T09:10:51.249Z"
   },
   {
    "duration": 11,
    "start_time": "2022-05-12T09:10:51.264Z"
   },
   {
    "duration": 37,
    "start_time": "2022-05-12T09:10:51.277Z"
   },
   {
    "duration": 42,
    "start_time": "2022-05-12T09:10:51.318Z"
   },
   {
    "duration": 6,
    "start_time": "2022-05-12T09:10:51.362Z"
   },
   {
    "duration": 6,
    "start_time": "2022-05-12T09:10:51.370Z"
   },
   {
    "duration": 2,
    "start_time": "2022-05-12T09:10:51.378Z"
   },
   {
    "duration": 14,
    "start_time": "2022-05-12T09:10:51.382Z"
   },
   {
    "duration": 48,
    "start_time": "2022-05-12T09:10:51.398Z"
   },
   {
    "duration": 21,
    "start_time": "2022-05-12T09:10:51.453Z"
   },
   {
    "duration": 16,
    "start_time": "2022-05-12T09:10:51.476Z"
   },
   {
    "duration": 8,
    "start_time": "2022-05-12T09:10:51.494Z"
   },
   {
    "duration": 26,
    "start_time": "2022-05-12T09:10:51.505Z"
   },
   {
    "duration": 8,
    "start_time": "2022-05-12T09:10:51.534Z"
   },
   {
    "duration": 17,
    "start_time": "2022-05-12T09:10:51.547Z"
   },
   {
    "duration": 13,
    "start_time": "2022-05-12T09:10:51.565Z"
   },
   {
    "duration": 18,
    "start_time": "2022-05-12T09:10:51.580Z"
   },
   {
    "duration": 14,
    "start_time": "2022-05-12T09:10:51.632Z"
   },
   {
    "duration": 8,
    "start_time": "2022-05-12T09:10:51.648Z"
   },
   {
    "duration": 8,
    "start_time": "2022-05-12T09:10:51.659Z"
   },
   {
    "duration": 30,
    "start_time": "2022-05-12T09:10:51.669Z"
   },
   {
    "duration": 25,
    "start_time": "2022-05-12T09:10:51.724Z"
   },
   {
    "duration": 10,
    "start_time": "2022-05-12T09:10:51.753Z"
   },
   {
    "duration": 9,
    "start_time": "2022-05-12T09:10:51.765Z"
   },
   {
    "duration": 10,
    "start_time": "2022-05-12T09:10:51.776Z"
   },
   {
    "duration": 6,
    "start_time": "2022-05-12T09:10:51.788Z"
   },
   {
    "duration": 42,
    "start_time": "2022-05-12T09:10:51.796Z"
   },
   {
    "duration": 10,
    "start_time": "2022-05-12T09:10:51.839Z"
   },
   {
    "duration": 9,
    "start_time": "2022-05-12T09:10:51.852Z"
   },
   {
    "duration": 7,
    "start_time": "2022-05-12T09:10:51.862Z"
   },
   {
    "duration": 8,
    "start_time": "2022-05-12T09:10:51.871Z"
   },
   {
    "duration": 19,
    "start_time": "2022-05-12T09:10:51.880Z"
   },
   {
    "duration": 65,
    "start_time": "2022-05-12T09:10:51.901Z"
   },
   {
    "duration": 8,
    "start_time": "2022-05-12T09:10:51.968Z"
   },
   {
    "duration": 54,
    "start_time": "2022-05-12T09:10:51.978Z"
   },
   {
    "duration": 7,
    "start_time": "2022-05-12T09:10:52.034Z"
   },
   {
    "duration": 294,
    "start_time": "2022-05-12T09:10:52.046Z"
   },
   {
    "duration": 15,
    "start_time": "2022-05-12T09:10:52.343Z"
   },
   {
    "duration": 26,
    "start_time": "2022-05-12T09:10:52.360Z"
   },
   {
    "duration": 4,
    "start_time": "2022-05-12T09:10:52.388Z"
   },
   {
    "duration": 41,
    "start_time": "2022-05-12T09:10:52.394Z"
   },
   {
    "duration": 25,
    "start_time": "2022-05-12T09:10:52.438Z"
   },
   {
    "duration": 5,
    "start_time": "2022-05-12T09:10:52.465Z"
   },
   {
    "duration": 20,
    "start_time": "2022-05-12T09:10:52.473Z"
   },
   {
    "duration": 222,
    "start_time": "2022-05-12T09:10:52.495Z"
   },
   {
    "duration": 184,
    "start_time": "2022-05-12T09:10:52.722Z"
   },
   {
    "duration": 178,
    "start_time": "2022-05-12T09:10:52.908Z"
   },
   {
    "duration": 46,
    "start_time": "2022-05-12T09:10:53.088Z"
   },
   {
    "duration": 47,
    "start_time": "2022-05-12T09:10:53.136Z"
   },
   {
    "duration": 371,
    "start_time": "2022-05-12T09:10:53.185Z"
   },
   {
    "duration": 59,
    "start_time": "2022-05-12T09:10:53.559Z"
   },
   {
    "duration": 499,
    "start_time": "2022-05-12T09:10:53.620Z"
   },
   {
    "duration": 25,
    "start_time": "2022-05-12T09:10:54.124Z"
   },
   {
    "duration": 278,
    "start_time": "2022-05-12T09:10:54.151Z"
   },
   {
    "duration": 15,
    "start_time": "2022-05-12T09:10:54.433Z"
   },
   {
    "duration": 6,
    "start_time": "2022-05-12T09:10:54.452Z"
   },
   {
    "duration": 6,
    "start_time": "2022-05-12T09:10:54.460Z"
   },
   {
    "duration": 253,
    "start_time": "2022-05-12T09:10:54.468Z"
   },
   {
    "duration": 10,
    "start_time": "2022-05-12T09:10:54.724Z"
   },
   {
    "duration": 202,
    "start_time": "2022-05-12T09:10:54.736Z"
   },
   {
    "duration": 10,
    "start_time": "2022-05-12T09:10:54.939Z"
   },
   {
    "duration": 196,
    "start_time": "2022-05-12T09:10:54.953Z"
   },
   {
    "duration": 16,
    "start_time": "2022-05-12T09:10:55.154Z"
   },
   {
    "duration": 1468,
    "start_time": "2022-05-12T09:15:15.636Z"
   },
   {
    "duration": 151,
    "start_time": "2022-05-12T09:15:17.106Z"
   },
   {
    "duration": 39,
    "start_time": "2022-05-12T09:15:17.259Z"
   },
   {
    "duration": 38,
    "start_time": "2022-05-12T09:15:17.300Z"
   },
   {
    "duration": 26,
    "start_time": "2022-05-12T09:15:17.344Z"
   },
   {
    "duration": 27,
    "start_time": "2022-05-12T09:15:17.372Z"
   },
   {
    "duration": 18,
    "start_time": "2022-05-12T09:15:17.402Z"
   },
   {
    "duration": 18,
    "start_time": "2022-05-12T09:15:17.423Z"
   },
   {
    "duration": 24,
    "start_time": "2022-05-12T09:15:17.443Z"
   },
   {
    "duration": 27,
    "start_time": "2022-05-12T09:15:17.470Z"
   },
   {
    "duration": 33,
    "start_time": "2022-05-12T09:15:17.500Z"
   },
   {
    "duration": 9,
    "start_time": "2022-05-12T09:15:17.539Z"
   },
   {
    "duration": 2,
    "start_time": "2022-05-12T09:15:17.550Z"
   },
   {
    "duration": 20,
    "start_time": "2022-05-12T09:15:17.560Z"
   },
   {
    "duration": 48,
    "start_time": "2022-05-12T09:15:17.582Z"
   },
   {
    "duration": 30,
    "start_time": "2022-05-12T09:15:17.640Z"
   },
   {
    "duration": 16,
    "start_time": "2022-05-12T09:15:17.674Z"
   },
   {
    "duration": 8,
    "start_time": "2022-05-12T09:15:17.692Z"
   },
   {
    "duration": 7,
    "start_time": "2022-05-12T09:15:17.702Z"
   },
   {
    "duration": 21,
    "start_time": "2022-05-12T09:15:17.711Z"
   },
   {
    "duration": 32,
    "start_time": "2022-05-12T09:15:17.734Z"
   },
   {
    "duration": 18,
    "start_time": "2022-05-12T09:15:17.768Z"
   },
   {
    "duration": 21,
    "start_time": "2022-05-12T09:15:17.788Z"
   },
   {
    "duration": 16,
    "start_time": "2022-05-12T09:15:17.825Z"
   },
   {
    "duration": 8,
    "start_time": "2022-05-12T09:15:17.843Z"
   },
   {
    "duration": 10,
    "start_time": "2022-05-12T09:15:17.859Z"
   },
   {
    "duration": 30,
    "start_time": "2022-05-12T09:15:17.874Z"
   },
   {
    "duration": 36,
    "start_time": "2022-05-12T09:15:17.906Z"
   },
   {
    "duration": 12,
    "start_time": "2022-05-12T09:15:17.955Z"
   },
   {
    "duration": 8,
    "start_time": "2022-05-12T09:15:17.969Z"
   },
   {
    "duration": 13,
    "start_time": "2022-05-12T09:15:17.980Z"
   },
   {
    "duration": 11,
    "start_time": "2022-05-12T09:15:17.995Z"
   },
   {
    "duration": 18,
    "start_time": "2022-05-12T09:15:18.008Z"
   },
   {
    "duration": 20,
    "start_time": "2022-05-12T09:15:18.028Z"
   },
   {
    "duration": 10,
    "start_time": "2022-05-12T09:15:18.049Z"
   },
   {
    "duration": 6,
    "start_time": "2022-05-12T09:15:18.070Z"
   },
   {
    "duration": 9,
    "start_time": "2022-05-12T09:15:18.079Z"
   },
   {
    "duration": 15,
    "start_time": "2022-05-12T09:15:18.090Z"
   },
   {
    "duration": 59,
    "start_time": "2022-05-12T09:15:18.129Z"
   },
   {
    "duration": 8,
    "start_time": "2022-05-12T09:15:18.190Z"
   },
   {
    "duration": 52,
    "start_time": "2022-05-12T09:15:18.202Z"
   },
   {
    "duration": 12,
    "start_time": "2022-05-12T09:15:18.255Z"
   },
   {
    "duration": 239,
    "start_time": "2022-05-12T09:15:18.270Z"
   },
   {
    "duration": 6,
    "start_time": "2022-05-12T09:15:18.511Z"
   },
   {
    "duration": 27,
    "start_time": "2022-05-12T09:15:18.522Z"
   },
   {
    "duration": 19,
    "start_time": "2022-05-12T09:15:18.551Z"
   },
   {
    "duration": 35,
    "start_time": "2022-05-12T09:15:18.572Z"
   },
   {
    "duration": 42,
    "start_time": "2022-05-12T09:15:18.609Z"
   },
   {
    "duration": 8,
    "start_time": "2022-05-12T09:15:18.655Z"
   },
   {
    "duration": 46,
    "start_time": "2022-05-12T09:15:18.665Z"
   },
   {
    "duration": 199,
    "start_time": "2022-05-12T09:15:18.714Z"
   },
   {
    "duration": 186,
    "start_time": "2022-05-12T09:15:18.914Z"
   },
   {
    "duration": 192,
    "start_time": "2022-05-12T09:15:19.102Z"
   },
   {
    "duration": 41,
    "start_time": "2022-05-12T09:15:19.296Z"
   },
   {
    "duration": 48,
    "start_time": "2022-05-12T09:15:19.339Z"
   },
   {
    "duration": 450,
    "start_time": "2022-05-12T09:15:19.389Z"
   },
   {
    "duration": 66,
    "start_time": "2022-05-12T09:15:19.841Z"
   },
   {
    "duration": 367,
    "start_time": "2022-05-12T09:15:19.909Z"
   },
   {
    "duration": 11,
    "start_time": "2022-05-12T09:15:20.279Z"
   },
   {
    "duration": 211,
    "start_time": "2022-05-12T09:15:20.292Z"
   },
   {
    "duration": 8,
    "start_time": "2022-05-12T09:15:20.505Z"
   },
   {
    "duration": 15,
    "start_time": "2022-05-12T09:15:20.525Z"
   },
   {
    "duration": 307,
    "start_time": "2022-05-12T09:15:20.546Z"
   },
   {
    "duration": 14,
    "start_time": "2022-05-12T09:15:20.855Z"
   },
   {
    "duration": 251,
    "start_time": "2022-05-12T09:15:20.871Z"
   },
   {
    "duration": 15,
    "start_time": "2022-05-12T09:15:21.125Z"
   },
   {
    "duration": 294,
    "start_time": "2022-05-12T09:15:21.142Z"
   },
   {
    "duration": 13,
    "start_time": "2022-05-12T09:15:21.439Z"
   },
   {
    "duration": 54,
    "start_time": "2022-05-12T17:57:06.247Z"
   },
   {
    "duration": 1442,
    "start_time": "2022-05-12T17:57:12.612Z"
   },
   {
    "duration": 78,
    "start_time": "2022-05-12T17:57:14.056Z"
   },
   {
    "duration": 38,
    "start_time": "2022-05-12T17:57:14.448Z"
   },
   {
    "duration": 21,
    "start_time": "2022-05-12T17:57:15.988Z"
   },
   {
    "duration": 17,
    "start_time": "2022-05-12T17:57:16.551Z"
   },
   {
    "duration": 20,
    "start_time": "2022-05-12T17:57:17.365Z"
   },
   {
    "duration": 8,
    "start_time": "2022-05-12T17:57:18.168Z"
   },
   {
    "duration": 11,
    "start_time": "2022-05-12T17:57:20.142Z"
   },
   {
    "duration": 17,
    "start_time": "2022-05-12T17:57:21.127Z"
   },
   {
    "duration": 19,
    "start_time": "2022-05-12T17:57:23.709Z"
   },
   {
    "duration": 5,
    "start_time": "2022-05-12T17:57:25.270Z"
   },
   {
    "duration": 7,
    "start_time": "2022-05-12T17:57:27.782Z"
   },
   {
    "duration": 3,
    "start_time": "2022-05-12T17:57:35.358Z"
   },
   {
    "duration": 15,
    "start_time": "2022-05-12T17:57:36.550Z"
   },
   {
    "duration": 15,
    "start_time": "2022-05-12T17:57:37.214Z"
   },
   {
    "duration": 15,
    "start_time": "2022-05-12T18:00:15.230Z"
   },
   {
    "duration": 10,
    "start_time": "2022-05-12T18:00:16.197Z"
   },
   {
    "duration": 5,
    "start_time": "2022-05-12T18:00:16.759Z"
   },
   {
    "duration": 4,
    "start_time": "2022-05-12T18:00:17.298Z"
   },
   {
    "duration": 6,
    "start_time": "2022-05-12T18:00:18.897Z"
   },
   {
    "duration": 12,
    "start_time": "2022-05-12T18:00:24.071Z"
   },
   {
    "duration": 12,
    "start_time": "2022-05-12T18:00:24.284Z"
   },
   {
    "duration": 21,
    "start_time": "2022-05-12T18:00:26.859Z"
   },
   {
    "duration": 9,
    "start_time": "2022-05-12T18:00:28.513Z"
   },
   {
    "duration": 7,
    "start_time": "2022-05-12T19:04:47.524Z"
   },
   {
    "duration": 6,
    "start_time": "2022-05-12T19:05:02.892Z"
   },
   {
    "duration": 9,
    "start_time": "2022-05-12T19:08:35.705Z"
   },
   {
    "duration": 9,
    "start_time": "2022-05-12T19:08:38.034Z"
   },
   {
    "duration": 12,
    "start_time": "2022-05-12T19:08:56.817Z"
   },
   {
    "duration": 148,
    "start_time": "2022-05-12T19:11:41.203Z"
   },
   {
    "duration": 156,
    "start_time": "2022-05-12T19:12:06.585Z"
   },
   {
    "duration": 142,
    "start_time": "2022-05-12T19:12:17.582Z"
   },
   {
    "duration": 119,
    "start_time": "2022-05-12T19:12:27.361Z"
   },
   {
    "duration": 104,
    "start_time": "2022-05-12T19:12:33.750Z"
   },
   {
    "duration": 110,
    "start_time": "2022-05-12T19:12:43.658Z"
   },
   {
    "duration": 173,
    "start_time": "2022-05-12T19:12:55.524Z"
   },
   {
    "duration": 136,
    "start_time": "2022-05-12T19:13:09.710Z"
   },
   {
    "duration": 131,
    "start_time": "2022-05-12T19:13:16.456Z"
   },
   {
    "duration": 1286,
    "start_time": "2022-05-12T19:21:03.097Z"
   },
   {
    "duration": 87,
    "start_time": "2022-05-12T19:21:04.386Z"
   },
   {
    "duration": 38,
    "start_time": "2022-05-12T19:21:04.475Z"
   },
   {
    "duration": 21,
    "start_time": "2022-05-12T19:21:04.515Z"
   },
   {
    "duration": 18,
    "start_time": "2022-05-12T19:21:04.538Z"
   },
   {
    "duration": 19,
    "start_time": "2022-05-12T19:21:04.558Z"
   },
   {
    "duration": 7,
    "start_time": "2022-05-12T19:21:04.579Z"
   },
   {
    "duration": 16,
    "start_time": "2022-05-12T19:21:04.587Z"
   },
   {
    "duration": 33,
    "start_time": "2022-05-12T19:21:04.604Z"
   },
   {
    "duration": 17,
    "start_time": "2022-05-12T19:21:04.640Z"
   },
   {
    "duration": 5,
    "start_time": "2022-05-12T19:21:04.659Z"
   },
   {
    "duration": 12,
    "start_time": "2022-05-12T19:21:04.665Z"
   },
   {
    "duration": 5,
    "start_time": "2022-05-12T19:21:04.679Z"
   },
   {
    "duration": 17,
    "start_time": "2022-05-12T19:21:04.685Z"
   },
   {
    "duration": 43,
    "start_time": "2022-05-12T19:21:04.704Z"
   },
   {
    "duration": 16,
    "start_time": "2022-05-12T19:21:04.749Z"
   },
   {
    "duration": 13,
    "start_time": "2022-05-12T19:21:04.767Z"
   },
   {
    "duration": 9,
    "start_time": "2022-05-12T19:21:04.782Z"
   },
   {
    "duration": 8,
    "start_time": "2022-05-12T19:21:04.792Z"
   },
   {
    "duration": 32,
    "start_time": "2022-05-12T19:21:04.801Z"
   },
   {
    "duration": 12,
    "start_time": "2022-05-12T19:21:04.835Z"
   },
   {
    "duration": 13,
    "start_time": "2022-05-12T19:21:04.849Z"
   },
   {
    "duration": 24,
    "start_time": "2022-05-12T19:21:04.863Z"
   },
   {
    "duration": 9,
    "start_time": "2022-05-12T19:21:04.888Z"
   },
   {
    "duration": 35,
    "start_time": "2022-05-12T19:21:04.899Z"
   },
   {
    "duration": 6,
    "start_time": "2022-05-12T19:21:04.936Z"
   },
   {
    "duration": 15,
    "start_time": "2022-05-12T19:21:04.944Z"
   },
   {
    "duration": 6,
    "start_time": "2022-05-12T19:21:04.964Z"
   },
   {
    "duration": 5,
    "start_time": "2022-05-12T19:21:04.972Z"
   },
   {
    "duration": 14,
    "start_time": "2022-05-12T19:21:04.979Z"
   },
   {
    "duration": 41,
    "start_time": "2022-05-12T19:21:04.996Z"
   },
   {
    "duration": 11,
    "start_time": "2022-05-12T19:21:05.039Z"
   },
   {
    "duration": 20,
    "start_time": "2022-05-12T19:21:05.051Z"
   },
   {
    "duration": 13,
    "start_time": "2022-05-12T19:21:05.073Z"
   },
   {
    "duration": 13,
    "start_time": "2022-05-12T19:21:05.088Z"
   },
   {
    "duration": 17,
    "start_time": "2022-05-12T19:21:05.103Z"
   },
   {
    "duration": 13,
    "start_time": "2022-05-12T19:21:05.121Z"
   },
   {
    "duration": 4,
    "start_time": "2022-05-12T19:21:05.136Z"
   },
   {
    "duration": 8,
    "start_time": "2022-05-12T19:21:05.142Z"
   },
   {
    "duration": 8,
    "start_time": "2022-05-12T19:21:05.152Z"
   },
   {
    "duration": 11,
    "start_time": "2022-05-12T19:21:05.162Z"
   },
   {
    "duration": 35,
    "start_time": "2022-05-12T19:21:05.175Z"
   },
   {
    "duration": 28,
    "start_time": "2022-05-12T19:21:05.211Z"
   },
   {
    "duration": 35,
    "start_time": "2022-05-12T19:21:05.241Z"
   },
   {
    "duration": 8,
    "start_time": "2022-05-12T19:21:05.277Z"
   },
   {
    "duration": 157,
    "start_time": "2022-05-12T19:21:05.287Z"
   },
   {
    "duration": 143,
    "start_time": "2022-05-12T19:21:05.446Z"
   },
   {
    "duration": 123,
    "start_time": "2022-05-12T19:21:05.590Z"
   },
   {
    "duration": 142,
    "start_time": "2022-05-12T19:21:05.715Z"
   },
   {
    "duration": 126,
    "start_time": "2022-05-12T19:21:05.859Z"
   },
   {
    "duration": 5,
    "start_time": "2022-05-12T19:21:05.988Z"
   },
   {
    "duration": 21,
    "start_time": "2022-05-12T19:21:05.994Z"
   },
   {
    "duration": 21,
    "start_time": "2022-05-12T19:21:06.017Z"
   },
   {
    "duration": 27,
    "start_time": "2022-05-12T19:21:06.040Z"
   },
   {
    "duration": 23,
    "start_time": "2022-05-12T19:21:06.069Z"
   },
   {
    "duration": 7,
    "start_time": "2022-05-12T19:21:06.094Z"
   },
   {
    "duration": 38,
    "start_time": "2022-05-12T19:21:06.102Z"
   },
   {
    "duration": 184,
    "start_time": "2022-05-12T19:21:06.142Z"
   },
   {
    "duration": 186,
    "start_time": "2022-05-12T19:21:06.328Z"
   },
   {
    "duration": 248,
    "start_time": "2022-05-12T19:21:06.517Z"
   },
   {
    "duration": 26,
    "start_time": "2022-05-12T19:21:06.767Z"
   },
   {
    "duration": 52,
    "start_time": "2022-05-12T19:21:06.796Z"
   },
   {
    "duration": 363,
    "start_time": "2022-05-12T19:21:06.850Z"
   },
   {
    "duration": 39,
    "start_time": "2022-05-12T19:21:07.215Z"
   },
   {
    "duration": 317,
    "start_time": "2022-05-12T19:21:07.256Z"
   },
   {
    "duration": 9,
    "start_time": "2022-05-12T19:21:07.576Z"
   },
   {
    "duration": 200,
    "start_time": "2022-05-12T19:21:07.587Z"
   },
   {
    "duration": 7,
    "start_time": "2022-05-12T19:21:07.789Z"
   },
   {
    "duration": 5,
    "start_time": "2022-05-12T19:21:07.799Z"
   },
   {
    "duration": 188,
    "start_time": "2022-05-12T19:21:07.806Z"
   },
   {
    "duration": 9,
    "start_time": "2022-05-12T19:21:07.997Z"
   },
   {
    "duration": 195,
    "start_time": "2022-05-12T19:21:08.008Z"
   },
   {
    "duration": 10,
    "start_time": "2022-05-12T19:21:08.205Z"
   },
   {
    "duration": 206,
    "start_time": "2022-05-12T19:21:08.216Z"
   },
   {
    "duration": 17,
    "start_time": "2022-05-12T19:21:08.423Z"
   },
   {
    "duration": 1398,
    "start_time": "2022-05-13T08:20:54.713Z"
   },
   {
    "duration": 112,
    "start_time": "2022-05-13T08:20:56.113Z"
   },
   {
    "duration": 86,
    "start_time": "2022-05-13T08:20:56.227Z"
   },
   {
    "duration": 47,
    "start_time": "2022-05-13T08:20:56.316Z"
   },
   {
    "duration": 43,
    "start_time": "2022-05-13T08:20:56.367Z"
   },
   {
    "duration": 32,
    "start_time": "2022-05-13T08:20:56.412Z"
   },
   {
    "duration": 16,
    "start_time": "2022-05-13T08:20:56.446Z"
   },
   {
    "duration": 49,
    "start_time": "2022-05-13T08:20:56.464Z"
   },
   {
    "duration": 22,
    "start_time": "2022-05-13T08:20:56.515Z"
   },
   {
    "duration": 60,
    "start_time": "2022-05-13T08:20:56.544Z"
   },
   {
    "duration": 5,
    "start_time": "2022-05-13T08:20:56.606Z"
   },
   {
    "duration": 12,
    "start_time": "2022-05-13T08:20:56.613Z"
   },
   {
    "duration": 4,
    "start_time": "2022-05-13T08:20:56.627Z"
   },
   {
    "duration": 71,
    "start_time": "2022-05-13T08:20:56.633Z"
   },
   {
    "duration": 16,
    "start_time": "2022-05-13T08:20:56.706Z"
   },
   {
    "duration": 40,
    "start_time": "2022-05-13T08:20:56.724Z"
   },
   {
    "duration": 36,
    "start_time": "2022-05-13T08:20:56.770Z"
   },
   {
    "duration": 7,
    "start_time": "2022-05-13T08:20:56.808Z"
   },
   {
    "duration": 9,
    "start_time": "2022-05-13T08:20:56.817Z"
   },
   {
    "duration": 20,
    "start_time": "2022-05-13T08:20:56.828Z"
   },
   {
    "duration": 61,
    "start_time": "2022-05-13T08:20:56.852Z"
   },
   {
    "duration": 14,
    "start_time": "2022-05-13T08:20:56.914Z"
   },
   {
    "duration": 70,
    "start_time": "2022-05-13T08:20:56.930Z"
   },
   {
    "duration": 8,
    "start_time": "2022-05-13T08:20:57.002Z"
   },
   {
    "duration": 7,
    "start_time": "2022-05-13T08:20:57.011Z"
   },
   {
    "duration": 7,
    "start_time": "2022-05-13T08:20:57.020Z"
   },
   {
    "duration": 46,
    "start_time": "2022-05-13T08:20:57.029Z"
   },
   {
    "duration": 18,
    "start_time": "2022-05-13T08:20:57.084Z"
   },
   {
    "duration": 10,
    "start_time": "2022-05-13T08:20:57.104Z"
   },
   {
    "duration": 19,
    "start_time": "2022-05-13T08:20:57.116Z"
   },
   {
    "duration": 12,
    "start_time": "2022-05-13T08:20:57.145Z"
   },
   {
    "duration": 28,
    "start_time": "2022-05-13T08:20:57.159Z"
   },
   {
    "duration": 8,
    "start_time": "2022-05-13T08:20:57.189Z"
   },
   {
    "duration": 11,
    "start_time": "2022-05-13T08:20:57.199Z"
   },
   {
    "duration": 10,
    "start_time": "2022-05-13T08:20:57.211Z"
   },
   {
    "duration": 7,
    "start_time": "2022-05-13T08:20:57.223Z"
   },
   {
    "duration": 52,
    "start_time": "2022-05-13T08:20:57.232Z"
   },
   {
    "duration": 8,
    "start_time": "2022-05-13T08:20:57.286Z"
   },
   {
    "duration": 13,
    "start_time": "2022-05-13T08:20:57.296Z"
   },
   {
    "duration": 8,
    "start_time": "2022-05-13T08:20:57.311Z"
   },
   {
    "duration": 21,
    "start_time": "2022-05-13T08:20:57.321Z"
   },
   {
    "duration": 58,
    "start_time": "2022-05-13T08:20:57.348Z"
   },
   {
    "duration": 6,
    "start_time": "2022-05-13T08:20:57.407Z"
   },
   {
    "duration": 67,
    "start_time": "2022-05-13T08:20:57.416Z"
   },
   {
    "duration": 7,
    "start_time": "2022-05-13T08:20:57.485Z"
   },
   {
    "duration": 187,
    "start_time": "2022-05-13T08:20:57.494Z"
   },
   {
    "duration": 184,
    "start_time": "2022-05-13T08:20:57.684Z"
   },
   {
    "duration": 147,
    "start_time": "2022-05-13T08:20:57.869Z"
   },
   {
    "duration": 173,
    "start_time": "2022-05-13T08:20:58.018Z"
   },
   {
    "duration": 128,
    "start_time": "2022-05-13T08:20:58.193Z"
   },
   {
    "duration": 19,
    "start_time": "2022-05-13T08:20:58.322Z"
   },
   {
    "duration": 37,
    "start_time": "2022-05-13T08:20:58.348Z"
   },
   {
    "duration": 7,
    "start_time": "2022-05-13T08:20:58.388Z"
   },
   {
    "duration": 27,
    "start_time": "2022-05-13T08:20:58.397Z"
   },
   {
    "duration": 39,
    "start_time": "2022-05-13T08:20:58.426Z"
   },
   {
    "duration": 20,
    "start_time": "2022-05-13T08:20:58.467Z"
   },
   {
    "duration": 26,
    "start_time": "2022-05-13T08:20:58.489Z"
   },
   {
    "duration": 210,
    "start_time": "2022-05-13T08:20:58.517Z"
   },
   {
    "duration": 210,
    "start_time": "2022-05-13T08:20:58.729Z"
   },
   {
    "duration": 282,
    "start_time": "2022-05-13T08:20:58.941Z"
   },
   {
    "duration": 41,
    "start_time": "2022-05-13T08:20:59.225Z"
   },
   {
    "duration": 43,
    "start_time": "2022-05-13T08:20:59.269Z"
   },
   {
    "duration": 442,
    "start_time": "2022-05-13T08:20:59.314Z"
   },
   {
    "duration": 61,
    "start_time": "2022-05-13T08:20:59.758Z"
   },
   {
    "duration": 400,
    "start_time": "2022-05-13T08:20:59.821Z"
   },
   {
    "duration": 40,
    "start_time": "2022-05-13T08:21:00.222Z"
   },
   {
    "duration": 246,
    "start_time": "2022-05-13T08:21:00.265Z"
   },
   {
    "duration": 7,
    "start_time": "2022-05-13T08:21:00.513Z"
   },
   {
    "duration": 51,
    "start_time": "2022-05-13T08:21:00.540Z"
   },
   {
    "duration": 272,
    "start_time": "2022-05-13T08:21:00.593Z"
   },
   {
    "duration": 16,
    "start_time": "2022-05-13T08:21:00.869Z"
   },
   {
    "duration": 219,
    "start_time": "2022-05-13T08:21:00.887Z"
   },
   {
    "duration": 11,
    "start_time": "2022-05-13T08:21:01.108Z"
   },
   {
    "duration": 294,
    "start_time": "2022-05-13T08:21:01.121Z"
   },
   {
    "duration": 31,
    "start_time": "2022-05-13T08:21:01.416Z"
   },
   {
    "duration": 1332,
    "start_time": "2022-05-13T08:28:29.625Z"
   },
   {
    "duration": 106,
    "start_time": "2022-05-13T08:28:30.959Z"
   },
   {
    "duration": 47,
    "start_time": "2022-05-13T08:28:31.067Z"
   },
   {
    "duration": 23,
    "start_time": "2022-05-13T08:28:31.117Z"
   },
   {
    "duration": 51,
    "start_time": "2022-05-13T08:28:31.142Z"
   },
   {
    "duration": 44,
    "start_time": "2022-05-13T08:28:31.195Z"
   },
   {
    "duration": 37,
    "start_time": "2022-05-13T08:28:31.242Z"
   },
   {
    "duration": 24,
    "start_time": "2022-05-13T08:28:31.281Z"
   },
   {
    "duration": 36,
    "start_time": "2022-05-13T08:28:31.307Z"
   },
   {
    "duration": 34,
    "start_time": "2022-05-13T08:28:31.347Z"
   },
   {
    "duration": 6,
    "start_time": "2022-05-13T08:28:31.382Z"
   },
   {
    "duration": 24,
    "start_time": "2022-05-13T08:28:31.389Z"
   },
   {
    "duration": 20,
    "start_time": "2022-05-13T08:28:31.415Z"
   },
   {
    "duration": 53,
    "start_time": "2022-05-13T08:28:31.441Z"
   },
   {
    "duration": 21,
    "start_time": "2022-05-13T08:28:31.496Z"
   },
   {
    "duration": 21,
    "start_time": "2022-05-13T08:28:31.519Z"
   },
   {
    "duration": 33,
    "start_time": "2022-05-13T08:28:31.543Z"
   },
   {
    "duration": 12,
    "start_time": "2022-05-13T08:28:31.577Z"
   },
   {
    "duration": 8,
    "start_time": "2022-05-13T08:28:31.590Z"
   },
   {
    "duration": 10,
    "start_time": "2022-05-13T08:28:31.600Z"
   },
   {
    "duration": 19,
    "start_time": "2022-05-13T08:28:31.612Z"
   },
   {
    "duration": 32,
    "start_time": "2022-05-13T08:28:31.644Z"
   },
   {
    "duration": 20,
    "start_time": "2022-05-13T08:28:31.678Z"
   },
   {
    "duration": 9,
    "start_time": "2022-05-13T08:28:31.699Z"
   },
   {
    "duration": 11,
    "start_time": "2022-05-13T08:28:31.709Z"
   },
   {
    "duration": 20,
    "start_time": "2022-05-13T08:28:31.722Z"
   },
   {
    "duration": 47,
    "start_time": "2022-05-13T08:28:31.744Z"
   },
   {
    "duration": 6,
    "start_time": "2022-05-13T08:28:31.795Z"
   },
   {
    "duration": 5,
    "start_time": "2022-05-13T08:28:31.803Z"
   },
   {
    "duration": 15,
    "start_time": "2022-05-13T08:28:31.810Z"
   },
   {
    "duration": 16,
    "start_time": "2022-05-13T08:28:31.827Z"
   },
   {
    "duration": 26,
    "start_time": "2022-05-13T08:28:31.845Z"
   },
   {
    "duration": 11,
    "start_time": "2022-05-13T08:28:31.872Z"
   },
   {
    "duration": 11,
    "start_time": "2022-05-13T08:28:31.885Z"
   },
   {
    "duration": 11,
    "start_time": "2022-05-13T08:28:31.898Z"
   },
   {
    "duration": 11,
    "start_time": "2022-05-13T08:28:31.910Z"
   },
   {
    "duration": 19,
    "start_time": "2022-05-13T08:28:31.923Z"
   },
   {
    "duration": 29,
    "start_time": "2022-05-13T08:28:31.944Z"
   },
   {
    "duration": 8,
    "start_time": "2022-05-13T08:28:31.975Z"
   },
   {
    "duration": 11,
    "start_time": "2022-05-13T08:28:31.985Z"
   },
   {
    "duration": 16,
    "start_time": "2022-05-13T08:28:31.998Z"
   },
   {
    "duration": 48,
    "start_time": "2022-05-13T08:28:32.016Z"
   },
   {
    "duration": 8,
    "start_time": "2022-05-13T08:28:32.066Z"
   },
   {
    "duration": 31,
    "start_time": "2022-05-13T08:28:32.076Z"
   },
   {
    "duration": 13,
    "start_time": "2022-05-13T08:28:32.109Z"
   },
   {
    "duration": 190,
    "start_time": "2022-05-13T08:28:32.124Z"
   },
   {
    "duration": 167,
    "start_time": "2022-05-13T08:28:32.316Z"
   },
   {
    "duration": 134,
    "start_time": "2022-05-13T08:28:32.485Z"
   },
   {
    "duration": 158,
    "start_time": "2022-05-13T08:28:32.621Z"
   },
   {
    "duration": 141,
    "start_time": "2022-05-13T08:28:32.781Z"
   },
   {
    "duration": 19,
    "start_time": "2022-05-13T08:28:32.924Z"
   },
   {
    "duration": 44,
    "start_time": "2022-05-13T08:28:32.945Z"
   },
   {
    "duration": 17,
    "start_time": "2022-05-13T08:28:32.991Z"
   },
   {
    "duration": 27,
    "start_time": "2022-05-13T08:28:33.010Z"
   },
   {
    "duration": 27,
    "start_time": "2022-05-13T08:28:33.039Z"
   },
   {
    "duration": 6,
    "start_time": "2022-05-13T08:28:33.068Z"
   },
   {
    "duration": 32,
    "start_time": "2022-05-13T08:28:33.076Z"
   },
   {
    "duration": 200,
    "start_time": "2022-05-13T08:28:33.110Z"
   },
   {
    "duration": 197,
    "start_time": "2022-05-13T08:28:33.312Z"
   },
   {
    "duration": 284,
    "start_time": "2022-05-13T08:28:33.511Z"
   },
   {
    "duration": 26,
    "start_time": "2022-05-13T08:28:33.797Z"
   },
   {
    "duration": 48,
    "start_time": "2022-05-13T08:28:33.841Z"
   },
   {
    "duration": 399,
    "start_time": "2022-05-13T08:28:33.891Z"
   },
   {
    "duration": 58,
    "start_time": "2022-05-13T08:28:34.291Z"
   },
   {
    "duration": 358,
    "start_time": "2022-05-13T08:28:34.351Z"
   },
   {
    "duration": 10,
    "start_time": "2022-05-13T08:28:34.712Z"
   },
   {
    "duration": 231,
    "start_time": "2022-05-13T08:28:34.734Z"
   },
   {
    "duration": 7,
    "start_time": "2022-05-13T08:28:34.966Z"
   },
   {
    "duration": 7,
    "start_time": "2022-05-13T08:28:34.975Z"
   },
   {
    "duration": 201,
    "start_time": "2022-05-13T08:28:34.983Z"
   },
   {
    "duration": 8,
    "start_time": "2022-05-13T08:28:35.186Z"
   },
   {
    "duration": 203,
    "start_time": "2022-05-13T08:28:35.196Z"
   },
   {
    "duration": 11,
    "start_time": "2022-05-13T08:28:35.402Z"
   },
   {
    "duration": 242,
    "start_time": "2022-05-13T08:28:35.415Z"
   },
   {
    "duration": 11,
    "start_time": "2022-05-13T08:28:35.660Z"
   }
  ],
  "colab": {
   "name": "DA+. Сборный проект 1. Шаблон (1).ipynb",
   "provenance": []
  },
  "kernelspec": {
   "display_name": "Python 3",
   "language": "python",
   "name": "python3"
  },
  "language_info": {
   "codemirror_mode": {
    "name": "ipython",
    "version": 3
   },
   "file_extension": ".py",
   "mimetype": "text/x-python",
   "name": "python",
   "nbconvert_exporter": "python",
   "pygments_lexer": "ipython3",
   "version": "3.8.8"
  },
  "toc": {
   "base_numbering": 1,
   "nav_menu": {},
   "number_sections": true,
   "sideBar": true,
   "skip_h1_title": true,
   "title_cell": "Table of Contents",
   "title_sidebar": "Contents",
   "toc_cell": true,
   "toc_position": {
    "height": "calc(100% - 180px)",
    "left": "10px",
    "top": "150px",
    "width": "375.391px"
   },
   "toc_section_display": true,
   "toc_window_display": true
  }
 },
 "nbformat": 4,
 "nbformat_minor": 1
}
