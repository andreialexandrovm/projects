{
 "cells": [
  {
   "cell_type": "markdown",
   "metadata": {
    "toc": true
   },
   "source": [
    "<h1>Table of Contents<span class=\"tocSkip\"></span></h1>\n",
    "<div class=\"toc\"><ul class=\"toc-item\"><li><span><a href=\"#Загрузка-данных-и-изучение-информации-о-них\" data-toc-modified-id=\"Загрузка-данных-и-изучение-информации-о-них-1\"><span class=\"toc-item-num\">1&nbsp;&nbsp;</span>Загрузка данных и изучение информации о них</a></span></li><li><span><a href=\"#Подготовка-данных\" data-toc-modified-id=\"Подготовка-данных-2\"><span class=\"toc-item-num\">2&nbsp;&nbsp;</span>Подготовка данных</a></span></li><li><span><a href=\"#Анализ-данных\" data-toc-modified-id=\"Анализ-данных-3\"><span class=\"toc-item-num\">3&nbsp;&nbsp;</span>Анализ данных</a></span></li><li><span><a href=\"#Проверка-гипотезы\" data-toc-modified-id=\"Проверка-гипотезы-4\"><span class=\"toc-item-num\">4&nbsp;&nbsp;</span>Проверка гипотезы</a></span></li><li><span><a href=\"#Вывод\" data-toc-modified-id=\"Вывод-5\"><span class=\"toc-item-num\">5&nbsp;&nbsp;</span>Вывод</a></span></li></ul></div>"
   ]
  },
  {
   "cell_type": "markdown",
   "metadata": {},
   "source": [
    "# Определение перспективного тарифа для телеком-компании"
   ]
  },
  {
   "cell_type": "markdown",
   "metadata": {},
   "source": [
    "\n",
    "**Описание исследования.**\n",
    "\n",
    "В данном проекте исследуется поведение выборки клентов компании \"Мегалайн\" - федерального оператора сотовой связи, пользующихся двумя тарифными планми: «Смарт» и «Ультра», за 2018 год.\n",
    "\n",
    "Примечание  \n",
    "«Мегалайн» всегда округляет секунды до минут, а мегабайты — до гигабайт. Каждый звонок округляется отдельно: даже если он длился всего 1 секунду, будет засчитан как 1 минута.\n",
    "Для веб-трафика отдельные сессии не считаются. Вместо этого общая сумма за месяц округляется в бо́льшую сторону. Если абонент использует 1025 мегабайт в этом месяце, с него возьмут плату за 2 гигабайта. Неиспользованные за предыдущий месяц звонки, смс, интернет на следующий месяц не переносятся.\n",
    "_____\n",
    "**Цель исследования.**   \n",
    "\n",
    "Какой тариф более выгоден для компании \"Мегалайн\" для корректировки рекламного бюджета.\n",
    "_____\n",
    "**Задачи исследования.**\n",
    "\n",
    "Необходимо:\n",
    "* посчитать количество и длительность звонков каждого пользователя по месяцам;\n",
    "* посчитать количество сообщений каждого пользователя по месяцам;\n",
    "* посчитать интернет-трафик каждого пользователя по месяцам;\n",
    "* посчитать ежемесячную выручка с каждого пользователя;\n",
    "* проанализировать сколько минут разговоров, сколько сообщений и сколько интернет-трафика требуется среднему пользователю каждого тарифа;  \n",
    "* посчитать дисперсии и стандартные отклонения количества минут разговоров, количества сообщений и количества интернет-трафика пользователей каждого тарифа;  \n",
    "* построить гистограммы количества минут разговоров, количества сообщений и количества интернет-трафика пользователей каждого тарифа;  \n",
    "* проверить гипотезу, что средняя выручка с пользователей тарифов «Ультра» и «Смарт» различаются;  \n",
    "* проверить гипотезу, что средняя выручка с пользователей из Москвы отличается от выручки пользователей из других регионов. \n",
    "_____\n",
    "**Исходные данные.**\n",
    "\n",
    "В нашем распоряжении данные 500 пользователей «Мегалайна» за 2018 год.\n",
    "    \n",
    "**Таблица users (информация о пользователях):**  \n",
    "user_id — уникальный идентификатор пользователя  \n",
    "first_name — имя пользователя  \n",
    "last_name — фамилия пользователя  \n",
    "age — возраст пользователя (годы)  \n",
    "reg_date — дата подключения тарифа (день, месяц, год)  \n",
    "churn_date — дата прекращения пользования тарифом (если значение пропущено, то тариф ещё действовал на момент выгрузки данных)  \n",
    "city — город проживания пользователя  \n",
    "tariff — название тарифного плана  \n",
    "**Таблица calls (информация о звонках):**  \n",
    "id — уникальный номер звонка  \n",
    "call_date — дата звонка  \n",
    "duration — длительность звонка в минутах  \n",
    "user_id — идентификатор пользователя, сделавшего звонок  \n",
    "**Таблица messages (информация о сообщениях):**  \n",
    "id — уникальный номер сообщения  \n",
    "message_date — дата сообщения  \n",
    "user_id — идентификатор пользователя, отправившего сообщение  \n",
    "**Таблица internet (информация об интернет-сессиях):**  \n",
    "id — уникальный номер сессии  \n",
    "mb_used — объём потраченного за сессию интернет-трафика (в мегабайтах)  \n",
    "session_date — дата интернет-сессии  \n",
    "user_id — идентификатор пользователя  \n",
    "**Таблица tariffs (информация о тарифах):**  \n",
    "tariff_name — название тарифа  \n",
    "rub_monthly_fee — ежемесячная абонентская плата в рублях  \n",
    "minutes_included — количество минут разговора в месяц, включённых в абонентскую плату  \n",
    "messages_included — количество сообщений в месяц, включённых в абонентскую плату  \n",
    "mb_per_month_included — объём интернет-трафика, включённого в абонентскую плату (в мегабайтах)  \n",
    "rub_per_minute — стоимость минуты разговора сверх тарифного пакета (например, если в тарифе 100 минут разговора в месяц, то со 101 минуты будет взиматься плата)  \n",
    "rub_per_message — стоимость отправки сообщения сверх тарифного пакета  \n",
    "rub_per_gb — стоимость дополнительного гигабайта интернет-трафика сверх тарифного пакета (1 гигабайт = 1024 мегабайта)"
   ]
  },
  {
   "cell_type": "markdown",
   "metadata": {},
   "source": [
    "##  Загрузка данных и изучение информации о них"
   ]
  },
  {
   "cell_type": "markdown",
   "metadata": {},
   "source": [
    "Импортируем библиотеки, которые нам потребуются для выполнения проекта"
   ]
  },
  {
   "cell_type": "code",
   "execution_count": 1,
   "metadata": {},
   "outputs": [],
   "source": [
    "import pandas as pd\n",
    "import numpy as np\n",
    "import seaborn as sns\n",
    "import scipy\n",
    "import os\n",
    "import matplotlib.pyplot as plt"
   ]
  },
  {
   "cell_type": "code",
   "execution_count": 2,
   "metadata": {},
   "outputs": [],
   "source": [
    "pth1 = 'calls.csv'\n",
    "pth2 = 'https://code.s3.yandex.net/datasets/calls.csv'\n",
    "    \n",
    "if os.path.exists(pth1):\n",
    "    calls = pd.read_csv(pth1)\n",
    "elif os.path.exists(pth2):\n",
    "    calls = pd.read_csv(pth2)\n",
    "else:\n",
    "    print('Something is wrong')\n",
    "    \n",
    "pth3 = 'internet.csv'\n",
    "pth4 = 'https://code.s3.yandex.net/datasets/internet.csv'\n",
    "    \n",
    "if os.path.exists(pth3):\n",
    "    internet = pd.read_csv(pth3, index_col=0)\n",
    "elif os.path.exists(pth4):\n",
    "    internet = pd.read_csv(pth4, index_col=0)\n",
    "else:\n",
    "    print('Something is wrong')\n",
    "    \n",
    "pth5 = 'messages.csv'\n",
    "pth6 = 'https://code.s3.yandex.net/datasets/messages.csv'\n",
    "    \n",
    "if os.path.exists(pth5):\n",
    "    messages = pd.read_csv(pth5)\n",
    "elif os.path.exists(pth6):\n",
    "    messages = pd.read_csv(pth6)\n",
    "else:\n",
    "    print('Something is wrong')\n",
    "    \n",
    "pth7 = 'tariffs.csv'\n",
    "pth8 = 'https://code.s3.yandex.net/datasets/tariffs.csv'\n",
    "    \n",
    "if os.path.exists(pth7):\n",
    "    tariffs = pd.read_csv(pth7)\n",
    "elif os.path.exists(pth8):\n",
    "    tariffs = pd.read_csv(pth8)\n",
    "else:\n",
    "    print('Something is wrong')\n",
    "    \n",
    "pth9 = 'users.csv'\n",
    "pth10 = 'https://code.s3.yandex.net/datasets/users.csv'\n",
    "    \n",
    "if os.path.exists(pth9):\n",
    "    users = pd.read_csv(pth9)\n",
    "elif os.path.exists(pth10):\n",
    "    users = pd.read_csv(pth10)\n",
    "else:\n",
    "    print('Something is wrong')"
   ]
  },
  {
   "cell_type": "markdown",
   "metadata": {},
   "source": [
    "Посмотрим, что из себя представляют эти данные, информацию по столбцам и статистическую информацию."
   ]
  },
  {
   "cell_type": "code",
   "execution_count": 3,
   "metadata": {},
   "outputs": [
    {
     "data": {
      "text/html": [
       "<div>\n",
       "<style scoped>\n",
       "    .dataframe tbody tr th:only-of-type {\n",
       "        vertical-align: middle;\n",
       "    }\n",
       "\n",
       "    .dataframe tbody tr th {\n",
       "        vertical-align: top;\n",
       "    }\n",
       "\n",
       "    .dataframe thead th {\n",
       "        text-align: right;\n",
       "    }\n",
       "</style>\n",
       "<table border=\"1\" class=\"dataframe\">\n",
       "  <thead>\n",
       "    <tr style=\"text-align: right;\">\n",
       "      <th></th>\n",
       "      <th>id</th>\n",
       "      <th>call_date</th>\n",
       "      <th>duration</th>\n",
       "      <th>user_id</th>\n",
       "    </tr>\n",
       "  </thead>\n",
       "  <tbody>\n",
       "    <tr>\n",
       "      <th>0</th>\n",
       "      <td>1000_0</td>\n",
       "      <td>2018-07-25</td>\n",
       "      <td>0.00</td>\n",
       "      <td>1000</td>\n",
       "    </tr>\n",
       "    <tr>\n",
       "      <th>1</th>\n",
       "      <td>1000_1</td>\n",
       "      <td>2018-08-17</td>\n",
       "      <td>0.00</td>\n",
       "      <td>1000</td>\n",
       "    </tr>\n",
       "    <tr>\n",
       "      <th>2</th>\n",
       "      <td>1000_2</td>\n",
       "      <td>2018-06-11</td>\n",
       "      <td>2.85</td>\n",
       "      <td>1000</td>\n",
       "    </tr>\n",
       "    <tr>\n",
       "      <th>3</th>\n",
       "      <td>1000_3</td>\n",
       "      <td>2018-09-21</td>\n",
       "      <td>13.80</td>\n",
       "      <td>1000</td>\n",
       "    </tr>\n",
       "    <tr>\n",
       "      <th>4</th>\n",
       "      <td>1000_4</td>\n",
       "      <td>2018-12-15</td>\n",
       "      <td>5.18</td>\n",
       "      <td>1000</td>\n",
       "    </tr>\n",
       "  </tbody>\n",
       "</table>\n",
       "</div>"
      ],
      "text/plain": [
       "       id   call_date  duration  user_id\n",
       "0  1000_0  2018-07-25      0.00     1000\n",
       "1  1000_1  2018-08-17      0.00     1000\n",
       "2  1000_2  2018-06-11      2.85     1000\n",
       "3  1000_3  2018-09-21     13.80     1000\n",
       "4  1000_4  2018-12-15      5.18     1000"
      ]
     },
     "execution_count": 3,
     "metadata": {},
     "output_type": "execute_result"
    }
   ],
   "source": [
    "calls.head()"
   ]
  },
  {
   "cell_type": "code",
   "execution_count": 4,
   "metadata": {},
   "outputs": [
    {
     "name": "stdout",
     "output_type": "stream",
     "text": [
      "<class 'pandas.core.frame.DataFrame'>\n",
      "RangeIndex: 202607 entries, 0 to 202606\n",
      "Data columns (total 4 columns):\n",
      " #   Column     Non-Null Count   Dtype  \n",
      "---  ------     --------------   -----  \n",
      " 0   id         202607 non-null  object \n",
      " 1   call_date  202607 non-null  object \n",
      " 2   duration   202607 non-null  float64\n",
      " 3   user_id    202607 non-null  int64  \n",
      "dtypes: float64(1), int64(1), object(2)\n",
      "memory usage: 6.2+ MB\n"
     ]
    }
   ],
   "source": [
    "calls.info()"
   ]
  },
  {
   "cell_type": "code",
   "execution_count": 5,
   "metadata": {},
   "outputs": [
    {
     "data": {
      "text/html": [
       "<div>\n",
       "<style scoped>\n",
       "    .dataframe tbody tr th:only-of-type {\n",
       "        vertical-align: middle;\n",
       "    }\n",
       "\n",
       "    .dataframe tbody tr th {\n",
       "        vertical-align: top;\n",
       "    }\n",
       "\n",
       "    .dataframe thead th {\n",
       "        text-align: right;\n",
       "    }\n",
       "</style>\n",
       "<table border=\"1\" class=\"dataframe\">\n",
       "  <thead>\n",
       "    <tr style=\"text-align: right;\">\n",
       "      <th></th>\n",
       "      <th>id</th>\n",
       "      <th>mb_used</th>\n",
       "      <th>session_date</th>\n",
       "      <th>user_id</th>\n",
       "    </tr>\n",
       "  </thead>\n",
       "  <tbody>\n",
       "    <tr>\n",
       "      <th>0</th>\n",
       "      <td>1000_0</td>\n",
       "      <td>112.95</td>\n",
       "      <td>2018-11-25</td>\n",
       "      <td>1000</td>\n",
       "    </tr>\n",
       "    <tr>\n",
       "      <th>1</th>\n",
       "      <td>1000_1</td>\n",
       "      <td>1052.81</td>\n",
       "      <td>2018-09-07</td>\n",
       "      <td>1000</td>\n",
       "    </tr>\n",
       "    <tr>\n",
       "      <th>2</th>\n",
       "      <td>1000_2</td>\n",
       "      <td>1197.26</td>\n",
       "      <td>2018-06-25</td>\n",
       "      <td>1000</td>\n",
       "    </tr>\n",
       "    <tr>\n",
       "      <th>3</th>\n",
       "      <td>1000_3</td>\n",
       "      <td>550.27</td>\n",
       "      <td>2018-08-22</td>\n",
       "      <td>1000</td>\n",
       "    </tr>\n",
       "    <tr>\n",
       "      <th>4</th>\n",
       "      <td>1000_4</td>\n",
       "      <td>302.56</td>\n",
       "      <td>2018-09-24</td>\n",
       "      <td>1000</td>\n",
       "    </tr>\n",
       "  </tbody>\n",
       "</table>\n",
       "</div>"
      ],
      "text/plain": [
       "       id  mb_used session_date  user_id\n",
       "0  1000_0   112.95   2018-11-25     1000\n",
       "1  1000_1  1052.81   2018-09-07     1000\n",
       "2  1000_2  1197.26   2018-06-25     1000\n",
       "3  1000_3   550.27   2018-08-22     1000\n",
       "4  1000_4   302.56   2018-09-24     1000"
      ]
     },
     "execution_count": 5,
     "metadata": {},
     "output_type": "execute_result"
    }
   ],
   "source": [
    "internet.head()"
   ]
  },
  {
   "cell_type": "code",
   "execution_count": 6,
   "metadata": {},
   "outputs": [
    {
     "name": "stdout",
     "output_type": "stream",
     "text": [
      "<class 'pandas.core.frame.DataFrame'>\n",
      "Int64Index: 149396 entries, 0 to 149395\n",
      "Data columns (total 4 columns):\n",
      " #   Column        Non-Null Count   Dtype  \n",
      "---  ------        --------------   -----  \n",
      " 0   id            149396 non-null  object \n",
      " 1   mb_used       149396 non-null  float64\n",
      " 2   session_date  149396 non-null  object \n",
      " 3   user_id       149396 non-null  int64  \n",
      "dtypes: float64(1), int64(1), object(2)\n",
      "memory usage: 5.7+ MB\n"
     ]
    }
   ],
   "source": [
    "internet.info()"
   ]
  },
  {
   "cell_type": "code",
   "execution_count": 7,
   "metadata": {},
   "outputs": [
    {
     "data": {
      "text/html": [
       "<div>\n",
       "<style scoped>\n",
       "    .dataframe tbody tr th:only-of-type {\n",
       "        vertical-align: middle;\n",
       "    }\n",
       "\n",
       "    .dataframe tbody tr th {\n",
       "        vertical-align: top;\n",
       "    }\n",
       "\n",
       "    .dataframe thead th {\n",
       "        text-align: right;\n",
       "    }\n",
       "</style>\n",
       "<table border=\"1\" class=\"dataframe\">\n",
       "  <thead>\n",
       "    <tr style=\"text-align: right;\">\n",
       "      <th></th>\n",
       "      <th>id</th>\n",
       "      <th>message_date</th>\n",
       "      <th>user_id</th>\n",
       "    </tr>\n",
       "  </thead>\n",
       "  <tbody>\n",
       "    <tr>\n",
       "      <th>0</th>\n",
       "      <td>1000_0</td>\n",
       "      <td>2018-06-27</td>\n",
       "      <td>1000</td>\n",
       "    </tr>\n",
       "    <tr>\n",
       "      <th>1</th>\n",
       "      <td>1000_1</td>\n",
       "      <td>2018-10-08</td>\n",
       "      <td>1000</td>\n",
       "    </tr>\n",
       "    <tr>\n",
       "      <th>2</th>\n",
       "      <td>1000_2</td>\n",
       "      <td>2018-08-04</td>\n",
       "      <td>1000</td>\n",
       "    </tr>\n",
       "    <tr>\n",
       "      <th>3</th>\n",
       "      <td>1000_3</td>\n",
       "      <td>2018-06-16</td>\n",
       "      <td>1000</td>\n",
       "    </tr>\n",
       "    <tr>\n",
       "      <th>4</th>\n",
       "      <td>1000_4</td>\n",
       "      <td>2018-12-05</td>\n",
       "      <td>1000</td>\n",
       "    </tr>\n",
       "  </tbody>\n",
       "</table>\n",
       "</div>"
      ],
      "text/plain": [
       "       id message_date  user_id\n",
       "0  1000_0   2018-06-27     1000\n",
       "1  1000_1   2018-10-08     1000\n",
       "2  1000_2   2018-08-04     1000\n",
       "3  1000_3   2018-06-16     1000\n",
       "4  1000_4   2018-12-05     1000"
      ]
     },
     "execution_count": 7,
     "metadata": {},
     "output_type": "execute_result"
    }
   ],
   "source": [
    "messages.head()"
   ]
  },
  {
   "cell_type": "code",
   "execution_count": 8,
   "metadata": {},
   "outputs": [
    {
     "name": "stdout",
     "output_type": "stream",
     "text": [
      "<class 'pandas.core.frame.DataFrame'>\n",
      "RangeIndex: 123036 entries, 0 to 123035\n",
      "Data columns (total 3 columns):\n",
      " #   Column        Non-Null Count   Dtype \n",
      "---  ------        --------------   ----- \n",
      " 0   id            123036 non-null  object\n",
      " 1   message_date  123036 non-null  object\n",
      " 2   user_id       123036 non-null  int64 \n",
      "dtypes: int64(1), object(2)\n",
      "memory usage: 2.8+ MB\n"
     ]
    }
   ],
   "source": [
    "messages.info()"
   ]
  },
  {
   "cell_type": "code",
   "execution_count": 9,
   "metadata": {},
   "outputs": [
    {
     "data": {
      "text/html": [
       "<div>\n",
       "<style scoped>\n",
       "    .dataframe tbody tr th:only-of-type {\n",
       "        vertical-align: middle;\n",
       "    }\n",
       "\n",
       "    .dataframe tbody tr th {\n",
       "        vertical-align: top;\n",
       "    }\n",
       "\n",
       "    .dataframe thead th {\n",
       "        text-align: right;\n",
       "    }\n",
       "</style>\n",
       "<table border=\"1\" class=\"dataframe\">\n",
       "  <thead>\n",
       "    <tr style=\"text-align: right;\">\n",
       "      <th></th>\n",
       "      <th>messages_included</th>\n",
       "      <th>mb_per_month_included</th>\n",
       "      <th>minutes_included</th>\n",
       "      <th>rub_monthly_fee</th>\n",
       "      <th>rub_per_gb</th>\n",
       "      <th>rub_per_message</th>\n",
       "      <th>rub_per_minute</th>\n",
       "      <th>tariff_name</th>\n",
       "    </tr>\n",
       "  </thead>\n",
       "  <tbody>\n",
       "    <tr>\n",
       "      <th>0</th>\n",
       "      <td>50</td>\n",
       "      <td>15360</td>\n",
       "      <td>500</td>\n",
       "      <td>550</td>\n",
       "      <td>200</td>\n",
       "      <td>3</td>\n",
       "      <td>3</td>\n",
       "      <td>smart</td>\n",
       "    </tr>\n",
       "    <tr>\n",
       "      <th>1</th>\n",
       "      <td>1000</td>\n",
       "      <td>30720</td>\n",
       "      <td>3000</td>\n",
       "      <td>1950</td>\n",
       "      <td>150</td>\n",
       "      <td>1</td>\n",
       "      <td>1</td>\n",
       "      <td>ultra</td>\n",
       "    </tr>\n",
       "  </tbody>\n",
       "</table>\n",
       "</div>"
      ],
      "text/plain": [
       "   messages_included  mb_per_month_included  minutes_included  \\\n",
       "0                 50                  15360               500   \n",
       "1               1000                  30720              3000   \n",
       "\n",
       "   rub_monthly_fee  rub_per_gb  rub_per_message  rub_per_minute tariff_name  \n",
       "0              550         200                3               3       smart  \n",
       "1             1950         150                1               1       ultra  "
      ]
     },
     "execution_count": 9,
     "metadata": {},
     "output_type": "execute_result"
    }
   ],
   "source": [
    "tariffs.head()"
   ]
  },
  {
   "cell_type": "code",
   "execution_count": 10,
   "metadata": {},
   "outputs": [
    {
     "name": "stdout",
     "output_type": "stream",
     "text": [
      "<class 'pandas.core.frame.DataFrame'>\n",
      "RangeIndex: 2 entries, 0 to 1\n",
      "Data columns (total 8 columns):\n",
      " #   Column                 Non-Null Count  Dtype \n",
      "---  ------                 --------------  ----- \n",
      " 0   messages_included      2 non-null      int64 \n",
      " 1   mb_per_month_included  2 non-null      int64 \n",
      " 2   minutes_included       2 non-null      int64 \n",
      " 3   rub_monthly_fee        2 non-null      int64 \n",
      " 4   rub_per_gb             2 non-null      int64 \n",
      " 5   rub_per_message        2 non-null      int64 \n",
      " 6   rub_per_minute         2 non-null      int64 \n",
      " 7   tariff_name            2 non-null      object\n",
      "dtypes: int64(7), object(1)\n",
      "memory usage: 256.0+ bytes\n"
     ]
    }
   ],
   "source": [
    "tariffs.info()"
   ]
  },
  {
   "cell_type": "code",
   "execution_count": 11,
   "metadata": {},
   "outputs": [
    {
     "data": {
      "text/html": [
       "<div>\n",
       "<style scoped>\n",
       "    .dataframe tbody tr th:only-of-type {\n",
       "        vertical-align: middle;\n",
       "    }\n",
       "\n",
       "    .dataframe tbody tr th {\n",
       "        vertical-align: top;\n",
       "    }\n",
       "\n",
       "    .dataframe thead th {\n",
       "        text-align: right;\n",
       "    }\n",
       "</style>\n",
       "<table border=\"1\" class=\"dataframe\">\n",
       "  <thead>\n",
       "    <tr style=\"text-align: right;\">\n",
       "      <th></th>\n",
       "      <th>user_id</th>\n",
       "      <th>age</th>\n",
       "      <th>churn_date</th>\n",
       "      <th>city</th>\n",
       "      <th>first_name</th>\n",
       "      <th>last_name</th>\n",
       "      <th>reg_date</th>\n",
       "      <th>tariff</th>\n",
       "    </tr>\n",
       "  </thead>\n",
       "  <tbody>\n",
       "    <tr>\n",
       "      <th>0</th>\n",
       "      <td>1000</td>\n",
       "      <td>52</td>\n",
       "      <td>NaN</td>\n",
       "      <td>Краснодар</td>\n",
       "      <td>Рафаил</td>\n",
       "      <td>Верещагин</td>\n",
       "      <td>2018-05-25</td>\n",
       "      <td>ultra</td>\n",
       "    </tr>\n",
       "    <tr>\n",
       "      <th>1</th>\n",
       "      <td>1001</td>\n",
       "      <td>41</td>\n",
       "      <td>NaN</td>\n",
       "      <td>Москва</td>\n",
       "      <td>Иван</td>\n",
       "      <td>Ежов</td>\n",
       "      <td>2018-11-01</td>\n",
       "      <td>smart</td>\n",
       "    </tr>\n",
       "    <tr>\n",
       "      <th>2</th>\n",
       "      <td>1002</td>\n",
       "      <td>59</td>\n",
       "      <td>NaN</td>\n",
       "      <td>Стерлитамак</td>\n",
       "      <td>Евгений</td>\n",
       "      <td>Абрамович</td>\n",
       "      <td>2018-06-17</td>\n",
       "      <td>smart</td>\n",
       "    </tr>\n",
       "    <tr>\n",
       "      <th>3</th>\n",
       "      <td>1003</td>\n",
       "      <td>23</td>\n",
       "      <td>NaN</td>\n",
       "      <td>Москва</td>\n",
       "      <td>Белла</td>\n",
       "      <td>Белякова</td>\n",
       "      <td>2018-08-17</td>\n",
       "      <td>ultra</td>\n",
       "    </tr>\n",
       "    <tr>\n",
       "      <th>4</th>\n",
       "      <td>1004</td>\n",
       "      <td>68</td>\n",
       "      <td>NaN</td>\n",
       "      <td>Новокузнецк</td>\n",
       "      <td>Татьяна</td>\n",
       "      <td>Авдеенко</td>\n",
       "      <td>2018-05-14</td>\n",
       "      <td>ultra</td>\n",
       "    </tr>\n",
       "  </tbody>\n",
       "</table>\n",
       "</div>"
      ],
      "text/plain": [
       "   user_id  age churn_date         city first_name  last_name    reg_date  \\\n",
       "0     1000   52        NaN    Краснодар     Рафаил  Верещагин  2018-05-25   \n",
       "1     1001   41        NaN       Москва       Иван       Ежов  2018-11-01   \n",
       "2     1002   59        NaN  Стерлитамак    Евгений  Абрамович  2018-06-17   \n",
       "3     1003   23        NaN       Москва      Белла   Белякова  2018-08-17   \n",
       "4     1004   68        NaN  Новокузнецк    Татьяна   Авдеенко  2018-05-14   \n",
       "\n",
       "  tariff  \n",
       "0  ultra  \n",
       "1  smart  \n",
       "2  smart  \n",
       "3  ultra  \n",
       "4  ultra  "
      ]
     },
     "execution_count": 11,
     "metadata": {},
     "output_type": "execute_result"
    }
   ],
   "source": [
    "users.head()"
   ]
  },
  {
   "cell_type": "code",
   "execution_count": 12,
   "metadata": {},
   "outputs": [
    {
     "name": "stdout",
     "output_type": "stream",
     "text": [
      "<class 'pandas.core.frame.DataFrame'>\n",
      "RangeIndex: 500 entries, 0 to 499\n",
      "Data columns (total 8 columns):\n",
      " #   Column      Non-Null Count  Dtype \n",
      "---  ------      --------------  ----- \n",
      " 0   user_id     500 non-null    int64 \n",
      " 1   age         500 non-null    int64 \n",
      " 2   churn_date  38 non-null     object\n",
      " 3   city        500 non-null    object\n",
      " 4   first_name  500 non-null    object\n",
      " 5   last_name   500 non-null    object\n",
      " 6   reg_date    500 non-null    object\n",
      " 7   tariff      500 non-null    object\n",
      "dtypes: int64(2), object(6)\n",
      "memory usage: 31.4+ KB\n"
     ]
    }
   ],
   "source": [
    "users.info()"
   ]
  },
  {
   "cell_type": "markdown",
   "metadata": {},
   "source": [
    "## Подготовка данных"
   ]
  },
  {
   "cell_type": "markdown",
   "metadata": {},
   "source": [
    "Приведем данные к нужным типам."
   ]
  },
  {
   "cell_type": "code",
   "execution_count": 13,
   "metadata": {},
   "outputs": [
    {
     "name": "stdout",
     "output_type": "stream",
     "text": [
      "<class 'pandas.core.frame.DataFrame'>\n",
      "RangeIndex: 202607 entries, 0 to 202606\n",
      "Data columns (total 4 columns):\n",
      " #   Column     Non-Null Count   Dtype  \n",
      "---  ------     --------------   -----  \n",
      " 0   id         202607 non-null  object \n",
      " 1   call_date  202607 non-null  object \n",
      " 2   duration   202607 non-null  float64\n",
      " 3   user_id    202607 non-null  int64  \n",
      "dtypes: float64(1), int64(1), object(2)\n",
      "memory usage: 6.2+ MB\n"
     ]
    }
   ],
   "source": [
    "calls.info()"
   ]
  },
  {
   "cell_type": "code",
   "execution_count": 14,
   "metadata": {},
   "outputs": [],
   "source": [
    "calls['call_date'] = pd.to_datetime(calls['call_date']) #меняем тип данных для столбца call_date на datetime"
   ]
  },
  {
   "cell_type": "code",
   "execution_count": 15,
   "metadata": {},
   "outputs": [
    {
     "name": "stdout",
     "output_type": "stream",
     "text": [
      "<class 'pandas.core.frame.DataFrame'>\n",
      "RangeIndex: 202607 entries, 0 to 202606\n",
      "Data columns (total 4 columns):\n",
      " #   Column     Non-Null Count   Dtype         \n",
      "---  ------     --------------   -----         \n",
      " 0   id         202607 non-null  object        \n",
      " 1   call_date  202607 non-null  datetime64[ns]\n",
      " 2   duration   202607 non-null  float64       \n",
      " 3   user_id    202607 non-null  int64         \n",
      "dtypes: datetime64[ns](1), float64(1), int64(1), object(1)\n",
      "memory usage: 6.2+ MB\n"
     ]
    }
   ],
   "source": [
    "calls.info()"
   ]
  },
  {
   "cell_type": "code",
   "execution_count": 16,
   "metadata": {},
   "outputs": [
    {
     "name": "stdout",
     "output_type": "stream",
     "text": [
      "<class 'pandas.core.frame.DataFrame'>\n",
      "Int64Index: 149396 entries, 0 to 149395\n",
      "Data columns (total 4 columns):\n",
      " #   Column        Non-Null Count   Dtype  \n",
      "---  ------        --------------   -----  \n",
      " 0   id            149396 non-null  object \n",
      " 1   mb_used       149396 non-null  float64\n",
      " 2   session_date  149396 non-null  object \n",
      " 3   user_id       149396 non-null  int64  \n",
      "dtypes: float64(1), int64(1), object(2)\n",
      "memory usage: 5.7+ MB\n"
     ]
    }
   ],
   "source": [
    "internet.info()"
   ]
  },
  {
   "cell_type": "code",
   "execution_count": 17,
   "metadata": {},
   "outputs": [],
   "source": [
    "internet['session_date'] = pd.to_datetime(internet['session_date']) #меняем тип данных для столбца session_date на datetime"
   ]
  },
  {
   "cell_type": "code",
   "execution_count": 18,
   "metadata": {},
   "outputs": [
    {
     "name": "stdout",
     "output_type": "stream",
     "text": [
      "<class 'pandas.core.frame.DataFrame'>\n",
      "Int64Index: 149396 entries, 0 to 149395\n",
      "Data columns (total 4 columns):\n",
      " #   Column        Non-Null Count   Dtype         \n",
      "---  ------        --------------   -----         \n",
      " 0   id            149396 non-null  object        \n",
      " 1   mb_used       149396 non-null  float64       \n",
      " 2   session_date  149396 non-null  datetime64[ns]\n",
      " 3   user_id       149396 non-null  int64         \n",
      "dtypes: datetime64[ns](1), float64(1), int64(1), object(1)\n",
      "memory usage: 5.7+ MB\n"
     ]
    }
   ],
   "source": [
    "internet.info()"
   ]
  },
  {
   "cell_type": "code",
   "execution_count": 19,
   "metadata": {},
   "outputs": [
    {
     "name": "stdout",
     "output_type": "stream",
     "text": [
      "<class 'pandas.core.frame.DataFrame'>\n",
      "RangeIndex: 123036 entries, 0 to 123035\n",
      "Data columns (total 3 columns):\n",
      " #   Column        Non-Null Count   Dtype \n",
      "---  ------        --------------   ----- \n",
      " 0   id            123036 non-null  object\n",
      " 1   message_date  123036 non-null  object\n",
      " 2   user_id       123036 non-null  int64 \n",
      "dtypes: int64(1), object(2)\n",
      "memory usage: 2.8+ MB\n"
     ]
    }
   ],
   "source": [
    "messages.info()"
   ]
  },
  {
   "cell_type": "code",
   "execution_count": 20,
   "metadata": {},
   "outputs": [],
   "source": [
    "messages['message_date'] = pd.to_datetime(messages['message_date']) \n",
    "#меняем тип данных для столбца message_date на datetime"
   ]
  },
  {
   "cell_type": "code",
   "execution_count": 21,
   "metadata": {},
   "outputs": [
    {
     "name": "stdout",
     "output_type": "stream",
     "text": [
      "<class 'pandas.core.frame.DataFrame'>\n",
      "RangeIndex: 123036 entries, 0 to 123035\n",
      "Data columns (total 3 columns):\n",
      " #   Column        Non-Null Count   Dtype         \n",
      "---  ------        --------------   -----         \n",
      " 0   id            123036 non-null  object        \n",
      " 1   message_date  123036 non-null  datetime64[ns]\n",
      " 2   user_id       123036 non-null  int64         \n",
      "dtypes: datetime64[ns](1), int64(1), object(1)\n",
      "memory usage: 2.8+ MB\n"
     ]
    }
   ],
   "source": [
    "messages.info()"
   ]
  },
  {
   "cell_type": "code",
   "execution_count": 22,
   "metadata": {},
   "outputs": [
    {
     "name": "stdout",
     "output_type": "stream",
     "text": [
      "<class 'pandas.core.frame.DataFrame'>\n",
      "RangeIndex: 2 entries, 0 to 1\n",
      "Data columns (total 8 columns):\n",
      " #   Column                 Non-Null Count  Dtype \n",
      "---  ------                 --------------  ----- \n",
      " 0   messages_included      2 non-null      int64 \n",
      " 1   mb_per_month_included  2 non-null      int64 \n",
      " 2   minutes_included       2 non-null      int64 \n",
      " 3   rub_monthly_fee        2 non-null      int64 \n",
      " 4   rub_per_gb             2 non-null      int64 \n",
      " 5   rub_per_message        2 non-null      int64 \n",
      " 6   rub_per_minute         2 non-null      int64 \n",
      " 7   tariff_name            2 non-null      object\n",
      "dtypes: int64(7), object(1)\n",
      "memory usage: 256.0+ bytes\n"
     ]
    }
   ],
   "source": [
    "tariffs.info()"
   ]
  },
  {
   "cell_type": "code",
   "execution_count": 23,
   "metadata": {},
   "outputs": [
    {
     "name": "stdout",
     "output_type": "stream",
     "text": [
      "<class 'pandas.core.frame.DataFrame'>\n",
      "RangeIndex: 500 entries, 0 to 499\n",
      "Data columns (total 8 columns):\n",
      " #   Column      Non-Null Count  Dtype \n",
      "---  ------      --------------  ----- \n",
      " 0   user_id     500 non-null    int64 \n",
      " 1   age         500 non-null    int64 \n",
      " 2   churn_date  38 non-null     object\n",
      " 3   city        500 non-null    object\n",
      " 4   first_name  500 non-null    object\n",
      " 5   last_name   500 non-null    object\n",
      " 6   reg_date    500 non-null    object\n",
      " 7   tariff      500 non-null    object\n",
      "dtypes: int64(2), object(6)\n",
      "memory usage: 31.4+ KB\n"
     ]
    }
   ],
   "source": [
    "users.info()"
   ]
  },
  {
   "cell_type": "code",
   "execution_count": 24,
   "metadata": {},
   "outputs": [],
   "source": [
    "users['churn_date'] = pd.to_datetime(users['churn_date']) #меняем тип данных для столбца churn_date на datetime\n",
    "users['reg_date'] = pd.to_datetime(users['reg_date']) #меняем тип данных для столбца reg_date на datetime"
   ]
  },
  {
   "cell_type": "code",
   "execution_count": 25,
   "metadata": {},
   "outputs": [
    {
     "name": "stdout",
     "output_type": "stream",
     "text": [
      "<class 'pandas.core.frame.DataFrame'>\n",
      "RangeIndex: 500 entries, 0 to 499\n",
      "Data columns (total 8 columns):\n",
      " #   Column      Non-Null Count  Dtype         \n",
      "---  ------      --------------  -----         \n",
      " 0   user_id     500 non-null    int64         \n",
      " 1   age         500 non-null    int64         \n",
      " 2   churn_date  38 non-null     datetime64[ns]\n",
      " 3   city        500 non-null    object        \n",
      " 4   first_name  500 non-null    object        \n",
      " 5   last_name   500 non-null    object        \n",
      " 6   reg_date    500 non-null    datetime64[ns]\n",
      " 7   tariff      500 non-null    object        \n",
      "dtypes: datetime64[ns](2), int64(2), object(4)\n",
      "memory usage: 31.4+ KB\n"
     ]
    }
   ],
   "source": [
    "users.info()"
   ]
  },
  {
   "cell_type": "code",
   "execution_count": 26,
   "metadata": {},
   "outputs": [
    {
     "data": {
      "text/html": [
       "<div>\n",
       "<style scoped>\n",
       "    .dataframe tbody tr th:only-of-type {\n",
       "        vertical-align: middle;\n",
       "    }\n",
       "\n",
       "    .dataframe tbody tr th {\n",
       "        vertical-align: top;\n",
       "    }\n",
       "\n",
       "    .dataframe thead th {\n",
       "        text-align: right;\n",
       "    }\n",
       "</style>\n",
       "<table border=\"1\" class=\"dataframe\">\n",
       "  <thead>\n",
       "    <tr style=\"text-align: right;\">\n",
       "      <th></th>\n",
       "      <th>duration</th>\n",
       "      <th>user_id</th>\n",
       "    </tr>\n",
       "  </thead>\n",
       "  <tbody>\n",
       "    <tr>\n",
       "      <th>count</th>\n",
       "      <td>202607.000000</td>\n",
       "      <td>202607.000000</td>\n",
       "    </tr>\n",
       "    <tr>\n",
       "      <th>mean</th>\n",
       "      <td>6.755887</td>\n",
       "      <td>1253.940619</td>\n",
       "    </tr>\n",
       "    <tr>\n",
       "      <th>std</th>\n",
       "      <td>5.843365</td>\n",
       "      <td>144.722751</td>\n",
       "    </tr>\n",
       "    <tr>\n",
       "      <th>min</th>\n",
       "      <td>0.000000</td>\n",
       "      <td>1000.000000</td>\n",
       "    </tr>\n",
       "    <tr>\n",
       "      <th>25%</th>\n",
       "      <td>1.300000</td>\n",
       "      <td>1126.000000</td>\n",
       "    </tr>\n",
       "    <tr>\n",
       "      <th>50%</th>\n",
       "      <td>6.000000</td>\n",
       "      <td>1260.000000</td>\n",
       "    </tr>\n",
       "    <tr>\n",
       "      <th>75%</th>\n",
       "      <td>10.700000</td>\n",
       "      <td>1379.000000</td>\n",
       "    </tr>\n",
       "    <tr>\n",
       "      <th>max</th>\n",
       "      <td>38.000000</td>\n",
       "      <td>1499.000000</td>\n",
       "    </tr>\n",
       "  </tbody>\n",
       "</table>\n",
       "</div>"
      ],
      "text/plain": [
       "            duration        user_id\n",
       "count  202607.000000  202607.000000\n",
       "mean        6.755887    1253.940619\n",
       "std         5.843365     144.722751\n",
       "min         0.000000    1000.000000\n",
       "25%         1.300000    1126.000000\n",
       "50%         6.000000    1260.000000\n",
       "75%        10.700000    1379.000000\n",
       "max        38.000000    1499.000000"
      ]
     },
     "execution_count": 26,
     "metadata": {},
     "output_type": "execute_result"
    }
   ],
   "source": [
    "calls.describe()"
   ]
  },
  {
   "cell_type": "code",
   "execution_count": 27,
   "metadata": {},
   "outputs": [
    {
     "data": {
      "text/html": [
       "<div>\n",
       "<style scoped>\n",
       "    .dataframe tbody tr th:only-of-type {\n",
       "        vertical-align: middle;\n",
       "    }\n",
       "\n",
       "    .dataframe tbody tr th {\n",
       "        vertical-align: top;\n",
       "    }\n",
       "\n",
       "    .dataframe thead th {\n",
       "        text-align: right;\n",
       "    }\n",
       "</style>\n",
       "<table border=\"1\" class=\"dataframe\">\n",
       "  <thead>\n",
       "    <tr style=\"text-align: right;\">\n",
       "      <th></th>\n",
       "      <th>mb_used</th>\n",
       "      <th>user_id</th>\n",
       "    </tr>\n",
       "  </thead>\n",
       "  <tbody>\n",
       "    <tr>\n",
       "      <th>count</th>\n",
       "      <td>149396.000000</td>\n",
       "      <td>149396.000000</td>\n",
       "    </tr>\n",
       "    <tr>\n",
       "      <th>mean</th>\n",
       "      <td>370.192426</td>\n",
       "      <td>1252.099842</td>\n",
       "    </tr>\n",
       "    <tr>\n",
       "      <th>std</th>\n",
       "      <td>278.300951</td>\n",
       "      <td>144.050823</td>\n",
       "    </tr>\n",
       "    <tr>\n",
       "      <th>min</th>\n",
       "      <td>0.000000</td>\n",
       "      <td>1000.000000</td>\n",
       "    </tr>\n",
       "    <tr>\n",
       "      <th>25%</th>\n",
       "      <td>138.187500</td>\n",
       "      <td>1130.000000</td>\n",
       "    </tr>\n",
       "    <tr>\n",
       "      <th>50%</th>\n",
       "      <td>348.015000</td>\n",
       "      <td>1251.000000</td>\n",
       "    </tr>\n",
       "    <tr>\n",
       "      <th>75%</th>\n",
       "      <td>559.552500</td>\n",
       "      <td>1380.000000</td>\n",
       "    </tr>\n",
       "    <tr>\n",
       "      <th>max</th>\n",
       "      <td>1724.830000</td>\n",
       "      <td>1499.000000</td>\n",
       "    </tr>\n",
       "  </tbody>\n",
       "</table>\n",
       "</div>"
      ],
      "text/plain": [
       "             mb_used        user_id\n",
       "count  149396.000000  149396.000000\n",
       "mean      370.192426    1252.099842\n",
       "std       278.300951     144.050823\n",
       "min         0.000000    1000.000000\n",
       "25%       138.187500    1130.000000\n",
       "50%       348.015000    1251.000000\n",
       "75%       559.552500    1380.000000\n",
       "max      1724.830000    1499.000000"
      ]
     },
     "execution_count": 27,
     "metadata": {},
     "output_type": "execute_result"
    }
   ],
   "source": [
    "internet.describe()"
   ]
  },
  {
   "cell_type": "code",
   "execution_count": 28,
   "metadata": {},
   "outputs": [
    {
     "data": {
      "text/html": [
       "<div>\n",
       "<style scoped>\n",
       "    .dataframe tbody tr th:only-of-type {\n",
       "        vertical-align: middle;\n",
       "    }\n",
       "\n",
       "    .dataframe tbody tr th {\n",
       "        vertical-align: top;\n",
       "    }\n",
       "\n",
       "    .dataframe thead th {\n",
       "        text-align: right;\n",
       "    }\n",
       "</style>\n",
       "<table border=\"1\" class=\"dataframe\">\n",
       "  <thead>\n",
       "    <tr style=\"text-align: right;\">\n",
       "      <th></th>\n",
       "      <th>user_id</th>\n",
       "    </tr>\n",
       "  </thead>\n",
       "  <tbody>\n",
       "    <tr>\n",
       "      <th>count</th>\n",
       "      <td>123036.000000</td>\n",
       "    </tr>\n",
       "    <tr>\n",
       "      <th>mean</th>\n",
       "      <td>1256.989410</td>\n",
       "    </tr>\n",
       "    <tr>\n",
       "      <th>std</th>\n",
       "      <td>143.523967</td>\n",
       "    </tr>\n",
       "    <tr>\n",
       "      <th>min</th>\n",
       "      <td>1000.000000</td>\n",
       "    </tr>\n",
       "    <tr>\n",
       "      <th>25%</th>\n",
       "      <td>1134.000000</td>\n",
       "    </tr>\n",
       "    <tr>\n",
       "      <th>50%</th>\n",
       "      <td>1271.000000</td>\n",
       "    </tr>\n",
       "    <tr>\n",
       "      <th>75%</th>\n",
       "      <td>1381.000000</td>\n",
       "    </tr>\n",
       "    <tr>\n",
       "      <th>max</th>\n",
       "      <td>1499.000000</td>\n",
       "    </tr>\n",
       "  </tbody>\n",
       "</table>\n",
       "</div>"
      ],
      "text/plain": [
       "             user_id\n",
       "count  123036.000000\n",
       "mean     1256.989410\n",
       "std       143.523967\n",
       "min      1000.000000\n",
       "25%      1134.000000\n",
       "50%      1271.000000\n",
       "75%      1381.000000\n",
       "max      1499.000000"
      ]
     },
     "execution_count": 28,
     "metadata": {},
     "output_type": "execute_result"
    }
   ],
   "source": [
    "messages.describe()"
   ]
  },
  {
   "cell_type": "markdown",
   "metadata": {},
   "source": [
    "Проверим данные на наличие дубликатов"
   ]
  },
  {
   "cell_type": "code",
   "execution_count": 29,
   "metadata": {},
   "outputs": [
    {
     "data": {
      "text/plain": [
       "0"
      ]
     },
     "execution_count": 29,
     "metadata": {},
     "output_type": "execute_result"
    }
   ],
   "source": [
    "calls.duplicated().sum()"
   ]
  },
  {
   "cell_type": "code",
   "execution_count": 30,
   "metadata": {},
   "outputs": [
    {
     "data": {
      "text/plain": [
       "0"
      ]
     },
     "execution_count": 30,
     "metadata": {},
     "output_type": "execute_result"
    }
   ],
   "source": [
    "messages.duplicated().sum()"
   ]
  },
  {
   "cell_type": "code",
   "execution_count": 31,
   "metadata": {},
   "outputs": [
    {
     "data": {
      "text/plain": [
       "0"
      ]
     },
     "execution_count": 31,
     "metadata": {},
     "output_type": "execute_result"
    }
   ],
   "source": [
    "internet.duplicated().sum()"
   ]
  },
  {
   "cell_type": "markdown",
   "metadata": {},
   "source": [
    "**Посчитаем для каждого пользователя количество сделанных звонков и израсходованных минут разговора по месяцам**"
   ]
  },
  {
   "cell_type": "markdown",
   "metadata": {},
   "source": [
    "Добавим в таблицу calls столбец с округленными значениями длительности звонков"
   ]
  },
  {
   "cell_type": "code",
   "execution_count": 32,
   "metadata": {},
   "outputs": [],
   "source": [
    "calls['duration_round'] = np.ceil(calls['duration'])"
   ]
  },
  {
   "cell_type": "code",
   "execution_count": 33,
   "metadata": {},
   "outputs": [
    {
     "data": {
      "text/html": [
       "<div>\n",
       "<style scoped>\n",
       "    .dataframe tbody tr th:only-of-type {\n",
       "        vertical-align: middle;\n",
       "    }\n",
       "\n",
       "    .dataframe tbody tr th {\n",
       "        vertical-align: top;\n",
       "    }\n",
       "\n",
       "    .dataframe thead th {\n",
       "        text-align: right;\n",
       "    }\n",
       "</style>\n",
       "<table border=\"1\" class=\"dataframe\">\n",
       "  <thead>\n",
       "    <tr style=\"text-align: right;\">\n",
       "      <th></th>\n",
       "      <th>id</th>\n",
       "      <th>call_date</th>\n",
       "      <th>duration</th>\n",
       "      <th>user_id</th>\n",
       "      <th>duration_round</th>\n",
       "    </tr>\n",
       "  </thead>\n",
       "  <tbody>\n",
       "    <tr>\n",
       "      <th>0</th>\n",
       "      <td>1000_0</td>\n",
       "      <td>2018-07-25</td>\n",
       "      <td>0.00</td>\n",
       "      <td>1000</td>\n",
       "      <td>0.0</td>\n",
       "    </tr>\n",
       "    <tr>\n",
       "      <th>1</th>\n",
       "      <td>1000_1</td>\n",
       "      <td>2018-08-17</td>\n",
       "      <td>0.00</td>\n",
       "      <td>1000</td>\n",
       "      <td>0.0</td>\n",
       "    </tr>\n",
       "    <tr>\n",
       "      <th>2</th>\n",
       "      <td>1000_2</td>\n",
       "      <td>2018-06-11</td>\n",
       "      <td>2.85</td>\n",
       "      <td>1000</td>\n",
       "      <td>3.0</td>\n",
       "    </tr>\n",
       "    <tr>\n",
       "      <th>3</th>\n",
       "      <td>1000_3</td>\n",
       "      <td>2018-09-21</td>\n",
       "      <td>13.80</td>\n",
       "      <td>1000</td>\n",
       "      <td>14.0</td>\n",
       "    </tr>\n",
       "    <tr>\n",
       "      <th>4</th>\n",
       "      <td>1000_4</td>\n",
       "      <td>2018-12-15</td>\n",
       "      <td>5.18</td>\n",
       "      <td>1000</td>\n",
       "      <td>6.0</td>\n",
       "    </tr>\n",
       "  </tbody>\n",
       "</table>\n",
       "</div>"
      ],
      "text/plain": [
       "       id  call_date  duration  user_id  duration_round\n",
       "0  1000_0 2018-07-25      0.00     1000             0.0\n",
       "1  1000_1 2018-08-17      0.00     1000             0.0\n",
       "2  1000_2 2018-06-11      2.85     1000             3.0\n",
       "3  1000_3 2018-09-21     13.80     1000            14.0\n",
       "4  1000_4 2018-12-15      5.18     1000             6.0"
      ]
     },
     "execution_count": 33,
     "metadata": {},
     "output_type": "execute_result"
    }
   ],
   "source": [
    "calls.head()"
   ]
  },
  {
   "cell_type": "markdown",
   "metadata": {},
   "source": [
    "Добавим в таблицу calls столбец с месяцем звонка"
   ]
  },
  {
   "cell_type": "code",
   "execution_count": 34,
   "metadata": {},
   "outputs": [],
   "source": [
    "calls['month'] = calls['call_date'].dt.month"
   ]
  },
  {
   "cell_type": "code",
   "execution_count": 35,
   "metadata": {},
   "outputs": [
    {
     "data": {
      "text/html": [
       "<div>\n",
       "<style scoped>\n",
       "    .dataframe tbody tr th:only-of-type {\n",
       "        vertical-align: middle;\n",
       "    }\n",
       "\n",
       "    .dataframe tbody tr th {\n",
       "        vertical-align: top;\n",
       "    }\n",
       "\n",
       "    .dataframe thead th {\n",
       "        text-align: right;\n",
       "    }\n",
       "</style>\n",
       "<table border=\"1\" class=\"dataframe\">\n",
       "  <thead>\n",
       "    <tr style=\"text-align: right;\">\n",
       "      <th></th>\n",
       "      <th>id</th>\n",
       "      <th>call_date</th>\n",
       "      <th>duration</th>\n",
       "      <th>user_id</th>\n",
       "      <th>duration_round</th>\n",
       "      <th>month</th>\n",
       "    </tr>\n",
       "  </thead>\n",
       "  <tbody>\n",
       "    <tr>\n",
       "      <th>0</th>\n",
       "      <td>1000_0</td>\n",
       "      <td>2018-07-25</td>\n",
       "      <td>0.00</td>\n",
       "      <td>1000</td>\n",
       "      <td>0.0</td>\n",
       "      <td>7</td>\n",
       "    </tr>\n",
       "    <tr>\n",
       "      <th>1</th>\n",
       "      <td>1000_1</td>\n",
       "      <td>2018-08-17</td>\n",
       "      <td>0.00</td>\n",
       "      <td>1000</td>\n",
       "      <td>0.0</td>\n",
       "      <td>8</td>\n",
       "    </tr>\n",
       "    <tr>\n",
       "      <th>2</th>\n",
       "      <td>1000_2</td>\n",
       "      <td>2018-06-11</td>\n",
       "      <td>2.85</td>\n",
       "      <td>1000</td>\n",
       "      <td>3.0</td>\n",
       "      <td>6</td>\n",
       "    </tr>\n",
       "    <tr>\n",
       "      <th>3</th>\n",
       "      <td>1000_3</td>\n",
       "      <td>2018-09-21</td>\n",
       "      <td>13.80</td>\n",
       "      <td>1000</td>\n",
       "      <td>14.0</td>\n",
       "      <td>9</td>\n",
       "    </tr>\n",
       "    <tr>\n",
       "      <th>4</th>\n",
       "      <td>1000_4</td>\n",
       "      <td>2018-12-15</td>\n",
       "      <td>5.18</td>\n",
       "      <td>1000</td>\n",
       "      <td>6.0</td>\n",
       "      <td>12</td>\n",
       "    </tr>\n",
       "  </tbody>\n",
       "</table>\n",
       "</div>"
      ],
      "text/plain": [
       "       id  call_date  duration  user_id  duration_round  month\n",
       "0  1000_0 2018-07-25      0.00     1000             0.0      7\n",
       "1  1000_1 2018-08-17      0.00     1000             0.0      8\n",
       "2  1000_2 2018-06-11      2.85     1000             3.0      6\n",
       "3  1000_3 2018-09-21     13.80     1000            14.0      9\n",
       "4  1000_4 2018-12-15      5.18     1000             6.0     12"
      ]
     },
     "execution_count": 35,
     "metadata": {},
     "output_type": "execute_result"
    }
   ],
   "source": [
    "calls.head()"
   ]
  },
  {
   "cell_type": "markdown",
   "metadata": {},
   "source": [
    "Создадим таблицу calls_months с количеством и суммарной длительностью звонков пользователей по месяцам."
   ]
  },
  {
   "cell_type": "code",
   "execution_count": 36,
   "metadata": {},
   "outputs": [],
   "source": [
    "calls_months = calls.groupby(by=['user_id', 'month'], as_index=False)['duration_round'].agg(['count', 'sum'])"
   ]
  },
  {
   "cell_type": "code",
   "execution_count": 37,
   "metadata": {},
   "outputs": [
    {
     "data": {
      "text/html": [
       "<div>\n",
       "<style scoped>\n",
       "    .dataframe tbody tr th:only-of-type {\n",
       "        vertical-align: middle;\n",
       "    }\n",
       "\n",
       "    .dataframe tbody tr th {\n",
       "        vertical-align: top;\n",
       "    }\n",
       "\n",
       "    .dataframe thead th {\n",
       "        text-align: right;\n",
       "    }\n",
       "</style>\n",
       "<table border=\"1\" class=\"dataframe\">\n",
       "  <thead>\n",
       "    <tr style=\"text-align: right;\">\n",
       "      <th></th>\n",
       "      <th></th>\n",
       "      <th>count</th>\n",
       "      <th>sum</th>\n",
       "    </tr>\n",
       "    <tr>\n",
       "      <th>user_id</th>\n",
       "      <th>month</th>\n",
       "      <th></th>\n",
       "      <th></th>\n",
       "    </tr>\n",
       "  </thead>\n",
       "  <tbody>\n",
       "    <tr>\n",
       "      <th rowspan=\"5\" valign=\"top\">1000</th>\n",
       "      <th>5</th>\n",
       "      <td>22</td>\n",
       "      <td>159.0</td>\n",
       "    </tr>\n",
       "    <tr>\n",
       "      <th>6</th>\n",
       "      <td>43</td>\n",
       "      <td>172.0</td>\n",
       "    </tr>\n",
       "    <tr>\n",
       "      <th>7</th>\n",
       "      <td>47</td>\n",
       "      <td>340.0</td>\n",
       "    </tr>\n",
       "    <tr>\n",
       "      <th>8</th>\n",
       "      <td>52</td>\n",
       "      <td>408.0</td>\n",
       "    </tr>\n",
       "    <tr>\n",
       "      <th>9</th>\n",
       "      <td>58</td>\n",
       "      <td>466.0</td>\n",
       "    </tr>\n",
       "  </tbody>\n",
       "</table>\n",
       "</div>"
      ],
      "text/plain": [
       "               count    sum\n",
       "user_id month              \n",
       "1000    5         22  159.0\n",
       "        6         43  172.0\n",
       "        7         47  340.0\n",
       "        8         52  408.0\n",
       "        9         58  466.0"
      ]
     },
     "execution_count": 37,
     "metadata": {},
     "output_type": "execute_result"
    }
   ],
   "source": [
    "calls_months.head()"
   ]
  },
  {
   "cell_type": "code",
   "execution_count": 38,
   "metadata": {},
   "outputs": [
    {
     "name": "stdout",
     "output_type": "stream",
     "text": [
      "<class 'pandas.core.frame.DataFrame'>\n",
      "RangeIndex: 202607 entries, 0 to 202606\n",
      "Data columns (total 6 columns):\n",
      " #   Column          Non-Null Count   Dtype         \n",
      "---  ------          --------------   -----         \n",
      " 0   id              202607 non-null  object        \n",
      " 1   call_date       202607 non-null  datetime64[ns]\n",
      " 2   duration        202607 non-null  float64       \n",
      " 3   user_id         202607 non-null  int64         \n",
      " 4   duration_round  202607 non-null  float64       \n",
      " 5   month           202607 non-null  int64         \n",
      "dtypes: datetime64[ns](1), float64(2), int64(2), object(1)\n",
      "memory usage: 9.3+ MB\n"
     ]
    }
   ],
   "source": [
    "calls.info()"
   ]
  },
  {
   "cell_type": "code",
   "execution_count": 39,
   "metadata": {},
   "outputs": [
    {
     "data": {
      "text/html": [
       "<div>\n",
       "<style scoped>\n",
       "    .dataframe tbody tr th:only-of-type {\n",
       "        vertical-align: middle;\n",
       "    }\n",
       "\n",
       "    .dataframe tbody tr th {\n",
       "        vertical-align: top;\n",
       "    }\n",
       "\n",
       "    .dataframe thead th {\n",
       "        text-align: right;\n",
       "    }\n",
       "</style>\n",
       "<table border=\"1\" class=\"dataframe\">\n",
       "  <thead>\n",
       "    <tr style=\"text-align: right;\">\n",
       "      <th></th>\n",
       "      <th></th>\n",
       "      <th>count</th>\n",
       "      <th>sum</th>\n",
       "    </tr>\n",
       "    <tr>\n",
       "      <th>user_id</th>\n",
       "      <th>month</th>\n",
       "      <th></th>\n",
       "      <th></th>\n",
       "    </tr>\n",
       "  </thead>\n",
       "  <tbody>\n",
       "    <tr>\n",
       "      <th rowspan=\"5\" valign=\"top\">1000</th>\n",
       "      <th>5</th>\n",
       "      <td>22</td>\n",
       "      <td>159.0</td>\n",
       "    </tr>\n",
       "    <tr>\n",
       "      <th>6</th>\n",
       "      <td>43</td>\n",
       "      <td>172.0</td>\n",
       "    </tr>\n",
       "    <tr>\n",
       "      <th>7</th>\n",
       "      <td>47</td>\n",
       "      <td>340.0</td>\n",
       "    </tr>\n",
       "    <tr>\n",
       "      <th>8</th>\n",
       "      <td>52</td>\n",
       "      <td>408.0</td>\n",
       "    </tr>\n",
       "    <tr>\n",
       "      <th>9</th>\n",
       "      <td>58</td>\n",
       "      <td>466.0</td>\n",
       "    </tr>\n",
       "  </tbody>\n",
       "</table>\n",
       "</div>"
      ],
      "text/plain": [
       "               count    sum\n",
       "user_id month              \n",
       "1000    5         22  159.0\n",
       "        6         43  172.0\n",
       "        7         47  340.0\n",
       "        8         52  408.0\n",
       "        9         58  466.0"
      ]
     },
     "execution_count": 39,
     "metadata": {},
     "output_type": "execute_result"
    }
   ],
   "source": [
    "calls_1 = calls.groupby(['user_id', 'month'], as_index=False)['duration_round'].agg(['count', 'sum'])\n",
    "calls_1.head()"
   ]
  },
  {
   "cell_type": "markdown",
   "metadata": {},
   "source": [
    "**Посчитаем для каждого пользователя количество отправленных сообщений по месяцам**"
   ]
  },
  {
   "cell_type": "markdown",
   "metadata": {},
   "source": [
    "Добавим в таблицу messages столбец с месяцем сообщения"
   ]
  },
  {
   "cell_type": "code",
   "execution_count": 40,
   "metadata": {},
   "outputs": [],
   "source": [
    "messages['month'] = messages['message_date'].dt.month"
   ]
  },
  {
   "cell_type": "code",
   "execution_count": 41,
   "metadata": {},
   "outputs": [
    {
     "data": {
      "text/html": [
       "<div>\n",
       "<style scoped>\n",
       "    .dataframe tbody tr th:only-of-type {\n",
       "        vertical-align: middle;\n",
       "    }\n",
       "\n",
       "    .dataframe tbody tr th {\n",
       "        vertical-align: top;\n",
       "    }\n",
       "\n",
       "    .dataframe thead th {\n",
       "        text-align: right;\n",
       "    }\n",
       "</style>\n",
       "<table border=\"1\" class=\"dataframe\">\n",
       "  <thead>\n",
       "    <tr style=\"text-align: right;\">\n",
       "      <th></th>\n",
       "      <th>id</th>\n",
       "      <th>message_date</th>\n",
       "      <th>user_id</th>\n",
       "      <th>month</th>\n",
       "    </tr>\n",
       "  </thead>\n",
       "  <tbody>\n",
       "    <tr>\n",
       "      <th>0</th>\n",
       "      <td>1000_0</td>\n",
       "      <td>2018-06-27</td>\n",
       "      <td>1000</td>\n",
       "      <td>6</td>\n",
       "    </tr>\n",
       "    <tr>\n",
       "      <th>1</th>\n",
       "      <td>1000_1</td>\n",
       "      <td>2018-10-08</td>\n",
       "      <td>1000</td>\n",
       "      <td>10</td>\n",
       "    </tr>\n",
       "    <tr>\n",
       "      <th>2</th>\n",
       "      <td>1000_2</td>\n",
       "      <td>2018-08-04</td>\n",
       "      <td>1000</td>\n",
       "      <td>8</td>\n",
       "    </tr>\n",
       "    <tr>\n",
       "      <th>3</th>\n",
       "      <td>1000_3</td>\n",
       "      <td>2018-06-16</td>\n",
       "      <td>1000</td>\n",
       "      <td>6</td>\n",
       "    </tr>\n",
       "    <tr>\n",
       "      <th>4</th>\n",
       "      <td>1000_4</td>\n",
       "      <td>2018-12-05</td>\n",
       "      <td>1000</td>\n",
       "      <td>12</td>\n",
       "    </tr>\n",
       "  </tbody>\n",
       "</table>\n",
       "</div>"
      ],
      "text/plain": [
       "       id message_date  user_id  month\n",
       "0  1000_0   2018-06-27     1000      6\n",
       "1  1000_1   2018-10-08     1000     10\n",
       "2  1000_2   2018-08-04     1000      8\n",
       "3  1000_3   2018-06-16     1000      6\n",
       "4  1000_4   2018-12-05     1000     12"
      ]
     },
     "execution_count": 41,
     "metadata": {},
     "output_type": "execute_result"
    }
   ],
   "source": [
    "messages.head()"
   ]
  },
  {
   "cell_type": "markdown",
   "metadata": {},
   "source": [
    "Создадим таблицу messages_months с количеством отправленных пользователями сообщений по месяцам."
   ]
  },
  {
   "cell_type": "code",
   "execution_count": 42,
   "metadata": {},
   "outputs": [
    {
     "data": {
      "text/html": [
       "<div>\n",
       "<style scoped>\n",
       "    .dataframe tbody tr th:only-of-type {\n",
       "        vertical-align: middle;\n",
       "    }\n",
       "\n",
       "    .dataframe tbody tr th {\n",
       "        vertical-align: top;\n",
       "    }\n",
       "\n",
       "    .dataframe thead th {\n",
       "        text-align: right;\n",
       "    }\n",
       "</style>\n",
       "<table border=\"1\" class=\"dataframe\">\n",
       "  <thead>\n",
       "    <tr style=\"text-align: right;\">\n",
       "      <th></th>\n",
       "      <th></th>\n",
       "      <th>count</th>\n",
       "    </tr>\n",
       "    <tr>\n",
       "      <th>user_id</th>\n",
       "      <th>month</th>\n",
       "      <th></th>\n",
       "    </tr>\n",
       "  </thead>\n",
       "  <tbody>\n",
       "    <tr>\n",
       "      <th rowspan=\"5\" valign=\"top\">1000</th>\n",
       "      <th>5</th>\n",
       "      <td>22</td>\n",
       "    </tr>\n",
       "    <tr>\n",
       "      <th>6</th>\n",
       "      <td>60</td>\n",
       "    </tr>\n",
       "    <tr>\n",
       "      <th>7</th>\n",
       "      <td>75</td>\n",
       "    </tr>\n",
       "    <tr>\n",
       "      <th>8</th>\n",
       "      <td>81</td>\n",
       "    </tr>\n",
       "    <tr>\n",
       "      <th>9</th>\n",
       "      <td>57</td>\n",
       "    </tr>\n",
       "  </tbody>\n",
       "</table>\n",
       "</div>"
      ],
      "text/plain": [
       "               count\n",
       "user_id month       \n",
       "1000    5         22\n",
       "        6         60\n",
       "        7         75\n",
       "        8         81\n",
       "        9         57"
      ]
     },
     "execution_count": 42,
     "metadata": {},
     "output_type": "execute_result"
    }
   ],
   "source": [
    "messages_months = messages.groupby(['user_id', 'month'])['message_date'].agg(['count'])\n",
    "messages_months.head()"
   ]
  },
  {
   "cell_type": "markdown",
   "metadata": {},
   "source": [
    "**Посчитаем для каждого пользователя объем израсходованного интернет-трафика по месяцам**"
   ]
  },
  {
   "cell_type": "markdown",
   "metadata": {},
   "source": [
    "Добавим в таблицу internet столбец с месяцем трафика"
   ]
  },
  {
   "cell_type": "code",
   "execution_count": 43,
   "metadata": {},
   "outputs": [],
   "source": [
    "internet['month'] = internet['session_date'].dt.month"
   ]
  },
  {
   "cell_type": "markdown",
   "metadata": {},
   "source": [
    "Создадим таблицу internet_months с количеством трафика пользователей округленного до гигабайт по месяцам."
   ]
  },
  {
   "cell_type": "code",
   "execution_count": 44,
   "metadata": {},
   "outputs": [
    {
     "data": {
      "text/html": [
       "<div>\n",
       "<style scoped>\n",
       "    .dataframe tbody tr th:only-of-type {\n",
       "        vertical-align: middle;\n",
       "    }\n",
       "\n",
       "    .dataframe tbody tr th {\n",
       "        vertical-align: top;\n",
       "    }\n",
       "\n",
       "    .dataframe thead th {\n",
       "        text-align: right;\n",
       "    }\n",
       "</style>\n",
       "<table border=\"1\" class=\"dataframe\">\n",
       "  <thead>\n",
       "    <tr style=\"text-align: right;\">\n",
       "      <th></th>\n",
       "      <th>id</th>\n",
       "      <th>mb_used</th>\n",
       "      <th>session_date</th>\n",
       "      <th>user_id</th>\n",
       "      <th>month</th>\n",
       "    </tr>\n",
       "  </thead>\n",
       "  <tbody>\n",
       "    <tr>\n",
       "      <th>0</th>\n",
       "      <td>1000_0</td>\n",
       "      <td>112.95</td>\n",
       "      <td>2018-11-25</td>\n",
       "      <td>1000</td>\n",
       "      <td>11</td>\n",
       "    </tr>\n",
       "    <tr>\n",
       "      <th>1</th>\n",
       "      <td>1000_1</td>\n",
       "      <td>1052.81</td>\n",
       "      <td>2018-09-07</td>\n",
       "      <td>1000</td>\n",
       "      <td>9</td>\n",
       "    </tr>\n",
       "    <tr>\n",
       "      <th>2</th>\n",
       "      <td>1000_2</td>\n",
       "      <td>1197.26</td>\n",
       "      <td>2018-06-25</td>\n",
       "      <td>1000</td>\n",
       "      <td>6</td>\n",
       "    </tr>\n",
       "    <tr>\n",
       "      <th>3</th>\n",
       "      <td>1000_3</td>\n",
       "      <td>550.27</td>\n",
       "      <td>2018-08-22</td>\n",
       "      <td>1000</td>\n",
       "      <td>8</td>\n",
       "    </tr>\n",
       "    <tr>\n",
       "      <th>4</th>\n",
       "      <td>1000_4</td>\n",
       "      <td>302.56</td>\n",
       "      <td>2018-09-24</td>\n",
       "      <td>1000</td>\n",
       "      <td>9</td>\n",
       "    </tr>\n",
       "  </tbody>\n",
       "</table>\n",
       "</div>"
      ],
      "text/plain": [
       "       id  mb_used session_date  user_id  month\n",
       "0  1000_0   112.95   2018-11-25     1000     11\n",
       "1  1000_1  1052.81   2018-09-07     1000      9\n",
       "2  1000_2  1197.26   2018-06-25     1000      6\n",
       "3  1000_3   550.27   2018-08-22     1000      8\n",
       "4  1000_4   302.56   2018-09-24     1000      9"
      ]
     },
     "execution_count": 44,
     "metadata": {},
     "output_type": "execute_result"
    }
   ],
   "source": [
    "internet.head()"
   ]
  },
  {
   "cell_type": "code",
   "execution_count": 45,
   "metadata": {},
   "outputs": [],
   "source": [
    "internet_months = internet.groupby(['user_id', 'month'], as_index=False)['mb_used'].agg(['sum'])"
   ]
  },
  {
   "cell_type": "code",
   "execution_count": 46,
   "metadata": {},
   "outputs": [
    {
     "data": {
      "text/html": [
       "<div>\n",
       "<style scoped>\n",
       "    .dataframe tbody tr th:only-of-type {\n",
       "        vertical-align: middle;\n",
       "    }\n",
       "\n",
       "    .dataframe tbody tr th {\n",
       "        vertical-align: top;\n",
       "    }\n",
       "\n",
       "    .dataframe thead th {\n",
       "        text-align: right;\n",
       "    }\n",
       "</style>\n",
       "<table border=\"1\" class=\"dataframe\">\n",
       "  <thead>\n",
       "    <tr style=\"text-align: right;\">\n",
       "      <th></th>\n",
       "      <th></th>\n",
       "      <th>sum</th>\n",
       "    </tr>\n",
       "    <tr>\n",
       "      <th>user_id</th>\n",
       "      <th>month</th>\n",
       "      <th></th>\n",
       "    </tr>\n",
       "  </thead>\n",
       "  <tbody>\n",
       "    <tr>\n",
       "      <th rowspan=\"5\" valign=\"top\">1000</th>\n",
       "      <th>5</th>\n",
       "      <td>2253.49</td>\n",
       "    </tr>\n",
       "    <tr>\n",
       "      <th>6</th>\n",
       "      <td>23233.77</td>\n",
       "    </tr>\n",
       "    <tr>\n",
       "      <th>7</th>\n",
       "      <td>14003.64</td>\n",
       "    </tr>\n",
       "    <tr>\n",
       "      <th>8</th>\n",
       "      <td>14055.93</td>\n",
       "    </tr>\n",
       "    <tr>\n",
       "      <th>9</th>\n",
       "      <td>14568.91</td>\n",
       "    </tr>\n",
       "  </tbody>\n",
       "</table>\n",
       "</div>"
      ],
      "text/plain": [
       "                    sum\n",
       "user_id month          \n",
       "1000    5       2253.49\n",
       "        6      23233.77\n",
       "        7      14003.64\n",
       "        8      14055.93\n",
       "        9      14568.91"
      ]
     },
     "execution_count": 46,
     "metadata": {},
     "output_type": "execute_result"
    }
   ],
   "source": [
    "internet_months.head()"
   ]
  },
  {
   "cell_type": "code",
   "execution_count": 47,
   "metadata": {},
   "outputs": [],
   "source": [
    "internet_months['sum'] = np.ceil(internet_months['sum'] / 1024)\n",
    "internet_months = internet_months.rename(columns={\"sum\": \"gb_used\"})"
   ]
  },
  {
   "cell_type": "code",
   "execution_count": 48,
   "metadata": {},
   "outputs": [
    {
     "data": {
      "text/html": [
       "<div>\n",
       "<style scoped>\n",
       "    .dataframe tbody tr th:only-of-type {\n",
       "        vertical-align: middle;\n",
       "    }\n",
       "\n",
       "    .dataframe tbody tr th {\n",
       "        vertical-align: top;\n",
       "    }\n",
       "\n",
       "    .dataframe thead th {\n",
       "        text-align: right;\n",
       "    }\n",
       "</style>\n",
       "<table border=\"1\" class=\"dataframe\">\n",
       "  <thead>\n",
       "    <tr style=\"text-align: right;\">\n",
       "      <th></th>\n",
       "      <th></th>\n",
       "      <th>gb_used</th>\n",
       "    </tr>\n",
       "    <tr>\n",
       "      <th>user_id</th>\n",
       "      <th>month</th>\n",
       "      <th></th>\n",
       "    </tr>\n",
       "  </thead>\n",
       "  <tbody>\n",
       "    <tr>\n",
       "      <th rowspan=\"5\" valign=\"top\">1000</th>\n",
       "      <th>5</th>\n",
       "      <td>3.0</td>\n",
       "    </tr>\n",
       "    <tr>\n",
       "      <th>6</th>\n",
       "      <td>23.0</td>\n",
       "    </tr>\n",
       "    <tr>\n",
       "      <th>7</th>\n",
       "      <td>14.0</td>\n",
       "    </tr>\n",
       "    <tr>\n",
       "      <th>8</th>\n",
       "      <td>14.0</td>\n",
       "    </tr>\n",
       "    <tr>\n",
       "      <th>9</th>\n",
       "      <td>15.0</td>\n",
       "    </tr>\n",
       "  </tbody>\n",
       "</table>\n",
       "</div>"
      ],
      "text/plain": [
       "               gb_used\n",
       "user_id month         \n",
       "1000    5          3.0\n",
       "        6         23.0\n",
       "        7         14.0\n",
       "        8         14.0\n",
       "        9         15.0"
      ]
     },
     "execution_count": 48,
     "metadata": {},
     "output_type": "execute_result"
    }
   ],
   "source": [
    "internet_months.head()"
   ]
  },
  {
   "cell_type": "markdown",
   "metadata": {},
   "source": [
    "**Посчитаем для каждого пользователя помесячную выручку с каждого пользователя.**"
   ]
  },
  {
   "cell_type": "code",
   "execution_count": 49,
   "metadata": {},
   "outputs": [
    {
     "data": {
      "text/html": [
       "<div>\n",
       "<style scoped>\n",
       "    .dataframe tbody tr th:only-of-type {\n",
       "        vertical-align: middle;\n",
       "    }\n",
       "\n",
       "    .dataframe tbody tr th {\n",
       "        vertical-align: top;\n",
       "    }\n",
       "\n",
       "    .dataframe thead th {\n",
       "        text-align: right;\n",
       "    }\n",
       "</style>\n",
       "<table border=\"1\" class=\"dataframe\">\n",
       "  <thead>\n",
       "    <tr style=\"text-align: right;\">\n",
       "      <th></th>\n",
       "      <th></th>\n",
       "      <th>count</th>\n",
       "      <th>sum</th>\n",
       "    </tr>\n",
       "    <tr>\n",
       "      <th>user_id</th>\n",
       "      <th>month</th>\n",
       "      <th></th>\n",
       "      <th></th>\n",
       "    </tr>\n",
       "  </thead>\n",
       "  <tbody>\n",
       "    <tr>\n",
       "      <th rowspan=\"5\" valign=\"top\">1000</th>\n",
       "      <th>5</th>\n",
       "      <td>22</td>\n",
       "      <td>159.0</td>\n",
       "    </tr>\n",
       "    <tr>\n",
       "      <th>6</th>\n",
       "      <td>43</td>\n",
       "      <td>172.0</td>\n",
       "    </tr>\n",
       "    <tr>\n",
       "      <th>7</th>\n",
       "      <td>47</td>\n",
       "      <td>340.0</td>\n",
       "    </tr>\n",
       "    <tr>\n",
       "      <th>8</th>\n",
       "      <td>52</td>\n",
       "      <td>408.0</td>\n",
       "    </tr>\n",
       "    <tr>\n",
       "      <th>9</th>\n",
       "      <td>58</td>\n",
       "      <td>466.0</td>\n",
       "    </tr>\n",
       "  </tbody>\n",
       "</table>\n",
       "</div>"
      ],
      "text/plain": [
       "               count    sum\n",
       "user_id month              \n",
       "1000    5         22  159.0\n",
       "        6         43  172.0\n",
       "        7         47  340.0\n",
       "        8         52  408.0\n",
       "        9         58  466.0"
      ]
     },
     "execution_count": 49,
     "metadata": {},
     "output_type": "execute_result"
    }
   ],
   "source": [
    "calls_months.head()"
   ]
  },
  {
   "cell_type": "code",
   "execution_count": 50,
   "metadata": {},
   "outputs": [
    {
     "data": {
      "text/html": [
       "<div>\n",
       "<style scoped>\n",
       "    .dataframe tbody tr th:only-of-type {\n",
       "        vertical-align: middle;\n",
       "    }\n",
       "\n",
       "    .dataframe tbody tr th {\n",
       "        vertical-align: top;\n",
       "    }\n",
       "\n",
       "    .dataframe thead th {\n",
       "        text-align: right;\n",
       "    }\n",
       "</style>\n",
       "<table border=\"1\" class=\"dataframe\">\n",
       "  <thead>\n",
       "    <tr style=\"text-align: right;\">\n",
       "      <th></th>\n",
       "      <th>user_id</th>\n",
       "      <th>age</th>\n",
       "      <th>churn_date</th>\n",
       "      <th>city</th>\n",
       "      <th>first_name</th>\n",
       "      <th>last_name</th>\n",
       "      <th>reg_date</th>\n",
       "      <th>tariff</th>\n",
       "    </tr>\n",
       "  </thead>\n",
       "  <tbody>\n",
       "    <tr>\n",
       "      <th>0</th>\n",
       "      <td>1000</td>\n",
       "      <td>52</td>\n",
       "      <td>NaT</td>\n",
       "      <td>Краснодар</td>\n",
       "      <td>Рафаил</td>\n",
       "      <td>Верещагин</td>\n",
       "      <td>2018-05-25</td>\n",
       "      <td>ultra</td>\n",
       "    </tr>\n",
       "    <tr>\n",
       "      <th>1</th>\n",
       "      <td>1001</td>\n",
       "      <td>41</td>\n",
       "      <td>NaT</td>\n",
       "      <td>Москва</td>\n",
       "      <td>Иван</td>\n",
       "      <td>Ежов</td>\n",
       "      <td>2018-11-01</td>\n",
       "      <td>smart</td>\n",
       "    </tr>\n",
       "    <tr>\n",
       "      <th>2</th>\n",
       "      <td>1002</td>\n",
       "      <td>59</td>\n",
       "      <td>NaT</td>\n",
       "      <td>Стерлитамак</td>\n",
       "      <td>Евгений</td>\n",
       "      <td>Абрамович</td>\n",
       "      <td>2018-06-17</td>\n",
       "      <td>smart</td>\n",
       "    </tr>\n",
       "    <tr>\n",
       "      <th>3</th>\n",
       "      <td>1003</td>\n",
       "      <td>23</td>\n",
       "      <td>NaT</td>\n",
       "      <td>Москва</td>\n",
       "      <td>Белла</td>\n",
       "      <td>Белякова</td>\n",
       "      <td>2018-08-17</td>\n",
       "      <td>ultra</td>\n",
       "    </tr>\n",
       "    <tr>\n",
       "      <th>4</th>\n",
       "      <td>1004</td>\n",
       "      <td>68</td>\n",
       "      <td>NaT</td>\n",
       "      <td>Новокузнецк</td>\n",
       "      <td>Татьяна</td>\n",
       "      <td>Авдеенко</td>\n",
       "      <td>2018-05-14</td>\n",
       "      <td>ultra</td>\n",
       "    </tr>\n",
       "  </tbody>\n",
       "</table>\n",
       "</div>"
      ],
      "text/plain": [
       "   user_id  age churn_date         city first_name  last_name   reg_date  \\\n",
       "0     1000   52        NaT    Краснодар     Рафаил  Верещагин 2018-05-25   \n",
       "1     1001   41        NaT       Москва       Иван       Ежов 2018-11-01   \n",
       "2     1002   59        NaT  Стерлитамак    Евгений  Абрамович 2018-06-17   \n",
       "3     1003   23        NaT       Москва      Белла   Белякова 2018-08-17   \n",
       "4     1004   68        NaT  Новокузнецк    Татьяна   Авдеенко 2018-05-14   \n",
       "\n",
       "  tariff  \n",
       "0  ultra  \n",
       "1  smart  \n",
       "2  smart  \n",
       "3  ultra  \n",
       "4  ultra  "
      ]
     },
     "execution_count": 50,
     "metadata": {},
     "output_type": "execute_result"
    }
   ],
   "source": [
    "users.head()"
   ]
  },
  {
   "cell_type": "code",
   "execution_count": 51,
   "metadata": {},
   "outputs": [
    {
     "data": {
      "text/html": [
       "<div>\n",
       "<style scoped>\n",
       "    .dataframe tbody tr th:only-of-type {\n",
       "        vertical-align: middle;\n",
       "    }\n",
       "\n",
       "    .dataframe tbody tr th {\n",
       "        vertical-align: top;\n",
       "    }\n",
       "\n",
       "    .dataframe thead th {\n",
       "        text-align: right;\n",
       "    }\n",
       "</style>\n",
       "<table border=\"1\" class=\"dataframe\">\n",
       "  <thead>\n",
       "    <tr style=\"text-align: right;\">\n",
       "      <th></th>\n",
       "      <th>messages_included</th>\n",
       "      <th>mb_per_month_included</th>\n",
       "      <th>minutes_included</th>\n",
       "      <th>rub_monthly_fee</th>\n",
       "      <th>rub_per_gb</th>\n",
       "      <th>rub_per_message</th>\n",
       "      <th>rub_per_minute</th>\n",
       "      <th>tariff_name</th>\n",
       "    </tr>\n",
       "  </thead>\n",
       "  <tbody>\n",
       "    <tr>\n",
       "      <th>0</th>\n",
       "      <td>50</td>\n",
       "      <td>15360</td>\n",
       "      <td>500</td>\n",
       "      <td>550</td>\n",
       "      <td>200</td>\n",
       "      <td>3</td>\n",
       "      <td>3</td>\n",
       "      <td>smart</td>\n",
       "    </tr>\n",
       "    <tr>\n",
       "      <th>1</th>\n",
       "      <td>1000</td>\n",
       "      <td>30720</td>\n",
       "      <td>3000</td>\n",
       "      <td>1950</td>\n",
       "      <td>150</td>\n",
       "      <td>1</td>\n",
       "      <td>1</td>\n",
       "      <td>ultra</td>\n",
       "    </tr>\n",
       "  </tbody>\n",
       "</table>\n",
       "</div>"
      ],
      "text/plain": [
       "   messages_included  mb_per_month_included  minutes_included  \\\n",
       "0                 50                  15360               500   \n",
       "1               1000                  30720              3000   \n",
       "\n",
       "   rub_monthly_fee  rub_per_gb  rub_per_message  rub_per_minute tariff_name  \n",
       "0              550         200                3               3       smart  \n",
       "1             1950         150                1               1       ultra  "
      ]
     },
     "execution_count": 51,
     "metadata": {},
     "output_type": "execute_result"
    }
   ],
   "source": [
    "tariffs.head()"
   ]
  },
  {
   "cell_type": "code",
   "execution_count": 52,
   "metadata": {},
   "outputs": [
    {
     "data": {
      "text/html": [
       "<div>\n",
       "<style scoped>\n",
       "    .dataframe tbody tr th:only-of-type {\n",
       "        vertical-align: middle;\n",
       "    }\n",
       "\n",
       "    .dataframe tbody tr th {\n",
       "        vertical-align: top;\n",
       "    }\n",
       "\n",
       "    .dataframe thead th {\n",
       "        text-align: right;\n",
       "    }\n",
       "</style>\n",
       "<table border=\"1\" class=\"dataframe\">\n",
       "  <thead>\n",
       "    <tr style=\"text-align: right;\">\n",
       "      <th></th>\n",
       "      <th></th>\n",
       "      <th>count</th>\n",
       "      <th>sum</th>\n",
       "    </tr>\n",
       "    <tr>\n",
       "      <th>user_id</th>\n",
       "      <th>month</th>\n",
       "      <th></th>\n",
       "      <th></th>\n",
       "    </tr>\n",
       "  </thead>\n",
       "  <tbody>\n",
       "    <tr>\n",
       "      <th rowspan=\"5\" valign=\"top\">1000</th>\n",
       "      <th>5</th>\n",
       "      <td>22</td>\n",
       "      <td>159.0</td>\n",
       "    </tr>\n",
       "    <tr>\n",
       "      <th>6</th>\n",
       "      <td>43</td>\n",
       "      <td>172.0</td>\n",
       "    </tr>\n",
       "    <tr>\n",
       "      <th>7</th>\n",
       "      <td>47</td>\n",
       "      <td>340.0</td>\n",
       "    </tr>\n",
       "    <tr>\n",
       "      <th>8</th>\n",
       "      <td>52</td>\n",
       "      <td>408.0</td>\n",
       "    </tr>\n",
       "    <tr>\n",
       "      <th>9</th>\n",
       "      <td>58</td>\n",
       "      <td>466.0</td>\n",
       "    </tr>\n",
       "  </tbody>\n",
       "</table>\n",
       "</div>"
      ],
      "text/plain": [
       "               count    sum\n",
       "user_id month              \n",
       "1000    5         22  159.0\n",
       "        6         43  172.0\n",
       "        7         47  340.0\n",
       "        8         52  408.0\n",
       "        9         58  466.0"
      ]
     },
     "execution_count": 52,
     "metadata": {},
     "output_type": "execute_result"
    }
   ],
   "source": [
    "calls_months.head()"
   ]
  },
  {
   "cell_type": "code",
   "execution_count": 53,
   "metadata": {},
   "outputs": [
    {
     "data": {
      "text/html": [
       "<div>\n",
       "<style scoped>\n",
       "    .dataframe tbody tr th:only-of-type {\n",
       "        vertical-align: middle;\n",
       "    }\n",
       "\n",
       "    .dataframe tbody tr th {\n",
       "        vertical-align: top;\n",
       "    }\n",
       "\n",
       "    .dataframe thead th {\n",
       "        text-align: right;\n",
       "    }\n",
       "</style>\n",
       "<table border=\"1\" class=\"dataframe\">\n",
       "  <thead>\n",
       "    <tr style=\"text-align: right;\">\n",
       "      <th></th>\n",
       "      <th></th>\n",
       "      <th>count</th>\n",
       "    </tr>\n",
       "    <tr>\n",
       "      <th>user_id</th>\n",
       "      <th>month</th>\n",
       "      <th></th>\n",
       "    </tr>\n",
       "  </thead>\n",
       "  <tbody>\n",
       "    <tr>\n",
       "      <th rowspan=\"5\" valign=\"top\">1000</th>\n",
       "      <th>5</th>\n",
       "      <td>22</td>\n",
       "    </tr>\n",
       "    <tr>\n",
       "      <th>6</th>\n",
       "      <td>60</td>\n",
       "    </tr>\n",
       "    <tr>\n",
       "      <th>7</th>\n",
       "      <td>75</td>\n",
       "    </tr>\n",
       "    <tr>\n",
       "      <th>8</th>\n",
       "      <td>81</td>\n",
       "    </tr>\n",
       "    <tr>\n",
       "      <th>9</th>\n",
       "      <td>57</td>\n",
       "    </tr>\n",
       "  </tbody>\n",
       "</table>\n",
       "</div>"
      ],
      "text/plain": [
       "               count\n",
       "user_id month       \n",
       "1000    5         22\n",
       "        6         60\n",
       "        7         75\n",
       "        8         81\n",
       "        9         57"
      ]
     },
     "execution_count": 53,
     "metadata": {},
     "output_type": "execute_result"
    }
   ],
   "source": [
    "messages_months.head()"
   ]
  },
  {
   "cell_type": "code",
   "execution_count": 54,
   "metadata": {},
   "outputs": [
    {
     "data": {
      "text/html": [
       "<div>\n",
       "<style scoped>\n",
       "    .dataframe tbody tr th:only-of-type {\n",
       "        vertical-align: middle;\n",
       "    }\n",
       "\n",
       "    .dataframe tbody tr th {\n",
       "        vertical-align: top;\n",
       "    }\n",
       "\n",
       "    .dataframe thead th {\n",
       "        text-align: right;\n",
       "    }\n",
       "</style>\n",
       "<table border=\"1\" class=\"dataframe\">\n",
       "  <thead>\n",
       "    <tr style=\"text-align: right;\">\n",
       "      <th></th>\n",
       "      <th></th>\n",
       "      <th>gb_used</th>\n",
       "    </tr>\n",
       "    <tr>\n",
       "      <th>user_id</th>\n",
       "      <th>month</th>\n",
       "      <th></th>\n",
       "    </tr>\n",
       "  </thead>\n",
       "  <tbody>\n",
       "    <tr>\n",
       "      <th rowspan=\"5\" valign=\"top\">1000</th>\n",
       "      <th>5</th>\n",
       "      <td>3.0</td>\n",
       "    </tr>\n",
       "    <tr>\n",
       "      <th>6</th>\n",
       "      <td>23.0</td>\n",
       "    </tr>\n",
       "    <tr>\n",
       "      <th>7</th>\n",
       "      <td>14.0</td>\n",
       "    </tr>\n",
       "    <tr>\n",
       "      <th>8</th>\n",
       "      <td>14.0</td>\n",
       "    </tr>\n",
       "    <tr>\n",
       "      <th>9</th>\n",
       "      <td>15.0</td>\n",
       "    </tr>\n",
       "  </tbody>\n",
       "</table>\n",
       "</div>"
      ],
      "text/plain": [
       "               gb_used\n",
       "user_id month         \n",
       "1000    5          3.0\n",
       "        6         23.0\n",
       "        7         14.0\n",
       "        8         14.0\n",
       "        9         15.0"
      ]
     },
     "execution_count": 54,
     "metadata": {},
     "output_type": "execute_result"
    }
   ],
   "source": [
    "internet_months.head()"
   ]
  },
  {
   "cell_type": "markdown",
   "metadata": {},
   "source": [
    "Объединим таблицы с количеством потраченных минут, сообщений и интернет траффика по месяцам в одну таблицу - full_spend."
   ]
  },
  {
   "cell_type": "code",
   "execution_count": 55,
   "metadata": {},
   "outputs": [],
   "source": [
    "full_spend = calls_months.\\\n",
    "    join(messages_months, on=['user_id','month'], lsuffix='_calls', rsuffix='_messages', how='outer')"
   ]
  },
  {
   "cell_type": "code",
   "execution_count": 56,
   "metadata": {},
   "outputs": [
    {
     "data": {
      "text/html": [
       "<div>\n",
       "<style scoped>\n",
       "    .dataframe tbody tr th:only-of-type {\n",
       "        vertical-align: middle;\n",
       "    }\n",
       "\n",
       "    .dataframe tbody tr th {\n",
       "        vertical-align: top;\n",
       "    }\n",
       "\n",
       "    .dataframe thead th {\n",
       "        text-align: right;\n",
       "    }\n",
       "</style>\n",
       "<table border=\"1\" class=\"dataframe\">\n",
       "  <thead>\n",
       "    <tr style=\"text-align: right;\">\n",
       "      <th></th>\n",
       "      <th></th>\n",
       "      <th>count_calls</th>\n",
       "      <th>sum</th>\n",
       "      <th>count_messages</th>\n",
       "    </tr>\n",
       "    <tr>\n",
       "      <th>user_id</th>\n",
       "      <th>month</th>\n",
       "      <th></th>\n",
       "      <th></th>\n",
       "      <th></th>\n",
       "    </tr>\n",
       "  </thead>\n",
       "  <tbody>\n",
       "    <tr>\n",
       "      <th rowspan=\"5\" valign=\"top\">1000</th>\n",
       "      <th>5</th>\n",
       "      <td>22.0</td>\n",
       "      <td>159.0</td>\n",
       "      <td>22.0</td>\n",
       "    </tr>\n",
       "    <tr>\n",
       "      <th>6</th>\n",
       "      <td>43.0</td>\n",
       "      <td>172.0</td>\n",
       "      <td>60.0</td>\n",
       "    </tr>\n",
       "    <tr>\n",
       "      <th>7</th>\n",
       "      <td>47.0</td>\n",
       "      <td>340.0</td>\n",
       "      <td>75.0</td>\n",
       "    </tr>\n",
       "    <tr>\n",
       "      <th>8</th>\n",
       "      <td>52.0</td>\n",
       "      <td>408.0</td>\n",
       "      <td>81.0</td>\n",
       "    </tr>\n",
       "    <tr>\n",
       "      <th>9</th>\n",
       "      <td>58.0</td>\n",
       "      <td>466.0</td>\n",
       "      <td>57.0</td>\n",
       "    </tr>\n",
       "  </tbody>\n",
       "</table>\n",
       "</div>"
      ],
      "text/plain": [
       "               count_calls    sum  count_messages\n",
       "user_id month                                    \n",
       "1000    5             22.0  159.0            22.0\n",
       "        6             43.0  172.0            60.0\n",
       "        7             47.0  340.0            75.0\n",
       "        8             52.0  408.0            81.0\n",
       "        9             58.0  466.0            57.0"
      ]
     },
     "execution_count": 56,
     "metadata": {},
     "output_type": "execute_result"
    }
   ],
   "source": [
    "full_spend.head()"
   ]
  },
  {
   "cell_type": "code",
   "execution_count": 57,
   "metadata": {},
   "outputs": [],
   "source": [
    "full_spend = full_spend.\\\n",
    "    join(internet_months, on=['user_id','month'], how='outer')"
   ]
  },
  {
   "cell_type": "code",
   "execution_count": 58,
   "metadata": {},
   "outputs": [
    {
     "data": {
      "text/html": [
       "<div>\n",
       "<style scoped>\n",
       "    .dataframe tbody tr th:only-of-type {\n",
       "        vertical-align: middle;\n",
       "    }\n",
       "\n",
       "    .dataframe tbody tr th {\n",
       "        vertical-align: top;\n",
       "    }\n",
       "\n",
       "    .dataframe thead th {\n",
       "        text-align: right;\n",
       "    }\n",
       "</style>\n",
       "<table border=\"1\" class=\"dataframe\">\n",
       "  <thead>\n",
       "    <tr style=\"text-align: right;\">\n",
       "      <th></th>\n",
       "      <th></th>\n",
       "      <th>count_calls</th>\n",
       "      <th>sum</th>\n",
       "      <th>count_messages</th>\n",
       "      <th>gb_used</th>\n",
       "    </tr>\n",
       "    <tr>\n",
       "      <th>user_id</th>\n",
       "      <th>month</th>\n",
       "      <th></th>\n",
       "      <th></th>\n",
       "      <th></th>\n",
       "      <th></th>\n",
       "    </tr>\n",
       "  </thead>\n",
       "  <tbody>\n",
       "    <tr>\n",
       "      <th rowspan=\"5\" valign=\"top\">1000</th>\n",
       "      <th>5</th>\n",
       "      <td>22.0</td>\n",
       "      <td>159.0</td>\n",
       "      <td>22.0</td>\n",
       "      <td>3.0</td>\n",
       "    </tr>\n",
       "    <tr>\n",
       "      <th>6</th>\n",
       "      <td>43.0</td>\n",
       "      <td>172.0</td>\n",
       "      <td>60.0</td>\n",
       "      <td>23.0</td>\n",
       "    </tr>\n",
       "    <tr>\n",
       "      <th>7</th>\n",
       "      <td>47.0</td>\n",
       "      <td>340.0</td>\n",
       "      <td>75.0</td>\n",
       "      <td>14.0</td>\n",
       "    </tr>\n",
       "    <tr>\n",
       "      <th>8</th>\n",
       "      <td>52.0</td>\n",
       "      <td>408.0</td>\n",
       "      <td>81.0</td>\n",
       "      <td>14.0</td>\n",
       "    </tr>\n",
       "    <tr>\n",
       "      <th>9</th>\n",
       "      <td>58.0</td>\n",
       "      <td>466.0</td>\n",
       "      <td>57.0</td>\n",
       "      <td>15.0</td>\n",
       "    </tr>\n",
       "  </tbody>\n",
       "</table>\n",
       "</div>"
      ],
      "text/plain": [
       "               count_calls    sum  count_messages  gb_used\n",
       "user_id month                                             \n",
       "1000    5             22.0  159.0            22.0      3.0\n",
       "        6             43.0  172.0            60.0     23.0\n",
       "        7             47.0  340.0            75.0     14.0\n",
       "        8             52.0  408.0            81.0     14.0\n",
       "        9             58.0  466.0            57.0     15.0"
      ]
     },
     "execution_count": 58,
     "metadata": {},
     "output_type": "execute_result"
    }
   ],
   "source": [
    "full_spend.head()"
   ]
  },
  {
   "cell_type": "markdown",
   "metadata": {},
   "source": [
    "Добавим в таблицу users данные по тарифу"
   ]
  },
  {
   "cell_type": "code",
   "execution_count": 59,
   "metadata": {},
   "outputs": [],
   "source": [
    "users = users.rename(columns={'tariff' : 'tariff_name'})"
   ]
  },
  {
   "cell_type": "code",
   "execution_count": 60,
   "metadata": {},
   "outputs": [
    {
     "name": "stdout",
     "output_type": "stream",
     "text": [
      "<class 'pandas.core.frame.DataFrame'>\n",
      "RangeIndex: 500 entries, 0 to 499\n",
      "Data columns (total 8 columns):\n",
      " #   Column       Non-Null Count  Dtype         \n",
      "---  ------       --------------  -----         \n",
      " 0   user_id      500 non-null    int64         \n",
      " 1   age          500 non-null    int64         \n",
      " 2   churn_date   38 non-null     datetime64[ns]\n",
      " 3   city         500 non-null    object        \n",
      " 4   first_name   500 non-null    object        \n",
      " 5   last_name    500 non-null    object        \n",
      " 6   reg_date     500 non-null    datetime64[ns]\n",
      " 7   tariff_name  500 non-null    object        \n",
      "dtypes: datetime64[ns](2), int64(2), object(4)\n",
      "memory usage: 31.4+ KB\n"
     ]
    }
   ],
   "source": [
    "users.info()"
   ]
  },
  {
   "cell_type": "code",
   "execution_count": 61,
   "metadata": {},
   "outputs": [
    {
     "name": "stdout",
     "output_type": "stream",
     "text": [
      "<class 'pandas.core.frame.DataFrame'>\n",
      "RangeIndex: 2 entries, 0 to 1\n",
      "Data columns (total 8 columns):\n",
      " #   Column                 Non-Null Count  Dtype \n",
      "---  ------                 --------------  ----- \n",
      " 0   messages_included      2 non-null      int64 \n",
      " 1   mb_per_month_included  2 non-null      int64 \n",
      " 2   minutes_included       2 non-null      int64 \n",
      " 3   rub_monthly_fee        2 non-null      int64 \n",
      " 4   rub_per_gb             2 non-null      int64 \n",
      " 5   rub_per_message        2 non-null      int64 \n",
      " 6   rub_per_minute         2 non-null      int64 \n",
      " 7   tariff_name            2 non-null      object\n",
      "dtypes: int64(7), object(1)\n",
      "memory usage: 256.0+ bytes\n"
     ]
    }
   ],
   "source": [
    "tariffs.info()"
   ]
  },
  {
   "cell_type": "code",
   "execution_count": 62,
   "metadata": {},
   "outputs": [],
   "source": [
    "users = users.merge(tariffs, on='tariff_name')"
   ]
  },
  {
   "cell_type": "code",
   "execution_count": 63,
   "metadata": {},
   "outputs": [
    {
     "data": {
      "text/html": [
       "<div>\n",
       "<style scoped>\n",
       "    .dataframe tbody tr th:only-of-type {\n",
       "        vertical-align: middle;\n",
       "    }\n",
       "\n",
       "    .dataframe tbody tr th {\n",
       "        vertical-align: top;\n",
       "    }\n",
       "\n",
       "    .dataframe thead th {\n",
       "        text-align: right;\n",
       "    }\n",
       "</style>\n",
       "<table border=\"1\" class=\"dataframe\">\n",
       "  <thead>\n",
       "    <tr style=\"text-align: right;\">\n",
       "      <th></th>\n",
       "      <th>user_id</th>\n",
       "      <th>age</th>\n",
       "      <th>churn_date</th>\n",
       "      <th>city</th>\n",
       "      <th>first_name</th>\n",
       "      <th>last_name</th>\n",
       "      <th>reg_date</th>\n",
       "      <th>tariff_name</th>\n",
       "      <th>messages_included</th>\n",
       "      <th>mb_per_month_included</th>\n",
       "      <th>minutes_included</th>\n",
       "      <th>rub_monthly_fee</th>\n",
       "      <th>rub_per_gb</th>\n",
       "      <th>rub_per_message</th>\n",
       "      <th>rub_per_minute</th>\n",
       "    </tr>\n",
       "  </thead>\n",
       "  <tbody>\n",
       "    <tr>\n",
       "      <th>0</th>\n",
       "      <td>1000</td>\n",
       "      <td>52</td>\n",
       "      <td>NaT</td>\n",
       "      <td>Краснодар</td>\n",
       "      <td>Рафаил</td>\n",
       "      <td>Верещагин</td>\n",
       "      <td>2018-05-25</td>\n",
       "      <td>ultra</td>\n",
       "      <td>1000</td>\n",
       "      <td>30720</td>\n",
       "      <td>3000</td>\n",
       "      <td>1950</td>\n",
       "      <td>150</td>\n",
       "      <td>1</td>\n",
       "      <td>1</td>\n",
       "    </tr>\n",
       "    <tr>\n",
       "      <th>1</th>\n",
       "      <td>1003</td>\n",
       "      <td>23</td>\n",
       "      <td>NaT</td>\n",
       "      <td>Москва</td>\n",
       "      <td>Белла</td>\n",
       "      <td>Белякова</td>\n",
       "      <td>2018-08-17</td>\n",
       "      <td>ultra</td>\n",
       "      <td>1000</td>\n",
       "      <td>30720</td>\n",
       "      <td>3000</td>\n",
       "      <td>1950</td>\n",
       "      <td>150</td>\n",
       "      <td>1</td>\n",
       "      <td>1</td>\n",
       "    </tr>\n",
       "    <tr>\n",
       "      <th>2</th>\n",
       "      <td>1004</td>\n",
       "      <td>68</td>\n",
       "      <td>NaT</td>\n",
       "      <td>Новокузнецк</td>\n",
       "      <td>Татьяна</td>\n",
       "      <td>Авдеенко</td>\n",
       "      <td>2018-05-14</td>\n",
       "      <td>ultra</td>\n",
       "      <td>1000</td>\n",
       "      <td>30720</td>\n",
       "      <td>3000</td>\n",
       "      <td>1950</td>\n",
       "      <td>150</td>\n",
       "      <td>1</td>\n",
       "      <td>1</td>\n",
       "    </tr>\n",
       "    <tr>\n",
       "      <th>3</th>\n",
       "      <td>1013</td>\n",
       "      <td>36</td>\n",
       "      <td>NaT</td>\n",
       "      <td>Иваново</td>\n",
       "      <td>Борис</td>\n",
       "      <td>Андреенко</td>\n",
       "      <td>2018-11-14</td>\n",
       "      <td>ultra</td>\n",
       "      <td>1000</td>\n",
       "      <td>30720</td>\n",
       "      <td>3000</td>\n",
       "      <td>1950</td>\n",
       "      <td>150</td>\n",
       "      <td>1</td>\n",
       "      <td>1</td>\n",
       "    </tr>\n",
       "    <tr>\n",
       "      <th>4</th>\n",
       "      <td>1016</td>\n",
       "      <td>58</td>\n",
       "      <td>NaT</td>\n",
       "      <td>Омск</td>\n",
       "      <td>Марица</td>\n",
       "      <td>Сазонова</td>\n",
       "      <td>2018-11-21</td>\n",
       "      <td>ultra</td>\n",
       "      <td>1000</td>\n",
       "      <td>30720</td>\n",
       "      <td>3000</td>\n",
       "      <td>1950</td>\n",
       "      <td>150</td>\n",
       "      <td>1</td>\n",
       "      <td>1</td>\n",
       "    </tr>\n",
       "  </tbody>\n",
       "</table>\n",
       "</div>"
      ],
      "text/plain": [
       "   user_id  age churn_date         city first_name  last_name   reg_date  \\\n",
       "0     1000   52        NaT    Краснодар     Рафаил  Верещагин 2018-05-25   \n",
       "1     1003   23        NaT       Москва      Белла   Белякова 2018-08-17   \n",
       "2     1004   68        NaT  Новокузнецк    Татьяна   Авдеенко 2018-05-14   \n",
       "3     1013   36        NaT      Иваново      Борис  Андреенко 2018-11-14   \n",
       "4     1016   58        NaT         Омск     Марица   Сазонова 2018-11-21   \n",
       "\n",
       "  tariff_name  messages_included  mb_per_month_included  minutes_included  \\\n",
       "0       ultra               1000                  30720              3000   \n",
       "1       ultra               1000                  30720              3000   \n",
       "2       ultra               1000                  30720              3000   \n",
       "3       ultra               1000                  30720              3000   \n",
       "4       ultra               1000                  30720              3000   \n",
       "\n",
       "   rub_monthly_fee  rub_per_gb  rub_per_message  rub_per_minute  \n",
       "0             1950         150                1               1  \n",
       "1             1950         150                1               1  \n",
       "2             1950         150                1               1  \n",
       "3             1950         150                1               1  \n",
       "4             1950         150                1               1  "
      ]
     },
     "execution_count": 63,
     "metadata": {},
     "output_type": "execute_result"
    }
   ],
   "source": [
    "users.head()"
   ]
  },
  {
   "cell_type": "markdown",
   "metadata": {},
   "source": [
    "Объединим таблицы full_spend и users для удобства вычислений потраченных опций сверх пакетов.\n",
    "Для объединения таблиц full_spend и users избавимся от иерархичных индексов."
   ]
  },
  {
   "cell_type": "code",
   "execution_count": 64,
   "metadata": {},
   "outputs": [],
   "source": [
    "full_spend = full_spend.reset_index()"
   ]
  },
  {
   "cell_type": "code",
   "execution_count": 65,
   "metadata": {},
   "outputs": [
    {
     "data": {
      "text/html": [
       "<div>\n",
       "<style scoped>\n",
       "    .dataframe tbody tr th:only-of-type {\n",
       "        vertical-align: middle;\n",
       "    }\n",
       "\n",
       "    .dataframe tbody tr th {\n",
       "        vertical-align: top;\n",
       "    }\n",
       "\n",
       "    .dataframe thead th {\n",
       "        text-align: right;\n",
       "    }\n",
       "</style>\n",
       "<table border=\"1\" class=\"dataframe\">\n",
       "  <thead>\n",
       "    <tr style=\"text-align: right;\">\n",
       "      <th></th>\n",
       "      <th>user_id</th>\n",
       "      <th>month</th>\n",
       "      <th>count_calls</th>\n",
       "      <th>sum</th>\n",
       "      <th>count_messages</th>\n",
       "      <th>gb_used</th>\n",
       "    </tr>\n",
       "  </thead>\n",
       "  <tbody>\n",
       "    <tr>\n",
       "      <th>0</th>\n",
       "      <td>1000</td>\n",
       "      <td>5</td>\n",
       "      <td>22.0</td>\n",
       "      <td>159.0</td>\n",
       "      <td>22.0</td>\n",
       "      <td>3.0</td>\n",
       "    </tr>\n",
       "    <tr>\n",
       "      <th>1</th>\n",
       "      <td>1000</td>\n",
       "      <td>6</td>\n",
       "      <td>43.0</td>\n",
       "      <td>172.0</td>\n",
       "      <td>60.0</td>\n",
       "      <td>23.0</td>\n",
       "    </tr>\n",
       "    <tr>\n",
       "      <th>2</th>\n",
       "      <td>1000</td>\n",
       "      <td>7</td>\n",
       "      <td>47.0</td>\n",
       "      <td>340.0</td>\n",
       "      <td>75.0</td>\n",
       "      <td>14.0</td>\n",
       "    </tr>\n",
       "    <tr>\n",
       "      <th>3</th>\n",
       "      <td>1000</td>\n",
       "      <td>8</td>\n",
       "      <td>52.0</td>\n",
       "      <td>408.0</td>\n",
       "      <td>81.0</td>\n",
       "      <td>14.0</td>\n",
       "    </tr>\n",
       "    <tr>\n",
       "      <th>4</th>\n",
       "      <td>1000</td>\n",
       "      <td>9</td>\n",
       "      <td>58.0</td>\n",
       "      <td>466.0</td>\n",
       "      <td>57.0</td>\n",
       "      <td>15.0</td>\n",
       "    </tr>\n",
       "  </tbody>\n",
       "</table>\n",
       "</div>"
      ],
      "text/plain": [
       "   user_id  month  count_calls    sum  count_messages  gb_used\n",
       "0     1000      5         22.0  159.0            22.0      3.0\n",
       "1     1000      6         43.0  172.0            60.0     23.0\n",
       "2     1000      7         47.0  340.0            75.0     14.0\n",
       "3     1000      8         52.0  408.0            81.0     14.0\n",
       "4     1000      9         58.0  466.0            57.0     15.0"
      ]
     },
     "execution_count": 65,
     "metadata": {},
     "output_type": "execute_result"
    }
   ],
   "source": [
    "full_spend.head()"
   ]
  },
  {
   "cell_type": "code",
   "execution_count": 66,
   "metadata": {},
   "outputs": [
    {
     "data": {
      "text/html": [
       "<div>\n",
       "<style scoped>\n",
       "    .dataframe tbody tr th:only-of-type {\n",
       "        vertical-align: middle;\n",
       "    }\n",
       "\n",
       "    .dataframe tbody tr th {\n",
       "        vertical-align: top;\n",
       "    }\n",
       "\n",
       "    .dataframe thead th {\n",
       "        text-align: right;\n",
       "    }\n",
       "</style>\n",
       "<table border=\"1\" class=\"dataframe\">\n",
       "  <thead>\n",
       "    <tr style=\"text-align: right;\">\n",
       "      <th></th>\n",
       "      <th>user_id</th>\n",
       "      <th>month</th>\n",
       "      <th>count_calls</th>\n",
       "      <th>sum</th>\n",
       "      <th>count_messages</th>\n",
       "      <th>gb_used</th>\n",
       "      <th>age</th>\n",
       "      <th>churn_date</th>\n",
       "      <th>city</th>\n",
       "      <th>first_name</th>\n",
       "      <th>last_name</th>\n",
       "      <th>reg_date</th>\n",
       "      <th>tariff_name</th>\n",
       "      <th>messages_included</th>\n",
       "      <th>mb_per_month_included</th>\n",
       "      <th>minutes_included</th>\n",
       "      <th>rub_monthly_fee</th>\n",
       "      <th>rub_per_gb</th>\n",
       "      <th>rub_per_message</th>\n",
       "      <th>rub_per_minute</th>\n",
       "    </tr>\n",
       "  </thead>\n",
       "  <tbody>\n",
       "    <tr>\n",
       "      <th>0</th>\n",
       "      <td>1000</td>\n",
       "      <td>5</td>\n",
       "      <td>22.0</td>\n",
       "      <td>159.0</td>\n",
       "      <td>22.0</td>\n",
       "      <td>3.0</td>\n",
       "      <td>52</td>\n",
       "      <td>NaT</td>\n",
       "      <td>Краснодар</td>\n",
       "      <td>Рафаил</td>\n",
       "      <td>Верещагин</td>\n",
       "      <td>2018-05-25</td>\n",
       "      <td>ultra</td>\n",
       "      <td>1000</td>\n",
       "      <td>30720</td>\n",
       "      <td>3000</td>\n",
       "      <td>1950</td>\n",
       "      <td>150</td>\n",
       "      <td>1</td>\n",
       "      <td>1</td>\n",
       "    </tr>\n",
       "    <tr>\n",
       "      <th>1</th>\n",
       "      <td>1000</td>\n",
       "      <td>6</td>\n",
       "      <td>43.0</td>\n",
       "      <td>172.0</td>\n",
       "      <td>60.0</td>\n",
       "      <td>23.0</td>\n",
       "      <td>52</td>\n",
       "      <td>NaT</td>\n",
       "      <td>Краснодар</td>\n",
       "      <td>Рафаил</td>\n",
       "      <td>Верещагин</td>\n",
       "      <td>2018-05-25</td>\n",
       "      <td>ultra</td>\n",
       "      <td>1000</td>\n",
       "      <td>30720</td>\n",
       "      <td>3000</td>\n",
       "      <td>1950</td>\n",
       "      <td>150</td>\n",
       "      <td>1</td>\n",
       "      <td>1</td>\n",
       "    </tr>\n",
       "    <tr>\n",
       "      <th>2</th>\n",
       "      <td>1000</td>\n",
       "      <td>7</td>\n",
       "      <td>47.0</td>\n",
       "      <td>340.0</td>\n",
       "      <td>75.0</td>\n",
       "      <td>14.0</td>\n",
       "      <td>52</td>\n",
       "      <td>NaT</td>\n",
       "      <td>Краснодар</td>\n",
       "      <td>Рафаил</td>\n",
       "      <td>Верещагин</td>\n",
       "      <td>2018-05-25</td>\n",
       "      <td>ultra</td>\n",
       "      <td>1000</td>\n",
       "      <td>30720</td>\n",
       "      <td>3000</td>\n",
       "      <td>1950</td>\n",
       "      <td>150</td>\n",
       "      <td>1</td>\n",
       "      <td>1</td>\n",
       "    </tr>\n",
       "    <tr>\n",
       "      <th>3</th>\n",
       "      <td>1000</td>\n",
       "      <td>8</td>\n",
       "      <td>52.0</td>\n",
       "      <td>408.0</td>\n",
       "      <td>81.0</td>\n",
       "      <td>14.0</td>\n",
       "      <td>52</td>\n",
       "      <td>NaT</td>\n",
       "      <td>Краснодар</td>\n",
       "      <td>Рафаил</td>\n",
       "      <td>Верещагин</td>\n",
       "      <td>2018-05-25</td>\n",
       "      <td>ultra</td>\n",
       "      <td>1000</td>\n",
       "      <td>30720</td>\n",
       "      <td>3000</td>\n",
       "      <td>1950</td>\n",
       "      <td>150</td>\n",
       "      <td>1</td>\n",
       "      <td>1</td>\n",
       "    </tr>\n",
       "    <tr>\n",
       "      <th>4</th>\n",
       "      <td>1000</td>\n",
       "      <td>9</td>\n",
       "      <td>58.0</td>\n",
       "      <td>466.0</td>\n",
       "      <td>57.0</td>\n",
       "      <td>15.0</td>\n",
       "      <td>52</td>\n",
       "      <td>NaT</td>\n",
       "      <td>Краснодар</td>\n",
       "      <td>Рафаил</td>\n",
       "      <td>Верещагин</td>\n",
       "      <td>2018-05-25</td>\n",
       "      <td>ultra</td>\n",
       "      <td>1000</td>\n",
       "      <td>30720</td>\n",
       "      <td>3000</td>\n",
       "      <td>1950</td>\n",
       "      <td>150</td>\n",
       "      <td>1</td>\n",
       "      <td>1</td>\n",
       "    </tr>\n",
       "  </tbody>\n",
       "</table>\n",
       "</div>"
      ],
      "text/plain": [
       "   user_id  month  count_calls    sum  count_messages  gb_used  age  \\\n",
       "0     1000      5         22.0  159.0            22.0      3.0   52   \n",
       "1     1000      6         43.0  172.0            60.0     23.0   52   \n",
       "2     1000      7         47.0  340.0            75.0     14.0   52   \n",
       "3     1000      8         52.0  408.0            81.0     14.0   52   \n",
       "4     1000      9         58.0  466.0            57.0     15.0   52   \n",
       "\n",
       "  churn_date       city first_name  last_name   reg_date tariff_name  \\\n",
       "0        NaT  Краснодар     Рафаил  Верещагин 2018-05-25       ultra   \n",
       "1        NaT  Краснодар     Рафаил  Верещагин 2018-05-25       ultra   \n",
       "2        NaT  Краснодар     Рафаил  Верещагин 2018-05-25       ultra   \n",
       "3        NaT  Краснодар     Рафаил  Верещагин 2018-05-25       ultra   \n",
       "4        NaT  Краснодар     Рафаил  Верещагин 2018-05-25       ultra   \n",
       "\n",
       "   messages_included  mb_per_month_included  minutes_included  \\\n",
       "0               1000                  30720              3000   \n",
       "1               1000                  30720              3000   \n",
       "2               1000                  30720              3000   \n",
       "3               1000                  30720              3000   \n",
       "4               1000                  30720              3000   \n",
       "\n",
       "   rub_monthly_fee  rub_per_gb  rub_per_message  rub_per_minute  \n",
       "0             1950         150                1               1  \n",
       "1             1950         150                1               1  \n",
       "2             1950         150                1               1  \n",
       "3             1950         150                1               1  \n",
       "4             1950         150                1               1  "
      ]
     },
     "execution_count": 66,
     "metadata": {},
     "output_type": "execute_result"
    }
   ],
   "source": [
    "full_spend = full_spend.merge(users, on='user_id')\n",
    "full_spend.head()"
   ]
  },
  {
   "cell_type": "markdown",
   "metadata": {},
   "source": [
    "Для удобства переименуем столбец sum в sum_calls"
   ]
  },
  {
   "cell_type": "code",
   "execution_count": 67,
   "metadata": {},
   "outputs": [],
   "source": [
    "full_spend = full_spend.rename(columns={'sum' : 'sum_calls'})"
   ]
  },
  {
   "cell_type": "code",
   "execution_count": 68,
   "metadata": {},
   "outputs": [
    {
     "data": {
      "text/html": [
       "<div>\n",
       "<style scoped>\n",
       "    .dataframe tbody tr th:only-of-type {\n",
       "        vertical-align: middle;\n",
       "    }\n",
       "\n",
       "    .dataframe tbody tr th {\n",
       "        vertical-align: top;\n",
       "    }\n",
       "\n",
       "    .dataframe thead th {\n",
       "        text-align: right;\n",
       "    }\n",
       "</style>\n",
       "<table border=\"1\" class=\"dataframe\">\n",
       "  <thead>\n",
       "    <tr style=\"text-align: right;\">\n",
       "      <th></th>\n",
       "      <th>user_id</th>\n",
       "      <th>month</th>\n",
       "      <th>count_calls</th>\n",
       "      <th>sum_calls</th>\n",
       "      <th>count_messages</th>\n",
       "      <th>gb_used</th>\n",
       "      <th>age</th>\n",
       "      <th>churn_date</th>\n",
       "      <th>city</th>\n",
       "      <th>first_name</th>\n",
       "      <th>last_name</th>\n",
       "      <th>reg_date</th>\n",
       "      <th>tariff_name</th>\n",
       "      <th>messages_included</th>\n",
       "      <th>mb_per_month_included</th>\n",
       "      <th>minutes_included</th>\n",
       "      <th>rub_monthly_fee</th>\n",
       "      <th>rub_per_gb</th>\n",
       "      <th>rub_per_message</th>\n",
       "      <th>rub_per_minute</th>\n",
       "    </tr>\n",
       "  </thead>\n",
       "  <tbody>\n",
       "    <tr>\n",
       "      <th>0</th>\n",
       "      <td>1000</td>\n",
       "      <td>5</td>\n",
       "      <td>22.0</td>\n",
       "      <td>159.0</td>\n",
       "      <td>22.0</td>\n",
       "      <td>3.0</td>\n",
       "      <td>52</td>\n",
       "      <td>NaT</td>\n",
       "      <td>Краснодар</td>\n",
       "      <td>Рафаил</td>\n",
       "      <td>Верещагин</td>\n",
       "      <td>2018-05-25</td>\n",
       "      <td>ultra</td>\n",
       "      <td>1000</td>\n",
       "      <td>30720</td>\n",
       "      <td>3000</td>\n",
       "      <td>1950</td>\n",
       "      <td>150</td>\n",
       "      <td>1</td>\n",
       "      <td>1</td>\n",
       "    </tr>\n",
       "    <tr>\n",
       "      <th>1</th>\n",
       "      <td>1000</td>\n",
       "      <td>6</td>\n",
       "      <td>43.0</td>\n",
       "      <td>172.0</td>\n",
       "      <td>60.0</td>\n",
       "      <td>23.0</td>\n",
       "      <td>52</td>\n",
       "      <td>NaT</td>\n",
       "      <td>Краснодар</td>\n",
       "      <td>Рафаил</td>\n",
       "      <td>Верещагин</td>\n",
       "      <td>2018-05-25</td>\n",
       "      <td>ultra</td>\n",
       "      <td>1000</td>\n",
       "      <td>30720</td>\n",
       "      <td>3000</td>\n",
       "      <td>1950</td>\n",
       "      <td>150</td>\n",
       "      <td>1</td>\n",
       "      <td>1</td>\n",
       "    </tr>\n",
       "    <tr>\n",
       "      <th>2</th>\n",
       "      <td>1000</td>\n",
       "      <td>7</td>\n",
       "      <td>47.0</td>\n",
       "      <td>340.0</td>\n",
       "      <td>75.0</td>\n",
       "      <td>14.0</td>\n",
       "      <td>52</td>\n",
       "      <td>NaT</td>\n",
       "      <td>Краснодар</td>\n",
       "      <td>Рафаил</td>\n",
       "      <td>Верещагин</td>\n",
       "      <td>2018-05-25</td>\n",
       "      <td>ultra</td>\n",
       "      <td>1000</td>\n",
       "      <td>30720</td>\n",
       "      <td>3000</td>\n",
       "      <td>1950</td>\n",
       "      <td>150</td>\n",
       "      <td>1</td>\n",
       "      <td>1</td>\n",
       "    </tr>\n",
       "    <tr>\n",
       "      <th>3</th>\n",
       "      <td>1000</td>\n",
       "      <td>8</td>\n",
       "      <td>52.0</td>\n",
       "      <td>408.0</td>\n",
       "      <td>81.0</td>\n",
       "      <td>14.0</td>\n",
       "      <td>52</td>\n",
       "      <td>NaT</td>\n",
       "      <td>Краснодар</td>\n",
       "      <td>Рафаил</td>\n",
       "      <td>Верещагин</td>\n",
       "      <td>2018-05-25</td>\n",
       "      <td>ultra</td>\n",
       "      <td>1000</td>\n",
       "      <td>30720</td>\n",
       "      <td>3000</td>\n",
       "      <td>1950</td>\n",
       "      <td>150</td>\n",
       "      <td>1</td>\n",
       "      <td>1</td>\n",
       "    </tr>\n",
       "    <tr>\n",
       "      <th>4</th>\n",
       "      <td>1000</td>\n",
       "      <td>9</td>\n",
       "      <td>58.0</td>\n",
       "      <td>466.0</td>\n",
       "      <td>57.0</td>\n",
       "      <td>15.0</td>\n",
       "      <td>52</td>\n",
       "      <td>NaT</td>\n",
       "      <td>Краснодар</td>\n",
       "      <td>Рафаил</td>\n",
       "      <td>Верещагин</td>\n",
       "      <td>2018-05-25</td>\n",
       "      <td>ultra</td>\n",
       "      <td>1000</td>\n",
       "      <td>30720</td>\n",
       "      <td>3000</td>\n",
       "      <td>1950</td>\n",
       "      <td>150</td>\n",
       "      <td>1</td>\n",
       "      <td>1</td>\n",
       "    </tr>\n",
       "  </tbody>\n",
       "</table>\n",
       "</div>"
      ],
      "text/plain": [
       "   user_id  month  count_calls  sum_calls  count_messages  gb_used  age  \\\n",
       "0     1000      5         22.0      159.0            22.0      3.0   52   \n",
       "1     1000      6         43.0      172.0            60.0     23.0   52   \n",
       "2     1000      7         47.0      340.0            75.0     14.0   52   \n",
       "3     1000      8         52.0      408.0            81.0     14.0   52   \n",
       "4     1000      9         58.0      466.0            57.0     15.0   52   \n",
       "\n",
       "  churn_date       city first_name  last_name   reg_date tariff_name  \\\n",
       "0        NaT  Краснодар     Рафаил  Верещагин 2018-05-25       ultra   \n",
       "1        NaT  Краснодар     Рафаил  Верещагин 2018-05-25       ultra   \n",
       "2        NaT  Краснодар     Рафаил  Верещагин 2018-05-25       ultra   \n",
       "3        NaT  Краснодар     Рафаил  Верещагин 2018-05-25       ultra   \n",
       "4        NaT  Краснодар     Рафаил  Верещагин 2018-05-25       ultra   \n",
       "\n",
       "   messages_included  mb_per_month_included  minutes_included  \\\n",
       "0               1000                  30720              3000   \n",
       "1               1000                  30720              3000   \n",
       "2               1000                  30720              3000   \n",
       "3               1000                  30720              3000   \n",
       "4               1000                  30720              3000   \n",
       "\n",
       "   rub_monthly_fee  rub_per_gb  rub_per_message  rub_per_minute  \n",
       "0             1950         150                1               1  \n",
       "1             1950         150                1               1  \n",
       "2             1950         150                1               1  \n",
       "3             1950         150                1               1  \n",
       "4             1950         150                1               1  "
      ]
     },
     "execution_count": 68,
     "metadata": {},
     "output_type": "execute_result"
    }
   ],
   "source": [
    "full_spend.head()"
   ]
  },
  {
   "cell_type": "markdown",
   "metadata": {},
   "source": [
    "Добавим столбец extra_calls с количеством звонков сверх пакета"
   ]
  },
  {
   "cell_type": "code",
   "execution_count": 69,
   "metadata": {},
   "outputs": [],
   "source": [
    "full_spend['extra_calls'] = np.where((full_spend['sum_calls'] - full_spend['minutes_included']) > 0,\\\n",
    "                                    full_spend['sum_calls'] - full_spend['minutes_included'], 0)"
   ]
  },
  {
   "cell_type": "code",
   "execution_count": 70,
   "metadata": {
    "scrolled": true
   },
   "outputs": [
    {
     "data": {
      "text/html": [
       "<div>\n",
       "<style scoped>\n",
       "    .dataframe tbody tr th:only-of-type {\n",
       "        vertical-align: middle;\n",
       "    }\n",
       "\n",
       "    .dataframe tbody tr th {\n",
       "        vertical-align: top;\n",
       "    }\n",
       "\n",
       "    .dataframe thead th {\n",
       "        text-align: right;\n",
       "    }\n",
       "</style>\n",
       "<table border=\"1\" class=\"dataframe\">\n",
       "  <thead>\n",
       "    <tr style=\"text-align: right;\">\n",
       "      <th></th>\n",
       "      <th>user_id</th>\n",
       "      <th>month</th>\n",
       "      <th>count_calls</th>\n",
       "      <th>sum_calls</th>\n",
       "      <th>count_messages</th>\n",
       "      <th>gb_used</th>\n",
       "      <th>age</th>\n",
       "      <th>churn_date</th>\n",
       "      <th>city</th>\n",
       "      <th>first_name</th>\n",
       "      <th>...</th>\n",
       "      <th>reg_date</th>\n",
       "      <th>tariff_name</th>\n",
       "      <th>messages_included</th>\n",
       "      <th>mb_per_month_included</th>\n",
       "      <th>minutes_included</th>\n",
       "      <th>rub_monthly_fee</th>\n",
       "      <th>rub_per_gb</th>\n",
       "      <th>rub_per_message</th>\n",
       "      <th>rub_per_minute</th>\n",
       "      <th>extra_calls</th>\n",
       "    </tr>\n",
       "  </thead>\n",
       "  <tbody>\n",
       "    <tr>\n",
       "      <th>1359</th>\n",
       "      <td>1216</td>\n",
       "      <td>12</td>\n",
       "      <td>198.0</td>\n",
       "      <td>1435.0</td>\n",
       "      <td>64.0</td>\n",
       "      <td>20.0</td>\n",
       "      <td>74</td>\n",
       "      <td>NaT</td>\n",
       "      <td>Волгоград</td>\n",
       "      <td>Рустам</td>\n",
       "      <td>...</td>\n",
       "      <td>2018-11-23</td>\n",
       "      <td>smart</td>\n",
       "      <td>50</td>\n",
       "      <td>15360</td>\n",
       "      <td>500</td>\n",
       "      <td>550</td>\n",
       "      <td>200</td>\n",
       "      <td>3</td>\n",
       "      <td>3</td>\n",
       "      <td>935.0</td>\n",
       "    </tr>\n",
       "    <tr>\n",
       "      <th>2856</th>\n",
       "      <td>1451</td>\n",
       "      <td>12</td>\n",
       "      <td>141.0</td>\n",
       "      <td>1144.0</td>\n",
       "      <td>50.0</td>\n",
       "      <td>17.0</td>\n",
       "      <td>58</td>\n",
       "      <td>NaT</td>\n",
       "      <td>Набережные Челны</td>\n",
       "      <td>Виктория</td>\n",
       "      <td>...</td>\n",
       "      <td>2018-08-27</td>\n",
       "      <td>smart</td>\n",
       "      <td>50</td>\n",
       "      <td>15360</td>\n",
       "      <td>500</td>\n",
       "      <td>550</td>\n",
       "      <td>200</td>\n",
       "      <td>3</td>\n",
       "      <td>3</td>\n",
       "      <td>644.0</td>\n",
       "    </tr>\n",
       "    <tr>\n",
       "      <th>1622</th>\n",
       "      <td>1261</td>\n",
       "      <td>12</td>\n",
       "      <td>141.0</td>\n",
       "      <td>1074.0</td>\n",
       "      <td>22.0</td>\n",
       "      <td>32.0</td>\n",
       "      <td>46</td>\n",
       "      <td>NaT</td>\n",
       "      <td>Казань</td>\n",
       "      <td>Мадина</td>\n",
       "      <td>...</td>\n",
       "      <td>2018-10-30</td>\n",
       "      <td>smart</td>\n",
       "      <td>50</td>\n",
       "      <td>15360</td>\n",
       "      <td>500</td>\n",
       "      <td>550</td>\n",
       "      <td>200</td>\n",
       "      <td>3</td>\n",
       "      <td>3</td>\n",
       "      <td>574.0</td>\n",
       "    </tr>\n",
       "    <tr>\n",
       "      <th>1452</th>\n",
       "      <td>1229</td>\n",
       "      <td>12</td>\n",
       "      <td>128.0</td>\n",
       "      <td>1022.0</td>\n",
       "      <td>6.0</td>\n",
       "      <td>25.0</td>\n",
       "      <td>24</td>\n",
       "      <td>NaT</td>\n",
       "      <td>Москва</td>\n",
       "      <td>Нелли</td>\n",
       "      <td>...</td>\n",
       "      <td>2018-10-29</td>\n",
       "      <td>smart</td>\n",
       "      <td>50</td>\n",
       "      <td>15360</td>\n",
       "      <td>500</td>\n",
       "      <td>550</td>\n",
       "      <td>200</td>\n",
       "      <td>3</td>\n",
       "      <td>3</td>\n",
       "      <td>522.0</td>\n",
       "    </tr>\n",
       "    <tr>\n",
       "      <th>3108</th>\n",
       "      <td>1486</td>\n",
       "      <td>12</td>\n",
       "      <td>133.0</td>\n",
       "      <td>1007.0</td>\n",
       "      <td>83.0</td>\n",
       "      <td>38.0</td>\n",
       "      <td>35</td>\n",
       "      <td>NaT</td>\n",
       "      <td>Нижний Новгород</td>\n",
       "      <td>Матвей</td>\n",
       "      <td>...</td>\n",
       "      <td>2018-10-31</td>\n",
       "      <td>smart</td>\n",
       "      <td>50</td>\n",
       "      <td>15360</td>\n",
       "      <td>500</td>\n",
       "      <td>550</td>\n",
       "      <td>200</td>\n",
       "      <td>3</td>\n",
       "      <td>3</td>\n",
       "      <td>507.0</td>\n",
       "    </tr>\n",
       "  </tbody>\n",
       "</table>\n",
       "<p>5 rows × 21 columns</p>\n",
       "</div>"
      ],
      "text/plain": [
       "      user_id  month  count_calls  sum_calls  count_messages  gb_used  age  \\\n",
       "1359     1216     12        198.0     1435.0            64.0     20.0   74   \n",
       "2856     1451     12        141.0     1144.0            50.0     17.0   58   \n",
       "1622     1261     12        141.0     1074.0            22.0     32.0   46   \n",
       "1452     1229     12        128.0     1022.0             6.0     25.0   24   \n",
       "3108     1486     12        133.0     1007.0            83.0     38.0   35   \n",
       "\n",
       "     churn_date              city first_name  ...   reg_date tariff_name  \\\n",
       "1359        NaT         Волгоград     Рустам  ... 2018-11-23       smart   \n",
       "2856        NaT  Набережные Челны   Виктория  ... 2018-08-27       smart   \n",
       "1622        NaT            Казань     Мадина  ... 2018-10-30       smart   \n",
       "1452        NaT            Москва      Нелли  ... 2018-10-29       smart   \n",
       "3108        NaT   Нижний Новгород     Матвей  ... 2018-10-31       smart   \n",
       "\n",
       "     messages_included  mb_per_month_included  minutes_included  \\\n",
       "1359                50                  15360               500   \n",
       "2856                50                  15360               500   \n",
       "1622                50                  15360               500   \n",
       "1452                50                  15360               500   \n",
       "3108                50                  15360               500   \n",
       "\n",
       "      rub_monthly_fee  rub_per_gb  rub_per_message  rub_per_minute  \\\n",
       "1359              550         200                3               3   \n",
       "2856              550         200                3               3   \n",
       "1622              550         200                3               3   \n",
       "1452              550         200                3               3   \n",
       "3108              550         200                3               3   \n",
       "\n",
       "      extra_calls  \n",
       "1359        935.0  \n",
       "2856        644.0  \n",
       "1622        574.0  \n",
       "1452        522.0  \n",
       "3108        507.0  \n",
       "\n",
       "[5 rows x 21 columns]"
      ]
     },
     "execution_count": 70,
     "metadata": {},
     "output_type": "execute_result"
    }
   ],
   "source": [
    "full_spend.sort_values('extra_calls', ascending=False).head()"
   ]
  },
  {
   "cell_type": "markdown",
   "metadata": {},
   "source": [
    "Добавим столбец extra_messages с количеством сообщений сверх пакета"
   ]
  },
  {
   "cell_type": "code",
   "execution_count": 71,
   "metadata": {},
   "outputs": [],
   "source": [
    "full_spend['extra_messages'] = np.where((full_spend['count_messages'] - full_spend['messages_included']) > 0,\\\n",
    "                                    full_spend['count_messages'] - full_spend['messages_included'], 0)"
   ]
  },
  {
   "cell_type": "code",
   "execution_count": 72,
   "metadata": {},
   "outputs": [
    {
     "data": {
      "text/html": [
       "<div>\n",
       "<style scoped>\n",
       "    .dataframe tbody tr th:only-of-type {\n",
       "        vertical-align: middle;\n",
       "    }\n",
       "\n",
       "    .dataframe tbody tr th {\n",
       "        vertical-align: top;\n",
       "    }\n",
       "\n",
       "    .dataframe thead th {\n",
       "        text-align: right;\n",
       "    }\n",
       "</style>\n",
       "<table border=\"1\" class=\"dataframe\">\n",
       "  <thead>\n",
       "    <tr style=\"text-align: right;\">\n",
       "      <th></th>\n",
       "      <th>user_id</th>\n",
       "      <th>month</th>\n",
       "      <th>count_calls</th>\n",
       "      <th>sum_calls</th>\n",
       "      <th>count_messages</th>\n",
       "      <th>gb_used</th>\n",
       "      <th>age</th>\n",
       "      <th>churn_date</th>\n",
       "      <th>city</th>\n",
       "      <th>first_name</th>\n",
       "      <th>...</th>\n",
       "      <th>tariff_name</th>\n",
       "      <th>messages_included</th>\n",
       "      <th>mb_per_month_included</th>\n",
       "      <th>minutes_included</th>\n",
       "      <th>rub_monthly_fee</th>\n",
       "      <th>rub_per_gb</th>\n",
       "      <th>rub_per_message</th>\n",
       "      <th>rub_per_minute</th>\n",
       "      <th>extra_calls</th>\n",
       "      <th>extra_messages</th>\n",
       "    </tr>\n",
       "  </thead>\n",
       "  <tbody>\n",
       "    <tr>\n",
       "      <th>695</th>\n",
       "      <td>1112</td>\n",
       "      <td>12</td>\n",
       "      <td>75.0</td>\n",
       "      <td>544.0</td>\n",
       "      <td>143.0</td>\n",
       "      <td>22.0</td>\n",
       "      <td>51</td>\n",
       "      <td>NaT</td>\n",
       "      <td>Ульяновск</td>\n",
       "      <td>Арнольд</td>\n",
       "      <td>...</td>\n",
       "      <td>smart</td>\n",
       "      <td>50</td>\n",
       "      <td>15360</td>\n",
       "      <td>500</td>\n",
       "      <td>550</td>\n",
       "      <td>200</td>\n",
       "      <td>3</td>\n",
       "      <td>3</td>\n",
       "      <td>44.0</td>\n",
       "      <td>93.0</td>\n",
       "    </tr>\n",
       "    <tr>\n",
       "      <th>2030</th>\n",
       "      <td>1324</td>\n",
       "      <td>10</td>\n",
       "      <td>117.0</td>\n",
       "      <td>838.0</td>\n",
       "      <td>139.0</td>\n",
       "      <td>27.0</td>\n",
       "      <td>25</td>\n",
       "      <td>NaT</td>\n",
       "      <td>Череповец</td>\n",
       "      <td>Дайна</td>\n",
       "      <td>...</td>\n",
       "      <td>smart</td>\n",
       "      <td>50</td>\n",
       "      <td>15360</td>\n",
       "      <td>500</td>\n",
       "      <td>550</td>\n",
       "      <td>200</td>\n",
       "      <td>3</td>\n",
       "      <td>3</td>\n",
       "      <td>338.0</td>\n",
       "      <td>89.0</td>\n",
       "    </tr>\n",
       "    <tr>\n",
       "      <th>2027</th>\n",
       "      <td>1324</td>\n",
       "      <td>7</td>\n",
       "      <td>97.0</td>\n",
       "      <td>719.0</td>\n",
       "      <td>137.0</td>\n",
       "      <td>20.0</td>\n",
       "      <td>25</td>\n",
       "      <td>NaT</td>\n",
       "      <td>Череповец</td>\n",
       "      <td>Дайна</td>\n",
       "      <td>...</td>\n",
       "      <td>smart</td>\n",
       "      <td>50</td>\n",
       "      <td>15360</td>\n",
       "      <td>500</td>\n",
       "      <td>550</td>\n",
       "      <td>200</td>\n",
       "      <td>3</td>\n",
       "      <td>3</td>\n",
       "      <td>219.0</td>\n",
       "      <td>87.0</td>\n",
       "    </tr>\n",
       "    <tr>\n",
       "      <th>2029</th>\n",
       "      <td>1324</td>\n",
       "      <td>9</td>\n",
       "      <td>107.0</td>\n",
       "      <td>715.0</td>\n",
       "      <td>136.0</td>\n",
       "      <td>23.0</td>\n",
       "      <td>25</td>\n",
       "      <td>NaT</td>\n",
       "      <td>Череповец</td>\n",
       "      <td>Дайна</td>\n",
       "      <td>...</td>\n",
       "      <td>smart</td>\n",
       "      <td>50</td>\n",
       "      <td>15360</td>\n",
       "      <td>500</td>\n",
       "      <td>550</td>\n",
       "      <td>200</td>\n",
       "      <td>3</td>\n",
       "      <td>3</td>\n",
       "      <td>215.0</td>\n",
       "      <td>86.0</td>\n",
       "    </tr>\n",
       "    <tr>\n",
       "      <th>2026</th>\n",
       "      <td>1324</td>\n",
       "      <td>6</td>\n",
       "      <td>114.0</td>\n",
       "      <td>757.0</td>\n",
       "      <td>134.0</td>\n",
       "      <td>26.0</td>\n",
       "      <td>25</td>\n",
       "      <td>NaT</td>\n",
       "      <td>Череповец</td>\n",
       "      <td>Дайна</td>\n",
       "      <td>...</td>\n",
       "      <td>smart</td>\n",
       "      <td>50</td>\n",
       "      <td>15360</td>\n",
       "      <td>500</td>\n",
       "      <td>550</td>\n",
       "      <td>200</td>\n",
       "      <td>3</td>\n",
       "      <td>3</td>\n",
       "      <td>257.0</td>\n",
       "      <td>84.0</td>\n",
       "    </tr>\n",
       "  </tbody>\n",
       "</table>\n",
       "<p>5 rows × 22 columns</p>\n",
       "</div>"
      ],
      "text/plain": [
       "      user_id  month  count_calls  sum_calls  count_messages  gb_used  age  \\\n",
       "695      1112     12         75.0      544.0           143.0     22.0   51   \n",
       "2030     1324     10        117.0      838.0           139.0     27.0   25   \n",
       "2027     1324      7         97.0      719.0           137.0     20.0   25   \n",
       "2029     1324      9        107.0      715.0           136.0     23.0   25   \n",
       "2026     1324      6        114.0      757.0           134.0     26.0   25   \n",
       "\n",
       "     churn_date       city first_name  ... tariff_name messages_included  \\\n",
       "695         NaT  Ульяновск    Арнольд  ...       smart                50   \n",
       "2030        NaT  Череповец      Дайна  ...       smart                50   \n",
       "2027        NaT  Череповец      Дайна  ...       smart                50   \n",
       "2029        NaT  Череповец      Дайна  ...       smart                50   \n",
       "2026        NaT  Череповец      Дайна  ...       smart                50   \n",
       "\n",
       "     mb_per_month_included  minutes_included  rub_monthly_fee  rub_per_gb  \\\n",
       "695                  15360               500              550         200   \n",
       "2030                 15360               500              550         200   \n",
       "2027                 15360               500              550         200   \n",
       "2029                 15360               500              550         200   \n",
       "2026                 15360               500              550         200   \n",
       "\n",
       "      rub_per_message  rub_per_minute  extra_calls  extra_messages  \n",
       "695                 3               3         44.0            93.0  \n",
       "2030                3               3        338.0            89.0  \n",
       "2027                3               3        219.0            87.0  \n",
       "2029                3               3        215.0            86.0  \n",
       "2026                3               3        257.0            84.0  \n",
       "\n",
       "[5 rows x 22 columns]"
      ]
     },
     "execution_count": 72,
     "metadata": {},
     "output_type": "execute_result"
    }
   ],
   "source": [
    "full_spend.sort_values('extra_messages', ascending=False).head()"
   ]
  },
  {
   "cell_type": "markdown",
   "metadata": {},
   "source": [
    "Добавим столбец extra_gb с количеством интернет трафика сверх пакета"
   ]
  },
  {
   "cell_type": "code",
   "execution_count": 73,
   "metadata": {},
   "outputs": [],
   "source": [
    "full_spend['extra_gb'] = np.where((full_spend['gb_used'] - full_spend['mb_per_month_included'] / 1024) > 0,\\\n",
    "                                    full_spend['gb_used'] - full_spend['mb_per_month_included'] / 1024, 0)"
   ]
  },
  {
   "cell_type": "code",
   "execution_count": 74,
   "metadata": {},
   "outputs": [
    {
     "data": {
      "text/html": [
       "<div>\n",
       "<style scoped>\n",
       "    .dataframe tbody tr th:only-of-type {\n",
       "        vertical-align: middle;\n",
       "    }\n",
       "\n",
       "    .dataframe tbody tr th {\n",
       "        vertical-align: top;\n",
       "    }\n",
       "\n",
       "    .dataframe thead th {\n",
       "        text-align: right;\n",
       "    }\n",
       "</style>\n",
       "<table border=\"1\" class=\"dataframe\">\n",
       "  <thead>\n",
       "    <tr style=\"text-align: right;\">\n",
       "      <th></th>\n",
       "      <th>user_id</th>\n",
       "      <th>month</th>\n",
       "      <th>count_calls</th>\n",
       "      <th>sum_calls</th>\n",
       "      <th>count_messages</th>\n",
       "      <th>gb_used</th>\n",
       "      <th>age</th>\n",
       "      <th>churn_date</th>\n",
       "      <th>city</th>\n",
       "      <th>first_name</th>\n",
       "      <th>...</th>\n",
       "      <th>messages_included</th>\n",
       "      <th>mb_per_month_included</th>\n",
       "      <th>minutes_included</th>\n",
       "      <th>rub_monthly_fee</th>\n",
       "      <th>rub_per_gb</th>\n",
       "      <th>rub_per_message</th>\n",
       "      <th>rub_per_minute</th>\n",
       "      <th>extra_calls</th>\n",
       "      <th>extra_messages</th>\n",
       "      <th>extra_gb</th>\n",
       "    </tr>\n",
       "  </thead>\n",
       "  <tbody>\n",
       "    <tr>\n",
       "      <th>3108</th>\n",
       "      <td>1486</td>\n",
       "      <td>12</td>\n",
       "      <td>133.0</td>\n",
       "      <td>1007.0</td>\n",
       "      <td>83.0</td>\n",
       "      <td>38.0</td>\n",
       "      <td>35</td>\n",
       "      <td>NaT</td>\n",
       "      <td>Нижний Новгород</td>\n",
       "      <td>Матвей</td>\n",
       "      <td>...</td>\n",
       "      <td>50</td>\n",
       "      <td>15360</td>\n",
       "      <td>500</td>\n",
       "      <td>550</td>\n",
       "      <td>200</td>\n",
       "      <td>3</td>\n",
       "      <td>3</td>\n",
       "      <td>507.0</td>\n",
       "      <td>33.0</td>\n",
       "      <td>23.0</td>\n",
       "    </tr>\n",
       "    <tr>\n",
       "      <th>260</th>\n",
       "      <td>1042</td>\n",
       "      <td>12</td>\n",
       "      <td>121.0</td>\n",
       "      <td>728.0</td>\n",
       "      <td>75.0</td>\n",
       "      <td>37.0</td>\n",
       "      <td>42</td>\n",
       "      <td>NaT</td>\n",
       "      <td>Хабаровск</td>\n",
       "      <td>Константин</td>\n",
       "      <td>...</td>\n",
       "      <td>50</td>\n",
       "      <td>15360</td>\n",
       "      <td>500</td>\n",
       "      <td>550</td>\n",
       "      <td>200</td>\n",
       "      <td>3</td>\n",
       "      <td>3</td>\n",
       "      <td>228.0</td>\n",
       "      <td>25.0</td>\n",
       "      <td>22.0</td>\n",
       "    </tr>\n",
       "    <tr>\n",
       "      <th>3107</th>\n",
       "      <td>1486</td>\n",
       "      <td>11</td>\n",
       "      <td>108.0</td>\n",
       "      <td>764.0</td>\n",
       "      <td>96.0</td>\n",
       "      <td>36.0</td>\n",
       "      <td>35</td>\n",
       "      <td>NaT</td>\n",
       "      <td>Нижний Новгород</td>\n",
       "      <td>Матвей</td>\n",
       "      <td>...</td>\n",
       "      <td>50</td>\n",
       "      <td>15360</td>\n",
       "      <td>500</td>\n",
       "      <td>550</td>\n",
       "      <td>200</td>\n",
       "      <td>3</td>\n",
       "      <td>3</td>\n",
       "      <td>264.0</td>\n",
       "      <td>46.0</td>\n",
       "      <td>21.0</td>\n",
       "    </tr>\n",
       "    <tr>\n",
       "      <th>615</th>\n",
       "      <td>1098</td>\n",
       "      <td>12</td>\n",
       "      <td>80.0</td>\n",
       "      <td>588.0</td>\n",
       "      <td>14.0</td>\n",
       "      <td>36.0</td>\n",
       "      <td>39</td>\n",
       "      <td>NaT</td>\n",
       "      <td>Челябинск</td>\n",
       "      <td>Элеонора</td>\n",
       "      <td>...</td>\n",
       "      <td>50</td>\n",
       "      <td>15360</td>\n",
       "      <td>500</td>\n",
       "      <td>550</td>\n",
       "      <td>200</td>\n",
       "      <td>3</td>\n",
       "      <td>3</td>\n",
       "      <td>88.0</td>\n",
       "      <td>0.0</td>\n",
       "      <td>21.0</td>\n",
       "    </tr>\n",
       "    <tr>\n",
       "      <th>1000</th>\n",
       "      <td>1159</td>\n",
       "      <td>12</td>\n",
       "      <td>110.0</td>\n",
       "      <td>734.0</td>\n",
       "      <td>2.0</td>\n",
       "      <td>35.0</td>\n",
       "      <td>64</td>\n",
       "      <td>NaT</td>\n",
       "      <td>Красноярск</td>\n",
       "      <td>Эльга</td>\n",
       "      <td>...</td>\n",
       "      <td>50</td>\n",
       "      <td>15360</td>\n",
       "      <td>500</td>\n",
       "      <td>550</td>\n",
       "      <td>200</td>\n",
       "      <td>3</td>\n",
       "      <td>3</td>\n",
       "      <td>234.0</td>\n",
       "      <td>0.0</td>\n",
       "      <td>20.0</td>\n",
       "    </tr>\n",
       "  </tbody>\n",
       "</table>\n",
       "<p>5 rows × 23 columns</p>\n",
       "</div>"
      ],
      "text/plain": [
       "      user_id  month  count_calls  sum_calls  count_messages  gb_used  age  \\\n",
       "3108     1486     12        133.0     1007.0            83.0     38.0   35   \n",
       "260      1042     12        121.0      728.0            75.0     37.0   42   \n",
       "3107     1486     11        108.0      764.0            96.0     36.0   35   \n",
       "615      1098     12         80.0      588.0            14.0     36.0   39   \n",
       "1000     1159     12        110.0      734.0             2.0     35.0   64   \n",
       "\n",
       "     churn_date             city  first_name  ... messages_included  \\\n",
       "3108        NaT  Нижний Новгород      Матвей  ...                50   \n",
       "260         NaT        Хабаровск  Константин  ...                50   \n",
       "3107        NaT  Нижний Новгород      Матвей  ...                50   \n",
       "615         NaT        Челябинск    Элеонора  ...                50   \n",
       "1000        NaT       Красноярск       Эльга  ...                50   \n",
       "\n",
       "     mb_per_month_included minutes_included  rub_monthly_fee  rub_per_gb  \\\n",
       "3108                 15360              500              550         200   \n",
       "260                  15360              500              550         200   \n",
       "3107                 15360              500              550         200   \n",
       "615                  15360              500              550         200   \n",
       "1000                 15360              500              550         200   \n",
       "\n",
       "      rub_per_message  rub_per_minute  extra_calls  extra_messages  extra_gb  \n",
       "3108                3               3        507.0            33.0      23.0  \n",
       "260                 3               3        228.0            25.0      22.0  \n",
       "3107                3               3        264.0            46.0      21.0  \n",
       "615                 3               3         88.0             0.0      21.0  \n",
       "1000                3               3        234.0             0.0      20.0  \n",
       "\n",
       "[5 rows x 23 columns]"
      ]
     },
     "execution_count": 74,
     "metadata": {},
     "output_type": "execute_result"
    }
   ],
   "source": [
    "full_spend.sort_values('extra_gb', ascending=False).head()"
   ]
  },
  {
   "cell_type": "markdown",
   "metadata": {},
   "source": [
    "Добавим столбец с суммарной выручкой по месяцам по каждому пользователю"
   ]
  },
  {
   "cell_type": "code",
   "execution_count": 75,
   "metadata": {},
   "outputs": [],
   "source": [
    "full_spend['revenue'] = full_spend['rub_monthly_fee'] + full_spend['rub_per_minute'] * full_spend['extra_calls']\\\n",
    "    + full_spend['rub_per_message'] * full_spend['extra_messages']\\\n",
    "    + full_spend['rub_per_gb'] * full_spend['extra_gb']"
   ]
  },
  {
   "cell_type": "code",
   "execution_count": 76,
   "metadata": {},
   "outputs": [
    {
     "data": {
      "text/html": [
       "<div>\n",
       "<style scoped>\n",
       "    .dataframe tbody tr th:only-of-type {\n",
       "        vertical-align: middle;\n",
       "    }\n",
       "\n",
       "    .dataframe tbody tr th {\n",
       "        vertical-align: top;\n",
       "    }\n",
       "\n",
       "    .dataframe thead th {\n",
       "        text-align: right;\n",
       "    }\n",
       "</style>\n",
       "<table border=\"1\" class=\"dataframe\">\n",
       "  <thead>\n",
       "    <tr style=\"text-align: right;\">\n",
       "      <th></th>\n",
       "      <th>user_id</th>\n",
       "      <th>month</th>\n",
       "      <th>count_calls</th>\n",
       "      <th>sum_calls</th>\n",
       "      <th>count_messages</th>\n",
       "      <th>gb_used</th>\n",
       "      <th>age</th>\n",
       "      <th>churn_date</th>\n",
       "      <th>city</th>\n",
       "      <th>first_name</th>\n",
       "      <th>...</th>\n",
       "      <th>mb_per_month_included</th>\n",
       "      <th>minutes_included</th>\n",
       "      <th>rub_monthly_fee</th>\n",
       "      <th>rub_per_gb</th>\n",
       "      <th>rub_per_message</th>\n",
       "      <th>rub_per_minute</th>\n",
       "      <th>extra_calls</th>\n",
       "      <th>extra_messages</th>\n",
       "      <th>extra_gb</th>\n",
       "      <th>revenue</th>\n",
       "    </tr>\n",
       "  </thead>\n",
       "  <tbody>\n",
       "    <tr>\n",
       "      <th>3108</th>\n",
       "      <td>1486</td>\n",
       "      <td>12</td>\n",
       "      <td>133.0</td>\n",
       "      <td>1007.0</td>\n",
       "      <td>83.0</td>\n",
       "      <td>38.0</td>\n",
       "      <td>35</td>\n",
       "      <td>NaT</td>\n",
       "      <td>Нижний Новгород</td>\n",
       "      <td>Матвей</td>\n",
       "      <td>...</td>\n",
       "      <td>15360</td>\n",
       "      <td>500</td>\n",
       "      <td>550</td>\n",
       "      <td>200</td>\n",
       "      <td>3</td>\n",
       "      <td>3</td>\n",
       "      <td>507.0</td>\n",
       "      <td>33.0</td>\n",
       "      <td>23.0</td>\n",
       "      <td>6770.0</td>\n",
       "    </tr>\n",
       "    <tr>\n",
       "      <th>260</th>\n",
       "      <td>1042</td>\n",
       "      <td>12</td>\n",
       "      <td>121.0</td>\n",
       "      <td>728.0</td>\n",
       "      <td>75.0</td>\n",
       "      <td>37.0</td>\n",
       "      <td>42</td>\n",
       "      <td>NaT</td>\n",
       "      <td>Хабаровск</td>\n",
       "      <td>Константин</td>\n",
       "      <td>...</td>\n",
       "      <td>15360</td>\n",
       "      <td>500</td>\n",
       "      <td>550</td>\n",
       "      <td>200</td>\n",
       "      <td>3</td>\n",
       "      <td>3</td>\n",
       "      <td>228.0</td>\n",
       "      <td>25.0</td>\n",
       "      <td>22.0</td>\n",
       "      <td>5709.0</td>\n",
       "    </tr>\n",
       "    <tr>\n",
       "      <th>3107</th>\n",
       "      <td>1486</td>\n",
       "      <td>11</td>\n",
       "      <td>108.0</td>\n",
       "      <td>764.0</td>\n",
       "      <td>96.0</td>\n",
       "      <td>36.0</td>\n",
       "      <td>35</td>\n",
       "      <td>NaT</td>\n",
       "      <td>Нижний Новгород</td>\n",
       "      <td>Матвей</td>\n",
       "      <td>...</td>\n",
       "      <td>15360</td>\n",
       "      <td>500</td>\n",
       "      <td>550</td>\n",
       "      <td>200</td>\n",
       "      <td>3</td>\n",
       "      <td>3</td>\n",
       "      <td>264.0</td>\n",
       "      <td>46.0</td>\n",
       "      <td>21.0</td>\n",
       "      <td>5680.0</td>\n",
       "    </tr>\n",
       "    <tr>\n",
       "      <th>1622</th>\n",
       "      <td>1261</td>\n",
       "      <td>12</td>\n",
       "      <td>141.0</td>\n",
       "      <td>1074.0</td>\n",
       "      <td>22.0</td>\n",
       "      <td>32.0</td>\n",
       "      <td>46</td>\n",
       "      <td>NaT</td>\n",
       "      <td>Казань</td>\n",
       "      <td>Мадина</td>\n",
       "      <td>...</td>\n",
       "      <td>15360</td>\n",
       "      <td>500</td>\n",
       "      <td>550</td>\n",
       "      <td>200</td>\n",
       "      <td>3</td>\n",
       "      <td>3</td>\n",
       "      <td>574.0</td>\n",
       "      <td>0.0</td>\n",
       "      <td>17.0</td>\n",
       "      <td>5672.0</td>\n",
       "    </tr>\n",
       "    <tr>\n",
       "      <th>1793</th>\n",
       "      <td>1286</td>\n",
       "      <td>12</td>\n",
       "      <td>95.0</td>\n",
       "      <td>739.0</td>\n",
       "      <td>68.0</td>\n",
       "      <td>35.0</td>\n",
       "      <td>19</td>\n",
       "      <td>NaT</td>\n",
       "      <td>Москва</td>\n",
       "      <td>Рашид</td>\n",
       "      <td>...</td>\n",
       "      <td>15360</td>\n",
       "      <td>500</td>\n",
       "      <td>550</td>\n",
       "      <td>200</td>\n",
       "      <td>3</td>\n",
       "      <td>3</td>\n",
       "      <td>239.0</td>\n",
       "      <td>18.0</td>\n",
       "      <td>20.0</td>\n",
       "      <td>5321.0</td>\n",
       "    </tr>\n",
       "  </tbody>\n",
       "</table>\n",
       "<p>5 rows × 24 columns</p>\n",
       "</div>"
      ],
      "text/plain": [
       "      user_id  month  count_calls  sum_calls  count_messages  gb_used  age  \\\n",
       "3108     1486     12        133.0     1007.0            83.0     38.0   35   \n",
       "260      1042     12        121.0      728.0            75.0     37.0   42   \n",
       "3107     1486     11        108.0      764.0            96.0     36.0   35   \n",
       "1622     1261     12        141.0     1074.0            22.0     32.0   46   \n",
       "1793     1286     12         95.0      739.0            68.0     35.0   19   \n",
       "\n",
       "     churn_date             city  first_name  ... mb_per_month_included  \\\n",
       "3108        NaT  Нижний Новгород      Матвей  ...                 15360   \n",
       "260         NaT        Хабаровск  Константин  ...                 15360   \n",
       "3107        NaT  Нижний Новгород      Матвей  ...                 15360   \n",
       "1622        NaT           Казань      Мадина  ...                 15360   \n",
       "1793        NaT           Москва       Рашид  ...                 15360   \n",
       "\n",
       "     minutes_included rub_monthly_fee  rub_per_gb  rub_per_message  \\\n",
       "3108              500             550         200                3   \n",
       "260               500             550         200                3   \n",
       "3107              500             550         200                3   \n",
       "1622              500             550         200                3   \n",
       "1793              500             550         200                3   \n",
       "\n",
       "      rub_per_minute  extra_calls  extra_messages  extra_gb  revenue  \n",
       "3108               3        507.0            33.0      23.0   6770.0  \n",
       "260                3        228.0            25.0      22.0   5709.0  \n",
       "3107               3        264.0            46.0      21.0   5680.0  \n",
       "1622               3        574.0             0.0      17.0   5672.0  \n",
       "1793               3        239.0            18.0      20.0   5321.0  \n",
       "\n",
       "[5 rows x 24 columns]"
      ]
     },
     "execution_count": 76,
     "metadata": {},
     "output_type": "execute_result"
    }
   ],
   "source": [
    "full_spend.sort_values('revenue', ascending=False).head()"
   ]
  },
  {
   "cell_type": "markdown",
   "metadata": {},
   "source": [
    "## Анализ данных"
   ]
  },
  {
   "cell_type": "markdown",
   "metadata": {},
   "source": [
    "**Опишем поведение клиентов оператора, исходя из выборки**"
   ]
  },
  {
   "cell_type": "markdown",
   "metadata": {},
   "source": [
    "Посмотрим средние и медианные количество минут разговоров, количество сообщений и объемы трафика пользователей по тарифным планам"
   ]
  },
  {
   "cell_type": "code",
   "execution_count": 77,
   "metadata": {},
   "outputs": [
    {
     "data": {
      "text/html": [
       "<div>\n",
       "<style scoped>\n",
       "    .dataframe tbody tr th:only-of-type {\n",
       "        vertical-align: middle;\n",
       "    }\n",
       "\n",
       "    .dataframe tbody tr th {\n",
       "        vertical-align: top;\n",
       "    }\n",
       "\n",
       "    .dataframe thead tr th {\n",
       "        text-align: left;\n",
       "    }\n",
       "\n",
       "    .dataframe thead tr:last-of-type th {\n",
       "        text-align: right;\n",
       "    }\n",
       "</style>\n",
       "<table border=\"1\" class=\"dataframe\">\n",
       "  <thead>\n",
       "    <tr>\n",
       "      <th></th>\n",
       "      <th colspan=\"3\" halign=\"left\">sum_calls</th>\n",
       "      <th colspan=\"3\" halign=\"left\">count_messages</th>\n",
       "      <th colspan=\"3\" halign=\"left\">gb_used</th>\n",
       "      <th colspan=\"3\" halign=\"left\">revenue</th>\n",
       "    </tr>\n",
       "    <tr>\n",
       "      <th></th>\n",
       "      <th>mean</th>\n",
       "      <th>median</th>\n",
       "      <th>sum</th>\n",
       "      <th>mean</th>\n",
       "      <th>median</th>\n",
       "      <th>sum</th>\n",
       "      <th>mean</th>\n",
       "      <th>median</th>\n",
       "      <th>sum</th>\n",
       "      <th>mean</th>\n",
       "      <th>median</th>\n",
       "      <th>sum</th>\n",
       "    </tr>\n",
       "    <tr>\n",
       "      <th>tariff_name</th>\n",
       "      <th></th>\n",
       "      <th></th>\n",
       "      <th></th>\n",
       "      <th></th>\n",
       "      <th></th>\n",
       "      <th></th>\n",
       "      <th></th>\n",
       "      <th></th>\n",
       "      <th></th>\n",
       "      <th></th>\n",
       "      <th></th>\n",
       "      <th></th>\n",
       "    </tr>\n",
       "  </thead>\n",
       "  <tbody>\n",
       "    <tr>\n",
       "      <th>smart</th>\n",
       "      <td>419.062978</td>\n",
       "      <td>423.0</td>\n",
       "      <td>931577.0</td>\n",
       "      <td>38.716441</td>\n",
       "      <td>34.0</td>\n",
       "      <td>74413.0</td>\n",
       "      <td>16.336176</td>\n",
       "      <td>17.0</td>\n",
       "      <td>36397.0</td>\n",
       "      <td>1289.973531</td>\n",
       "      <td>1023.0</td>\n",
       "      <td>2875351.0</td>\n",
       "    </tr>\n",
       "    <tr>\n",
       "      <th>ultra</th>\n",
       "      <td>545.451104</td>\n",
       "      <td>528.0</td>\n",
       "      <td>518724.0</td>\n",
       "      <td>61.161006</td>\n",
       "      <td>51.0</td>\n",
       "      <td>48623.0</td>\n",
       "      <td>19.694359</td>\n",
       "      <td>19.0</td>\n",
       "      <td>19202.0</td>\n",
       "      <td>2070.152284</td>\n",
       "      <td>1950.0</td>\n",
       "      <td>2039100.0</td>\n",
       "    </tr>\n",
       "  </tbody>\n",
       "</table>\n",
       "</div>"
      ],
      "text/plain": [
       "              sum_calls                  count_messages                  \\\n",
       "                   mean median       sum           mean median      sum   \n",
       "tariff_name                                                               \n",
       "smart        419.062978  423.0  931577.0      38.716441   34.0  74413.0   \n",
       "ultra        545.451104  528.0  518724.0      61.161006   51.0  48623.0   \n",
       "\n",
       "               gb_used                      revenue                     \n",
       "                  mean median      sum         mean  median        sum  \n",
       "tariff_name                                                             \n",
       "smart        16.336176   17.0  36397.0  1289.973531  1023.0  2875351.0  \n",
       "ultra        19.694359   19.0  19202.0  2070.152284  1950.0  2039100.0  "
      ]
     },
     "execution_count": 77,
     "metadata": {},
     "output_type": "execute_result"
    }
   ],
   "source": [
    "full_spend.groupby('tariff_name')[['sum_calls', 'count_messages', 'gb_used', 'revenue']].agg(['mean', 'median', 'sum'])"
   ]
  },
  {
   "cell_type": "code",
   "execution_count": 78,
   "metadata": {},
   "outputs": [
    {
     "data": {
      "text/html": [
       "<div>\n",
       "<style scoped>\n",
       "    .dataframe tbody tr th:only-of-type {\n",
       "        vertical-align: middle;\n",
       "    }\n",
       "\n",
       "    .dataframe tbody tr th {\n",
       "        vertical-align: top;\n",
       "    }\n",
       "\n",
       "    .dataframe thead th {\n",
       "        text-align: right;\n",
       "    }\n",
       "</style>\n",
       "<table border=\"1\" class=\"dataframe\">\n",
       "  <thead>\n",
       "    <tr style=\"text-align: right;\">\n",
       "      <th></th>\n",
       "      <th>messages_included</th>\n",
       "      <th>mb_per_month_included</th>\n",
       "      <th>minutes_included</th>\n",
       "      <th>rub_monthly_fee</th>\n",
       "      <th>rub_per_gb</th>\n",
       "      <th>rub_per_message</th>\n",
       "      <th>rub_per_minute</th>\n",
       "      <th>tariff_name</th>\n",
       "    </tr>\n",
       "  </thead>\n",
       "  <tbody>\n",
       "    <tr>\n",
       "      <th>0</th>\n",
       "      <td>50</td>\n",
       "      <td>15360</td>\n",
       "      <td>500</td>\n",
       "      <td>550</td>\n",
       "      <td>200</td>\n",
       "      <td>3</td>\n",
       "      <td>3</td>\n",
       "      <td>smart</td>\n",
       "    </tr>\n",
       "    <tr>\n",
       "      <th>1</th>\n",
       "      <td>1000</td>\n",
       "      <td>30720</td>\n",
       "      <td>3000</td>\n",
       "      <td>1950</td>\n",
       "      <td>150</td>\n",
       "      <td>1</td>\n",
       "      <td>1</td>\n",
       "      <td>ultra</td>\n",
       "    </tr>\n",
       "  </tbody>\n",
       "</table>\n",
       "</div>"
      ],
      "text/plain": [
       "   messages_included  mb_per_month_included  minutes_included  \\\n",
       "0                 50                  15360               500   \n",
       "1               1000                  30720              3000   \n",
       "\n",
       "   rub_monthly_fee  rub_per_gb  rub_per_message  rub_per_minute tariff_name  \n",
       "0              550         200                3               3       smart  \n",
       "1             1950         150                1               1       ultra  "
      ]
     },
     "execution_count": 78,
     "metadata": {},
     "output_type": "execute_result"
    }
   ],
   "source": [
    "tariffs.head()"
   ]
  },
  {
   "cell_type": "markdown",
   "metadata": {},
   "source": [
    "Из данных видно, что средние и медианные значения близки.  \n",
    "Будем рассматривать медианные значения, так как они будут учитывать половину пользователей.  \n",
    "  \n",
    "Клиенты тарифа smart:  \n",
    "- разговаривают не более 423 минут за месяц, в тарифе 500 минут - пакет перекрывает их траты;  \n",
    "- отправляют не более 34 сообщений, в тарифе 50 сообщений - пакет перекрывает их траты;  \n",
    "- тратят не более 17 ГБ, в тарифе 15 ГБ - большинству приходится докупать интернет-трафик. \n",
    "  \n",
    "Клиенты тарифа ultra:  \n",
    "- разговаривают не более 528 минут за месяц, в тарифе 3000 минут - пакет перекрывает их траты;  \n",
    "- отправляют не более 51 сообщений, в тарифе 1000 сообщений - пакет перекрывает их траты;  \n",
    "- тратят не более 19 ГБ, в тарифе 30 ГБ - пакет перекрывает их траты. "
   ]
  },
  {
   "cell_type": "markdown",
   "metadata": {},
   "source": [
    "Посчитаем дисперсии и стандартные отклонения количества минут разговоров, количества сообщений и объемов трафика пользователей по тарифным планам"
   ]
  },
  {
   "cell_type": "code",
   "execution_count": 79,
   "metadata": {},
   "outputs": [
    {
     "data": {
      "text/html": [
       "<div>\n",
       "<style scoped>\n",
       "    .dataframe tbody tr th:only-of-type {\n",
       "        vertical-align: middle;\n",
       "    }\n",
       "\n",
       "    .dataframe tbody tr th {\n",
       "        vertical-align: top;\n",
       "    }\n",
       "\n",
       "    .dataframe thead th {\n",
       "        text-align: right;\n",
       "    }\n",
       "</style>\n",
       "<table border=\"1\" class=\"dataframe\">\n",
       "  <thead>\n",
       "    <tr style=\"text-align: right;\">\n",
       "      <th></th>\n",
       "      <th>sum_calls</th>\n",
       "      <th>count_messages</th>\n",
       "      <th>gb_used</th>\n",
       "      <th>revenue</th>\n",
       "    </tr>\n",
       "    <tr>\n",
       "      <th>tariff_name</th>\n",
       "      <th></th>\n",
       "      <th></th>\n",
       "      <th></th>\n",
       "      <th></th>\n",
       "    </tr>\n",
       "  </thead>\n",
       "  <tbody>\n",
       "    <tr>\n",
       "      <th>smart</th>\n",
       "      <td>35844.189551</td>\n",
       "      <td>717.594201</td>\n",
       "      <td>32.923756</td>\n",
       "      <td>669785.708006</td>\n",
       "    </tr>\n",
       "    <tr>\n",
       "      <th>ultra</th>\n",
       "      <td>94203.418396</td>\n",
       "      <td>2109.659183</td>\n",
       "      <td>94.146734</td>\n",
       "      <td>141516.745079</td>\n",
       "    </tr>\n",
       "  </tbody>\n",
       "</table>\n",
       "</div>"
      ],
      "text/plain": [
       "                sum_calls  count_messages    gb_used        revenue\n",
       "tariff_name                                                        \n",
       "smart        35844.189551      717.594201  32.923756  669785.708006\n",
       "ultra        94203.418396     2109.659183  94.146734  141516.745079"
      ]
     },
     "execution_count": 79,
     "metadata": {},
     "output_type": "execute_result"
    }
   ],
   "source": [
    "full_spend.groupby('tariff_name')[['sum_calls', 'count_messages', 'gb_used', 'revenue']].var(ddof=1)"
   ]
  },
  {
   "cell_type": "code",
   "execution_count": 80,
   "metadata": {},
   "outputs": [
    {
     "data": {
      "text/html": [
       "<div>\n",
       "<style scoped>\n",
       "    .dataframe tbody tr th:only-of-type {\n",
       "        vertical-align: middle;\n",
       "    }\n",
       "\n",
       "    .dataframe tbody tr th {\n",
       "        vertical-align: top;\n",
       "    }\n",
       "\n",
       "    .dataframe thead th {\n",
       "        text-align: right;\n",
       "    }\n",
       "</style>\n",
       "<table border=\"1\" class=\"dataframe\">\n",
       "  <thead>\n",
       "    <tr style=\"text-align: right;\">\n",
       "      <th></th>\n",
       "      <th>sum_calls</th>\n",
       "      <th>count_messages</th>\n",
       "      <th>gb_used</th>\n",
       "    </tr>\n",
       "    <tr>\n",
       "      <th>tariff_name</th>\n",
       "      <th></th>\n",
       "      <th></th>\n",
       "      <th></th>\n",
       "    </tr>\n",
       "  </thead>\n",
       "  <tbody>\n",
       "    <tr>\n",
       "      <th>smart</th>\n",
       "      <td>189.325618</td>\n",
       "      <td>26.787949</td>\n",
       "      <td>5.737923</td>\n",
       "    </tr>\n",
       "    <tr>\n",
       "      <th>ultra</th>\n",
       "      <td>306.925754</td>\n",
       "      <td>45.931026</td>\n",
       "      <td>9.702924</td>\n",
       "    </tr>\n",
       "  </tbody>\n",
       "</table>\n",
       "</div>"
      ],
      "text/plain": [
       "              sum_calls  count_messages   gb_used\n",
       "tariff_name                                      \n",
       "smart        189.325618       26.787949  5.737923\n",
       "ultra        306.925754       45.931026  9.702924"
      ]
     },
     "execution_count": 80,
     "metadata": {},
     "output_type": "execute_result"
    }
   ],
   "source": [
    "full_spend.groupby('tariff_name')[['sum_calls', 'count_messages', 'gb_used']].std(ddof=1)"
   ]
  },
  {
   "cell_type": "markdown",
   "metadata": {},
   "source": [
    "Построим гистограммы"
   ]
  },
  {
   "cell_type": "markdown",
   "metadata": {},
   "source": [
    "**Гистограмма количества минут звонков клиентов, пользующихся тарифом smart**"
   ]
  },
  {
   "cell_type": "code",
   "execution_count": 81,
   "metadata": {},
   "outputs": [
    {
     "data": {
      "text/plain": [
       "<matplotlib.lines.Line2D at 0x7ff391e27ca0>"
      ]
     },
     "execution_count": 81,
     "metadata": {},
     "output_type": "execute_result"
    },
    {
     "data": {
      "image/png": "[encoded data removed]",
      "text/plain": [
       "<Figure size 360x360 with 1 Axes>"
      ]
     },
     "metadata": {
      "needs_background": "light"
     },
     "output_type": "display_data"
    }
   ],
   "source": [
    "sns_plot = sns.displot(full_spend.loc[full_spend['tariff_name'] == 'smart']['sum_calls'], \n",
    "                       kde=True)\n",
    "plt.axvline(500, color='r')"
   ]
  },
  {
   "cell_type": "markdown",
   "metadata": {},
   "source": [
    "Количество минут звонков клиентов, пользующихся тарифом smart, имеет усеченное нормальное распределение."
   ]
  },
  {
   "cell_type": "markdown",
   "metadata": {},
   "source": [
    "**Гистограмма количества сообщений клиентов, пользующихся тарифом smart**"
   ]
  },
  {
   "cell_type": "code",
   "execution_count": 82,
   "metadata": {},
   "outputs": [
    {
     "data": {
      "text/plain": [
       "<matplotlib.lines.Line2D at 0x7ff3968da460>"
      ]
     },
     "execution_count": 82,
     "metadata": {},
     "output_type": "execute_result"
    },
    {
     "data": {
      "image/png": "[encoded data removed]",
      "text/plain": [
       "<Figure size 360x360 with 1 Axes>"
      ]
     },
     "metadata": {
      "needs_background": "light"
     },
     "output_type": "display_data"
    }
   ],
   "source": [
    "sns_plot = sns.displot(full_spend.loc[full_spend['tariff_name'] == 'smart']['count_messages'], \n",
    "                       kde=True)\n",
    "plt.axvline(50, color='r')"
   ]
  },
  {
   "cell_type": "markdown",
   "metadata": {},
   "source": [
    "Количество сообщений клиентов, пользующихся тарифом smart, имеет усеченное нормальное распределение. Многие (чуть меньше половины) клиенты, пользующиеся тарифом smart, не укладываются в лимит по количеству сообщений"
   ]
  },
  {
   "cell_type": "markdown",
   "metadata": {},
   "source": [
    "**Гистограмма количества интернет-трафика клиентов, пользующихся тарифом smart**"
   ]
  },
  {
   "cell_type": "code",
   "execution_count": 83,
   "metadata": {},
   "outputs": [
    {
     "data": {
      "text/plain": [
       "<matplotlib.lines.Line2D at 0x7ff396d06fa0>"
      ]
     },
     "execution_count": 83,
     "metadata": {},
     "output_type": "execute_result"
    },
    {
     "data": {
      "image/png": "[encoded data removed]",
      "text/plain": [
       "<Figure size 360x360 with 1 Axes>"
      ]
     },
     "metadata": {
      "needs_background": "light"
     },
     "output_type": "display_data"
    }
   ],
   "source": [
    "sns_plot = sns.displot(full_spend.loc[full_spend['tariff_name'] == 'smart']['gb_used'], kde=True)\n",
    "plt.axvline(15, color='r')"
   ]
  },
  {
   "cell_type": "markdown",
   "metadata": {},
   "source": [
    "Количество интернет-трафика клиентов, пользующихся тарифом smart, имеет нормальное распределение. Большинство клиентов (около 60%), пользующиеся тарифом smart, не укладываются в лимит по интернет-трафику"
   ]
  },
  {
   "cell_type": "markdown",
   "metadata": {},
   "source": [
    "**Гистограмма количества минут звонков клиентов, пользующихся тарифом ultra**"
   ]
  },
  {
   "cell_type": "code",
   "execution_count": 84,
   "metadata": {},
   "outputs": [
    {
     "data": {
      "text/plain": [
       "<matplotlib.lines.Line2D at 0x7ff396d06850>"
      ]
     },
     "execution_count": 84,
     "metadata": {},
     "output_type": "execute_result"
    },
    {
     "data": {
      "image/png": "[encoded data removed]",
      "text/plain": [
       "<Figure size 360x360 with 1 Axes>"
      ]
     },
     "metadata": {
      "needs_background": "light"
     },
     "output_type": "display_data"
    }
   ],
   "source": [
    "sns_plot = sns.displot(full_spend.loc[full_spend['tariff_name'] == 'ultra']['sum_calls'], kde=True)\n",
    "plt.axvline(3000, color='r')"
   ]
  },
  {
   "cell_type": "markdown",
   "metadata": {},
   "source": [
    "Количество минут звонков клиентов, пользующихся тарифом ultra, имеет усеченное нормальное распределение. Все клиенты, пользующиеся тарифом ultra, укладываются в лимит по звонкам"
   ]
  },
  {
   "cell_type": "markdown",
   "metadata": {},
   "source": [
    "**Гистограмма количества сообщений клиентов, пользующихся тарифом ultra**"
   ]
  },
  {
   "cell_type": "code",
   "execution_count": 85,
   "metadata": {},
   "outputs": [
    {
     "data": {
      "text/plain": [
       "<matplotlib.lines.Line2D at 0x7ff3968731c0>"
      ]
     },
     "execution_count": 85,
     "metadata": {},
     "output_type": "execute_result"
    },
    {
     "data": {
      "image/png": "[encoded data removed]",
      "text/plain": [
       "<Figure size 360x360 with 1 Axes>"
      ]
     },
     "metadata": {
      "needs_background": "light"
     },
     "output_type": "display_data"
    }
   ],
   "source": [
    "sns_plot = sns.displot(full_spend.loc[full_spend['tariff_name'] == 'ultra']['count_messages'], kde=True)\n",
    "plt.axvline(1000, color='r')"
   ]
  },
  {
   "cell_type": "markdown",
   "metadata": {},
   "source": [
    "Количество сообщений клиентов, пользующихся тарифом ultra, имеет усеченное нормальное распределение. Все клиенты, пользующиеся тарифом ultra, укладываются в лимит по количеству сообщений"
   ]
  },
  {
   "cell_type": "markdown",
   "metadata": {},
   "source": [
    "**Гистограмма количества интернет-трафика клиентов, пользующихся тарифом ultra**"
   ]
  },
  {
   "cell_type": "code",
   "execution_count": 86,
   "metadata": {},
   "outputs": [
    {
     "data": {
      "text/plain": [
       "<matplotlib.lines.Line2D at 0x7ff3970b5af0>"
      ]
     },
     "execution_count": 86,
     "metadata": {},
     "output_type": "execute_result"
    },
    {
     "data": {
      "image/png": "[encoded data removed]",
      "text/plain": [
       "<Figure size 360x360 with 1 Axes>"
      ]
     },
     "metadata": {
      "needs_background": "light"
     },
     "output_type": "display_data"
    }
   ],
   "source": [
    "sns_plot = sns.displot(full_spend.loc[full_spend['tariff_name'] == 'ultra']['gb_used'], kde=True)\n",
    "plt.axvline(30, color='r')"
   ]
  },
  {
   "cell_type": "markdown",
   "metadata": {},
   "source": [
    "Количество интернет-трафика клиентов, пользующихся тарифом ultra, имеет усеченное нормальное распределение. Большинство клиентов (около 80%), пользующиеся тарифом ultra, укладываются в лимит по интернет-трафику"
   ]
  },
  {
   "cell_type": "markdown",
   "metadata": {},
   "source": [
    "## Проверка гипотезы\n"
   ]
  },
  {
   "cell_type": "markdown",
   "metadata": {},
   "source": [
    "**Проверим гипотезу, что средняя выручка пользователей тарифов «Ультра» и «Смарт» различаются**\n",
    "  \n",
    "В качестве нулевой гипотезы H0 примем, что средняя выручка пользователей тарифов «Ультра» и «Смарт» не различаются,  \n",
    "в качестве альтернативной гипотезы H1 примем, что средняя выручка пользователей тарифов «Ультра» и «Смарт» различаются.  \n",
    "  \n",
    "Для проверки будем использовать t-тест потому, что генеральные совокупности не зависят друг от друга, выборочные средние нормально распределены, однако учтём, что дисперсии выборок различны. Примем пороговый уровень значимости alpha = 5%."
   ]
  },
  {
   "cell_type": "code",
   "execution_count": 87,
   "metadata": {},
   "outputs": [
    {
     "data": {
      "text/plain": [
       "Ttest_indResult(statistic=-37.019021231454644, pvalue=4.2606313931076085e-250)"
      ]
     },
     "execution_count": 87,
     "metadata": {},
     "output_type": "execute_result"
    }
   ],
   "source": [
    "scipy.stats.ttest_ind(full_spend.loc[full_spend['tariff_name'] == 'smart']['revenue'],\\\n",
    "                      full_spend.loc[full_spend['tariff_name'] == 'ultra']['revenue'], equal_var=False)"
   ]
  },
  {
   "cell_type": "markdown",
   "metadata": {},
   "source": [
    "В результате t-теста получили p-уровень значимости значительно меньше alpha, в следствии чего можем отвергнуть нулевую гипотезу.  \n",
    "Значит средняя выручка с пользователей различных тарифных планов различаются."
   ]
  },
  {
   "cell_type": "markdown",
   "metadata": {},
   "source": [
    "**Средняя выручка пользователей из Москвы отличается от выручки пользователей из других регионов.**  \n",
    "  \n",
    "В качестве нулевой гипотезы H0 примем, что средняя выручка пользователей из Москвы не отличается от выручки пользователей из других регионов,  \n",
    "в качестве альтернативной гипотезы H1 примем, что средняя выручка пользователей из Москвы отличается от выручки пользователей из других регионов.  \n",
    "  \n",
    "Для проверки будем использовать t-тест потому, что генеральные совокупности не зависят друг от друга, выборочные средние нормально распределены. Примем пороговый уровень значимости alpha = 5%."
   ]
  },
  {
   "cell_type": "markdown",
   "metadata": {},
   "source": [
    "Проверим дисперсии выборок"
   ]
  },
  {
   "cell_type": "code",
   "execution_count": 88,
   "metadata": {},
   "outputs": [
    {
     "data": {
      "text/plain": [
       "565636.4670118855"
      ]
     },
     "execution_count": 88,
     "metadata": {},
     "output_type": "execute_result"
    }
   ],
   "source": [
    "full_spend.loc[full_spend['city'] == 'Москва']['revenue'].var(ddof=1)"
   ]
  },
  {
   "cell_type": "code",
   "execution_count": 89,
   "metadata": {},
   "outputs": [
    {
     "data": {
      "text/plain": [
       "654137.6285218048"
      ]
     },
     "execution_count": 89,
     "metadata": {},
     "output_type": "execute_result"
    }
   ],
   "source": [
    "full_spend.loc[full_spend['city'] != 'Москва']['revenue'].var(ddof=1)"
   ]
  },
  {
   "cell_type": "markdown",
   "metadata": {},
   "source": [
    "Дисперсии выборок различны (различие около 20%)"
   ]
  },
  {
   "cell_type": "code",
   "execution_count": 90,
   "metadata": {},
   "outputs": [
    {
     "data": {
      "text/plain": [
       "Ttest_indResult(statistic=0.6347555055229303, pvalue=0.5257376663729298)"
      ]
     },
     "execution_count": 90,
     "metadata": {},
     "output_type": "execute_result"
    }
   ],
   "source": [
    "scipy.stats.ttest_ind(full_spend.loc[full_spend['city'] == 'Москва']['revenue'],\\\n",
    "                      full_spend.loc[full_spend['city'] != 'Москва']['revenue'], equal_var=False)"
   ]
  },
  {
   "cell_type": "markdown",
   "metadata": {},
   "source": [
    "В результате t-теста получили p-уровень значимости больше alpha, в следствии чего не удалось отвергнуть нулевую гипотезу, статистически значимых различий нет.  \n",
    "Значит будем считать, что средняя выручка с пользователей из Москвы и других городов не различаются."
   ]
  },
  {
   "cell_type": "markdown",
   "metadata": {},
   "source": [
    "##  Вывод\n"
   ]
  },
  {
   "cell_type": "markdown",
   "metadata": {},
   "source": [
    "Задачей данного проекта было определить какой тариф выгоднее для корректировки рекламного бюджета.  \n",
    "  \n",
    "В ходе проекта были выполнены:  \n",
    "* загрузка данных предоставленных оператором;\n",
    "* предобработка данных - данные без пропусков и дубликатов, были поменяны типы данных для столбцов с датами;  \n",
    "* посчитано количество и длительность звонков каждого пользователя по месяцам;\n",
    "* посчитано количество сообщений каждого пользователя по месяцам;\n",
    "* посчитан интернет-трафик каждого пользователя по месяцам;\n",
    "* посчитана ежемесячная выручка с каждого пользователя;\n",
    "* проанализировано сколько минут разговоров, сколько сообщений и сколько интернет-трафика требуется среднему пользователю каждого тарифа;  \n",
    "* посчитаны дисперсии и стандартные отклонения количества минут разговоров, количества сообщений и количества интернет-трафика пользователей каждого тарифа;  \n",
    "* построены гистограммы количества минут разговоров, количества сообщений и количества интернет-трафика пользователей каждого тарифа;  \n",
    "* проверена гипотеза, что средняя выручка с пользователей тарифов «Ультра» и «Смарт» различаются;  \n",
    "* проверена гипотеза, что средняя выручка с пользователей из Москвы отличается от выручки пользователей из других регионов. \n",
    "  \n",
    "****  \n",
    "Из анализа видно, что средняя выручка с пользователей различных тарифом отличается.  \n",
    "Пользователи тарифа ultra в среднем приносят больше выручки, но стоит учитывать, что количество пользователей тарифа smart сильно больше и суммарное количество выручки они приносят больше. Стоит это учесть при распределении рекламного бюджета (может оказаться, что количество пользователей тарифа ultra ограниченно, ввиду его дороговизны, и стоимость привлечения одного клиента выйдет дороже чем привлечение нескольких клиентов тарифа smart).  \n",
    "Большинству пользователей тарифа smart приходится докупать интернет-трафик, большинство пользователей тарифа ultra ничего не докупает, так как им хватает, входящие в тариф пакеты.  \n",
    "Средняя выручка с пользователей из Москвы отличается от выручки пользователей из других регионов не отличается. Это логично, так как тарифы у нас федеральные и не отличаются по городам, поведение клентов не отличается в зависимости от города."
   ]
  }
 ],
 "metadata": {
  "ExecuteTimeLog": [
   {
    "duration": 145,
    "start_time": "2022-05-17T15:56:55.188Z"
   },
   {
    "duration": 388,
    "start_time": "2022-05-17T16:05:54.112Z"
   },
   {
    "duration": 558,
    "start_time": "2022-05-17T17:47:30.720Z"
   },
   {
    "duration": 100,
    "start_time": "2022-05-17T17:47:31.281Z"
   },
   {
    "duration": 94,
    "start_time": "2022-05-17T17:47:31.383Z"
   },
   {
    "duration": 85,
    "start_time": "2022-05-17T17:47:32.024Z"
   },
   {
    "duration": 91,
    "start_time": "2022-05-17T17:47:32.353Z"
   },
   {
    "duration": 210,
    "start_time": "2022-05-17T17:48:28.627Z"
   },
   {
    "duration": 177,
    "start_time": "2022-05-17T17:49:00.873Z"
   },
   {
    "duration": 126,
    "start_time": "2022-05-17T17:49:37.896Z"
   },
   {
    "duration": 18,
    "start_time": "2022-05-17T17:50:16.582Z"
   },
   {
    "duration": 25,
    "start_time": "2022-05-17T17:50:49.580Z"
   },
   {
    "duration": 22,
    "start_time": "2022-05-17T17:51:50.427Z"
   },
   {
    "duration": 19,
    "start_time": "2022-05-17T17:52:04.686Z"
   },
   {
    "duration": 11,
    "start_time": "2022-05-17T17:52:13.820Z"
   },
   {
    "duration": 13,
    "start_time": "2022-05-17T17:52:22.742Z"
   },
   {
    "duration": 16,
    "start_time": "2022-05-17T17:52:34.259Z"
   },
   {
    "duration": 34,
    "start_time": "2022-05-17T17:52:56.977Z"
   },
   {
    "duration": 29,
    "start_time": "2022-05-17T17:53:07.097Z"
   },
   {
    "duration": 26,
    "start_time": "2022-05-17T17:53:16.832Z"
   },
   {
    "duration": 16,
    "start_time": "2022-05-17T17:53:32.150Z"
   },
   {
    "duration": 18,
    "start_time": "2022-05-17T17:53:39.365Z"
   },
   {
    "duration": 39,
    "start_time": "2022-05-17T17:54:04.380Z"
   },
   {
    "duration": 35,
    "start_time": "2022-05-17T18:00:05.009Z"
   },
   {
    "duration": 1006,
    "start_time": "2022-05-17T18:00:59.538Z"
   },
   {
    "duration": 13,
    "start_time": "2022-05-17T18:01:34.665Z"
   },
   {
    "duration": 883,
    "start_time": "2022-05-17T18:03:27.013Z"
   },
   {
    "duration": 823,
    "start_time": "2022-05-17T18:03:52.367Z"
   },
   {
    "duration": 826,
    "start_time": "2022-05-17T18:04:54.480Z"
   },
   {
    "duration": 58,
    "start_time": "2022-05-17T18:05:30.633Z"
   },
   {
    "duration": 34,
    "start_time": "2022-05-17T18:05:41.364Z"
   },
   {
    "duration": 52,
    "start_time": "2022-05-17T18:05:55.240Z"
   },
   {
    "duration": 25,
    "start_time": "2022-05-17T18:05:55.859Z"
   },
   {
    "duration": 65,
    "start_time": "2022-05-17T18:07:48.895Z"
   },
   {
    "duration": 25,
    "start_time": "2022-05-17T18:07:49.282Z"
   },
   {
    "duration": 24,
    "start_time": "2022-05-17T18:07:59.909Z"
   },
   {
    "duration": 24,
    "start_time": "2022-05-17T18:08:48.537Z"
   },
   {
    "duration": 388,
    "start_time": "2022-05-20T18:47:29.832Z"
   },
   {
    "duration": 504,
    "start_time": "2022-05-20T18:47:30.222Z"
   },
   {
    "duration": 438,
    "start_time": "2022-05-20T18:47:30.728Z"
   },
   {
    "duration": 274,
    "start_time": "2022-05-20T18:47:31.168Z"
   },
   {
    "duration": 76,
    "start_time": "2022-05-20T18:47:31.444Z"
   },
   {
    "duration": 66,
    "start_time": "2022-05-20T18:47:31.522Z"
   },
   {
    "duration": 16,
    "start_time": "2022-05-20T18:47:31.589Z"
   },
   {
    "duration": 28,
    "start_time": "2022-05-20T18:47:31.606Z"
   },
   {
    "duration": 9,
    "start_time": "2022-05-20T18:47:31.798Z"
   },
   {
    "duration": 21,
    "start_time": "2022-05-20T18:47:32.019Z"
   },
   {
    "duration": 7,
    "start_time": "2022-05-20T18:47:32.300Z"
   },
   {
    "duration": 21,
    "start_time": "2022-05-20T18:47:32.466Z"
   },
   {
    "duration": 8,
    "start_time": "2022-05-20T18:47:32.768Z"
   },
   {
    "duration": 11,
    "start_time": "2022-05-20T18:47:32.873Z"
   },
   {
    "duration": 9,
    "start_time": "2022-05-20T18:47:33.087Z"
   },
   {
    "duration": 10,
    "start_time": "2022-05-20T18:47:33.347Z"
   },
   {
    "duration": 23,
    "start_time": "2022-05-20T18:47:36.305Z"
   },
   {
    "duration": 34,
    "start_time": "2022-05-20T18:47:36.603Z"
   },
   {
    "duration": 25,
    "start_time": "2022-05-20T18:48:24.095Z"
   },
   {
    "duration": 9,
    "start_time": "2022-05-20T18:48:43.773Z"
   },
   {
    "duration": 24,
    "start_time": "2022-05-20T18:49:45.360Z"
   },
   {
    "duration": 18,
    "start_time": "2022-05-20T18:49:50.633Z"
   },
   {
    "duration": 28,
    "start_time": "2022-05-20T18:50:08.715Z"
   },
   {
    "duration": 21,
    "start_time": "2022-05-20T18:50:59.928Z"
   },
   {
    "duration": 15,
    "start_time": "2022-05-20T18:51:05.062Z"
   },
   {
    "duration": 15,
    "start_time": "2022-05-20T18:51:27.038Z"
   },
   {
    "duration": 16,
    "start_time": "2022-05-20T18:51:41.734Z"
   },
   {
    "duration": 10,
    "start_time": "2022-05-20T18:51:55.322Z"
   },
   {
    "duration": 5,
    "start_time": "2022-05-20T18:52:32.754Z"
   },
   {
    "duration": 6,
    "start_time": "2022-05-20T18:52:50.521Z"
   },
   {
    "duration": 12,
    "start_time": "2022-05-20T18:52:58.326Z"
   },
   {
    "duration": 42,
    "start_time": "2022-05-20T18:53:35.703Z"
   },
   {
    "duration": 32,
    "start_time": "2022-05-20T18:54:27.003Z"
   },
   {
    "duration": 15,
    "start_time": "2022-05-20T18:54:52.947Z"
   },
   {
    "duration": 252,
    "start_time": "2022-05-20T18:57:50.934Z"
   },
   {
    "duration": 14,
    "start_time": "2022-05-20T18:57:58.289Z"
   },
   {
    "duration": 24,
    "start_time": "2022-05-20T18:58:05.212Z"
   },
   {
    "duration": 77,
    "start_time": "2022-05-20T19:00:36.603Z"
   },
   {
    "duration": 10,
    "start_time": "2022-05-20T19:04:45.009Z"
   },
   {
    "duration": 10,
    "start_time": "2022-05-20T19:08:09.926Z"
   },
   {
    "duration": 8,
    "start_time": "2022-05-20T19:08:30.062Z"
   },
   {
    "duration": 8,
    "start_time": "2022-05-20T19:08:48.854Z"
   },
   {
    "duration": 56,
    "start_time": "2022-05-20T19:10:44.019Z"
   },
   {
    "duration": 6,
    "start_time": "2022-05-20T19:10:52.974Z"
   },
   {
    "duration": 405,
    "start_time": "2022-05-20T19:10:59.306Z"
   },
   {
    "duration": 507,
    "start_time": "2022-05-20T19:10:59.713Z"
   },
   {
    "duration": 430,
    "start_time": "2022-05-20T19:11:00.222Z"
   },
   {
    "duration": 276,
    "start_time": "2022-05-20T19:11:00.654Z"
   },
   {
    "duration": 77,
    "start_time": "2022-05-20T19:11:00.932Z"
   },
   {
    "duration": 67,
    "start_time": "2022-05-20T19:11:01.011Z"
   },
   {
    "duration": 17,
    "start_time": "2022-05-20T19:11:01.079Z"
   },
   {
    "duration": 29,
    "start_time": "2022-05-20T19:11:01.097Z"
   },
   {
    "duration": 9,
    "start_time": "2022-05-20T19:11:01.129Z"
   },
   {
    "duration": 26,
    "start_time": "2022-05-20T19:11:01.139Z"
   },
   {
    "duration": 23,
    "start_time": "2022-05-20T19:11:01.166Z"
   },
   {
    "duration": 34,
    "start_time": "2022-05-20T19:11:01.190Z"
   },
   {
    "duration": 14,
    "start_time": "2022-05-20T19:11:01.226Z"
   },
   {
    "duration": 13,
    "start_time": "2022-05-20T19:11:01.241Z"
   },
   {
    "duration": 13,
    "start_time": "2022-05-20T19:11:01.256Z"
   },
   {
    "duration": 10,
    "start_time": "2022-05-20T19:11:01.297Z"
   },
   {
    "duration": 24,
    "start_time": "2022-05-20T19:11:03.331Z"
   },
   {
    "duration": 33,
    "start_time": "2022-05-20T19:11:04.217Z"
   },
   {
    "duration": 20,
    "start_time": "2022-05-20T19:11:04.643Z"
   },
   {
    "duration": 21,
    "start_time": "2022-05-20T19:11:05.280Z"
   },
   {
    "duration": 23,
    "start_time": "2022-05-20T19:11:05.714Z"
   },
   {
    "duration": 18,
    "start_time": "2022-05-20T19:11:06.199Z"
   },
   {
    "duration": 18,
    "start_time": "2022-05-20T19:11:06.602Z"
   },
   {
    "duration": 21,
    "start_time": "2022-05-20T19:11:07.026Z"
   },
   {
    "duration": 15,
    "start_time": "2022-05-20T19:11:07.553Z"
   },
   {
    "duration": 10,
    "start_time": "2022-05-20T19:11:07.820Z"
   },
   {
    "duration": 12,
    "start_time": "2022-05-20T19:11:08.420Z"
   },
   {
    "duration": 6,
    "start_time": "2022-05-20T19:11:09.145Z"
   },
   {
    "duration": 11,
    "start_time": "2022-05-20T19:11:09.517Z"
   },
   {
    "duration": 31,
    "start_time": "2022-05-20T19:11:09.799Z"
   },
   {
    "duration": 31,
    "start_time": "2022-05-20T19:11:09.961Z"
   },
   {
    "duration": 14,
    "start_time": "2022-05-20T19:11:10.626Z"
   },
   {
    "duration": 58,
    "start_time": "2022-05-20T19:11:26.116Z"
   },
   {
    "duration": 569,
    "start_time": "2022-05-20T19:12:03.830Z"
   },
   {
    "duration": 527,
    "start_time": "2022-05-20T19:12:04.401Z"
   },
   {
    "duration": 426,
    "start_time": "2022-05-20T19:12:04.929Z"
   },
   {
    "duration": 276,
    "start_time": "2022-05-20T19:12:05.357Z"
   },
   {
    "duration": 77,
    "start_time": "2022-05-20T19:12:05.635Z"
   },
   {
    "duration": 69,
    "start_time": "2022-05-20T19:12:05.714Z"
   },
   {
    "duration": 17,
    "start_time": "2022-05-20T19:12:05.785Z"
   },
   {
    "duration": 31,
    "start_time": "2022-05-20T19:12:05.803Z"
   },
   {
    "duration": 8,
    "start_time": "2022-05-20T19:12:05.837Z"
   },
   {
    "duration": 39,
    "start_time": "2022-05-20T19:12:05.848Z"
   },
   {
    "duration": 7,
    "start_time": "2022-05-20T19:12:05.889Z"
   },
   {
    "duration": 42,
    "start_time": "2022-05-20T19:12:05.897Z"
   },
   {
    "duration": 23,
    "start_time": "2022-05-20T19:12:05.940Z"
   },
   {
    "duration": 30,
    "start_time": "2022-05-20T19:12:05.965Z"
   },
   {
    "duration": 17,
    "start_time": "2022-05-20T19:12:05.997Z"
   },
   {
    "duration": 36,
    "start_time": "2022-05-20T19:12:06.016Z"
   },
   {
    "duration": 31,
    "start_time": "2022-05-20T19:12:06.054Z"
   },
   {
    "duration": 33,
    "start_time": "2022-05-20T19:12:06.087Z"
   },
   {
    "duration": 17,
    "start_time": "2022-05-20T19:12:06.122Z"
   },
   {
    "duration": 26,
    "start_time": "2022-05-20T19:12:06.142Z"
   },
   {
    "duration": 22,
    "start_time": "2022-05-20T19:12:06.184Z"
   },
   {
    "duration": 16,
    "start_time": "2022-05-20T19:12:06.208Z"
   },
   {
    "duration": 17,
    "start_time": "2022-05-20T19:12:06.226Z"
   },
   {
    "duration": 52,
    "start_time": "2022-05-20T19:12:06.245Z"
   },
   {
    "duration": 14,
    "start_time": "2022-05-20T19:12:06.298Z"
   },
   {
    "duration": 9,
    "start_time": "2022-05-20T19:12:06.327Z"
   },
   {
    "duration": 10,
    "start_time": "2022-05-20T19:12:06.412Z"
   },
   {
    "duration": 6,
    "start_time": "2022-05-20T19:12:06.498Z"
   },
   {
    "duration": 12,
    "start_time": "2022-05-20T19:12:06.698Z"
   },
   {
    "duration": 35,
    "start_time": "2022-05-20T19:12:06.935Z"
   },
   {
    "duration": 32,
    "start_time": "2022-05-20T19:12:07.101Z"
   },
   {
    "duration": 14,
    "start_time": "2022-05-20T19:12:07.249Z"
   },
   {
    "duration": 56,
    "start_time": "2022-05-20T19:12:15.066Z"
   },
   {
    "duration": 6,
    "start_time": "2022-05-20T19:12:35.552Z"
   },
   {
    "duration": 6,
    "start_time": "2022-05-20T19:12:46.578Z"
   },
   {
    "duration": 7,
    "start_time": "2022-05-20T19:12:52.149Z"
   },
   {
    "duration": 453,
    "start_time": "2022-05-21T07:18:10.482Z"
   },
   {
    "duration": 221,
    "start_time": "2022-05-21T07:18:10.938Z"
   },
   {
    "duration": 300,
    "start_time": "2022-05-21T07:18:11.160Z"
   },
   {
    "duration": 122,
    "start_time": "2022-05-21T07:18:11.462Z"
   },
   {
    "duration": 31,
    "start_time": "2022-05-21T07:18:11.586Z"
   },
   {
    "duration": 37,
    "start_time": "2022-05-21T07:18:11.853Z"
   },
   {
    "duration": 20,
    "start_time": "2022-05-21T07:18:12.401Z"
   },
   {
    "duration": 34,
    "start_time": "2022-05-21T07:18:12.706Z"
   },
   {
    "duration": 10,
    "start_time": "2022-05-21T07:18:13.008Z"
   },
   {
    "duration": 36,
    "start_time": "2022-05-21T07:18:13.658Z"
   },
   {
    "duration": 10,
    "start_time": "2022-05-21T07:18:14.188Z"
   },
   {
    "duration": 25,
    "start_time": "2022-05-21T07:18:14.866Z"
   },
   {
    "duration": 12,
    "start_time": "2022-05-21T07:18:15.602Z"
   },
   {
    "duration": 13,
    "start_time": "2022-05-21T07:18:16.506Z"
   },
   {
    "duration": 14,
    "start_time": "2022-05-21T07:18:17.055Z"
   },
   {
    "duration": 12,
    "start_time": "2022-05-21T07:18:17.505Z"
   },
   {
    "duration": 26,
    "start_time": "2022-05-21T07:18:20.308Z"
   },
   {
    "duration": 39,
    "start_time": "2022-05-21T07:18:20.857Z"
   },
   {
    "duration": 32,
    "start_time": "2022-05-21T07:18:22.376Z"
   },
   {
    "duration": 36,
    "start_time": "2022-05-21T07:18:22.868Z"
   },
   {
    "duration": 25,
    "start_time": "2022-05-21T07:18:23.314Z"
   },
   {
    "duration": 19,
    "start_time": "2022-05-21T07:18:23.884Z"
   },
   {
    "duration": 21,
    "start_time": "2022-05-21T07:18:24.319Z"
   },
   {
    "duration": 21,
    "start_time": "2022-05-21T07:18:24.972Z"
   },
   {
    "duration": 16,
    "start_time": "2022-05-21T07:18:26.186Z"
   },
   {
    "duration": 11,
    "start_time": "2022-05-21T07:18:26.994Z"
   },
   {
    "duration": 16,
    "start_time": "2022-05-21T07:18:27.460Z"
   },
   {
    "duration": 6,
    "start_time": "2022-05-21T07:18:27.886Z"
   },
   {
    "duration": 13,
    "start_time": "2022-05-21T07:18:28.369Z"
   },
   {
    "duration": 34,
    "start_time": "2022-05-21T07:18:28.755Z"
   },
   {
    "duration": 34,
    "start_time": "2022-05-21T07:18:29.657Z"
   },
   {
    "duration": 15,
    "start_time": "2022-05-21T07:18:30.168Z"
   },
   {
    "duration": 71,
    "start_time": "2022-05-21T07:18:57.563Z"
   },
   {
    "duration": 549,
    "start_time": "2022-05-21T07:19:52.999Z"
   },
   {
    "duration": 240,
    "start_time": "2022-05-21T07:19:53.551Z"
   },
   {
    "duration": 313,
    "start_time": "2022-05-21T07:19:53.793Z"
   },
   {
    "duration": 127,
    "start_time": "2022-05-21T07:19:54.110Z"
   },
   {
    "duration": 30,
    "start_time": "2022-05-21T07:19:54.240Z"
   },
   {
    "duration": 37,
    "start_time": "2022-05-21T07:19:54.271Z"
   },
   {
    "duration": 18,
    "start_time": "2022-05-21T07:19:54.310Z"
   },
   {
    "duration": 27,
    "start_time": "2022-05-21T07:19:54.330Z"
   },
   {
    "duration": 9,
    "start_time": "2022-05-21T07:19:54.358Z"
   },
   {
    "duration": 25,
    "start_time": "2022-05-21T07:19:54.369Z"
   },
   {
    "duration": 11,
    "start_time": "2022-05-21T07:19:54.397Z"
   },
   {
    "duration": 31,
    "start_time": "2022-05-21T07:19:54.464Z"
   },
   {
    "duration": 13,
    "start_time": "2022-05-21T07:19:54.572Z"
   },
   {
    "duration": 18,
    "start_time": "2022-05-21T07:19:54.588Z"
   },
   {
    "duration": 11,
    "start_time": "2022-05-21T07:19:54.667Z"
   },
   {
    "duration": 13,
    "start_time": "2022-05-21T07:19:54.764Z"
   },
   {
    "duration": 27,
    "start_time": "2022-05-21T07:19:55.171Z"
   },
   {
    "duration": 39,
    "start_time": "2022-05-21T07:19:55.669Z"
   },
   {
    "duration": 22,
    "start_time": "2022-05-21T07:19:55.863Z"
   },
   {
    "duration": 24,
    "start_time": "2022-05-21T07:19:56.361Z"
   },
   {
    "duration": 27,
    "start_time": "2022-05-21T07:19:56.453Z"
   },
   {
    "duration": 26,
    "start_time": "2022-05-21T07:19:56.515Z"
   },
   {
    "duration": 23,
    "start_time": "2022-05-21T07:19:56.592Z"
   },
   {
    "duration": 35,
    "start_time": "2022-05-21T07:19:56.682Z"
   },
   {
    "duration": 24,
    "start_time": "2022-05-21T07:19:56.782Z"
   },
   {
    "duration": 12,
    "start_time": "2022-05-21T07:19:56.864Z"
   },
   {
    "duration": 17,
    "start_time": "2022-05-21T07:19:57.312Z"
   },
   {
    "duration": 8,
    "start_time": "2022-05-21T07:19:57.575Z"
   },
   {
    "duration": 16,
    "start_time": "2022-05-21T07:19:58.573Z"
   },
   {
    "duration": 36,
    "start_time": "2022-05-21T07:19:59.457Z"
   },
   {
    "duration": 36,
    "start_time": "2022-05-21T07:20:00.286Z"
   },
   {
    "duration": 16,
    "start_time": "2022-05-21T07:20:00.517Z"
   },
   {
    "duration": 904,
    "start_time": "2022-05-21T07:20:22.653Z"
   },
   {
    "duration": 255,
    "start_time": "2022-05-21T07:20:23.560Z"
   },
   {
    "duration": 321,
    "start_time": "2022-05-21T07:20:23.816Z"
   },
   {
    "duration": 130,
    "start_time": "2022-05-21T07:20:24.140Z"
   },
   {
    "duration": 32,
    "start_time": "2022-05-21T07:20:24.272Z"
   },
   {
    "duration": 39,
    "start_time": "2022-05-21T07:20:24.306Z"
   },
   {
    "duration": 27,
    "start_time": "2022-05-21T07:20:24.347Z"
   },
   {
    "duration": 45,
    "start_time": "2022-05-21T07:20:24.377Z"
   },
   {
    "duration": 11,
    "start_time": "2022-05-21T07:20:24.424Z"
   },
   {
    "duration": 44,
    "start_time": "2022-05-21T07:20:24.438Z"
   },
   {
    "duration": 8,
    "start_time": "2022-05-21T07:20:24.484Z"
   },
   {
    "duration": 29,
    "start_time": "2022-05-21T07:20:24.494Z"
   },
   {
    "duration": 9,
    "start_time": "2022-05-21T07:20:24.525Z"
   },
   {
    "duration": 30,
    "start_time": "2022-05-21T07:20:24.564Z"
   },
   {
    "duration": 14,
    "start_time": "2022-05-21T07:20:24.597Z"
   },
   {
    "duration": 13,
    "start_time": "2022-05-21T07:20:24.613Z"
   },
   {
    "duration": 50,
    "start_time": "2022-05-21T07:20:24.628Z"
   },
   {
    "duration": 60,
    "start_time": "2022-05-21T07:20:24.681Z"
   },
   {
    "duration": 45,
    "start_time": "2022-05-21T07:20:24.743Z"
   },
   {
    "duration": 34,
    "start_time": "2022-05-21T07:20:25.208Z"
   },
   {
    "duration": 25,
    "start_time": "2022-05-21T07:20:25.290Z"
   },
   {
    "duration": 24,
    "start_time": "2022-05-21T07:20:25.375Z"
   },
   {
    "duration": 20,
    "start_time": "2022-05-21T07:20:25.458Z"
   },
   {
    "duration": 21,
    "start_time": "2022-05-21T07:20:25.547Z"
   },
   {
    "duration": 16,
    "start_time": "2022-05-21T07:20:25.649Z"
   },
   {
    "duration": 11,
    "start_time": "2022-05-21T07:20:25.710Z"
   },
   {
    "duration": 12,
    "start_time": "2022-05-21T07:20:25.789Z"
   },
   {
    "duration": 7,
    "start_time": "2022-05-21T07:20:25.880Z"
   },
   {
    "duration": 17,
    "start_time": "2022-05-21T07:20:25.960Z"
   },
   {
    "duration": 42,
    "start_time": "2022-05-21T07:20:26.049Z"
   },
   {
    "duration": 33,
    "start_time": "2022-05-21T07:20:26.147Z"
   },
   {
    "duration": 15,
    "start_time": "2022-05-21T07:20:26.229Z"
   },
   {
    "duration": 145,
    "start_time": "2022-05-21T07:20:26.294Z"
   },
   {
    "duration": 14,
    "start_time": "2022-05-21T07:20:27.156Z"
   },
   {
    "duration": 22,
    "start_time": "2022-05-21T07:22:50.686Z"
   },
   {
    "duration": 30,
    "start_time": "2022-05-21T07:22:54.972Z"
   },
   {
    "duration": 482,
    "start_time": "2022-05-21T07:24:12.979Z"
   },
   {
    "duration": 188,
    "start_time": "2022-05-21T07:24:13.464Z"
   },
   {
    "duration": 159,
    "start_time": "2022-05-21T07:24:13.655Z"
   },
   {
    "duration": 100,
    "start_time": "2022-05-21T07:24:13.816Z"
   },
   {
    "duration": 10,
    "start_time": "2022-05-21T07:24:13.918Z"
   },
   {
    "duration": 17,
    "start_time": "2022-05-21T07:24:13.929Z"
   },
   {
    "duration": 25,
    "start_time": "2022-05-21T07:24:13.947Z"
   },
   {
    "duration": 39,
    "start_time": "2022-05-21T07:24:13.974Z"
   },
   {
    "duration": 13,
    "start_time": "2022-05-21T07:24:14.016Z"
   },
   {
    "duration": 52,
    "start_time": "2022-05-21T07:24:14.032Z"
   },
   {
    "duration": 9,
    "start_time": "2022-05-21T07:24:14.086Z"
   },
   {
    "duration": 28,
    "start_time": "2022-05-21T07:24:14.096Z"
   },
   {
    "duration": 13,
    "start_time": "2022-05-21T07:24:14.127Z"
   },
   {
    "duration": 14,
    "start_time": "2022-05-21T07:24:14.171Z"
   },
   {
    "duration": 12,
    "start_time": "2022-05-21T07:24:14.260Z"
   },
   {
    "duration": 13,
    "start_time": "2022-05-21T07:24:14.320Z"
   },
   {
    "duration": 44,
    "start_time": "2022-05-21T07:24:15.419Z"
   },
   {
    "duration": 36,
    "start_time": "2022-05-21T07:24:15.592Z"
   },
   {
    "duration": 21,
    "start_time": "2022-05-21T07:24:15.778Z"
   },
   {
    "duration": 22,
    "start_time": "2022-05-21T07:24:39.853Z"
   },
   {
    "duration": 24,
    "start_time": "2022-05-21T07:24:40.156Z"
   },
   {
    "duration": 18,
    "start_time": "2022-05-21T07:24:40.623Z"
   },
   {
    "duration": 24,
    "start_time": "2022-05-21T07:24:41.120Z"
   },
   {
    "duration": 36,
    "start_time": "2022-05-21T07:24:41.205Z"
   },
   {
    "duration": 25,
    "start_time": "2022-05-21T07:24:41.288Z"
   },
   {
    "duration": 15,
    "start_time": "2022-05-21T07:24:41.399Z"
   },
   {
    "duration": 12,
    "start_time": "2022-05-21T07:24:41.465Z"
   },
   {
    "duration": 7,
    "start_time": "2022-05-21T07:24:41.561Z"
   },
   {
    "duration": 12,
    "start_time": "2022-05-21T07:24:41.684Z"
   },
   {
    "duration": 33,
    "start_time": "2022-05-21T07:24:42.168Z"
   },
   {
    "duration": 33,
    "start_time": "2022-05-21T07:24:42.986Z"
   },
   {
    "duration": 15,
    "start_time": "2022-05-21T07:24:43.383Z"
   },
   {
    "duration": 113,
    "start_time": "2022-05-21T07:24:45.150Z"
   },
   {
    "duration": 8,
    "start_time": "2022-05-21T07:25:47.750Z"
   },
   {
    "duration": 22,
    "start_time": "2022-05-21T07:26:17.619Z"
   },
   {
    "duration": 47,
    "start_time": "2022-05-21T07:26:25.788Z"
   },
   {
    "duration": 24,
    "start_time": "2022-05-21T07:27:31.885Z"
   },
   {
    "duration": 18,
    "start_time": "2022-05-21T07:27:41.404Z"
   },
   {
    "duration": 45,
    "start_time": "2022-05-21T07:27:51.600Z"
   },
   {
    "duration": 31,
    "start_time": "2022-05-21T07:28:09.280Z"
   },
   {
    "duration": 103,
    "start_time": "2022-05-21T07:28:12.502Z"
   },
   {
    "duration": 50,
    "start_time": "2022-05-21T07:28:16.769Z"
   },
   {
    "duration": 15,
    "start_time": "2022-05-21T07:28:31.107Z"
   },
   {
    "duration": 66,
    "start_time": "2022-05-21T07:29:38.708Z"
   },
   {
    "duration": 131,
    "start_time": "2022-05-21T07:30:36.590Z"
   },
   {
    "duration": 72,
    "start_time": "2022-05-21T07:30:57.883Z"
   },
   {
    "duration": 218,
    "start_time": "2022-05-21T07:32:05.566Z"
   },
   {
    "duration": 127,
    "start_time": "2022-05-21T07:32:06.093Z"
   },
   {
    "duration": 16,
    "start_time": "2022-05-21T07:35:00.907Z"
   },
   {
    "duration": 19,
    "start_time": "2022-05-21T07:35:44.393Z"
   },
   {
    "duration": 29,
    "start_time": "2022-05-21T07:39:37.175Z"
   },
   {
    "duration": 16,
    "start_time": "2022-05-21T07:39:46.172Z"
   },
   {
    "duration": 10,
    "start_time": "2022-05-21T07:40:54.834Z"
   },
   {
    "duration": 7,
    "start_time": "2022-05-21T07:41:05.577Z"
   },
   {
    "duration": 14,
    "start_time": "2022-05-21T07:41:11.417Z"
   },
   {
    "duration": 6,
    "start_time": "2022-05-21T07:41:55.091Z"
   },
   {
    "duration": 14,
    "start_time": "2022-05-21T07:41:56.007Z"
   },
   {
    "duration": 159,
    "start_time": "2022-05-21T07:42:33.174Z"
   },
   {
    "duration": 145,
    "start_time": "2022-05-21T07:42:33.931Z"
   },
   {
    "duration": 440,
    "start_time": "2022-05-21T07:43:27.281Z"
   },
   {
    "duration": 161,
    "start_time": "2022-05-21T07:43:27.723Z"
   },
   {
    "duration": 144,
    "start_time": "2022-05-21T07:43:27.886Z"
   },
   {
    "duration": 93,
    "start_time": "2022-05-21T07:43:28.031Z"
   },
   {
    "duration": 10,
    "start_time": "2022-05-21T07:43:28.126Z"
   },
   {
    "duration": 17,
    "start_time": "2022-05-21T07:43:28.137Z"
   },
   {
    "duration": 26,
    "start_time": "2022-05-21T07:43:28.156Z"
   },
   {
    "duration": 33,
    "start_time": "2022-05-21T07:43:28.184Z"
   },
   {
    "duration": 14,
    "start_time": "2022-05-21T07:43:28.219Z"
   },
   {
    "duration": 45,
    "start_time": "2022-05-21T07:43:28.235Z"
   },
   {
    "duration": 8,
    "start_time": "2022-05-21T07:43:28.282Z"
   },
   {
    "duration": 36,
    "start_time": "2022-05-21T07:43:28.292Z"
   },
   {
    "duration": 19,
    "start_time": "2022-05-21T07:43:28.330Z"
   },
   {
    "duration": 28,
    "start_time": "2022-05-21T07:43:28.353Z"
   },
   {
    "duration": 17,
    "start_time": "2022-05-21T07:43:28.383Z"
   },
   {
    "duration": 29,
    "start_time": "2022-05-21T07:43:28.402Z"
   },
   {
    "duration": 37,
    "start_time": "2022-05-21T07:43:28.433Z"
   },
   {
    "duration": 39,
    "start_time": "2022-05-21T07:43:28.472Z"
   },
   {
    "duration": 21,
    "start_time": "2022-05-21T07:43:28.513Z"
   },
   {
    "duration": 51,
    "start_time": "2022-05-21T07:43:28.535Z"
   },
   {
    "duration": 29,
    "start_time": "2022-05-21T07:43:28.588Z"
   },
   {
    "duration": 17,
    "start_time": "2022-05-21T07:43:28.619Z"
   },
   {
    "duration": 46,
    "start_time": "2022-05-21T07:43:28.638Z"
   },
   {
    "duration": 54,
    "start_time": "2022-05-21T07:43:28.686Z"
   },
   {
    "duration": 30,
    "start_time": "2022-05-21T07:43:28.742Z"
   },
   {
    "duration": 15,
    "start_time": "2022-05-21T07:43:28.775Z"
   },
   {
    "duration": 28,
    "start_time": "2022-05-21T07:43:28.792Z"
   },
   {
    "duration": 30,
    "start_time": "2022-05-21T07:43:28.822Z"
   },
   {
    "duration": 34,
    "start_time": "2022-05-21T07:43:28.854Z"
   },
   {
    "duration": 64,
    "start_time": "2022-05-21T07:43:28.890Z"
   },
   {
    "duration": 41,
    "start_time": "2022-05-21T07:43:28.956Z"
   },
   {
    "duration": 16,
    "start_time": "2022-05-21T07:43:28.999Z"
   },
   {
    "duration": 153,
    "start_time": "2022-05-21T07:43:29.017Z"
   },
   {
    "duration": 110,
    "start_time": "2022-05-21T07:43:29.172Z"
   },
   {
    "duration": 142,
    "start_time": "2022-05-21T07:43:29.284Z"
   },
   {
    "duration": 141,
    "start_time": "2022-05-21T07:43:29.428Z"
   },
   {
    "duration": 133,
    "start_time": "2022-05-21T07:43:29.571Z"
   },
   {
    "duration": 28,
    "start_time": "2022-05-21T07:44:25.071Z"
   },
   {
    "duration": 13,
    "start_time": "2022-05-21T07:46:00.995Z"
   },
   {
    "duration": 109,
    "start_time": "2022-05-21T07:48:10.705Z"
   },
   {
    "duration": 23,
    "start_time": "2022-05-21T07:48:32.638Z"
   },
   {
    "duration": 60,
    "start_time": "2022-05-21T07:48:37.987Z"
   },
   {
    "duration": 44,
    "start_time": "2022-05-21T07:48:47.503Z"
   },
   {
    "duration": 9,
    "start_time": "2022-05-21T07:49:02.064Z"
   },
   {
    "duration": 10,
    "start_time": "2022-05-21T07:49:05.391Z"
   },
   {
    "duration": 20,
    "start_time": "2022-05-21T07:49:11.967Z"
   },
   {
    "duration": 16,
    "start_time": "2022-05-21T07:49:50.965Z"
   },
   {
    "duration": 15,
    "start_time": "2022-05-21T07:50:00.101Z"
   },
   {
    "duration": 10,
    "start_time": "2022-05-21T07:50:17.876Z"
   },
   {
    "duration": 36,
    "start_time": "2022-05-21T07:50:29.973Z"
   },
   {
    "duration": 15,
    "start_time": "2022-05-21T07:50:43.489Z"
   },
   {
    "duration": 67,
    "start_time": "2022-05-21T07:52:58.419Z"
   },
   {
    "duration": 42,
    "start_time": "2022-05-21T07:53:07.335Z"
   },
   {
    "duration": 107,
    "start_time": "2022-05-21T07:54:46.122Z"
   },
   {
    "duration": 72,
    "start_time": "2022-05-21T07:57:54.501Z"
   },
   {
    "duration": 42,
    "start_time": "2022-05-21T07:57:54.916Z"
   },
   {
    "duration": 82,
    "start_time": "2022-05-21T07:57:55.765Z"
   },
   {
    "duration": 73,
    "start_time": "2022-05-21T07:58:08.581Z"
   },
   {
    "duration": 11,
    "start_time": "2022-05-21T08:03:04.895Z"
   },
   {
    "duration": 15,
    "start_time": "2022-05-21T08:03:28.209Z"
   },
   {
    "duration": 10,
    "start_time": "2022-05-21T08:03:38.408Z"
   },
   {
    "duration": 70,
    "start_time": "2022-05-21T08:03:43.988Z"
   },
   {
    "duration": 15,
    "start_time": "2022-05-21T08:03:53.498Z"
   },
   {
    "duration": 67,
    "start_time": "2022-05-21T08:04:46.806Z"
   },
   {
    "duration": 44,
    "start_time": "2022-05-21T08:04:47.279Z"
   },
   {
    "duration": 116,
    "start_time": "2022-05-21T08:04:47.889Z"
   },
   {
    "duration": 78,
    "start_time": "2022-05-21T08:04:50.305Z"
   },
   {
    "duration": 84,
    "start_time": "2022-05-21T08:05:16.913Z"
   },
   {
    "duration": 58,
    "start_time": "2022-05-21T08:05:17.296Z"
   },
   {
    "duration": 99,
    "start_time": "2022-05-21T08:05:35.215Z"
   },
   {
    "duration": 56,
    "start_time": "2022-05-21T08:05:35.965Z"
   },
   {
    "duration": 27,
    "start_time": "2022-05-21T08:05:56.397Z"
   },
   {
    "duration": 133,
    "start_time": "2022-05-21T08:06:00.967Z"
   },
   {
    "duration": 13,
    "start_time": "2022-05-21T08:06:02.165Z"
   },
   {
    "duration": 132,
    "start_time": "2022-05-21T08:06:04.910Z"
   },
   {
    "duration": 92,
    "start_time": "2022-05-21T08:07:10.158Z"
   },
   {
    "duration": 45,
    "start_time": "2022-05-21T08:07:10.883Z"
   },
   {
    "duration": 115,
    "start_time": "2022-05-21T08:07:13.687Z"
   },
   {
    "duration": 56,
    "start_time": "2022-05-21T08:07:15.179Z"
   },
   {
    "duration": 98,
    "start_time": "2022-05-21T08:07:40.393Z"
   },
   {
    "duration": 96,
    "start_time": "2022-05-21T08:07:43.671Z"
   },
   {
    "duration": 59,
    "start_time": "2022-05-21T08:07:45.803Z"
   },
   {
    "duration": 21,
    "start_time": "2022-05-21T08:07:59.699Z"
   },
   {
    "duration": 27,
    "start_time": "2022-05-21T08:10:11.479Z"
   },
   {
    "duration": 33,
    "start_time": "2022-05-21T08:10:47.567Z"
   },
   {
    "duration": 10,
    "start_time": "2022-05-21T08:11:19.492Z"
   },
   {
    "duration": 21,
    "start_time": "2022-05-21T08:11:43.758Z"
   },
   {
    "duration": 31,
    "start_time": "2022-05-21T08:13:03.574Z"
   },
   {
    "duration": 8,
    "start_time": "2022-05-21T08:13:09.608Z"
   },
   {
    "duration": 27,
    "start_time": "2022-05-21T08:13:12.181Z"
   },
   {
    "duration": 27,
    "start_time": "2022-05-21T08:14:10.397Z"
   },
   {
    "duration": 19,
    "start_time": "2022-05-21T08:15:38.974Z"
   },
   {
    "duration": 394,
    "start_time": "2022-05-21T08:15:54.673Z"
   },
   {
    "duration": 41,
    "start_time": "2022-05-21T08:16:47.584Z"
   },
   {
    "duration": 12,
    "start_time": "2022-05-21T08:17:13.364Z"
   },
   {
    "duration": 10,
    "start_time": "2022-05-21T08:17:50.900Z"
   },
   {
    "duration": 28,
    "start_time": "2022-05-21T08:18:51.262Z"
   },
   {
    "duration": 8,
    "start_time": "2022-05-21T08:19:17.374Z"
   },
   {
    "duration": 13,
    "start_time": "2022-05-21T08:19:49.576Z"
   },
   {
    "duration": 12,
    "start_time": "2022-05-21T08:19:58.986Z"
   },
   {
    "duration": 12,
    "start_time": "2022-05-21T08:20:07.362Z"
   },
   {
    "duration": 26,
    "start_time": "2022-05-21T08:20:15.413Z"
   },
   {
    "duration": 30,
    "start_time": "2022-05-21T08:28:37.889Z"
   },
   {
    "duration": 25,
    "start_time": "2022-05-21T08:28:44.660Z"
   },
   {
    "duration": 26,
    "start_time": "2022-05-21T08:29:09.894Z"
   },
   {
    "duration": 23,
    "start_time": "2022-05-21T08:43:46.523Z"
   },
   {
    "duration": 12,
    "start_time": "2022-05-21T08:43:53.774Z"
   },
   {
    "duration": 399,
    "start_time": "2022-05-21T08:44:40.417Z"
   },
   {
    "duration": 166,
    "start_time": "2022-05-21T08:44:40.818Z"
   },
   {
    "duration": 149,
    "start_time": "2022-05-21T08:44:40.986Z"
   },
   {
    "duration": 92,
    "start_time": "2022-05-21T08:44:41.137Z"
   },
   {
    "duration": 11,
    "start_time": "2022-05-21T08:44:41.231Z"
   },
   {
    "duration": 21,
    "start_time": "2022-05-21T08:44:41.244Z"
   },
   {
    "duration": 17,
    "start_time": "2022-05-21T08:44:41.267Z"
   },
   {
    "duration": 40,
    "start_time": "2022-05-21T08:44:41.285Z"
   },
   {
    "duration": 9,
    "start_time": "2022-05-21T08:44:41.327Z"
   },
   {
    "duration": 46,
    "start_time": "2022-05-21T08:44:41.338Z"
   },
   {
    "duration": 7,
    "start_time": "2022-05-21T08:44:41.386Z"
   },
   {
    "duration": 35,
    "start_time": "2022-05-21T08:44:41.394Z"
   },
   {
    "duration": 17,
    "start_time": "2022-05-21T08:44:41.431Z"
   },
   {
    "duration": 26,
    "start_time": "2022-05-21T08:44:41.449Z"
   },
   {
    "duration": 21,
    "start_time": "2022-05-21T08:44:41.477Z"
   },
   {
    "duration": 24,
    "start_time": "2022-05-21T08:44:41.500Z"
   },
   {
    "duration": 32,
    "start_time": "2022-05-21T08:44:41.526Z"
   },
   {
    "duration": 38,
    "start_time": "2022-05-21T08:44:41.560Z"
   },
   {
    "duration": 19,
    "start_time": "2022-05-21T08:44:41.600Z"
   },
   {
    "duration": 27,
    "start_time": "2022-05-21T08:44:41.621Z"
   },
   {
    "duration": 36,
    "start_time": "2022-05-21T08:44:41.649Z"
   },
   {
    "duration": 19,
    "start_time": "2022-05-21T08:44:41.687Z"
   },
   {
    "duration": 24,
    "start_time": "2022-05-21T08:44:41.708Z"
   },
   {
    "duration": 36,
    "start_time": "2022-05-21T08:44:41.734Z"
   },
   {
    "duration": 20,
    "start_time": "2022-05-21T08:44:41.772Z"
   },
   {
    "duration": 11,
    "start_time": "2022-05-21T08:44:41.793Z"
   },
   {
    "duration": 22,
    "start_time": "2022-05-21T08:44:41.806Z"
   },
   {
    "duration": 25,
    "start_time": "2022-05-21T08:44:41.832Z"
   },
   {
    "duration": 17,
    "start_time": "2022-05-21T08:44:41.859Z"
   },
   {
    "duration": 45,
    "start_time": "2022-05-21T08:44:41.878Z"
   },
   {
    "duration": 33,
    "start_time": "2022-05-21T08:44:41.925Z"
   },
   {
    "duration": 9,
    "start_time": "2022-05-21T08:44:41.964Z"
   },
   {
    "duration": 29,
    "start_time": "2022-05-21T08:44:41.975Z"
   },
   {
    "duration": 30,
    "start_time": "2022-05-21T08:44:42.006Z"
   },
   {
    "duration": 102,
    "start_time": "2022-05-21T08:44:42.038Z"
   },
   {
    "duration": 0,
    "start_time": "2022-05-21T08:44:42.142Z"
   },
   {
    "duration": 27,
    "start_time": "2022-05-21T08:44:47.318Z"
   },
   {
    "duration": 13,
    "start_time": "2022-05-21T08:44:51.101Z"
   },
   {
    "duration": 12,
    "start_time": "2022-05-21T08:45:03.419Z"
   },
   {
    "duration": 20,
    "start_time": "2022-05-21T08:48:12.512Z"
   },
   {
    "duration": 3,
    "start_time": "2022-05-21T08:56:49.665Z"
   },
   {
    "duration": 12,
    "start_time": "2022-05-21T08:57:04.184Z"
   },
   {
    "duration": 8,
    "start_time": "2022-05-21T08:57:56.941Z"
   },
   {
    "duration": 3,
    "start_time": "2022-05-21T08:58:56.976Z"
   },
   {
    "duration": 6,
    "start_time": "2022-05-21T08:59:12.920Z"
   },
   {
    "duration": 46,
    "start_time": "2022-05-21T08:59:23.285Z"
   },
   {
    "duration": 17,
    "start_time": "2022-05-21T09:04:05.217Z"
   },
   {
    "duration": 11,
    "start_time": "2022-05-21T09:04:13.522Z"
   },
   {
    "duration": 13,
    "start_time": "2022-05-21T09:04:23.550Z"
   },
   {
    "duration": 20,
    "start_time": "2022-05-21T09:11:22.269Z"
   },
   {
    "duration": 17,
    "start_time": "2022-05-21T09:11:34.114Z"
   },
   {
    "duration": 973,
    "start_time": "2022-05-21T09:12:38.570Z"
   },
   {
    "duration": 226,
    "start_time": "2022-05-21T09:12:39.545Z"
   },
   {
    "duration": 303,
    "start_time": "2022-05-21T09:12:39.772Z"
   },
   {
    "duration": 136,
    "start_time": "2022-05-21T09:12:40.076Z"
   },
   {
    "duration": 29,
    "start_time": "2022-05-21T09:12:40.215Z"
   },
   {
    "duration": 41,
    "start_time": "2022-05-21T09:12:40.246Z"
   },
   {
    "duration": 18,
    "start_time": "2022-05-21T09:12:40.289Z"
   },
   {
    "duration": 27,
    "start_time": "2022-05-21T09:12:40.309Z"
   },
   {
    "duration": 10,
    "start_time": "2022-05-21T09:12:40.337Z"
   },
   {
    "duration": 28,
    "start_time": "2022-05-21T09:12:40.348Z"
   },
   {
    "duration": 8,
    "start_time": "2022-05-21T09:12:40.378Z"
   },
   {
    "duration": 22,
    "start_time": "2022-05-21T09:12:40.387Z"
   },
   {
    "duration": 9,
    "start_time": "2022-05-21T09:12:40.411Z"
   },
   {
    "duration": 41,
    "start_time": "2022-05-21T09:12:40.423Z"
   },
   {
    "duration": 10,
    "start_time": "2022-05-21T09:12:40.467Z"
   },
   {
    "duration": 11,
    "start_time": "2022-05-21T09:12:40.479Z"
   },
   {
    "duration": 28,
    "start_time": "2022-05-21T09:12:40.492Z"
   },
   {
    "duration": 64,
    "start_time": "2022-05-21T09:12:40.522Z"
   },
   {
    "duration": 25,
    "start_time": "2022-05-21T09:12:40.587Z"
   },
   {
    "duration": 22,
    "start_time": "2022-05-21T09:12:40.614Z"
   },
   {
    "duration": 47,
    "start_time": "2022-05-21T09:12:40.638Z"
   },
   {
    "duration": 19,
    "start_time": "2022-05-21T09:12:40.687Z"
   },
   {
    "duration": 19,
    "start_time": "2022-05-21T09:12:40.708Z"
   },
   {
    "duration": 47,
    "start_time": "2022-05-21T09:12:40.729Z"
   },
   {
    "duration": 17,
    "start_time": "2022-05-21T09:12:40.778Z"
   },
   {
    "duration": 10,
    "start_time": "2022-05-21T09:12:40.797Z"
   },
   {
    "duration": 12,
    "start_time": "2022-05-21T09:12:40.809Z"
   },
   {
    "duration": 8,
    "start_time": "2022-05-21T09:12:40.823Z"
   },
   {
    "duration": 39,
    "start_time": "2022-05-21T09:12:40.833Z"
   },
   {
    "duration": 33,
    "start_time": "2022-05-21T09:12:40.873Z"
   },
   {
    "duration": 33,
    "start_time": "2022-05-21T09:12:40.908Z"
   },
   {
    "duration": 27,
    "start_time": "2022-05-21T09:12:40.943Z"
   },
   {
    "duration": 17,
    "start_time": "2022-05-21T09:12:40.972Z"
   },
   {
    "duration": 28,
    "start_time": "2022-05-21T09:12:40.991Z"
   },
   {
    "duration": 48,
    "start_time": "2022-05-21T09:12:41.021Z"
   },
   {
    "duration": 12,
    "start_time": "2022-05-21T09:12:41.071Z"
   },
   {
    "duration": 16,
    "start_time": "2022-05-21T09:12:41.085Z"
   },
   {
    "duration": 20,
    "start_time": "2022-05-21T09:12:41.103Z"
   },
   {
    "duration": 5,
    "start_time": "2022-05-21T09:12:41.124Z"
   },
   {
    "duration": 46,
    "start_time": "2022-05-21T09:12:41.130Z"
   },
   {
    "duration": 12,
    "start_time": "2022-05-21T09:12:41.180Z"
   },
   {
    "duration": 17,
    "start_time": "2022-05-21T09:12:41.194Z"
   },
   {
    "duration": 24,
    "start_time": "2022-05-21T09:12:41.223Z"
   },
   {
    "duration": 28,
    "start_time": "2022-05-21T09:12:41.249Z"
   },
   {
    "duration": 933,
    "start_time": "2022-05-21T09:13:03.326Z"
   },
   {
    "duration": 225,
    "start_time": "2022-05-21T09:13:04.261Z"
   },
   {
    "duration": 309,
    "start_time": "2022-05-21T09:13:04.487Z"
   },
   {
    "duration": 124,
    "start_time": "2022-05-21T09:13:04.798Z"
   },
   {
    "duration": 29,
    "start_time": "2022-05-21T09:13:04.924Z"
   },
   {
    "duration": 35,
    "start_time": "2022-05-21T09:13:04.955Z"
   },
   {
    "duration": 20,
    "start_time": "2022-05-21T09:13:04.992Z"
   },
   {
    "duration": 27,
    "start_time": "2022-05-21T09:13:05.014Z"
   },
   {
    "duration": 10,
    "start_time": "2022-05-21T09:13:05.044Z"
   },
   {
    "duration": 24,
    "start_time": "2022-05-21T09:13:05.064Z"
   },
   {
    "duration": 8,
    "start_time": "2022-05-21T09:13:05.090Z"
   },
   {
    "duration": 25,
    "start_time": "2022-05-21T09:13:05.100Z"
   },
   {
    "duration": 9,
    "start_time": "2022-05-21T09:13:05.126Z"
   },
   {
    "duration": 31,
    "start_time": "2022-05-21T09:13:05.136Z"
   },
   {
    "duration": 13,
    "start_time": "2022-05-21T09:13:05.169Z"
   },
   {
    "duration": 13,
    "start_time": "2022-05-21T09:13:05.183Z"
   },
   {
    "duration": 27,
    "start_time": "2022-05-21T09:13:05.198Z"
   },
   {
    "duration": 58,
    "start_time": "2022-05-21T09:13:05.227Z"
   },
   {
    "duration": 19,
    "start_time": "2022-05-21T09:13:05.287Z"
   },
   {
    "duration": 23,
    "start_time": "2022-05-21T09:13:05.308Z"
   },
   {
    "duration": 50,
    "start_time": "2022-05-21T09:13:05.333Z"
   },
   {
    "duration": 19,
    "start_time": "2022-05-21T09:13:05.385Z"
   },
   {
    "duration": 21,
    "start_time": "2022-05-21T09:13:05.406Z"
   },
   {
    "duration": 45,
    "start_time": "2022-05-21T09:13:05.429Z"
   },
   {
    "duration": 16,
    "start_time": "2022-05-21T09:13:05.476Z"
   },
   {
    "duration": 11,
    "start_time": "2022-05-21T09:13:05.494Z"
   },
   {
    "duration": 17,
    "start_time": "2022-05-21T09:13:05.507Z"
   },
   {
    "duration": 7,
    "start_time": "2022-05-21T09:13:05.527Z"
   },
   {
    "duration": 36,
    "start_time": "2022-05-21T09:13:05.536Z"
   },
   {
    "duration": 40,
    "start_time": "2022-05-21T09:13:05.574Z"
   },
   {
    "duration": 32,
    "start_time": "2022-05-21T09:13:05.616Z"
   },
   {
    "duration": 21,
    "start_time": "2022-05-21T09:13:05.650Z"
   },
   {
    "duration": 22,
    "start_time": "2022-05-21T09:13:05.673Z"
   },
   {
    "duration": 28,
    "start_time": "2022-05-21T09:13:05.697Z"
   },
   {
    "duration": 50,
    "start_time": "2022-05-21T09:13:05.726Z"
   },
   {
    "duration": 12,
    "start_time": "2022-05-21T09:13:05.778Z"
   },
   {
    "duration": 15,
    "start_time": "2022-05-21T09:13:05.792Z"
   },
   {
    "duration": 22,
    "start_time": "2022-05-21T09:13:05.809Z"
   },
   {
    "duration": 5,
    "start_time": "2022-05-21T09:13:05.833Z"
   },
   {
    "duration": 43,
    "start_time": "2022-05-21T09:13:05.840Z"
   },
   {
    "duration": 12,
    "start_time": "2022-05-21T09:13:05.885Z"
   },
   {
    "duration": 15,
    "start_time": "2022-05-21T09:13:05.899Z"
   },
   {
    "duration": 22,
    "start_time": "2022-05-21T09:13:05.915Z"
   },
   {
    "duration": 42,
    "start_time": "2022-05-21T09:13:05.939Z"
   },
   {
    "duration": 120,
    "start_time": "2022-05-21T09:13:05.982Z"
   },
   {
    "duration": 44,
    "start_time": "2022-05-21T09:15:55.452Z"
   },
   {
    "duration": 35,
    "start_time": "2022-05-21T09:16:38.051Z"
   },
   {
    "duration": 82,
    "start_time": "2022-05-21T09:16:43.157Z"
   },
   {
    "duration": 42,
    "start_time": "2022-05-21T09:16:50.249Z"
   },
   {
    "duration": 15,
    "start_time": "2022-05-21T09:17:49.423Z"
   },
   {
    "duration": 9,
    "start_time": "2022-05-21T09:19:24.022Z"
   },
   {
    "duration": 910,
    "start_time": "2022-05-21T09:26:22.797Z"
   },
   {
    "duration": 276,
    "start_time": "2022-05-21T09:26:23.709Z"
   },
   {
    "duration": 293,
    "start_time": "2022-05-21T09:26:23.987Z"
   },
   {
    "duration": 125,
    "start_time": "2022-05-21T09:26:24.283Z"
   },
   {
    "duration": 31,
    "start_time": "2022-05-21T09:26:24.410Z"
   },
   {
    "duration": 36,
    "start_time": "2022-05-21T09:26:24.442Z"
   },
   {
    "duration": 17,
    "start_time": "2022-05-21T09:26:24.480Z"
   },
   {
    "duration": 26,
    "start_time": "2022-05-21T09:26:24.498Z"
   },
   {
    "duration": 9,
    "start_time": "2022-05-21T09:26:24.526Z"
   },
   {
    "duration": 48,
    "start_time": "2022-05-21T09:26:24.539Z"
   },
   {
    "duration": 7,
    "start_time": "2022-05-21T09:26:24.589Z"
   },
   {
    "duration": 19,
    "start_time": "2022-05-21T09:26:24.598Z"
   },
   {
    "duration": 8,
    "start_time": "2022-05-21T09:26:24.619Z"
   },
   {
    "duration": 11,
    "start_time": "2022-05-21T09:26:24.629Z"
   },
   {
    "duration": 10,
    "start_time": "2022-05-21T09:26:24.665Z"
   },
   {
    "duration": 12,
    "start_time": "2022-05-21T09:26:24.677Z"
   },
   {
    "duration": 27,
    "start_time": "2022-05-21T09:26:24.690Z"
   },
   {
    "duration": 57,
    "start_time": "2022-05-21T09:26:24.719Z"
   },
   {
    "duration": 19,
    "start_time": "2022-05-21T09:26:24.778Z"
   },
   {
    "duration": 23,
    "start_time": "2022-05-21T09:26:24.798Z"
   },
   {
    "duration": 47,
    "start_time": "2022-05-21T09:26:24.823Z"
   },
   {
    "duration": 16,
    "start_time": "2022-05-21T09:26:24.872Z"
   },
   {
    "duration": 18,
    "start_time": "2022-05-21T09:26:24.890Z"
   },
   {
    "duration": 21,
    "start_time": "2022-05-21T09:26:24.911Z"
   },
   {
    "duration": 50,
    "start_time": "2022-05-21T09:26:24.933Z"
   },
   {
    "duration": 14,
    "start_time": "2022-05-21T09:26:24.989Z"
   },
   {
    "duration": 13,
    "start_time": "2022-05-21T09:26:25.004Z"
   },
   {
    "duration": 6,
    "start_time": "2022-05-21T09:26:25.021Z"
   },
   {
    "duration": 18,
    "start_time": "2022-05-21T09:26:25.029Z"
   },
   {
    "duration": 44,
    "start_time": "2022-05-21T09:26:25.049Z"
   },
   {
    "duration": 33,
    "start_time": "2022-05-21T09:26:25.095Z"
   },
   {
    "duration": 35,
    "start_time": "2022-05-21T09:26:25.130Z"
   },
   {
    "duration": 13,
    "start_time": "2022-05-21T09:26:25.167Z"
   },
   {
    "duration": 25,
    "start_time": "2022-05-21T09:26:25.182Z"
   },
   {
    "duration": 24,
    "start_time": "2022-05-21T09:26:25.209Z"
   },
   {
    "duration": 40,
    "start_time": "2022-05-21T09:26:25.234Z"
   },
   {
    "duration": 13,
    "start_time": "2022-05-21T09:26:25.275Z"
   },
   {
    "duration": 19,
    "start_time": "2022-05-21T09:26:25.289Z"
   },
   {
    "duration": 5,
    "start_time": "2022-05-21T09:26:25.310Z"
   },
   {
    "duration": 49,
    "start_time": "2022-05-21T09:26:25.316Z"
   },
   {
    "duration": 12,
    "start_time": "2022-05-21T09:26:25.367Z"
   },
   {
    "duration": 17,
    "start_time": "2022-05-21T09:26:25.381Z"
   },
   {
    "duration": 25,
    "start_time": "2022-05-21T09:26:25.399Z"
   },
   {
    "duration": 40,
    "start_time": "2022-05-21T09:26:25.425Z"
   },
   {
    "duration": 2,
    "start_time": "2022-05-21T09:26:25.467Z"
   },
   {
    "duration": 93,
    "start_time": "2022-05-21T09:26:25.471Z"
   },
   {
    "duration": 0,
    "start_time": "2022-05-21T09:26:25.566Z"
   },
   {
    "duration": 0,
    "start_time": "2022-05-21T09:26:25.568Z"
   },
   {
    "duration": 69,
    "start_time": "2022-05-21T09:30:02.558Z"
   },
   {
    "duration": 450,
    "start_time": "2022-05-21T09:30:09.781Z"
   },
   {
    "duration": 221,
    "start_time": "2022-05-21T09:30:10.234Z"
   },
   {
    "duration": 314,
    "start_time": "2022-05-21T09:30:10.457Z"
   },
   {
    "duration": 131,
    "start_time": "2022-05-21T09:30:10.773Z"
   },
   {
    "duration": 30,
    "start_time": "2022-05-21T09:30:10.906Z"
   },
   {
    "duration": 36,
    "start_time": "2022-05-21T09:30:10.938Z"
   },
   {
    "duration": 16,
    "start_time": "2022-05-21T09:30:10.976Z"
   },
   {
    "duration": 28,
    "start_time": "2022-05-21T09:30:10.994Z"
   },
   {
    "duration": 8,
    "start_time": "2022-05-21T09:30:11.024Z"
   },
   {
    "duration": 39,
    "start_time": "2022-05-21T09:30:11.034Z"
   },
   {
    "duration": 8,
    "start_time": "2022-05-21T09:30:11.075Z"
   },
   {
    "duration": 35,
    "start_time": "2022-05-21T09:30:11.085Z"
   },
   {
    "duration": 10,
    "start_time": "2022-05-21T09:30:11.122Z"
   },
   {
    "duration": 11,
    "start_time": "2022-05-21T09:30:11.136Z"
   },
   {
    "duration": 28,
    "start_time": "2022-05-21T09:30:11.149Z"
   },
   {
    "duration": 20,
    "start_time": "2022-05-21T09:30:11.179Z"
   },
   {
    "duration": 33,
    "start_time": "2022-05-21T09:30:11.200Z"
   },
   {
    "duration": 42,
    "start_time": "2022-05-21T09:30:11.235Z"
   },
   {
    "duration": 18,
    "start_time": "2022-05-21T09:30:11.280Z"
   },
   {
    "duration": 23,
    "start_time": "2022-05-21T09:30:11.300Z"
   },
   {
    "duration": 42,
    "start_time": "2022-05-21T09:30:11.324Z"
   },
   {
    "duration": 18,
    "start_time": "2022-05-21T09:30:11.368Z"
   },
   {
    "duration": 18,
    "start_time": "2022-05-21T09:30:11.387Z"
   },
   {
    "duration": 23,
    "start_time": "2022-05-21T09:30:11.407Z"
   },
   {
    "duration": 39,
    "start_time": "2022-05-21T09:30:11.432Z"
   },
   {
    "duration": 10,
    "start_time": "2022-05-21T09:30:11.473Z"
   },
   {
    "duration": 21,
    "start_time": "2022-05-21T09:30:11.485Z"
   },
   {
    "duration": 12,
    "start_time": "2022-05-21T09:30:11.508Z"
   },
   {
    "duration": 21,
    "start_time": "2022-05-21T09:30:11.521Z"
   },
   {
    "duration": 51,
    "start_time": "2022-05-21T09:30:11.544Z"
   },
   {
    "duration": 33,
    "start_time": "2022-05-21T09:30:11.597Z"
   },
   {
    "duration": 8,
    "start_time": "2022-05-21T09:30:11.632Z"
   },
   {
    "duration": 33,
    "start_time": "2022-05-21T09:30:11.641Z"
   },
   {
    "duration": 26,
    "start_time": "2022-05-21T09:30:11.676Z"
   },
   {
    "duration": 24,
    "start_time": "2022-05-21T09:30:11.704Z"
   },
   {
    "duration": 34,
    "start_time": "2022-05-21T09:30:11.730Z"
   },
   {
    "duration": 12,
    "start_time": "2022-05-21T09:30:11.767Z"
   },
   {
    "duration": 20,
    "start_time": "2022-05-21T09:30:11.781Z"
   },
   {
    "duration": 5,
    "start_time": "2022-05-21T09:30:11.803Z"
   },
   {
    "duration": 19,
    "start_time": "2022-05-21T09:30:11.810Z"
   },
   {
    "duration": 39,
    "start_time": "2022-05-21T09:30:11.833Z"
   },
   {
    "duration": 15,
    "start_time": "2022-05-21T09:30:11.874Z"
   },
   {
    "duration": 21,
    "start_time": "2022-05-21T09:30:11.892Z"
   },
   {
    "duration": 17,
    "start_time": "2022-05-21T09:30:11.915Z"
   },
   {
    "duration": 3,
    "start_time": "2022-05-21T09:30:11.933Z"
   },
   {
    "duration": 2,
    "start_time": "2022-05-21T09:30:11.964Z"
   },
   {
    "duration": 77,
    "start_time": "2022-05-21T09:30:11.968Z"
   },
   {
    "duration": 0,
    "start_time": "2022-05-21T09:30:12.047Z"
   },
   {
    "duration": 16,
    "start_time": "2022-05-21T09:39:46.766Z"
   },
   {
    "duration": 8,
    "start_time": "2022-05-21T09:40:42.553Z"
   },
   {
    "duration": 10,
    "start_time": "2022-05-21T09:40:45.260Z"
   },
   {
    "duration": 30,
    "start_time": "2022-05-21T09:41:15.873Z"
   },
   {
    "duration": 5,
    "start_time": "2022-05-21T09:41:33.867Z"
   },
   {
    "duration": 27,
    "start_time": "2022-05-21T09:41:35.964Z"
   },
   {
    "duration": 13,
    "start_time": "2022-05-21T09:41:56.854Z"
   },
   {
    "duration": 28,
    "start_time": "2022-05-21T09:42:17.706Z"
   },
   {
    "duration": 4,
    "start_time": "2022-05-21T09:42:25.765Z"
   },
   {
    "duration": 30,
    "start_time": "2022-05-21T09:42:31.367Z"
   },
   {
    "duration": 51,
    "start_time": "2022-05-21T10:03:09.566Z"
   },
   {
    "duration": 45,
    "start_time": "2022-05-21T10:03:41.171Z"
   },
   {
    "duration": 9,
    "start_time": "2022-05-21T10:07:30.203Z"
   },
   {
    "duration": 23,
    "start_time": "2022-05-21T10:07:57.968Z"
   },
   {
    "duration": 24,
    "start_time": "2022-05-21T10:08:07.427Z"
   },
   {
    "duration": 11,
    "start_time": "2022-05-21T10:08:20.514Z"
   },
   {
    "duration": 5,
    "start_time": "2022-05-21T10:08:29.471Z"
   },
   {
    "duration": 406,
    "start_time": "2022-05-24T06:07:38.518Z"
   },
   {
    "duration": 218,
    "start_time": "2022-05-24T06:07:38.926Z"
   },
   {
    "duration": 296,
    "start_time": "2022-05-24T06:07:39.146Z"
   },
   {
    "duration": 304,
    "start_time": "2022-05-24T06:07:43.742Z"
   },
   {
    "duration": 58,
    "start_time": "2022-05-24T06:07:44.386Z"
   },
   {
    "duration": 75,
    "start_time": "2022-05-24T06:07:45.113Z"
   },
   {
    "duration": 14,
    "start_time": "2022-05-24T06:08:52.464Z"
   },
   {
    "duration": 25,
    "start_time": "2022-05-24T06:08:54.109Z"
   },
   {
    "duration": 9,
    "start_time": "2022-05-24T06:08:54.659Z"
   },
   {
    "duration": 19,
    "start_time": "2022-05-24T06:08:55.159Z"
   },
   {
    "duration": 7,
    "start_time": "2022-05-24T06:08:55.635Z"
   },
   {
    "duration": 17,
    "start_time": "2022-05-24T06:08:56.096Z"
   },
   {
    "duration": 8,
    "start_time": "2022-05-24T06:08:56.423Z"
   },
   {
    "duration": 10,
    "start_time": "2022-05-24T06:08:57.026Z"
   },
   {
    "duration": 14,
    "start_time": "2022-05-24T06:08:57.380Z"
   },
   {
    "duration": 9,
    "start_time": "2022-05-24T06:08:58.064Z"
   },
   {
    "duration": 24,
    "start_time": "2022-05-24T06:09:24.536Z"
   },
   {
    "duration": 31,
    "start_time": "2022-05-24T06:09:25.290Z"
   },
   {
    "duration": 17,
    "start_time": "2022-05-24T06:09:27.393Z"
   },
   {
    "duration": 18,
    "start_time": "2022-05-24T06:09:27.757Z"
   },
   {
    "duration": 21,
    "start_time": "2022-05-24T06:09:28.115Z"
   },
   {
    "duration": 16,
    "start_time": "2022-05-24T06:09:28.621Z"
   },
   {
    "duration": 24,
    "start_time": "2022-05-24T06:09:28.924Z"
   },
   {
    "duration": 17,
    "start_time": "2022-05-24T06:09:29.271Z"
   },
   {
    "duration": 15,
    "start_time": "2022-05-24T06:09:29.858Z"
   },
   {
    "duration": 10,
    "start_time": "2022-05-24T06:09:30.414Z"
   },
   {
    "duration": 10,
    "start_time": "2022-05-24T06:09:31.379Z"
   },
   {
    "duration": 5,
    "start_time": "2022-05-24T06:09:32.224Z"
   },
   {
    "duration": 10,
    "start_time": "2022-05-24T06:09:33.791Z"
   },
   {
    "duration": 27,
    "start_time": "2022-05-24T06:09:34.706Z"
   },
   {
    "duration": 29,
    "start_time": "2022-05-24T06:09:35.405Z"
   },
   {
    "duration": 9,
    "start_time": "2022-05-24T06:09:36.372Z"
   },
   {
    "duration": 19,
    "start_time": "2022-05-24T06:09:36.775Z"
   },
   {
    "duration": 24,
    "start_time": "2022-05-24T06:12:48.535Z"
   },
   {
    "duration": 17,
    "start_time": "2022-05-24T06:13:05.893Z"
   },
   {
    "duration": 6,
    "start_time": "2022-05-24T06:13:40.095Z"
   },
   {
    "duration": 13,
    "start_time": "2022-05-24T06:14:20.651Z"
   },
   {
    "duration": 9,
    "start_time": "2022-05-24T06:15:17.839Z"
   },
   {
    "duration": 441,
    "start_time": "2022-05-25T16:27:13.427Z"
   },
   {
    "duration": 236,
    "start_time": "2022-05-25T16:27:13.870Z"
   },
   {
    "duration": 322,
    "start_time": "2022-05-25T16:27:14.108Z"
   },
   {
    "duration": 311,
    "start_time": "2022-05-25T16:27:14.433Z"
   },
   {
    "duration": 63,
    "start_time": "2022-05-25T16:27:14.746Z"
   },
   {
    "duration": 64,
    "start_time": "2022-05-25T16:27:15.029Z"
   },
   {
    "duration": 15,
    "start_time": "2022-05-25T16:27:15.442Z"
   },
   {
    "duration": 27,
    "start_time": "2022-05-25T16:27:15.801Z"
   },
   {
    "duration": 9,
    "start_time": "2022-05-25T16:27:16.020Z"
   },
   {
    "duration": 21,
    "start_time": "2022-05-25T16:27:16.239Z"
   },
   {
    "duration": 7,
    "start_time": "2022-05-25T16:27:16.487Z"
   },
   {
    "duration": 21,
    "start_time": "2022-05-25T16:27:16.712Z"
   },
   {
    "duration": 8,
    "start_time": "2022-05-25T16:27:17.203Z"
   },
   {
    "duration": 11,
    "start_time": "2022-05-25T16:27:17.775Z"
   },
   {
    "duration": 10,
    "start_time": "2022-05-25T16:27:18.358Z"
   },
   {
    "duration": 10,
    "start_time": "2022-05-25T16:27:19.050Z"
   },
   {
    "duration": 33,
    "start_time": "2022-05-25T16:27:21.586Z"
   },
   {
    "duration": 41,
    "start_time": "2022-05-25T16:27:22.126Z"
   },
   {
    "duration": 21,
    "start_time": "2022-05-25T16:27:22.737Z"
   },
   {
    "duration": 34,
    "start_time": "2022-05-25T16:27:23.021Z"
   },
   {
    "duration": 37,
    "start_time": "2022-05-25T16:27:23.398Z"
   },
   {
    "duration": 17,
    "start_time": "2022-05-25T16:27:24.001Z"
   },
   {
    "duration": 27,
    "start_time": "2022-05-25T16:27:24.416Z"
   },
   {
    "duration": 22,
    "start_time": "2022-05-25T16:27:24.988Z"
   },
   {
    "duration": 15,
    "start_time": "2022-05-25T16:27:25.893Z"
   },
   {
    "duration": 12,
    "start_time": "2022-05-25T16:27:27.368Z"
   },
   {
    "duration": 11,
    "start_time": "2022-05-25T16:27:27.618Z"
   },
   {
    "duration": 7,
    "start_time": "2022-05-25T16:27:27.816Z"
   },
   {
    "duration": 15,
    "start_time": "2022-05-25T16:27:28.020Z"
   },
   {
    "duration": 32,
    "start_time": "2022-05-25T16:27:28.235Z"
   },
   {
    "duration": 33,
    "start_time": "2022-05-25T16:27:28.432Z"
   },
   {
    "duration": 11,
    "start_time": "2022-05-25T16:27:29.558Z"
   },
   {
    "duration": 19,
    "start_time": "2022-05-25T16:27:31.152Z"
   },
   {
    "duration": 6,
    "start_time": "2022-05-25T16:27:33.383Z"
   },
   {
    "duration": 14,
    "start_time": "2022-05-25T16:27:34.013Z"
   },
   {
    "duration": 23,
    "start_time": "2022-05-25T16:27:36.292Z"
   },
   {
    "duration": 22,
    "start_time": "2022-05-25T16:27:37.136Z"
   },
   {
    "duration": 435,
    "start_time": "2022-05-26T07:53:29.385Z"
   },
   {
    "duration": 229,
    "start_time": "2022-05-26T07:53:29.822Z"
   },
   {
    "duration": 333,
    "start_time": "2022-05-26T07:53:30.053Z"
   },
   {
    "duration": 298,
    "start_time": "2022-05-26T07:53:30.389Z"
   },
   {
    "duration": 55,
    "start_time": "2022-05-26T07:53:30.689Z"
   },
   {
    "duration": 53,
    "start_time": "2022-05-26T07:53:30.746Z"
   },
   {
    "duration": 18,
    "start_time": "2022-05-26T07:53:30.801Z"
   },
   {
    "duration": 65,
    "start_time": "2022-05-26T07:53:30.821Z"
   },
   {
    "duration": 27,
    "start_time": "2022-05-26T07:53:30.888Z"
   },
   {
    "duration": 36,
    "start_time": "2022-05-26T07:53:30.917Z"
   },
   {
    "duration": 11,
    "start_time": "2022-05-26T07:53:30.955Z"
   },
   {
    "duration": 42,
    "start_time": "2022-05-26T07:53:30.967Z"
   },
   {
    "duration": 12,
    "start_time": "2022-05-26T07:53:31.011Z"
   },
   {
    "duration": 11,
    "start_time": "2022-05-26T07:53:32.211Z"
   },
   {
    "duration": 10,
    "start_time": "2022-05-26T07:53:33.143Z"
   },
   {
    "duration": 13,
    "start_time": "2022-05-26T07:53:36.229Z"
   },
   {
    "duration": 26,
    "start_time": "2022-05-26T07:53:38.232Z"
   },
   {
    "duration": 36,
    "start_time": "2022-05-26T07:53:38.434Z"
   },
   {
    "duration": 19,
    "start_time": "2022-05-26T07:53:38.852Z"
   },
   {
    "duration": 19,
    "start_time": "2022-05-26T07:53:39.212Z"
   },
   {
    "duration": 24,
    "start_time": "2022-05-26T07:53:39.504Z"
   },
   {
    "duration": 16,
    "start_time": "2022-05-26T07:53:40.158Z"
   },
   {
    "duration": 18,
    "start_time": "2022-05-26T07:53:40.566Z"
   },
   {
    "duration": 19,
    "start_time": "2022-05-26T07:53:41.439Z"
   },
   {
    "duration": 16,
    "start_time": "2022-05-26T07:53:42.186Z"
   },
   {
    "duration": 11,
    "start_time": "2022-05-26T07:53:42.743Z"
   },
   {
    "duration": 10,
    "start_time": "2022-05-26T07:53:43.604Z"
   },
   {
    "duration": 5,
    "start_time": "2022-05-26T07:53:44.615Z"
   },
   {
    "duration": 12,
    "start_time": "2022-05-26T07:53:45.152Z"
   },
   {
    "duration": 33,
    "start_time": "2022-05-26T07:53:45.495Z"
   },
   {
    "duration": 40,
    "start_time": "2022-05-26T07:53:46.297Z"
   },
   {
    "duration": 9,
    "start_time": "2022-05-26T07:53:47.482Z"
   },
   {
    "duration": 15,
    "start_time": "2022-05-26T07:53:47.911Z"
   },
   {
    "duration": 6,
    "start_time": "2022-05-26T07:53:52.765Z"
   },
   {
    "duration": 9,
    "start_time": "2022-05-26T07:53:53.342Z"
   },
   {
    "duration": 24,
    "start_time": "2022-05-26T07:53:58.881Z"
   },
   {
    "duration": 19,
    "start_time": "2022-05-26T07:53:59.271Z"
   },
   {
    "duration": 33,
    "start_time": "2022-05-26T07:55:19.717Z"
   },
   {
    "duration": 12,
    "start_time": "2022-05-26T07:55:46.824Z"
   },
   {
    "duration": 28,
    "start_time": "2022-05-26T07:57:17.349Z"
   },
   {
    "duration": 11,
    "start_time": "2022-05-26T07:57:18.066Z"
   },
   {
    "duration": 540,
    "start_time": "2022-05-26T13:14:12.356Z"
   },
   {
    "duration": 383,
    "start_time": "2022-05-26T13:14:12.899Z"
   },
   {
    "duration": 618,
    "start_time": "2022-05-26T13:14:13.283Z"
   },
   {
    "duration": 789,
    "start_time": "2022-05-26T13:14:13.903Z"
   },
   {
    "duration": 92,
    "start_time": "2022-05-26T13:14:14.694Z"
   },
   {
    "duration": 73,
    "start_time": "2022-05-26T13:14:14.788Z"
   },
   {
    "duration": 20,
    "start_time": "2022-05-26T13:14:14.863Z"
   },
   {
    "duration": 27,
    "start_time": "2022-05-26T13:14:14.885Z"
   },
   {
    "duration": 14,
    "start_time": "2022-05-26T13:14:14.914Z"
   },
   {
    "duration": 55,
    "start_time": "2022-05-26T13:14:14.931Z"
   },
   {
    "duration": 10,
    "start_time": "2022-05-26T13:14:14.988Z"
   },
   {
    "duration": 39,
    "start_time": "2022-05-26T13:14:15.000Z"
   },
   {
    "duration": 36,
    "start_time": "2022-05-26T13:14:15.043Z"
   },
   {
    "duration": 18,
    "start_time": "2022-05-26T13:14:15.081Z"
   },
   {
    "duration": 13,
    "start_time": "2022-05-26T13:14:15.101Z"
   },
   {
    "duration": 21,
    "start_time": "2022-05-26T13:14:15.116Z"
   },
   {
    "duration": 52,
    "start_time": "2022-05-26T13:14:15.139Z"
   },
   {
    "duration": 41,
    "start_time": "2022-05-26T13:14:15.194Z"
   },
   {
    "duration": 30,
    "start_time": "2022-05-26T13:14:15.236Z"
   },
   {
    "duration": 39,
    "start_time": "2022-05-26T13:14:15.268Z"
   },
   {
    "duration": 28,
    "start_time": "2022-05-26T13:14:15.309Z"
   },
   {
    "duration": 62,
    "start_time": "2022-05-26T13:14:15.340Z"
   },
   {
    "duration": 18,
    "start_time": "2022-05-26T13:14:15.404Z"
   },
   {
    "duration": 66,
    "start_time": "2022-05-26T13:14:15.427Z"
   },
   {
    "duration": 17,
    "start_time": "2022-05-26T13:14:15.495Z"
   },
   {
    "duration": 12,
    "start_time": "2022-05-26T13:14:15.514Z"
   },
   {
    "duration": 45,
    "start_time": "2022-05-26T13:14:15.529Z"
   },
   {
    "duration": 9,
    "start_time": "2022-05-26T13:14:15.576Z"
   },
   {
    "duration": 15,
    "start_time": "2022-05-26T13:14:15.658Z"
   },
   {
    "duration": 38,
    "start_time": "2022-05-26T13:14:15.735Z"
   },
   {
    "duration": 42,
    "start_time": "2022-05-26T13:14:15.813Z"
   },
   {
    "duration": 11,
    "start_time": "2022-05-26T13:14:15.983Z"
   },
   {
    "duration": 15,
    "start_time": "2022-05-26T13:14:16.065Z"
   },
   {
    "duration": 6,
    "start_time": "2022-05-26T13:14:16.881Z"
   },
   {
    "duration": 13,
    "start_time": "2022-05-26T13:14:16.962Z"
   },
   {
    "duration": 25,
    "start_time": "2022-05-26T13:14:17.150Z"
   },
   {
    "duration": 25,
    "start_time": "2022-05-26T13:14:17.215Z"
   },
   {
    "duration": 50,
    "start_time": "2022-05-26T13:14:17.394Z"
   },
   {
    "duration": 12,
    "start_time": "2022-05-26T13:14:17.592Z"
   },
   {
    "duration": 56,
    "start_time": "2022-05-26T13:15:20.280Z"
   },
   {
    "duration": 52,
    "start_time": "2022-05-26T13:15:35.444Z"
   },
   {
    "duration": 48,
    "start_time": "2022-05-26T13:15:57.937Z"
   },
   {
    "duration": 51,
    "start_time": "2022-05-26T13:16:02.296Z"
   },
   {
    "duration": 106,
    "start_time": "2022-05-26T13:17:47.154Z"
   },
   {
    "duration": 475,
    "start_time": "2022-05-26T13:17:56.811Z"
   },
   {
    "duration": 50,
    "start_time": "2022-05-26T13:18:31.515Z"
   },
   {
    "duration": 14,
    "start_time": "2022-05-26T13:20:25.874Z"
   },
   {
    "duration": 383,
    "start_time": "2022-05-27T06:40:10.065Z"
   },
   {
    "duration": 227,
    "start_time": "2022-05-27T06:40:10.449Z"
   },
   {
    "duration": 344,
    "start_time": "2022-05-27T06:40:33.280Z"
   },
   {
    "duration": 300,
    "start_time": "2022-05-27T06:40:33.772Z"
   },
   {
    "duration": 71,
    "start_time": "2022-05-27T06:40:40.772Z"
   },
   {
    "duration": 20,
    "start_time": "2022-05-27T06:40:41.364Z"
   },
   {
    "duration": 41,
    "start_time": "2022-05-27T06:40:41.416Z"
   },
   {
    "duration": 9,
    "start_time": "2022-05-27T06:40:41.504Z"
   },
   {
    "duration": 31,
    "start_time": "2022-05-27T06:40:41.589Z"
   },
   {
    "duration": 8,
    "start_time": "2022-05-27T06:40:41.679Z"
   },
   {
    "duration": 19,
    "start_time": "2022-05-27T06:40:41.772Z"
   },
   {
    "duration": 76,
    "start_time": "2022-05-27T06:40:41.872Z"
   },
   {
    "duration": 8,
    "start_time": "2022-05-27T06:40:42.067Z"
   },
   {
    "duration": 15,
    "start_time": "2022-05-27T06:40:42.572Z"
   },
   {
    "duration": 15,
    "start_time": "2022-05-27T06:40:42.631Z"
   },
   {
    "duration": 22,
    "start_time": "2022-05-27T06:40:43.072Z"
   },
   {
    "duration": 34,
    "start_time": "2022-05-27T06:40:43.372Z"
   },
   {
    "duration": 17,
    "start_time": "2022-05-27T06:40:43.862Z"
   },
   {
    "duration": 22,
    "start_time": "2022-05-27T06:40:43.975Z"
   },
   {
    "duration": 27,
    "start_time": "2022-05-27T06:40:44.032Z"
   },
   {
    "duration": 17,
    "start_time": "2022-05-27T06:40:44.110Z"
   },
   {
    "duration": 19,
    "start_time": "2022-05-27T06:40:44.209Z"
   },
   {
    "duration": 19,
    "start_time": "2022-05-27T06:40:44.296Z"
   },
   {
    "duration": 14,
    "start_time": "2022-05-27T06:40:44.376Z"
   },
   {
    "duration": 8,
    "start_time": "2022-05-27T06:40:44.989Z"
   },
   {
    "duration": 10,
    "start_time": "2022-05-27T06:40:45.490Z"
   },
   {
    "duration": 6,
    "start_time": "2022-05-27T06:40:45.577Z"
   },
   {
    "duration": 11,
    "start_time": "2022-05-27T06:40:45.671Z"
   },
   {
    "duration": 28,
    "start_time": "2022-05-27T06:40:45.778Z"
   },
   {
    "duration": 35,
    "start_time": "2022-05-27T06:40:46.187Z"
   },
   {
    "duration": 9,
    "start_time": "2022-05-27T06:40:46.779Z"
   },
   {
    "duration": 13,
    "start_time": "2022-05-27T06:40:46.860Z"
   },
   {
    "duration": 6,
    "start_time": "2022-05-27T06:40:48.072Z"
   },
   {
    "duration": 14,
    "start_time": "2022-05-27T06:40:49.726Z"
   },
   {
    "duration": 22,
    "start_time": "2022-05-27T06:40:50.613Z"
   },
   {
    "duration": 19,
    "start_time": "2022-05-27T06:40:51.077Z"
   },
   {
    "duration": 24,
    "start_time": "2022-05-27T06:40:53.622Z"
   },
   {
    "duration": 11,
    "start_time": "2022-05-27T06:41:06.928Z"
   },
   {
    "duration": 15,
    "start_time": "2022-05-27T06:41:15.576Z"
   },
   {
    "duration": 8,
    "start_time": "2022-05-27T06:41:21.775Z"
   },
   {
    "duration": 14,
    "start_time": "2022-05-27T06:45:25.594Z"
   },
   {
    "duration": 8,
    "start_time": "2022-05-27T06:45:33.279Z"
   },
   {
    "duration": 17,
    "start_time": "2022-05-27T06:47:17.983Z"
   },
   {
    "duration": 12,
    "start_time": "2022-05-27T06:47:24.192Z"
   },
   {
    "duration": 14,
    "start_time": "2022-05-27T06:47:42.524Z"
   },
   {
    "duration": 6,
    "start_time": "2022-05-27T06:47:43.685Z"
   },
   {
    "duration": 33,
    "start_time": "2022-05-27T06:49:51.029Z"
   },
   {
    "duration": 9,
    "start_time": "2022-05-27T06:50:26.864Z"
   },
   {
    "duration": 18,
    "start_time": "2022-05-27T06:50:50.216Z"
   },
   {
    "duration": 396,
    "start_time": "2022-05-27T19:46:41.306Z"
   },
   {
    "duration": 830,
    "start_time": "2022-05-27T19:46:41.703Z"
   },
   {
    "duration": 431,
    "start_time": "2022-05-27T19:46:42.535Z"
   },
   {
    "duration": 160,
    "start_time": "2022-05-27T19:46:42.969Z"
   },
   {
    "duration": 46,
    "start_time": "2022-05-27T19:46:43.130Z"
   },
   {
    "duration": 79,
    "start_time": "2022-05-27T19:46:43.178Z"
   },
   {
    "duration": 23,
    "start_time": "2022-05-27T19:46:43.258Z"
   },
   {
    "duration": 35,
    "start_time": "2022-05-27T19:46:43.283Z"
   },
   {
    "duration": 10,
    "start_time": "2022-05-27T19:46:43.320Z"
   },
   {
    "duration": 50,
    "start_time": "2022-05-27T19:46:43.333Z"
   },
   {
    "duration": 9,
    "start_time": "2022-05-27T19:46:43.385Z"
   },
   {
    "duration": 36,
    "start_time": "2022-05-27T19:46:43.396Z"
   },
   {
    "duration": 25,
    "start_time": "2022-05-27T19:46:43.435Z"
   },
   {
    "duration": 23,
    "start_time": "2022-05-27T19:46:43.462Z"
   },
   {
    "duration": 18,
    "start_time": "2022-05-27T19:46:43.486Z"
   },
   {
    "duration": 19,
    "start_time": "2022-05-27T19:46:43.506Z"
   },
   {
    "duration": 34,
    "start_time": "2022-05-27T19:46:43.527Z"
   },
   {
    "duration": 35,
    "start_time": "2022-05-27T19:46:43.563Z"
   },
   {
    "duration": 21,
    "start_time": "2022-05-27T19:46:43.600Z"
   },
   {
    "duration": 52,
    "start_time": "2022-05-27T19:46:43.623Z"
   },
   {
    "duration": 34,
    "start_time": "2022-05-27T19:46:43.678Z"
   },
   {
    "duration": 18,
    "start_time": "2022-05-27T19:46:43.714Z"
   },
   {
    "duration": 44,
    "start_time": "2022-05-27T19:46:43.734Z"
   },
   {
    "duration": 20,
    "start_time": "2022-05-27T19:46:43.781Z"
   },
   {
    "duration": 40,
    "start_time": "2022-05-27T19:46:43.803Z"
   },
   {
    "duration": 10,
    "start_time": "2022-05-27T19:46:43.844Z"
   },
   {
    "duration": 11,
    "start_time": "2022-05-27T19:46:43.900Z"
   },
   {
    "duration": 7,
    "start_time": "2022-05-27T19:46:43.992Z"
   },
   {
    "duration": 11,
    "start_time": "2022-05-27T19:46:44.091Z"
   },
   {
    "duration": 33,
    "start_time": "2022-05-27T19:46:44.147Z"
   },
   {
    "duration": 45,
    "start_time": "2022-05-27T19:46:44.230Z"
   },
   {
    "duration": 12,
    "start_time": "2022-05-27T19:46:44.395Z"
   },
   {
    "duration": 20,
    "start_time": "2022-05-27T19:46:44.485Z"
   },
   {
    "duration": 6,
    "start_time": "2022-05-27T19:46:44.734Z"
   },
   {
    "duration": 13,
    "start_time": "2022-05-27T19:46:44.815Z"
   },
   {
    "duration": 22,
    "start_time": "2022-05-27T19:46:47.386Z"
   },
   {
    "duration": 18,
    "start_time": "2022-05-27T19:46:47.826Z"
   },
   {
    "duration": 21,
    "start_time": "2022-05-27T19:46:48.678Z"
   },
   {
    "duration": 9,
    "start_time": "2022-05-27T19:46:48.966Z"
   },
   {
    "duration": 16,
    "start_time": "2022-05-27T19:46:59.857Z"
   },
   {
    "duration": 7,
    "start_time": "2022-05-27T19:47:00.341Z"
   },
   {
    "duration": 12,
    "start_time": "2022-05-27T19:47:02.284Z"
   },
   {
    "duration": 8,
    "start_time": "2022-05-27T19:47:03.302Z"
   },
   {
    "duration": 17,
    "start_time": "2022-05-27T19:47:09.064Z"
   },
   {
    "duration": 24,
    "start_time": "2022-05-27T19:50:14.254Z"
   },
   {
    "duration": 6,
    "start_time": "2022-05-27T19:50:23.579Z"
   },
   {
    "duration": 33,
    "start_time": "2022-05-27T19:51:31.568Z"
   },
   {
    "duration": 85,
    "start_time": "2022-05-27T19:52:11.904Z"
   },
   {
    "duration": 23,
    "start_time": "2022-05-27T19:52:35.656Z"
   },
   {
    "duration": 9,
    "start_time": "2022-05-27T19:52:36.382Z"
   },
   {
    "duration": 6,
    "start_time": "2022-05-27T19:52:47.084Z"
   },
   {
    "duration": 10,
    "start_time": "2022-05-27T19:53:03.509Z"
   },
   {
    "duration": 12,
    "start_time": "2022-05-27T19:53:15.545Z"
   },
   {
    "duration": 6,
    "start_time": "2022-05-27T19:53:15.789Z"
   },
   {
    "duration": 9,
    "start_time": "2022-05-27T19:55:29.875Z"
   },
   {
    "duration": 7,
    "start_time": "2022-05-27T19:55:30.444Z"
   },
   {
    "duration": 16,
    "start_time": "2022-05-27T19:55:43.918Z"
   },
   {
    "duration": 10,
    "start_time": "2022-05-27T19:55:44.255Z"
   },
   {
    "duration": 21,
    "start_time": "2022-05-27T19:55:49.480Z"
   },
   {
    "duration": 9,
    "start_time": "2022-05-27T19:55:50.221Z"
   },
   {
    "duration": 7,
    "start_time": "2022-05-27T19:56:24.914Z"
   },
   {
    "duration": 28,
    "start_time": "2022-05-27T19:56:41.151Z"
   },
   {
    "duration": 21,
    "start_time": "2022-05-27T19:56:57.775Z"
   },
   {
    "duration": 30,
    "start_time": "2022-05-27T19:56:58.525Z"
   },
   {
    "duration": 25,
    "start_time": "2022-05-27T19:58:13.158Z"
   },
   {
    "duration": 21,
    "start_time": "2022-05-27T19:58:25.327Z"
   },
   {
    "duration": 22,
    "start_time": "2022-05-27T19:58:26.270Z"
   },
   {
    "duration": 32,
    "start_time": "2022-05-27T19:58:27.477Z"
   },
   {
    "duration": 6,
    "start_time": "2022-05-27T19:58:37.627Z"
   },
   {
    "duration": 23,
    "start_time": "2022-05-27T20:00:44.157Z"
   },
   {
    "duration": 460,
    "start_time": "2022-05-27T20:01:10.316Z"
   },
   {
    "duration": 8,
    "start_time": "2022-05-27T20:01:13.690Z"
   },
   {
    "duration": 4,
    "start_time": "2022-05-27T20:01:49.372Z"
   },
   {
    "duration": 7,
    "start_time": "2022-05-27T20:01:52.001Z"
   },
   {
    "duration": 12,
    "start_time": "2022-05-27T20:03:04.647Z"
   },
   {
    "duration": 323,
    "start_time": "2022-05-27T20:05:31.502Z"
   },
   {
    "duration": 13,
    "start_time": "2022-05-27T20:05:31.879Z"
   },
   {
    "duration": 15,
    "start_time": "2022-05-27T20:05:41.147Z"
   },
   {
    "duration": 8,
    "start_time": "2022-05-27T20:05:42.069Z"
   },
   {
    "duration": 16,
    "start_time": "2022-05-27T20:06:02.483Z"
   },
   {
    "duration": 16,
    "start_time": "2022-05-27T20:06:02.840Z"
   },
   {
    "duration": 23,
    "start_time": "2022-05-27T20:07:03.136Z"
   },
   {
    "duration": 12,
    "start_time": "2022-05-27T20:07:11.053Z"
   },
   {
    "duration": 17,
    "start_time": "2022-05-27T20:07:25.123Z"
   },
   {
    "duration": 19,
    "start_time": "2022-05-27T20:07:28.578Z"
   },
   {
    "duration": 11,
    "start_time": "2022-05-27T20:07:29.758Z"
   },
   {
    "duration": 9,
    "start_time": "2022-05-27T20:07:44.872Z"
   },
   {
    "duration": 9,
    "start_time": "2022-05-27T20:07:52.904Z"
   },
   {
    "duration": 7,
    "start_time": "2022-05-27T20:07:56.998Z"
   },
   {
    "duration": 7,
    "start_time": "2022-05-27T20:08:01.489Z"
   },
   {
    "duration": 19,
    "start_time": "2022-05-27T20:08:41.640Z"
   },
   {
    "duration": 7,
    "start_time": "2022-05-27T20:08:41.982Z"
   },
   {
    "duration": 7,
    "start_time": "2022-05-27T20:08:50.165Z"
   },
   {
    "duration": 7,
    "start_time": "2022-05-27T20:08:52.442Z"
   },
   {
    "duration": 12,
    "start_time": "2022-05-27T20:09:00.456Z"
   },
   {
    "duration": 7,
    "start_time": "2022-05-27T20:09:09.260Z"
   },
   {
    "duration": 7,
    "start_time": "2022-05-27T20:09:12.693Z"
   },
   {
    "duration": 8,
    "start_time": "2022-05-27T20:09:20.414Z"
   },
   {
    "duration": 7,
    "start_time": "2022-05-27T20:09:24.283Z"
   },
   {
    "duration": 7,
    "start_time": "2022-05-27T20:09:34.167Z"
   },
   {
    "duration": 440,
    "start_time": "2022-05-28T18:05:37.244Z"
   },
   {
    "duration": 244,
    "start_time": "2022-05-28T18:05:37.687Z"
   },
   {
    "duration": 340,
    "start_time": "2022-05-28T18:05:37.933Z"
   },
   {
    "duration": 334,
    "start_time": "2022-05-28T18:05:38.276Z"
   },
   {
    "duration": 57,
    "start_time": "2022-05-28T18:05:38.611Z"
   },
   {
    "duration": 55,
    "start_time": "2022-05-28T18:05:38.671Z"
   },
   {
    "duration": 16,
    "start_time": "2022-05-28T18:05:38.728Z"
   },
   {
    "duration": 44,
    "start_time": "2022-05-28T18:05:38.746Z"
   },
   {
    "duration": 11,
    "start_time": "2022-05-28T18:05:38.792Z"
   },
   {
    "duration": 49,
    "start_time": "2022-05-28T18:05:38.806Z"
   },
   {
    "duration": 10,
    "start_time": "2022-05-28T18:05:38.859Z"
   },
   {
    "duration": 36,
    "start_time": "2022-05-28T18:05:38.872Z"
   },
   {
    "duration": 10,
    "start_time": "2022-05-28T18:05:38.911Z"
   },
   {
    "duration": 22,
    "start_time": "2022-05-28T18:05:38.923Z"
   },
   {
    "duration": 21,
    "start_time": "2022-05-28T18:05:38.947Z"
   },
   {
    "duration": 29,
    "start_time": "2022-05-28T18:05:38.970Z"
   },
   {
    "duration": 33,
    "start_time": "2022-05-28T18:05:39.025Z"
   },
   {
    "duration": 49,
    "start_time": "2022-05-28T18:05:39.076Z"
   },
   {
    "duration": 28,
    "start_time": "2022-05-28T18:05:39.165Z"
   },
   {
    "duration": 29,
    "start_time": "2022-05-28T18:05:39.251Z"
   },
   {
    "duration": 36,
    "start_time": "2022-05-28T18:05:39.332Z"
   },
   {
    "duration": 23,
    "start_time": "2022-05-28T18:05:39.420Z"
   },
   {
    "duration": 26,
    "start_time": "2022-05-28T18:05:39.515Z"
   },
   {
    "duration": 24,
    "start_time": "2022-05-28T18:05:39.592Z"
   },
   {
    "duration": 22,
    "start_time": "2022-05-28T18:05:39.663Z"
   },
   {
    "duration": 14,
    "start_time": "2022-05-28T18:05:39.745Z"
   },
   {
    "duration": 13,
    "start_time": "2022-05-28T18:05:39.867Z"
   },
   {
    "duration": 6,
    "start_time": "2022-05-28T18:05:39.927Z"
   },
   {
    "duration": 11,
    "start_time": "2022-05-28T18:05:40.008Z"
   },
   {
    "duration": 35,
    "start_time": "2022-05-28T18:05:40.689Z"
   },
   {
    "duration": 34,
    "start_time": "2022-05-28T18:05:41.186Z"
   },
   {
    "duration": 9,
    "start_time": "2022-05-28T18:05:41.353Z"
   },
   {
    "duration": 19,
    "start_time": "2022-05-28T18:05:41.437Z"
   },
   {
    "duration": 6,
    "start_time": "2022-05-28T18:05:41.689Z"
   },
   {
    "duration": 15,
    "start_time": "2022-05-28T18:05:41.776Z"
   },
   {
    "duration": 24,
    "start_time": "2022-05-28T18:05:41.933Z"
   },
   {
    "duration": 27,
    "start_time": "2022-05-28T18:05:42.039Z"
   },
   {
    "duration": 18,
    "start_time": "2022-05-28T18:05:42.185Z"
   },
   {
    "duration": 8,
    "start_time": "2022-05-28T18:05:42.269Z"
   },
   {
    "duration": 14,
    "start_time": "2022-05-28T18:05:42.524Z"
   },
   {
    "duration": 11,
    "start_time": "2022-05-28T18:05:42.901Z"
   },
   {
    "duration": 32,
    "start_time": "2022-05-28T18:05:43.484Z"
   },
   {
    "duration": 19,
    "start_time": "2022-05-28T18:05:43.745Z"
   },
   {
    "duration": 25,
    "start_time": "2022-05-28T18:05:45.613Z"
   },
   {
    "duration": 17,
    "start_time": "2022-05-28T18:05:46.117Z"
   },
   {
    "duration": 9,
    "start_time": "2022-05-28T18:05:46.285Z"
   },
   {
    "duration": 17,
    "start_time": "2022-05-28T18:05:46.365Z"
   },
   {
    "duration": 10,
    "start_time": "2022-05-28T18:05:46.447Z"
   },
   {
    "duration": 23,
    "start_time": "2022-05-28T18:07:44.033Z"
   },
   {
    "duration": 13,
    "start_time": "2022-05-28T18:07:44.986Z"
   },
   {
    "duration": 21,
    "start_time": "2022-05-28T18:07:54.232Z"
   },
   {
    "duration": 13,
    "start_time": "2022-05-28T18:07:54.747Z"
   },
   {
    "duration": 21,
    "start_time": "2022-05-28T18:08:41.345Z"
   },
   {
    "duration": 13,
    "start_time": "2022-05-28T18:08:41.970Z"
   },
   {
    "duration": 10,
    "start_time": "2022-05-28T18:09:06.629Z"
   },
   {
    "duration": 72,
    "start_time": "2022-05-28T18:09:27.594Z"
   },
   {
    "duration": 12,
    "start_time": "2022-05-28T18:14:26.304Z"
   },
   {
    "duration": 313,
    "start_time": "2022-05-28T18:14:28.000Z"
   },
   {
    "duration": 6,
    "start_time": "2022-05-28T18:14:49.250Z"
   },
   {
    "duration": 14,
    "start_time": "2022-05-28T18:15:13.831Z"
   },
   {
    "duration": 6,
    "start_time": "2022-05-28T18:15:14.267Z"
   },
   {
    "duration": 17,
    "start_time": "2022-05-28T18:15:27.970Z"
   },
   {
    "duration": 8,
    "start_time": "2022-05-28T18:15:28.219Z"
   },
   {
    "duration": 12,
    "start_time": "2022-05-28T18:15:34.675Z"
   },
   {
    "duration": 10,
    "start_time": "2022-05-28T18:16:13.409Z"
   },
   {
    "duration": 18,
    "start_time": "2022-05-28T18:16:31.302Z"
   },
   {
    "duration": 9,
    "start_time": "2022-05-28T18:16:31.866Z"
   },
   {
    "duration": 29,
    "start_time": "2022-05-28T18:20:49.991Z"
   },
   {
    "duration": 10,
    "start_time": "2022-05-28T18:21:21.581Z"
   },
   {
    "duration": 15,
    "start_time": "2022-05-28T18:21:36.045Z"
   },
   {
    "duration": 13,
    "start_time": "2022-05-28T18:21:42.469Z"
   },
   {
    "duration": 12,
    "start_time": "2022-05-28T18:22:06.419Z"
   },
   {
    "duration": 13,
    "start_time": "2022-05-28T18:22:23.658Z"
   },
   {
    "duration": 16,
    "start_time": "2022-05-28T18:23:00.901Z"
   },
   {
    "duration": 14,
    "start_time": "2022-05-28T18:23:20.069Z"
   },
   {
    "duration": 8,
    "start_time": "2022-05-28T18:24:10.850Z"
   },
   {
    "duration": 7,
    "start_time": "2022-05-28T18:24:24.703Z"
   },
   {
    "duration": 8,
    "start_time": "2022-05-28T18:24:41.401Z"
   },
   {
    "duration": 3,
    "start_time": "2022-05-28T18:27:10.606Z"
   },
   {
    "duration": 163,
    "start_time": "2022-05-28T18:27:10.691Z"
   },
   {
    "duration": 125,
    "start_time": "2022-05-28T18:27:10.856Z"
   },
   {
    "duration": 84,
    "start_time": "2022-05-28T18:27:10.983Z"
   },
   {
    "duration": 14,
    "start_time": "2022-05-28T18:27:11.069Z"
   },
   {
    "duration": 26,
    "start_time": "2022-05-28T18:27:11.086Z"
   },
   {
    "duration": 9,
    "start_time": "2022-05-28T18:27:11.194Z"
   },
   {
    "duration": 26,
    "start_time": "2022-05-28T18:27:11.294Z"
   },
   {
    "duration": 8,
    "start_time": "2022-05-28T18:27:11.378Z"
   },
   {
    "duration": 22,
    "start_time": "2022-05-28T18:27:11.467Z"
   },
   {
    "duration": 7,
    "start_time": "2022-05-28T18:27:11.556Z"
   },
   {
    "duration": 19,
    "start_time": "2022-05-28T18:27:11.610Z"
   },
   {
    "duration": 9,
    "start_time": "2022-05-28T18:27:11.699Z"
   },
   {
    "duration": 15,
    "start_time": "2022-05-28T18:27:11.832Z"
   },
   {
    "duration": 14,
    "start_time": "2022-05-28T18:27:11.902Z"
   },
   {
    "duration": 14,
    "start_time": "2022-05-28T18:27:11.990Z"
   },
   {
    "duration": 41,
    "start_time": "2022-05-28T18:27:12.366Z"
   },
   {
    "duration": 53,
    "start_time": "2022-05-28T18:27:12.448Z"
   },
   {
    "duration": 23,
    "start_time": "2022-05-28T18:27:12.527Z"
   },
   {
    "duration": 21,
    "start_time": "2022-05-28T18:27:12.652Z"
   },
   {
    "duration": 23,
    "start_time": "2022-05-28T18:27:12.723Z"
   },
   {
    "duration": 16,
    "start_time": "2022-05-28T18:27:12.812Z"
   },
   {
    "duration": 18,
    "start_time": "2022-05-28T18:27:12.861Z"
   },
   {
    "duration": 18,
    "start_time": "2022-05-28T18:27:12.943Z"
   },
   {
    "duration": 15,
    "start_time": "2022-05-28T18:27:13.032Z"
   },
   {
    "duration": 10,
    "start_time": "2022-05-28T18:27:13.113Z"
   },
   {
    "duration": 16,
    "start_time": "2022-05-28T18:27:13.195Z"
   },
   {
    "duration": 6,
    "start_time": "2022-05-28T18:27:13.295Z"
   },
   {
    "duration": 14,
    "start_time": "2022-05-28T18:27:13.363Z"
   },
   {
    "duration": 38,
    "start_time": "2022-05-28T18:27:13.448Z"
   },
   {
    "duration": 39,
    "start_time": "2022-05-28T18:27:13.536Z"
   },
   {
    "duration": 10,
    "start_time": "2022-05-28T18:27:13.714Z"
   },
   {
    "duration": 15,
    "start_time": "2022-05-28T18:27:14.344Z"
   },
   {
    "duration": 6,
    "start_time": "2022-05-28T18:27:15.603Z"
   },
   {
    "duration": 11,
    "start_time": "2022-05-28T18:27:15.803Z"
   },
   {
    "duration": 22,
    "start_time": "2022-05-28T18:27:16.235Z"
   },
   {
    "duration": 10,
    "start_time": "2022-05-28T18:27:16.417Z"
   },
   {
    "duration": 20,
    "start_time": "2022-05-28T18:27:16.738Z"
   },
   {
    "duration": 8,
    "start_time": "2022-05-28T18:27:17.413Z"
   },
   {
    "duration": 16,
    "start_time": "2022-05-28T18:27:18.963Z"
   },
   {
    "duration": 9,
    "start_time": "2022-05-28T18:27:19.561Z"
   },
   {
    "duration": 17,
    "start_time": "2022-05-28T18:27:20.736Z"
   },
   {
    "duration": 20,
    "start_time": "2022-05-28T18:27:21.854Z"
   },
   {
    "duration": 9,
    "start_time": "2022-05-28T18:27:23.106Z"
   },
   {
    "duration": 21,
    "start_time": "2022-05-28T18:27:23.677Z"
   },
   {
    "duration": 8,
    "start_time": "2022-05-28T18:27:24.322Z"
   },
   {
    "duration": 20,
    "start_time": "2022-05-28T18:27:24.831Z"
   },
   {
    "duration": 8,
    "start_time": "2022-05-28T18:27:26.100Z"
   },
   {
    "duration": 10,
    "start_time": "2022-05-28T18:27:26.853Z"
   },
   {
    "duration": 9,
    "start_time": "2022-05-28T18:27:27.352Z"
   },
   {
    "duration": 10,
    "start_time": "2022-05-28T18:27:29.058Z"
   },
   {
    "duration": 6,
    "start_time": "2022-05-28T18:27:31.719Z"
   },
   {
    "duration": 8,
    "start_time": "2022-05-28T18:27:33.852Z"
   },
   {
    "duration": 12,
    "start_time": "2022-05-28T18:27:52.265Z"
   },
   {
    "duration": 28,
    "start_time": "2022-05-28T18:28:42.074Z"
   },
   {
    "duration": 20,
    "start_time": "2022-05-28T18:28:46.902Z"
   },
   {
    "duration": 22,
    "start_time": "2022-05-28T18:29:00.434Z"
   },
   {
    "duration": 11,
    "start_time": "2022-05-28T18:31:11.192Z"
   },
   {
    "duration": 8,
    "start_time": "2022-05-28T18:31:15.933Z"
   },
   {
    "duration": 10,
    "start_time": "2022-05-28T18:32:09.091Z"
   },
   {
    "duration": 13,
    "start_time": "2022-05-28T18:32:16.230Z"
   },
   {
    "duration": 13,
    "start_time": "2022-05-28T18:32:20.266Z"
   },
   {
    "duration": 10,
    "start_time": "2022-05-28T18:32:46.837Z"
   },
   {
    "duration": 7,
    "start_time": "2022-05-28T18:33:37.685Z"
   },
   {
    "duration": 8,
    "start_time": "2022-05-28T18:33:40.153Z"
   },
   {
    "duration": 7,
    "start_time": "2022-05-28T18:34:04.128Z"
   },
   {
    "duration": 5,
    "start_time": "2022-05-28T18:35:16.417Z"
   },
   {
    "duration": 7,
    "start_time": "2022-05-28T18:35:17.528Z"
   },
   {
    "duration": 7,
    "start_time": "2022-05-28T18:35:29.766Z"
   },
   {
    "duration": 11,
    "start_time": "2022-05-28T18:35:52.261Z"
   },
   {
    "duration": 16,
    "start_time": "2022-05-28T18:36:36.383Z"
   },
   {
    "duration": 8,
    "start_time": "2022-05-28T18:36:36.791Z"
   },
   {
    "duration": 5,
    "start_time": "2022-05-28T18:36:57.129Z"
   },
   {
    "duration": 8,
    "start_time": "2022-05-28T18:36:58.559Z"
   },
   {
    "duration": 8,
    "start_time": "2022-05-28T18:37:00.112Z"
   },
   {
    "duration": 11,
    "start_time": "2022-05-28T18:37:00.679Z"
   },
   {
    "duration": 8,
    "start_time": "2022-05-28T18:37:01.162Z"
   },
   {
    "duration": 9,
    "start_time": "2022-05-28T18:37:01.961Z"
   },
   {
    "duration": 7,
    "start_time": "2022-05-28T18:37:02.414Z"
   },
   {
    "duration": 7,
    "start_time": "2022-05-28T18:37:03.030Z"
   },
   {
    "duration": 8,
    "start_time": "2022-05-28T18:37:03.866Z"
   },
   {
    "duration": 9,
    "start_time": "2022-05-28T18:37:05.259Z"
   },
   {
    "duration": 9,
    "start_time": "2022-05-28T18:37:07.622Z"
   },
   {
    "duration": 10,
    "start_time": "2022-05-28T18:37:14.883Z"
   },
   {
    "duration": 19,
    "start_time": "2022-05-28T18:37:53.764Z"
   },
   {
    "duration": 9,
    "start_time": "2022-05-28T18:37:54.629Z"
   },
   {
    "duration": 21,
    "start_time": "2022-05-28T18:37:59.737Z"
   },
   {
    "duration": 8,
    "start_time": "2022-05-28T18:38:00.256Z"
   },
   {
    "duration": 19,
    "start_time": "2022-05-28T18:43:57.074Z"
   },
   {
    "duration": 8,
    "start_time": "2022-05-28T18:43:57.447Z"
   },
   {
    "duration": 20,
    "start_time": "2022-05-28T18:44:03.444Z"
   },
   {
    "duration": 8,
    "start_time": "2022-05-28T18:44:03.878Z"
   },
   {
    "duration": 20,
    "start_time": "2022-05-28T18:46:26.389Z"
   },
   {
    "duration": 8,
    "start_time": "2022-05-28T18:46:26.958Z"
   },
   {
    "duration": 20,
    "start_time": "2022-05-28T18:46:35.038Z"
   },
   {
    "duration": 8,
    "start_time": "2022-05-28T18:46:35.652Z"
   },
   {
    "duration": 341,
    "start_time": "2022-05-28T18:46:41.058Z"
   },
   {
    "duration": 12,
    "start_time": "2022-05-28T18:46:41.633Z"
   },
   {
    "duration": 15,
    "start_time": "2022-05-28T18:46:51.246Z"
   },
   {
    "duration": 9,
    "start_time": "2022-05-28T18:46:51.686Z"
   },
   {
    "duration": 7,
    "start_time": "2022-05-28T18:50:21.322Z"
   },
   {
    "duration": 12,
    "start_time": "2022-05-28T18:50:40.958Z"
   },
   {
    "duration": 4,
    "start_time": "2022-05-28T18:51:55.357Z"
   },
   {
    "duration": 12,
    "start_time": "2022-05-28T18:52:00.554Z"
   },
   {
    "duration": 13,
    "start_time": "2022-05-28T18:52:24.350Z"
   },
   {
    "duration": 11,
    "start_time": "2022-05-28T18:52:50.562Z"
   },
   {
    "duration": 15,
    "start_time": "2022-05-28T18:53:23.298Z"
   },
   {
    "duration": 14,
    "start_time": "2022-05-28T18:55:06.157Z"
   },
   {
    "duration": 12,
    "start_time": "2022-05-28T18:55:11.346Z"
   },
   {
    "duration": 21,
    "start_time": "2022-05-28T18:55:22.193Z"
   },
   {
    "duration": 6,
    "start_time": "2022-05-28T19:02:27.881Z"
   },
   {
    "duration": 14,
    "start_time": "2022-05-28T19:02:35.393Z"
   },
   {
    "duration": 38,
    "start_time": "2022-05-28T19:03:08.918Z"
   },
   {
    "duration": 31,
    "start_time": "2022-05-28T19:03:57.398Z"
   },
   {
    "duration": 29,
    "start_time": "2022-05-28T19:04:33.122Z"
   },
   {
    "duration": 27,
    "start_time": "2022-05-28T19:04:47.745Z"
   },
   {
    "duration": 29,
    "start_time": "2022-05-28T19:04:58.477Z"
   },
   {
    "duration": 16,
    "start_time": "2022-05-28T19:05:23.819Z"
   },
   {
    "duration": 8,
    "start_time": "2022-05-28T19:05:24.274Z"
   },
   {
    "duration": 47,
    "start_time": "2022-05-28T19:05:31.092Z"
   },
   {
    "duration": 15,
    "start_time": "2022-05-28T19:05:36.120Z"
   },
   {
    "duration": 15,
    "start_time": "2022-05-28T19:05:42.199Z"
   },
   {
    "duration": 8,
    "start_time": "2022-05-28T19:05:43.093Z"
   },
   {
    "duration": 14,
    "start_time": "2022-05-28T19:05:49.684Z"
   },
   {
    "duration": 7,
    "start_time": "2022-05-28T19:05:50.118Z"
   },
   {
    "duration": 19,
    "start_time": "2022-05-28T19:07:01.056Z"
   },
   {
    "duration": 363,
    "start_time": "2022-05-28T19:07:40.606Z"
   },
   {
    "duration": 425,
    "start_time": "2022-05-28T19:07:48.797Z"
   },
   {
    "duration": 336,
    "start_time": "2022-05-28T19:07:56.875Z"
   },
   {
    "duration": 355,
    "start_time": "2022-05-28T19:08:00.388Z"
   },
   {
    "duration": 24,
    "start_time": "2022-05-28T19:08:16.221Z"
   },
   {
    "duration": 18,
    "start_time": "2022-05-28T19:08:25.019Z"
   },
   {
    "duration": 13,
    "start_time": "2022-05-28T19:09:14.493Z"
   },
   {
    "duration": 27,
    "start_time": "2022-05-28T19:09:26.367Z"
   },
   {
    "duration": 20,
    "start_time": "2022-05-28T19:10:07.455Z"
   },
   {
    "duration": 18,
    "start_time": "2022-05-28T19:10:15.825Z"
   },
   {
    "duration": 19,
    "start_time": "2022-05-28T19:10:28.279Z"
   },
   {
    "duration": 19,
    "start_time": "2022-05-28T19:10:42.032Z"
   },
   {
    "duration": 18,
    "start_time": "2022-05-28T19:12:19.124Z"
   },
   {
    "duration": 19,
    "start_time": "2022-05-28T19:12:31.283Z"
   },
   {
    "duration": 17,
    "start_time": "2022-05-28T19:14:18.070Z"
   },
   {
    "duration": 9,
    "start_time": "2022-05-28T19:15:39.226Z"
   },
   {
    "duration": 4,
    "start_time": "2022-05-28T19:15:44.254Z"
   },
   {
    "duration": 10,
    "start_time": "2022-05-28T19:15:48.254Z"
   },
   {
    "duration": 41,
    "start_time": "2022-05-28T19:15:58.069Z"
   },
   {
    "duration": 3,
    "start_time": "2022-05-28T19:18:14.067Z"
   },
   {
    "duration": 10,
    "start_time": "2022-05-28T19:18:20.315Z"
   },
   {
    "duration": 9,
    "start_time": "2022-05-28T19:19:10.452Z"
   },
   {
    "duration": 25,
    "start_time": "2022-05-28T19:19:18.152Z"
   },
   {
    "duration": 24,
    "start_time": "2022-05-28T19:19:52.852Z"
   },
   {
    "duration": 4,
    "start_time": "2022-05-28T19:26:21.207Z"
   },
   {
    "duration": 22,
    "start_time": "2022-05-28T19:26:31.142Z"
   },
   {
    "duration": 29,
    "start_time": "2022-05-28T19:27:07.628Z"
   },
   {
    "duration": 31,
    "start_time": "2022-05-28T19:27:23.722Z"
   },
   {
    "duration": 28,
    "start_time": "2022-05-28T19:27:33.525Z"
   },
   {
    "duration": 35,
    "start_time": "2022-05-28T19:29:00.157Z"
   },
   {
    "duration": 4,
    "start_time": "2022-05-28T19:29:54.728Z"
   },
   {
    "duration": 30,
    "start_time": "2022-05-28T19:30:06.935Z"
   },
   {
    "duration": 44,
    "start_time": "2022-05-28T19:30:22.433Z"
   },
   {
    "duration": 21,
    "start_time": "2022-05-28T19:30:43.622Z"
   },
   {
    "duration": 23,
    "start_time": "2022-05-28T19:30:52.622Z"
   },
   {
    "duration": 5,
    "start_time": "2022-05-28T19:41:45.648Z"
   },
   {
    "duration": 28,
    "start_time": "2022-05-28T19:41:53.092Z"
   },
   {
    "duration": 6,
    "start_time": "2022-05-28T19:45:16.824Z"
   },
   {
    "duration": 20,
    "start_time": "2022-05-28T19:45:24.920Z"
   },
   {
    "duration": 20,
    "start_time": "2022-05-28T19:45:45.760Z"
   },
   {
    "duration": 14,
    "start_time": "2022-05-28T19:49:26.827Z"
   },
   {
    "duration": 456,
    "start_time": "2022-05-28T19:49:51.510Z"
   },
   {
    "duration": 212,
    "start_time": "2022-05-28T19:49:51.968Z"
   },
   {
    "duration": 155,
    "start_time": "2022-05-28T19:49:52.182Z"
   },
   {
    "duration": 98,
    "start_time": "2022-05-28T19:49:52.339Z"
   },
   {
    "duration": 16,
    "start_time": "2022-05-28T19:49:52.439Z"
   },
   {
    "duration": 30,
    "start_time": "2022-05-28T19:49:52.457Z"
   },
   {
    "duration": 22,
    "start_time": "2022-05-28T19:49:52.489Z"
   },
   {
    "duration": 37,
    "start_time": "2022-05-28T19:49:52.514Z"
   },
   {
    "duration": 9,
    "start_time": "2022-05-28T19:49:52.552Z"
   },
   {
    "duration": 44,
    "start_time": "2022-05-28T19:49:52.563Z"
   },
   {
    "duration": 8,
    "start_time": "2022-05-28T19:49:52.609Z"
   },
   {
    "duration": 30,
    "start_time": "2022-05-28T19:49:52.619Z"
   },
   {
    "duration": 9,
    "start_time": "2022-05-28T19:49:52.650Z"
   },
   {
    "duration": 35,
    "start_time": "2022-05-28T19:49:52.660Z"
   },
   {
    "duration": 23,
    "start_time": "2022-05-28T19:49:52.698Z"
   },
   {
    "duration": 20,
    "start_time": "2022-05-28T19:49:52.723Z"
   },
   {
    "duration": 29,
    "start_time": "2022-05-28T19:49:52.744Z"
   },
   {
    "duration": 44,
    "start_time": "2022-05-28T19:49:52.775Z"
   },
   {
    "duration": 19,
    "start_time": "2022-05-28T19:49:52.820Z"
   },
   {
    "duration": 24,
    "start_time": "2022-05-28T19:49:52.840Z"
   },
   {
    "duration": 49,
    "start_time": "2022-05-28T19:49:52.866Z"
   },
   {
    "duration": 17,
    "start_time": "2022-05-28T19:49:52.916Z"
   },
   {
    "duration": 18,
    "start_time": "2022-05-28T19:49:52.935Z"
   },
   {
    "duration": 49,
    "start_time": "2022-05-28T19:49:52.954Z"
   },
   {
    "duration": 16,
    "start_time": "2022-05-28T19:49:53.006Z"
   },
   {
    "duration": 9,
    "start_time": "2022-05-28T19:49:53.023Z"
   },
   {
    "duration": 12,
    "start_time": "2022-05-28T19:49:53.033Z"
   },
   {
    "duration": 9,
    "start_time": "2022-05-28T19:49:53.049Z"
   },
   {
    "duration": 15,
    "start_time": "2022-05-28T19:49:53.060Z"
   },
   {
    "duration": 61,
    "start_time": "2022-05-28T19:49:53.077Z"
   },
   {
    "duration": 38,
    "start_time": "2022-05-28T19:49:53.140Z"
   },
   {
    "duration": 26,
    "start_time": "2022-05-28T19:49:53.180Z"
   },
   {
    "duration": 26,
    "start_time": "2022-05-28T19:49:53.208Z"
   },
   {
    "duration": 5,
    "start_time": "2022-05-28T19:49:53.236Z"
   },
   {
    "duration": 13,
    "start_time": "2022-05-28T19:49:53.243Z"
   },
   {
    "duration": 26,
    "start_time": "2022-05-28T19:49:53.258Z"
   },
   {
    "duration": 20,
    "start_time": "2022-05-28T19:49:53.286Z"
   },
   {
    "duration": 40,
    "start_time": "2022-05-28T19:49:53.309Z"
   },
   {
    "duration": 11,
    "start_time": "2022-05-28T19:49:53.351Z"
   },
   {
    "duration": 35,
    "start_time": "2022-05-28T19:49:53.364Z"
   },
   {
    "duration": 34,
    "start_time": "2022-05-28T19:49:53.401Z"
   },
   {
    "duration": 14,
    "start_time": "2022-05-28T19:49:53.437Z"
   },
   {
    "duration": 8,
    "start_time": "2022-05-28T19:49:53.453Z"
   },
   {
    "duration": 47,
    "start_time": "2022-05-28T19:49:53.462Z"
   },
   {
    "duration": 22,
    "start_time": "2022-05-28T19:49:53.512Z"
   },
   {
    "duration": 12,
    "start_time": "2022-05-28T19:49:53.536Z"
   },
   {
    "duration": 44,
    "start_time": "2022-05-28T19:49:53.550Z"
   },
   {
    "duration": 10,
    "start_time": "2022-05-28T19:49:53.596Z"
   },
   {
    "duration": 17,
    "start_time": "2022-05-28T19:49:53.608Z"
   },
   {
    "duration": 13,
    "start_time": "2022-05-28T19:49:53.628Z"
   },
   {
    "duration": 16,
    "start_time": "2022-05-28T19:49:53.643Z"
   },
   {
    "duration": 15,
    "start_time": "2022-05-28T19:49:53.660Z"
   },
   {
    "duration": 12,
    "start_time": "2022-05-28T19:49:53.677Z"
   },
   {
    "duration": 21,
    "start_time": "2022-05-28T19:49:53.695Z"
   },
   {
    "duration": 11,
    "start_time": "2022-05-28T19:49:53.718Z"
   },
   {
    "duration": 26,
    "start_time": "2022-05-28T19:49:53.731Z"
   },
   {
    "duration": 17,
    "start_time": "2022-05-28T19:49:53.759Z"
   },
   {
    "duration": 18,
    "start_time": "2022-05-28T19:49:53.779Z"
   },
   {
    "duration": 26,
    "start_time": "2022-05-28T19:49:53.800Z"
   },
   {
    "duration": 15,
    "start_time": "2022-05-28T19:49:53.828Z"
   },
   {
    "duration": 9,
    "start_time": "2022-05-28T19:49:53.845Z"
   },
   {
    "duration": 25,
    "start_time": "2022-05-28T19:49:53.856Z"
   },
   {
    "duration": 26,
    "start_time": "2022-05-28T19:49:53.882Z"
   },
   {
    "duration": 15,
    "start_time": "2022-05-28T19:49:53.911Z"
   },
   {
    "duration": 22,
    "start_time": "2022-05-28T19:49:53.928Z"
   },
   {
    "duration": 11,
    "start_time": "2022-05-28T19:49:53.952Z"
   },
   {
    "duration": 13,
    "start_time": "2022-05-28T19:49:53.965Z"
   },
   {
    "duration": 36,
    "start_time": "2022-05-28T19:49:53.980Z"
   },
   {
    "duration": 5,
    "start_time": "2022-05-28T19:49:54.019Z"
   },
   {
    "duration": 35,
    "start_time": "2022-05-28T19:49:54.026Z"
   },
   {
    "duration": 126,
    "start_time": "2022-05-28T19:49:54.063Z"
   },
   {
    "duration": 0,
    "start_time": "2022-05-28T19:49:54.191Z"
   },
   {
    "duration": 0,
    "start_time": "2022-05-28T19:49:54.193Z"
   },
   {
    "duration": 0,
    "start_time": "2022-05-28T19:49:54.196Z"
   },
   {
    "duration": 0,
    "start_time": "2022-05-28T19:49:54.197Z"
   },
   {
    "duration": 0,
    "start_time": "2022-05-28T19:49:54.199Z"
   },
   {
    "duration": 0,
    "start_time": "2022-05-28T19:49:54.200Z"
   },
   {
    "duration": 0,
    "start_time": "2022-05-28T19:49:54.201Z"
   },
   {
    "duration": 0,
    "start_time": "2022-05-28T19:49:54.202Z"
   },
   {
    "duration": 4,
    "start_time": "2022-05-28T19:50:10.517Z"
   },
   {
    "duration": 27,
    "start_time": "2022-05-28T19:50:11.388Z"
   },
   {
    "duration": 23,
    "start_time": "2022-05-28T19:50:24.026Z"
   },
   {
    "duration": 5,
    "start_time": "2022-05-28T19:50:28.783Z"
   },
   {
    "duration": 21,
    "start_time": "2022-05-28T19:50:31.713Z"
   },
   {
    "duration": 5,
    "start_time": "2022-05-28T19:50:38.294Z"
   },
   {
    "duration": 23,
    "start_time": "2022-05-28T19:50:38.727Z"
   },
   {
    "duration": 5,
    "start_time": "2022-05-28T19:50:45.376Z"
   },
   {
    "duration": 21,
    "start_time": "2022-05-28T19:50:45.816Z"
   },
   {
    "duration": 6,
    "start_time": "2022-05-28T19:50:59.955Z"
   },
   {
    "duration": 22,
    "start_time": "2022-05-28T19:51:00.640Z"
   },
   {
    "duration": 12,
    "start_time": "2022-05-28T19:51:04.537Z"
   },
   {
    "duration": 126,
    "start_time": "2022-05-28T19:51:38.816Z"
   },
   {
    "duration": 48,
    "start_time": "2022-05-28T19:53:07.828Z"
   },
   {
    "duration": 19,
    "start_time": "2022-05-28T19:55:59.416Z"
   },
   {
    "duration": 21,
    "start_time": "2022-05-28T19:56:16.670Z"
   },
   {
    "duration": 8,
    "start_time": "2022-05-28T19:56:42.116Z"
   },
   {
    "duration": 37,
    "start_time": "2022-05-28T19:56:45.608Z"
   },
   {
    "duration": 13,
    "start_time": "2022-05-28T19:57:19.749Z"
   },
   {
    "duration": 38,
    "start_time": "2022-05-28T19:57:26.846Z"
   },
   {
    "duration": 11,
    "start_time": "2022-05-28T19:57:36.170Z"
   },
   {
    "duration": 35,
    "start_time": "2022-05-28T19:58:24.125Z"
   },
   {
    "duration": 43,
    "start_time": "2022-05-28T19:58:37.246Z"
   },
   {
    "duration": 65,
    "start_time": "2022-05-28T20:01:27.646Z"
   },
   {
    "duration": 8,
    "start_time": "2022-05-28T20:01:44.148Z"
   },
   {
    "duration": 4,
    "start_time": "2022-05-28T20:01:52.355Z"
   },
   {
    "duration": 8,
    "start_time": "2022-05-28T20:01:58.091Z"
   },
   {
    "duration": 5,
    "start_time": "2022-05-28T20:02:10.648Z"
   },
   {
    "duration": 6,
    "start_time": "2022-05-28T20:02:20.614Z"
   },
   {
    "duration": 24,
    "start_time": "2022-05-28T20:02:24.631Z"
   },
   {
    "duration": 12,
    "start_time": "2022-05-28T20:04:49.945Z"
   },
   {
    "duration": 11,
    "start_time": "2022-05-28T20:05:21.621Z"
   },
   {
    "duration": 15,
    "start_time": "2022-05-28T20:06:18.997Z"
   },
   {
    "duration": 1808,
    "start_time": "2022-05-28T20:08:04.645Z"
   },
   {
    "duration": 6,
    "start_time": "2022-05-28T20:08:55.189Z"
   },
   {
    "duration": 10,
    "start_time": "2022-05-28T20:10:16.860Z"
   },
   {
    "duration": 1372,
    "start_time": "2022-05-28T20:10:32.567Z"
   },
   {
    "duration": 195,
    "start_time": "2022-05-28T20:10:38.847Z"
   },
   {
    "duration": 99,
    "start_time": "2022-05-28T20:10:54.418Z"
   },
   {
    "duration": 177,
    "start_time": "2022-05-28T20:12:04.611Z"
   },
   {
    "duration": 209,
    "start_time": "2022-05-28T20:12:21.930Z"
   },
   {
    "duration": 387,
    "start_time": "2022-05-28T20:12:31.678Z"
   },
   {
    "duration": 293,
    "start_time": "2022-05-28T20:12:48.620Z"
   },
   {
    "duration": 431,
    "start_time": "2022-05-28T20:13:25.748Z"
   },
   {
    "duration": 339,
    "start_time": "2022-05-28T20:13:37.448Z"
   },
   {
    "duration": 500,
    "start_time": "2022-05-28T20:13:54.585Z"
   },
   {
    "duration": 361,
    "start_time": "2022-05-28T20:14:00.685Z"
   },
   {
    "duration": 168,
    "start_time": "2022-05-28T20:15:12.058Z"
   },
   {
    "duration": 158,
    "start_time": "2022-05-28T20:15:26.200Z"
   },
   {
    "duration": 368,
    "start_time": "2022-05-28T20:16:44.391Z"
   },
   {
    "duration": 382,
    "start_time": "2022-05-28T20:16:51.159Z"
   },
   {
    "duration": 318,
    "start_time": "2022-05-28T20:17:30.622Z"
   },
   {
    "duration": 339,
    "start_time": "2022-05-28T20:17:50.501Z"
   },
   {
    "duration": 38,
    "start_time": "2022-05-28T20:19:56.822Z"
   },
   {
    "duration": 29,
    "start_time": "2022-05-28T20:20:01.445Z"
   },
   {
    "duration": 328,
    "start_time": "2022-05-28T20:20:30.593Z"
   },
   {
    "duration": 450,
    "start_time": "2022-05-28T20:20:49.653Z"
   },
   {
    "duration": 317,
    "start_time": "2022-05-28T20:21:04.184Z"
   },
   {
    "duration": 10,
    "start_time": "2022-05-28T20:34:29.484Z"
   },
   {
    "duration": 11,
    "start_time": "2022-05-28T20:34:53.089Z"
   },
   {
    "duration": 5,
    "start_time": "2022-05-28T20:35:04.775Z"
   },
   {
    "duration": 12,
    "start_time": "2022-05-28T20:35:07.989Z"
   },
   {
    "duration": 10,
    "start_time": "2022-05-28T20:36:25.300Z"
   },
   {
    "duration": 19,
    "start_time": "2022-05-28T20:36:31.704Z"
   },
   {
    "duration": 17,
    "start_time": "2022-05-28T20:36:36.137Z"
   },
   {
    "duration": 8,
    "start_time": "2022-05-28T20:49:28.749Z"
   },
   {
    "duration": 8,
    "start_time": "2022-05-28T20:56:55.625Z"
   },
   {
    "duration": 38,
    "start_time": "2022-05-28T21:09:48.608Z"
   },
   {
    "duration": 12,
    "start_time": "2022-05-28T21:15:57.641Z"
   },
   {
    "duration": 11,
    "start_time": "2022-05-28T21:20:40.354Z"
   },
   {
    "duration": 3,
    "start_time": "2022-05-28T21:21:13.047Z"
   },
   {
    "duration": 10,
    "start_time": "2022-05-28T21:21:18.954Z"
   },
   {
    "duration": 21,
    "start_time": "2022-05-28T21:25:29.964Z"
   },
   {
    "duration": 19,
    "start_time": "2022-05-28T21:30:03.041Z"
   },
   {
    "duration": 7,
    "start_time": "2022-05-28T21:30:39.072Z"
   },
   {
    "duration": 8,
    "start_time": "2022-05-28T21:31:38.483Z"
   },
   {
    "duration": 7,
    "start_time": "2022-05-28T21:31:46.875Z"
   },
   {
    "duration": 7,
    "start_time": "2022-05-28T21:34:57.395Z"
   },
   {
    "duration": 26,
    "start_time": "2022-05-28T21:36:25.656Z"
   },
   {
    "duration": 28,
    "start_time": "2022-05-28T21:41:17.289Z"
   },
   {
    "duration": 9,
    "start_time": "2022-05-28T21:46:36.241Z"
   },
   {
    "duration": 105,
    "start_time": "2022-05-28T21:46:44.909Z"
   },
   {
    "duration": 108,
    "start_time": "2022-05-28T21:47:27.093Z"
   },
   {
    "duration": 40,
    "start_time": "2022-05-28T21:47:41.984Z"
   },
   {
    "duration": 49,
    "start_time": "2022-05-28T21:47:53.152Z"
   },
   {
    "duration": 1207,
    "start_time": "2022-05-28T22:08:38.478Z"
   },
   {
    "duration": 218,
    "start_time": "2022-05-28T22:08:39.687Z"
   },
   {
    "duration": 304,
    "start_time": "2022-05-28T22:08:39.906Z"
   },
   {
    "duration": 303,
    "start_time": "2022-05-28T22:08:40.213Z"
   },
   {
    "duration": 47,
    "start_time": "2022-05-28T22:08:40.518Z"
   },
   {
    "duration": 42,
    "start_time": "2022-05-28T22:08:40.567Z"
   },
   {
    "duration": 14,
    "start_time": "2022-05-28T22:08:40.610Z"
   },
   {
    "duration": 36,
    "start_time": "2022-05-28T22:08:40.626Z"
   },
   {
    "duration": 9,
    "start_time": "2022-05-28T22:08:40.664Z"
   },
   {
    "duration": 25,
    "start_time": "2022-05-28T22:08:40.676Z"
   },
   {
    "duration": 8,
    "start_time": "2022-05-28T22:08:40.703Z"
   },
   {
    "duration": 25,
    "start_time": "2022-05-28T22:08:40.713Z"
   },
   {
    "duration": 7,
    "start_time": "2022-05-28T22:08:40.740Z"
   },
   {
    "duration": 11,
    "start_time": "2022-05-28T22:08:40.749Z"
   },
   {
    "duration": 11,
    "start_time": "2022-05-28T22:08:40.761Z"
   },
   {
    "duration": 11,
    "start_time": "2022-05-28T22:08:40.793Z"
   },
   {
    "duration": 25,
    "start_time": "2022-05-28T22:08:40.805Z"
   },
   {
    "duration": 32,
    "start_time": "2022-05-28T22:08:40.832Z"
   },
   {
    "duration": 33,
    "start_time": "2022-05-28T22:08:40.865Z"
   },
   {
    "duration": 19,
    "start_time": "2022-05-28T22:08:40.899Z"
   },
   {
    "duration": 22,
    "start_time": "2022-05-28T22:08:40.920Z"
   },
   {
    "duration": 15,
    "start_time": "2022-05-28T22:08:40.944Z"
   },
   {
    "duration": 44,
    "start_time": "2022-05-28T22:08:40.961Z"
   },
   {
    "duration": 19,
    "start_time": "2022-05-28T22:08:41.007Z"
   },
   {
    "duration": 13,
    "start_time": "2022-05-28T22:08:41.028Z"
   },
   {
    "duration": 9,
    "start_time": "2022-05-28T22:08:41.043Z"
   },
   {
    "duration": 11,
    "start_time": "2022-05-28T22:08:41.054Z"
   },
   {
    "duration": 8,
    "start_time": "2022-05-28T22:08:41.093Z"
   },
   {
    "duration": 14,
    "start_time": "2022-05-28T22:08:41.102Z"
   },
   {
    "duration": 34,
    "start_time": "2022-05-28T22:08:41.118Z"
   },
   {
    "duration": 46,
    "start_time": "2022-05-28T22:08:41.154Z"
   },
   {
    "duration": 9,
    "start_time": "2022-05-28T22:08:41.201Z"
   },
   {
    "duration": 16,
    "start_time": "2022-05-28T22:08:41.212Z"
   },
   {
    "duration": 126,
    "start_time": "2022-05-28T22:08:41.229Z"
   },
   {
    "duration": 50,
    "start_time": "2022-05-28T22:08:41.357Z"
   },
   {
    "duration": 39,
    "start_time": "2022-05-28T22:08:41.408Z"
   },
   {
    "duration": 4,
    "start_time": "2022-05-28T22:08:41.448Z"
   },
   {
    "duration": 13,
    "start_time": "2022-05-28T22:08:41.454Z"
   },
   {
    "duration": 42,
    "start_time": "2022-05-28T22:08:41.468Z"
   },
   {
    "duration": 9,
    "start_time": "2022-05-28T22:08:41.512Z"
   },
   {
    "duration": 22,
    "start_time": "2022-05-28T22:08:41.523Z"
   },
   {
    "duration": 8,
    "start_time": "2022-05-28T22:08:41.547Z"
   },
   {
    "duration": 43,
    "start_time": "2022-05-28T22:08:41.557Z"
   },
   {
    "duration": 25,
    "start_time": "2022-05-28T22:08:41.602Z"
   },
   {
    "duration": 13,
    "start_time": "2022-05-28T22:08:41.629Z"
   },
   {
    "duration": 8,
    "start_time": "2022-05-28T22:08:41.644Z"
   },
   {
    "duration": 41,
    "start_time": "2022-05-28T22:08:41.653Z"
   },
   {
    "duration": 16,
    "start_time": "2022-05-28T22:08:41.696Z"
   },
   {
    "duration": 8,
    "start_time": "2022-05-28T22:08:41.714Z"
   },
   {
    "duration": 18,
    "start_time": "2022-05-28T22:08:41.724Z"
   },
   {
    "duration": 7,
    "start_time": "2022-05-28T22:08:41.744Z"
   },
   {
    "duration": 9,
    "start_time": "2022-05-28T22:08:41.753Z"
   },
   {
    "duration": 7,
    "start_time": "2022-05-28T22:08:41.763Z"
   },
   {
    "duration": 8,
    "start_time": "2022-05-28T22:08:41.793Z"
   },
   {
    "duration": 20,
    "start_time": "2022-05-28T22:08:41.803Z"
   },
   {
    "duration": 18,
    "start_time": "2022-05-28T22:08:41.825Z"
   },
   {
    "duration": 12,
    "start_time": "2022-05-28T22:08:41.844Z"
   },
   {
    "duration": 16,
    "start_time": "2022-05-28T22:08:41.857Z"
   },
   {
    "duration": 15,
    "start_time": "2022-05-28T22:08:41.875Z"
   },
   {
    "duration": 18,
    "start_time": "2022-05-28T22:08:41.892Z"
   },
   {
    "duration": 12,
    "start_time": "2022-05-28T22:08:41.912Z"
   },
   {
    "duration": 25,
    "start_time": "2022-05-28T22:08:41.925Z"
   },
   {
    "duration": 9,
    "start_time": "2022-05-28T22:08:41.952Z"
   },
   {
    "duration": 12,
    "start_time": "2022-05-28T22:08:41.963Z"
   },
   {
    "duration": 27,
    "start_time": "2022-05-28T22:08:41.976Z"
   },
   {
    "duration": 18,
    "start_time": "2022-05-28T22:08:42.004Z"
   },
   {
    "duration": 33,
    "start_time": "2022-05-28T22:08:42.023Z"
   },
   {
    "duration": 31,
    "start_time": "2022-05-28T22:08:42.058Z"
   },
   {
    "duration": 8,
    "start_time": "2022-05-28T22:08:42.090Z"
   },
   {
    "duration": 25,
    "start_time": "2022-05-28T22:08:42.099Z"
   },
   {
    "duration": 24,
    "start_time": "2022-05-28T22:08:42.126Z"
   },
   {
    "duration": 4,
    "start_time": "2022-05-28T22:08:42.151Z"
   },
   {
    "duration": 27,
    "start_time": "2022-05-28T22:08:42.156Z"
   },
   {
    "duration": 9,
    "start_time": "2022-05-28T22:08:42.185Z"
   },
   {
    "duration": 29,
    "start_time": "2022-05-28T22:08:42.195Z"
   },
   {
    "duration": 4,
    "start_time": "2022-05-28T22:08:42.226Z"
   },
   {
    "duration": 27,
    "start_time": "2022-05-28T22:08:42.232Z"
   },
   {
    "duration": 8,
    "start_time": "2022-05-28T22:08:42.261Z"
   },
   {
    "duration": 28,
    "start_time": "2022-05-28T22:08:42.271Z"
   },
   {
    "duration": 5,
    "start_time": "2022-05-28T22:08:42.301Z"
   },
   {
    "duration": 28,
    "start_time": "2022-05-28T22:08:42.308Z"
   },
   {
    "duration": 25,
    "start_time": "2022-05-28T22:08:42.341Z"
   },
   {
    "duration": 28,
    "start_time": "2022-05-28T22:08:42.367Z"
   },
   {
    "duration": 12,
    "start_time": "2022-05-28T22:08:42.397Z"
   },
   {
    "duration": 22,
    "start_time": "2022-05-28T22:08:42.410Z"
   },
   {
    "duration": 463,
    "start_time": "2022-05-28T22:08:42.434Z"
   },
   {
    "duration": 315,
    "start_time": "2022-05-28T22:08:42.898Z"
   },
   {
    "duration": 317,
    "start_time": "2022-05-28T22:08:43.215Z"
   },
   {
    "duration": 300,
    "start_time": "2022-05-28T22:08:43.534Z"
   },
   {
    "duration": 287,
    "start_time": "2022-05-28T22:08:43.836Z"
   },
   {
    "duration": 302,
    "start_time": "2022-05-28T22:08:44.124Z"
   },
   {
    "duration": 8,
    "start_time": "2022-05-28T22:08:44.428Z"
   },
   {
    "duration": 14,
    "start_time": "2022-05-28T22:08:44.438Z"
   },
   {
    "duration": 8,
    "start_time": "2022-05-28T22:08:44.454Z"
   },
   {
    "duration": 7,
    "start_time": "2022-05-28T22:08:44.464Z"
   },
   {
    "duration": 1468,
    "start_time": "2022-05-29T22:13:14.042Z"
   },
   {
    "duration": 239,
    "start_time": "2022-05-29T22:13:15.513Z"
   },
   {
    "duration": 343,
    "start_time": "2022-05-29T22:13:15.754Z"
   },
   {
    "duration": 313,
    "start_time": "2022-05-29T22:13:16.099Z"
   },
   {
    "duration": 55,
    "start_time": "2022-05-29T22:13:16.414Z"
   },
   {
    "duration": 54,
    "start_time": "2022-05-29T22:13:16.471Z"
   },
   {
    "duration": 14,
    "start_time": "2022-05-29T22:13:16.527Z"
   },
   {
    "duration": 33,
    "start_time": "2022-05-29T22:13:16.543Z"
   },
   {
    "duration": 11,
    "start_time": "2022-05-29T22:13:16.578Z"
   },
   {
    "duration": 32,
    "start_time": "2022-05-29T22:13:16.593Z"
   },
   {
    "duration": 9,
    "start_time": "2022-05-29T22:13:16.627Z"
   },
   {
    "duration": 40,
    "start_time": "2022-05-29T22:13:16.638Z"
   },
   {
    "duration": 8,
    "start_time": "2022-05-29T22:13:16.680Z"
   },
   {
    "duration": 14,
    "start_time": "2022-05-29T22:13:16.690Z"
   },
   {
    "duration": 16,
    "start_time": "2022-05-29T22:13:16.706Z"
   },
   {
    "duration": 12,
    "start_time": "2022-05-29T22:13:16.725Z"
   },
   {
    "duration": 53,
    "start_time": "2022-05-29T22:13:16.739Z"
   },
   {
    "duration": 37,
    "start_time": "2022-05-29T22:13:16.794Z"
   },
   {
    "duration": 33,
    "start_time": "2022-05-29T22:13:16.832Z"
   },
   {
    "duration": 24,
    "start_time": "2022-05-29T22:13:16.866Z"
   },
   {
    "duration": 26,
    "start_time": "2022-05-29T22:13:16.892Z"
   },
   {
    "duration": 45,
    "start_time": "2022-05-29T22:13:16.920Z"
   },
   {
    "duration": 21,
    "start_time": "2022-05-29T22:13:16.968Z"
   },
   {
    "duration": 21,
    "start_time": "2022-05-29T22:13:16.990Z"
   },
   {
    "duration": 15,
    "start_time": "2022-05-29T22:13:17.013Z"
   },
   {
    "duration": 39,
    "start_time": "2022-05-29T22:13:17.030Z"
   },
   {
    "duration": 11,
    "start_time": "2022-05-29T22:13:17.071Z"
   },
   {
    "duration": 6,
    "start_time": "2022-05-29T22:13:17.087Z"
   },
   {
    "duration": 19,
    "start_time": "2022-05-29T22:13:17.095Z"
   },
   {
    "duration": 65,
    "start_time": "2022-05-29T22:13:17.116Z"
   },
   {
    "duration": 37,
    "start_time": "2022-05-29T22:13:17.183Z"
   },
   {
    "duration": 9,
    "start_time": "2022-05-29T22:13:17.222Z"
   },
   {
    "duration": 45,
    "start_time": "2022-05-29T22:13:17.233Z"
   },
   {
    "duration": 131,
    "start_time": "2022-05-29T22:13:17.280Z"
   },
   {
    "duration": 59,
    "start_time": "2022-05-29T22:13:17.413Z"
   },
   {
    "duration": 48,
    "start_time": "2022-05-29T22:13:17.474Z"
   },
   {
    "duration": 4,
    "start_time": "2022-05-29T22:13:17.524Z"
   },
   {
    "duration": 36,
    "start_time": "2022-05-29T22:13:17.530Z"
   },
   {
    "duration": 25,
    "start_time": "2022-05-29T22:13:17.568Z"
   },
   {
    "duration": 12,
    "start_time": "2022-05-29T22:13:17.594Z"
   },
   {
    "duration": 22,
    "start_time": "2022-05-29T22:13:17.608Z"
   },
   {
    "duration": 34,
    "start_time": "2022-05-29T22:13:17.632Z"
   },
   {
    "duration": 22,
    "start_time": "2022-05-29T22:13:17.668Z"
   },
   {
    "duration": 29,
    "start_time": "2022-05-29T22:13:17.692Z"
   },
   {
    "duration": 48,
    "start_time": "2022-05-29T22:13:17.723Z"
   },
   {
    "duration": 9,
    "start_time": "2022-05-29T22:13:17.773Z"
   },
   {
    "duration": 22,
    "start_time": "2022-05-29T22:13:17.785Z"
   },
   {
    "duration": 19,
    "start_time": "2022-05-29T22:13:17.809Z"
   },
   {
    "duration": 37,
    "start_time": "2022-05-29T22:13:17.829Z"
   },
   {
    "duration": 17,
    "start_time": "2022-05-29T22:13:17.868Z"
   },
   {
    "duration": 8,
    "start_time": "2022-05-29T22:13:17.887Z"
   },
   {
    "duration": 7,
    "start_time": "2022-05-29T22:13:17.897Z"
   },
   {
    "duration": 10,
    "start_time": "2022-05-29T22:13:17.906Z"
   },
   {
    "duration": 47,
    "start_time": "2022-05-29T22:13:17.918Z"
   },
   {
    "duration": 13,
    "start_time": "2022-05-29T22:13:17.967Z"
   },
   {
    "duration": 10,
    "start_time": "2022-05-29T22:13:17.982Z"
   },
   {
    "duration": 11,
    "start_time": "2022-05-29T22:13:17.994Z"
   },
   {
    "duration": 9,
    "start_time": "2022-05-29T22:13:18.007Z"
   },
   {
    "duration": 9,
    "start_time": "2022-05-29T22:13:18.018Z"
   },
   {
    "duration": 10,
    "start_time": "2022-05-29T22:13:18.065Z"
   },
   {
    "duration": 11,
    "start_time": "2022-05-29T22:13:18.077Z"
   },
   {
    "duration": 11,
    "start_time": "2022-05-29T22:13:18.089Z"
   },
   {
    "duration": 11,
    "start_time": "2022-05-29T22:13:18.102Z"
   },
   {
    "duration": 8,
    "start_time": "2022-05-29T22:13:18.114Z"
   },
   {
    "duration": 46,
    "start_time": "2022-05-29T22:13:18.123Z"
   },
   {
    "duration": 15,
    "start_time": "2022-05-29T22:13:18.171Z"
   },
   {
    "duration": 10,
    "start_time": "2022-05-29T22:13:18.188Z"
   },
   {
    "duration": 15,
    "start_time": "2022-05-29T22:13:18.200Z"
   },
   {
    "duration": 7,
    "start_time": "2022-05-29T22:13:18.217Z"
   },
   {
    "duration": 10,
    "start_time": "2022-05-29T22:13:18.226Z"
   },
   {
    "duration": 44,
    "start_time": "2022-05-29T22:13:18.238Z"
   },
   {
    "duration": 4,
    "start_time": "2022-05-29T22:13:18.284Z"
   },
   {
    "duration": 19,
    "start_time": "2022-05-29T22:13:18.289Z"
   },
   {
    "duration": 8,
    "start_time": "2022-05-29T22:13:18.310Z"
   },
   {
    "duration": 49,
    "start_time": "2022-05-29T22:13:18.320Z"
   },
   {
    "duration": 5,
    "start_time": "2022-05-29T22:13:18.371Z"
   },
   {
    "duration": 25,
    "start_time": "2022-05-29T22:13:18.377Z"
   },
   {
    "duration": 5,
    "start_time": "2022-05-29T22:13:18.404Z"
   },
   {
    "duration": 26,
    "start_time": "2022-05-29T22:13:18.410Z"
   },
   {
    "duration": 30,
    "start_time": "2022-05-29T22:13:18.438Z"
   },
   {
    "duration": 28,
    "start_time": "2022-05-29T22:13:18.470Z"
   },
   {
    "duration": 32,
    "start_time": "2022-05-29T22:13:18.504Z"
   },
   {
    "duration": 32,
    "start_time": "2022-05-29T22:13:18.537Z"
   },
   {
    "duration": 15,
    "start_time": "2022-05-29T22:13:18.570Z"
   },
   {
    "duration": 14,
    "start_time": "2022-05-29T22:13:18.587Z"
   },
   {
    "duration": 599,
    "start_time": "2022-05-29T22:13:18.603Z"
   },
   {
    "duration": 351,
    "start_time": "2022-05-29T22:13:19.204Z"
   },
   {
    "duration": 362,
    "start_time": "2022-05-29T22:13:19.557Z"
   },
   {
    "duration": 365,
    "start_time": "2022-05-29T22:13:19.921Z"
   },
   {
    "duration": 322,
    "start_time": "2022-05-29T22:13:20.289Z"
   },
   {
    "duration": 379,
    "start_time": "2022-05-29T22:13:20.613Z"
   },
   {
    "duration": 9,
    "start_time": "2022-05-29T22:13:20.993Z"
   },
   {
    "duration": 11,
    "start_time": "2022-05-29T22:13:21.003Z"
   },
   {
    "duration": 9,
    "start_time": "2022-05-29T22:13:21.015Z"
   },
   {
    "duration": 8,
    "start_time": "2022-05-29T22:13:21.026Z"
   },
   {
    "duration": 1188,
    "start_time": "2022-05-29T22:14:57.229Z"
   },
   {
    "duration": 171,
    "start_time": "2022-05-29T22:14:58.419Z"
   },
   {
    "duration": 140,
    "start_time": "2022-05-29T22:14:58.593Z"
   },
   {
    "duration": 93,
    "start_time": "2022-05-29T22:14:58.736Z"
   },
   {
    "duration": 16,
    "start_time": "2022-05-29T22:14:58.831Z"
   },
   {
    "duration": 27,
    "start_time": "2022-05-29T22:14:58.850Z"
   },
   {
    "duration": 17,
    "start_time": "2022-05-29T22:14:58.879Z"
   },
   {
    "duration": 36,
    "start_time": "2022-05-29T22:14:58.898Z"
   },
   {
    "duration": 15,
    "start_time": "2022-05-29T22:14:58.937Z"
   },
   {
    "duration": 30,
    "start_time": "2022-05-29T22:14:58.964Z"
   },
   {
    "duration": 9,
    "start_time": "2022-05-29T22:14:58.996Z"
   },
   {
    "duration": 29,
    "start_time": "2022-05-29T22:14:59.007Z"
   },
   {
    "duration": 32,
    "start_time": "2022-05-29T22:14:59.038Z"
   },
   {
    "duration": 20,
    "start_time": "2022-05-29T22:14:59.073Z"
   },
   {
    "duration": 18,
    "start_time": "2022-05-29T22:14:59.095Z"
   },
   {
    "duration": 20,
    "start_time": "2022-05-29T22:14:59.115Z"
   },
   {
    "duration": 40,
    "start_time": "2022-05-29T22:14:59.137Z"
   },
   {
    "duration": 36,
    "start_time": "2022-05-29T22:14:59.179Z"
   },
   {
    "duration": 19,
    "start_time": "2022-05-29T22:14:59.216Z"
   },
   {
    "duration": 40,
    "start_time": "2022-05-29T22:14:59.236Z"
   },
   {
    "duration": 24,
    "start_time": "2022-05-29T22:14:59.278Z"
   },
   {
    "duration": 17,
    "start_time": "2022-05-29T22:14:59.303Z"
   },
   {
    "duration": 43,
    "start_time": "2022-05-29T22:14:59.321Z"
   },
   {
    "duration": 22,
    "start_time": "2022-05-29T22:14:59.367Z"
   },
   {
    "duration": 16,
    "start_time": "2022-05-29T22:14:59.391Z"
   },
   {
    "duration": 10,
    "start_time": "2022-05-29T22:14:59.409Z"
   },
   {
    "duration": 11,
    "start_time": "2022-05-29T22:14:59.421Z"
   },
   {
    "duration": 6,
    "start_time": "2022-05-29T22:14:59.467Z"
   },
   {
    "duration": 13,
    "start_time": "2022-05-29T22:14:59.475Z"
   },
   {
    "duration": 33,
    "start_time": "2022-05-29T22:14:59.490Z"
   },
   {
    "duration": 54,
    "start_time": "2022-05-29T22:14:59.524Z"
   },
   {
    "duration": 8,
    "start_time": "2022-05-29T22:14:59.580Z"
   },
   {
    "duration": 24,
    "start_time": "2022-05-29T22:14:59.589Z"
   },
   {
    "duration": 113,
    "start_time": "2022-05-29T22:14:59.615Z"
   },
   {
    "duration": 54,
    "start_time": "2022-05-29T22:14:59.730Z"
   },
   {
    "duration": 40,
    "start_time": "2022-05-29T22:14:59.785Z"
   },
   {
    "duration": 4,
    "start_time": "2022-05-29T22:14:59.827Z"
   },
   {
    "duration": 33,
    "start_time": "2022-05-29T22:14:59.832Z"
   },
   {
    "duration": 23,
    "start_time": "2022-05-29T22:14:59.866Z"
   },
   {
    "duration": 10,
    "start_time": "2022-05-29T22:14:59.891Z"
   },
   {
    "duration": 21,
    "start_time": "2022-05-29T22:14:59.903Z"
   },
   {
    "duration": 8,
    "start_time": "2022-05-29T22:14:59.926Z"
   },
   {
    "duration": 46,
    "start_time": "2022-05-29T22:14:59.936Z"
   },
   {
    "duration": 29,
    "start_time": "2022-05-29T22:14:59.983Z"
   },
   {
    "duration": 17,
    "start_time": "2022-05-29T22:15:00.014Z"
   },
   {
    "duration": 33,
    "start_time": "2022-05-29T22:15:00.033Z"
   },
   {
    "duration": 43,
    "start_time": "2022-05-29T22:15:00.068Z"
   },
   {
    "duration": 18,
    "start_time": "2022-05-29T22:15:00.113Z"
   },
   {
    "duration": 9,
    "start_time": "2022-05-29T22:15:00.133Z"
   },
   {
    "duration": 37,
    "start_time": "2022-05-29T22:15:00.144Z"
   },
   {
    "duration": 8,
    "start_time": "2022-05-29T22:15:00.183Z"
   },
   {
    "duration": 14,
    "start_time": "2022-05-29T22:15:00.193Z"
   },
   {
    "duration": 14,
    "start_time": "2022-05-29T22:15:00.209Z"
   },
   {
    "duration": 28,
    "start_time": "2022-05-29T22:15:00.224Z"
   },
   {
    "duration": 27,
    "start_time": "2022-05-29T22:15:00.254Z"
   },
   {
    "duration": 14,
    "start_time": "2022-05-29T22:15:00.283Z"
   },
   {
    "duration": 11,
    "start_time": "2022-05-29T22:15:00.299Z"
   },
   {
    "duration": 20,
    "start_time": "2022-05-29T22:15:00.312Z"
   },
   {
    "duration": 27,
    "start_time": "2022-05-29T22:15:00.334Z"
   },
   {
    "duration": 25,
    "start_time": "2022-05-29T22:15:00.362Z"
   },
   {
    "duration": 17,
    "start_time": "2022-05-29T22:15:00.389Z"
   },
   {
    "duration": 33,
    "start_time": "2022-05-29T22:15:00.408Z"
   },
   {
    "duration": 27,
    "start_time": "2022-05-29T22:15:00.443Z"
   },
   {
    "duration": 40,
    "start_time": "2022-05-29T22:15:00.472Z"
   },
   {
    "duration": 26,
    "start_time": "2022-05-29T22:15:00.514Z"
   },
   {
    "duration": 27,
    "start_time": "2022-05-29T22:15:00.542Z"
   },
   {
    "duration": 24,
    "start_time": "2022-05-29T22:15:00.571Z"
   },
   {
    "duration": 48,
    "start_time": "2022-05-29T22:15:00.598Z"
   },
   {
    "duration": 81,
    "start_time": "2022-05-29T22:15:00.648Z"
   },
   {
    "duration": 30,
    "start_time": "2022-05-29T22:15:00.731Z"
   },
   {
    "duration": 40,
    "start_time": "2022-05-29T22:15:00.763Z"
   },
   {
    "duration": 5,
    "start_time": "2022-05-29T22:15:00.805Z"
   },
   {
    "duration": 47,
    "start_time": "2022-05-29T22:15:00.812Z"
   },
   {
    "duration": 22,
    "start_time": "2022-05-29T22:15:00.860Z"
   },
   {
    "duration": 60,
    "start_time": "2022-05-29T22:15:00.884Z"
   },
   {
    "duration": 4,
    "start_time": "2022-05-29T22:15:00.946Z"
   },
   {
    "duration": 34,
    "start_time": "2022-05-29T22:15:00.952Z"
   },
   {
    "duration": 7,
    "start_time": "2022-05-29T22:15:00.988Z"
   },
   {
    "duration": 43,
    "start_time": "2022-05-29T22:15:00.997Z"
   },
   {
    "duration": 5,
    "start_time": "2022-05-29T22:15:01.042Z"
   },
   {
    "duration": 48,
    "start_time": "2022-05-29T22:15:01.048Z"
   },
   {
    "duration": 28,
    "start_time": "2022-05-29T22:15:01.102Z"
   },
   {
    "duration": 15,
    "start_time": "2022-05-29T22:15:01.132Z"
   },
   {
    "duration": 20,
    "start_time": "2022-05-29T22:15:01.149Z"
   },
   {
    "duration": 18,
    "start_time": "2022-05-29T22:15:01.171Z"
   },
   {
    "duration": 480,
    "start_time": "2022-05-29T22:15:01.191Z"
   },
   {
    "duration": 371,
    "start_time": "2022-05-29T22:15:01.673Z"
   },
   {
    "duration": 380,
    "start_time": "2022-05-29T22:15:02.046Z"
   },
   {
    "duration": 375,
    "start_time": "2022-05-29T22:15:02.427Z"
   },
   {
    "duration": 382,
    "start_time": "2022-05-29T22:15:02.804Z"
   },
   {
    "duration": 309,
    "start_time": "2022-05-29T22:15:03.188Z"
   },
   {
    "duration": 8,
    "start_time": "2022-05-29T22:15:03.499Z"
   },
   {
    "duration": 6,
    "start_time": "2022-05-29T22:15:03.509Z"
   },
   {
    "duration": 10,
    "start_time": "2022-05-29T22:15:03.516Z"
   },
   {
    "duration": 7,
    "start_time": "2022-05-29T22:15:03.528Z"
   },
   {
    "duration": 663,
    "start_time": "2022-05-29T23:18:02.742Z"
   },
   {
    "duration": 693,
    "start_time": "2022-05-29T23:18:05.095Z"
   },
   {
    "duration": 3,
    "start_time": "2022-05-29T23:18:07.919Z"
   },
   {
    "duration": 250,
    "start_time": "2022-05-29T23:18:08.408Z"
   },
   {
    "duration": 351,
    "start_time": "2022-05-29T23:18:08.660Z"
   },
   {
    "duration": 341,
    "start_time": "2022-05-29T23:18:09.013Z"
   },
   {
    "duration": 61,
    "start_time": "2022-05-29T23:18:09.356Z"
   },
   {
    "duration": 56,
    "start_time": "2022-05-29T23:18:09.419Z"
   },
   {
    "duration": 11,
    "start_time": "2022-05-29T23:18:09.477Z"
   },
   {
    "duration": 25,
    "start_time": "2022-05-29T23:18:09.490Z"
   },
   {
    "duration": 9,
    "start_time": "2022-05-29T23:18:09.516Z"
   },
   {
    "duration": 49,
    "start_time": "2022-05-29T23:18:09.527Z"
   },
   {
    "duration": 12,
    "start_time": "2022-05-29T23:18:09.579Z"
   },
   {
    "duration": 60,
    "start_time": "2022-05-29T23:18:09.593Z"
   },
   {
    "duration": 32,
    "start_time": "2022-05-29T23:18:09.655Z"
   },
   {
    "duration": 53,
    "start_time": "2022-05-29T23:18:09.689Z"
   },
   {
    "duration": 43,
    "start_time": "2022-05-29T23:18:09.744Z"
   },
   {
    "duration": 35,
    "start_time": "2022-05-29T23:18:09.789Z"
   },
   {
    "duration": 24,
    "start_time": "2022-05-29T23:18:10.182Z"
   },
   {
    "duration": 33,
    "start_time": "2022-05-29T23:18:10.288Z"
   },
   {
    "duration": 18,
    "start_time": "2022-05-29T23:18:10.387Z"
   },
   {
    "duration": 20,
    "start_time": "2022-05-29T23:18:10.466Z"
   },
   {
    "duration": 30,
    "start_time": "2022-05-29T23:18:10.524Z"
   },
   {
    "duration": 21,
    "start_time": "2022-05-29T23:18:10.582Z"
   },
   {
    "duration": 19,
    "start_time": "2022-05-29T23:18:10.677Z"
   },
   {
    "duration": 19,
    "start_time": "2022-05-29T23:18:10.748Z"
   },
   {
    "duration": 20,
    "start_time": "2022-05-29T23:18:10.838Z"
   },
   {
    "duration": 11,
    "start_time": "2022-05-29T23:18:10.915Z"
   },
   {
    "duration": 11,
    "start_time": "2022-05-29T23:18:11.011Z"
   },
   {
    "duration": 6,
    "start_time": "2022-05-29T23:18:11.114Z"
   },
   {
    "duration": 10,
    "start_time": "2022-05-29T23:18:11.259Z"
   },
   {
    "duration": 42,
    "start_time": "2022-05-29T23:18:11.340Z"
   },
   {
    "duration": 44,
    "start_time": "2022-05-29T23:18:11.421Z"
   },
   {
    "duration": 11,
    "start_time": "2022-05-29T23:18:11.586Z"
   },
   {
    "duration": 13,
    "start_time": "2022-05-29T23:18:11.752Z"
   },
   {
    "duration": 114,
    "start_time": "2022-05-29T23:18:11.922Z"
   },
   {
    "duration": 49,
    "start_time": "2022-05-29T23:18:12.038Z"
   },
   {
    "duration": 58,
    "start_time": "2022-05-29T23:18:12.089Z"
   },
   {
    "duration": 5,
    "start_time": "2022-05-29T23:18:12.676Z"
   },
   {
    "duration": 17,
    "start_time": "2022-05-29T23:18:12.683Z"
   },
   {
    "duration": 43,
    "start_time": "2022-05-29T23:18:12.702Z"
   },
   {
    "duration": 10,
    "start_time": "2022-05-29T23:18:12.757Z"
   },
   {
    "duration": 25,
    "start_time": "2022-05-29T23:18:12.924Z"
   },
   {
    "duration": 9,
    "start_time": "2022-05-29T23:18:13.023Z"
   },
   {
    "duration": 18,
    "start_time": "2022-05-29T23:18:13.093Z"
   },
   {
    "duration": 25,
    "start_time": "2022-05-29T23:18:13.179Z"
   },
   {
    "duration": 20,
    "start_time": "2022-05-29T23:18:13.515Z"
   },
   {
    "duration": 8,
    "start_time": "2022-05-29T23:18:13.593Z"
   },
   {
    "duration": 18,
    "start_time": "2022-05-29T23:18:13.760Z"
   },
   {
    "duration": 25,
    "start_time": "2022-05-29T23:18:14.014Z"
   },
   {
    "duration": 9,
    "start_time": "2022-05-29T23:18:14.177Z"
   },
   {
    "duration": 16,
    "start_time": "2022-05-29T23:18:14.271Z"
   },
   {
    "duration": 10,
    "start_time": "2022-05-29T23:18:14.348Z"
   },
   {
    "duration": 10,
    "start_time": "2022-05-29T23:18:14.429Z"
   },
   {
    "duration": 7,
    "start_time": "2022-05-29T23:18:14.519Z"
   },
   {
    "duration": 10,
    "start_time": "2022-05-29T23:18:14.772Z"
   },
   {
    "duration": 11,
    "start_time": "2022-05-29T23:18:14.851Z"
   },
   {
    "duration": 7,
    "start_time": "2022-05-29T23:18:14.946Z"
   },
   {
    "duration": 26,
    "start_time": "2022-05-29T23:18:15.025Z"
   },
   {
    "duration": 6,
    "start_time": "2022-05-29T23:18:15.109Z"
   },
   {
    "duration": 7,
    "start_time": "2022-05-29T23:18:15.183Z"
   },
   {
    "duration": 8,
    "start_time": "2022-05-29T23:18:15.351Z"
   },
   {
    "duration": 10,
    "start_time": "2022-05-29T23:18:15.459Z"
   },
   {
    "duration": 12,
    "start_time": "2022-05-29T23:18:15.520Z"
   },
   {
    "duration": 12,
    "start_time": "2022-05-29T23:18:15.710Z"
   },
   {
    "duration": 4,
    "start_time": "2022-05-29T23:18:15.862Z"
   },
   {
    "duration": 11,
    "start_time": "2022-05-29T23:18:15.938Z"
   },
   {
    "duration": 17,
    "start_time": "2022-05-29T23:18:16.025Z"
   },
   {
    "duration": 6,
    "start_time": "2022-05-29T23:18:16.127Z"
   },
   {
    "duration": 16,
    "start_time": "2022-05-29T23:18:16.191Z"
   },
   {
    "duration": 8,
    "start_time": "2022-05-29T23:18:16.395Z"
   },
   {
    "duration": 12,
    "start_time": "2022-05-29T23:18:16.487Z"
   },
   {
    "duration": 28,
    "start_time": "2022-05-29T23:18:16.550Z"
   },
   {
    "duration": 4,
    "start_time": "2022-05-29T23:18:16.688Z"
   },
   {
    "duration": 16,
    "start_time": "2022-05-29T23:18:16.779Z"
   },
   {
    "duration": 5,
    "start_time": "2022-05-29T23:18:16.944Z"
   },
   {
    "duration": 30,
    "start_time": "2022-05-29T23:18:17.025Z"
   },
   {
    "duration": 5,
    "start_time": "2022-05-29T23:18:17.195Z"
   },
   {
    "duration": 22,
    "start_time": "2022-05-29T23:18:17.291Z"
   },
   {
    "duration": 6,
    "start_time": "2022-05-29T23:18:17.445Z"
   },
   {
    "duration": 24,
    "start_time": "2022-05-29T23:18:17.527Z"
   },
   {
    "duration": 6,
    "start_time": "2022-05-29T23:18:17.704Z"
   },
   {
    "duration": 22,
    "start_time": "2022-05-29T23:18:17.859Z"
   },
   {
    "duration": 35,
    "start_time": "2022-05-29T23:18:18.203Z"
   },
   {
    "duration": 8,
    "start_time": "2022-05-29T23:18:18.374Z"
   },
   {
    "duration": 12,
    "start_time": "2022-05-29T23:18:18.634Z"
   },
   {
    "duration": 11,
    "start_time": "2022-05-29T23:18:18.708Z"
   },
   {
    "duration": 478,
    "start_time": "2022-05-29T23:18:19.044Z"
   },
   {
    "duration": 355,
    "start_time": "2022-05-29T23:18:19.528Z"
   },
   {
    "duration": 388,
    "start_time": "2022-05-29T23:18:19.885Z"
   },
   {
    "duration": 346,
    "start_time": "2022-05-29T23:18:20.275Z"
   },
   {
    "duration": 326,
    "start_time": "2022-05-29T23:18:20.629Z"
   },
   {
    "duration": 312,
    "start_time": "2022-05-29T23:18:20.957Z"
   },
   {
    "duration": 10,
    "start_time": "2022-05-29T23:18:21.271Z"
   },
   {
    "duration": 7,
    "start_time": "2022-05-29T23:18:21.378Z"
   },
   {
    "duration": 6,
    "start_time": "2022-05-29T23:18:21.466Z"
   },
   {
    "duration": 10,
    "start_time": "2022-05-29T23:18:21.644Z"
   },
   {
    "duration": 455,
    "start_time": "2022-05-29T23:19:18.948Z"
   },
   {
    "duration": 480,
    "start_time": "2022-05-29T23:20:31.441Z"
   },
   {
    "duration": 1366,
    "start_time": "2022-05-30T17:09:17.020Z"
   },
   {
    "duration": 3,
    "start_time": "2022-05-30T17:09:18.389Z"
   },
   {
    "duration": 242,
    "start_time": "2022-05-30T17:09:18.394Z"
   },
   {
    "duration": 542,
    "start_time": "2022-05-30T17:09:18.638Z"
   },
   {
    "duration": 328,
    "start_time": "2022-05-30T17:09:19.182Z"
   },
   {
    "duration": 80,
    "start_time": "2022-05-30T17:09:19.512Z"
   },
   {
    "duration": 68,
    "start_time": "2022-05-30T17:09:19.593Z"
   },
   {
    "duration": 16,
    "start_time": "2022-05-30T17:09:19.663Z"
   },
   {
    "duration": 26,
    "start_time": "2022-05-30T17:09:19.681Z"
   },
   {
    "duration": 9,
    "start_time": "2022-05-30T17:09:19.709Z"
   },
   {
    "duration": 35,
    "start_time": "2022-05-30T17:09:19.720Z"
   },
   {
    "duration": 8,
    "start_time": "2022-05-30T17:09:19.756Z"
   },
   {
    "duration": 20,
    "start_time": "2022-05-30T17:09:19.766Z"
   },
   {
    "duration": 7,
    "start_time": "2022-05-30T17:09:19.788Z"
   },
   {
    "duration": 30,
    "start_time": "2022-05-30T17:09:19.797Z"
   },
   {
    "duration": 28,
    "start_time": "2022-05-30T17:09:19.829Z"
   },
   {
    "duration": 26,
    "start_time": "2022-05-30T17:09:19.859Z"
   },
   {
    "duration": 32,
    "start_time": "2022-05-30T17:09:19.890Z"
   },
   {
    "duration": 51,
    "start_time": "2022-05-30T17:09:19.923Z"
   },
   {
    "duration": 27,
    "start_time": "2022-05-30T17:09:19.977Z"
   },
   {
    "duration": 34,
    "start_time": "2022-05-30T17:09:20.022Z"
   },
   {
    "duration": 39,
    "start_time": "2022-05-30T17:09:20.060Z"
   },
   {
    "duration": 46,
    "start_time": "2022-05-30T17:09:20.101Z"
   },
   {
    "duration": 18,
    "start_time": "2022-05-30T17:09:20.148Z"
   },
   {
    "duration": 18,
    "start_time": "2022-05-30T17:09:20.168Z"
   },
   {
    "duration": 40,
    "start_time": "2022-05-30T17:09:20.188Z"
   },
   {
    "duration": 10,
    "start_time": "2022-05-30T17:09:20.230Z"
   },
   {
    "duration": 12,
    "start_time": "2022-05-30T17:09:20.291Z"
   },
   {
    "duration": 6,
    "start_time": "2022-05-30T17:09:20.370Z"
   },
   {
    "duration": 11,
    "start_time": "2022-05-30T17:09:20.537Z"
   },
   {
    "duration": 37,
    "start_time": "2022-05-30T17:09:20.621Z"
   },
   {
    "duration": 35,
    "start_time": "2022-05-30T17:09:20.721Z"
   },
   {
    "duration": 16,
    "start_time": "2022-05-30T17:09:20.875Z"
   },
   {
    "duration": 15,
    "start_time": "2022-05-30T17:09:21.036Z"
   },
   {
    "duration": 104,
    "start_time": "2022-05-30T17:09:21.195Z"
   },
   {
    "duration": 49,
    "start_time": "2022-05-30T17:09:21.301Z"
   },
   {
    "duration": 36,
    "start_time": "2022-05-30T17:09:21.371Z"
   },
   {
    "duration": 5,
    "start_time": "2022-05-30T17:09:21.700Z"
   },
   {
    "duration": 9,
    "start_time": "2022-05-30T17:09:21.811Z"
   },
   {
    "duration": 23,
    "start_time": "2022-05-30T17:09:21.951Z"
   },
   {
    "duration": 9,
    "start_time": "2022-05-30T17:09:22.039Z"
   },
   {
    "duration": 32,
    "start_time": "2022-05-30T17:09:22.202Z"
   },
   {
    "duration": 10,
    "start_time": "2022-05-30T17:09:22.307Z"
   },
   {
    "duration": 26,
    "start_time": "2022-05-30T17:09:22.375Z"
   },
   {
    "duration": 26,
    "start_time": "2022-05-30T17:09:22.462Z"
   },
   {
    "duration": 20,
    "start_time": "2022-05-30T17:09:22.807Z"
   },
   {
    "duration": 8,
    "start_time": "2022-05-30T17:09:22.881Z"
   },
   {
    "duration": 18,
    "start_time": "2022-05-30T17:09:23.037Z"
   },
   {
    "duration": 16,
    "start_time": "2022-05-30T17:09:23.290Z"
   },
   {
    "duration": 8,
    "start_time": "2022-05-30T17:09:23.478Z"
   },
   {
    "duration": 15,
    "start_time": "2022-05-30T17:09:23.539Z"
   },
   {
    "duration": 7,
    "start_time": "2022-05-30T17:09:23.636Z"
   },
   {
    "duration": 6,
    "start_time": "2022-05-30T17:09:23.708Z"
   },
   {
    "duration": 8,
    "start_time": "2022-05-30T17:09:23.801Z"
   },
   {
    "duration": 8,
    "start_time": "2022-05-30T17:09:24.053Z"
   },
   {
    "duration": 12,
    "start_time": "2022-05-30T17:09:24.149Z"
   },
   {
    "duration": 17,
    "start_time": "2022-05-30T17:09:24.218Z"
   },
   {
    "duration": 16,
    "start_time": "2022-05-30T17:09:24.318Z"
   },
   {
    "duration": 7,
    "start_time": "2022-05-30T17:09:24.391Z"
   },
   {
    "duration": 13,
    "start_time": "2022-05-30T17:09:24.467Z"
   },
   {
    "duration": 11,
    "start_time": "2022-05-30T17:09:24.648Z"
   },
   {
    "duration": 19,
    "start_time": "2022-05-30T17:09:24.722Z"
   },
   {
    "duration": 10,
    "start_time": "2022-05-30T17:09:24.819Z"
   },
   {
    "duration": 12,
    "start_time": "2022-05-30T17:09:24.989Z"
   },
   {
    "duration": 4,
    "start_time": "2022-05-30T17:09:25.203Z"
   },
   {
    "duration": 11,
    "start_time": "2022-05-30T17:09:25.278Z"
   },
   {
    "duration": 10,
    "start_time": "2022-05-30T17:09:25.347Z"
   },
   {
    "duration": 7,
    "start_time": "2022-05-30T17:09:25.416Z"
   },
   {
    "duration": 13,
    "start_time": "2022-05-30T17:09:25.485Z"
   },
   {
    "duration": 5,
    "start_time": "2022-05-30T17:09:25.640Z"
   },
   {
    "duration": 12,
    "start_time": "2022-05-30T17:09:25.752Z"
   },
   {
    "duration": 23,
    "start_time": "2022-05-30T17:09:25.846Z"
   },
   {
    "duration": 5,
    "start_time": "2022-05-30T17:09:25.985Z"
   },
   {
    "duration": 19,
    "start_time": "2022-05-30T17:09:26.058Z"
   },
   {
    "duration": 18,
    "start_time": "2022-05-30T17:09:26.234Z"
   },
   {
    "duration": 24,
    "start_time": "2022-05-30T17:09:26.331Z"
   },
   {
    "duration": 5,
    "start_time": "2022-05-30T17:09:26.481Z"
   },
   {
    "duration": 21,
    "start_time": "2022-05-30T17:09:26.571Z"
   },
   {
    "duration": 6,
    "start_time": "2022-05-30T17:09:26.744Z"
   },
   {
    "duration": 25,
    "start_time": "2022-05-30T17:09:26.818Z"
   },
   {
    "duration": 6,
    "start_time": "2022-05-30T17:09:26.999Z"
   },
   {
    "duration": 25,
    "start_time": "2022-05-30T17:09:27.167Z"
   },
   {
    "duration": 34,
    "start_time": "2022-05-30T17:09:27.482Z"
   },
   {
    "duration": 11,
    "start_time": "2022-05-30T17:09:27.649Z"
   },
   {
    "duration": 19,
    "start_time": "2022-05-30T17:09:27.953Z"
   },
   {
    "duration": 13,
    "start_time": "2022-05-30T17:09:28.009Z"
   },
   {
    "duration": 665,
    "start_time": "2022-05-30T17:09:28.343Z"
   },
   {
    "duration": 366,
    "start_time": "2022-05-30T17:09:29.011Z"
   },
   {
    "duration": 383,
    "start_time": "2022-05-30T17:09:29.379Z"
   },
   {
    "duration": 374,
    "start_time": "2022-05-30T17:09:29.765Z"
   },
   {
    "duration": 312,
    "start_time": "2022-05-30T17:09:30.141Z"
   },
   {
    "duration": 307,
    "start_time": "2022-05-30T17:09:30.455Z"
   },
   {
    "duration": 8,
    "start_time": "2022-05-30T17:09:30.764Z"
   },
   {
    "duration": 12,
    "start_time": "2022-05-30T17:09:30.774Z"
   },
   {
    "duration": 15,
    "start_time": "2022-05-30T17:09:30.788Z"
   },
   {
    "duration": 8,
    "start_time": "2022-05-30T17:09:30.942Z"
   },
   {
    "duration": 474,
    "start_time": "2022-05-30T17:17:59.022Z"
   },
   {
    "duration": 444,
    "start_time": "2022-05-30T17:19:15.345Z"
   },
   {
    "duration": 469,
    "start_time": "2022-05-30T17:20:49.094Z"
   },
   {
    "duration": 428,
    "start_time": "2022-05-30T17:21:01.866Z"
   },
   {
    "duration": 440,
    "start_time": "2022-05-30T17:21:17.542Z"
   }
  ],
  "kernelspec": {
   "display_name": "Python 3",
   "language": "python",
   "name": "python3"
  },
  "language_info": {
   "codemirror_mode": {
    "name": "ipython",
    "version": 3
   },
   "file_extension": ".py",
   "mimetype": "text/x-python",
   "name": "python",
   "nbconvert_exporter": "python",
   "pygments_lexer": "ipython3",
   "version": "3.8.8"
  },
  "toc": {
   "base_numbering": 1,
   "nav_menu": {
    "height": "152px",
    "width": "283px"
   },
   "number_sections": true,
   "sideBar": true,
   "skip_h1_title": true,
   "title_cell": "Table of Contents",
   "title_sidebar": "Contents",
   "toc_cell": true,
   "toc_position": {},
   "toc_section_display": true,
   "toc_window_display": true
  }
 },
 "nbformat": 4,
 "nbformat_minor": 2
}
