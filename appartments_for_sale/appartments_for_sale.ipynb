{
 "cells": [
  {
   "cell_type": "markdown",
   "metadata": {
    "toc": true
   },
   "source": [
    "<h1>Содержание<span class=\"tocSkip\"></span></h1>\n",
    "<div class=\"toc\"><ul class=\"toc-item\"><li><span><a href=\"#Изучение-данных-из-файла\" data-toc-modified-id=\"Изучение-данных-из-файла-1\"><span class=\"toc-item-num\">1&nbsp;&nbsp;</span>Изучение данных из файла</a></span><ul class=\"toc-item\"><li><span><a href=\"#Вывод\" data-toc-modified-id=\"Вывод-1.1\"><span class=\"toc-item-num\">1.1&nbsp;&nbsp;</span>Вывод</a></span></li></ul></li><li><span><a href=\"#Предобработка-данных\" data-toc-modified-id=\"Предобработка-данных-2\"><span class=\"toc-item-num\">2&nbsp;&nbsp;</span>Предобработка данных</a></span><ul class=\"toc-item\"><li><span><a href=\"#Заполнение-пропусков-в-данных\" data-toc-modified-id=\"Заполнение-пропусков-в-данных-2.1\"><span class=\"toc-item-num\">2.1&nbsp;&nbsp;</span>Заполнение пропусков в данных</a></span></li></ul></li><li><span><a href=\"#Расчёты-и-добавление-результатов-в-таблицу\" data-toc-modified-id=\"Расчёты-и-добавление-результатов-в-таблицу-3\"><span class=\"toc-item-num\">3&nbsp;&nbsp;</span>Расчёты и добавление результатов в таблицу</a></span></li><li><span><a href=\"#Исследовательский-анализ-данных\" data-toc-modified-id=\"Исследовательский-анализ-данных-4\"><span class=\"toc-item-num\">4&nbsp;&nbsp;</span>Исследовательский анализ данных</a></span></li><li><span><a href=\"#Общий-вывод\" data-toc-modified-id=\"Общий-вывод-5\"><span class=\"toc-item-num\">5&nbsp;&nbsp;</span>Общий вывод</a></span></li></ul></div>"
   ]
  },
  {
   "cell_type": "markdown",
   "metadata": {},
   "source": [
    "# Исследование объявлений о продаже квартир\n",
    "\n",
    "В нашем распоряжении данные сервиса Яндекc Недвижимость — архив объявлений о продаже квартир в Санкт-Петербурге и соседних населённых пунктах за несколько лет. Нужно научиться определять рыночную стоимость объектов недвижимости. Задача — установить параметры. Это позволит построить автоматизированную систему: она отследит аномалии и мошенническую деятельность. \n",
    "\n",
    "По каждой квартире на продажу доступны два вида данных. Первые вписаны пользователем, вторые получены автоматически на основе картографических данных. Например, расстояние до центра, аэропорта, ближайшего парка и водоёма. \n",
    "\n",
    "В проекте необходимо выполнить следующие шаги: загрузить и изучить данные, выполнить предобработку данных, добавить данные в таблицу, провести анализ данных и составить общий вывод по проекту.\n",
    "\n",
    "В итоге мы должны получить анализ какие параметры оказывают большее влияние на стоимость квартиры."
   ]
  },
  {
   "cell_type": "markdown",
   "metadata": {},
   "source": [
    "## Изучение данных из файла"
   ]
  },
  {
   "cell_type": "markdown",
   "metadata": {},
   "source": [
    "Подключим библиотеки"
   ]
  },
  {
   "cell_type": "code",
   "execution_count": 1,
   "metadata": {},
   "outputs": [],
   "source": [
    "import pandas as pd\n",
    "import numpy as np\n",
    "import seaborn as sns\n",
    "import os"
   ]
  },
  {
   "cell_type": "code",
   "execution_count": 2,
   "metadata": {},
   "outputs": [],
   "source": [
    "pth1 = 'real_estate_data.csv'\n",
    "pth2 = 'https://code.s3.yandex.net/datasets/real_estate_data.csv'\n",
    "    \n",
    "if os.path.exists(pth1):\n",
    "    df = pd.read_csv(pth1, sep='\\t')\n",
    "elif os.path.exists(pth2):\n",
    "    df = pd.read_csv(pth2, sep='\\t')\n",
    "else:\n",
    "    print('Something is wrong')"
   ]
  },
  {
   "cell_type": "markdown",
   "metadata": {},
   "source": [
    "Посмотрим на первые пять строчек датафрейма для общего представления."
   ]
  },
  {
   "cell_type": "code",
   "execution_count": 3,
   "metadata": {},
   "outputs": [
    {
     "data": {
      "text/html": [
       "<div>\n",
       "<style scoped>\n",
       "    .dataframe tbody tr th:only-of-type {\n",
       "        vertical-align: middle;\n",
       "    }\n",
       "\n",
       "    .dataframe tbody tr th {\n",
       "        vertical-align: top;\n",
       "    }\n",
       "\n",
       "    .dataframe thead th {\n",
       "        text-align: right;\n",
       "    }\n",
       "</style>\n",
       "<table border=\"1\" class=\"dataframe\">\n",
       "  <thead>\n",
       "    <tr style=\"text-align: right;\">\n",
       "      <th></th>\n",
       "      <th>total_images</th>\n",
       "      <th>last_price</th>\n",
       "      <th>total_area</th>\n",
       "      <th>first_day_exposition</th>\n",
       "      <th>rooms</th>\n",
       "      <th>ceiling_height</th>\n",
       "      <th>floors_total</th>\n",
       "      <th>living_area</th>\n",
       "      <th>floor</th>\n",
       "      <th>is_apartment</th>\n",
       "      <th>...</th>\n",
       "      <th>kitchen_area</th>\n",
       "      <th>balcony</th>\n",
       "      <th>locality_name</th>\n",
       "      <th>airports_nearest</th>\n",
       "      <th>cityCenters_nearest</th>\n",
       "      <th>parks_around3000</th>\n",
       "      <th>parks_nearest</th>\n",
       "      <th>ponds_around3000</th>\n",
       "      <th>ponds_nearest</th>\n",
       "      <th>days_exposition</th>\n",
       "    </tr>\n",
       "  </thead>\n",
       "  <tbody>\n",
       "    <tr>\n",
       "      <th>0</th>\n",
       "      <td>20</td>\n",
       "      <td>13000000.0</td>\n",
       "      <td>108.0</td>\n",
       "      <td>2019-03-07T00:00:00</td>\n",
       "      <td>3</td>\n",
       "      <td>2.70</td>\n",
       "      <td>16.0</td>\n",
       "      <td>51.0</td>\n",
       "      <td>8</td>\n",
       "      <td>NaN</td>\n",
       "      <td>...</td>\n",
       "      <td>25.0</td>\n",
       "      <td>NaN</td>\n",
       "      <td>Санкт-Петербург</td>\n",
       "      <td>18863.0</td>\n",
       "      <td>16028.0</td>\n",
       "      <td>1.0</td>\n",
       "      <td>482.0</td>\n",
       "      <td>2.0</td>\n",
       "      <td>755.0</td>\n",
       "      <td>NaN</td>\n",
       "    </tr>\n",
       "    <tr>\n",
       "      <th>1</th>\n",
       "      <td>7</td>\n",
       "      <td>3350000.0</td>\n",
       "      <td>40.4</td>\n",
       "      <td>2018-12-04T00:00:00</td>\n",
       "      <td>1</td>\n",
       "      <td>NaN</td>\n",
       "      <td>11.0</td>\n",
       "      <td>18.6</td>\n",
       "      <td>1</td>\n",
       "      <td>NaN</td>\n",
       "      <td>...</td>\n",
       "      <td>11.0</td>\n",
       "      <td>2.0</td>\n",
       "      <td>посёлок Шушары</td>\n",
       "      <td>12817.0</td>\n",
       "      <td>18603.0</td>\n",
       "      <td>0.0</td>\n",
       "      <td>NaN</td>\n",
       "      <td>0.0</td>\n",
       "      <td>NaN</td>\n",
       "      <td>81.0</td>\n",
       "    </tr>\n",
       "    <tr>\n",
       "      <th>2</th>\n",
       "      <td>10</td>\n",
       "      <td>5196000.0</td>\n",
       "      <td>56.0</td>\n",
       "      <td>2015-08-20T00:00:00</td>\n",
       "      <td>2</td>\n",
       "      <td>NaN</td>\n",
       "      <td>5.0</td>\n",
       "      <td>34.3</td>\n",
       "      <td>4</td>\n",
       "      <td>NaN</td>\n",
       "      <td>...</td>\n",
       "      <td>8.3</td>\n",
       "      <td>0.0</td>\n",
       "      <td>Санкт-Петербург</td>\n",
       "      <td>21741.0</td>\n",
       "      <td>13933.0</td>\n",
       "      <td>1.0</td>\n",
       "      <td>90.0</td>\n",
       "      <td>2.0</td>\n",
       "      <td>574.0</td>\n",
       "      <td>558.0</td>\n",
       "    </tr>\n",
       "    <tr>\n",
       "      <th>3</th>\n",
       "      <td>0</td>\n",
       "      <td>64900000.0</td>\n",
       "      <td>159.0</td>\n",
       "      <td>2015-07-24T00:00:00</td>\n",
       "      <td>3</td>\n",
       "      <td>NaN</td>\n",
       "      <td>14.0</td>\n",
       "      <td>NaN</td>\n",
       "      <td>9</td>\n",
       "      <td>NaN</td>\n",
       "      <td>...</td>\n",
       "      <td>NaN</td>\n",
       "      <td>0.0</td>\n",
       "      <td>Санкт-Петербург</td>\n",
       "      <td>28098.0</td>\n",
       "      <td>6800.0</td>\n",
       "      <td>2.0</td>\n",
       "      <td>84.0</td>\n",
       "      <td>3.0</td>\n",
       "      <td>234.0</td>\n",
       "      <td>424.0</td>\n",
       "    </tr>\n",
       "    <tr>\n",
       "      <th>4</th>\n",
       "      <td>2</td>\n",
       "      <td>10000000.0</td>\n",
       "      <td>100.0</td>\n",
       "      <td>2018-06-19T00:00:00</td>\n",
       "      <td>2</td>\n",
       "      <td>3.03</td>\n",
       "      <td>14.0</td>\n",
       "      <td>32.0</td>\n",
       "      <td>13</td>\n",
       "      <td>NaN</td>\n",
       "      <td>...</td>\n",
       "      <td>41.0</td>\n",
       "      <td>NaN</td>\n",
       "      <td>Санкт-Петербург</td>\n",
       "      <td>31856.0</td>\n",
       "      <td>8098.0</td>\n",
       "      <td>2.0</td>\n",
       "      <td>112.0</td>\n",
       "      <td>1.0</td>\n",
       "      <td>48.0</td>\n",
       "      <td>121.0</td>\n",
       "    </tr>\n",
       "  </tbody>\n",
       "</table>\n",
       "<p>5 rows × 22 columns</p>\n",
       "</div>"
      ],
      "text/plain": [
       "   total_images  last_price  total_area first_day_exposition  rooms  \\\n",
       "0            20  13000000.0       108.0  2019-03-07T00:00:00      3   \n",
       "1             7   3350000.0        40.4  2018-12-04T00:00:00      1   \n",
       "2            10   5196000.0        56.0  2015-08-20T00:00:00      2   \n",
       "3             0  64900000.0       159.0  2015-07-24T00:00:00      3   \n",
       "4             2  10000000.0       100.0  2018-06-19T00:00:00      2   \n",
       "\n",
       "   ceiling_height  floors_total  living_area  floor is_apartment  ...  \\\n",
       "0            2.70          16.0         51.0      8          NaN  ...   \n",
       "1             NaN          11.0         18.6      1          NaN  ...   \n",
       "2             NaN           5.0         34.3      4          NaN  ...   \n",
       "3             NaN          14.0          NaN      9          NaN  ...   \n",
       "4            3.03          14.0         32.0     13          NaN  ...   \n",
       "\n",
       "   kitchen_area  balcony    locality_name  airports_nearest  \\\n",
       "0          25.0      NaN  Санкт-Петербург           18863.0   \n",
       "1          11.0      2.0   посёлок Шушары           12817.0   \n",
       "2           8.3      0.0  Санкт-Петербург           21741.0   \n",
       "3           NaN      0.0  Санкт-Петербург           28098.0   \n",
       "4          41.0      NaN  Санкт-Петербург           31856.0   \n",
       "\n",
       "  cityCenters_nearest  parks_around3000  parks_nearest  ponds_around3000  \\\n",
       "0             16028.0               1.0          482.0               2.0   \n",
       "1             18603.0               0.0            NaN               0.0   \n",
       "2             13933.0               1.0           90.0               2.0   \n",
       "3              6800.0               2.0           84.0               3.0   \n",
       "4              8098.0               2.0          112.0               1.0   \n",
       "\n",
       "   ponds_nearest  days_exposition  \n",
       "0          755.0              NaN  \n",
       "1            NaN             81.0  \n",
       "2          574.0            558.0  \n",
       "3          234.0            424.0  \n",
       "4           48.0            121.0  \n",
       "\n",
       "[5 rows x 22 columns]"
      ]
     },
     "execution_count": 3,
     "metadata": {},
     "output_type": "execute_result"
    }
   ],
   "source": [
    "df.head()"
   ]
  },
  {
   "cell_type": "markdown",
   "metadata": {},
   "source": [
    "Получим общую информацию о данных."
   ]
  },
  {
   "cell_type": "code",
   "execution_count": 4,
   "metadata": {},
   "outputs": [
    {
     "name": "stdout",
     "output_type": "stream",
     "text": [
      "<class 'pandas.core.frame.DataFrame'>\n",
      "RangeIndex: 23699 entries, 0 to 23698\n",
      "Data columns (total 22 columns):\n",
      " #   Column                Non-Null Count  Dtype  \n",
      "---  ------                --------------  -----  \n",
      " 0   total_images          23699 non-null  int64  \n",
      " 1   last_price            23699 non-null  float64\n",
      " 2   total_area            23699 non-null  float64\n",
      " 3   first_day_exposition  23699 non-null  object \n",
      " 4   rooms                 23699 non-null  int64  \n",
      " 5   ceiling_height        14504 non-null  float64\n",
      " 6   floors_total          23613 non-null  float64\n",
      " 7   living_area           21796 non-null  float64\n",
      " 8   floor                 23699 non-null  int64  \n",
      " 9   is_apartment          2775 non-null   object \n",
      " 10  studio                23699 non-null  bool   \n",
      " 11  open_plan             23699 non-null  bool   \n",
      " 12  kitchen_area          21421 non-null  float64\n",
      " 13  balcony               12180 non-null  float64\n",
      " 14  locality_name         23650 non-null  object \n",
      " 15  airports_nearest      18157 non-null  float64\n",
      " 16  cityCenters_nearest   18180 non-null  float64\n",
      " 17  parks_around3000      18181 non-null  float64\n",
      " 18  parks_nearest         8079 non-null   float64\n",
      " 19  ponds_around3000      18181 non-null  float64\n",
      " 20  ponds_nearest         9110 non-null   float64\n",
      " 21  days_exposition       20518 non-null  float64\n",
      "dtypes: bool(2), float64(14), int64(3), object(3)\n",
      "memory usage: 3.7+ MB\n"
     ]
    }
   ],
   "source": [
    "df.info()"
   ]
  },
  {
   "cell_type": "markdown",
   "metadata": {},
   "source": [
    "В данных 22 столбца и 23699 строк."
   ]
  },
  {
   "cell_type": "markdown",
   "metadata": {},
   "source": [
    "Далее посмотрим статистическую информацию о данных."
   ]
  },
  {
   "cell_type": "code",
   "execution_count": 5,
   "metadata": {},
   "outputs": [
    {
     "data": {
      "text/html": [
       "<div>\n",
       "<style scoped>\n",
       "    .dataframe tbody tr th:only-of-type {\n",
       "        vertical-align: middle;\n",
       "    }\n",
       "\n",
       "    .dataframe tbody tr th {\n",
       "        vertical-align: top;\n",
       "    }\n",
       "\n",
       "    .dataframe thead th {\n",
       "        text-align: right;\n",
       "    }\n",
       "</style>\n",
       "<table border=\"1\" class=\"dataframe\">\n",
       "  <thead>\n",
       "    <tr style=\"text-align: right;\">\n",
       "      <th></th>\n",
       "      <th>total_images</th>\n",
       "      <th>last_price</th>\n",
       "      <th>total_area</th>\n",
       "      <th>rooms</th>\n",
       "      <th>ceiling_height</th>\n",
       "      <th>floors_total</th>\n",
       "      <th>living_area</th>\n",
       "      <th>floor</th>\n",
       "      <th>kitchen_area</th>\n",
       "      <th>balcony</th>\n",
       "      <th>airports_nearest</th>\n",
       "      <th>cityCenters_nearest</th>\n",
       "      <th>parks_around3000</th>\n",
       "      <th>parks_nearest</th>\n",
       "      <th>ponds_around3000</th>\n",
       "      <th>ponds_nearest</th>\n",
       "      <th>days_exposition</th>\n",
       "    </tr>\n",
       "  </thead>\n",
       "  <tbody>\n",
       "    <tr>\n",
       "      <th>count</th>\n",
       "      <td>23699.000000</td>\n",
       "      <td>2.369900e+04</td>\n",
       "      <td>23699.000000</td>\n",
       "      <td>23699.000000</td>\n",
       "      <td>14504.000000</td>\n",
       "      <td>23613.000000</td>\n",
       "      <td>21796.000000</td>\n",
       "      <td>23699.000000</td>\n",
       "      <td>21421.000000</td>\n",
       "      <td>12180.000000</td>\n",
       "      <td>18157.000000</td>\n",
       "      <td>18180.000000</td>\n",
       "      <td>18181.000000</td>\n",
       "      <td>8079.000000</td>\n",
       "      <td>18181.000000</td>\n",
       "      <td>9110.000000</td>\n",
       "      <td>20518.000000</td>\n",
       "    </tr>\n",
       "    <tr>\n",
       "      <th>mean</th>\n",
       "      <td>9.858475</td>\n",
       "      <td>6.541549e+06</td>\n",
       "      <td>60.348651</td>\n",
       "      <td>2.070636</td>\n",
       "      <td>2.771499</td>\n",
       "      <td>10.673824</td>\n",
       "      <td>34.457852</td>\n",
       "      <td>5.892358</td>\n",
       "      <td>10.569807</td>\n",
       "      <td>1.150082</td>\n",
       "      <td>28793.672193</td>\n",
       "      <td>14191.277833</td>\n",
       "      <td>0.611408</td>\n",
       "      <td>490.804555</td>\n",
       "      <td>0.770255</td>\n",
       "      <td>517.980900</td>\n",
       "      <td>180.888634</td>\n",
       "    </tr>\n",
       "    <tr>\n",
       "      <th>std</th>\n",
       "      <td>5.682529</td>\n",
       "      <td>1.088701e+07</td>\n",
       "      <td>35.654083</td>\n",
       "      <td>1.078405</td>\n",
       "      <td>1.261056</td>\n",
       "      <td>6.597173</td>\n",
       "      <td>22.030445</td>\n",
       "      <td>4.885249</td>\n",
       "      <td>5.905438</td>\n",
       "      <td>1.071300</td>\n",
       "      <td>12630.880622</td>\n",
       "      <td>8608.386210</td>\n",
       "      <td>0.802074</td>\n",
       "      <td>342.317995</td>\n",
       "      <td>0.938346</td>\n",
       "      <td>277.720643</td>\n",
       "      <td>219.727988</td>\n",
       "    </tr>\n",
       "    <tr>\n",
       "      <th>min</th>\n",
       "      <td>0.000000</td>\n",
       "      <td>1.219000e+04</td>\n",
       "      <td>12.000000</td>\n",
       "      <td>0.000000</td>\n",
       "      <td>1.000000</td>\n",
       "      <td>1.000000</td>\n",
       "      <td>2.000000</td>\n",
       "      <td>1.000000</td>\n",
       "      <td>1.300000</td>\n",
       "      <td>0.000000</td>\n",
       "      <td>0.000000</td>\n",
       "      <td>181.000000</td>\n",
       "      <td>0.000000</td>\n",
       "      <td>1.000000</td>\n",
       "      <td>0.000000</td>\n",
       "      <td>13.000000</td>\n",
       "      <td>1.000000</td>\n",
       "    </tr>\n",
       "    <tr>\n",
       "      <th>25%</th>\n",
       "      <td>6.000000</td>\n",
       "      <td>3.400000e+06</td>\n",
       "      <td>40.000000</td>\n",
       "      <td>1.000000</td>\n",
       "      <td>2.520000</td>\n",
       "      <td>5.000000</td>\n",
       "      <td>18.600000</td>\n",
       "      <td>2.000000</td>\n",
       "      <td>7.000000</td>\n",
       "      <td>0.000000</td>\n",
       "      <td>18585.000000</td>\n",
       "      <td>9238.000000</td>\n",
       "      <td>0.000000</td>\n",
       "      <td>288.000000</td>\n",
       "      <td>0.000000</td>\n",
       "      <td>294.000000</td>\n",
       "      <td>45.000000</td>\n",
       "    </tr>\n",
       "    <tr>\n",
       "      <th>50%</th>\n",
       "      <td>9.000000</td>\n",
       "      <td>4.650000e+06</td>\n",
       "      <td>52.000000</td>\n",
       "      <td>2.000000</td>\n",
       "      <td>2.650000</td>\n",
       "      <td>9.000000</td>\n",
       "      <td>30.000000</td>\n",
       "      <td>4.000000</td>\n",
       "      <td>9.100000</td>\n",
       "      <td>1.000000</td>\n",
       "      <td>26726.000000</td>\n",
       "      <td>13098.500000</td>\n",
       "      <td>0.000000</td>\n",
       "      <td>455.000000</td>\n",
       "      <td>1.000000</td>\n",
       "      <td>502.000000</td>\n",
       "      <td>95.000000</td>\n",
       "    </tr>\n",
       "    <tr>\n",
       "      <th>75%</th>\n",
       "      <td>14.000000</td>\n",
       "      <td>6.800000e+06</td>\n",
       "      <td>69.900000</td>\n",
       "      <td>3.000000</td>\n",
       "      <td>2.800000</td>\n",
       "      <td>16.000000</td>\n",
       "      <td>42.300000</td>\n",
       "      <td>8.000000</td>\n",
       "      <td>12.000000</td>\n",
       "      <td>2.000000</td>\n",
       "      <td>37273.000000</td>\n",
       "      <td>16293.000000</td>\n",
       "      <td>1.000000</td>\n",
       "      <td>612.000000</td>\n",
       "      <td>1.000000</td>\n",
       "      <td>729.000000</td>\n",
       "      <td>232.000000</td>\n",
       "    </tr>\n",
       "    <tr>\n",
       "      <th>max</th>\n",
       "      <td>50.000000</td>\n",
       "      <td>7.630000e+08</td>\n",
       "      <td>900.000000</td>\n",
       "      <td>19.000000</td>\n",
       "      <td>100.000000</td>\n",
       "      <td>60.000000</td>\n",
       "      <td>409.700000</td>\n",
       "      <td>33.000000</td>\n",
       "      <td>112.000000</td>\n",
       "      <td>5.000000</td>\n",
       "      <td>84869.000000</td>\n",
       "      <td>65968.000000</td>\n",
       "      <td>3.000000</td>\n",
       "      <td>3190.000000</td>\n",
       "      <td>3.000000</td>\n",
       "      <td>1344.000000</td>\n",
       "      <td>1580.000000</td>\n",
       "    </tr>\n",
       "  </tbody>\n",
       "</table>\n",
       "</div>"
      ],
      "text/plain": [
       "       total_images    last_price    total_area         rooms  ceiling_height  \\\n",
       "count  23699.000000  2.369900e+04  23699.000000  23699.000000    14504.000000   \n",
       "mean       9.858475  6.541549e+06     60.348651      2.070636        2.771499   \n",
       "std        5.682529  1.088701e+07     35.654083      1.078405        1.261056   \n",
       "min        0.000000  1.219000e+04     12.000000      0.000000        1.000000   \n",
       "25%        6.000000  3.400000e+06     40.000000      1.000000        2.520000   \n",
       "50%        9.000000  4.650000e+06     52.000000      2.000000        2.650000   \n",
       "75%       14.000000  6.800000e+06     69.900000      3.000000        2.800000   \n",
       "max       50.000000  7.630000e+08    900.000000     19.000000      100.000000   \n",
       "\n",
       "       floors_total   living_area         floor  kitchen_area       balcony  \\\n",
       "count  23613.000000  21796.000000  23699.000000  21421.000000  12180.000000   \n",
       "mean      10.673824     34.457852      5.892358     10.569807      1.150082   \n",
       "std        6.597173     22.030445      4.885249      5.905438      1.071300   \n",
       "min        1.000000      2.000000      1.000000      1.300000      0.000000   \n",
       "25%        5.000000     18.600000      2.000000      7.000000      0.000000   \n",
       "50%        9.000000     30.000000      4.000000      9.100000      1.000000   \n",
       "75%       16.000000     42.300000      8.000000     12.000000      2.000000   \n",
       "max       60.000000    409.700000     33.000000    112.000000      5.000000   \n",
       "\n",
       "       airports_nearest  cityCenters_nearest  parks_around3000  parks_nearest  \\\n",
       "count      18157.000000         18180.000000      18181.000000    8079.000000   \n",
       "mean       28793.672193         14191.277833          0.611408     490.804555   \n",
       "std        12630.880622          8608.386210          0.802074     342.317995   \n",
       "min            0.000000           181.000000          0.000000       1.000000   \n",
       "25%        18585.000000          9238.000000          0.000000     288.000000   \n",
       "50%        26726.000000         13098.500000          0.000000     455.000000   \n",
       "75%        37273.000000         16293.000000          1.000000     612.000000   \n",
       "max        84869.000000         65968.000000          3.000000    3190.000000   \n",
       "\n",
       "       ponds_around3000  ponds_nearest  days_exposition  \n",
       "count      18181.000000    9110.000000     20518.000000  \n",
       "mean           0.770255     517.980900       180.888634  \n",
       "std            0.938346     277.720643       219.727988  \n",
       "min            0.000000      13.000000         1.000000  \n",
       "25%            0.000000     294.000000        45.000000  \n",
       "50%            1.000000     502.000000        95.000000  \n",
       "75%            1.000000     729.000000       232.000000  \n",
       "max            3.000000    1344.000000      1580.000000  "
      ]
     },
     "execution_count": 5,
     "metadata": {},
     "output_type": "execute_result"
    }
   ],
   "source": [
    "df.describe()"
   ]
  },
  {
   "cell_type": "markdown",
   "metadata": {},
   "source": [
    "### Вывод"
   ]
  },
  {
   "cell_type": "markdown",
   "metadata": {},
   "source": [
    "Данные состоят из 23699 строк и 22 столбцов.  \n",
    "Максимальное значение высоты потолков - 100 м, минимальное значение - 1 м, такого не может быть - нужно будет обработать эти значение.  \n",
    "Минимальное расстояние до аэропорта - 0 м, такого не может быть."
   ]
  },
  {
   "cell_type": "markdown",
   "metadata": {},
   "source": [
    "## Предобработка данных"
   ]
  },
  {
   "cell_type": "markdown",
   "metadata": {},
   "source": [
    "### Заполнение пропусков в данных"
   ]
  },
  {
   "cell_type": "markdown",
   "metadata": {},
   "source": [
    "Проверим количество пропусков."
   ]
  },
  {
   "cell_type": "code",
   "execution_count": 6,
   "metadata": {},
   "outputs": [
    {
     "data": {
      "text/plain": [
       "total_images                0\n",
       "last_price                  0\n",
       "total_area                  0\n",
       "first_day_exposition        0\n",
       "rooms                       0\n",
       "ceiling_height           9195\n",
       "floors_total               86\n",
       "living_area              1903\n",
       "floor                       0\n",
       "is_apartment            20924\n",
       "studio                      0\n",
       "open_plan                   0\n",
       "kitchen_area             2278\n",
       "balcony                 11519\n",
       "locality_name              49\n",
       "airports_nearest         5542\n",
       "cityCenters_nearest      5519\n",
       "parks_around3000         5518\n",
       "parks_nearest           15620\n",
       "ponds_around3000         5518\n",
       "ponds_nearest           14589\n",
       "days_exposition          3181\n",
       "dtype: int64"
      ]
     },
     "execution_count": 6,
     "metadata": {},
     "output_type": "execute_result"
    }
   ],
   "source": [
    "df.isna().sum()"
   ]
  },
  {
   "cell_type": "markdown",
   "metadata": {},
   "source": [
    "Определим доли пропусков по столбцам"
   ]
  },
  {
   "cell_type": "code",
   "execution_count": 7,
   "metadata": {},
   "outputs": [
    {
     "data": {
      "text/plain": [
       "total_images            0.000000\n",
       "last_price              0.000000\n",
       "total_area              0.000000\n",
       "first_day_exposition    0.000000\n",
       "rooms                   0.000000\n",
       "ceiling_height          0.387991\n",
       "floors_total            0.003629\n",
       "living_area             0.080299\n",
       "floor                   0.000000\n",
       "is_apartment            0.882906\n",
       "studio                  0.000000\n",
       "open_plan               0.000000\n",
       "kitchen_area            0.096122\n",
       "balcony                 0.486054\n",
       "locality_name           0.002068\n",
       "airports_nearest        0.233850\n",
       "cityCenters_nearest     0.232879\n",
       "parks_around3000        0.232837\n",
       "parks_nearest           0.659100\n",
       "ponds_around3000        0.232837\n",
       "ponds_nearest           0.615596\n",
       "days_exposition         0.134225\n",
       "dtype: float64"
      ]
     },
     "execution_count": 7,
     "metadata": {},
     "output_type": "execute_result"
    }
   ],
   "source": [
    "df.isna().mean()"
   ]
  },
  {
   "cell_type": "markdown",
   "metadata": {},
   "source": [
    "Доля пропусков в столбце с количеством этажей всего 0,36%, отсутствие этих данных не повлияет на результат исследования."
   ]
  },
  {
   "cell_type": "markdown",
   "metadata": {},
   "source": [
    "Доля пропусков в столбце с названиями населенных пунктов всего 0,2%, отсутствие этих данных не повлияет на результат исследования"
   ]
  },
  {
   "cell_type": "markdown",
   "metadata": {},
   "source": [
    "Высота потолков не указана в 9195 случаях, этажей в доме - в 86 случаях, жилая площадь - в 1903 случаях, являются ли апартаментами - в 20924 случаях, площадь кухни - в 2278 случаях, балкон - в 11519 случаях, название населенного пункта - в 49 случаях, расстояние до ближайшего аэропорта - в 5542 случаях, расстояние до центра города - в 5519 случаях, количество парков радиусе 3 км - в 5518 случаях, расстояние до ближайшего парка - в 15620 случаях, число водоемов в радиусе 3 км - в 5518 случаях, расстояние до ближайшего водоема - в 14589 случаях и сколько дней было размещени объявление - в 3181 случае."
   ]
  },
  {
   "cell_type": "markdown",
   "metadata": {},
   "source": [
    "В столбце is_apartment пропуски можно заменить на False, так как люди при заполнение данных просто пропускают эту графу из-за того, что они продают квартиру."
   ]
  },
  {
   "cell_type": "code",
   "execution_count": 8,
   "metadata": {},
   "outputs": [],
   "source": [
    "df['is_apartment'] = df['is_apartment'].fillna(False)"
   ]
  },
  {
   "cell_type": "markdown",
   "metadata": {},
   "source": [
    "Аналогично поступаем с столбцом balcony, продавцы квартир без балконов скорее всего пропускали эти данные"
   ]
  },
  {
   "cell_type": "code",
   "execution_count": 9,
   "metadata": {},
   "outputs": [],
   "source": [
    "df['balcony'] = df['balcony'].fillna(0)"
   ]
  },
  {
   "cell_type": "markdown",
   "metadata": {},
   "source": [
    "Пропуски в столбце ceiling_height не представляется возможным заполнить, так как высота потолков может сильно отличаться. Если бы у нас в данных были адреса, то можно было бы запонить средними значениями по дому, исключая верхние этажи.  \n",
    "Пропуски в столбце floors_total не представляется возможным заполнить, так как количество этажей разнится от дома к дому. Если бы у нас в данных были адреса, то можно было бы получить эти данные из других объявлений.  \n",
    "Пропуски в столбце living_area не представляется возможным заполнить.  \n",
    "Пропуски в столбце kitchen_area не представляется возможным заполнить.  \n",
    "Пропуски в столбце locality_name не представляется возможным заполнить. Можно заполнить значения найдя объявления с близким значением расстояния до аэропорта, но, думаю, что таким образом только внесу больше ошибок в данные.  \n",
    "Пропуски в airports_nearest не представляется возможным заполнить. Можно попытаться заполнить данными с других объявлений с тех же населеных пунктов.  \n",
    "Пропуски в cityCenters_nearest не представляется возможным заполнить.   \n",
    "Пропуски в parks_nearest не представляется возможным заполнить.  \n",
    "Пропуски в ponds_nearest не представляется возможным заполнить.  \n",
    "Пропуски в days_exposition не представляется возможным заполнить.  "
   ]
  },
  {
   "cell_type": "markdown",
   "metadata": {},
   "source": [
    "Поменяем значения высоты потолком менее 2.5 м (по САНПИНу меньше не должно быть) и более 10 м (предположим, что бывают трехярусные квартиры, где каждый этаж по 3 м и есть пространство, где все это сделано в очень высокий этаж) на NaN."
   ]
  },
  {
   "cell_type": "code",
   "execution_count": 10,
   "metadata": {},
   "outputs": [],
   "source": [
    "df.loc[(df['ceiling_height'] < 2.5) | (df['ceiling_height'] > 10), 'ceiling_height'] = np.nan"
   ]
  },
  {
   "cell_type": "markdown",
   "metadata": {},
   "source": [
    "Поменяем значения расстояния до аэропорта 0 м на NaN."
   ]
  },
  {
   "cell_type": "code",
   "execution_count": 11,
   "metadata": {},
   "outputs": [],
   "source": [
    "df.loc[df['airports_nearest'] == 0, 'airports_nearest'] = np.nan"
   ]
  },
  {
   "cell_type": "code",
   "execution_count": 12,
   "metadata": {},
   "outputs": [
    {
     "data": {
      "text/html": [
       "<div>\n",
       "<style scoped>\n",
       "    .dataframe tbody tr th:only-of-type {\n",
       "        vertical-align: middle;\n",
       "    }\n",
       "\n",
       "    .dataframe tbody tr th {\n",
       "        vertical-align: top;\n",
       "    }\n",
       "\n",
       "    .dataframe thead th {\n",
       "        text-align: right;\n",
       "    }\n",
       "</style>\n",
       "<table border=\"1\" class=\"dataframe\">\n",
       "  <thead>\n",
       "    <tr style=\"text-align: right;\">\n",
       "      <th></th>\n",
       "      <th>total_images</th>\n",
       "      <th>last_price</th>\n",
       "      <th>total_area</th>\n",
       "      <th>rooms</th>\n",
       "      <th>ceiling_height</th>\n",
       "      <th>floors_total</th>\n",
       "      <th>living_area</th>\n",
       "      <th>floor</th>\n",
       "      <th>kitchen_area</th>\n",
       "      <th>balcony</th>\n",
       "      <th>airports_nearest</th>\n",
       "      <th>cityCenters_nearest</th>\n",
       "      <th>parks_around3000</th>\n",
       "      <th>parks_nearest</th>\n",
       "      <th>ponds_around3000</th>\n",
       "      <th>ponds_nearest</th>\n",
       "      <th>days_exposition</th>\n",
       "    </tr>\n",
       "  </thead>\n",
       "  <tbody>\n",
       "    <tr>\n",
       "      <th>count</th>\n",
       "      <td>23699.000000</td>\n",
       "      <td>2.369900e+04</td>\n",
       "      <td>23699.000000</td>\n",
       "      <td>23699.000000</td>\n",
       "      <td>14406.000000</td>\n",
       "      <td>23613.000000</td>\n",
       "      <td>21796.000000</td>\n",
       "      <td>23699.000000</td>\n",
       "      <td>21421.000000</td>\n",
       "      <td>23699.000000</td>\n",
       "      <td>18156.000000</td>\n",
       "      <td>18180.000000</td>\n",
       "      <td>18181.000000</td>\n",
       "      <td>8079.000000</td>\n",
       "      <td>18181.000000</td>\n",
       "      <td>9110.000000</td>\n",
       "      <td>20518.000000</td>\n",
       "    </tr>\n",
       "    <tr>\n",
       "      <th>mean</th>\n",
       "      <td>9.858475</td>\n",
       "      <td>6.541549e+06</td>\n",
       "      <td>60.348651</td>\n",
       "      <td>2.070636</td>\n",
       "      <td>2.730103</td>\n",
       "      <td>10.673824</td>\n",
       "      <td>34.457852</td>\n",
       "      <td>5.892358</td>\n",
       "      <td>10.569807</td>\n",
       "      <td>0.591080</td>\n",
       "      <td>28795.258096</td>\n",
       "      <td>14191.277833</td>\n",
       "      <td>0.611408</td>\n",
       "      <td>490.804555</td>\n",
       "      <td>0.770255</td>\n",
       "      <td>517.980900</td>\n",
       "      <td>180.888634</td>\n",
       "    </tr>\n",
       "    <tr>\n",
       "      <th>std</th>\n",
       "      <td>5.682529</td>\n",
       "      <td>1.088701e+07</td>\n",
       "      <td>35.654083</td>\n",
       "      <td>1.078405</td>\n",
       "      <td>0.291818</td>\n",
       "      <td>6.597173</td>\n",
       "      <td>22.030445</td>\n",
       "      <td>4.885249</td>\n",
       "      <td>5.905438</td>\n",
       "      <td>0.959298</td>\n",
       "      <td>12629.420568</td>\n",
       "      <td>8608.386210</td>\n",
       "      <td>0.802074</td>\n",
       "      <td>342.317995</td>\n",
       "      <td>0.938346</td>\n",
       "      <td>277.720643</td>\n",
       "      <td>219.727988</td>\n",
       "    </tr>\n",
       "    <tr>\n",
       "      <th>min</th>\n",
       "      <td>0.000000</td>\n",
       "      <td>1.219000e+04</td>\n",
       "      <td>12.000000</td>\n",
       "      <td>0.000000</td>\n",
       "      <td>2.500000</td>\n",
       "      <td>1.000000</td>\n",
       "      <td>2.000000</td>\n",
       "      <td>1.000000</td>\n",
       "      <td>1.300000</td>\n",
       "      <td>0.000000</td>\n",
       "      <td>6450.000000</td>\n",
       "      <td>181.000000</td>\n",
       "      <td>0.000000</td>\n",
       "      <td>1.000000</td>\n",
       "      <td>0.000000</td>\n",
       "      <td>13.000000</td>\n",
       "      <td>1.000000</td>\n",
       "    </tr>\n",
       "    <tr>\n",
       "      <th>25%</th>\n",
       "      <td>6.000000</td>\n",
       "      <td>3.400000e+06</td>\n",
       "      <td>40.000000</td>\n",
       "      <td>1.000000</td>\n",
       "      <td>2.520000</td>\n",
       "      <td>5.000000</td>\n",
       "      <td>18.600000</td>\n",
       "      <td>2.000000</td>\n",
       "      <td>7.000000</td>\n",
       "      <td>0.000000</td>\n",
       "      <td>18585.000000</td>\n",
       "      <td>9238.000000</td>\n",
       "      <td>0.000000</td>\n",
       "      <td>288.000000</td>\n",
       "      <td>0.000000</td>\n",
       "      <td>294.000000</td>\n",
       "      <td>45.000000</td>\n",
       "    </tr>\n",
       "    <tr>\n",
       "      <th>50%</th>\n",
       "      <td>9.000000</td>\n",
       "      <td>4.650000e+06</td>\n",
       "      <td>52.000000</td>\n",
       "      <td>2.000000</td>\n",
       "      <td>2.650000</td>\n",
       "      <td>9.000000</td>\n",
       "      <td>30.000000</td>\n",
       "      <td>4.000000</td>\n",
       "      <td>9.100000</td>\n",
       "      <td>0.000000</td>\n",
       "      <td>26726.000000</td>\n",
       "      <td>13098.500000</td>\n",
       "      <td>0.000000</td>\n",
       "      <td>455.000000</td>\n",
       "      <td>1.000000</td>\n",
       "      <td>502.000000</td>\n",
       "      <td>95.000000</td>\n",
       "    </tr>\n",
       "    <tr>\n",
       "      <th>75%</th>\n",
       "      <td>14.000000</td>\n",
       "      <td>6.800000e+06</td>\n",
       "      <td>69.900000</td>\n",
       "      <td>3.000000</td>\n",
       "      <td>2.800000</td>\n",
       "      <td>16.000000</td>\n",
       "      <td>42.300000</td>\n",
       "      <td>8.000000</td>\n",
       "      <td>12.000000</td>\n",
       "      <td>1.000000</td>\n",
       "      <td>37273.500000</td>\n",
       "      <td>16293.000000</td>\n",
       "      <td>1.000000</td>\n",
       "      <td>612.000000</td>\n",
       "      <td>1.000000</td>\n",
       "      <td>729.000000</td>\n",
       "      <td>232.000000</td>\n",
       "    </tr>\n",
       "    <tr>\n",
       "      <th>max</th>\n",
       "      <td>50.000000</td>\n",
       "      <td>7.630000e+08</td>\n",
       "      <td>900.000000</td>\n",
       "      <td>19.000000</td>\n",
       "      <td>8.300000</td>\n",
       "      <td>60.000000</td>\n",
       "      <td>409.700000</td>\n",
       "      <td>33.000000</td>\n",
       "      <td>112.000000</td>\n",
       "      <td>5.000000</td>\n",
       "      <td>84869.000000</td>\n",
       "      <td>65968.000000</td>\n",
       "      <td>3.000000</td>\n",
       "      <td>3190.000000</td>\n",
       "      <td>3.000000</td>\n",
       "      <td>1344.000000</td>\n",
       "      <td>1580.000000</td>\n",
       "    </tr>\n",
       "  </tbody>\n",
       "</table>\n",
       "</div>"
      ],
      "text/plain": [
       "       total_images    last_price    total_area         rooms  ceiling_height  \\\n",
       "count  23699.000000  2.369900e+04  23699.000000  23699.000000    14406.000000   \n",
       "mean       9.858475  6.541549e+06     60.348651      2.070636        2.730103   \n",
       "std        5.682529  1.088701e+07     35.654083      1.078405        0.291818   \n",
       "min        0.000000  1.219000e+04     12.000000      0.000000        2.500000   \n",
       "25%        6.000000  3.400000e+06     40.000000      1.000000        2.520000   \n",
       "50%        9.000000  4.650000e+06     52.000000      2.000000        2.650000   \n",
       "75%       14.000000  6.800000e+06     69.900000      3.000000        2.800000   \n",
       "max       50.000000  7.630000e+08    900.000000     19.000000        8.300000   \n",
       "\n",
       "       floors_total   living_area         floor  kitchen_area       balcony  \\\n",
       "count  23613.000000  21796.000000  23699.000000  21421.000000  23699.000000   \n",
       "mean      10.673824     34.457852      5.892358     10.569807      0.591080   \n",
       "std        6.597173     22.030445      4.885249      5.905438      0.959298   \n",
       "min        1.000000      2.000000      1.000000      1.300000      0.000000   \n",
       "25%        5.000000     18.600000      2.000000      7.000000      0.000000   \n",
       "50%        9.000000     30.000000      4.000000      9.100000      0.000000   \n",
       "75%       16.000000     42.300000      8.000000     12.000000      1.000000   \n",
       "max       60.000000    409.700000     33.000000    112.000000      5.000000   \n",
       "\n",
       "       airports_nearest  cityCenters_nearest  parks_around3000  parks_nearest  \\\n",
       "count      18156.000000         18180.000000      18181.000000    8079.000000   \n",
       "mean       28795.258096         14191.277833          0.611408     490.804555   \n",
       "std        12629.420568          8608.386210          0.802074     342.317995   \n",
       "min         6450.000000           181.000000          0.000000       1.000000   \n",
       "25%        18585.000000          9238.000000          0.000000     288.000000   \n",
       "50%        26726.000000         13098.500000          0.000000     455.000000   \n",
       "75%        37273.500000         16293.000000          1.000000     612.000000   \n",
       "max        84869.000000         65968.000000          3.000000    3190.000000   \n",
       "\n",
       "       ponds_around3000  ponds_nearest  days_exposition  \n",
       "count      18181.000000    9110.000000     20518.000000  \n",
       "mean           0.770255     517.980900       180.888634  \n",
       "std            0.938346     277.720643       219.727988  \n",
       "min            0.000000      13.000000         1.000000  \n",
       "25%            0.000000     294.000000        45.000000  \n",
       "50%            1.000000     502.000000        95.000000  \n",
       "75%            1.000000     729.000000       232.000000  \n",
       "max            3.000000    1344.000000      1580.000000  "
      ]
     },
     "execution_count": 12,
     "metadata": {},
     "output_type": "execute_result"
    }
   ],
   "source": [
    "df.describe()"
   ]
  },
  {
   "cell_type": "markdown",
   "metadata": {},
   "source": [
    "Посмотрим на типы данных наших столбцов"
   ]
  },
  {
   "cell_type": "code",
   "execution_count": 13,
   "metadata": {},
   "outputs": [
    {
     "name": "stdout",
     "output_type": "stream",
     "text": [
      "<class 'pandas.core.frame.DataFrame'>\n",
      "RangeIndex: 23699 entries, 0 to 23698\n",
      "Data columns (total 22 columns):\n",
      " #   Column                Non-Null Count  Dtype  \n",
      "---  ------                --------------  -----  \n",
      " 0   total_images          23699 non-null  int64  \n",
      " 1   last_price            23699 non-null  float64\n",
      " 2   total_area            23699 non-null  float64\n",
      " 3   first_day_exposition  23699 non-null  object \n",
      " 4   rooms                 23699 non-null  int64  \n",
      " 5   ceiling_height        14406 non-null  float64\n",
      " 6   floors_total          23613 non-null  float64\n",
      " 7   living_area           21796 non-null  float64\n",
      " 8   floor                 23699 non-null  int64  \n",
      " 9   is_apartment          23699 non-null  bool   \n",
      " 10  studio                23699 non-null  bool   \n",
      " 11  open_plan             23699 non-null  bool   \n",
      " 12  kitchen_area          21421 non-null  float64\n",
      " 13  balcony               23699 non-null  float64\n",
      " 14  locality_name         23650 non-null  object \n",
      " 15  airports_nearest      18156 non-null  float64\n",
      " 16  cityCenters_nearest   18180 non-null  float64\n",
      " 17  parks_around3000      18181 non-null  float64\n",
      " 18  parks_nearest         8079 non-null   float64\n",
      " 19  ponds_around3000      18181 non-null  float64\n",
      " 20  ponds_nearest         9110 non-null   float64\n",
      " 21  days_exposition       20518 non-null  float64\n",
      "dtypes: bool(3), float64(14), int64(3), object(2)\n",
      "memory usage: 3.5+ MB\n"
     ]
    }
   ],
   "source": [
    "df.info()"
   ]
  },
  {
   "cell_type": "markdown",
   "metadata": {},
   "source": [
    "Тип данных first_day_exposition поменяем на datetime - дата продажи,  \n",
    "floors_total поменяем на int - могут быть только целочисленные значения,  \n",
    "balcony поменяем на int - могут быть только целочисленные значения,  \n",
    "airports_nearest поменяем на int - могут быть только целочисленные значения,  \n",
    "cityCenters_nearest поменяем на int - могут быть только целочисленные значения,  \n",
    "parks_around3000 поменяем на int - могут быть только целочисленные значения,  \n",
    "parks_nearest поменяем на int - могут быть только целочисленные значения,  \n",
    "ponds_around3000 поменяем на int - могут быть только целочисленные значения,  \n",
    "ponds_nearest поменяем на int - могут быть только целочисленные значения,  \n",
    "days_exposition поменяем на int - могут быть только целочисленные значения."
   ]
  },
  {
   "cell_type": "code",
   "execution_count": 14,
   "metadata": {},
   "outputs": [
    {
     "data": {
      "text/html": [
       "<div>\n",
       "<style scoped>\n",
       "    .dataframe tbody tr th:only-of-type {\n",
       "        vertical-align: middle;\n",
       "    }\n",
       "\n",
       "    .dataframe tbody tr th {\n",
       "        vertical-align: top;\n",
       "    }\n",
       "\n",
       "    .dataframe thead th {\n",
       "        text-align: right;\n",
       "    }\n",
       "</style>\n",
       "<table border=\"1\" class=\"dataframe\">\n",
       "  <thead>\n",
       "    <tr style=\"text-align: right;\">\n",
       "      <th></th>\n",
       "      <th>total_images</th>\n",
       "      <th>last_price</th>\n",
       "      <th>total_area</th>\n",
       "      <th>rooms</th>\n",
       "      <th>ceiling_height</th>\n",
       "      <th>floors_total</th>\n",
       "      <th>living_area</th>\n",
       "      <th>floor</th>\n",
       "      <th>kitchen_area</th>\n",
       "      <th>balcony</th>\n",
       "      <th>airports_nearest</th>\n",
       "      <th>cityCenters_nearest</th>\n",
       "      <th>parks_around3000</th>\n",
       "      <th>parks_nearest</th>\n",
       "      <th>ponds_around3000</th>\n",
       "      <th>ponds_nearest</th>\n",
       "      <th>days_exposition</th>\n",
       "    </tr>\n",
       "  </thead>\n",
       "  <tbody>\n",
       "    <tr>\n",
       "      <th>count</th>\n",
       "      <td>23699.000000</td>\n",
       "      <td>2.369900e+04</td>\n",
       "      <td>23699.000000</td>\n",
       "      <td>23699.000000</td>\n",
       "      <td>14406.000000</td>\n",
       "      <td>23613.000000</td>\n",
       "      <td>21796.000000</td>\n",
       "      <td>23699.000000</td>\n",
       "      <td>21421.000000</td>\n",
       "      <td>23699.000000</td>\n",
       "      <td>18156.000000</td>\n",
       "      <td>18180.000000</td>\n",
       "      <td>18181.000000</td>\n",
       "      <td>8079.000000</td>\n",
       "      <td>18181.000000</td>\n",
       "      <td>9110.000000</td>\n",
       "      <td>20518.000000</td>\n",
       "    </tr>\n",
       "    <tr>\n",
       "      <th>mean</th>\n",
       "      <td>9.858475</td>\n",
       "      <td>6.541549e+06</td>\n",
       "      <td>60.348651</td>\n",
       "      <td>2.070636</td>\n",
       "      <td>2.730103</td>\n",
       "      <td>10.673824</td>\n",
       "      <td>34.457852</td>\n",
       "      <td>5.892358</td>\n",
       "      <td>10.569807</td>\n",
       "      <td>0.591080</td>\n",
       "      <td>28795.258096</td>\n",
       "      <td>14191.277833</td>\n",
       "      <td>0.611408</td>\n",
       "      <td>490.804555</td>\n",
       "      <td>0.770255</td>\n",
       "      <td>517.980900</td>\n",
       "      <td>180.888634</td>\n",
       "    </tr>\n",
       "    <tr>\n",
       "      <th>std</th>\n",
       "      <td>5.682529</td>\n",
       "      <td>1.088701e+07</td>\n",
       "      <td>35.654083</td>\n",
       "      <td>1.078405</td>\n",
       "      <td>0.291818</td>\n",
       "      <td>6.597173</td>\n",
       "      <td>22.030445</td>\n",
       "      <td>4.885249</td>\n",
       "      <td>5.905438</td>\n",
       "      <td>0.959298</td>\n",
       "      <td>12629.420568</td>\n",
       "      <td>8608.386210</td>\n",
       "      <td>0.802074</td>\n",
       "      <td>342.317995</td>\n",
       "      <td>0.938346</td>\n",
       "      <td>277.720643</td>\n",
       "      <td>219.727988</td>\n",
       "    </tr>\n",
       "    <tr>\n",
       "      <th>min</th>\n",
       "      <td>0.000000</td>\n",
       "      <td>1.219000e+04</td>\n",
       "      <td>12.000000</td>\n",
       "      <td>0.000000</td>\n",
       "      <td>2.500000</td>\n",
       "      <td>1.000000</td>\n",
       "      <td>2.000000</td>\n",
       "      <td>1.000000</td>\n",
       "      <td>1.300000</td>\n",
       "      <td>0.000000</td>\n",
       "      <td>6450.000000</td>\n",
       "      <td>181.000000</td>\n",
       "      <td>0.000000</td>\n",
       "      <td>1.000000</td>\n",
       "      <td>0.000000</td>\n",
       "      <td>13.000000</td>\n",
       "      <td>1.000000</td>\n",
       "    </tr>\n",
       "    <tr>\n",
       "      <th>25%</th>\n",
       "      <td>6.000000</td>\n",
       "      <td>3.400000e+06</td>\n",
       "      <td>40.000000</td>\n",
       "      <td>1.000000</td>\n",
       "      <td>2.520000</td>\n",
       "      <td>5.000000</td>\n",
       "      <td>18.600000</td>\n",
       "      <td>2.000000</td>\n",
       "      <td>7.000000</td>\n",
       "      <td>0.000000</td>\n",
       "      <td>18585.000000</td>\n",
       "      <td>9238.000000</td>\n",
       "      <td>0.000000</td>\n",
       "      <td>288.000000</td>\n",
       "      <td>0.000000</td>\n",
       "      <td>294.000000</td>\n",
       "      <td>45.000000</td>\n",
       "    </tr>\n",
       "    <tr>\n",
       "      <th>50%</th>\n",
       "      <td>9.000000</td>\n",
       "      <td>4.650000e+06</td>\n",
       "      <td>52.000000</td>\n",
       "      <td>2.000000</td>\n",
       "      <td>2.650000</td>\n",
       "      <td>9.000000</td>\n",
       "      <td>30.000000</td>\n",
       "      <td>4.000000</td>\n",
       "      <td>9.100000</td>\n",
       "      <td>0.000000</td>\n",
       "      <td>26726.000000</td>\n",
       "      <td>13098.500000</td>\n",
       "      <td>0.000000</td>\n",
       "      <td>455.000000</td>\n",
       "      <td>1.000000</td>\n",
       "      <td>502.000000</td>\n",
       "      <td>95.000000</td>\n",
       "    </tr>\n",
       "    <tr>\n",
       "      <th>75%</th>\n",
       "      <td>14.000000</td>\n",
       "      <td>6.800000e+06</td>\n",
       "      <td>69.900000</td>\n",
       "      <td>3.000000</td>\n",
       "      <td>2.800000</td>\n",
       "      <td>16.000000</td>\n",
       "      <td>42.300000</td>\n",
       "      <td>8.000000</td>\n",
       "      <td>12.000000</td>\n",
       "      <td>1.000000</td>\n",
       "      <td>37273.500000</td>\n",
       "      <td>16293.000000</td>\n",
       "      <td>1.000000</td>\n",
       "      <td>612.000000</td>\n",
       "      <td>1.000000</td>\n",
       "      <td>729.000000</td>\n",
       "      <td>232.000000</td>\n",
       "    </tr>\n",
       "    <tr>\n",
       "      <th>max</th>\n",
       "      <td>50.000000</td>\n",
       "      <td>7.630000e+08</td>\n",
       "      <td>900.000000</td>\n",
       "      <td>19.000000</td>\n",
       "      <td>8.300000</td>\n",
       "      <td>60.000000</td>\n",
       "      <td>409.700000</td>\n",
       "      <td>33.000000</td>\n",
       "      <td>112.000000</td>\n",
       "      <td>5.000000</td>\n",
       "      <td>84869.000000</td>\n",
       "      <td>65968.000000</td>\n",
       "      <td>3.000000</td>\n",
       "      <td>3190.000000</td>\n",
       "      <td>3.000000</td>\n",
       "      <td>1344.000000</td>\n",
       "      <td>1580.000000</td>\n",
       "    </tr>\n",
       "  </tbody>\n",
       "</table>\n",
       "</div>"
      ],
      "text/plain": [
       "       total_images    last_price    total_area         rooms  ceiling_height  \\\n",
       "count  23699.000000  2.369900e+04  23699.000000  23699.000000    14406.000000   \n",
       "mean       9.858475  6.541549e+06     60.348651      2.070636        2.730103   \n",
       "std        5.682529  1.088701e+07     35.654083      1.078405        0.291818   \n",
       "min        0.000000  1.219000e+04     12.000000      0.000000        2.500000   \n",
       "25%        6.000000  3.400000e+06     40.000000      1.000000        2.520000   \n",
       "50%        9.000000  4.650000e+06     52.000000      2.000000        2.650000   \n",
       "75%       14.000000  6.800000e+06     69.900000      3.000000        2.800000   \n",
       "max       50.000000  7.630000e+08    900.000000     19.000000        8.300000   \n",
       "\n",
       "       floors_total   living_area         floor  kitchen_area       balcony  \\\n",
       "count  23613.000000  21796.000000  23699.000000  21421.000000  23699.000000   \n",
       "mean      10.673824     34.457852      5.892358     10.569807      0.591080   \n",
       "std        6.597173     22.030445      4.885249      5.905438      0.959298   \n",
       "min        1.000000      2.000000      1.000000      1.300000      0.000000   \n",
       "25%        5.000000     18.600000      2.000000      7.000000      0.000000   \n",
       "50%        9.000000     30.000000      4.000000      9.100000      0.000000   \n",
       "75%       16.000000     42.300000      8.000000     12.000000      1.000000   \n",
       "max       60.000000    409.700000     33.000000    112.000000      5.000000   \n",
       "\n",
       "       airports_nearest  cityCenters_nearest  parks_around3000  parks_nearest  \\\n",
       "count      18156.000000         18180.000000      18181.000000    8079.000000   \n",
       "mean       28795.258096         14191.277833          0.611408     490.804555   \n",
       "std        12629.420568          8608.386210          0.802074     342.317995   \n",
       "min         6450.000000           181.000000          0.000000       1.000000   \n",
       "25%        18585.000000          9238.000000          0.000000     288.000000   \n",
       "50%        26726.000000         13098.500000          0.000000     455.000000   \n",
       "75%        37273.500000         16293.000000          1.000000     612.000000   \n",
       "max        84869.000000         65968.000000          3.000000    3190.000000   \n",
       "\n",
       "       ponds_around3000  ponds_nearest  days_exposition  \n",
       "count      18181.000000    9110.000000     20518.000000  \n",
       "mean           0.770255     517.980900       180.888634  \n",
       "std            0.938346     277.720643       219.727988  \n",
       "min            0.000000      13.000000         1.000000  \n",
       "25%            0.000000     294.000000        45.000000  \n",
       "50%            1.000000     502.000000        95.000000  \n",
       "75%            1.000000     729.000000       232.000000  \n",
       "max            3.000000    1344.000000      1580.000000  "
      ]
     },
     "execution_count": 14,
     "metadata": {},
     "output_type": "execute_result"
    }
   ],
   "source": [
    "df.describe()"
   ]
  },
  {
   "cell_type": "code",
   "execution_count": 15,
   "metadata": {},
   "outputs": [
    {
     "data": {
      "text/plain": [
       "0       2019-03-07\n",
       "1       2018-12-04\n",
       "2       2015-08-20\n",
       "3       2015-07-24\n",
       "4       2018-06-19\n",
       "           ...    \n",
       "23694   2017-03-21\n",
       "23695   2018-01-15\n",
       "23696   2018-02-11\n",
       "23697   2017-03-28\n",
       "23698   2017-07-21\n",
       "Name: first_day_exposition, Length: 23699, dtype: datetime64[ns]"
      ]
     },
     "execution_count": 15,
     "metadata": {},
     "output_type": "execute_result"
    }
   ],
   "source": [
    "pd.to_datetime(df['first_day_exposition'], format='%Y-%m-%dT%H:%M:%S')"
   ]
  },
  {
   "cell_type": "code",
   "execution_count": 16,
   "metadata": {},
   "outputs": [],
   "source": [
    "df['floors_total'] = df['floors_total'].astype('int8', errors='ignore')"
   ]
  },
  {
   "cell_type": "code",
   "execution_count": 17,
   "metadata": {},
   "outputs": [],
   "source": [
    "df['balcony'] = df['balcony'].astype('int8')"
   ]
  },
  {
   "cell_type": "code",
   "execution_count": 18,
   "metadata": {},
   "outputs": [],
   "source": [
    "df['airports_nearest'] = df['airports_nearest'].astype('int32', errors='ignore')"
   ]
  },
  {
   "cell_type": "code",
   "execution_count": 19,
   "metadata": {},
   "outputs": [],
   "source": [
    "df['cityCenters_nearest'] = df['cityCenters_nearest'].astype('int32', errors='ignore')"
   ]
  },
  {
   "cell_type": "code",
   "execution_count": 20,
   "metadata": {},
   "outputs": [],
   "source": [
    "df['parks_around3000'] = df['parks_around3000'].astype('int8', errors='ignore')"
   ]
  },
  {
   "cell_type": "code",
   "execution_count": 21,
   "metadata": {},
   "outputs": [],
   "source": [
    "df['parks_nearest'] = df['parks_nearest'].astype('int16', errors='ignore')"
   ]
  },
  {
   "cell_type": "code",
   "execution_count": 22,
   "metadata": {},
   "outputs": [],
   "source": [
    "df['ponds_around3000'] = df['ponds_around3000'].astype('int8', errors='ignore')"
   ]
  },
  {
   "cell_type": "code",
   "execution_count": 23,
   "metadata": {},
   "outputs": [],
   "source": [
    "df['ponds_nearest'] = df['ponds_nearest'].astype('int16', errors='ignore')"
   ]
  },
  {
   "cell_type": "code",
   "execution_count": 24,
   "metadata": {},
   "outputs": [],
   "source": [
    "df['days_exposition'] = df['days_exposition'].astype('int16', errors='ignore')"
   ]
  },
  {
   "cell_type": "code",
   "execution_count": 25,
   "metadata": {},
   "outputs": [],
   "source": [
    "df['last_price'] = df['last_price'].astype('float32')\n",
    "df['total_area'] = df['total_area'].astype('float32')\n",
    "df['ceiling_height'] = df['ceiling_height'].astype('float32')\n",
    "df['floors_total'] = df['floors_total'].astype('float32')\n",
    "df['living_area'] = df['living_area'].astype('float32')\n",
    "df['kitchen_area'] = df['kitchen_area'].astype('float32')\n",
    "df['airports_nearest'] = df['airports_nearest'].astype('float32')\n",
    "df['cityCenters_nearest'] = df['cityCenters_nearest'].astype('float32')\n",
    "df['parks_nearest'] = df['parks_nearest'].astype('float32')\n",
    "df['ponds_nearest'] = df['ponds_nearest'].astype('float32')\n",
    "df['days_exposition'] = df['days_exposition'].astype('float32')"
   ]
  },
  {
   "cell_type": "markdown",
   "metadata": {},
   "source": [
    "## Расчёты и добавление результатов в таблицу"
   ]
  },
  {
   "cell_type": "markdown",
   "metadata": {},
   "source": [
    "Посчитаем и добавим в таблицу цену квадратного метра для каждого объявления."
   ]
  },
  {
   "cell_type": "code",
   "execution_count": 26,
   "metadata": {},
   "outputs": [],
   "source": [
    "df['price_per_sq_m'] = df['last_price'] / df['total_area']"
   ]
  },
  {
   "cell_type": "markdown",
   "metadata": {},
   "source": [
    "Добавим в таблицу день недели, месяц и год публикации объявления."
   ]
  },
  {
   "cell_type": "code",
   "execution_count": 27,
   "metadata": {},
   "outputs": [],
   "source": [
    "df['first_day_exposition_day'] = pd.DatetimeIndex(df['first_day_exposition']).dayofweek"
   ]
  },
  {
   "cell_type": "code",
   "execution_count": 28,
   "metadata": {},
   "outputs": [],
   "source": [
    "df['first_day_exposition_month'] = pd.DatetimeIndex(df['first_day_exposition']).month"
   ]
  },
  {
   "cell_type": "code",
   "execution_count": 29,
   "metadata": {},
   "outputs": [],
   "source": [
    "df['first_day_exposition_year'] = pd.DatetimeIndex(df['first_day_exposition']).year"
   ]
  },
  {
   "cell_type": "markdown",
   "metadata": {},
   "source": [
    "Добавим столбец, показывающий что это первый ('first') этаж, последний ('last') или другой ('another')."
   ]
  },
  {
   "cell_type": "code",
   "execution_count": 30,
   "metadata": {},
   "outputs": [],
   "source": [
    "df['floor_category'] = 'another'\n",
    "df.loc[df['floor'] == 1, 'floor_category'] = 'first'\n",
    "df.loc[df['floor'] == df['floors_total'], 'floor_category'] = 'last'"
   ]
  },
  {
   "cell_type": "markdown",
   "metadata": {},
   "source": [
    "Добавим в таблицу столбцы с соотношением жилой площади к общей и отношение площади кухни к общей площади."
   ]
  },
  {
   "cell_type": "code",
   "execution_count": 31,
   "metadata": {},
   "outputs": [],
   "source": [
    "df['living_to_total'] = df['living_area'] / df['total_area']\n",
    "df['kitchen_to_total'] = df['kitchen_area'] / df['total_area']"
   ]
  },
  {
   "cell_type": "code",
   "execution_count": 32,
   "metadata": {},
   "outputs": [
    {
     "data": {
      "text/html": [
       "<div>\n",
       "<style scoped>\n",
       "    .dataframe tbody tr th:only-of-type {\n",
       "        vertical-align: middle;\n",
       "    }\n",
       "\n",
       "    .dataframe tbody tr th {\n",
       "        vertical-align: top;\n",
       "    }\n",
       "\n",
       "    .dataframe thead th {\n",
       "        text-align: right;\n",
       "    }\n",
       "</style>\n",
       "<table border=\"1\" class=\"dataframe\">\n",
       "  <thead>\n",
       "    <tr style=\"text-align: right;\">\n",
       "      <th></th>\n",
       "      <th>total_images</th>\n",
       "      <th>last_price</th>\n",
       "      <th>total_area</th>\n",
       "      <th>first_day_exposition</th>\n",
       "      <th>rooms</th>\n",
       "      <th>ceiling_height</th>\n",
       "      <th>floors_total</th>\n",
       "      <th>living_area</th>\n",
       "      <th>floor</th>\n",
       "      <th>is_apartment</th>\n",
       "      <th>...</th>\n",
       "      <th>ponds_around3000</th>\n",
       "      <th>ponds_nearest</th>\n",
       "      <th>days_exposition</th>\n",
       "      <th>price_per_sq_m</th>\n",
       "      <th>first_day_exposition_day</th>\n",
       "      <th>first_day_exposition_month</th>\n",
       "      <th>first_day_exposition_year</th>\n",
       "      <th>floor_category</th>\n",
       "      <th>living_to_total</th>\n",
       "      <th>kitchen_to_total</th>\n",
       "    </tr>\n",
       "  </thead>\n",
       "  <tbody>\n",
       "    <tr>\n",
       "      <th>0</th>\n",
       "      <td>20</td>\n",
       "      <td>13000000.0</td>\n",
       "      <td>108.000000</td>\n",
       "      <td>2019-03-07T00:00:00</td>\n",
       "      <td>3</td>\n",
       "      <td>2.70</td>\n",
       "      <td>16.0</td>\n",
       "      <td>51.000000</td>\n",
       "      <td>8</td>\n",
       "      <td>False</td>\n",
       "      <td>...</td>\n",
       "      <td>2.0</td>\n",
       "      <td>755.0</td>\n",
       "      <td>NaN</td>\n",
       "      <td>120370.367188</td>\n",
       "      <td>3</td>\n",
       "      <td>3</td>\n",
       "      <td>2019</td>\n",
       "      <td>another</td>\n",
       "      <td>0.472222</td>\n",
       "      <td>0.231481</td>\n",
       "    </tr>\n",
       "    <tr>\n",
       "      <th>1</th>\n",
       "      <td>7</td>\n",
       "      <td>3350000.0</td>\n",
       "      <td>40.400002</td>\n",
       "      <td>2018-12-04T00:00:00</td>\n",
       "      <td>1</td>\n",
       "      <td>NaN</td>\n",
       "      <td>11.0</td>\n",
       "      <td>18.600000</td>\n",
       "      <td>1</td>\n",
       "      <td>False</td>\n",
       "      <td>...</td>\n",
       "      <td>0.0</td>\n",
       "      <td>NaN</td>\n",
       "      <td>81.0</td>\n",
       "      <td>82920.789062</td>\n",
       "      <td>1</td>\n",
       "      <td>12</td>\n",
       "      <td>2018</td>\n",
       "      <td>first</td>\n",
       "      <td>0.460396</td>\n",
       "      <td>0.272277</td>\n",
       "    </tr>\n",
       "    <tr>\n",
       "      <th>2</th>\n",
       "      <td>10</td>\n",
       "      <td>5196000.0</td>\n",
       "      <td>56.000000</td>\n",
       "      <td>2015-08-20T00:00:00</td>\n",
       "      <td>2</td>\n",
       "      <td>NaN</td>\n",
       "      <td>5.0</td>\n",
       "      <td>34.299999</td>\n",
       "      <td>4</td>\n",
       "      <td>False</td>\n",
       "      <td>...</td>\n",
       "      <td>2.0</td>\n",
       "      <td>574.0</td>\n",
       "      <td>558.0</td>\n",
       "      <td>92785.710938</td>\n",
       "      <td>3</td>\n",
       "      <td>8</td>\n",
       "      <td>2015</td>\n",
       "      <td>another</td>\n",
       "      <td>0.612500</td>\n",
       "      <td>0.148214</td>\n",
       "    </tr>\n",
       "    <tr>\n",
       "      <th>3</th>\n",
       "      <td>0</td>\n",
       "      <td>64900000.0</td>\n",
       "      <td>159.000000</td>\n",
       "      <td>2015-07-24T00:00:00</td>\n",
       "      <td>3</td>\n",
       "      <td>NaN</td>\n",
       "      <td>14.0</td>\n",
       "      <td>NaN</td>\n",
       "      <td>9</td>\n",
       "      <td>False</td>\n",
       "      <td>...</td>\n",
       "      <td>3.0</td>\n",
       "      <td>234.0</td>\n",
       "      <td>424.0</td>\n",
       "      <td>408176.093750</td>\n",
       "      <td>4</td>\n",
       "      <td>7</td>\n",
       "      <td>2015</td>\n",
       "      <td>another</td>\n",
       "      <td>NaN</td>\n",
       "      <td>NaN</td>\n",
       "    </tr>\n",
       "    <tr>\n",
       "      <th>4</th>\n",
       "      <td>2</td>\n",
       "      <td>10000000.0</td>\n",
       "      <td>100.000000</td>\n",
       "      <td>2018-06-19T00:00:00</td>\n",
       "      <td>2</td>\n",
       "      <td>3.03</td>\n",
       "      <td>14.0</td>\n",
       "      <td>32.000000</td>\n",
       "      <td>13</td>\n",
       "      <td>False</td>\n",
       "      <td>...</td>\n",
       "      <td>1.0</td>\n",
       "      <td>48.0</td>\n",
       "      <td>121.0</td>\n",
       "      <td>100000.000000</td>\n",
       "      <td>1</td>\n",
       "      <td>6</td>\n",
       "      <td>2018</td>\n",
       "      <td>another</td>\n",
       "      <td>0.320000</td>\n",
       "      <td>0.410000</td>\n",
       "    </tr>\n",
       "  </tbody>\n",
       "</table>\n",
       "<p>5 rows × 29 columns</p>\n",
       "</div>"
      ],
      "text/plain": [
       "   total_images  last_price  total_area first_day_exposition  rooms  \\\n",
       "0            20  13000000.0  108.000000  2019-03-07T00:00:00      3   \n",
       "1             7   3350000.0   40.400002  2018-12-04T00:00:00      1   \n",
       "2            10   5196000.0   56.000000  2015-08-20T00:00:00      2   \n",
       "3             0  64900000.0  159.000000  2015-07-24T00:00:00      3   \n",
       "4             2  10000000.0  100.000000  2018-06-19T00:00:00      2   \n",
       "\n",
       "   ceiling_height  floors_total  living_area  floor  is_apartment  ...  \\\n",
       "0            2.70          16.0    51.000000      8         False  ...   \n",
       "1             NaN          11.0    18.600000      1         False  ...   \n",
       "2             NaN           5.0    34.299999      4         False  ...   \n",
       "3             NaN          14.0          NaN      9         False  ...   \n",
       "4            3.03          14.0    32.000000     13         False  ...   \n",
       "\n",
       "   ponds_around3000  ponds_nearest  days_exposition  price_per_sq_m  \\\n",
       "0               2.0          755.0              NaN   120370.367188   \n",
       "1               0.0            NaN             81.0    82920.789062   \n",
       "2               2.0          574.0            558.0    92785.710938   \n",
       "3               3.0          234.0            424.0   408176.093750   \n",
       "4               1.0           48.0            121.0   100000.000000   \n",
       "\n",
       "  first_day_exposition_day  first_day_exposition_month  \\\n",
       "0                        3                           3   \n",
       "1                        1                          12   \n",
       "2                        3                           8   \n",
       "3                        4                           7   \n",
       "4                        1                           6   \n",
       "\n",
       "   first_day_exposition_year  floor_category  living_to_total  \\\n",
       "0                       2019         another         0.472222   \n",
       "1                       2018           first         0.460396   \n",
       "2                       2015         another         0.612500   \n",
       "3                       2015         another              NaN   \n",
       "4                       2018         another         0.320000   \n",
       "\n",
       "   kitchen_to_total  \n",
       "0          0.231481  \n",
       "1          0.272277  \n",
       "2          0.148214  \n",
       "3               NaN  \n",
       "4          0.410000  \n",
       "\n",
       "[5 rows x 29 columns]"
      ]
     },
     "execution_count": 32,
     "metadata": {},
     "output_type": "execute_result"
    }
   ],
   "source": [
    "df.head()"
   ]
  },
  {
   "cell_type": "markdown",
   "metadata": {},
   "source": [
    "## Исследовательский анализ данных"
   ]
  },
  {
   "cell_type": "markdown",
   "metadata": {},
   "source": [
    "**Изучим следующие параметры: площадь, цена, число комнат, высота потолков. Построим гистограммы для каждого параметра.**"
   ]
  },
  {
   "cell_type": "code",
   "execution_count": 33,
   "metadata": {},
   "outputs": [
    {
     "data": {
      "text/html": [
       "<div>\n",
       "<style scoped>\n",
       "    .dataframe tbody tr th:only-of-type {\n",
       "        vertical-align: middle;\n",
       "    }\n",
       "\n",
       "    .dataframe tbody tr th {\n",
       "        vertical-align: top;\n",
       "    }\n",
       "\n",
       "    .dataframe thead th {\n",
       "        text-align: right;\n",
       "    }\n",
       "</style>\n",
       "<table border=\"1\" class=\"dataframe\">\n",
       "  <thead>\n",
       "    <tr style=\"text-align: right;\">\n",
       "      <th></th>\n",
       "      <th>total_images</th>\n",
       "      <th>last_price</th>\n",
       "      <th>total_area</th>\n",
       "      <th>rooms</th>\n",
       "      <th>ceiling_height</th>\n",
       "      <th>floors_total</th>\n",
       "      <th>living_area</th>\n",
       "      <th>floor</th>\n",
       "      <th>kitchen_area</th>\n",
       "      <th>balcony</th>\n",
       "      <th>...</th>\n",
       "      <th>parks_nearest</th>\n",
       "      <th>ponds_around3000</th>\n",
       "      <th>ponds_nearest</th>\n",
       "      <th>days_exposition</th>\n",
       "      <th>price_per_sq_m</th>\n",
       "      <th>first_day_exposition_day</th>\n",
       "      <th>first_day_exposition_month</th>\n",
       "      <th>first_day_exposition_year</th>\n",
       "      <th>living_to_total</th>\n",
       "      <th>kitchen_to_total</th>\n",
       "    </tr>\n",
       "  </thead>\n",
       "  <tbody>\n",
       "    <tr>\n",
       "      <th>count</th>\n",
       "      <td>23699.000000</td>\n",
       "      <td>23699.0</td>\n",
       "      <td>23699.000000</td>\n",
       "      <td>23699.000000</td>\n",
       "      <td>14406.000000</td>\n",
       "      <td>23613.000000</td>\n",
       "      <td>21796.000000</td>\n",
       "      <td>23699.000000</td>\n",
       "      <td>21421.000000</td>\n",
       "      <td>23699.000000</td>\n",
       "      <td>...</td>\n",
       "      <td>8079.000000</td>\n",
       "      <td>18181.000000</td>\n",
       "      <td>9110.000000</td>\n",
       "      <td>20518.000000</td>\n",
       "      <td>2.369900e+04</td>\n",
       "      <td>23699.000000</td>\n",
       "      <td>23699.000000</td>\n",
       "      <td>23699.000000</td>\n",
       "      <td>21796.000000</td>\n",
       "      <td>21421.000000</td>\n",
       "    </tr>\n",
       "    <tr>\n",
       "      <th>mean</th>\n",
       "      <td>9.858475</td>\n",
       "      <td>6541550.0</td>\n",
       "      <td>60.348774</td>\n",
       "      <td>2.070636</td>\n",
       "      <td>2.730111</td>\n",
       "      <td>10.673823</td>\n",
       "      <td>34.457726</td>\n",
       "      <td>5.892358</td>\n",
       "      <td>10.569776</td>\n",
       "      <td>0.591080</td>\n",
       "      <td>...</td>\n",
       "      <td>490.804565</td>\n",
       "      <td>0.770255</td>\n",
       "      <td>517.980896</td>\n",
       "      <td>180.888641</td>\n",
       "      <td>9.942161e+04</td>\n",
       "      <td>2.569307</td>\n",
       "      <td>6.400101</td>\n",
       "      <td>2017.367146</td>\n",
       "      <td>0.564768</td>\n",
       "      <td>0.187354</td>\n",
       "    </tr>\n",
       "    <tr>\n",
       "      <th>std</th>\n",
       "      <td>5.682529</td>\n",
       "      <td>10886946.0</td>\n",
       "      <td>35.654266</td>\n",
       "      <td>1.078405</td>\n",
       "      <td>0.291822</td>\n",
       "      <td>6.597260</td>\n",
       "      <td>22.030651</td>\n",
       "      <td>4.885249</td>\n",
       "      <td>5.905396</td>\n",
       "      <td>0.959298</td>\n",
       "      <td>...</td>\n",
       "      <td>342.318542</td>\n",
       "      <td>0.938346</td>\n",
       "      <td>277.720001</td>\n",
       "      <td>219.728500</td>\n",
       "      <td>5.030684e+04</td>\n",
       "      <td>1.789082</td>\n",
       "      <td>3.491561</td>\n",
       "      <td>1.039771</td>\n",
       "      <td>0.105368</td>\n",
       "      <td>0.072968</td>\n",
       "    </tr>\n",
       "    <tr>\n",
       "      <th>min</th>\n",
       "      <td>0.000000</td>\n",
       "      <td>12190.0</td>\n",
       "      <td>12.000000</td>\n",
       "      <td>0.000000</td>\n",
       "      <td>2.500000</td>\n",
       "      <td>1.000000</td>\n",
       "      <td>2.000000</td>\n",
       "      <td>1.000000</td>\n",
       "      <td>1.300000</td>\n",
       "      <td>0.000000</td>\n",
       "      <td>...</td>\n",
       "      <td>1.000000</td>\n",
       "      <td>0.000000</td>\n",
       "      <td>13.000000</td>\n",
       "      <td>1.000000</td>\n",
       "      <td>1.118349e+02</td>\n",
       "      <td>0.000000</td>\n",
       "      <td>1.000000</td>\n",
       "      <td>2014.000000</td>\n",
       "      <td>0.021583</td>\n",
       "      <td>0.025381</td>\n",
       "    </tr>\n",
       "    <tr>\n",
       "      <th>25%</th>\n",
       "      <td>6.000000</td>\n",
       "      <td>3400000.0</td>\n",
       "      <td>40.000000</td>\n",
       "      <td>1.000000</td>\n",
       "      <td>2.520000</td>\n",
       "      <td>5.000000</td>\n",
       "      <td>18.600000</td>\n",
       "      <td>2.000000</td>\n",
       "      <td>7.000000</td>\n",
       "      <td>0.000000</td>\n",
       "      <td>...</td>\n",
       "      <td>288.000000</td>\n",
       "      <td>0.000000</td>\n",
       "      <td>294.000000</td>\n",
       "      <td>45.000000</td>\n",
       "      <td>7.658547e+04</td>\n",
       "      <td>1.000000</td>\n",
       "      <td>3.000000</td>\n",
       "      <td>2017.000000</td>\n",
       "      <td>0.495177</td>\n",
       "      <td>0.133333</td>\n",
       "    </tr>\n",
       "    <tr>\n",
       "      <th>50%</th>\n",
       "      <td>9.000000</td>\n",
       "      <td>4650000.0</td>\n",
       "      <td>52.000000</td>\n",
       "      <td>2.000000</td>\n",
       "      <td>2.650000</td>\n",
       "      <td>9.000000</td>\n",
       "      <td>30.000000</td>\n",
       "      <td>4.000000</td>\n",
       "      <td>9.100000</td>\n",
       "      <td>0.000000</td>\n",
       "      <td>...</td>\n",
       "      <td>455.000000</td>\n",
       "      <td>1.000000</td>\n",
       "      <td>502.000000</td>\n",
       "      <td>95.000000</td>\n",
       "      <td>9.500000e+04</td>\n",
       "      <td>3.000000</td>\n",
       "      <td>6.000000</td>\n",
       "      <td>2017.000000</td>\n",
       "      <td>0.567860</td>\n",
       "      <td>0.172414</td>\n",
       "    </tr>\n",
       "    <tr>\n",
       "      <th>75%</th>\n",
       "      <td>14.000000</td>\n",
       "      <td>6800000.0</td>\n",
       "      <td>69.900002</td>\n",
       "      <td>3.000000</td>\n",
       "      <td>2.800000</td>\n",
       "      <td>16.000000</td>\n",
       "      <td>42.299999</td>\n",
       "      <td>8.000000</td>\n",
       "      <td>12.000000</td>\n",
       "      <td>1.000000</td>\n",
       "      <td>...</td>\n",
       "      <td>612.000000</td>\n",
       "      <td>1.000000</td>\n",
       "      <td>729.000000</td>\n",
       "      <td>232.000000</td>\n",
       "      <td>1.142563e+05</td>\n",
       "      <td>4.000000</td>\n",
       "      <td>10.000000</td>\n",
       "      <td>2018.000000</td>\n",
       "      <td>0.637880</td>\n",
       "      <td>0.232416</td>\n",
       "    </tr>\n",
       "    <tr>\n",
       "      <th>max</th>\n",
       "      <td>50.000000</td>\n",
       "      <td>763000000.0</td>\n",
       "      <td>900.000000</td>\n",
       "      <td>19.000000</td>\n",
       "      <td>8.300000</td>\n",
       "      <td>60.000000</td>\n",
       "      <td>409.700012</td>\n",
       "      <td>33.000000</td>\n",
       "      <td>112.000000</td>\n",
       "      <td>5.000000</td>\n",
       "      <td>...</td>\n",
       "      <td>3190.000000</td>\n",
       "      <td>3.000000</td>\n",
       "      <td>1344.000000</td>\n",
       "      <td>1580.000000</td>\n",
       "      <td>1.907500e+06</td>\n",
       "      <td>6.000000</td>\n",
       "      <td>12.000000</td>\n",
       "      <td>2019.000000</td>\n",
       "      <td>1.000000</td>\n",
       "      <td>0.787879</td>\n",
       "    </tr>\n",
       "  </tbody>\n",
       "</table>\n",
       "<p>8 rows × 23 columns</p>\n",
       "</div>"
      ],
      "text/plain": [
       "       total_images   last_price    total_area         rooms  ceiling_height  \\\n",
       "count  23699.000000      23699.0  23699.000000  23699.000000    14406.000000   \n",
       "mean       9.858475    6541550.0     60.348774      2.070636        2.730111   \n",
       "std        5.682529   10886946.0     35.654266      1.078405        0.291822   \n",
       "min        0.000000      12190.0     12.000000      0.000000        2.500000   \n",
       "25%        6.000000    3400000.0     40.000000      1.000000        2.520000   \n",
       "50%        9.000000    4650000.0     52.000000      2.000000        2.650000   \n",
       "75%       14.000000    6800000.0     69.900002      3.000000        2.800000   \n",
       "max       50.000000  763000000.0    900.000000     19.000000        8.300000   \n",
       "\n",
       "       floors_total   living_area         floor  kitchen_area       balcony  \\\n",
       "count  23613.000000  21796.000000  23699.000000  21421.000000  23699.000000   \n",
       "mean      10.673823     34.457726      5.892358     10.569776      0.591080   \n",
       "std        6.597260     22.030651      4.885249      5.905396      0.959298   \n",
       "min        1.000000      2.000000      1.000000      1.300000      0.000000   \n",
       "25%        5.000000     18.600000      2.000000      7.000000      0.000000   \n",
       "50%        9.000000     30.000000      4.000000      9.100000      0.000000   \n",
       "75%       16.000000     42.299999      8.000000     12.000000      1.000000   \n",
       "max       60.000000    409.700012     33.000000    112.000000      5.000000   \n",
       "\n",
       "       ...  parks_nearest  ponds_around3000  ponds_nearest  days_exposition  \\\n",
       "count  ...    8079.000000      18181.000000    9110.000000     20518.000000   \n",
       "mean   ...     490.804565          0.770255     517.980896       180.888641   \n",
       "std    ...     342.318542          0.938346     277.720001       219.728500   \n",
       "min    ...       1.000000          0.000000      13.000000         1.000000   \n",
       "25%    ...     288.000000          0.000000     294.000000        45.000000   \n",
       "50%    ...     455.000000          1.000000     502.000000        95.000000   \n",
       "75%    ...     612.000000          1.000000     729.000000       232.000000   \n",
       "max    ...    3190.000000          3.000000    1344.000000      1580.000000   \n",
       "\n",
       "       price_per_sq_m  first_day_exposition_day  first_day_exposition_month  \\\n",
       "count    2.369900e+04              23699.000000                23699.000000   \n",
       "mean     9.942161e+04                  2.569307                    6.400101   \n",
       "std      5.030684e+04                  1.789082                    3.491561   \n",
       "min      1.118349e+02                  0.000000                    1.000000   \n",
       "25%      7.658547e+04                  1.000000                    3.000000   \n",
       "50%      9.500000e+04                  3.000000                    6.000000   \n",
       "75%      1.142563e+05                  4.000000                   10.000000   \n",
       "max      1.907500e+06                  6.000000                   12.000000   \n",
       "\n",
       "       first_day_exposition_year  living_to_total  kitchen_to_total  \n",
       "count               23699.000000     21796.000000      21421.000000  \n",
       "mean                 2017.367146         0.564768          0.187354  \n",
       "std                     1.039771         0.105368          0.072968  \n",
       "min                  2014.000000         0.021583          0.025381  \n",
       "25%                  2017.000000         0.495177          0.133333  \n",
       "50%                  2017.000000         0.567860          0.172414  \n",
       "75%                  2018.000000         0.637880          0.232416  \n",
       "max                  2019.000000         1.000000          0.787879  \n",
       "\n",
       "[8 rows x 23 columns]"
      ]
     },
     "execution_count": 33,
     "metadata": {},
     "output_type": "execute_result"
    }
   ],
   "source": [
    "df.describe()"
   ]
  },
  {
   "cell_type": "markdown",
   "metadata": {},
   "source": [
    "Минимальное общей значение площади - 12, максимальное - 900, среднее - 60, медианное - 52."
   ]
  },
  {
   "cell_type": "markdown",
   "metadata": {},
   "source": [
    "Построим гистограмму общей площади. Так как данных много и все они отличаются (нет категорий), то зададим количество урн - 100. Максимальное значение - 900, но при это 75% меньше 70 кв.м - выбирем верхний предел графика - 200, нижний предел - 12 (минимальное значение в данных)."
   ]
  },
  {
   "cell_type": "code",
   "execution_count": 34,
   "metadata": {},
   "outputs": [
    {
     "data": {
      "image/png": "[encoded data removed]",
      "text/plain": [
       "<Figure size 432x288 with 1 Axes>"
      ]
     },
     "metadata": {
      "needs_background": "light"
     },
     "output_type": "display_data"
    }
   ],
   "source": [
    "ax = df.hist(column='total_area', bins=100, range=(12,200))\n",
    "ax = ax[0]\n",
    "for x in ax:\n",
    "    x.set_xlabel(\"total_area, sq.m\")\n",
    "    x.set_ylabel(\"amount\")"
   ]
  },
  {
   "cell_type": "markdown",
   "metadata": {},
   "source": [
    "Межквартальный размах для данных о площади составляет IQR = (69,9 - 40) = 29,9. Построим диаграмму по данным о площади, исключая значения выше Q3 + 1.5 * IQR = 69.9 + 1.5 * 29.9 = 114.75"
   ]
  },
  {
   "cell_type": "code",
   "execution_count": 35,
   "metadata": {},
   "outputs": [],
   "source": [
    "df.loc[df['total_area'] > 114.75, 'total_area'] = np.nan"
   ]
  },
  {
   "cell_type": "code",
   "execution_count": 36,
   "metadata": {},
   "outputs": [
    {
     "data": {
      "image/png": "[encoded data removed]",
      "text/plain": [
       "<Figure size 432x288 with 1 Axes>"
      ]
     },
     "metadata": {
      "needs_background": "light"
     },
     "output_type": "display_data"
    }
   ],
   "source": [
    "ax = df.hist(column='total_area', bins=100, range=(12,200))\n",
    "ax = ax[0]\n",
    "for x in ax:\n",
    "    x.set_xlabel(\"total_area, sq.m\")\n",
    "    x.set_ylabel(\"amount\")"
   ]
  },
  {
   "cell_type": "code",
   "execution_count": 37,
   "metadata": {},
   "outputs": [
    {
     "data": {
      "text/plain": [
       "count    22459.000000\n",
       "mean        54.364994\n",
       "std         19.385317\n",
       "min         12.000000\n",
       "25%         39.400002\n",
       "50%         50.099998\n",
       "75%         65.599998\n",
       "max        114.599998\n",
       "Name: total_area, dtype: float64"
      ]
     },
     "execution_count": 37,
     "metadata": {},
     "output_type": "execute_result"
    }
   ],
   "source": [
    "df['total_area'].describe()"
   ]
  },
  {
   "cell_type": "markdown",
   "metadata": {},
   "source": [
    "Минимальная стоимость составляет 12190, максимальное - 763000000, средняя - 6541000, медианное - 4650000.\n",
    "75% объектов имеют стоимость не более 6800000, стоимость имеет непрерывные значения, поэтому выберем количество корзин равное 30 и ограничим верхнюю границу стоимости - 100000000."
   ]
  },
  {
   "cell_type": "code",
   "execution_count": 38,
   "metadata": {},
   "outputs": [
    {
     "data": {
      "image/png": "[encoded data removed]",
      "text/plain": [
       "<Figure size 432x288 with 1 Axes>"
      ]
     },
     "metadata": {
      "needs_background": "light"
     },
     "output_type": "display_data"
    }
   ],
   "source": [
    "bx = df.hist(column='last_price',bins=100, range=(12190, 10000000))\n",
    "bx = bx[0]\n",
    "for x in bx:\n",
    "    x.set_xlabel(\"last_price, *10^7\")\n",
    "    x.set_ylabel(\"amount\")"
   ]
  },
  {
   "cell_type": "markdown",
   "metadata": {},
   "source": [
    "###### Межквартальный размах для данных о цене IQR = (6800000 - 3400000) = 3400000. Построим диаграмму по данным о цене, исключая значения выше Q3 + 1.5 * IQR = 6800000 + 1.5 * 3400000 = 11900000"
   ]
  },
  {
   "cell_type": "code",
   "execution_count": 39,
   "metadata": {},
   "outputs": [],
   "source": [
    "df.loc[df['last_price'] > 11900000, 'last_price'] = np.nan"
   ]
  },
  {
   "cell_type": "code",
   "execution_count": 40,
   "metadata": {},
   "outputs": [
    {
     "data": {
      "image/png": "[encoded data removed]",
      "text/plain": [
       "<Figure size 432x288 with 1 Axes>"
      ]
     },
     "metadata": {
      "needs_background": "light"
     },
     "output_type": "display_data"
    }
   ],
   "source": [
    "bx = df.hist(column='last_price',bins=100, range=(12190, 11900000))\n",
    "bx = bx[0]\n",
    "for x in bx:\n",
    "    x.set_xlabel(\"last_price, *10^7\")\n",
    "    x.set_ylabel(\"amount\")"
   ]
  },
  {
   "cell_type": "code",
   "execution_count": 41,
   "metadata": {},
   "outputs": [
    {
     "data": {
      "text/plain": [
       "count       21665.0\n",
       "mean      4848738.5\n",
       "std       2229907.0\n",
       "min         12190.0\n",
       "25%       3300000.0\n",
       "50%       4400000.0\n",
       "75%       6000000.0\n",
       "max      11900000.0\n",
       "Name: last_price, dtype: float64"
      ]
     },
     "execution_count": 41,
     "metadata": {},
     "output_type": "execute_result"
    }
   ],
   "source": [
    "df['last_price'].describe()"
   ]
  },
  {
   "cell_type": "markdown",
   "metadata": {},
   "source": [
    "Количество комнат от 0 до 19, среднее и медианное количество комнат равно 2."
   ]
  },
  {
   "cell_type": "code",
   "execution_count": 42,
   "metadata": {},
   "outputs": [
    {
     "data": {
      "image/png": "[encoded data removed]",
      "text/plain": [
       "<Figure size 432x288 with 1 Axes>"
      ]
     },
     "metadata": {
      "needs_background": "light"
     },
     "output_type": "display_data"
    }
   ],
   "source": [
    "cx = df.hist(column='rooms', bins=20)\n",
    "cx = cx[0]\n",
    "for x in cx:\n",
    "    x.set_xlabel(\"number of rooms\")\n",
    "    x.set_ylabel(\"amount\")"
   ]
  },
  {
   "cell_type": "markdown",
   "metadata": {},
   "source": [
    "Межквартальный размах для данных о количестве комнат IQR = 3 - 1 = 2. Построим диаграмму по данным о количестве комнат, исключая значения выше Q3 + 1.5 * IQR = 3 + 1.5 * 2 = 6"
   ]
  },
  {
   "cell_type": "code",
   "execution_count": 43,
   "metadata": {},
   "outputs": [],
   "source": [
    "df.loc[df['rooms'] > 6, 'rooms'] = np.nan"
   ]
  },
  {
   "cell_type": "code",
   "execution_count": 44,
   "metadata": {},
   "outputs": [
    {
     "data": {
      "image/png": "[encoded data removed]",
      "text/plain": [
       "<Figure size 432x288 with 1 Axes>"
      ]
     },
     "metadata": {
      "needs_background": "light"
     },
     "output_type": "display_data"
    }
   ],
   "source": [
    "cx = df.hist(column='rooms', bins=6)\n",
    "cx = cx[0]\n",
    "for x in cx:\n",
    "    x.set_xlabel(\"number of rooms\")\n",
    "    x.set_ylabel(\"amount\")"
   ]
  },
  {
   "cell_type": "code",
   "execution_count": 45,
   "metadata": {},
   "outputs": [
    {
     "data": {
      "text/plain": [
       "count    23609.000000\n",
       "mean         2.047905\n",
       "std          1.006772\n",
       "min          0.000000\n",
       "25%          1.000000\n",
       "50%          2.000000\n",
       "75%          3.000000\n",
       "max          6.000000\n",
       "Name: rooms, dtype: float64"
      ]
     },
     "execution_count": 45,
     "metadata": {},
     "output_type": "execute_result"
    }
   ],
   "source": [
    "df['rooms'].describe()"
   ]
  },
  {
   "cell_type": "markdown",
   "metadata": {},
   "source": [
    "Высота потолков от 2,5 до 8.3 м, среднее и медианное значения - 2.7 м."
   ]
  },
  {
   "cell_type": "code",
   "execution_count": 46,
   "metadata": {},
   "outputs": [
    {
     "data": {
      "image/png": "[encoded data removed]",
      "text/plain": [
       "<Figure size 432x288 with 1 Axes>"
      ]
     },
     "metadata": {
      "needs_background": "light"
     },
     "output_type": "display_data"
    }
   ],
   "source": [
    "dx = df.hist(column='ceiling_height', bins=50, range=(2.5, 4))\n",
    "dx = dx[0]\n",
    "for x in dx:\n",
    "    x.set_xlabel(\"ceiling_height\")\n",
    "    x.set_ylabel(\"amount\")"
   ]
  },
  {
   "cell_type": "markdown",
   "metadata": {},
   "source": [
    "Межквартальный размах для данных о высоте потолков IQR = 2.8 - 2.52 = 0.28. Построим диаграмму по данным о высоте потолков, исключая значения выше Q3 + 1.5 * IQR = 2.8 + 1.5 * 0.28 = 3.22"
   ]
  },
  {
   "cell_type": "code",
   "execution_count": 47,
   "metadata": {},
   "outputs": [],
   "source": [
    "df.loc[df['ceiling_height'] > 3.22, 'ceiling_height'] = np.nan"
   ]
  },
  {
   "cell_type": "code",
   "execution_count": 48,
   "metadata": {},
   "outputs": [
    {
     "data": {
      "image/png": "[encoded data removed]",
      "text/plain": [
       "<Figure size 432x288 with 1 Axes>"
      ]
     },
     "metadata": {
      "needs_background": "light"
     },
     "output_type": "display_data"
    }
   ],
   "source": [
    "dx = df.hist(column='ceiling_height', bins=50, range=(2.5, 3.23))\n",
    "dx = dx[0]\n",
    "for x in dx:\n",
    "    x.set_xlabel(\"ceiling_height\")\n",
    "    x.set_ylabel(\"amount\")"
   ]
  },
  {
   "cell_type": "code",
   "execution_count": 49,
   "metadata": {},
   "outputs": [
    {
     "data": {
      "text/plain": [
       "count    13617.000000\n",
       "mean         2.681153\n",
       "std          0.183637\n",
       "min          2.500000\n",
       "25%          2.500000\n",
       "50%          2.640000\n",
       "75%          2.760000\n",
       "max          3.210000\n",
       "Name: ceiling_height, dtype: float64"
      ]
     },
     "execution_count": 49,
     "metadata": {},
     "output_type": "execute_result"
    }
   ],
   "source": [
    "df['ceiling_height'].describe()"
   ]
  },
  {
   "cell_type": "markdown",
   "metadata": {},
   "source": [
    "**Изучим время продажи квартиры. Постром гистограмму. Посчитаем среднее и медиану**"
   ]
  },
  {
   "cell_type": "markdown",
   "metadata": {},
   "source": [
    "Построим гистограмму времени продажи квартир"
   ]
  },
  {
   "cell_type": "code",
   "execution_count": 50,
   "metadata": {},
   "outputs": [
    {
     "data": {
      "image/png": "[encoded data removed]",
      "text/plain": [
       "<Figure size 432x288 with 1 Axes>"
      ]
     },
     "metadata": {
      "needs_background": "light"
     },
     "output_type": "display_data"
    }
   ],
   "source": [
    "fx = df.hist(column='days_exposition', bins=50)\n",
    "fx = fx[0]\n",
    "for x in fx:\n",
    "    x.set_xlabel(\"days_exposition\")\n",
    "    x.set_ylabel(\"amount\")"
   ]
  },
  {
   "cell_type": "markdown",
   "metadata": {},
   "source": [
    "Посчитаем среднее время продажи квартиры"
   ]
  },
  {
   "cell_type": "code",
   "execution_count": 51,
   "metadata": {},
   "outputs": [
    {
     "data": {
      "text/plain": [
       "180.88864135742188"
      ]
     },
     "execution_count": 51,
     "metadata": {},
     "output_type": "execute_result"
    }
   ],
   "source": [
    "df['days_exposition'].mean()"
   ]
  },
  {
   "cell_type": "markdown",
   "metadata": {},
   "source": [
    "Посчитаем медианное время продажи квартиры"
   ]
  },
  {
   "cell_type": "code",
   "execution_count": 52,
   "metadata": {},
   "outputs": [
    {
     "data": {
      "text/plain": [
       "95.0"
      ]
     },
     "execution_count": 52,
     "metadata": {},
     "output_type": "execute_result"
    }
   ],
   "source": [
    "df['days_exposition'].median()"
   ]
  },
  {
   "cell_type": "markdown",
   "metadata": {},
   "source": [
    "Посмотрим на статистические данные о времени продажи квартир"
   ]
  },
  {
   "cell_type": "code",
   "execution_count": 53,
   "metadata": {},
   "outputs": [
    {
     "data": {
      "text/plain": [
       "count    20518.000000\n",
       "mean       180.888641\n",
       "std        219.728500\n",
       "min          1.000000\n",
       "25%         45.000000\n",
       "50%         95.000000\n",
       "75%        232.000000\n",
       "max       1580.000000\n",
       "Name: days_exposition, dtype: float64"
      ]
     },
     "execution_count": 53,
     "metadata": {},
     "output_type": "execute_result"
    }
   ],
   "source": [
    "df['days_exposition'].describe()"
   ]
  },
  {
   "cell_type": "markdown",
   "metadata": {},
   "source": [
    "Обычно продажа занимает 95 дней (медианное значение), но есть очень долгие продажи, из-за которых среднее время продажи составляет 180 дней.  \n",
    "Очень долгой можно считать продажу более 512 дней (максимальное значение по диаграмме размаха - (232 + (232 - 45) * 1.5), очень быструю продажу определеить не получается."
   ]
  },
  {
   "cell_type": "markdown",
   "metadata": {},
   "source": [
    "**Уберем из данных очень долгие продажи и построим гистограмму**"
   ]
  },
  {
   "cell_type": "code",
   "execution_count": 54,
   "metadata": {},
   "outputs": [],
   "source": [
    "df.loc[df['days_exposition'] > 512, 'days_exposition'] = np.nan"
   ]
  },
  {
   "cell_type": "code",
   "execution_count": 55,
   "metadata": {},
   "outputs": [
    {
     "data": {
      "text/plain": [
       "<AxesSubplot:>"
      ]
     },
     "execution_count": 55,
     "metadata": {},
     "output_type": "execute_result"
    },
    {
     "data": {
      "image/png": "[encoded data removed]",
      "text/plain": [
       "<Figure size 432x288 with 1 Axes>"
      ]
     },
     "metadata": {
      "needs_background": "light"
     },
     "output_type": "display_data"
    }
   ],
   "source": [
    "df['days_exposition'].hist(bins=50)"
   ]
  },
  {
   "cell_type": "code",
   "execution_count": 56,
   "metadata": {},
   "outputs": [
    {
     "data": {
      "text/plain": [
       "count    18849.000000\n",
       "mean       128.753891\n",
       "std        121.530487\n",
       "min          1.000000\n",
       "25%         41.000000\n",
       "50%         85.000000\n",
       "75%        183.000000\n",
       "max        512.000000\n",
       "Name: days_exposition, dtype: float64"
      ]
     },
     "execution_count": 56,
     "metadata": {},
     "output_type": "execute_result"
    }
   ],
   "source": [
    "df['days_exposition'].describe()"
   ]
  },
  {
   "cell_type": "markdown",
   "metadata": {},
   "source": [
    "Диграмма представляет из себя диграмму Пуассона, медианное значение стало 85."
   ]
  },
  {
   "cell_type": "markdown",
   "metadata": {},
   "source": [
    "**Исследуем какие факторы больше всего влияют на стоимость квартиры. Изучим, зависит ли цена от площади, числа комнат, удалённости от центра. Изучим зависимость цены от того, на каком этаже расположена квартира: первом, последнем или другом. Также изучим зависимость от даты размещения: дня недели, месяца и года**"
   ]
  },
  {
   "cell_type": "markdown",
   "metadata": {},
   "source": [
    "Построим матрицу корреляции по всем параметрам."
   ]
  },
  {
   "cell_type": "code",
   "execution_count": 57,
   "metadata": {},
   "outputs": [
    {
     "data": {
      "text/html": [
       "<div>\n",
       "<style scoped>\n",
       "    .dataframe tbody tr th:only-of-type {\n",
       "        vertical-align: middle;\n",
       "    }\n",
       "\n",
       "    .dataframe tbody tr th {\n",
       "        vertical-align: top;\n",
       "    }\n",
       "\n",
       "    .dataframe thead th {\n",
       "        text-align: right;\n",
       "    }\n",
       "</style>\n",
       "<table border=\"1\" class=\"dataframe\">\n",
       "  <thead>\n",
       "    <tr style=\"text-align: right;\">\n",
       "      <th></th>\n",
       "      <th>total_images</th>\n",
       "      <th>last_price</th>\n",
       "      <th>total_area</th>\n",
       "      <th>rooms</th>\n",
       "      <th>ceiling_height</th>\n",
       "      <th>floors_total</th>\n",
       "      <th>living_area</th>\n",
       "      <th>floor</th>\n",
       "      <th>is_apartment</th>\n",
       "      <th>studio</th>\n",
       "      <th>...</th>\n",
       "      <th>parks_nearest</th>\n",
       "      <th>ponds_around3000</th>\n",
       "      <th>ponds_nearest</th>\n",
       "      <th>days_exposition</th>\n",
       "      <th>price_per_sq_m</th>\n",
       "      <th>first_day_exposition_day</th>\n",
       "      <th>first_day_exposition_month</th>\n",
       "      <th>first_day_exposition_year</th>\n",
       "      <th>living_to_total</th>\n",
       "      <th>kitchen_to_total</th>\n",
       "    </tr>\n",
       "  </thead>\n",
       "  <tbody>\n",
       "    <tr>\n",
       "      <th>total_images</th>\n",
       "      <td>1.000000</td>\n",
       "      <td>0.158300</td>\n",
       "      <td>0.126016</td>\n",
       "      <td>0.104829</td>\n",
       "      <td>0.028935</td>\n",
       "      <td>0.010427</td>\n",
       "      <td>0.104780</td>\n",
       "      <td>0.031340</td>\n",
       "      <td>0.010532</td>\n",
       "      <td>-0.029303</td>\n",
       "      <td>...</td>\n",
       "      <td>-0.008347</td>\n",
       "      <td>-0.011553</td>\n",
       "      <td>-0.003034</td>\n",
       "      <td>0.018031</td>\n",
       "      <td>0.132780</td>\n",
       "      <td>-0.010433</td>\n",
       "      <td>0.005043</td>\n",
       "      <td>0.140411</td>\n",
       "      <td>0.000565</td>\n",
       "      <td>-0.026039</td>\n",
       "    </tr>\n",
       "    <tr>\n",
       "      <th>last_price</th>\n",
       "      <td>0.158300</td>\n",
       "      <td>1.000000</td>\n",
       "      <td>0.695302</td>\n",
       "      <td>0.452862</td>\n",
       "      <td>0.446381</td>\n",
       "      <td>0.184911</td>\n",
       "      <td>0.582655</td>\n",
       "      <td>0.127349</td>\n",
       "      <td>0.022223</td>\n",
       "      <td>-0.069470</td>\n",
       "      <td>...</td>\n",
       "      <td>0.039126</td>\n",
       "      <td>0.145720</td>\n",
       "      <td>-0.051808</td>\n",
       "      <td>0.049853</td>\n",
       "      <td>0.608790</td>\n",
       "      <td>-0.015240</td>\n",
       "      <td>0.005417</td>\n",
       "      <td>-0.003480</td>\n",
       "      <td>0.023656</td>\n",
       "      <td>-0.120466</td>\n",
       "    </tr>\n",
       "    <tr>\n",
       "      <th>total_area</th>\n",
       "      <td>0.126016</td>\n",
       "      <td>0.695302</td>\n",
       "      <td>1.000000</td>\n",
       "      <td>0.789250</td>\n",
       "      <td>0.361793</td>\n",
       "      <td>-0.022241</td>\n",
       "      <td>0.905447</td>\n",
       "      <td>-0.020112</td>\n",
       "      <td>0.019473</td>\n",
       "      <td>-0.112063</td>\n",
       "      <td>...</td>\n",
       "      <td>0.025392</td>\n",
       "      <td>0.126244</td>\n",
       "      <td>-0.053277</td>\n",
       "      <td>0.109284</td>\n",
       "      <td>0.117349</td>\n",
       "      <td>-0.011361</td>\n",
       "      <td>0.006441</td>\n",
       "      <td>-0.061731</td>\n",
       "      <td>0.214787</td>\n",
       "      <td>-0.373227</td>\n",
       "    </tr>\n",
       "    <tr>\n",
       "      <th>rooms</th>\n",
       "      <td>0.104829</td>\n",
       "      <td>0.452862</td>\n",
       "      <td>0.789250</td>\n",
       "      <td>1.000000</td>\n",
       "      <td>0.175109</td>\n",
       "      <td>-0.228704</td>\n",
       "      <td>0.840303</td>\n",
       "      <td>-0.154976</td>\n",
       "      <td>-0.003095</td>\n",
       "      <td>-0.156269</td>\n",
       "      <td>...</td>\n",
       "      <td>-0.055893</td>\n",
       "      <td>0.089150</td>\n",
       "      <td>-0.050411</td>\n",
       "      <td>0.108641</td>\n",
       "      <td>0.036437</td>\n",
       "      <td>-0.002930</td>\n",
       "      <td>-0.004158</td>\n",
       "      <td>-0.057842</td>\n",
       "      <td>0.499838</td>\n",
       "      <td>-0.606983</td>\n",
       "    </tr>\n",
       "    <tr>\n",
       "      <th>ceiling_height</th>\n",
       "      <td>0.028935</td>\n",
       "      <td>0.446381</td>\n",
       "      <td>0.361793</td>\n",
       "      <td>0.175109</td>\n",
       "      <td>1.000000</td>\n",
       "      <td>0.047506</td>\n",
       "      <td>0.339155</td>\n",
       "      <td>0.040609</td>\n",
       "      <td>0.061709</td>\n",
       "      <td>0.021774</td>\n",
       "      <td>...</td>\n",
       "      <td>-0.043705</td>\n",
       "      <td>0.213485</td>\n",
       "      <td>-0.130044</td>\n",
       "      <td>0.079607</td>\n",
       "      <td>0.377853</td>\n",
       "      <td>-0.021603</td>\n",
       "      <td>-0.003822</td>\n",
       "      <td>-0.095942</td>\n",
       "      <td>-0.118945</td>\n",
       "      <td>0.084416</td>\n",
       "    </tr>\n",
       "    <tr>\n",
       "      <th>floors_total</th>\n",
       "      <td>0.010427</td>\n",
       "      <td>0.184911</td>\n",
       "      <td>-0.022241</td>\n",
       "      <td>-0.228704</td>\n",
       "      <td>0.047506</td>\n",
       "      <td>1.000000</td>\n",
       "      <td>-0.169311</td>\n",
       "      <td>0.678059</td>\n",
       "      <td>-0.026351</td>\n",
       "      <td>0.070151</td>\n",
       "      <td>...</td>\n",
       "      <td>0.097527</td>\n",
       "      <td>-0.122735</td>\n",
       "      <td>0.038864</td>\n",
       "      <td>-0.052924</td>\n",
       "      <td>0.148098</td>\n",
       "      <td>0.013151</td>\n",
       "      <td>0.016651</td>\n",
       "      <td>0.007845</td>\n",
       "      <td>-0.366147</td>\n",
       "      <td>0.350479</td>\n",
       "    </tr>\n",
       "    <tr>\n",
       "      <th>living_area</th>\n",
       "      <td>0.104780</td>\n",
       "      <td>0.582655</td>\n",
       "      <td>0.905447</td>\n",
       "      <td>0.840303</td>\n",
       "      <td>0.339155</td>\n",
       "      <td>-0.169311</td>\n",
       "      <td>1.000000</td>\n",
       "      <td>-0.097210</td>\n",
       "      <td>0.026969</td>\n",
       "      <td>-0.056231</td>\n",
       "      <td>...</td>\n",
       "      <td>-0.050167</td>\n",
       "      <td>0.148933</td>\n",
       "      <td>-0.081674</td>\n",
       "      <td>0.115509</td>\n",
       "      <td>0.226346</td>\n",
       "      <td>-0.005605</td>\n",
       "      <td>-0.002483</td>\n",
       "      <td>-0.072696</td>\n",
       "      <td>0.418909</td>\n",
       "      <td>-0.481769</td>\n",
       "    </tr>\n",
       "    <tr>\n",
       "      <th>floor</th>\n",
       "      <td>0.031340</td>\n",
       "      <td>0.127349</td>\n",
       "      <td>-0.020112</td>\n",
       "      <td>-0.154976</td>\n",
       "      <td>0.040609</td>\n",
       "      <td>0.678059</td>\n",
       "      <td>-0.097210</td>\n",
       "      <td>1.000000</td>\n",
       "      <td>-0.013294</td>\n",
       "      <td>0.036940</td>\n",
       "      <td>...</td>\n",
       "      <td>0.073045</td>\n",
       "      <td>-0.076312</td>\n",
       "      <td>0.024850</td>\n",
       "      <td>-0.040829</td>\n",
       "      <td>0.129068</td>\n",
       "      <td>0.012347</td>\n",
       "      <td>0.019387</td>\n",
       "      <td>0.004915</td>\n",
       "      <td>-0.264613</td>\n",
       "      <td>0.244230</td>\n",
       "    </tr>\n",
       "    <tr>\n",
       "      <th>is_apartment</th>\n",
       "      <td>0.010532</td>\n",
       "      <td>0.022223</td>\n",
       "      <td>0.019473</td>\n",
       "      <td>-0.003095</td>\n",
       "      <td>0.061709</td>\n",
       "      <td>-0.026351</td>\n",
       "      <td>0.026969</td>\n",
       "      <td>-0.013294</td>\n",
       "      <td>1.000000</td>\n",
       "      <td>-0.003657</td>\n",
       "      <td>...</td>\n",
       "      <td>-0.033410</td>\n",
       "      <td>0.023989</td>\n",
       "      <td>0.003357</td>\n",
       "      <td>-0.012684</td>\n",
       "      <td>0.044725</td>\n",
       "      <td>-0.009492</td>\n",
       "      <td>0.002369</td>\n",
       "      <td>0.009413</td>\n",
       "      <td>0.002081</td>\n",
       "      <td>0.023800</td>\n",
       "    </tr>\n",
       "    <tr>\n",
       "      <th>studio</th>\n",
       "      <td>-0.029303</td>\n",
       "      <td>-0.069470</td>\n",
       "      <td>-0.112063</td>\n",
       "      <td>-0.156269</td>\n",
       "      <td>0.021774</td>\n",
       "      <td>0.070151</td>\n",
       "      <td>-0.056231</td>\n",
       "      <td>0.036940</td>\n",
       "      <td>-0.003657</td>\n",
       "      <td>1.000000</td>\n",
       "      <td>...</td>\n",
       "      <td>0.009134</td>\n",
       "      <td>0.000939</td>\n",
       "      <td>0.002606</td>\n",
       "      <td>-0.029978</td>\n",
       "      <td>0.015636</td>\n",
       "      <td>-0.000843</td>\n",
       "      <td>0.000976</td>\n",
       "      <td>0.011961</td>\n",
       "      <td>0.088780</td>\n",
       "      <td>NaN</td>\n",
       "    </tr>\n",
       "    <tr>\n",
       "      <th>open_plan</th>\n",
       "      <td>-0.024407</td>\n",
       "      <td>-0.047440</td>\n",
       "      <td>-0.067702</td>\n",
       "      <td>-0.092701</td>\n",
       "      <td>0.008439</td>\n",
       "      <td>0.050791</td>\n",
       "      <td>-0.033711</td>\n",
       "      <td>0.035824</td>\n",
       "      <td>-0.002448</td>\n",
       "      <td>-0.004235</td>\n",
       "      <td>...</td>\n",
       "      <td>0.010612</td>\n",
       "      <td>0.008455</td>\n",
       "      <td>-0.003328</td>\n",
       "      <td>-0.022916</td>\n",
       "      <td>0.008266</td>\n",
       "      <td>0.011042</td>\n",
       "      <td>0.025765</td>\n",
       "      <td>-0.021095</td>\n",
       "      <td>0.062337</td>\n",
       "      <td>NaN</td>\n",
       "    </tr>\n",
       "    <tr>\n",
       "      <th>kitchen_area</th>\n",
       "      <td>0.104756</td>\n",
       "      <td>0.483219</td>\n",
       "      <td>0.477385</td>\n",
       "      <td>0.237083</td>\n",
       "      <td>0.412222</td>\n",
       "      <td>0.163944</td>\n",
       "      <td>0.428674</td>\n",
       "      <td>0.135531</td>\n",
       "      <td>0.049034</td>\n",
       "      <td>NaN</td>\n",
       "      <td>...</td>\n",
       "      <td>0.029641</td>\n",
       "      <td>0.150148</td>\n",
       "      <td>-0.105223</td>\n",
       "      <td>0.075852</td>\n",
       "      <td>0.397493</td>\n",
       "      <td>-0.008480</td>\n",
       "      <td>0.002499</td>\n",
       "      <td>-0.054735</td>\n",
       "      <td>-0.338992</td>\n",
       "      <td>0.431792</td>\n",
       "    </tr>\n",
       "    <tr>\n",
       "      <th>balcony</th>\n",
       "      <td>0.048903</td>\n",
       "      <td>0.063303</td>\n",
       "      <td>0.059871</td>\n",
       "      <td>-0.009764</td>\n",
       "      <td>-0.006596</td>\n",
       "      <td>0.172812</td>\n",
       "      <td>-0.014772</td>\n",
       "      <td>0.168567</td>\n",
       "      <td>0.033022</td>\n",
       "      <td>0.028899</td>\n",
       "      <td>...</td>\n",
       "      <td>0.033256</td>\n",
       "      <td>-0.039604</td>\n",
       "      <td>0.020077</td>\n",
       "      <td>-0.020386</td>\n",
       "      <td>0.023376</td>\n",
       "      <td>-0.001496</td>\n",
       "      <td>0.009340</td>\n",
       "      <td>0.004570</td>\n",
       "      <td>-0.068332</td>\n",
       "      <td>0.033812</td>\n",
       "    </tr>\n",
       "    <tr>\n",
       "      <th>airports_nearest</th>\n",
       "      <td>-0.002518</td>\n",
       "      <td>-0.039696</td>\n",
       "      <td>-0.028072</td>\n",
       "      <td>-0.056324</td>\n",
       "      <td>-0.081582</td>\n",
       "      <td>0.108262</td>\n",
       "      <td>-0.058015</td>\n",
       "      <td>0.071528</td>\n",
       "      <td>0.016467</td>\n",
       "      <td>-0.021888</td>\n",
       "      <td>...</td>\n",
       "      <td>-0.070058</td>\n",
       "      <td>-0.049695</td>\n",
       "      <td>0.014049</td>\n",
       "      <td>-0.000374</td>\n",
       "      <td>-0.038515</td>\n",
       "      <td>0.001603</td>\n",
       "      <td>0.006649</td>\n",
       "      <td>0.009049</td>\n",
       "      <td>-0.088281</td>\n",
       "      <td>0.051147</td>\n",
       "    </tr>\n",
       "    <tr>\n",
       "      <th>cityCenters_nearest</th>\n",
       "      <td>-0.047666</td>\n",
       "      <td>-0.345619</td>\n",
       "      <td>-0.183571</td>\n",
       "      <td>-0.173809</td>\n",
       "      <td>-0.314779</td>\n",
       "      <td>0.019774</td>\n",
       "      <td>-0.231368</td>\n",
       "      <td>0.009084</td>\n",
       "      <td>0.003732</td>\n",
       "      <td>-0.007029</td>\n",
       "      <td>...</td>\n",
       "      <td>-0.040650</td>\n",
       "      <td>-0.074577</td>\n",
       "      <td>0.028903</td>\n",
       "      <td>-0.024957</td>\n",
       "      <td>-0.317951</td>\n",
       "      <td>0.008883</td>\n",
       "      <td>-0.008978</td>\n",
       "      <td>0.032333</td>\n",
       "      <td>-0.041226</td>\n",
       "      <td>0.023629</td>\n",
       "    </tr>\n",
       "    <tr>\n",
       "      <th>parks_around3000</th>\n",
       "      <td>0.021120</td>\n",
       "      <td>0.118709</td>\n",
       "      <td>0.096656</td>\n",
       "      <td>0.127434</td>\n",
       "      <td>0.215483</td>\n",
       "      <td>-0.252833</td>\n",
       "      <td>0.184453</td>\n",
       "      <td>-0.163784</td>\n",
       "      <td>0.020767</td>\n",
       "      <td>-0.030202</td>\n",
       "      <td>...</td>\n",
       "      <td>-0.259514</td>\n",
       "      <td>0.304316</td>\n",
       "      <td>-0.167103</td>\n",
       "      <td>0.046950</td>\n",
       "      <td>0.185163</td>\n",
       "      <td>-0.011447</td>\n",
       "      <td>-0.004486</td>\n",
       "      <td>-0.038902</td>\n",
       "      <td>0.089852</td>\n",
       "      <td>-0.088877</td>\n",
       "    </tr>\n",
       "    <tr>\n",
       "      <th>parks_nearest</th>\n",
       "      <td>-0.008347</td>\n",
       "      <td>0.039126</td>\n",
       "      <td>0.025392</td>\n",
       "      <td>-0.055893</td>\n",
       "      <td>-0.043705</td>\n",
       "      <td>0.097527</td>\n",
       "      <td>-0.050167</td>\n",
       "      <td>0.073045</td>\n",
       "      <td>-0.033410</td>\n",
       "      <td>0.009134</td>\n",
       "      <td>...</td>\n",
       "      <td>1.000000</td>\n",
       "      <td>0.077280</td>\n",
       "      <td>0.000692</td>\n",
       "      <td>0.011727</td>\n",
       "      <td>0.006933</td>\n",
       "      <td>-0.004548</td>\n",
       "      <td>0.018966</td>\n",
       "      <td>-0.020196</td>\n",
       "      <td>-0.099112</td>\n",
       "      <td>0.059210</td>\n",
       "    </tr>\n",
       "    <tr>\n",
       "      <th>ponds_around3000</th>\n",
       "      <td>-0.011553</td>\n",
       "      <td>0.145720</td>\n",
       "      <td>0.126244</td>\n",
       "      <td>0.089150</td>\n",
       "      <td>0.213485</td>\n",
       "      <td>-0.122735</td>\n",
       "      <td>0.148933</td>\n",
       "      <td>-0.076312</td>\n",
       "      <td>0.023989</td>\n",
       "      <td>0.000939</td>\n",
       "      <td>...</td>\n",
       "      <td>0.077280</td>\n",
       "      <td>1.000000</td>\n",
       "      <td>-0.341840</td>\n",
       "      <td>0.045637</td>\n",
       "      <td>0.191039</td>\n",
       "      <td>0.002286</td>\n",
       "      <td>-0.008007</td>\n",
       "      <td>-0.038808</td>\n",
       "      <td>-0.010058</td>\n",
       "      <td>-0.009083</td>\n",
       "    </tr>\n",
       "    <tr>\n",
       "      <th>ponds_nearest</th>\n",
       "      <td>-0.003034</td>\n",
       "      <td>-0.051808</td>\n",
       "      <td>-0.053277</td>\n",
       "      <td>-0.050411</td>\n",
       "      <td>-0.130044</td>\n",
       "      <td>0.038864</td>\n",
       "      <td>-0.081674</td>\n",
       "      <td>0.024850</td>\n",
       "      <td>0.003357</td>\n",
       "      <td>0.002606</td>\n",
       "      <td>...</td>\n",
       "      <td>0.000692</td>\n",
       "      <td>-0.341840</td>\n",
       "      <td>1.000000</td>\n",
       "      <td>-0.048624</td>\n",
       "      <td>-0.104974</td>\n",
       "      <td>-0.002499</td>\n",
       "      <td>0.012222</td>\n",
       "      <td>0.038233</td>\n",
       "      <td>0.021978</td>\n",
       "      <td>-0.009679</td>\n",
       "    </tr>\n",
       "    <tr>\n",
       "      <th>days_exposition</th>\n",
       "      <td>0.018031</td>\n",
       "      <td>0.049853</td>\n",
       "      <td>0.109284</td>\n",
       "      <td>0.108641</td>\n",
       "      <td>0.079607</td>\n",
       "      <td>-0.052924</td>\n",
       "      <td>0.115509</td>\n",
       "      <td>-0.040829</td>\n",
       "      <td>-0.012684</td>\n",
       "      <td>-0.029978</td>\n",
       "      <td>...</td>\n",
       "      <td>0.011727</td>\n",
       "      <td>0.045637</td>\n",
       "      <td>-0.048624</td>\n",
       "      <td>1.000000</td>\n",
       "      <td>0.023759</td>\n",
       "      <td>-0.018229</td>\n",
       "      <td>-0.037532</td>\n",
       "      <td>-0.440494</td>\n",
       "      <td>0.011981</td>\n",
       "      <td>-0.040841</td>\n",
       "    </tr>\n",
       "    <tr>\n",
       "      <th>price_per_sq_m</th>\n",
       "      <td>0.132780</td>\n",
       "      <td>0.608790</td>\n",
       "      <td>0.117349</td>\n",
       "      <td>0.036437</td>\n",
       "      <td>0.377853</td>\n",
       "      <td>0.148098</td>\n",
       "      <td>0.226346</td>\n",
       "      <td>0.129068</td>\n",
       "      <td>0.044725</td>\n",
       "      <td>0.015636</td>\n",
       "      <td>...</td>\n",
       "      <td>0.006933</td>\n",
       "      <td>0.191039</td>\n",
       "      <td>-0.104974</td>\n",
       "      <td>0.023759</td>\n",
       "      <td>1.000000</td>\n",
       "      <td>-0.007272</td>\n",
       "      <td>-0.001995</td>\n",
       "      <td>0.008516</td>\n",
       "      <td>-0.149427</td>\n",
       "      <td>0.158369</td>\n",
       "    </tr>\n",
       "    <tr>\n",
       "      <th>first_day_exposition_day</th>\n",
       "      <td>-0.010433</td>\n",
       "      <td>-0.015240</td>\n",
       "      <td>-0.011361</td>\n",
       "      <td>-0.002930</td>\n",
       "      <td>-0.021603</td>\n",
       "      <td>0.013151</td>\n",
       "      <td>-0.005605</td>\n",
       "      <td>0.012347</td>\n",
       "      <td>-0.009492</td>\n",
       "      <td>-0.000843</td>\n",
       "      <td>...</td>\n",
       "      <td>-0.004548</td>\n",
       "      <td>0.002286</td>\n",
       "      <td>-0.002499</td>\n",
       "      <td>-0.018229</td>\n",
       "      <td>-0.007272</td>\n",
       "      <td>1.000000</td>\n",
       "      <td>0.011496</td>\n",
       "      <td>-0.004799</td>\n",
       "      <td>0.007931</td>\n",
       "      <td>-0.001365</td>\n",
       "    </tr>\n",
       "    <tr>\n",
       "      <th>first_day_exposition_month</th>\n",
       "      <td>0.005043</td>\n",
       "      <td>0.005417</td>\n",
       "      <td>0.006441</td>\n",
       "      <td>-0.004158</td>\n",
       "      <td>-0.003822</td>\n",
       "      <td>0.016651</td>\n",
       "      <td>-0.002483</td>\n",
       "      <td>0.019387</td>\n",
       "      <td>0.002369</td>\n",
       "      <td>0.000976</td>\n",
       "      <td>...</td>\n",
       "      <td>0.018966</td>\n",
       "      <td>-0.008007</td>\n",
       "      <td>0.012222</td>\n",
       "      <td>-0.037532</td>\n",
       "      <td>-0.001995</td>\n",
       "      <td>0.011496</td>\n",
       "      <td>1.000000</td>\n",
       "      <td>-0.269642</td>\n",
       "      <td>-0.013602</td>\n",
       "      <td>0.006301</td>\n",
       "    </tr>\n",
       "    <tr>\n",
       "      <th>first_day_exposition_year</th>\n",
       "      <td>0.140411</td>\n",
       "      <td>-0.003480</td>\n",
       "      <td>-0.061731</td>\n",
       "      <td>-0.057842</td>\n",
       "      <td>-0.095942</td>\n",
       "      <td>0.007845</td>\n",
       "      <td>-0.072696</td>\n",
       "      <td>0.004915</td>\n",
       "      <td>0.009413</td>\n",
       "      <td>0.011961</td>\n",
       "      <td>...</td>\n",
       "      <td>-0.020196</td>\n",
       "      <td>-0.038808</td>\n",
       "      <td>0.038233</td>\n",
       "      <td>-0.440494</td>\n",
       "      <td>0.008516</td>\n",
       "      <td>-0.004799</td>\n",
       "      <td>-0.269642</td>\n",
       "      <td>1.000000</td>\n",
       "      <td>0.003632</td>\n",
       "      <td>0.021262</td>\n",
       "    </tr>\n",
       "    <tr>\n",
       "      <th>living_to_total</th>\n",
       "      <td>0.000565</td>\n",
       "      <td>0.023656</td>\n",
       "      <td>0.214787</td>\n",
       "      <td>0.499838</td>\n",
       "      <td>-0.118945</td>\n",
       "      <td>-0.366147</td>\n",
       "      <td>0.418909</td>\n",
       "      <td>-0.264613</td>\n",
       "      <td>0.002081</td>\n",
       "      <td>0.088780</td>\n",
       "      <td>...</td>\n",
       "      <td>-0.099112</td>\n",
       "      <td>-0.010058</td>\n",
       "      <td>0.021978</td>\n",
       "      <td>0.011981</td>\n",
       "      <td>-0.149427</td>\n",
       "      <td>0.007931</td>\n",
       "      <td>-0.013602</td>\n",
       "      <td>0.003632</td>\n",
       "      <td>1.000000</td>\n",
       "      <td>-0.720883</td>\n",
       "    </tr>\n",
       "    <tr>\n",
       "      <th>kitchen_to_total</th>\n",
       "      <td>-0.026039</td>\n",
       "      <td>-0.120466</td>\n",
       "      <td>-0.373227</td>\n",
       "      <td>-0.606983</td>\n",
       "      <td>0.084416</td>\n",
       "      <td>0.350479</td>\n",
       "      <td>-0.481769</td>\n",
       "      <td>0.244230</td>\n",
       "      <td>0.023800</td>\n",
       "      <td>NaN</td>\n",
       "      <td>...</td>\n",
       "      <td>0.059210</td>\n",
       "      <td>-0.009083</td>\n",
       "      <td>-0.009679</td>\n",
       "      <td>-0.040841</td>\n",
       "      <td>0.158369</td>\n",
       "      <td>-0.001365</td>\n",
       "      <td>0.006301</td>\n",
       "      <td>0.021262</td>\n",
       "      <td>-0.720883</td>\n",
       "      <td>1.000000</td>\n",
       "    </tr>\n",
       "  </tbody>\n",
       "</table>\n",
       "<p>26 rows × 26 columns</p>\n",
       "</div>"
      ],
      "text/plain": [
       "                            total_images  last_price  total_area     rooms  \\\n",
       "total_images                    1.000000    0.158300    0.126016  0.104829   \n",
       "last_price                      0.158300    1.000000    0.695302  0.452862   \n",
       "total_area                      0.126016    0.695302    1.000000  0.789250   \n",
       "rooms                           0.104829    0.452862    0.789250  1.000000   \n",
       "ceiling_height                  0.028935    0.446381    0.361793  0.175109   \n",
       "floors_total                    0.010427    0.184911   -0.022241 -0.228704   \n",
       "living_area                     0.104780    0.582655    0.905447  0.840303   \n",
       "floor                           0.031340    0.127349   -0.020112 -0.154976   \n",
       "is_apartment                    0.010532    0.022223    0.019473 -0.003095   \n",
       "studio                         -0.029303   -0.069470   -0.112063 -0.156269   \n",
       "open_plan                      -0.024407   -0.047440   -0.067702 -0.092701   \n",
       "kitchen_area                    0.104756    0.483219    0.477385  0.237083   \n",
       "balcony                         0.048903    0.063303    0.059871 -0.009764   \n",
       "airports_nearest               -0.002518   -0.039696   -0.028072 -0.056324   \n",
       "cityCenters_nearest            -0.047666   -0.345619   -0.183571 -0.173809   \n",
       "parks_around3000                0.021120    0.118709    0.096656  0.127434   \n",
       "parks_nearest                  -0.008347    0.039126    0.025392 -0.055893   \n",
       "ponds_around3000               -0.011553    0.145720    0.126244  0.089150   \n",
       "ponds_nearest                  -0.003034   -0.051808   -0.053277 -0.050411   \n",
       "days_exposition                 0.018031    0.049853    0.109284  0.108641   \n",
       "price_per_sq_m                  0.132780    0.608790    0.117349  0.036437   \n",
       "first_day_exposition_day       -0.010433   -0.015240   -0.011361 -0.002930   \n",
       "first_day_exposition_month      0.005043    0.005417    0.006441 -0.004158   \n",
       "first_day_exposition_year       0.140411   -0.003480   -0.061731 -0.057842   \n",
       "living_to_total                 0.000565    0.023656    0.214787  0.499838   \n",
       "kitchen_to_total               -0.026039   -0.120466   -0.373227 -0.606983   \n",
       "\n",
       "                            ceiling_height  floors_total  living_area  \\\n",
       "total_images                      0.028935      0.010427     0.104780   \n",
       "last_price                        0.446381      0.184911     0.582655   \n",
       "total_area                        0.361793     -0.022241     0.905447   \n",
       "rooms                             0.175109     -0.228704     0.840303   \n",
       "ceiling_height                    1.000000      0.047506     0.339155   \n",
       "floors_total                      0.047506      1.000000    -0.169311   \n",
       "living_area                       0.339155     -0.169311     1.000000   \n",
       "floor                             0.040609      0.678059    -0.097210   \n",
       "is_apartment                      0.061709     -0.026351     0.026969   \n",
       "studio                            0.021774      0.070151    -0.056231   \n",
       "open_plan                         0.008439      0.050791    -0.033711   \n",
       "kitchen_area                      0.412222      0.163944     0.428674   \n",
       "balcony                          -0.006596      0.172812    -0.014772   \n",
       "airports_nearest                 -0.081582      0.108262    -0.058015   \n",
       "cityCenters_nearest              -0.314779      0.019774    -0.231368   \n",
       "parks_around3000                  0.215483     -0.252833     0.184453   \n",
       "parks_nearest                    -0.043705      0.097527    -0.050167   \n",
       "ponds_around3000                  0.213485     -0.122735     0.148933   \n",
       "ponds_nearest                    -0.130044      0.038864    -0.081674   \n",
       "days_exposition                   0.079607     -0.052924     0.115509   \n",
       "price_per_sq_m                    0.377853      0.148098     0.226346   \n",
       "first_day_exposition_day         -0.021603      0.013151    -0.005605   \n",
       "first_day_exposition_month       -0.003822      0.016651    -0.002483   \n",
       "first_day_exposition_year        -0.095942      0.007845    -0.072696   \n",
       "living_to_total                  -0.118945     -0.366147     0.418909   \n",
       "kitchen_to_total                  0.084416      0.350479    -0.481769   \n",
       "\n",
       "                               floor  is_apartment    studio  ...  \\\n",
       "total_images                0.031340      0.010532 -0.029303  ...   \n",
       "last_price                  0.127349      0.022223 -0.069470  ...   \n",
       "total_area                 -0.020112      0.019473 -0.112063  ...   \n",
       "rooms                      -0.154976     -0.003095 -0.156269  ...   \n",
       "ceiling_height              0.040609      0.061709  0.021774  ...   \n",
       "floors_total                0.678059     -0.026351  0.070151  ...   \n",
       "living_area                -0.097210      0.026969 -0.056231  ...   \n",
       "floor                       1.000000     -0.013294  0.036940  ...   \n",
       "is_apartment               -0.013294      1.000000 -0.003657  ...   \n",
       "studio                      0.036940     -0.003657  1.000000  ...   \n",
       "open_plan                   0.035824     -0.002448 -0.004235  ...   \n",
       "kitchen_area                0.135531      0.049034       NaN  ...   \n",
       "balcony                     0.168567      0.033022  0.028899  ...   \n",
       "airports_nearest            0.071528      0.016467 -0.021888  ...   \n",
       "cityCenters_nearest         0.009084      0.003732 -0.007029  ...   \n",
       "parks_around3000           -0.163784      0.020767 -0.030202  ...   \n",
       "parks_nearest               0.073045     -0.033410  0.009134  ...   \n",
       "ponds_around3000           -0.076312      0.023989  0.000939  ...   \n",
       "ponds_nearest               0.024850      0.003357  0.002606  ...   \n",
       "days_exposition            -0.040829     -0.012684 -0.029978  ...   \n",
       "price_per_sq_m              0.129068      0.044725  0.015636  ...   \n",
       "first_day_exposition_day    0.012347     -0.009492 -0.000843  ...   \n",
       "first_day_exposition_month  0.019387      0.002369  0.000976  ...   \n",
       "first_day_exposition_year   0.004915      0.009413  0.011961  ...   \n",
       "living_to_total            -0.264613      0.002081  0.088780  ...   \n",
       "kitchen_to_total            0.244230      0.023800       NaN  ...   \n",
       "\n",
       "                            parks_nearest  ponds_around3000  ponds_nearest  \\\n",
       "total_images                    -0.008347         -0.011553      -0.003034   \n",
       "last_price                       0.039126          0.145720      -0.051808   \n",
       "total_area                       0.025392          0.126244      -0.053277   \n",
       "rooms                           -0.055893          0.089150      -0.050411   \n",
       "ceiling_height                  -0.043705          0.213485      -0.130044   \n",
       "floors_total                     0.097527         -0.122735       0.038864   \n",
       "living_area                     -0.050167          0.148933      -0.081674   \n",
       "floor                            0.073045         -0.076312       0.024850   \n",
       "is_apartment                    -0.033410          0.023989       0.003357   \n",
       "studio                           0.009134          0.000939       0.002606   \n",
       "open_plan                        0.010612          0.008455      -0.003328   \n",
       "kitchen_area                     0.029641          0.150148      -0.105223   \n",
       "balcony                          0.033256         -0.039604       0.020077   \n",
       "airports_nearest                -0.070058         -0.049695       0.014049   \n",
       "cityCenters_nearest             -0.040650         -0.074577       0.028903   \n",
       "parks_around3000                -0.259514          0.304316      -0.167103   \n",
       "parks_nearest                    1.000000          0.077280       0.000692   \n",
       "ponds_around3000                 0.077280          1.000000      -0.341840   \n",
       "ponds_nearest                    0.000692         -0.341840       1.000000   \n",
       "days_exposition                  0.011727          0.045637      -0.048624   \n",
       "price_per_sq_m                   0.006933          0.191039      -0.104974   \n",
       "first_day_exposition_day        -0.004548          0.002286      -0.002499   \n",
       "first_day_exposition_month       0.018966         -0.008007       0.012222   \n",
       "first_day_exposition_year       -0.020196         -0.038808       0.038233   \n",
       "living_to_total                 -0.099112         -0.010058       0.021978   \n",
       "kitchen_to_total                 0.059210         -0.009083      -0.009679   \n",
       "\n",
       "                            days_exposition  price_per_sq_m  \\\n",
       "total_images                       0.018031        0.132780   \n",
       "last_price                         0.049853        0.608790   \n",
       "total_area                         0.109284        0.117349   \n",
       "rooms                              0.108641        0.036437   \n",
       "ceiling_height                     0.079607        0.377853   \n",
       "floors_total                      -0.052924        0.148098   \n",
       "living_area                        0.115509        0.226346   \n",
       "floor                             -0.040829        0.129068   \n",
       "is_apartment                      -0.012684        0.044725   \n",
       "studio                            -0.029978        0.015636   \n",
       "open_plan                         -0.022916        0.008266   \n",
       "kitchen_area                       0.075852        0.397493   \n",
       "balcony                           -0.020386        0.023376   \n",
       "airports_nearest                  -0.000374       -0.038515   \n",
       "cityCenters_nearest               -0.024957       -0.317951   \n",
       "parks_around3000                   0.046950        0.185163   \n",
       "parks_nearest                      0.011727        0.006933   \n",
       "ponds_around3000                   0.045637        0.191039   \n",
       "ponds_nearest                     -0.048624       -0.104974   \n",
       "days_exposition                    1.000000        0.023759   \n",
       "price_per_sq_m                     0.023759        1.000000   \n",
       "first_day_exposition_day          -0.018229       -0.007272   \n",
       "first_day_exposition_month        -0.037532       -0.001995   \n",
       "first_day_exposition_year         -0.440494        0.008516   \n",
       "living_to_total                    0.011981       -0.149427   \n",
       "kitchen_to_total                  -0.040841        0.158369   \n",
       "\n",
       "                            first_day_exposition_day  \\\n",
       "total_images                               -0.010433   \n",
       "last_price                                 -0.015240   \n",
       "total_area                                 -0.011361   \n",
       "rooms                                      -0.002930   \n",
       "ceiling_height                             -0.021603   \n",
       "floors_total                                0.013151   \n",
       "living_area                                -0.005605   \n",
       "floor                                       0.012347   \n",
       "is_apartment                               -0.009492   \n",
       "studio                                     -0.000843   \n",
       "open_plan                                   0.011042   \n",
       "kitchen_area                               -0.008480   \n",
       "balcony                                    -0.001496   \n",
       "airports_nearest                            0.001603   \n",
       "cityCenters_nearest                         0.008883   \n",
       "parks_around3000                           -0.011447   \n",
       "parks_nearest                              -0.004548   \n",
       "ponds_around3000                            0.002286   \n",
       "ponds_nearest                              -0.002499   \n",
       "days_exposition                            -0.018229   \n",
       "price_per_sq_m                             -0.007272   \n",
       "first_day_exposition_day                    1.000000   \n",
       "first_day_exposition_month                  0.011496   \n",
       "first_day_exposition_year                  -0.004799   \n",
       "living_to_total                             0.007931   \n",
       "kitchen_to_total                           -0.001365   \n",
       "\n",
       "                            first_day_exposition_month  \\\n",
       "total_images                                  0.005043   \n",
       "last_price                                    0.005417   \n",
       "total_area                                    0.006441   \n",
       "rooms                                        -0.004158   \n",
       "ceiling_height                               -0.003822   \n",
       "floors_total                                  0.016651   \n",
       "living_area                                  -0.002483   \n",
       "floor                                         0.019387   \n",
       "is_apartment                                  0.002369   \n",
       "studio                                        0.000976   \n",
       "open_plan                                     0.025765   \n",
       "kitchen_area                                  0.002499   \n",
       "balcony                                       0.009340   \n",
       "airports_nearest                              0.006649   \n",
       "cityCenters_nearest                          -0.008978   \n",
       "parks_around3000                             -0.004486   \n",
       "parks_nearest                                 0.018966   \n",
       "ponds_around3000                             -0.008007   \n",
       "ponds_nearest                                 0.012222   \n",
       "days_exposition                              -0.037532   \n",
       "price_per_sq_m                               -0.001995   \n",
       "first_day_exposition_day                      0.011496   \n",
       "first_day_exposition_month                    1.000000   \n",
       "first_day_exposition_year                    -0.269642   \n",
       "living_to_total                              -0.013602   \n",
       "kitchen_to_total                              0.006301   \n",
       "\n",
       "                            first_day_exposition_year  living_to_total  \\\n",
       "total_images                                 0.140411         0.000565   \n",
       "last_price                                  -0.003480         0.023656   \n",
       "total_area                                  -0.061731         0.214787   \n",
       "rooms                                       -0.057842         0.499838   \n",
       "ceiling_height                              -0.095942        -0.118945   \n",
       "floors_total                                 0.007845        -0.366147   \n",
       "living_area                                 -0.072696         0.418909   \n",
       "floor                                        0.004915        -0.264613   \n",
       "is_apartment                                 0.009413         0.002081   \n",
       "studio                                       0.011961         0.088780   \n",
       "open_plan                                   -0.021095         0.062337   \n",
       "kitchen_area                                -0.054735        -0.338992   \n",
       "balcony                                      0.004570        -0.068332   \n",
       "airports_nearest                             0.009049        -0.088281   \n",
       "cityCenters_nearest                          0.032333        -0.041226   \n",
       "parks_around3000                            -0.038902         0.089852   \n",
       "parks_nearest                               -0.020196        -0.099112   \n",
       "ponds_around3000                            -0.038808        -0.010058   \n",
       "ponds_nearest                                0.038233         0.021978   \n",
       "days_exposition                             -0.440494         0.011981   \n",
       "price_per_sq_m                               0.008516        -0.149427   \n",
       "first_day_exposition_day                    -0.004799         0.007931   \n",
       "first_day_exposition_month                  -0.269642        -0.013602   \n",
       "first_day_exposition_year                    1.000000         0.003632   \n",
       "living_to_total                              0.003632         1.000000   \n",
       "kitchen_to_total                             0.021262        -0.720883   \n",
       "\n",
       "                            kitchen_to_total  \n",
       "total_images                       -0.026039  \n",
       "last_price                         -0.120466  \n",
       "total_area                         -0.373227  \n",
       "rooms                              -0.606983  \n",
       "ceiling_height                      0.084416  \n",
       "floors_total                        0.350479  \n",
       "living_area                        -0.481769  \n",
       "floor                               0.244230  \n",
       "is_apartment                        0.023800  \n",
       "studio                                   NaN  \n",
       "open_plan                                NaN  \n",
       "kitchen_area                        0.431792  \n",
       "balcony                             0.033812  \n",
       "airports_nearest                    0.051147  \n",
       "cityCenters_nearest                 0.023629  \n",
       "parks_around3000                   -0.088877  \n",
       "parks_nearest                       0.059210  \n",
       "ponds_around3000                   -0.009083  \n",
       "ponds_nearest                      -0.009679  \n",
       "days_exposition                    -0.040841  \n",
       "price_per_sq_m                      0.158369  \n",
       "first_day_exposition_day           -0.001365  \n",
       "first_day_exposition_month          0.006301  \n",
       "first_day_exposition_year           0.021262  \n",
       "living_to_total                    -0.720883  \n",
       "kitchen_to_total                    1.000000  \n",
       "\n",
       "[26 rows x 26 columns]"
      ]
     },
     "execution_count": 57,
     "metadata": {},
     "output_type": "execute_result"
    }
   ],
   "source": [
    "df.corr()"
   ]
  },
  {
   "cell_type": "markdown",
   "metadata": {},
   "source": [
    "Из таблицы корреляции видно, что на цену больше всего влияет площадь квартиры (площадь жилую и площадь кухни будем считать зависимыми друг от друга параметрами), за ней идет высота потолков, за ней идет количество комнат, далее идут количесчтво водоёмов в радиусе 3 км и близость к центру города (корреляция отрицательная, значит чем дальше - тем дороже). "
   ]
  },
  {
   "cell_type": "markdown",
   "metadata": {},
   "source": [
    "Построим сводную таблицу зависимости цены от категории этажа"
   ]
  },
  {
   "cell_type": "code",
   "execution_count": 58,
   "metadata": {},
   "outputs": [
    {
     "data": {
      "text/html": [
       "<div>\n",
       "<style scoped>\n",
       "    .dataframe tbody tr th:only-of-type {\n",
       "        vertical-align: middle;\n",
       "    }\n",
       "\n",
       "    .dataframe tbody tr th {\n",
       "        vertical-align: top;\n",
       "    }\n",
       "\n",
       "    .dataframe thead tr th {\n",
       "        text-align: left;\n",
       "    }\n",
       "\n",
       "    .dataframe thead tr:last-of-type th {\n",
       "        text-align: right;\n",
       "    }\n",
       "</style>\n",
       "<table border=\"1\" class=\"dataframe\">\n",
       "  <thead>\n",
       "    <tr>\n",
       "      <th></th>\n",
       "      <th>median</th>\n",
       "      <th>mean</th>\n",
       "      <th>count</th>\n",
       "    </tr>\n",
       "    <tr>\n",
       "      <th></th>\n",
       "      <th>last_price</th>\n",
       "      <th>last_price</th>\n",
       "      <th>last_price</th>\n",
       "    </tr>\n",
       "    <tr>\n",
       "      <th>floor_category</th>\n",
       "      <th></th>\n",
       "      <th></th>\n",
       "      <th></th>\n",
       "    </tr>\n",
       "  </thead>\n",
       "  <tbody>\n",
       "    <tr>\n",
       "      <th>another</th>\n",
       "      <td>4600000.0</td>\n",
       "      <td>5044223.5</td>\n",
       "      <td>15863</td>\n",
       "    </tr>\n",
       "    <tr>\n",
       "      <th>first</th>\n",
       "      <td>3830000.0</td>\n",
       "      <td>4139007.5</td>\n",
       "      <td>2781</td>\n",
       "    </tr>\n",
       "    <tr>\n",
       "      <th>last</th>\n",
       "      <td>4000000.0</td>\n",
       "      <td>4475824.5</td>\n",
       "      <td>3021</td>\n",
       "    </tr>\n",
       "  </tbody>\n",
       "</table>\n",
       "</div>"
      ],
      "text/plain": [
       "                   median       mean      count\n",
       "               last_price last_price last_price\n",
       "floor_category                                 \n",
       "another         4600000.0  5044223.5      15863\n",
       "first           3830000.0  4139007.5       2781\n",
       "last            4000000.0  4475824.5       3021"
      ]
     },
     "execution_count": 58,
     "metadata": {},
     "output_type": "execute_result"
    }
   ],
   "source": [
    "df.pivot_table(index='floor_category', values='last_price', aggfunc=['median', 'mean', 'count'])"
   ]
  },
  {
   "cell_type": "markdown",
   "metadata": {},
   "source": [
    "Из сводной таблицы видно, что на первом этаже квартиры стоят дешевле и по среднему и по медианному значению, средняя квартира (медиана) дороже всего стоят квартиры на этажах, кроме первого и последнего.  "
   ]
  },
  {
   "cell_type": "markdown",
   "metadata": {},
   "source": [
    "Построим сводную таблицу зависимости цены от дня недели выставления на продажу."
   ]
  },
  {
   "cell_type": "code",
   "execution_count": 59,
   "metadata": {},
   "outputs": [
    {
     "data": {
      "text/html": [
       "<div>\n",
       "<style scoped>\n",
       "    .dataframe tbody tr th:only-of-type {\n",
       "        vertical-align: middle;\n",
       "    }\n",
       "\n",
       "    .dataframe tbody tr th {\n",
       "        vertical-align: top;\n",
       "    }\n",
       "\n",
       "    .dataframe thead tr th {\n",
       "        text-align: left;\n",
       "    }\n",
       "\n",
       "    .dataframe thead tr:last-of-type th {\n",
       "        text-align: right;\n",
       "    }\n",
       "</style>\n",
       "<table border=\"1\" class=\"dataframe\">\n",
       "  <thead>\n",
       "    <tr>\n",
       "      <th></th>\n",
       "      <th>median</th>\n",
       "      <th>mean</th>\n",
       "      <th>count</th>\n",
       "    </tr>\n",
       "    <tr>\n",
       "      <th></th>\n",
       "      <th>last_price</th>\n",
       "      <th>last_price</th>\n",
       "      <th>last_price</th>\n",
       "    </tr>\n",
       "    <tr>\n",
       "      <th>first_day_exposition_day</th>\n",
       "      <th></th>\n",
       "      <th></th>\n",
       "      <th></th>\n",
       "    </tr>\n",
       "  </thead>\n",
       "  <tbody>\n",
       "    <tr>\n",
       "      <th>0</th>\n",
       "      <td>4400000.0</td>\n",
       "      <td>4847434.5</td>\n",
       "      <td>3299</td>\n",
       "    </tr>\n",
       "    <tr>\n",
       "      <th>1</th>\n",
       "      <td>4500000.0</td>\n",
       "      <td>4905660.5</td>\n",
       "      <td>3834</td>\n",
       "    </tr>\n",
       "    <tr>\n",
       "      <th>2</th>\n",
       "      <td>4490000.0</td>\n",
       "      <td>4884044.5</td>\n",
       "      <td>3618</td>\n",
       "    </tr>\n",
       "    <tr>\n",
       "      <th>3</th>\n",
       "      <td>4400000.0</td>\n",
       "      <td>4856807.5</td>\n",
       "      <td>3875</td>\n",
       "    </tr>\n",
       "    <tr>\n",
       "      <th>4</th>\n",
       "      <td>4360000.0</td>\n",
       "      <td>4826608.5</td>\n",
       "      <td>3682</td>\n",
       "    </tr>\n",
       "    <tr>\n",
       "      <th>5</th>\n",
       "      <td>4400000.0</td>\n",
       "      <td>4745465.5</td>\n",
       "      <td>1787</td>\n",
       "    </tr>\n",
       "    <tr>\n",
       "      <th>6</th>\n",
       "      <td>4390000.0</td>\n",
       "      <td>4781053.5</td>\n",
       "      <td>1570</td>\n",
       "    </tr>\n",
       "  </tbody>\n",
       "</table>\n",
       "</div>"
      ],
      "text/plain": [
       "                             median       mean      count\n",
       "                         last_price last_price last_price\n",
       "first_day_exposition_day                                 \n",
       "0                         4400000.0  4847434.5       3299\n",
       "1                         4500000.0  4905660.5       3834\n",
       "2                         4490000.0  4884044.5       3618\n",
       "3                         4400000.0  4856807.5       3875\n",
       "4                         4360000.0  4826608.5       3682\n",
       "5                         4400000.0  4745465.5       1787\n",
       "6                         4390000.0  4781053.5       1570"
      ]
     },
     "execution_count": 59,
     "metadata": {},
     "output_type": "execute_result"
    }
   ],
   "source": [
    "df.pivot_table(index='first_day_exposition_day', values='last_price', aggfunc=['median', 'mean', 'count'])"
   ]
  },
  {
   "cell_type": "markdown",
   "metadata": {},
   "source": [
    "Из полученной таблицы видно, что цена не зависит от дня выставления на продажу."
   ]
  },
  {
   "cell_type": "markdown",
   "metadata": {},
   "source": [
    "Построим сводную таблицу зависимости цены от месяца выставления на продажу."
   ]
  },
  {
   "cell_type": "code",
   "execution_count": 60,
   "metadata": {},
   "outputs": [
    {
     "data": {
      "text/html": [
       "<div>\n",
       "<style scoped>\n",
       "    .dataframe tbody tr th:only-of-type {\n",
       "        vertical-align: middle;\n",
       "    }\n",
       "\n",
       "    .dataframe tbody tr th {\n",
       "        vertical-align: top;\n",
       "    }\n",
       "\n",
       "    .dataframe thead tr th {\n",
       "        text-align: left;\n",
       "    }\n",
       "\n",
       "    .dataframe thead tr:last-of-type th {\n",
       "        text-align: right;\n",
       "    }\n",
       "</style>\n",
       "<table border=\"1\" class=\"dataframe\">\n",
       "  <thead>\n",
       "    <tr>\n",
       "      <th></th>\n",
       "      <th>median</th>\n",
       "      <th>mean</th>\n",
       "      <th>count</th>\n",
       "    </tr>\n",
       "    <tr>\n",
       "      <th></th>\n",
       "      <th>last_price</th>\n",
       "      <th>last_price</th>\n",
       "      <th>last_price</th>\n",
       "    </tr>\n",
       "    <tr>\n",
       "      <th>first_day_exposition_month</th>\n",
       "      <th></th>\n",
       "      <th></th>\n",
       "      <th></th>\n",
       "    </tr>\n",
       "  </thead>\n",
       "  <tbody>\n",
       "    <tr>\n",
       "      <th>1</th>\n",
       "      <td>4400000.0</td>\n",
       "      <td>4801527.0</td>\n",
       "      <td>1357</td>\n",
       "    </tr>\n",
       "    <tr>\n",
       "      <th>2</th>\n",
       "      <td>4400000.0</td>\n",
       "      <td>4845414.0</td>\n",
       "      <td>2417</td>\n",
       "    </tr>\n",
       "    <tr>\n",
       "      <th>3</th>\n",
       "      <td>4433484.0</td>\n",
       "      <td>4809579.0</td>\n",
       "      <td>2369</td>\n",
       "    </tr>\n",
       "    <tr>\n",
       "      <th>4</th>\n",
       "      <td>4564580.0</td>\n",
       "      <td>4953743.5</td>\n",
       "      <td>2182</td>\n",
       "    </tr>\n",
       "    <tr>\n",
       "      <th>5</th>\n",
       "      <td>4350000.0</td>\n",
       "      <td>4833370.5</td>\n",
       "      <td>1163</td>\n",
       "    </tr>\n",
       "    <tr>\n",
       "      <th>6</th>\n",
       "      <td>4200000.0</td>\n",
       "      <td>4680889.5</td>\n",
       "      <td>1619</td>\n",
       "    </tr>\n",
       "    <tr>\n",
       "      <th>7</th>\n",
       "      <td>4380596.0</td>\n",
       "      <td>4855458.0</td>\n",
       "      <td>1544</td>\n",
       "    </tr>\n",
       "    <tr>\n",
       "      <th>8</th>\n",
       "      <td>4395000.0</td>\n",
       "      <td>4859378.0</td>\n",
       "      <td>1601</td>\n",
       "    </tr>\n",
       "    <tr>\n",
       "      <th>9</th>\n",
       "      <td>4401770.5</td>\n",
       "      <td>4956280.0</td>\n",
       "      <td>1804</td>\n",
       "    </tr>\n",
       "    <tr>\n",
       "      <th>10</th>\n",
       "      <td>4400000.0</td>\n",
       "      <td>4821700.0</td>\n",
       "      <td>1959</td>\n",
       "    </tr>\n",
       "    <tr>\n",
       "      <th>11</th>\n",
       "      <td>4450000.0</td>\n",
       "      <td>4866079.0</td>\n",
       "      <td>2153</td>\n",
       "    </tr>\n",
       "    <tr>\n",
       "      <th>12</th>\n",
       "      <td>4490000.0</td>\n",
       "      <td>4862257.0</td>\n",
       "      <td>1497</td>\n",
       "    </tr>\n",
       "  </tbody>\n",
       "</table>\n",
       "</div>"
      ],
      "text/plain": [
       "                               median       mean      count\n",
       "                           last_price last_price last_price\n",
       "first_day_exposition_month                                 \n",
       "1                           4400000.0  4801527.0       1357\n",
       "2                           4400000.0  4845414.0       2417\n",
       "3                           4433484.0  4809579.0       2369\n",
       "4                           4564580.0  4953743.5       2182\n",
       "5                           4350000.0  4833370.5       1163\n",
       "6                           4200000.0  4680889.5       1619\n",
       "7                           4380596.0  4855458.0       1544\n",
       "8                           4395000.0  4859378.0       1601\n",
       "9                           4401770.5  4956280.0       1804\n",
       "10                          4400000.0  4821700.0       1959\n",
       "11                          4450000.0  4866079.0       2153\n",
       "12                          4490000.0  4862257.0       1497"
      ]
     },
     "execution_count": 60,
     "metadata": {},
     "output_type": "execute_result"
    }
   ],
   "source": [
    "df.pivot_table(index='first_day_exposition_month', values='last_price', aggfunc=['median', 'mean', 'count'])"
   ]
  },
  {
   "cell_type": "markdown",
   "metadata": {},
   "source": [
    "Из полученной таблицы видно, что цена не зависит от месяца выставления на продажу."
   ]
  },
  {
   "cell_type": "markdown",
   "metadata": {},
   "source": [
    "Построим сводную таблицу зависимости цены от года выставления на продажу."
   ]
  },
  {
   "cell_type": "code",
   "execution_count": 61,
   "metadata": {},
   "outputs": [
    {
     "data": {
      "text/html": [
       "<div>\n",
       "<style scoped>\n",
       "    .dataframe tbody tr th:only-of-type {\n",
       "        vertical-align: middle;\n",
       "    }\n",
       "\n",
       "    .dataframe tbody tr th {\n",
       "        vertical-align: top;\n",
       "    }\n",
       "\n",
       "    .dataframe thead tr th {\n",
       "        text-align: left;\n",
       "    }\n",
       "\n",
       "    .dataframe thead tr:last-of-type th {\n",
       "        text-align: right;\n",
       "    }\n",
       "</style>\n",
       "<table border=\"1\" class=\"dataframe\">\n",
       "  <thead>\n",
       "    <tr>\n",
       "      <th></th>\n",
       "      <th>median</th>\n",
       "      <th>mean</th>\n",
       "      <th>count</th>\n",
       "    </tr>\n",
       "    <tr>\n",
       "      <th></th>\n",
       "      <th>last_price</th>\n",
       "      <th>last_price</th>\n",
       "      <th>last_price</th>\n",
       "    </tr>\n",
       "    <tr>\n",
       "      <th>first_day_exposition_year</th>\n",
       "      <th></th>\n",
       "      <th></th>\n",
       "      <th></th>\n",
       "    </tr>\n",
       "  </thead>\n",
       "  <tbody>\n",
       "    <tr>\n",
       "      <th>2014</th>\n",
       "      <td>5500000.0</td>\n",
       "      <td>5782435.5</td>\n",
       "      <td>89</td>\n",
       "    </tr>\n",
       "    <tr>\n",
       "      <th>2015</th>\n",
       "      <td>4900000.0</td>\n",
       "      <td>5255896.5</td>\n",
       "      <td>1016</td>\n",
       "    </tr>\n",
       "    <tr>\n",
       "      <th>2016</th>\n",
       "      <td>4300000.0</td>\n",
       "      <td>4809851.5</td>\n",
       "      <td>2522</td>\n",
       "    </tr>\n",
       "    <tr>\n",
       "      <th>2017</th>\n",
       "      <td>4300000.0</td>\n",
       "      <td>4779288.5</td>\n",
       "      <td>7502</td>\n",
       "    </tr>\n",
       "    <tr>\n",
       "      <th>2018</th>\n",
       "      <td>4395000.0</td>\n",
       "      <td>4777875.0</td>\n",
       "      <td>7921</td>\n",
       "    </tr>\n",
       "    <tr>\n",
       "      <th>2019</th>\n",
       "      <td>4800000.0</td>\n",
       "      <td>5110409.5</td>\n",
       "      <td>2615</td>\n",
       "    </tr>\n",
       "  </tbody>\n",
       "</table>\n",
       "</div>"
      ],
      "text/plain": [
       "                              median       mean      count\n",
       "                          last_price last_price last_price\n",
       "first_day_exposition_year                                 \n",
       "2014                       5500000.0  5782435.5         89\n",
       "2015                       4900000.0  5255896.5       1016\n",
       "2016                       4300000.0  4809851.5       2522\n",
       "2017                       4300000.0  4779288.5       7502\n",
       "2018                       4395000.0  4777875.0       7921\n",
       "2019                       4800000.0  5110409.5       2615"
      ]
     },
     "execution_count": 61,
     "metadata": {},
     "output_type": "execute_result"
    }
   ],
   "source": [
    "df.pivot_table(index='first_day_exposition_year', values='last_price', aggfunc=['median', 'mean', 'count'])"
   ]
  },
  {
   "cell_type": "markdown",
   "metadata": {},
   "source": [
    "Из полученной таблицы видно, что цена в 2014 году была максимальной, но мало записей за этот год, поэтому считаю, что этим данным доверять нельзя (могут влиять выбросы, достаточно небольшого количества очень дорогих квартир для изменения средней цены). В 2016-2018 годах стоимость была одиннаковой, в 2015 и 2019 гожах стоимость средней вартиры была выше, чем в 2016-2018 годах."
   ]
  },
  {
   "cell_type": "code",
   "execution_count": 62,
   "metadata": {},
   "outputs": [
    {
     "data": {
      "text/html": [
       "<div>\n",
       "<style scoped>\n",
       "    .dataframe tbody tr th:only-of-type {\n",
       "        vertical-align: middle;\n",
       "    }\n",
       "\n",
       "    .dataframe tbody tr th {\n",
       "        vertical-align: top;\n",
       "    }\n",
       "\n",
       "    .dataframe thead th {\n",
       "        text-align: right;\n",
       "    }\n",
       "</style>\n",
       "<table border=\"1\" class=\"dataframe\">\n",
       "  <thead>\n",
       "    <tr style=\"text-align: right;\">\n",
       "      <th></th>\n",
       "      <th>last_price</th>\n",
       "      <th>total_area</th>\n",
       "      <th>rooms</th>\n",
       "      <th>cityCenters_nearest</th>\n",
       "    </tr>\n",
       "  </thead>\n",
       "  <tbody>\n",
       "    <tr>\n",
       "      <th>last_price</th>\n",
       "      <td>1.000000</td>\n",
       "      <td>0.695302</td>\n",
       "      <td>0.452862</td>\n",
       "      <td>-0.345619</td>\n",
       "    </tr>\n",
       "    <tr>\n",
       "      <th>total_area</th>\n",
       "      <td>0.695302</td>\n",
       "      <td>1.000000</td>\n",
       "      <td>0.789250</td>\n",
       "      <td>-0.183571</td>\n",
       "    </tr>\n",
       "    <tr>\n",
       "      <th>rooms</th>\n",
       "      <td>0.452862</td>\n",
       "      <td>0.789250</td>\n",
       "      <td>1.000000</td>\n",
       "      <td>-0.173809</td>\n",
       "    </tr>\n",
       "    <tr>\n",
       "      <th>cityCenters_nearest</th>\n",
       "      <td>-0.345619</td>\n",
       "      <td>-0.183571</td>\n",
       "      <td>-0.173809</td>\n",
       "      <td>1.000000</td>\n",
       "    </tr>\n",
       "  </tbody>\n",
       "</table>\n",
       "</div>"
      ],
      "text/plain": [
       "                     last_price  total_area     rooms  cityCenters_nearest\n",
       "last_price             1.000000    0.695302  0.452862            -0.345619\n",
       "total_area             0.695302    1.000000  0.789250            -0.183571\n",
       "rooms                  0.452862    0.789250  1.000000            -0.173809\n",
       "cityCenters_nearest   -0.345619   -0.183571 -0.173809             1.000000"
      ]
     },
     "execution_count": 62,
     "metadata": {},
     "output_type": "execute_result"
    }
   ],
   "source": [
    "df[['last_price', 'total_area', 'rooms', 'cityCenters_nearest']].corr()"
   ]
  },
  {
   "cell_type": "markdown",
   "metadata": {},
   "source": [
    "По таблице корреляции видно, что на цену объекта сильнее всего вляет площадь объекта (что логично, ведь цену обычно рассчитывают из стоимости квадратного метра), количество комнат (что тоже логично, как правило, чем больше комнат - тем больше квартира и выше её стоимость), за ними идет удаленность от центра (коэффициент отрицательный так как чем дальше. тем дешевле)."
   ]
  },
  {
   "cell_type": "code",
   "execution_count": 63,
   "metadata": {},
   "outputs": [
    {
     "data": {
      "text/plain": [
       "<seaborn.axisgrid.PairGrid at 0x7fb648dd5c70>"
      ]
     },
     "execution_count": 63,
     "metadata": {},
     "output_type": "execute_result"
    },
    {
     "data": {
      "image/png": "[encoded data removed]",
      "text/plain": [
       "<Figure size 720x720 with 20 Axes>"
      ]
     },
     "metadata": {
      "needs_background": "light"
     },
     "output_type": "display_data"
    }
   ],
   "source": [
    "sns.pairplot(df[['last_price', 'total_area', 'rooms', 'cityCenters_nearest']].corr())"
   ]
  },
  {
   "cell_type": "markdown",
   "metadata": {},
   "source": [
    "Построим столбчатую диаграмму стоимости квартир от категории этажа."
   ]
  },
  {
   "cell_type": "code",
   "execution_count": 64,
   "metadata": {},
   "outputs": [
    {
     "data": {
      "text/plain": [
       "<AxesSubplot:title={'center':'floor_category'}, xlabel='floor_categoty', ylabel='mean_price'>"
      ]
     },
     "execution_count": 64,
     "metadata": {},
     "output_type": "execute_result"
    },
    {
     "data": {
      "image/png": "[encoded data removed]",
      "text/plain": [
       "<Figure size 432x288 with 1 Axes>"
      ]
     },
     "metadata": {
      "needs_background": "light"
     },
     "output_type": "display_data"
    }
   ],
   "source": [
    "df.groupby(by='floor_category')['last_price'].mean().\\\n",
    "    plot(kind='bar', xlabel='floor_categoty', ylabel='mean_price', title = 'floor_category')"
   ]
  },
  {
   "cell_type": "markdown",
   "metadata": {},
   "source": [
    "Из графика видно, что на первом этаже квартиры стоят дешевле всего, дороже всего стоят квартиры на этажах, кроме первого и последнего.  "
   ]
  },
  {
   "cell_type": "markdown",
   "metadata": {},
   "source": [
    "Построим столбчатую диаграмму стоимости квартир от дня выставки на продажу."
   ]
  },
  {
   "cell_type": "code",
   "execution_count": 65,
   "metadata": {},
   "outputs": [
    {
     "data": {
      "text/plain": [
       "<AxesSubplot:title={'center':'first_day_exposition_day'}, xlabel='first_day_exposition_day', ylabel='mean_price'>"
      ]
     },
     "execution_count": 65,
     "metadata": {},
     "output_type": "execute_result"
    },
    {
     "data": {
      "image/png": "[encoded data removed]",
      "text/plain": [
       "<Figure size 432x288 with 1 Axes>"
      ]
     },
     "metadata": {
      "needs_background": "light"
     },
     "output_type": "display_data"
    }
   ],
   "source": [
    "df.groupby(by='first_day_exposition_day')['last_price'].mean().\\\n",
    "    plot(kind='bar', xlabel='first_day_exposition_day', ylabel='mean_price', title = 'first_day_exposition_day')"
   ]
  },
  {
   "cell_type": "markdown",
   "metadata": {},
   "source": [
    "Стоимость продажи не зависит от дня размещения объявления."
   ]
  },
  {
   "cell_type": "markdown",
   "metadata": {},
   "source": [
    "Построим столбчатую диаграмму стоимости квартир от месяца выставки на продажу."
   ]
  },
  {
   "cell_type": "code",
   "execution_count": 66,
   "metadata": {},
   "outputs": [
    {
     "data": {
      "text/plain": [
       "<AxesSubplot:title={'center':'first_day_exposition_month'}, xlabel='first_day_exposition_month', ylabel='mean_price'>"
      ]
     },
     "execution_count": 66,
     "metadata": {},
     "output_type": "execute_result"
    },
    {
     "data": {
      "image/png": "[encoded data removed]",
      "text/plain": [
       "<Figure size 432x288 with 1 Axes>"
      ]
     },
     "metadata": {
      "needs_background": "light"
     },
     "output_type": "display_data"
    }
   ],
   "source": [
    "df.groupby(by='first_day_exposition_month')['last_price'].mean().\\\n",
    "    plot(kind='bar', xlabel='first_day_exposition_month', ylabel='mean_price', title = 'first_day_exposition_month')"
   ]
  },
  {
   "cell_type": "markdown",
   "metadata": {},
   "source": [
    "Стоимость продажи не зависит от месяца размещения объявления."
   ]
  },
  {
   "cell_type": "markdown",
   "metadata": {},
   "source": [
    "Построим столбчатую диаграмму стоимости квартир от месяца выставки на продажу."
   ]
  },
  {
   "cell_type": "code",
   "execution_count": 67,
   "metadata": {},
   "outputs": [
    {
     "data": {
      "text/plain": [
       "<AxesSubplot:title={'center':'first_day_exposition_year'}, xlabel='first_day_exposition_year', ylabel='mean_price'>"
      ]
     },
     "execution_count": 67,
     "metadata": {},
     "output_type": "execute_result"
    },
    {
     "data": {
      "image/png": "[encoded data removed]",
      "text/plain": [
       "<Figure size 432x288 with 1 Axes>"
      ]
     },
     "metadata": {
      "needs_background": "light"
     },
     "output_type": "display_data"
    }
   ],
   "source": [
    "df.groupby(by='first_day_exposition_year')['last_price'].mean().\\\n",
    "    plot(kind='bar', xlabel='first_day_exposition_year', ylabel='mean_price', title = 'first_day_exposition_year')"
   ]
  },
  {
   "cell_type": "markdown",
   "metadata": {},
   "source": [
    "Из полученной таблицы видно, что цена в 2014 году была максимальной, потом до 2017 года цена снижалась, после 2017 года цена на чала расти."
   ]
  },
  {
   "cell_type": "markdown",
   "metadata": {},
   "source": [
    "**Выберем 10 населённых пунктов с наибольшим числом объявлений. Посчитаем среднюю цену квадратного метра в этих населённых пунктах. Выделим населённые пункты с самой высокой и низкой стоимостью жилья**"
   ]
  },
  {
   "cell_type": "markdown",
   "metadata": {},
   "source": [
    "Выведем 10 населённых пунктов с наибольшим числом объявлений и посчитаем среднюю цену квадратного метра в этих населённых пунктах."
   ]
  },
  {
   "cell_type": "code",
   "execution_count": 68,
   "metadata": {},
   "outputs": [
    {
     "data": {
      "text/html": [
       "<div>\n",
       "<style scoped>\n",
       "    .dataframe tbody tr th:only-of-type {\n",
       "        vertical-align: middle;\n",
       "    }\n",
       "\n",
       "    .dataframe tbody tr th {\n",
       "        vertical-align: top;\n",
       "    }\n",
       "\n",
       "    .dataframe thead tr th {\n",
       "        text-align: left;\n",
       "    }\n",
       "\n",
       "    .dataframe thead tr:last-of-type th {\n",
       "        text-align: right;\n",
       "    }\n",
       "</style>\n",
       "<table border=\"1\" class=\"dataframe\">\n",
       "  <thead>\n",
       "    <tr>\n",
       "      <th></th>\n",
       "      <th>mean</th>\n",
       "      <th>count</th>\n",
       "    </tr>\n",
       "    <tr>\n",
       "      <th></th>\n",
       "      <th>price_per_sq_m</th>\n",
       "      <th>price_per_sq_m</th>\n",
       "    </tr>\n",
       "    <tr>\n",
       "      <th>locality_name</th>\n",
       "      <th></th>\n",
       "      <th></th>\n",
       "    </tr>\n",
       "  </thead>\n",
       "  <tbody>\n",
       "    <tr>\n",
       "      <th>Санкт-Петербург</th>\n",
       "      <td>114849.007812</td>\n",
       "      <td>15721</td>\n",
       "    </tr>\n",
       "    <tr>\n",
       "      <th>посёлок Мурино</th>\n",
       "      <td>85752.187500</td>\n",
       "      <td>522</td>\n",
       "    </tr>\n",
       "    <tr>\n",
       "      <th>посёлок Шушары</th>\n",
       "      <td>78677.367188</td>\n",
       "      <td>440</td>\n",
       "    </tr>\n",
       "    <tr>\n",
       "      <th>Всеволожск</th>\n",
       "      <td>68654.476562</td>\n",
       "      <td>398</td>\n",
       "    </tr>\n",
       "    <tr>\n",
       "      <th>Пушкин</th>\n",
       "      <td>103125.820312</td>\n",
       "      <td>369</td>\n",
       "    </tr>\n",
       "    <tr>\n",
       "      <th>Колпино</th>\n",
       "      <td>75424.578125</td>\n",
       "      <td>338</td>\n",
       "    </tr>\n",
       "    <tr>\n",
       "      <th>посёлок Парголово</th>\n",
       "      <td>90175.914062</td>\n",
       "      <td>327</td>\n",
       "    </tr>\n",
       "    <tr>\n",
       "      <th>Гатчина</th>\n",
       "      <td>68746.148438</td>\n",
       "      <td>307</td>\n",
       "    </tr>\n",
       "    <tr>\n",
       "      <th>деревня Кудрово</th>\n",
       "      <td>92473.546875</td>\n",
       "      <td>299</td>\n",
       "    </tr>\n",
       "    <tr>\n",
       "      <th>Выборг</th>\n",
       "      <td>58141.910156</td>\n",
       "      <td>237</td>\n",
       "    </tr>\n",
       "  </tbody>\n",
       "</table>\n",
       "</div>"
      ],
      "text/plain": [
       "                            mean          count\n",
       "                  price_per_sq_m price_per_sq_m\n",
       "locality_name                                  \n",
       "Санкт-Петербург    114849.007812          15721\n",
       "посёлок Мурино      85752.187500            522\n",
       "посёлок Шушары      78677.367188            440\n",
       "Всеволожск          68654.476562            398\n",
       "Пушкин             103125.820312            369\n",
       "Колпино             75424.578125            338\n",
       "посёлок Парголово   90175.914062            327\n",
       "Гатчина             68746.148438            307\n",
       "деревня Кудрово     92473.546875            299\n",
       "Выборг              58141.910156            237"
      ]
     },
     "execution_count": 68,
     "metadata": {},
     "output_type": "execute_result"
    }
   ],
   "source": [
    "df.pivot_table(index='locality_name', values='price_per_sq_m', aggfunc=['mean', 'count'])\\\n",
    "    .sort_values([('count', 'price_per_sq_m')],ascending=False)[:10]"
   ]
  },
  {
   "cell_type": "code",
   "execution_count": 69,
   "metadata": {},
   "outputs": [
    {
     "data": {
      "text/plain": [
       "<AxesSubplot:title={'center':'locality_name'}, xlabel='locality_name', ylabel='price_per_sq_m'>"
      ]
     },
     "execution_count": 69,
     "metadata": {},
     "output_type": "execute_result"
    },
    {
     "data": {
      "image/png": "[encoded data removed]",
      "text/plain": [
       "<Figure size 432x288 with 1 Axes>"
      ]
     },
     "metadata": {
      "needs_background": "light"
     },
     "output_type": "display_data"
    }
   ],
   "source": [
    "df.groupby(by='locality_name')['price_per_sq_m'].agg({'mean', 'count'}).\\\n",
    "    sort_values(by='count', ascending=False).head(10).\\\n",
    "    plot(kind='bar', y='mean', xlabel='locality_name', ylabel='price_per_sq_m', title = 'locality_name')"
   ]
  },
  {
   "cell_type": "markdown",
   "metadata": {},
   "source": [
    "Наибольшая средняя цена квадратного метра из этих населённых пунктов в Санкт-Петербурге - 115000, а наименьшая в Выборге - 58000."
   ]
  },
  {
   "cell_type": "markdown",
   "metadata": {},
   "source": [
    "**Изучим предложения квартир: для каждой квартиры есть информация о расстоянии до центра. Выделим квартиры в Санкт-Петербурге. Выясним, какая область входит в центр. Создадим столбец с расстоянием до центра в километрах. После этого посчитаем среднюю цену для каждого километра. Построим график зависимости цены от удалённости от центра. Определим границу центральной зоны**"
   ]
  },
  {
   "cell_type": "markdown",
   "metadata": {},
   "source": [
    "Изучим предложения квартир в Санкт-Петербурге. Создадим столбец с расстоянием до цента в километрах округленным до целого значения."
   ]
  },
  {
   "cell_type": "code",
   "execution_count": 70,
   "metadata": {},
   "outputs": [],
   "source": [
    "df['cityCenters_nearest_km'] = df['cityCenters_nearest'] // 1000"
   ]
  },
  {
   "cell_type": "markdown",
   "metadata": {},
   "source": [
    "Посмотрим как расстояние от центра влияет на среднюю стоимость квадратного метра."
   ]
  },
  {
   "cell_type": "code",
   "execution_count": 71,
   "metadata": {},
   "outputs": [
    {
     "data": {
      "text/plain": [
       "cityCenters_nearest_km\n",
       "0.0     187324.125000\n",
       "1.0     166603.750000\n",
       "2.0     146662.859375\n",
       "3.0     129416.343750\n",
       "4.0     137475.500000\n",
       "5.0     146979.234375\n",
       "6.0     152277.890625\n",
       "7.0     141399.734375\n",
       "8.0     120581.351562\n",
       "9.0     110012.546875\n",
       "10.0    111641.289062\n",
       "11.0    106790.882812\n",
       "12.0    108295.765625\n",
       "13.0    107209.140625\n",
       "14.0    104986.484375\n",
       "15.0    101883.117188\n",
       "16.0    100085.601562\n",
       "17.0     94095.875000\n",
       "18.0     94831.953125\n",
       "19.0     95434.375000\n",
       "20.0    107046.164062\n",
       "21.0     91492.687500\n",
       "22.0     88714.695312\n",
       "23.0     92720.640625\n",
       "24.0     82440.343750\n",
       "25.0     91136.015625\n",
       "26.0     75171.914062\n",
       "27.0    132115.718750\n",
       "28.0     81840.640625\n",
       "29.0     62482.406250\n",
       "Name: price_per_sq_m, dtype: float32"
      ]
     },
     "execution_count": 71,
     "metadata": {},
     "output_type": "execute_result"
    }
   ],
   "source": [
    "df.query('locality_name == \"Санкт-Петербург\"').groupby('cityCenters_nearest_km')['price_per_sq_m'].mean()"
   ]
  },
  {
   "cell_type": "markdown",
   "metadata": {},
   "source": [
    "Построим график по этим значениям."
   ]
  },
  {
   "cell_type": "code",
   "execution_count": 72,
   "metadata": {},
   "outputs": [
    {
     "data": {
      "text/plain": [
       "<AxesSubplot:xlabel='cityCenters_nearest_km'>"
      ]
     },
     "execution_count": 72,
     "metadata": {},
     "output_type": "execute_result"
    },
    {
     "data": {
      "image/png": "[encoded data removed]",
      "text/plain": [
       "<Figure size 1080x576 with 1 Axes>"
      ]
     },
     "metadata": {
      "needs_background": "light"
     },
     "output_type": "display_data"
    }
   ],
   "source": [
    "df.query('locality_name == \"Санкт-Петербург\"')\\\n",
    "    .groupby('cityCenters_nearest_km')['price_per_sq_m'].mean().plot(style ='o-', grid=True, figsize=(15,8))"
   ]
  },
  {
   "cell_type": "markdown",
   "metadata": {},
   "source": [
    "График резко меняется после 6 км. Будем считать радиус 6 км границей центра"
   ]
  },
  {
   "cell_type": "markdown",
   "metadata": {},
   "source": [
    "**Выделим сегмент квартир в центре. Проанализируем эту территорию. Выделим факторы, которые влияют на стоимость квартиры**"
   ]
  },
  {
   "cell_type": "markdown",
   "metadata": {},
   "source": [
    "Проанализируем квартиры расположенные в центре Санкт-Петербурга."
   ]
  },
  {
   "cell_type": "code",
   "execution_count": 73,
   "metadata": {},
   "outputs": [
    {
     "data": {
      "text/html": [
       "<div>\n",
       "<style scoped>\n",
       "    .dataframe tbody tr th:only-of-type {\n",
       "        vertical-align: middle;\n",
       "    }\n",
       "\n",
       "    .dataframe tbody tr th {\n",
       "        vertical-align: top;\n",
       "    }\n",
       "\n",
       "    .dataframe thead th {\n",
       "        text-align: right;\n",
       "    }\n",
       "</style>\n",
       "<table border=\"1\" class=\"dataframe\">\n",
       "  <thead>\n",
       "    <tr style=\"text-align: right;\">\n",
       "      <th></th>\n",
       "      <th>total_images</th>\n",
       "      <th>last_price</th>\n",
       "      <th>total_area</th>\n",
       "      <th>rooms</th>\n",
       "      <th>ceiling_height</th>\n",
       "      <th>floors_total</th>\n",
       "      <th>living_area</th>\n",
       "      <th>floor</th>\n",
       "      <th>kitchen_area</th>\n",
       "      <th>balcony</th>\n",
       "      <th>...</th>\n",
       "      <th>ponds_around3000</th>\n",
       "      <th>ponds_nearest</th>\n",
       "      <th>days_exposition</th>\n",
       "      <th>price_per_sq_m</th>\n",
       "      <th>first_day_exposition_day</th>\n",
       "      <th>first_day_exposition_month</th>\n",
       "      <th>first_day_exposition_year</th>\n",
       "      <th>living_to_total</th>\n",
       "      <th>kitchen_to_total</th>\n",
       "      <th>cityCenters_nearest_km</th>\n",
       "    </tr>\n",
       "  </thead>\n",
       "  <tbody>\n",
       "    <tr>\n",
       "      <th>count</th>\n",
       "      <td>2851.000000</td>\n",
       "      <td>1833.00</td>\n",
       "      <td>2170.000000</td>\n",
       "      <td>2779.000000</td>\n",
       "      <td>1267.000000</td>\n",
       "      <td>2844.000000</td>\n",
       "      <td>2622.000000</td>\n",
       "      <td>2851.000000</td>\n",
       "      <td>2592.000000</td>\n",
       "      <td>2851.000000</td>\n",
       "      <td>...</td>\n",
       "      <td>2851.000000</td>\n",
       "      <td>2051.000000</td>\n",
       "      <td>2013.000000</td>\n",
       "      <td>2.851000e+03</td>\n",
       "      <td>2851.000000</td>\n",
       "      <td>2851.000000</td>\n",
       "      <td>2851.000000</td>\n",
       "      <td>2622.000000</td>\n",
       "      <td>2592.000000</td>\n",
       "      <td>2851.000000</td>\n",
       "    </tr>\n",
       "    <tr>\n",
       "      <th>mean</th>\n",
       "      <td>10.170467</td>\n",
       "      <td>7618628.50</td>\n",
       "      <td>71.111588</td>\n",
       "      <td>2.819359</td>\n",
       "      <td>2.938104</td>\n",
       "      <td>6.627637</td>\n",
       "      <td>56.844048</td>\n",
       "      <td>3.973693</td>\n",
       "      <td>14.731780</td>\n",
       "      <td>0.280253</td>\n",
       "      <td>...</td>\n",
       "      <td>1.294633</td>\n",
       "      <td>459.072662</td>\n",
       "      <td>157.842026</td>\n",
       "      <td>1.433539e+05</td>\n",
       "      <td>2.470361</td>\n",
       "      <td>6.419502</td>\n",
       "      <td>2017.142757</td>\n",
       "      <td>0.586308</td>\n",
       "      <td>0.170674</td>\n",
       "      <td>3.493511</td>\n",
       "    </tr>\n",
       "    <tr>\n",
       "      <th>std</th>\n",
       "      <td>6.022448</td>\n",
       "      <td>2144973.25</td>\n",
       "      <td>22.671494</td>\n",
       "      <td>1.239400</td>\n",
       "      <td>0.191363</td>\n",
       "      <td>3.493347</td>\n",
       "      <td>38.735455</td>\n",
       "      <td>2.757130</td>\n",
       "      <td>9.179772</td>\n",
       "      <td>0.711578</td>\n",
       "      <td>...</td>\n",
       "      <td>1.101595</td>\n",
       "      <td>277.086884</td>\n",
       "      <td>134.734406</td>\n",
       "      <td>9.538402e+04</td>\n",
       "      <td>1.705332</td>\n",
       "      <td>3.475542</td>\n",
       "      <td>1.137695</td>\n",
       "      <td>0.116439</td>\n",
       "      <td>0.083437</td>\n",
       "      <td>1.370191</td>\n",
       "    </tr>\n",
       "    <tr>\n",
       "      <th>min</th>\n",
       "      <td>0.000000</td>\n",
       "      <td>1600000.00</td>\n",
       "      <td>12.000000</td>\n",
       "      <td>0.000000</td>\n",
       "      <td>2.500000</td>\n",
       "      <td>2.000000</td>\n",
       "      <td>3.000000</td>\n",
       "      <td>1.000000</td>\n",
       "      <td>2.000000</td>\n",
       "      <td>0.000000</td>\n",
       "      <td>...</td>\n",
       "      <td>0.000000</td>\n",
       "      <td>22.000000</td>\n",
       "      <td>3.000000</td>\n",
       "      <td>1.534527e+04</td>\n",
       "      <td>0.000000</td>\n",
       "      <td>1.000000</td>\n",
       "      <td>2014.000000</td>\n",
       "      <td>0.021583</td>\n",
       "      <td>0.025381</td>\n",
       "      <td>0.000000</td>\n",
       "    </tr>\n",
       "    <tr>\n",
       "      <th>25%</th>\n",
       "      <td>6.000000</td>\n",
       "      <td>6000000.00</td>\n",
       "      <td>53.000000</td>\n",
       "      <td>2.000000</td>\n",
       "      <td>2.800000</td>\n",
       "      <td>5.000000</td>\n",
       "      <td>33.000000</td>\n",
       "      <td>2.000000</td>\n",
       "      <td>9.300000</td>\n",
       "      <td>0.000000</td>\n",
       "      <td>...</td>\n",
       "      <td>0.000000</td>\n",
       "      <td>215.000000</td>\n",
       "      <td>55.000000</td>\n",
       "      <td>9.864945e+04</td>\n",
       "      <td>1.000000</td>\n",
       "      <td>3.000000</td>\n",
       "      <td>2017.000000</td>\n",
       "      <td>0.518349</td>\n",
       "      <td>0.114504</td>\n",
       "      <td>3.000000</td>\n",
       "    </tr>\n",
       "    <tr>\n",
       "      <th>50%</th>\n",
       "      <td>10.000000</td>\n",
       "      <td>7550000.00</td>\n",
       "      <td>70.349998</td>\n",
       "      <td>3.000000</td>\n",
       "      <td>3.000000</td>\n",
       "      <td>5.000000</td>\n",
       "      <td>48.000000</td>\n",
       "      <td>3.000000</td>\n",
       "      <td>12.000000</td>\n",
       "      <td>0.000000</td>\n",
       "      <td>...</td>\n",
       "      <td>1.000000</td>\n",
       "      <td>444.000000</td>\n",
       "      <td>110.000000</td>\n",
       "      <td>1.217105e+05</td>\n",
       "      <td>2.000000</td>\n",
       "      <td>6.000000</td>\n",
       "      <td>2017.000000</td>\n",
       "      <td>0.600000</td>\n",
       "      <td>0.148680</td>\n",
       "      <td>4.000000</td>\n",
       "    </tr>\n",
       "    <tr>\n",
       "      <th>75%</th>\n",
       "      <td>15.000000</td>\n",
       "      <td>9200000.00</td>\n",
       "      <td>89.000000</td>\n",
       "      <td>4.000000</td>\n",
       "      <td>3.100000</td>\n",
       "      <td>7.000000</td>\n",
       "      <td>68.900002</td>\n",
       "      <td>5.000000</td>\n",
       "      <td>17.000000</td>\n",
       "      <td>0.000000</td>\n",
       "      <td>...</td>\n",
       "      <td>2.000000</td>\n",
       "      <td>669.000000</td>\n",
       "      <td>244.000000</td>\n",
       "      <td>1.545674e+05</td>\n",
       "      <td>4.000000</td>\n",
       "      <td>10.000000</td>\n",
       "      <td>2018.000000</td>\n",
       "      <td>0.668078</td>\n",
       "      <td>0.201681</td>\n",
       "      <td>5.000000</td>\n",
       "    </tr>\n",
       "    <tr>\n",
       "      <th>max</th>\n",
       "      <td>50.000000</td>\n",
       "      <td>11900000.00</td>\n",
       "      <td>114.599998</td>\n",
       "      <td>6.000000</td>\n",
       "      <td>3.210000</td>\n",
       "      <td>25.000000</td>\n",
       "      <td>409.000000</td>\n",
       "      <td>25.000000</td>\n",
       "      <td>107.000000</td>\n",
       "      <td>5.000000</td>\n",
       "      <td>...</td>\n",
       "      <td>3.000000</td>\n",
       "      <td>1293.000000</td>\n",
       "      <td>512.000000</td>\n",
       "      <td>1.907500e+06</td>\n",
       "      <td>6.000000</td>\n",
       "      <td>12.000000</td>\n",
       "      <td>2019.000000</td>\n",
       "      <td>0.983447</td>\n",
       "      <td>0.636986</td>\n",
       "      <td>5.000000</td>\n",
       "    </tr>\n",
       "  </tbody>\n",
       "</table>\n",
       "<p>8 rows × 24 columns</p>\n",
       "</div>"
      ],
      "text/plain": [
       "       total_images   last_price   total_area        rooms  ceiling_height  \\\n",
       "count   2851.000000      1833.00  2170.000000  2779.000000     1267.000000   \n",
       "mean      10.170467   7618628.50    71.111588     2.819359        2.938104   \n",
       "std        6.022448   2144973.25    22.671494     1.239400        0.191363   \n",
       "min        0.000000   1600000.00    12.000000     0.000000        2.500000   \n",
       "25%        6.000000   6000000.00    53.000000     2.000000        2.800000   \n",
       "50%       10.000000   7550000.00    70.349998     3.000000        3.000000   \n",
       "75%       15.000000   9200000.00    89.000000     4.000000        3.100000   \n",
       "max       50.000000  11900000.00   114.599998     6.000000        3.210000   \n",
       "\n",
       "       floors_total  living_area        floor  kitchen_area      balcony  ...  \\\n",
       "count   2844.000000  2622.000000  2851.000000   2592.000000  2851.000000  ...   \n",
       "mean       6.627637    56.844048     3.973693     14.731780     0.280253  ...   \n",
       "std        3.493347    38.735455     2.757130      9.179772     0.711578  ...   \n",
       "min        2.000000     3.000000     1.000000      2.000000     0.000000  ...   \n",
       "25%        5.000000    33.000000     2.000000      9.300000     0.000000  ...   \n",
       "50%        5.000000    48.000000     3.000000     12.000000     0.000000  ...   \n",
       "75%        7.000000    68.900002     5.000000     17.000000     0.000000  ...   \n",
       "max       25.000000   409.000000    25.000000    107.000000     5.000000  ...   \n",
       "\n",
       "       ponds_around3000  ponds_nearest  days_exposition  price_per_sq_m  \\\n",
       "count       2851.000000    2051.000000      2013.000000    2.851000e+03   \n",
       "mean           1.294633     459.072662       157.842026    1.433539e+05   \n",
       "std            1.101595     277.086884       134.734406    9.538402e+04   \n",
       "min            0.000000      22.000000         3.000000    1.534527e+04   \n",
       "25%            0.000000     215.000000        55.000000    9.864945e+04   \n",
       "50%            1.000000     444.000000       110.000000    1.217105e+05   \n",
       "75%            2.000000     669.000000       244.000000    1.545674e+05   \n",
       "max            3.000000    1293.000000       512.000000    1.907500e+06   \n",
       "\n",
       "       first_day_exposition_day  first_day_exposition_month  \\\n",
       "count               2851.000000                 2851.000000   \n",
       "mean                   2.470361                    6.419502   \n",
       "std                    1.705332                    3.475542   \n",
       "min                    0.000000                    1.000000   \n",
       "25%                    1.000000                    3.000000   \n",
       "50%                    2.000000                    6.000000   \n",
       "75%                    4.000000                   10.000000   \n",
       "max                    6.000000                   12.000000   \n",
       "\n",
       "       first_day_exposition_year  living_to_total  kitchen_to_total  \\\n",
       "count                2851.000000      2622.000000       2592.000000   \n",
       "mean                 2017.142757         0.586308          0.170674   \n",
       "std                     1.137695         0.116439          0.083437   \n",
       "min                  2014.000000         0.021583          0.025381   \n",
       "25%                  2017.000000         0.518349          0.114504   \n",
       "50%                  2017.000000         0.600000          0.148680   \n",
       "75%                  2018.000000         0.668078          0.201681   \n",
       "max                  2019.000000         0.983447          0.636986   \n",
       "\n",
       "       cityCenters_nearest_km  \n",
       "count             2851.000000  \n",
       "mean                 3.493511  \n",
       "std                  1.370191  \n",
       "min                  0.000000  \n",
       "25%                  3.000000  \n",
       "50%                  4.000000  \n",
       "75%                  5.000000  \n",
       "max                  5.000000  \n",
       "\n",
       "[8 rows x 24 columns]"
      ]
     },
     "execution_count": 73,
     "metadata": {},
     "output_type": "execute_result"
    }
   ],
   "source": [
    "df.query('locality_name == \"Санкт-Петербург\"' and 'cityCenters_nearest <= 6000').describe()"
   ]
  },
  {
   "cell_type": "markdown",
   "metadata": {},
   "source": [
    "Средняя площадь этих квартир 71 м2, медианная площадь - 70 м2.  \n",
    "Средняя цена этих квартир 7618630, медианная цена - 7550000.  \n",
    "Средняя цена квадратного метра этих квартир 143353, медианная цена - 121705.  \n",
    "Среднее и медианное количество комнат в этих квартирах 2,8 и 3, соответственно. \n",
    "Средняя и медианная высота потолков в этих квартирах 2,9 и 3.1 м, соответственно. "
   ]
  },
  {
   "cell_type": "code",
   "execution_count": 74,
   "metadata": {},
   "outputs": [
    {
     "data": {
      "text/html": [
       "<div>\n",
       "<style scoped>\n",
       "    .dataframe tbody tr th:only-of-type {\n",
       "        vertical-align: middle;\n",
       "    }\n",
       "\n",
       "    .dataframe tbody tr th {\n",
       "        vertical-align: top;\n",
       "    }\n",
       "\n",
       "    .dataframe thead th {\n",
       "        text-align: right;\n",
       "    }\n",
       "</style>\n",
       "<table border=\"1\" class=\"dataframe\">\n",
       "  <thead>\n",
       "    <tr style=\"text-align: right;\">\n",
       "      <th></th>\n",
       "      <th>last_price</th>\n",
       "      <th>total_area</th>\n",
       "      <th>rooms</th>\n",
       "      <th>cityCenters_nearest</th>\n",
       "    </tr>\n",
       "  </thead>\n",
       "  <tbody>\n",
       "    <tr>\n",
       "      <th>last_price</th>\n",
       "      <td>1.000000</td>\n",
       "      <td>0.686385</td>\n",
       "      <td>0.486093</td>\n",
       "      <td>-0.086959</td>\n",
       "    </tr>\n",
       "    <tr>\n",
       "      <th>total_area</th>\n",
       "      <td>0.686385</td>\n",
       "      <td>1.000000</td>\n",
       "      <td>0.736621</td>\n",
       "      <td>-0.084844</td>\n",
       "    </tr>\n",
       "    <tr>\n",
       "      <th>rooms</th>\n",
       "      <td>0.486093</td>\n",
       "      <td>0.736621</td>\n",
       "      <td>1.000000</td>\n",
       "      <td>-0.110647</td>\n",
       "    </tr>\n",
       "    <tr>\n",
       "      <th>cityCenters_nearest</th>\n",
       "      <td>-0.086959</td>\n",
       "      <td>-0.084844</td>\n",
       "      <td>-0.110647</td>\n",
       "      <td>1.000000</td>\n",
       "    </tr>\n",
       "  </tbody>\n",
       "</table>\n",
       "</div>"
      ],
      "text/plain": [
       "                     last_price  total_area     rooms  cityCenters_nearest\n",
       "last_price             1.000000    0.686385  0.486093            -0.086959\n",
       "total_area             0.686385    1.000000  0.736621            -0.084844\n",
       "rooms                  0.486093    0.736621  1.000000            -0.110647\n",
       "cityCenters_nearest   -0.086959   -0.084844 -0.110647             1.000000"
      ]
     },
     "execution_count": 74,
     "metadata": {},
     "output_type": "execute_result"
    }
   ],
   "source": [
    "df[['last_price', 'total_area', 'rooms', 'cityCenters_nearest']]\\\n",
    "    .query('locality_name == \"Санкт-Петербург\"' and 'cityCenters_nearest <= 6000').corr()"
   ]
  },
  {
   "cell_type": "code",
   "execution_count": 75,
   "metadata": {},
   "outputs": [
    {
     "data": {
      "text/plain": [
       "<seaborn.axisgrid.PairGrid at 0x7fb64af299a0>"
      ]
     },
     "execution_count": 75,
     "metadata": {},
     "output_type": "execute_result"
    },
    {
     "data": {
      "image/png": "[encoded data removed]",
      "text/plain": [
       "<Figure size 720x720 with 20 Axes>"
      ]
     },
     "metadata": {
      "needs_background": "light"
     },
     "output_type": "display_data"
    }
   ],
   "source": [
    "sns.pairplot(df[['last_price', 'total_area', 'rooms', 'cityCenters_nearest']]\\\n",
    "    .query('locality_name == \"Санкт-Петербург\"' and 'cityCenters_nearest <= 6000').corr())"
   ]
  },
  {
   "cell_type": "code",
   "execution_count": 76,
   "metadata": {},
   "outputs": [
    {
     "data": {
      "text/plain": [
       "<AxesSubplot:title={'center':'floor_category'}, xlabel='floor_categoty', ylabel='mean_price'>"
      ]
     },
     "execution_count": 76,
     "metadata": {},
     "output_type": "execute_result"
    },
    {
     "data": {
      "image/png": "[encoded data removed]",
      "text/plain": [
       "<Figure size 432x288 with 1 Axes>"
      ]
     },
     "metadata": {
      "needs_background": "light"
     },
     "output_type": "display_data"
    }
   ],
   "source": [
    "df.query('locality_name == \"Санкт-Петербург\"' and 'cityCenters_nearest <= 6000')\\\n",
    "    .groupby(by='floor_category')['last_price'].mean().\\\n",
    "    plot(kind='bar', xlabel='floor_categoty', ylabel='mean_price', title = 'floor_category')"
   ]
  },
  {
   "cell_type": "code",
   "execution_count": 77,
   "metadata": {},
   "outputs": [
    {
     "data": {
      "text/plain": [
       "<AxesSubplot:title={'center':'first_day_exposition_day'}, xlabel='first_day_exposition_day', ylabel='mean_price'>"
      ]
     },
     "execution_count": 77,
     "metadata": {},
     "output_type": "execute_result"
    },
    {
     "data": {
      "image/png": "[encoded data removed]",
      "text/plain": [
       "<Figure size 432x288 with 1 Axes>"
      ]
     },
     "metadata": {
      "needs_background": "light"
     },
     "output_type": "display_data"
    }
   ],
   "source": [
    "df.query('locality_name == \"Санкт-Петербург\"' and 'cityCenters_nearest <= 6000')\\\n",
    "    .groupby(by='first_day_exposition_day')['last_price'].mean().\\\n",
    "    plot(kind='bar', xlabel='first_day_exposition_day', ylabel='mean_price', title = 'first_day_exposition_day')"
   ]
  },
  {
   "cell_type": "markdown",
   "metadata": {},
   "source": [
    "На стоимость квартиры в центре Санкт-Петербурга больше всего влияют - общая площадь и количество комнат.\n",
    "Удаленность от центра имеет слабую отрицательную корреляцию, день размещения объявления не влияет на стоимость объекта."
   ]
  },
  {
   "cell_type": "markdown",
   "metadata": {},
   "source": [
    "**Вывод: Во всей базе и в центре Санкт-Петербурга больше всего на стоимость влияет площадь объекта, допллнительно влияет количество комнат, остальные параметры влияют по разному или не влияют, например, по всей базе на стоимость оказывает влияние отдаленность от центра, в данных по центру Санкт-Петербурга удаленность практически не влияет на цену**"
   ]
  },
  {
   "cell_type": "markdown",
   "metadata": {},
   "source": [
    "## Общий вывод"
   ]
  },
  {
   "cell_type": "markdown",
   "metadata": {},
   "source": [
    "В данном проекте нашей задачей было провести анализ данных полученных с объявлений о продаже квартир, а именно определить какие из параметры из имеющихся больше влияют на стоимость.  \n",
    "В ходе выполнения проектов было заполнено множество пропусков. Для уменьшения их количества можно в случае не заполнения данных принимать значение равным на 0, False или NaN.  \n",
    " \n",
    "Были построенны гистограммы распределения по различным параметрам.\n",
    "\n",
    "Были проведены анализ данных по центру Санкт-Петербурга. \n",
    "\n",
    "В ходе работы были выявлены основные параметры влияющие на стоимость квартир. \n",
    "На стоимость квартир влияют: \n",
    " - расположение объекта - квартиры в Санкт-Петербурге стоят дороже, чем в других городах;\n",
    " - площадь квартиры - чем больше квартира, тем выше её стоимость;\n",
    " - этаж квартиры - выше стоимость у квартир расположенных не на первом и последнем этажах;\n",
    " - (для Санкт-Петербурга) удаленность от центра города - квартиры в центре стоят одинаково, но после прохождения радиуса в 6 км стоимость квартиры уменьшается при увеличении расстояния до центра."
   ]
  }
 ],
 "metadata": {
  "ExecuteTimeLog": [
   {
    "duration": 550,
    "start_time": "2022-04-04T17:47:21.052Z"
   },
   {
    "duration": 95,
    "start_time": "2022-04-04T17:49:23.420Z"
   },
   {
    "duration": 22,
    "start_time": "2022-04-04T17:49:37.142Z"
   },
   {
    "duration": 113,
    "start_time": "2022-04-04T17:50:07.976Z"
   },
   {
    "duration": 166,
    "start_time": "2022-04-04T17:52:00.026Z"
   },
   {
    "duration": 86,
    "start_time": "2022-04-04T17:52:21.437Z"
   },
   {
    "duration": 147,
    "start_time": "2022-04-04T17:52:28.890Z"
   },
   {
    "duration": 59,
    "start_time": "2022-04-04T17:52:29.388Z"
   },
   {
    "duration": 21,
    "start_time": "2022-04-04T17:52:54.281Z"
   },
   {
    "duration": 97,
    "start_time": "2022-04-04T17:53:05.896Z"
   },
   {
    "duration": 96,
    "start_time": "2022-04-04T18:00:30.262Z"
   },
   {
    "duration": 14,
    "start_time": "2022-04-04T18:20:44.500Z"
   },
   {
    "duration": 8,
    "start_time": "2022-04-04T18:31:34.797Z"
   },
   {
    "duration": 8,
    "start_time": "2022-04-04T18:33:15.063Z"
   },
   {
    "duration": 12,
    "start_time": "2022-04-04T18:36:53.582Z"
   },
   {
    "duration": 96,
    "start_time": "2022-04-04T18:37:29.876Z"
   },
   {
    "duration": 12,
    "start_time": "2022-04-04T18:37:35.718Z"
   },
   {
    "duration": 8,
    "start_time": "2022-04-04T18:37:38.660Z"
   },
   {
    "duration": 5,
    "start_time": "2022-04-04T18:37:39.758Z"
   },
   {
    "duration": 68,
    "start_time": "2022-04-05T16:33:03.722Z"
   },
   {
    "duration": 522,
    "start_time": "2022-04-05T16:33:11.123Z"
   },
   {
    "duration": 111,
    "start_time": "2022-04-05T16:33:11.647Z"
   },
   {
    "duration": 46,
    "start_time": "2022-04-05T16:33:11.760Z"
   },
   {
    "duration": 41,
    "start_time": "2022-04-05T16:33:11.809Z"
   },
   {
    "duration": 108,
    "start_time": "2022-04-05T16:33:11.852Z"
   },
   {
    "duration": 7,
    "start_time": "2022-04-05T16:33:11.962Z"
   },
   {
    "duration": 16,
    "start_time": "2022-04-05T16:33:11.971Z"
   },
   {
    "duration": 8,
    "start_time": "2022-04-05T16:33:11.989Z"
   },
   {
    "duration": 9,
    "start_time": "2022-04-05T16:33:11.999Z"
   },
   {
    "duration": 3768,
    "start_time": "2022-04-05T16:33:12.011Z"
   },
   {
    "duration": 9,
    "start_time": "2022-04-05T16:33:24.694Z"
   },
   {
    "duration": 50,
    "start_time": "2022-04-05T17:50:57.937Z"
   },
   {
    "duration": 451,
    "start_time": "2022-04-05T17:51:05.507Z"
   },
   {
    "duration": 95,
    "start_time": "2022-04-05T17:51:05.960Z"
   },
   {
    "duration": 36,
    "start_time": "2022-04-05T17:51:06.057Z"
   },
   {
    "duration": 16,
    "start_time": "2022-04-05T17:51:06.095Z"
   },
   {
    "duration": 75,
    "start_time": "2022-04-05T17:51:06.132Z"
   },
   {
    "duration": 5,
    "start_time": "2022-04-05T17:51:06.209Z"
   },
   {
    "duration": 10,
    "start_time": "2022-04-05T17:51:06.232Z"
   },
   {
    "duration": 7,
    "start_time": "2022-04-05T17:51:06.243Z"
   },
   {
    "duration": 6,
    "start_time": "2022-04-05T17:51:06.252Z"
   },
   {
    "duration": 102,
    "start_time": "2022-04-05T17:51:06.260Z"
   },
   {
    "duration": 10,
    "start_time": "2022-04-05T17:51:21.068Z"
   },
   {
    "duration": 7,
    "start_time": "2022-04-05T18:00:54.701Z"
   },
   {
    "duration": 51,
    "start_time": "2022-04-05T18:01:01.373Z"
   },
   {
    "duration": 16,
    "start_time": "2022-04-05T18:02:43.328Z"
   },
   {
    "duration": 58,
    "start_time": "2022-04-05T18:02:57.897Z"
   },
   {
    "duration": 9,
    "start_time": "2022-04-05T18:04:27.095Z"
   },
   {
    "duration": 9,
    "start_time": "2022-04-05T18:04:34.940Z"
   },
   {
    "duration": 8,
    "start_time": "2022-04-05T18:04:39.362Z"
   },
   {
    "duration": 15,
    "start_time": "2022-04-05T18:05:04.231Z"
   },
   {
    "duration": 9,
    "start_time": "2022-04-05T18:05:23.329Z"
   },
   {
    "duration": 5,
    "start_time": "2022-04-05T18:05:30.858Z"
   },
   {
    "duration": 7,
    "start_time": "2022-04-05T18:05:36.527Z"
   },
   {
    "duration": 9,
    "start_time": "2022-04-05T18:06:09.400Z"
   },
   {
    "duration": 6,
    "start_time": "2022-04-05T18:06:42.490Z"
   },
   {
    "duration": 6,
    "start_time": "2022-04-05T18:06:49.250Z"
   },
   {
    "duration": 6,
    "start_time": "2022-04-05T18:06:54.665Z"
   },
   {
    "duration": 15,
    "start_time": "2022-04-05T18:10:59.965Z"
   },
   {
    "duration": 1337,
    "start_time": "2022-04-05T18:18:14.579Z"
   },
   {
    "duration": 2043,
    "start_time": "2022-04-05T18:18:38.583Z"
   },
   {
    "duration": 7199,
    "start_time": "2022-04-05T18:18:45.494Z"
   },
   {
    "duration": 51,
    "start_time": "2022-04-06T17:15:38.773Z"
   },
   {
    "duration": 443,
    "start_time": "2022-04-06T17:15:46.100Z"
   },
   {
    "duration": 84,
    "start_time": "2022-04-06T17:15:46.544Z"
   },
   {
    "duration": 33,
    "start_time": "2022-04-06T17:15:46.630Z"
   },
   {
    "duration": 15,
    "start_time": "2022-04-06T17:15:46.665Z"
   },
   {
    "duration": 102,
    "start_time": "2022-04-06T17:15:46.682Z"
   },
   {
    "duration": 6,
    "start_time": "2022-04-06T17:15:46.785Z"
   },
   {
    "duration": 14,
    "start_time": "2022-04-06T17:15:46.792Z"
   },
   {
    "duration": 28,
    "start_time": "2022-04-06T17:15:46.807Z"
   },
   {
    "duration": 11,
    "start_time": "2022-04-06T17:15:46.837Z"
   },
   {
    "duration": 60,
    "start_time": "2022-04-06T17:15:46.851Z"
   },
   {
    "duration": 7,
    "start_time": "2022-04-06T17:15:46.913Z"
   },
   {
    "duration": 17,
    "start_time": "2022-04-06T17:15:46.921Z"
   },
   {
    "duration": 2875,
    "start_time": "2022-04-06T17:15:46.940Z"
   },
   {
    "duration": 0,
    "start_time": "2022-04-06T17:15:49.817Z"
   },
   {
    "duration": 0,
    "start_time": "2022-04-06T17:15:49.818Z"
   },
   {
    "duration": 0,
    "start_time": "2022-04-06T17:15:49.819Z"
   },
   {
    "duration": 14,
    "start_time": "2022-04-06T17:16:17.305Z"
   },
   {
    "duration": 2045,
    "start_time": "2022-04-06T17:16:19.050Z"
   },
   {
    "duration": 1998,
    "start_time": "2022-04-06T17:16:29.691Z"
   },
   {
    "duration": 1304,
    "start_time": "2022-04-06T17:16:45.235Z"
   },
   {
    "duration": 1328,
    "start_time": "2022-04-06T17:17:16.310Z"
   },
   {
    "duration": 11,
    "start_time": "2022-04-06T17:18:59.449Z"
   },
   {
    "duration": 79,
    "start_time": "2022-04-06T17:19:46.639Z"
   },
   {
    "duration": 25,
    "start_time": "2022-04-06T17:20:52.433Z"
   },
   {
    "duration": 20,
    "start_time": "2022-04-06T17:20:58.861Z"
   },
   {
    "duration": 8,
    "start_time": "2022-04-06T17:21:41.388Z"
   },
   {
    "duration": 8,
    "start_time": "2022-04-06T17:21:47.542Z"
   },
   {
    "duration": 14,
    "start_time": "2022-04-06T17:21:51.205Z"
   },
   {
    "duration": 5,
    "start_time": "2022-04-06T17:22:48.005Z"
   },
   {
    "duration": 7,
    "start_time": "2022-04-06T17:23:30.540Z"
   },
   {
    "duration": 4,
    "start_time": "2022-04-06T17:23:35.548Z"
   },
   {
    "duration": 4,
    "start_time": "2022-04-06T17:23:36.427Z"
   },
   {
    "duration": 4,
    "start_time": "2022-04-06T17:24:50.787Z"
   },
   {
    "duration": 4,
    "start_time": "2022-04-06T17:29:25.609Z"
   },
   {
    "duration": 3,
    "start_time": "2022-04-06T17:29:51.613Z"
   },
   {
    "duration": 4,
    "start_time": "2022-04-06T17:30:46.729Z"
   },
   {
    "duration": 4,
    "start_time": "2022-04-06T17:32:11.109Z"
   },
   {
    "duration": 5,
    "start_time": "2022-04-06T17:32:12.674Z"
   },
   {
    "duration": 5,
    "start_time": "2022-04-06T17:32:12.940Z"
   },
   {
    "duration": 4,
    "start_time": "2022-04-06T17:32:59.063Z"
   },
   {
    "duration": 5,
    "start_time": "2022-04-06T17:34:01.349Z"
   },
   {
    "duration": 96,
    "start_time": "2022-04-06T17:34:10.501Z"
   },
   {
    "duration": 20,
    "start_time": "2022-04-06T17:34:19.200Z"
   },
   {
    "duration": 164,
    "start_time": "2022-04-06T17:38:17.589Z"
   },
   {
    "duration": 18,
    "start_time": "2022-04-06T17:45:30.170Z"
   },
   {
    "duration": 66,
    "start_time": "2022-04-06T17:45:37.479Z"
   },
   {
    "duration": 497,
    "start_time": "2022-04-07T17:12:26.032Z"
   },
   {
    "duration": 109,
    "start_time": "2022-04-07T17:12:26.554Z"
   },
   {
    "duration": 47,
    "start_time": "2022-04-07T17:12:27.923Z"
   },
   {
    "duration": 22,
    "start_time": "2022-04-07T17:12:29.825Z"
   },
   {
    "duration": 93,
    "start_time": "2022-04-07T17:12:32.799Z"
   },
   {
    "duration": 8,
    "start_time": "2022-04-07T17:12:36.308Z"
   },
   {
    "duration": 13,
    "start_time": "2022-04-07T17:12:43.026Z"
   },
   {
    "duration": 8,
    "start_time": "2022-04-07T17:12:44.857Z"
   },
   {
    "duration": 4,
    "start_time": "2022-04-07T17:12:45.560Z"
   },
   {
    "duration": 4,
    "start_time": "2022-04-07T17:16:38.404Z"
   },
   {
    "duration": 95,
    "start_time": "2022-04-07T17:16:38.931Z"
   },
   {
    "duration": 36,
    "start_time": "2022-04-07T17:16:39.860Z"
   },
   {
    "duration": 19,
    "start_time": "2022-04-07T17:16:40.655Z"
   },
   {
    "duration": 90,
    "start_time": "2022-04-07T17:16:41.137Z"
   },
   {
    "duration": 8,
    "start_time": "2022-04-07T17:16:41.403Z"
   },
   {
    "duration": 13,
    "start_time": "2022-04-07T17:16:43.849Z"
   },
   {
    "duration": 8,
    "start_time": "2022-04-07T17:16:44.751Z"
   },
   {
    "duration": 5,
    "start_time": "2022-04-07T17:16:45.321Z"
   },
   {
    "duration": 68,
    "start_time": "2022-04-07T17:16:47.691Z"
   },
   {
    "duration": 10,
    "start_time": "2022-04-07T17:16:48.043Z"
   },
   {
    "duration": 9,
    "start_time": "2022-04-07T17:16:48.334Z"
   },
   {
    "duration": 21,
    "start_time": "2022-04-07T17:16:49.867Z"
   },
   {
    "duration": 95,
    "start_time": "2022-04-07T17:16:50.375Z"
   },
   {
    "duration": 14,
    "start_time": "2022-04-07T17:16:51.439Z"
   },
   {
    "duration": 5,
    "start_time": "2022-04-07T17:16:51.792Z"
   },
   {
    "duration": 6,
    "start_time": "2022-04-07T17:16:52.696Z"
   },
   {
    "duration": 6,
    "start_time": "2022-04-07T17:16:53.659Z"
   },
   {
    "duration": 5,
    "start_time": "2022-04-07T17:16:53.886Z"
   },
   {
    "duration": 5,
    "start_time": "2022-04-07T17:16:54.067Z"
   },
   {
    "duration": 5,
    "start_time": "2022-04-07T17:16:54.278Z"
   },
   {
    "duration": 5,
    "start_time": "2022-04-07T17:16:54.493Z"
   },
   {
    "duration": 5,
    "start_time": "2022-04-07T17:16:54.707Z"
   },
   {
    "duration": 5,
    "start_time": "2022-04-07T17:16:55.211Z"
   },
   {
    "duration": 19,
    "start_time": "2022-04-07T17:16:56.979Z"
   },
   {
    "duration": 9,
    "start_time": "2022-04-07T17:18:56.863Z"
   },
   {
    "duration": 20,
    "start_time": "2022-04-07T17:19:08.889Z"
   },
   {
    "duration": 14,
    "start_time": "2022-04-07T17:22:26.995Z"
   },
   {
    "duration": 35,
    "start_time": "2022-04-07T17:22:33.521Z"
   },
   {
    "duration": 15,
    "start_time": "2022-04-07T17:23:27.780Z"
   },
   {
    "duration": 37,
    "start_time": "2022-04-07T17:23:29.413Z"
   },
   {
    "duration": 14,
    "start_time": "2022-04-07T17:24:51.513Z"
   },
   {
    "duration": 21,
    "start_time": "2022-04-07T17:25:03.165Z"
   },
   {
    "duration": 34,
    "start_time": "2022-04-07T17:25:04.071Z"
   },
   {
    "duration": 96,
    "start_time": "2022-04-07T17:31:30.171Z"
   },
   {
    "duration": 3358,
    "start_time": "2022-04-07T17:34:22.874Z"
   },
   {
    "duration": 3291,
    "start_time": "2022-04-07T17:34:36.367Z"
   },
   {
    "duration": 6,
    "start_time": "2022-04-07T17:36:23.684Z"
   },
   {
    "duration": 35,
    "start_time": "2022-04-07T17:36:27.334Z"
   },
   {
    "duration": 3263,
    "start_time": "2022-04-07T17:37:31.758Z"
   },
   {
    "duration": 3240,
    "start_time": "2022-04-07T17:37:57.481Z"
   },
   {
    "duration": 20,
    "start_time": "2022-04-07T17:38:04.591Z"
   },
   {
    "duration": 19,
    "start_time": "2022-04-07T17:38:21.355Z"
   },
   {
    "duration": 49,
    "start_time": "2022-04-07T17:38:25.835Z"
   },
   {
    "duration": 20,
    "start_time": "2022-04-07T17:39:08.076Z"
   },
   {
    "duration": 52,
    "start_time": "2022-04-07T17:39:14.401Z"
   },
   {
    "duration": 33,
    "start_time": "2022-04-07T17:39:19.896Z"
   },
   {
    "duration": 35,
    "start_time": "2022-04-07T17:40:01.689Z"
   },
   {
    "duration": 25,
    "start_time": "2022-04-07T17:43:14.475Z"
   },
   {
    "duration": 23,
    "start_time": "2022-04-07T17:44:15.731Z"
   },
   {
    "duration": 184,
    "start_time": "2022-04-07T17:46:06.705Z"
   },
   {
    "duration": 201,
    "start_time": "2022-04-07T17:46:16.329Z"
   },
   {
    "duration": 14,
    "start_time": "2022-04-07T17:48:07.366Z"
   },
   {
    "duration": 4,
    "start_time": "2022-04-07T17:48:17.826Z"
   },
   {
    "duration": 105,
    "start_time": "2022-04-07T17:48:18.222Z"
   },
   {
    "duration": 39,
    "start_time": "2022-04-07T17:48:19.281Z"
   },
   {
    "duration": 22,
    "start_time": "2022-04-07T17:48:20.286Z"
   },
   {
    "duration": 93,
    "start_time": "2022-04-07T17:48:23.677Z"
   },
   {
    "duration": 8,
    "start_time": "2022-04-07T17:48:25.005Z"
   },
   {
    "duration": 12,
    "start_time": "2022-04-07T17:48:29.363Z"
   },
   {
    "duration": 8,
    "start_time": "2022-04-07T17:48:30.907Z"
   },
   {
    "duration": 5,
    "start_time": "2022-04-07T17:48:31.589Z"
   },
   {
    "duration": 63,
    "start_time": "2022-04-07T17:48:33.563Z"
   },
   {
    "duration": 8,
    "start_time": "2022-04-07T17:48:34.180Z"
   },
   {
    "duration": 8,
    "start_time": "2022-04-07T17:48:34.641Z"
   },
   {
    "duration": 19,
    "start_time": "2022-04-07T17:48:36.588Z"
   },
   {
    "duration": 91,
    "start_time": "2022-04-07T17:48:38.060Z"
   },
   {
    "duration": 13,
    "start_time": "2022-04-07T17:48:38.654Z"
   },
   {
    "duration": 15,
    "start_time": "2022-04-07T17:48:40.457Z"
   },
   {
    "duration": 5,
    "start_time": "2022-04-07T17:49:27.766Z"
   },
   {
    "duration": 15,
    "start_time": "2022-04-07T17:50:19.646Z"
   },
   {
    "duration": 15,
    "start_time": "2022-04-07T17:50:33.683Z"
   },
   {
    "duration": 194,
    "start_time": "2022-04-07T17:51:57.265Z"
   },
   {
    "duration": 7,
    "start_time": "2022-04-07T17:52:16.977Z"
   },
   {
    "duration": 152,
    "start_time": "2022-04-07T17:52:40.521Z"
   },
   {
    "duration": 3245,
    "start_time": "2022-04-07T17:53:16.020Z"
   },
   {
    "duration": 7,
    "start_time": "2022-04-07T17:53:38.836Z"
   },
   {
    "duration": 11,
    "start_time": "2022-04-07T17:53:40.898Z"
   },
   {
    "duration": 11,
    "start_time": "2022-04-07T17:53:46.106Z"
   },
   {
    "duration": 111,
    "start_time": "2022-04-07T17:53:56.549Z"
   },
   {
    "duration": 1296,
    "start_time": "2022-04-07T18:10:18.608Z"
   },
   {
    "duration": 225,
    "start_time": "2022-04-07T18:10:29.238Z"
   },
   {
    "duration": 248,
    "start_time": "2022-04-07T18:10:33.073Z"
   },
   {
    "duration": 238,
    "start_time": "2022-04-07T18:10:37.224Z"
   },
   {
    "duration": 228,
    "start_time": "2022-04-07T18:10:41.056Z"
   },
   {
    "duration": 350,
    "start_time": "2022-04-07T18:10:45.793Z"
   },
   {
    "duration": 236,
    "start_time": "2022-04-07T18:11:22.147Z"
   },
   {
    "duration": 265,
    "start_time": "2022-04-07T18:11:27.275Z"
   },
   {
    "duration": 390,
    "start_time": "2022-04-07T18:11:43.168Z"
   },
   {
    "duration": 2397,
    "start_time": "2022-04-07T18:11:49.458Z"
   },
   {
    "duration": 1081,
    "start_time": "2022-04-07T18:11:59.917Z"
   },
   {
    "duration": 637,
    "start_time": "2022-04-07T18:12:10.384Z"
   },
   {
    "duration": 374,
    "start_time": "2022-04-07T18:12:36.073Z"
   },
   {
    "duration": 236,
    "start_time": "2022-04-07T18:12:43.453Z"
   },
   {
    "duration": 251,
    "start_time": "2022-04-07T18:12:47.853Z"
   },
   {
    "duration": 449,
    "start_time": "2022-04-07T18:12:58.059Z"
   },
   {
    "duration": 250,
    "start_time": "2022-04-07T18:13:04.040Z"
   },
   {
    "duration": 245,
    "start_time": "2022-04-07T18:13:08.181Z"
   },
   {
    "duration": 257,
    "start_time": "2022-04-07T18:13:11.788Z"
   },
   {
    "duration": 265,
    "start_time": "2022-04-07T18:13:15.214Z"
   },
   {
    "duration": 351,
    "start_time": "2022-04-07T18:13:49.560Z"
   },
   {
    "duration": 209,
    "start_time": "2022-04-07T18:13:54.646Z"
   },
   {
    "duration": 189,
    "start_time": "2022-04-07T18:14:04.124Z"
   },
   {
    "duration": 182,
    "start_time": "2022-04-07T18:14:08.404Z"
   },
   {
    "duration": 52,
    "start_time": "2022-04-07T18:16:39.545Z"
   },
   {
    "duration": 64,
    "start_time": "2022-04-07T18:17:14.000Z"
   },
   {
    "duration": 74,
    "start_time": "2022-04-07T18:17:43.952Z"
   },
   {
    "duration": 68,
    "start_time": "2022-04-07T18:17:57.435Z"
   },
   {
    "duration": 66,
    "start_time": "2022-04-07T18:18:17.074Z"
   },
   {
    "duration": 65,
    "start_time": "2022-04-07T18:18:40.554Z"
   },
   {
    "duration": 23,
    "start_time": "2022-04-07T18:23:34.211Z"
   },
   {
    "duration": 13,
    "start_time": "2022-04-07T18:24:31.577Z"
   },
   {
    "duration": 11,
    "start_time": "2022-04-07T18:32:54.431Z"
   },
   {
    "duration": 4,
    "start_time": "2022-04-07T18:33:08.869Z"
   },
   {
    "duration": 13,
    "start_time": "2022-04-07T18:33:31.367Z"
   },
   {
    "duration": 12,
    "start_time": "2022-04-07T18:33:41.776Z"
   },
   {
    "duration": 7,
    "start_time": "2022-04-07T18:34:07.241Z"
   },
   {
    "duration": 10,
    "start_time": "2022-04-07T18:34:10.527Z"
   },
   {
    "duration": 12,
    "start_time": "2022-04-07T18:34:14.739Z"
   },
   {
    "duration": 9,
    "start_time": "2022-04-07T18:34:18.754Z"
   },
   {
    "duration": 9,
    "start_time": "2022-04-07T18:34:37.600Z"
   },
   {
    "duration": 10,
    "start_time": "2022-04-07T18:34:45.361Z"
   },
   {
    "duration": 95,
    "start_time": "2022-04-07T18:34:50.078Z"
   },
   {
    "duration": 20,
    "start_time": "2022-04-07T18:35:39.122Z"
   },
   {
    "duration": 4,
    "start_time": "2022-04-07T18:36:24.006Z"
   },
   {
    "duration": 102,
    "start_time": "2022-04-07T18:36:24.569Z"
   },
   {
    "duration": 37,
    "start_time": "2022-04-07T18:36:25.459Z"
   },
   {
    "duration": 20,
    "start_time": "2022-04-07T18:36:26.364Z"
   },
   {
    "duration": 94,
    "start_time": "2022-04-07T18:36:28.325Z"
   },
   {
    "duration": 8,
    "start_time": "2022-04-07T18:36:29.164Z"
   },
   {
    "duration": 66,
    "start_time": "2022-04-07T18:36:30.334Z"
   },
   {
    "duration": 64,
    "start_time": "2022-04-07T18:36:31.593Z"
   },
   {
    "duration": 13,
    "start_time": "2022-04-07T18:36:37.094Z"
   },
   {
    "duration": 8,
    "start_time": "2022-04-07T18:36:38.799Z"
   },
   {
    "duration": 5,
    "start_time": "2022-04-07T18:36:39.634Z"
   },
   {
    "duration": 6,
    "start_time": "2022-04-07T18:36:43.645Z"
   },
   {
    "duration": 97,
    "start_time": "2022-04-07T18:36:44.830Z"
   },
   {
    "duration": 8,
    "start_time": "2022-04-07T18:38:16.857Z"
   },
   {
    "duration": 7,
    "start_time": "2022-04-07T18:39:04.126Z"
   },
   {
    "duration": 7,
    "start_time": "2022-04-07T18:39:37.160Z"
   },
   {
    "duration": 143,
    "start_time": "2022-04-07T18:39:37.698Z"
   },
   {
    "duration": 532,
    "start_time": "2022-04-07T18:39:59.694Z"
   },
   {
    "duration": 665,
    "start_time": "2022-04-07T18:40:01.349Z"
   },
   {
    "duration": 343,
    "start_time": "2022-04-07T18:40:02.269Z"
   },
   {
    "duration": 304,
    "start_time": "2022-04-07T18:40:03.848Z"
   },
   {
    "duration": 186,
    "start_time": "2022-04-07T18:40:10.199Z"
   },
   {
    "duration": 228,
    "start_time": "2022-04-07T18:40:14.323Z"
   },
   {
    "duration": 198,
    "start_time": "2022-04-07T18:40:24.908Z"
   },
   {
    "duration": 197,
    "start_time": "2022-04-07T18:40:29.523Z"
   },
   {
    "duration": 91,
    "start_time": "2022-04-07T18:40:48.798Z"
   },
   {
    "duration": 277,
    "start_time": "2022-04-07T18:41:04.914Z"
   },
   {
    "duration": 263,
    "start_time": "2022-04-07T18:43:18.138Z"
   },
   {
    "duration": 300,
    "start_time": "2022-04-07T18:43:23.336Z"
   },
   {
    "duration": 9,
    "start_time": "2022-04-07T18:43:43.827Z"
   },
   {
    "duration": 7,
    "start_time": "2022-04-07T18:43:51.783Z"
   },
   {
    "duration": 7,
    "start_time": "2022-04-07T18:44:07.922Z"
   },
   {
    "duration": 13,
    "start_time": "2022-04-07T18:44:57.744Z"
   },
   {
    "duration": 510,
    "start_time": "2022-04-07T18:46:10.629Z"
   },
   {
    "duration": 110,
    "start_time": "2022-04-07T18:46:11.142Z"
   },
   {
    "duration": 48,
    "start_time": "2022-04-07T18:46:11.254Z"
   },
   {
    "duration": 47,
    "start_time": "2022-04-07T18:46:11.305Z"
   },
   {
    "duration": 114,
    "start_time": "2022-04-07T18:46:11.354Z"
   },
   {
    "duration": 7,
    "start_time": "2022-04-07T18:46:11.471Z"
   },
   {
    "duration": 101,
    "start_time": "2022-04-07T18:46:11.480Z"
   },
   {
    "duration": 76,
    "start_time": "2022-04-07T18:46:11.583Z"
   },
   {
    "duration": 13,
    "start_time": "2022-04-07T18:46:11.660Z"
   },
   {
    "duration": 8,
    "start_time": "2022-04-07T18:46:11.676Z"
   },
   {
    "duration": 7,
    "start_time": "2022-04-07T18:46:11.686Z"
   },
   {
    "duration": 49,
    "start_time": "2022-04-07T18:46:11.695Z"
   },
   {
    "duration": 5,
    "start_time": "2022-04-07T18:46:11.746Z"
   },
   {
    "duration": 118,
    "start_time": "2022-04-07T18:46:11.753Z"
   },
   {
    "duration": 18,
    "start_time": "2022-04-07T18:46:11.873Z"
   },
   {
    "duration": 120,
    "start_time": "2022-04-07T18:46:11.894Z"
   },
   {
    "duration": 29,
    "start_time": "2022-04-07T18:46:12.016Z"
   },
   {
    "duration": 16,
    "start_time": "2022-04-07T18:46:12.047Z"
   },
   {
    "duration": 15,
    "start_time": "2022-04-07T18:46:12.066Z"
   },
   {
    "duration": 9,
    "start_time": "2022-04-07T18:46:12.083Z"
   },
   {
    "duration": 10,
    "start_time": "2022-04-07T18:46:12.094Z"
   },
   {
    "duration": 11,
    "start_time": "2022-04-07T18:46:12.107Z"
   },
   {
    "duration": 26,
    "start_time": "2022-04-07T18:46:12.121Z"
   },
   {
    "duration": 8,
    "start_time": "2022-04-07T18:46:12.150Z"
   },
   {
    "duration": 8,
    "start_time": "2022-04-07T18:46:12.161Z"
   },
   {
    "duration": 9,
    "start_time": "2022-04-07T18:46:12.171Z"
   },
   {
    "duration": 67,
    "start_time": "2022-04-07T18:46:12.182Z"
   },
   {
    "duration": 6,
    "start_time": "2022-04-07T18:46:12.255Z"
   },
   {
    "duration": 19,
    "start_time": "2022-04-07T18:46:12.263Z"
   },
   {
    "duration": 25,
    "start_time": "2022-04-07T18:46:12.285Z"
   },
   {
    "duration": 37,
    "start_time": "2022-04-07T18:46:12.313Z"
   },
   {
    "duration": 55,
    "start_time": "2022-04-07T18:46:12.352Z"
   },
   {
    "duration": 135,
    "start_time": "2022-04-07T18:46:12.409Z"
   },
   {
    "duration": 0,
    "start_time": "2022-04-07T18:46:12.548Z"
   },
   {
    "duration": 0,
    "start_time": "2022-04-07T18:46:12.550Z"
   },
   {
    "duration": 0,
    "start_time": "2022-04-07T18:46:12.552Z"
   },
   {
    "duration": 0,
    "start_time": "2022-04-07T18:46:12.554Z"
   },
   {
    "duration": 0,
    "start_time": "2022-04-07T18:46:12.556Z"
   },
   {
    "duration": 0,
    "start_time": "2022-04-07T18:46:12.558Z"
   },
   {
    "duration": 0,
    "start_time": "2022-04-07T18:46:12.560Z"
   },
   {
    "duration": 0,
    "start_time": "2022-04-07T18:46:12.562Z"
   },
   {
    "duration": 36,
    "start_time": "2022-04-07T18:47:45.675Z"
   },
   {
    "duration": 25,
    "start_time": "2022-04-07T18:47:50.014Z"
   },
   {
    "duration": 22,
    "start_time": "2022-04-07T18:48:50.635Z"
   },
   {
    "duration": 25,
    "start_time": "2022-04-07T18:49:04.154Z"
   },
   {
    "duration": 536,
    "start_time": "2022-04-08T18:45:11.061Z"
   },
   {
    "duration": 105,
    "start_time": "2022-04-08T18:45:11.600Z"
   },
   {
    "duration": 74,
    "start_time": "2022-04-08T18:45:11.708Z"
   },
   {
    "duration": 28,
    "start_time": "2022-04-08T18:45:11.785Z"
   },
   {
    "duration": 132,
    "start_time": "2022-04-08T18:45:11.815Z"
   },
   {
    "duration": 8,
    "start_time": "2022-04-08T18:45:11.949Z"
   },
   {
    "duration": 74,
    "start_time": "2022-04-08T18:45:11.987Z"
   },
   {
    "duration": 68,
    "start_time": "2022-04-08T18:45:12.077Z"
   },
   {
    "duration": 14,
    "start_time": "2022-04-08T18:45:12.651Z"
   },
   {
    "duration": 9,
    "start_time": "2022-04-08T18:45:12.903Z"
   },
   {
    "duration": 5,
    "start_time": "2022-04-08T18:45:13.071Z"
   },
   {
    "duration": 9,
    "start_time": "2022-04-08T18:45:13.325Z"
   },
   {
    "duration": 5,
    "start_time": "2022-04-08T18:45:13.498Z"
   },
   {
    "duration": 102,
    "start_time": "2022-04-08T18:45:13.579Z"
   },
   {
    "duration": 19,
    "start_time": "2022-04-08T18:45:13.827Z"
   },
   {
    "duration": 101,
    "start_time": "2022-04-08T18:45:13.992Z"
   },
   {
    "duration": 14,
    "start_time": "2022-04-08T18:45:14.096Z"
   },
   {
    "duration": 5,
    "start_time": "2022-04-08T18:45:14.159Z"
   },
   {
    "duration": 6,
    "start_time": "2022-04-08T18:45:14.246Z"
   },
   {
    "duration": 5,
    "start_time": "2022-04-08T18:45:14.329Z"
   },
   {
    "duration": 5,
    "start_time": "2022-04-08T18:45:14.418Z"
   },
   {
    "duration": 5,
    "start_time": "2022-04-08T18:45:14.498Z"
   },
   {
    "duration": 5,
    "start_time": "2022-04-08T18:45:14.578Z"
   },
   {
    "duration": 6,
    "start_time": "2022-04-08T18:45:14.662Z"
   },
   {
    "duration": 6,
    "start_time": "2022-04-08T18:45:14.748Z"
   },
   {
    "duration": 5,
    "start_time": "2022-04-08T18:45:14.834Z"
   },
   {
    "duration": 21,
    "start_time": "2022-04-08T18:45:14.920Z"
   },
   {
    "duration": 5,
    "start_time": "2022-04-08T18:45:15.165Z"
   },
   {
    "duration": 13,
    "start_time": "2022-04-08T18:45:15.332Z"
   },
   {
    "duration": 13,
    "start_time": "2022-04-08T18:45:15.417Z"
   },
   {
    "duration": 12,
    "start_time": "2022-04-08T18:45:15.500Z"
   },
   {
    "duration": 57,
    "start_time": "2022-04-08T18:45:15.665Z"
   },
   {
    "duration": 115,
    "start_time": "2022-04-08T18:45:15.840Z"
   },
   {
    "duration": 976,
    "start_time": "2022-04-08T18:45:16.255Z"
   },
   {
    "duration": 0,
    "start_time": "2022-04-08T18:45:17.234Z"
   },
   {
    "duration": 0,
    "start_time": "2022-04-08T18:45:17.236Z"
   },
   {
    "duration": 0,
    "start_time": "2022-04-08T18:45:17.238Z"
   },
   {
    "duration": 1,
    "start_time": "2022-04-08T18:45:17.239Z"
   },
   {
    "duration": 0,
    "start_time": "2022-04-08T18:45:17.242Z"
   },
   {
    "duration": 0,
    "start_time": "2022-04-08T18:45:17.244Z"
   },
   {
    "duration": 0,
    "start_time": "2022-04-08T18:45:17.246Z"
   },
   {
    "duration": 24,
    "start_time": "2022-04-08T18:48:26.384Z"
   },
   {
    "duration": 6,
    "start_time": "2022-04-08T18:48:30.647Z"
   },
   {
    "duration": 64,
    "start_time": "2022-04-08T18:48:33.655Z"
   },
   {
    "duration": 5,
    "start_time": "2022-04-08T18:48:44.816Z"
   },
   {
    "duration": 5,
    "start_time": "2022-04-08T18:48:45.508Z"
   },
   {
    "duration": 52,
    "start_time": "2022-04-08T18:48:46.328Z"
   },
   {
    "duration": 29,
    "start_time": "2022-04-08T18:48:52.960Z"
   },
   {
    "duration": 5,
    "start_time": "2022-04-08T18:50:03.808Z"
   },
   {
    "duration": 113,
    "start_time": "2022-04-08T18:50:05.711Z"
   },
   {
    "duration": 543,
    "start_time": "2022-04-08T18:50:16.845Z"
   },
   {
    "duration": 102,
    "start_time": "2022-04-08T18:50:17.536Z"
   },
   {
    "duration": 48,
    "start_time": "2022-04-08T18:50:19.127Z"
   },
   {
    "duration": 24,
    "start_time": "2022-04-08T18:50:22.653Z"
   },
   {
    "duration": 101,
    "start_time": "2022-04-08T18:50:32.710Z"
   },
   {
    "duration": 8,
    "start_time": "2022-04-08T18:50:36.370Z"
   },
   {
    "duration": 73,
    "start_time": "2022-04-08T18:50:48.286Z"
   },
   {
    "duration": 19,
    "start_time": "2022-04-08T18:52:48.164Z"
   },
   {
    "duration": 10,
    "start_time": "2022-04-08T18:52:50.072Z"
   },
   {
    "duration": 5,
    "start_time": "2022-04-08T18:52:51.189Z"
   },
   {
    "duration": 26,
    "start_time": "2022-04-08T18:52:52.925Z"
   },
   {
    "duration": 6,
    "start_time": "2022-04-08T18:52:54.166Z"
   },
   {
    "duration": 100,
    "start_time": "2022-04-08T18:52:57.925Z"
   },
   {
    "duration": 19,
    "start_time": "2022-04-08T18:52:59.965Z"
   },
   {
    "duration": 98,
    "start_time": "2022-04-08T18:53:01.941Z"
   },
   {
    "duration": 15,
    "start_time": "2022-04-08T18:53:04.175Z"
   },
   {
    "duration": 6,
    "start_time": "2022-04-08T18:53:08.354Z"
   },
   {
    "duration": 6,
    "start_time": "2022-04-08T18:53:09.356Z"
   },
   {
    "duration": 5,
    "start_time": "2022-04-08T18:53:09.908Z"
   },
   {
    "duration": 5,
    "start_time": "2022-04-08T18:53:10.484Z"
   },
   {
    "duration": 5,
    "start_time": "2022-04-08T18:53:11.004Z"
   },
   {
    "duration": 5,
    "start_time": "2022-04-08T18:53:11.547Z"
   },
   {
    "duration": 5,
    "start_time": "2022-04-08T18:53:12.125Z"
   },
   {
    "duration": 5,
    "start_time": "2022-04-08T18:53:12.619Z"
   },
   {
    "duration": 5,
    "start_time": "2022-04-08T18:53:13.170Z"
   },
   {
    "duration": 20,
    "start_time": "2022-04-08T18:53:13.948Z"
   },
   {
    "duration": 5,
    "start_time": "2022-04-08T18:53:16.244Z"
   },
   {
    "duration": 13,
    "start_time": "2022-04-08T18:53:17.632Z"
   },
   {
    "duration": 13,
    "start_time": "2022-04-08T18:53:18.328Z"
   },
   {
    "duration": 13,
    "start_time": "2022-04-08T18:53:19.088Z"
   },
   {
    "duration": 57,
    "start_time": "2022-04-08T18:53:20.883Z"
   },
   {
    "duration": 122,
    "start_time": "2022-04-08T18:53:31.388Z"
   },
   {
    "duration": 1523,
    "start_time": "2022-04-08T18:55:29.136Z"
   },
   {
    "duration": 25,
    "start_time": "2022-04-08T18:56:15.095Z"
   },
   {
    "duration": 8,
    "start_time": "2022-04-08T18:56:57.122Z"
   },
   {
    "duration": 31,
    "start_time": "2022-04-08T18:57:12.309Z"
   },
   {
    "duration": 26,
    "start_time": "2022-04-08T18:58:37.191Z"
   },
   {
    "duration": 28,
    "start_time": "2022-04-08T18:59:10.106Z"
   },
   {
    "duration": 43,
    "start_time": "2022-04-08T19:00:00.089Z"
   },
   {
    "duration": 28,
    "start_time": "2022-04-08T19:01:34.710Z"
   },
   {
    "duration": 36,
    "start_time": "2022-04-08T19:01:47.566Z"
   },
   {
    "duration": 475,
    "start_time": "2022-04-08T19:02:24.317Z"
   },
   {
    "duration": 108,
    "start_time": "2022-04-08T19:02:24.795Z"
   },
   {
    "duration": 49,
    "start_time": "2022-04-08T19:02:24.906Z"
   },
   {
    "duration": 22,
    "start_time": "2022-04-08T19:02:25.487Z"
   },
   {
    "duration": 101,
    "start_time": "2022-04-08T19:02:26.763Z"
   },
   {
    "duration": 13,
    "start_time": "2022-04-08T19:02:29.814Z"
   },
   {
    "duration": 8,
    "start_time": "2022-04-08T19:02:31.402Z"
   },
   {
    "duration": 5,
    "start_time": "2022-04-08T19:02:32.488Z"
   },
   {
    "duration": 12,
    "start_time": "2022-04-08T19:02:33.865Z"
   },
   {
    "duration": 5,
    "start_time": "2022-04-08T19:02:34.838Z"
   },
   {
    "duration": 98,
    "start_time": "2022-04-08T19:02:35.417Z"
   },
   {
    "duration": 20,
    "start_time": "2022-04-08T19:02:36.551Z"
   },
   {
    "duration": 96,
    "start_time": "2022-04-08T19:02:37.910Z"
   },
   {
    "duration": 14,
    "start_time": "2022-04-08T19:02:38.622Z"
   },
   {
    "duration": 6,
    "start_time": "2022-04-08T19:02:39.214Z"
   },
   {
    "duration": 5,
    "start_time": "2022-04-08T19:02:40.090Z"
   },
   {
    "duration": 5,
    "start_time": "2022-04-08T19:02:40.587Z"
   },
   {
    "duration": 4,
    "start_time": "2022-04-08T19:02:41.174Z"
   },
   {
    "duration": 5,
    "start_time": "2022-04-08T19:02:41.603Z"
   },
   {
    "duration": 5,
    "start_time": "2022-04-08T19:02:42.130Z"
   },
   {
    "duration": 4,
    "start_time": "2022-04-08T19:02:42.450Z"
   },
   {
    "duration": 4,
    "start_time": "2022-04-08T19:02:42.805Z"
   },
   {
    "duration": 4,
    "start_time": "2022-04-08T19:02:43.342Z"
   },
   {
    "duration": 23,
    "start_time": "2022-04-08T19:02:44.173Z"
   },
   {
    "duration": 6,
    "start_time": "2022-04-08T19:02:49.555Z"
   },
   {
    "duration": 14,
    "start_time": "2022-04-08T19:02:50.694Z"
   },
   {
    "duration": 16,
    "start_time": "2022-04-08T19:02:51.181Z"
   },
   {
    "duration": 14,
    "start_time": "2022-04-08T19:02:57.989Z"
   },
   {
    "duration": 60,
    "start_time": "2022-04-08T19:02:58.005Z"
   },
   {
    "duration": 128,
    "start_time": "2022-04-08T19:02:58.067Z"
   },
   {
    "duration": 28,
    "start_time": "2022-04-08T19:03:19.233Z"
   },
   {
    "duration": 26,
    "start_time": "2022-04-08T19:04:48.027Z"
   },
   {
    "duration": 28,
    "start_time": "2022-04-08T19:05:59.716Z"
   },
   {
    "duration": 362,
    "start_time": "2022-04-08T19:07:37.582Z"
   },
   {
    "duration": 18,
    "start_time": "2022-04-08T19:07:51.146Z"
   },
   {
    "duration": 560,
    "start_time": "2022-04-08T19:08:58.550Z"
   },
   {
    "duration": 135,
    "start_time": "2022-04-08T19:08:59.116Z"
   },
   {
    "duration": 59,
    "start_time": "2022-04-08T19:08:59.253Z"
   },
   {
    "duration": 22,
    "start_time": "2022-04-08T19:08:59.315Z"
   },
   {
    "duration": 123,
    "start_time": "2022-04-08T19:08:59.339Z"
   },
   {
    "duration": 24,
    "start_time": "2022-04-08T19:08:59.465Z"
   },
   {
    "duration": 20,
    "start_time": "2022-04-08T19:08:59.491Z"
   },
   {
    "duration": 43,
    "start_time": "2022-04-08T19:08:59.513Z"
   },
   {
    "duration": 12,
    "start_time": "2022-04-08T19:08:59.558Z"
   },
   {
    "duration": 17,
    "start_time": "2022-04-08T19:08:59.574Z"
   },
   {
    "duration": 103,
    "start_time": "2022-04-08T19:08:59.594Z"
   },
   {
    "duration": 20,
    "start_time": "2022-04-08T19:08:59.699Z"
   },
   {
    "duration": 121,
    "start_time": "2022-04-08T19:08:59.721Z"
   },
   {
    "duration": 14,
    "start_time": "2022-04-08T19:08:59.844Z"
   },
   {
    "duration": 7,
    "start_time": "2022-04-08T19:08:59.874Z"
   },
   {
    "duration": 11,
    "start_time": "2022-04-08T19:08:59.884Z"
   },
   {
    "duration": 6,
    "start_time": "2022-04-08T19:08:59.898Z"
   },
   {
    "duration": 9,
    "start_time": "2022-04-08T19:08:59.906Z"
   },
   {
    "duration": 6,
    "start_time": "2022-04-08T19:08:59.917Z"
   },
   {
    "duration": 7,
    "start_time": "2022-04-08T19:08:59.925Z"
   },
   {
    "duration": 44,
    "start_time": "2022-04-08T19:08:59.934Z"
   },
   {
    "duration": 6,
    "start_time": "2022-04-08T19:08:59.981Z"
   },
   {
    "duration": 7,
    "start_time": "2022-04-08T19:08:59.990Z"
   },
   {
    "duration": 21,
    "start_time": "2022-04-08T19:08:59.999Z"
   },
   {
    "duration": 5,
    "start_time": "2022-04-08T19:09:00.022Z"
   },
   {
    "duration": 54,
    "start_time": "2022-04-08T19:09:00.030Z"
   },
   {
    "duration": 19,
    "start_time": "2022-04-08T19:09:00.087Z"
   },
   {
    "duration": 14,
    "start_time": "2022-04-08T19:09:00.111Z"
   },
   {
    "duration": 12,
    "start_time": "2022-04-08T19:09:00.127Z"
   },
   {
    "duration": 10,
    "start_time": "2022-04-08T19:09:00.141Z"
   },
   {
    "duration": 62,
    "start_time": "2022-04-08T19:09:00.154Z"
   },
   {
    "duration": 737,
    "start_time": "2022-04-08T19:09:00.218Z"
   },
   {
    "duration": 447,
    "start_time": "2022-04-08T19:09:00.958Z"
   },
   {
    "duration": 356,
    "start_time": "2022-04-08T19:09:01.409Z"
   },
   {
    "duration": 325,
    "start_time": "2022-04-08T19:09:01.768Z"
   },
   {
    "duration": 332,
    "start_time": "2022-04-08T19:09:02.095Z"
   },
   {
    "duration": 7,
    "start_time": "2022-04-08T19:09:02.431Z"
   },
   {
    "duration": 17,
    "start_time": "2022-04-08T19:09:02.440Z"
   },
   {
    "duration": 19,
    "start_time": "2022-04-08T19:09:02.474Z"
   },
   {
    "duration": 7,
    "start_time": "2022-04-08T19:09:17.708Z"
   },
   {
    "duration": 36,
    "start_time": "2022-04-08T19:09:19.374Z"
   },
   {
    "duration": 133,
    "start_time": "2022-04-08T19:12:11.941Z"
   },
   {
    "duration": 397,
    "start_time": "2022-04-08T19:13:04.461Z"
   },
   {
    "duration": 408,
    "start_time": "2022-04-08T19:13:11.282Z"
   },
   {
    "duration": 394,
    "start_time": "2022-04-08T19:13:31.436Z"
   },
   {
    "duration": 459,
    "start_time": "2022-04-08T19:13:40.803Z"
   },
   {
    "duration": 409,
    "start_time": "2022-04-08T19:13:45.846Z"
   },
   {
    "duration": 514,
    "start_time": "2022-04-11T18:42:19.775Z"
   },
   {
    "duration": 107,
    "start_time": "2022-04-11T18:42:20.356Z"
   },
   {
    "duration": 48,
    "start_time": "2022-04-11T18:42:21.619Z"
   },
   {
    "duration": 24,
    "start_time": "2022-04-11T18:42:22.611Z"
   },
   {
    "duration": 101,
    "start_time": "2022-04-11T18:42:24.178Z"
   },
   {
    "duration": 13,
    "start_time": "2022-04-11T18:42:26.675Z"
   },
   {
    "duration": 10,
    "start_time": "2022-04-11T18:42:28.522Z"
   },
   {
    "duration": 5,
    "start_time": "2022-04-11T18:42:29.655Z"
   },
   {
    "duration": 5,
    "start_time": "2022-04-11T18:42:30.579Z"
   },
   {
    "duration": 5,
    "start_time": "2022-04-11T18:42:31.804Z"
   },
   {
    "duration": 11,
    "start_time": "2022-04-11T18:43:03.197Z"
   },
   {
    "duration": 5,
    "start_time": "2022-04-11T18:43:04.826Z"
   },
   {
    "duration": 100,
    "start_time": "2022-04-11T18:43:06.422Z"
   },
   {
    "duration": 20,
    "start_time": "2022-04-11T18:43:08.335Z"
   },
   {
    "duration": 97,
    "start_time": "2022-04-11T18:43:09.911Z"
   },
   {
    "duration": 15,
    "start_time": "2022-04-11T18:43:10.466Z"
   },
   {
    "duration": 4,
    "start_time": "2022-04-11T18:43:11.014Z"
   },
   {
    "duration": 6,
    "start_time": "2022-04-11T18:43:11.571Z"
   },
   {
    "duration": 4,
    "start_time": "2022-04-11T18:43:12.005Z"
   },
   {
    "duration": 4,
    "start_time": "2022-04-11T18:43:12.439Z"
   },
   {
    "duration": 7,
    "start_time": "2022-04-11T18:43:12.793Z"
   },
   {
    "duration": 4,
    "start_time": "2022-04-11T18:43:13.124Z"
   },
   {
    "duration": 6,
    "start_time": "2022-04-11T18:43:13.388Z"
   },
   {
    "duration": 5,
    "start_time": "2022-04-11T18:43:13.678Z"
   },
   {
    "duration": 5,
    "start_time": "2022-04-11T18:43:14.034Z"
   },
   {
    "duration": 21,
    "start_time": "2022-04-11T18:43:14.348Z"
   },
   {
    "duration": 6,
    "start_time": "2022-04-11T18:43:16.327Z"
   },
   {
    "duration": 14,
    "start_time": "2022-04-11T18:43:17.454Z"
   },
   {
    "duration": 13,
    "start_time": "2022-04-11T18:43:17.859Z"
   },
   {
    "duration": 12,
    "start_time": "2022-04-11T18:43:18.691Z"
   },
   {
    "duration": 13,
    "start_time": "2022-04-11T18:43:19.766Z"
   },
   {
    "duration": 7,
    "start_time": "2022-04-11T18:43:21.018Z"
   },
   {
    "duration": 38,
    "start_time": "2022-04-11T18:43:25.159Z"
   },
   {
    "duration": 133,
    "start_time": "2022-04-11T18:43:31.680Z"
   },
   {
    "duration": 1137,
    "start_time": "2022-04-11T18:43:35.111Z"
   },
   {
    "duration": 445,
    "start_time": "2022-04-11T18:43:36.250Z"
   },
   {
    "duration": 365,
    "start_time": "2022-04-11T18:43:37.675Z"
   },
   {
    "duration": 302,
    "start_time": "2022-04-11T18:43:39.311Z"
   },
   {
    "duration": 339,
    "start_time": "2022-04-11T18:43:44.829Z"
   },
   {
    "duration": 7,
    "start_time": "2022-04-11T18:43:45.218Z"
   },
   {
    "duration": 6,
    "start_time": "2022-04-11T18:43:45.812Z"
   },
   {
    "duration": 12,
    "start_time": "2022-04-11T18:43:46.506Z"
   },
   {
    "duration": 302,
    "start_time": "2022-04-11T18:56:52.219Z"
   },
   {
    "duration": 337,
    "start_time": "2022-04-11T18:57:01.220Z"
   },
   {
    "duration": 6,
    "start_time": "2022-04-11T18:58:53.046Z"
   },
   {
    "duration": 280,
    "start_time": "2022-04-11T18:59:30.496Z"
   },
   {
    "duration": 376,
    "start_time": "2022-04-11T19:01:31.703Z"
   },
   {
    "duration": 452,
    "start_time": "2022-04-11T19:01:48.285Z"
   },
   {
    "duration": 352,
    "start_time": "2022-04-11T19:01:55.899Z"
   },
   {
    "duration": 362,
    "start_time": "2022-04-11T19:02:01.931Z"
   },
   {
    "duration": 271,
    "start_time": "2022-04-11T19:02:09.263Z"
   },
   {
    "duration": 266,
    "start_time": "2022-04-11T19:02:13.154Z"
   },
   {
    "duration": 269,
    "start_time": "2022-04-11T19:02:19.020Z"
   },
   {
    "duration": 3,
    "start_time": "2022-04-11T19:02:57.932Z"
   },
   {
    "duration": 96,
    "start_time": "2022-04-11T19:02:58.256Z"
   },
   {
    "duration": 37,
    "start_time": "2022-04-11T19:02:59.242Z"
   },
   {
    "duration": 22,
    "start_time": "2022-04-11T19:02:59.816Z"
   },
   {
    "duration": 97,
    "start_time": "2022-04-11T19:03:00.069Z"
   },
   {
    "duration": 13,
    "start_time": "2022-04-11T19:03:00.656Z"
   },
   {
    "duration": 8,
    "start_time": "2022-04-11T19:03:00.905Z"
   },
   {
    "duration": 6,
    "start_time": "2022-04-11T19:03:01.075Z"
   },
   {
    "duration": 5,
    "start_time": "2022-04-11T19:03:01.249Z"
   },
   {
    "duration": 4,
    "start_time": "2022-04-11T19:03:01.418Z"
   },
   {
    "duration": 7,
    "start_time": "2022-04-11T19:03:01.669Z"
   },
   {
    "duration": 6,
    "start_time": "2022-04-11T19:03:01.830Z"
   },
   {
    "duration": 97,
    "start_time": "2022-04-11T19:03:01.920Z"
   },
   {
    "duration": 18,
    "start_time": "2022-04-11T19:03:02.090Z"
   },
   {
    "duration": 94,
    "start_time": "2022-04-11T19:03:02.615Z"
   },
   {
    "duration": 13,
    "start_time": "2022-04-11T19:03:03.121Z"
   },
   {
    "duration": 4,
    "start_time": "2022-04-11T19:03:03.196Z"
   },
   {
    "duration": 6,
    "start_time": "2022-04-11T19:03:03.280Z"
   },
   {
    "duration": 4,
    "start_time": "2022-04-11T19:03:03.364Z"
   },
   {
    "duration": 5,
    "start_time": "2022-04-11T19:03:03.646Z"
   },
   {
    "duration": 7,
    "start_time": "2022-04-11T19:03:03.829Z"
   },
   {
    "duration": 4,
    "start_time": "2022-04-11T19:03:04.336Z"
   },
   {
    "duration": 5,
    "start_time": "2022-04-11T19:03:04.414Z"
   },
   {
    "duration": 4,
    "start_time": "2022-04-11T19:03:04.509Z"
   },
   {
    "duration": 5,
    "start_time": "2022-04-11T19:03:04.581Z"
   },
   {
    "duration": 21,
    "start_time": "2022-04-11T19:03:04.663Z"
   },
   {
    "duration": 5,
    "start_time": "2022-04-11T19:03:04.929Z"
   },
   {
    "duration": 13,
    "start_time": "2022-04-11T19:03:05.766Z"
   },
   {
    "duration": 12,
    "start_time": "2022-04-11T19:03:05.849Z"
   },
   {
    "duration": 13,
    "start_time": "2022-04-11T19:03:05.929Z"
   },
   {
    "duration": 9,
    "start_time": "2022-04-11T19:03:06.098Z"
   },
   {
    "duration": 7,
    "start_time": "2022-04-11T19:03:06.267Z"
   },
   {
    "duration": 34,
    "start_time": "2022-04-11T19:03:06.689Z"
   },
   {
    "duration": 122,
    "start_time": "2022-04-11T19:03:07.441Z"
   },
   {
    "duration": 398,
    "start_time": "2022-04-11T19:03:08.355Z"
   },
   {
    "duration": 509,
    "start_time": "2022-04-11T19:03:08.756Z"
   },
   {
    "duration": 260,
    "start_time": "2022-04-11T19:03:09.267Z"
   },
   {
    "duration": 399,
    "start_time": "2022-04-11T19:03:09.530Z"
   },
   {
    "duration": 324,
    "start_time": "2022-04-11T19:03:09.931Z"
   },
   {
    "duration": 16,
    "start_time": "2022-04-11T19:03:10.257Z"
   },
   {
    "duration": 6,
    "start_time": "2022-04-11T19:03:10.276Z"
   },
   {
    "duration": 12,
    "start_time": "2022-04-11T19:03:10.433Z"
   },
   {
    "duration": 5,
    "start_time": "2022-04-11T19:03:12.374Z"
   },
   {
    "duration": 279,
    "start_time": "2022-04-11T19:03:13.617Z"
   },
   {
    "duration": 12,
    "start_time": "2022-04-11T19:04:01.803Z"
   },
   {
    "duration": 99,
    "start_time": "2022-04-11T19:05:35.081Z"
   },
   {
    "duration": 107,
    "start_time": "2022-04-11T19:07:35.390Z"
   },
   {
    "duration": 97,
    "start_time": "2022-04-11T19:07:56.181Z"
   },
   {
    "duration": 11,
    "start_time": "2022-04-11T19:18:21.071Z"
   },
   {
    "duration": 93976,
    "start_time": "2022-04-11T19:18:29.656Z"
   },
   {
    "duration": 10,
    "start_time": "2022-04-11T19:20:03.635Z"
   },
   {
    "duration": 19,
    "start_time": "2022-04-11T19:20:20.331Z"
   },
   {
    "duration": 33,
    "start_time": "2022-04-11T19:23:04.849Z"
   },
   {
    "duration": 64,
    "start_time": "2022-04-11T19:27:35.231Z"
   },
   {
    "duration": 35,
    "start_time": "2022-04-11T19:28:01.442Z"
   },
   {
    "duration": 30,
    "start_time": "2022-04-11T19:28:20.797Z"
   },
   {
    "duration": 29,
    "start_time": "2022-04-11T19:28:52.262Z"
   },
   {
    "duration": 30,
    "start_time": "2022-04-11T19:29:03.979Z"
   },
   {
    "duration": 37,
    "start_time": "2022-04-11T19:29:15.589Z"
   },
   {
    "duration": 39,
    "start_time": "2022-04-11T19:29:30.539Z"
   },
   {
    "duration": 40,
    "start_time": "2022-04-11T19:29:35.272Z"
   },
   {
    "duration": 42,
    "start_time": "2022-04-11T19:31:12.113Z"
   },
   {
    "duration": 104,
    "start_time": "2022-04-11T19:34:40.648Z"
   },
   {
    "duration": 36,
    "start_time": "2022-04-11T19:44:40.546Z"
   },
   {
    "duration": 37,
    "start_time": "2022-04-11T19:45:14.513Z"
   },
   {
    "duration": 32,
    "start_time": "2022-04-11T19:45:54.752Z"
   },
   {
    "duration": 36,
    "start_time": "2022-04-11T19:47:24.761Z"
   },
   {
    "duration": 36,
    "start_time": "2022-04-11T19:49:48.313Z"
   },
   {
    "duration": 37,
    "start_time": "2022-04-11T19:50:07.975Z"
   },
   {
    "duration": 80,
    "start_time": "2022-04-11T19:50:59.102Z"
   },
   {
    "duration": 37,
    "start_time": "2022-04-11T19:51:07.661Z"
   },
   {
    "duration": 33,
    "start_time": "2022-04-11T19:51:14.827Z"
   },
   {
    "duration": 34,
    "start_time": "2022-04-11T19:57:57.409Z"
   },
   {
    "duration": 35,
    "start_time": "2022-04-11T19:58:40.286Z"
   },
   {
    "duration": 7,
    "start_time": "2022-04-11T20:05:23.338Z"
   },
   {
    "duration": 66,
    "start_time": "2022-04-11T20:06:54.161Z"
   },
   {
    "duration": 75,
    "start_time": "2022-04-11T20:07:31.706Z"
   },
   {
    "duration": 19,
    "start_time": "2022-04-11T20:08:01.069Z"
   },
   {
    "duration": 6,
    "start_time": "2022-04-11T20:08:13.092Z"
   },
   {
    "duration": 75,
    "start_time": "2022-04-11T20:08:14.108Z"
   },
   {
    "duration": 22,
    "start_time": "2022-04-11T20:08:58.869Z"
   },
   {
    "duration": 205,
    "start_time": "2022-04-11T20:09:27.437Z"
   },
   {
    "duration": 269,
    "start_time": "2022-04-11T20:09:46.998Z"
   },
   {
    "duration": 179,
    "start_time": "2022-04-11T20:10:09.972Z"
   },
   {
    "duration": 174,
    "start_time": "2022-04-11T20:10:35.424Z"
   },
   {
    "duration": 174,
    "start_time": "2022-04-11T20:10:44.315Z"
   },
   {
    "duration": 263,
    "start_time": "2022-04-11T20:10:59.428Z"
   },
   {
    "duration": 258,
    "start_time": "2022-04-11T20:11:06.588Z"
   },
   {
    "duration": 196,
    "start_time": "2022-04-11T20:11:46.529Z"
   },
   {
    "duration": 211,
    "start_time": "2022-04-11T20:11:51.668Z"
   },
   {
    "duration": 5,
    "start_time": "2022-04-11T20:15:31.471Z"
   },
   {
    "duration": 205,
    "start_time": "2022-04-11T20:17:25.949Z"
   },
   {
    "duration": 206,
    "start_time": "2022-04-11T20:17:35.235Z"
   },
   {
    "duration": 209,
    "start_time": "2022-04-11T20:18:24.599Z"
   },
   {
    "duration": 233,
    "start_time": "2022-04-11T20:18:38.722Z"
   },
   {
    "duration": 97,
    "start_time": "2022-04-11T20:18:50.219Z"
   },
   {
    "duration": 264,
    "start_time": "2022-04-11T20:19:08.096Z"
   },
   {
    "duration": 283,
    "start_time": "2022-04-11T20:19:33.291Z"
   },
   {
    "duration": 190,
    "start_time": "2022-04-11T20:20:45.514Z"
   },
   {
    "duration": 216,
    "start_time": "2022-04-11T20:20:50.460Z"
   },
   {
    "duration": 226,
    "start_time": "2022-04-11T20:20:58.982Z"
   },
   {
    "duration": 261,
    "start_time": "2022-04-11T20:21:11.218Z"
   },
   {
    "duration": 175,
    "start_time": "2022-04-11T20:21:22.868Z"
   },
   {
    "duration": 886,
    "start_time": "2022-04-11T20:21:30.184Z"
   },
   {
    "duration": 330,
    "start_time": "2022-04-11T20:21:40.678Z"
   },
   {
    "duration": 296,
    "start_time": "2022-04-11T20:21:45.010Z"
   },
   {
    "duration": 302,
    "start_time": "2022-04-11T20:21:52.349Z"
   },
   {
    "duration": 11,
    "start_time": "2022-04-11T20:25:07.768Z"
   },
   {
    "duration": 9,
    "start_time": "2022-04-11T20:25:17.178Z"
   },
   {
    "duration": 56,
    "start_time": "2022-04-11T20:25:26.895Z"
   },
   {
    "duration": 117,
    "start_time": "2022-04-11T20:25:39.177Z"
   },
   {
    "duration": 52,
    "start_time": "2022-04-11T20:34:54.041Z"
   },
   {
    "duration": 493,
    "start_time": "2022-04-12T16:40:33.101Z"
   },
   {
    "duration": 103,
    "start_time": "2022-04-12T16:40:33.597Z"
   },
   {
    "duration": 48,
    "start_time": "2022-04-12T16:40:33.702Z"
   },
   {
    "duration": 38,
    "start_time": "2022-04-12T16:40:33.753Z"
   },
   {
    "duration": 113,
    "start_time": "2022-04-12T16:40:33.794Z"
   },
   {
    "duration": 13,
    "start_time": "2022-04-12T16:40:34.333Z"
   },
   {
    "duration": 9,
    "start_time": "2022-04-12T16:40:34.636Z"
   },
   {
    "duration": 5,
    "start_time": "2022-04-12T16:40:34.755Z"
   },
   {
    "duration": 5,
    "start_time": "2022-04-12T16:40:34.931Z"
   },
   {
    "duration": 5,
    "start_time": "2022-04-12T16:40:35.094Z"
   },
   {
    "duration": 11,
    "start_time": "2022-04-12T16:40:35.343Z"
   },
   {
    "duration": 6,
    "start_time": "2022-04-12T16:40:35.520Z"
   },
   {
    "duration": 95,
    "start_time": "2022-04-12T16:40:35.606Z"
   },
   {
    "duration": 20,
    "start_time": "2022-04-12T16:40:35.759Z"
   },
   {
    "duration": 92,
    "start_time": "2022-04-12T16:40:35.932Z"
   },
   {
    "duration": 14,
    "start_time": "2022-04-12T16:40:36.030Z"
   },
   {
    "duration": 6,
    "start_time": "2022-04-12T16:40:36.096Z"
   },
   {
    "duration": 7,
    "start_time": "2022-04-12T16:40:36.185Z"
   },
   {
    "duration": 6,
    "start_time": "2022-04-12T16:40:36.277Z"
   },
   {
    "duration": 6,
    "start_time": "2022-04-12T16:40:36.360Z"
   },
   {
    "duration": 8,
    "start_time": "2022-04-12T16:40:36.431Z"
   },
   {
    "duration": 6,
    "start_time": "2022-04-12T16:40:36.508Z"
   },
   {
    "duration": 5,
    "start_time": "2022-04-12T16:40:36.597Z"
   },
   {
    "duration": 5,
    "start_time": "2022-04-12T16:40:37.207Z"
   },
   {
    "duration": 5,
    "start_time": "2022-04-12T16:40:37.709Z"
   },
   {
    "duration": 20,
    "start_time": "2022-04-12T16:40:37.851Z"
   },
   {
    "duration": 6,
    "start_time": "2022-04-12T16:40:38.035Z"
   },
   {
    "duration": 13,
    "start_time": "2022-04-12T16:40:38.218Z"
   },
   {
    "duration": 12,
    "start_time": "2022-04-12T16:40:38.288Z"
   },
   {
    "duration": 14,
    "start_time": "2022-04-12T16:40:38.377Z"
   },
   {
    "duration": 9,
    "start_time": "2022-04-12T16:40:39.220Z"
   },
   {
    "duration": 7,
    "start_time": "2022-04-12T16:40:39.401Z"
   },
   {
    "duration": 35,
    "start_time": "2022-04-12T16:40:39.483Z"
   },
   {
    "duration": 169,
    "start_time": "2022-04-12T16:40:39.830Z"
   },
   {
    "duration": 1007,
    "start_time": "2022-04-12T16:40:40.002Z"
   },
   {
    "duration": 422,
    "start_time": "2022-04-12T16:40:41.012Z"
   },
   {
    "duration": 444,
    "start_time": "2022-04-12T16:40:41.437Z"
   },
   {
    "duration": 575,
    "start_time": "2022-04-12T16:40:41.886Z"
   },
   {
    "duration": 322,
    "start_time": "2022-04-12T16:40:42.463Z"
   },
   {
    "duration": 7,
    "start_time": "2022-04-12T16:40:42.787Z"
   },
   {
    "duration": 11,
    "start_time": "2022-04-12T16:40:42.796Z"
   },
   {
    "duration": 17,
    "start_time": "2022-04-12T16:40:42.809Z"
   },
   {
    "duration": 6,
    "start_time": "2022-04-12T16:40:42.911Z"
   },
   {
    "duration": 293,
    "start_time": "2022-04-12T16:40:42.980Z"
   },
   {
    "duration": 11,
    "start_time": "2022-04-12T16:40:43.281Z"
   },
   {
    "duration": 96,
    "start_time": "2022-04-12T16:40:43.427Z"
   },
   {
    "duration": 43,
    "start_time": "2022-04-12T16:40:44.197Z"
   },
   {
    "duration": 35,
    "start_time": "2022-04-12T16:40:44.864Z"
   },
   {
    "duration": 38,
    "start_time": "2022-04-12T16:40:45.121Z"
   },
   {
    "duration": 37,
    "start_time": "2022-04-12T16:40:46.198Z"
   },
   {
    "duration": 35,
    "start_time": "2022-04-12T16:40:46.527Z"
   },
   {
    "duration": 7,
    "start_time": "2022-04-12T16:40:47.608Z"
   },
   {
    "duration": 30,
    "start_time": "2022-04-12T16:40:47.785Z"
   },
   {
    "duration": 307,
    "start_time": "2022-04-12T16:40:47.948Z"
   },
   {
    "duration": 101,
    "start_time": "2022-04-12T16:40:52.031Z"
   },
   {
    "duration": 53,
    "start_time": "2022-04-12T16:40:53.251Z"
   },
   {
    "duration": 40,
    "start_time": "2022-04-12T16:46:39.695Z"
   },
   {
    "duration": 49,
    "start_time": "2022-04-12T16:48:49.791Z"
   },
   {
    "duration": 545,
    "start_time": "2022-04-12T17:03:18.727Z"
   },
   {
    "duration": 361,
    "start_time": "2022-04-12T17:03:42.130Z"
   },
   {
    "duration": 395,
    "start_time": "2022-04-12T17:04:15.848Z"
   },
   {
    "duration": 354,
    "start_time": "2022-04-12T17:04:20.299Z"
   },
   {
    "duration": 299,
    "start_time": "2022-04-12T17:19:04.392Z"
   },
   {
    "duration": 52,
    "start_time": "2022-04-12T17:25:10.919Z"
   },
   {
    "duration": 406,
    "start_time": "2022-04-22T17:45:05.355Z"
   },
   {
    "duration": 95,
    "start_time": "2022-04-22T17:45:05.763Z"
   },
   {
    "duration": 32,
    "start_time": "2022-04-22T17:45:06.436Z"
   },
   {
    "duration": 15,
    "start_time": "2022-04-22T17:45:07.462Z"
   },
   {
    "duration": 80,
    "start_time": "2022-04-22T17:45:08.967Z"
   },
   {
    "duration": 15,
    "start_time": "2022-04-22T17:45:12.711Z"
   },
   {
    "duration": 76,
    "start_time": "2022-04-22T17:46:29.379Z"
   },
   {
    "duration": 4,
    "start_time": "2022-04-22T17:46:41.028Z"
   },
   {
    "duration": 7,
    "start_time": "2022-04-22T17:49:03.694Z"
   },
   {
    "duration": 6,
    "start_time": "2022-04-22T17:49:25.562Z"
   },
   {
    "duration": 8,
    "start_time": "2022-04-22T17:50:00.313Z"
   },
   {
    "duration": 5,
    "start_time": "2022-04-22T17:50:34.531Z"
   },
   {
    "duration": 5,
    "start_time": "2022-04-22T17:51:10.715Z"
   },
   {
    "duration": 50,
    "start_time": "2022-04-23T11:04:03.150Z"
   },
   {
    "duration": 398,
    "start_time": "2022-04-23T11:04:11.471Z"
   },
   {
    "duration": 77,
    "start_time": "2022-04-23T11:04:11.913Z"
   },
   {
    "duration": 29,
    "start_time": "2022-04-23T11:04:12.922Z"
   },
   {
    "duration": 14,
    "start_time": "2022-04-23T11:04:13.811Z"
   },
   {
    "duration": 64,
    "start_time": "2022-04-23T11:04:15.236Z"
   },
   {
    "duration": 10,
    "start_time": "2022-04-23T11:04:18.939Z"
   },
   {
    "duration": 5,
    "start_time": "2022-04-23T11:04:20.785Z"
   },
   {
    "duration": 5,
    "start_time": "2022-04-23T11:04:21.303Z"
   },
   {
    "duration": 5,
    "start_time": "2022-04-23T11:04:21.624Z"
   },
   {
    "duration": 6,
    "start_time": "2022-04-23T11:04:22.183Z"
   },
   {
    "duration": 7,
    "start_time": "2022-04-23T11:04:22.691Z"
   },
   {
    "duration": 5,
    "start_time": "2022-04-23T11:04:23.170Z"
   },
   {
    "duration": 6,
    "start_time": "2022-04-23T11:04:23.593Z"
   },
   {
    "duration": 5,
    "start_time": "2022-04-23T11:04:58.942Z"
   },
   {
    "duration": 5,
    "start_time": "2022-04-23T11:05:26.026Z"
   },
   {
    "duration": 4,
    "start_time": "2022-04-23T11:05:51.241Z"
   },
   {
    "duration": 6,
    "start_time": "2022-04-23T11:06:24.521Z"
   },
   {
    "duration": 5,
    "start_time": "2022-04-23T11:06:48.774Z"
   },
   {
    "duration": 4,
    "start_time": "2022-04-23T11:07:08.906Z"
   },
   {
    "duration": 5,
    "start_time": "2022-04-23T11:07:29.286Z"
   },
   {
    "duration": 5,
    "start_time": "2022-04-23T13:04:33.810Z"
   },
   {
    "duration": 4,
    "start_time": "2022-04-23T13:04:35.450Z"
   },
   {
    "duration": 3,
    "start_time": "2022-04-23T13:05:43.343Z"
   },
   {
    "duration": 2,
    "start_time": "2022-04-23T13:05:44.326Z"
   },
   {
    "duration": 8,
    "start_time": "2022-04-23T13:06:18.947Z"
   },
   {
    "duration": 4,
    "start_time": "2022-04-23T13:06:33.472Z"
   },
   {
    "duration": 61,
    "start_time": "2022-04-23T13:06:33.992Z"
   },
   {
    "duration": 12,
    "start_time": "2022-04-23T13:06:37.400Z"
   },
   {
    "duration": 64,
    "start_time": "2022-04-23T13:06:46.533Z"
   },
   {
    "duration": 10,
    "start_time": "2022-04-23T13:06:46.980Z"
   },
   {
    "duration": 4,
    "start_time": "2022-04-23T13:06:47.331Z"
   },
   {
    "duration": 5,
    "start_time": "2022-04-23T13:06:47.855Z"
   },
   {
    "duration": 3,
    "start_time": "2022-04-23T13:06:48.202Z"
   },
   {
    "duration": 4,
    "start_time": "2022-04-23T13:06:48.540Z"
   },
   {
    "duration": 4,
    "start_time": "2022-04-23T13:06:48.821Z"
   },
   {
    "duration": 4,
    "start_time": "2022-04-23T13:06:49.111Z"
   },
   {
    "duration": 4,
    "start_time": "2022-04-23T13:06:49.477Z"
   },
   {
    "duration": 3,
    "start_time": "2022-04-23T13:06:49.812Z"
   },
   {
    "duration": 4,
    "start_time": "2022-04-23T13:06:50.304Z"
   },
   {
    "duration": 5,
    "start_time": "2022-04-23T13:08:02.448Z"
   },
   {
    "duration": 13,
    "start_time": "2022-04-23T13:09:59.019Z"
   },
   {
    "duration": 4,
    "start_time": "2022-04-23T13:13:40.768Z"
   },
   {
    "duration": 9,
    "start_time": "2022-04-23T13:13:42.168Z"
   },
   {
    "duration": 9,
    "start_time": "2022-04-23T13:13:42.668Z"
   },
   {
    "duration": 9,
    "start_time": "2022-04-23T13:13:45.233Z"
   },
   {
    "duration": 7,
    "start_time": "2022-04-23T13:13:46.954Z"
   },
   {
    "duration": 6,
    "start_time": "2022-04-23T13:13:52.213Z"
   },
   {
    "duration": 24,
    "start_time": "2022-04-23T13:13:52.962Z"
   },
   {
    "duration": 84,
    "start_time": "2022-04-23T13:14:00.047Z"
   },
   {
    "duration": 667,
    "start_time": "2022-04-23T13:14:03.725Z"
   },
   {
    "duration": 297,
    "start_time": "2022-04-23T13:15:45.990Z"
   },
   {
    "duration": 276,
    "start_time": "2022-04-23T13:16:08.495Z"
   },
   {
    "duration": 239,
    "start_time": "2022-04-23T13:19:25.384Z"
   },
   {
    "duration": 234,
    "start_time": "2022-04-23T13:20:03.408Z"
   },
   {
    "duration": 224,
    "start_time": "2022-04-23T13:21:18.105Z"
   },
   {
    "duration": 225,
    "start_time": "2022-04-23T13:22:05.713Z"
   },
   {
    "duration": 2327,
    "start_time": "2022-04-23T13:24:09.478Z"
   },
   {
    "duration": 291,
    "start_time": "2022-04-23T13:25:46.300Z"
   },
   {
    "duration": 212,
    "start_time": "2022-04-23T13:26:08.357Z"
   },
   {
    "duration": 209,
    "start_time": "2022-04-23T13:26:19.479Z"
   },
   {
    "duration": 212,
    "start_time": "2022-04-23T13:26:29.310Z"
   },
   {
    "duration": 220,
    "start_time": "2022-04-23T13:27:54.545Z"
   },
   {
    "duration": 211,
    "start_time": "2022-04-23T13:28:07.874Z"
   },
   {
    "duration": 336,
    "start_time": "2022-04-23T13:29:46.796Z"
   },
   {
    "duration": 202,
    "start_time": "2022-04-23T13:33:19.614Z"
   },
   {
    "duration": 216,
    "start_time": "2022-04-23T13:33:31.503Z"
   },
   {
    "duration": 142,
    "start_time": "2022-04-23T13:34:34.262Z"
   },
   {
    "duration": 524,
    "start_time": "2022-04-24T19:38:22.038Z"
   },
   {
    "duration": 115,
    "start_time": "2022-04-24T19:38:22.565Z"
   },
   {
    "duration": 49,
    "start_time": "2022-04-24T19:38:23.166Z"
   },
   {
    "duration": 22,
    "start_time": "2022-04-24T19:38:23.983Z"
   },
   {
    "duration": 107,
    "start_time": "2022-04-24T19:38:25.098Z"
   },
   {
    "duration": 13,
    "start_time": "2022-04-24T19:38:26.588Z"
   },
   {
    "duration": 7,
    "start_time": "2022-04-24T19:38:27.184Z"
   },
   {
    "duration": 8,
    "start_time": "2022-04-24T19:38:27.816Z"
   },
   {
    "duration": 6,
    "start_time": "2022-04-24T19:38:28.812Z"
   },
   {
    "duration": 8,
    "start_time": "2022-04-24T19:38:29.073Z"
   },
   {
    "duration": 8,
    "start_time": "2022-04-24T19:38:29.314Z"
   },
   {
    "duration": 7,
    "start_time": "2022-04-24T19:38:29.760Z"
   },
   {
    "duration": 8,
    "start_time": "2022-04-24T19:38:29.992Z"
   },
   {
    "duration": 117,
    "start_time": "2022-04-24T19:38:30.397Z"
   },
   {
    "duration": 8,
    "start_time": "2022-04-24T19:38:30.815Z"
   },
   {
    "duration": 7,
    "start_time": "2022-04-24T19:38:31.025Z"
   },
   {
    "duration": 7,
    "start_time": "2022-04-24T19:38:31.205Z"
   },
   {
    "duration": 7,
    "start_time": "2022-04-24T19:38:31.397Z"
   },
   {
    "duration": 7,
    "start_time": "2022-04-24T19:38:31.697Z"
   },
   {
    "duration": 8,
    "start_time": "2022-04-24T19:38:31.934Z"
   },
   {
    "duration": 7,
    "start_time": "2022-04-24T19:38:32.113Z"
   },
   {
    "duration": 9,
    "start_time": "2022-04-24T19:38:34.354Z"
   },
   {
    "duration": 5,
    "start_time": "2022-04-24T19:38:35.165Z"
   },
   {
    "duration": 3,
    "start_time": "2022-04-24T19:38:36.950Z"
   },
   {
    "duration": 4,
    "start_time": "2022-04-24T19:38:39.010Z"
   },
   {
    "duration": 11,
    "start_time": "2022-04-24T19:38:45.668Z"
   },
   {
    "duration": 8,
    "start_time": "2022-04-24T19:38:48.777Z"
   },
   {
    "duration": 153,
    "start_time": "2022-04-24T19:38:49.421Z"
   },
   {
    "duration": 18,
    "start_time": "2022-04-24T19:38:50.558Z"
   },
   {
    "duration": 105,
    "start_time": "2022-04-24T19:38:51.978Z"
   },
   {
    "duration": 15,
    "start_time": "2022-04-24T19:38:52.579Z"
   },
   {
    "duration": 5,
    "start_time": "2022-04-24T19:38:53.157Z"
   },
   {
    "duration": 6,
    "start_time": "2022-04-24T19:38:54.004Z"
   },
   {
    "duration": 5,
    "start_time": "2022-04-24T19:38:54.517Z"
   },
   {
    "duration": 6,
    "start_time": "2022-04-24T19:38:55.241Z"
   },
   {
    "duration": 5,
    "start_time": "2022-04-24T19:38:55.424Z"
   },
   {
    "duration": 5,
    "start_time": "2022-04-24T19:38:55.598Z"
   },
   {
    "duration": 5,
    "start_time": "2022-04-24T19:38:55.752Z"
   },
   {
    "duration": 5,
    "start_time": "2022-04-24T19:38:55.924Z"
   },
   {
    "duration": 5,
    "start_time": "2022-04-24T19:38:56.105Z"
   },
   {
    "duration": 22,
    "start_time": "2022-04-24T19:38:56.452Z"
   },
   {
    "duration": 23,
    "start_time": "2022-04-24T19:38:59.304Z"
   },
   {
    "duration": 6,
    "start_time": "2022-04-24T19:39:04.552Z"
   },
   {
    "duration": 14,
    "start_time": "2022-04-24T19:39:05.012Z"
   },
   {
    "duration": 14,
    "start_time": "2022-04-24T19:39:05.340Z"
   },
   {
    "duration": 14,
    "start_time": "2022-04-24T19:39:25.413Z"
   },
   {
    "duration": 10,
    "start_time": "2022-04-24T19:39:27.877Z"
   },
   {
    "duration": 8,
    "start_time": "2022-04-24T19:39:31.048Z"
   },
   {
    "duration": 38,
    "start_time": "2022-04-24T19:39:31.657Z"
   },
   {
    "duration": 157,
    "start_time": "2022-04-24T19:39:37.571Z"
   },
   {
    "duration": 1197,
    "start_time": "2022-04-24T19:39:38.808Z"
   },
   {
    "duration": 413,
    "start_time": "2022-04-24T19:39:43.858Z"
   },
   {
    "duration": 353,
    "start_time": "2022-04-24T19:39:47.689Z"
   },
   {
    "duration": 336,
    "start_time": "2022-04-24T19:41:11.530Z"
   },
   {
    "duration": 358,
    "start_time": "2022-04-24T19:42:18.878Z"
   },
   {
    "duration": 7,
    "start_time": "2022-04-24T19:42:24.048Z"
   },
   {
    "duration": 8,
    "start_time": "2022-04-24T19:42:25.880Z"
   },
   {
    "duration": 12,
    "start_time": "2022-04-24T19:42:30.242Z"
   },
   {
    "duration": 4,
    "start_time": "2022-04-24T19:45:10.091Z"
   },
   {
    "duration": 138,
    "start_time": "2022-04-24T19:45:10.105Z"
   },
   {
    "duration": 62,
    "start_time": "2022-04-24T19:45:10.246Z"
   },
   {
    "duration": 23,
    "start_time": "2022-04-24T19:45:10.443Z"
   },
   {
    "duration": 108,
    "start_time": "2022-04-24T19:45:10.646Z"
   },
   {
    "duration": 18,
    "start_time": "2022-04-24T19:45:11.227Z"
   },
   {
    "duration": 9,
    "start_time": "2022-04-24T19:45:11.485Z"
   },
   {
    "duration": 8,
    "start_time": "2022-04-24T19:45:11.566Z"
   },
   {
    "duration": 9,
    "start_time": "2022-04-24T19:45:11.742Z"
   },
   {
    "duration": 9,
    "start_time": "2022-04-24T19:45:11.822Z"
   },
   {
    "duration": 7,
    "start_time": "2022-04-24T19:45:11.904Z"
   },
   {
    "duration": 6,
    "start_time": "2022-04-24T19:45:11.996Z"
   },
   {
    "duration": 9,
    "start_time": "2022-04-24T19:45:12.065Z"
   },
   {
    "duration": 115,
    "start_time": "2022-04-24T19:45:12.148Z"
   },
   {
    "duration": 0,
    "start_time": "2022-04-24T19:45:12.265Z"
   },
   {
    "duration": 8,
    "start_time": "2022-04-24T19:45:12.347Z"
   },
   {
    "duration": 7,
    "start_time": "2022-04-24T19:45:12.552Z"
   },
   {
    "duration": 10,
    "start_time": "2022-04-24T19:45:12.562Z"
   },
   {
    "duration": 8,
    "start_time": "2022-04-24T19:45:12.575Z"
   },
   {
    "duration": 7,
    "start_time": "2022-04-24T19:45:12.663Z"
   },
   {
    "duration": 7,
    "start_time": "2022-04-24T19:45:12.738Z"
   },
   {
    "duration": 9,
    "start_time": "2022-04-24T19:45:13.072Z"
   },
   {
    "duration": 5,
    "start_time": "2022-04-24T19:45:13.238Z"
   },
   {
    "duration": 4,
    "start_time": "2022-04-24T19:45:13.488Z"
   },
   {
    "duration": 3,
    "start_time": "2022-04-24T19:45:14.435Z"
   },
   {
    "duration": 8,
    "start_time": "2022-04-24T19:45:15.273Z"
   },
   {
    "duration": 7,
    "start_time": "2022-04-24T19:45:15.524Z"
   },
   {
    "duration": 105,
    "start_time": "2022-04-24T19:45:15.605Z"
   },
   {
    "duration": 21,
    "start_time": "2022-04-24T19:45:15.770Z"
   },
   {
    "duration": 102,
    "start_time": "2022-04-24T19:45:15.957Z"
   },
   {
    "duration": 15,
    "start_time": "2022-04-24T19:45:16.061Z"
   },
   {
    "duration": 5,
    "start_time": "2022-04-24T19:45:16.114Z"
   },
   {
    "duration": 6,
    "start_time": "2022-04-24T19:45:16.193Z"
   },
   {
    "duration": 5,
    "start_time": "2022-04-24T19:45:16.273Z"
   },
   {
    "duration": 6,
    "start_time": "2022-04-24T19:45:16.361Z"
   },
   {
    "duration": 5,
    "start_time": "2022-04-24T19:45:16.445Z"
   },
   {
    "duration": 5,
    "start_time": "2022-04-24T19:45:16.902Z"
   },
   {
    "duration": 6,
    "start_time": "2022-04-24T19:45:17.441Z"
   },
   {
    "duration": 6,
    "start_time": "2022-04-24T19:45:17.493Z"
   },
   {
    "duration": 5,
    "start_time": "2022-04-24T19:45:17.575Z"
   },
   {
    "duration": 21,
    "start_time": "2022-04-24T19:45:17.744Z"
   },
   {
    "duration": 23,
    "start_time": "2022-04-24T19:45:18.009Z"
   },
   {
    "duration": 7,
    "start_time": "2022-04-24T19:45:18.248Z"
   },
   {
    "duration": 19,
    "start_time": "2022-04-24T19:45:19.343Z"
   },
   {
    "duration": 20,
    "start_time": "2022-04-24T19:45:19.844Z"
   },
   {
    "duration": 19,
    "start_time": "2022-04-24T19:45:20.093Z"
   },
   {
    "duration": 9,
    "start_time": "2022-04-24T19:45:20.262Z"
   },
   {
    "duration": 7,
    "start_time": "2022-04-24T19:45:20.443Z"
   },
   {
    "duration": 42,
    "start_time": "2022-04-24T19:45:20.517Z"
   },
   {
    "duration": 135,
    "start_time": "2022-04-24T19:45:20.762Z"
   },
   {
    "duration": 432,
    "start_time": "2022-04-24T19:45:21.035Z"
   },
   {
    "duration": 417,
    "start_time": "2022-04-24T19:45:27.464Z"
   },
   {
    "duration": 424,
    "start_time": "2022-04-24T19:45:28.186Z"
   },
   {
    "duration": 544,
    "start_time": "2022-04-24T19:45:28.614Z"
   },
   {
    "duration": 446,
    "start_time": "2022-04-24T19:45:29.214Z"
   },
   {
    "duration": 7,
    "start_time": "2022-04-24T19:45:29.663Z"
   },
   {
    "duration": 10,
    "start_time": "2022-04-24T19:45:30.002Z"
   },
   {
    "duration": 12,
    "start_time": "2022-04-24T19:45:30.371Z"
   },
   {
    "duration": 6,
    "start_time": "2022-04-24T19:45:31.973Z"
   },
   {
    "duration": 293,
    "start_time": "2022-04-24T19:45:32.138Z"
   },
   {
    "duration": 14,
    "start_time": "2022-04-24T19:45:32.702Z"
   },
   {
    "duration": 4,
    "start_time": "2022-04-24T19:47:58.961Z"
   },
   {
    "duration": 112,
    "start_time": "2022-04-24T19:47:59.043Z"
   },
   {
    "duration": 43,
    "start_time": "2022-04-24T19:47:59.214Z"
   },
   {
    "duration": 22,
    "start_time": "2022-04-24T19:47:59.375Z"
   },
   {
    "duration": 108,
    "start_time": "2022-04-24T19:47:59.629Z"
   },
   {
    "duration": 13,
    "start_time": "2022-04-24T19:48:00.212Z"
   },
   {
    "duration": 9,
    "start_time": "2022-04-24T19:48:00.465Z"
   },
   {
    "duration": 9,
    "start_time": "2022-04-24T19:48:00.572Z"
   },
   {
    "duration": 8,
    "start_time": "2022-04-24T19:48:00.714Z"
   },
   {
    "duration": 10,
    "start_time": "2022-04-24T19:48:00.813Z"
   },
   {
    "duration": 7,
    "start_time": "2022-04-24T19:48:00.896Z"
   },
   {
    "duration": 7,
    "start_time": "2022-04-24T19:48:01.003Z"
   },
   {
    "duration": 9,
    "start_time": "2022-04-24T19:48:01.056Z"
   },
   {
    "duration": 102,
    "start_time": "2022-04-24T19:48:01.134Z"
   },
   {
    "duration": 0,
    "start_time": "2022-04-24T19:48:01.239Z"
   },
   {
    "duration": 7,
    "start_time": "2022-04-24T19:48:01.300Z"
   },
   {
    "duration": 8,
    "start_time": "2022-04-24T19:48:01.398Z"
   },
   {
    "duration": 9,
    "start_time": "2022-04-24T19:48:01.489Z"
   },
   {
    "duration": 9,
    "start_time": "2022-04-24T19:48:01.560Z"
   },
   {
    "duration": 9,
    "start_time": "2022-04-24T19:48:01.658Z"
   },
   {
    "duration": 9,
    "start_time": "2022-04-24T19:48:01.721Z"
   },
   {
    "duration": 11,
    "start_time": "2022-04-24T19:48:02.077Z"
   },
   {
    "duration": 9,
    "start_time": "2022-04-24T19:48:02.227Z"
   },
   {
    "duration": 4,
    "start_time": "2022-04-24T19:48:02.475Z"
   },
   {
    "duration": 3,
    "start_time": "2022-04-24T19:48:02.645Z"
   },
   {
    "duration": 7,
    "start_time": "2022-04-24T19:48:03.838Z"
   },
   {
    "duration": 8,
    "start_time": "2022-04-24T19:48:04.077Z"
   },
   {
    "duration": 154,
    "start_time": "2022-04-24T19:48:04.162Z"
   },
   {
    "duration": 27,
    "start_time": "2022-04-24T19:48:04.769Z"
   },
   {
    "duration": 122,
    "start_time": "2022-04-24T19:48:05.354Z"
   },
   {
    "duration": 15,
    "start_time": "2022-04-24T19:48:05.479Z"
   },
   {
    "duration": 5,
    "start_time": "2022-04-24T19:48:05.518Z"
   },
   {
    "duration": 7,
    "start_time": "2022-04-24T19:48:05.611Z"
   },
   {
    "duration": 5,
    "start_time": "2022-04-24T19:48:05.687Z"
   },
   {
    "duration": 6,
    "start_time": "2022-04-24T19:48:05.773Z"
   },
   {
    "duration": 5,
    "start_time": "2022-04-24T19:48:05.858Z"
   },
   {
    "duration": 6,
    "start_time": "2022-04-24T19:48:05.941Z"
   },
   {
    "duration": 10,
    "start_time": "2022-04-24T19:48:06.021Z"
   },
   {
    "duration": 6,
    "start_time": "2022-04-24T19:48:06.105Z"
   },
   {
    "duration": 5,
    "start_time": "2022-04-24T19:48:06.200Z"
   },
   {
    "duration": 21,
    "start_time": "2022-04-24T19:48:06.359Z"
   },
   {
    "duration": 19,
    "start_time": "2022-04-24T19:48:06.607Z"
   },
   {
    "duration": 6,
    "start_time": "2022-04-24T19:48:06.856Z"
   },
   {
    "duration": 16,
    "start_time": "2022-04-24T19:48:07.025Z"
   },
   {
    "duration": 14,
    "start_time": "2022-04-24T19:48:07.106Z"
   },
   {
    "duration": 13,
    "start_time": "2022-04-24T19:48:07.359Z"
   },
   {
    "duration": 9,
    "start_time": "2022-04-24T19:48:08.259Z"
   },
   {
    "duration": 8,
    "start_time": "2022-04-24T19:48:08.425Z"
   },
   {
    "duration": 49,
    "start_time": "2022-04-24T19:48:08.508Z"
   },
   {
    "duration": 131,
    "start_time": "2022-04-24T19:48:09.555Z"
   },
   {
    "duration": 420,
    "start_time": "2022-04-24T19:48:09.804Z"
   },
   {
    "duration": 404,
    "start_time": "2022-04-24T19:48:10.802Z"
   },
   {
    "duration": 275,
    "start_time": "2022-04-24T19:48:11.599Z"
   },
   {
    "duration": 357,
    "start_time": "2022-04-24T19:48:11.877Z"
   },
   {
    "duration": 354,
    "start_time": "2022-04-24T19:48:12.237Z"
   },
   {
    "duration": 7,
    "start_time": "2022-04-24T19:48:12.963Z"
   },
   {
    "duration": 8,
    "start_time": "2022-04-24T19:48:13.129Z"
   },
   {
    "duration": 13,
    "start_time": "2022-04-24T19:48:13.762Z"
   },
   {
    "duration": 6,
    "start_time": "2022-04-24T19:48:15.597Z"
   },
   {
    "duration": 415,
    "start_time": "2022-04-24T19:48:15.687Z"
   },
   {
    "duration": 27,
    "start_time": "2022-04-24T19:48:16.106Z"
   },
   {
    "duration": 6,
    "start_time": "2022-04-24T19:56:58.973Z"
   },
   {
    "duration": 552,
    "start_time": "2022-04-24T19:57:12.165Z"
   },
   {
    "duration": 13,
    "start_time": "2022-04-24T19:57:48.640Z"
   },
   {
    "duration": 156,
    "start_time": "2022-04-24T20:03:09.970Z"
   },
   {
    "duration": 9,
    "start_time": "2022-04-24T20:05:48.361Z"
   },
   {
    "duration": 395,
    "start_time": "2022-04-24T20:06:07.629Z"
   },
   {
    "duration": 14,
    "start_time": "2022-04-24T20:06:30.304Z"
   },
   {
    "duration": 99,
    "start_time": "2022-04-24T20:07:23.732Z"
   },
   {
    "duration": 321,
    "start_time": "2022-04-24T20:25:56.017Z"
   },
   {
    "duration": 293,
    "start_time": "2022-04-24T20:30:12.603Z"
   },
   {
    "duration": 12,
    "start_time": "2022-04-24T20:30:32.282Z"
   },
   {
    "duration": 8,
    "start_time": "2022-04-24T20:31:03.091Z"
   },
   {
    "duration": 255,
    "start_time": "2022-04-24T20:31:03.808Z"
   },
   {
    "duration": 235,
    "start_time": "2022-04-24T20:31:12.732Z"
   },
   {
    "duration": 421,
    "start_time": "2022-04-24T20:31:41.614Z"
   },
   {
    "duration": 14,
    "start_time": "2022-04-24T20:32:01.141Z"
   },
   {
    "duration": 128,
    "start_time": "2022-04-24T20:32:16.669Z"
   },
   {
    "duration": 153,
    "start_time": "2022-04-24T20:34:25.888Z"
   },
   {
    "duration": 5,
    "start_time": "2022-04-24T20:36:34.960Z"
   },
   {
    "duration": 311,
    "start_time": "2022-04-24T20:36:57.192Z"
   },
   {
    "duration": 490,
    "start_time": "2022-04-24T20:37:08.774Z"
   },
   {
    "duration": 14,
    "start_time": "2022-04-24T20:37:41.175Z"
   },
   {
    "duration": 374,
    "start_time": "2022-04-24T20:37:49.695Z"
   },
   {
    "duration": 9,
    "start_time": "2022-04-24T20:37:50.456Z"
   },
   {
    "duration": 7,
    "start_time": "2022-04-24T20:37:51.463Z"
   },
   {
    "duration": 16,
    "start_time": "2022-04-24T20:37:52.467Z"
   },
   {
    "duration": 7,
    "start_time": "2022-04-24T20:37:55.739Z"
   },
   {
    "duration": 325,
    "start_time": "2022-04-24T20:37:56.918Z"
   },
   {
    "duration": 14,
    "start_time": "2022-04-24T20:37:57.964Z"
   },
   {
    "duration": 410,
    "start_time": "2022-04-25T15:58:03.266Z"
   },
   {
    "duration": 77,
    "start_time": "2022-04-25T15:58:03.678Z"
   },
   {
    "duration": 28,
    "start_time": "2022-04-25T15:58:04.137Z"
   },
   {
    "duration": 14,
    "start_time": "2022-04-25T15:58:04.727Z"
   },
   {
    "duration": 62,
    "start_time": "2022-04-25T15:58:05.754Z"
   },
   {
    "duration": 8,
    "start_time": "2022-04-25T15:58:07.800Z"
   },
   {
    "duration": 5,
    "start_time": "2022-04-25T15:58:08.495Z"
   },
   {
    "duration": 4,
    "start_time": "2022-04-25T15:58:09.134Z"
   },
   {
    "duration": 4,
    "start_time": "2022-04-25T15:58:09.584Z"
   },
   {
    "duration": 5,
    "start_time": "2022-04-25T15:58:10.098Z"
   },
   {
    "duration": 4,
    "start_time": "2022-04-25T15:58:10.183Z"
   },
   {
    "duration": 4,
    "start_time": "2022-04-25T15:58:10.268Z"
   },
   {
    "duration": 5,
    "start_time": "2022-04-25T15:58:10.355Z"
   },
   {
    "duration": 165,
    "start_time": "2022-04-25T15:58:10.438Z"
   },
   {
    "duration": 0,
    "start_time": "2022-04-25T15:58:10.605Z"
   },
   {
    "duration": 0,
    "start_time": "2022-04-25T15:58:10.606Z"
   },
   {
    "duration": 4,
    "start_time": "2022-04-25T15:58:10.676Z"
   },
   {
    "duration": 4,
    "start_time": "2022-04-25T15:58:10.772Z"
   },
   {
    "duration": 5,
    "start_time": "2022-04-25T15:58:10.843Z"
   },
   {
    "duration": 4,
    "start_time": "2022-04-25T15:58:10.944Z"
   },
   {
    "duration": 4,
    "start_time": "2022-04-25T15:58:11.016Z"
   },
   {
    "duration": 5,
    "start_time": "2022-04-25T15:58:11.357Z"
   },
   {
    "duration": 4,
    "start_time": "2022-04-25T15:58:11.515Z"
   },
   {
    "duration": 2,
    "start_time": "2022-04-25T15:58:11.776Z"
   },
   {
    "duration": 3,
    "start_time": "2022-04-25T15:58:11.932Z"
   },
   {
    "duration": 9,
    "start_time": "2022-04-25T15:58:12.347Z"
   },
   {
    "duration": 4,
    "start_time": "2022-04-25T15:58:13.532Z"
   },
   {
    "duration": 65,
    "start_time": "2022-04-25T15:58:13.612Z"
   },
   {
    "duration": 13,
    "start_time": "2022-04-25T15:58:13.800Z"
   },
   {
    "duration": 60,
    "start_time": "2022-04-25T15:58:14.789Z"
   },
   {
    "duration": 9,
    "start_time": "2022-04-25T15:58:14.883Z"
   },
   {
    "duration": 3,
    "start_time": "2022-04-25T15:58:14.968Z"
   },
   {
    "duration": 4,
    "start_time": "2022-04-25T15:58:15.048Z"
   },
   {
    "duration": 3,
    "start_time": "2022-04-25T15:58:15.130Z"
   },
   {
    "duration": 4,
    "start_time": "2022-04-25T15:58:15.424Z"
   },
   {
    "duration": 3,
    "start_time": "2022-04-25T15:58:15.649Z"
   },
   {
    "duration": 3,
    "start_time": "2022-04-25T15:58:15.873Z"
   },
   {
    "duration": 4,
    "start_time": "2022-04-25T15:58:16.109Z"
   },
   {
    "duration": 4,
    "start_time": "2022-04-25T15:58:16.315Z"
   },
   {
    "duration": 3,
    "start_time": "2022-04-25T15:58:16.520Z"
   },
   {
    "duration": 13,
    "start_time": "2022-04-25T15:58:17.083Z"
   },
   {
    "duration": 14,
    "start_time": "2022-04-25T15:58:17.811Z"
   },
   {
    "duration": 4,
    "start_time": "2022-04-25T15:58:18.543Z"
   },
   {
    "duration": 9,
    "start_time": "2022-04-25T15:58:18.947Z"
   },
   {
    "duration": 12,
    "start_time": "2022-04-25T15:58:19.446Z"
   },
   {
    "duration": 8,
    "start_time": "2022-04-25T15:58:21.173Z"
   },
   {
    "duration": 6,
    "start_time": "2022-04-25T15:58:21.757Z"
   },
   {
    "duration": 5,
    "start_time": "2022-04-25T15:58:22.156Z"
   },
   {
    "duration": 20,
    "start_time": "2022-04-25T15:58:22.386Z"
   },
   {
    "duration": 82,
    "start_time": "2022-04-25T15:58:23.190Z"
   },
   {
    "duration": 652,
    "start_time": "2022-04-25T15:58:23.814Z"
   },
   {
    "duration": 5,
    "start_time": "2022-04-25T15:58:24.674Z"
   },
   {
    "duration": 223,
    "start_time": "2022-04-25T15:58:24.887Z"
   },
   {
    "duration": 9,
    "start_time": "2022-04-25T15:58:25.122Z"
   },
   {
    "duration": 250,
    "start_time": "2022-04-25T15:58:27.334Z"
   },
   {
    "duration": 4,
    "start_time": "2022-04-25T15:58:29.460Z"
   },
   {
    "duration": 215,
    "start_time": "2022-04-25T15:58:30.038Z"
   },
   {
    "duration": 8,
    "start_time": "2022-04-25T15:58:30.563Z"
   },
   {
    "duration": 137,
    "start_time": "2022-04-25T15:58:32.187Z"
   },
   {
    "duration": 4,
    "start_time": "2022-04-25T15:58:33.941Z"
   },
   {
    "duration": 121,
    "start_time": "2022-04-25T15:58:34.283Z"
   },
   {
    "duration": 8,
    "start_time": "2022-04-25T15:58:34.973Z"
   },
   {
    "duration": 172,
    "start_time": "2022-04-25T15:58:36.918Z"
   },
   {
    "duration": 4,
    "start_time": "2022-04-25T15:58:38.900Z"
   },
   {
    "duration": 165,
    "start_time": "2022-04-25T15:58:39.906Z"
   },
   {
    "duration": 9,
    "start_time": "2022-04-25T15:58:40.695Z"
   },
   {
    "duration": 184,
    "start_time": "2022-04-25T15:58:52.198Z"
   },
   {
    "duration": 4,
    "start_time": "2022-04-25T15:58:53.657Z"
   },
   {
    "duration": 5,
    "start_time": "2022-04-25T15:58:54.749Z"
   },
   {
    "duration": 8,
    "start_time": "2022-04-25T15:58:56.014Z"
   },
   {
    "duration": 5,
    "start_time": "2022-04-25T15:59:03.908Z"
   },
   {
    "duration": 219,
    "start_time": "2022-04-25T15:59:04.140Z"
   },
   {
    "duration": 9,
    "start_time": "2022-04-25T15:59:04.470Z"
   },
   {
    "duration": 70,
    "start_time": "2022-04-25T15:59:08.032Z"
   },
   {
    "duration": 14,
    "start_time": "2022-04-25T16:01:55.406Z"
   },
   {
    "duration": 96,
    "start_time": "2022-04-25T16:05:22.112Z"
   },
   {
    "duration": 540,
    "start_time": "2022-04-25T16:05:44.300Z"
   },
   {
    "duration": 2645,
    "start_time": "2022-04-25T16:06:20.848Z"
   },
   {
    "duration": 1938,
    "start_time": "2022-04-25T16:09:20.143Z"
   },
   {
    "duration": 104,
    "start_time": "2022-04-25T16:09:41.179Z"
   },
   {
    "duration": 89,
    "start_time": "2022-04-25T16:10:34.221Z"
   },
   {
    "duration": 91,
    "start_time": "2022-04-25T16:13:27.177Z"
   },
   {
    "duration": 91,
    "start_time": "2022-04-25T16:13:38.420Z"
   },
   {
    "duration": 95,
    "start_time": "2022-04-25T16:13:51.796Z"
   },
   {
    "duration": 100,
    "start_time": "2022-04-25T16:14:11.203Z"
   },
   {
    "duration": 115,
    "start_time": "2022-04-25T16:14:16.689Z"
   },
   {
    "duration": 117,
    "start_time": "2022-04-25T16:16:33.113Z"
   },
   {
    "duration": 235,
    "start_time": "2022-04-25T16:18:15.656Z"
   },
   {
    "duration": 186,
    "start_time": "2022-04-25T16:19:01.167Z"
   },
   {
    "duration": 236,
    "start_time": "2022-04-25T16:21:09.446Z"
   },
   {
    "duration": 35,
    "start_time": "2022-04-25T16:26:31.266Z"
   },
   {
    "duration": 216,
    "start_time": "2022-04-25T16:27:03.949Z"
   },
   {
    "duration": 26,
    "start_time": "2022-04-25T16:27:15.407Z"
   },
   {
    "duration": 6464,
    "start_time": "2022-04-25T16:27:43.413Z"
   },
   {
    "duration": 212,
    "start_time": "2022-04-25T16:28:30.347Z"
   },
   {
    "duration": 13,
    "start_time": "2022-04-25T16:28:37.051Z"
   },
   {
    "duration": 155,
    "start_time": "2022-04-25T16:29:35.592Z"
   },
   {
    "duration": 150,
    "start_time": "2022-04-25T16:31:36.840Z"
   },
   {
    "duration": 15,
    "start_time": "2022-04-25T16:32:01.507Z"
   },
   {
    "duration": 15,
    "start_time": "2022-04-25T16:32:30.946Z"
   },
   {
    "duration": 11,
    "start_time": "2022-04-25T17:36:49.563Z"
   },
   {
    "duration": 9,
    "start_time": "2022-04-25T17:37:10.217Z"
   },
   {
    "duration": 13,
    "start_time": "2022-04-25T17:37:46.693Z"
   },
   {
    "duration": 187,
    "start_time": "2022-04-25T17:37:55.526Z"
   },
   {
    "duration": 6617,
    "start_time": "2022-04-25T17:38:19.083Z"
   },
   {
    "duration": 198,
    "start_time": "2022-04-25T17:38:53.297Z"
   },
   {
    "duration": 174,
    "start_time": "2022-04-25T17:39:12.848Z"
   },
   {
    "duration": 153,
    "start_time": "2022-04-25T17:40:42.938Z"
   },
   {
    "duration": 141,
    "start_time": "2022-04-25T17:40:54.888Z"
   },
   {
    "duration": 3172,
    "start_time": "2022-04-25T17:41:18.054Z"
   },
   {
    "duration": 173,
    "start_time": "2022-04-25T17:41:29.448Z"
   },
   {
    "duration": 184,
    "start_time": "2022-04-25T17:41:51.762Z"
   },
   {
    "duration": 256,
    "start_time": "2022-04-25T17:42:10.868Z"
   },
   {
    "duration": 149,
    "start_time": "2022-04-25T17:42:34.346Z"
   },
   {
    "duration": 239,
    "start_time": "2022-04-25T17:43:20.320Z"
   },
   {
    "duration": 225,
    "start_time": "2022-04-25T17:44:31.341Z"
   },
   {
    "duration": 4,
    "start_time": "2022-04-25T17:46:41.085Z"
   },
   {
    "duration": 15,
    "start_time": "2022-04-25T17:46:41.874Z"
   },
   {
    "duration": 182,
    "start_time": "2022-04-25T17:46:42.982Z"
   },
   {
    "duration": 62,
    "start_time": "2022-04-25T17:46:50.716Z"
   },
   {
    "duration": 62,
    "start_time": "2022-04-25T17:49:21.386Z"
   },
   {
    "duration": 60,
    "start_time": "2022-04-25T17:50:10.301Z"
   },
   {
    "duration": 35,
    "start_time": "2022-04-25T17:52:04.635Z"
   },
   {
    "duration": 27,
    "start_time": "2022-04-25T17:52:17.623Z"
   },
   {
    "duration": 25,
    "start_time": "2022-04-25T17:52:21.384Z"
   },
   {
    "duration": 25,
    "start_time": "2022-04-25T17:52:27.127Z"
   },
   {
    "duration": 3012,
    "start_time": "2022-04-25T17:53:41.087Z"
   },
   {
    "duration": 3100,
    "start_time": "2022-04-25T17:54:06.957Z"
   },
   {
    "duration": 37,
    "start_time": "2022-04-25T17:54:16.033Z"
   },
   {
    "duration": 12,
    "start_time": "2022-04-25T17:54:20.745Z"
   },
   {
    "duration": 42,
    "start_time": "2022-04-25T17:54:33.073Z"
   },
   {
    "duration": 3097,
    "start_time": "2022-04-25T17:54:49.569Z"
   },
   {
    "duration": 39,
    "start_time": "2022-04-25T17:55:15.177Z"
   },
   {
    "duration": 3137,
    "start_time": "2022-04-25T17:56:52.053Z"
   },
   {
    "duration": 3153,
    "start_time": "2022-04-25T17:57:18.639Z"
   },
   {
    "duration": 13,
    "start_time": "2022-04-25T17:58:10.846Z"
   },
   {
    "duration": 2010,
    "start_time": "2022-04-25T17:59:38.951Z"
   },
   {
    "duration": 106,
    "start_time": "2022-04-25T18:01:06.944Z"
   },
   {
    "duration": 109,
    "start_time": "2022-04-25T18:01:26.892Z"
   },
   {
    "duration": 182,
    "start_time": "2022-04-25T18:02:02.868Z"
   },
   {
    "duration": 12,
    "start_time": "2022-04-25T18:04:09.308Z"
   },
   {
    "duration": 24,
    "start_time": "2022-04-25T18:04:09.894Z"
   },
   {
    "duration": 1815,
    "start_time": "2022-04-25T18:04:10.563Z"
   },
   {
    "duration": 120,
    "start_time": "2022-04-25T18:04:12.380Z"
   },
   {
    "duration": 121,
    "start_time": "2022-04-25T18:04:12.654Z"
   },
   {
    "duration": 214,
    "start_time": "2022-04-26T06:08:07.784Z"
   }
  ],
  "kernelspec": {
   "display_name": "Python 3",
   "language": "python",
   "name": "python3"
  },
  "language_info": {
   "codemirror_mode": {
    "name": "ipython",
    "version": 3
   },
   "file_extension": ".py",
   "mimetype": "text/x-python",
   "name": "python",
   "nbconvert_exporter": "python",
   "pygments_lexer": "ipython3",
   "version": "3.8.8"
  },
  "toc": {
   "base_numbering": 1,
   "nav_menu": {},
   "number_sections": true,
   "sideBar": true,
   "skip_h1_title": true,
   "title_cell": "Содержание",
   "title_sidebar": "Contents",
   "toc_cell": true,
   "toc_position": {},
   "toc_section_display": true,
   "toc_window_display": true
  }
 },
 "nbformat": 4,
 "nbformat_minor": 4
}
