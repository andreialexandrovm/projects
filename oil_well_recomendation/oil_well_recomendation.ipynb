{
 "cells": [
  {
   "cell_type": "markdown",
   "metadata": {},
   "source": [
    "# Выбор локации для скважины"
   ]
  },
  {
   "cell_type": "markdown",
   "metadata": {},
   "source": [
    "Нужно решить, где бурить новую скважину.\n",
    "\n",
    "Предоставлены пробы нефти в трёх регионах: в каждом 10 000 месторождений, где измерили качество нефти и объём её запасов. Необходимо построитт модель машинного обучения, которая поможет определить регион, где добыча принесёт наибольшую прибыль. Проанализировать возможную прибыль и риски.\n",
    "\n",
    "Шаги для выбора локации:\n",
    "\n",
    "- В избранном регионе ищут месторождения, для каждого определяют значения признаков;\n",
    "- Строят модель и оценивают объём запасов;\n",
    "- Выбирают месторождения с самым высокими оценками значений. Количество месторождений зависит от бюджета компании и стоимости разработки одной скважины;\n",
    "- Прибыль равна суммарной прибыли отобранных месторождений.  \n",
    "\n",
    "Данные геологоразведки трёх регионов:  \n",
    "id — уникальный идентификатор скважины;  \n",
    "f0, f1, f2 — три признака точек (неважно, что они означают, но сами признаки значимы);  \n",
    "product — объём запасов в скважине (тыс. баррелей).  \n",
    "\n",
    "Бюджет на разработку скважин в регионе — 10 млрд рублей.  \n",
    "При нынешних ценах один баррель сырья приносит 450 рублей дохода. Доход с каждой единицы продукта составляет 450 тыс. рублей, поскольку объём указан в тысячах баррелей.  \n",
    "После оценки рисков нужно оставить лишь те регионы, в которых вероятность убытков меньше 2.5%. Среди них выбирают регион с наибольшей средней прибылью.  \n",
    "\n",
    "Данные синтетические: детали контрактов и характеристики месторождений не разглашаются."
   ]
  },
  {
   "cell_type": "markdown",
   "metadata": {},
   "source": [
    "## Загрузка и подготовка данных"
   ]
  },
  {
   "cell_type": "markdown",
   "metadata": {},
   "source": [
    "Подключим библиотеки"
   ]
  },
  {
   "cell_type": "code",
   "execution_count": 2,
   "metadata": {},
   "outputs": [],
   "source": [
    "import pandas as pd\n",
    "import warnings\n",
    "warnings.filterwarnings(\"ignore\")\n",
    "from sklearn.model_selection import train_test_split\n",
    "from sklearn.preprocessing import StandardScaler\n",
    "from sklearn.linear_model import LinearRegression\n",
    "from sklearn.metrics import mean_squared_error\n",
    "import numpy as np\n",
    "from numpy.random import RandomState\n",
    "import os\n",
    "import matplotlib.pyplot as plt"
   ]
  },
  {
   "cell_type": "markdown",
   "metadata": {},
   "source": [
    "Введем константы"
   ]
  },
  {
   "cell_type": "code",
   "execution_count": 3,
   "metadata": {},
   "outputs": [],
   "source": [
    "STATE = RandomState(12345)\n",
    "BUDGET = 10 ** 10 # общий бюджет на разработку скважин\n",
    "ONE_THOUSAND_BARREL_COST = 450000 # стоимость одной тысячи баррелей нефти\n",
    "WELL_COUNT = 200 # количество скважин, которые будут разрабатывать\n",
    "WELLS_BOOTSTRAP = 500"
   ]
  },
  {
   "cell_type": "markdown",
   "metadata": {},
   "source": [
    "Загрузим данные"
   ]
  },
  {
   "cell_type": "code",
   "execution_count": 9,
   "metadata": {},
   "outputs": [],
   "source": [
    "pth1 = 'geo_data_0.csv'\n",
    "pth2 = 'https://code.s3.yandex.net/datasets/geo_data_0.csv'\n",
    "    \n",
    "if os.path.exists(pth1):\n",
    "    geo_data_0 = pd.read_csv(pth1)\n",
    "elif os.path.exists(pth2):\n",
    "    geo_data_0 = pd.read_csv(pth2)\n",
    "else:\n",
    "    print('Something is wrong')\n",
    "    \n",
    "pth3 = 'geo_data_1.csv'\n",
    "pth4 = 'https://code.s3.yandex.net/datasets/geo_data_1.csv'\n",
    "    \n",
    "if os.path.exists(pth3):\n",
    "    geo_data_1 = pd.read_csv(pth3)\n",
    "elif os.path.exists(pth4):\n",
    "    geo_data_1 = pd.read_csv(pth4)\n",
    "else:\n",
    "    print('Something is wrong')\n",
    "    \n",
    "pth5 = 'geo_data_2.csv'\n",
    "pth6 = 'https://code.s3.yandex.net/datasets/geo_data_2.csv'\n",
    "    \n",
    "if os.path.exists(pth5):\n",
    "    geo_data_2 = pd.read_csv(pth5)\n",
    "elif os.path.exists(pth6):\n",
    "    geo_data_2 = pd.read_csv(pth6)\n",
    "else:\n",
    "    print('Something is wrong')"
   ]
  },
  {
   "cell_type": "markdown",
   "metadata": {},
   "source": [
    "Посмотрим что представляют эти данные"
   ]
  },
  {
   "cell_type": "code",
   "execution_count": 10,
   "metadata": {},
   "outputs": [],
   "source": [
    "def df_information(df):\n",
    "    print(df.head())\n",
    "    print(df.info())\n",
    "    print(df.describe())"
   ]
  },
  {
   "cell_type": "code",
   "execution_count": 11,
   "metadata": {},
   "outputs": [
    {
     "name": "stdout",
     "output_type": "stream",
     "text": [
      "      id        f0        f1        f2     product\n",
      "0  txEyH  0.705745 -0.497823  1.221170  105.280062\n",
      "1  2acmU  1.334711 -0.340164  4.365080   73.037750\n",
      "2  409Wp  1.022732  0.151990  1.419926   85.265647\n",
      "3  iJLyR -0.032172  0.139033  2.978566  168.620776\n",
      "4  Xdl7t  1.988431  0.155413  4.751769  154.036647\n",
      "<class 'pandas.core.frame.DataFrame'>\n",
      "RangeIndex: 100000 entries, 0 to 99999\n",
      "Data columns (total 5 columns):\n",
      " #   Column   Non-Null Count   Dtype  \n",
      "---  ------   --------------   -----  \n",
      " 0   id       100000 non-null  object \n",
      " 1   f0       100000 non-null  float64\n",
      " 2   f1       100000 non-null  float64\n",
      " 3   f2       100000 non-null  float64\n",
      " 4   product  100000 non-null  float64\n",
      "dtypes: float64(4), object(1)\n",
      "memory usage: 3.8+ MB\n",
      "None\n",
      "                  f0             f1             f2        product\n",
      "count  100000.000000  100000.000000  100000.000000  100000.000000\n",
      "mean        0.500419       0.250143       2.502647      92.500000\n",
      "std         0.871832       0.504433       3.248248      44.288691\n",
      "min        -1.408605      -0.848218     -12.088328       0.000000\n",
      "25%        -0.072580      -0.200881       0.287748      56.497507\n",
      "50%         0.502360       0.250252       2.515969      91.849972\n",
      "75%         1.073581       0.700646       4.715088     128.564089\n",
      "max         2.362331       1.343769      16.003790     185.364347\n"
     ]
    }
   ],
   "source": [
    "df_information(geo_data_0)"
   ]
  },
  {
   "cell_type": "code",
   "execution_count": 12,
   "metadata": {},
   "outputs": [
    {
     "name": "stdout",
     "output_type": "stream",
     "text": [
      "      id         f0         f1        f2     product\n",
      "0  kBEdx -15.001348  -8.276000 -0.005876    3.179103\n",
      "1  62mP7  14.272088  -3.475083  0.999183   26.953261\n",
      "2  vyE1P   6.263187  -5.948386  5.001160  134.766305\n",
      "3  KcrkZ -13.081196 -11.506057  4.999415  137.945408\n",
      "4  AHL4O  12.702195  -8.147433  5.004363  134.766305\n",
      "<class 'pandas.core.frame.DataFrame'>\n",
      "RangeIndex: 100000 entries, 0 to 99999\n",
      "Data columns (total 5 columns):\n",
      " #   Column   Non-Null Count   Dtype  \n",
      "---  ------   --------------   -----  \n",
      " 0   id       100000 non-null  object \n",
      " 1   f0       100000 non-null  float64\n",
      " 2   f1       100000 non-null  float64\n",
      " 3   f2       100000 non-null  float64\n",
      " 4   product  100000 non-null  float64\n",
      "dtypes: float64(4), object(1)\n",
      "memory usage: 3.8+ MB\n",
      "None\n",
      "                  f0             f1             f2        product\n",
      "count  100000.000000  100000.000000  100000.000000  100000.000000\n",
      "mean        1.141296      -4.796579       2.494541      68.825000\n",
      "std         8.965932       5.119872       1.703572      45.944423\n",
      "min       -31.609576     -26.358598      -0.018144       0.000000\n",
      "25%        -6.298551      -8.267985       1.000021      26.953261\n",
      "50%         1.153055      -4.813172       2.011479      57.085625\n",
      "75%         8.621015      -1.332816       3.999904     107.813044\n",
      "max        29.421755      18.734063       5.019721     137.945408\n"
     ]
    }
   ],
   "source": [
    "df_information(geo_data_1)"
   ]
  },
  {
   "cell_type": "code",
   "execution_count": 13,
   "metadata": {},
   "outputs": [
    {
     "name": "stdout",
     "output_type": "stream",
     "text": [
      "      id        f0        f1        f2     product\n",
      "0  fwXo0 -1.146987  0.963328 -0.828965   27.758673\n",
      "1  WJtFt  0.262778  0.269839 -2.530187   56.069697\n",
      "2  ovLUW  0.194587  0.289035 -5.586433   62.871910\n",
      "3  q6cA6  2.236060 -0.553760  0.930038  114.572842\n",
      "4  WPMUX -0.515993  1.716266  5.899011  149.600746\n",
      "<class 'pandas.core.frame.DataFrame'>\n",
      "RangeIndex: 100000 entries, 0 to 99999\n",
      "Data columns (total 5 columns):\n",
      " #   Column   Non-Null Count   Dtype  \n",
      "---  ------   --------------   -----  \n",
      " 0   id       100000 non-null  object \n",
      " 1   f0       100000 non-null  float64\n",
      " 2   f1       100000 non-null  float64\n",
      " 3   f2       100000 non-null  float64\n",
      " 4   product  100000 non-null  float64\n",
      "dtypes: float64(4), object(1)\n",
      "memory usage: 3.8+ MB\n",
      "None\n",
      "                  f0             f1             f2        product\n",
      "count  100000.000000  100000.000000  100000.000000  100000.000000\n",
      "mean        0.002023      -0.002081       2.495128      95.000000\n",
      "std         1.732045       1.730417       3.473445      44.749921\n",
      "min        -8.760004      -7.084020     -11.970335       0.000000\n",
      "25%        -1.162288      -1.174820       0.130359      59.450441\n",
      "50%         0.009424      -0.009482       2.484236      94.925613\n",
      "75%         1.158535       1.163678       4.858794     130.595027\n",
      "max         7.238262       7.844801      16.739402     190.029838\n"
     ]
    }
   ],
   "source": [
    "df_information(geo_data_2)"
   ]
  },
  {
   "cell_type": "markdown",
   "metadata": {},
   "source": [
    "Данные представляют из себя три таблицы, в каждой из которых по 10000 строк и 5 столбцов.  "
   ]
  },
  {
   "cell_type": "markdown",
   "metadata": {},
   "source": [
    "Проверим наличие дубликатов"
   ]
  },
  {
   "cell_type": "code",
   "execution_count": 14,
   "metadata": {},
   "outputs": [
    {
     "name": "stdout",
     "output_type": "stream",
     "text": [
      "0\n",
      "0\n",
      "0\n"
     ]
    }
   ],
   "source": [
    "print(geo_data_0.duplicated().sum())\n",
    "print(geo_data_1.duplicated().sum())\n",
    "print(geo_data_2.duplicated().sum())"
   ]
  },
  {
   "cell_type": "code",
   "execution_count": 15,
   "metadata": {
    "scrolled": true
   },
   "outputs": [
    {
     "name": "stdout",
     "output_type": "stream",
     "text": [
      "10\n",
      "4\n",
      "4\n"
     ]
    }
   ],
   "source": [
    "print(geo_data_0.duplicated(subset=['id']).sum())\n",
    "print(geo_data_1.duplicated(subset=['id']).sum())\n",
    "print(geo_data_2.duplicated(subset=['id']).sum())"
   ]
  },
  {
   "cell_type": "markdown",
   "metadata": {},
   "source": [
    "В данных присутствуют неявные дубликаты, так как их не много, то избавимся от них"
   ]
  },
  {
   "cell_type": "code",
   "execution_count": 16,
   "metadata": {},
   "outputs": [],
   "source": [
    "geo_data_0 = geo_data_0.drop_duplicates(subset=['id'])\n",
    "geo_data_1 = geo_data_1.drop_duplicates(subset=['id'])\n",
    "geo_data_2 = geo_data_2.drop_duplicates(subset=['id'])"
   ]
  },
  {
   "cell_type": "markdown",
   "metadata": {},
   "source": [
    "Проверим что у нас получилось"
   ]
  },
  {
   "cell_type": "code",
   "execution_count": 17,
   "metadata": {},
   "outputs": [
    {
     "name": "stdout",
     "output_type": "stream",
     "text": [
      "0\n",
      "0\n",
      "0\n"
     ]
    }
   ],
   "source": [
    "print(geo_data_0.duplicated(subset=['id']).sum())\n",
    "print(geo_data_1.duplicated(subset=['id']).sum())\n",
    "print(geo_data_2.duplicated(subset=['id']).sum())"
   ]
  },
  {
   "cell_type": "markdown",
   "metadata": {},
   "source": [
    "Все дубликаты удалены"
   ]
  },
  {
   "cell_type": "markdown",
   "metadata": {},
   "source": [
    "Избавимся от столбцов с номерами скважен, так как названия не влияют на другие параметры скважин"
   ]
  },
  {
   "cell_type": "code",
   "execution_count": 18,
   "metadata": {},
   "outputs": [],
   "source": [
    "geo_data_0 = geo_data_0.drop(columns=['id'])"
   ]
  },
  {
   "cell_type": "code",
   "execution_count": 19,
   "metadata": {},
   "outputs": [],
   "source": [
    "geo_data_1 = geo_data_1.drop(columns=['id'])"
   ]
  },
  {
   "cell_type": "code",
   "execution_count": 20,
   "metadata": {},
   "outputs": [],
   "source": [
    "geo_data_2 = geo_data_2.drop(columns=['id'])"
   ]
  },
  {
   "cell_type": "code",
   "execution_count": 21,
   "metadata": {
    "scrolled": false
   },
   "outputs": [
    {
     "data": {
      "image/png": "[encoded data removed]",
      "text/plain": [
       "<Figure size 648x432 with 1 Axes>"
      ]
     },
     "metadata": {
      "needs_background": "light"
     },
     "output_type": "display_data"
    }
   ],
   "source": [
    "geo_data_0.hist(\n",
    "    column='product',\n",
    "    figsize=[9,6],\n",
    "    bins=250)\n",
    "plt.title('Гистограмма распределения запасов нефти в первом регионе')\n",
    "plt.xlabel('Запасы, тысячи баррелей нефти')\n",
    "plt.ylabel('Количество скважин')\n",
    "plt.show()"
   ]
  },
  {
   "cell_type": "code",
   "execution_count": 22,
   "metadata": {},
   "outputs": [
    {
     "data": {
      "image/png": "[encoded data removed]",
      "text/plain": [
       "<Figure size 648x432 with 1 Axes>"
      ]
     },
     "metadata": {
      "needs_background": "light"
     },
     "output_type": "display_data"
    }
   ],
   "source": [
    "geo_data_1.hist(\n",
    "    column='product',\n",
    "    figsize=[9,6],\n",
    "    bins=20)\n",
    "plt.title('Гистограмма распределения запасов нефти во втором регионе')\n",
    "plt.xlabel('Запасы, тысячи баррелей нефти')\n",
    "plt.ylabel('Количество скважин')\n",
    "plt.show()"
   ]
  },
  {
   "cell_type": "code",
   "execution_count": 23,
   "metadata": {},
   "outputs": [
    {
     "data": {
      "image/png": "[encoded data removed]",
      "text/plain": [
       "<Figure size 648x432 with 1 Axes>"
      ]
     },
     "metadata": {
      "needs_background": "light"
     },
     "output_type": "display_data"
    }
   ],
   "source": [
    "geo_data_2.hist(\n",
    "    column='product',\n",
    "    figsize=[9,6],\n",
    "    bins=250)\n",
    "plt.title('Гистограмма распределения запасов нефти в третьем регионе')\n",
    "plt.xlabel('Запасы, тысячи баррелей нефти')\n",
    "plt.ylabel('Количество скважин')\n",
    "plt.show()"
   ]
  },
  {
   "cell_type": "markdown",
   "metadata": {},
   "source": [
    "Из гистограмм видно, что в первом и третьем регионе мало точек с очень малым (меньше 25 тысяч баррелей и большим количеством нефи (больше 170 тысяч баррелей), по четыре участка со средним запасом нефти и два участка с малым количеством нефти,  \n",
    "во втором регионе больше всего скважин с очень малым и очень большим количество нефти и четыре участка со средним значением нефти, при этом промежуточные скважины (по количеству нефти) отсутствуют"
   ]
  },
  {
   "cell_type": "markdown",
   "metadata": {},
   "source": [
    "Посмотрим на матрицы корреляции"
   ]
  },
  {
   "cell_type": "code",
   "execution_count": 24,
   "metadata": {},
   "outputs": [
    {
     "name": "stdout",
     "output_type": "stream",
     "text": [
      "               f0        f1        f2   product\n",
      "f0       1.000000 -0.440717 -0.003211  0.143504\n",
      "f1      -0.440717  1.000000  0.001764 -0.192351\n",
      "f2      -0.003211  0.001764  1.000000  0.483631\n",
      "product  0.143504 -0.192351  0.483631  1.000000\n",
      "               f0        f1        f2   product\n",
      "f0       1.000000  0.182279 -0.001810 -0.030523\n",
      "f1       0.182279  1.000000 -0.002594 -0.010154\n",
      "f2      -0.001810 -0.002594  1.000000  0.999397\n",
      "product -0.030523 -0.010154  0.999397  1.000000\n",
      "               f0        f1        f2   product\n",
      "f0       1.000000  0.000506 -0.000452 -0.001978\n",
      "f1       0.000506  1.000000  0.000753 -0.001055\n",
      "f2      -0.000452  0.000753  1.000000  0.445867\n",
      "product -0.001978 -0.001055  0.445867  1.000000\n"
     ]
    }
   ],
   "source": [
    "print(geo_data_0.corr())\n",
    "print(geo_data_1.corr())\n",
    "print(geo_data_2.corr())"
   ]
  },
  {
   "cell_type": "markdown",
   "metadata": {},
   "source": [
    "Из матриц корреляции видно, что в данных о втором регионе наблюдается сильная корреляция признака f2 и целевого признака product.  "
   ]
  },
  {
   "cell_type": "markdown",
   "metadata": {},
   "source": [
    "## Обучение и проверка модели"
   ]
  },
  {
   "cell_type": "markdown",
   "metadata": {},
   "source": [
    "### Первый регион"
   ]
  },
  {
   "cell_type": "markdown",
   "metadata": {},
   "source": [
    "#### Разобьем данные на обучающую и валидационную выборки в соотношении 75:25"
   ]
  },
  {
   "cell_type": "code",
   "execution_count": 25,
   "metadata": {},
   "outputs": [],
   "source": [
    "def splitting_and_scaling(df):\n",
    "    features = df.drop(['product'], axis=1)\n",
    "    target = df['product']\n",
    "    features_train, features_valid, target_train, target_valid = train_test_split(\n",
    "    features, target, test_size=0.25, random_state=STATE)\n",
    "    \n",
    "    print('Количество данных в features_train', features_train.shape)\n",
    "    print('Количество данных в features_valid', features_valid.shape)\n",
    "    print('Количество данных в target_train', target_train.shape)\n",
    "    print('Количество данных в target_valid', target_valid.shape)\n",
    "    \n",
    "    col_names = ['f0','f1','f2']\n",
    "    scaler = StandardScaler()\n",
    "    scaler.fit(features_train.loc[:, col_names])\n",
    "    features_train.loc[:,col_names] = scaler.transform(features_train.loc[:,col_names])\n",
    "    features_valid.loc[:,col_names] = scaler.transform(features_valid.loc[:,col_names])\n",
    "    return features_train, target_train, features_valid, target_valid"
   ]
  },
  {
   "cell_type": "code",
   "execution_count": 26,
   "metadata": {},
   "outputs": [
    {
     "name": "stdout",
     "output_type": "stream",
     "text": [
      "Количество данных в features_train (74992, 3)\n",
      "Количество данных в features_valid (24998, 3)\n",
      "Количество данных в target_train (74992,)\n",
      "Количество данных в target_valid (24998,)\n"
     ]
    }
   ],
   "source": [
    "features_train_0, target_train_0, features_valid_0, target_valid_0 = splitting_and_scaling(geo_data_0)"
   ]
  },
  {
   "cell_type": "markdown",
   "metadata": {},
   "source": [
    "#### Обучим модель и сделаем предсказания на валидационной выборке."
   ]
  },
  {
   "cell_type": "code",
   "execution_count": 27,
   "metadata": {},
   "outputs": [],
   "source": [
    "def model_training(features_train, target_train, features_valid, target_valid):\n",
    "    model = LinearRegression()\n",
    "    model.fit(features_train, target_train)\n",
    "    predictions = model.predict(features_valid)\n",
    "    print('Среднее значение предсказанного сырья', predictions.mean())\n",
    "    print('RMSE  модели', mean_squared_error(target_valid, predictions, squared=False))\n",
    "    return predictions"
   ]
  },
  {
   "cell_type": "code",
   "execution_count": 28,
   "metadata": {},
   "outputs": [
    {
     "name": "stdout",
     "output_type": "stream",
     "text": [
      "Среднее значение предсказанного сырья 92.78915638280621\n",
      "RMSE  модели 37.853527328872964\n"
     ]
    }
   ],
   "source": [
    "predictions_0 = model_training(features_train_0, target_train_0, features_valid_0, target_valid_0)"
   ]
  },
  {
   "cell_type": "markdown",
   "metadata": {},
   "source": [
    "#### Выводы"
   ]
  },
  {
   "cell_type": "markdown",
   "metadata": {},
   "source": [
    "RMSE у полученой модели составляет 37.85 тыс. баррелей  при среднем значении 92.78 тыс. баррелей, что достаточно много - это означает, что наша модель обладает плохой предсказательной способностью на валидационных данных"
   ]
  },
  {
   "cell_type": "markdown",
   "metadata": {},
   "source": [
    "### Второй регион"
   ]
  },
  {
   "cell_type": "markdown",
   "metadata": {},
   "source": [
    "#### Разобьем данные на обучающую и валидационную выборки в соотношении 75:25"
   ]
  },
  {
   "cell_type": "code",
   "execution_count": 29,
   "metadata": {},
   "outputs": [
    {
     "name": "stdout",
     "output_type": "stream",
     "text": [
      "Количество данных в features_train (74997, 3)\n",
      "Количество данных в features_valid (24999, 3)\n",
      "Количество данных в target_train (74997,)\n",
      "Количество данных в target_valid (24999,)\n"
     ]
    }
   ],
   "source": [
    "features_train_1, target_train_1, features_valid_1, target_valid_1 = splitting_and_scaling(geo_data_1)"
   ]
  },
  {
   "cell_type": "markdown",
   "metadata": {},
   "source": [
    "#### Обучим модель и сделаем предсказания на валидационной выборке."
   ]
  },
  {
   "cell_type": "code",
   "execution_count": 30,
   "metadata": {},
   "outputs": [
    {
     "name": "stdout",
     "output_type": "stream",
     "text": [
      "Среднее значение предсказанного сырья 68.95746560835222\n",
      "RMSE  модели 0.8947795612492039\n"
     ]
    }
   ],
   "source": [
    "predictions_1 = model_training(features_train_1, target_train_1, features_valid_1, target_valid_1)"
   ]
  },
  {
   "cell_type": "markdown",
   "metadata": {},
   "source": [
    "#### Проанализируем результаты."
   ]
  },
  {
   "cell_type": "markdown",
   "metadata": {},
   "source": [
    "RMSE у полученой модели составляет 0.89 тыс. баррелей  при среднем значении 68.95 тыс. баррелей, что очень мало - это означает, что наша модель обладает хорошей предсказательной способностью на валидационных данных"
   ]
  },
  {
   "cell_type": "markdown",
   "metadata": {},
   "source": [
    "### Третий регион"
   ]
  },
  {
   "cell_type": "markdown",
   "metadata": {},
   "source": [
    "#### Разбьем данные на обучающую и валидационную выборки в соотношении 75:25"
   ]
  },
  {
   "cell_type": "code",
   "execution_count": 31,
   "metadata": {},
   "outputs": [
    {
     "name": "stdout",
     "output_type": "stream",
     "text": [
      "Количество данных в features_train (74997, 3)\n",
      "Количество данных в features_valid (24999, 3)\n",
      "Количество данных в target_train (74997,)\n",
      "Количество данных в target_valid (24999,)\n"
     ]
    }
   ],
   "source": [
    "features_train_2, target_train_2, features_valid_2, target_valid_2 = splitting_and_scaling(geo_data_2)"
   ]
  },
  {
   "cell_type": "markdown",
   "metadata": {},
   "source": [
    "#### Обучим модель и сделаем предсказания на валидационной выборке."
   ]
  },
  {
   "cell_type": "code",
   "execution_count": 32,
   "metadata": {},
   "outputs": [
    {
     "name": "stdout",
     "output_type": "stream",
     "text": [
      "Среднее значение предсказанного сырья 95.07949668343952\n",
      "RMSE  модели 40.04155743522128\n"
     ]
    }
   ],
   "source": [
    "predictions_2 = model_training(features_train_2, target_train_2, features_valid_2, target_valid_2)"
   ]
  },
  {
   "cell_type": "markdown",
   "metadata": {},
   "source": [
    "#### Проанализируем результаты."
   ]
  },
  {
   "cell_type": "markdown",
   "metadata": {},
   "source": [
    "RMSE у полученой модели составляет 39.93 тыс. баррелей  при среднем значении 95.22 тыс. баррелей, что достаточно много - это означает, что наша модель обладает плохой предсказательной способностью на валидационных данных"
   ]
  },
  {
   "cell_type": "markdown",
   "metadata": {},
   "source": [
    "### Вывод:  \n",
    "Самое высокое среднее значение предсказанного количества нефти показано в третьем регионе - 95.22 тысячи баррелей, при этом ошибка в этом регоне составляет 39.93 тысячи баррелей, во втором регионе предсказано наименьшее среднее количество нефти, но с низкой ошибкой - 0.89 тысяч баррелей"
   ]
  },
  {
   "cell_type": "markdown",
   "metadata": {},
   "source": [
    "## Подготовка к расчёту прибыли"
   ]
  },
  {
   "cell_type": "markdown",
   "metadata": {},
   "source": [
    "### Рассчитаем достаточный объём сырья для безубыточной разработки новой скважины. Сравним полученный объём сырья со средним запасом в каждом регионе"
   ]
  },
  {
   "cell_type": "code",
   "execution_count": 33,
   "metadata": {},
   "outputs": [
    {
     "name": "stdout",
     "output_type": "stream",
     "text": [
      "Для безубыточной разработки новой скважины требуется 111.11111111111111 тысяч баррелей сырья\n"
     ]
    }
   ],
   "source": [
    "budget_one_well = BUDGET / WELL_COUNT\n",
    "volume_required = budget_one_well / ONE_THOUSAND_BARREL_COST\n",
    "print('Для безубыточной разработки новой скважины требуется', volume_required, 'тысяч баррелей сырья')"
   ]
  },
  {
   "cell_type": "code",
   "execution_count": 34,
   "metadata": {},
   "outputs": [
    {
     "name": "stdout",
     "output_type": "stream",
     "text": [
      "Средний запас сырья в 1 регионе 92.49968421774328\n",
      "Средний запас сырья в 2 регионе 68.82391591806625\n",
      "Средний запас сырья в 3 регионе 94.99834211933415\n"
     ]
    }
   ],
   "source": [
    "print('Средний запас сырья в 1 регионе', geo_data_0['product'].mean())\n",
    "print('Средний запас сырья в 2 регионе', geo_data_1['product'].mean())\n",
    "print('Средний запас сырья в 3 регионе', geo_data_2['product'].mean())"
   ]
  },
  {
   "cell_type": "markdown",
   "metadata": {},
   "source": [
    "### Вывод"
   ]
  },
  {
   "cell_type": "markdown",
   "metadata": {},
   "source": [
    "Средний запас сырья в каждом регионе меньше, чем достаточный объем сырья для безубыточной разработки новой скважины"
   ]
  },
  {
   "cell_type": "markdown",
   "metadata": {},
   "source": [
    "## Расчёт прибыли и рисков "
   ]
  },
  {
   "cell_type": "markdown",
   "metadata": {},
   "source": [
    "### Напишем функцию для расчёта прибыли по выбранным скважинам и предсказаниям модели"
   ]
  },
  {
   "cell_type": "code",
   "execution_count": 35,
   "metadata": {},
   "outputs": [],
   "source": [
    "def profit(predictions):\n",
    "    \n",
    "    return predictions.sum() * ONE_THOUSAND_BARREL_COST - BUDGET"
   ]
  },
  {
   "cell_type": "markdown",
   "metadata": {},
   "source": [
    "### Преобразуем предсказания"
   ]
  },
  {
   "cell_type": "markdown",
   "metadata": {},
   "source": [
    "Преобразуем массивы с предсказанными значениями в pd.Series, зададим соответствие индекса между предсказаниями и таргетом."
   ]
  },
  {
   "cell_type": "code",
   "execution_count": 36,
   "metadata": {},
   "outputs": [],
   "source": [
    "predictions_0 = pd.Series(predictions_0, index=target_valid_0.index)"
   ]
  },
  {
   "cell_type": "code",
   "execution_count": 37,
   "metadata": {},
   "outputs": [],
   "source": [
    "predictions_1 = pd.Series(predictions_1, index=target_valid_1.index)"
   ]
  },
  {
   "cell_type": "code",
   "execution_count": 38,
   "metadata": {},
   "outputs": [],
   "source": [
    "predictions_2 = pd.Series(predictions_2, index=target_valid_2.index)"
   ]
  },
  {
   "cell_type": "markdown",
   "metadata": {},
   "source": [
    "## Посчитаем риски и прибыль для каждого региона"
   ]
  },
  {
   "cell_type": "markdown",
   "metadata": {},
   "source": [
    "### Применим технику Bootstrap с 1000 выборок, чтобы найти распределение прибыли, найдем среднюю прибыль, 95%-й доверительный интервал и оценим вероятность убытков"
   ]
  },
  {
   "cell_type": "code",
   "execution_count": 39,
   "metadata": {},
   "outputs": [],
   "source": [
    "def mean_profit(target, predictions):\n",
    "    values = []\n",
    "    negative_profit = 0\n",
    "    for i in range(1000):\n",
    "        target_subsamle = target.sample(\n",
    "            WELLS_BOOTSTRAP, random_state=STATE, replace=True)\n",
    "        predictions_subsample = predictions[target_subsamle.index]\n",
    "        predictions_subsample_sorted = predictions_subsample.sort_values(ascending=False)\n",
    "        profit_bootstrap = profit(target_subsamle[predictions_subsample_sorted.index].head(WELL_COUNT))\n",
    "        values.append(profit_bootstrap)\n",
    "        if profit_bootstrap < 0:\n",
    "            negative_profit += 1\n",
    "        \n",
    "    values = pd.Series(values)\n",
    "    \n",
    "    mean = values.mean()\n",
    "    lower = values.quantile(0.025)\n",
    "    \n",
    "    higher = values.quantile(1 - 0.025)\n",
    "    \n",
    "    print('Среднее значение прибыли', f'{mean:,.2f}')\n",
    "    print('95% доверительный интервал: от', f'{lower:,.2f}', 'до', f'{higher:,.2f}')\n",
    "    print('Вероятность получить убытки', negative_profit/len(values))"
   ]
  },
  {
   "cell_type": "markdown",
   "metadata": {},
   "source": [
    "#### Первый регион"
   ]
  },
  {
   "cell_type": "code",
   "execution_count": 40,
   "metadata": {},
   "outputs": [
    {
     "name": "stdout",
     "output_type": "stream",
     "text": [
      "Среднее значение прибыли 420,112,554.46\n",
      "95% доверительный интервал: от -107,345,817.96 до 949,083,860.74\n",
      "Вероятность получить убытки 0.059\n"
     ]
    }
   ],
   "source": [
    "mean_profit(target_valid_0, predictions_0)"
   ]
  },
  {
   "cell_type": "markdown",
   "metadata": {},
   "source": [
    "#### Второй регион"
   ]
  },
  {
   "cell_type": "code",
   "execution_count": 41,
   "metadata": {},
   "outputs": [
    {
     "name": "stdout",
     "output_type": "stream",
     "text": [
      "Среднее значение прибыли 496,093,028.16\n",
      "95% доверительный интервал: от 59,603,895.24 до 919,393,743.86\n",
      "Вероятность получить убытки 0.007\n"
     ]
    }
   ],
   "source": [
    "mean_profit(target_valid_1, predictions_1)"
   ]
  },
  {
   "cell_type": "markdown",
   "metadata": {},
   "source": [
    "#### Третий регион"
   ]
  },
  {
   "cell_type": "code",
   "execution_count": 42,
   "metadata": {},
   "outputs": [
    {
     "name": "stdout",
     "output_type": "stream",
     "text": [
      "Среднее значение прибыли 474,838,380.25\n",
      "95% доверительный интервал: от -80,474,912.24 до 985,944,264.60\n",
      "Вероятность получить убытки 0.043\n"
     ]
    }
   ],
   "source": [
    "mean_profit(target_valid_2, predictions_2)"
   ]
  },
  {
   "cell_type": "markdown",
   "metadata": {},
   "source": [
    "## Выводы"
   ]
  },
  {
   "cell_type": "markdown",
   "metadata": {},
   "source": [
    "Исходя из условия, что регионы с вероятностью убытков выше 2,5%, то для разработки подходит только второй вегион, в нём вероятность убытков составляет 0.4%, среднее значение прибыли 496,093,028.16 рублей.  "
   ]
  }
 ],
 "metadata": {
  "ExecuteTimeLog": [
   {
    "duration": 429,
    "start_time": "2022-07-21T19:02:04.332Z"
   },
   {
    "duration": 368,
    "start_time": "2022-07-21T19:02:05.820Z"
   },
   {
    "duration": 191,
    "start_time": "2022-07-21T19:02:06.257Z"
   },
   {
    "duration": 200,
    "start_time": "2022-07-21T19:02:06.948Z"
   },
   {
    "duration": 15,
    "start_time": "2022-07-21T19:02:14.805Z"
   },
   {
    "duration": 13,
    "start_time": "2022-07-21T19:02:21.424Z"
   },
   {
    "duration": 9,
    "start_time": "2022-07-21T19:02:28.516Z"
   },
   {
    "duration": 8,
    "start_time": "2022-07-21T19:02:37.804Z"
   },
   {
    "duration": 15,
    "start_time": "2022-07-21T19:04:04.917Z"
   },
   {
    "duration": 15,
    "start_time": "2022-07-21T19:04:14.439Z"
   },
   {
    "duration": 14,
    "start_time": "2022-07-21T19:04:19.640Z"
   },
   {
    "duration": 38,
    "start_time": "2022-07-21T19:04:50.990Z"
   },
   {
    "duration": 43,
    "start_time": "2022-07-21T19:05:42.627Z"
   },
   {
    "duration": 35,
    "start_time": "2022-07-21T19:05:51.759Z"
   },
   {
    "duration": 50,
    "start_time": "2022-07-21T19:07:11.392Z"
   },
   {
    "duration": 49,
    "start_time": "2022-07-21T19:07:14.828Z"
   },
   {
    "duration": 43,
    "start_time": "2022-07-21T19:07:19.543Z"
   },
   {
    "duration": 6,
    "start_time": "2022-07-21T19:15:11.535Z"
   },
   {
    "duration": 7,
    "start_time": "2022-07-21T19:15:32.339Z"
   },
   {
    "duration": 8,
    "start_time": "2022-07-21T19:15:32.639Z"
   },
   {
    "duration": 4,
    "start_time": "2022-07-21T19:25:56.020Z"
   },
   {
    "duration": 590,
    "start_time": "2022-07-21T19:27:18.649Z"
   },
   {
    "duration": 15,
    "start_time": "2022-07-21T19:27:22.452Z"
   },
   {
    "duration": 89,
    "start_time": "2022-07-21T19:28:21.801Z"
   },
   {
    "duration": 4,
    "start_time": "2022-07-21T19:28:33.360Z"
   },
   {
    "duration": 4,
    "start_time": "2022-07-21T19:31:42.540Z"
   },
   {
    "duration": 21,
    "start_time": "2022-07-21T19:31:47.380Z"
   },
   {
    "duration": 26,
    "start_time": "2022-07-21T19:32:01.769Z"
   },
   {
    "duration": 24,
    "start_time": "2022-07-21T19:33:30.669Z"
   },
   {
    "duration": 13,
    "start_time": "2022-07-21T19:34:38.060Z"
   },
   {
    "duration": 3,
    "start_time": "2022-07-21T19:34:42.471Z"
   },
   {
    "duration": 3,
    "start_time": "2022-07-21T19:37:55.912Z"
   },
   {
    "duration": 13,
    "start_time": "2022-07-21T19:38:18.631Z"
   },
   {
    "duration": 6,
    "start_time": "2022-07-21T19:39:27.127Z"
   },
   {
    "duration": 5,
    "start_time": "2022-07-21T19:41:00.936Z"
   },
   {
    "duration": 9,
    "start_time": "2022-07-21T19:42:57.048Z"
   },
   {
    "duration": 2,
    "start_time": "2022-07-21T19:43:13.763Z"
   },
   {
    "duration": 6,
    "start_time": "2022-07-21T19:43:18.078Z"
   },
   {
    "duration": 4,
    "start_time": "2022-07-21T19:46:19.651Z"
   },
   {
    "duration": 13,
    "start_time": "2022-07-21T19:46:35.653Z"
   },
   {
    "duration": 3,
    "start_time": "2022-07-21T19:46:45.606Z"
   },
   {
    "duration": 19,
    "start_time": "2022-07-21T19:47:02.419Z"
   },
   {
    "duration": 30,
    "start_time": "2022-07-21T19:47:07.068Z"
   },
   {
    "duration": 9,
    "start_time": "2022-07-21T19:47:20.679Z"
   },
   {
    "duration": 2,
    "start_time": "2022-07-21T19:47:23.026Z"
   },
   {
    "duration": 12,
    "start_time": "2022-07-21T19:47:23.541Z"
   },
   {
    "duration": 7,
    "start_time": "2022-07-21T19:47:32.091Z"
   },
   {
    "duration": 5,
    "start_time": "2022-07-21T19:47:42.327Z"
   },
   {
    "duration": 4,
    "start_time": "2022-07-21T19:47:43.371Z"
   },
   {
    "duration": 5,
    "start_time": "2022-07-21T19:47:44.731Z"
   },
   {
    "duration": 4,
    "start_time": "2022-07-21T19:48:29.461Z"
   },
   {
    "duration": 13,
    "start_time": "2022-07-21T19:48:42.202Z"
   },
   {
    "duration": 4,
    "start_time": "2022-07-21T19:48:48.996Z"
   },
   {
    "duration": 22,
    "start_time": "2022-07-21T19:49:02.460Z"
   },
   {
    "duration": 26,
    "start_time": "2022-07-21T19:49:07.958Z"
   },
   {
    "duration": 3,
    "start_time": "2022-07-21T19:49:19.672Z"
   },
   {
    "duration": 13,
    "start_time": "2022-07-21T19:49:26.193Z"
   },
   {
    "duration": 5,
    "start_time": "2022-07-21T19:49:38.064Z"
   },
   {
    "duration": 4,
    "start_time": "2022-07-21T19:49:42.476Z"
   },
   {
    "duration": 6,
    "start_time": "2022-07-21T19:49:47.399Z"
   },
   {
    "duration": 2,
    "start_time": "2022-07-21T19:53:22.831Z"
   },
   {
    "duration": 132,
    "start_time": "2022-07-21T19:53:23.153Z"
   },
   {
    "duration": 130,
    "start_time": "2022-07-21T19:53:23.335Z"
   },
   {
    "duration": 124,
    "start_time": "2022-07-21T19:53:23.735Z"
   },
   {
    "duration": 9,
    "start_time": "2022-07-21T19:53:24.154Z"
   },
   {
    "duration": 10,
    "start_time": "2022-07-21T19:53:25.150Z"
   },
   {
    "duration": 9,
    "start_time": "2022-07-21T19:53:25.528Z"
   },
   {
    "duration": 16,
    "start_time": "2022-07-21T19:53:27.218Z"
   },
   {
    "duration": 15,
    "start_time": "2022-07-21T19:53:28.627Z"
   },
   {
    "duration": 14,
    "start_time": "2022-07-21T19:53:29.275Z"
   },
   {
    "duration": 35,
    "start_time": "2022-07-21T19:53:30.299Z"
   },
   {
    "duration": 38,
    "start_time": "2022-07-21T19:53:35.390Z"
   },
   {
    "duration": 34,
    "start_time": "2022-07-21T19:53:38.107Z"
   },
   {
    "duration": 44,
    "start_time": "2022-07-21T19:53:39.691Z"
   },
   {
    "duration": 48,
    "start_time": "2022-07-21T19:53:42.666Z"
   },
   {
    "duration": 43,
    "start_time": "2022-07-21T19:53:43.104Z"
   },
   {
    "duration": 4,
    "start_time": "2022-07-21T19:53:43.998Z"
   },
   {
    "duration": 6,
    "start_time": "2022-07-21T19:53:44.251Z"
   },
   {
    "duration": 6,
    "start_time": "2022-07-21T19:53:44.582Z"
   },
   {
    "duration": 4,
    "start_time": "2022-07-21T19:53:46.747Z"
   },
   {
    "duration": 11,
    "start_time": "2022-07-21T19:53:47.841Z"
   },
   {
    "duration": 3,
    "start_time": "2022-07-21T19:53:48.633Z"
   },
   {
    "duration": 3,
    "start_time": "2022-07-21T19:53:58.285Z"
   },
   {
    "duration": 11,
    "start_time": "2022-07-21T19:53:58.680Z"
   },
   {
    "duration": 9,
    "start_time": "2022-07-21T19:53:59.547Z"
   },
   {
    "duration": 4,
    "start_time": "2022-07-21T19:54:00.762Z"
   },
   {
    "duration": 5,
    "start_time": "2022-07-21T19:54:01.470Z"
   },
   {
    "duration": 4,
    "start_time": "2022-07-21T19:54:09.136Z"
   },
   {
    "duration": 10,
    "start_time": "2022-07-21T19:54:09.616Z"
   },
   {
    "duration": 4,
    "start_time": "2022-07-21T19:54:11.175Z"
   },
   {
    "duration": 3,
    "start_time": "2022-07-21T19:54:19.404Z"
   },
   {
    "duration": 11,
    "start_time": "2022-07-21T19:54:21.218Z"
   },
   {
    "duration": 5,
    "start_time": "2022-07-21T19:54:23.835Z"
   },
   {
    "duration": 4,
    "start_time": "2022-07-21T19:54:24.574Z"
   },
   {
    "duration": 5,
    "start_time": "2022-07-21T19:54:24.985Z"
   },
   {
    "duration": 5,
    "start_time": "2022-07-21T19:54:29.097Z"
   },
   {
    "duration": 10,
    "start_time": "2022-07-21T19:54:29.501Z"
   },
   {
    "duration": 4,
    "start_time": "2022-07-21T19:54:30.752Z"
   },
   {
    "duration": 27,
    "start_time": "2022-07-21T19:54:36.525Z"
   },
   {
    "duration": 3,
    "start_time": "2022-07-21T19:54:37.412Z"
   },
   {
    "duration": 11,
    "start_time": "2022-07-21T19:54:38.717Z"
   },
   {
    "duration": 7,
    "start_time": "2022-07-21T19:54:40.767Z"
   },
   {
    "duration": 4,
    "start_time": "2022-07-21T19:54:41.444Z"
   },
   {
    "duration": 5,
    "start_time": "2022-07-21T19:54:41.831Z"
   },
   {
    "duration": 1186,
    "start_time": "2022-07-22T19:43:07.944Z"
   },
   {
    "duration": 365,
    "start_time": "2022-07-22T19:43:09.132Z"
   },
   {
    "duration": 237,
    "start_time": "2022-07-22T19:43:09.499Z"
   },
   {
    "duration": 198,
    "start_time": "2022-07-22T19:43:09.738Z"
   },
   {
    "duration": 16,
    "start_time": "2022-07-22T19:43:09.937Z"
   },
   {
    "duration": 9,
    "start_time": "2022-07-22T19:43:09.954Z"
   },
   {
    "duration": 11,
    "start_time": "2022-07-22T19:43:09.964Z"
   },
   {
    "duration": 15,
    "start_time": "2022-07-22T19:43:10.417Z"
   },
   {
    "duration": 14,
    "start_time": "2022-07-22T19:43:10.509Z"
   },
   {
    "duration": 14,
    "start_time": "2022-07-22T19:43:10.586Z"
   },
   {
    "duration": 47,
    "start_time": "2022-07-22T19:43:10.980Z"
   },
   {
    "duration": 39,
    "start_time": "2022-07-22T19:43:11.167Z"
   },
   {
    "duration": 36,
    "start_time": "2022-07-22T19:43:11.419Z"
   },
   {
    "duration": 51,
    "start_time": "2022-07-22T19:43:12.523Z"
   },
   {
    "duration": 50,
    "start_time": "2022-07-22T19:43:12.959Z"
   },
   {
    "duration": 48,
    "start_time": "2022-07-22T19:43:13.290Z"
   },
   {
    "duration": 8,
    "start_time": "2022-07-22T19:43:13.920Z"
   },
   {
    "duration": 5,
    "start_time": "2022-07-22T19:43:14.323Z"
   },
   {
    "duration": 9,
    "start_time": "2022-07-22T19:43:14.745Z"
   },
   {
    "duration": 6,
    "start_time": "2022-07-22T19:43:16.886Z"
   },
   {
    "duration": 16,
    "start_time": "2022-07-22T19:43:17.787Z"
   },
   {
    "duration": 3,
    "start_time": "2022-07-22T19:43:18.407Z"
   },
   {
    "duration": 25,
    "start_time": "2022-07-22T19:43:20.285Z"
   },
   {
    "duration": 3,
    "start_time": "2022-07-22T19:43:22.039Z"
   },
   {
    "duration": 13,
    "start_time": "2022-07-22T19:43:23.157Z"
   },
   {
    "duration": 8,
    "start_time": "2022-07-22T19:43:24.043Z"
   },
   {
    "duration": 5,
    "start_time": "2022-07-22T19:43:24.555Z"
   },
   {
    "duration": 10,
    "start_time": "2022-07-22T19:43:25.130Z"
   },
   {
    "duration": 5,
    "start_time": "2022-07-22T19:43:35.363Z"
   },
   {
    "duration": 13,
    "start_time": "2022-07-22T19:43:37.738Z"
   },
   {
    "duration": 5,
    "start_time": "2022-07-22T19:43:39.840Z"
   },
   {
    "duration": 28,
    "start_time": "2022-07-22T19:43:46.536Z"
   },
   {
    "duration": 3,
    "start_time": "2022-07-22T19:43:47.479Z"
   },
   {
    "duration": 11,
    "start_time": "2022-07-22T19:43:47.853Z"
   },
   {
    "duration": 7,
    "start_time": "2022-07-22T19:43:48.790Z"
   },
   {
    "duration": 5,
    "start_time": "2022-07-22T19:43:49.714Z"
   },
   {
    "duration": 5,
    "start_time": "2022-07-22T19:43:53.139Z"
   },
   {
    "duration": 5,
    "start_time": "2022-07-22T19:43:59.813Z"
   },
   {
    "duration": 12,
    "start_time": "2022-07-22T19:44:00.405Z"
   },
   {
    "duration": 4,
    "start_time": "2022-07-22T19:44:01.410Z"
   },
   {
    "duration": 33,
    "start_time": "2022-07-22T19:44:04.537Z"
   },
   {
    "duration": 2,
    "start_time": "2022-07-22T19:44:06.285Z"
   },
   {
    "duration": 14,
    "start_time": "2022-07-22T19:44:07.339Z"
   },
   {
    "duration": 9,
    "start_time": "2022-07-22T19:44:08.818Z"
   },
   {
    "duration": 4,
    "start_time": "2022-07-22T19:44:11.059Z"
   },
   {
    "duration": 5,
    "start_time": "2022-07-22T19:44:16.859Z"
   },
   {
    "duration": 3,
    "start_time": "2022-07-22T19:50:51.172Z"
   },
   {
    "duration": 2,
    "start_time": "2022-07-22T19:52:12.514Z"
   },
   {
    "duration": 2,
    "start_time": "2022-07-22T19:52:24.313Z"
   },
   {
    "duration": 3,
    "start_time": "2022-07-22T19:54:10.341Z"
   },
   {
    "duration": 3,
    "start_time": "2022-07-22T20:02:57.116Z"
   },
   {
    "duration": 3,
    "start_time": "2022-07-22T20:03:53.243Z"
   },
   {
    "duration": 4,
    "start_time": "2022-07-22T20:04:01.770Z"
   },
   {
    "duration": 4,
    "start_time": "2022-07-22T20:06:13.257Z"
   },
   {
    "duration": 1153,
    "start_time": "2022-07-24T06:50:30.187Z"
   },
   {
    "duration": 142,
    "start_time": "2022-07-24T06:50:31.342Z"
   },
   {
    "duration": 120,
    "start_time": "2022-07-24T06:50:31.486Z"
   },
   {
    "duration": 120,
    "start_time": "2022-07-24T06:50:31.608Z"
   },
   {
    "duration": 17,
    "start_time": "2022-07-24T06:50:31.935Z"
   },
   {
    "duration": 9,
    "start_time": "2022-07-24T06:50:32.015Z"
   },
   {
    "duration": 10,
    "start_time": "2022-07-24T06:50:32.107Z"
   },
   {
    "duration": 16,
    "start_time": "2022-07-24T06:50:32.360Z"
   },
   {
    "duration": 15,
    "start_time": "2022-07-24T06:50:32.441Z"
   },
   {
    "duration": 14,
    "start_time": "2022-07-24T06:50:32.645Z"
   },
   {
    "duration": 39,
    "start_time": "2022-07-24T06:50:34.270Z"
   },
   {
    "duration": 37,
    "start_time": "2022-07-24T06:50:35.101Z"
   },
   {
    "duration": 35,
    "start_time": "2022-07-24T06:50:35.604Z"
   },
   {
    "duration": 51,
    "start_time": "2022-07-24T06:50:35.767Z"
   },
   {
    "duration": 47,
    "start_time": "2022-07-24T06:50:35.847Z"
   },
   {
    "duration": 52,
    "start_time": "2022-07-24T06:50:35.934Z"
   },
   {
    "duration": 6,
    "start_time": "2022-07-24T06:50:37.444Z"
   },
   {
    "duration": 7,
    "start_time": "2022-07-24T06:50:37.946Z"
   },
   {
    "duration": 6,
    "start_time": "2022-07-24T06:50:38.034Z"
   },
   {
    "duration": 4,
    "start_time": "2022-07-24T06:50:38.365Z"
   },
   {
    "duration": 14,
    "start_time": "2022-07-24T06:50:38.444Z"
   },
   {
    "duration": 3,
    "start_time": "2022-07-24T06:50:38.616Z"
   },
   {
    "duration": 30,
    "start_time": "2022-07-24T06:50:38.868Z"
   },
   {
    "duration": 3,
    "start_time": "2022-07-24T06:50:39.031Z"
   },
   {
    "duration": 13,
    "start_time": "2022-07-24T06:50:39.124Z"
   },
   {
    "duration": 8,
    "start_time": "2022-07-24T06:50:39.280Z"
   },
   {
    "duration": 4,
    "start_time": "2022-07-24T06:50:39.495Z"
   },
   {
    "duration": 5,
    "start_time": "2022-07-24T06:50:39.538Z"
   },
   {
    "duration": 5,
    "start_time": "2022-07-24T06:50:40.040Z"
   },
   {
    "duration": 16,
    "start_time": "2022-07-24T06:50:40.121Z"
   },
   {
    "duration": 4,
    "start_time": "2022-07-24T06:50:40.293Z"
   },
   {
    "duration": 29,
    "start_time": "2022-07-24T06:50:40.546Z"
   },
   {
    "duration": 3,
    "start_time": "2022-07-24T06:50:40.712Z"
   },
   {
    "duration": 13,
    "start_time": "2022-07-24T06:50:40.797Z"
   },
   {
    "duration": 8,
    "start_time": "2022-07-24T06:50:40.964Z"
   },
   {
    "duration": 4,
    "start_time": "2022-07-24T06:50:41.135Z"
   },
   {
    "duration": 6,
    "start_time": "2022-07-24T06:50:41.221Z"
   },
   {
    "duration": 5,
    "start_time": "2022-07-24T06:50:41.718Z"
   },
   {
    "duration": 13,
    "start_time": "2022-07-24T06:50:41.804Z"
   },
   {
    "duration": 4,
    "start_time": "2022-07-24T06:50:41.970Z"
   },
   {
    "duration": 28,
    "start_time": "2022-07-24T06:50:42.223Z"
   },
   {
    "duration": 3,
    "start_time": "2022-07-24T06:50:42.390Z"
   },
   {
    "duration": 12,
    "start_time": "2022-07-24T06:50:42.472Z"
   },
   {
    "duration": 8,
    "start_time": "2022-07-24T06:50:42.637Z"
   },
   {
    "duration": 5,
    "start_time": "2022-07-24T06:50:42.807Z"
   },
   {
    "duration": 5,
    "start_time": "2022-07-24T06:50:43.052Z"
   },
   {
    "duration": 2,
    "start_time": "2022-07-24T06:53:21.002Z"
   },
   {
    "duration": 4,
    "start_time": "2022-07-24T06:54:08.115Z"
   },
   {
    "duration": 4,
    "start_time": "2022-07-24T06:55:38.370Z"
   },
   {
    "duration": 99,
    "start_time": "2022-07-24T06:56:26.367Z"
   },
   {
    "duration": 6,
    "start_time": "2022-07-24T06:56:35.174Z"
   },
   {
    "duration": 11,
    "start_time": "2022-07-24T07:02:42.934Z"
   },
   {
    "duration": 4,
    "start_time": "2022-07-24T07:02:51.294Z"
   },
   {
    "duration": 10,
    "start_time": "2022-07-24T07:03:01.638Z"
   },
   {
    "duration": 4,
    "start_time": "2022-07-24T07:03:38.399Z"
   },
   {
    "duration": 3,
    "start_time": "2022-07-24T07:04:08.387Z"
   },
   {
    "duration": 10,
    "start_time": "2022-07-24T07:04:26.731Z"
   },
   {
    "duration": 3,
    "start_time": "2022-07-24T07:04:32.795Z"
   },
   {
    "duration": 3,
    "start_time": "2022-07-24T07:04:37.213Z"
   },
   {
    "duration": 3,
    "start_time": "2022-07-24T07:04:44.672Z"
   },
   {
    "duration": 7,
    "start_time": "2022-07-24T07:05:40.136Z"
   },
   {
    "duration": 3,
    "start_time": "2022-07-24T07:05:44.694Z"
   },
   {
    "duration": 3,
    "start_time": "2022-07-24T07:05:45.090Z"
   },
   {
    "duration": 5,
    "start_time": "2022-07-24T07:06:06.720Z"
   },
   {
    "duration": 5,
    "start_time": "2022-07-24T07:06:33.476Z"
   },
   {
    "duration": 9,
    "start_time": "2022-07-24T07:07:00.921Z"
   },
   {
    "duration": 6,
    "start_time": "2022-07-24T07:08:33.631Z"
   },
   {
    "duration": 5,
    "start_time": "2022-07-24T07:08:35.091Z"
   },
   {
    "duration": 5,
    "start_time": "2022-07-24T07:08:36.175Z"
   },
   {
    "duration": 5,
    "start_time": "2022-07-24T07:08:47.714Z"
   },
   {
    "duration": 4,
    "start_time": "2022-07-24T07:08:51.585Z"
   },
   {
    "duration": 4,
    "start_time": "2022-07-24T07:08:55.834Z"
   },
   {
    "duration": 5,
    "start_time": "2022-07-24T07:08:58.932Z"
   },
   {
    "duration": 4,
    "start_time": "2022-07-24T07:10:14.377Z"
   },
   {
    "duration": 5,
    "start_time": "2022-07-24T07:10:15.404Z"
   },
   {
    "duration": 4,
    "start_time": "2022-07-24T07:11:02.080Z"
   },
   {
    "duration": 5,
    "start_time": "2022-07-24T07:11:04.616Z"
   },
   {
    "duration": 3,
    "start_time": "2022-07-24T07:11:38.378Z"
   },
   {
    "duration": 5,
    "start_time": "2022-07-24T07:11:52.130Z"
   },
   {
    "duration": 5,
    "start_time": "2022-07-24T07:11:53.580Z"
   },
   {
    "duration": 4,
    "start_time": "2022-07-24T07:11:56.266Z"
   },
   {
    "duration": 4,
    "start_time": "2022-07-24T07:12:01.564Z"
   },
   {
    "duration": 4,
    "start_time": "2022-07-24T07:12:05.244Z"
   },
   {
    "duration": 77,
    "start_time": "2022-07-24T07:17:25.380Z"
   },
   {
    "duration": 5,
    "start_time": "2022-07-24T07:17:32.759Z"
   },
   {
    "duration": 5,
    "start_time": "2022-07-24T07:17:35.203Z"
   },
   {
    "duration": 5,
    "start_time": "2022-07-24T07:19:01.233Z"
   },
   {
    "duration": 4,
    "start_time": "2022-07-24T07:19:10.894Z"
   },
   {
    "duration": 5,
    "start_time": "2022-07-24T07:19:16.695Z"
   },
   {
    "duration": 3,
    "start_time": "2022-07-24T07:20:08.809Z"
   },
   {
    "duration": 3,
    "start_time": "2022-07-24T07:20:41.596Z"
   },
   {
    "duration": 4,
    "start_time": "2022-07-24T07:20:42.240Z"
   },
   {
    "duration": 4,
    "start_time": "2022-07-24T07:20:48.515Z"
   },
   {
    "duration": 3,
    "start_time": "2022-07-24T07:22:13.514Z"
   },
   {
    "duration": 3,
    "start_time": "2022-07-24T07:22:34.736Z"
   },
   {
    "duration": 4,
    "start_time": "2022-07-24T07:30:38.926Z"
   },
   {
    "duration": 3,
    "start_time": "2022-07-24T07:30:47.181Z"
   },
   {
    "duration": 3,
    "start_time": "2022-07-24T07:30:47.823Z"
   },
   {
    "duration": 3,
    "start_time": "2022-07-24T07:35:01.014Z"
   },
   {
    "duration": 5,
    "start_time": "2022-07-24T07:35:04.147Z"
   },
   {
    "duration": 4,
    "start_time": "2022-07-24T07:35:06.376Z"
   },
   {
    "duration": 4,
    "start_time": "2022-07-24T07:35:07.351Z"
   },
   {
    "duration": 5,
    "start_time": "2022-07-24T07:35:08.604Z"
   },
   {
    "duration": 4,
    "start_time": "2022-07-24T07:35:12.939Z"
   },
   {
    "duration": 5,
    "start_time": "2022-07-24T07:35:20.193Z"
   },
   {
    "duration": 4,
    "start_time": "2022-07-24T07:35:20.462Z"
   },
   {
    "duration": 3,
    "start_time": "2022-07-24T07:35:41.673Z"
   },
   {
    "duration": 3,
    "start_time": "2022-07-24T07:36:01.355Z"
   },
   {
    "duration": 3,
    "start_time": "2022-07-24T07:36:01.868Z"
   },
   {
    "duration": 11,
    "start_time": "2022-07-24T07:46:28.842Z"
   },
   {
    "duration": 16,
    "start_time": "2022-07-24T07:47:16.271Z"
   },
   {
    "duration": 6,
    "start_time": "2022-07-24T07:47:17.971Z"
   },
   {
    "duration": 7,
    "start_time": "2022-07-24T07:47:18.290Z"
   },
   {
    "duration": 3,
    "start_time": "2022-07-24T07:47:45.760Z"
   },
   {
    "duration": 8,
    "start_time": "2022-07-24T07:47:57.516Z"
   },
   {
    "duration": 11,
    "start_time": "2022-07-24T07:48:05.097Z"
   },
   {
    "duration": 10,
    "start_time": "2022-07-24T07:48:18.516Z"
   },
   {
    "duration": 7,
    "start_time": "2022-07-24T07:48:43.331Z"
   },
   {
    "duration": 5,
    "start_time": "2022-07-24T07:48:51.325Z"
   },
   {
    "duration": 8,
    "start_time": "2022-07-24T07:49:15.354Z"
   },
   {
    "duration": 7,
    "start_time": "2022-07-24T07:49:33.833Z"
   },
   {
    "duration": 4,
    "start_time": "2022-07-24T07:49:37.855Z"
   },
   {
    "duration": 4,
    "start_time": "2022-07-24T07:49:38.410Z"
   },
   {
    "duration": 6,
    "start_time": "2022-07-24T07:49:39.057Z"
   },
   {
    "duration": 3,
    "start_time": "2022-07-24T07:49:42.609Z"
   },
   {
    "duration": 3,
    "start_time": "2022-07-24T07:49:42.921Z"
   },
   {
    "duration": 4,
    "start_time": "2022-07-24T07:49:43.289Z"
   },
   {
    "duration": 4,
    "start_time": "2022-07-24T07:49:47.587Z"
   },
   {
    "duration": 165,
    "start_time": "2022-07-24T07:49:47.971Z"
   },
   {
    "duration": 199,
    "start_time": "2022-07-24T08:02:58.235Z"
   },
   {
    "duration": 166,
    "start_time": "2022-07-24T08:03:13.107Z"
   },
   {
    "duration": 206,
    "start_time": "2022-07-24T08:04:06.364Z"
   },
   {
    "duration": 8,
    "start_time": "2022-07-24T08:04:53.732Z"
   },
   {
    "duration": 191,
    "start_time": "2022-07-24T08:05:25.830Z"
   },
   {
    "duration": 233,
    "start_time": "2022-07-24T08:06:24.820Z"
   },
   {
    "duration": 222,
    "start_time": "2022-07-24T08:06:34.155Z"
   },
   {
    "duration": 182,
    "start_time": "2022-07-24T08:08:32.461Z"
   },
   {
    "duration": 180,
    "start_time": "2022-07-24T08:09:18.185Z"
   },
   {
    "duration": 633,
    "start_time": "2022-07-24T08:17:32.011Z"
   },
   {
    "duration": 8,
    "start_time": "2022-07-24T08:17:54.316Z"
   },
   {
    "duration": 9,
    "start_time": "2022-07-24T08:18:02.021Z"
   },
   {
    "duration": 3130,
    "start_time": "2022-07-24T08:18:48.545Z"
   },
   {
    "duration": 8,
    "start_time": "2022-07-24T08:18:51.678Z"
   },
   {
    "duration": 3,
    "start_time": "2022-07-24T09:12:33.748Z"
   },
   {
    "duration": 4,
    "start_time": "2022-07-24T09:12:34.886Z"
   },
   {
    "duration": 3,
    "start_time": "2022-07-24T09:12:45.719Z"
   },
   {
    "duration": 5,
    "start_time": "2022-07-24T09:12:47.552Z"
   },
   {
    "duration": 673,
    "start_time": "2022-07-24T09:13:04.763Z"
   },
   {
    "duration": 9,
    "start_time": "2022-07-24T09:13:07.919Z"
   },
   {
    "duration": 8,
    "start_time": "2022-07-24T09:17:55.206Z"
   },
   {
    "duration": 165,
    "start_time": "2022-07-24T09:19:47.307Z"
   },
   {
    "duration": 9,
    "start_time": "2022-07-24T09:19:50.158Z"
   },
   {
    "duration": 232,
    "start_time": "2022-07-24T09:21:56.393Z"
   },
   {
    "duration": 172,
    "start_time": "2022-07-24T09:22:19.231Z"
   },
   {
    "duration": 9,
    "start_time": "2022-07-24T09:50:19.311Z"
   },
   {
    "duration": 214,
    "start_time": "2022-07-24T09:54:40.007Z"
   },
   {
    "duration": 182,
    "start_time": "2022-07-24T09:58:08.131Z"
   },
   {
    "duration": 189,
    "start_time": "2022-07-24T10:04:42.491Z"
   },
   {
    "duration": 185,
    "start_time": "2022-07-24T10:04:54.204Z"
   },
   {
    "duration": 192,
    "start_time": "2022-07-24T10:05:06.089Z"
   },
   {
    "duration": 171,
    "start_time": "2022-07-24T10:05:33.329Z"
   },
   {
    "duration": 11,
    "start_time": "2022-07-24T10:06:53.017Z"
   },
   {
    "duration": 9,
    "start_time": "2022-07-24T10:07:03.241Z"
   },
   {
    "duration": 8,
    "start_time": "2022-07-24T10:07:12.945Z"
   },
   {
    "duration": 181,
    "start_time": "2022-07-24T10:10:38.444Z"
   },
   {
    "duration": 4,
    "start_time": "2022-07-24T10:12:28.952Z"
   },
   {
    "duration": 3,
    "start_time": "2022-07-24T10:12:33.881Z"
   },
   {
    "duration": 4,
    "start_time": "2022-07-24T10:12:38.645Z"
   },
   {
    "duration": 72,
    "start_time": "2022-07-24T10:14:33.960Z"
   },
   {
    "duration": 22,
    "start_time": "2022-07-24T10:14:34.655Z"
   },
   {
    "duration": 27,
    "start_time": "2022-07-24T10:14:37.805Z"
   },
   {
    "duration": 2,
    "start_time": "2022-07-24T10:14:41.466Z"
   },
   {
    "duration": 12,
    "start_time": "2022-07-24T10:14:43.153Z"
   },
   {
    "duration": 18,
    "start_time": "2022-07-24T10:14:46.226Z"
   },
   {
    "duration": 5,
    "start_time": "2022-07-24T10:14:47.091Z"
   },
   {
    "duration": 5,
    "start_time": "2022-07-24T10:14:47.773Z"
   },
   {
    "duration": 5,
    "start_time": "2022-07-24T10:29:56.635Z"
   },
   {
    "duration": 5,
    "start_time": "2022-07-24T10:30:28.980Z"
   },
   {
    "duration": 11,
    "start_time": "2022-07-24T10:32:52.179Z"
   },
   {
    "duration": 9,
    "start_time": "2022-07-24T10:33:03.435Z"
   },
   {
    "duration": 9,
    "start_time": "2022-07-24T10:33:07.890Z"
   },
   {
    "duration": 11,
    "start_time": "2022-07-24T10:33:56.195Z"
   },
   {
    "duration": 9,
    "start_time": "2022-07-24T11:29:02.715Z"
   },
   {
    "duration": 9,
    "start_time": "2022-07-24T11:29:20.479Z"
   },
   {
    "duration": 11,
    "start_time": "2022-07-24T11:29:24.256Z"
   },
   {
    "duration": 5,
    "start_time": "2022-07-24T11:29:31.398Z"
   },
   {
    "duration": 4,
    "start_time": "2022-07-24T11:29:43.247Z"
   },
   {
    "duration": 4,
    "start_time": "2022-07-24T11:29:52.553Z"
   },
   {
    "duration": 4,
    "start_time": "2022-07-24T11:38:31.765Z"
   },
   {
    "duration": 6,
    "start_time": "2022-07-24T11:38:42.106Z"
   },
   {
    "duration": 5,
    "start_time": "2022-07-24T11:38:53.450Z"
   },
   {
    "duration": 7,
    "start_time": "2022-07-24T11:39:06.976Z"
   },
   {
    "duration": 5,
    "start_time": "2022-07-24T11:39:22.318Z"
   },
   {
    "duration": 3,
    "start_time": "2022-07-24T11:47:23.569Z"
   },
   {
    "duration": 5,
    "start_time": "2022-07-24T11:47:46.500Z"
   },
   {
    "duration": 6,
    "start_time": "2022-07-24T11:47:48.334Z"
   },
   {
    "duration": 2,
    "start_time": "2022-07-24T11:48:57.454Z"
   },
   {
    "duration": 6,
    "start_time": "2022-07-24T11:49:21.053Z"
   },
   {
    "duration": 8,
    "start_time": "2022-07-24T11:49:23.052Z"
   },
   {
    "duration": 6,
    "start_time": "2022-07-24T11:49:26.180Z"
   },
   {
    "duration": 6,
    "start_time": "2022-07-24T11:49:36.979Z"
   },
   {
    "duration": 5,
    "start_time": "2022-07-24T11:49:37.934Z"
   },
   {
    "duration": 5,
    "start_time": "2022-07-24T11:49:38.749Z"
   },
   {
    "duration": 3,
    "start_time": "2022-07-24T11:50:40.417Z"
   },
   {
    "duration": 5,
    "start_time": "2022-07-24T11:50:47.295Z"
   },
   {
    "duration": 3,
    "start_time": "2022-07-24T11:50:53.115Z"
   },
   {
    "duration": 3,
    "start_time": "2022-07-24T11:52:19.973Z"
   },
   {
    "duration": 1114,
    "start_time": "2022-07-24T12:00:53.467Z"
   },
   {
    "duration": 217,
    "start_time": "2022-07-24T12:00:54.583Z"
   },
   {
    "duration": 123,
    "start_time": "2022-07-24T12:00:54.802Z"
   },
   {
    "duration": 126,
    "start_time": "2022-07-24T12:00:54.927Z"
   },
   {
    "duration": 18,
    "start_time": "2022-07-24T12:00:55.054Z"
   },
   {
    "duration": 9,
    "start_time": "2022-07-24T12:00:55.074Z"
   },
   {
    "duration": 29,
    "start_time": "2022-07-24T12:00:55.084Z"
   },
   {
    "duration": 18,
    "start_time": "2022-07-24T12:00:55.115Z"
   },
   {
    "duration": 15,
    "start_time": "2022-07-24T12:00:55.135Z"
   },
   {
    "duration": 15,
    "start_time": "2022-07-24T12:00:55.153Z"
   },
   {
    "duration": 64,
    "start_time": "2022-07-24T12:00:55.169Z"
   },
   {
    "duration": 38,
    "start_time": "2022-07-24T12:00:55.235Z"
   },
   {
    "duration": 55,
    "start_time": "2022-07-24T12:00:55.274Z"
   },
   {
    "duration": 53,
    "start_time": "2022-07-24T12:00:55.331Z"
   },
   {
    "duration": 68,
    "start_time": "2022-07-24T12:00:55.386Z"
   },
   {
    "duration": 61,
    "start_time": "2022-07-24T12:00:55.456Z"
   },
   {
    "duration": 6,
    "start_time": "2022-07-24T12:00:55.518Z"
   },
   {
    "duration": 9,
    "start_time": "2022-07-24T12:00:55.526Z"
   },
   {
    "duration": 17,
    "start_time": "2022-07-24T12:00:55.536Z"
   },
   {
    "duration": 9,
    "start_time": "2022-07-24T12:00:55.555Z"
   },
   {
    "duration": 21,
    "start_time": "2022-07-24T12:00:55.566Z"
   },
   {
    "duration": 4,
    "start_time": "2022-07-24T12:00:55.589Z"
   },
   {
    "duration": 31,
    "start_time": "2022-07-24T12:00:55.594Z"
   },
   {
    "duration": 3,
    "start_time": "2022-07-24T12:00:55.626Z"
   },
   {
    "duration": 17,
    "start_time": "2022-07-24T12:00:55.630Z"
   },
   {
    "duration": 55,
    "start_time": "2022-07-24T12:00:55.649Z"
   },
   {
    "duration": 100,
    "start_time": "2022-07-24T12:00:55.706Z"
   },
   {
    "duration": 6,
    "start_time": "2022-07-24T12:00:55.809Z"
   },
   {
    "duration": 6,
    "start_time": "2022-07-24T12:00:55.816Z"
   },
   {
    "duration": 15,
    "start_time": "2022-07-24T12:00:55.824Z"
   },
   {
    "duration": 3,
    "start_time": "2022-07-24T12:00:55.841Z"
   },
   {
    "duration": 20,
    "start_time": "2022-07-24T12:00:55.846Z"
   },
   {
    "duration": 2,
    "start_time": "2022-07-24T12:00:55.868Z"
   },
   {
    "duration": 44,
    "start_time": "2022-07-24T12:00:55.871Z"
   },
   {
    "duration": 8,
    "start_time": "2022-07-24T12:00:55.917Z"
   },
   {
    "duration": 78,
    "start_time": "2022-07-24T12:00:55.927Z"
   },
   {
    "duration": 98,
    "start_time": "2022-07-24T12:00:56.007Z"
   },
   {
    "duration": 4,
    "start_time": "2022-07-24T12:00:56.107Z"
   },
   {
    "duration": 16,
    "start_time": "2022-07-24T12:00:56.113Z"
   },
   {
    "duration": 4,
    "start_time": "2022-07-24T12:00:56.132Z"
   },
   {
    "duration": 25,
    "start_time": "2022-07-24T12:00:56.138Z"
   },
   {
    "duration": 13,
    "start_time": "2022-07-24T12:00:56.166Z"
   },
   {
    "duration": 33,
    "start_time": "2022-07-24T12:00:56.181Z"
   },
   {
    "duration": 13,
    "start_time": "2022-07-24T12:00:56.215Z"
   },
   {
    "duration": 100,
    "start_time": "2022-07-24T12:00:56.304Z"
   },
   {
    "duration": 8,
    "start_time": "2022-07-24T12:00:56.406Z"
   },
   {
    "duration": 4,
    "start_time": "2022-07-24T12:00:56.416Z"
   },
   {
    "duration": 6,
    "start_time": "2022-07-24T12:00:56.422Z"
   },
   {
    "duration": 7,
    "start_time": "2022-07-24T12:00:56.430Z"
   },
   {
    "duration": 6,
    "start_time": "2022-07-24T12:00:56.438Z"
   },
   {
    "duration": 9,
    "start_time": "2022-07-24T12:00:56.446Z"
   },
   {
    "duration": 7,
    "start_time": "2022-07-24T12:00:56.457Z"
   },
   {
    "duration": 38,
    "start_time": "2022-07-24T12:00:56.466Z"
   },
   {
    "duration": 5,
    "start_time": "2022-07-24T12:00:56.507Z"
   },
   {
    "duration": 11,
    "start_time": "2022-07-24T12:00:56.514Z"
   },
   {
    "duration": 12,
    "start_time": "2022-07-24T12:00:56.527Z"
   },
   {
    "duration": 8,
    "start_time": "2022-07-24T12:00:56.542Z"
   },
   {
    "duration": 7,
    "start_time": "2022-07-24T12:00:56.553Z"
   },
   {
    "duration": 11,
    "start_time": "2022-07-24T12:00:56.562Z"
   },
   {
    "duration": 31,
    "start_time": "2022-07-24T12:00:56.575Z"
   },
   {
    "duration": 297,
    "start_time": "2022-07-24T12:00:56.609Z"
   },
   {
    "duration": 0,
    "start_time": "2022-07-24T12:00:56.907Z"
   },
   {
    "duration": 0,
    "start_time": "2022-07-24T12:00:56.908Z"
   },
   {
    "duration": 0,
    "start_time": "2022-07-24T12:00:56.910Z"
   },
   {
    "duration": 0,
    "start_time": "2022-07-24T12:00:56.911Z"
   },
   {
    "duration": 0,
    "start_time": "2022-07-24T12:00:56.912Z"
   },
   {
    "duration": 25,
    "start_time": "2022-07-25T11:37:48.711Z"
   },
   {
    "duration": 3,
    "start_time": "2022-07-25T11:37:50.217Z"
   },
   {
    "duration": 9,
    "start_time": "2022-07-25T11:38:09.757Z"
   },
   {
    "duration": 79,
    "start_time": "2022-07-25T11:47:41.217Z"
   },
   {
    "duration": 5252,
    "start_time": "2022-07-25T11:56:38.627Z"
   },
   {
    "duration": 389,
    "start_time": "2022-07-25T11:56:43.881Z"
   },
   {
    "duration": 229,
    "start_time": "2022-07-25T11:56:44.272Z"
   },
   {
    "duration": 232,
    "start_time": "2022-07-25T11:56:44.505Z"
   },
   {
    "duration": 18,
    "start_time": "2022-07-25T11:56:44.738Z"
   },
   {
    "duration": 12,
    "start_time": "2022-07-25T11:56:44.758Z"
   },
   {
    "duration": 26,
    "start_time": "2022-07-25T11:56:44.772Z"
   },
   {
    "duration": 24,
    "start_time": "2022-07-25T11:56:44.799Z"
   },
   {
    "duration": 13,
    "start_time": "2022-07-25T11:56:44.825Z"
   },
   {
    "duration": 13,
    "start_time": "2022-07-25T11:56:44.841Z"
   },
   {
    "duration": 39,
    "start_time": "2022-07-25T11:56:44.855Z"
   },
   {
    "duration": 62,
    "start_time": "2022-07-25T11:56:44.896Z"
   },
   {
    "duration": 34,
    "start_time": "2022-07-25T11:56:44.960Z"
   },
   {
    "duration": 75,
    "start_time": "2022-07-25T11:56:44.996Z"
   },
   {
    "duration": 66,
    "start_time": "2022-07-25T11:56:45.073Z"
   },
   {
    "duration": 50,
    "start_time": "2022-07-25T11:56:45.141Z"
   },
   {
    "duration": 6,
    "start_time": "2022-07-25T11:56:45.193Z"
   },
   {
    "duration": 26,
    "start_time": "2022-07-25T11:56:45.201Z"
   },
   {
    "duration": 11,
    "start_time": "2022-07-25T11:56:45.229Z"
   },
   {
    "duration": 6,
    "start_time": "2022-07-25T11:56:45.242Z"
   },
   {
    "duration": 19,
    "start_time": "2022-07-25T11:56:45.250Z"
   },
   {
    "duration": 5,
    "start_time": "2022-07-25T11:56:45.271Z"
   },
   {
    "duration": 46,
    "start_time": "2022-07-25T11:56:45.278Z"
   },
   {
    "duration": 2,
    "start_time": "2022-07-25T11:56:45.326Z"
   },
   {
    "duration": 17,
    "start_time": "2022-07-25T11:56:45.330Z"
   },
   {
    "duration": 11,
    "start_time": "2022-07-25T11:56:45.348Z"
   },
   {
    "duration": 103,
    "start_time": "2022-07-25T11:56:45.422Z"
   },
   {
    "duration": 19,
    "start_time": "2022-07-25T11:56:45.529Z"
   },
   {
    "duration": 13,
    "start_time": "2022-07-25T11:56:45.549Z"
   },
   {
    "duration": 31,
    "start_time": "2022-07-25T11:56:45.563Z"
   },
   {
    "duration": 3,
    "start_time": "2022-07-25T11:56:45.596Z"
   },
   {
    "duration": 38,
    "start_time": "2022-07-25T11:56:45.601Z"
   },
   {
    "duration": 2,
    "start_time": "2022-07-25T11:56:45.641Z"
   },
   {
    "duration": 15,
    "start_time": "2022-07-25T11:56:45.645Z"
   },
   {
    "duration": 8,
    "start_time": "2022-07-25T11:56:45.662Z"
   },
   {
    "duration": 154,
    "start_time": "2022-07-25T11:56:45.672Z"
   },
   {
    "duration": 9,
    "start_time": "2022-07-25T11:56:45.828Z"
   },
   {
    "duration": 22,
    "start_time": "2022-07-25T11:56:45.839Z"
   },
   {
    "duration": 36,
    "start_time": "2022-07-25T11:56:45.863Z"
   },
   {
    "duration": 18,
    "start_time": "2022-07-25T11:56:45.901Z"
   },
   {
    "duration": 27,
    "start_time": "2022-07-25T11:56:45.921Z"
   },
   {
    "duration": 3,
    "start_time": "2022-07-25T11:56:45.950Z"
   },
   {
    "duration": 31,
    "start_time": "2022-07-25T11:56:45.955Z"
   },
   {
    "duration": 36,
    "start_time": "2022-07-25T11:56:45.987Z"
   },
   {
    "duration": 112,
    "start_time": "2022-07-25T11:56:46.025Z"
   },
   {
    "duration": 8,
    "start_time": "2022-07-25T11:56:46.139Z"
   },
   {
    "duration": 7,
    "start_time": "2022-07-25T11:56:46.149Z"
   },
   {
    "duration": 7,
    "start_time": "2022-07-25T11:56:46.157Z"
   },
   {
    "duration": 59,
    "start_time": "2022-07-25T11:56:46.166Z"
   },
   {
    "duration": 2,
    "start_time": "2022-07-25T11:56:46.227Z"
   },
   {
    "duration": 9,
    "start_time": "2022-07-25T11:56:46.231Z"
   },
   {
    "duration": 7,
    "start_time": "2022-07-25T11:56:46.242Z"
   },
   {
    "duration": 7,
    "start_time": "2022-07-25T11:56:46.251Z"
   },
   {
    "duration": 5,
    "start_time": "2022-07-25T11:56:46.259Z"
   },
   {
    "duration": 6,
    "start_time": "2022-07-25T11:56:46.266Z"
   },
   {
    "duration": 48,
    "start_time": "2022-07-25T11:56:46.274Z"
   },
   {
    "duration": 5,
    "start_time": "2022-07-25T11:56:46.324Z"
   },
   {
    "duration": 5,
    "start_time": "2022-07-25T11:56:46.331Z"
   },
   {
    "duration": 6,
    "start_time": "2022-07-25T11:56:46.338Z"
   },
   {
    "duration": 13,
    "start_time": "2022-07-25T11:56:46.346Z"
   },
   {
    "duration": 284,
    "start_time": "2022-07-25T11:56:46.361Z"
   },
   {
    "duration": 0,
    "start_time": "2022-07-25T11:56:46.646Z"
   },
   {
    "duration": 0,
    "start_time": "2022-07-25T11:56:46.648Z"
   },
   {
    "duration": 0,
    "start_time": "2022-07-25T11:56:46.648Z"
   },
   {
    "duration": 0,
    "start_time": "2022-07-25T11:56:46.650Z"
   },
   {
    "duration": 0,
    "start_time": "2022-07-25T11:56:46.651Z"
   },
   {
    "duration": 7,
    "start_time": "2022-07-25T11:56:59.294Z"
   },
   {
    "duration": 9,
    "start_time": "2022-07-25T12:01:50.048Z"
   },
   {
    "duration": 5,
    "start_time": "2022-07-25T12:01:54.316Z"
   },
   {
    "duration": 11,
    "start_time": "2022-07-25T12:02:18.158Z"
   },
   {
    "duration": 7,
    "start_time": "2022-07-25T18:14:35.188Z"
   },
   {
    "duration": 3,
    "start_time": "2022-07-25T18:16:54.572Z"
   },
   {
    "duration": 37,
    "start_time": "2022-07-25T18:17:05.079Z"
   },
   {
    "duration": 972,
    "start_time": "2022-07-25T18:17:10.966Z"
   },
   {
    "duration": 3,
    "start_time": "2022-07-25T18:17:12.883Z"
   },
   {
    "duration": 484,
    "start_time": "2022-07-25T18:17:14.159Z"
   },
   {
    "duration": 526,
    "start_time": "2022-07-25T18:17:14.645Z"
   },
   {
    "duration": 1032,
    "start_time": "2022-07-25T18:19:05.772Z"
   },
   {
    "duration": 75,
    "start_time": "2022-07-25T18:19:12.012Z"
   },
   {
    "duration": 129,
    "start_time": "2022-07-25T18:19:38.559Z"
   },
   {
    "duration": 14,
    "start_time": "2022-07-25T18:19:55.980Z"
   },
   {
    "duration": 3,
    "start_time": "2022-07-25T18:20:43.701Z"
   },
   {
    "duration": 75,
    "start_time": "2022-07-25T18:24:38.134Z"
   },
   {
    "duration": 1114,
    "start_time": "2022-07-25T18:24:57.009Z"
   },
   {
    "duration": 3,
    "start_time": "2022-07-25T18:25:01.861Z"
   },
   {
    "duration": 734,
    "start_time": "2022-07-25T18:25:06.589Z"
   },
   {
    "duration": 1090,
    "start_time": "2022-07-26T19:28:42.836Z"
   },
   {
    "duration": 2,
    "start_time": "2022-07-26T19:29:45.724Z"
   },
   {
    "duration": 797,
    "start_time": "2022-07-26T19:29:54.303Z"
   },
   {
    "duration": 4,
    "start_time": "2022-07-26T19:30:01.501Z"
   },
   {
    "duration": 54,
    "start_time": "2022-07-26T19:30:02.065Z"
   },
   {
    "duration": 50,
    "start_time": "2022-07-26T19:30:52.617Z"
   },
   {
    "duration": 46,
    "start_time": "2022-07-26T19:31:00.312Z"
   },
   {
    "duration": 125,
    "start_time": "2022-07-26T19:37:48.817Z"
   },
   {
    "duration": 127,
    "start_time": "2022-07-26T19:38:12.840Z"
   },
   {
    "duration": 97,
    "start_time": "2022-07-26T19:40:28.569Z"
   },
   {
    "duration": 57,
    "start_time": "2022-07-26T19:40:43.072Z"
   },
   {
    "duration": 26,
    "start_time": "2022-07-26T19:45:54.727Z"
   },
   {
    "duration": 112,
    "start_time": "2022-07-26T19:49:04.180Z"
   },
   {
    "duration": 24,
    "start_time": "2022-07-26T19:49:47.530Z"
   },
   {
    "duration": 32,
    "start_time": "2022-07-26T19:50:10.366Z"
   },
   {
    "duration": 34,
    "start_time": "2022-07-26T19:53:14.327Z"
   },
   {
    "duration": 69,
    "start_time": "2022-07-26T19:53:29.930Z"
   },
   {
    "duration": 74,
    "start_time": "2022-07-26T19:53:54.455Z"
   },
   {
    "duration": 53,
    "start_time": "2022-07-26T19:54:21.531Z"
   },
   {
    "duration": 596,
    "start_time": "2022-07-26T19:59:24.383Z"
   },
   {
    "duration": 10,
    "start_time": "2022-07-26T19:59:51.103Z"
   },
   {
    "duration": 3,
    "start_time": "2022-07-26T20:00:50.510Z"
   },
   {
    "duration": 133,
    "start_time": "2022-07-26T20:01:00.565Z"
   },
   {
    "duration": 84,
    "start_time": "2022-07-26T20:02:53.156Z"
   },
   {
    "duration": 140,
    "start_time": "2022-07-26T20:02:59.854Z"
   },
   {
    "duration": 150,
    "start_time": "2022-07-26T20:04:25.104Z"
   },
   {
    "duration": 146,
    "start_time": "2022-07-26T20:05:16.040Z"
   },
   {
    "duration": 226,
    "start_time": "2022-07-26T20:05:29.412Z"
   },
   {
    "duration": 838,
    "start_time": "2022-07-26T20:06:44.296Z"
   },
   {
    "duration": 16,
    "start_time": "2022-07-26T20:07:12.494Z"
   },
   {
    "duration": 897,
    "start_time": "2022-07-26T20:07:22.406Z"
   },
   {
    "duration": 150,
    "start_time": "2022-07-26T20:07:39.681Z"
   },
   {
    "duration": 59,
    "start_time": "2022-07-26T20:08:00.263Z"
   },
   {
    "duration": 157,
    "start_time": "2022-07-26T20:08:11.016Z"
   },
   {
    "duration": 1405,
    "start_time": "2022-07-27T15:21:08.455Z"
   },
   {
    "duration": 2,
    "start_time": "2022-07-27T15:21:09.862Z"
   },
   {
    "duration": 1543,
    "start_time": "2022-07-27T15:21:10.406Z"
   },
   {
    "duration": 3,
    "start_time": "2022-07-27T15:21:11.950Z"
   },
   {
    "duration": 47,
    "start_time": "2022-07-27T15:21:11.954Z"
   },
   {
    "duration": 39,
    "start_time": "2022-07-27T15:21:12.003Z"
   },
   {
    "duration": 39,
    "start_time": "2022-07-27T15:21:12.155Z"
   },
   {
    "duration": 118,
    "start_time": "2022-07-27T15:21:17.807Z"
   },
   {
    "duration": 49,
    "start_time": "2022-07-27T15:21:18.193Z"
   },
   {
    "duration": 114,
    "start_time": "2022-07-27T15:21:19.689Z"
   },
   {
    "duration": 111,
    "start_time": "2022-07-27T15:22:46.403Z"
   },
   {
    "duration": 97,
    "start_time": "2022-07-27T15:22:52.929Z"
   },
   {
    "duration": 261,
    "start_time": "2022-07-27T15:23:12.407Z"
   },
   {
    "duration": 349,
    "start_time": "2022-07-27T15:23:26.693Z"
   },
   {
    "duration": 141,
    "start_time": "2022-07-27T15:24:54.587Z"
   },
   {
    "duration": 132,
    "start_time": "2022-07-27T15:25:20.181Z"
   },
   {
    "duration": 123,
    "start_time": "2022-07-27T15:26:56.617Z"
   },
   {
    "duration": 146,
    "start_time": "2022-07-27T15:27:05.364Z"
   },
   {
    "duration": 179,
    "start_time": "2022-07-27T15:27:28.572Z"
   },
   {
    "duration": 282,
    "start_time": "2022-07-27T15:27:34.791Z"
   },
   {
    "duration": 500,
    "start_time": "2022-07-27T15:27:49.667Z"
   },
   {
    "duration": 420,
    "start_time": "2022-07-27T15:29:26.402Z"
   },
   {
    "duration": 388,
    "start_time": "2022-07-27T15:29:40.369Z"
   },
   {
    "duration": 496,
    "start_time": "2022-07-27T15:29:44.486Z"
   },
   {
    "duration": 391,
    "start_time": "2022-07-27T15:30:48.114Z"
   },
   {
    "duration": 393,
    "start_time": "2022-07-27T15:31:44.560Z"
   },
   {
    "duration": 523,
    "start_time": "2022-07-27T15:32:13.206Z"
   },
   {
    "duration": 311,
    "start_time": "2022-07-27T15:32:22.794Z"
   },
   {
    "duration": 198,
    "start_time": "2022-07-27T15:33:20.311Z"
   },
   {
    "duration": 183,
    "start_time": "2022-07-27T15:33:26.394Z"
   },
   {
    "duration": 156,
    "start_time": "2022-07-27T15:33:34.325Z"
   },
   {
    "duration": 281,
    "start_time": "2022-07-27T15:33:39.376Z"
   },
   {
    "duration": 163,
    "start_time": "2022-07-27T15:33:46.407Z"
   },
   {
    "duration": 9,
    "start_time": "2022-07-27T15:34:00.064Z"
   },
   {
    "duration": 166,
    "start_time": "2022-07-27T15:34:04.267Z"
   },
   {
    "duration": 205,
    "start_time": "2022-07-27T15:34:08.900Z"
   },
   {
    "duration": 290,
    "start_time": "2022-07-27T15:34:12.005Z"
   },
   {
    "duration": 393,
    "start_time": "2022-07-27T15:34:18.493Z"
   },
   {
    "duration": 8,
    "start_time": "2022-07-27T15:42:32.796Z"
   },
   {
    "duration": 17,
    "start_time": "2022-07-27T15:42:37.005Z"
   },
   {
    "duration": 25,
    "start_time": "2022-07-27T15:42:58.569Z"
   },
   {
    "duration": 7,
    "start_time": "2022-07-27T15:46:19.443Z"
   },
   {
    "duration": 6,
    "start_time": "2022-07-27T15:46:23.858Z"
   },
   {
    "duration": 18,
    "start_time": "2022-07-27T15:46:24.856Z"
   },
   {
    "duration": 3,
    "start_time": "2022-07-27T15:46:27.057Z"
   },
   {
    "duration": 49,
    "start_time": "2022-07-27T15:48:22.287Z"
   },
   {
    "duration": 136,
    "start_time": "2022-07-27T15:48:45.472Z"
   },
   {
    "duration": 44,
    "start_time": "2022-07-27T15:48:58.911Z"
   },
   {
    "duration": 86,
    "start_time": "2022-07-27T15:49:18.592Z"
   },
   {
    "duration": 83,
    "start_time": "2022-07-27T15:49:22.569Z"
   },
   {
    "duration": 44,
    "start_time": "2022-07-27T15:49:26.192Z"
   },
   {
    "duration": 45,
    "start_time": "2022-07-27T15:51:27.058Z"
   },
   {
    "duration": 50,
    "start_time": "2022-07-27T15:51:35.703Z"
   },
   {
    "duration": 47,
    "start_time": "2022-07-27T15:52:19.583Z"
   },
   {
    "duration": 43,
    "start_time": "2022-07-27T15:52:45.652Z"
   },
   {
    "duration": 50,
    "start_time": "2022-07-27T15:53:09.448Z"
   },
   {
    "duration": 45,
    "start_time": "2022-07-27T15:54:34.146Z"
   },
   {
    "duration": 2,
    "start_time": "2022-07-27T15:54:35.839Z"
   },
   {
    "duration": 31,
    "start_time": "2022-07-27T15:54:36.142Z"
   },
   {
    "duration": 4,
    "start_time": "2022-07-27T15:54:58.742Z"
   },
   {
    "duration": 3,
    "start_time": "2022-07-27T15:54:59.042Z"
   },
   {
    "duration": 352,
    "start_time": "2022-07-27T15:54:59.549Z"
   },
   {
    "duration": 3,
    "start_time": "2022-07-27T15:54:59.943Z"
   },
   {
    "duration": 57,
    "start_time": "2022-07-27T15:55:00.101Z"
   },
   {
    "duration": 43,
    "start_time": "2022-07-27T15:55:00.282Z"
   },
   {
    "duration": 42,
    "start_time": "2022-07-27T15:55:00.446Z"
   },
   {
    "duration": 108,
    "start_time": "2022-07-27T15:55:02.690Z"
   },
   {
    "duration": 52,
    "start_time": "2022-07-27T15:55:02.802Z"
   },
   {
    "duration": 60,
    "start_time": "2022-07-27T15:55:02.951Z"
   },
   {
    "duration": 57,
    "start_time": "2022-07-27T15:55:03.097Z"
   },
   {
    "duration": 6,
    "start_time": "2022-07-27T15:55:04.270Z"
   },
   {
    "duration": 5,
    "start_time": "2022-07-27T15:55:04.456Z"
   },
   {
    "duration": 15,
    "start_time": "2022-07-27T15:55:04.600Z"
   },
   {
    "duration": 416,
    "start_time": "2022-07-27T15:55:06.243Z"
   },
   {
    "duration": 188,
    "start_time": "2022-07-27T15:55:06.661Z"
   },
   {
    "duration": 420,
    "start_time": "2022-07-27T15:55:06.851Z"
   },
   {
    "duration": 26,
    "start_time": "2022-07-27T15:55:08.166Z"
   },
   {
    "duration": 4,
    "start_time": "2022-07-27T15:55:09.767Z"
   },
   {
    "duration": 5,
    "start_time": "2022-07-27T15:55:11.176Z"
   },
   {
    "duration": 11,
    "start_time": "2022-07-27T15:55:12.159Z"
   },
   {
    "duration": 4,
    "start_time": "2022-07-27T15:55:14.175Z"
   },
   {
    "duration": 18,
    "start_time": "2022-07-27T15:55:18.844Z"
   },
   {
    "duration": 3,
    "start_time": "2022-07-27T15:55:20.974Z"
   },
   {
    "duration": 13,
    "start_time": "2022-07-27T15:55:22.111Z"
   },
   {
    "duration": 14,
    "start_time": "2022-07-27T15:55:25.743Z"
   },
   {
    "duration": 5,
    "start_time": "2022-07-27T15:55:27.543Z"
   },
   {
    "duration": 4,
    "start_time": "2022-07-27T15:55:28.544Z"
   },
   {
    "duration": 10,
    "start_time": "2022-07-27T15:56:34.345Z"
   },
   {
    "duration": 11,
    "start_time": "2022-07-27T15:56:43.143Z"
   },
   {
    "duration": 13,
    "start_time": "2022-07-27T15:56:45.443Z"
   },
   {
    "duration": 4,
    "start_time": "2022-07-27T15:56:53.566Z"
   },
   {
    "duration": 9,
    "start_time": "2022-07-27T15:56:54.043Z"
   },
   {
    "duration": 4,
    "start_time": "2022-07-27T15:56:54.953Z"
   },
   {
    "duration": 30,
    "start_time": "2022-07-27T15:56:59.098Z"
   },
   {
    "duration": 14,
    "start_time": "2022-07-27T15:57:08.278Z"
   },
   {
    "duration": 18,
    "start_time": "2022-07-27T15:57:24.547Z"
   },
   {
    "duration": 3,
    "start_time": "2022-07-27T15:57:32.907Z"
   },
   {
    "duration": 18,
    "start_time": "2022-07-27T15:57:36.092Z"
   },
   {
    "duration": 8,
    "start_time": "2022-07-27T15:57:37.047Z"
   },
   {
    "duration": 3,
    "start_time": "2022-07-27T15:57:37.863Z"
   },
   {
    "duration": 5,
    "start_time": "2022-07-27T15:57:38.755Z"
   },
   {
    "duration": 4,
    "start_time": "2022-07-27T15:58:30.643Z"
   },
   {
    "duration": 13,
    "start_time": "2022-07-27T15:58:30.901Z"
   },
   {
    "duration": 3,
    "start_time": "2022-07-27T15:58:31.684Z"
   },
   {
    "duration": 19,
    "start_time": "2022-07-27T15:59:01.746Z"
   },
   {
    "duration": 15,
    "start_time": "2022-07-27T15:59:12.742Z"
   },
   {
    "duration": 2,
    "start_time": "2022-07-27T15:59:15.859Z"
   },
   {
    "duration": 11,
    "start_time": "2022-07-27T15:59:16.151Z"
   },
   {
    "duration": 12,
    "start_time": "2022-07-27T15:59:16.917Z"
   },
   {
    "duration": 4,
    "start_time": "2022-07-27T15:59:17.856Z"
   },
   {
    "duration": 4,
    "start_time": "2022-07-27T15:59:18.454Z"
   },
   {
    "duration": 3,
    "start_time": "2022-07-27T16:06:04.274Z"
   },
   {
    "duration": 4,
    "start_time": "2022-07-27T16:06:11.835Z"
   },
   {
    "duration": 108,
    "start_time": "2022-07-27T16:06:36.598Z"
   },
   {
    "duration": 9,
    "start_time": "2022-07-27T16:07:01.279Z"
   },
   {
    "duration": 4,
    "start_time": "2022-07-27T16:07:06.842Z"
   },
   {
    "duration": 57,
    "start_time": "2022-07-27T16:07:07.146Z"
   },
   {
    "duration": 4,
    "start_time": "2022-07-27T16:10:23.692Z"
   },
   {
    "duration": 28,
    "start_time": "2022-07-27T16:10:24.981Z"
   },
   {
    "duration": 5,
    "start_time": "2022-07-27T16:10:30.467Z"
   },
   {
    "duration": 21,
    "start_time": "2022-07-27T16:10:33.545Z"
   },
   {
    "duration": 11,
    "start_time": "2022-07-27T16:11:46.811Z"
   },
   {
    "duration": 17,
    "start_time": "2022-07-27T16:12:45.035Z"
   },
   {
    "duration": 1516,
    "start_time": "2022-07-28T17:16:01.855Z"
   },
   {
    "duration": 4,
    "start_time": "2022-07-28T17:16:03.374Z"
   },
   {
    "duration": 780,
    "start_time": "2022-07-28T17:16:04.072Z"
   },
   {
    "duration": 3,
    "start_time": "2022-07-28T17:16:05.151Z"
   },
   {
    "duration": 51,
    "start_time": "2022-07-28T17:16:05.238Z"
   },
   {
    "duration": 45,
    "start_time": "2022-07-28T17:16:05.318Z"
   },
   {
    "duration": 44,
    "start_time": "2022-07-28T17:16:05.406Z"
   },
   {
    "duration": 118,
    "start_time": "2022-07-28T17:16:07.240Z"
   },
   {
    "duration": 44,
    "start_time": "2022-07-28T17:16:07.359Z"
   },
   {
    "duration": 57,
    "start_time": "2022-07-28T17:16:07.502Z"
   },
   {
    "duration": 49,
    "start_time": "2022-07-28T17:16:07.658Z"
   },
   {
    "duration": 6,
    "start_time": "2022-07-28T17:16:08.073Z"
   },
   {
    "duration": 6,
    "start_time": "2022-07-28T17:16:08.157Z"
   },
   {
    "duration": 5,
    "start_time": "2022-07-28T17:16:08.249Z"
   },
   {
    "duration": 471,
    "start_time": "2022-07-28T17:16:11.918Z"
   },
   {
    "duration": 180,
    "start_time": "2022-07-28T17:16:12.391Z"
   },
   {
    "duration": 540,
    "start_time": "2022-07-28T17:16:12.573Z"
   },
   {
    "duration": 32,
    "start_time": "2022-07-28T17:16:13.116Z"
   },
   {
    "duration": 4,
    "start_time": "2022-07-28T17:16:13.833Z"
   },
   {
    "duration": 4,
    "start_time": "2022-07-28T17:16:14.842Z"
   },
   {
    "duration": 10,
    "start_time": "2022-07-28T17:16:15.260Z"
   },
   {
    "duration": 4,
    "start_time": "2022-07-28T17:16:16.242Z"
   },
   {
    "duration": 17,
    "start_time": "2022-07-28T17:16:16.661Z"
   },
   {
    "duration": 4,
    "start_time": "2022-07-28T17:16:17.968Z"
   },
   {
    "duration": 192,
    "start_time": "2022-07-28T17:16:18.048Z"
   },
   {
    "duration": 4,
    "start_time": "2022-07-28T17:16:20.651Z"
   },
   {
    "duration": 10,
    "start_time": "2022-07-28T17:16:20.738Z"
   },
   {
    "duration": 4,
    "start_time": "2022-07-28T17:16:20.907Z"
   },
   {
    "duration": 16,
    "start_time": "2022-07-28T17:16:22.538Z"
   },
   {
    "duration": 21,
    "start_time": "2022-07-28T17:16:24.215Z"
   },
   {
    "duration": 4,
    "start_time": "2022-07-28T17:16:26.534Z"
   },
   {
    "duration": 12,
    "start_time": "2022-07-28T17:16:26.620Z"
   },
   {
    "duration": 3,
    "start_time": "2022-07-28T17:16:27.164Z"
   },
   {
    "duration": 20,
    "start_time": "2022-07-28T17:16:27.751Z"
   },
   {
    "duration": 15,
    "start_time": "2022-07-28T17:16:28.000Z"
   },
   {
    "duration": 3,
    "start_time": "2022-07-28T17:18:46.960Z"
   },
   {
    "duration": 3,
    "start_time": "2022-07-28T17:21:42.232Z"
   },
   {
    "duration": 6,
    "start_time": "2022-07-28T17:21:48.718Z"
   },
   {
    "duration": 2,
    "start_time": "2022-07-28T17:22:07.970Z"
   },
   {
    "duration": 3,
    "start_time": "2022-07-28T17:22:24.953Z"
   },
   {
    "duration": 104,
    "start_time": "2022-07-28T17:22:38.464Z"
   },
   {
    "duration": 3,
    "start_time": "2022-07-28T17:23:51.293Z"
   },
   {
    "duration": 19,
    "start_time": "2022-07-28T17:24:04.879Z"
   },
   {
    "duration": 11,
    "start_time": "2022-07-28T17:24:36.986Z"
   },
   {
    "duration": 13,
    "start_time": "2022-07-28T17:24:52.297Z"
   },
   {
    "duration": 5,
    "start_time": "2022-07-28T17:24:56.643Z"
   },
   {
    "duration": 5,
    "start_time": "2022-07-28T17:24:59.424Z"
   },
   {
    "duration": 6,
    "start_time": "2022-07-28T17:25:00.757Z"
   },
   {
    "duration": 4,
    "start_time": "2022-07-28T17:25:13.992Z"
   },
   {
    "duration": 5,
    "start_time": "2022-07-28T17:25:15.124Z"
   },
   {
    "duration": 5,
    "start_time": "2022-07-28T17:25:15.906Z"
   },
   {
    "duration": 4,
    "start_time": "2022-07-28T17:26:49.528Z"
   },
   {
    "duration": 4,
    "start_time": "2022-07-28T17:26:57.879Z"
   },
   {
    "duration": 4,
    "start_time": "2022-07-28T17:27:14.166Z"
   },
   {
    "duration": 4,
    "start_time": "2022-07-28T17:27:22.573Z"
   },
   {
    "duration": 11,
    "start_time": "2022-07-28T17:27:29.567Z"
   },
   {
    "duration": 3,
    "start_time": "2022-07-28T17:27:49.818Z"
   },
   {
    "duration": 4,
    "start_time": "2022-07-28T17:27:54.541Z"
   },
   {
    "duration": 3,
    "start_time": "2022-07-28T17:27:57.239Z"
   },
   {
    "duration": 4,
    "start_time": "2022-07-28T17:27:58.276Z"
   },
   {
    "duration": 3,
    "start_time": "2022-07-28T17:29:14.166Z"
   },
   {
    "duration": 3,
    "start_time": "2022-07-28T17:29:28.356Z"
   },
   {
    "duration": 5,
    "start_time": "2022-07-28T17:31:12.355Z"
   },
   {
    "duration": 57,
    "start_time": "2022-07-28T17:32:31.223Z"
   },
   {
    "duration": 53,
    "start_time": "2022-07-28T17:32:37.690Z"
   },
   {
    "duration": 45,
    "start_time": "2022-07-28T17:32:50.792Z"
   },
   {
    "duration": 3,
    "start_time": "2022-07-28T17:32:55.771Z"
   },
   {
    "duration": 4,
    "start_time": "2022-07-28T17:33:01.226Z"
   },
   {
    "duration": 4,
    "start_time": "2022-07-28T17:33:04.711Z"
   },
   {
    "duration": 4,
    "start_time": "2022-07-28T17:33:49.788Z"
   },
   {
    "duration": 5,
    "start_time": "2022-07-28T17:34:32.662Z"
   },
   {
    "duration": 12,
    "start_time": "2022-07-28T17:37:14.226Z"
   },
   {
    "duration": 894,
    "start_time": "2022-07-28T17:37:20.544Z"
   },
   {
    "duration": 4,
    "start_time": "2022-07-28T17:38:39.045Z"
   },
   {
    "duration": 885,
    "start_time": "2022-07-28T17:39:41.260Z"
   },
   {
    "duration": 989,
    "start_time": "2022-07-28T17:41:28.211Z"
   },
   {
    "duration": 8,
    "start_time": "2022-07-28T17:43:57.767Z"
   },
   {
    "duration": 5,
    "start_time": "2022-07-28T17:44:20.342Z"
   },
   {
    "duration": 3,
    "start_time": "2022-07-28T17:44:50.500Z"
   },
   {
    "duration": 3,
    "start_time": "2022-07-28T17:44:51.405Z"
   },
   {
    "duration": 356,
    "start_time": "2022-07-28T17:44:53.207Z"
   },
   {
    "duration": 3,
    "start_time": "2022-07-28T17:44:54.117Z"
   },
   {
    "duration": 49,
    "start_time": "2022-07-28T17:44:54.354Z"
   },
   {
    "duration": 44,
    "start_time": "2022-07-28T17:44:54.563Z"
   },
   {
    "duration": 44,
    "start_time": "2022-07-28T17:44:54.800Z"
   },
   {
    "duration": 136,
    "start_time": "2022-07-28T17:44:59.086Z"
   },
   {
    "duration": 47,
    "start_time": "2022-07-28T17:44:59.279Z"
   },
   {
    "duration": 59,
    "start_time": "2022-07-28T17:44:59.702Z"
   },
   {
    "duration": 54,
    "start_time": "2022-07-28T17:45:00.167Z"
   },
   {
    "duration": 6,
    "start_time": "2022-07-28T17:45:01.298Z"
   },
   {
    "duration": 6,
    "start_time": "2022-07-28T17:45:01.499Z"
   },
   {
    "duration": 6,
    "start_time": "2022-07-28T17:45:01.752Z"
   },
   {
    "duration": 443,
    "start_time": "2022-07-28T17:45:03.065Z"
   },
   {
    "duration": 184,
    "start_time": "2022-07-28T17:45:03.655Z"
   },
   {
    "duration": 484,
    "start_time": "2022-07-28T17:45:04.125Z"
   },
   {
    "duration": 27,
    "start_time": "2022-07-28T17:45:06.050Z"
   },
   {
    "duration": 4,
    "start_time": "2022-07-28T17:45:06.904Z"
   },
   {
    "duration": 4,
    "start_time": "2022-07-28T17:45:07.786Z"
   },
   {
    "duration": 11,
    "start_time": "2022-07-28T17:45:08.299Z"
   },
   {
    "duration": 4,
    "start_time": "2022-07-28T17:45:09.190Z"
   },
   {
    "duration": 17,
    "start_time": "2022-07-28T17:45:10.385Z"
   },
   {
    "duration": 3,
    "start_time": "2022-07-28T17:45:11.759Z"
   },
   {
    "duration": 16,
    "start_time": "2022-07-28T17:45:11.986Z"
   },
   {
    "duration": 5,
    "start_time": "2022-07-28T17:45:15.770Z"
   },
   {
    "duration": 6,
    "start_time": "2022-07-28T17:45:16.149Z"
   },
   {
    "duration": 4,
    "start_time": "2022-07-28T17:45:17.681Z"
   },
   {
    "duration": 20,
    "start_time": "2022-07-28T17:45:20.018Z"
   },
   {
    "duration": 19,
    "start_time": "2022-07-28T17:45:22.243Z"
   },
   {
    "duration": 4,
    "start_time": "2022-07-28T17:47:11.961Z"
   },
   {
    "duration": 6,
    "start_time": "2022-07-28T17:47:13.061Z"
   },
   {
    "duration": 4,
    "start_time": "2022-07-28T17:47:13.854Z"
   },
   {
    "duration": 17,
    "start_time": "2022-07-28T17:47:15.199Z"
   },
   {
    "duration": 19,
    "start_time": "2022-07-28T17:47:17.049Z"
   },
   {
    "duration": 3,
    "start_time": "2022-07-28T17:48:05.515Z"
   },
   {
    "duration": 6,
    "start_time": "2022-07-28T17:48:06.616Z"
   },
   {
    "duration": 2,
    "start_time": "2022-07-28T17:48:10.554Z"
   },
   {
    "duration": 6,
    "start_time": "2022-07-28T17:48:13.972Z"
   },
   {
    "duration": 5,
    "start_time": "2022-07-28T17:48:15.087Z"
   },
   {
    "duration": 6,
    "start_time": "2022-07-28T17:48:15.857Z"
   },
   {
    "duration": 4,
    "start_time": "2022-07-28T17:48:19.579Z"
   },
   {
    "duration": 4,
    "start_time": "2022-07-28T17:48:23.799Z"
   },
   {
    "duration": 3,
    "start_time": "2022-07-28T17:48:24.453Z"
   },
   {
    "duration": 4,
    "start_time": "2022-07-28T17:48:25.062Z"
   },
   {
    "duration": 6,
    "start_time": "2022-07-28T17:49:10.749Z"
   },
   {
    "duration": 917,
    "start_time": "2022-07-28T17:49:21.505Z"
   },
   {
    "duration": 896,
    "start_time": "2022-07-28T17:51:00.153Z"
   },
   {
    "duration": 1173,
    "start_time": "2022-07-28T17:52:23.185Z"
   },
   {
    "duration": 1282,
    "start_time": "2022-07-28T17:52:30.719Z"
   },
   {
    "duration": 1185,
    "start_time": "2022-07-28T17:53:30.373Z"
   },
   {
    "duration": 1237,
    "start_time": "2022-07-28T17:56:00.370Z"
   },
   {
    "duration": 5,
    "start_time": "2022-07-28T17:57:11.176Z"
   },
   {
    "duration": 3,
    "start_time": "2022-07-28T17:57:22.885Z"
   },
   {
    "duration": 5,
    "start_time": "2022-07-28T17:57:26.156Z"
   },
   {
    "duration": 56,
    "start_time": "2022-07-28T17:58:12.250Z"
   },
   {
    "duration": 5,
    "start_time": "2022-07-28T17:58:16.457Z"
   },
   {
    "duration": 7,
    "start_time": "2022-07-28T17:58:41.784Z"
   },
   {
    "duration": 6,
    "start_time": "2022-07-28T17:58:48.352Z"
   },
   {
    "duration": 780,
    "start_time": "2022-07-28T17:58:54.321Z"
   },
   {
    "duration": 706,
    "start_time": "2022-07-28T18:00:17.292Z"
   },
   {
    "duration": 719,
    "start_time": "2022-07-28T18:00:30.153Z"
   },
   {
    "duration": 4,
    "start_time": "2022-07-28T18:03:19.562Z"
   },
   {
    "duration": 725,
    "start_time": "2022-07-28T18:03:42.155Z"
   },
   {
    "duration": 681,
    "start_time": "2022-07-28T18:04:11.190Z"
   },
   {
    "duration": 11,
    "start_time": "2022-07-28T18:04:24.393Z"
   },
   {
    "duration": 735,
    "start_time": "2022-07-28T18:04:27.429Z"
   },
   {
    "duration": 92,
    "start_time": "2022-07-28T18:05:48.138Z"
   },
   {
    "duration": 1233,
    "start_time": "2022-07-28T18:05:48.544Z"
   },
   {
    "duration": 5,
    "start_time": "2022-07-28T18:05:57.243Z"
   },
   {
    "duration": 2094,
    "start_time": "2022-07-28T18:05:57.678Z"
   },
   {
    "duration": 5,
    "start_time": "2022-07-28T18:06:25.853Z"
   },
   {
    "duration": 3339,
    "start_time": "2022-07-28T18:06:26.899Z"
   },
   {
    "duration": 6,
    "start_time": "2022-07-28T18:06:44.756Z"
   },
   {
    "duration": 3877,
    "start_time": "2022-07-28T18:06:46.769Z"
   },
   {
    "duration": 4,
    "start_time": "2022-07-28T18:07:14.176Z"
   },
   {
    "duration": 23,
    "start_time": "2022-07-28T18:07:15.852Z"
   },
   {
    "duration": 5,
    "start_time": "2022-07-28T18:07:30.048Z"
   },
   {
    "duration": 3899,
    "start_time": "2022-07-28T18:07:31.654Z"
   },
   {
    "duration": 852,
    "start_time": "2022-07-28T18:09:29.043Z"
   },
   {
    "duration": 3589,
    "start_time": "2022-07-28T18:09:30.463Z"
   },
   {
    "duration": 4,
    "start_time": "2022-07-28T18:09:34.092Z"
   },
   {
    "duration": 29,
    "start_time": "2022-07-28T18:09:36.282Z"
   },
   {
    "duration": 4,
    "start_time": "2022-07-28T18:09:54.430Z"
   },
   {
    "duration": 22,
    "start_time": "2022-07-28T18:09:55.308Z"
   },
   {
    "duration": 31,
    "start_time": "2022-07-28T18:18:06.708Z"
   },
   {
    "duration": 8,
    "start_time": "2022-07-28T18:19:16.084Z"
   },
   {
    "duration": 10,
    "start_time": "2022-07-28T18:19:22.346Z"
   },
   {
    "duration": 77,
    "start_time": "2022-07-28T18:19:34.578Z"
   },
   {
    "duration": 10,
    "start_time": "2022-07-28T18:19:39.677Z"
   },
   {
    "duration": 16,
    "start_time": "2022-07-28T18:19:55.373Z"
   },
   {
    "duration": 4,
    "start_time": "2022-07-28T18:20:23.536Z"
   },
   {
    "duration": 14,
    "start_time": "2022-07-28T18:20:24.207Z"
   },
   {
    "duration": 32,
    "start_time": "2022-07-28T18:20:24.711Z"
   },
   {
    "duration": 11,
    "start_time": "2022-07-28T18:21:11.010Z"
   },
   {
    "duration": 16,
    "start_time": "2022-07-28T18:21:15.875Z"
   },
   {
    "duration": 5,
    "start_time": "2022-07-28T18:21:24.269Z"
   },
   {
    "duration": 23,
    "start_time": "2022-07-28T18:21:25.536Z"
   },
   {
    "duration": 5,
    "start_time": "2022-07-28T18:21:45.995Z"
   },
   {
    "duration": 1002,
    "start_time": "2022-07-28T18:21:47.565Z"
   },
   {
    "duration": 4,
    "start_time": "2022-07-28T18:24:07.119Z"
   },
   {
    "duration": 4,
    "start_time": "2022-07-28T18:24:14.080Z"
   },
   {
    "duration": 10,
    "start_time": "2022-07-28T18:24:25.622Z"
   },
   {
    "duration": 13,
    "start_time": "2022-07-28T18:24:38.912Z"
   },
   {
    "duration": 5,
    "start_time": "2022-07-28T18:24:44.920Z"
   },
   {
    "duration": 5,
    "start_time": "2022-07-28T18:24:49.473Z"
   },
   {
    "duration": 4,
    "start_time": "2022-07-28T18:24:55.284Z"
   },
   {
    "duration": 4,
    "start_time": "2022-07-28T18:24:59.587Z"
   },
   {
    "duration": 11,
    "start_time": "2022-07-28T18:25:03.021Z"
   },
   {
    "duration": 18,
    "start_time": "2022-07-28T18:25:09.827Z"
   },
   {
    "duration": 13,
    "start_time": "2022-07-28T18:25:15.584Z"
   },
   {
    "duration": 4,
    "start_time": "2022-07-28T18:25:31.762Z"
   },
   {
    "duration": 1335,
    "start_time": "2022-07-28T18:27:13.452Z"
   },
   {
    "duration": 3,
    "start_time": "2022-07-28T18:27:14.789Z"
   },
   {
    "duration": 400,
    "start_time": "2022-07-28T18:27:14.793Z"
   },
   {
    "duration": 3,
    "start_time": "2022-07-28T18:27:15.195Z"
   },
   {
    "duration": 86,
    "start_time": "2022-07-28T18:27:15.200Z"
   },
   {
    "duration": 42,
    "start_time": "2022-07-28T18:27:15.288Z"
   },
   {
    "duration": 52,
    "start_time": "2022-07-28T18:27:15.336Z"
   },
   {
    "duration": 133,
    "start_time": "2022-07-28T18:27:15.390Z"
   },
   {
    "duration": 56,
    "start_time": "2022-07-28T18:27:15.525Z"
   },
   {
    "duration": 78,
    "start_time": "2022-07-28T18:27:15.583Z"
   },
   {
    "duration": 46,
    "start_time": "2022-07-28T18:27:15.663Z"
   },
   {
    "duration": 7,
    "start_time": "2022-07-28T18:27:15.711Z"
   },
   {
    "duration": 8,
    "start_time": "2022-07-28T18:27:15.738Z"
   },
   {
    "duration": 8,
    "start_time": "2022-07-28T18:27:15.749Z"
   },
   {
    "duration": 486,
    "start_time": "2022-07-28T18:27:15.758Z"
   },
   {
    "duration": 205,
    "start_time": "2022-07-28T18:27:16.245Z"
   },
   {
    "duration": 520,
    "start_time": "2022-07-28T18:27:16.453Z"
   },
   {
    "duration": 26,
    "start_time": "2022-07-28T18:27:16.975Z"
   },
   {
    "duration": 4,
    "start_time": "2022-07-28T18:27:17.003Z"
   },
   {
    "duration": 11,
    "start_time": "2022-07-28T18:27:17.008Z"
   },
   {
    "duration": 21,
    "start_time": "2022-07-28T18:27:17.020Z"
   },
   {
    "duration": 8,
    "start_time": "2022-07-28T18:27:17.044Z"
   },
   {
    "duration": 23,
    "start_time": "2022-07-28T18:27:17.053Z"
   },
   {
    "duration": 3,
    "start_time": "2022-07-28T18:27:17.078Z"
   },
   {
    "duration": 55,
    "start_time": "2022-07-28T18:27:17.083Z"
   },
   {
    "duration": 14,
    "start_time": "2022-07-28T18:27:17.140Z"
   },
   {
    "duration": 104,
    "start_time": "2022-07-28T18:27:17.155Z"
   },
   {
    "duration": 5,
    "start_time": "2022-07-28T18:27:17.261Z"
   },
   {
    "duration": 20,
    "start_time": "2022-07-28T18:27:17.268Z"
   },
   {
    "duration": 11,
    "start_time": "2022-07-28T18:27:17.290Z"
   },
   {
    "duration": 8,
    "start_time": "2022-07-28T18:27:17.337Z"
   },
   {
    "duration": 98,
    "start_time": "2022-07-28T18:27:17.347Z"
   },
   {
    "duration": 18,
    "start_time": "2022-07-28T18:27:17.447Z"
   },
   {
    "duration": 22,
    "start_time": "2022-07-28T18:27:17.467Z"
   },
   {
    "duration": 51,
    "start_time": "2022-07-28T18:27:17.490Z"
   },
   {
    "duration": 7,
    "start_time": "2022-07-28T18:27:17.543Z"
   },
   {
    "duration": 106,
    "start_time": "2022-07-28T18:27:17.553Z"
   },
   {
    "duration": 3,
    "start_time": "2022-07-28T18:27:17.661Z"
   },
   {
    "duration": 8,
    "start_time": "2022-07-28T18:27:17.665Z"
   },
   {
    "duration": 7,
    "start_time": "2022-07-28T18:27:17.675Z"
   },
   {
    "duration": 8,
    "start_time": "2022-07-28T18:27:17.687Z"
   },
   {
    "duration": 3,
    "start_time": "2022-07-28T18:27:17.696Z"
   },
   {
    "duration": 9,
    "start_time": "2022-07-28T18:27:17.701Z"
   },
   {
    "duration": 7,
    "start_time": "2022-07-28T18:27:17.711Z"
   },
   {
    "duration": 22,
    "start_time": "2022-07-28T18:27:17.720Z"
   },
   {
    "duration": 16,
    "start_time": "2022-07-28T18:27:17.743Z"
   },
   {
    "duration": 23,
    "start_time": "2022-07-28T18:27:17.761Z"
   },
   {
    "duration": 1173,
    "start_time": "2022-07-28T18:27:17.786Z"
   },
   {
    "duration": 0,
    "start_time": "2022-07-28T18:27:18.961Z"
   },
   {
    "duration": 0,
    "start_time": "2022-07-28T18:27:18.963Z"
   },
   {
    "duration": 0,
    "start_time": "2022-07-28T18:27:18.964Z"
   },
   {
    "duration": 0,
    "start_time": "2022-07-28T18:27:18.965Z"
   },
   {
    "duration": 0,
    "start_time": "2022-07-28T18:27:18.966Z"
   },
   {
    "duration": 0,
    "start_time": "2022-07-28T18:27:18.967Z"
   },
   {
    "duration": 7,
    "start_time": "2022-07-28T18:27:59.116Z"
   },
   {
    "duration": 4,
    "start_time": "2022-07-28T18:28:00.159Z"
   },
   {
    "duration": 1093,
    "start_time": "2022-07-28T18:28:00.420Z"
   },
   {
    "duration": 4,
    "start_time": "2022-07-28T18:28:17.663Z"
   },
   {
    "duration": 4,
    "start_time": "2022-07-28T18:28:18.755Z"
   },
   {
    "duration": 1160,
    "start_time": "2022-07-28T18:28:19.443Z"
   },
   {
    "duration": 6,
    "start_time": "2022-07-28T18:30:20.254Z"
   },
   {
    "duration": 4,
    "start_time": "2022-07-28T18:30:28.763Z"
   },
   {
    "duration": 7,
    "start_time": "2022-07-28T18:30:29.360Z"
   },
   {
    "duration": 4,
    "start_time": "2022-07-28T18:30:30.804Z"
   },
   {
    "duration": 22,
    "start_time": "2022-07-28T18:30:32.644Z"
   },
   {
    "duration": 5,
    "start_time": "2022-07-28T18:30:35.761Z"
   },
   {
    "duration": 112,
    "start_time": "2022-07-28T18:30:36.437Z"
   },
   {
    "duration": 13,
    "start_time": "2022-07-28T18:30:50.635Z"
   },
   {
    "duration": 6,
    "start_time": "2022-07-28T18:30:50.717Z"
   },
   {
    "duration": 4,
    "start_time": "2022-07-28T18:30:50.886Z"
   },
   {
    "duration": 15,
    "start_time": "2022-07-28T18:30:51.061Z"
   },
   {
    "duration": 38,
    "start_time": "2022-07-28T18:30:51.304Z"
   },
   {
    "duration": 4,
    "start_time": "2022-07-28T18:30:52.397Z"
   },
   {
    "duration": 7,
    "start_time": "2022-07-28T18:30:52.482Z"
   },
   {
    "duration": 4,
    "start_time": "2022-07-28T18:30:52.664Z"
   },
   {
    "duration": 22,
    "start_time": "2022-07-28T18:30:52.813Z"
   },
   {
    "duration": 14,
    "start_time": "2022-07-28T18:30:53.066Z"
   },
   {
    "duration": 3,
    "start_time": "2022-07-28T18:30:54.920Z"
   },
   {
    "duration": 6,
    "start_time": "2022-07-28T18:30:55.078Z"
   },
   {
    "duration": 4,
    "start_time": "2022-07-28T18:30:55.683Z"
   },
   {
    "duration": 6,
    "start_time": "2022-07-28T18:30:56.884Z"
   },
   {
    "duration": 6,
    "start_time": "2022-07-28T18:30:57.052Z"
   },
   {
    "duration": 6,
    "start_time": "2022-07-28T18:30:57.220Z"
   },
   {
    "duration": 4,
    "start_time": "2022-07-28T18:30:57.652Z"
   },
   {
    "duration": 4,
    "start_time": "2022-07-28T18:30:57.726Z"
   },
   {
    "duration": 4,
    "start_time": "2022-07-28T18:30:57.812Z"
   },
   {
    "duration": 5,
    "start_time": "2022-07-28T18:30:58.230Z"
   },
   {
    "duration": 5,
    "start_time": "2022-07-28T18:30:58.983Z"
   },
   {
    "duration": 4,
    "start_time": "2022-07-28T18:30:59.060Z"
   },
   {
    "duration": 21,
    "start_time": "2022-07-28T18:30:59.155Z"
   },
   {
    "duration": 2090,
    "start_time": "2022-07-28T18:30:59.228Z"
   },
   {
    "duration": 0,
    "start_time": "2022-07-28T18:31:01.320Z"
   },
   {
    "duration": 0,
    "start_time": "2022-07-28T18:31:01.321Z"
   },
   {
    "duration": 0,
    "start_time": "2022-07-28T18:31:01.322Z"
   },
   {
    "duration": 0,
    "start_time": "2022-07-28T18:31:01.323Z"
   },
   {
    "duration": 0,
    "start_time": "2022-07-28T18:31:01.324Z"
   },
   {
    "duration": 1330,
    "start_time": "2022-07-28T18:32:01.492Z"
   },
   {
    "duration": 4,
    "start_time": "2022-07-28T18:32:02.824Z"
   },
   {
    "duration": 380,
    "start_time": "2022-07-28T18:32:02.830Z"
   },
   {
    "duration": 3,
    "start_time": "2022-07-28T18:32:03.212Z"
   },
   {
    "duration": 86,
    "start_time": "2022-07-28T18:32:03.217Z"
   },
   {
    "duration": 45,
    "start_time": "2022-07-28T18:32:03.305Z"
   },
   {
    "duration": 41,
    "start_time": "2022-07-28T18:32:03.352Z"
   },
   {
    "duration": 130,
    "start_time": "2022-07-28T18:32:03.394Z"
   },
   {
    "duration": 56,
    "start_time": "2022-07-28T18:32:03.525Z"
   },
   {
    "duration": 78,
    "start_time": "2022-07-28T18:32:03.584Z"
   },
   {
    "duration": 50,
    "start_time": "2022-07-28T18:32:03.664Z"
   },
   {
    "duration": 7,
    "start_time": "2022-07-28T18:32:03.716Z"
   },
   {
    "duration": 17,
    "start_time": "2022-07-28T18:32:03.724Z"
   },
   {
    "duration": 11,
    "start_time": "2022-07-28T18:32:03.743Z"
   },
   {
    "duration": 535,
    "start_time": "2022-07-28T18:32:03.756Z"
   },
   {
    "duration": 205,
    "start_time": "2022-07-28T18:32:04.293Z"
   },
   {
    "duration": 624,
    "start_time": "2022-07-28T18:32:04.500Z"
   },
   {
    "duration": 33,
    "start_time": "2022-07-28T18:32:05.126Z"
   },
   {
    "duration": 4,
    "start_time": "2022-07-28T18:32:05.160Z"
   },
   {
    "duration": 9,
    "start_time": "2022-07-28T18:32:05.165Z"
   },
   {
    "duration": 10,
    "start_time": "2022-07-28T18:32:05.175Z"
   },
   {
    "duration": 4,
    "start_time": "2022-07-28T18:32:05.187Z"
   },
   {
    "duration": 50,
    "start_time": "2022-07-28T18:32:05.193Z"
   },
   {
    "duration": 4,
    "start_time": "2022-07-28T18:32:05.245Z"
   },
   {
    "duration": 28,
    "start_time": "2022-07-28T18:32:05.251Z"
   },
   {
    "duration": 10,
    "start_time": "2022-07-28T18:32:05.339Z"
   },
   {
    "duration": 11,
    "start_time": "2022-07-28T18:32:05.436Z"
   },
   {
    "duration": 4,
    "start_time": "2022-07-28T18:32:05.451Z"
   },
   {
    "duration": 23,
    "start_time": "2022-07-28T18:32:05.459Z"
   },
   {
    "duration": 56,
    "start_time": "2022-07-28T18:32:05.483Z"
   },
   {
    "duration": 7,
    "start_time": "2022-07-28T18:32:05.541Z"
   },
   {
    "duration": 98,
    "start_time": "2022-07-28T18:32:05.550Z"
   },
   {
    "duration": 8,
    "start_time": "2022-07-28T18:32:05.650Z"
   },
   {
    "duration": 20,
    "start_time": "2022-07-28T18:32:05.660Z"
   },
   {
    "duration": 56,
    "start_time": "2022-07-28T18:32:05.682Z"
   },
   {
    "duration": 4,
    "start_time": "2022-07-28T18:32:05.740Z"
   },
   {
    "duration": 110,
    "start_time": "2022-07-28T18:32:05.745Z"
   },
   {
    "duration": 8,
    "start_time": "2022-07-28T18:32:05.857Z"
   },
   {
    "duration": 12,
    "start_time": "2022-07-28T18:32:05.867Z"
   },
   {
    "duration": 8,
    "start_time": "2022-07-28T18:32:05.881Z"
   },
   {
    "duration": 9,
    "start_time": "2022-07-28T18:32:05.891Z"
   },
   {
    "duration": 4,
    "start_time": "2022-07-28T18:32:05.902Z"
   },
   {
    "duration": 6,
    "start_time": "2022-07-28T18:32:05.907Z"
   },
   {
    "duration": 13,
    "start_time": "2022-07-28T18:32:05.915Z"
   },
   {
    "duration": 10,
    "start_time": "2022-07-28T18:32:05.930Z"
   },
   {
    "duration": 20,
    "start_time": "2022-07-28T18:32:05.942Z"
   },
   {
    "duration": 14,
    "start_time": "2022-07-28T18:32:05.965Z"
   },
   {
    "duration": 1050,
    "start_time": "2022-07-28T18:32:05.981Z"
   },
   {
    "duration": 0,
    "start_time": "2022-07-28T18:32:07.033Z"
   },
   {
    "duration": 0,
    "start_time": "2022-07-28T18:32:07.035Z"
   },
   {
    "duration": 0,
    "start_time": "2022-07-28T18:32:07.036Z"
   },
   {
    "duration": 0,
    "start_time": "2022-07-28T18:32:07.037Z"
   },
   {
    "duration": 0,
    "start_time": "2022-07-28T18:32:07.038Z"
   },
   {
    "duration": 0,
    "start_time": "2022-07-28T18:32:07.039Z"
   },
   {
    "duration": 6,
    "start_time": "2022-07-28T18:32:23.952Z"
   },
   {
    "duration": 5,
    "start_time": "2022-07-28T18:32:45.159Z"
   },
   {
    "duration": 23,
    "start_time": "2022-07-28T18:34:09.998Z"
   },
   {
    "duration": 6,
    "start_time": "2022-07-28T18:34:18.781Z"
   },
   {
    "duration": 733,
    "start_time": "2022-07-28T18:34:27.805Z"
   },
   {
    "duration": 0,
    "start_time": "2022-07-28T18:34:28.539Z"
   },
   {
    "duration": 6,
    "start_time": "2022-07-28T18:34:41.940Z"
   },
   {
    "duration": 7,
    "start_time": "2022-07-28T18:34:42.780Z"
   },
   {
    "duration": 5,
    "start_time": "2022-07-28T18:34:51.459Z"
   },
   {
    "duration": 7,
    "start_time": "2022-07-28T18:34:51.985Z"
   },
   {
    "duration": 6,
    "start_time": "2022-07-28T18:34:52.765Z"
   },
   {
    "duration": 3,
    "start_time": "2022-07-28T18:34:54.348Z"
   },
   {
    "duration": 18,
    "start_time": "2022-07-28T18:34:55.983Z"
   },
   {
    "duration": 3,
    "start_time": "2022-07-28T18:34:58.651Z"
   },
   {
    "duration": 34,
    "start_time": "2022-07-28T18:34:59.203Z"
   },
   {
    "duration": 4,
    "start_time": "2022-07-28T18:35:00.005Z"
   },
   {
    "duration": 3,
    "start_time": "2022-07-28T18:35:31.757Z"
   },
   {
    "duration": 6,
    "start_time": "2022-07-28T18:35:37.195Z"
   },
   {
    "duration": 11,
    "start_time": "2022-07-28T18:36:21.468Z"
   },
   {
    "duration": 11,
    "start_time": "2022-07-28T18:36:26.129Z"
   },
   {
    "duration": 6,
    "start_time": "2022-07-28T18:36:43.718Z"
   },
   {
    "duration": 776,
    "start_time": "2022-07-28T18:36:48.784Z"
   },
   {
    "duration": 755,
    "start_time": "2022-07-28T18:36:54.847Z"
   },
   {
    "duration": 52,
    "start_time": "2022-07-28T18:37:00.756Z"
   },
   {
    "duration": 47,
    "start_time": "2022-07-28T18:37:04.228Z"
   },
   {
    "duration": 2,
    "start_time": "2022-07-28T18:38:20.979Z"
   },
   {
    "duration": 43,
    "start_time": "2022-07-28T18:38:28.202Z"
   },
   {
    "duration": 45,
    "start_time": "2022-07-28T18:38:32.226Z"
   },
   {
    "duration": 11,
    "start_time": "2022-07-28T18:38:51.852Z"
   },
   {
    "duration": 8,
    "start_time": "2022-07-28T18:38:56.944Z"
   },
   {
    "duration": 9,
    "start_time": "2022-07-28T18:39:03.806Z"
   },
   {
    "duration": 11,
    "start_time": "2022-07-28T18:39:18.249Z"
   },
   {
    "duration": 11,
    "start_time": "2022-07-28T18:39:30.693Z"
   },
   {
    "duration": 12,
    "start_time": "2022-07-28T18:40:11.718Z"
   },
   {
    "duration": 12,
    "start_time": "2022-07-28T18:40:42.878Z"
   },
   {
    "duration": 5,
    "start_time": "2022-07-28T18:43:42.960Z"
   },
   {
    "duration": 11,
    "start_time": "2022-07-28T18:44:30.001Z"
   },
   {
    "duration": 11,
    "start_time": "2022-07-28T18:44:33.457Z"
   },
   {
    "duration": 5,
    "start_time": "2022-07-28T18:44:47.032Z"
   },
   {
    "duration": 10,
    "start_time": "2022-07-28T18:44:58.110Z"
   },
   {
    "duration": 4,
    "start_time": "2022-07-28T18:48:26.689Z"
   },
   {
    "duration": 2,
    "start_time": "2022-07-28T18:48:28.122Z"
   },
   {
    "duration": 401,
    "start_time": "2022-07-28T18:48:30.397Z"
   },
   {
    "duration": 2,
    "start_time": "2022-07-28T18:48:31.730Z"
   },
   {
    "duration": 44,
    "start_time": "2022-07-28T18:48:32.382Z"
   },
   {
    "duration": 43,
    "start_time": "2022-07-28T18:48:32.787Z"
   },
   {
    "duration": 45,
    "start_time": "2022-07-28T18:48:33.354Z"
   },
   {
    "duration": 114,
    "start_time": "2022-07-28T18:48:39.782Z"
   },
   {
    "duration": 50,
    "start_time": "2022-07-28T18:48:40.383Z"
   },
   {
    "duration": 59,
    "start_time": "2022-07-28T18:48:42.862Z"
   },
   {
    "duration": 66,
    "start_time": "2022-07-28T18:48:44.117Z"
   },
   {
    "duration": 6,
    "start_time": "2022-07-28T18:48:49.376Z"
   },
   {
    "duration": 7,
    "start_time": "2022-07-28T18:48:49.600Z"
   },
   {
    "duration": 6,
    "start_time": "2022-07-28T18:48:50.057Z"
   },
   {
    "duration": 490,
    "start_time": "2022-07-28T18:48:53.012Z"
   },
   {
    "duration": 208,
    "start_time": "2022-07-28T18:48:53.654Z"
   },
   {
    "duration": 492,
    "start_time": "2022-07-28T18:48:54.745Z"
   },
   {
    "duration": 35,
    "start_time": "2022-07-28T18:48:56.726Z"
   },
   {
    "duration": 5,
    "start_time": "2022-07-28T18:48:57.692Z"
   },
   {
    "duration": 4,
    "start_time": "2022-07-28T18:48:59.613Z"
   },
   {
    "duration": 7,
    "start_time": "2022-07-28T18:49:01.413Z"
   },
   {
    "duration": 7,
    "start_time": "2022-07-28T18:49:06.253Z"
   },
   {
    "duration": 9,
    "start_time": "2022-07-28T18:49:15.273Z"
   },
   {
    "duration": 5,
    "start_time": "2022-07-28T18:49:15.732Z"
   },
   {
    "duration": 7,
    "start_time": "2022-07-28T18:49:20.819Z"
   },
   {
    "duration": 5,
    "start_time": "2022-07-28T18:49:21.453Z"
   },
   {
    "duration": 4,
    "start_time": "2022-07-28T18:50:49.769Z"
   },
   {
    "duration": 28,
    "start_time": "2022-07-28T18:50:58.031Z"
   },
   {
    "duration": 5,
    "start_time": "2022-07-28T18:51:01.195Z"
   },
   {
    "duration": 13,
    "start_time": "2022-07-28T18:51:01.908Z"
   },
   {
    "duration": 4,
    "start_time": "2022-07-28T18:51:05.411Z"
   },
   {
    "duration": 9,
    "start_time": "2022-07-28T18:51:07.455Z"
   },
   {
    "duration": 7,
    "start_time": "2022-07-28T18:51:13.150Z"
   },
   {
    "duration": 4,
    "start_time": "2022-07-28T18:51:33.533Z"
   },
   {
    "duration": 6,
    "start_time": "2022-07-28T18:51:34.789Z"
   },
   {
    "duration": 1337,
    "start_time": "2022-07-28T18:53:24.769Z"
   },
   {
    "duration": 4,
    "start_time": "2022-07-28T18:53:26.107Z"
   },
   {
    "duration": 427,
    "start_time": "2022-07-28T18:53:26.113Z"
   },
   {
    "duration": 4,
    "start_time": "2022-07-28T18:53:26.543Z"
   },
   {
    "duration": 56,
    "start_time": "2022-07-28T18:53:26.549Z"
   },
   {
    "duration": 67,
    "start_time": "2022-07-28T18:53:26.607Z"
   },
   {
    "duration": 45,
    "start_time": "2022-07-28T18:53:26.676Z"
   },
   {
    "duration": 147,
    "start_time": "2022-07-28T18:53:26.737Z"
   },
   {
    "duration": 68,
    "start_time": "2022-07-28T18:53:26.886Z"
   },
   {
    "duration": 64,
    "start_time": "2022-07-28T18:53:26.958Z"
   },
   {
    "duration": 70,
    "start_time": "2022-07-28T18:53:27.023Z"
   },
   {
    "duration": 7,
    "start_time": "2022-07-28T18:53:27.095Z"
   },
   {
    "duration": 11,
    "start_time": "2022-07-28T18:53:27.104Z"
   },
   {
    "duration": 24,
    "start_time": "2022-07-28T18:53:27.118Z"
   },
   {
    "duration": 511,
    "start_time": "2022-07-28T18:53:27.145Z"
   },
   {
    "duration": 210,
    "start_time": "2022-07-28T18:53:27.657Z"
   },
   {
    "duration": 600,
    "start_time": "2022-07-28T18:53:27.869Z"
   },
   {
    "duration": 28,
    "start_time": "2022-07-28T18:53:28.472Z"
   },
   {
    "duration": 4,
    "start_time": "2022-07-28T18:53:28.501Z"
   },
   {
    "duration": 10,
    "start_time": "2022-07-28T18:53:28.507Z"
   },
   {
    "duration": 27,
    "start_time": "2022-07-28T18:53:28.518Z"
   },
   {
    "duration": 15,
    "start_time": "2022-07-28T18:53:28.547Z"
   },
   {
    "duration": 21,
    "start_time": "2022-07-28T18:53:28.563Z"
   },
   {
    "duration": 4,
    "start_time": "2022-07-28T18:53:28.585Z"
   },
   {
    "duration": 59,
    "start_time": "2022-07-28T18:53:28.590Z"
   },
   {
    "duration": 7,
    "start_time": "2022-07-28T18:53:28.652Z"
   },
   {
    "duration": 101,
    "start_time": "2022-07-28T18:53:28.661Z"
   },
   {
    "duration": 4,
    "start_time": "2022-07-28T18:53:28.767Z"
   },
   {
    "duration": 23,
    "start_time": "2022-07-28T18:53:28.772Z"
   },
   {
    "duration": 50,
    "start_time": "2022-07-28T18:53:28.797Z"
   },
   {
    "duration": 89,
    "start_time": "2022-07-28T18:53:28.851Z"
   },
   {
    "duration": 40,
    "start_time": "2022-07-28T18:53:28.942Z"
   },
   {
    "duration": 8,
    "start_time": "2022-07-28T18:53:28.984Z"
   },
   {
    "duration": 28,
    "start_time": "2022-07-28T18:53:28.995Z"
   },
   {
    "duration": 36,
    "start_time": "2022-07-28T18:53:29.026Z"
   },
   {
    "duration": 193,
    "start_time": "2022-07-28T18:53:29.064Z"
   },
   {
    "duration": 7,
    "start_time": "2022-07-28T18:53:29.259Z"
   },
   {
    "duration": 3,
    "start_time": "2022-07-28T18:53:29.268Z"
   },
   {
    "duration": 8,
    "start_time": "2022-07-28T18:53:29.273Z"
   },
   {
    "duration": 112,
    "start_time": "2022-07-28T18:53:29.282Z"
   },
   {
    "duration": 0,
    "start_time": "2022-07-28T18:53:29.396Z"
   },
   {
    "duration": 0,
    "start_time": "2022-07-28T18:53:29.397Z"
   },
   {
    "duration": 0,
    "start_time": "2022-07-28T18:53:29.399Z"
   },
   {
    "duration": 0,
    "start_time": "2022-07-28T18:53:29.400Z"
   },
   {
    "duration": 0,
    "start_time": "2022-07-28T18:53:29.402Z"
   },
   {
    "duration": 0,
    "start_time": "2022-07-28T18:53:29.403Z"
   },
   {
    "duration": 0,
    "start_time": "2022-07-28T18:53:29.404Z"
   },
   {
    "duration": 0,
    "start_time": "2022-07-28T18:53:29.406Z"
   },
   {
    "duration": 0,
    "start_time": "2022-07-28T18:53:29.407Z"
   },
   {
    "duration": 0,
    "start_time": "2022-07-28T18:53:29.408Z"
   },
   {
    "duration": 0,
    "start_time": "2022-07-28T18:53:29.410Z"
   },
   {
    "duration": 0,
    "start_time": "2022-07-28T18:53:29.437Z"
   },
   {
    "duration": 0,
    "start_time": "2022-07-28T18:53:29.439Z"
   },
   {
    "duration": 0,
    "start_time": "2022-07-28T18:53:29.440Z"
   },
   {
    "duration": 7,
    "start_time": "2022-07-28T18:53:42.334Z"
   },
   {
    "duration": 7,
    "start_time": "2022-07-28T18:53:45.975Z"
   },
   {
    "duration": 5,
    "start_time": "2022-07-28T18:53:47.457Z"
   },
   {
    "duration": 5,
    "start_time": "2022-07-28T18:53:47.659Z"
   },
   {
    "duration": 5,
    "start_time": "2022-07-28T18:53:47.857Z"
   },
   {
    "duration": 7,
    "start_time": "2022-07-28T18:53:48.919Z"
   },
   {
    "duration": 8,
    "start_time": "2022-07-28T18:53:53.752Z"
   },
   {
    "duration": 7,
    "start_time": "2022-07-28T18:54:07.256Z"
   },
   {
    "duration": 5,
    "start_time": "2022-07-28T18:54:23.163Z"
   },
   {
    "duration": 54,
    "start_time": "2022-07-28T18:54:34.603Z"
   },
   {
    "duration": 8,
    "start_time": "2022-07-28T18:54:40.295Z"
   },
   {
    "duration": 3,
    "start_time": "2022-07-28T18:54:42.151Z"
   },
   {
    "duration": 3854,
    "start_time": "2022-07-28T18:54:43.215Z"
   },
   {
    "duration": 5,
    "start_time": "2022-07-28T18:56:07.259Z"
   },
   {
    "duration": 4,
    "start_time": "2022-07-28T18:56:07.742Z"
   },
   {
    "duration": 4136,
    "start_time": "2022-07-28T18:56:08.306Z"
   },
   {
    "duration": 6,
    "start_time": "2022-07-28T18:56:29.063Z"
   },
   {
    "duration": 7,
    "start_time": "2022-07-28T18:56:33.532Z"
   },
   {
    "duration": 4,
    "start_time": "2022-07-28T18:56:34.001Z"
   },
   {
    "duration": 884,
    "start_time": "2022-07-28T18:56:34.607Z"
   },
   {
    "duration": 851,
    "start_time": "2022-07-28T18:56:47.675Z"
   },
   {
    "duration": 917,
    "start_time": "2022-07-28T18:56:48.528Z"
   },
   {
    "duration": 832,
    "start_time": "2022-07-28T18:56:49.447Z"
   },
   {
    "duration": 5,
    "start_time": "2022-07-28T18:57:56.298Z"
   },
   {
    "duration": 3936,
    "start_time": "2022-07-28T18:57:57.676Z"
   },
   {
    "duration": 5,
    "start_time": "2022-07-28T18:59:23.450Z"
   },
   {
    "duration": 2334,
    "start_time": "2022-07-28T18:59:24.924Z"
   },
   {
    "duration": 5,
    "start_time": "2022-07-28T19:01:23.338Z"
   },
   {
    "duration": 14,
    "start_time": "2022-07-28T19:01:25.137Z"
   },
   {
    "duration": 50,
    "start_time": "2022-07-28T19:01:33.067Z"
   },
   {
    "duration": 13,
    "start_time": "2022-07-28T19:01:34.076Z"
   },
   {
    "duration": 4,
    "start_time": "2022-07-28T19:01:38.643Z"
   },
   {
    "duration": 2437,
    "start_time": "2022-07-28T19:01:39.103Z"
   },
   {
    "duration": 5,
    "start_time": "2022-07-28T19:02:24.037Z"
   },
   {
    "duration": 836,
    "start_time": "2022-07-28T19:02:26.001Z"
   },
   {
    "duration": 7,
    "start_time": "2022-07-28T19:02:54.334Z"
   },
   {
    "duration": 4,
    "start_time": "2022-07-28T19:03:00.810Z"
   },
   {
    "duration": 933,
    "start_time": "2022-07-28T19:03:02.087Z"
   },
   {
    "duration": 5,
    "start_time": "2022-07-28T19:03:08.320Z"
   },
   {
    "duration": 813,
    "start_time": "2022-07-28T19:03:09.270Z"
   },
   {
    "duration": 4,
    "start_time": "2022-07-28T19:03:31.063Z"
   },
   {
    "duration": 1125,
    "start_time": "2022-07-28T19:03:32.089Z"
   },
   {
    "duration": 7,
    "start_time": "2022-07-28T19:03:40.224Z"
   },
   {
    "duration": 961,
    "start_time": "2022-07-28T19:03:40.754Z"
   },
   {
    "duration": 5,
    "start_time": "2022-07-28T19:06:26.246Z"
   },
   {
    "duration": 909,
    "start_time": "2022-07-28T19:06:26.810Z"
   },
   {
    "duration": 6,
    "start_time": "2022-07-28T19:06:40.304Z"
   },
   {
    "duration": 845,
    "start_time": "2022-07-28T19:06:41.183Z"
   },
   {
    "duration": 5,
    "start_time": "2022-07-28T19:06:49.988Z"
   },
   {
    "duration": 847,
    "start_time": "2022-07-28T19:06:50.722Z"
   },
   {
    "duration": 4,
    "start_time": "2022-07-28T19:07:29.684Z"
   },
   {
    "duration": 880,
    "start_time": "2022-07-28T19:07:30.338Z"
   },
   {
    "duration": 5,
    "start_time": "2022-07-28T19:11:46.596Z"
   },
   {
    "duration": 1268,
    "start_time": "2022-07-28T19:11:47.372Z"
   },
   {
    "duration": 3,
    "start_time": "2022-07-28T19:19:07.819Z"
   },
   {
    "duration": 53,
    "start_time": "2022-07-28T19:19:24.516Z"
   },
   {
    "duration": 56,
    "start_time": "2022-07-28T19:19:32.959Z"
   },
   {
    "duration": 54,
    "start_time": "2022-07-28T19:19:40.060Z"
   },
   {
    "duration": 57,
    "start_time": "2022-07-28T19:19:44.179Z"
   },
   {
    "duration": 50,
    "start_time": "2022-07-28T19:20:15.769Z"
   },
   {
    "duration": 6,
    "start_time": "2022-07-28T19:20:19.391Z"
   },
   {
    "duration": 1215,
    "start_time": "2022-07-28T19:20:20.989Z"
   },
   {
    "duration": 5,
    "start_time": "2022-07-28T19:21:17.900Z"
   },
   {
    "duration": 1210,
    "start_time": "2022-07-28T19:21:19.195Z"
   },
   {
    "duration": 9,
    "start_time": "2022-07-28T19:24:15.720Z"
   },
   {
    "duration": 4,
    "start_time": "2022-07-28T19:24:25.260Z"
   },
   {
    "duration": 359,
    "start_time": "2022-07-28T19:24:28.272Z"
   },
   {
    "duration": 4,
    "start_time": "2022-07-28T19:24:29.097Z"
   },
   {
    "duration": 46,
    "start_time": "2022-07-28T19:24:29.297Z"
   },
   {
    "duration": 44,
    "start_time": "2022-07-28T19:24:29.816Z"
   },
   {
    "duration": 44,
    "start_time": "2022-07-28T19:24:30.428Z"
   },
   {
    "duration": 111,
    "start_time": "2022-07-28T19:24:44.505Z"
   },
   {
    "duration": 51,
    "start_time": "2022-07-28T19:24:46.930Z"
   },
   {
    "duration": 87,
    "start_time": "2022-07-28T19:24:47.923Z"
   },
   {
    "duration": 74,
    "start_time": "2022-07-28T19:24:48.843Z"
   },
   {
    "duration": 6,
    "start_time": "2022-07-28T19:24:53.159Z"
   },
   {
    "duration": 6,
    "start_time": "2022-07-28T19:24:53.407Z"
   },
   {
    "duration": 7,
    "start_time": "2022-07-28T19:24:53.636Z"
   },
   {
    "duration": 524,
    "start_time": "2022-07-28T19:24:58.051Z"
   },
   {
    "duration": 244,
    "start_time": "2022-07-28T19:24:58.577Z"
   },
   {
    "duration": 589,
    "start_time": "2022-07-28T19:24:58.823Z"
   },
   {
    "duration": 35,
    "start_time": "2022-07-28T19:24:59.415Z"
   },
   {
    "duration": 4,
    "start_time": "2022-07-28T19:24:59.451Z"
   },
   {
    "duration": 4,
    "start_time": "2022-07-28T19:25:00.483Z"
   },
   {
    "duration": 7,
    "start_time": "2022-07-28T19:25:01.186Z"
   },
   {
    "duration": 7,
    "start_time": "2022-07-28T19:25:08.280Z"
   },
   {
    "duration": 4,
    "start_time": "2022-07-28T19:25:10.111Z"
   },
   {
    "duration": 17,
    "start_time": "2022-07-28T19:25:15.160Z"
   },
   {
    "duration": 4,
    "start_time": "2022-07-28T19:25:16.628Z"
   },
   {
    "duration": 21,
    "start_time": "2022-07-28T19:25:21.346Z"
   },
   {
    "duration": 5,
    "start_time": "2022-07-28T19:25:27.996Z"
   },
   {
    "duration": 6,
    "start_time": "2022-07-28T19:25:32.037Z"
   },
   {
    "duration": 5,
    "start_time": "2022-07-28T19:25:32.750Z"
   },
   {
    "duration": 15,
    "start_time": "2022-07-28T19:25:33.197Z"
   },
   {
    "duration": 18,
    "start_time": "2022-07-28T19:25:34.630Z"
   },
   {
    "duration": 6,
    "start_time": "2022-07-28T19:25:38.811Z"
   },
   {
    "duration": 8,
    "start_time": "2022-07-28T19:25:42.905Z"
   },
   {
    "duration": 5,
    "start_time": "2022-07-28T19:25:43.335Z"
   },
   {
    "duration": 23,
    "start_time": "2022-07-28T19:25:43.841Z"
   },
   {
    "duration": 27,
    "start_time": "2022-07-28T19:25:44.691Z"
   },
   {
    "duration": 4,
    "start_time": "2022-07-28T19:25:50.181Z"
   },
   {
    "duration": 7,
    "start_time": "2022-07-28T19:25:50.562Z"
   },
   {
    "duration": 3,
    "start_time": "2022-07-28T19:25:52.146Z"
   },
   {
    "duration": 8,
    "start_time": "2022-07-28T19:25:54.464Z"
   },
   {
    "duration": 9,
    "start_time": "2022-07-28T19:25:55.025Z"
   },
   {
    "duration": 10,
    "start_time": "2022-07-28T19:25:55.464Z"
   },
   {
    "duration": 4,
    "start_time": "2022-07-28T19:25:56.686Z"
   },
   {
    "duration": 3,
    "start_time": "2022-07-28T19:25:57.553Z"
   },
   {
    "duration": 4,
    "start_time": "2022-07-28T19:25:58.068Z"
   },
   {
    "duration": 6,
    "start_time": "2022-07-28T19:25:59.128Z"
   },
   {
    "duration": 3,
    "start_time": "2022-07-28T19:26:02.766Z"
   },
   {
    "duration": 8,
    "start_time": "2022-07-28T19:26:04.235Z"
   },
   {
    "duration": 1068,
    "start_time": "2022-07-28T19:26:06.695Z"
   },
   {
    "duration": 111,
    "start_time": "2022-07-28T19:26:30.557Z"
   },
   {
    "duration": 1084,
    "start_time": "2022-07-28T19:26:32.355Z"
   },
   {
    "duration": 5,
    "start_time": "2022-07-28T19:27:20.076Z"
   },
   {
    "duration": 1087,
    "start_time": "2022-07-28T19:27:21.329Z"
   },
   {
    "duration": 5,
    "start_time": "2022-07-28T19:28:01.477Z"
   },
   {
    "duration": 1136,
    "start_time": "2022-07-28T19:28:02.220Z"
   },
   {
    "duration": 1110,
    "start_time": "2022-07-28T19:28:03.769Z"
   },
   {
    "duration": 1108,
    "start_time": "2022-07-28T19:28:04.882Z"
   },
   {
    "duration": 5,
    "start_time": "2022-07-28T19:33:01.278Z"
   },
   {
    "duration": 1089,
    "start_time": "2022-07-28T19:33:01.515Z"
   },
   {
    "duration": 1060,
    "start_time": "2022-07-28T19:33:02.606Z"
   },
   {
    "duration": 1133,
    "start_time": "2022-07-28T19:33:03.668Z"
   },
   {
    "duration": 5,
    "start_time": "2022-07-28T19:37:06.077Z"
   },
   {
    "duration": 1921,
    "start_time": "2022-07-28T19:37:07.068Z"
   },
   {
    "duration": 5,
    "start_time": "2022-07-28T19:38:21.488Z"
   },
   {
    "duration": 1102,
    "start_time": "2022-07-28T19:38:22.606Z"
   },
   {
    "duration": 1034,
    "start_time": "2022-07-28T19:38:24.843Z"
   },
   {
    "duration": 1102,
    "start_time": "2022-07-28T19:38:26.781Z"
   },
   {
    "duration": 5,
    "start_time": "2022-07-28T19:41:12.435Z"
   },
   {
    "duration": 5,
    "start_time": "2022-07-28T19:41:21.028Z"
   },
   {
    "duration": 1077,
    "start_time": "2022-07-28T19:41:22.136Z"
   },
   {
    "duration": 1125,
    "start_time": "2022-07-28T19:41:25.738Z"
   },
   {
    "duration": 1134,
    "start_time": "2022-07-28T19:41:28.188Z"
   },
   {
    "duration": 5,
    "start_time": "2022-07-28T19:46:14.141Z"
   },
   {
    "duration": 32,
    "start_time": "2022-07-28T19:46:20.547Z"
   },
   {
    "duration": 1041,
    "start_time": "2022-07-28T19:47:41.769Z"
   },
   {
    "duration": 1276,
    "start_time": "2022-07-28T19:54:55.052Z"
   },
   {
    "duration": 3,
    "start_time": "2022-07-28T19:54:56.330Z"
   },
   {
    "duration": 377,
    "start_time": "2022-07-28T19:54:56.335Z"
   },
   {
    "duration": 2,
    "start_time": "2022-07-28T19:54:56.715Z"
   },
   {
    "duration": 54,
    "start_time": "2022-07-28T19:54:56.719Z"
   },
   {
    "duration": 43,
    "start_time": "2022-07-28T19:54:56.775Z"
   },
   {
    "duration": 50,
    "start_time": "2022-07-28T19:54:56.820Z"
   },
   {
    "duration": 125,
    "start_time": "2022-07-28T19:54:56.872Z"
   },
   {
    "duration": 61,
    "start_time": "2022-07-28T19:54:56.998Z"
   },
   {
    "duration": 78,
    "start_time": "2022-07-28T19:54:57.062Z"
   },
   {
    "duration": 51,
    "start_time": "2022-07-28T19:54:57.142Z"
   },
   {
    "duration": 7,
    "start_time": "2022-07-28T19:54:57.194Z"
   },
   {
    "duration": 9,
    "start_time": "2022-07-28T19:54:57.203Z"
   },
   {
    "duration": 23,
    "start_time": "2022-07-28T19:54:57.214Z"
   },
   {
    "duration": 472,
    "start_time": "2022-07-28T19:54:57.239Z"
   },
   {
    "duration": 185,
    "start_time": "2022-07-28T19:54:57.713Z"
   },
   {
    "duration": 579,
    "start_time": "2022-07-28T19:54:57.899Z"
   },
   {
    "duration": 28,
    "start_time": "2022-07-28T19:54:58.479Z"
   },
   {
    "duration": 4,
    "start_time": "2022-07-28T19:54:58.509Z"
   },
   {
    "duration": 23,
    "start_time": "2022-07-28T19:54:58.514Z"
   },
   {
    "duration": 8,
    "start_time": "2022-07-28T19:54:58.538Z"
   },
   {
    "duration": 4,
    "start_time": "2022-07-28T19:54:58.548Z"
   },
   {
    "duration": 25,
    "start_time": "2022-07-28T19:54:58.553Z"
   },
   {
    "duration": 4,
    "start_time": "2022-07-28T19:54:58.580Z"
   },
   {
    "duration": 60,
    "start_time": "2022-07-28T19:54:58.586Z"
   },
   {
    "duration": 92,
    "start_time": "2022-07-28T19:54:58.647Z"
   },
   {
    "duration": 16,
    "start_time": "2022-07-28T19:54:58.741Z"
   },
   {
    "duration": 3,
    "start_time": "2022-07-28T19:54:58.761Z"
   },
   {
    "duration": 18,
    "start_time": "2022-07-28T19:54:58.766Z"
   },
   {
    "duration": 55,
    "start_time": "2022-07-28T19:54:58.785Z"
   },
   {
    "duration": 94,
    "start_time": "2022-07-28T19:54:58.843Z"
   },
   {
    "duration": 21,
    "start_time": "2022-07-28T19:54:58.940Z"
   },
   {
    "duration": 5,
    "start_time": "2022-07-28T19:54:58.963Z"
   },
   {
    "duration": 28,
    "start_time": "2022-07-28T19:54:58.970Z"
   },
   {
    "duration": 43,
    "start_time": "2022-07-28T19:54:59.001Z"
   },
   {
    "duration": 93,
    "start_time": "2022-07-28T19:54:59.046Z"
   },
   {
    "duration": 7,
    "start_time": "2022-07-28T19:54:59.141Z"
   },
   {
    "duration": 5,
    "start_time": "2022-07-28T19:54:59.151Z"
   },
   {
    "duration": 11,
    "start_time": "2022-07-28T19:54:59.158Z"
   },
   {
    "duration": 9,
    "start_time": "2022-07-28T19:54:59.171Z"
   },
   {
    "duration": 10,
    "start_time": "2022-07-28T19:54:59.183Z"
   },
   {
    "duration": 50,
    "start_time": "2022-07-28T19:54:59.194Z"
   },
   {
    "duration": 6,
    "start_time": "2022-07-28T19:54:59.246Z"
   },
   {
    "duration": 7,
    "start_time": "2022-07-28T19:54:59.254Z"
   },
   {
    "duration": 7,
    "start_time": "2022-07-28T19:54:59.263Z"
   },
   {
    "duration": 7,
    "start_time": "2022-07-28T19:54:59.272Z"
   },
   {
    "duration": 1131,
    "start_time": "2022-07-28T19:54:59.280Z"
   },
   {
    "duration": 1045,
    "start_time": "2022-07-28T19:55:00.412Z"
   },
   {
    "duration": 1026,
    "start_time": "2022-07-28T19:55:01.459Z"
   },
   {
    "duration": 1347,
    "start_time": "2022-07-29T12:46:29.299Z"
   },
   {
    "duration": 3,
    "start_time": "2022-07-29T12:46:30.648Z"
   },
   {
    "duration": 1421,
    "start_time": "2022-07-29T12:46:30.652Z"
   },
   {
    "duration": 2,
    "start_time": "2022-07-29T12:46:32.075Z"
   },
   {
    "duration": 57,
    "start_time": "2022-07-29T12:46:32.078Z"
   },
   {
    "duration": 40,
    "start_time": "2022-07-29T12:46:32.136Z"
   },
   {
    "duration": 41,
    "start_time": "2022-07-29T12:46:32.178Z"
   },
   {
    "duration": 123,
    "start_time": "2022-07-29T12:46:32.221Z"
   },
   {
    "duration": 52,
    "start_time": "2022-07-29T12:46:32.345Z"
   },
   {
    "duration": 78,
    "start_time": "2022-07-29T12:46:32.400Z"
   },
   {
    "duration": 51,
    "start_time": "2022-07-29T12:46:32.479Z"
   },
   {
    "duration": 21,
    "start_time": "2022-07-29T12:46:32.532Z"
   },
   {
    "duration": 10,
    "start_time": "2022-07-29T12:46:32.554Z"
   },
   {
    "duration": 14,
    "start_time": "2022-07-29T12:46:32.565Z"
   },
   {
    "duration": 464,
    "start_time": "2022-07-29T12:46:32.580Z"
   },
   {
    "duration": 174,
    "start_time": "2022-07-29T12:46:33.045Z"
   },
   {
    "duration": 504,
    "start_time": "2022-07-29T12:46:33.220Z"
   },
   {
    "duration": 32,
    "start_time": "2022-07-29T12:46:33.726Z"
   },
   {
    "duration": 3,
    "start_time": "2022-07-29T12:46:33.760Z"
   },
   {
    "duration": 6,
    "start_time": "2022-07-29T12:46:33.765Z"
   },
   {
    "duration": 9,
    "start_time": "2022-07-29T12:46:33.772Z"
   },
   {
    "duration": 3,
    "start_time": "2022-07-29T12:46:33.783Z"
   },
   {
    "duration": 19,
    "start_time": "2022-07-29T12:46:33.788Z"
   },
   {
    "duration": 4,
    "start_time": "2022-07-29T12:46:33.808Z"
   },
   {
    "duration": 50,
    "start_time": "2022-07-29T12:46:33.813Z"
   },
   {
    "duration": 88,
    "start_time": "2022-07-29T12:46:33.864Z"
   },
   {
    "duration": 6,
    "start_time": "2022-07-29T12:46:33.955Z"
   },
   {
    "duration": 94,
    "start_time": "2022-07-29T12:46:33.965Z"
   },
   {
    "duration": 23,
    "start_time": "2022-07-29T12:46:34.060Z"
   },
   {
    "duration": 68,
    "start_time": "2022-07-29T12:46:34.085Z"
   },
   {
    "duration": 7,
    "start_time": "2022-07-29T12:46:34.155Z"
   },
   {
    "duration": 10,
    "start_time": "2022-07-29T12:46:34.253Z"
   },
   {
    "duration": 8,
    "start_time": "2022-07-29T12:46:34.266Z"
   },
   {
    "duration": 26,
    "start_time": "2022-07-29T12:46:34.277Z"
   },
   {
    "duration": 50,
    "start_time": "2022-07-29T12:46:34.304Z"
   },
   {
    "duration": 5,
    "start_time": "2022-07-29T12:46:34.356Z"
   },
   {
    "duration": 9,
    "start_time": "2022-07-29T12:46:34.452Z"
   },
   {
    "duration": 4,
    "start_time": "2022-07-29T12:46:34.463Z"
   },
   {
    "duration": 8,
    "start_time": "2022-07-29T12:46:34.469Z"
   },
   {
    "duration": 6,
    "start_time": "2022-07-29T12:46:34.480Z"
   },
   {
    "duration": 8,
    "start_time": "2022-07-29T12:46:34.487Z"
   },
   {
    "duration": 4,
    "start_time": "2022-07-29T12:46:34.496Z"
   },
   {
    "duration": 5,
    "start_time": "2022-07-29T12:46:34.502Z"
   },
   {
    "duration": 43,
    "start_time": "2022-07-29T12:46:34.509Z"
   },
   {
    "duration": 6,
    "start_time": "2022-07-29T12:46:34.554Z"
   },
   {
    "duration": 5,
    "start_time": "2022-07-29T12:46:34.561Z"
   },
   {
    "duration": 1109,
    "start_time": "2022-07-29T12:46:34.567Z"
   },
   {
    "duration": 1132,
    "start_time": "2022-07-29T12:46:35.678Z"
   },
   {
    "duration": 1109,
    "start_time": "2022-07-29T12:46:36.812Z"
   },
   {
    "duration": 1320,
    "start_time": "2022-07-29T12:47:10.151Z"
   },
   {
    "duration": 3,
    "start_time": "2022-07-29T12:47:11.473Z"
   },
   {
    "duration": 338,
    "start_time": "2022-07-29T12:47:11.478Z"
   },
   {
    "duration": 3,
    "start_time": "2022-07-29T12:47:11.817Z"
   },
   {
    "duration": 49,
    "start_time": "2022-07-29T12:47:11.823Z"
   },
   {
    "duration": 41,
    "start_time": "2022-07-29T12:47:11.874Z"
   },
   {
    "duration": 56,
    "start_time": "2022-07-29T12:47:11.917Z"
   },
   {
    "duration": 124,
    "start_time": "2022-07-29T12:47:11.975Z"
   },
   {
    "duration": 65,
    "start_time": "2022-07-29T12:47:12.101Z"
   },
   {
    "duration": 60,
    "start_time": "2022-07-29T12:47:12.168Z"
   },
   {
    "duration": 67,
    "start_time": "2022-07-29T12:47:12.230Z"
   },
   {
    "duration": 6,
    "start_time": "2022-07-29T12:47:12.300Z"
   },
   {
    "duration": 8,
    "start_time": "2022-07-29T12:47:12.308Z"
   },
   {
    "duration": 7,
    "start_time": "2022-07-29T12:47:12.319Z"
   },
   {
    "duration": 439,
    "start_time": "2022-07-29T12:47:12.352Z"
   },
   {
    "duration": 183,
    "start_time": "2022-07-29T12:47:12.793Z"
   },
   {
    "duration": 480,
    "start_time": "2022-07-29T12:47:12.978Z"
   },
   {
    "duration": 26,
    "start_time": "2022-07-29T12:47:13.460Z"
   },
   {
    "duration": 4,
    "start_time": "2022-07-29T12:47:13.488Z"
   },
   {
    "duration": 5,
    "start_time": "2022-07-29T12:47:13.494Z"
   },
   {
    "duration": 8,
    "start_time": "2022-07-29T12:47:13.501Z"
   },
   {
    "duration": 4,
    "start_time": "2022-07-29T12:47:13.511Z"
   },
   {
    "duration": 47,
    "start_time": "2022-07-29T12:47:13.516Z"
   },
   {
    "duration": 4,
    "start_time": "2022-07-29T12:47:13.564Z"
   },
   {
    "duration": 82,
    "start_time": "2022-07-29T12:47:13.570Z"
   },
   {
    "duration": 6,
    "start_time": "2022-07-29T12:47:13.657Z"
   },
   {
    "duration": 98,
    "start_time": "2022-07-29T12:47:13.665Z"
   },
   {
    "duration": 4,
    "start_time": "2022-07-29T12:47:13.765Z"
   },
   {
    "duration": 19,
    "start_time": "2022-07-29T12:47:13.770Z"
   },
   {
    "duration": 11,
    "start_time": "2022-07-29T12:47:13.790Z"
   },
   {
    "duration": 58,
    "start_time": "2022-07-29T12:47:13.803Z"
   },
   {
    "duration": 8,
    "start_time": "2022-07-29T12:47:13.952Z"
   },
   {
    "duration": 3,
    "start_time": "2022-07-29T12:47:13.962Z"
   },
   {
    "duration": 18,
    "start_time": "2022-07-29T12:47:13.967Z"
   },
   {
    "duration": 10,
    "start_time": "2022-07-29T12:47:13.987Z"
   },
   {
    "duration": 7,
    "start_time": "2022-07-29T12:47:14.051Z"
   },
   {
    "duration": 96,
    "start_time": "2022-07-29T12:47:14.060Z"
   },
   {
    "duration": 5,
    "start_time": "2022-07-29T12:47:14.158Z"
   },
   {
    "duration": 7,
    "start_time": "2022-07-29T12:47:14.165Z"
   },
   {
    "duration": 7,
    "start_time": "2022-07-29T12:47:14.174Z"
   },
   {
    "duration": 6,
    "start_time": "2022-07-29T12:47:14.184Z"
   },
   {
    "duration": 4,
    "start_time": "2022-07-29T12:47:14.192Z"
   },
   {
    "duration": 9,
    "start_time": "2022-07-29T12:47:14.197Z"
   },
   {
    "duration": 6,
    "start_time": "2022-07-29T12:47:14.207Z"
   },
   {
    "duration": 8,
    "start_time": "2022-07-29T12:47:14.214Z"
   },
   {
    "duration": 7,
    "start_time": "2022-07-29T12:47:14.253Z"
   },
   {
    "duration": 1117,
    "start_time": "2022-07-29T12:47:14.262Z"
   },
   {
    "duration": 992,
    "start_time": "2022-07-29T12:47:15.381Z"
   },
   {
    "duration": 991,
    "start_time": "2022-07-29T12:47:16.374Z"
   },
   {
    "duration": 1512,
    "start_time": "2022-07-29T12:48:38.926Z"
   },
   {
    "duration": 3,
    "start_time": "2022-07-29T12:48:40.440Z"
   },
   {
    "duration": 330,
    "start_time": "2022-07-29T12:48:40.445Z"
   },
   {
    "duration": 3,
    "start_time": "2022-07-29T12:48:40.776Z"
   },
   {
    "duration": 46,
    "start_time": "2022-07-29T12:48:40.781Z"
   },
   {
    "duration": 49,
    "start_time": "2022-07-29T12:48:40.829Z"
   },
   {
    "duration": 38,
    "start_time": "2022-07-29T12:48:40.880Z"
   },
   {
    "duration": 120,
    "start_time": "2022-07-29T12:48:40.919Z"
   },
   {
    "duration": 58,
    "start_time": "2022-07-29T12:48:41.040Z"
   },
   {
    "duration": 81,
    "start_time": "2022-07-29T12:48:41.100Z"
   },
   {
    "duration": 58,
    "start_time": "2022-07-29T12:48:41.183Z"
   },
   {
    "duration": 7,
    "start_time": "2022-07-29T12:48:41.251Z"
   },
   {
    "duration": 9,
    "start_time": "2022-07-29T12:48:41.259Z"
   },
   {
    "duration": 8,
    "start_time": "2022-07-29T12:48:41.271Z"
   },
   {
    "duration": 434,
    "start_time": "2022-07-29T12:48:41.281Z"
   },
   {
    "duration": 178,
    "start_time": "2022-07-29T12:48:41.717Z"
   },
   {
    "duration": 478,
    "start_time": "2022-07-29T12:48:41.897Z"
   },
   {
    "duration": 25,
    "start_time": "2022-07-29T12:48:42.376Z"
   },
   {
    "duration": 4,
    "start_time": "2022-07-29T12:48:42.402Z"
   },
   {
    "duration": 6,
    "start_time": "2022-07-29T12:48:42.407Z"
   },
   {
    "duration": 8,
    "start_time": "2022-07-29T12:48:42.414Z"
   },
   {
    "duration": 3,
    "start_time": "2022-07-29T12:48:42.423Z"
   },
   {
    "duration": 38,
    "start_time": "2022-07-29T12:48:42.428Z"
   },
   {
    "duration": 3,
    "start_time": "2022-07-29T12:48:42.468Z"
   },
   {
    "duration": 18,
    "start_time": "2022-07-29T12:48:42.473Z"
   },
   {
    "duration": 6,
    "start_time": "2022-07-29T12:48:42.553Z"
   },
   {
    "duration": 101,
    "start_time": "2022-07-29T12:48:42.560Z"
   },
   {
    "duration": 3,
    "start_time": "2022-07-29T12:48:42.663Z"
   },
   {
    "duration": 16,
    "start_time": "2022-07-29T12:48:42.667Z"
   },
   {
    "duration": 10,
    "start_time": "2022-07-29T12:48:42.684Z"
   },
   {
    "duration": 62,
    "start_time": "2022-07-29T12:48:42.696Z"
   },
   {
    "duration": 103,
    "start_time": "2022-07-29T12:48:42.759Z"
   },
   {
    "duration": 4,
    "start_time": "2022-07-29T12:48:42.863Z"
   },
   {
    "duration": 18,
    "start_time": "2022-07-29T12:48:42.868Z"
   },
   {
    "duration": 10,
    "start_time": "2022-07-29T12:48:42.888Z"
   },
   {
    "duration": 6,
    "start_time": "2022-07-29T12:48:42.954Z"
   },
   {
    "duration": 99,
    "start_time": "2022-07-29T12:48:42.961Z"
   },
   {
    "duration": 3,
    "start_time": "2022-07-29T12:48:43.062Z"
   },
   {
    "duration": 7,
    "start_time": "2022-07-29T12:48:43.067Z"
   },
   {
    "duration": 5,
    "start_time": "2022-07-29T12:48:43.076Z"
   },
   {
    "duration": 5,
    "start_time": "2022-07-29T12:48:43.086Z"
   },
   {
    "duration": 3,
    "start_time": "2022-07-29T12:48:43.093Z"
   },
   {
    "duration": 5,
    "start_time": "2022-07-29T12:48:43.098Z"
   },
   {
    "duration": 5,
    "start_time": "2022-07-29T12:48:43.104Z"
   },
   {
    "duration": 46,
    "start_time": "2022-07-29T12:48:43.110Z"
   },
   {
    "duration": 6,
    "start_time": "2022-07-29T12:48:43.158Z"
   },
   {
    "duration": 975,
    "start_time": "2022-07-29T12:48:43.166Z"
   },
   {
    "duration": 954,
    "start_time": "2022-07-29T12:48:44.143Z"
   },
   {
    "duration": 1018,
    "start_time": "2022-07-29T12:48:45.099Z"
   },
   {
    "duration": 17,
    "start_time": "2022-07-29T12:51:39.980Z"
   },
   {
    "duration": 1382,
    "start_time": "2022-07-29T12:54:00.375Z"
   },
   {
    "duration": 3,
    "start_time": "2022-07-29T12:54:01.759Z"
   },
   {
    "duration": 324,
    "start_time": "2022-07-29T12:54:01.764Z"
   },
   {
    "duration": 3,
    "start_time": "2022-07-29T12:54:02.090Z"
   },
   {
    "duration": 46,
    "start_time": "2022-07-29T12:54:02.094Z"
   },
   {
    "duration": 46,
    "start_time": "2022-07-29T12:54:02.141Z"
   },
   {
    "duration": 42,
    "start_time": "2022-07-29T12:54:02.189Z"
   },
   {
    "duration": 130,
    "start_time": "2022-07-29T12:54:02.232Z"
   },
   {
    "duration": 46,
    "start_time": "2022-07-29T12:54:02.363Z"
   },
   {
    "duration": 77,
    "start_time": "2022-07-29T12:54:02.411Z"
   },
   {
    "duration": 49,
    "start_time": "2022-07-29T12:54:02.489Z"
   },
   {
    "duration": 16,
    "start_time": "2022-07-29T12:54:02.540Z"
   },
   {
    "duration": 13,
    "start_time": "2022-07-29T12:54:02.558Z"
   },
   {
    "duration": 26,
    "start_time": "2022-07-29T12:54:02.572Z"
   },
   {
    "duration": 421,
    "start_time": "2022-07-29T12:54:02.605Z"
   },
   {
    "duration": 174,
    "start_time": "2022-07-29T12:54:03.028Z"
   },
   {
    "duration": 470,
    "start_time": "2022-07-29T12:54:03.203Z"
   },
   {
    "duration": 26,
    "start_time": "2022-07-29T12:54:03.675Z"
   },
   {
    "duration": 4,
    "start_time": "2022-07-29T12:54:03.703Z"
   },
   {
    "duration": 22,
    "start_time": "2022-07-29T12:54:03.708Z"
   },
   {
    "duration": 11,
    "start_time": "2022-07-29T12:54:03.731Z"
   },
   {
    "duration": 5,
    "start_time": "2022-07-29T12:54:03.744Z"
   },
   {
    "duration": 16,
    "start_time": "2022-07-29T12:54:03.751Z"
   },
   {
    "duration": 2,
    "start_time": "2022-07-29T12:54:03.769Z"
   },
   {
    "duration": 18,
    "start_time": "2022-07-29T12:54:03.773Z"
   },
   {
    "duration": 5,
    "start_time": "2022-07-29T12:54:03.851Z"
   },
   {
    "duration": 98,
    "start_time": "2022-07-29T12:54:03.858Z"
   },
   {
    "duration": 4,
    "start_time": "2022-07-29T12:54:03.959Z"
   },
   {
    "duration": 16,
    "start_time": "2022-07-29T12:54:03.964Z"
   },
   {
    "duration": 12,
    "start_time": "2022-07-29T12:54:03.981Z"
   },
   {
    "duration": 60,
    "start_time": "2022-07-29T12:54:03.994Z"
   },
   {
    "duration": 101,
    "start_time": "2022-07-29T12:54:04.055Z"
   },
   {
    "duration": 3,
    "start_time": "2022-07-29T12:54:04.157Z"
   },
   {
    "duration": 18,
    "start_time": "2022-07-29T12:54:04.162Z"
   },
   {
    "duration": 12,
    "start_time": "2022-07-29T12:54:04.182Z"
   },
   {
    "duration": 4,
    "start_time": "2022-07-29T12:54:04.253Z"
   },
   {
    "duration": 96,
    "start_time": "2022-07-29T12:54:04.259Z"
   },
   {
    "duration": 3,
    "start_time": "2022-07-29T12:54:04.356Z"
   },
   {
    "duration": 11,
    "start_time": "2022-07-29T12:54:04.360Z"
   },
   {
    "duration": 7,
    "start_time": "2022-07-29T12:54:04.372Z"
   },
   {
    "duration": 6,
    "start_time": "2022-07-29T12:54:04.381Z"
   },
   {
    "duration": 8,
    "start_time": "2022-07-29T12:54:04.388Z"
   },
   {
    "duration": 6,
    "start_time": "2022-07-29T12:54:04.397Z"
   },
   {
    "duration": 5,
    "start_time": "2022-07-29T12:54:04.404Z"
   },
   {
    "duration": 6,
    "start_time": "2022-07-29T12:54:04.410Z"
   },
   {
    "duration": 5,
    "start_time": "2022-07-29T12:54:04.417Z"
   },
   {
    "duration": 1035,
    "start_time": "2022-07-29T12:54:04.423Z"
   },
   {
    "duration": 1002,
    "start_time": "2022-07-29T12:54:05.460Z"
   },
   {
    "duration": 952,
    "start_time": "2022-07-29T12:54:06.463Z"
   },
   {
    "duration": 1353,
    "start_time": "2022-07-29T13:00:57.437Z"
   },
   {
    "duration": 3,
    "start_time": "2022-07-29T13:00:58.792Z"
   },
   {
    "duration": 334,
    "start_time": "2022-07-29T13:00:58.796Z"
   },
   {
    "duration": 3,
    "start_time": "2022-07-29T13:00:59.132Z"
   },
   {
    "duration": 48,
    "start_time": "2022-07-29T13:00:59.136Z"
   },
   {
    "duration": 38,
    "start_time": "2022-07-29T13:00:59.186Z"
   },
   {
    "duration": 55,
    "start_time": "2022-07-29T13:00:59.226Z"
   },
   {
    "duration": 127,
    "start_time": "2022-07-29T13:00:59.283Z"
   },
   {
    "duration": 58,
    "start_time": "2022-07-29T13:00:59.411Z"
   },
   {
    "duration": 63,
    "start_time": "2022-07-29T13:00:59.471Z"
   },
   {
    "duration": 63,
    "start_time": "2022-07-29T13:00:59.536Z"
   },
   {
    "duration": 6,
    "start_time": "2022-07-29T13:00:59.601Z"
   },
   {
    "duration": 9,
    "start_time": "2022-07-29T13:00:59.609Z"
   },
   {
    "duration": 7,
    "start_time": "2022-07-29T13:00:59.620Z"
   },
   {
    "duration": 437,
    "start_time": "2022-07-29T13:00:59.628Z"
   },
   {
    "duration": 171,
    "start_time": "2022-07-29T13:01:00.067Z"
   },
   {
    "duration": 480,
    "start_time": "2022-07-29T13:01:00.240Z"
   },
   {
    "duration": 37,
    "start_time": "2022-07-29T13:01:00.722Z"
   },
   {
    "duration": 4,
    "start_time": "2022-07-29T13:01:00.760Z"
   },
   {
    "duration": 8,
    "start_time": "2022-07-29T13:01:00.765Z"
   },
   {
    "duration": 21,
    "start_time": "2022-07-29T13:01:00.775Z"
   },
   {
    "duration": 3,
    "start_time": "2022-07-29T13:01:00.798Z"
   },
   {
    "duration": 23,
    "start_time": "2022-07-29T13:01:00.803Z"
   },
   {
    "duration": 4,
    "start_time": "2022-07-29T13:01:00.828Z"
   },
   {
    "duration": 28,
    "start_time": "2022-07-29T13:01:00.834Z"
   },
   {
    "duration": 90,
    "start_time": "2022-07-29T13:01:00.864Z"
   },
   {
    "duration": 125,
    "start_time": "2022-07-29T13:01:00.956Z"
   },
   {
    "duration": 3,
    "start_time": "2022-07-29T13:01:01.084Z"
   },
   {
    "duration": 15,
    "start_time": "2022-07-29T13:01:01.088Z"
   },
   {
    "duration": 50,
    "start_time": "2022-07-29T13:01:01.105Z"
   },
   {
    "duration": 100,
    "start_time": "2022-07-29T13:01:01.157Z"
   },
   {
    "duration": 21,
    "start_time": "2022-07-29T13:01:01.258Z"
   },
   {
    "duration": 3,
    "start_time": "2022-07-29T13:01:01.281Z"
   },
   {
    "duration": 16,
    "start_time": "2022-07-29T13:01:01.286Z"
   },
   {
    "duration": 50,
    "start_time": "2022-07-29T13:01:01.303Z"
   },
   {
    "duration": 4,
    "start_time": "2022-07-29T13:01:01.355Z"
   },
   {
    "duration": 108,
    "start_time": "2022-07-29T13:01:01.361Z"
   },
   {
    "duration": 12,
    "start_time": "2022-07-29T13:01:01.471Z"
   },
   {
    "duration": 9,
    "start_time": "2022-07-29T13:01:01.485Z"
   },
   {
    "duration": 14,
    "start_time": "2022-07-29T13:01:01.496Z"
   },
   {
    "duration": 9,
    "start_time": "2022-07-29T13:01:01.511Z"
   },
   {
    "duration": 15,
    "start_time": "2022-07-29T13:01:01.521Z"
   },
   {
    "duration": 11,
    "start_time": "2022-07-29T13:01:01.537Z"
   },
   {
    "duration": 14,
    "start_time": "2022-07-29T13:01:01.550Z"
   },
   {
    "duration": 11,
    "start_time": "2022-07-29T13:01:01.566Z"
   },
   {
    "duration": 29,
    "start_time": "2022-07-29T13:01:01.579Z"
   },
   {
    "duration": 1019,
    "start_time": "2022-07-29T13:01:01.610Z"
   },
   {
    "duration": 999,
    "start_time": "2022-07-29T13:01:02.631Z"
   },
   {
    "duration": 960,
    "start_time": "2022-07-29T13:01:03.631Z"
   },
   {
    "duration": 1370,
    "start_time": "2022-07-29T13:02:24.174Z"
   },
   {
    "duration": 2,
    "start_time": "2022-07-29T13:02:25.546Z"
   },
   {
    "duration": 346,
    "start_time": "2022-07-29T13:02:25.552Z"
   },
   {
    "duration": 3,
    "start_time": "2022-07-29T13:02:25.900Z"
   },
   {
    "duration": 60,
    "start_time": "2022-07-29T13:02:25.905Z"
   },
   {
    "duration": 51,
    "start_time": "2022-07-29T13:02:25.967Z"
   },
   {
    "duration": 73,
    "start_time": "2022-07-29T13:02:26.020Z"
   },
   {
    "duration": 171,
    "start_time": "2022-07-29T13:02:26.095Z"
   },
   {
    "duration": 48,
    "start_time": "2022-07-29T13:02:26.268Z"
   },
   {
    "duration": 76,
    "start_time": "2022-07-29T13:02:26.319Z"
   },
   {
    "duration": 49,
    "start_time": "2022-07-29T13:02:26.396Z"
   },
   {
    "duration": 11,
    "start_time": "2022-07-29T13:02:26.446Z"
   },
   {
    "duration": 8,
    "start_time": "2022-07-29T13:02:26.459Z"
   },
   {
    "duration": 12,
    "start_time": "2022-07-29T13:02:26.469Z"
   },
   {
    "duration": 483,
    "start_time": "2022-07-29T13:02:26.483Z"
   },
   {
    "duration": 205,
    "start_time": "2022-07-29T13:02:26.968Z"
   },
   {
    "duration": 554,
    "start_time": "2022-07-29T13:02:27.174Z"
   },
   {
    "duration": 35,
    "start_time": "2022-07-29T13:02:27.729Z"
   },
   {
    "duration": 2,
    "start_time": "2022-07-29T13:02:27.766Z"
   },
   {
    "duration": 16,
    "start_time": "2022-07-29T13:02:27.770Z"
   },
   {
    "duration": 26,
    "start_time": "2022-07-29T13:02:27.787Z"
   },
   {
    "duration": 4,
    "start_time": "2022-07-29T13:02:27.814Z"
   },
   {
    "duration": 32,
    "start_time": "2022-07-29T13:02:27.819Z"
   },
   {
    "duration": 10,
    "start_time": "2022-07-29T13:02:27.853Z"
   },
   {
    "duration": 40,
    "start_time": "2022-07-29T13:02:27.865Z"
   },
   {
    "duration": 109,
    "start_time": "2022-07-29T13:02:27.953Z"
   },
   {
    "duration": 32,
    "start_time": "2022-07-29T13:02:28.064Z"
   },
   {
    "duration": 12,
    "start_time": "2022-07-29T13:02:28.099Z"
   },
   {
    "duration": 32,
    "start_time": "2022-07-29T13:02:28.112Z"
   },
   {
    "duration": 22,
    "start_time": "2022-07-29T13:02:28.146Z"
   },
   {
    "duration": 89,
    "start_time": "2022-07-29T13:02:28.170Z"
   },
   {
    "duration": 118,
    "start_time": "2022-07-29T13:02:28.262Z"
   },
   {
    "duration": 3,
    "start_time": "2022-07-29T13:02:28.382Z"
   },
   {
    "duration": 25,
    "start_time": "2022-07-29T13:02:28.386Z"
   },
   {
    "duration": 41,
    "start_time": "2022-07-29T13:02:28.412Z"
   },
   {
    "duration": 101,
    "start_time": "2022-07-29T13:02:28.454Z"
   },
   {
    "duration": 14,
    "start_time": "2022-07-29T13:02:28.557Z"
   },
   {
    "duration": 3,
    "start_time": "2022-07-29T13:02:28.573Z"
   },
   {
    "duration": 15,
    "start_time": "2022-07-29T13:02:28.578Z"
   },
   {
    "duration": 61,
    "start_time": "2022-07-29T13:02:28.594Z"
   },
   {
    "duration": 11,
    "start_time": "2022-07-29T13:02:28.657Z"
   },
   {
    "duration": 8,
    "start_time": "2022-07-29T13:02:28.669Z"
   },
   {
    "duration": 18,
    "start_time": "2022-07-29T13:02:28.679Z"
   },
   {
    "duration": 13,
    "start_time": "2022-07-29T13:02:28.698Z"
   },
   {
    "duration": 7,
    "start_time": "2022-07-29T13:02:28.713Z"
   },
   {
    "duration": 10,
    "start_time": "2022-07-29T13:02:28.721Z"
   },
   {
    "duration": 1106,
    "start_time": "2022-07-29T13:02:28.732Z"
   },
   {
    "duration": 1076,
    "start_time": "2022-07-29T13:02:29.840Z"
   },
   {
    "duration": 1111,
    "start_time": "2022-07-29T13:02:30.918Z"
   },
   {
    "duration": 14,
    "start_time": "2022-07-29T13:05:13.922Z"
   },
   {
    "duration": 7,
    "start_time": "2022-07-29T13:05:19.230Z"
   },
   {
    "duration": 1430,
    "start_time": "2022-07-29T13:08:09.261Z"
   },
   {
    "duration": 3,
    "start_time": "2022-07-29T13:08:10.693Z"
   },
   {
    "duration": 342,
    "start_time": "2022-07-29T13:08:10.698Z"
   },
   {
    "duration": 3,
    "start_time": "2022-07-29T13:08:11.042Z"
   },
   {
    "duration": 49,
    "start_time": "2022-07-29T13:08:11.046Z"
   },
   {
    "duration": 57,
    "start_time": "2022-07-29T13:08:11.096Z"
   },
   {
    "duration": 39,
    "start_time": "2022-07-29T13:08:11.154Z"
   },
   {
    "duration": 140,
    "start_time": "2022-07-29T13:08:11.195Z"
   },
   {
    "duration": 59,
    "start_time": "2022-07-29T13:08:11.336Z"
   },
   {
    "duration": 79,
    "start_time": "2022-07-29T13:08:11.397Z"
   },
   {
    "duration": 49,
    "start_time": "2022-07-29T13:08:11.477Z"
   },
   {
    "duration": 6,
    "start_time": "2022-07-29T13:08:11.527Z"
   },
   {
    "duration": 19,
    "start_time": "2022-07-29T13:08:11.535Z"
   },
   {
    "duration": 17,
    "start_time": "2022-07-29T13:08:11.555Z"
   },
   {
    "duration": 450,
    "start_time": "2022-07-29T13:08:11.574Z"
   },
   {
    "duration": 185,
    "start_time": "2022-07-29T13:08:12.025Z"
   },
   {
    "duration": 525,
    "start_time": "2022-07-29T13:08:12.211Z"
   },
   {
    "duration": 37,
    "start_time": "2022-07-29T13:08:12.738Z"
   },
   {
    "duration": 3,
    "start_time": "2022-07-29T13:08:12.776Z"
   },
   {
    "duration": 7,
    "start_time": "2022-07-29T13:08:12.780Z"
   },
   {
    "duration": 20,
    "start_time": "2022-07-29T13:08:12.788Z"
   },
   {
    "duration": 5,
    "start_time": "2022-07-29T13:08:12.809Z"
   },
   {
    "duration": 18,
    "start_time": "2022-07-29T13:08:12.815Z"
   },
   {
    "duration": 19,
    "start_time": "2022-07-29T13:08:12.834Z"
   },
   {
    "duration": 29,
    "start_time": "2022-07-29T13:08:12.854Z"
   },
   {
    "duration": 9,
    "start_time": "2022-07-29T13:08:12.952Z"
   },
   {
    "duration": 105,
    "start_time": "2022-07-29T13:08:12.963Z"
   },
   {
    "duration": 4,
    "start_time": "2022-07-29T13:08:13.073Z"
   },
   {
    "duration": 21,
    "start_time": "2022-07-29T13:08:13.080Z"
   },
   {
    "duration": 50,
    "start_time": "2022-07-29T13:08:13.103Z"
   },
   {
    "duration": 6,
    "start_time": "2022-07-29T13:08:13.154Z"
   },
   {
    "duration": 106,
    "start_time": "2022-07-29T13:08:13.162Z"
   },
   {
    "duration": 3,
    "start_time": "2022-07-29T13:08:13.270Z"
   },
   {
    "duration": 16,
    "start_time": "2022-07-29T13:08:13.275Z"
   },
   {
    "duration": 13,
    "start_time": "2022-07-29T13:08:13.293Z"
   },
   {
    "duration": 46,
    "start_time": "2022-07-29T13:08:13.307Z"
   },
   {
    "duration": 105,
    "start_time": "2022-07-29T13:08:13.355Z"
   },
   {
    "duration": 4,
    "start_time": "2022-07-29T13:08:13.462Z"
   },
   {
    "duration": 5,
    "start_time": "2022-07-29T13:08:13.467Z"
   },
   {
    "duration": 5,
    "start_time": "2022-07-29T13:08:13.474Z"
   },
   {
    "duration": 5,
    "start_time": "2022-07-29T13:08:13.480Z"
   },
   {
    "duration": 117,
    "start_time": "2022-07-29T13:08:13.486Z"
   },
   {
    "duration": 0,
    "start_time": "2022-07-29T13:08:13.605Z"
   },
   {
    "duration": 0,
    "start_time": "2022-07-29T13:08:13.606Z"
   },
   {
    "duration": 0,
    "start_time": "2022-07-29T13:08:13.607Z"
   },
   {
    "duration": 0,
    "start_time": "2022-07-29T13:08:13.608Z"
   },
   {
    "duration": 0,
    "start_time": "2022-07-29T13:08:13.609Z"
   },
   {
    "duration": 0,
    "start_time": "2022-07-29T13:08:13.610Z"
   },
   {
    "duration": 0,
    "start_time": "2022-07-29T13:08:13.610Z"
   },
   {
    "duration": 1420,
    "start_time": "2022-07-29T13:11:02.935Z"
   },
   {
    "duration": 4,
    "start_time": "2022-07-29T13:11:04.356Z"
   },
   {
    "duration": 400,
    "start_time": "2022-07-29T13:11:04.362Z"
   },
   {
    "duration": 3,
    "start_time": "2022-07-29T13:11:04.764Z"
   },
   {
    "duration": 92,
    "start_time": "2022-07-29T13:11:04.770Z"
   },
   {
    "duration": 46,
    "start_time": "2022-07-29T13:11:04.863Z"
   },
   {
    "duration": 58,
    "start_time": "2022-07-29T13:11:04.911Z"
   },
   {
    "duration": 161,
    "start_time": "2022-07-29T13:11:04.970Z"
   },
   {
    "duration": 57,
    "start_time": "2022-07-29T13:11:05.133Z"
   },
   {
    "duration": 74,
    "start_time": "2022-07-29T13:11:05.193Z"
   },
   {
    "duration": 57,
    "start_time": "2022-07-29T13:11:05.269Z"
   },
   {
    "duration": 7,
    "start_time": "2022-07-29T13:11:05.327Z"
   },
   {
    "duration": 30,
    "start_time": "2022-07-29T13:11:05.335Z"
   },
   {
    "duration": 48,
    "start_time": "2022-07-29T13:11:05.367Z"
   },
   {
    "duration": 458,
    "start_time": "2022-07-29T13:11:05.417Z"
   },
   {
    "duration": 205,
    "start_time": "2022-07-29T13:11:05.877Z"
   },
   {
    "duration": 535,
    "start_time": "2022-07-29T13:11:06.084Z"
   },
   {
    "duration": 39,
    "start_time": "2022-07-29T13:11:06.621Z"
   },
   {
    "duration": 3,
    "start_time": "2022-07-29T13:11:06.662Z"
   },
   {
    "duration": 12,
    "start_time": "2022-07-29T13:11:06.666Z"
   },
   {
    "duration": 16,
    "start_time": "2022-07-29T13:11:06.679Z"
   },
   {
    "duration": 3,
    "start_time": "2022-07-29T13:11:06.697Z"
   },
   {
    "duration": 16,
    "start_time": "2022-07-29T13:11:06.702Z"
   },
   {
    "duration": 3,
    "start_time": "2022-07-29T13:11:06.720Z"
   },
   {
    "duration": 36,
    "start_time": "2022-07-29T13:11:06.724Z"
   },
   {
    "duration": 5,
    "start_time": "2022-07-29T13:11:06.762Z"
   },
   {
    "duration": 193,
    "start_time": "2022-07-29T13:11:06.768Z"
   },
   {
    "duration": 4,
    "start_time": "2022-07-29T13:11:06.964Z"
   },
   {
    "duration": 18,
    "start_time": "2022-07-29T13:11:06.970Z"
   },
   {
    "duration": 65,
    "start_time": "2022-07-29T13:11:06.989Z"
   },
   {
    "duration": 6,
    "start_time": "2022-07-29T13:11:07.056Z"
   },
   {
    "duration": 16,
    "start_time": "2022-07-29T13:11:07.152Z"
   },
   {
    "duration": 4,
    "start_time": "2022-07-29T13:11:07.170Z"
   },
   {
    "duration": 15,
    "start_time": "2022-07-29T13:11:07.176Z"
   },
   {
    "duration": 62,
    "start_time": "2022-07-29T13:11:07.193Z"
   },
   {
    "duration": 3,
    "start_time": "2022-07-29T13:11:07.257Z"
   },
   {
    "duration": 100,
    "start_time": "2022-07-29T13:11:07.262Z"
   },
   {
    "duration": 18,
    "start_time": "2022-07-29T13:11:07.363Z"
   },
   {
    "duration": 15,
    "start_time": "2022-07-29T13:11:07.382Z"
   },
   {
    "duration": 109,
    "start_time": "2022-07-29T13:11:07.398Z"
   },
   {
    "duration": 0,
    "start_time": "2022-07-29T13:11:07.508Z"
   },
   {
    "duration": 0,
    "start_time": "2022-07-29T13:11:07.510Z"
   },
   {
    "duration": 0,
    "start_time": "2022-07-29T13:11:07.510Z"
   },
   {
    "duration": 0,
    "start_time": "2022-07-29T13:11:07.512Z"
   },
   {
    "duration": 0,
    "start_time": "2022-07-29T13:11:07.513Z"
   },
   {
    "duration": 0,
    "start_time": "2022-07-29T13:11:07.514Z"
   },
   {
    "duration": 0,
    "start_time": "2022-07-29T13:11:07.515Z"
   },
   {
    "duration": 0,
    "start_time": "2022-07-29T13:11:07.516Z"
   },
   {
    "duration": 1433,
    "start_time": "2022-07-29T13:11:26.472Z"
   },
   {
    "duration": 4,
    "start_time": "2022-07-29T13:11:27.906Z"
   },
   {
    "duration": 341,
    "start_time": "2022-07-29T13:11:27.911Z"
   },
   {
    "duration": 2,
    "start_time": "2022-07-29T13:11:28.254Z"
   },
   {
    "duration": 49,
    "start_time": "2022-07-29T13:11:28.258Z"
   },
   {
    "duration": 71,
    "start_time": "2022-07-29T13:11:28.309Z"
   },
   {
    "duration": 55,
    "start_time": "2022-07-29T13:11:28.382Z"
   },
   {
    "duration": 146,
    "start_time": "2022-07-29T13:11:28.439Z"
   },
   {
    "duration": 56,
    "start_time": "2022-07-29T13:11:28.587Z"
   },
   {
    "duration": 61,
    "start_time": "2022-07-29T13:11:28.653Z"
   },
   {
    "duration": 64,
    "start_time": "2022-07-29T13:11:28.715Z"
   },
   {
    "duration": 7,
    "start_time": "2022-07-29T13:11:28.781Z"
   },
   {
    "duration": 9,
    "start_time": "2022-07-29T13:11:28.789Z"
   },
   {
    "duration": 10,
    "start_time": "2022-07-29T13:11:28.799Z"
   },
   {
    "duration": 447,
    "start_time": "2022-07-29T13:11:28.810Z"
   },
   {
    "duration": 177,
    "start_time": "2022-07-29T13:11:29.259Z"
   },
   {
    "duration": 493,
    "start_time": "2022-07-29T13:11:29.438Z"
   },
   {
    "duration": 42,
    "start_time": "2022-07-29T13:11:29.933Z"
   },
   {
    "duration": 3,
    "start_time": "2022-07-29T13:11:29.977Z"
   },
   {
    "duration": 11,
    "start_time": "2022-07-29T13:11:29.982Z"
   },
   {
    "duration": 22,
    "start_time": "2022-07-29T13:11:29.994Z"
   },
   {
    "duration": 4,
    "start_time": "2022-07-29T13:11:30.017Z"
   },
   {
    "duration": 29,
    "start_time": "2022-07-29T13:11:30.023Z"
   },
   {
    "duration": 9,
    "start_time": "2022-07-29T13:11:30.054Z"
   },
   {
    "duration": 87,
    "start_time": "2022-07-29T13:11:30.064Z"
   },
   {
    "duration": 102,
    "start_time": "2022-07-29T13:11:30.153Z"
   },
   {
    "duration": 53,
    "start_time": "2022-07-29T13:11:30.257Z"
   },
   {
    "duration": 14,
    "start_time": "2022-07-29T13:11:30.313Z"
   },
   {
    "duration": 56,
    "start_time": "2022-07-29T13:11:30.329Z"
   },
   {
    "duration": 67,
    "start_time": "2022-07-29T13:11:30.386Z"
   },
   {
    "duration": 132,
    "start_time": "2022-07-29T13:11:30.455Z"
   },
   {
    "duration": 46,
    "start_time": "2022-07-29T13:11:30.589Z"
   },
   {
    "duration": 38,
    "start_time": "2022-07-29T13:11:30.636Z"
   },
   {
    "duration": 74,
    "start_time": "2022-07-29T13:11:30.676Z"
   },
   {
    "duration": 70,
    "start_time": "2022-07-29T13:11:30.752Z"
   },
   {
    "duration": 142,
    "start_time": "2022-07-29T13:11:30.824Z"
   },
   {
    "duration": 41,
    "start_time": "2022-07-29T13:11:30.968Z"
   },
   {
    "duration": 32,
    "start_time": "2022-07-29T13:11:31.011Z"
   },
   {
    "duration": 26,
    "start_time": "2022-07-29T13:11:31.045Z"
   },
   {
    "duration": 39,
    "start_time": "2022-07-29T13:11:31.073Z"
   },
   {
    "duration": 24,
    "start_time": "2022-07-29T13:11:31.114Z"
   },
   {
    "duration": 24,
    "start_time": "2022-07-29T13:11:31.140Z"
   },
   {
    "duration": 34,
    "start_time": "2022-07-29T13:11:31.165Z"
   },
   {
    "duration": 25,
    "start_time": "2022-07-29T13:11:31.200Z"
   },
   {
    "duration": 36,
    "start_time": "2022-07-29T13:11:31.226Z"
   },
   {
    "duration": 138,
    "start_time": "2022-07-29T13:11:31.264Z"
   },
   {
    "duration": 0,
    "start_time": "2022-07-29T13:11:31.404Z"
   },
   {
    "duration": 0,
    "start_time": "2022-07-29T13:11:31.406Z"
   },
   {
    "duration": 6,
    "start_time": "2022-07-29T13:12:08.186Z"
   },
   {
    "duration": 7,
    "start_time": "2022-07-29T13:12:12.675Z"
   },
   {
    "duration": 977,
    "start_time": "2022-07-29T13:12:40.883Z"
   },
   {
    "duration": 6,
    "start_time": "2022-07-29T13:13:53.828Z"
   },
   {
    "duration": 662,
    "start_time": "2022-07-29T13:13:55.330Z"
   },
   {
    "duration": 5,
    "start_time": "2022-07-29T13:15:36.295Z"
   },
   {
    "duration": 6,
    "start_time": "2022-07-29T13:15:41.865Z"
   },
   {
    "duration": 9,
    "start_time": "2022-07-29T13:16:10.080Z"
   },
   {
    "duration": 15,
    "start_time": "2022-07-29T13:16:15.990Z"
   },
   {
    "duration": 9,
    "start_time": "2022-07-29T13:16:28.935Z"
   },
   {
    "duration": 6,
    "start_time": "2022-07-29T13:16:47.476Z"
   },
   {
    "duration": 5,
    "start_time": "2022-07-29T13:16:48.860Z"
   },
   {
    "duration": 6,
    "start_time": "2022-07-29T13:16:50.756Z"
   },
   {
    "duration": 3,
    "start_time": "2022-07-29T13:17:02.109Z"
   },
   {
    "duration": 7,
    "start_time": "2022-07-29T13:17:05.126Z"
   },
   {
    "duration": 6,
    "start_time": "2022-07-29T13:17:14.893Z"
   },
   {
    "duration": 7,
    "start_time": "2022-07-29T13:17:22.035Z"
   },
   {
    "duration": 6,
    "start_time": "2022-07-29T13:17:33.729Z"
   },
   {
    "duration": 5,
    "start_time": "2022-07-29T13:17:38.098Z"
   },
   {
    "duration": 6,
    "start_time": "2022-07-29T13:17:45.385Z"
   },
   {
    "duration": 5,
    "start_time": "2022-07-29T13:17:45.936Z"
   },
   {
    "duration": 5,
    "start_time": "2022-07-29T13:17:46.363Z"
   },
   {
    "duration": 6,
    "start_time": "2022-07-29T13:17:46.502Z"
   },
   {
    "duration": 5,
    "start_time": "2022-07-29T13:17:46.634Z"
   },
   {
    "duration": 5,
    "start_time": "2022-07-29T13:17:46.787Z"
   },
   {
    "duration": 5,
    "start_time": "2022-07-29T13:17:46.939Z"
   },
   {
    "duration": 5,
    "start_time": "2022-07-29T13:17:47.054Z"
   },
   {
    "duration": 5,
    "start_time": "2022-07-29T13:17:47.309Z"
   },
   {
    "duration": 5,
    "start_time": "2022-07-29T13:17:47.451Z"
   },
   {
    "duration": 5,
    "start_time": "2022-07-29T13:17:47.630Z"
   },
   {
    "duration": 6,
    "start_time": "2022-07-29T13:17:47.759Z"
   },
   {
    "duration": 6,
    "start_time": "2022-07-29T13:17:47.882Z"
   },
   {
    "duration": 5,
    "start_time": "2022-07-29T13:17:48.108Z"
   },
   {
    "duration": 6,
    "start_time": "2022-07-29T13:17:48.230Z"
   },
   {
    "duration": 6,
    "start_time": "2022-07-29T13:17:48.988Z"
   },
   {
    "duration": 6,
    "start_time": "2022-07-29T13:17:49.160Z"
   },
   {
    "duration": 6,
    "start_time": "2022-07-29T13:17:49.254Z"
   },
   {
    "duration": 6,
    "start_time": "2022-07-29T13:17:49.358Z"
   },
   {
    "duration": 6,
    "start_time": "2022-07-29T13:17:49.449Z"
   },
   {
    "duration": 6,
    "start_time": "2022-07-29T13:17:49.547Z"
   },
   {
    "duration": 5,
    "start_time": "2022-07-29T13:17:49.641Z"
   },
   {
    "duration": 6,
    "start_time": "2022-07-29T13:17:49.739Z"
   },
   {
    "duration": 6,
    "start_time": "2022-07-29T13:17:49.828Z"
   },
   {
    "duration": 6,
    "start_time": "2022-07-29T13:17:49.928Z"
   },
   {
    "duration": 5,
    "start_time": "2022-07-29T13:17:50.009Z"
   },
   {
    "duration": 5,
    "start_time": "2022-07-29T13:17:50.106Z"
   },
   {
    "duration": 5,
    "start_time": "2022-07-29T13:17:50.216Z"
   },
   {
    "duration": 5,
    "start_time": "2022-07-29T13:17:50.301Z"
   },
   {
    "duration": 5,
    "start_time": "2022-07-29T13:17:50.446Z"
   },
   {
    "duration": 6,
    "start_time": "2022-07-29T13:17:50.565Z"
   },
   {
    "duration": 6,
    "start_time": "2022-07-29T13:17:50.658Z"
   },
   {
    "duration": 5,
    "start_time": "2022-07-29T13:17:50.746Z"
   },
   {
    "duration": 6,
    "start_time": "2022-07-29T13:17:50.839Z"
   },
   {
    "duration": 6,
    "start_time": "2022-07-29T13:17:50.940Z"
   },
   {
    "duration": 5,
    "start_time": "2022-07-29T13:17:51.039Z"
   },
   {
    "duration": 6,
    "start_time": "2022-07-29T13:17:51.139Z"
   },
   {
    "duration": 5,
    "start_time": "2022-07-29T13:17:51.240Z"
   },
   {
    "duration": 5,
    "start_time": "2022-07-29T13:17:51.329Z"
   },
   {
    "duration": 6,
    "start_time": "2022-07-29T13:17:52.041Z"
   },
   {
    "duration": 6,
    "start_time": "2022-07-29T13:17:52.179Z"
   },
   {
    "duration": 5,
    "start_time": "2022-07-29T13:17:52.271Z"
   },
   {
    "duration": 5,
    "start_time": "2022-07-29T13:17:52.372Z"
   },
   {
    "duration": 5,
    "start_time": "2022-07-29T13:17:52.481Z"
   },
   {
    "duration": 5,
    "start_time": "2022-07-29T13:17:52.571Z"
   },
   {
    "duration": 5,
    "start_time": "2022-07-29T13:17:52.674Z"
   },
   {
    "duration": 5,
    "start_time": "2022-07-29T13:17:52.760Z"
   },
   {
    "duration": 6,
    "start_time": "2022-07-29T13:17:52.941Z"
   },
   {
    "duration": 6,
    "start_time": "2022-07-29T13:17:53.041Z"
   },
   {
    "duration": 6,
    "start_time": "2022-07-29T13:17:53.151Z"
   },
   {
    "duration": 5,
    "start_time": "2022-07-29T13:17:53.243Z"
   },
   {
    "duration": 5,
    "start_time": "2022-07-29T13:17:53.360Z"
   },
   {
    "duration": 5,
    "start_time": "2022-07-29T13:17:53.455Z"
   },
   {
    "duration": 6,
    "start_time": "2022-07-29T13:17:53.574Z"
   },
   {
    "duration": 5,
    "start_time": "2022-07-29T13:17:53.673Z"
   },
   {
    "duration": 6,
    "start_time": "2022-07-29T13:17:53.761Z"
   },
   {
    "duration": 6,
    "start_time": "2022-07-29T13:17:53.853Z"
   },
   {
    "duration": 7,
    "start_time": "2022-07-29T13:17:53.952Z"
   },
   {
    "duration": 5,
    "start_time": "2022-07-29T13:17:54.053Z"
   },
   {
    "duration": 6,
    "start_time": "2022-07-29T13:17:54.150Z"
   },
   {
    "duration": 462,
    "start_time": "2022-07-29T13:19:14.128Z"
   },
   {
    "duration": 436,
    "start_time": "2022-07-29T13:19:31.570Z"
   },
   {
    "duration": 9,
    "start_time": "2022-07-29T13:19:37.098Z"
   },
   {
    "duration": 8,
    "start_time": "2022-07-29T13:19:46.736Z"
   },
   {
    "duration": 101,
    "start_time": "2022-07-29T13:19:55.486Z"
   },
   {
    "duration": 3,
    "start_time": "2022-07-29T13:19:57.530Z"
   },
   {
    "duration": 3,
    "start_time": "2022-07-29T13:19:59.812Z"
   },
   {
    "duration": 4,
    "start_time": "2022-07-29T13:20:01.528Z"
   },
   {
    "duration": 3,
    "start_time": "2022-07-29T13:20:19.730Z"
   },
   {
    "duration": 10,
    "start_time": "2022-07-29T13:20:25.397Z"
   },
   {
    "duration": 7,
    "start_time": "2022-07-29T13:20:28.995Z"
   },
   {
    "duration": 6,
    "start_time": "2022-07-29T13:20:34.678Z"
   },
   {
    "duration": 25,
    "start_time": "2022-07-29T13:27:25.360Z"
   },
   {
    "duration": 6,
    "start_time": "2022-07-29T13:27:52.280Z"
   },
   {
    "duration": 7,
    "start_time": "2022-07-29T13:27:57.497Z"
   },
   {
    "duration": 8,
    "start_time": "2022-07-29T13:28:05.999Z"
   },
   {
    "duration": 5,
    "start_time": "2022-07-29T13:28:13.499Z"
   },
   {
    "duration": 1257,
    "start_time": "2022-07-29T13:30:23.693Z"
   },
   {
    "duration": 13,
    "start_time": "2022-07-29T13:30:40.726Z"
   },
   {
    "duration": 1298,
    "start_time": "2022-07-29T13:30:47.555Z"
   },
   {
    "duration": 6,
    "start_time": "2022-07-29T13:30:49.814Z"
   },
   {
    "duration": 5,
    "start_time": "2022-07-29T13:31:02.213Z"
   },
   {
    "duration": 14,
    "start_time": "2022-07-29T13:52:12.421Z"
   },
   {
    "duration": 1402,
    "start_time": "2022-07-29T13:52:16.922Z"
   },
   {
    "duration": 3,
    "start_time": "2022-07-29T13:52:18.326Z"
   },
   {
    "duration": 352,
    "start_time": "2022-07-29T13:52:18.331Z"
   },
   {
    "duration": 3,
    "start_time": "2022-07-29T13:52:18.686Z"
   },
   {
    "duration": 57,
    "start_time": "2022-07-29T13:52:18.690Z"
   },
   {
    "duration": 48,
    "start_time": "2022-07-29T13:52:18.749Z"
   },
   {
    "duration": 66,
    "start_time": "2022-07-29T13:52:18.799Z"
   },
   {
    "duration": 140,
    "start_time": "2022-07-29T13:52:18.867Z"
   },
   {
    "duration": 66,
    "start_time": "2022-07-29T13:52:19.010Z"
   },
   {
    "duration": 73,
    "start_time": "2022-07-29T13:52:19.079Z"
   },
   {
    "duration": 52,
    "start_time": "2022-07-29T13:52:19.153Z"
   },
   {
    "duration": 6,
    "start_time": "2022-07-29T13:52:19.207Z"
   },
   {
    "duration": 8,
    "start_time": "2022-07-29T13:52:19.215Z"
   },
   {
    "duration": 28,
    "start_time": "2022-07-29T13:52:19.224Z"
   },
   {
    "duration": 442,
    "start_time": "2022-07-29T13:52:19.254Z"
   },
   {
    "duration": 194,
    "start_time": "2022-07-29T13:52:19.698Z"
   },
   {
    "duration": 519,
    "start_time": "2022-07-29T13:52:19.894Z"
   },
   {
    "duration": 38,
    "start_time": "2022-07-29T13:52:20.414Z"
   },
   {
    "duration": 2,
    "start_time": "2022-07-29T13:52:20.454Z"
   },
   {
    "duration": 7,
    "start_time": "2022-07-29T13:52:20.457Z"
   },
   {
    "duration": 11,
    "start_time": "2022-07-29T13:52:20.466Z"
   },
   {
    "duration": 7,
    "start_time": "2022-07-29T13:52:20.479Z"
   },
   {
    "duration": 19,
    "start_time": "2022-07-29T13:52:20.488Z"
   },
   {
    "duration": 3,
    "start_time": "2022-07-29T13:52:20.509Z"
   },
   {
    "duration": 41,
    "start_time": "2022-07-29T13:52:20.514Z"
   },
   {
    "duration": 94,
    "start_time": "2022-07-29T13:52:20.557Z"
   },
   {
    "duration": 23,
    "start_time": "2022-07-29T13:52:20.653Z"
   },
   {
    "duration": 4,
    "start_time": "2022-07-29T13:52:20.679Z"
   },
   {
    "duration": 21,
    "start_time": "2022-07-29T13:52:20.685Z"
   },
   {
    "duration": 64,
    "start_time": "2022-07-29T13:52:20.708Z"
   },
   {
    "duration": 81,
    "start_time": "2022-07-29T13:52:20.775Z"
   },
   {
    "duration": 107,
    "start_time": "2022-07-29T13:52:20.860Z"
   },
   {
    "duration": 3,
    "start_time": "2022-07-29T13:52:20.969Z"
   },
   {
    "duration": 26,
    "start_time": "2022-07-29T13:52:20.974Z"
   },
   {
    "duration": 51,
    "start_time": "2022-07-29T13:52:21.002Z"
   },
   {
    "duration": 96,
    "start_time": "2022-07-29T13:52:21.056Z"
   },
   {
    "duration": 15,
    "start_time": "2022-07-29T13:52:21.154Z"
   },
   {
    "duration": 5,
    "start_time": "2022-07-29T13:52:21.170Z"
   },
   {
    "duration": 6,
    "start_time": "2022-07-29T13:52:21.177Z"
   },
   {
    "duration": 9,
    "start_time": "2022-07-29T13:52:21.185Z"
   },
   {
    "duration": 66,
    "start_time": "2022-07-29T13:52:21.195Z"
   },
   {
    "duration": 108,
    "start_time": "2022-07-29T13:52:21.264Z"
   },
   {
    "duration": 0,
    "start_time": "2022-07-29T13:52:21.374Z"
   },
   {
    "duration": 0,
    "start_time": "2022-07-29T13:52:21.375Z"
   },
   {
    "duration": 0,
    "start_time": "2022-07-29T13:52:21.376Z"
   },
   {
    "duration": 0,
    "start_time": "2022-07-29T13:52:21.378Z"
   },
   {
    "duration": 1270,
    "start_time": "2022-07-29T13:52:41.576Z"
   },
   {
    "duration": 6,
    "start_time": "2022-07-29T13:52:46.855Z"
   },
   {
    "duration": 7,
    "start_time": "2022-07-29T13:52:56.249Z"
   },
   {
    "duration": 1060,
    "start_time": "2022-07-29T14:01:54.020Z"
   },
   {
    "duration": 5,
    "start_time": "2022-07-29T14:01:57.718Z"
   },
   {
    "duration": 5,
    "start_time": "2022-07-29T14:02:02.421Z"
   },
   {
    "duration": 4,
    "start_time": "2022-07-29T14:02:08.643Z"
   },
   {
    "duration": 1066,
    "start_time": "2022-07-29T14:02:10.911Z"
   },
   {
    "duration": 4,
    "start_time": "2022-07-29T14:02:12.424Z"
   },
   {
    "duration": 1117,
    "start_time": "2022-07-29T14:02:15.031Z"
   },
   {
    "duration": 5,
    "start_time": "2022-07-29T14:02:16.552Z"
   },
   {
    "duration": 1303,
    "start_time": "2022-07-29T14:02:46.157Z"
   },
   {
    "duration": 5,
    "start_time": "2022-07-29T14:02:48.005Z"
   },
   {
    "duration": 6,
    "start_time": "2022-07-29T14:03:24.287Z"
   },
   {
    "duration": 5,
    "start_time": "2022-07-29T14:03:29.690Z"
   },
   {
    "duration": 7,
    "start_time": "2022-07-29T14:03:36.188Z"
   },
   {
    "duration": 1270,
    "start_time": "2022-07-29T14:04:10.549Z"
   },
   {
    "duration": 4,
    "start_time": "2022-07-29T14:04:12.456Z"
   },
   {
    "duration": 4,
    "start_time": "2022-07-29T14:08:04.087Z"
   },
   {
    "duration": 1690,
    "start_time": "2022-07-29T16:12:51.848Z"
   },
   {
    "duration": 6,
    "start_time": "2022-07-29T16:12:53.540Z"
   },
   {
    "duration": 2245,
    "start_time": "2022-07-29T16:12:53.548Z"
   },
   {
    "duration": 3,
    "start_time": "2022-07-29T16:12:55.795Z"
   },
   {
    "duration": 79,
    "start_time": "2022-07-29T16:12:55.799Z"
   },
   {
    "duration": 56,
    "start_time": "2022-07-29T16:12:55.880Z"
   },
   {
    "duration": 62,
    "start_time": "2022-07-29T16:12:55.938Z"
   },
   {
    "duration": 137,
    "start_time": "2022-07-29T16:12:56.001Z"
   },
   {
    "duration": 59,
    "start_time": "2022-07-29T16:12:56.153Z"
   },
   {
    "duration": 71,
    "start_time": "2022-07-29T16:12:56.214Z"
   },
   {
    "duration": 68,
    "start_time": "2022-07-29T16:12:56.287Z"
   },
   {
    "duration": 7,
    "start_time": "2022-07-29T16:12:56.626Z"
   },
   {
    "duration": 7,
    "start_time": "2022-07-29T16:12:56.895Z"
   },
   {
    "duration": 6,
    "start_time": "2022-07-29T16:12:57.094Z"
   },
   {
    "duration": 496,
    "start_time": "2022-07-29T16:12:59.160Z"
   },
   {
    "duration": 198,
    "start_time": "2022-07-29T16:12:59.657Z"
   },
   {
    "duration": 567,
    "start_time": "2022-07-29T16:12:59.857Z"
   },
   {
    "duration": 28,
    "start_time": "2022-07-29T16:13:00.483Z"
   },
   {
    "duration": 3,
    "start_time": "2022-07-29T16:13:00.925Z"
   },
   {
    "duration": 5,
    "start_time": "2022-07-29T16:13:02.929Z"
   },
   {
    "duration": 12,
    "start_time": "2022-07-29T16:13:07.675Z"
   },
   {
    "duration": 16,
    "start_time": "2022-07-29T16:13:26.899Z"
   },
   {
    "duration": 5,
    "start_time": "2022-07-29T16:14:09.997Z"
   },
   {
    "duration": 5,
    "start_time": "2022-07-29T16:15:47.123Z"
   },
   {
    "duration": 19,
    "start_time": "2022-07-29T16:16:24.360Z"
   },
   {
    "duration": 4,
    "start_time": "2022-07-29T16:16:43.065Z"
   },
   {
    "duration": 57,
    "start_time": "2022-07-29T16:16:44.396Z"
   },
   {
    "duration": 6,
    "start_time": "2022-07-29T16:17:01.395Z"
   },
   {
    "duration": 17,
    "start_time": "2022-07-29T16:17:02.156Z"
   },
   {
    "duration": 4,
    "start_time": "2022-07-29T16:17:05.092Z"
   },
   {
    "duration": 6,
    "start_time": "2022-07-29T16:17:44.127Z"
   },
   {
    "duration": 15,
    "start_time": "2022-07-29T16:17:45.074Z"
   },
   {
    "duration": 85,
    "start_time": "2022-07-29T16:17:48.048Z"
   },
   {
    "duration": 5,
    "start_time": "2022-07-29T16:19:33.362Z"
   },
   {
    "duration": 16,
    "start_time": "2022-07-29T16:19:33.704Z"
   },
   {
    "duration": 4,
    "start_time": "2022-07-29T16:19:34.824Z"
   },
   {
    "duration": 5,
    "start_time": "2022-07-29T16:20:01.188Z"
   },
   {
    "duration": 12,
    "start_time": "2022-07-29T16:20:10.988Z"
   },
   {
    "duration": 15,
    "start_time": "2022-07-29T16:20:33.275Z"
   },
   {
    "duration": 11,
    "start_time": "2022-07-29T16:21:21.777Z"
   },
   {
    "duration": 5,
    "start_time": "2022-07-29T16:21:23.056Z"
   },
   {
    "duration": 5,
    "start_time": "2022-07-29T16:21:31.553Z"
   },
   {
    "duration": 9,
    "start_time": "2022-07-29T16:21:32.386Z"
   },
   {
    "duration": 4,
    "start_time": "2022-07-29T16:21:33.394Z"
   },
   {
    "duration": 15,
    "start_time": "2022-07-29T16:21:34.697Z"
   },
   {
    "duration": 24,
    "start_time": "2022-07-29T16:21:38.972Z"
   },
   {
    "duration": 4,
    "start_time": "2022-07-29T16:22:17.995Z"
   },
   {
    "duration": 11,
    "start_time": "2022-07-29T16:22:18.386Z"
   },
   {
    "duration": 5,
    "start_time": "2022-07-29T16:22:19.579Z"
   },
   {
    "duration": 23,
    "start_time": "2022-07-29T16:22:21.131Z"
   },
   {
    "duration": 16,
    "start_time": "2022-07-29T16:22:23.298Z"
   },
   {
    "duration": 5,
    "start_time": "2022-07-29T16:29:36.380Z"
   },
   {
    "duration": 130,
    "start_time": "2022-07-29T16:30:01.577Z"
   },
   {
    "duration": 5,
    "start_time": "2022-07-29T16:30:26.754Z"
   },
   {
    "duration": 26,
    "start_time": "2022-07-29T16:30:33.075Z"
   },
   {
    "duration": 4,
    "start_time": "2022-07-29T16:30:53.923Z"
   },
   {
    "duration": 88,
    "start_time": "2022-07-29T16:30:54.953Z"
   },
   {
    "duration": 7,
    "start_time": "2022-07-29T16:31:41.829Z"
   },
   {
    "duration": 32,
    "start_time": "2022-07-29T16:31:42.357Z"
   },
   {
    "duration": 7,
    "start_time": "2022-07-29T16:32:30.481Z"
   },
   {
    "duration": 35,
    "start_time": "2022-07-29T16:32:31.025Z"
   },
   {
    "duration": 4,
    "start_time": "2022-07-29T16:32:45.410Z"
   },
   {
    "duration": 58,
    "start_time": "2022-07-29T16:32:46.722Z"
   },
   {
    "duration": 29,
    "start_time": "2022-07-29T16:33:45.176Z"
   },
   {
    "duration": 31,
    "start_time": "2022-07-29T16:33:58.102Z"
   },
   {
    "duration": 24,
    "start_time": "2022-07-29T16:34:50.810Z"
   },
   {
    "duration": 29,
    "start_time": "2022-07-29T16:35:28.109Z"
   },
   {
    "duration": 105,
    "start_time": "2022-07-29T16:35:29.831Z"
   },
   {
    "duration": 31,
    "start_time": "2022-07-29T16:35:59.889Z"
   },
   {
    "duration": 14,
    "start_time": "2022-07-29T16:36:09.256Z"
   },
   {
    "duration": 3,
    "start_time": "2022-07-29T16:39:23.586Z"
   },
   {
    "duration": 6,
    "start_time": "2022-07-29T16:39:25.202Z"
   },
   {
    "duration": 2,
    "start_time": "2022-07-29T16:39:30.163Z"
   },
   {
    "duration": 4,
    "start_time": "2022-07-29T16:39:32.056Z"
   },
   {
    "duration": 3,
    "start_time": "2022-07-29T16:39:32.958Z"
   },
   {
    "duration": 3,
    "start_time": "2022-07-29T16:39:34.358Z"
   },
   {
    "duration": 5,
    "start_time": "2022-07-29T16:40:29.720Z"
   },
   {
    "duration": 662,
    "start_time": "2022-07-29T16:40:30.358Z"
   },
   {
    "duration": 620,
    "start_time": "2022-07-29T16:40:31.861Z"
   },
   {
    "duration": 636,
    "start_time": "2022-07-29T16:40:33.650Z"
   },
   {
    "duration": 7,
    "start_time": "2022-07-29T16:43:41.170Z"
   },
   {
    "duration": 1141,
    "start_time": "2022-07-29T16:43:42.121Z"
   },
   {
    "duration": 1141,
    "start_time": "2022-07-29T16:43:45.629Z"
   },
   {
    "duration": 1215,
    "start_time": "2022-07-29T16:43:48.076Z"
   },
   {
    "duration": 1555,
    "start_time": "2022-07-29T16:51:00.355Z"
   },
   {
    "duration": 4,
    "start_time": "2022-07-29T16:51:01.912Z"
   },
   {
    "duration": 420,
    "start_time": "2022-07-29T16:51:01.918Z"
   },
   {
    "duration": 3,
    "start_time": "2022-07-29T16:51:02.341Z"
   },
   {
    "duration": 80,
    "start_time": "2022-07-29T16:51:02.347Z"
   },
   {
    "duration": 68,
    "start_time": "2022-07-29T16:51:02.429Z"
   },
   {
    "duration": 44,
    "start_time": "2022-07-29T16:51:02.499Z"
   },
   {
    "duration": 148,
    "start_time": "2022-07-29T16:51:02.544Z"
   },
   {
    "duration": 74,
    "start_time": "2022-07-29T16:51:02.695Z"
   },
   {
    "duration": 71,
    "start_time": "2022-07-29T16:51:02.777Z"
   },
   {
    "duration": 64,
    "start_time": "2022-07-29T16:51:02.850Z"
   },
   {
    "duration": 7,
    "start_time": "2022-07-29T16:51:02.916Z"
   },
   {
    "duration": 46,
    "start_time": "2022-07-29T16:51:02.925Z"
   },
   {
    "duration": 8,
    "start_time": "2022-07-29T16:51:02.977Z"
   },
   {
    "duration": 587,
    "start_time": "2022-07-29T16:51:02.987Z"
   },
   {
    "duration": 215,
    "start_time": "2022-07-29T16:51:03.576Z"
   },
   {
    "duration": 596,
    "start_time": "2022-07-29T16:51:03.792Z"
   },
   {
    "duration": 26,
    "start_time": "2022-07-29T16:51:04.389Z"
   },
   {
    "duration": 15,
    "start_time": "2022-07-29T16:51:04.417Z"
   },
   {
    "duration": 64,
    "start_time": "2022-07-29T16:51:04.434Z"
   },
   {
    "duration": 3,
    "start_time": "2022-07-29T16:51:04.500Z"
   },
   {
    "duration": 161,
    "start_time": "2022-07-29T16:51:04.505Z"
   },
   {
    "duration": 87,
    "start_time": "2022-07-29T16:51:04.670Z"
   },
   {
    "duration": 87,
    "start_time": "2022-07-29T16:51:04.760Z"
   },
   {
    "duration": 143,
    "start_time": "2022-07-29T16:51:04.852Z"
   },
   {
    "duration": 22,
    "start_time": "2022-07-29T16:51:04.997Z"
   },
   {
    "duration": 119,
    "start_time": "2022-07-29T16:51:05.021Z"
   },
   {
    "duration": 54,
    "start_time": "2022-07-29T16:51:05.144Z"
   },
   {
    "duration": 4,
    "start_time": "2022-07-29T16:51:05.200Z"
   },
   {
    "duration": 9,
    "start_time": "2022-07-29T16:51:05.206Z"
   },
   {
    "duration": 11,
    "start_time": "2022-07-29T16:51:05.217Z"
   },
   {
    "duration": 49,
    "start_time": "2022-07-29T16:51:05.230Z"
   },
   {
    "duration": 8,
    "start_time": "2022-07-29T16:51:05.281Z"
   },
   {
    "duration": 1290,
    "start_time": "2022-07-29T16:51:05.290Z"
   },
   {
    "duration": 1279,
    "start_time": "2022-07-29T16:51:06.583Z"
   },
   {
    "duration": 1342,
    "start_time": "2022-07-29T16:51:07.866Z"
   },
   {
    "duration": 1836,
    "start_time": "2022-07-29T17:11:45.891Z"
   },
   {
    "duration": 4,
    "start_time": "2022-07-29T17:11:47.730Z"
   },
   {
    "duration": 1827,
    "start_time": "2022-07-29T17:11:47.736Z"
   },
   {
    "duration": 3,
    "start_time": "2022-07-29T17:11:49.566Z"
   },
   {
    "duration": 88,
    "start_time": "2022-07-29T17:11:49.571Z"
   },
   {
    "duration": 68,
    "start_time": "2022-07-29T17:11:49.661Z"
   },
   {
    "duration": 86,
    "start_time": "2022-07-29T17:11:49.731Z"
   },
   {
    "duration": 179,
    "start_time": "2022-07-29T17:11:49.820Z"
   },
   {
    "duration": 91,
    "start_time": "2022-07-29T17:11:50.001Z"
   },
   {
    "duration": 115,
    "start_time": "2022-07-29T17:11:50.095Z"
   },
   {
    "duration": 80,
    "start_time": "2022-07-29T17:11:50.213Z"
   },
   {
    "duration": 22,
    "start_time": "2022-07-29T17:11:50.294Z"
   },
   {
    "duration": 14,
    "start_time": "2022-07-29T17:11:50.318Z"
   },
   {
    "duration": 12,
    "start_time": "2022-07-29T17:11:50.335Z"
   },
   {
    "duration": 572,
    "start_time": "2022-07-29T17:11:50.350Z"
   },
   {
    "duration": 238,
    "start_time": "2022-07-29T17:11:50.924Z"
   },
   {
    "duration": 595,
    "start_time": "2022-07-29T17:11:51.164Z"
   },
   {
    "duration": 32,
    "start_time": "2022-07-29T17:11:51.761Z"
   },
   {
    "duration": 30,
    "start_time": "2022-07-29T17:11:51.795Z"
   },
   {
    "duration": 42,
    "start_time": "2022-07-29T17:11:51.828Z"
   },
   {
    "duration": 8,
    "start_time": "2022-07-29T17:11:51.873Z"
   },
   {
    "duration": 132,
    "start_time": "2022-07-29T17:11:51.884Z"
   },
   {
    "duration": 122,
    "start_time": "2022-07-29T17:11:52.022Z"
   },
   {
    "duration": 18,
    "start_time": "2022-07-29T17:11:52.146Z"
   },
   {
    "duration": 158,
    "start_time": "2022-07-29T17:11:52.166Z"
   },
   {
    "duration": 14,
    "start_time": "2022-07-29T17:11:52.326Z"
   },
   {
    "duration": 171,
    "start_time": "2022-07-29T17:11:52.342Z"
   },
   {
    "duration": 17,
    "start_time": "2022-07-29T17:11:52.517Z"
   },
   {
    "duration": 4,
    "start_time": "2022-07-29T17:11:52.536Z"
   },
   {
    "duration": 8,
    "start_time": "2022-07-29T17:11:52.542Z"
   },
   {
    "duration": 9,
    "start_time": "2022-07-29T17:11:52.552Z"
   },
   {
    "duration": 18,
    "start_time": "2022-07-29T17:11:52.562Z"
   },
   {
    "duration": 17,
    "start_time": "2022-07-29T17:11:52.582Z"
   },
   {
    "duration": 1520,
    "start_time": "2022-07-29T17:11:52.601Z"
   },
   {
    "duration": 1552,
    "start_time": "2022-07-29T17:11:54.124Z"
   },
   {
    "duration": 1499,
    "start_time": "2022-07-29T17:11:55.677Z"
   },
   {
    "duration": 6,
    "start_time": "2022-07-29T17:12:10.040Z"
   },
   {
    "duration": 1312,
    "start_time": "2022-07-29T17:12:24.278Z"
   },
   {
    "duration": 1267,
    "start_time": "2022-07-29T17:12:25.592Z"
   },
   {
    "duration": 1293,
    "start_time": "2022-07-29T17:12:26.862Z"
   },
   {
    "duration": 1736,
    "start_time": "2022-07-29T17:15:33.933Z"
   },
   {
    "duration": 4,
    "start_time": "2022-07-29T17:15:35.671Z"
   },
   {
    "duration": 493,
    "start_time": "2022-07-29T17:15:35.678Z"
   },
   {
    "duration": 4,
    "start_time": "2022-07-29T17:15:36.173Z"
   },
   {
    "duration": 75,
    "start_time": "2022-07-29T17:15:36.179Z"
   },
   {
    "duration": 72,
    "start_time": "2022-07-29T17:15:36.256Z"
   },
   {
    "duration": 60,
    "start_time": "2022-07-29T17:15:36.331Z"
   },
   {
    "duration": 190,
    "start_time": "2022-07-29T17:15:36.393Z"
   },
   {
    "duration": 89,
    "start_time": "2022-07-29T17:15:36.585Z"
   },
   {
    "duration": 113,
    "start_time": "2022-07-29T17:15:36.678Z"
   },
   {
    "duration": 75,
    "start_time": "2022-07-29T17:15:36.793Z"
   },
   {
    "duration": 7,
    "start_time": "2022-07-29T17:15:36.870Z"
   },
   {
    "duration": 13,
    "start_time": "2022-07-29T17:15:36.879Z"
   },
   {
    "duration": 23,
    "start_time": "2022-07-29T17:15:36.894Z"
   },
   {
    "duration": 638,
    "start_time": "2022-07-29T17:15:36.920Z"
   },
   {
    "duration": 276,
    "start_time": "2022-07-29T17:15:37.560Z"
   },
   {
    "duration": 698,
    "start_time": "2022-07-29T17:15:37.839Z"
   },
   {
    "duration": 43,
    "start_time": "2022-07-29T17:15:38.539Z"
   },
   {
    "duration": 7,
    "start_time": "2022-07-29T17:15:38.584Z"
   },
   {
    "duration": 36,
    "start_time": "2022-07-29T17:15:38.612Z"
   },
   {
    "duration": 4,
    "start_time": "2022-07-29T17:15:38.650Z"
   },
   {
    "duration": 55,
    "start_time": "2022-07-29T17:15:38.656Z"
   },
   {
    "duration": 125,
    "start_time": "2022-07-29T17:15:38.713Z"
   },
   {
    "duration": 74,
    "start_time": "2022-07-29T17:15:38.840Z"
   },
   {
    "duration": 118,
    "start_time": "2022-07-29T17:15:38.917Z"
   },
   {
    "duration": 79,
    "start_time": "2022-07-29T17:15:39.037Z"
   },
   {
    "duration": 117,
    "start_time": "2022-07-29T17:15:39.118Z"
   },
   {
    "duration": 10,
    "start_time": "2022-07-29T17:15:39.241Z"
   },
   {
    "duration": 4,
    "start_time": "2022-07-29T17:15:39.253Z"
   },
   {
    "duration": 5,
    "start_time": "2022-07-29T17:15:39.259Z"
   },
   {
    "duration": 7,
    "start_time": "2022-07-29T17:15:39.266Z"
   },
   {
    "duration": 12,
    "start_time": "2022-07-29T17:15:39.275Z"
   },
   {
    "duration": 24,
    "start_time": "2022-07-29T17:15:39.289Z"
   },
   {
    "duration": 1717,
    "start_time": "2022-07-29T17:15:39.318Z"
   },
   {
    "duration": 1864,
    "start_time": "2022-07-29T17:15:41.037Z"
   },
   {
    "duration": 1797,
    "start_time": "2022-07-29T17:15:42.903Z"
   }
  ],
  "kernelspec": {
   "display_name": "Python 3",
   "language": "python",
   "name": "python3"
  },
  "language_info": {
   "codemirror_mode": {
    "name": "ipython",
    "version": 3
   },
   "file_extension": ".py",
   "mimetype": "text/x-python",
   "name": "python",
   "nbconvert_exporter": "python",
   "pygments_lexer": "ipython3",
   "version": "3.8.8"
  },
  "toc": {
   "base_numbering": 1,
   "nav_menu": {},
   "number_sections": true,
   "sideBar": true,
   "skip_h1_title": true,
   "title_cell": "Table of Contents",
   "title_sidebar": "Contents",
   "toc_cell": false,
   "toc_position": {
    "height": "calc(100% - 180px)",
    "left": "10px",
    "top": "150px",
    "width": "287.188px"
   },
   "toc_section_display": true,
   "toc_window_display": true
  }
 },
 "nbformat": 4,
 "nbformat_minor": 2
}
