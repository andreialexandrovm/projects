{
 "cells": [
  {
   "cell_type": "markdown",
   "id": "3ec833b4",
   "metadata": {
    "toc": true
   },
   "source": [
    "<h1>Table of Contents<span class=\"tocSkip\"></span></h1>\n",
    "<div class=\"toc\"><ul class=\"toc-item\"><li><span><a href=\"#Обзор-данных\" data-toc-modified-id=\"Обзор-данных-1\"><span class=\"toc-item-num\">1&nbsp;&nbsp;</span>Обзор данных</a></span></li><li><span><a href=\"#Заполнение-пропусков\" data-toc-modified-id=\"Заполнение-пропусков-2\"><span class=\"toc-item-num\">2&nbsp;&nbsp;</span>Заполнение пропусков</a></span></li><li><span><a href=\"#Проверка-данных-на-аномалии-и-исправления.\" data-toc-modified-id=\"Проверка-данных-на-аномалии-и-исправления.-3\"><span class=\"toc-item-num\">3&nbsp;&nbsp;</span>Проверка данных на аномалии и исправления.</a></span></li><li><span><a href=\"#Изменение-типов-данных.\" data-toc-modified-id=\"Изменение-типов-данных.-4\"><span class=\"toc-item-num\">4&nbsp;&nbsp;</span>Изменение типов данных.</a></span></li><li><span><a href=\"#Удаление-дубликатов.\" data-toc-modified-id=\"Удаление-дубликатов.-5\"><span class=\"toc-item-num\">5&nbsp;&nbsp;</span>Удаление дубликатов.</a></span></li><li><span><a href=\"#Формирование-дополнительных-датафреймов-словарей,-декомпозиция-исходного-датафрейма.\" data-toc-modified-id=\"Формирование-дополнительных-датафреймов-словарей,-декомпозиция-исходного-датафрейма.-6\"><span class=\"toc-item-num\">6&nbsp;&nbsp;</span>Формирование дополнительных датафреймов словарей, декомпозиция исходного датафрейма.</a></span></li><li><span><a href=\"#Категоризация-дохода.\" data-toc-modified-id=\"Категоризация-дохода.-7\"><span class=\"toc-item-num\">7&nbsp;&nbsp;</span>Категоризация дохода.</a></span></li><li><span><a href=\"#Категоризация-целей-кредита.\" data-toc-modified-id=\"Категоризация-целей-кредита.-8\"><span class=\"toc-item-num\">8&nbsp;&nbsp;</span>Категоризация целей кредита.</a></span></li><li><span><a href=\"#Ответы-на-вопросы.\" data-toc-modified-id=\"Ответы-на-вопросы.-9\"><span class=\"toc-item-num\">9&nbsp;&nbsp;</span>Ответы на вопросы.</a></span><ul class=\"toc-item\"><li><span><a href=\"#Вопрос-1:-Есть-ли-зависимость-между-количеством-детей-и-возвратом-кредита-в-срок?\" data-toc-modified-id=\"Вопрос-1:-Есть-ли-зависимость-между-количеством-детей-и-возвратом-кредита-в-срок?-9.1\"><span class=\"toc-item-num\">9.1&nbsp;&nbsp;</span>Вопрос 1: Есть ли зависимость между количеством детей и возвратом кредита в срок?</a></span></li><li><span><a href=\"#Вывод-1:-Из-полученных-данных-видно,-что-зависимость-между-количеством-детей-и-возвратом-кредита-отсутствует.\" data-toc-modified-id=\"Вывод-1:-Из-полученных-данных-видно,-что-зависимость-между-количеством-детей-и-возвратом-кредита-отсутствует.-9.2\"><span class=\"toc-item-num\">9.2&nbsp;&nbsp;</span>Вывод 1: Из полученных данных видно, что зависимость между количеством детей и возвратом кредита отсутствует.</a></span></li><li><span><a href=\"#Вопрос-2:-Есть-ли-зависимость-между-семейным-положением-и-возвратом-кредита-в-срок?\" data-toc-modified-id=\"Вопрос-2:-Есть-ли-зависимость-между-семейным-положением-и-возвратом-кредита-в-срок?-9.3\"><span class=\"toc-item-num\">9.3&nbsp;&nbsp;</span>Вопрос 2: Есть ли зависимость между семейным положением и возвратом кредита в срок?</a></span></li><li><span><a href=\"#Вывод-2:-Из-полученных-данных-видно,-что-лучше-всего-возвращают-кредит-вдовцы/вдовы,-за-ними-идут-разведенные,-следующие-те,-кто-состоит-в-браке,-еще-хуже-те,-кто-состоит-в-гражданском-браке,-ну-и-на-последнем-месте---не-женатые-/-не-замужние.\" data-toc-modified-id=\"Вывод-2:-Из-полученных-данных-видно,-что-лучше-всего-возвращают-кредит-вдовцы/вдовы,-за-ними-идут-разведенные,-следующие-те,-кто-состоит-в-браке,-еще-хуже-те,-кто-состоит-в-гражданском-браке,-ну-и-на-последнем-месте---не-женатые-/-не-замужние.-9.4\"><span class=\"toc-item-num\">9.4&nbsp;&nbsp;</span>Вывод 2: Из полученных данных видно, что лучше всего возвращают кредит вдовцы/вдовы, за ними идут разведенные, следующие те, кто состоит в браке, еще хуже те, кто состоит в гражданском браке, ну и на последнем месте - не женатые / не замужние.</a></span></li><li><span><a href=\"#Вопрос-3:-Есть-ли-зависимость-между-уровнем-дохода-и-возвратом-кредита-в-срок?\" data-toc-modified-id=\"Вопрос-3:-Есть-ли-зависимость-между-уровнем-дохода-и-возвратом-кредита-в-срок?-9.5\"><span class=\"toc-item-num\">9.5&nbsp;&nbsp;</span>Вопрос 3: Есть ли зависимость между уровнем дохода и возвратом кредита в срок?</a></span></li><li><span><a href=\"#Вывод-3-:-Из-полученных-данных-видно,-что-зависимость-между-уровнем-дохода-и-возвратом-кредита-в-срок-отсутствует.-Чаще-остальных-кредит-возвращают-заемщики-с-уровнем-дохода-D-(30001–50000),-реже-остальных-возвращают-заемщики-с-уровнем-дохода-E-(0-30000).\" data-toc-modified-id=\"Вывод-3-:-Из-полученных-данных-видно,-что-зависимость-между-уровнем-дохода-и-возвратом-кредита-в-срок-отсутствует.-Чаще-остальных-кредит-возвращают-заемщики-с-уровнем-дохода-D-(30001–50000),-реже-остальных-возвращают-заемщики-с-уровнем-дохода-E-(0-30000).-9.6\"><span class=\"toc-item-num\">9.6&nbsp;&nbsp;</span>Вывод 3 : Из полученных данных видно, что зависимость между уровнем дохода и возвратом кредита в срок отсутствует. Чаще остальных кредит возвращают заемщики с уровнем дохода D (30001–50000), реже остальных возвращают заемщики с уровнем дохода E (0-30000).</a></span></li><li><span><a href=\"#Вопрос-4:-Как-разные-цели-кредита-влияют-на-его-возврат-в-срок?\" data-toc-modified-id=\"Вопрос-4:-Как-разные-цели-кредита-влияют-на-его-возврат-в-срок?-9.7\"><span class=\"toc-item-num\">9.7&nbsp;&nbsp;</span>Вопрос 4: Как разные цели кредита влияют на его возврат в срок?</a></span></li><li><span><a href=\"#Вывод-4:-Из-полученных-данных-видно,-что-реже-остальных-просрачивают-возврат-кредита-заемщики,-взявшие-кредит-на-недвижимость---7,46%,-чаще-возвращают-те,-кто-брал-кредит-на-проведение-свадьбы---8%,-с-такой-же-частотой-просрачивают-кредит-заемщики,-взявшие-кредит-на-образование---8%,-на-последнем-месте-стоят-те,-кто-взял-кредит-на-автомобиль---9,36%.\" data-toc-modified-id=\"Вывод-4:-Из-полученных-данных-видно,-что-реже-остальных-просрачивают-возврат-кредита-заемщики,-взявшие-кредит-на-недвижимость---7,46%,-чаще-возвращают-те,-кто-брал-кредит-на-проведение-свадьбы---8%,-с-такой-же-частотой-просрачивают-кредит-заемщики,-взявшие-кредит-на-образование---8%,-на-последнем-месте-стоят-те,-кто-взял-кредит-на-автомобиль---9,36%.-9.8\"><span class=\"toc-item-num\">9.8&nbsp;&nbsp;</span>Вывод 4: Из полученных данных видно, что реже остальных просрачивают возврат кредита заемщики, взявшие кредит на недвижимость - 7,46%, чаще возвращают те, кто брал кредит на проведение свадьбы - 8%, с такой же частотой просрачивают кредит заемщики, взявшие кредит на образование - 8%, на последнем месте стоят те, кто взял кредит на автомобиль - 9,36%.</a></span></li></ul></li><li><span><a href=\"#Общий-вывод:\" data-toc-modified-id=\"Общий-вывод:-10\"><span class=\"toc-item-num\">10&nbsp;&nbsp;</span>Общий вывод:</a></span></li></ul></div>"
   ]
  },
  {
   "cell_type": "markdown",
   "id": "ecc35826",
   "metadata": {},
   "source": [
    "# Исследование надежности заемщиков."
   ]
  },
  {
   "cell_type": "markdown",
   "id": "524155e3",
   "metadata": {},
   "source": [
    "В данном проекте нашим заказчиком является банк, предоставляющий кредиты клентам. \n",
    "В проекте требуется оценить влияние различных факторов на возврат кредита в срок.\n",
    "Результаты будут использованы для модели кредитного скорринга."
   ]
  },
  {
   "cell_type": "markdown",
   "id": "f77681dd",
   "metadata": {},
   "source": [
    "## Обзор данных"
   ]
  },
  {
   "cell_type": "markdown",
   "id": "6f641e32",
   "metadata": {},
   "source": [
    "Импортируем библиотеки"
   ]
  },
  {
   "cell_type": "code",
   "execution_count": 1,
   "id": "67b5e178",
   "metadata": {},
   "outputs": [],
   "source": [
    "import pandas as pd\n",
    "import os"
   ]
  },
  {
   "cell_type": "markdown",
   "id": "a7ef6055",
   "metadata": {},
   "source": [
    "Загрузим данные"
   ]
  },
  {
   "cell_type": "code",
   "execution_count": 2,
   "id": "5adc577c",
   "metadata": {},
   "outputs": [],
   "source": [
    "pth1 = 'data.csv'\n",
    "pth2 = 'https://code.s3.yandex.net/datasets/data.csv'\n",
    "    \n",
    "if os.path.exists(pth1):\n",
    "    data = pd.read_csv(pth1)\n",
    "elif os.path.exists(pth2):\n",
    "    data = pd.read_csv(pth2)\n",
    "else:\n",
    "    print('Something is wrong')"
   ]
  },
  {
   "cell_type": "markdown",
   "id": "2c9279b4",
   "metadata": {},
   "source": [
    "Посмотрим первые 5 элементов таблицы для общего представления о данных"
   ]
  },
  {
   "cell_type": "code",
   "execution_count": 3,
   "id": "076c77f0",
   "metadata": {},
   "outputs": [
    {
     "data": {
      "text/html": [
       "<div>\n",
       "<style scoped>\n",
       "    .dataframe tbody tr th:only-of-type {\n",
       "        vertical-align: middle;\n",
       "    }\n",
       "\n",
       "    .dataframe tbody tr th {\n",
       "        vertical-align: top;\n",
       "    }\n",
       "\n",
       "    .dataframe thead th {\n",
       "        text-align: right;\n",
       "    }\n",
       "</style>\n",
       "<table border=\"1\" class=\"dataframe\">\n",
       "  <thead>\n",
       "    <tr style=\"text-align: right;\">\n",
       "      <th></th>\n",
       "      <th>children</th>\n",
       "      <th>days_employed</th>\n",
       "      <th>dob_years</th>\n",
       "      <th>education</th>\n",
       "      <th>education_id</th>\n",
       "      <th>family_status</th>\n",
       "      <th>family_status_id</th>\n",
       "      <th>gender</th>\n",
       "      <th>income_type</th>\n",
       "      <th>debt</th>\n",
       "      <th>total_income</th>\n",
       "      <th>purpose</th>\n",
       "    </tr>\n",
       "  </thead>\n",
       "  <tbody>\n",
       "    <tr>\n",
       "      <th>0</th>\n",
       "      <td>1</td>\n",
       "      <td>-8437.673028</td>\n",
       "      <td>42</td>\n",
       "      <td>высшее</td>\n",
       "      <td>0</td>\n",
       "      <td>женат / замужем</td>\n",
       "      <td>0</td>\n",
       "      <td>F</td>\n",
       "      <td>сотрудник</td>\n",
       "      <td>0</td>\n",
       "      <td>253875.639453</td>\n",
       "      <td>покупка жилья</td>\n",
       "    </tr>\n",
       "    <tr>\n",
       "      <th>1</th>\n",
       "      <td>1</td>\n",
       "      <td>-4024.803754</td>\n",
       "      <td>36</td>\n",
       "      <td>среднее</td>\n",
       "      <td>1</td>\n",
       "      <td>женат / замужем</td>\n",
       "      <td>0</td>\n",
       "      <td>F</td>\n",
       "      <td>сотрудник</td>\n",
       "      <td>0</td>\n",
       "      <td>112080.014102</td>\n",
       "      <td>приобретение автомобиля</td>\n",
       "    </tr>\n",
       "    <tr>\n",
       "      <th>2</th>\n",
       "      <td>0</td>\n",
       "      <td>-5623.422610</td>\n",
       "      <td>33</td>\n",
       "      <td>Среднее</td>\n",
       "      <td>1</td>\n",
       "      <td>женат / замужем</td>\n",
       "      <td>0</td>\n",
       "      <td>M</td>\n",
       "      <td>сотрудник</td>\n",
       "      <td>0</td>\n",
       "      <td>145885.952297</td>\n",
       "      <td>покупка жилья</td>\n",
       "    </tr>\n",
       "    <tr>\n",
       "      <th>3</th>\n",
       "      <td>3</td>\n",
       "      <td>-4124.747207</td>\n",
       "      <td>32</td>\n",
       "      <td>среднее</td>\n",
       "      <td>1</td>\n",
       "      <td>женат / замужем</td>\n",
       "      <td>0</td>\n",
       "      <td>M</td>\n",
       "      <td>сотрудник</td>\n",
       "      <td>0</td>\n",
       "      <td>267628.550329</td>\n",
       "      <td>дополнительное образование</td>\n",
       "    </tr>\n",
       "    <tr>\n",
       "      <th>4</th>\n",
       "      <td>0</td>\n",
       "      <td>340266.072047</td>\n",
       "      <td>53</td>\n",
       "      <td>среднее</td>\n",
       "      <td>1</td>\n",
       "      <td>гражданский брак</td>\n",
       "      <td>1</td>\n",
       "      <td>F</td>\n",
       "      <td>пенсионер</td>\n",
       "      <td>0</td>\n",
       "      <td>158616.077870</td>\n",
       "      <td>сыграть свадьбу</td>\n",
       "    </tr>\n",
       "  </tbody>\n",
       "</table>\n",
       "</div>"
      ],
      "text/plain": [
       "   children  days_employed  dob_years education  education_id  \\\n",
       "0         1   -8437.673028         42    высшее             0   \n",
       "1         1   -4024.803754         36   среднее             1   \n",
       "2         0   -5623.422610         33   Среднее             1   \n",
       "3         3   -4124.747207         32   среднее             1   \n",
       "4         0  340266.072047         53   среднее             1   \n",
       "\n",
       "      family_status  family_status_id gender income_type  debt   total_income  \\\n",
       "0   женат / замужем                 0      F   сотрудник     0  253875.639453   \n",
       "1   женат / замужем                 0      F   сотрудник     0  112080.014102   \n",
       "2   женат / замужем                 0      M   сотрудник     0  145885.952297   \n",
       "3   женат / замужем                 0      M   сотрудник     0  267628.550329   \n",
       "4  гражданский брак                 1      F   пенсионер     0  158616.077870   \n",
       "\n",
       "                      purpose  \n",
       "0               покупка жилья  \n",
       "1     приобретение автомобиля  \n",
       "2               покупка жилья  \n",
       "3  дополнительное образование  \n",
       "4             сыграть свадьбу  "
      ]
     },
     "execution_count": 3,
     "metadata": {},
     "output_type": "execute_result"
    }
   ],
   "source": [
    "data.head()"
   ]
  },
  {
   "cell_type": "markdown",
   "id": "35f5b21c",
   "metadata": {},
   "source": [
    "Посмотрим общую информацию о таблице"
   ]
  },
  {
   "cell_type": "code",
   "execution_count": 4,
   "id": "e8c52cfc",
   "metadata": {},
   "outputs": [
    {
     "name": "stdout",
     "output_type": "stream",
     "text": [
      "<class 'pandas.core.frame.DataFrame'>\n",
      "RangeIndex: 21525 entries, 0 to 21524\n",
      "Data columns (total 12 columns):\n",
      " #   Column            Non-Null Count  Dtype  \n",
      "---  ------            --------------  -----  \n",
      " 0   children          21525 non-null  int64  \n",
      " 1   days_employed     19351 non-null  float64\n",
      " 2   dob_years         21525 non-null  int64  \n",
      " 3   education         21525 non-null  object \n",
      " 4   education_id      21525 non-null  int64  \n",
      " 5   family_status     21525 non-null  object \n",
      " 6   family_status_id  21525 non-null  int64  \n",
      " 7   gender            21525 non-null  object \n",
      " 8   income_type       21525 non-null  object \n",
      " 9   debt              21525 non-null  int64  \n",
      " 10  total_income      19351 non-null  float64\n",
      " 11  purpose           21525 non-null  object \n",
      "dtypes: float64(2), int64(5), object(5)\n",
      "memory usage: 2.0+ MB\n"
     ]
    }
   ],
   "source": [
    "data.info()"
   ]
  },
  {
   "cell_type": "markdown",
   "id": "eaf56bd1",
   "metadata": {},
   "source": [
    "Посмотрим на статистическую информацию о данных"
   ]
  },
  {
   "cell_type": "code",
   "execution_count": 5,
   "id": "50a563d5",
   "metadata": {},
   "outputs": [
    {
     "data": {
      "text/html": [
       "<div>\n",
       "<style scoped>\n",
       "    .dataframe tbody tr th:only-of-type {\n",
       "        vertical-align: middle;\n",
       "    }\n",
       "\n",
       "    .dataframe tbody tr th {\n",
       "        vertical-align: top;\n",
       "    }\n",
       "\n",
       "    .dataframe thead th {\n",
       "        text-align: right;\n",
       "    }\n",
       "</style>\n",
       "<table border=\"1\" class=\"dataframe\">\n",
       "  <thead>\n",
       "    <tr style=\"text-align: right;\">\n",
       "      <th></th>\n",
       "      <th>children</th>\n",
       "      <th>days_employed</th>\n",
       "      <th>dob_years</th>\n",
       "      <th>education_id</th>\n",
       "      <th>family_status_id</th>\n",
       "      <th>debt</th>\n",
       "      <th>total_income</th>\n",
       "    </tr>\n",
       "  </thead>\n",
       "  <tbody>\n",
       "    <tr>\n",
       "      <th>count</th>\n",
       "      <td>21525.000000</td>\n",
       "      <td>19351.000000</td>\n",
       "      <td>21525.000000</td>\n",
       "      <td>21525.000000</td>\n",
       "      <td>21525.000000</td>\n",
       "      <td>21525.000000</td>\n",
       "      <td>1.935100e+04</td>\n",
       "    </tr>\n",
       "    <tr>\n",
       "      <th>mean</th>\n",
       "      <td>0.538908</td>\n",
       "      <td>63046.497661</td>\n",
       "      <td>43.293380</td>\n",
       "      <td>0.817236</td>\n",
       "      <td>0.972544</td>\n",
       "      <td>0.080883</td>\n",
       "      <td>1.674223e+05</td>\n",
       "    </tr>\n",
       "    <tr>\n",
       "      <th>std</th>\n",
       "      <td>1.381587</td>\n",
       "      <td>140827.311974</td>\n",
       "      <td>12.574584</td>\n",
       "      <td>0.548138</td>\n",
       "      <td>1.420324</td>\n",
       "      <td>0.272661</td>\n",
       "      <td>1.029716e+05</td>\n",
       "    </tr>\n",
       "    <tr>\n",
       "      <th>min</th>\n",
       "      <td>-1.000000</td>\n",
       "      <td>-18388.949901</td>\n",
       "      <td>0.000000</td>\n",
       "      <td>0.000000</td>\n",
       "      <td>0.000000</td>\n",
       "      <td>0.000000</td>\n",
       "      <td>2.066726e+04</td>\n",
       "    </tr>\n",
       "    <tr>\n",
       "      <th>25%</th>\n",
       "      <td>0.000000</td>\n",
       "      <td>-2747.423625</td>\n",
       "      <td>33.000000</td>\n",
       "      <td>1.000000</td>\n",
       "      <td>0.000000</td>\n",
       "      <td>0.000000</td>\n",
       "      <td>1.030532e+05</td>\n",
       "    </tr>\n",
       "    <tr>\n",
       "      <th>50%</th>\n",
       "      <td>0.000000</td>\n",
       "      <td>-1203.369529</td>\n",
       "      <td>42.000000</td>\n",
       "      <td>1.000000</td>\n",
       "      <td>0.000000</td>\n",
       "      <td>0.000000</td>\n",
       "      <td>1.450179e+05</td>\n",
       "    </tr>\n",
       "    <tr>\n",
       "      <th>75%</th>\n",
       "      <td>1.000000</td>\n",
       "      <td>-291.095954</td>\n",
       "      <td>53.000000</td>\n",
       "      <td>1.000000</td>\n",
       "      <td>1.000000</td>\n",
       "      <td>0.000000</td>\n",
       "      <td>2.034351e+05</td>\n",
       "    </tr>\n",
       "    <tr>\n",
       "      <th>max</th>\n",
       "      <td>20.000000</td>\n",
       "      <td>401755.400475</td>\n",
       "      <td>75.000000</td>\n",
       "      <td>4.000000</td>\n",
       "      <td>4.000000</td>\n",
       "      <td>1.000000</td>\n",
       "      <td>2.265604e+06</td>\n",
       "    </tr>\n",
       "  </tbody>\n",
       "</table>\n",
       "</div>"
      ],
      "text/plain": [
       "           children  days_employed     dob_years  education_id  \\\n",
       "count  21525.000000   19351.000000  21525.000000  21525.000000   \n",
       "mean       0.538908   63046.497661     43.293380      0.817236   \n",
       "std        1.381587  140827.311974     12.574584      0.548138   \n",
       "min       -1.000000  -18388.949901      0.000000      0.000000   \n",
       "25%        0.000000   -2747.423625     33.000000      1.000000   \n",
       "50%        0.000000   -1203.369529     42.000000      1.000000   \n",
       "75%        1.000000    -291.095954     53.000000      1.000000   \n",
       "max       20.000000  401755.400475     75.000000      4.000000   \n",
       "\n",
       "       family_status_id          debt  total_income  \n",
       "count      21525.000000  21525.000000  1.935100e+04  \n",
       "mean           0.972544      0.080883  1.674223e+05  \n",
       "std            1.420324      0.272661  1.029716e+05  \n",
       "min            0.000000      0.000000  2.066726e+04  \n",
       "25%            0.000000      0.000000  1.030532e+05  \n",
       "50%            0.000000      0.000000  1.450179e+05  \n",
       "75%            1.000000      0.000000  2.034351e+05  \n",
       "max            4.000000      1.000000  2.265604e+06  "
      ]
     },
     "execution_count": 5,
     "metadata": {},
     "output_type": "execute_result"
    }
   ],
   "source": [
    "data.describe()"
   ]
  },
  {
   "cell_type": "markdown",
   "id": "028af857",
   "metadata": {},
   "source": [
    "Данные представляют из себя таблицу из 21525 строк (заемщики банка) и 12 столбцов (данные о заемщиках).  \n",
    "\n",
    "В полученных данных у нас следующие столбцы:  \n",
    "children — количество детей в семье  \n",
    "days_employed — общий трудовой стаж в днях  \n",
    "dob_years — возраст клиента в годах    \n",
    "education — уровень образования клиента  \n",
    "education_id — идентификатор уровня образования  \n",
    "family_status — семейное положение  \n",
    "family_status_id — идентификатор семейного положения  \n",
    "gender — пол клиента  \n",
    "income_type — тип занятости  \n",
    "debt — имел ли задолженность по возврату кредитов  \n",
    "total_income — ежемесячный доход  \n",
    "purpose — цель получения кредита.\n",
    "\n",
    "В данных имеются пропуски в столбцах days_employed и total_income - потребуется выбрать какими значениями их заполнить, \n",
    "\n",
    "есть отрицательные значения в столбцах children и days_employed - потребуется избавиться от отрицательных значений, \n",
    "\n",
    "в столбце dob_years есть нулевые значения - потребуется выбрать на какое значение их поменять."
   ]
  },
  {
   "cell_type": "markdown",
   "id": "b552f0f4",
   "metadata": {},
   "source": [
    "## Заполнение пропусков"
   ]
  },
  {
   "cell_type": "markdown",
   "id": "1cb25c7d",
   "metadata": {},
   "source": [
    "Из данных видно, что пропуски есть только в столбцах 'days_employed' и 'total_income' и их количество совпадает. \n",
    "Скорее всего оба столбца не заполнены в одних и тех же строчках. Проверим это."
   ]
  },
  {
   "cell_type": "code",
   "execution_count": 6,
   "id": "959bb0a4",
   "metadata": {},
   "outputs": [
    {
     "data": {
      "text/html": [
       "<div>\n",
       "<style scoped>\n",
       "    .dataframe tbody tr th:only-of-type {\n",
       "        vertical-align: middle;\n",
       "    }\n",
       "\n",
       "    .dataframe tbody tr th {\n",
       "        vertical-align: top;\n",
       "    }\n",
       "\n",
       "    .dataframe thead th {\n",
       "        text-align: right;\n",
       "    }\n",
       "</style>\n",
       "<table border=\"1\" class=\"dataframe\">\n",
       "  <thead>\n",
       "    <tr style=\"text-align: right;\">\n",
       "      <th></th>\n",
       "      <th>children</th>\n",
       "      <th>days_employed</th>\n",
       "      <th>dob_years</th>\n",
       "      <th>education</th>\n",
       "      <th>education_id</th>\n",
       "      <th>family_status</th>\n",
       "      <th>family_status_id</th>\n",
       "      <th>gender</th>\n",
       "      <th>income_type</th>\n",
       "      <th>debt</th>\n",
       "      <th>total_income</th>\n",
       "      <th>purpose</th>\n",
       "    </tr>\n",
       "  </thead>\n",
       "  <tbody>\n",
       "    <tr>\n",
       "      <th>12</th>\n",
       "      <td>0</td>\n",
       "      <td>NaN</td>\n",
       "      <td>65</td>\n",
       "      <td>среднее</td>\n",
       "      <td>1</td>\n",
       "      <td>гражданский брак</td>\n",
       "      <td>1</td>\n",
       "      <td>M</td>\n",
       "      <td>пенсионер</td>\n",
       "      <td>0</td>\n",
       "      <td>NaN</td>\n",
       "      <td>сыграть свадьбу</td>\n",
       "    </tr>\n",
       "    <tr>\n",
       "      <th>26</th>\n",
       "      <td>0</td>\n",
       "      <td>NaN</td>\n",
       "      <td>41</td>\n",
       "      <td>среднее</td>\n",
       "      <td>1</td>\n",
       "      <td>женат / замужем</td>\n",
       "      <td>0</td>\n",
       "      <td>M</td>\n",
       "      <td>госслужащий</td>\n",
       "      <td>0</td>\n",
       "      <td>NaN</td>\n",
       "      <td>образование</td>\n",
       "    </tr>\n",
       "    <tr>\n",
       "      <th>29</th>\n",
       "      <td>0</td>\n",
       "      <td>NaN</td>\n",
       "      <td>63</td>\n",
       "      <td>среднее</td>\n",
       "      <td>1</td>\n",
       "      <td>Не женат / не замужем</td>\n",
       "      <td>4</td>\n",
       "      <td>F</td>\n",
       "      <td>пенсионер</td>\n",
       "      <td>0</td>\n",
       "      <td>NaN</td>\n",
       "      <td>строительство жилой недвижимости</td>\n",
       "    </tr>\n",
       "    <tr>\n",
       "      <th>41</th>\n",
       "      <td>0</td>\n",
       "      <td>NaN</td>\n",
       "      <td>50</td>\n",
       "      <td>среднее</td>\n",
       "      <td>1</td>\n",
       "      <td>женат / замужем</td>\n",
       "      <td>0</td>\n",
       "      <td>F</td>\n",
       "      <td>госслужащий</td>\n",
       "      <td>0</td>\n",
       "      <td>NaN</td>\n",
       "      <td>сделка с подержанным автомобилем</td>\n",
       "    </tr>\n",
       "    <tr>\n",
       "      <th>55</th>\n",
       "      <td>0</td>\n",
       "      <td>NaN</td>\n",
       "      <td>54</td>\n",
       "      <td>среднее</td>\n",
       "      <td>1</td>\n",
       "      <td>гражданский брак</td>\n",
       "      <td>1</td>\n",
       "      <td>F</td>\n",
       "      <td>пенсионер</td>\n",
       "      <td>1</td>\n",
       "      <td>NaN</td>\n",
       "      <td>сыграть свадьбу</td>\n",
       "    </tr>\n",
       "    <tr>\n",
       "      <th>...</th>\n",
       "      <td>...</td>\n",
       "      <td>...</td>\n",
       "      <td>...</td>\n",
       "      <td>...</td>\n",
       "      <td>...</td>\n",
       "      <td>...</td>\n",
       "      <td>...</td>\n",
       "      <td>...</td>\n",
       "      <td>...</td>\n",
       "      <td>...</td>\n",
       "      <td>...</td>\n",
       "      <td>...</td>\n",
       "    </tr>\n",
       "    <tr>\n",
       "      <th>21489</th>\n",
       "      <td>2</td>\n",
       "      <td>NaN</td>\n",
       "      <td>47</td>\n",
       "      <td>Среднее</td>\n",
       "      <td>1</td>\n",
       "      <td>женат / замужем</td>\n",
       "      <td>0</td>\n",
       "      <td>M</td>\n",
       "      <td>компаньон</td>\n",
       "      <td>0</td>\n",
       "      <td>NaN</td>\n",
       "      <td>сделка с автомобилем</td>\n",
       "    </tr>\n",
       "    <tr>\n",
       "      <th>21495</th>\n",
       "      <td>1</td>\n",
       "      <td>NaN</td>\n",
       "      <td>50</td>\n",
       "      <td>среднее</td>\n",
       "      <td>1</td>\n",
       "      <td>гражданский брак</td>\n",
       "      <td>1</td>\n",
       "      <td>F</td>\n",
       "      <td>сотрудник</td>\n",
       "      <td>0</td>\n",
       "      <td>NaN</td>\n",
       "      <td>свадьба</td>\n",
       "    </tr>\n",
       "    <tr>\n",
       "      <th>21497</th>\n",
       "      <td>0</td>\n",
       "      <td>NaN</td>\n",
       "      <td>48</td>\n",
       "      <td>ВЫСШЕЕ</td>\n",
       "      <td>0</td>\n",
       "      <td>женат / замужем</td>\n",
       "      <td>0</td>\n",
       "      <td>F</td>\n",
       "      <td>компаньон</td>\n",
       "      <td>0</td>\n",
       "      <td>NaN</td>\n",
       "      <td>строительство недвижимости</td>\n",
       "    </tr>\n",
       "    <tr>\n",
       "      <th>21502</th>\n",
       "      <td>1</td>\n",
       "      <td>NaN</td>\n",
       "      <td>42</td>\n",
       "      <td>среднее</td>\n",
       "      <td>1</td>\n",
       "      <td>женат / замужем</td>\n",
       "      <td>0</td>\n",
       "      <td>F</td>\n",
       "      <td>сотрудник</td>\n",
       "      <td>0</td>\n",
       "      <td>NaN</td>\n",
       "      <td>строительство жилой недвижимости</td>\n",
       "    </tr>\n",
       "    <tr>\n",
       "      <th>21510</th>\n",
       "      <td>2</td>\n",
       "      <td>NaN</td>\n",
       "      <td>28</td>\n",
       "      <td>среднее</td>\n",
       "      <td>1</td>\n",
       "      <td>женат / замужем</td>\n",
       "      <td>0</td>\n",
       "      <td>F</td>\n",
       "      <td>сотрудник</td>\n",
       "      <td>0</td>\n",
       "      <td>NaN</td>\n",
       "      <td>приобретение автомобиля</td>\n",
       "    </tr>\n",
       "  </tbody>\n",
       "</table>\n",
       "<p>2174 rows × 12 columns</p>\n",
       "</div>"
      ],
      "text/plain": [
       "       children  days_employed  dob_years education  education_id  \\\n",
       "12            0            NaN         65   среднее             1   \n",
       "26            0            NaN         41   среднее             1   \n",
       "29            0            NaN         63   среднее             1   \n",
       "41            0            NaN         50   среднее             1   \n",
       "55            0            NaN         54   среднее             1   \n",
       "...         ...            ...        ...       ...           ...   \n",
       "21489         2            NaN         47   Среднее             1   \n",
       "21495         1            NaN         50   среднее             1   \n",
       "21497         0            NaN         48    ВЫСШЕЕ             0   \n",
       "21502         1            NaN         42   среднее             1   \n",
       "21510         2            NaN         28   среднее             1   \n",
       "\n",
       "               family_status  family_status_id gender  income_type  debt  \\\n",
       "12          гражданский брак                 1      M    пенсионер     0   \n",
       "26           женат / замужем                 0      M  госслужащий     0   \n",
       "29     Не женат / не замужем                 4      F    пенсионер     0   \n",
       "41           женат / замужем                 0      F  госслужащий     0   \n",
       "55          гражданский брак                 1      F    пенсионер     1   \n",
       "...                      ...               ...    ...          ...   ...   \n",
       "21489        женат / замужем                 0      M    компаньон     0   \n",
       "21495       гражданский брак                 1      F    сотрудник     0   \n",
       "21497        женат / замужем                 0      F    компаньон     0   \n",
       "21502        женат / замужем                 0      F    сотрудник     0   \n",
       "21510        женат / замужем                 0      F    сотрудник     0   \n",
       "\n",
       "       total_income                           purpose  \n",
       "12              NaN                   сыграть свадьбу  \n",
       "26              NaN                       образование  \n",
       "29              NaN  строительство жилой недвижимости  \n",
       "41              NaN  сделка с подержанным автомобилем  \n",
       "55              NaN                   сыграть свадьбу  \n",
       "...             ...                               ...  \n",
       "21489           NaN              сделка с автомобилем  \n",
       "21495           NaN                           свадьба  \n",
       "21497           NaN        строительство недвижимости  \n",
       "21502           NaN  строительство жилой недвижимости  \n",
       "21510           NaN           приобретение автомобиля  \n",
       "\n",
       "[2174 rows x 12 columns]"
      ]
     },
     "execution_count": 6,
     "metadata": {},
     "output_type": "execute_result"
    }
   ],
   "source": [
    "data[data.isnull().any(1)] "
   ]
  },
  {
   "cell_type": "markdown",
   "id": "069e6af7",
   "metadata": {},
   "source": [
    "Количество строк таблицы с пропущенными элементами совпадает с количеством пропусков, значит данные отсуствуют в одних и тех же строках.\n",
    "Возможно две причины отсутсвия данных:\n",
    "- данные о работе были пропущены при заполнении таблицы;\n",
    "- заемщик на данный момент не имеет постоянной работы."
   ]
  },
  {
   "cell_type": "code",
   "execution_count": 7,
   "id": "eb69af5c",
   "metadata": {},
   "outputs": [
    {
     "data": {
      "text/plain": [
       "0.10099883855981417"
      ]
     },
     "execution_count": 7,
     "metadata": {},
     "output_type": "execute_result"
    }
   ],
   "source": [
    "percenf_of_na = data['days_employed'].isna().mean()\n",
    "percenf_of_na # доля количества строк с пропусками к количеству строк всего в процентах"
   ]
  },
  {
   "cell_type": "markdown",
   "id": "4f1d4286",
   "metadata": {},
   "source": [
    "Перед заполнением пропущенных данных необходимо избавиться от аномалий в этих столбцах."
   ]
  },
  {
   "cell_type": "markdown",
   "id": "6d975c2b",
   "metadata": {},
   "source": [
    "В столбце days_employed присутствуют отрицательные значения - заменим их на значения по модулю.  \n",
    "Возможно, что при заполнении таблицы сотрудник перепутал ячейки для заполнения \"работает с\" и \"работает по\""
   ]
  },
  {
   "cell_type": "code",
   "execution_count": 8,
   "id": "60e0ae5d",
   "metadata": {},
   "outputs": [],
   "source": [
    "data['days_employed'] = data['days_employed'].abs() "
   ]
  },
  {
   "cell_type": "markdown",
   "id": "8468de0c",
   "metadata": {},
   "source": [
    "Переведем столбец со стажем из дней в года и переименум его."
   ]
  },
  {
   "cell_type": "code",
   "execution_count": 9,
   "id": "3ed429d3",
   "metadata": {},
   "outputs": [],
   "source": [
    "data['days_employed'] = data['days_employed'] / 365\n",
    "data = data.rename(columns={'days_employed' : 'years_employed'})"
   ]
  },
  {
   "cell_type": "code",
   "execution_count": 10,
   "id": "f889086a",
   "metadata": {},
   "outputs": [
    {
     "data": {
      "text/html": [
       "<div>\n",
       "<style scoped>\n",
       "    .dataframe tbody tr th:only-of-type {\n",
       "        vertical-align: middle;\n",
       "    }\n",
       "\n",
       "    .dataframe tbody tr th {\n",
       "        vertical-align: top;\n",
       "    }\n",
       "\n",
       "    .dataframe thead th {\n",
       "        text-align: right;\n",
       "    }\n",
       "</style>\n",
       "<table border=\"1\" class=\"dataframe\">\n",
       "  <thead>\n",
       "    <tr style=\"text-align: right;\">\n",
       "      <th></th>\n",
       "      <th>children</th>\n",
       "      <th>years_employed</th>\n",
       "      <th>dob_years</th>\n",
       "      <th>education_id</th>\n",
       "      <th>family_status_id</th>\n",
       "      <th>debt</th>\n",
       "      <th>total_income</th>\n",
       "    </tr>\n",
       "  </thead>\n",
       "  <tbody>\n",
       "    <tr>\n",
       "      <th>count</th>\n",
       "      <td>21525.000000</td>\n",
       "      <td>19351.000000</td>\n",
       "      <td>21525.000000</td>\n",
       "      <td>21525.000000</td>\n",
       "      <td>21525.000000</td>\n",
       "      <td>21525.000000</td>\n",
       "      <td>1.935100e+04</td>\n",
       "    </tr>\n",
       "    <tr>\n",
       "      <th>mean</th>\n",
       "      <td>0.538908</td>\n",
       "      <td>183.328024</td>\n",
       "      <td>43.293380</td>\n",
       "      <td>0.817236</td>\n",
       "      <td>0.972544</td>\n",
       "      <td>0.080883</td>\n",
       "      <td>1.674223e+05</td>\n",
       "    </tr>\n",
       "    <tr>\n",
       "      <th>std</th>\n",
       "      <td>1.381587</td>\n",
       "      <td>380.906522</td>\n",
       "      <td>12.574584</td>\n",
       "      <td>0.548138</td>\n",
       "      <td>1.420324</td>\n",
       "      <td>0.272661</td>\n",
       "      <td>1.029716e+05</td>\n",
       "    </tr>\n",
       "    <tr>\n",
       "      <th>min</th>\n",
       "      <td>-1.000000</td>\n",
       "      <td>0.066141</td>\n",
       "      <td>0.000000</td>\n",
       "      <td>0.000000</td>\n",
       "      <td>0.000000</td>\n",
       "      <td>0.000000</td>\n",
       "      <td>2.066726e+04</td>\n",
       "    </tr>\n",
       "    <tr>\n",
       "      <th>25%</th>\n",
       "      <td>0.000000</td>\n",
       "      <td>2.539751</td>\n",
       "      <td>33.000000</td>\n",
       "      <td>1.000000</td>\n",
       "      <td>0.000000</td>\n",
       "      <td>0.000000</td>\n",
       "      <td>1.030532e+05</td>\n",
       "    </tr>\n",
       "    <tr>\n",
       "      <th>50%</th>\n",
       "      <td>0.000000</td>\n",
       "      <td>6.011563</td>\n",
       "      <td>42.000000</td>\n",
       "      <td>1.000000</td>\n",
       "      <td>0.000000</td>\n",
       "      <td>0.000000</td>\n",
       "      <td>1.450179e+05</td>\n",
       "    </tr>\n",
       "    <tr>\n",
       "      <th>75%</th>\n",
       "      <td>1.000000</td>\n",
       "      <td>15.172281</td>\n",
       "      <td>53.000000</td>\n",
       "      <td>1.000000</td>\n",
       "      <td>1.000000</td>\n",
       "      <td>0.000000</td>\n",
       "      <td>2.034351e+05</td>\n",
       "    </tr>\n",
       "    <tr>\n",
       "      <th>max</th>\n",
       "      <td>20.000000</td>\n",
       "      <td>1100.699727</td>\n",
       "      <td>75.000000</td>\n",
       "      <td>4.000000</td>\n",
       "      <td>4.000000</td>\n",
       "      <td>1.000000</td>\n",
       "      <td>2.265604e+06</td>\n",
       "    </tr>\n",
       "  </tbody>\n",
       "</table>\n",
       "</div>"
      ],
      "text/plain": [
       "           children  years_employed     dob_years  education_id  \\\n",
       "count  21525.000000    19351.000000  21525.000000  21525.000000   \n",
       "mean       0.538908      183.328024     43.293380      0.817236   \n",
       "std        1.381587      380.906522     12.574584      0.548138   \n",
       "min       -1.000000        0.066141      0.000000      0.000000   \n",
       "25%        0.000000        2.539751     33.000000      1.000000   \n",
       "50%        0.000000        6.011563     42.000000      1.000000   \n",
       "75%        1.000000       15.172281     53.000000      1.000000   \n",
       "max       20.000000     1100.699727     75.000000      4.000000   \n",
       "\n",
       "       family_status_id          debt  total_income  \n",
       "count      21525.000000  21525.000000  1.935100e+04  \n",
       "mean           0.972544      0.080883  1.674223e+05  \n",
       "std            1.420324      0.272661  1.029716e+05  \n",
       "min            0.000000      0.000000  2.066726e+04  \n",
       "25%            0.000000      0.000000  1.030532e+05  \n",
       "50%            0.000000      0.000000  1.450179e+05  \n",
       "75%            1.000000      0.000000  2.034351e+05  \n",
       "max            4.000000      1.000000  2.265604e+06  "
      ]
     },
     "execution_count": 10,
     "metadata": {},
     "output_type": "execute_result"
    }
   ],
   "source": [
    "data.describe()"
   ]
  },
  {
   "cell_type": "markdown",
   "id": "8233ea7f",
   "metadata": {},
   "source": [
    "Максимальное значение стажа работы - 1100, что не может быть правдой.\n",
    "Определим реальный максимальный стаж."
   ]
  },
  {
   "cell_type": "code",
   "execution_count": 11,
   "id": "1b5b5ea0",
   "metadata": {},
   "outputs": [
    {
     "data": {
      "text/html": [
       "<div>\n",
       "<style scoped>\n",
       "    .dataframe tbody tr th:only-of-type {\n",
       "        vertical-align: middle;\n",
       "    }\n",
       "\n",
       "    .dataframe tbody tr th {\n",
       "        vertical-align: top;\n",
       "    }\n",
       "\n",
       "    .dataframe thead th {\n",
       "        text-align: right;\n",
       "    }\n",
       "</style>\n",
       "<table border=\"1\" class=\"dataframe\">\n",
       "  <thead>\n",
       "    <tr style=\"text-align: right;\">\n",
       "      <th></th>\n",
       "      <th>children</th>\n",
       "      <th>years_employed</th>\n",
       "      <th>dob_years</th>\n",
       "      <th>education</th>\n",
       "      <th>education_id</th>\n",
       "      <th>family_status</th>\n",
       "      <th>family_status_id</th>\n",
       "      <th>gender</th>\n",
       "      <th>income_type</th>\n",
       "      <th>debt</th>\n",
       "      <th>total_income</th>\n",
       "      <th>purpose</th>\n",
       "    </tr>\n",
       "  </thead>\n",
       "  <tbody>\n",
       "    <tr>\n",
       "      <th>16335</th>\n",
       "      <td>1</td>\n",
       "      <td>50.380685</td>\n",
       "      <td>61</td>\n",
       "      <td>среднее</td>\n",
       "      <td>1</td>\n",
       "      <td>женат / замужем</td>\n",
       "      <td>0</td>\n",
       "      <td>F</td>\n",
       "      <td>сотрудник</td>\n",
       "      <td>0</td>\n",
       "      <td>186178.934089</td>\n",
       "      <td>операции с недвижимостью</td>\n",
       "    </tr>\n",
       "    <tr>\n",
       "      <th>4299</th>\n",
       "      <td>0</td>\n",
       "      <td>48.261817</td>\n",
       "      <td>61</td>\n",
       "      <td>среднее</td>\n",
       "      <td>1</td>\n",
       "      <td>женат / замужем</td>\n",
       "      <td>0</td>\n",
       "      <td>F</td>\n",
       "      <td>компаньон</td>\n",
       "      <td>0</td>\n",
       "      <td>122560.741753</td>\n",
       "      <td>покупка жилья</td>\n",
       "    </tr>\n",
       "    <tr>\n",
       "      <th>7329</th>\n",
       "      <td>0</td>\n",
       "      <td>45.461569</td>\n",
       "      <td>60</td>\n",
       "      <td>высшее</td>\n",
       "      <td>0</td>\n",
       "      <td>женат / замужем</td>\n",
       "      <td>0</td>\n",
       "      <td>F</td>\n",
       "      <td>сотрудник</td>\n",
       "      <td>0</td>\n",
       "      <td>124697.846781</td>\n",
       "      <td>заняться высшим образованием</td>\n",
       "    </tr>\n",
       "    <tr>\n",
       "      <th>17838</th>\n",
       "      <td>0</td>\n",
       "      <td>44.560821</td>\n",
       "      <td>59</td>\n",
       "      <td>среднее</td>\n",
       "      <td>1</td>\n",
       "      <td>женат / замужем</td>\n",
       "      <td>0</td>\n",
       "      <td>F</td>\n",
       "      <td>сотрудник</td>\n",
       "      <td>0</td>\n",
       "      <td>51238.967133</td>\n",
       "      <td>на покупку автомобиля</td>\n",
       "    </tr>\n",
       "    <tr>\n",
       "      <th>16825</th>\n",
       "      <td>0</td>\n",
       "      <td>44.163528</td>\n",
       "      <td>64</td>\n",
       "      <td>среднее</td>\n",
       "      <td>1</td>\n",
       "      <td>женат / замужем</td>\n",
       "      <td>0</td>\n",
       "      <td>F</td>\n",
       "      <td>сотрудник</td>\n",
       "      <td>0</td>\n",
       "      <td>91527.685995</td>\n",
       "      <td>покупка жилой недвижимости</td>\n",
       "    </tr>\n",
       "  </tbody>\n",
       "</table>\n",
       "</div>"
      ],
      "text/plain": [
       "       children  years_employed  dob_years education  education_id  \\\n",
       "16335         1       50.380685         61   среднее             1   \n",
       "4299          0       48.261817         61   среднее             1   \n",
       "7329          0       45.461569         60    высшее             0   \n",
       "17838         0       44.560821         59   среднее             1   \n",
       "16825         0       44.163528         64   среднее             1   \n",
       "\n",
       "         family_status  family_status_id gender income_type  debt  \\\n",
       "16335  женат / замужем                 0      F   сотрудник     0   \n",
       "4299   женат / замужем                 0      F   компаньон     0   \n",
       "7329   женат / замужем                 0      F   сотрудник     0   \n",
       "17838  женат / замужем                 0      F   сотрудник     0   \n",
       "16825  женат / замужем                 0      F   сотрудник     0   \n",
       "\n",
       "        total_income                       purpose  \n",
       "16335  186178.934089      операции с недвижимостью  \n",
       "4299   122560.741753                 покупка жилья  \n",
       "7329   124697.846781  заняться высшим образованием  \n",
       "17838   51238.967133         на покупку автомобиля  \n",
       "16825   91527.685995    покупка жилой недвижимости  "
      ]
     },
     "execution_count": 11,
     "metadata": {},
     "output_type": "execute_result"
    }
   ],
   "source": [
    "data[data['years_employed'] < 500].sort_values(by='years_employed', ascending=False).head(5)"
   ]
  },
  {
   "cell_type": "markdown",
   "id": "f3f05e4e",
   "metadata": {},
   "source": [
    "Из полученных данных видно, что реальный максимальный стаж не более 51 года.  \n",
    "Проверим как связаны столбцы years_employed и income_type у клиентов, максимальный стаж которых более 51 года."
   ]
  },
  {
   "cell_type": "code",
   "execution_count": 12,
   "id": "15872398",
   "metadata": {},
   "outputs": [
    {
     "data": {
      "text/plain": [
       "пенсионер      3443\n",
       "безработный       2\n",
       "Name: income_type, dtype: int64"
      ]
     },
     "execution_count": 12,
     "metadata": {},
     "output_type": "execute_result"
    }
   ],
   "source": [
    "data[data['years_employed'] > 51]['income_type'].value_counts()"
   ]
  },
  {
   "cell_type": "markdown",
   "id": "ae234b0f",
   "metadata": {},
   "source": [
    "3443 из них - пенсионеры.  \n",
    "Посмотрим статистические данные о пенсионерах."
   ]
  },
  {
   "cell_type": "code",
   "execution_count": 13,
   "id": "62e6a8ae",
   "metadata": {},
   "outputs": [
    {
     "data": {
      "text/html": [
       "<div>\n",
       "<style scoped>\n",
       "    .dataframe tbody tr th:only-of-type {\n",
       "        vertical-align: middle;\n",
       "    }\n",
       "\n",
       "    .dataframe tbody tr th {\n",
       "        vertical-align: top;\n",
       "    }\n",
       "\n",
       "    .dataframe thead th {\n",
       "        text-align: right;\n",
       "    }\n",
       "</style>\n",
       "<table border=\"1\" class=\"dataframe\">\n",
       "  <thead>\n",
       "    <tr style=\"text-align: right;\">\n",
       "      <th></th>\n",
       "      <th>children</th>\n",
       "      <th>years_employed</th>\n",
       "      <th>dob_years</th>\n",
       "      <th>education_id</th>\n",
       "      <th>family_status_id</th>\n",
       "      <th>debt</th>\n",
       "      <th>total_income</th>\n",
       "    </tr>\n",
       "  </thead>\n",
       "  <tbody>\n",
       "    <tr>\n",
       "      <th>count</th>\n",
       "      <td>3856.000000</td>\n",
       "      <td>3443.000000</td>\n",
       "      <td>3856.000000</td>\n",
       "      <td>3856.000000</td>\n",
       "      <td>3856.000000</td>\n",
       "      <td>3856.000000</td>\n",
       "      <td>3443.000000</td>\n",
       "    </tr>\n",
       "    <tr>\n",
       "      <th>mean</th>\n",
       "      <td>0.132002</td>\n",
       "      <td>1000.009565</td>\n",
       "      <td>59.063019</td>\n",
       "      <td>0.913900</td>\n",
       "      <td>0.985737</td>\n",
       "      <td>0.056017</td>\n",
       "      <td>137127.465690</td>\n",
       "    </tr>\n",
       "    <tr>\n",
       "      <th>std</th>\n",
       "      <td>1.014271</td>\n",
       "      <td>57.724948</td>\n",
       "      <td>7.618526</td>\n",
       "      <td>0.510185</td>\n",
       "      <td>1.315202</td>\n",
       "      <td>0.229984</td>\n",
       "      <td>80246.953231</td>\n",
       "    </tr>\n",
       "    <tr>\n",
       "      <th>min</th>\n",
       "      <td>-1.000000</td>\n",
       "      <td>900.626632</td>\n",
       "      <td>0.000000</td>\n",
       "      <td>0.000000</td>\n",
       "      <td>0.000000</td>\n",
       "      <td>0.000000</td>\n",
       "      <td>20667.263793</td>\n",
       "    </tr>\n",
       "    <tr>\n",
       "      <th>25%</th>\n",
       "      <td>0.000000</td>\n",
       "      <td>949.724236</td>\n",
       "      <td>56.000000</td>\n",
       "      <td>1.000000</td>\n",
       "      <td>0.000000</td>\n",
       "      <td>0.000000</td>\n",
       "      <td>82881.443465</td>\n",
       "    </tr>\n",
       "    <tr>\n",
       "      <th>50%</th>\n",
       "      <td>0.000000</td>\n",
       "      <td>1000.584401</td>\n",
       "      <td>60.000000</td>\n",
       "      <td>1.000000</td>\n",
       "      <td>0.000000</td>\n",
       "      <td>0.000000</td>\n",
       "      <td>118514.486412</td>\n",
       "    </tr>\n",
       "    <tr>\n",
       "      <th>75%</th>\n",
       "      <td>0.000000</td>\n",
       "      <td>1049.949033</td>\n",
       "      <td>64.000000</td>\n",
       "      <td>1.000000</td>\n",
       "      <td>2.000000</td>\n",
       "      <td>0.000000</td>\n",
       "      <td>169700.433010</td>\n",
       "    </tr>\n",
       "    <tr>\n",
       "      <th>max</th>\n",
       "      <td>20.000000</td>\n",
       "      <td>1100.699727</td>\n",
       "      <td>74.000000</td>\n",
       "      <td>4.000000</td>\n",
       "      <td>4.000000</td>\n",
       "      <td>1.000000</td>\n",
       "      <td>735103.270167</td>\n",
       "    </tr>\n",
       "  </tbody>\n",
       "</table>\n",
       "</div>"
      ],
      "text/plain": [
       "          children  years_employed    dob_years  education_id  \\\n",
       "count  3856.000000     3443.000000  3856.000000   3856.000000   \n",
       "mean      0.132002     1000.009565    59.063019      0.913900   \n",
       "std       1.014271       57.724948     7.618526      0.510185   \n",
       "min      -1.000000      900.626632     0.000000      0.000000   \n",
       "25%       0.000000      949.724236    56.000000      1.000000   \n",
       "50%       0.000000     1000.584401    60.000000      1.000000   \n",
       "75%       0.000000     1049.949033    64.000000      1.000000   \n",
       "max      20.000000     1100.699727    74.000000      4.000000   \n",
       "\n",
       "       family_status_id         debt   total_income  \n",
       "count       3856.000000  3856.000000    3443.000000  \n",
       "mean           0.985737     0.056017  137127.465690  \n",
       "std            1.315202     0.229984   80246.953231  \n",
       "min            0.000000     0.000000   20667.263793  \n",
       "25%            0.000000     0.000000   82881.443465  \n",
       "50%            0.000000     0.000000  118514.486412  \n",
       "75%            2.000000     0.000000  169700.433010  \n",
       "max            4.000000     1.000000  735103.270167  "
      ]
     },
     "execution_count": 13,
     "metadata": {},
     "output_type": "execute_result"
    }
   ],
   "source": [
    "data[data['income_type'] == 'пенсионер'].describe()"
   ]
  },
  {
   "cell_type": "markdown",
   "id": "8dd86481",
   "metadata": {},
   "source": [
    "Минимальное количество лет стажа - 900, что не может быть правдой.  \n",
    "Средний возраст пенсионеров в наших данных - 60 лет, в связи с этим можем заменить общий трудовой стаж у всех пенсионеров на медианное значение стажа среди клинтов возрастом старше 55 лет, для которых у нас есть \"корректные\" данные по трудовому стажу."
   ]
  },
  {
   "cell_type": "code",
   "execution_count": 14,
   "id": "f353cb1a",
   "metadata": {},
   "outputs": [],
   "source": [
    "data.loc[(data['income_type'] == 'пенсионер') & (data['years_employed'] > 51), 'years_employed'] = \\\n",
    "    data.loc[(data['years_employed'] < 51) & (data['dob_years'] > 55), 'years_employed'].median()"
   ]
  },
  {
   "cell_type": "markdown",
   "id": "c3f73e1a",
   "metadata": {},
   "source": [
    "Проверим что получилось."
   ]
  },
  {
   "cell_type": "code",
   "execution_count": 15,
   "id": "5c5e7a29",
   "metadata": {},
   "outputs": [
    {
     "data": {
      "text/html": [
       "<div>\n",
       "<style scoped>\n",
       "    .dataframe tbody tr th:only-of-type {\n",
       "        vertical-align: middle;\n",
       "    }\n",
       "\n",
       "    .dataframe tbody tr th {\n",
       "        vertical-align: top;\n",
       "    }\n",
       "\n",
       "    .dataframe thead th {\n",
       "        text-align: right;\n",
       "    }\n",
       "</style>\n",
       "<table border=\"1\" class=\"dataframe\">\n",
       "  <thead>\n",
       "    <tr style=\"text-align: right;\">\n",
       "      <th></th>\n",
       "      <th>children</th>\n",
       "      <th>years_employed</th>\n",
       "      <th>dob_years</th>\n",
       "      <th>education_id</th>\n",
       "      <th>family_status_id</th>\n",
       "      <th>debt</th>\n",
       "      <th>total_income</th>\n",
       "    </tr>\n",
       "  </thead>\n",
       "  <tbody>\n",
       "    <tr>\n",
       "      <th>count</th>\n",
       "      <td>3856.000000</td>\n",
       "      <td>3.443000e+03</td>\n",
       "      <td>3856.000000</td>\n",
       "      <td>3856.000000</td>\n",
       "      <td>3856.000000</td>\n",
       "      <td>3856.000000</td>\n",
       "      <td>3443.000000</td>\n",
       "    </tr>\n",
       "    <tr>\n",
       "      <th>mean</th>\n",
       "      <td>0.132002</td>\n",
       "      <td>6.588070e+00</td>\n",
       "      <td>59.063019</td>\n",
       "      <td>0.913900</td>\n",
       "      <td>0.985737</td>\n",
       "      <td>0.056017</td>\n",
       "      <td>137127.465690</td>\n",
       "    </tr>\n",
       "    <tr>\n",
       "      <th>std</th>\n",
       "      <td>1.014271</td>\n",
       "      <td>2.584975e-13</td>\n",
       "      <td>7.618526</td>\n",
       "      <td>0.510185</td>\n",
       "      <td>1.315202</td>\n",
       "      <td>0.229984</td>\n",
       "      <td>80246.953231</td>\n",
       "    </tr>\n",
       "    <tr>\n",
       "      <th>min</th>\n",
       "      <td>-1.000000</td>\n",
       "      <td>6.588070e+00</td>\n",
       "      <td>0.000000</td>\n",
       "      <td>0.000000</td>\n",
       "      <td>0.000000</td>\n",
       "      <td>0.000000</td>\n",
       "      <td>20667.263793</td>\n",
       "    </tr>\n",
       "    <tr>\n",
       "      <th>25%</th>\n",
       "      <td>0.000000</td>\n",
       "      <td>6.588070e+00</td>\n",
       "      <td>56.000000</td>\n",
       "      <td>1.000000</td>\n",
       "      <td>0.000000</td>\n",
       "      <td>0.000000</td>\n",
       "      <td>82881.443465</td>\n",
       "    </tr>\n",
       "    <tr>\n",
       "      <th>50%</th>\n",
       "      <td>0.000000</td>\n",
       "      <td>6.588070e+00</td>\n",
       "      <td>60.000000</td>\n",
       "      <td>1.000000</td>\n",
       "      <td>0.000000</td>\n",
       "      <td>0.000000</td>\n",
       "      <td>118514.486412</td>\n",
       "    </tr>\n",
       "    <tr>\n",
       "      <th>75%</th>\n",
       "      <td>0.000000</td>\n",
       "      <td>6.588070e+00</td>\n",
       "      <td>64.000000</td>\n",
       "      <td>1.000000</td>\n",
       "      <td>2.000000</td>\n",
       "      <td>0.000000</td>\n",
       "      <td>169700.433010</td>\n",
       "    </tr>\n",
       "    <tr>\n",
       "      <th>max</th>\n",
       "      <td>20.000000</td>\n",
       "      <td>6.588070e+00</td>\n",
       "      <td>74.000000</td>\n",
       "      <td>4.000000</td>\n",
       "      <td>4.000000</td>\n",
       "      <td>1.000000</td>\n",
       "      <td>735103.270167</td>\n",
       "    </tr>\n",
       "  </tbody>\n",
       "</table>\n",
       "</div>"
      ],
      "text/plain": [
       "          children  years_employed    dob_years  education_id  \\\n",
       "count  3856.000000    3.443000e+03  3856.000000   3856.000000   \n",
       "mean      0.132002    6.588070e+00    59.063019      0.913900   \n",
       "std       1.014271    2.584975e-13     7.618526      0.510185   \n",
       "min      -1.000000    6.588070e+00     0.000000      0.000000   \n",
       "25%       0.000000    6.588070e+00    56.000000      1.000000   \n",
       "50%       0.000000    6.588070e+00    60.000000      1.000000   \n",
       "75%       0.000000    6.588070e+00    64.000000      1.000000   \n",
       "max      20.000000    6.588070e+00    74.000000      4.000000   \n",
       "\n",
       "       family_status_id         debt   total_income  \n",
       "count       3856.000000  3856.000000    3443.000000  \n",
       "mean           0.985737     0.056017  137127.465690  \n",
       "std            1.315202     0.229984   80246.953231  \n",
       "min            0.000000     0.000000   20667.263793  \n",
       "25%            0.000000     0.000000   82881.443465  \n",
       "50%            0.000000     0.000000  118514.486412  \n",
       "75%            2.000000     0.000000  169700.433010  \n",
       "max            4.000000     1.000000  735103.270167  "
      ]
     },
     "execution_count": 15,
     "metadata": {},
     "output_type": "execute_result"
    }
   ],
   "source": [
    "data[data['income_type'] == 'пенсионер'].describe()"
   ]
  },
  {
   "cell_type": "markdown",
   "id": "baebfc33",
   "metadata": {},
   "source": [
    "Посмотрим на оставшихся клиентов с аномальными значениями стажа."
   ]
  },
  {
   "cell_type": "code",
   "execution_count": 16,
   "id": "b3707a25",
   "metadata": {},
   "outputs": [
    {
     "data": {
      "text/html": [
       "<div>\n",
       "<style scoped>\n",
       "    .dataframe tbody tr th:only-of-type {\n",
       "        vertical-align: middle;\n",
       "    }\n",
       "\n",
       "    .dataframe tbody tr th {\n",
       "        vertical-align: top;\n",
       "    }\n",
       "\n",
       "    .dataframe thead th {\n",
       "        text-align: right;\n",
       "    }\n",
       "</style>\n",
       "<table border=\"1\" class=\"dataframe\">\n",
       "  <thead>\n",
       "    <tr style=\"text-align: right;\">\n",
       "      <th></th>\n",
       "      <th>children</th>\n",
       "      <th>years_employed</th>\n",
       "      <th>dob_years</th>\n",
       "      <th>education</th>\n",
       "      <th>education_id</th>\n",
       "      <th>family_status</th>\n",
       "      <th>family_status_id</th>\n",
       "      <th>gender</th>\n",
       "      <th>income_type</th>\n",
       "      <th>debt</th>\n",
       "      <th>total_income</th>\n",
       "      <th>purpose</th>\n",
       "    </tr>\n",
       "  </thead>\n",
       "  <tbody>\n",
       "    <tr>\n",
       "      <th>3133</th>\n",
       "      <td>1</td>\n",
       "      <td>924.724567</td>\n",
       "      <td>31</td>\n",
       "      <td>среднее</td>\n",
       "      <td>1</td>\n",
       "      <td>женат / замужем</td>\n",
       "      <td>0</td>\n",
       "      <td>M</td>\n",
       "      <td>безработный</td>\n",
       "      <td>1</td>\n",
       "      <td>59956.991984</td>\n",
       "      <td>покупка жилья для сдачи</td>\n",
       "    </tr>\n",
       "    <tr>\n",
       "      <th>14798</th>\n",
       "      <td>0</td>\n",
       "      <td>1083.021476</td>\n",
       "      <td>45</td>\n",
       "      <td>Высшее</td>\n",
       "      <td>0</td>\n",
       "      <td>гражданский брак</td>\n",
       "      <td>1</td>\n",
       "      <td>F</td>\n",
       "      <td>безработный</td>\n",
       "      <td>0</td>\n",
       "      <td>202722.511368</td>\n",
       "      <td>ремонт жилью</td>\n",
       "    </tr>\n",
       "  </tbody>\n",
       "</table>\n",
       "</div>"
      ],
      "text/plain": [
       "       children  years_employed  dob_years education  education_id  \\\n",
       "3133          1      924.724567         31   среднее             1   \n",
       "14798         0     1083.021476         45    Высшее             0   \n",
       "\n",
       "          family_status  family_status_id gender  income_type  debt  \\\n",
       "3133    женат / замужем                 0      M  безработный     1   \n",
       "14798  гражданский брак                 1      F  безработный     0   \n",
       "\n",
       "        total_income                  purpose  \n",
       "3133    59956.991984  покупка жилья для сдачи  \n",
       "14798  202722.511368             ремонт жилью  "
      ]
     },
     "execution_count": 16,
     "metadata": {},
     "output_type": "execute_result"
    }
   ],
   "source": [
    "data[data['years_employed'] > 51]"
   ]
  },
  {
   "cell_type": "markdown",
   "id": "8f269e91",
   "metadata": {},
   "source": [
    "Таких осталось всего два клиента, поэтому данные для этих клиентов заменим на меданное значение стажа всех остальных клиентов"
   ]
  },
  {
   "cell_type": "code",
   "execution_count": 17,
   "id": "c661c1d7",
   "metadata": {},
   "outputs": [],
   "source": [
    "data.loc[data['years_employed'] > 51, 'years_employed'] = data['years_employed'].median()"
   ]
  },
  {
   "cell_type": "code",
   "execution_count": 18,
   "id": "39f05d22",
   "metadata": {},
   "outputs": [
    {
     "data": {
      "text/html": [
       "<div>\n",
       "<style scoped>\n",
       "    .dataframe tbody tr th:only-of-type {\n",
       "        vertical-align: middle;\n",
       "    }\n",
       "\n",
       "    .dataframe tbody tr th {\n",
       "        vertical-align: top;\n",
       "    }\n",
       "\n",
       "    .dataframe thead th {\n",
       "        text-align: right;\n",
       "    }\n",
       "</style>\n",
       "<table border=\"1\" class=\"dataframe\">\n",
       "  <thead>\n",
       "    <tr style=\"text-align: right;\">\n",
       "      <th></th>\n",
       "      <th>children</th>\n",
       "      <th>years_employed</th>\n",
       "      <th>dob_years</th>\n",
       "      <th>education_id</th>\n",
       "      <th>family_status_id</th>\n",
       "      <th>debt</th>\n",
       "      <th>total_income</th>\n",
       "    </tr>\n",
       "  </thead>\n",
       "  <tbody>\n",
       "    <tr>\n",
       "      <th>count</th>\n",
       "      <td>21525.000000</td>\n",
       "      <td>19351.000000</td>\n",
       "      <td>21525.000000</td>\n",
       "      <td>21525.000000</td>\n",
       "      <td>21525.000000</td>\n",
       "      <td>21525.000000</td>\n",
       "      <td>1.935100e+04</td>\n",
       "    </tr>\n",
       "    <tr>\n",
       "      <th>mean</th>\n",
       "      <td>0.538908</td>\n",
       "      <td>6.471742</td>\n",
       "      <td>43.293380</td>\n",
       "      <td>0.817236</td>\n",
       "      <td>0.972544</td>\n",
       "      <td>0.080883</td>\n",
       "      <td>1.674223e+05</td>\n",
       "    </tr>\n",
       "    <tr>\n",
       "      <th>std</th>\n",
       "      <td>1.381587</td>\n",
       "      <td>5.723761</td>\n",
       "      <td>12.574584</td>\n",
       "      <td>0.548138</td>\n",
       "      <td>1.420324</td>\n",
       "      <td>0.272661</td>\n",
       "      <td>1.029716e+05</td>\n",
       "    </tr>\n",
       "    <tr>\n",
       "      <th>min</th>\n",
       "      <td>-1.000000</td>\n",
       "      <td>0.066141</td>\n",
       "      <td>0.000000</td>\n",
       "      <td>0.000000</td>\n",
       "      <td>0.000000</td>\n",
       "      <td>0.000000</td>\n",
       "      <td>2.066726e+04</td>\n",
       "    </tr>\n",
       "    <tr>\n",
       "      <th>25%</th>\n",
       "      <td>0.000000</td>\n",
       "      <td>2.539751</td>\n",
       "      <td>33.000000</td>\n",
       "      <td>1.000000</td>\n",
       "      <td>0.000000</td>\n",
       "      <td>0.000000</td>\n",
       "      <td>1.030532e+05</td>\n",
       "    </tr>\n",
       "    <tr>\n",
       "      <th>50%</th>\n",
       "      <td>0.000000</td>\n",
       "      <td>6.011563</td>\n",
       "      <td>42.000000</td>\n",
       "      <td>1.000000</td>\n",
       "      <td>0.000000</td>\n",
       "      <td>0.000000</td>\n",
       "      <td>1.450179e+05</td>\n",
       "    </tr>\n",
       "    <tr>\n",
       "      <th>75%</th>\n",
       "      <td>1.000000</td>\n",
       "      <td>7.527188</td>\n",
       "      <td>53.000000</td>\n",
       "      <td>1.000000</td>\n",
       "      <td>1.000000</td>\n",
       "      <td>0.000000</td>\n",
       "      <td>2.034351e+05</td>\n",
       "    </tr>\n",
       "    <tr>\n",
       "      <th>max</th>\n",
       "      <td>20.000000</td>\n",
       "      <td>50.380685</td>\n",
       "      <td>75.000000</td>\n",
       "      <td>4.000000</td>\n",
       "      <td>4.000000</td>\n",
       "      <td>1.000000</td>\n",
       "      <td>2.265604e+06</td>\n",
       "    </tr>\n",
       "  </tbody>\n",
       "</table>\n",
       "</div>"
      ],
      "text/plain": [
       "           children  years_employed     dob_years  education_id  \\\n",
       "count  21525.000000    19351.000000  21525.000000  21525.000000   \n",
       "mean       0.538908        6.471742     43.293380      0.817236   \n",
       "std        1.381587        5.723761     12.574584      0.548138   \n",
       "min       -1.000000        0.066141      0.000000      0.000000   \n",
       "25%        0.000000        2.539751     33.000000      1.000000   \n",
       "50%        0.000000        6.011563     42.000000      1.000000   \n",
       "75%        1.000000        7.527188     53.000000      1.000000   \n",
       "max       20.000000       50.380685     75.000000      4.000000   \n",
       "\n",
       "       family_status_id          debt  total_income  \n",
       "count      21525.000000  21525.000000  1.935100e+04  \n",
       "mean           0.972544      0.080883  1.674223e+05  \n",
       "std            1.420324      0.272661  1.029716e+05  \n",
       "min            0.000000      0.000000  2.066726e+04  \n",
       "25%            0.000000      0.000000  1.030532e+05  \n",
       "50%            0.000000      0.000000  1.450179e+05  \n",
       "75%            1.000000      0.000000  2.034351e+05  \n",
       "max            4.000000      1.000000  2.265604e+06  "
      ]
     },
     "execution_count": 18,
     "metadata": {},
     "output_type": "execute_result"
    }
   ],
   "source": [
    "data.describe()"
   ]
  },
  {
   "cell_type": "markdown",
   "id": "b314c290",
   "metadata": {},
   "source": []
  },
  {
   "cell_type": "code",
   "execution_count": 19,
   "id": "b361a014",
   "metadata": {},
   "outputs": [
    {
     "data": {
      "text/html": [
       "<div>\n",
       "<style scoped>\n",
       "    .dataframe tbody tr th:only-of-type {\n",
       "        vertical-align: middle;\n",
       "    }\n",
       "\n",
       "    .dataframe tbody tr th {\n",
       "        vertical-align: top;\n",
       "    }\n",
       "\n",
       "    .dataframe thead th {\n",
       "        text-align: right;\n",
       "    }\n",
       "</style>\n",
       "<table border=\"1\" class=\"dataframe\">\n",
       "  <thead>\n",
       "    <tr style=\"text-align: right;\">\n",
       "      <th></th>\n",
       "      <th>children</th>\n",
       "      <th>years_employed</th>\n",
       "      <th>dob_years</th>\n",
       "      <th>education_id</th>\n",
       "      <th>family_status_id</th>\n",
       "      <th>debt</th>\n",
       "      <th>total_income</th>\n",
       "    </tr>\n",
       "  </thead>\n",
       "  <tbody>\n",
       "    <tr>\n",
       "      <th>count</th>\n",
       "      <td>2174.000000</td>\n",
       "      <td>0.0</td>\n",
       "      <td>2174.000000</td>\n",
       "      <td>2174.000000</td>\n",
       "      <td>2174.000000</td>\n",
       "      <td>2174.000000</td>\n",
       "      <td>0.0</td>\n",
       "    </tr>\n",
       "    <tr>\n",
       "      <th>mean</th>\n",
       "      <td>0.552438</td>\n",
       "      <td>NaN</td>\n",
       "      <td>43.632015</td>\n",
       "      <td>0.800828</td>\n",
       "      <td>0.975161</td>\n",
       "      <td>0.078197</td>\n",
       "      <td>NaN</td>\n",
       "    </tr>\n",
       "    <tr>\n",
       "      <th>std</th>\n",
       "      <td>1.469356</td>\n",
       "      <td>NaN</td>\n",
       "      <td>12.531481</td>\n",
       "      <td>0.530157</td>\n",
       "      <td>1.418220</td>\n",
       "      <td>0.268543</td>\n",
       "      <td>NaN</td>\n",
       "    </tr>\n",
       "    <tr>\n",
       "      <th>min</th>\n",
       "      <td>-1.000000</td>\n",
       "      <td>NaN</td>\n",
       "      <td>0.000000</td>\n",
       "      <td>0.000000</td>\n",
       "      <td>0.000000</td>\n",
       "      <td>0.000000</td>\n",
       "      <td>NaN</td>\n",
       "    </tr>\n",
       "    <tr>\n",
       "      <th>25%</th>\n",
       "      <td>0.000000</td>\n",
       "      <td>NaN</td>\n",
       "      <td>34.000000</td>\n",
       "      <td>0.250000</td>\n",
       "      <td>0.000000</td>\n",
       "      <td>0.000000</td>\n",
       "      <td>NaN</td>\n",
       "    </tr>\n",
       "    <tr>\n",
       "      <th>50%</th>\n",
       "      <td>0.000000</td>\n",
       "      <td>NaN</td>\n",
       "      <td>43.000000</td>\n",
       "      <td>1.000000</td>\n",
       "      <td>0.000000</td>\n",
       "      <td>0.000000</td>\n",
       "      <td>NaN</td>\n",
       "    </tr>\n",
       "    <tr>\n",
       "      <th>75%</th>\n",
       "      <td>1.000000</td>\n",
       "      <td>NaN</td>\n",
       "      <td>54.000000</td>\n",
       "      <td>1.000000</td>\n",
       "      <td>1.000000</td>\n",
       "      <td>0.000000</td>\n",
       "      <td>NaN</td>\n",
       "    </tr>\n",
       "    <tr>\n",
       "      <th>max</th>\n",
       "      <td>20.000000</td>\n",
       "      <td>NaN</td>\n",
       "      <td>73.000000</td>\n",
       "      <td>3.000000</td>\n",
       "      <td>4.000000</td>\n",
       "      <td>1.000000</td>\n",
       "      <td>NaN</td>\n",
       "    </tr>\n",
       "  </tbody>\n",
       "</table>\n",
       "</div>"
      ],
      "text/plain": [
       "          children  years_employed    dob_years  education_id  \\\n",
       "count  2174.000000             0.0  2174.000000   2174.000000   \n",
       "mean      0.552438             NaN    43.632015      0.800828   \n",
       "std       1.469356             NaN    12.531481      0.530157   \n",
       "min      -1.000000             NaN     0.000000      0.000000   \n",
       "25%       0.000000             NaN    34.000000      0.250000   \n",
       "50%       0.000000             NaN    43.000000      1.000000   \n",
       "75%       1.000000             NaN    54.000000      1.000000   \n",
       "max      20.000000             NaN    73.000000      3.000000   \n",
       "\n",
       "       family_status_id         debt  total_income  \n",
       "count       2174.000000  2174.000000           0.0  \n",
       "mean           0.975161     0.078197           NaN  \n",
       "std            1.418220     0.268543           NaN  \n",
       "min            0.000000     0.000000           NaN  \n",
       "25%            0.000000     0.000000           NaN  \n",
       "50%            0.000000     0.000000           NaN  \n",
       "75%            1.000000     0.000000           NaN  \n",
       "max            4.000000     1.000000           NaN  "
      ]
     },
     "execution_count": 19,
     "metadata": {},
     "output_type": "execute_result"
    }
   ],
   "source": [
    "data[data.isnull().any(1)].describe()"
   ]
  },
  {
   "cell_type": "markdown",
   "id": "bf315a19",
   "metadata": {},
   "source": [
    "После того как избавились от аномалий в столбцах, где присутствуют пропуски, займемся заполнением пропусков."
   ]
  },
  {
   "cell_type": "markdown",
   "id": "c4159017",
   "metadata": {},
   "source": [
    "На уровень дохода влияет уровень образования. Заполним пропущенные значения в total_income медианными значениями по каждой категории education_id."
   ]
  },
  {
   "cell_type": "code",
   "execution_count": 20,
   "id": "5dd0533f",
   "metadata": {},
   "outputs": [],
   "source": [
    "for id in data['education_id'].unique():\n",
    "    \n",
    "    data.loc[data['education_id'] == id, 'total_income'] = \\\n",
    "        data.loc[data['education_id'] == id, 'total_income']\\\n",
    "        .fillna(data.loc[data['education_id'] == id, 'total_income'].median())"
   ]
  },
  {
   "cell_type": "code",
   "execution_count": 21,
   "id": "968618d6",
   "metadata": {},
   "outputs": [
    {
     "data": {
      "text/html": [
       "<div>\n",
       "<style scoped>\n",
       "    .dataframe tbody tr th:only-of-type {\n",
       "        vertical-align: middle;\n",
       "    }\n",
       "\n",
       "    .dataframe tbody tr th {\n",
       "        vertical-align: top;\n",
       "    }\n",
       "\n",
       "    .dataframe thead th {\n",
       "        text-align: right;\n",
       "    }\n",
       "</style>\n",
       "<table border=\"1\" class=\"dataframe\">\n",
       "  <thead>\n",
       "    <tr style=\"text-align: right;\">\n",
       "      <th></th>\n",
       "      <th>children</th>\n",
       "      <th>years_employed</th>\n",
       "      <th>dob_years</th>\n",
       "      <th>education_id</th>\n",
       "      <th>family_status_id</th>\n",
       "      <th>debt</th>\n",
       "      <th>total_income</th>\n",
       "    </tr>\n",
       "  </thead>\n",
       "  <tbody>\n",
       "    <tr>\n",
       "      <th>count</th>\n",
       "      <td>2174.000000</td>\n",
       "      <td>0.0</td>\n",
       "      <td>2174.000000</td>\n",
       "      <td>2174.000000</td>\n",
       "      <td>2174.000000</td>\n",
       "      <td>2174.000000</td>\n",
       "      <td>2174.000000</td>\n",
       "    </tr>\n",
       "    <tr>\n",
       "      <th>mean</th>\n",
       "      <td>0.552438</td>\n",
       "      <td>NaN</td>\n",
       "      <td>43.632015</td>\n",
       "      <td>0.800828</td>\n",
       "      <td>0.975161</td>\n",
       "      <td>0.078197</td>\n",
       "      <td>146766.496306</td>\n",
       "    </tr>\n",
       "    <tr>\n",
       "      <th>std</th>\n",
       "      <td>1.469356</td>\n",
       "      <td>NaN</td>\n",
       "      <td>12.531481</td>\n",
       "      <td>0.530157</td>\n",
       "      <td>1.418220</td>\n",
       "      <td>0.268543</td>\n",
       "      <td>17133.460261</td>\n",
       "    </tr>\n",
       "    <tr>\n",
       "      <th>min</th>\n",
       "      <td>-1.000000</td>\n",
       "      <td>NaN</td>\n",
       "      <td>0.000000</td>\n",
       "      <td>0.000000</td>\n",
       "      <td>0.000000</td>\n",
       "      <td>0.000000</td>\n",
       "      <td>117137.352825</td>\n",
       "    </tr>\n",
       "    <tr>\n",
       "      <th>25%</th>\n",
       "      <td>0.000000</td>\n",
       "      <td>NaN</td>\n",
       "      <td>34.000000</td>\n",
       "      <td>0.250000</td>\n",
       "      <td>0.000000</td>\n",
       "      <td>0.000000</td>\n",
       "      <td>136478.643244</td>\n",
       "    </tr>\n",
       "    <tr>\n",
       "      <th>50%</th>\n",
       "      <td>0.000000</td>\n",
       "      <td>NaN</td>\n",
       "      <td>43.000000</td>\n",
       "      <td>1.000000</td>\n",
       "      <td>0.000000</td>\n",
       "      <td>0.000000</td>\n",
       "      <td>136478.643244</td>\n",
       "    </tr>\n",
       "    <tr>\n",
       "      <th>75%</th>\n",
       "      <td>1.000000</td>\n",
       "      <td>NaN</td>\n",
       "      <td>54.000000</td>\n",
       "      <td>1.000000</td>\n",
       "      <td>1.000000</td>\n",
       "      <td>0.000000</td>\n",
       "      <td>171534.463802</td>\n",
       "    </tr>\n",
       "    <tr>\n",
       "      <th>max</th>\n",
       "      <td>20.000000</td>\n",
       "      <td>NaN</td>\n",
       "      <td>73.000000</td>\n",
       "      <td>3.000000</td>\n",
       "      <td>4.000000</td>\n",
       "      <td>1.000000</td>\n",
       "      <td>175340.818855</td>\n",
       "    </tr>\n",
       "  </tbody>\n",
       "</table>\n",
       "</div>"
      ],
      "text/plain": [
       "          children  years_employed    dob_years  education_id  \\\n",
       "count  2174.000000             0.0  2174.000000   2174.000000   \n",
       "mean      0.552438             NaN    43.632015      0.800828   \n",
       "std       1.469356             NaN    12.531481      0.530157   \n",
       "min      -1.000000             NaN     0.000000      0.000000   \n",
       "25%       0.000000             NaN    34.000000      0.250000   \n",
       "50%       0.000000             NaN    43.000000      1.000000   \n",
       "75%       1.000000             NaN    54.000000      1.000000   \n",
       "max      20.000000             NaN    73.000000      3.000000   \n",
       "\n",
       "       family_status_id         debt   total_income  \n",
       "count       2174.000000  2174.000000    2174.000000  \n",
       "mean           0.975161     0.078197  146766.496306  \n",
       "std            1.418220     0.268543   17133.460261  \n",
       "min            0.000000     0.000000  117137.352825  \n",
       "25%            0.000000     0.000000  136478.643244  \n",
       "50%            0.000000     0.000000  136478.643244  \n",
       "75%            1.000000     0.000000  171534.463802  \n",
       "max            4.000000     1.000000  175340.818855  "
      ]
     },
     "execution_count": 21,
     "metadata": {},
     "output_type": "execute_result"
    }
   ],
   "source": [
    "data[data.isnull().any(1)].describe()"
   ]
  },
  {
   "cell_type": "markdown",
   "id": "f1046c66",
   "metadata": {},
   "source": [
    "На стаж работы влияет возраст клиента, поэтому разобьем клиентов на три группы и заполним пропуски медианными значениями по группам.  \n",
    "Группы:\n",
    "- до 34 лет\n",
    "- от 35 до 54 лет\n",
    "- старше 55 лет  "
   ]
  },
  {
   "cell_type": "code",
   "execution_count": 22,
   "id": "4567ee75",
   "metadata": {},
   "outputs": [],
   "source": [
    "data.loc[data['dob_years'] <= 34, 'years_employed'] = \\\n",
    "    data.loc[data['dob_years'] <= 34, 'years_employed'].\\\n",
    "    fillna(data.loc[data['dob_years'] <= 34, 'years_employed'].median()) #заполняем пропуски для первой группы\n",
    "data.loc[(data['dob_years'] > 34) & (data['dob_years'] <= 54), 'years_employed'] = \\\n",
    "    data.loc[(data['dob_years'] > 34) & (data['dob_years'] <= 54), 'years_employed'].\\\n",
    "    fillna(data.loc[(data['dob_years'] > 34) & (data['dob_years'] <= 54), 'years_employed'].median()) #заполняем пропуски для второй группы\n",
    "data.loc[data['dob_years'] > 54, 'years_employed'] = \\\n",
    "    data.loc[data['dob_years'] > 54, 'years_employed'].\\\n",
    "    fillna(data.loc[data['dob_years'] > 54, 'years_employed'].median()) #заполняем пропуски для третьей группы"
   ]
  },
  {
   "cell_type": "code",
   "execution_count": 23,
   "id": "3fd08848",
   "metadata": {},
   "outputs": [
    {
     "data": {
      "text/plain": [
       "children            0\n",
       "years_employed      0\n",
       "dob_years           0\n",
       "education           0\n",
       "education_id        0\n",
       "family_status       0\n",
       "family_status_id    0\n",
       "gender              0\n",
       "income_type         0\n",
       "debt                0\n",
       "total_income        0\n",
       "purpose             0\n",
       "dtype: int64"
      ]
     },
     "execution_count": 23,
     "metadata": {},
     "output_type": "execute_result"
    }
   ],
   "source": [
    "data.isna().sum()"
   ]
  },
  {
   "cell_type": "markdown",
   "id": "178940ee",
   "metadata": {},
   "source": [
    "Пропуски в данных отсутствуют."
   ]
  },
  {
   "cell_type": "markdown",
   "id": "49e2e974",
   "metadata": {},
   "source": [
    "## Проверка данных на аномалии и исправления."
   ]
  },
  {
   "cell_type": "markdown",
   "id": "cc93e027",
   "metadata": {},
   "source": [
    "Cнова посмотрим на первые строки таблицы, чтобы понять где искать аномалии."
   ]
  },
  {
   "cell_type": "code",
   "execution_count": 24,
   "id": "5550ab70",
   "metadata": {},
   "outputs": [
    {
     "data": {
      "text/html": [
       "<div>\n",
       "<style scoped>\n",
       "    .dataframe tbody tr th:only-of-type {\n",
       "        vertical-align: middle;\n",
       "    }\n",
       "\n",
       "    .dataframe tbody tr th {\n",
       "        vertical-align: top;\n",
       "    }\n",
       "\n",
       "    .dataframe thead th {\n",
       "        text-align: right;\n",
       "    }\n",
       "</style>\n",
       "<table border=\"1\" class=\"dataframe\">\n",
       "  <thead>\n",
       "    <tr style=\"text-align: right;\">\n",
       "      <th></th>\n",
       "      <th>children</th>\n",
       "      <th>years_employed</th>\n",
       "      <th>dob_years</th>\n",
       "      <th>education</th>\n",
       "      <th>education_id</th>\n",
       "      <th>family_status</th>\n",
       "      <th>family_status_id</th>\n",
       "      <th>gender</th>\n",
       "      <th>income_type</th>\n",
       "      <th>debt</th>\n",
       "      <th>total_income</th>\n",
       "      <th>purpose</th>\n",
       "    </tr>\n",
       "  </thead>\n",
       "  <tbody>\n",
       "    <tr>\n",
       "      <th>0</th>\n",
       "      <td>1</td>\n",
       "      <td>23.116912</td>\n",
       "      <td>42</td>\n",
       "      <td>высшее</td>\n",
       "      <td>0</td>\n",
       "      <td>женат / замужем</td>\n",
       "      <td>0</td>\n",
       "      <td>F</td>\n",
       "      <td>сотрудник</td>\n",
       "      <td>0</td>\n",
       "      <td>253875.639453</td>\n",
       "      <td>покупка жилья</td>\n",
       "    </tr>\n",
       "    <tr>\n",
       "      <th>1</th>\n",
       "      <td>1</td>\n",
       "      <td>11.026860</td>\n",
       "      <td>36</td>\n",
       "      <td>среднее</td>\n",
       "      <td>1</td>\n",
       "      <td>женат / замужем</td>\n",
       "      <td>0</td>\n",
       "      <td>F</td>\n",
       "      <td>сотрудник</td>\n",
       "      <td>0</td>\n",
       "      <td>112080.014102</td>\n",
       "      <td>приобретение автомобиля</td>\n",
       "    </tr>\n",
       "    <tr>\n",
       "      <th>2</th>\n",
       "      <td>0</td>\n",
       "      <td>15.406637</td>\n",
       "      <td>33</td>\n",
       "      <td>Среднее</td>\n",
       "      <td>1</td>\n",
       "      <td>женат / замужем</td>\n",
       "      <td>0</td>\n",
       "      <td>M</td>\n",
       "      <td>сотрудник</td>\n",
       "      <td>0</td>\n",
       "      <td>145885.952297</td>\n",
       "      <td>покупка жилья</td>\n",
       "    </tr>\n",
       "    <tr>\n",
       "      <th>3</th>\n",
       "      <td>3</td>\n",
       "      <td>11.300677</td>\n",
       "      <td>32</td>\n",
       "      <td>среднее</td>\n",
       "      <td>1</td>\n",
       "      <td>женат / замужем</td>\n",
       "      <td>0</td>\n",
       "      <td>M</td>\n",
       "      <td>сотрудник</td>\n",
       "      <td>0</td>\n",
       "      <td>267628.550329</td>\n",
       "      <td>дополнительное образование</td>\n",
       "    </tr>\n",
       "    <tr>\n",
       "      <th>4</th>\n",
       "      <td>0</td>\n",
       "      <td>6.588070</td>\n",
       "      <td>53</td>\n",
       "      <td>среднее</td>\n",
       "      <td>1</td>\n",
       "      <td>гражданский брак</td>\n",
       "      <td>1</td>\n",
       "      <td>F</td>\n",
       "      <td>пенсионер</td>\n",
       "      <td>0</td>\n",
       "      <td>158616.077870</td>\n",
       "      <td>сыграть свадьбу</td>\n",
       "    </tr>\n",
       "  </tbody>\n",
       "</table>\n",
       "</div>"
      ],
      "text/plain": [
       "   children  years_employed  dob_years education  education_id  \\\n",
       "0         1       23.116912         42    высшее             0   \n",
       "1         1       11.026860         36   среднее             1   \n",
       "2         0       15.406637         33   Среднее             1   \n",
       "3         3       11.300677         32   среднее             1   \n",
       "4         0        6.588070         53   среднее             1   \n",
       "\n",
       "      family_status  family_status_id gender income_type  debt   total_income  \\\n",
       "0   женат / замужем                 0      F   сотрудник     0  253875.639453   \n",
       "1   женат / замужем                 0      F   сотрудник     0  112080.014102   \n",
       "2   женат / замужем                 0      M   сотрудник     0  145885.952297   \n",
       "3   женат / замужем                 0      M   сотрудник     0  267628.550329   \n",
       "4  гражданский брак                 1      F   пенсионер     0  158616.077870   \n",
       "\n",
       "                      purpose  \n",
       "0               покупка жилья  \n",
       "1     приобретение автомобиля  \n",
       "2               покупка жилья  \n",
       "3  дополнительное образование  \n",
       "4             сыграть свадьбу  "
      ]
     },
     "execution_count": 24,
     "metadata": {},
     "output_type": "execute_result"
    }
   ],
   "source": [
    "data.head()  "
   ]
  },
  {
   "cell_type": "markdown",
   "id": "48fa3ed8",
   "metadata": {},
   "source": [
    "Проверяем уникальные значения количества детей"
   ]
  },
  {
   "cell_type": "code",
   "execution_count": 25,
   "id": "f0999dd9",
   "metadata": {},
   "outputs": [
    {
     "data": {
      "text/plain": [
       "array([ 1,  0,  3,  2, -1,  4, 20,  5])"
      ]
     },
     "execution_count": 25,
     "metadata": {},
     "output_type": "execute_result"
    }
   ],
   "source": [
    "data['children'].unique() "
   ]
  },
  {
   "cell_type": "markdown",
   "id": "e8a6bdab",
   "metadata": {},
   "source": [
    "\"-1\" - явно ошибка исправим на \"1\""
   ]
  },
  {
   "cell_type": "code",
   "execution_count": 26,
   "id": "8fb67301",
   "metadata": {},
   "outputs": [],
   "source": [
    "data['children'] = data['children'].abs()"
   ]
  },
  {
   "cell_type": "markdown",
   "id": "47b8a518",
   "metadata": {},
   "source": [
    "Обработаем аномалии в возрасте клиентов, у которых возраст указан 0 лет."
   ]
  },
  {
   "cell_type": "code",
   "execution_count": 27,
   "id": "3407269f",
   "metadata": {},
   "outputs": [
    {
     "data": {
      "text/html": [
       "<div>\n",
       "<style scoped>\n",
       "    .dataframe tbody tr th:only-of-type {\n",
       "        vertical-align: middle;\n",
       "    }\n",
       "\n",
       "    .dataframe tbody tr th {\n",
       "        vertical-align: top;\n",
       "    }\n",
       "\n",
       "    .dataframe thead th {\n",
       "        text-align: right;\n",
       "    }\n",
       "</style>\n",
       "<table border=\"1\" class=\"dataframe\">\n",
       "  <thead>\n",
       "    <tr style=\"text-align: right;\">\n",
       "      <th></th>\n",
       "      <th>children</th>\n",
       "      <th>years_employed</th>\n",
       "      <th>dob_years</th>\n",
       "      <th>education_id</th>\n",
       "      <th>family_status_id</th>\n",
       "      <th>debt</th>\n",
       "      <th>total_income</th>\n",
       "    </tr>\n",
       "  </thead>\n",
       "  <tbody>\n",
       "    <tr>\n",
       "      <th>count</th>\n",
       "      <td>101.000000</td>\n",
       "      <td>101.000000</td>\n",
       "      <td>101.0</td>\n",
       "      <td>101.000000</td>\n",
       "      <td>101.000000</td>\n",
       "      <td>101.000000</td>\n",
       "      <td>101.000000</td>\n",
       "    </tr>\n",
       "    <tr>\n",
       "      <th>mean</th>\n",
       "      <td>0.673267</td>\n",
       "      <td>5.847487</td>\n",
       "      <td>0.0</td>\n",
       "      <td>0.673267</td>\n",
       "      <td>1.237624</td>\n",
       "      <td>0.079208</td>\n",
       "      <td>157327.989397</td>\n",
       "    </tr>\n",
       "    <tr>\n",
       "      <th>std</th>\n",
       "      <td>2.098137</td>\n",
       "      <td>5.188776</td>\n",
       "      <td>0.0</td>\n",
       "      <td>0.512033</td>\n",
       "      <td>1.524129</td>\n",
       "      <td>0.271410</td>\n",
       "      <td>70855.379784</td>\n",
       "    </tr>\n",
       "    <tr>\n",
       "      <th>min</th>\n",
       "      <td>0.000000</td>\n",
       "      <td>0.298540</td>\n",
       "      <td>0.0</td>\n",
       "      <td>0.000000</td>\n",
       "      <td>0.000000</td>\n",
       "      <td>0.000000</td>\n",
       "      <td>34974.450366</td>\n",
       "    </tr>\n",
       "    <tr>\n",
       "      <th>25%</th>\n",
       "      <td>0.000000</td>\n",
       "      <td>2.790480</td>\n",
       "      <td>0.0</td>\n",
       "      <td>0.000000</td>\n",
       "      <td>0.000000</td>\n",
       "      <td>0.000000</td>\n",
       "      <td>102621.701671</td>\n",
       "    </tr>\n",
       "    <tr>\n",
       "      <th>50%</th>\n",
       "      <td>0.000000</td>\n",
       "      <td>4.414687</td>\n",
       "      <td>0.0</td>\n",
       "      <td>1.000000</td>\n",
       "      <td>1.000000</td>\n",
       "      <td>0.000000</td>\n",
       "      <td>136537.132625</td>\n",
       "    </tr>\n",
       "    <tr>\n",
       "      <th>75%</th>\n",
       "      <td>1.000000</td>\n",
       "      <td>6.588070</td>\n",
       "      <td>0.0</td>\n",
       "      <td>1.000000</td>\n",
       "      <td>3.000000</td>\n",
       "      <td>0.000000</td>\n",
       "      <td>201852.430096</td>\n",
       "    </tr>\n",
       "    <tr>\n",
       "      <th>max</th>\n",
       "      <td>20.000000</td>\n",
       "      <td>29.285618</td>\n",
       "      <td>0.0</td>\n",
       "      <td>2.000000</td>\n",
       "      <td>4.000000</td>\n",
       "      <td>1.000000</td>\n",
       "      <td>386373.636958</td>\n",
       "    </tr>\n",
       "  </tbody>\n",
       "</table>\n",
       "</div>"
      ],
      "text/plain": [
       "         children  years_employed  dob_years  education_id  family_status_id  \\\n",
       "count  101.000000      101.000000      101.0    101.000000        101.000000   \n",
       "mean     0.673267        5.847487        0.0      0.673267          1.237624   \n",
       "std      2.098137        5.188776        0.0      0.512033          1.524129   \n",
       "min      0.000000        0.298540        0.0      0.000000          0.000000   \n",
       "25%      0.000000        2.790480        0.0      0.000000          0.000000   \n",
       "50%      0.000000        4.414687        0.0      1.000000          1.000000   \n",
       "75%      1.000000        6.588070        0.0      1.000000          3.000000   \n",
       "max     20.000000       29.285618        0.0      2.000000          4.000000   \n",
       "\n",
       "             debt   total_income  \n",
       "count  101.000000     101.000000  \n",
       "mean     0.079208  157327.989397  \n",
       "std      0.271410   70855.379784  \n",
       "min      0.000000   34974.450366  \n",
       "25%      0.000000  102621.701671  \n",
       "50%      0.000000  136537.132625  \n",
       "75%      0.000000  201852.430096  \n",
       "max      1.000000  386373.636958  "
      ]
     },
     "execution_count": 27,
     "metadata": {},
     "output_type": "execute_result"
    }
   ],
   "source": [
    "data[data['dob_years'] == 0].describe()"
   ]
  },
  {
   "cell_type": "markdown",
   "id": "dadccb2b",
   "metadata": {},
   "source": [
    "Так как стаж и возраст скорее всего связаны, то разобьем этих клиентов на 3 группы по стажу и заполним медианными значениями по группам:\n",
    "- до 2.8 лет\n",
    "- от 2.8 до 6.6 лет\n",
    "- от 6.6 лет"
   ]
  },
  {
   "cell_type": "code",
   "execution_count": 28,
   "id": "52c22be2",
   "metadata": {},
   "outputs": [],
   "source": [
    "data.loc[(data['years_employed'] <= 2.8) & (data['dob_years'] == 0), 'dob_years'] = \\\n",
    "    data.loc[(data['years_employed'] <= 2.8)& (data['dob_years'] != 0), 'dob_years'].median() #заполняем пропуски для первой группы\n",
    "data.loc[(data['years_employed'] > 2.8) & (data['years_employed'] <= 6.6) & (data['dob_years'] == 0), 'dob_years'] = \\\n",
    "    data.loc[(data['years_employed'] > 2.8) & (data['years_employed'] <= 6.6)  & (data['dob_years'] != 0), 'dob_years'].median() #заполняем пропуски для второй группы\n",
    "data.loc[(data['years_employed'] > 6.6) & (data['dob_years'] == 0), 'dob_years'] = \\\n",
    "    data.loc[(data['years_employed'] > 6.6) & (data['dob_years'] != 0), 'dob_years'].median() #заполняем пропуски для третьей группы"
   ]
  },
  {
   "cell_type": "code",
   "execution_count": 29,
   "id": "2990bca9",
   "metadata": {},
   "outputs": [
    {
     "data": {
      "text/html": [
       "<div>\n",
       "<style scoped>\n",
       "    .dataframe tbody tr th:only-of-type {\n",
       "        vertical-align: middle;\n",
       "    }\n",
       "\n",
       "    .dataframe tbody tr th {\n",
       "        vertical-align: top;\n",
       "    }\n",
       "\n",
       "    .dataframe thead th {\n",
       "        text-align: right;\n",
       "    }\n",
       "</style>\n",
       "<table border=\"1\" class=\"dataframe\">\n",
       "  <thead>\n",
       "    <tr style=\"text-align: right;\">\n",
       "      <th></th>\n",
       "      <th>children</th>\n",
       "      <th>years_employed</th>\n",
       "      <th>dob_years</th>\n",
       "      <th>education_id</th>\n",
       "      <th>family_status_id</th>\n",
       "      <th>debt</th>\n",
       "      <th>total_income</th>\n",
       "    </tr>\n",
       "  </thead>\n",
       "  <tbody>\n",
       "    <tr>\n",
       "      <th>count</th>\n",
       "      <td>21525.000000</td>\n",
       "      <td>21525.000000</td>\n",
       "      <td>21525.000000</td>\n",
       "      <td>21525.000000</td>\n",
       "      <td>21525.000000</td>\n",
       "      <td>21525.000000</td>\n",
       "      <td>2.152500e+04</td>\n",
       "    </tr>\n",
       "    <tr>\n",
       "      <th>mean</th>\n",
       "      <td>0.543275</td>\n",
       "      <td>6.362139</td>\n",
       "      <td>43.499001</td>\n",
       "      <td>0.817236</td>\n",
       "      <td>0.972544</td>\n",
       "      <td>0.080883</td>\n",
       "      <td>1.653361e+05</td>\n",
       "    </tr>\n",
       "    <tr>\n",
       "      <th>std</th>\n",
       "      <td>1.379876</td>\n",
       "      <td>5.453124</td>\n",
       "      <td>12.222997</td>\n",
       "      <td>0.548138</td>\n",
       "      <td>1.420324</td>\n",
       "      <td>0.272661</td>\n",
       "      <td>9.798248e+04</td>\n",
       "    </tr>\n",
       "    <tr>\n",
       "      <th>min</th>\n",
       "      <td>0.000000</td>\n",
       "      <td>0.066141</td>\n",
       "      <td>19.000000</td>\n",
       "      <td>0.000000</td>\n",
       "      <td>0.000000</td>\n",
       "      <td>0.000000</td>\n",
       "      <td>2.066726e+04</td>\n",
       "    </tr>\n",
       "    <tr>\n",
       "      <th>25%</th>\n",
       "      <td>0.000000</td>\n",
       "      <td>2.809885</td>\n",
       "      <td>34.000000</td>\n",
       "      <td>1.000000</td>\n",
       "      <td>0.000000</td>\n",
       "      <td>0.000000</td>\n",
       "      <td>1.077982e+05</td>\n",
       "    </tr>\n",
       "    <tr>\n",
       "      <th>50%</th>\n",
       "      <td>0.000000</td>\n",
       "      <td>5.987423</td>\n",
       "      <td>43.000000</td>\n",
       "      <td>1.000000</td>\n",
       "      <td>0.000000</td>\n",
       "      <td>0.000000</td>\n",
       "      <td>1.409601e+05</td>\n",
       "    </tr>\n",
       "    <tr>\n",
       "      <th>75%</th>\n",
       "      <td>1.000000</td>\n",
       "      <td>6.899093</td>\n",
       "      <td>53.000000</td>\n",
       "      <td>1.000000</td>\n",
       "      <td>1.000000</td>\n",
       "      <td>0.000000</td>\n",
       "      <td>1.955436e+05</td>\n",
       "    </tr>\n",
       "    <tr>\n",
       "      <th>max</th>\n",
       "      <td>20.000000</td>\n",
       "      <td>50.380685</td>\n",
       "      <td>75.000000</td>\n",
       "      <td>4.000000</td>\n",
       "      <td>4.000000</td>\n",
       "      <td>1.000000</td>\n",
       "      <td>2.265604e+06</td>\n",
       "    </tr>\n",
       "  </tbody>\n",
       "</table>\n",
       "</div>"
      ],
      "text/plain": [
       "           children  years_employed     dob_years  education_id  \\\n",
       "count  21525.000000    21525.000000  21525.000000  21525.000000   \n",
       "mean       0.543275        6.362139     43.499001      0.817236   \n",
       "std        1.379876        5.453124     12.222997      0.548138   \n",
       "min        0.000000        0.066141     19.000000      0.000000   \n",
       "25%        0.000000        2.809885     34.000000      1.000000   \n",
       "50%        0.000000        5.987423     43.000000      1.000000   \n",
       "75%        1.000000        6.899093     53.000000      1.000000   \n",
       "max       20.000000       50.380685     75.000000      4.000000   \n",
       "\n",
       "       family_status_id          debt  total_income  \n",
       "count      21525.000000  21525.000000  2.152500e+04  \n",
       "mean           0.972544      0.080883  1.653361e+05  \n",
       "std            1.420324      0.272661  9.798248e+04  \n",
       "min            0.000000      0.000000  2.066726e+04  \n",
       "25%            0.000000      0.000000  1.077982e+05  \n",
       "50%            0.000000      0.000000  1.409601e+05  \n",
       "75%            1.000000      0.000000  1.955436e+05  \n",
       "max            4.000000      1.000000  2.265604e+06  "
      ]
     },
     "execution_count": 29,
     "metadata": {},
     "output_type": "execute_result"
    }
   ],
   "source": [
    "data.describe()"
   ]
  },
  {
   "cell_type": "markdown",
   "id": "03c97d82",
   "metadata": {},
   "source": [
    "В данных присутствуют клиенты, у которых 20 детей, посмотрим статистические данные по этим клиентам."
   ]
  },
  {
   "cell_type": "code",
   "execution_count": 30,
   "id": "21e81808",
   "metadata": {},
   "outputs": [
    {
     "data": {
      "text/html": [
       "<div>\n",
       "<style scoped>\n",
       "    .dataframe tbody tr th:only-of-type {\n",
       "        vertical-align: middle;\n",
       "    }\n",
       "\n",
       "    .dataframe tbody tr th {\n",
       "        vertical-align: top;\n",
       "    }\n",
       "\n",
       "    .dataframe thead th {\n",
       "        text-align: right;\n",
       "    }\n",
       "</style>\n",
       "<table border=\"1\" class=\"dataframe\">\n",
       "  <thead>\n",
       "    <tr style=\"text-align: right;\">\n",
       "      <th></th>\n",
       "      <th>children</th>\n",
       "      <th>years_employed</th>\n",
       "      <th>dob_years</th>\n",
       "      <th>education_id</th>\n",
       "      <th>family_status_id</th>\n",
       "      <th>debt</th>\n",
       "      <th>total_income</th>\n",
       "    </tr>\n",
       "  </thead>\n",
       "  <tbody>\n",
       "    <tr>\n",
       "      <th>count</th>\n",
       "      <td>76.0</td>\n",
       "      <td>76.000000</td>\n",
       "      <td>76.000000</td>\n",
       "      <td>76.000000</td>\n",
       "      <td>76.000000</td>\n",
       "      <td>76.000000</td>\n",
       "      <td>76.000000</td>\n",
       "    </tr>\n",
       "    <tr>\n",
       "      <th>mean</th>\n",
       "      <td>20.0</td>\n",
       "      <td>5.945745</td>\n",
       "      <td>42.447368</td>\n",
       "      <td>0.842105</td>\n",
       "      <td>0.815789</td>\n",
       "      <td>0.105263</td>\n",
       "      <td>166436.441711</td>\n",
       "    </tr>\n",
       "    <tr>\n",
       "      <th>std</th>\n",
       "      <td>0.0</td>\n",
       "      <td>5.688632</td>\n",
       "      <td>11.061519</td>\n",
       "      <td>0.433671</td>\n",
       "      <td>1.363432</td>\n",
       "      <td>0.308931</td>\n",
       "      <td>76368.794728</td>\n",
       "    </tr>\n",
       "    <tr>\n",
       "      <th>min</th>\n",
       "      <td>20.0</td>\n",
       "      <td>0.331507</td>\n",
       "      <td>21.000000</td>\n",
       "      <td>0.000000</td>\n",
       "      <td>0.000000</td>\n",
       "      <td>0.000000</td>\n",
       "      <td>53971.576721</td>\n",
       "    </tr>\n",
       "    <tr>\n",
       "      <th>25%</th>\n",
       "      <td>20.0</td>\n",
       "      <td>2.101947</td>\n",
       "      <td>34.000000</td>\n",
       "      <td>1.000000</td>\n",
       "      <td>0.000000</td>\n",
       "      <td>0.000000</td>\n",
       "      <td>120986.388504</td>\n",
       "    </tr>\n",
       "    <tr>\n",
       "      <th>50%</th>\n",
       "      <td>20.0</td>\n",
       "      <td>5.766228</td>\n",
       "      <td>42.000000</td>\n",
       "      <td>1.000000</td>\n",
       "      <td>0.000000</td>\n",
       "      <td>0.000000</td>\n",
       "      <td>142073.192806</td>\n",
       "    </tr>\n",
       "    <tr>\n",
       "      <th>75%</th>\n",
       "      <td>20.0</td>\n",
       "      <td>6.674300</td>\n",
       "      <td>50.000000</td>\n",
       "      <td>1.000000</td>\n",
       "      <td>1.000000</td>\n",
       "      <td>0.000000</td>\n",
       "      <td>203490.401462</td>\n",
       "    </tr>\n",
       "    <tr>\n",
       "      <th>max</th>\n",
       "      <td>20.0</td>\n",
       "      <td>32.704579</td>\n",
       "      <td>69.000000</td>\n",
       "      <td>2.000000</td>\n",
       "      <td>4.000000</td>\n",
       "      <td>1.000000</td>\n",
       "      <td>441721.334145</td>\n",
       "    </tr>\n",
       "  </tbody>\n",
       "</table>\n",
       "</div>"
      ],
      "text/plain": [
       "       children  years_employed  dob_years  education_id  family_status_id  \\\n",
       "count      76.0       76.000000  76.000000     76.000000         76.000000   \n",
       "mean       20.0        5.945745  42.447368      0.842105          0.815789   \n",
       "std         0.0        5.688632  11.061519      0.433671          1.363432   \n",
       "min        20.0        0.331507  21.000000      0.000000          0.000000   \n",
       "25%        20.0        2.101947  34.000000      1.000000          0.000000   \n",
       "50%        20.0        5.766228  42.000000      1.000000          0.000000   \n",
       "75%        20.0        6.674300  50.000000      1.000000          1.000000   \n",
       "max        20.0       32.704579  69.000000      2.000000          4.000000   \n",
       "\n",
       "            debt   total_income  \n",
       "count  76.000000      76.000000  \n",
       "mean    0.105263  166436.441711  \n",
       "std     0.308931   76368.794728  \n",
       "min     0.000000   53971.576721  \n",
       "25%     0.000000  120986.388504  \n",
       "50%     0.000000  142073.192806  \n",
       "75%     0.000000  203490.401462  \n",
       "max     1.000000  441721.334145  "
      ]
     },
     "execution_count": 30,
     "metadata": {},
     "output_type": "execute_result"
    }
   ],
   "source": [
    "data[data['children'] == 20].describe()"
   ]
  },
  {
   "cell_type": "markdown",
   "id": "3e68fb64",
   "metadata": {},
   "source": [
    "Таких клиентов всего 76. Так как это не очень большое количество от общего количества клиентов и ввиду трудности нахождения связи с другими столбцами, то поменяем значения для всех таких клиентов на медианное значение количества детей."
   ]
  },
  {
   "cell_type": "code",
   "execution_count": 31,
   "id": "14f95c0f",
   "metadata": {},
   "outputs": [],
   "source": [
    "data.loc[data['children'] == 20, 'children'] = data['children'].median()"
   ]
  },
  {
   "cell_type": "code",
   "execution_count": 32,
   "id": "4c530364",
   "metadata": {},
   "outputs": [
    {
     "data": {
      "text/html": [
       "<div>\n",
       "<style scoped>\n",
       "    .dataframe tbody tr th:only-of-type {\n",
       "        vertical-align: middle;\n",
       "    }\n",
       "\n",
       "    .dataframe tbody tr th {\n",
       "        vertical-align: top;\n",
       "    }\n",
       "\n",
       "    .dataframe thead th {\n",
       "        text-align: right;\n",
       "    }\n",
       "</style>\n",
       "<table border=\"1\" class=\"dataframe\">\n",
       "  <thead>\n",
       "    <tr style=\"text-align: right;\">\n",
       "      <th></th>\n",
       "      <th>children</th>\n",
       "      <th>years_employed</th>\n",
       "      <th>dob_years</th>\n",
       "      <th>education_id</th>\n",
       "      <th>family_status_id</th>\n",
       "      <th>debt</th>\n",
       "      <th>total_income</th>\n",
       "    </tr>\n",
       "  </thead>\n",
       "  <tbody>\n",
       "    <tr>\n",
       "      <th>count</th>\n",
       "      <td>21525.000000</td>\n",
       "      <td>21525.000000</td>\n",
       "      <td>21525.000000</td>\n",
       "      <td>21525.000000</td>\n",
       "      <td>21525.000000</td>\n",
       "      <td>21525.000000</td>\n",
       "      <td>2.152500e+04</td>\n",
       "    </tr>\n",
       "    <tr>\n",
       "      <th>mean</th>\n",
       "      <td>0.472660</td>\n",
       "      <td>6.362139</td>\n",
       "      <td>43.499001</td>\n",
       "      <td>0.817236</td>\n",
       "      <td>0.972544</td>\n",
       "      <td>0.080883</td>\n",
       "      <td>1.653361e+05</td>\n",
       "    </tr>\n",
       "    <tr>\n",
       "      <th>std</th>\n",
       "      <td>0.750616</td>\n",
       "      <td>5.453124</td>\n",
       "      <td>12.222997</td>\n",
       "      <td>0.548138</td>\n",
       "      <td>1.420324</td>\n",
       "      <td>0.272661</td>\n",
       "      <td>9.798248e+04</td>\n",
       "    </tr>\n",
       "    <tr>\n",
       "      <th>min</th>\n",
       "      <td>0.000000</td>\n",
       "      <td>0.066141</td>\n",
       "      <td>19.000000</td>\n",
       "      <td>0.000000</td>\n",
       "      <td>0.000000</td>\n",
       "      <td>0.000000</td>\n",
       "      <td>2.066726e+04</td>\n",
       "    </tr>\n",
       "    <tr>\n",
       "      <th>25%</th>\n",
       "      <td>0.000000</td>\n",
       "      <td>2.809885</td>\n",
       "      <td>34.000000</td>\n",
       "      <td>1.000000</td>\n",
       "      <td>0.000000</td>\n",
       "      <td>0.000000</td>\n",
       "      <td>1.077982e+05</td>\n",
       "    </tr>\n",
       "    <tr>\n",
       "      <th>50%</th>\n",
       "      <td>0.000000</td>\n",
       "      <td>5.987423</td>\n",
       "      <td>43.000000</td>\n",
       "      <td>1.000000</td>\n",
       "      <td>0.000000</td>\n",
       "      <td>0.000000</td>\n",
       "      <td>1.409601e+05</td>\n",
       "    </tr>\n",
       "    <tr>\n",
       "      <th>75%</th>\n",
       "      <td>1.000000</td>\n",
       "      <td>6.899093</td>\n",
       "      <td>53.000000</td>\n",
       "      <td>1.000000</td>\n",
       "      <td>1.000000</td>\n",
       "      <td>0.000000</td>\n",
       "      <td>1.955436e+05</td>\n",
       "    </tr>\n",
       "    <tr>\n",
       "      <th>max</th>\n",
       "      <td>5.000000</td>\n",
       "      <td>50.380685</td>\n",
       "      <td>75.000000</td>\n",
       "      <td>4.000000</td>\n",
       "      <td>4.000000</td>\n",
       "      <td>1.000000</td>\n",
       "      <td>2.265604e+06</td>\n",
       "    </tr>\n",
       "  </tbody>\n",
       "</table>\n",
       "</div>"
      ],
      "text/plain": [
       "           children  years_employed     dob_years  education_id  \\\n",
       "count  21525.000000    21525.000000  21525.000000  21525.000000   \n",
       "mean       0.472660        6.362139     43.499001      0.817236   \n",
       "std        0.750616        5.453124     12.222997      0.548138   \n",
       "min        0.000000        0.066141     19.000000      0.000000   \n",
       "25%        0.000000        2.809885     34.000000      1.000000   \n",
       "50%        0.000000        5.987423     43.000000      1.000000   \n",
       "75%        1.000000        6.899093     53.000000      1.000000   \n",
       "max        5.000000       50.380685     75.000000      4.000000   \n",
       "\n",
       "       family_status_id          debt  total_income  \n",
       "count      21525.000000  21525.000000  2.152500e+04  \n",
       "mean           0.972544      0.080883  1.653361e+05  \n",
       "std            1.420324      0.272661  9.798248e+04  \n",
       "min            0.000000      0.000000  2.066726e+04  \n",
       "25%            0.000000      0.000000  1.077982e+05  \n",
       "50%            0.000000      0.000000  1.409601e+05  \n",
       "75%            1.000000      0.000000  1.955436e+05  \n",
       "max            4.000000      1.000000  2.265604e+06  "
      ]
     },
     "execution_count": 32,
     "metadata": {},
     "output_type": "execute_result"
    }
   ],
   "source": [
    "data.describe()"
   ]
  },
  {
   "cell_type": "markdown",
   "id": "49c31774",
   "metadata": {},
   "source": [
    "Все аномалии устранены."
   ]
  },
  {
   "cell_type": "markdown",
   "id": "7782886f",
   "metadata": {},
   "source": [
    "## Изменение типов данных."
   ]
  },
  {
   "cell_type": "markdown",
   "id": "92ff230e",
   "metadata": {},
   "source": [
    "Изменим тип данных 'total_income' на целочисленный,  \n",
    "изменим тип данных 'years_employed' на тип данных с плавающей точной,  \n",
    "изменим тип данных количества детей на целочисленное"
   ]
  },
  {
   "cell_type": "code",
   "execution_count": 33,
   "id": "40b9f047",
   "metadata": {},
   "outputs": [
    {
     "name": "stdout",
     "output_type": "stream",
     "text": [
      "<class 'pandas.core.frame.DataFrame'>\n",
      "RangeIndex: 21525 entries, 0 to 21524\n",
      "Data columns (total 12 columns):\n",
      " #   Column            Non-Null Count  Dtype  \n",
      "---  ------            --------------  -----  \n",
      " 0   children          21525 non-null  int8   \n",
      " 1   years_employed    21525 non-null  float32\n",
      " 2   dob_years         21525 non-null  int64  \n",
      " 3   education         21525 non-null  object \n",
      " 4   education_id      21525 non-null  int64  \n",
      " 5   family_status     21525 non-null  object \n",
      " 6   family_status_id  21525 non-null  int64  \n",
      " 7   gender            21525 non-null  object \n",
      " 8   income_type       21525 non-null  object \n",
      " 9   debt              21525 non-null  int64  \n",
      " 10  total_income      21525 non-null  int32  \n",
      " 11  purpose           21525 non-null  object \n",
      "dtypes: float32(1), int32(1), int64(4), int8(1), object(5)\n",
      "memory usage: 1.7+ MB\n"
     ]
    }
   ],
   "source": [
    "data['total_income'] = data['total_income'].astype('int32') \n",
    "data['years_employed'] = data['years_employed'].astype('float32') \n",
    "data['children'] = data['children'].astype('int8') \n",
    "data.info()"
   ]
  },
  {
   "cell_type": "markdown",
   "id": "49a690c4",
   "metadata": {},
   "source": [
    "## Удаление дубликатов."
   ]
  },
  {
   "cell_type": "markdown",
   "id": "94bebc71",
   "metadata": {},
   "source": [
    "Посмотрим уникальные значения в столбце 'education'"
   ]
  },
  {
   "cell_type": "code",
   "execution_count": 34,
   "id": "dac27f9b",
   "metadata": {},
   "outputs": [
    {
     "data": {
      "text/plain": [
       "array(['высшее', 'среднее', 'Среднее', 'СРЕДНЕЕ', 'ВЫСШЕЕ',\n",
       "       'неоконченное высшее', 'начальное', 'Высшее',\n",
       "       'НЕОКОНЧЕННОЕ ВЫСШЕЕ', 'Неоконченное высшее', 'НАЧАЛЬНОЕ',\n",
       "       'Начальное', 'Ученая степень', 'УЧЕНАЯ СТЕПЕНЬ', 'ученая степень'],\n",
       "      dtype=object)"
      ]
     },
     "execution_count": 34,
     "metadata": {},
     "output_type": "execute_result"
    }
   ],
   "source": [
    "data['education'].unique()"
   ]
  },
  {
   "cell_type": "markdown",
   "id": "676431b4",
   "metadata": {},
   "source": [
    "Все люди заполняют таблицы по разному, кто-то пишет все в нижнем регистре, кто-то пишет с закглавной буквы, а кто-то заполняет все с включеным CAPS LOCK"
   ]
  },
  {
   "cell_type": "markdown",
   "id": "7832e59e",
   "metadata": {},
   "source": [
    "Сделаем все записи в нижнем регистре"
   ]
  },
  {
   "cell_type": "code",
   "execution_count": 35,
   "id": "d45c5711",
   "metadata": {},
   "outputs": [],
   "source": [
    "data['education'] = data['education'].str.lower() "
   ]
  },
  {
   "cell_type": "markdown",
   "id": "d54a2406",
   "metadata": {},
   "source": [
    "Посмотрим уникальные значения в столбце 'family_status'"
   ]
  },
  {
   "cell_type": "code",
   "execution_count": 36,
   "id": "7d5fff98",
   "metadata": {},
   "outputs": [
    {
     "data": {
      "text/plain": [
       "array(['женат / замужем', 'гражданский брак', 'вдовец / вдова',\n",
       "       'в разводе', 'Не женат / не замужем'], dtype=object)"
      ]
     },
     "execution_count": 36,
     "metadata": {},
     "output_type": "execute_result"
    }
   ],
   "source": [
    "data['family_status'].unique()"
   ]
  },
  {
   "cell_type": "markdown",
   "id": "07a3bab1",
   "metadata": {},
   "source": [
    "Сделаем все записи в нижнем регистре"
   ]
  },
  {
   "cell_type": "code",
   "execution_count": 37,
   "id": "860793eb",
   "metadata": {},
   "outputs": [],
   "source": [
    "data['family_status'] = data['family_status'].str.lower()"
   ]
  },
  {
   "cell_type": "markdown",
   "id": "265ac841",
   "metadata": {},
   "source": [
    "Посмотрим уникальные значения в столбце 'gender'. XNA предположу, что не определился или трансгендер"
   ]
  },
  {
   "cell_type": "code",
   "execution_count": 38,
   "id": "371b05a9",
   "metadata": {},
   "outputs": [
    {
     "data": {
      "text/plain": [
       "array(['F', 'M', 'XNA'], dtype=object)"
      ]
     },
     "execution_count": 38,
     "metadata": {},
     "output_type": "execute_result"
    }
   ],
   "source": [
    "data['gender'].unique()"
   ]
  },
  {
   "cell_type": "markdown",
   "id": "132237dc",
   "metadata": {},
   "source": [
    "Посмотрим уникальные значения в столбце 'gender'"
   ]
  },
  {
   "cell_type": "code",
   "execution_count": 39,
   "id": "2fb95f69",
   "metadata": {},
   "outputs": [
    {
     "data": {
      "text/plain": [
       "array(['сотрудник', 'пенсионер', 'компаньон', 'госслужащий',\n",
       "       'безработный', 'предприниматель', 'студент', 'в декрете'],\n",
       "      dtype=object)"
      ]
     },
     "execution_count": 39,
     "metadata": {},
     "output_type": "execute_result"
    }
   ],
   "source": [
    "data['income_type'].unique()"
   ]
  },
  {
   "cell_type": "markdown",
   "id": "194c089e",
   "metadata": {},
   "source": [
    "Посмотрим уникальные значения в столбце 'purpose'"
   ]
  },
  {
   "cell_type": "code",
   "execution_count": 40,
   "id": "2bcd8f95",
   "metadata": {
    "scrolled": true
   },
   "outputs": [
    {
     "data": {
      "text/plain": [
       "array(['покупка жилья', 'приобретение автомобиля',\n",
       "       'дополнительное образование', 'сыграть свадьбу',\n",
       "       'операции с жильем', 'образование', 'на проведение свадьбы',\n",
       "       'покупка жилья для семьи', 'покупка недвижимости',\n",
       "       'покупка коммерческой недвижимости', 'покупка жилой недвижимости',\n",
       "       'строительство собственной недвижимости', 'недвижимость',\n",
       "       'строительство недвижимости', 'на покупку подержанного автомобиля',\n",
       "       'на покупку своего автомобиля',\n",
       "       'операции с коммерческой недвижимостью',\n",
       "       'строительство жилой недвижимости', 'жилье',\n",
       "       'операции со своей недвижимостью', 'автомобили',\n",
       "       'заняться образованием', 'сделка с подержанным автомобилем',\n",
       "       'получение образования', 'автомобиль', 'свадьба',\n",
       "       'получение дополнительного образования', 'покупка своего жилья',\n",
       "       'операции с недвижимостью', 'получение высшего образования',\n",
       "       'свой автомобиль', 'сделка с автомобилем',\n",
       "       'профильное образование', 'высшее образование',\n",
       "       'покупка жилья для сдачи', 'на покупку автомобиля', 'ремонт жилью',\n",
       "       'заняться высшим образованием'], dtype=object)"
      ]
     },
     "execution_count": 40,
     "metadata": {},
     "output_type": "execute_result"
    }
   ],
   "source": [
    "data['purpose'].unique()"
   ]
  },
  {
   "cell_type": "markdown",
   "id": "bed0c50d",
   "metadata": {},
   "source": [
    "Посмотрим количество явных дубликатов после наших действий"
   ]
  },
  {
   "cell_type": "code",
   "execution_count": 41,
   "id": "efb54f28",
   "metadata": {},
   "outputs": [
    {
     "data": {
      "text/plain": [
       "71"
      ]
     },
     "execution_count": 41,
     "metadata": {},
     "output_type": "execute_result"
    }
   ],
   "source": [
    "data.duplicated().sum()"
   ]
  },
  {
   "cell_type": "markdown",
   "id": "a53cb264",
   "metadata": {},
   "source": [
    "Избавимся от явных дубликатов"
   ]
  },
  {
   "cell_type": "code",
   "execution_count": 42,
   "id": "3143b019",
   "metadata": {},
   "outputs": [],
   "source": [
    "data = data.drop_duplicates().reset_index(drop=True)"
   ]
  },
  {
   "cell_type": "markdown",
   "id": "0d47a847",
   "metadata": {},
   "source": [
    "## Формирование дополнительных датафреймов словарей, декомпозиция исходного датафрейма."
   ]
  },
  {
   "cell_type": "markdown",
   "id": "671cdf83",
   "metadata": {},
   "source": [
    "Создадим словари 'education_dict' и 'family_status'"
   ]
  },
  {
   "cell_type": "code",
   "execution_count": 43,
   "id": "1c25d7d0",
   "metadata": {},
   "outputs": [],
   "source": [
    "education_dict = data[['education', 'education_id']].drop_duplicates()\n",
    "family_status_dict = data[['family_status', 'family_status_id']].drop_duplicates()"
   ]
  },
  {
   "cell_type": "markdown",
   "id": "83a6b910",
   "metadata": {},
   "source": [
    "Удалим столбцы 'education' и 'family_status'"
   ]
  },
  {
   "cell_type": "code",
   "execution_count": 44,
   "id": "3dfecc61",
   "metadata": {},
   "outputs": [],
   "source": [
    "data = data.drop(['education', 'family_status'], axis=1)"
   ]
  },
  {
   "cell_type": "markdown",
   "id": "5665626f",
   "metadata": {},
   "source": [
    "## Категоризация дохода."
   ]
  },
  {
   "cell_type": "markdown",
   "id": "08f3bff7",
   "metadata": {},
   "source": [
    "Создадим функцию 'total_income_group', разделяющую заемщиков на группы по уровню дохода"
   ]
  },
  {
   "cell_type": "code",
   "execution_count": 45,
   "id": "18b906b5",
   "metadata": {},
   "outputs": [],
   "source": [
    "def total_income_group(total_income):\n",
    "    if total_income <= 30000:\n",
    "        return 'E'\n",
    "    elif total_income <= 50000:\n",
    "        return 'D'\n",
    "    elif total_income <= 200000:\n",
    "        return 'C'\n",
    "    elif total_income <= 1000000:\n",
    "        return 'B'\n",
    "    else:\n",
    "        return 'A'"
   ]
  },
  {
   "cell_type": "markdown",
   "id": "ba6d3913",
   "metadata": {},
   "source": [
    "Создадим столбец 'total_income_category' с группами по уровню дохода"
   ]
  },
  {
   "cell_type": "code",
   "execution_count": 46,
   "id": "66fb3551",
   "metadata": {},
   "outputs": [],
   "source": [
    "data['total_income_category'] = data['total_income'].apply(total_income_group)"
   ]
  },
  {
   "cell_type": "code",
   "execution_count": 47,
   "id": "2dce2edf",
   "metadata": {},
   "outputs": [
    {
     "data": {
      "text/html": [
       "<div>\n",
       "<style scoped>\n",
       "    .dataframe tbody tr th:only-of-type {\n",
       "        vertical-align: middle;\n",
       "    }\n",
       "\n",
       "    .dataframe tbody tr th {\n",
       "        vertical-align: top;\n",
       "    }\n",
       "\n",
       "    .dataframe thead th {\n",
       "        text-align: right;\n",
       "    }\n",
       "</style>\n",
       "<table border=\"1\" class=\"dataframe\">\n",
       "  <thead>\n",
       "    <tr style=\"text-align: right;\">\n",
       "      <th></th>\n",
       "      <th>children</th>\n",
       "      <th>years_employed</th>\n",
       "      <th>dob_years</th>\n",
       "      <th>education_id</th>\n",
       "      <th>family_status_id</th>\n",
       "      <th>gender</th>\n",
       "      <th>income_type</th>\n",
       "      <th>debt</th>\n",
       "      <th>total_income</th>\n",
       "      <th>purpose</th>\n",
       "      <th>total_income_category</th>\n",
       "    </tr>\n",
       "  </thead>\n",
       "  <tbody>\n",
       "    <tr>\n",
       "      <th>0</th>\n",
       "      <td>1</td>\n",
       "      <td>23.116913</td>\n",
       "      <td>42</td>\n",
       "      <td>0</td>\n",
       "      <td>0</td>\n",
       "      <td>F</td>\n",
       "      <td>сотрудник</td>\n",
       "      <td>0</td>\n",
       "      <td>253875</td>\n",
       "      <td>покупка жилья</td>\n",
       "      <td>B</td>\n",
       "    </tr>\n",
       "    <tr>\n",
       "      <th>1</th>\n",
       "      <td>1</td>\n",
       "      <td>11.026859</td>\n",
       "      <td>36</td>\n",
       "      <td>1</td>\n",
       "      <td>0</td>\n",
       "      <td>F</td>\n",
       "      <td>сотрудник</td>\n",
       "      <td>0</td>\n",
       "      <td>112080</td>\n",
       "      <td>приобретение автомобиля</td>\n",
       "      <td>C</td>\n",
       "    </tr>\n",
       "    <tr>\n",
       "      <th>2</th>\n",
       "      <td>0</td>\n",
       "      <td>15.406637</td>\n",
       "      <td>33</td>\n",
       "      <td>1</td>\n",
       "      <td>0</td>\n",
       "      <td>M</td>\n",
       "      <td>сотрудник</td>\n",
       "      <td>0</td>\n",
       "      <td>145885</td>\n",
       "      <td>покупка жилья</td>\n",
       "      <td>C</td>\n",
       "    </tr>\n",
       "    <tr>\n",
       "      <th>3</th>\n",
       "      <td>3</td>\n",
       "      <td>11.300677</td>\n",
       "      <td>32</td>\n",
       "      <td>1</td>\n",
       "      <td>0</td>\n",
       "      <td>M</td>\n",
       "      <td>сотрудник</td>\n",
       "      <td>0</td>\n",
       "      <td>267628</td>\n",
       "      <td>дополнительное образование</td>\n",
       "      <td>B</td>\n",
       "    </tr>\n",
       "    <tr>\n",
       "      <th>4</th>\n",
       "      <td>0</td>\n",
       "      <td>6.588070</td>\n",
       "      <td>53</td>\n",
       "      <td>1</td>\n",
       "      <td>1</td>\n",
       "      <td>F</td>\n",
       "      <td>пенсионер</td>\n",
       "      <td>0</td>\n",
       "      <td>158616</td>\n",
       "      <td>сыграть свадьбу</td>\n",
       "      <td>C</td>\n",
       "    </tr>\n",
       "  </tbody>\n",
       "</table>\n",
       "</div>"
      ],
      "text/plain": [
       "   children  years_employed  dob_years  education_id  family_status_id gender  \\\n",
       "0         1       23.116913         42             0                 0      F   \n",
       "1         1       11.026859         36             1                 0      F   \n",
       "2         0       15.406637         33             1                 0      M   \n",
       "3         3       11.300677         32             1                 0      M   \n",
       "4         0        6.588070         53             1                 1      F   \n",
       "\n",
       "  income_type  debt  total_income                     purpose  \\\n",
       "0   сотрудник     0        253875               покупка жилья   \n",
       "1   сотрудник     0        112080     приобретение автомобиля   \n",
       "2   сотрудник     0        145885               покупка жилья   \n",
       "3   сотрудник     0        267628  дополнительное образование   \n",
       "4   пенсионер     0        158616             сыграть свадьбу   \n",
       "\n",
       "  total_income_category  \n",
       "0                     B  \n",
       "1                     C  \n",
       "2                     C  \n",
       "3                     B  \n",
       "4                     C  "
      ]
     },
     "execution_count": 47,
     "metadata": {},
     "output_type": "execute_result"
    }
   ],
   "source": [
    "data.head()"
   ]
  },
  {
   "cell_type": "markdown",
   "id": "8a4a6cd8",
   "metadata": {},
   "source": [
    "## Категоризация целей кредита."
   ]
  },
  {
   "cell_type": "markdown",
   "id": "b26449e3",
   "metadata": {},
   "source": [
    "Создадим функцию 'purpose_group', разделяющую заемщиков на группы по целям кредита"
   ]
  },
  {
   "cell_type": "code",
   "execution_count": 48,
   "id": "7a1650af",
   "metadata": {},
   "outputs": [],
   "source": [
    "def purpose_group(purpose):\n",
    "    if 'авто' in purpose:\n",
    "        return 'операции с автомобилем'\n",
    "    elif 'недвиж' in purpose or 'жиль' in purpose:\n",
    "        return 'операции с недвижимостью'\n",
    "    elif 'свадьб' in purpose:\n",
    "        return 'проведение свадьбы'\n",
    "    else:\n",
    "        return 'получение образования'"
   ]
  },
  {
   "cell_type": "markdown",
   "id": "0684e3e7",
   "metadata": {},
   "source": [
    "Создадим столбец 'purpose_category' с группами по целям кредита"
   ]
  },
  {
   "cell_type": "code",
   "execution_count": 49,
   "id": "45c10d0d",
   "metadata": {},
   "outputs": [],
   "source": [
    "data['purpose_category'] = data['purpose'].apply(purpose_group)"
   ]
  },
  {
   "cell_type": "code",
   "execution_count": 50,
   "id": "47e28e53",
   "metadata": {},
   "outputs": [
    {
     "data": {
      "text/plain": [
       "операции с недвижимостью    10811\n",
       "операции с автомобилем       4306\n",
       "получение образования        4013\n",
       "проведение свадьбы           2324\n",
       "Name: purpose_category, dtype: int64"
      ]
     },
     "execution_count": 50,
     "metadata": {},
     "output_type": "execute_result"
    }
   ],
   "source": [
    "data['purpose_category'].value_counts()"
   ]
  },
  {
   "cell_type": "code",
   "execution_count": 51,
   "id": "d88272fc",
   "metadata": {},
   "outputs": [
    {
     "data": {
      "text/html": [
       "<div>\n",
       "<style scoped>\n",
       "    .dataframe tbody tr th:only-of-type {\n",
       "        vertical-align: middle;\n",
       "    }\n",
       "\n",
       "    .dataframe tbody tr th {\n",
       "        vertical-align: top;\n",
       "    }\n",
       "\n",
       "    .dataframe thead th {\n",
       "        text-align: right;\n",
       "    }\n",
       "</style>\n",
       "<table border=\"1\" class=\"dataframe\">\n",
       "  <thead>\n",
       "    <tr style=\"text-align: right;\">\n",
       "      <th></th>\n",
       "      <th>children</th>\n",
       "      <th>years_employed</th>\n",
       "      <th>dob_years</th>\n",
       "      <th>education_id</th>\n",
       "      <th>family_status_id</th>\n",
       "      <th>gender</th>\n",
       "      <th>income_type</th>\n",
       "      <th>debt</th>\n",
       "      <th>total_income</th>\n",
       "      <th>purpose</th>\n",
       "      <th>total_income_category</th>\n",
       "      <th>purpose_category</th>\n",
       "    </tr>\n",
       "  </thead>\n",
       "  <tbody>\n",
       "    <tr>\n",
       "      <th>0</th>\n",
       "      <td>1</td>\n",
       "      <td>23.116913</td>\n",
       "      <td>42</td>\n",
       "      <td>0</td>\n",
       "      <td>0</td>\n",
       "      <td>F</td>\n",
       "      <td>сотрудник</td>\n",
       "      <td>0</td>\n",
       "      <td>253875</td>\n",
       "      <td>покупка жилья</td>\n",
       "      <td>B</td>\n",
       "      <td>операции с недвижимостью</td>\n",
       "    </tr>\n",
       "    <tr>\n",
       "      <th>1</th>\n",
       "      <td>1</td>\n",
       "      <td>11.026859</td>\n",
       "      <td>36</td>\n",
       "      <td>1</td>\n",
       "      <td>0</td>\n",
       "      <td>F</td>\n",
       "      <td>сотрудник</td>\n",
       "      <td>0</td>\n",
       "      <td>112080</td>\n",
       "      <td>приобретение автомобиля</td>\n",
       "      <td>C</td>\n",
       "      <td>операции с автомобилем</td>\n",
       "    </tr>\n",
       "    <tr>\n",
       "      <th>2</th>\n",
       "      <td>0</td>\n",
       "      <td>15.406637</td>\n",
       "      <td>33</td>\n",
       "      <td>1</td>\n",
       "      <td>0</td>\n",
       "      <td>M</td>\n",
       "      <td>сотрудник</td>\n",
       "      <td>0</td>\n",
       "      <td>145885</td>\n",
       "      <td>покупка жилья</td>\n",
       "      <td>C</td>\n",
       "      <td>операции с недвижимостью</td>\n",
       "    </tr>\n",
       "    <tr>\n",
       "      <th>3</th>\n",
       "      <td>3</td>\n",
       "      <td>11.300677</td>\n",
       "      <td>32</td>\n",
       "      <td>1</td>\n",
       "      <td>0</td>\n",
       "      <td>M</td>\n",
       "      <td>сотрудник</td>\n",
       "      <td>0</td>\n",
       "      <td>267628</td>\n",
       "      <td>дополнительное образование</td>\n",
       "      <td>B</td>\n",
       "      <td>получение образования</td>\n",
       "    </tr>\n",
       "    <tr>\n",
       "      <th>4</th>\n",
       "      <td>0</td>\n",
       "      <td>6.588070</td>\n",
       "      <td>53</td>\n",
       "      <td>1</td>\n",
       "      <td>1</td>\n",
       "      <td>F</td>\n",
       "      <td>пенсионер</td>\n",
       "      <td>0</td>\n",
       "      <td>158616</td>\n",
       "      <td>сыграть свадьбу</td>\n",
       "      <td>C</td>\n",
       "      <td>проведение свадьбы</td>\n",
       "    </tr>\n",
       "  </tbody>\n",
       "</table>\n",
       "</div>"
      ],
      "text/plain": [
       "   children  years_employed  dob_years  education_id  family_status_id gender  \\\n",
       "0         1       23.116913         42             0                 0      F   \n",
       "1         1       11.026859         36             1                 0      F   \n",
       "2         0       15.406637         33             1                 0      M   \n",
       "3         3       11.300677         32             1                 0      M   \n",
       "4         0        6.588070         53             1                 1      F   \n",
       "\n",
       "  income_type  debt  total_income                     purpose  \\\n",
       "0   сотрудник     0        253875               покупка жилья   \n",
       "1   сотрудник     0        112080     приобретение автомобиля   \n",
       "2   сотрудник     0        145885               покупка жилья   \n",
       "3   сотрудник     0        267628  дополнительное образование   \n",
       "4   пенсионер     0        158616             сыграть свадьбу   \n",
       "\n",
       "  total_income_category          purpose_category  \n",
       "0                     B  операции с недвижимостью  \n",
       "1                     C    операции с автомобилем  \n",
       "2                     C  операции с недвижимостью  \n",
       "3                     B     получение образования  \n",
       "4                     C        проведение свадьбы  "
      ]
     },
     "execution_count": 51,
     "metadata": {},
     "output_type": "execute_result"
    }
   ],
   "source": [
    "data.head()"
   ]
  },
  {
   "cell_type": "markdown",
   "id": "2b8f3589",
   "metadata": {},
   "source": [
    "## Ответы на вопросы."
   ]
  },
  {
   "cell_type": "markdown",
   "id": "40beae07",
   "metadata": {},
   "source": [
    "### Вопрос 1: Есть ли зависимость между количеством детей и возвратом кредита в срок?"
   ]
  },
  {
   "cell_type": "code",
   "execution_count": 52,
   "id": "f228acc1",
   "metadata": {},
   "outputs": [
    {
     "data": {
      "text/html": [
       "<style  type=\"text/css\" >\n",
       "</style><table id=\"T_a8ff8_\" ><thead>    <tr>        <th class=\"blank level0\" ></th>        <th class=\"col_heading level0 col0\" >count</th>        <th class=\"col_heading level0 col1\" >sum</th>        <th class=\"col_heading level0 col2\" >mean</th>    </tr>    <tr>        <th class=\"blank level1\" ></th>        <th class=\"col_heading level1 col0\" >debt</th>        <th class=\"col_heading level1 col1\" >debt</th>        <th class=\"col_heading level1 col2\" >debt</th>    </tr>    <tr>        <th class=\"index_name level0\" >children</th>        <th class=\"blank\" ></th>        <th class=\"blank\" ></th>        <th class=\"blank\" ></th>    </tr></thead><tbody>\n",
       "                <tr>\n",
       "                        <th id=\"T_a8ff8_level0_row0\" class=\"row_heading level0 row0\" >0</th>\n",
       "                        <td id=\"T_a8ff8_row0_col0\" class=\"data row0 col0\" >14167</td>\n",
       "                        <td id=\"T_a8ff8_row0_col1\" class=\"data row0 col1\" >1071</td>\n",
       "                        <td id=\"T_a8ff8_row0_col2\" class=\"data row0 col2\" >7.56%</td>\n",
       "            </tr>\n",
       "            <tr>\n",
       "                        <th id=\"T_a8ff8_level0_row1\" class=\"row_heading level0 row1\" >1</th>\n",
       "                        <td id=\"T_a8ff8_row1_col0\" class=\"data row1 col0\" >4855</td>\n",
       "                        <td id=\"T_a8ff8_row1_col1\" class=\"data row1 col1\" >445</td>\n",
       "                        <td id=\"T_a8ff8_row1_col2\" class=\"data row1 col2\" >9.17%</td>\n",
       "            </tr>\n",
       "            <tr>\n",
       "                        <th id=\"T_a8ff8_level0_row2\" class=\"row_heading level0 row2\" >2</th>\n",
       "                        <td id=\"T_a8ff8_row2_col0\" class=\"data row2 col0\" >2052</td>\n",
       "                        <td id=\"T_a8ff8_row2_col1\" class=\"data row2 col1\" >194</td>\n",
       "                        <td id=\"T_a8ff8_row2_col2\" class=\"data row2 col2\" >9.45%</td>\n",
       "            </tr>\n",
       "            <tr>\n",
       "                        <th id=\"T_a8ff8_level0_row3\" class=\"row_heading level0 row3\" >3</th>\n",
       "                        <td id=\"T_a8ff8_row3_col0\" class=\"data row3 col0\" >330</td>\n",
       "                        <td id=\"T_a8ff8_row3_col1\" class=\"data row3 col1\" >27</td>\n",
       "                        <td id=\"T_a8ff8_row3_col2\" class=\"data row3 col2\" >8.18%</td>\n",
       "            </tr>\n",
       "            <tr>\n",
       "                        <th id=\"T_a8ff8_level0_row4\" class=\"row_heading level0 row4\" >4</th>\n",
       "                        <td id=\"T_a8ff8_row4_col0\" class=\"data row4 col0\" >41</td>\n",
       "                        <td id=\"T_a8ff8_row4_col1\" class=\"data row4 col1\" >4</td>\n",
       "                        <td id=\"T_a8ff8_row4_col2\" class=\"data row4 col2\" >9.76%</td>\n",
       "            </tr>\n",
       "            <tr>\n",
       "                        <th id=\"T_a8ff8_level0_row5\" class=\"row_heading level0 row5\" >5</th>\n",
       "                        <td id=\"T_a8ff8_row5_col0\" class=\"data row5 col0\" >9</td>\n",
       "                        <td id=\"T_a8ff8_row5_col1\" class=\"data row5 col1\" >0</td>\n",
       "                        <td id=\"T_a8ff8_row5_col2\" class=\"data row5 col2\" >0.00%</td>\n",
       "            </tr>\n",
       "    </tbody></table>"
      ],
      "text/plain": [
       "<pandas.io.formats.style.Styler at 0x7fa43ac9d190>"
      ]
     },
     "execution_count": 52,
     "metadata": {},
     "output_type": "execute_result"
    }
   ],
   "source": [
    "data.pivot_table(index='children', \n",
    "                 values='debt', \n",
    "                 aggfunc=['count', 'sum', 'mean'])\\\n",
    "                    .style.format({('mean', 'debt'): '{:.2%}'})"
   ]
  },
  {
   "cell_type": "markdown",
   "id": "9958c8ae",
   "metadata": {},
   "source": [
    "### Вывод 1: Из полученных данных видно, что зависимость между количеством детей и возвратом кредита отсутствует.\n",
    "Лучше всего возвращают кредит заемщики без детей (7,54% просрачивают кредит). Возможной причиной являются отсутствие больших ежемесячных трат (кружки, секции, питание детей), более легкое перераспределение своих доходов (ограничить расходы на детей гораздо сложнее).  \n",
    "Количество клиентов, у которых 4 и 5 детей очень мало, поэтому считаю, что эти данные могут поменяться, если выборка будет больше."
   ]
  },
  {
   "cell_type": "markdown",
   "id": "7a18c143",
   "metadata": {},
   "source": [
    "### Вопрос 2: Есть ли зависимость между семейным положением и возвратом кредита в срок?"
   ]
  },
  {
   "cell_type": "code",
   "execution_count": 53,
   "id": "b083c82b",
   "metadata": {},
   "outputs": [
    {
     "data": {
      "text/html": [
       "<div>\n",
       "<style scoped>\n",
       "    .dataframe tbody tr th:only-of-type {\n",
       "        vertical-align: middle;\n",
       "    }\n",
       "\n",
       "    .dataframe tbody tr th {\n",
       "        vertical-align: top;\n",
       "    }\n",
       "\n",
       "    .dataframe thead tr th {\n",
       "        text-align: left;\n",
       "    }\n",
       "\n",
       "    .dataframe thead tr:last-of-type th {\n",
       "        text-align: right;\n",
       "    }\n",
       "</style>\n",
       "<table border=\"1\" class=\"dataframe\">\n",
       "  <thead>\n",
       "    <tr>\n",
       "      <th></th>\n",
       "      <th>count</th>\n",
       "      <th>sum</th>\n",
       "      <th>mean</th>\n",
       "    </tr>\n",
       "    <tr>\n",
       "      <th></th>\n",
       "      <th>debt</th>\n",
       "      <th>debt</th>\n",
       "      <th>debt</th>\n",
       "    </tr>\n",
       "    <tr>\n",
       "      <th>family_status_id</th>\n",
       "      <th></th>\n",
       "      <th></th>\n",
       "      <th></th>\n",
       "    </tr>\n",
       "  </thead>\n",
       "  <tbody>\n",
       "    <tr>\n",
       "      <th>0</th>\n",
       "      <td>12339</td>\n",
       "      <td>931</td>\n",
       "      <td>0.075452</td>\n",
       "    </tr>\n",
       "    <tr>\n",
       "      <th>1</th>\n",
       "      <td>4151</td>\n",
       "      <td>388</td>\n",
       "      <td>0.093471</td>\n",
       "    </tr>\n",
       "    <tr>\n",
       "      <th>2</th>\n",
       "      <td>959</td>\n",
       "      <td>63</td>\n",
       "      <td>0.065693</td>\n",
       "    </tr>\n",
       "    <tr>\n",
       "      <th>3</th>\n",
       "      <td>1195</td>\n",
       "      <td>85</td>\n",
       "      <td>0.071130</td>\n",
       "    </tr>\n",
       "    <tr>\n",
       "      <th>4</th>\n",
       "      <td>2810</td>\n",
       "      <td>274</td>\n",
       "      <td>0.097509</td>\n",
       "    </tr>\n",
       "  </tbody>\n",
       "</table>\n",
       "</div>"
      ],
      "text/plain": [
       "                  count  sum      mean\n",
       "                   debt debt      debt\n",
       "family_status_id                      \n",
       "0                 12339  931  0.075452\n",
       "1                  4151  388  0.093471\n",
       "2                   959   63  0.065693\n",
       "3                  1195   85  0.071130\n",
       "4                  2810  274  0.097509"
      ]
     },
     "execution_count": 53,
     "metadata": {},
     "output_type": "execute_result"
    }
   ],
   "source": [
    "data.pivot_table(index='family_status_id', values='debt', aggfunc=['count', 'sum', 'mean'])"
   ]
  },
  {
   "cell_type": "markdown",
   "id": "63c75867",
   "metadata": {},
   "source": [
    "### Вывод 2: Из полученных данных видно, что лучше всего возвращают кредит вдовцы/вдовы, за ними идут разведенные, следующие те, кто состоит в браке, еще хуже те, кто состоит в гражданском браке, ну и на последнем месте - не женатые / не замужние.\n",
    "Предположительно вдовцы/вдовы и разведенные привыкли рассчитывать только на свои доходы, но при этом им могут помогать родственники с обеих сторон, заемщики, состоящие в гражданском браке ,возможно, при оформлении кредита рассчитывали на доход гражданского супруга/супруги, но после расстования дохода уже может не хватать, холостые, возможно, еще не научились оценивать свои возможности и ежемесячные выплаты по кредиту значительно снижают уровень комфорта, к которому они привыкли.\n"
   ]
  },
  {
   "cell_type": "markdown",
   "id": "71bfdc91",
   "metadata": {},
   "source": [
    "### Вопрос 3: Есть ли зависимость между уровнем дохода и возвратом кредита в срок?"
   ]
  },
  {
   "cell_type": "code",
   "execution_count": 54,
   "id": "f2784b9e",
   "metadata": {},
   "outputs": [
    {
     "data": {
      "text/html": [
       "<div>\n",
       "<style scoped>\n",
       "    .dataframe tbody tr th:only-of-type {\n",
       "        vertical-align: middle;\n",
       "    }\n",
       "\n",
       "    .dataframe tbody tr th {\n",
       "        vertical-align: top;\n",
       "    }\n",
       "\n",
       "    .dataframe thead tr th {\n",
       "        text-align: left;\n",
       "    }\n",
       "\n",
       "    .dataframe thead tr:last-of-type th {\n",
       "        text-align: right;\n",
       "    }\n",
       "</style>\n",
       "<table border=\"1\" class=\"dataframe\">\n",
       "  <thead>\n",
       "    <tr>\n",
       "      <th></th>\n",
       "      <th>count</th>\n",
       "      <th>sum</th>\n",
       "      <th>mean</th>\n",
       "    </tr>\n",
       "    <tr>\n",
       "      <th></th>\n",
       "      <th>debt</th>\n",
       "      <th>debt</th>\n",
       "      <th>debt</th>\n",
       "    </tr>\n",
       "    <tr>\n",
       "      <th>total_income_category</th>\n",
       "      <th></th>\n",
       "      <th></th>\n",
       "      <th></th>\n",
       "    </tr>\n",
       "  </thead>\n",
       "  <tbody>\n",
       "    <tr>\n",
       "      <th>A</th>\n",
       "      <td>25</td>\n",
       "      <td>2</td>\n",
       "      <td>0.080000</td>\n",
       "    </tr>\n",
       "    <tr>\n",
       "      <th>B</th>\n",
       "      <td>5041</td>\n",
       "      <td>356</td>\n",
       "      <td>0.070621</td>\n",
       "    </tr>\n",
       "    <tr>\n",
       "      <th>C</th>\n",
       "      <td>16016</td>\n",
       "      <td>1360</td>\n",
       "      <td>0.084915</td>\n",
       "    </tr>\n",
       "    <tr>\n",
       "      <th>D</th>\n",
       "      <td>350</td>\n",
       "      <td>21</td>\n",
       "      <td>0.060000</td>\n",
       "    </tr>\n",
       "    <tr>\n",
       "      <th>E</th>\n",
       "      <td>22</td>\n",
       "      <td>2</td>\n",
       "      <td>0.090909</td>\n",
       "    </tr>\n",
       "  </tbody>\n",
       "</table>\n",
       "</div>"
      ],
      "text/plain": [
       "                       count   sum      mean\n",
       "                        debt  debt      debt\n",
       "total_income_category                       \n",
       "A                         25     2  0.080000\n",
       "B                       5041   356  0.070621\n",
       "C                      16016  1360  0.084915\n",
       "D                        350    21  0.060000\n",
       "E                         22     2  0.090909"
      ]
     },
     "execution_count": 54,
     "metadata": {},
     "output_type": "execute_result"
    }
   ],
   "source": [
    "data.pivot_table(index='total_income_category', values='debt', aggfunc=['count', 'sum', 'mean'])"
   ]
  },
  {
   "cell_type": "markdown",
   "id": "07849865",
   "metadata": {},
   "source": [
    "### Вывод 3 : Из полученных данных видно, что зависимость между уровнем дохода и возвратом кредита в срок отсутствует. Чаще остальных кредит возвращают заемщики с уровнем дохода D (30001–50000), реже остальных возвращают заемщики с уровнем дохода E (0-30000).\n",
    "Заемщики с не очень высоким уровнем дохода могут легче сменить работу в случае падения уровня дохода на текущем месте работы. Заемщикам с высоким уровнем дохода, в случае непредвиденных обстоятельств, треднее сменить место работы на работу со схожими доходами и сложнее перестроить расходы семьи, так как ближайшие родственники привыкли к текущему уровню дохода (дети учатся в хороших частных школах, посещают платные секции, учаться платно в университете).  \n",
    "\n",
    "Однако, в крайних группах по уровню дохода (A и E) у нас мало данных - 25 и 22, соответственно, поэтому данные по этим группам для модели кредитного скоринга не годятся."
   ]
  },
  {
   "cell_type": "markdown",
   "id": "e1f3d914",
   "metadata": {},
   "source": [
    "### Вопрос 4: Как разные цели кредита влияют на его возврат в срок?"
   ]
  },
  {
   "cell_type": "code",
   "execution_count": 55,
   "id": "aa518dc1",
   "metadata": {},
   "outputs": [
    {
     "data": {
      "text/html": [
       "<div>\n",
       "<style scoped>\n",
       "    .dataframe tbody tr th:only-of-type {\n",
       "        vertical-align: middle;\n",
       "    }\n",
       "\n",
       "    .dataframe tbody tr th {\n",
       "        vertical-align: top;\n",
       "    }\n",
       "\n",
       "    .dataframe thead tr th {\n",
       "        text-align: left;\n",
       "    }\n",
       "\n",
       "    .dataframe thead tr:last-of-type th {\n",
       "        text-align: right;\n",
       "    }\n",
       "</style>\n",
       "<table border=\"1\" class=\"dataframe\">\n",
       "  <thead>\n",
       "    <tr>\n",
       "      <th></th>\n",
       "      <th>count</th>\n",
       "      <th>sum</th>\n",
       "      <th>mean</th>\n",
       "    </tr>\n",
       "    <tr>\n",
       "      <th></th>\n",
       "      <th>debt</th>\n",
       "      <th>debt</th>\n",
       "      <th>debt</th>\n",
       "    </tr>\n",
       "    <tr>\n",
       "      <th>purpose_category</th>\n",
       "      <th></th>\n",
       "      <th></th>\n",
       "      <th></th>\n",
       "    </tr>\n",
       "  </thead>\n",
       "  <tbody>\n",
       "    <tr>\n",
       "      <th>операции с автомобилем</th>\n",
       "      <td>4306</td>\n",
       "      <td>403</td>\n",
       "      <td>0.093590</td>\n",
       "    </tr>\n",
       "    <tr>\n",
       "      <th>операции с недвижимостью</th>\n",
       "      <td>10811</td>\n",
       "      <td>782</td>\n",
       "      <td>0.072334</td>\n",
       "    </tr>\n",
       "    <tr>\n",
       "      <th>получение образования</th>\n",
       "      <td>4013</td>\n",
       "      <td>370</td>\n",
       "      <td>0.092200</td>\n",
       "    </tr>\n",
       "    <tr>\n",
       "      <th>проведение свадьбы</th>\n",
       "      <td>2324</td>\n",
       "      <td>186</td>\n",
       "      <td>0.080034</td>\n",
       "    </tr>\n",
       "  </tbody>\n",
       "</table>\n",
       "</div>"
      ],
      "text/plain": [
       "                          count  sum      mean\n",
       "                           debt debt      debt\n",
       "purpose_category                              \n",
       "операции с автомобилем     4306  403  0.093590\n",
       "операции с недвижимостью  10811  782  0.072334\n",
       "получение образования      4013  370  0.092200\n",
       "проведение свадьбы         2324  186  0.080034"
      ]
     },
     "execution_count": 55,
     "metadata": {},
     "output_type": "execute_result"
    }
   ],
   "source": [
    "data.pivot_table(index='purpose_category', values='debt', aggfunc=['count', 'sum', 'mean'])"
   ]
  },
  {
   "cell_type": "markdown",
   "id": "a17040ac",
   "metadata": {},
   "source": [
    "### Вывод 4: Из полученных данных видно, что реже остальных просрачивают возврат кредита заемщики, взявшие кредит на недвижимость - 7,46%, чаще возвращают те, кто брал кредит на проведение свадьбы - 8%, с такой же частотой просрачивают кредит заемщики, взявшие кредит на образование - 8%, на последнем месте стоят те, кто взял кредит на автомобиль - 9,36%.\n",
    "Заемщики, берущие кредит на недвижимость, более ответственно подходят к выбору суммы, которую они готовы платить ежемесячно, так как кредит берется чаще всего на длительный срок.\n",
    "Заемщики, берущие кредит на свадьбу, чаще всего возвращают кредит после свадьбы за счет подаренных денег.\n",
    "Заемщики, берущие кредит на образование, видимо, не всегда оценивают свои возможности (например, работать параллельно на первых курсах технических специальностей очень сложно или практически невозможно) и менее ответственно подходят к своему выбору.\n",
    "Заемщики, берущие кредит на автомобиль чаще всех просрачивают кредит ввиду того, что чаще ведутся на поводу продавцов в автосалонах и берут автомобиль дороже, чем они могут себе позволить, дополнительно многие не могут оценить сколько будет им впоследствии стоить владение автомобилем (КАСКО, ОСАГО, страхование жизни, обслуживание и содержание автомобиля)."
   ]
  },
  {
   "cell_type": "markdown",
   "id": "09c6cbd3",
   "metadata": {},
   "source": [
    "## Общий вывод:"
   ]
  },
  {
   "cell_type": "markdown",
   "id": "906ae9c3",
   "metadata": {},
   "source": [
    "В данном проекте было проанализировано влияние различных параметров на вероятность просрочки кредита клиентом банка для последующего использования данного анализа в модели кредитного скорринга.\n",
    "Данные были предоставлены заказчиком (банком).\n",
    "Выводы по данным:\n",
    "- количество детей: зависимостей выявлено не было, однако клиенты без детей чаще других выплачивают кредит вовремя; недостаточное количество данных про клиентов с 4 и 5 детьми, поэтому данные по этим группам рекомендую не использовать;\n",
    "- семейное положение: холостые и состоящие в гражанском браке реже других выплачивают креди вовремя;\n",
    "- уровень дохода: чаще всего кредит выплачивают без просрочек клиенты с не очень высоким уровнем дохода (группа D от 30001 до 50000); недостаточно данных по группам с низким и высоким уровнем дохода, данные по этим группам рекомендую не использовать;\n",
    "- цели кредита: чаще остальных кредит выплачивают без просрочек клиенты, берущие его на недвижимость.\n",
    "\n",
    "В данных присутствовали неявные дубликаты из-за того, что использовался разный регистр при написании - рекомендую, чтобы при сборе информации программа автоматически переводила все данные в нижний регистр, независимо от того, как вводилось.\n",
    "Цели кредита были указаны по-разному - рекомендую в форме, куда вводит свои данные клиент или сотрудник банка, были выведены категории (пользователю так тоже будет удобнее).\n",
    "У большого числа клиентов был указан не реальный стаж - рекомендую добавить проверку в форму для ввода данных (например если стаж больше 100 лет, то выдовать сообщение о некорректных данных).\n",
    "Были отрицательные значения в количестве детей и стаже - рекомендую автоматически менять эти значения на положительные или добавить проверку и, в случае выявления отрицательного числа, выдавать сообщение о некорректных данных.\n",
    "У части клиентов возраст был указан 0 лет - рекомендую добавить проверку при вводе, в случае возраста меньше 18 лет, выдавать сообщение о некорректных данных.\n",
    "У части клиентов количество детей было указано - 20 - рекомендую добавить проверку и, в случае если количество детей больше 5, то подсветить ячейку ввода, чтобы сотрудник или клент обратили внимание на возможно некорректные данные."
   ]
  },
  {
   "cell_type": "code",
   "execution_count": null,
   "id": "9d890c44",
   "metadata": {},
   "outputs": [],
   "source": []
  }
 ],
 "metadata": {
  "ExecuteTimeLog": [
   {
    "duration": 554,
    "start_time": "2022-03-19T07:15:19.437Z"
   },
   {
    "duration": 76,
    "start_time": "2022-03-19T07:15:40.576Z"
   },
   {
    "duration": 64,
    "start_time": "2022-03-19T07:16:30.375Z"
   },
   {
    "duration": 18,
    "start_time": "2022-03-19T07:16:33.217Z"
   },
   {
    "duration": 82,
    "start_time": "2022-03-19T07:17:21.795Z"
   },
   {
    "duration": 25,
    "start_time": "2022-03-19T07:17:35.419Z"
   },
   {
    "duration": 39,
    "start_time": "2022-03-19T07:18:40.426Z"
   },
   {
    "duration": 34,
    "start_time": "2022-03-19T07:18:52.225Z"
   },
   {
    "duration": 19,
    "start_time": "2022-03-19T07:19:04.791Z"
   },
   {
    "duration": 9,
    "start_time": "2022-03-19T07:19:43.567Z"
   },
   {
    "duration": 12,
    "start_time": "2022-03-19T07:19:51.385Z"
   },
   {
    "duration": 73,
    "start_time": "2022-03-19T07:20:10.287Z"
   },
   {
    "duration": 11,
    "start_time": "2022-03-19T07:21:09.546Z"
   },
   {
    "duration": 12,
    "start_time": "2022-03-19T07:21:51.285Z"
   },
   {
    "duration": 12,
    "start_time": "2022-03-19T07:21:54.626Z"
   },
   {
    "duration": 12,
    "start_time": "2022-03-19T07:21:55.933Z"
   },
   {
    "duration": 6,
    "start_time": "2022-03-19T07:22:04.006Z"
   },
   {
    "duration": 4,
    "start_time": "2022-03-19T07:23:46.174Z"
   },
   {
    "duration": 11,
    "start_time": "2022-03-19T07:23:52.066Z"
   },
   {
    "duration": 81,
    "start_time": "2022-03-19T07:25:16.132Z"
   },
   {
    "duration": 65,
    "start_time": "2022-03-19T07:26:02.107Z"
   },
   {
    "duration": 12,
    "start_time": "2022-03-19T07:26:02.667Z"
   },
   {
    "duration": 17,
    "start_time": "2022-03-19T07:26:03.647Z"
   },
   {
    "duration": 7,
    "start_time": "2022-03-19T07:26:58.087Z"
   },
   {
    "duration": 8,
    "start_time": "2022-03-19T07:27:05.007Z"
   },
   {
    "duration": 8,
    "start_time": "2022-03-19T07:27:08.346Z"
   },
   {
    "duration": 162,
    "start_time": "2022-03-19T07:27:12.447Z"
   },
   {
    "duration": 7,
    "start_time": "2022-03-19T07:27:16.506Z"
   },
   {
    "duration": 23,
    "start_time": "2022-03-19T07:27:56.086Z"
   },
   {
    "duration": 167,
    "start_time": "2022-03-19T07:28:15.207Z"
   },
   {
    "duration": 27,
    "start_time": "2022-03-19T07:30:28.546Z"
   },
   {
    "duration": 73,
    "start_time": "2022-03-19T07:31:54.149Z"
   },
   {
    "duration": 13,
    "start_time": "2022-03-19T07:31:54.548Z"
   },
   {
    "duration": 26,
    "start_time": "2022-03-19T07:31:55.048Z"
   },
   {
    "duration": 29,
    "start_time": "2022-03-19T07:31:59.207Z"
   },
   {
    "duration": 11,
    "start_time": "2022-03-19T07:32:00.087Z"
   },
   {
    "duration": 73,
    "start_time": "2022-03-19T07:34:51.912Z"
   },
   {
    "duration": 13,
    "start_time": "2022-03-19T07:34:54.187Z"
   },
   {
    "duration": 16,
    "start_time": "2022-03-19T07:34:58.988Z"
   },
   {
    "duration": 26,
    "start_time": "2022-03-19T07:35:02.168Z"
   },
   {
    "duration": 11,
    "start_time": "2022-03-19T07:35:11.188Z"
   },
   {
    "duration": 3,
    "start_time": "2022-03-19T07:35:49.076Z"
   },
   {
    "duration": 5,
    "start_time": "2022-03-19T07:36:37.428Z"
   },
   {
    "duration": 555,
    "start_time": "2022-03-19T18:42:01.531Z"
   },
   {
    "duration": 30,
    "start_time": "2022-03-19T18:42:03.264Z"
   },
   {
    "duration": 22,
    "start_time": "2022-03-19T18:42:05.206Z"
   },
   {
    "duration": 36,
    "start_time": "2022-03-19T18:42:11.127Z"
   },
   {
    "duration": 15,
    "start_time": "2022-03-19T18:42:12.429Z"
   },
   {
    "duration": 6,
    "start_time": "2022-03-19T18:42:14.839Z"
   },
   {
    "duration": 7,
    "start_time": "2022-03-19T18:42:16.198Z"
   },
   {
    "duration": 6,
    "start_time": "2022-03-19T18:42:19.218Z"
   },
   {
    "duration": 15,
    "start_time": "2022-03-19T18:42:20.470Z"
   },
   {
    "duration": 18,
    "start_time": "2022-03-19T18:43:46.516Z"
   },
   {
    "duration": 21,
    "start_time": "2022-03-19T18:44:12.810Z"
   },
   {
    "duration": 14,
    "start_time": "2022-03-19T18:46:16.556Z"
   },
   {
    "duration": 13,
    "start_time": "2022-03-19T18:46:40.111Z"
   },
   {
    "duration": 73,
    "start_time": "2022-03-19T18:54:49.105Z"
   },
   {
    "duration": 18,
    "start_time": "2022-03-19T18:54:49.180Z"
   },
   {
    "duration": 22,
    "start_time": "2022-03-19T18:54:49.255Z"
   },
   {
    "duration": 15,
    "start_time": "2022-03-19T18:54:51.149Z"
   },
   {
    "duration": 36,
    "start_time": "2022-03-19T18:54:55.954Z"
   },
   {
    "duration": 5,
    "start_time": "2022-03-19T18:55:36.135Z"
   },
   {
    "duration": 4,
    "start_time": "2022-03-19T18:56:27.681Z"
   },
   {
    "duration": 7,
    "start_time": "2022-03-19T18:56:34.344Z"
   },
   {
    "duration": 8,
    "start_time": "2022-03-19T18:56:40.708Z"
   },
   {
    "duration": 137,
    "start_time": "2022-03-19T18:58:32.704Z"
   },
   {
    "duration": 138,
    "start_time": "2022-03-19T18:58:41.638Z"
   },
   {
    "duration": 7,
    "start_time": "2022-03-19T18:59:58.964Z"
   },
   {
    "duration": 107,
    "start_time": "2022-03-19T19:03:59.127Z"
   },
   {
    "duration": 158,
    "start_time": "2022-03-19T19:04:16.673Z"
   },
   {
    "duration": 87,
    "start_time": "2022-03-19T19:05:05.485Z"
   },
   {
    "duration": 92,
    "start_time": "2022-03-19T19:05:11.495Z"
   },
   {
    "duration": 66,
    "start_time": "2022-03-19T19:05:22.015Z"
   },
   {
    "duration": 6,
    "start_time": "2022-03-19T19:08:54.762Z"
   },
   {
    "duration": 6,
    "start_time": "2022-03-19T19:09:09.867Z"
   },
   {
    "duration": 7,
    "start_time": "2022-03-19T19:09:46.748Z"
   },
   {
    "duration": 14,
    "start_time": "2022-03-19T19:10:28.067Z"
   },
   {
    "duration": 18,
    "start_time": "2022-03-19T19:11:05.433Z"
   },
   {
    "duration": 5,
    "start_time": "2022-03-19T19:12:05.498Z"
   },
   {
    "duration": 18,
    "start_time": "2022-03-19T19:12:13.017Z"
   },
   {
    "duration": 8,
    "start_time": "2022-03-19T19:12:43.894Z"
   },
   {
    "duration": 15,
    "start_time": "2022-03-19T19:14:17.402Z"
   },
   {
    "duration": 14,
    "start_time": "2022-03-19T19:14:35.596Z"
   },
   {
    "duration": 11,
    "start_time": "2022-03-19T19:14:41.292Z"
   },
   {
    "duration": 17,
    "start_time": "2022-03-19T19:15:09.211Z"
   },
   {
    "duration": 9,
    "start_time": "2022-03-19T19:15:14.342Z"
   },
   {
    "duration": 7,
    "start_time": "2022-03-19T19:15:29.152Z"
   },
   {
    "duration": 27,
    "start_time": "2022-03-19T19:15:47.479Z"
   },
   {
    "duration": 10,
    "start_time": "2022-03-19T19:16:12.691Z"
   },
   {
    "duration": 8,
    "start_time": "2022-03-19T19:16:42.193Z"
   },
   {
    "duration": 9,
    "start_time": "2022-03-19T19:16:59.893Z"
   },
   {
    "duration": 11,
    "start_time": "2022-03-19T19:17:21.730Z"
   },
   {
    "duration": 578,
    "start_time": "2022-03-19T19:17:36.559Z"
   },
   {
    "duration": 27,
    "start_time": "2022-03-19T19:17:37.140Z"
   },
   {
    "duration": 29,
    "start_time": "2022-03-19T19:17:37.169Z"
   },
   {
    "duration": 12,
    "start_time": "2022-03-19T19:17:37.202Z"
   },
   {
    "duration": 35,
    "start_time": "2022-03-19T19:17:37.217Z"
   },
   {
    "duration": 7,
    "start_time": "2022-03-19T19:17:37.283Z"
   },
   {
    "duration": 8,
    "start_time": "2022-03-19T19:17:37.292Z"
   },
   {
    "duration": 6,
    "start_time": "2022-03-19T19:17:37.302Z"
   },
   {
    "duration": 13,
    "start_time": "2022-03-19T19:17:37.311Z"
   },
   {
    "duration": 16,
    "start_time": "2022-03-19T19:17:37.328Z"
   },
   {
    "duration": 5,
    "start_time": "2022-03-19T19:17:37.382Z"
   },
   {
    "duration": 14,
    "start_time": "2022-03-19T19:17:37.389Z"
   },
   {
    "duration": 15,
    "start_time": "2022-03-19T19:17:37.405Z"
   },
   {
    "duration": 8,
    "start_time": "2022-03-19T19:17:37.422Z"
   },
   {
    "duration": 53,
    "start_time": "2022-03-19T19:17:37.433Z"
   },
   {
    "duration": 10,
    "start_time": "2022-03-19T19:17:37.489Z"
   },
   {
    "duration": 8,
    "start_time": "2022-03-19T19:17:37.501Z"
   },
   {
    "duration": 9,
    "start_time": "2022-03-19T19:17:37.511Z"
   },
   {
    "duration": 18,
    "start_time": "2022-03-19T19:21:13.104Z"
   },
   {
    "duration": 18,
    "start_time": "2022-03-19T19:21:22.784Z"
   },
   {
    "duration": 19,
    "start_time": "2022-03-19T19:21:32.920Z"
   },
   {
    "duration": 6,
    "start_time": "2022-03-19T19:21:39.458Z"
   },
   {
    "duration": 575,
    "start_time": "2022-03-19T19:24:02.370Z"
   },
   {
    "duration": 27,
    "start_time": "2022-03-19T19:24:02.948Z"
   },
   {
    "duration": 23,
    "start_time": "2022-03-19T19:24:02.983Z"
   },
   {
    "duration": 13,
    "start_time": "2022-03-19T19:24:03.008Z"
   },
   {
    "duration": 69,
    "start_time": "2022-03-19T19:24:03.024Z"
   },
   {
    "duration": 6,
    "start_time": "2022-03-19T19:24:03.095Z"
   },
   {
    "duration": 13,
    "start_time": "2022-03-19T19:24:03.103Z"
   },
   {
    "duration": 9,
    "start_time": "2022-03-19T19:24:03.118Z"
   },
   {
    "duration": 14,
    "start_time": "2022-03-19T19:24:03.129Z"
   },
   {
    "duration": 47,
    "start_time": "2022-03-19T19:24:03.145Z"
   },
   {
    "duration": 7,
    "start_time": "2022-03-19T19:24:03.194Z"
   },
   {
    "duration": 9,
    "start_time": "2022-03-19T19:24:03.203Z"
   },
   {
    "duration": 15,
    "start_time": "2022-03-19T19:24:03.214Z"
   },
   {
    "duration": 7,
    "start_time": "2022-03-19T19:24:03.232Z"
   },
   {
    "duration": 55,
    "start_time": "2022-03-19T19:24:03.241Z"
   },
   {
    "duration": 11,
    "start_time": "2022-03-19T19:24:03.298Z"
   },
   {
    "duration": 9,
    "start_time": "2022-03-19T19:24:03.311Z"
   },
   {
    "duration": 10,
    "start_time": "2022-03-19T19:24:03.322Z"
   },
   {
    "duration": 8,
    "start_time": "2022-03-19T19:27:24.460Z"
   },
   {
    "duration": 6,
    "start_time": "2022-03-19T19:30:08.766Z"
   },
   {
    "duration": 6,
    "start_time": "2022-03-19T19:31:59.448Z"
   },
   {
    "duration": 22,
    "start_time": "2022-03-19T19:32:07.178Z"
   },
   {
    "duration": 22,
    "start_time": "2022-03-19T19:32:48.448Z"
   },
   {
    "duration": 28,
    "start_time": "2022-03-19T19:33:51.408Z"
   },
   {
    "duration": 26,
    "start_time": "2022-03-19T19:34:37.762Z"
   },
   {
    "duration": 24,
    "start_time": "2022-03-19T19:34:43.646Z"
   },
   {
    "duration": 28,
    "start_time": "2022-03-19T19:35:25.233Z"
   },
   {
    "duration": 36,
    "start_time": "2022-03-19T19:35:32.397Z"
   },
   {
    "duration": 9,
    "start_time": "2022-03-19T19:36:24.064Z"
   },
   {
    "duration": 567,
    "start_time": "2022-03-19T19:58:01.796Z"
   },
   {
    "duration": 33,
    "start_time": "2022-03-19T19:58:02.366Z"
   },
   {
    "duration": 29,
    "start_time": "2022-03-19T19:58:02.401Z"
   },
   {
    "duration": 24,
    "start_time": "2022-03-19T19:58:02.434Z"
   },
   {
    "duration": 60,
    "start_time": "2022-03-19T19:58:02.461Z"
   },
   {
    "duration": 6,
    "start_time": "2022-03-19T19:58:02.524Z"
   },
   {
    "duration": 12,
    "start_time": "2022-03-19T19:58:02.533Z"
   },
   {
    "duration": 37,
    "start_time": "2022-03-19T19:58:02.546Z"
   },
   {
    "duration": 16,
    "start_time": "2022-03-19T19:58:02.585Z"
   },
   {
    "duration": 18,
    "start_time": "2022-03-19T19:58:02.605Z"
   },
   {
    "duration": 9,
    "start_time": "2022-03-19T19:58:02.625Z"
   },
   {
    "duration": 64,
    "start_time": "2022-03-19T19:58:02.636Z"
   },
   {
    "duration": 25,
    "start_time": "2022-03-19T19:58:02.703Z"
   },
   {
    "duration": 25,
    "start_time": "2022-03-19T19:58:02.731Z"
   },
   {
    "duration": 7,
    "start_time": "2022-03-19T19:58:02.782Z"
   },
   {
    "duration": 29,
    "start_time": "2022-03-19T19:58:02.791Z"
   },
   {
    "duration": 21,
    "start_time": "2022-03-19T19:58:02.822Z"
   },
   {
    "duration": 21,
    "start_time": "2022-03-19T19:58:02.845Z"
   },
   {
    "duration": 18,
    "start_time": "2022-03-19T19:58:02.868Z"
   },
   {
    "duration": 22,
    "start_time": "2022-03-19T19:58:02.888Z"
   },
   {
    "duration": 14,
    "start_time": "2022-03-19T19:58:02.912Z"
   },
   {
    "duration": 9,
    "start_time": "2022-03-19T19:59:07.709Z"
   },
   {
    "duration": 10,
    "start_time": "2022-03-19T20:01:57.272Z"
   },
   {
    "duration": 102,
    "start_time": "2022-03-19T20:06:24.342Z"
   },
   {
    "duration": 8,
    "start_time": "2022-03-19T20:07:57.279Z"
   },
   {
    "duration": 10,
    "start_time": "2022-03-19T20:08:08.662Z"
   },
   {
    "duration": 33,
    "start_time": "2022-03-19T20:47:09.481Z"
   },
   {
    "duration": 9,
    "start_time": "2022-03-19T20:47:11.439Z"
   },
   {
    "duration": 29,
    "start_time": "2022-03-19T20:47:37.932Z"
   },
   {
    "duration": 31,
    "start_time": "2022-03-19T20:47:43.432Z"
   },
   {
    "duration": 9,
    "start_time": "2022-03-19T20:47:44.035Z"
   },
   {
    "duration": 35,
    "start_time": "2022-03-19T20:50:25.927Z"
   },
   {
    "duration": 16,
    "start_time": "2022-03-19T20:50:26.580Z"
   },
   {
    "duration": 11,
    "start_time": "2022-03-19T20:52:52.622Z"
   },
   {
    "duration": 29,
    "start_time": "2022-03-19T20:53:55.557Z"
   },
   {
    "duration": 29,
    "start_time": "2022-03-19T20:54:16.140Z"
   },
   {
    "duration": 36,
    "start_time": "2022-03-19T20:54:37.568Z"
   },
   {
    "duration": 545,
    "start_time": "2022-03-19T20:56:10.228Z"
   },
   {
    "duration": 30,
    "start_time": "2022-03-19T20:56:10.776Z"
   },
   {
    "duration": 24,
    "start_time": "2022-03-19T20:56:10.808Z"
   },
   {
    "duration": 14,
    "start_time": "2022-03-19T20:56:10.835Z"
   },
   {
    "duration": 34,
    "start_time": "2022-03-19T20:56:10.883Z"
   },
   {
    "duration": 7,
    "start_time": "2022-03-19T20:56:10.919Z"
   },
   {
    "duration": 11,
    "start_time": "2022-03-19T20:56:10.928Z"
   },
   {
    "duration": 10,
    "start_time": "2022-03-19T20:56:10.941Z"
   },
   {
    "duration": 39,
    "start_time": "2022-03-19T20:56:10.953Z"
   },
   {
    "duration": 18,
    "start_time": "2022-03-19T20:56:10.997Z"
   },
   {
    "duration": 8,
    "start_time": "2022-03-19T20:56:11.018Z"
   },
   {
    "duration": 22,
    "start_time": "2022-03-19T20:56:11.028Z"
   },
   {
    "duration": 26,
    "start_time": "2022-03-19T20:56:11.082Z"
   },
   {
    "duration": 27,
    "start_time": "2022-03-19T20:56:11.111Z"
   },
   {
    "duration": 8,
    "start_time": "2022-03-19T20:56:11.140Z"
   },
   {
    "duration": 44,
    "start_time": "2022-03-19T20:56:11.150Z"
   },
   {
    "duration": 10,
    "start_time": "2022-03-19T20:56:11.196Z"
   },
   {
    "duration": 19,
    "start_time": "2022-03-19T20:56:11.208Z"
   },
   {
    "duration": 6,
    "start_time": "2022-03-19T20:56:11.230Z"
   },
   {
    "duration": 9,
    "start_time": "2022-03-19T20:56:11.238Z"
   },
   {
    "duration": 11,
    "start_time": "2022-03-19T20:56:11.281Z"
   },
   {
    "duration": 29,
    "start_time": "2022-03-19T20:56:11.294Z"
   },
   {
    "duration": 59,
    "start_time": "2022-03-19T20:56:11.325Z"
   },
   {
    "duration": 154,
    "start_time": "2022-03-19T20:58:47.478Z"
   },
   {
    "duration": 6,
    "start_time": "2022-03-19T20:59:30.304Z"
   },
   {
    "duration": 8,
    "start_time": "2022-03-19T21:00:21.926Z"
   },
   {
    "duration": 9,
    "start_time": "2022-03-19T21:00:57.533Z"
   },
   {
    "duration": 24,
    "start_time": "2022-03-19T21:02:44.067Z"
   },
   {
    "duration": 6,
    "start_time": "2022-03-19T21:02:54.922Z"
   },
   {
    "duration": 17,
    "start_time": "2022-03-19T21:03:01.371Z"
   },
   {
    "duration": 16,
    "start_time": "2022-03-19T21:03:13.136Z"
   },
   {
    "duration": 16,
    "start_time": "2022-03-19T21:03:22.995Z"
   },
   {
    "duration": 155,
    "start_time": "2022-03-19T21:07:51.732Z"
   },
   {
    "duration": 4,
    "start_time": "2022-03-19T21:08:03.954Z"
   },
   {
    "duration": 5,
    "start_time": "2022-03-19T21:08:43.319Z"
   },
   {
    "duration": 13,
    "start_time": "2022-03-19T21:10:05.681Z"
   },
   {
    "duration": 17,
    "start_time": "2022-03-19T21:10:11.745Z"
   },
   {
    "duration": 12,
    "start_time": "2022-03-19T21:10:52.975Z"
   },
   {
    "duration": 16,
    "start_time": "2022-03-19T21:10:54.422Z"
   },
   {
    "duration": 13,
    "start_time": "2022-03-19T21:11:05.138Z"
   },
   {
    "duration": 17,
    "start_time": "2022-03-19T21:11:05.773Z"
   },
   {
    "duration": 18,
    "start_time": "2022-03-19T21:11:16.819Z"
   },
   {
    "duration": 7,
    "start_time": "2022-03-19T21:17:08.801Z"
   },
   {
    "duration": 23,
    "start_time": "2022-03-19T21:18:06.645Z"
   },
   {
    "duration": 25,
    "start_time": "2022-03-19T21:18:12.017Z"
   },
   {
    "duration": 18,
    "start_time": "2022-03-19T21:18:31.814Z"
   },
   {
    "duration": 6,
    "start_time": "2022-03-19T21:20:40.707Z"
   },
   {
    "duration": 5,
    "start_time": "2022-03-19T21:20:48.277Z"
   },
   {
    "duration": 4,
    "start_time": "2022-03-19T21:21:04.107Z"
   },
   {
    "duration": 6,
    "start_time": "2022-03-19T21:21:10.416Z"
   },
   {
    "duration": 33,
    "start_time": "2022-03-19T21:21:15.878Z"
   },
   {
    "duration": 25,
    "start_time": "2022-03-19T21:23:11.836Z"
   },
   {
    "duration": 6,
    "start_time": "2022-03-19T21:24:26.846Z"
   },
   {
    "duration": 5,
    "start_time": "2022-03-19T21:25:17.839Z"
   },
   {
    "duration": 5,
    "start_time": "2022-03-19T21:25:45.320Z"
   },
   {
    "duration": 607,
    "start_time": "2022-03-19T21:25:54.139Z"
   },
   {
    "duration": 42,
    "start_time": "2022-03-19T21:25:54.749Z"
   },
   {
    "duration": 21,
    "start_time": "2022-03-19T21:25:54.794Z"
   },
   {
    "duration": 13,
    "start_time": "2022-03-19T21:25:54.819Z"
   },
   {
    "duration": 74,
    "start_time": "2022-03-19T21:25:54.834Z"
   },
   {
    "duration": 7,
    "start_time": "2022-03-19T21:25:54.910Z"
   },
   {
    "duration": 11,
    "start_time": "2022-03-19T21:25:54.919Z"
   },
   {
    "duration": 11,
    "start_time": "2022-03-19T21:25:54.932Z"
   },
   {
    "duration": 41,
    "start_time": "2022-03-19T21:25:54.945Z"
   },
   {
    "duration": 20,
    "start_time": "2022-03-19T21:25:54.990Z"
   },
   {
    "duration": 8,
    "start_time": "2022-03-19T21:25:55.012Z"
   },
   {
    "duration": 9,
    "start_time": "2022-03-19T21:25:55.023Z"
   },
   {
    "duration": 8,
    "start_time": "2022-03-19T21:25:55.034Z"
   },
   {
    "duration": 59,
    "start_time": "2022-03-19T21:25:55.044Z"
   },
   {
    "duration": 25,
    "start_time": "2022-03-19T21:25:55.105Z"
   },
   {
    "duration": 57,
    "start_time": "2022-03-19T21:25:55.132Z"
   },
   {
    "duration": 8,
    "start_time": "2022-03-19T21:25:55.191Z"
   },
   {
    "duration": 16,
    "start_time": "2022-03-19T21:25:55.201Z"
   },
   {
    "duration": 19,
    "start_time": "2022-03-19T21:25:55.219Z"
   },
   {
    "duration": 46,
    "start_time": "2022-03-19T21:25:55.240Z"
   },
   {
    "duration": 8,
    "start_time": "2022-03-19T21:25:55.289Z"
   },
   {
    "duration": 9,
    "start_time": "2022-03-19T21:25:55.299Z"
   },
   {
    "duration": 10,
    "start_time": "2022-03-19T21:25:55.310Z"
   },
   {
    "duration": 75,
    "start_time": "2022-03-19T21:25:55.322Z"
   },
   {
    "duration": 28,
    "start_time": "2022-03-19T21:25:55.400Z"
   },
   {
    "duration": 10,
    "start_time": "2022-03-19T21:25:55.431Z"
   },
   {
    "duration": 39,
    "start_time": "2022-03-19T21:25:55.443Z"
   },
   {
    "duration": 6,
    "start_time": "2022-03-19T21:25:55.490Z"
   },
   {
    "duration": 20,
    "start_time": "2022-03-19T21:25:55.499Z"
   },
   {
    "duration": 22,
    "start_time": "2022-03-19T21:25:55.521Z"
   },
   {
    "duration": 40,
    "start_time": "2022-03-19T21:25:55.546Z"
   },
   {
    "duration": 32,
    "start_time": "2022-03-19T21:25:55.589Z"
   },
   {
    "duration": 28,
    "start_time": "2022-03-19T21:25:55.624Z"
   },
   {
    "duration": 28,
    "start_time": "2022-03-19T21:25:55.654Z"
   },
   {
    "duration": 11,
    "start_time": "2022-03-19T21:26:20.921Z"
   },
   {
    "duration": 21,
    "start_time": "2022-03-19T21:26:26.002Z"
   },
   {
    "duration": 26,
    "start_time": "2022-03-19T21:31:18.121Z"
   },
   {
    "duration": 21,
    "start_time": "2022-03-19T21:33:46.131Z"
   },
   {
    "duration": 14,
    "start_time": "2022-03-19T21:33:55.551Z"
   },
   {
    "duration": 113,
    "start_time": "2022-03-19T21:34:19.178Z"
   },
   {
    "duration": 17,
    "start_time": "2022-03-19T21:34:20.388Z"
   },
   {
    "duration": 13,
    "start_time": "2022-03-19T21:34:26.556Z"
   },
   {
    "duration": 2194,
    "start_time": "2022-03-19T21:36:21.816Z"
   },
   {
    "duration": 13,
    "start_time": "2022-03-19T21:36:49.910Z"
   },
   {
    "duration": 19,
    "start_time": "2022-03-19T21:37:25.923Z"
   },
   {
    "duration": 14,
    "start_time": "2022-03-19T21:39:56.428Z"
   },
   {
    "duration": 5,
    "start_time": "2022-03-19T21:40:11.642Z"
   },
   {
    "duration": 8,
    "start_time": "2022-03-19T21:40:12.874Z"
   },
   {
    "duration": 12,
    "start_time": "2022-03-19T21:41:40.678Z"
   },
   {
    "duration": 6,
    "start_time": "2022-03-19T21:41:41.965Z"
   },
   {
    "duration": 7,
    "start_time": "2022-03-19T21:41:43.214Z"
   },
   {
    "duration": 12,
    "start_time": "2022-03-19T21:44:14.065Z"
   },
   {
    "duration": 21,
    "start_time": "2022-03-19T21:44:23.040Z"
   },
   {
    "duration": 14,
    "start_time": "2022-03-19T21:45:11.492Z"
   },
   {
    "duration": 9,
    "start_time": "2022-03-19T21:45:33.574Z"
   },
   {
    "duration": 20,
    "start_time": "2022-03-19T21:46:15.868Z"
   },
   {
    "duration": 7,
    "start_time": "2022-03-19T21:46:56.460Z"
   },
   {
    "duration": 8,
    "start_time": "2022-03-19T21:47:00.565Z"
   },
   {
    "duration": 8,
    "start_time": "2022-03-19T21:47:49.600Z"
   },
   {
    "duration": 9,
    "start_time": "2022-03-19T21:48:25.750Z"
   },
   {
    "duration": 7,
    "start_time": "2022-03-19T21:48:52.563Z"
   },
   {
    "duration": 5,
    "start_time": "2022-03-19T21:49:09.800Z"
   },
   {
    "duration": 11,
    "start_time": "2022-03-19T21:49:20.415Z"
   },
   {
    "duration": 18,
    "start_time": "2022-03-19T21:49:28.194Z"
   },
   {
    "duration": 12,
    "start_time": "2022-03-19T21:49:49.683Z"
   },
   {
    "duration": 172,
    "start_time": "2022-03-19T21:54:34.331Z"
   },
   {
    "duration": 12,
    "start_time": "2022-03-19T21:55:06.331Z"
   },
   {
    "duration": 6,
    "start_time": "2022-03-19T21:55:06.931Z"
   },
   {
    "duration": 9,
    "start_time": "2022-03-19T21:55:07.723Z"
   },
   {
    "duration": 13,
    "start_time": "2022-03-19T22:00:09.678Z"
   },
   {
    "duration": 53,
    "start_time": "2022-03-20T12:52:14.715Z"
   },
   {
    "duration": 6,
    "start_time": "2022-03-20T12:52:15.151Z"
   },
   {
    "duration": 488,
    "start_time": "2022-03-20T12:52:30.527Z"
   },
   {
    "duration": 28,
    "start_time": "2022-03-20T12:52:31.018Z"
   },
   {
    "duration": 42,
    "start_time": "2022-03-20T12:52:31.048Z"
   },
   {
    "duration": 17,
    "start_time": "2022-03-20T12:52:31.092Z"
   },
   {
    "duration": 56,
    "start_time": "2022-03-20T12:52:31.112Z"
   },
   {
    "duration": 5,
    "start_time": "2022-03-20T12:52:31.170Z"
   },
   {
    "duration": 18,
    "start_time": "2022-03-20T12:52:31.177Z"
   },
   {
    "duration": 9,
    "start_time": "2022-03-20T12:52:31.196Z"
   },
   {
    "duration": 15,
    "start_time": "2022-03-20T12:52:31.206Z"
   },
   {
    "duration": 45,
    "start_time": "2022-03-20T12:52:31.223Z"
   },
   {
    "duration": 14,
    "start_time": "2022-03-20T12:52:31.271Z"
   },
   {
    "duration": 26,
    "start_time": "2022-03-20T12:52:31.287Z"
   },
   {
    "duration": 34,
    "start_time": "2022-03-20T12:52:31.315Z"
   },
   {
    "duration": 34,
    "start_time": "2022-03-20T12:52:31.353Z"
   },
   {
    "duration": 23,
    "start_time": "2022-03-20T12:52:31.389Z"
   },
   {
    "duration": 37,
    "start_time": "2022-03-20T12:52:31.414Z"
   },
   {
    "duration": 7,
    "start_time": "2022-03-20T12:52:31.453Z"
   },
   {
    "duration": 17,
    "start_time": "2022-03-20T12:52:31.461Z"
   },
   {
    "duration": 14,
    "start_time": "2022-03-20T12:52:31.480Z"
   },
   {
    "duration": 16,
    "start_time": "2022-03-20T12:52:31.496Z"
   },
   {
    "duration": 22,
    "start_time": "2022-03-20T12:52:31.514Z"
   },
   {
    "duration": 16,
    "start_time": "2022-03-20T12:52:31.550Z"
   },
   {
    "duration": 19,
    "start_time": "2022-03-20T12:52:31.569Z"
   },
   {
    "duration": 41,
    "start_time": "2022-03-20T12:52:31.590Z"
   },
   {
    "duration": 26,
    "start_time": "2022-03-20T12:52:31.633Z"
   },
   {
    "duration": 7,
    "start_time": "2022-03-20T12:52:31.661Z"
   },
   {
    "duration": 14,
    "start_time": "2022-03-20T12:52:31.669Z"
   },
   {
    "duration": 13,
    "start_time": "2022-03-20T12:52:31.685Z"
   },
   {
    "duration": 21,
    "start_time": "2022-03-20T12:52:31.700Z"
   },
   {
    "duration": 41,
    "start_time": "2022-03-20T12:52:31.723Z"
   },
   {
    "duration": 11,
    "start_time": "2022-03-20T12:52:31.766Z"
   },
   {
    "duration": 21,
    "start_time": "2022-03-20T12:52:31.778Z"
   },
   {
    "duration": 22,
    "start_time": "2022-03-20T12:52:31.801Z"
   },
   {
    "duration": 19,
    "start_time": "2022-03-20T12:52:31.824Z"
   },
   {
    "duration": 7,
    "start_time": "2022-03-20T12:52:31.845Z"
   },
   {
    "duration": 17,
    "start_time": "2022-03-20T12:52:31.854Z"
   },
   {
    "duration": 9,
    "start_time": "2022-03-20T12:52:31.872Z"
   },
   {
    "duration": 7,
    "start_time": "2022-03-20T12:52:31.883Z"
   },
   {
    "duration": 9,
    "start_time": "2022-03-20T12:52:31.891Z"
   },
   {
    "duration": 14,
    "start_time": "2022-03-20T12:52:31.902Z"
   },
   {
    "duration": 6,
    "start_time": "2022-03-20T12:52:31.920Z"
   },
   {
    "duration": 83,
    "start_time": "2022-03-20T12:52:31.927Z"
   },
   {
    "duration": 6,
    "start_time": "2022-03-20T12:52:57.261Z"
   },
   {
    "duration": 5,
    "start_time": "2022-03-20T12:52:58.004Z"
   },
   {
    "duration": 2,
    "start_time": "2022-03-20T12:57:26.451Z"
   },
   {
    "duration": 6,
    "start_time": "2022-03-20T12:59:26.756Z"
   },
   {
    "duration": 15,
    "start_time": "2022-03-20T13:00:18.132Z"
   },
   {
    "duration": 8,
    "start_time": "2022-03-20T13:01:05.051Z"
   },
   {
    "duration": 6,
    "start_time": "2022-03-20T13:01:42.677Z"
   },
   {
    "duration": 517,
    "start_time": "2022-03-20T13:34:00.750Z"
   },
   {
    "duration": 20,
    "start_time": "2022-03-20T13:34:01.270Z"
   },
   {
    "duration": 34,
    "start_time": "2022-03-20T13:34:01.292Z"
   },
   {
    "duration": 20,
    "start_time": "2022-03-20T13:34:01.329Z"
   },
   {
    "duration": 33,
    "start_time": "2022-03-20T13:34:01.351Z"
   },
   {
    "duration": 6,
    "start_time": "2022-03-20T13:34:01.385Z"
   },
   {
    "duration": 11,
    "start_time": "2022-03-20T13:34:01.392Z"
   },
   {
    "duration": 7,
    "start_time": "2022-03-20T13:34:01.405Z"
   },
   {
    "duration": 22,
    "start_time": "2022-03-20T13:34:01.414Z"
   },
   {
    "duration": 35,
    "start_time": "2022-03-20T13:34:01.445Z"
   },
   {
    "duration": 14,
    "start_time": "2022-03-20T13:34:01.482Z"
   },
   {
    "duration": 20,
    "start_time": "2022-03-20T13:34:01.498Z"
   },
   {
    "duration": 15,
    "start_time": "2022-03-20T13:34:01.519Z"
   },
   {
    "duration": 41,
    "start_time": "2022-03-20T13:34:01.536Z"
   },
   {
    "duration": 22,
    "start_time": "2022-03-20T13:34:01.579Z"
   },
   {
    "duration": 22,
    "start_time": "2022-03-20T13:34:01.603Z"
   },
   {
    "duration": 5,
    "start_time": "2022-03-20T13:34:01.627Z"
   },
   {
    "duration": 49,
    "start_time": "2022-03-20T13:34:01.634Z"
   },
   {
    "duration": 27,
    "start_time": "2022-03-20T13:34:01.685Z"
   },
   {
    "duration": 47,
    "start_time": "2022-03-20T13:34:01.714Z"
   },
   {
    "duration": 28,
    "start_time": "2022-03-20T13:34:01.763Z"
   },
   {
    "duration": 41,
    "start_time": "2022-03-20T13:34:01.793Z"
   },
   {
    "duration": 65,
    "start_time": "2022-03-20T13:34:01.835Z"
   },
   {
    "duration": 26,
    "start_time": "2022-03-20T13:34:01.902Z"
   },
   {
    "duration": 29,
    "start_time": "2022-03-20T13:34:01.930Z"
   },
   {
    "duration": 17,
    "start_time": "2022-03-20T13:34:01.961Z"
   },
   {
    "duration": 15,
    "start_time": "2022-03-20T13:34:01.980Z"
   },
   {
    "duration": 11,
    "start_time": "2022-03-20T13:34:02.001Z"
   },
   {
    "duration": 17,
    "start_time": "2022-03-20T13:34:02.014Z"
   },
   {
    "duration": 50,
    "start_time": "2022-03-20T13:34:02.033Z"
   },
   {
    "duration": 23,
    "start_time": "2022-03-20T13:34:02.085Z"
   },
   {
    "duration": 24,
    "start_time": "2022-03-20T13:34:02.110Z"
   },
   {
    "duration": 34,
    "start_time": "2022-03-20T13:34:02.137Z"
   },
   {
    "duration": 20,
    "start_time": "2022-03-20T13:34:02.173Z"
   },
   {
    "duration": 4,
    "start_time": "2022-03-20T13:34:02.195Z"
   },
   {
    "duration": 11,
    "start_time": "2022-03-20T13:34:02.201Z"
   },
   {
    "duration": 9,
    "start_time": "2022-03-20T13:34:02.214Z"
   },
   {
    "duration": 6,
    "start_time": "2022-03-20T13:34:02.224Z"
   },
   {
    "duration": 15,
    "start_time": "2022-03-20T13:34:02.231Z"
   },
   {
    "duration": 17,
    "start_time": "2022-03-20T13:34:02.248Z"
   },
   {
    "duration": 7,
    "start_time": "2022-03-20T13:34:02.267Z"
   },
   {
    "duration": 19,
    "start_time": "2022-03-20T13:34:02.276Z"
   },
   {
    "duration": 15,
    "start_time": "2022-03-20T13:34:02.296Z"
   },
   {
    "duration": 24,
    "start_time": "2022-03-20T13:34:02.313Z"
   },
   {
    "duration": 18,
    "start_time": "2022-03-20T13:34:02.339Z"
   },
   {
    "duration": 5,
    "start_time": "2022-03-20T13:38:54.487Z"
   },
   {
    "duration": 5,
    "start_time": "2022-03-20T13:38:58.602Z"
   },
   {
    "duration": 453,
    "start_time": "2022-03-20T13:40:13.364Z"
   },
   {
    "duration": 18,
    "start_time": "2022-03-20T13:40:13.819Z"
   },
   {
    "duration": 43,
    "start_time": "2022-03-20T13:40:13.838Z"
   },
   {
    "duration": 20,
    "start_time": "2022-03-20T13:40:13.882Z"
   },
   {
    "duration": 43,
    "start_time": "2022-03-20T13:40:13.905Z"
   },
   {
    "duration": 19,
    "start_time": "2022-03-20T13:40:13.950Z"
   },
   {
    "duration": 23,
    "start_time": "2022-03-20T13:40:13.970Z"
   },
   {
    "duration": 36,
    "start_time": "2022-03-20T13:40:13.995Z"
   },
   {
    "duration": 42,
    "start_time": "2022-03-20T13:40:14.033Z"
   },
   {
    "duration": 30,
    "start_time": "2022-03-20T13:40:14.077Z"
   },
   {
    "duration": 15,
    "start_time": "2022-03-20T13:40:14.108Z"
   },
   {
    "duration": 33,
    "start_time": "2022-03-20T13:40:14.125Z"
   },
   {
    "duration": 23,
    "start_time": "2022-03-20T13:40:14.160Z"
   },
   {
    "duration": 42,
    "start_time": "2022-03-20T13:40:14.185Z"
   },
   {
    "duration": 45,
    "start_time": "2022-03-20T13:40:14.228Z"
   },
   {
    "duration": 28,
    "start_time": "2022-03-20T13:40:14.275Z"
   },
   {
    "duration": 18,
    "start_time": "2022-03-20T13:40:14.305Z"
   },
   {
    "duration": 42,
    "start_time": "2022-03-20T13:40:14.325Z"
   },
   {
    "duration": 36,
    "start_time": "2022-03-20T13:40:14.369Z"
   },
   {
    "duration": 21,
    "start_time": "2022-03-20T13:40:14.407Z"
   },
   {
    "duration": 27,
    "start_time": "2022-03-20T13:40:14.430Z"
   },
   {
    "duration": 16,
    "start_time": "2022-03-20T13:40:14.459Z"
   },
   {
    "duration": 24,
    "start_time": "2022-03-20T13:40:14.477Z"
   },
   {
    "duration": 34,
    "start_time": "2022-03-20T13:40:14.503Z"
   },
   {
    "duration": 26,
    "start_time": "2022-03-20T13:40:14.539Z"
   },
   {
    "duration": 6,
    "start_time": "2022-03-20T13:40:14.567Z"
   },
   {
    "duration": 9,
    "start_time": "2022-03-20T13:40:14.574Z"
   },
   {
    "duration": 7,
    "start_time": "2022-03-20T13:40:14.586Z"
   },
   {
    "duration": 19,
    "start_time": "2022-03-20T13:40:14.594Z"
   },
   {
    "duration": 40,
    "start_time": "2022-03-20T13:40:14.615Z"
   },
   {
    "duration": 4,
    "start_time": "2022-03-20T13:40:14.657Z"
   },
   {
    "duration": 17,
    "start_time": "2022-03-20T13:40:14.662Z"
   },
   {
    "duration": 20,
    "start_time": "2022-03-20T13:40:14.680Z"
   },
   {
    "duration": 14,
    "start_time": "2022-03-20T13:40:14.701Z"
   },
   {
    "duration": 3,
    "start_time": "2022-03-20T13:40:14.717Z"
   },
   {
    "duration": 10,
    "start_time": "2022-03-20T13:40:14.721Z"
   },
   {
    "duration": 11,
    "start_time": "2022-03-20T13:40:14.741Z"
   },
   {
    "duration": 6,
    "start_time": "2022-03-20T13:40:14.754Z"
   },
   {
    "duration": 11,
    "start_time": "2022-03-20T13:40:14.761Z"
   },
   {
    "duration": 11,
    "start_time": "2022-03-20T13:40:14.774Z"
   },
   {
    "duration": 7,
    "start_time": "2022-03-20T13:40:14.788Z"
   },
   {
    "duration": 14,
    "start_time": "2022-03-20T13:40:14.797Z"
   },
   {
    "duration": 37,
    "start_time": "2022-03-20T13:40:14.813Z"
   },
   {
    "duration": 14,
    "start_time": "2022-03-20T13:40:14.853Z"
   },
   {
    "duration": 6,
    "start_time": "2022-03-20T13:40:14.869Z"
   },
   {
    "duration": 554,
    "start_time": "2022-03-30T20:19:21.847Z"
   },
   {
    "duration": 19,
    "start_time": "2022-03-30T20:19:22.403Z"
   },
   {
    "duration": 16,
    "start_time": "2022-03-30T20:19:22.423Z"
   },
   {
    "duration": 11,
    "start_time": "2022-03-30T20:19:22.440Z"
   },
   {
    "duration": 49,
    "start_time": "2022-03-30T20:19:22.453Z"
   },
   {
    "duration": 5,
    "start_time": "2022-03-30T20:19:22.503Z"
   },
   {
    "duration": 6,
    "start_time": "2022-03-30T20:19:22.509Z"
   },
   {
    "duration": 5,
    "start_time": "2022-03-30T20:19:22.516Z"
   },
   {
    "duration": 10,
    "start_time": "2022-03-30T20:19:22.523Z"
   },
   {
    "duration": 11,
    "start_time": "2022-03-30T20:19:22.535Z"
   },
   {
    "duration": 3,
    "start_time": "2022-03-30T20:19:22.548Z"
   },
   {
    "duration": 6,
    "start_time": "2022-03-30T20:19:22.552Z"
   },
   {
    "duration": 8,
    "start_time": "2022-03-30T20:19:22.559Z"
   },
   {
    "duration": 16,
    "start_time": "2022-03-30T20:19:22.603Z"
   },
   {
    "duration": 17,
    "start_time": "2022-03-30T20:19:22.620Z"
   },
   {
    "duration": 26,
    "start_time": "2022-03-30T20:19:22.638Z"
   },
   {
    "duration": 19,
    "start_time": "2022-03-30T20:19:22.670Z"
   },
   {
    "duration": 22,
    "start_time": "2022-03-30T20:19:22.702Z"
   },
   {
    "duration": 7,
    "start_time": "2022-03-30T20:19:22.726Z"
   },
   {
    "duration": 20,
    "start_time": "2022-03-30T20:19:22.734Z"
   },
   {
    "duration": 4,
    "start_time": "2022-03-30T20:19:22.756Z"
   },
   {
    "duration": 9,
    "start_time": "2022-03-30T20:19:22.761Z"
   },
   {
    "duration": 8,
    "start_time": "2022-03-30T20:19:22.772Z"
   },
   {
    "duration": 36,
    "start_time": "2022-03-30T20:19:22.782Z"
   },
   {
    "duration": 20,
    "start_time": "2022-03-30T20:19:22.819Z"
   },
   {
    "duration": 5,
    "start_time": "2022-03-30T20:19:22.841Z"
   },
   {
    "duration": 7,
    "start_time": "2022-03-30T20:19:22.848Z"
   },
   {
    "duration": 8,
    "start_time": "2022-03-30T20:19:22.857Z"
   },
   {
    "duration": 14,
    "start_time": "2022-03-30T20:19:22.866Z"
   },
   {
    "duration": 21,
    "start_time": "2022-03-30T20:19:22.881Z"
   },
   {
    "duration": 5,
    "start_time": "2022-03-30T20:19:22.903Z"
   },
   {
    "duration": 17,
    "start_time": "2022-03-30T20:19:22.909Z"
   },
   {
    "duration": 11,
    "start_time": "2022-03-30T20:19:22.928Z"
   },
   {
    "duration": 11,
    "start_time": "2022-03-30T20:19:22.941Z"
   },
   {
    "duration": 4,
    "start_time": "2022-03-30T20:19:22.954Z"
   },
   {
    "duration": 12,
    "start_time": "2022-03-30T20:19:22.959Z"
   },
   {
    "duration": 6,
    "start_time": "2022-03-30T20:19:22.973Z"
   },
   {
    "duration": 5,
    "start_time": "2022-03-30T20:19:23.001Z"
   },
   {
    "duration": 7,
    "start_time": "2022-03-30T20:19:23.007Z"
   },
   {
    "duration": 13,
    "start_time": "2022-03-30T20:19:23.015Z"
   },
   {
    "duration": 8,
    "start_time": "2022-03-30T20:19:23.031Z"
   },
   {
    "duration": 12,
    "start_time": "2022-03-30T20:19:23.040Z"
   },
   {
    "duration": 15,
    "start_time": "2022-03-30T20:19:23.053Z"
   },
   {
    "duration": 8,
    "start_time": "2022-03-30T20:19:23.069Z"
   },
   {
    "duration": 7,
    "start_time": "2022-03-30T20:19:23.078Z"
   },
   {
    "duration": 483,
    "start_time": "2022-04-02T09:46:54.069Z"
   },
   {
    "duration": 68,
    "start_time": "2022-04-02T09:46:54.555Z"
   },
   {
    "duration": 72,
    "start_time": "2022-04-02T09:50:11.209Z"
   },
   {
    "duration": 3,
    "start_time": "2022-04-02T09:50:12.929Z"
   },
   {
    "duration": 93,
    "start_time": "2022-04-02T09:50:13.296Z"
   },
   {
    "duration": 28,
    "start_time": "2022-04-02T09:51:43.441Z"
   },
   {
    "duration": 20,
    "start_time": "2022-04-02T09:51:45.590Z"
   },
   {
    "duration": 42,
    "start_time": "2022-04-02T09:51:46.517Z"
   },
   {
    "duration": 44,
    "start_time": "2022-04-02T09:53:32.335Z"
   },
   {
    "duration": 7,
    "start_time": "2022-04-02T10:15:35.495Z"
   },
   {
    "duration": 8,
    "start_time": "2022-04-02T10:15:42.148Z"
   },
   {
    "duration": 14,
    "start_time": "2022-04-02T10:16:16.513Z"
   },
   {
    "duration": 41,
    "start_time": "2022-04-02T10:16:26.063Z"
   },
   {
    "duration": 15,
    "start_time": "2022-04-02T10:22:22.524Z"
   },
   {
    "duration": 44,
    "start_time": "2022-04-02T10:22:25.951Z"
   },
   {
    "duration": 78,
    "start_time": "2022-04-02T10:22:54.669Z"
   },
   {
    "duration": 11,
    "start_time": "2022-04-02T10:24:55.780Z"
   },
   {
    "duration": 12,
    "start_time": "2022-04-02T10:25:03.112Z"
   },
   {
    "duration": 111,
    "start_time": "2022-04-02T10:25:17.682Z"
   },
   {
    "duration": 14,
    "start_time": "2022-04-02T10:25:21.826Z"
   },
   {
    "duration": 15,
    "start_time": "2022-04-02T10:25:47.799Z"
   },
   {
    "duration": 12,
    "start_time": "2022-04-02T10:26:17.119Z"
   },
   {
    "duration": 17,
    "start_time": "2022-04-02T10:26:34.315Z"
   },
   {
    "duration": 34,
    "start_time": "2022-04-02T10:27:50.626Z"
   },
   {
    "duration": 41,
    "start_time": "2022-04-02T10:28:10.704Z"
   },
   {
    "duration": 4,
    "start_time": "2022-04-02T10:30:27.540Z"
   },
   {
    "duration": 42,
    "start_time": "2022-04-02T10:30:43.999Z"
   },
   {
    "duration": 4,
    "start_time": "2022-04-02T10:36:27.374Z"
   },
   {
    "duration": 4,
    "start_time": "2022-04-02T10:37:00.461Z"
   },
   {
    "duration": 5,
    "start_time": "2022-04-02T10:37:06.602Z"
   },
   {
    "duration": 3,
    "start_time": "2022-04-02T10:37:27.867Z"
   },
   {
    "duration": 71,
    "start_time": "2022-04-02T10:37:28.584Z"
   },
   {
    "duration": 17,
    "start_time": "2022-04-02T10:37:31.742Z"
   },
   {
    "duration": 27,
    "start_time": "2022-04-02T10:37:32.949Z"
   },
   {
    "duration": 45,
    "start_time": "2022-04-02T10:37:33.758Z"
   },
   {
    "duration": 14,
    "start_time": "2022-04-02T10:37:37.044Z"
   },
   {
    "duration": 37,
    "start_time": "2022-04-02T10:37:39.761Z"
   },
   {
    "duration": 7,
    "start_time": "2022-04-02T10:37:42.710Z"
   },
   {
    "duration": 5,
    "start_time": "2022-04-02T10:37:50.120Z"
   },
   {
    "duration": 6,
    "start_time": "2022-04-02T10:38:29.451Z"
   },
   {
    "duration": 55,
    "start_time": "2022-04-02T10:38:41.988Z"
   },
   {
    "duration": 5,
    "start_time": "2022-04-02T10:39:22.621Z"
   },
   {
    "duration": 51,
    "start_time": "2022-04-02T10:39:23.228Z"
   },
   {
    "duration": 3,
    "start_time": "2022-04-02T10:40:12.889Z"
   },
   {
    "duration": 98,
    "start_time": "2022-04-02T10:40:13.492Z"
   },
   {
    "duration": 25,
    "start_time": "2022-04-02T10:40:15.347Z"
   },
   {
    "duration": 560,
    "start_time": "2022-04-02T10:40:32.238Z"
   },
   {
    "duration": 72,
    "start_time": "2022-04-02T10:40:33.570Z"
   },
   {
    "duration": 92,
    "start_time": "2022-04-02T10:40:35.473Z"
   },
   {
    "duration": 68,
    "start_time": "2022-04-02T10:40:53.771Z"
   },
   {
    "duration": 29,
    "start_time": "2022-04-02T10:40:55.637Z"
   },
   {
    "duration": 23,
    "start_time": "2022-04-02T10:40:59.250Z"
   },
   {
    "duration": 50,
    "start_time": "2022-04-02T10:41:00.765Z"
   },
   {
    "duration": 14,
    "start_time": "2022-04-02T10:41:03.382Z"
   },
   {
    "duration": 35,
    "start_time": "2022-04-02T10:41:04.411Z"
   },
   {
    "duration": 6,
    "start_time": "2022-04-02T10:41:05.808Z"
   },
   {
    "duration": 4,
    "start_time": "2022-04-02T10:41:09.289Z"
   },
   {
    "duration": 31,
    "start_time": "2022-04-02T10:41:11.323Z"
   },
   {
    "duration": 62,
    "start_time": "2022-04-02T10:41:13.622Z"
   },
   {
    "duration": 39,
    "start_time": "2022-04-02T10:44:48.726Z"
   },
   {
    "duration": 38,
    "start_time": "2022-04-02T10:45:14.576Z"
   },
   {
    "duration": 34,
    "start_time": "2022-04-02T10:45:28.102Z"
   },
   {
    "duration": 33,
    "start_time": "2022-04-02T10:46:47.055Z"
   },
   {
    "duration": 26,
    "start_time": "2022-04-02T10:46:53.666Z"
   },
   {
    "duration": 33,
    "start_time": "2022-04-02T10:47:13.939Z"
   },
   {
    "duration": 35,
    "start_time": "2022-04-02T10:47:26.362Z"
   },
   {
    "duration": 33,
    "start_time": "2022-04-02T10:47:40.831Z"
   },
   {
    "duration": 30,
    "start_time": "2022-04-02T10:48:45.777Z"
   },
   {
    "duration": 43,
    "start_time": "2022-04-02T10:49:26.264Z"
   },
   {
    "duration": 19,
    "start_time": "2022-04-02T10:50:23.819Z"
   },
   {
    "duration": 9,
    "start_time": "2022-04-02T10:50:33.304Z"
   },
   {
    "duration": 12,
    "start_time": "2022-04-02T10:50:42.545Z"
   },
   {
    "duration": 11,
    "start_time": "2022-04-02T10:51:07.864Z"
   },
   {
    "duration": 68,
    "start_time": "2022-04-02T11:30:10.736Z"
   },
   {
    "duration": 10,
    "start_time": "2022-04-02T11:32:40.714Z"
   },
   {
    "duration": 13,
    "start_time": "2022-04-02T11:32:53.900Z"
   },
   {
    "duration": 100,
    "start_time": "2022-04-02T11:44:12.895Z"
   },
   {
    "duration": 28,
    "start_time": "2022-04-02T11:44:19.853Z"
   },
   {
    "duration": 21,
    "start_time": "2022-04-02T11:45:04.088Z"
   },
   {
    "duration": 5,
    "start_time": "2022-04-02T11:45:57.271Z"
   },
   {
    "duration": 16,
    "start_time": "2022-04-02T11:46:02.995Z"
   },
   {
    "duration": 14,
    "start_time": "2022-04-02T11:47:01.391Z"
   },
   {
    "duration": 48,
    "start_time": "2022-04-02T11:47:13.092Z"
   },
   {
    "duration": 24,
    "start_time": "2022-04-02T11:48:17.681Z"
   },
   {
    "duration": 25,
    "start_time": "2022-04-02T11:48:47.040Z"
   },
   {
    "duration": 474,
    "start_time": "2022-04-02T11:49:36.878Z"
   },
   {
    "duration": 67,
    "start_time": "2022-04-02T11:49:37.358Z"
   },
   {
    "duration": 29,
    "start_time": "2022-04-02T11:49:38.168Z"
   },
   {
    "duration": 22,
    "start_time": "2022-04-02T11:49:38.706Z"
   },
   {
    "duration": 43,
    "start_time": "2022-04-02T11:49:39.315Z"
   },
   {
    "duration": 2008,
    "start_time": "2022-04-02T11:52:29.199Z"
   },
   {
    "duration": 4,
    "start_time": "2022-04-02T11:52:45.743Z"
   },
   {
    "duration": 65,
    "start_time": "2022-04-02T11:52:47.017Z"
   },
   {
    "duration": 17,
    "start_time": "2022-04-02T11:52:48.722Z"
   },
   {
    "duration": 23,
    "start_time": "2022-04-02T11:52:49.358Z"
   },
   {
    "duration": 43,
    "start_time": "2022-04-02T11:52:50.471Z"
   },
   {
    "duration": 35,
    "start_time": "2022-04-02T11:52:54.959Z"
   },
   {
    "duration": 6,
    "start_time": "2022-04-02T11:53:01.743Z"
   },
   {
    "duration": 5,
    "start_time": "2022-04-02T11:53:08.657Z"
   },
   {
    "duration": 5,
    "start_time": "2022-04-02T11:53:12.941Z"
   },
   {
    "duration": 48,
    "start_time": "2022-04-02T11:53:18.672Z"
   },
   {
    "duration": 40,
    "start_time": "2022-04-02T11:53:22.143Z"
   },
   {
    "duration": 12,
    "start_time": "2022-04-02T11:53:26.777Z"
   },
   {
    "duration": 46,
    "start_time": "2022-04-02T11:53:35.520Z"
   },
   {
    "duration": 13,
    "start_time": "2022-04-02T11:53:40.282Z"
   },
   {
    "duration": 45,
    "start_time": "2022-04-02T11:53:45.207Z"
   },
   {
    "duration": 13,
    "start_time": "2022-04-02T11:55:39.094Z"
   },
   {
    "duration": 603,
    "start_time": "2022-04-02T11:56:38.969Z"
   },
   {
    "duration": 71,
    "start_time": "2022-04-02T11:56:39.574Z"
   },
   {
    "duration": 34,
    "start_time": "2022-04-02T11:56:39.648Z"
   },
   {
    "duration": 23,
    "start_time": "2022-04-02T11:56:39.685Z"
   },
   {
    "duration": 46,
    "start_time": "2022-04-02T11:56:40.168Z"
   },
   {
    "duration": 37,
    "start_time": "2022-04-02T11:56:42.443Z"
   },
   {
    "duration": 6,
    "start_time": "2022-04-02T11:56:44.101Z"
   },
   {
    "duration": 5,
    "start_time": "2022-04-02T11:56:46.955Z"
   },
   {
    "duration": 73,
    "start_time": "2022-04-02T11:56:48.188Z"
   },
   {
    "duration": 49,
    "start_time": "2022-04-02T11:56:49.565Z"
   },
   {
    "duration": 27,
    "start_time": "2022-04-02T11:56:51.109Z"
   },
   {
    "duration": 10,
    "start_time": "2022-04-02T11:56:53.342Z"
   },
   {
    "duration": 46,
    "start_time": "2022-04-02T11:56:56.275Z"
   },
   {
    "duration": 15,
    "start_time": "2022-04-02T11:56:58.115Z"
   },
   {
    "duration": 47,
    "start_time": "2022-04-02T11:56:59.664Z"
   },
   {
    "duration": 464,
    "start_time": "2022-04-02T11:58:12.799Z"
   },
   {
    "duration": 69,
    "start_time": "2022-04-02T11:58:13.265Z"
   },
   {
    "duration": 28,
    "start_time": "2022-04-02T11:58:14.364Z"
   },
   {
    "duration": 25,
    "start_time": "2022-04-02T11:58:14.896Z"
   },
   {
    "duration": 43,
    "start_time": "2022-04-02T11:58:15.446Z"
   },
   {
    "duration": 40,
    "start_time": "2022-04-02T11:58:18.929Z"
   },
   {
    "duration": 8,
    "start_time": "2022-04-02T11:58:20.528Z"
   },
   {
    "duration": 5,
    "start_time": "2022-04-02T11:58:23.080Z"
   },
   {
    "duration": 8,
    "start_time": "2022-04-02T11:58:23.842Z"
   },
   {
    "duration": 47,
    "start_time": "2022-04-02T11:58:24.437Z"
   },
   {
    "duration": 27,
    "start_time": "2022-04-02T11:58:27.017Z"
   },
   {
    "duration": 10,
    "start_time": "2022-04-02T11:58:29.095Z"
   },
   {
    "duration": 10,
    "start_time": "2022-04-02T11:58:55.080Z"
   },
   {
    "duration": 46,
    "start_time": "2022-04-02T11:58:57.064Z"
   },
   {
    "duration": 10,
    "start_time": "2022-04-02T12:00:33.577Z"
   },
   {
    "duration": 49,
    "start_time": "2022-04-02T12:00:34.652Z"
   },
   {
    "duration": 13,
    "start_time": "2022-04-02T12:00:39.811Z"
   },
   {
    "duration": 59,
    "start_time": "2022-04-02T12:00:40.904Z"
   },
   {
    "duration": 11,
    "start_time": "2022-04-02T12:00:47.070Z"
   },
   {
    "duration": 6,
    "start_time": "2022-04-02T12:01:10.894Z"
   },
   {
    "duration": 48,
    "start_time": "2022-04-02T12:01:12.089Z"
   },
   {
    "duration": 29,
    "start_time": "2022-04-02T12:01:15.308Z"
   },
   {
    "duration": 10,
    "start_time": "2022-04-02T12:01:16.963Z"
   },
   {
    "duration": 47,
    "start_time": "2022-04-02T12:01:18.550Z"
   },
   {
    "duration": 10,
    "start_time": "2022-04-02T12:01:22.400Z"
   },
   {
    "duration": 44,
    "start_time": "2022-04-02T12:01:23.198Z"
   },
   {
    "duration": 9,
    "start_time": "2022-04-02T12:03:48.907Z"
   },
   {
    "duration": 20,
    "start_time": "2022-04-02T12:04:00.255Z"
   },
   {
    "duration": 6,
    "start_time": "2022-04-02T12:10:39.138Z"
   },
   {
    "duration": 46,
    "start_time": "2022-04-02T12:10:50.253Z"
   },
   {
    "duration": 12,
    "start_time": "2022-04-02T12:12:26.386Z"
   },
   {
    "duration": 49,
    "start_time": "2022-04-02T12:12:27.544Z"
   },
   {
    "duration": 495,
    "start_time": "2022-04-02T12:12:49.246Z"
   },
   {
    "duration": 67,
    "start_time": "2022-04-02T12:12:49.761Z"
   },
   {
    "duration": 29,
    "start_time": "2022-04-02T12:12:51.056Z"
   },
   {
    "duration": 22,
    "start_time": "2022-04-02T12:12:51.748Z"
   },
   {
    "duration": 42,
    "start_time": "2022-04-02T12:12:52.520Z"
   },
   {
    "duration": 37,
    "start_time": "2022-04-02T12:12:55.809Z"
   },
   {
    "duration": 6,
    "start_time": "2022-04-02T12:12:57.133Z"
   },
   {
    "duration": 5,
    "start_time": "2022-04-02T12:13:03.194Z"
   },
   {
    "duration": 9,
    "start_time": "2022-04-02T12:13:06.139Z"
   },
   {
    "duration": 49,
    "start_time": "2022-04-02T12:13:08.020Z"
   },
   {
    "duration": 29,
    "start_time": "2022-04-02T12:13:11.268Z"
   },
   {
    "duration": 11,
    "start_time": "2022-04-02T12:13:14.472Z"
   },
   {
    "duration": 46,
    "start_time": "2022-04-02T12:13:18.263Z"
   },
   {
    "duration": 13,
    "start_time": "2022-04-02T12:13:22.583Z"
   },
   {
    "duration": 51,
    "start_time": "2022-04-02T12:13:24.264Z"
   },
   {
    "duration": 7,
    "start_time": "2022-04-02T12:14:00.151Z"
   },
   {
    "duration": 55,
    "start_time": "2022-04-02T12:14:00.849Z"
   },
   {
    "duration": 7,
    "start_time": "2022-04-02T12:18:28.945Z"
   },
   {
    "duration": 5,
    "start_time": "2022-04-02T12:18:30.463Z"
   },
   {
    "duration": 13,
    "start_time": "2022-04-02T12:18:32.750Z"
   },
   {
    "duration": 462,
    "start_time": "2022-04-02T12:19:15.286Z"
   },
   {
    "duration": 68,
    "start_time": "2022-04-02T12:19:15.751Z"
   },
   {
    "duration": 27,
    "start_time": "2022-04-02T12:19:16.673Z"
   },
   {
    "duration": 21,
    "start_time": "2022-04-02T12:19:17.205Z"
   },
   {
    "duration": 44,
    "start_time": "2022-04-02T12:19:17.744Z"
   },
   {
    "duration": 36,
    "start_time": "2022-04-02T12:19:19.970Z"
   },
   {
    "duration": 7,
    "start_time": "2022-04-02T12:19:21.157Z"
   },
   {
    "duration": 5,
    "start_time": "2022-04-02T12:19:24.443Z"
   },
   {
    "duration": 10,
    "start_time": "2022-04-02T12:19:25.502Z"
   },
   {
    "duration": 48,
    "start_time": "2022-04-02T12:19:27.158Z"
   },
   {
    "duration": 27,
    "start_time": "2022-04-02T12:19:32.131Z"
   },
   {
    "duration": 10,
    "start_time": "2022-04-02T12:19:33.829Z"
   },
   {
    "duration": 45,
    "start_time": "2022-04-02T12:19:35.192Z"
   },
   {
    "duration": 11,
    "start_time": "2022-04-02T12:19:36.515Z"
   },
   {
    "duration": 51,
    "start_time": "2022-04-02T12:19:38.364Z"
   },
   {
    "duration": 35,
    "start_time": "2022-04-02T12:19:41.551Z"
   },
   {
    "duration": 6,
    "start_time": "2022-04-02T12:19:43.578Z"
   },
   {
    "duration": 49,
    "start_time": "2022-04-02T12:19:44.443Z"
   },
   {
    "duration": 14,
    "start_time": "2022-04-02T12:20:01.061Z"
   },
   {
    "duration": 57,
    "start_time": "2022-04-02T12:20:17.775Z"
   },
   {
    "duration": 55,
    "start_time": "2022-04-02T12:21:31.379Z"
   },
   {
    "duration": 42,
    "start_time": "2022-04-02T12:33:59.445Z"
   },
   {
    "duration": 60,
    "start_time": "2022-04-02T12:34:25.032Z"
   },
   {
    "duration": 546,
    "start_time": "2022-04-02T12:37:28.042Z"
   },
   {
    "duration": 78,
    "start_time": "2022-04-02T12:37:28.961Z"
   },
   {
    "duration": 35,
    "start_time": "2022-04-02T12:37:30.450Z"
   },
   {
    "duration": 21,
    "start_time": "2022-04-02T12:37:31.102Z"
   },
   {
    "duration": 43,
    "start_time": "2022-04-02T12:37:31.811Z"
   },
   {
    "duration": 38,
    "start_time": "2022-04-02T12:37:34.026Z"
   },
   {
    "duration": 6,
    "start_time": "2022-04-02T12:37:35.579Z"
   },
   {
    "duration": 5,
    "start_time": "2022-04-02T12:37:38.339Z"
   },
   {
    "duration": 9,
    "start_time": "2022-04-02T12:37:39.286Z"
   },
   {
    "duration": 50,
    "start_time": "2022-04-02T12:37:40.762Z"
   },
   {
    "duration": 28,
    "start_time": "2022-04-02T12:37:42.638Z"
   },
   {
    "duration": 10,
    "start_time": "2022-04-02T12:37:45.653Z"
   },
   {
    "duration": 47,
    "start_time": "2022-04-02T12:37:47.632Z"
   },
   {
    "duration": 12,
    "start_time": "2022-04-02T12:37:49.181Z"
   },
   {
    "duration": 49,
    "start_time": "2022-04-02T12:37:51.578Z"
   },
   {
    "duration": 444,
    "start_time": "2022-04-02T12:38:11.808Z"
   },
   {
    "duration": 68,
    "start_time": "2022-04-02T12:38:12.254Z"
   },
   {
    "duration": 28,
    "start_time": "2022-04-02T12:38:12.820Z"
   },
   {
    "duration": 22,
    "start_time": "2022-04-02T12:38:13.319Z"
   },
   {
    "duration": 45,
    "start_time": "2022-04-02T12:38:13.647Z"
   },
   {
    "duration": 36,
    "start_time": "2022-04-02T12:38:16.289Z"
   },
   {
    "duration": 6,
    "start_time": "2022-04-02T12:38:17.937Z"
   },
   {
    "duration": 5,
    "start_time": "2022-04-02T12:38:19.977Z"
   },
   {
    "duration": 10,
    "start_time": "2022-04-02T12:38:20.664Z"
   },
   {
    "duration": 51,
    "start_time": "2022-04-02T12:38:21.676Z"
   },
   {
    "duration": 28,
    "start_time": "2022-04-02T12:38:22.747Z"
   },
   {
    "duration": 10,
    "start_time": "2022-04-02T12:38:24.590Z"
   },
   {
    "duration": 45,
    "start_time": "2022-04-02T12:38:26.920Z"
   },
   {
    "duration": 12,
    "start_time": "2022-04-02T12:38:28.781Z"
   },
   {
    "duration": 44,
    "start_time": "2022-04-02T12:38:31.489Z"
   },
   {
    "duration": 34,
    "start_time": "2022-04-02T12:38:41.191Z"
   },
   {
    "duration": 7,
    "start_time": "2022-04-02T12:38:43.739Z"
   },
   {
    "duration": 47,
    "start_time": "2022-04-02T12:38:44.890Z"
   },
   {
    "duration": 48,
    "start_time": "2022-04-02T12:38:47.439Z"
   },
   {
    "duration": 21,
    "start_time": "2022-04-02T12:46:21.231Z"
   },
   {
    "duration": 15,
    "start_time": "2022-04-02T12:46:41.595Z"
   },
   {
    "duration": 14,
    "start_time": "2022-04-02T12:47:10.285Z"
   },
   {
    "duration": 7,
    "start_time": "2022-04-02T12:49:04.306Z"
   },
   {
    "duration": 7,
    "start_time": "2022-04-02T12:49:13.097Z"
   },
   {
    "duration": 109,
    "start_time": "2022-04-02T12:49:23.195Z"
   },
   {
    "duration": 91,
    "start_time": "2022-04-02T12:49:30.623Z"
   },
   {
    "duration": 7,
    "start_time": "2022-04-02T12:49:34.472Z"
   },
   {
    "duration": 25,
    "start_time": "2022-04-02T12:49:45.273Z"
   },
   {
    "duration": 8,
    "start_time": "2022-04-02T12:51:18.806Z"
   },
   {
    "duration": 35,
    "start_time": "2022-04-02T12:52:16.444Z"
   },
   {
    "duration": 34,
    "start_time": "2022-04-02T12:52:43.849Z"
   },
   {
    "duration": 38,
    "start_time": "2022-04-02T12:53:06.520Z"
   },
   {
    "duration": 35,
    "start_time": "2022-04-02T12:53:14.041Z"
   },
   {
    "duration": 35,
    "start_time": "2022-04-02T12:53:25.580Z"
   },
   {
    "duration": 20,
    "start_time": "2022-04-02T12:53:33.595Z"
   },
   {
    "duration": 14,
    "start_time": "2022-04-02T12:55:49.913Z"
   },
   {
    "duration": 18,
    "start_time": "2022-04-02T12:59:00.973Z"
   },
   {
    "duration": 49,
    "start_time": "2022-04-02T12:59:14.173Z"
   },
   {
    "duration": 11,
    "start_time": "2022-04-02T13:07:38.718Z"
   },
   {
    "duration": 54,
    "start_time": "2022-04-02T13:08:00.695Z"
   },
   {
    "duration": 22,
    "start_time": "2022-04-02T13:12:12.608Z"
   },
   {
    "duration": 48,
    "start_time": "2022-04-02T13:12:13.136Z"
   },
   {
    "duration": 488,
    "start_time": "2022-04-02T13:13:02.271Z"
   },
   {
    "duration": 78,
    "start_time": "2022-04-02T13:13:03.143Z"
   },
   {
    "duration": 26,
    "start_time": "2022-04-02T13:13:06.331Z"
   },
   {
    "duration": 20,
    "start_time": "2022-04-02T13:13:07.879Z"
   },
   {
    "duration": 43,
    "start_time": "2022-04-02T13:13:09.241Z"
   },
   {
    "duration": 36,
    "start_time": "2022-04-02T13:13:39.559Z"
   },
   {
    "duration": 6,
    "start_time": "2022-04-02T13:13:54.848Z"
   },
   {
    "duration": 5,
    "start_time": "2022-04-02T13:14:07.112Z"
   },
   {
    "duration": 9,
    "start_time": "2022-04-02T13:14:09.970Z"
   },
   {
    "duration": 49,
    "start_time": "2022-04-02T13:14:11.179Z"
   },
   {
    "duration": 26,
    "start_time": "2022-04-02T13:14:16.154Z"
   },
   {
    "duration": 10,
    "start_time": "2022-04-02T13:14:20.281Z"
   },
   {
    "duration": 47,
    "start_time": "2022-04-02T13:14:31.183Z"
   },
   {
    "duration": 10,
    "start_time": "2022-04-02T13:14:37.268Z"
   },
   {
    "duration": 45,
    "start_time": "2022-04-02T13:14:40.846Z"
   },
   {
    "duration": 33,
    "start_time": "2022-04-02T13:15:02.333Z"
   },
   {
    "duration": 4,
    "start_time": "2022-04-02T13:16:02.499Z"
   },
   {
    "duration": 54,
    "start_time": "2022-04-02T13:16:17.467Z"
   },
   {
    "duration": 486,
    "start_time": "2022-04-02T13:20:49.486Z"
   },
   {
    "duration": 67,
    "start_time": "2022-04-02T13:20:49.986Z"
   },
   {
    "duration": 35,
    "start_time": "2022-04-02T13:20:51.549Z"
   },
   {
    "duration": 23,
    "start_time": "2022-04-02T13:20:52.966Z"
   },
   {
    "duration": 46,
    "start_time": "2022-04-02T13:20:53.809Z"
   },
   {
    "duration": 37,
    "start_time": "2022-04-02T13:20:57.651Z"
   },
   {
    "duration": 6,
    "start_time": "2022-04-02T13:21:00.963Z"
   },
   {
    "duration": 5,
    "start_time": "2022-04-02T13:21:09.282Z"
   },
   {
    "duration": 38,
    "start_time": "2022-04-02T13:21:39.357Z"
   },
   {
    "duration": 9,
    "start_time": "2022-04-02T13:21:53.736Z"
   },
   {
    "duration": 45,
    "start_time": "2022-04-02T13:21:55.061Z"
   },
   {
    "duration": 503,
    "start_time": "2022-04-02T13:22:29.160Z"
   },
   {
    "duration": 75,
    "start_time": "2022-04-02T13:22:29.668Z"
   },
   {
    "duration": 27,
    "start_time": "2022-04-02T13:22:29.934Z"
   },
   {
    "duration": 22,
    "start_time": "2022-04-02T13:22:30.562Z"
   },
   {
    "duration": 45,
    "start_time": "2022-04-02T13:22:31.296Z"
   },
   {
    "duration": 38,
    "start_time": "2022-04-02T13:22:34.229Z"
   },
   {
    "duration": 7,
    "start_time": "2022-04-02T13:22:35.877Z"
   },
   {
    "duration": 4,
    "start_time": "2022-04-02T13:22:39.775Z"
   },
   {
    "duration": 12,
    "start_time": "2022-04-02T13:22:41.748Z"
   },
   {
    "duration": 45,
    "start_time": "2022-04-02T13:22:43.466Z"
   },
   {
    "duration": 28,
    "start_time": "2022-04-02T13:23:01.417Z"
   },
   {
    "duration": 11,
    "start_time": "2022-04-02T13:23:09.530Z"
   },
   {
    "duration": 42,
    "start_time": "2022-04-02T13:23:23.919Z"
   },
   {
    "duration": 11,
    "start_time": "2022-04-02T13:23:40.245Z"
   },
   {
    "duration": 42,
    "start_time": "2022-04-02T13:23:43.186Z"
   },
   {
    "duration": 20,
    "start_time": "2022-04-02T13:24:06.690Z"
   },
   {
    "duration": 1782,
    "start_time": "2022-04-02T13:24:10.425Z"
   },
   {
    "duration": 6,
    "start_time": "2022-04-02T13:24:29.597Z"
   },
   {
    "duration": 43,
    "start_time": "2022-04-02T13:24:31.220Z"
   },
   {
    "duration": 42,
    "start_time": "2022-04-02T13:24:39.297Z"
   },
   {
    "duration": 22,
    "start_time": "2022-04-02T13:26:55.579Z"
   },
   {
    "duration": 45,
    "start_time": "2022-04-02T13:26:58.241Z"
   },
   {
    "duration": 21,
    "start_time": "2022-04-02T13:27:34.938Z"
   },
   {
    "duration": 516,
    "start_time": "2022-04-02T13:27:46.531Z"
   },
   {
    "duration": 71,
    "start_time": "2022-04-02T13:27:47.050Z"
   },
   {
    "duration": 28,
    "start_time": "2022-04-02T13:27:47.291Z"
   },
   {
    "duration": 22,
    "start_time": "2022-04-02T13:27:47.472Z"
   },
   {
    "duration": 44,
    "start_time": "2022-04-02T13:27:47.774Z"
   },
   {
    "duration": 36,
    "start_time": "2022-04-02T13:27:48.694Z"
   },
   {
    "duration": 7,
    "start_time": "2022-04-02T13:27:49.622Z"
   },
   {
    "duration": 5,
    "start_time": "2022-04-02T13:27:50.631Z"
   },
   {
    "duration": 11,
    "start_time": "2022-04-02T13:27:51.393Z"
   },
   {
    "duration": 45,
    "start_time": "2022-04-02T13:27:51.746Z"
   },
   {
    "duration": 28,
    "start_time": "2022-04-02T13:27:53.115Z"
   },
   {
    "duration": 11,
    "start_time": "2022-04-02T13:27:54.630Z"
   },
   {
    "duration": 40,
    "start_time": "2022-04-02T13:27:56.010Z"
   },
   {
    "duration": 11,
    "start_time": "2022-04-02T13:27:58.958Z"
   },
   {
    "duration": 42,
    "start_time": "2022-04-02T13:27:59.878Z"
   },
   {
    "duration": 18,
    "start_time": "2022-04-02T13:28:01.034Z"
   },
   {
    "duration": 7,
    "start_time": "2022-04-02T13:28:02.229Z"
   },
   {
    "duration": 45,
    "start_time": "2022-04-02T13:28:03.211Z"
   },
   {
    "duration": 50,
    "start_time": "2022-04-02T13:28:06.565Z"
   },
   {
    "duration": 21,
    "start_time": "2022-04-02T13:28:09.734Z"
   },
   {
    "duration": 42,
    "start_time": "2022-04-02T13:28:11.037Z"
   },
   {
    "duration": 94,
    "start_time": "2022-04-02T13:34:57.466Z"
   },
   {
    "duration": 107,
    "start_time": "2022-04-02T13:35:03.193Z"
   },
   {
    "duration": 9,
    "start_time": "2022-04-02T13:35:16.784Z"
   },
   {
    "duration": 102,
    "start_time": "2022-04-02T13:39:46.899Z"
   },
   {
    "duration": 19,
    "start_time": "2022-04-02T13:42:00.666Z"
   },
   {
    "duration": 20,
    "start_time": "2022-04-02T13:42:17.851Z"
   },
   {
    "duration": 12,
    "start_time": "2022-04-02T13:42:35.863Z"
   },
   {
    "duration": 10,
    "start_time": "2022-04-02T13:42:44.824Z"
   },
   {
    "duration": 12,
    "start_time": "2022-04-02T13:43:04.268Z"
   },
   {
    "duration": 47,
    "start_time": "2022-04-02T13:43:40.155Z"
   },
   {
    "duration": 477,
    "start_time": "2022-04-02T13:54:34.204Z"
   },
   {
    "duration": 69,
    "start_time": "2022-04-02T13:54:34.683Z"
   },
   {
    "duration": 36,
    "start_time": "2022-04-02T13:54:35.262Z"
   },
   {
    "duration": 23,
    "start_time": "2022-04-02T13:54:35.456Z"
   },
   {
    "duration": 58,
    "start_time": "2022-04-02T13:54:35.777Z"
   },
   {
    "duration": 47,
    "start_time": "2022-04-02T13:54:39.377Z"
   },
   {
    "duration": 7,
    "start_time": "2022-04-02T13:54:45.914Z"
   },
   {
    "duration": 6,
    "start_time": "2022-04-02T13:54:48.212Z"
   },
   {
    "duration": 17,
    "start_time": "2022-04-02T13:54:48.775Z"
   },
   {
    "duration": 45,
    "start_time": "2022-04-02T13:54:49.247Z"
   },
   {
    "duration": 27,
    "start_time": "2022-04-02T13:54:50.034Z"
   },
   {
    "duration": 10,
    "start_time": "2022-04-02T13:54:50.753Z"
   },
   {
    "duration": 43,
    "start_time": "2022-04-02T13:54:51.758Z"
   },
   {
    "duration": 11,
    "start_time": "2022-04-02T13:54:52.830Z"
   },
   {
    "duration": 43,
    "start_time": "2022-04-02T13:54:53.726Z"
   },
   {
    "duration": 18,
    "start_time": "2022-04-02T13:54:54.812Z"
   },
   {
    "duration": 6,
    "start_time": "2022-04-02T13:54:56.148Z"
   },
   {
    "duration": 41,
    "start_time": "2022-04-02T13:54:57.111Z"
   },
   {
    "duration": 56,
    "start_time": "2022-04-02T13:54:58.682Z"
   },
   {
    "duration": 27,
    "start_time": "2022-04-02T13:55:01.846Z"
   },
   {
    "duration": 62,
    "start_time": "2022-04-02T13:55:03.297Z"
   },
   {
    "duration": 10,
    "start_time": "2022-04-02T13:55:34.003Z"
   },
   {
    "duration": 10,
    "start_time": "2022-04-02T13:55:59.488Z"
   },
   {
    "duration": 46,
    "start_time": "2022-04-02T13:56:06.764Z"
   },
   {
    "duration": 19,
    "start_time": "2022-04-02T13:57:15.691Z"
   },
   {
    "duration": 44,
    "start_time": "2022-04-02T13:57:16.308Z"
   },
   {
    "duration": 12,
    "start_time": "2022-04-02T13:57:52.653Z"
   },
   {
    "duration": 18,
    "start_time": "2022-04-02T14:03:40.442Z"
   },
   {
    "duration": 33,
    "start_time": "2022-04-02T14:06:27.730Z"
   },
   {
    "duration": 40,
    "start_time": "2022-04-02T14:06:59.035Z"
   },
   {
    "duration": 53,
    "start_time": "2022-04-02T14:10:17.822Z"
   },
   {
    "duration": 8,
    "start_time": "2022-04-02T14:13:21.031Z"
   },
   {
    "duration": 42,
    "start_time": "2022-04-02T14:13:42.388Z"
   },
   {
    "duration": 6,
    "start_time": "2022-04-02T14:15:31.203Z"
   },
   {
    "duration": 49,
    "start_time": "2022-04-02T14:15:35.056Z"
   },
   {
    "duration": 41,
    "start_time": "2022-04-02T14:16:24.485Z"
   },
   {
    "duration": 41,
    "start_time": "2022-04-02T14:19:12.786Z"
   },
   {
    "duration": 101,
    "start_time": "2022-04-02T14:19:39.160Z"
   },
   {
    "duration": 19,
    "start_time": "2022-04-02T14:26:48.502Z"
   },
   {
    "duration": 51,
    "start_time": "2022-04-02T14:26:56.427Z"
   },
   {
    "duration": 469,
    "start_time": "2022-04-02T14:27:26.093Z"
   },
   {
    "duration": 73,
    "start_time": "2022-04-02T14:27:26.568Z"
   },
   {
    "duration": 27,
    "start_time": "2022-04-02T14:27:27.643Z"
   },
   {
    "duration": 22,
    "start_time": "2022-04-02T14:27:28.005Z"
   },
   {
    "duration": 43,
    "start_time": "2022-04-02T14:27:28.395Z"
   },
   {
    "duration": 36,
    "start_time": "2022-04-02T14:27:30.478Z"
   },
   {
    "duration": 6,
    "start_time": "2022-04-02T14:27:31.722Z"
   },
   {
    "duration": 5,
    "start_time": "2022-04-02T14:27:34.217Z"
   },
   {
    "duration": 13,
    "start_time": "2022-04-02T14:27:34.982Z"
   },
   {
    "duration": 45,
    "start_time": "2022-04-02T14:27:35.736Z"
   },
   {
    "duration": 28,
    "start_time": "2022-04-02T14:27:38.018Z"
   },
   {
    "duration": 10,
    "start_time": "2022-04-02T14:27:38.867Z"
   },
   {
    "duration": 39,
    "start_time": "2022-04-02T14:27:39.782Z"
   },
   {
    "duration": 10,
    "start_time": "2022-04-02T14:27:40.659Z"
   },
   {
    "duration": 40,
    "start_time": "2022-04-02T14:27:41.784Z"
   },
   {
    "duration": 17,
    "start_time": "2022-04-02T14:27:42.720Z"
   },
   {
    "duration": 7,
    "start_time": "2022-04-02T14:27:43.618Z"
   },
   {
    "duration": 40,
    "start_time": "2022-04-02T14:27:44.115Z"
   },
   {
    "duration": 68,
    "start_time": "2022-04-02T14:27:45.301Z"
   },
   {
    "duration": 20,
    "start_time": "2022-04-02T14:27:47.343Z"
   },
   {
    "duration": 44,
    "start_time": "2022-04-02T14:27:48.405Z"
   },
   {
    "duration": 19,
    "start_time": "2022-04-02T14:27:50.599Z"
   },
   {
    "duration": 14,
    "start_time": "2022-04-02T14:27:51.179Z"
   },
   {
    "duration": 17,
    "start_time": "2022-04-02T14:27:56.621Z"
   },
   {
    "duration": 8,
    "start_time": "2022-04-02T14:28:00.596Z"
   },
   {
    "duration": 5,
    "start_time": "2022-04-02T14:28:01.800Z"
   },
   {
    "duration": 40,
    "start_time": "2022-04-02T14:28:07.601Z"
   },
   {
    "duration": 20,
    "start_time": "2022-04-02T14:28:15.788Z"
   },
   {
    "duration": 43,
    "start_time": "2022-04-02T14:28:16.840Z"
   },
   {
    "duration": 43,
    "start_time": "2022-04-02T14:28:24.361Z"
   },
   {
    "duration": 7,
    "start_time": "2022-04-02T14:34:42.216Z"
   },
   {
    "duration": 42,
    "start_time": "2022-04-02T14:34:43.493Z"
   },
   {
    "duration": 109,
    "start_time": "2022-04-02T14:38:38.854Z"
   },
   {
    "duration": 23,
    "start_time": "2022-04-02T14:43:31.204Z"
   },
   {
    "duration": 25,
    "start_time": "2022-04-02T14:46:44.399Z"
   },
   {
    "duration": 7,
    "start_time": "2022-04-02T14:46:47.094Z"
   },
   {
    "duration": 7,
    "start_time": "2022-04-02T14:47:35.265Z"
   },
   {
    "duration": 14,
    "start_time": "2022-04-02T14:47:37.031Z"
   },
   {
    "duration": 8,
    "start_time": "2022-04-02T14:47:37.654Z"
   },
   {
    "duration": 17,
    "start_time": "2022-04-02T14:47:38.188Z"
   },
   {
    "duration": 7,
    "start_time": "2022-04-02T14:47:38.821Z"
   },
   {
    "duration": 8,
    "start_time": "2022-04-02T14:47:39.474Z"
   },
   {
    "duration": 8,
    "start_time": "2022-04-02T14:47:40.218Z"
   },
   {
    "duration": 31,
    "start_time": "2022-04-02T14:47:41.369Z"
   },
   {
    "duration": 30,
    "start_time": "2022-04-02T14:47:50.728Z"
   },
   {
    "duration": 635,
    "start_time": "2022-04-02T14:48:24.242Z"
   },
   {
    "duration": 102,
    "start_time": "2022-04-02T14:48:24.880Z"
   },
   {
    "duration": 37,
    "start_time": "2022-04-02T14:48:25.050Z"
   },
   {
    "duration": 29,
    "start_time": "2022-04-02T14:48:25.136Z"
   },
   {
    "duration": 45,
    "start_time": "2022-04-02T14:48:25.199Z"
   },
   {
    "duration": 40,
    "start_time": "2022-04-02T14:48:25.623Z"
   },
   {
    "duration": 7,
    "start_time": "2022-04-02T14:48:25.796Z"
   },
   {
    "duration": 5,
    "start_time": "2022-04-02T14:48:26.603Z"
   },
   {
    "duration": 12,
    "start_time": "2022-04-02T14:48:26.882Z"
   },
   {
    "duration": 44,
    "start_time": "2022-04-02T14:48:27.003Z"
   },
   {
    "duration": 33,
    "start_time": "2022-04-02T14:48:27.245Z"
   },
   {
    "duration": 13,
    "start_time": "2022-04-02T14:48:27.510Z"
   },
   {
    "duration": 57,
    "start_time": "2022-04-02T14:48:28.953Z"
   },
   {
    "duration": 14,
    "start_time": "2022-04-02T14:48:29.197Z"
   },
   {
    "duration": 55,
    "start_time": "2022-04-02T14:48:29.440Z"
   },
   {
    "duration": 22,
    "start_time": "2022-04-02T14:48:29.671Z"
   },
   {
    "duration": 8,
    "start_time": "2022-04-02T14:48:29.905Z"
   },
   {
    "duration": 55,
    "start_time": "2022-04-02T14:48:30.043Z"
   },
   {
    "duration": 60,
    "start_time": "2022-04-02T14:48:30.567Z"
   },
   {
    "duration": 26,
    "start_time": "2022-04-02T14:48:31.758Z"
   },
   {
    "duration": 60,
    "start_time": "2022-04-02T14:48:32.387Z"
   },
   {
    "duration": 25,
    "start_time": "2022-04-02T14:48:33.578Z"
   },
   {
    "duration": 13,
    "start_time": "2022-04-02T14:48:34.184Z"
   },
   {
    "duration": 17,
    "start_time": "2022-04-02T14:48:37.622Z"
   },
   {
    "duration": 6,
    "start_time": "2022-04-02T14:48:40.478Z"
   },
   {
    "duration": 5,
    "start_time": "2022-04-02T14:48:40.822Z"
   },
   {
    "duration": 40,
    "start_time": "2022-04-02T14:48:42.998Z"
   },
   {
    "duration": 18,
    "start_time": "2022-04-02T14:48:44.944Z"
   },
   {
    "duration": 41,
    "start_time": "2022-04-02T14:48:45.494Z"
   },
   {
    "duration": 40,
    "start_time": "2022-04-02T14:48:46.871Z"
   },
   {
    "duration": 8,
    "start_time": "2022-04-02T14:48:47.729Z"
   },
   {
    "duration": 41,
    "start_time": "2022-04-02T14:48:47.985Z"
   },
   {
    "duration": 21,
    "start_time": "2022-04-02T14:48:50.522Z"
   },
   {
    "duration": 29,
    "start_time": "2022-04-02T14:48:54.180Z"
   },
   {
    "duration": 7,
    "start_time": "2022-04-02T14:48:55.622Z"
   },
   {
    "duration": 17,
    "start_time": "2022-04-02T14:48:56.849Z"
   },
   {
    "duration": 8,
    "start_time": "2022-04-02T14:48:57.744Z"
   },
   {
    "duration": 17,
    "start_time": "2022-04-02T14:49:00.572Z"
   },
   {
    "duration": 7,
    "start_time": "2022-04-02T14:49:01.057Z"
   },
   {
    "duration": 8,
    "start_time": "2022-04-02T14:49:01.614Z"
   },
   {
    "duration": 10,
    "start_time": "2022-04-02T14:49:03.528Z"
   },
   {
    "duration": 33,
    "start_time": "2022-04-02T14:49:07.585Z"
   },
   {
    "duration": 27,
    "start_time": "2022-04-02T14:49:17.902Z"
   },
   {
    "duration": 29,
    "start_time": "2022-04-02T14:49:35.170Z"
   },
   {
    "duration": 11,
    "start_time": "2022-04-02T14:53:51.883Z"
   },
   {
    "duration": 10,
    "start_time": "2022-04-02T14:53:59.467Z"
   },
   {
    "duration": 17,
    "start_time": "2022-04-02T14:54:19.825Z"
   },
   {
    "duration": 10,
    "start_time": "2022-04-02T14:54:25.743Z"
   },
   {
    "duration": 139,
    "start_time": "2022-04-02T14:55:06.090Z"
   },
   {
    "duration": 5,
    "start_time": "2022-04-02T14:57:49.292Z"
   },
   {
    "duration": 16,
    "start_time": "2022-04-02T14:57:52.361Z"
   },
   {
    "duration": 30,
    "start_time": "2022-04-02T14:58:03.253Z"
   },
   {
    "duration": 30,
    "start_time": "2022-04-02T14:58:41.612Z"
   },
   {
    "duration": 15,
    "start_time": "2022-04-02T14:58:45.608Z"
   },
   {
    "duration": 97,
    "start_time": "2022-04-02T14:59:41.914Z"
   },
   {
    "duration": 110,
    "start_time": "2022-04-02T15:05:34.551Z"
   },
   {
    "duration": 19,
    "start_time": "2022-04-02T15:06:10.872Z"
   },
   {
    "duration": 15,
    "start_time": "2022-04-02T15:07:35.541Z"
   },
   {
    "duration": 13,
    "start_time": "2022-04-02T15:07:45.553Z"
   },
   {
    "duration": 5,
    "start_time": "2022-04-02T15:07:51.967Z"
   },
   {
    "duration": 41,
    "start_time": "2022-04-02T15:08:32.795Z"
   },
   {
    "duration": 39,
    "start_time": "2022-04-02T15:09:29.199Z"
   },
   {
    "duration": 523,
    "start_time": "2022-04-02T15:10:43.584Z"
   },
   {
    "duration": 71,
    "start_time": "2022-04-02T15:10:44.110Z"
   },
   {
    "duration": 28,
    "start_time": "2022-04-02T15:10:44.183Z"
   },
   {
    "duration": 23,
    "start_time": "2022-04-02T15:10:44.214Z"
   },
   {
    "duration": 67,
    "start_time": "2022-04-02T15:10:44.240Z"
   },
   {
    "duration": 35,
    "start_time": "2022-04-02T15:10:44.512Z"
   },
   {
    "duration": 7,
    "start_time": "2022-04-02T15:10:44.673Z"
   },
   {
    "duration": 6,
    "start_time": "2022-04-02T15:10:45.171Z"
   },
   {
    "duration": 15,
    "start_time": "2022-04-02T15:10:45.334Z"
   },
   {
    "duration": 66,
    "start_time": "2022-04-02T15:10:45.637Z"
   },
   {
    "duration": 39,
    "start_time": "2022-04-02T15:10:46.378Z"
   },
   {
    "duration": 13,
    "start_time": "2022-04-02T15:10:46.420Z"
   },
   {
    "duration": 63,
    "start_time": "2022-04-02T15:10:46.566Z"
   },
   {
    "duration": 14,
    "start_time": "2022-04-02T15:10:46.727Z"
   },
   {
    "duration": 62,
    "start_time": "2022-04-02T15:10:46.905Z"
   },
   {
    "duration": 26,
    "start_time": "2022-04-02T15:10:47.063Z"
   },
   {
    "duration": 8,
    "start_time": "2022-04-02T15:10:47.244Z"
   },
   {
    "duration": 46,
    "start_time": "2022-04-02T15:10:47.321Z"
   },
   {
    "duration": 45,
    "start_time": "2022-04-02T15:10:47.497Z"
   },
   {
    "duration": 21,
    "start_time": "2022-04-02T15:10:47.935Z"
   },
   {
    "duration": 66,
    "start_time": "2022-04-02T15:10:48.518Z"
   },
   {
    "duration": 22,
    "start_time": "2022-04-02T15:10:49.116Z"
   },
   {
    "duration": 16,
    "start_time": "2022-04-02T15:10:49.181Z"
   },
   {
    "duration": 27,
    "start_time": "2022-04-02T15:10:49.601Z"
   },
   {
    "duration": 6,
    "start_time": "2022-04-02T15:10:52.546Z"
   },
   {
    "duration": 5,
    "start_time": "2022-04-02T15:10:52.630Z"
   },
   {
    "duration": 42,
    "start_time": "2022-04-02T15:10:52.974Z"
   },
   {
    "duration": 19,
    "start_time": "2022-04-02T15:10:53.152Z"
   },
   {
    "duration": 46,
    "start_time": "2022-04-02T15:10:53.214Z"
   },
   {
    "duration": 42,
    "start_time": "2022-04-02T15:10:53.398Z"
   },
   {
    "duration": 7,
    "start_time": "2022-04-02T15:10:53.554Z"
   },
   {
    "duration": 43,
    "start_time": "2022-04-02T15:10:53.986Z"
   },
   {
    "duration": 23,
    "start_time": "2022-04-02T15:10:54.740Z"
   },
   {
    "duration": 25,
    "start_time": "2022-04-02T15:10:56.661Z"
   },
   {
    "duration": 8,
    "start_time": "2022-04-02T15:10:56.913Z"
   },
   {
    "duration": 15,
    "start_time": "2022-04-02T15:10:57.937Z"
   },
   {
    "duration": 8,
    "start_time": "2022-04-02T15:10:58.161Z"
   },
   {
    "duration": 17,
    "start_time": "2022-04-02T15:10:58.372Z"
   },
   {
    "duration": 8,
    "start_time": "2022-04-02T15:10:58.894Z"
   },
   {
    "duration": 8,
    "start_time": "2022-04-02T15:10:59.129Z"
   },
   {
    "duration": 9,
    "start_time": "2022-04-02T15:10:59.349Z"
   },
   {
    "duration": 30,
    "start_time": "2022-04-02T15:10:59.576Z"
   },
   {
    "duration": 29,
    "start_time": "2022-04-02T15:10:59.763Z"
   },
   {
    "duration": 18,
    "start_time": "2022-04-02T15:11:04.277Z"
   },
   {
    "duration": 7,
    "start_time": "2022-04-02T15:11:04.408Z"
   },
   {
    "duration": 4,
    "start_time": "2022-04-02T15:11:06.313Z"
   },
   {
    "duration": 18,
    "start_time": "2022-04-02T15:11:06.762Z"
   },
   {
    "duration": 19,
    "start_time": "2022-04-02T15:11:07.665Z"
   },
   {
    "duration": 5,
    "start_time": "2022-04-02T15:11:08.462Z"
   },
   {
    "duration": 11,
    "start_time": "2022-04-02T15:11:08.678Z"
   },
   {
    "duration": 18,
    "start_time": "2022-04-02T15:11:08.860Z"
   },
   {
    "duration": 106,
    "start_time": "2022-04-02T15:11:23.488Z"
   },
   {
    "duration": 61,
    "start_time": "2022-04-02T15:12:06.818Z"
   },
   {
    "duration": 94,
    "start_time": "2022-04-02T15:13:01.010Z"
   },
   {
    "duration": 31,
    "start_time": "2022-04-02T15:13:35.607Z"
   },
   {
    "duration": 97,
    "start_time": "2022-04-02T15:13:49.716Z"
   },
   {
    "duration": 23,
    "start_time": "2022-04-02T15:14:00.346Z"
   },
   {
    "duration": 17,
    "start_time": "2022-04-02T15:14:06.982Z"
   },
   {
    "duration": 18,
    "start_time": "2022-04-02T15:15:14.826Z"
   },
   {
    "duration": 13,
    "start_time": "2022-04-02T15:15:18.355Z"
   },
   {
    "duration": 7,
    "start_time": "2022-04-02T15:15:18.837Z"
   },
   {
    "duration": 8,
    "start_time": "2022-04-02T15:15:19.283Z"
   },
   {
    "duration": 19,
    "start_time": "2022-04-02T15:15:20.806Z"
   },
   {
    "duration": 37,
    "start_time": "2022-04-02T15:16:22.378Z"
   },
   {
    "duration": 38,
    "start_time": "2022-04-02T15:18:11.243Z"
   },
   {
    "duration": 39,
    "start_time": "2022-04-02T15:19:23.290Z"
   },
   {
    "duration": 136,
    "start_time": "2022-04-02T15:35:42.466Z"
   },
   {
    "duration": 40,
    "start_time": "2022-04-02T15:36:00.499Z"
   },
   {
    "duration": 38,
    "start_time": "2022-04-02T15:41:41.608Z"
   },
   {
    "duration": 37,
    "start_time": "2022-04-02T15:42:21.808Z"
   },
   {
    "duration": 43,
    "start_time": "2022-04-02T15:43:22.515Z"
   },
   {
    "duration": 44,
    "start_time": "2022-04-02T15:48:21.332Z"
   },
   {
    "duration": 9,
    "start_time": "2022-04-02T15:49:52.654Z"
   },
   {
    "duration": 5,
    "start_time": "2022-04-02T15:50:42.136Z"
   },
   {
    "duration": 12,
    "start_time": "2022-04-02T15:50:42.815Z"
   },
   {
    "duration": 10,
    "start_time": "2022-04-02T15:50:43.814Z"
   },
   {
    "duration": 5,
    "start_time": "2022-04-02T15:51:14.549Z"
   },
   {
    "duration": 18,
    "start_time": "2022-04-02T15:51:15.389Z"
   },
   {
    "duration": 9,
    "start_time": "2022-04-02T15:51:16.199Z"
   },
   {
    "duration": 47,
    "start_time": "2022-04-02T15:51:30.309Z"
   },
   {
    "duration": 521,
    "start_time": "2022-04-02T15:51:54.382Z"
   },
   {
    "duration": 79,
    "start_time": "2022-04-02T15:51:54.907Z"
   },
   {
    "duration": 28,
    "start_time": "2022-04-02T15:51:54.988Z"
   },
   {
    "duration": 22,
    "start_time": "2022-04-02T15:51:55.019Z"
   },
   {
    "duration": 85,
    "start_time": "2022-04-02T15:51:55.043Z"
   },
   {
    "duration": 70,
    "start_time": "2022-04-02T15:51:55.131Z"
   },
   {
    "duration": 8,
    "start_time": "2022-04-02T15:51:55.204Z"
   },
   {
    "duration": 6,
    "start_time": "2022-04-02T15:51:55.215Z"
   },
   {
    "duration": 10,
    "start_time": "2022-04-02T15:51:55.223Z"
   },
   {
    "duration": 66,
    "start_time": "2022-04-02T15:51:55.269Z"
   },
   {
    "duration": 55,
    "start_time": "2022-04-02T15:51:55.338Z"
   },
   {
    "duration": 13,
    "start_time": "2022-04-02T15:51:55.396Z"
   },
   {
    "duration": 78,
    "start_time": "2022-04-02T15:51:55.412Z"
   },
   {
    "duration": 15,
    "start_time": "2022-04-02T15:51:55.492Z"
   },
   {
    "duration": 85,
    "start_time": "2022-04-02T15:51:55.510Z"
   },
   {
    "duration": 16,
    "start_time": "2022-04-02T15:51:55.597Z"
   },
   {
    "duration": 9,
    "start_time": "2022-04-02T15:51:55.616Z"
   },
   {
    "duration": 66,
    "start_time": "2022-04-02T15:51:55.627Z"
   },
   {
    "duration": 43,
    "start_time": "2022-04-02T15:51:55.695Z"
   },
   {
    "duration": 36,
    "start_time": "2022-04-02T15:51:55.740Z"
   },
   {
    "duration": 43,
    "start_time": "2022-04-02T15:51:55.778Z"
   },
   {
    "duration": 19,
    "start_time": "2022-04-02T15:51:55.823Z"
   },
   {
    "duration": 11,
    "start_time": "2022-04-02T15:51:55.867Z"
   },
   {
    "duration": 17,
    "start_time": "2022-04-02T15:51:55.880Z"
   },
   {
    "duration": 7,
    "start_time": "2022-04-02T15:51:55.899Z"
   },
   {
    "duration": 5,
    "start_time": "2022-04-02T15:51:55.908Z"
   },
   {
    "duration": 74,
    "start_time": "2022-04-02T15:51:55.915Z"
   },
   {
    "duration": 17,
    "start_time": "2022-04-02T15:51:55.995Z"
   },
   {
    "duration": 62,
    "start_time": "2022-04-02T15:51:56.015Z"
   },
   {
    "duration": 39,
    "start_time": "2022-04-02T15:51:56.080Z"
   },
   {
    "duration": 7,
    "start_time": "2022-04-02T15:51:56.121Z"
   },
   {
    "duration": 68,
    "start_time": "2022-04-02T15:51:56.130Z"
   },
   {
    "duration": 24,
    "start_time": "2022-04-02T15:51:56.200Z"
   },
   {
    "duration": 48,
    "start_time": "2022-04-02T15:51:56.226Z"
   },
   {
    "duration": 7,
    "start_time": "2022-04-02T15:51:56.276Z"
   },
   {
    "duration": 16,
    "start_time": "2022-04-02T15:51:56.285Z"
   },
   {
    "duration": 8,
    "start_time": "2022-04-02T15:51:56.303Z"
   },
   {
    "duration": 17,
    "start_time": "2022-04-02T15:51:56.313Z"
   },
   {
    "duration": 8,
    "start_time": "2022-04-02T15:51:56.368Z"
   },
   {
    "duration": 8,
    "start_time": "2022-04-02T15:51:56.378Z"
   },
   {
    "duration": 8,
    "start_time": "2022-04-02T15:51:56.389Z"
   },
   {
    "duration": 67,
    "start_time": "2022-04-02T15:51:56.400Z"
   },
   {
    "duration": 29,
    "start_time": "2022-04-02T15:51:56.469Z"
   },
   {
    "duration": 16,
    "start_time": "2022-04-02T15:51:56.500Z"
   },
   {
    "duration": 7,
    "start_time": "2022-04-02T15:51:56.518Z"
   },
   {
    "duration": 6,
    "start_time": "2022-04-02T15:51:56.527Z"
   },
   {
    "duration": 42,
    "start_time": "2022-04-02T15:51:56.535Z"
   },
   {
    "duration": 17,
    "start_time": "2022-04-02T15:51:56.579Z"
   },
   {
    "duration": 5,
    "start_time": "2022-04-02T15:51:56.598Z"
   },
   {
    "duration": 18,
    "start_time": "2022-04-02T15:51:56.605Z"
   },
   {
    "duration": 9,
    "start_time": "2022-04-02T15:51:56.626Z"
   },
   {
    "duration": 19,
    "start_time": "2022-04-02T15:51:56.668Z"
   },
   {
    "duration": 14,
    "start_time": "2022-04-02T15:51:56.690Z"
   },
   {
    "duration": 5,
    "start_time": "2022-04-02T15:51:56.706Z"
   },
   {
    "duration": 8,
    "start_time": "2022-04-02T15:51:56.713Z"
   },
   {
    "duration": 74,
    "start_time": "2022-04-02T15:51:56.723Z"
   },
   {
    "duration": 12,
    "start_time": "2022-04-02T15:51:56.799Z"
   },
   {
    "duration": 5,
    "start_time": "2022-04-02T15:51:56.813Z"
   },
   {
    "duration": 10,
    "start_time": "2022-04-02T15:51:56.820Z"
   },
   {
    "duration": 70,
    "start_time": "2022-04-02T15:51:56.832Z"
   },
   {
    "duration": 14,
    "start_time": "2022-04-02T15:51:56.904Z"
   },
   {
    "duration": 7,
    "start_time": "2022-04-02T15:51:56.920Z"
   },
   {
    "duration": 43,
    "start_time": "2022-04-02T15:51:56.930Z"
   },
   {
    "duration": 46,
    "start_time": "2022-04-02T15:51:56.975Z"
   },
   {
    "duration": 14,
    "start_time": "2022-04-02T15:51:57.023Z"
   },
   {
    "duration": 31,
    "start_time": "2022-04-02T15:51:57.039Z"
   },
   {
    "duration": 8,
    "start_time": "2022-04-02T15:51:57.072Z"
   },
   {
    "duration": 44,
    "start_time": "2022-04-02T15:51:57.083Z"
   },
   {
    "duration": 566,
    "start_time": "2022-04-02T16:27:48.256Z"
   },
   {
    "duration": 85,
    "start_time": "2022-04-02T16:27:48.825Z"
   },
   {
    "duration": 27,
    "start_time": "2022-04-02T16:27:48.912Z"
   },
   {
    "duration": 41,
    "start_time": "2022-04-02T16:27:48.943Z"
   },
   {
    "duration": 47,
    "start_time": "2022-04-02T16:27:48.987Z"
   },
   {
    "duration": 63,
    "start_time": "2022-04-02T16:27:49.036Z"
   },
   {
    "duration": 8,
    "start_time": "2022-04-02T16:27:49.101Z"
   },
   {
    "duration": 14,
    "start_time": "2022-04-02T16:27:49.111Z"
   },
   {
    "duration": 21,
    "start_time": "2022-04-02T16:27:49.127Z"
   },
   {
    "duration": 61,
    "start_time": "2022-04-02T16:27:49.155Z"
   },
   {
    "duration": 25,
    "start_time": "2022-04-02T16:27:49.219Z"
   },
   {
    "duration": 25,
    "start_time": "2022-04-02T16:27:49.246Z"
   },
   {
    "duration": 43,
    "start_time": "2022-04-02T16:27:49.274Z"
   },
   {
    "duration": 11,
    "start_time": "2022-04-02T16:27:49.320Z"
   },
   {
    "duration": 90,
    "start_time": "2022-04-02T16:27:49.333Z"
   },
   {
    "duration": 18,
    "start_time": "2022-04-02T16:27:49.425Z"
   },
   {
    "duration": 17,
    "start_time": "2022-04-02T16:27:49.445Z"
   },
   {
    "duration": 48,
    "start_time": "2022-04-02T16:27:49.470Z"
   },
   {
    "duration": 55,
    "start_time": "2022-04-02T16:27:49.521Z"
   },
   {
    "duration": 27,
    "start_time": "2022-04-02T16:27:49.579Z"
   },
   {
    "duration": 75,
    "start_time": "2022-04-02T16:27:49.608Z"
   },
   {
    "duration": 25,
    "start_time": "2022-04-02T16:27:49.685Z"
   },
   {
    "duration": 13,
    "start_time": "2022-04-02T16:27:49.712Z"
   },
   {
    "duration": 21,
    "start_time": "2022-04-02T16:27:49.728Z"
   },
   {
    "duration": 30,
    "start_time": "2022-04-02T16:27:49.769Z"
   },
   {
    "duration": 10,
    "start_time": "2022-04-02T16:27:49.801Z"
   },
   {
    "duration": 45,
    "start_time": "2022-04-02T16:27:49.814Z"
   },
   {
    "duration": 26,
    "start_time": "2022-04-02T16:27:49.865Z"
   },
   {
    "duration": 48,
    "start_time": "2022-04-02T16:27:49.894Z"
   },
   {
    "duration": 68,
    "start_time": "2022-04-02T16:27:49.944Z"
   },
   {
    "duration": 7,
    "start_time": "2022-04-02T16:27:50.015Z"
   },
   {
    "duration": 65,
    "start_time": "2022-04-02T16:27:50.025Z"
   },
   {
    "duration": 24,
    "start_time": "2022-04-02T16:27:50.092Z"
   },
   {
    "duration": 61,
    "start_time": "2022-04-02T16:27:50.119Z"
   },
   {
    "duration": 9,
    "start_time": "2022-04-02T16:27:50.184Z"
   },
   {
    "duration": 21,
    "start_time": "2022-04-02T16:27:50.195Z"
   },
   {
    "duration": 8,
    "start_time": "2022-04-02T16:27:50.218Z"
   },
   {
    "duration": 48,
    "start_time": "2022-04-02T16:27:50.228Z"
   },
   {
    "duration": 8,
    "start_time": "2022-04-02T16:27:50.279Z"
   },
   {
    "duration": 13,
    "start_time": "2022-04-02T16:27:50.289Z"
   },
   {
    "duration": 15,
    "start_time": "2022-04-02T16:27:50.304Z"
   },
   {
    "duration": 74,
    "start_time": "2022-04-02T16:27:50.322Z"
   },
   {
    "duration": 38,
    "start_time": "2022-04-02T16:27:50.399Z"
   },
   {
    "duration": 48,
    "start_time": "2022-04-02T16:27:50.439Z"
   },
   {
    "duration": 7,
    "start_time": "2022-04-02T16:27:50.494Z"
   },
   {
    "duration": 20,
    "start_time": "2022-04-02T16:27:50.503Z"
   },
   {
    "duration": 26,
    "start_time": "2022-04-02T16:27:50.525Z"
   },
   {
    "duration": 30,
    "start_time": "2022-04-02T16:27:50.554Z"
   },
   {
    "duration": 12,
    "start_time": "2022-04-02T16:27:50.587Z"
   },
   {
    "duration": 22,
    "start_time": "2022-04-02T16:27:50.602Z"
   },
   {
    "duration": 27,
    "start_time": "2022-04-02T16:27:50.627Z"
   },
   {
    "duration": 52,
    "start_time": "2022-04-02T16:27:50.657Z"
   },
   {
    "duration": 20,
    "start_time": "2022-04-02T16:27:50.712Z"
   },
   {
    "duration": 5,
    "start_time": "2022-04-02T16:27:50.734Z"
   },
   {
    "duration": 34,
    "start_time": "2022-04-02T16:27:50.742Z"
   },
   {
    "duration": 50,
    "start_time": "2022-04-02T16:27:50.777Z"
   },
   {
    "duration": 10,
    "start_time": "2022-04-02T16:27:50.830Z"
   },
   {
    "duration": 6,
    "start_time": "2022-04-02T16:27:50.842Z"
   },
   {
    "duration": 16,
    "start_time": "2022-04-02T16:27:50.868Z"
   },
   {
    "duration": 40,
    "start_time": "2022-04-02T16:27:50.886Z"
   },
   {
    "duration": 14,
    "start_time": "2022-04-02T16:27:50.929Z"
   },
   {
    "duration": 33,
    "start_time": "2022-04-02T16:27:50.945Z"
   },
   {
    "duration": 21,
    "start_time": "2022-04-02T16:27:50.980Z"
   },
   {
    "duration": 70,
    "start_time": "2022-04-02T16:27:51.004Z"
   },
   {
    "duration": 19,
    "start_time": "2022-04-02T16:27:51.076Z"
   },
   {
    "duration": 8,
    "start_time": "2022-04-02T16:27:51.097Z"
   },
   {
    "duration": 8,
    "start_time": "2022-04-02T16:27:51.107Z"
   },
   {
    "duration": 81,
    "start_time": "2022-04-02T16:27:51.117Z"
   },
   {
    "duration": 400,
    "start_time": "2022-04-03T15:03:59.455Z"
   },
   {
    "duration": 67,
    "start_time": "2022-04-03T15:03:59.856Z"
   },
   {
    "duration": 16,
    "start_time": "2022-04-03T15:03:59.924Z"
   },
   {
    "duration": 14,
    "start_time": "2022-04-03T15:03:59.942Z"
   },
   {
    "duration": 38,
    "start_time": "2022-04-03T15:03:59.957Z"
   },
   {
    "duration": 24,
    "start_time": "2022-04-03T15:03:59.996Z"
   },
   {
    "duration": 4,
    "start_time": "2022-04-03T15:04:00.021Z"
   },
   {
    "duration": 5,
    "start_time": "2022-04-03T15:04:00.026Z"
   },
   {
    "duration": 8,
    "start_time": "2022-04-03T15:04:00.032Z"
   },
   {
    "duration": 47,
    "start_time": "2022-04-03T15:04:00.042Z"
   },
   {
    "duration": 15,
    "start_time": "2022-04-03T15:04:00.090Z"
   },
   {
    "duration": 6,
    "start_time": "2022-04-03T15:04:00.106Z"
   },
   {
    "duration": 35,
    "start_time": "2022-04-03T15:04:00.113Z"
   },
   {
    "duration": 7,
    "start_time": "2022-04-03T15:04:00.149Z"
   },
   {
    "duration": 45,
    "start_time": "2022-04-03T15:04:00.157Z"
   },
   {
    "duration": 10,
    "start_time": "2022-04-03T15:04:00.203Z"
   },
   {
    "duration": 6,
    "start_time": "2022-04-03T15:04:00.214Z"
   },
   {
    "duration": 31,
    "start_time": "2022-04-03T15:04:00.222Z"
   },
   {
    "duration": 39,
    "start_time": "2022-04-03T15:04:00.254Z"
   },
   {
    "duration": 12,
    "start_time": "2022-04-03T15:04:00.295Z"
   },
   {
    "duration": 26,
    "start_time": "2022-04-03T15:04:00.309Z"
   },
   {
    "duration": 11,
    "start_time": "2022-04-03T15:04:00.337Z"
   },
   {
    "duration": 33,
    "start_time": "2022-04-03T15:04:00.349Z"
   },
   {
    "duration": 10,
    "start_time": "2022-04-03T15:04:00.383Z"
   },
   {
    "duration": 26,
    "start_time": "2022-04-03T15:04:00.394Z"
   },
   {
    "duration": 19,
    "start_time": "2022-04-03T15:04:00.421Z"
   },
   {
    "duration": 26,
    "start_time": "2022-04-03T15:04:00.441Z"
   },
   {
    "duration": 12,
    "start_time": "2022-04-03T15:04:00.470Z"
   },
   {
    "duration": 38,
    "start_time": "2022-04-03T15:04:00.483Z"
   },
   {
    "duration": 22,
    "start_time": "2022-04-03T15:04:00.523Z"
   },
   {
    "duration": 5,
    "start_time": "2022-04-03T15:04:00.546Z"
   },
   {
    "duration": 36,
    "start_time": "2022-04-03T15:04:00.553Z"
   },
   {
    "duration": 15,
    "start_time": "2022-04-03T15:04:00.591Z"
   },
   {
    "duration": 17,
    "start_time": "2022-04-03T15:04:00.608Z"
   },
   {
    "duration": 6,
    "start_time": "2022-04-03T15:04:00.626Z"
   },
   {
    "duration": 11,
    "start_time": "2022-04-03T15:04:00.634Z"
   },
   {
    "duration": 7,
    "start_time": "2022-04-03T15:04:00.646Z"
   },
   {
    "duration": 12,
    "start_time": "2022-04-03T15:04:00.681Z"
   },
   {
    "duration": 18,
    "start_time": "2022-04-03T15:04:00.695Z"
   },
   {
    "duration": 16,
    "start_time": "2022-04-03T15:04:00.714Z"
   },
   {
    "duration": 30,
    "start_time": "2022-04-03T15:04:00.731Z"
   },
   {
    "duration": 23,
    "start_time": "2022-04-03T15:04:00.763Z"
   },
   {
    "duration": 20,
    "start_time": "2022-04-03T15:04:00.787Z"
   },
   {
    "duration": 13,
    "start_time": "2022-04-03T15:04:00.808Z"
   },
   {
    "duration": 17,
    "start_time": "2022-04-03T15:04:00.823Z"
   },
   {
    "duration": 14,
    "start_time": "2022-04-03T15:04:00.842Z"
   },
   {
    "duration": 19,
    "start_time": "2022-04-03T15:04:00.858Z"
   },
   {
    "duration": 12,
    "start_time": "2022-04-03T15:04:00.879Z"
   },
   {
    "duration": 9,
    "start_time": "2022-04-03T15:04:00.893Z"
   },
   {
    "duration": 11,
    "start_time": "2022-04-03T15:04:00.903Z"
   },
   {
    "duration": 12,
    "start_time": "2022-04-03T15:04:00.916Z"
   },
   {
    "duration": 19,
    "start_time": "2022-04-03T15:04:00.929Z"
   },
   {
    "duration": 19,
    "start_time": "2022-04-03T15:04:00.950Z"
   },
   {
    "duration": 10,
    "start_time": "2022-04-03T15:04:00.971Z"
   },
   {
    "duration": 24,
    "start_time": "2022-04-03T15:04:00.982Z"
   },
   {
    "duration": 31,
    "start_time": "2022-04-03T15:04:01.008Z"
   },
   {
    "duration": 9,
    "start_time": "2022-04-03T15:04:01.041Z"
   },
   {
    "duration": 8,
    "start_time": "2022-04-03T15:04:01.052Z"
   },
   {
    "duration": 11,
    "start_time": "2022-04-03T15:04:01.062Z"
   },
   {
    "duration": 35,
    "start_time": "2022-04-03T15:04:01.075Z"
   },
   {
    "duration": 8,
    "start_time": "2022-04-03T15:04:01.112Z"
   },
   {
    "duration": 18,
    "start_time": "2022-04-03T15:04:01.121Z"
   },
   {
    "duration": 31,
    "start_time": "2022-04-03T15:04:01.140Z"
   },
   {
    "duration": 50,
    "start_time": "2022-04-03T15:04:01.173Z"
   },
   {
    "duration": 9,
    "start_time": "2022-04-03T15:04:01.225Z"
   },
   {
    "duration": 9,
    "start_time": "2022-04-03T15:04:01.236Z"
   },
   {
    "duration": 7,
    "start_time": "2022-04-03T15:04:01.246Z"
   },
   {
    "duration": 43,
    "start_time": "2022-04-03T15:04:01.254Z"
   },
   {
    "duration": 3,
    "start_time": "2022-04-03T15:33:29.043Z"
   },
   {
    "duration": 4,
    "start_time": "2022-04-03T15:33:40.228Z"
   },
   {
    "duration": 4,
    "start_time": "2022-04-03T15:35:34.706Z"
   },
   {
    "duration": 4,
    "start_time": "2022-04-03T15:39:41.954Z"
   },
   {
    "duration": 4,
    "start_time": "2022-04-03T15:45:23.630Z"
   },
   {
    "duration": 19,
    "start_time": "2022-04-03T15:47:39.507Z"
   },
   {
    "duration": 461,
    "start_time": "2022-04-03T15:48:06.675Z"
   },
   {
    "duration": 13,
    "start_time": "2022-04-03T21:11:36.062Z"
   },
   {
    "duration": 5,
    "start_time": "2022-04-03T21:11:57.500Z"
   },
   {
    "duration": 5,
    "start_time": "2022-04-03T21:12:12.295Z"
   },
   {
    "duration": 5,
    "start_time": "2022-04-03T21:12:59.615Z"
   },
   {
    "duration": 492,
    "start_time": "2022-04-03T21:13:06.223Z"
   },
   {
    "duration": 115,
    "start_time": "2022-04-03T21:13:06.718Z"
   },
   {
    "duration": 31,
    "start_time": "2022-04-03T21:13:06.835Z"
   },
   {
    "duration": 35,
    "start_time": "2022-04-03T21:13:06.868Z"
   },
   {
    "duration": 44,
    "start_time": "2022-04-03T21:13:06.906Z"
   },
   {
    "duration": 61,
    "start_time": "2022-04-03T21:13:06.952Z"
   },
   {
    "duration": 6,
    "start_time": "2022-04-03T21:13:07.016Z"
   },
   {
    "duration": 5,
    "start_time": "2022-04-03T21:13:07.025Z"
   },
   {
    "duration": 11,
    "start_time": "2022-04-03T21:13:07.032Z"
   },
   {
    "duration": 79,
    "start_time": "2022-04-03T21:13:07.046Z"
   },
   {
    "duration": 27,
    "start_time": "2022-04-03T21:13:07.127Z"
   },
   {
    "duration": 11,
    "start_time": "2022-04-03T21:13:07.182Z"
   },
   {
    "duration": 41,
    "start_time": "2022-04-03T21:13:07.195Z"
   },
   {
    "duration": 41,
    "start_time": "2022-04-03T21:13:07.241Z"
   },
   {
    "duration": 42,
    "start_time": "2022-04-03T21:13:07.285Z"
   },
   {
    "duration": 18,
    "start_time": "2022-04-03T21:13:07.329Z"
   },
   {
    "duration": 33,
    "start_time": "2022-04-03T21:13:07.349Z"
   },
   {
    "duration": 43,
    "start_time": "2022-04-03T21:13:07.384Z"
   },
   {
    "duration": 68,
    "start_time": "2022-04-03T21:13:07.429Z"
   },
   {
    "duration": 21,
    "start_time": "2022-04-03T21:13:07.500Z"
   },
   {
    "duration": 68,
    "start_time": "2022-04-03T21:13:07.522Z"
   },
   {
    "duration": 20,
    "start_time": "2022-04-03T21:13:07.593Z"
   },
   {
    "duration": 14,
    "start_time": "2022-04-03T21:13:07.615Z"
   },
   {
    "duration": 19,
    "start_time": "2022-04-03T21:13:07.631Z"
   },
   {
    "duration": 7,
    "start_time": "2022-04-03T21:13:07.683Z"
   },
   {
    "duration": 7,
    "start_time": "2022-04-03T21:13:07.693Z"
   },
   {
    "duration": 93,
    "start_time": "2022-04-03T21:13:07.703Z"
   },
   {
    "duration": 27,
    "start_time": "2022-04-03T21:13:07.799Z"
   },
   {
    "duration": 64,
    "start_time": "2022-04-03T21:13:07.829Z"
   },
   {
    "duration": 41,
    "start_time": "2022-04-03T21:13:07.895Z"
   },
   {
    "duration": 6,
    "start_time": "2022-04-03T21:13:07.938Z"
   },
   {
    "duration": 71,
    "start_time": "2022-04-03T21:13:07.947Z"
   },
   {
    "duration": 26,
    "start_time": "2022-04-03T21:13:08.020Z"
   },
   {
    "duration": 47,
    "start_time": "2022-04-03T21:13:08.048Z"
   },
   {
    "duration": 8,
    "start_time": "2022-04-03T21:13:08.097Z"
   },
   {
    "duration": 17,
    "start_time": "2022-04-03T21:13:08.107Z"
   },
   {
    "duration": 9,
    "start_time": "2022-04-03T21:13:08.127Z"
   },
   {
    "duration": 56,
    "start_time": "2022-04-03T21:13:08.139Z"
   },
   {
    "duration": 8,
    "start_time": "2022-04-03T21:13:08.197Z"
   },
   {
    "duration": 9,
    "start_time": "2022-04-03T21:13:08.207Z"
   },
   {
    "duration": 8,
    "start_time": "2022-04-03T21:13:08.222Z"
   },
   {
    "duration": 76,
    "start_time": "2022-04-03T21:13:08.232Z"
   },
   {
    "duration": 29,
    "start_time": "2022-04-03T21:13:08.311Z"
   },
   {
    "duration": 41,
    "start_time": "2022-04-03T21:13:08.342Z"
   },
   {
    "duration": 8,
    "start_time": "2022-04-03T21:13:08.385Z"
   },
   {
    "duration": 7,
    "start_time": "2022-04-03T21:13:08.395Z"
   },
   {
    "duration": 14,
    "start_time": "2022-04-03T21:13:08.404Z"
   },
   {
    "duration": 18,
    "start_time": "2022-04-03T21:13:08.420Z"
   },
   {
    "duration": 43,
    "start_time": "2022-04-03T21:13:08.440Z"
   },
   {
    "duration": 18,
    "start_time": "2022-04-03T21:13:08.485Z"
   },
   {
    "duration": 9,
    "start_time": "2022-04-03T21:13:08.506Z"
   },
   {
    "duration": 23,
    "start_time": "2022-04-03T21:13:08.518Z"
   },
   {
    "duration": 39,
    "start_time": "2022-04-03T21:13:08.544Z"
   },
   {
    "duration": 22,
    "start_time": "2022-04-03T21:13:08.585Z"
   },
   {
    "duration": 7,
    "start_time": "2022-04-03T21:13:08.609Z"
   },
   {
    "duration": 9,
    "start_time": "2022-04-03T21:13:08.618Z"
   },
   {
    "duration": 73,
    "start_time": "2022-04-03T21:13:08.629Z"
   },
   {
    "duration": 15,
    "start_time": "2022-04-03T21:13:08.704Z"
   },
   {
    "duration": 20,
    "start_time": "2022-04-03T21:13:08.722Z"
   },
   {
    "duration": 19,
    "start_time": "2022-04-03T21:13:08.745Z"
   },
   {
    "duration": 71,
    "start_time": "2022-04-03T21:13:08.766Z"
   },
   {
    "duration": 14,
    "start_time": "2022-04-03T21:13:08.840Z"
   },
   {
    "duration": 29,
    "start_time": "2022-04-03T21:13:08.856Z"
   },
   {
    "duration": 9,
    "start_time": "2022-04-03T21:13:08.887Z"
   },
   {
    "duration": 42,
    "start_time": "2022-04-03T21:13:08.899Z"
   },
   {
    "duration": 48,
    "start_time": "2022-04-03T21:13:08.943Z"
   },
   {
    "duration": 11,
    "start_time": "2022-04-03T21:13:08.993Z"
   },
   {
    "duration": 12,
    "start_time": "2022-04-03T21:13:09.006Z"
   },
   {
    "duration": 79,
    "start_time": "2022-04-03T21:13:09.020Z"
   },
   {
    "duration": 5,
    "start_time": "2022-04-03T21:15:36.516Z"
   },
   {
    "duration": 6,
    "start_time": "2022-04-03T21:15:47.765Z"
   },
   {
    "duration": 421,
    "start_time": "2022-04-04T15:45:28.220Z"
   },
   {
    "duration": 54,
    "start_time": "2022-04-04T15:45:28.643Z"
   },
   {
    "duration": 19,
    "start_time": "2022-04-04T15:45:28.699Z"
   },
   {
    "duration": 30,
    "start_time": "2022-04-04T15:45:28.720Z"
   },
   {
    "duration": 32,
    "start_time": "2022-04-04T15:45:28.752Z"
   },
   {
    "duration": 24,
    "start_time": "2022-04-04T15:45:28.785Z"
   },
   {
    "duration": 31,
    "start_time": "2022-04-04T15:45:28.810Z"
   },
   {
    "duration": 9,
    "start_time": "2022-04-04T15:45:28.842Z"
   },
   {
    "duration": 9,
    "start_time": "2022-04-04T15:45:28.853Z"
   },
   {
    "duration": 30,
    "start_time": "2022-04-04T15:45:28.865Z"
   },
   {
    "duration": 17,
    "start_time": "2022-04-04T15:45:28.896Z"
   },
   {
    "duration": 29,
    "start_time": "2022-04-04T15:45:28.914Z"
   },
   {
    "duration": 29,
    "start_time": "2022-04-04T15:45:28.944Z"
   },
   {
    "duration": 8,
    "start_time": "2022-04-04T15:45:28.974Z"
   },
   {
    "duration": 29,
    "start_time": "2022-04-04T15:45:28.984Z"
   },
   {
    "duration": 13,
    "start_time": "2022-04-04T15:45:29.038Z"
   },
   {
    "duration": 7,
    "start_time": "2022-04-04T15:45:29.052Z"
   },
   {
    "duration": 31,
    "start_time": "2022-04-04T15:45:29.061Z"
   },
   {
    "duration": 57,
    "start_time": "2022-04-04T15:45:29.094Z"
   },
   {
    "duration": 16,
    "start_time": "2022-04-04T15:45:29.153Z"
   },
   {
    "duration": 29,
    "start_time": "2022-04-04T15:45:29.171Z"
   },
   {
    "duration": 43,
    "start_time": "2022-04-04T15:45:29.202Z"
   },
   {
    "duration": 9,
    "start_time": "2022-04-04T15:45:29.246Z"
   },
   {
    "duration": 14,
    "start_time": "2022-04-04T15:45:29.257Z"
   },
   {
    "duration": 8,
    "start_time": "2022-04-04T15:45:29.273Z"
   },
   {
    "duration": 8,
    "start_time": "2022-04-04T15:45:29.283Z"
   },
   {
    "duration": 29,
    "start_time": "2022-04-04T15:45:29.292Z"
   },
   {
    "duration": 13,
    "start_time": "2022-04-04T15:45:29.341Z"
   },
   {
    "duration": 29,
    "start_time": "2022-04-04T15:45:29.355Z"
   },
   {
    "duration": 26,
    "start_time": "2022-04-04T15:45:29.385Z"
   },
   {
    "duration": 27,
    "start_time": "2022-04-04T15:45:29.413Z"
   },
   {
    "duration": 37,
    "start_time": "2022-04-04T15:45:29.442Z"
   },
   {
    "duration": 24,
    "start_time": "2022-04-04T15:45:29.481Z"
   },
   {
    "duration": 44,
    "start_time": "2022-04-04T15:45:29.507Z"
   },
   {
    "duration": 5,
    "start_time": "2022-04-04T15:45:29.553Z"
   },
   {
    "duration": 17,
    "start_time": "2022-04-04T15:45:29.559Z"
   },
   {
    "duration": 9,
    "start_time": "2022-04-04T15:45:29.578Z"
   },
   {
    "duration": 13,
    "start_time": "2022-04-04T15:45:29.589Z"
   },
   {
    "duration": 8,
    "start_time": "2022-04-04T15:45:29.604Z"
   },
   {
    "duration": 27,
    "start_time": "2022-04-04T15:45:29.613Z"
   },
   {
    "duration": 6,
    "start_time": "2022-04-04T15:45:29.642Z"
   },
   {
    "duration": 20,
    "start_time": "2022-04-04T15:45:29.650Z"
   },
   {
    "duration": 19,
    "start_time": "2022-04-04T15:45:29.672Z"
   },
   {
    "duration": 45,
    "start_time": "2022-04-04T15:45:29.693Z"
   },
   {
    "duration": 5,
    "start_time": "2022-04-04T15:45:29.740Z"
   },
   {
    "duration": 5,
    "start_time": "2022-04-04T15:45:29.746Z"
   },
   {
    "duration": 10,
    "start_time": "2022-04-04T15:45:29.753Z"
   },
   {
    "duration": 13,
    "start_time": "2022-04-04T15:45:29.765Z"
   },
   {
    "duration": 6,
    "start_time": "2022-04-04T15:45:29.779Z"
   },
   {
    "duration": 10,
    "start_time": "2022-04-04T15:45:29.786Z"
   },
   {
    "duration": 6,
    "start_time": "2022-04-04T15:45:29.798Z"
   },
   {
    "duration": 38,
    "start_time": "2022-04-04T15:45:29.806Z"
   },
   {
    "duration": 8,
    "start_time": "2022-04-04T15:45:29.846Z"
   },
   {
    "duration": 17,
    "start_time": "2022-04-04T15:45:29.855Z"
   },
   {
    "duration": 4,
    "start_time": "2022-04-04T15:45:29.875Z"
   },
   {
    "duration": 18,
    "start_time": "2022-04-04T15:45:29.881Z"
   },
   {
    "duration": 39,
    "start_time": "2022-04-04T15:45:29.901Z"
   },
   {
    "duration": 8,
    "start_time": "2022-04-04T15:45:29.942Z"
   },
   {
    "duration": 4,
    "start_time": "2022-04-04T15:45:29.952Z"
   },
   {
    "duration": 7,
    "start_time": "2022-04-04T15:45:29.957Z"
   },
   {
    "duration": 26,
    "start_time": "2022-04-04T15:45:29.966Z"
   },
   {
    "duration": 11,
    "start_time": "2022-04-04T15:45:29.994Z"
   },
   {
    "duration": 38,
    "start_time": "2022-04-04T15:45:30.006Z"
   },
   {
    "duration": 11,
    "start_time": "2022-04-04T15:45:30.046Z"
   },
   {
    "duration": 36,
    "start_time": "2022-04-04T15:45:30.059Z"
   },
   {
    "duration": 11,
    "start_time": "2022-04-04T15:45:30.096Z"
   },
   {
    "duration": 6,
    "start_time": "2022-04-04T15:45:30.109Z"
   },
   {
    "duration": 7,
    "start_time": "2022-04-04T15:45:30.137Z"
   },
   {
    "duration": 36,
    "start_time": "2022-04-04T15:45:30.145Z"
   },
   {
    "duration": 433,
    "start_time": "2022-04-04T15:50:15.242Z"
   },
   {
    "duration": 55,
    "start_time": "2022-04-04T15:50:15.677Z"
   },
   {
    "duration": 19,
    "start_time": "2022-04-04T15:50:15.733Z"
   },
   {
    "duration": 16,
    "start_time": "2022-04-04T15:50:15.755Z"
   },
   {
    "duration": 31,
    "start_time": "2022-04-04T15:50:15.773Z"
   },
   {
    "duration": 48,
    "start_time": "2022-04-04T15:50:15.806Z"
   },
   {
    "duration": 5,
    "start_time": "2022-04-04T15:50:15.856Z"
   },
   {
    "duration": 6,
    "start_time": "2022-04-04T15:50:15.863Z"
   },
   {
    "duration": 12,
    "start_time": "2022-04-04T15:50:15.871Z"
   },
   {
    "duration": 53,
    "start_time": "2022-04-04T15:50:15.886Z"
   },
   {
    "duration": 18,
    "start_time": "2022-04-04T15:50:15.941Z"
   },
   {
    "duration": 6,
    "start_time": "2022-04-04T15:50:15.961Z"
   },
   {
    "duration": 30,
    "start_time": "2022-04-04T15:50:15.969Z"
   },
   {
    "duration": 37,
    "start_time": "2022-04-04T15:50:16.001Z"
   },
   {
    "duration": 30,
    "start_time": "2022-04-04T15:50:16.040Z"
   },
   {
    "duration": 12,
    "start_time": "2022-04-04T15:50:16.072Z"
   },
   {
    "duration": 8,
    "start_time": "2022-04-04T15:50:16.085Z"
   },
   {
    "duration": 60,
    "start_time": "2022-04-04T15:50:16.094Z"
   },
   {
    "duration": 31,
    "start_time": "2022-04-04T15:50:16.155Z"
   },
   {
    "duration": 15,
    "start_time": "2022-04-04T15:50:16.187Z"
   },
   {
    "duration": 58,
    "start_time": "2022-04-04T15:50:16.204Z"
   },
   {
    "duration": 14,
    "start_time": "2022-04-04T15:50:16.263Z"
   },
   {
    "duration": 10,
    "start_time": "2022-04-04T15:50:16.279Z"
   },
   {
    "duration": 13,
    "start_time": "2022-04-04T15:50:16.291Z"
   },
   {
    "duration": 34,
    "start_time": "2022-04-04T15:50:16.305Z"
   },
   {
    "duration": 4,
    "start_time": "2022-04-04T15:50:16.340Z"
   },
   {
    "duration": 32,
    "start_time": "2022-04-04T15:50:16.346Z"
   },
   {
    "duration": 12,
    "start_time": "2022-04-04T15:50:16.382Z"
   },
   {
    "duration": 52,
    "start_time": "2022-04-04T15:50:16.396Z"
   },
   {
    "duration": 27,
    "start_time": "2022-04-04T15:50:16.450Z"
   },
   {
    "duration": 5,
    "start_time": "2022-04-04T15:50:16.479Z"
   },
   {
    "duration": 56,
    "start_time": "2022-04-04T15:50:16.485Z"
   },
   {
    "duration": 18,
    "start_time": "2022-04-04T15:50:16.543Z"
   },
   {
    "duration": 18,
    "start_time": "2022-04-04T15:50:16.563Z"
   },
   {
    "duration": 6,
    "start_time": "2022-04-04T15:50:16.583Z"
   },
   {
    "duration": 13,
    "start_time": "2022-04-04T15:50:16.591Z"
   },
   {
    "duration": 6,
    "start_time": "2022-04-04T15:50:16.638Z"
   },
   {
    "duration": 14,
    "start_time": "2022-04-04T15:50:16.646Z"
   },
   {
    "duration": 7,
    "start_time": "2022-04-04T15:50:16.662Z"
   },
   {
    "duration": 10,
    "start_time": "2022-04-04T15:50:16.671Z"
   },
   {
    "duration": 9,
    "start_time": "2022-04-04T15:50:16.683Z"
   },
   {
    "duration": 50,
    "start_time": "2022-04-04T15:50:16.694Z"
   },
   {
    "duration": 21,
    "start_time": "2022-04-04T15:50:16.746Z"
   },
   {
    "duration": 13,
    "start_time": "2022-04-04T15:50:16.769Z"
   },
   {
    "duration": 5,
    "start_time": "2022-04-04T15:50:16.784Z"
   },
   {
    "duration": 8,
    "start_time": "2022-04-04T15:50:16.791Z"
   },
   {
    "duration": 13,
    "start_time": "2022-04-04T15:50:16.801Z"
   },
   {
    "duration": 12,
    "start_time": "2022-04-04T15:50:16.837Z"
   },
   {
    "duration": 5,
    "start_time": "2022-04-04T15:50:16.851Z"
   },
   {
    "duration": 14,
    "start_time": "2022-04-04T15:50:16.858Z"
   },
   {
    "duration": 11,
    "start_time": "2022-04-04T15:50:16.874Z"
   },
   {
    "duration": 14,
    "start_time": "2022-04-04T15:50:16.887Z"
   },
   {
    "duration": 8,
    "start_time": "2022-04-04T15:50:16.903Z"
   },
   {
    "duration": 31,
    "start_time": "2022-04-04T15:50:16.913Z"
   },
   {
    "duration": 5,
    "start_time": "2022-04-04T15:50:16.946Z"
   },
   {
    "duration": 15,
    "start_time": "2022-04-04T15:50:16.952Z"
   },
   {
    "duration": 32,
    "start_time": "2022-04-04T15:50:16.969Z"
   },
   {
    "duration": 10,
    "start_time": "2022-04-04T15:50:17.003Z"
   },
   {
    "duration": 4,
    "start_time": "2022-04-04T15:50:17.039Z"
   },
   {
    "duration": 9,
    "start_time": "2022-04-04T15:50:17.045Z"
   },
   {
    "duration": 33,
    "start_time": "2022-04-04T15:50:17.055Z"
   },
   {
    "duration": 10,
    "start_time": "2022-04-04T15:50:17.090Z"
   },
   {
    "duration": 7,
    "start_time": "2022-04-04T15:50:17.102Z"
   },
   {
    "duration": 37,
    "start_time": "2022-04-04T15:50:17.111Z"
   },
   {
    "duration": 34,
    "start_time": "2022-04-04T15:50:17.150Z"
   },
   {
    "duration": 13,
    "start_time": "2022-04-04T15:50:17.186Z"
   },
   {
    "duration": 13,
    "start_time": "2022-04-04T15:50:17.201Z"
   },
   {
    "duration": 22,
    "start_time": "2022-04-04T15:50:17.217Z"
   },
   {
    "duration": 45,
    "start_time": "2022-04-04T15:50:17.242Z"
   }
  ],
  "kernelspec": {
   "display_name": "Python 3",
   "language": "python",
   "name": "python3"
  },
  "language_info": {
   "codemirror_mode": {
    "name": "ipython",
    "version": 3
   },
   "file_extension": ".py",
   "mimetype": "text/x-python",
   "name": "python",
   "nbconvert_exporter": "python",
   "pygments_lexer": "ipython3",
   "version": "3.8.8"
  },
  "toc": {
   "base_numbering": 1,
   "nav_menu": {},
   "number_sections": true,
   "sideBar": true,
   "skip_h1_title": true,
   "title_cell": "Table of Contents",
   "title_sidebar": "Contents",
   "toc_cell": true,
   "toc_position": {
    "height": "calc(100% - 180px)",
    "left": "10px",
    "top": "150px",
    "width": "262px"
   },
   "toc_section_display": true,
   "toc_window_display": true
  }
 },
 "nbformat": 4,
 "nbformat_minor": 5
}
